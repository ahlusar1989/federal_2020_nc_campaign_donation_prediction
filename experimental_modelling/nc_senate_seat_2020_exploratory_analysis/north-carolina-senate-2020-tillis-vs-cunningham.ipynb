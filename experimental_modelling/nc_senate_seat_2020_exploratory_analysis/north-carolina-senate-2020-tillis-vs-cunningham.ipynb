{
 "cells": [
  {
   "cell_type": "markdown",
   "metadata": {
    "papermill": {
     "duration": 0.023896,
     "end_time": "2020-09-02T04:53:32.679422",
     "exception": false,
     "start_time": "2020-09-02T04:53:32.655526",
     "status": "completed"
    },
    "tags": []
   },
   "source": [
    "This dataset contains information about candidates, committees, PACs (political action committees), House & Senate campaigns & about transactions, contributions by individuals & committees & operating & independent expenditures for US elections from Jan 1, 2019 to May 2020. The original dataset was prodcured from: https://www.fec.gov/data/browse-data/?tab=bulk-data.\n",
    "\n",
    "##### Analysis of North Carolina Senate race 2020: Thom Tillis & Cal Cunningham\n",
    "\n",
    "#### Here I address the key question requested in prompt number three."
   ]
  },
  {
   "cell_type": "code",
   "execution_count": 1,
   "metadata": {
    "_cell_guid": "b1076dfc-b9ad-4769-8c92-a6c4dae69d19",
    "_kg_hide-input": true,
    "_kg_hide-output": true,
    "_uuid": "8f2839f25d086af736a60e9eeb907d3b93b6e0e5",
    "execution": {
     "iopub.execute_input": "2020-09-02T04:53:32.729379Z",
     "iopub.status.busy": "2020-09-02T04:53:32.728495Z",
     "iopub.status.idle": "2020-09-02T04:53:36.345344Z",
     "shell.execute_reply": "2020-09-02T04:53:36.344639Z"
    },
    "papermill": {
     "duration": 3.645493,
     "end_time": "2020-09-02T04:53:36.345489",
     "exception": false,
     "start_time": "2020-09-02T04:53:32.699996",
     "status": "completed"
    },
    "tags": []
   },
   "outputs": [
    {
     "data": {
      "text/html": [
       "        <script type=\"text/javascript\">\n",
       "        window.PlotlyConfig = {MathJaxConfig: 'local'};\n",
       "        if (window.MathJax && window.MathJax.Hub && window.MathJax.Hub.Config) {window.MathJax.Hub.Config({SVG: {font: \"STIX-Web\"}});}\n",
       "        if (typeof require !== 'undefined') {\n",
       "        require.undef(\"plotly\");\n",
       "        requirejs.config({\n",
       "            paths: {\n",
       "                'plotly': ['https://cdn.plot.ly/plotly-2.12.1.min']\n",
       "            }\n",
       "        });\n",
       "        require(['plotly'], function(Plotly) {\n",
       "            window._Plotly = Plotly;\n",
       "        });\n",
       "        }\n",
       "        </script>\n",
       "        "
      ]
     },
     "metadata": {},
     "output_type": "display_data"
    }
   ],
   "source": [
    "import numpy as np # linear algebra\n",
    "import pandas as pd # data processing, CSV file I/O (e.g. pd.read_csv)\n",
    "import bs4\n",
    "import urllib.request\n",
    "\n",
    "# native python module\n",
    "import os\n",
    "import cufflinks\n",
    "\n",
    "\n",
    "pd.set_option('display.max_columns', 1000)\n",
    "\n",
    "\n",
    "base_dir = '.../data/data/'\n",
    "dataset_name = '20192020-FEC/'\n",
    "for dirname, _, filenames in os.walk(base_dir + '/' + dataset_name):\n",
    "    for filename in filenames:\n",
    "        print(os.path.join(dirname, filename))"
   ]
  },
  {
   "cell_type": "code",
   "execution_count": 2,
   "metadata": {
    "_kg_hide-input": true,
    "execution": {
     "iopub.execute_input": "2020-09-02T04:53:36.390472Z",
     "iopub.status.busy": "2020-09-02T04:53:36.389732Z",
     "iopub.status.idle": "2020-09-02T04:53:36.393365Z",
     "shell.execute_reply": "2020-09-02T04:53:36.392619Z"
    },
    "papermill": {
     "duration": 0.028637,
     "end_time": "2020-09-02T04:53:36.393491",
     "exception": false,
     "start_time": "2020-09-02T04:53:36.364854",
     "status": "completed"
    },
    "tags": []
   },
   "outputs": [],
   "source": [
    "state = 'NC'\n",
    "candidate1 = 'tillis, thom'\n",
    "candidate2 = 'cunningham, cal'"
   ]
  },
  {
   "cell_type": "code",
   "execution_count": 3,
   "metadata": {
    "_kg_hide-input": true,
    "execution": {
     "iopub.execute_input": "2020-09-02T04:53:36.442686Z",
     "iopub.status.busy": "2020-09-02T04:53:36.441849Z",
     "iopub.status.idle": "2020-09-02T04:53:36.692832Z",
     "shell.execute_reply": "2020-09-02T04:53:36.694754Z"
    },
    "papermill": {
     "duration": 0.281641,
     "end_time": "2020-09-02T04:53:36.695046",
     "exception": false,
     "start_time": "2020-09-02T04:53:36.413405",
     "status": "completed"
    },
    "tags": []
   },
   "outputs": [],
   "source": [
    "import bs4\n",
    "import urllib.request\n",
    "\n",
    "def read_table(page_url):\n",
    "    page = urllib.request.urlopen(page_url)\n",
    "    soup = bs4.BeautifulSoup(page, 'lxml')\n",
    "    table = soup.find(name='table')\n",
    "    result = dict()\n",
    "    for tr in table.findAll('tr'):\n",
    "        tds = tr.findAll('td')\n",
    "        \n",
    "        if len(tds) >= 2:\n",
    "            result[tds[0].text] = tds[1].text\n",
    "    return result"
   ]
  },
  {
   "cell_type": "code",
   "execution_count": 4,
   "metadata": {
    "_kg_hide-input": true,
    "execution": {
     "iopub.execute_input": "2020-09-02T04:53:36.767270Z",
     "iopub.status.busy": "2020-09-02T04:53:36.762460Z",
     "iopub.status.idle": "2020-09-02T04:53:36.772463Z",
     "shell.execute_reply": "2020-09-02T04:53:36.771292Z"
    },
    "papermill": {
     "duration": 0.04741,
     "end_time": "2020-09-02T04:53:36.772690",
     "exception": false,
     "start_time": "2020-09-02T04:53:36.725280",
     "status": "completed"
    },
    "tags": []
   },
   "outputs": [],
   "source": [
    "def render_human_format(num):\n",
    "    magnitude = 0\n",
    "    while abs(num) >= 1000:\n",
    "        magnitude += 1\n",
    "        num /= 1000.0\n",
    "    # add more suffixes if you need them\n",
    "    return '%.2f%s' % (num, ['', 'K', 'M', 'G', 'T', 'P'][magnitude])"
   ]
  },
  {
   "cell_type": "markdown",
   "metadata": {
    "papermill": {
     "duration": 0.02352,
     "end_time": "2020-09-02T04:53:36.818549",
     "exception": false,
     "start_time": "2020-09-02T04:53:36.795029",
     "status": "completed"
    },
    "tags": []
   },
   "source": [
    "## Candidate Campaign Finance summaries"
   ]
  },
  {
   "cell_type": "code",
   "execution_count": 5,
   "metadata": {
    "_cell_guid": "79c7e3d0-c299-4dcb-8224-4455121ee9b0",
    "_kg_hide-input": true,
    "_kg_hide-output": true,
    "_uuid": "d629ff2d2480ee46fbb7e2d37f6b5fab8052498a",
    "execution": {
     "iopub.execute_input": "2020-09-02T04:53:36.864770Z",
     "iopub.status.busy": "2020-09-02T04:53:36.864010Z",
     "iopub.status.idle": "2020-09-02T04:53:36.951815Z",
     "shell.execute_reply": "2020-09-02T04:53:36.950971Z"
    },
    "papermill": {
     "duration": 0.113174,
     "end_time": "2020-09-02T04:53:36.951958",
     "exception": false,
     "start_time": "2020-09-02T04:53:36.838784",
     "status": "completed"
    },
    "tags": []
   },
   "outputs": [
    {
     "data": {
      "text/html": [
       "<div>\n",
       "<style scoped>\n",
       "    .dataframe tbody tr th:only-of-type {\n",
       "        vertical-align: middle;\n",
       "    }\n",
       "\n",
       "    .dataframe tbody tr th {\n",
       "        vertical-align: top;\n",
       "    }\n",
       "\n",
       "    .dataframe thead th {\n",
       "        text-align: right;\n",
       "    }\n",
       "</style>\n",
       "<table border=\"1\" class=\"dataframe\">\n",
       "  <thead>\n",
       "    <tr style=\"text-align: right;\">\n",
       "      <th></th>\n",
       "      <th>CAND_ID</th>\n",
       "      <th>CAND_NAME</th>\n",
       "      <th>CAND_ICI</th>\n",
       "      <th>PTY_CD</th>\n",
       "      <th>CAND_PTY_AFFILIATION</th>\n",
       "      <th>TTL_RECEIPTS</th>\n",
       "      <th>TRANS_FROM_AUTH</th>\n",
       "      <th>TTL_DISB</th>\n",
       "      <th>TRANS_TO_AUTH</th>\n",
       "      <th>COH_BOP</th>\n",
       "      <th>COH_COP</th>\n",
       "      <th>CAND_CONTRIB</th>\n",
       "      <th>CAND_LOANS</th>\n",
       "      <th>OTHER_LOANS</th>\n",
       "      <th>CAND_LOAN_REPAY</th>\n",
       "      <th>OTHER_LOAN_REPAY</th>\n",
       "      <th>DEBTS_OWED_BY</th>\n",
       "      <th>TTL_INDIV_CONTRIB</th>\n",
       "      <th>CAND_OFFICE_ST</th>\n",
       "      <th>CAND_OFFICE_DISTRICT</th>\n",
       "      <th>SPEC_ELECTION</th>\n",
       "      <th>PRIM_ELECTION</th>\n",
       "      <th>RUN_ELECTION</th>\n",
       "      <th>GEN_ELECTION</th>\n",
       "      <th>GEN_ELECTION_PRECENT</th>\n",
       "      <th>OTHER_POL_CMTE_CONTRIB</th>\n",
       "      <th>POL_PTY_CONTRIB</th>\n",
       "      <th>CVG_END_DT</th>\n",
       "      <th>INDIV_REFUNDS</th>\n",
       "      <th>CMTE_REFUNDS</th>\n",
       "    </tr>\n",
       "  </thead>\n",
       "  <tbody>\n",
       "    <tr>\n",
       "      <th>0</th>\n",
       "      <td>H8AK00132</td>\n",
       "      <td>SHEIN, DIMITRI</td>\n",
       "      <td>C</td>\n",
       "      <td>1</td>\n",
       "      <td>DEM</td>\n",
       "      <td>0.00</td>\n",
       "      <td>0.00</td>\n",
       "      <td>367.52</td>\n",
       "      <td>0.0</td>\n",
       "      <td>367.52</td>\n",
       "      <td>0.00</td>\n",
       "      <td>0.00</td>\n",
       "      <td>0.0</td>\n",
       "      <td>0.0</td>\n",
       "      <td>367.52</td>\n",
       "      <td>0.0</td>\n",
       "      <td>0.00</td>\n",
       "      <td>0.00</td>\n",
       "      <td>AK</td>\n",
       "      <td>0</td>\n",
       "      <td>NaN</td>\n",
       "      <td>NaN</td>\n",
       "      <td>NaN</td>\n",
       "      <td>NaN</td>\n",
       "      <td>NaN</td>\n",
       "      <td>0.00</td>\n",
       "      <td>0.0</td>\n",
       "      <td>09/30/2019</td>\n",
       "      <td>0.00</td>\n",
       "      <td>0.0</td>\n",
       "    </tr>\n",
       "    <tr>\n",
       "      <th>1</th>\n",
       "      <td>H6AK00045</td>\n",
       "      <td>YOUNG, DONALD E</td>\n",
       "      <td>I</td>\n",
       "      <td>2</td>\n",
       "      <td>REP</td>\n",
       "      <td>1012401.48</td>\n",
       "      <td>130245.48</td>\n",
       "      <td>325545.51</td>\n",
       "      <td>0.0</td>\n",
       "      <td>116720.12</td>\n",
       "      <td>803576.09</td>\n",
       "      <td>0.00</td>\n",
       "      <td>0.0</td>\n",
       "      <td>0.0</td>\n",
       "      <td>0.00</td>\n",
       "      <td>0.0</td>\n",
       "      <td>0.00</td>\n",
       "      <td>417190.55</td>\n",
       "      <td>AK</td>\n",
       "      <td>0</td>\n",
       "      <td>NaN</td>\n",
       "      <td>NaN</td>\n",
       "      <td>NaN</td>\n",
       "      <td>NaN</td>\n",
       "      <td>NaN</td>\n",
       "      <td>458194.63</td>\n",
       "      <td>0.0</td>\n",
       "      <td>03/31/2020</td>\n",
       "      <td>0.00</td>\n",
       "      <td>2000.0</td>\n",
       "    </tr>\n",
       "    <tr>\n",
       "      <th>2</th>\n",
       "      <td>H8AK01031</td>\n",
       "      <td>NELSON, THOMAS JOHN</td>\n",
       "      <td>C</td>\n",
       "      <td>2</td>\n",
       "      <td>REP</td>\n",
       "      <td>0.00</td>\n",
       "      <td>0.00</td>\n",
       "      <td>466.51</td>\n",
       "      <td>0.0</td>\n",
       "      <td>466.51</td>\n",
       "      <td>0.00</td>\n",
       "      <td>0.00</td>\n",
       "      <td>0.0</td>\n",
       "      <td>0.0</td>\n",
       "      <td>0.00</td>\n",
       "      <td>0.0</td>\n",
       "      <td>0.00</td>\n",
       "      <td>0.00</td>\n",
       "      <td>AK</td>\n",
       "      <td>0</td>\n",
       "      <td>NaN</td>\n",
       "      <td>NaN</td>\n",
       "      <td>NaN</td>\n",
       "      <td>NaN</td>\n",
       "      <td>NaN</td>\n",
       "      <td>0.00</td>\n",
       "      <td>0.0</td>\n",
       "      <td>03/31/2019</td>\n",
       "      <td>0.00</td>\n",
       "      <td>0.0</td>\n",
       "    </tr>\n",
       "    <tr>\n",
       "      <th>3</th>\n",
       "      <td>H8AK00140</td>\n",
       "      <td>GALVIN, ALYSE</td>\n",
       "      <td>C</td>\n",
       "      <td>3</td>\n",
       "      <td>IND</td>\n",
       "      <td>1358372.81</td>\n",
       "      <td>0.00</td>\n",
       "      <td>403275.92</td>\n",
       "      <td>0.0</td>\n",
       "      <td>6245.09</td>\n",
       "      <td>961341.98</td>\n",
       "      <td>2955.81</td>\n",
       "      <td>0.0</td>\n",
       "      <td>0.0</td>\n",
       "      <td>0.00</td>\n",
       "      <td>0.0</td>\n",
       "      <td>56940.58</td>\n",
       "      <td>1279739.80</td>\n",
       "      <td>AK</td>\n",
       "      <td>0</td>\n",
       "      <td>NaN</td>\n",
       "      <td>NaN</td>\n",
       "      <td>NaN</td>\n",
       "      <td>NaN</td>\n",
       "      <td>NaN</td>\n",
       "      <td>38350.00</td>\n",
       "      <td>0.0</td>\n",
       "      <td>03/31/2020</td>\n",
       "      <td>7836.19</td>\n",
       "      <td>0.0</td>\n",
       "    </tr>\n",
       "    <tr>\n",
       "      <th>4</th>\n",
       "      <td>H0AL01097</td>\n",
       "      <td>AVERHART, JAMES</td>\n",
       "      <td>O</td>\n",
       "      <td>1</td>\n",
       "      <td>DEM</td>\n",
       "      <td>50126.74</td>\n",
       "      <td>0.00</td>\n",
       "      <td>40699.28</td>\n",
       "      <td>0.0</td>\n",
       "      <td>0.00</td>\n",
       "      <td>9427.46</td>\n",
       "      <td>0.00</td>\n",
       "      <td>26845.0</td>\n",
       "      <td>0.0</td>\n",
       "      <td>0.00</td>\n",
       "      <td>0.0</td>\n",
       "      <td>26845.00</td>\n",
       "      <td>23281.74</td>\n",
       "      <td>AL</td>\n",
       "      <td>1</td>\n",
       "      <td>NaN</td>\n",
       "      <td>NaN</td>\n",
       "      <td>NaN</td>\n",
       "      <td>NaN</td>\n",
       "      <td>NaN</td>\n",
       "      <td>0.00</td>\n",
       "      <td>0.0</td>\n",
       "      <td>06/30/2020</td>\n",
       "      <td>0.00</td>\n",
       "      <td>0.0</td>\n",
       "    </tr>\n",
       "  </tbody>\n",
       "</table>\n",
       "</div>"
      ],
      "text/plain": [
       "     CAND_ID            CAND_NAME CAND_ICI  PTY_CD CAND_PTY_AFFILIATION  \\\n",
       "0  H8AK00132       SHEIN, DIMITRI        C       1                  DEM   \n",
       "1  H6AK00045      YOUNG, DONALD E        I       2                  REP   \n",
       "2  H8AK01031  NELSON, THOMAS JOHN        C       2                  REP   \n",
       "3  H8AK00140        GALVIN, ALYSE        C       3                  IND   \n",
       "4  H0AL01097      AVERHART, JAMES        O       1                  DEM   \n",
       "\n",
       "   TTL_RECEIPTS  TRANS_FROM_AUTH   TTL_DISB  TRANS_TO_AUTH    COH_BOP  \\\n",
       "0          0.00             0.00     367.52            0.0     367.52   \n",
       "1    1012401.48        130245.48  325545.51            0.0  116720.12   \n",
       "2          0.00             0.00     466.51            0.0     466.51   \n",
       "3    1358372.81             0.00  403275.92            0.0    6245.09   \n",
       "4      50126.74             0.00   40699.28            0.0       0.00   \n",
       "\n",
       "     COH_COP  CAND_CONTRIB  CAND_LOANS  OTHER_LOANS  CAND_LOAN_REPAY  \\\n",
       "0       0.00          0.00         0.0          0.0           367.52   \n",
       "1  803576.09          0.00         0.0          0.0             0.00   \n",
       "2       0.00          0.00         0.0          0.0             0.00   \n",
       "3  961341.98       2955.81         0.0          0.0             0.00   \n",
       "4    9427.46          0.00     26845.0          0.0             0.00   \n",
       "\n",
       "   OTHER_LOAN_REPAY  DEBTS_OWED_BY  TTL_INDIV_CONTRIB CAND_OFFICE_ST  \\\n",
       "0               0.0           0.00               0.00             AK   \n",
       "1               0.0           0.00          417190.55             AK   \n",
       "2               0.0           0.00               0.00             AK   \n",
       "3               0.0       56940.58         1279739.80             AK   \n",
       "4               0.0       26845.00           23281.74             AL   \n",
       "\n",
       "   CAND_OFFICE_DISTRICT  SPEC_ELECTION  PRIM_ELECTION  RUN_ELECTION  \\\n",
       "0                     0            NaN            NaN           NaN   \n",
       "1                     0            NaN            NaN           NaN   \n",
       "2                     0            NaN            NaN           NaN   \n",
       "3                     0            NaN            NaN           NaN   \n",
       "4                     1            NaN            NaN           NaN   \n",
       "\n",
       "   GEN_ELECTION  GEN_ELECTION_PRECENT  OTHER_POL_CMTE_CONTRIB  \\\n",
       "0           NaN                   NaN                    0.00   \n",
       "1           NaN                   NaN               458194.63   \n",
       "2           NaN                   NaN                    0.00   \n",
       "3           NaN                   NaN                38350.00   \n",
       "4           NaN                   NaN                    0.00   \n",
       "\n",
       "   POL_PTY_CONTRIB  CVG_END_DT  INDIV_REFUNDS  CMTE_REFUNDS  \n",
       "0              0.0  09/30/2019           0.00           0.0  \n",
       "1              0.0  03/31/2020           0.00        2000.0  \n",
       "2              0.0  03/31/2019           0.00           0.0  \n",
       "3              0.0  03/31/2020        7836.19           0.0  \n",
       "4              0.0  06/30/2020           0.00           0.0  "
      ]
     },
     "execution_count": 5,
     "metadata": {},
     "output_type": "execute_result"
    }
   ],
   "source": [
    "all_candidates = pd.read_csv(\"../data/20192020-FEC/All candidates.csv\")\n",
    "all_candidates.head()"
   ]
  },
  {
   "cell_type": "code",
   "execution_count": 6,
   "metadata": {
    "_kg_hide-input": true,
    "_kg_hide-output": true,
    "execution": {
     "iopub.execute_input": "2020-09-02T04:53:37.006825Z",
     "iopub.status.busy": "2020-09-02T04:53:37.006001Z",
     "iopub.status.idle": "2020-09-02T04:53:37.082218Z",
     "shell.execute_reply": "2020-09-02T04:53:37.081487Z"
    },
    "papermill": {
     "duration": 0.109891,
     "end_time": "2020-09-02T04:53:37.082361",
     "exception": false,
     "start_time": "2020-09-02T04:53:36.972470",
     "status": "completed"
    },
    "tags": []
   },
   "outputs": [
    {
     "data": {
      "text/html": [
       "<div>\n",
       "<style scoped>\n",
       "    .dataframe tbody tr th:only-of-type {\n",
       "        vertical-align: middle;\n",
       "    }\n",
       "\n",
       "    .dataframe tbody tr th {\n",
       "        vertical-align: top;\n",
       "    }\n",
       "\n",
       "    .dataframe thead th {\n",
       "        text-align: right;\n",
       "    }\n",
       "</style>\n",
       "<table border=\"1\" class=\"dataframe\">\n",
       "  <thead>\n",
       "    <tr style=\"text-align: right;\">\n",
       "      <th></th>\n",
       "      <th>CAND_ID</th>\n",
       "      <th>CAND_NAME</th>\n",
       "      <th>CAND_ICI</th>\n",
       "      <th>PTY_CD</th>\n",
       "      <th>CAND_PTY_AFFILIATION</th>\n",
       "      <th>TTL_RECEIPTS</th>\n",
       "      <th>TRANS_FROM_AUTH</th>\n",
       "      <th>TTL_DISB</th>\n",
       "      <th>TRANS_TO_AUTH</th>\n",
       "      <th>COH_BOP</th>\n",
       "      <th>COH_COP</th>\n",
       "      <th>CAND_CONTRIB</th>\n",
       "      <th>CAND_LOANS</th>\n",
       "      <th>OTHER_LOANS</th>\n",
       "      <th>CAND_LOAN_REPAY</th>\n",
       "      <th>OTHER_LOAN_REPAY</th>\n",
       "      <th>DEBTS_OWED_BY</th>\n",
       "      <th>TTL_INDIV_CONTRIB</th>\n",
       "      <th>CAND_OFFICE_ST</th>\n",
       "      <th>CAND_OFFICE_DISTRICT</th>\n",
       "      <th>SPEC_ELECTION</th>\n",
       "      <th>PRIM_ELECTION</th>\n",
       "      <th>RUN_ELECTION</th>\n",
       "      <th>GEN_ELECTION</th>\n",
       "      <th>GEN_ELECTION_PRECENT</th>\n",
       "      <th>OTHER_POL_CMTE_CONTRIB</th>\n",
       "      <th>POL_PTY_CONTRIB</th>\n",
       "      <th>CVG_END_DT</th>\n",
       "      <th>INDIV_REFUNDS</th>\n",
       "      <th>CMTE_REFUNDS</th>\n",
       "      <th>TTL_RECEIPTS_CORRECTED</th>\n",
       "      <th>TTL_DISB_CORRECTED</th>\n",
       "    </tr>\n",
       "  </thead>\n",
       "  <tbody>\n",
       "    <tr>\n",
       "      <th>0</th>\n",
       "      <td>H8AK00132</td>\n",
       "      <td>SHEIN, DIMITRI</td>\n",
       "      <td>C</td>\n",
       "      <td>1</td>\n",
       "      <td>DEM</td>\n",
       "      <td>0.00</td>\n",
       "      <td>0.00</td>\n",
       "      <td>367.52</td>\n",
       "      <td>0.0</td>\n",
       "      <td>367.52</td>\n",
       "      <td>0.00</td>\n",
       "      <td>0.00</td>\n",
       "      <td>0.0</td>\n",
       "      <td>0.0</td>\n",
       "      <td>367.52</td>\n",
       "      <td>0.0</td>\n",
       "      <td>0.00</td>\n",
       "      <td>0.00</td>\n",
       "      <td>AK</td>\n",
       "      <td>0</td>\n",
       "      <td>NaN</td>\n",
       "      <td>NaN</td>\n",
       "      <td>NaN</td>\n",
       "      <td>NaN</td>\n",
       "      <td>NaN</td>\n",
       "      <td>0.00</td>\n",
       "      <td>0.0</td>\n",
       "      <td>09/30/2019</td>\n",
       "      <td>0.00</td>\n",
       "      <td>0.0</td>\n",
       "      <td>0.00</td>\n",
       "      <td>367.52</td>\n",
       "    </tr>\n",
       "    <tr>\n",
       "      <th>1</th>\n",
       "      <td>H6AK00045</td>\n",
       "      <td>YOUNG, DONALD E</td>\n",
       "      <td>I</td>\n",
       "      <td>2</td>\n",
       "      <td>REP</td>\n",
       "      <td>1012401.48</td>\n",
       "      <td>130245.48</td>\n",
       "      <td>325545.51</td>\n",
       "      <td>0.0</td>\n",
       "      <td>116720.12</td>\n",
       "      <td>803576.09</td>\n",
       "      <td>0.00</td>\n",
       "      <td>0.0</td>\n",
       "      <td>0.0</td>\n",
       "      <td>0.00</td>\n",
       "      <td>0.0</td>\n",
       "      <td>0.00</td>\n",
       "      <td>417190.55</td>\n",
       "      <td>AK</td>\n",
       "      <td>0</td>\n",
       "      <td>NaN</td>\n",
       "      <td>NaN</td>\n",
       "      <td>NaN</td>\n",
       "      <td>NaN</td>\n",
       "      <td>NaN</td>\n",
       "      <td>458194.63</td>\n",
       "      <td>0.0</td>\n",
       "      <td>03/31/2020</td>\n",
       "      <td>0.00</td>\n",
       "      <td>2000.0</td>\n",
       "      <td>1012401.48</td>\n",
       "      <td>325545.51</td>\n",
       "    </tr>\n",
       "    <tr>\n",
       "      <th>2</th>\n",
       "      <td>H8AK01031</td>\n",
       "      <td>NELSON, THOMAS JOHN</td>\n",
       "      <td>C</td>\n",
       "      <td>2</td>\n",
       "      <td>REP</td>\n",
       "      <td>0.00</td>\n",
       "      <td>0.00</td>\n",
       "      <td>466.51</td>\n",
       "      <td>0.0</td>\n",
       "      <td>466.51</td>\n",
       "      <td>0.00</td>\n",
       "      <td>0.00</td>\n",
       "      <td>0.0</td>\n",
       "      <td>0.0</td>\n",
       "      <td>0.00</td>\n",
       "      <td>0.0</td>\n",
       "      <td>0.00</td>\n",
       "      <td>0.00</td>\n",
       "      <td>AK</td>\n",
       "      <td>0</td>\n",
       "      <td>NaN</td>\n",
       "      <td>NaN</td>\n",
       "      <td>NaN</td>\n",
       "      <td>NaN</td>\n",
       "      <td>NaN</td>\n",
       "      <td>0.00</td>\n",
       "      <td>0.0</td>\n",
       "      <td>03/31/2019</td>\n",
       "      <td>0.00</td>\n",
       "      <td>0.0</td>\n",
       "      <td>0.00</td>\n",
       "      <td>466.51</td>\n",
       "    </tr>\n",
       "    <tr>\n",
       "      <th>3</th>\n",
       "      <td>H8AK00140</td>\n",
       "      <td>GALVIN, ALYSE</td>\n",
       "      <td>C</td>\n",
       "      <td>3</td>\n",
       "      <td>IND</td>\n",
       "      <td>1358372.81</td>\n",
       "      <td>0.00</td>\n",
       "      <td>403275.92</td>\n",
       "      <td>0.0</td>\n",
       "      <td>6245.09</td>\n",
       "      <td>961341.98</td>\n",
       "      <td>2955.81</td>\n",
       "      <td>0.0</td>\n",
       "      <td>0.0</td>\n",
       "      <td>0.00</td>\n",
       "      <td>0.0</td>\n",
       "      <td>56940.58</td>\n",
       "      <td>1279739.80</td>\n",
       "      <td>AK</td>\n",
       "      <td>0</td>\n",
       "      <td>NaN</td>\n",
       "      <td>NaN</td>\n",
       "      <td>NaN</td>\n",
       "      <td>NaN</td>\n",
       "      <td>NaN</td>\n",
       "      <td>38350.00</td>\n",
       "      <td>0.0</td>\n",
       "      <td>03/31/2020</td>\n",
       "      <td>7836.19</td>\n",
       "      <td>0.0</td>\n",
       "      <td>1358372.81</td>\n",
       "      <td>403275.92</td>\n",
       "    </tr>\n",
       "    <tr>\n",
       "      <th>4</th>\n",
       "      <td>H0AL01097</td>\n",
       "      <td>AVERHART, JAMES</td>\n",
       "      <td>O</td>\n",
       "      <td>1</td>\n",
       "      <td>DEM</td>\n",
       "      <td>50126.74</td>\n",
       "      <td>0.00</td>\n",
       "      <td>40699.28</td>\n",
       "      <td>0.0</td>\n",
       "      <td>0.00</td>\n",
       "      <td>9427.46</td>\n",
       "      <td>0.00</td>\n",
       "      <td>26845.0</td>\n",
       "      <td>0.0</td>\n",
       "      <td>0.00</td>\n",
       "      <td>0.0</td>\n",
       "      <td>26845.00</td>\n",
       "      <td>23281.74</td>\n",
       "      <td>AL</td>\n",
       "      <td>1</td>\n",
       "      <td>NaN</td>\n",
       "      <td>NaN</td>\n",
       "      <td>NaN</td>\n",
       "      <td>NaN</td>\n",
       "      <td>NaN</td>\n",
       "      <td>0.00</td>\n",
       "      <td>0.0</td>\n",
       "      <td>06/30/2020</td>\n",
       "      <td>0.00</td>\n",
       "      <td>0.0</td>\n",
       "      <td>50126.74</td>\n",
       "      <td>40699.28</td>\n",
       "    </tr>\n",
       "  </tbody>\n",
       "</table>\n",
       "</div>"
      ],
      "text/plain": [
       "     CAND_ID            CAND_NAME CAND_ICI  PTY_CD CAND_PTY_AFFILIATION  \\\n",
       "0  H8AK00132       SHEIN, DIMITRI        C       1                  DEM   \n",
       "1  H6AK00045      YOUNG, DONALD E        I       2                  REP   \n",
       "2  H8AK01031  NELSON, THOMAS JOHN        C       2                  REP   \n",
       "3  H8AK00140        GALVIN, ALYSE        C       3                  IND   \n",
       "4  H0AL01097      AVERHART, JAMES        O       1                  DEM   \n",
       "\n",
       "   TTL_RECEIPTS  TRANS_FROM_AUTH   TTL_DISB  TRANS_TO_AUTH    COH_BOP  \\\n",
       "0          0.00             0.00     367.52            0.0     367.52   \n",
       "1    1012401.48        130245.48  325545.51            0.0  116720.12   \n",
       "2          0.00             0.00     466.51            0.0     466.51   \n",
       "3    1358372.81             0.00  403275.92            0.0    6245.09   \n",
       "4      50126.74             0.00   40699.28            0.0       0.00   \n",
       "\n",
       "     COH_COP  CAND_CONTRIB  CAND_LOANS  OTHER_LOANS  CAND_LOAN_REPAY  \\\n",
       "0       0.00          0.00         0.0          0.0           367.52   \n",
       "1  803576.09          0.00         0.0          0.0             0.00   \n",
       "2       0.00          0.00         0.0          0.0             0.00   \n",
       "3  961341.98       2955.81         0.0          0.0             0.00   \n",
       "4    9427.46          0.00     26845.0          0.0             0.00   \n",
       "\n",
       "   OTHER_LOAN_REPAY  DEBTS_OWED_BY  TTL_INDIV_CONTRIB CAND_OFFICE_ST  \\\n",
       "0               0.0           0.00               0.00             AK   \n",
       "1               0.0           0.00          417190.55             AK   \n",
       "2               0.0           0.00               0.00             AK   \n",
       "3               0.0       56940.58         1279739.80             AK   \n",
       "4               0.0       26845.00           23281.74             AL   \n",
       "\n",
       "   CAND_OFFICE_DISTRICT  SPEC_ELECTION  PRIM_ELECTION  RUN_ELECTION  \\\n",
       "0                     0            NaN            NaN           NaN   \n",
       "1                     0            NaN            NaN           NaN   \n",
       "2                     0            NaN            NaN           NaN   \n",
       "3                     0            NaN            NaN           NaN   \n",
       "4                     1            NaN            NaN           NaN   \n",
       "\n",
       "   GEN_ELECTION  GEN_ELECTION_PRECENT  OTHER_POL_CMTE_CONTRIB  \\\n",
       "0           NaN                   NaN                    0.00   \n",
       "1           NaN                   NaN               458194.63   \n",
       "2           NaN                   NaN                    0.00   \n",
       "3           NaN                   NaN                38350.00   \n",
       "4           NaN                   NaN                    0.00   \n",
       "\n",
       "   POL_PTY_CONTRIB  CVG_END_DT  INDIV_REFUNDS  CMTE_REFUNDS  \\\n",
       "0              0.0  09/30/2019           0.00           0.0   \n",
       "1              0.0  03/31/2020           0.00        2000.0   \n",
       "2              0.0  03/31/2019           0.00           0.0   \n",
       "3              0.0  03/31/2020        7836.19           0.0   \n",
       "4              0.0  06/30/2020           0.00           0.0   \n",
       "\n",
       "   TTL_RECEIPTS_CORRECTED  TTL_DISB_CORRECTED  \n",
       "0                    0.00              367.52  \n",
       "1              1012401.48           325545.51  \n",
       "2                    0.00              466.51  \n",
       "3              1358372.81           403275.92  \n",
       "4                50126.74            40699.28  "
      ]
     },
     "execution_count": 6,
     "metadata": {},
     "output_type": "execute_result"
    }
   ],
   "source": [
    "def receipts_disbursements_clean_up_func(df):\n",
    "    \n",
    "    predicate = (df['TRANS_FROM_AUTH'] != 0.0) & (df['TRANS_TO_AUTH'] != 0.0)\n",
    "    \n",
    "    df.loc[predicate, 'TTL_RECEIPTS_CORRECTED'] = df['TTL_RECEIPTS'] - df['TRANS_FROM_AUTH']\n",
    "    df['TTL_RECEIPTS_CORRECTED'] = df['TTL_RECEIPTS_CORRECTED'].fillna(df['TTL_RECEIPTS'])\n",
    "    \n",
    "    df.loc[predicate, 'TTL_DISB_CORRECTED'] = df['TTL_DISB'] - df['TRANS_TO_AUTH']\n",
    "    df['TTL_DISB_CORRECTED'] = df['TTL_DISB_CORRECTED'].fillna(df['TTL_DISB'])\n",
    "    \n",
    "    return df\n",
    "\n",
    "all_candidates = receipts_disbursements_clean_up_func(all_candidates)\n",
    "all_candidates.head()"
   ]
  },
  {
   "cell_type": "code",
   "execution_count": 7,
   "metadata": {
    "_kg_hide-input": true,
    "_kg_hide-output": true,
    "execution": {
     "iopub.execute_input": "2020-09-02T04:53:37.149760Z",
     "iopub.status.busy": "2020-09-02T04:53:37.137007Z",
     "iopub.status.idle": "2020-09-02T04:53:37.183613Z",
     "shell.execute_reply": "2020-09-02T04:53:37.182776Z"
    },
    "papermill": {
     "duration": 0.079515,
     "end_time": "2020-09-02T04:53:37.183762",
     "exception": false,
     "start_time": "2020-09-02T04:53:37.104247",
     "status": "completed"
    },
    "tags": []
   },
   "outputs": [
    {
     "data": {
      "text/html": [
       "<div>\n",
       "<style scoped>\n",
       "    .dataframe tbody tr th:only-of-type {\n",
       "        vertical-align: middle;\n",
       "    }\n",
       "\n",
       "    .dataframe tbody tr th {\n",
       "        vertical-align: top;\n",
       "    }\n",
       "\n",
       "    .dataframe thead th {\n",
       "        text-align: right;\n",
       "    }\n",
       "</style>\n",
       "<table border=\"1\" class=\"dataframe\">\n",
       "  <thead>\n",
       "    <tr style=\"text-align: right;\">\n",
       "      <th></th>\n",
       "      <th>CAND_ID</th>\n",
       "      <th>CAND_NAME</th>\n",
       "      <th>CAND_ICI</th>\n",
       "      <th>PTY_CD</th>\n",
       "      <th>CAND_PTY_AFFILIATION</th>\n",
       "      <th>TTL_RECEIPTS</th>\n",
       "      <th>TRANS_FROM_AUTH</th>\n",
       "      <th>TTL_DISB</th>\n",
       "      <th>TRANS_TO_AUTH</th>\n",
       "      <th>COH_BOP</th>\n",
       "      <th>COH_COP</th>\n",
       "      <th>CAND_CONTRIB</th>\n",
       "      <th>CAND_LOANS</th>\n",
       "      <th>OTHER_LOANS</th>\n",
       "      <th>CAND_LOAN_REPAY</th>\n",
       "      <th>OTHER_LOAN_REPAY</th>\n",
       "      <th>DEBTS_OWED_BY</th>\n",
       "      <th>TTL_INDIV_CONTRIB</th>\n",
       "      <th>CAND_OFFICE_ST</th>\n",
       "      <th>CAND_OFFICE_DISTRICT</th>\n",
       "      <th>SPEC_ELECTION</th>\n",
       "      <th>PRIM_ELECTION</th>\n",
       "      <th>RUN_ELECTION</th>\n",
       "      <th>GEN_ELECTION</th>\n",
       "      <th>GEN_ELECTION_PRECENT</th>\n",
       "      <th>OTHER_POL_CMTE_CONTRIB</th>\n",
       "      <th>POL_PTY_CONTRIB</th>\n",
       "      <th>CVG_END_DT</th>\n",
       "      <th>INDIV_REFUNDS</th>\n",
       "      <th>CMTE_REFUNDS</th>\n",
       "      <th>TTL_RECEIPTS_CORRECTED</th>\n",
       "      <th>TTL_DISB_CORRECTED</th>\n",
       "      <th>CAND_ICI_FULL</th>\n",
       "    </tr>\n",
       "  </thead>\n",
       "  <tbody>\n",
       "    <tr>\n",
       "      <th>0</th>\n",
       "      <td>H8AK00132</td>\n",
       "      <td>SHEIN, DIMITRI</td>\n",
       "      <td>C</td>\n",
       "      <td>1</td>\n",
       "      <td>DEM</td>\n",
       "      <td>0.00</td>\n",
       "      <td>0.00</td>\n",
       "      <td>367.52</td>\n",
       "      <td>0.0</td>\n",
       "      <td>367.52</td>\n",
       "      <td>0.00</td>\n",
       "      <td>0.00</td>\n",
       "      <td>0.0</td>\n",
       "      <td>0.0</td>\n",
       "      <td>367.52</td>\n",
       "      <td>0.0</td>\n",
       "      <td>0.00</td>\n",
       "      <td>0.00</td>\n",
       "      <td>AK</td>\n",
       "      <td>0</td>\n",
       "      <td>NaN</td>\n",
       "      <td>NaN</td>\n",
       "      <td>NaN</td>\n",
       "      <td>NaN</td>\n",
       "      <td>NaN</td>\n",
       "      <td>0.00</td>\n",
       "      <td>0.0</td>\n",
       "      <td>09/30/2019</td>\n",
       "      <td>0.00</td>\n",
       "      <td>0.0</td>\n",
       "      <td>0.00</td>\n",
       "      <td>367.52</td>\n",
       "      <td>Challenger</td>\n",
       "    </tr>\n",
       "    <tr>\n",
       "      <th>1</th>\n",
       "      <td>H6AK00045</td>\n",
       "      <td>YOUNG, DONALD E</td>\n",
       "      <td>I</td>\n",
       "      <td>2</td>\n",
       "      <td>REP</td>\n",
       "      <td>1012401.48</td>\n",
       "      <td>130245.48</td>\n",
       "      <td>325545.51</td>\n",
       "      <td>0.0</td>\n",
       "      <td>116720.12</td>\n",
       "      <td>803576.09</td>\n",
       "      <td>0.00</td>\n",
       "      <td>0.0</td>\n",
       "      <td>0.0</td>\n",
       "      <td>0.00</td>\n",
       "      <td>0.0</td>\n",
       "      <td>0.00</td>\n",
       "      <td>417190.55</td>\n",
       "      <td>AK</td>\n",
       "      <td>0</td>\n",
       "      <td>NaN</td>\n",
       "      <td>NaN</td>\n",
       "      <td>NaN</td>\n",
       "      <td>NaN</td>\n",
       "      <td>NaN</td>\n",
       "      <td>458194.63</td>\n",
       "      <td>0.0</td>\n",
       "      <td>03/31/2020</td>\n",
       "      <td>0.00</td>\n",
       "      <td>2000.0</td>\n",
       "      <td>1012401.48</td>\n",
       "      <td>325545.51</td>\n",
       "      <td>Incumbent</td>\n",
       "    </tr>\n",
       "    <tr>\n",
       "      <th>2</th>\n",
       "      <td>H8AK01031</td>\n",
       "      <td>NELSON, THOMAS JOHN</td>\n",
       "      <td>C</td>\n",
       "      <td>2</td>\n",
       "      <td>REP</td>\n",
       "      <td>0.00</td>\n",
       "      <td>0.00</td>\n",
       "      <td>466.51</td>\n",
       "      <td>0.0</td>\n",
       "      <td>466.51</td>\n",
       "      <td>0.00</td>\n",
       "      <td>0.00</td>\n",
       "      <td>0.0</td>\n",
       "      <td>0.0</td>\n",
       "      <td>0.00</td>\n",
       "      <td>0.0</td>\n",
       "      <td>0.00</td>\n",
       "      <td>0.00</td>\n",
       "      <td>AK</td>\n",
       "      <td>0</td>\n",
       "      <td>NaN</td>\n",
       "      <td>NaN</td>\n",
       "      <td>NaN</td>\n",
       "      <td>NaN</td>\n",
       "      <td>NaN</td>\n",
       "      <td>0.00</td>\n",
       "      <td>0.0</td>\n",
       "      <td>03/31/2019</td>\n",
       "      <td>0.00</td>\n",
       "      <td>0.0</td>\n",
       "      <td>0.00</td>\n",
       "      <td>466.51</td>\n",
       "      <td>Challenger</td>\n",
       "    </tr>\n",
       "    <tr>\n",
       "      <th>3</th>\n",
       "      <td>H8AK00140</td>\n",
       "      <td>GALVIN, ALYSE</td>\n",
       "      <td>C</td>\n",
       "      <td>3</td>\n",
       "      <td>IND</td>\n",
       "      <td>1358372.81</td>\n",
       "      <td>0.00</td>\n",
       "      <td>403275.92</td>\n",
       "      <td>0.0</td>\n",
       "      <td>6245.09</td>\n",
       "      <td>961341.98</td>\n",
       "      <td>2955.81</td>\n",
       "      <td>0.0</td>\n",
       "      <td>0.0</td>\n",
       "      <td>0.00</td>\n",
       "      <td>0.0</td>\n",
       "      <td>56940.58</td>\n",
       "      <td>1279739.80</td>\n",
       "      <td>AK</td>\n",
       "      <td>0</td>\n",
       "      <td>NaN</td>\n",
       "      <td>NaN</td>\n",
       "      <td>NaN</td>\n",
       "      <td>NaN</td>\n",
       "      <td>NaN</td>\n",
       "      <td>38350.00</td>\n",
       "      <td>0.0</td>\n",
       "      <td>03/31/2020</td>\n",
       "      <td>7836.19</td>\n",
       "      <td>0.0</td>\n",
       "      <td>1358372.81</td>\n",
       "      <td>403275.92</td>\n",
       "      <td>Challenger</td>\n",
       "    </tr>\n",
       "    <tr>\n",
       "      <th>4</th>\n",
       "      <td>H0AL01097</td>\n",
       "      <td>AVERHART, JAMES</td>\n",
       "      <td>O</td>\n",
       "      <td>1</td>\n",
       "      <td>DEM</td>\n",
       "      <td>50126.74</td>\n",
       "      <td>0.00</td>\n",
       "      <td>40699.28</td>\n",
       "      <td>0.0</td>\n",
       "      <td>0.00</td>\n",
       "      <td>9427.46</td>\n",
       "      <td>0.00</td>\n",
       "      <td>26845.0</td>\n",
       "      <td>0.0</td>\n",
       "      <td>0.00</td>\n",
       "      <td>0.0</td>\n",
       "      <td>26845.00</td>\n",
       "      <td>23281.74</td>\n",
       "      <td>AL</td>\n",
       "      <td>1</td>\n",
       "      <td>NaN</td>\n",
       "      <td>NaN</td>\n",
       "      <td>NaN</td>\n",
       "      <td>NaN</td>\n",
       "      <td>NaN</td>\n",
       "      <td>0.00</td>\n",
       "      <td>0.0</td>\n",
       "      <td>06/30/2020</td>\n",
       "      <td>0.00</td>\n",
       "      <td>0.0</td>\n",
       "      <td>50126.74</td>\n",
       "      <td>40699.28</td>\n",
       "      <td>Open Seat</td>\n",
       "    </tr>\n",
       "  </tbody>\n",
       "</table>\n",
       "</div>"
      ],
      "text/plain": [
       "     CAND_ID            CAND_NAME CAND_ICI  PTY_CD CAND_PTY_AFFILIATION  \\\n",
       "0  H8AK00132       SHEIN, DIMITRI        C       1                  DEM   \n",
       "1  H6AK00045      YOUNG, DONALD E        I       2                  REP   \n",
       "2  H8AK01031  NELSON, THOMAS JOHN        C       2                  REP   \n",
       "3  H8AK00140        GALVIN, ALYSE        C       3                  IND   \n",
       "4  H0AL01097      AVERHART, JAMES        O       1                  DEM   \n",
       "\n",
       "   TTL_RECEIPTS  TRANS_FROM_AUTH   TTL_DISB  TRANS_TO_AUTH    COH_BOP  \\\n",
       "0          0.00             0.00     367.52            0.0     367.52   \n",
       "1    1012401.48        130245.48  325545.51            0.0  116720.12   \n",
       "2          0.00             0.00     466.51            0.0     466.51   \n",
       "3    1358372.81             0.00  403275.92            0.0    6245.09   \n",
       "4      50126.74             0.00   40699.28            0.0       0.00   \n",
       "\n",
       "     COH_COP  CAND_CONTRIB  CAND_LOANS  OTHER_LOANS  CAND_LOAN_REPAY  \\\n",
       "0       0.00          0.00         0.0          0.0           367.52   \n",
       "1  803576.09          0.00         0.0          0.0             0.00   \n",
       "2       0.00          0.00         0.0          0.0             0.00   \n",
       "3  961341.98       2955.81         0.0          0.0             0.00   \n",
       "4    9427.46          0.00     26845.0          0.0             0.00   \n",
       "\n",
       "   OTHER_LOAN_REPAY  DEBTS_OWED_BY  TTL_INDIV_CONTRIB CAND_OFFICE_ST  \\\n",
       "0               0.0           0.00               0.00             AK   \n",
       "1               0.0           0.00          417190.55             AK   \n",
       "2               0.0           0.00               0.00             AK   \n",
       "3               0.0       56940.58         1279739.80             AK   \n",
       "4               0.0       26845.00           23281.74             AL   \n",
       "\n",
       "   CAND_OFFICE_DISTRICT  SPEC_ELECTION  PRIM_ELECTION  RUN_ELECTION  \\\n",
       "0                     0            NaN            NaN           NaN   \n",
       "1                     0            NaN            NaN           NaN   \n",
       "2                     0            NaN            NaN           NaN   \n",
       "3                     0            NaN            NaN           NaN   \n",
       "4                     1            NaN            NaN           NaN   \n",
       "\n",
       "   GEN_ELECTION  GEN_ELECTION_PRECENT  OTHER_POL_CMTE_CONTRIB  \\\n",
       "0           NaN                   NaN                    0.00   \n",
       "1           NaN                   NaN               458194.63   \n",
       "2           NaN                   NaN                    0.00   \n",
       "3           NaN                   NaN                38350.00   \n",
       "4           NaN                   NaN                    0.00   \n",
       "\n",
       "   POL_PTY_CONTRIB  CVG_END_DT  INDIV_REFUNDS  CMTE_REFUNDS  \\\n",
       "0              0.0  09/30/2019           0.00           0.0   \n",
       "1              0.0  03/31/2020           0.00        2000.0   \n",
       "2              0.0  03/31/2019           0.00           0.0   \n",
       "3              0.0  03/31/2020        7836.19           0.0   \n",
       "4              0.0  06/30/2020           0.00           0.0   \n",
       "\n",
       "   TTL_RECEIPTS_CORRECTED  TTL_DISB_CORRECTED CAND_ICI_FULL  \n",
       "0                    0.00              367.52    Challenger  \n",
       "1              1012401.48           325545.51     Incumbent  \n",
       "2                    0.00              466.51    Challenger  \n",
       "3              1358372.81           403275.92    Challenger  \n",
       "4                50126.74            40699.28     Open Seat  "
      ]
     },
     "execution_count": 7,
     "metadata": {},
     "output_type": "execute_result"
    }
   ],
   "source": [
    "def map_candidate_to_seat_type(df):\n",
    "    \n",
    "    ici_map = {'C': 'Challenger', 'I': 'Incumbent', 'O': 'Open Seat'}\n",
    "    df['CAND_ICI_FULL'] = df['CAND_ICI'].map(ici_map)\n",
    "    \n",
    "    return df\n",
    "\n",
    "all_candidates = map_candidate_to_seat_type(all_candidates)\n",
    "all_candidates.head()"
   ]
  },
  {
   "cell_type": "code",
   "execution_count": 8,
   "metadata": {
    "_kg_hide-input": true,
    "_kg_hide-output": true,
    "execution": {
     "iopub.execute_input": "2020-09-02T04:53:37.243555Z",
     "iopub.status.busy": "2020-09-02T04:53:37.242657Z",
     "iopub.status.idle": "2020-09-02T04:53:37.453450Z",
     "shell.execute_reply": "2020-09-02T04:53:37.452663Z"
    },
    "papermill": {
     "duration": 0.248132,
     "end_time": "2020-09-02T04:53:37.453613",
     "exception": false,
     "start_time": "2020-09-02T04:53:37.205481",
     "status": "completed"
    },
    "tags": []
   },
   "outputs": [
    {
     "data": {
      "text/html": [
       "<div>\n",
       "<style scoped>\n",
       "    .dataframe tbody tr th:only-of-type {\n",
       "        vertical-align: middle;\n",
       "    }\n",
       "\n",
       "    .dataframe tbody tr th {\n",
       "        vertical-align: top;\n",
       "    }\n",
       "\n",
       "    .dataframe thead th {\n",
       "        text-align: right;\n",
       "    }\n",
       "</style>\n",
       "<table border=\"1\" class=\"dataframe\">\n",
       "  <thead>\n",
       "    <tr style=\"text-align: right;\">\n",
       "      <th></th>\n",
       "      <th>CAND_ID</th>\n",
       "      <th>CAND_NAME</th>\n",
       "      <th>CAND_ICI</th>\n",
       "      <th>PTY_CD</th>\n",
       "      <th>CAND_PTY_AFFILIATION</th>\n",
       "      <th>TTL_RECEIPTS</th>\n",
       "      <th>TRANS_FROM_AUTH</th>\n",
       "      <th>TTL_DISB</th>\n",
       "      <th>TRANS_TO_AUTH</th>\n",
       "      <th>COH_BOP</th>\n",
       "      <th>COH_COP</th>\n",
       "      <th>CAND_CONTRIB</th>\n",
       "      <th>CAND_LOANS</th>\n",
       "      <th>OTHER_LOANS</th>\n",
       "      <th>CAND_LOAN_REPAY</th>\n",
       "      <th>OTHER_LOAN_REPAY</th>\n",
       "      <th>DEBTS_OWED_BY</th>\n",
       "      <th>TTL_INDIV_CONTRIB</th>\n",
       "      <th>CAND_OFFICE_ST</th>\n",
       "      <th>CAND_OFFICE_DISTRICT</th>\n",
       "      <th>SPEC_ELECTION</th>\n",
       "      <th>PRIM_ELECTION</th>\n",
       "      <th>RUN_ELECTION</th>\n",
       "      <th>GEN_ELECTION</th>\n",
       "      <th>GEN_ELECTION_PRECENT</th>\n",
       "      <th>OTHER_POL_CMTE_CONTRIB</th>\n",
       "      <th>POL_PTY_CONTRIB</th>\n",
       "      <th>CVG_END_DT</th>\n",
       "      <th>INDIV_REFUNDS</th>\n",
       "      <th>CMTE_REFUNDS</th>\n",
       "      <th>TTL_RECEIPTS_CORRECTED</th>\n",
       "      <th>TTL_DISB_CORRECTED</th>\n",
       "      <th>CAND_ICI_FULL</th>\n",
       "      <th>CAND_PTY_AFFILIATION_FULL</th>\n",
       "    </tr>\n",
       "  </thead>\n",
       "  <tbody>\n",
       "    <tr>\n",
       "      <th>0</th>\n",
       "      <td>H8AK00132</td>\n",
       "      <td>SHEIN, DIMITRI</td>\n",
       "      <td>C</td>\n",
       "      <td>1</td>\n",
       "      <td>DEM</td>\n",
       "      <td>0.00</td>\n",
       "      <td>0.00</td>\n",
       "      <td>367.52</td>\n",
       "      <td>0.0</td>\n",
       "      <td>367.52</td>\n",
       "      <td>0.00</td>\n",
       "      <td>0.00</td>\n",
       "      <td>0.0</td>\n",
       "      <td>0.0</td>\n",
       "      <td>367.52</td>\n",
       "      <td>0.0</td>\n",
       "      <td>0.00</td>\n",
       "      <td>0.00</td>\n",
       "      <td>AK</td>\n",
       "      <td>0</td>\n",
       "      <td>NaN</td>\n",
       "      <td>NaN</td>\n",
       "      <td>NaN</td>\n",
       "      <td>NaN</td>\n",
       "      <td>NaN</td>\n",
       "      <td>0.00</td>\n",
       "      <td>0.0</td>\n",
       "      <td>09/30/2019</td>\n",
       "      <td>0.00</td>\n",
       "      <td>0.0</td>\n",
       "      <td>0.00</td>\n",
       "      <td>367.52</td>\n",
       "      <td>Challenger</td>\n",
       "      <td>Democratic Party</td>\n",
       "    </tr>\n",
       "    <tr>\n",
       "      <th>1</th>\n",
       "      <td>H6AK00045</td>\n",
       "      <td>YOUNG, DONALD E</td>\n",
       "      <td>I</td>\n",
       "      <td>2</td>\n",
       "      <td>REP</td>\n",
       "      <td>1012401.48</td>\n",
       "      <td>130245.48</td>\n",
       "      <td>325545.51</td>\n",
       "      <td>0.0</td>\n",
       "      <td>116720.12</td>\n",
       "      <td>803576.09</td>\n",
       "      <td>0.00</td>\n",
       "      <td>0.0</td>\n",
       "      <td>0.0</td>\n",
       "      <td>0.00</td>\n",
       "      <td>0.0</td>\n",
       "      <td>0.00</td>\n",
       "      <td>417190.55</td>\n",
       "      <td>AK</td>\n",
       "      <td>0</td>\n",
       "      <td>NaN</td>\n",
       "      <td>NaN</td>\n",
       "      <td>NaN</td>\n",
       "      <td>NaN</td>\n",
       "      <td>NaN</td>\n",
       "      <td>458194.63</td>\n",
       "      <td>0.0</td>\n",
       "      <td>03/31/2020</td>\n",
       "      <td>0.00</td>\n",
       "      <td>2000.0</td>\n",
       "      <td>1012401.48</td>\n",
       "      <td>325545.51</td>\n",
       "      <td>Incumbent</td>\n",
       "      <td>Republican Party</td>\n",
       "    </tr>\n",
       "    <tr>\n",
       "      <th>2</th>\n",
       "      <td>H8AK01031</td>\n",
       "      <td>NELSON, THOMAS JOHN</td>\n",
       "      <td>C</td>\n",
       "      <td>2</td>\n",
       "      <td>REP</td>\n",
       "      <td>0.00</td>\n",
       "      <td>0.00</td>\n",
       "      <td>466.51</td>\n",
       "      <td>0.0</td>\n",
       "      <td>466.51</td>\n",
       "      <td>0.00</td>\n",
       "      <td>0.00</td>\n",
       "      <td>0.0</td>\n",
       "      <td>0.0</td>\n",
       "      <td>0.00</td>\n",
       "      <td>0.0</td>\n",
       "      <td>0.00</td>\n",
       "      <td>0.00</td>\n",
       "      <td>AK</td>\n",
       "      <td>0</td>\n",
       "      <td>NaN</td>\n",
       "      <td>NaN</td>\n",
       "      <td>NaN</td>\n",
       "      <td>NaN</td>\n",
       "      <td>NaN</td>\n",
       "      <td>0.00</td>\n",
       "      <td>0.0</td>\n",
       "      <td>03/31/2019</td>\n",
       "      <td>0.00</td>\n",
       "      <td>0.0</td>\n",
       "      <td>0.00</td>\n",
       "      <td>466.51</td>\n",
       "      <td>Challenger</td>\n",
       "      <td>Republican Party</td>\n",
       "    </tr>\n",
       "    <tr>\n",
       "      <th>3</th>\n",
       "      <td>H8AK00140</td>\n",
       "      <td>GALVIN, ALYSE</td>\n",
       "      <td>C</td>\n",
       "      <td>3</td>\n",
       "      <td>IND</td>\n",
       "      <td>1358372.81</td>\n",
       "      <td>0.00</td>\n",
       "      <td>403275.92</td>\n",
       "      <td>0.0</td>\n",
       "      <td>6245.09</td>\n",
       "      <td>961341.98</td>\n",
       "      <td>2955.81</td>\n",
       "      <td>0.0</td>\n",
       "      <td>0.0</td>\n",
       "      <td>0.00</td>\n",
       "      <td>0.0</td>\n",
       "      <td>56940.58</td>\n",
       "      <td>1279739.80</td>\n",
       "      <td>AK</td>\n",
       "      <td>0</td>\n",
       "      <td>NaN</td>\n",
       "      <td>NaN</td>\n",
       "      <td>NaN</td>\n",
       "      <td>NaN</td>\n",
       "      <td>NaN</td>\n",
       "      <td>38350.00</td>\n",
       "      <td>0.0</td>\n",
       "      <td>03/31/2020</td>\n",
       "      <td>7836.19</td>\n",
       "      <td>0.0</td>\n",
       "      <td>1358372.81</td>\n",
       "      <td>403275.92</td>\n",
       "      <td>Challenger</td>\n",
       "      <td>Independent</td>\n",
       "    </tr>\n",
       "    <tr>\n",
       "      <th>4</th>\n",
       "      <td>H0AL01097</td>\n",
       "      <td>AVERHART, JAMES</td>\n",
       "      <td>O</td>\n",
       "      <td>1</td>\n",
       "      <td>DEM</td>\n",
       "      <td>50126.74</td>\n",
       "      <td>0.00</td>\n",
       "      <td>40699.28</td>\n",
       "      <td>0.0</td>\n",
       "      <td>0.00</td>\n",
       "      <td>9427.46</td>\n",
       "      <td>0.00</td>\n",
       "      <td>26845.0</td>\n",
       "      <td>0.0</td>\n",
       "      <td>0.00</td>\n",
       "      <td>0.0</td>\n",
       "      <td>26845.00</td>\n",
       "      <td>23281.74</td>\n",
       "      <td>AL</td>\n",
       "      <td>1</td>\n",
       "      <td>NaN</td>\n",
       "      <td>NaN</td>\n",
       "      <td>NaN</td>\n",
       "      <td>NaN</td>\n",
       "      <td>NaN</td>\n",
       "      <td>0.00</td>\n",
       "      <td>0.0</td>\n",
       "      <td>06/30/2020</td>\n",
       "      <td>0.00</td>\n",
       "      <td>0.0</td>\n",
       "      <td>50126.74</td>\n",
       "      <td>40699.28</td>\n",
       "      <td>Open Seat</td>\n",
       "      <td>Democratic Party</td>\n",
       "    </tr>\n",
       "  </tbody>\n",
       "</table>\n",
       "</div>"
      ],
      "text/plain": [
       "     CAND_ID            CAND_NAME CAND_ICI  PTY_CD CAND_PTY_AFFILIATION  \\\n",
       "0  H8AK00132       SHEIN, DIMITRI        C       1                  DEM   \n",
       "1  H6AK00045      YOUNG, DONALD E        I       2                  REP   \n",
       "2  H8AK01031  NELSON, THOMAS JOHN        C       2                  REP   \n",
       "3  H8AK00140        GALVIN, ALYSE        C       3                  IND   \n",
       "4  H0AL01097      AVERHART, JAMES        O       1                  DEM   \n",
       "\n",
       "   TTL_RECEIPTS  TRANS_FROM_AUTH   TTL_DISB  TRANS_TO_AUTH    COH_BOP  \\\n",
       "0          0.00             0.00     367.52            0.0     367.52   \n",
       "1    1012401.48        130245.48  325545.51            0.0  116720.12   \n",
       "2          0.00             0.00     466.51            0.0     466.51   \n",
       "3    1358372.81             0.00  403275.92            0.0    6245.09   \n",
       "4      50126.74             0.00   40699.28            0.0       0.00   \n",
       "\n",
       "     COH_COP  CAND_CONTRIB  CAND_LOANS  OTHER_LOANS  CAND_LOAN_REPAY  \\\n",
       "0       0.00          0.00         0.0          0.0           367.52   \n",
       "1  803576.09          0.00         0.0          0.0             0.00   \n",
       "2       0.00          0.00         0.0          0.0             0.00   \n",
       "3  961341.98       2955.81         0.0          0.0             0.00   \n",
       "4    9427.46          0.00     26845.0          0.0             0.00   \n",
       "\n",
       "   OTHER_LOAN_REPAY  DEBTS_OWED_BY  TTL_INDIV_CONTRIB CAND_OFFICE_ST  \\\n",
       "0               0.0           0.00               0.00             AK   \n",
       "1               0.0           0.00          417190.55             AK   \n",
       "2               0.0           0.00               0.00             AK   \n",
       "3               0.0       56940.58         1279739.80             AK   \n",
       "4               0.0       26845.00           23281.74             AL   \n",
       "\n",
       "   CAND_OFFICE_DISTRICT  SPEC_ELECTION  PRIM_ELECTION  RUN_ELECTION  \\\n",
       "0                     0            NaN            NaN           NaN   \n",
       "1                     0            NaN            NaN           NaN   \n",
       "2                     0            NaN            NaN           NaN   \n",
       "3                     0            NaN            NaN           NaN   \n",
       "4                     1            NaN            NaN           NaN   \n",
       "\n",
       "   GEN_ELECTION  GEN_ELECTION_PRECENT  OTHER_POL_CMTE_CONTRIB  \\\n",
       "0           NaN                   NaN                    0.00   \n",
       "1           NaN                   NaN               458194.63   \n",
       "2           NaN                   NaN                    0.00   \n",
       "3           NaN                   NaN                38350.00   \n",
       "4           NaN                   NaN                    0.00   \n",
       "\n",
       "   POL_PTY_CONTRIB  CVG_END_DT  INDIV_REFUNDS  CMTE_REFUNDS  \\\n",
       "0              0.0  09/30/2019           0.00           0.0   \n",
       "1              0.0  03/31/2020           0.00        2000.0   \n",
       "2              0.0  03/31/2019           0.00           0.0   \n",
       "3              0.0  03/31/2020        7836.19           0.0   \n",
       "4              0.0  06/30/2020           0.00           0.0   \n",
       "\n",
       "   TTL_RECEIPTS_CORRECTED  TTL_DISB_CORRECTED CAND_ICI_FULL  \\\n",
       "0                    0.00              367.52    Challenger   \n",
       "1              1012401.48           325545.51     Incumbent   \n",
       "2                    0.00              466.51    Challenger   \n",
       "3              1358372.81           403275.92    Challenger   \n",
       "4                50126.74            40699.28     Open Seat   \n",
       "\n",
       "  CAND_PTY_AFFILIATION_FULL  \n",
       "0          Democratic Party  \n",
       "1          Republican Party  \n",
       "2          Republican Party  \n",
       "3               Independent  \n",
       "4          Democratic Party  "
      ]
     },
     "execution_count": 8,
     "metadata": {},
     "output_type": "execute_result"
    }
   ],
   "source": [
    "party_codes = read_table(\"https://www.fec.gov/campaign-finance-data/party-code-descriptions/\")\n",
    "\n",
    "def map_candidate_to_party(df):\n",
    "    \n",
    "    df['CAND_PTY_AFFILIATION_FULL'] = df['CAND_PTY_AFFILIATION'].map(party_codes)\n",
    "    \n",
    "    return df\n",
    "\n",
    "all_candidates = map_candidate_to_party(all_candidates)\n",
    "all_candidates.head()"
   ]
  },
  {
   "cell_type": "code",
   "execution_count": 9,
   "metadata": {
    "_kg_hide-input": true,
    "_kg_hide-output": true,
    "execution": {
     "iopub.execute_input": "2020-09-02T04:53:37.563006Z",
     "iopub.status.busy": "2020-09-02T04:53:37.561912Z",
     "iopub.status.idle": "2020-09-02T04:53:37.568859Z",
     "shell.execute_reply": "2020-09-02T04:53:37.568057Z"
    },
    "papermill": {
     "duration": 0.093214,
     "end_time": "2020-09-02T04:53:37.568999",
     "exception": false,
     "start_time": "2020-09-02T04:53:37.475785",
     "status": "completed"
    },
    "tags": []
   },
   "outputs": [
    {
     "data": {
      "text/html": [
       "<div>\n",
       "<style scoped>\n",
       "    .dataframe tbody tr th:only-of-type {\n",
       "        vertical-align: middle;\n",
       "    }\n",
       "\n",
       "    .dataframe tbody tr th {\n",
       "        vertical-align: top;\n",
       "    }\n",
       "\n",
       "    .dataframe thead th {\n",
       "        text-align: right;\n",
       "    }\n",
       "</style>\n",
       "<table border=\"1\" class=\"dataframe\">\n",
       "  <thead>\n",
       "    <tr style=\"text-align: right;\">\n",
       "      <th></th>\n",
       "      <th>CAND_ID</th>\n",
       "      <th>CAND_NAME</th>\n",
       "      <th>CAND_ICI</th>\n",
       "      <th>PTY_CD</th>\n",
       "      <th>CAND_PTY_AFFILIATION</th>\n",
       "      <th>TTL_RECEIPTS</th>\n",
       "      <th>TRANS_FROM_AUTH</th>\n",
       "      <th>TTL_DISB</th>\n",
       "      <th>TRANS_TO_AUTH</th>\n",
       "      <th>COH_BOP</th>\n",
       "      <th>COH_COP</th>\n",
       "      <th>CAND_CONTRIB</th>\n",
       "      <th>CAND_LOANS</th>\n",
       "      <th>OTHER_LOANS</th>\n",
       "      <th>CAND_LOAN_REPAY</th>\n",
       "      <th>OTHER_LOAN_REPAY</th>\n",
       "      <th>DEBTS_OWED_BY</th>\n",
       "      <th>TTL_INDIV_CONTRIB</th>\n",
       "      <th>CAND_OFFICE_ST</th>\n",
       "      <th>CAND_OFFICE_DISTRICT</th>\n",
       "      <th>SPEC_ELECTION</th>\n",
       "      <th>PRIM_ELECTION</th>\n",
       "      <th>RUN_ELECTION</th>\n",
       "      <th>GEN_ELECTION</th>\n",
       "      <th>GEN_ELECTION_PRECENT</th>\n",
       "      <th>OTHER_POL_CMTE_CONTRIB</th>\n",
       "      <th>POL_PTY_CONTRIB</th>\n",
       "      <th>CVG_END_DT</th>\n",
       "      <th>INDIV_REFUNDS</th>\n",
       "      <th>CMTE_REFUNDS</th>\n",
       "      <th>TTL_RECEIPTS_CORRECTED</th>\n",
       "      <th>TTL_DISB_CORRECTED</th>\n",
       "      <th>CAND_ICI_FULL</th>\n",
       "      <th>CAND_PTY_AFFILIATION_FULL</th>\n",
       "    </tr>\n",
       "  </thead>\n",
       "  <tbody>\n",
       "    <tr>\n",
       "      <th>0</th>\n",
       "      <td>H8AK00132</td>\n",
       "      <td>SHEIN, DIMITRI</td>\n",
       "      <td>C</td>\n",
       "      <td>1</td>\n",
       "      <td>DEM</td>\n",
       "      <td>0.00</td>\n",
       "      <td>0.00</td>\n",
       "      <td>367.52</td>\n",
       "      <td>0.0</td>\n",
       "      <td>367.52</td>\n",
       "      <td>0.00</td>\n",
       "      <td>0.00</td>\n",
       "      <td>0.0</td>\n",
       "      <td>0.0</td>\n",
       "      <td>367.52</td>\n",
       "      <td>0.0</td>\n",
       "      <td>0.00</td>\n",
       "      <td>0.00</td>\n",
       "      <td>AK</td>\n",
       "      <td>00</td>\n",
       "      <td>NaN</td>\n",
       "      <td>NaN</td>\n",
       "      <td>NaN</td>\n",
       "      <td>NaN</td>\n",
       "      <td>NaN</td>\n",
       "      <td>0.00</td>\n",
       "      <td>0.0</td>\n",
       "      <td>09/30/2019</td>\n",
       "      <td>0.00</td>\n",
       "      <td>0.0</td>\n",
       "      <td>0.00</td>\n",
       "      <td>367.52</td>\n",
       "      <td>Challenger</td>\n",
       "      <td>Democratic Party</td>\n",
       "    </tr>\n",
       "    <tr>\n",
       "      <th>1</th>\n",
       "      <td>H6AK00045</td>\n",
       "      <td>YOUNG, DONALD E</td>\n",
       "      <td>I</td>\n",
       "      <td>2</td>\n",
       "      <td>REP</td>\n",
       "      <td>1012401.48</td>\n",
       "      <td>130245.48</td>\n",
       "      <td>325545.51</td>\n",
       "      <td>0.0</td>\n",
       "      <td>116720.12</td>\n",
       "      <td>803576.09</td>\n",
       "      <td>0.00</td>\n",
       "      <td>0.0</td>\n",
       "      <td>0.0</td>\n",
       "      <td>0.00</td>\n",
       "      <td>0.0</td>\n",
       "      <td>0.00</td>\n",
       "      <td>417190.55</td>\n",
       "      <td>AK</td>\n",
       "      <td>00</td>\n",
       "      <td>NaN</td>\n",
       "      <td>NaN</td>\n",
       "      <td>NaN</td>\n",
       "      <td>NaN</td>\n",
       "      <td>NaN</td>\n",
       "      <td>458194.63</td>\n",
       "      <td>0.0</td>\n",
       "      <td>03/31/2020</td>\n",
       "      <td>0.00</td>\n",
       "      <td>2000.0</td>\n",
       "      <td>1012401.48</td>\n",
       "      <td>325545.51</td>\n",
       "      <td>Incumbent</td>\n",
       "      <td>Republican Party</td>\n",
       "    </tr>\n",
       "    <tr>\n",
       "      <th>2</th>\n",
       "      <td>H8AK01031</td>\n",
       "      <td>NELSON, THOMAS JOHN</td>\n",
       "      <td>C</td>\n",
       "      <td>2</td>\n",
       "      <td>REP</td>\n",
       "      <td>0.00</td>\n",
       "      <td>0.00</td>\n",
       "      <td>466.51</td>\n",
       "      <td>0.0</td>\n",
       "      <td>466.51</td>\n",
       "      <td>0.00</td>\n",
       "      <td>0.00</td>\n",
       "      <td>0.0</td>\n",
       "      <td>0.0</td>\n",
       "      <td>0.00</td>\n",
       "      <td>0.0</td>\n",
       "      <td>0.00</td>\n",
       "      <td>0.00</td>\n",
       "      <td>AK</td>\n",
       "      <td>00</td>\n",
       "      <td>NaN</td>\n",
       "      <td>NaN</td>\n",
       "      <td>NaN</td>\n",
       "      <td>NaN</td>\n",
       "      <td>NaN</td>\n",
       "      <td>0.00</td>\n",
       "      <td>0.0</td>\n",
       "      <td>03/31/2019</td>\n",
       "      <td>0.00</td>\n",
       "      <td>0.0</td>\n",
       "      <td>0.00</td>\n",
       "      <td>466.51</td>\n",
       "      <td>Challenger</td>\n",
       "      <td>Republican Party</td>\n",
       "    </tr>\n",
       "    <tr>\n",
       "      <th>3</th>\n",
       "      <td>H8AK00140</td>\n",
       "      <td>GALVIN, ALYSE</td>\n",
       "      <td>C</td>\n",
       "      <td>3</td>\n",
       "      <td>IND</td>\n",
       "      <td>1358372.81</td>\n",
       "      <td>0.00</td>\n",
       "      <td>403275.92</td>\n",
       "      <td>0.0</td>\n",
       "      <td>6245.09</td>\n",
       "      <td>961341.98</td>\n",
       "      <td>2955.81</td>\n",
       "      <td>0.0</td>\n",
       "      <td>0.0</td>\n",
       "      <td>0.00</td>\n",
       "      <td>0.0</td>\n",
       "      <td>56940.58</td>\n",
       "      <td>1279739.80</td>\n",
       "      <td>AK</td>\n",
       "      <td>00</td>\n",
       "      <td>NaN</td>\n",
       "      <td>NaN</td>\n",
       "      <td>NaN</td>\n",
       "      <td>NaN</td>\n",
       "      <td>NaN</td>\n",
       "      <td>38350.00</td>\n",
       "      <td>0.0</td>\n",
       "      <td>03/31/2020</td>\n",
       "      <td>7836.19</td>\n",
       "      <td>0.0</td>\n",
       "      <td>1358372.81</td>\n",
       "      <td>403275.92</td>\n",
       "      <td>Challenger</td>\n",
       "      <td>Independent</td>\n",
       "    </tr>\n",
       "    <tr>\n",
       "      <th>4</th>\n",
       "      <td>H0AL01097</td>\n",
       "      <td>AVERHART, JAMES</td>\n",
       "      <td>O</td>\n",
       "      <td>1</td>\n",
       "      <td>DEM</td>\n",
       "      <td>50126.74</td>\n",
       "      <td>0.00</td>\n",
       "      <td>40699.28</td>\n",
       "      <td>0.0</td>\n",
       "      <td>0.00</td>\n",
       "      <td>9427.46</td>\n",
       "      <td>0.00</td>\n",
       "      <td>26845.0</td>\n",
       "      <td>0.0</td>\n",
       "      <td>0.00</td>\n",
       "      <td>0.0</td>\n",
       "      <td>26845.00</td>\n",
       "      <td>23281.74</td>\n",
       "      <td>AL</td>\n",
       "      <td>01</td>\n",
       "      <td>NaN</td>\n",
       "      <td>NaN</td>\n",
       "      <td>NaN</td>\n",
       "      <td>NaN</td>\n",
       "      <td>NaN</td>\n",
       "      <td>0.00</td>\n",
       "      <td>0.0</td>\n",
       "      <td>06/30/2020</td>\n",
       "      <td>0.00</td>\n",
       "      <td>0.0</td>\n",
       "      <td>50126.74</td>\n",
       "      <td>40699.28</td>\n",
       "      <td>Open Seat</td>\n",
       "      <td>Democratic Party</td>\n",
       "    </tr>\n",
       "  </tbody>\n",
       "</table>\n",
       "</div>"
      ],
      "text/plain": [
       "     CAND_ID            CAND_NAME CAND_ICI  PTY_CD CAND_PTY_AFFILIATION  \\\n",
       "0  H8AK00132       SHEIN, DIMITRI        C       1                  DEM   \n",
       "1  H6AK00045      YOUNG, DONALD E        I       2                  REP   \n",
       "2  H8AK01031  NELSON, THOMAS JOHN        C       2                  REP   \n",
       "3  H8AK00140        GALVIN, ALYSE        C       3                  IND   \n",
       "4  H0AL01097      AVERHART, JAMES        O       1                  DEM   \n",
       "\n",
       "   TTL_RECEIPTS  TRANS_FROM_AUTH   TTL_DISB  TRANS_TO_AUTH    COH_BOP  \\\n",
       "0          0.00             0.00     367.52            0.0     367.52   \n",
       "1    1012401.48        130245.48  325545.51            0.0  116720.12   \n",
       "2          0.00             0.00     466.51            0.0     466.51   \n",
       "3    1358372.81             0.00  403275.92            0.0    6245.09   \n",
       "4      50126.74             0.00   40699.28            0.0       0.00   \n",
       "\n",
       "     COH_COP  CAND_CONTRIB  CAND_LOANS  OTHER_LOANS  CAND_LOAN_REPAY  \\\n",
       "0       0.00          0.00         0.0          0.0           367.52   \n",
       "1  803576.09          0.00         0.0          0.0             0.00   \n",
       "2       0.00          0.00         0.0          0.0             0.00   \n",
       "3  961341.98       2955.81         0.0          0.0             0.00   \n",
       "4    9427.46          0.00     26845.0          0.0             0.00   \n",
       "\n",
       "   OTHER_LOAN_REPAY  DEBTS_OWED_BY  TTL_INDIV_CONTRIB CAND_OFFICE_ST  \\\n",
       "0               0.0           0.00               0.00             AK   \n",
       "1               0.0           0.00          417190.55             AK   \n",
       "2               0.0           0.00               0.00             AK   \n",
       "3               0.0       56940.58         1279739.80             AK   \n",
       "4               0.0       26845.00           23281.74             AL   \n",
       "\n",
       "  CAND_OFFICE_DISTRICT  SPEC_ELECTION  PRIM_ELECTION  RUN_ELECTION  \\\n",
       "0                   00            NaN            NaN           NaN   \n",
       "1                   00            NaN            NaN           NaN   \n",
       "2                   00            NaN            NaN           NaN   \n",
       "3                   00            NaN            NaN           NaN   \n",
       "4                   01            NaN            NaN           NaN   \n",
       "\n",
       "   GEN_ELECTION  GEN_ELECTION_PRECENT  OTHER_POL_CMTE_CONTRIB  \\\n",
       "0           NaN                   NaN                    0.00   \n",
       "1           NaN                   NaN               458194.63   \n",
       "2           NaN                   NaN                    0.00   \n",
       "3           NaN                   NaN                38350.00   \n",
       "4           NaN                   NaN                    0.00   \n",
       "\n",
       "   POL_PTY_CONTRIB  CVG_END_DT  INDIV_REFUNDS  CMTE_REFUNDS  \\\n",
       "0              0.0  09/30/2019           0.00           0.0   \n",
       "1              0.0  03/31/2020           0.00        2000.0   \n",
       "2              0.0  03/31/2019           0.00           0.0   \n",
       "3              0.0  03/31/2020        7836.19           0.0   \n",
       "4              0.0  06/30/2020           0.00           0.0   \n",
       "\n",
       "   TTL_RECEIPTS_CORRECTED  TTL_DISB_CORRECTED CAND_ICI_FULL  \\\n",
       "0                    0.00              367.52    Challenger   \n",
       "1              1012401.48           325545.51     Incumbent   \n",
       "2                    0.00              466.51    Challenger   \n",
       "3              1358372.81           403275.92    Challenger   \n",
       "4                50126.74            40699.28     Open Seat   \n",
       "\n",
       "  CAND_PTY_AFFILIATION_FULL  \n",
       "0          Democratic Party  \n",
       "1          Republican Party  \n",
       "2          Republican Party  \n",
       "3               Independent  \n",
       "4          Democratic Party  "
      ]
     },
     "execution_count": 9,
     "metadata": {},
     "output_type": "execute_result"
    }
   ],
   "source": [
    "def correct_candidate_district_and_office(df):\n",
    "    \n",
    "    if df['CAND_OFFICE_DISTRICT'].dtype == 'int64':\n",
    "        df['CAND_OFFICE_DISTRICT'] = df['CAND_OFFICE_DISTRICT'].map(lambda x: str(x).zfill(2) if not pd.isna(x) else np.nan)\n",
    "    elif df['CAND_OFFICE_DISTRICT'].dtype == 'float':\n",
    "        df['CAND_OFFICE_DISTRICT'] = df['CAND_OFFICE_DISTRICT'].map(lambda x: str(int(x)).zfill(2) if not pd.isna(x) else np.nan)\n",
    "    return df\n",
    "\n",
    "all_candidates = correct_candidate_district_and_office(all_candidates)\n",
    "all_candidates.head()"
   ]
  },
  {
   "cell_type": "code",
   "execution_count": 10,
   "metadata": {
    "_kg_hide-input": true,
    "_kg_hide-output": true,
    "execution": {
     "iopub.execute_input": "2020-09-02T04:53:37.631787Z",
     "iopub.status.busy": "2020-09-02T04:53:37.630922Z",
     "iopub.status.idle": "2020-09-02T04:53:37.673174Z",
     "shell.execute_reply": "2020-09-02T04:53:37.672485Z"
    },
    "papermill": {
     "duration": 0.081641,
     "end_time": "2020-09-02T04:53:37.673327",
     "exception": false,
     "start_time": "2020-09-02T04:53:37.591686",
     "status": "completed"
    },
    "tags": []
   },
   "outputs": [
    {
     "data": {
      "text/html": [
       "<div>\n",
       "<style scoped>\n",
       "    .dataframe tbody tr th:only-of-type {\n",
       "        vertical-align: middle;\n",
       "    }\n",
       "\n",
       "    .dataframe tbody tr th {\n",
       "        vertical-align: top;\n",
       "    }\n",
       "\n",
       "    .dataframe thead th {\n",
       "        text-align: right;\n",
       "    }\n",
       "</style>\n",
       "<table border=\"1\" class=\"dataframe\">\n",
       "  <thead>\n",
       "    <tr style=\"text-align: right;\">\n",
       "      <th></th>\n",
       "      <th>CAND_ID</th>\n",
       "      <th>CAND_NAME</th>\n",
       "      <th>CAND_ICI</th>\n",
       "      <th>PTY_CD</th>\n",
       "      <th>CAND_PTY_AFFILIATION</th>\n",
       "      <th>TTL_RECEIPTS</th>\n",
       "      <th>TRANS_FROM_AUTH</th>\n",
       "      <th>TTL_DISB</th>\n",
       "      <th>TRANS_TO_AUTH</th>\n",
       "      <th>COH_BOP</th>\n",
       "      <th>COH_COP</th>\n",
       "      <th>CAND_CONTRIB</th>\n",
       "      <th>CAND_LOANS</th>\n",
       "      <th>OTHER_LOANS</th>\n",
       "      <th>CAND_LOAN_REPAY</th>\n",
       "      <th>OTHER_LOAN_REPAY</th>\n",
       "      <th>DEBTS_OWED_BY</th>\n",
       "      <th>TTL_INDIV_CONTRIB</th>\n",
       "      <th>CAND_OFFICE_ST</th>\n",
       "      <th>CAND_OFFICE_DISTRICT</th>\n",
       "      <th>SPEC_ELECTION</th>\n",
       "      <th>PRIM_ELECTION</th>\n",
       "      <th>RUN_ELECTION</th>\n",
       "      <th>GEN_ELECTION</th>\n",
       "      <th>GEN_ELECTION_PRECENT</th>\n",
       "      <th>OTHER_POL_CMTE_CONTRIB</th>\n",
       "      <th>POL_PTY_CONTRIB</th>\n",
       "      <th>CVG_END_DT</th>\n",
       "      <th>INDIV_REFUNDS</th>\n",
       "      <th>CMTE_REFUNDS</th>\n",
       "      <th>TTL_RECEIPTS_CORRECTED</th>\n",
       "      <th>TTL_DISB_CORRECTED</th>\n",
       "      <th>CAND_ICI_FULL</th>\n",
       "      <th>CAND_PTY_AFFILIATION_FULL</th>\n",
       "    </tr>\n",
       "  </thead>\n",
       "  <tbody>\n",
       "    <tr>\n",
       "      <th>3512</th>\n",
       "      <td>S0NC00202</td>\n",
       "      <td>CUNNINGHAM, CAL</td>\n",
       "      <td>C</td>\n",
       "      <td>1</td>\n",
       "      <td>DEM</td>\n",
       "      <td>7716897.31</td>\n",
       "      <td>756819.84</td>\n",
       "      <td>4716418.25</td>\n",
       "      <td>0.00</td>\n",
       "      <td>0.00</td>\n",
       "      <td>3000479.06</td>\n",
       "      <td>0.0</td>\n",
       "      <td>200000.0</td>\n",
       "      <td>0.0</td>\n",
       "      <td>200000.0</td>\n",
       "      <td>0.0</td>\n",
       "      <td>0.0</td>\n",
       "      <td>6268724.11</td>\n",
       "      <td>NC</td>\n",
       "      <td>00</td>\n",
       "      <td>NaN</td>\n",
       "      <td>NaN</td>\n",
       "      <td>NaN</td>\n",
       "      <td>NaN</td>\n",
       "      <td>NaN</td>\n",
       "      <td>438325.00</td>\n",
       "      <td>49600.0</td>\n",
       "      <td>03/31/2020</td>\n",
       "      <td>29751.69</td>\n",
       "      <td>0.00</td>\n",
       "      <td>7716897.31</td>\n",
       "      <td>4716418.25</td>\n",
       "      <td>Challenger</td>\n",
       "      <td>Democratic Party</td>\n",
       "    </tr>\n",
       "    <tr>\n",
       "      <th>3523</th>\n",
       "      <td>S4NC00162</td>\n",
       "      <td>TILLIS, THOM R. SEN.</td>\n",
       "      <td>I</td>\n",
       "      <td>2</td>\n",
       "      <td>REP</td>\n",
       "      <td>8269271.66</td>\n",
       "      <td>1152018.96</td>\n",
       "      <td>3811302.27</td>\n",
       "      <td>6441.91</td>\n",
       "      <td>2025444.43</td>\n",
       "      <td>6483413.82</td>\n",
       "      <td>0.0</td>\n",
       "      <td>0.0</td>\n",
       "      <td>0.0</td>\n",
       "      <td>0.0</td>\n",
       "      <td>0.0</td>\n",
       "      <td>0.0</td>\n",
       "      <td>4798506.58</td>\n",
       "      <td>NC</td>\n",
       "      <td>00</td>\n",
       "      <td>NaN</td>\n",
       "      <td>NaN</td>\n",
       "      <td>NaN</td>\n",
       "      <td>NaN</td>\n",
       "      <td>NaN</td>\n",
       "      <td>2278244.39</td>\n",
       "      <td>0.0</td>\n",
       "      <td>06/09/2020</td>\n",
       "      <td>102493.33</td>\n",
       "      <td>14425.67</td>\n",
       "      <td>7117252.70</td>\n",
       "      <td>3804860.36</td>\n",
       "      <td>Incumbent</td>\n",
       "      <td>Republican Party</td>\n",
       "    </tr>\n",
       "  </tbody>\n",
       "</table>\n",
       "</div>"
      ],
      "text/plain": [
       "        CAND_ID             CAND_NAME CAND_ICI  PTY_CD CAND_PTY_AFFILIATION  \\\n",
       "3512  S0NC00202       CUNNINGHAM, CAL        C       1                  DEM   \n",
       "3523  S4NC00162  TILLIS, THOM R. SEN.        I       2                  REP   \n",
       "\n",
       "      TTL_RECEIPTS  TRANS_FROM_AUTH    TTL_DISB  TRANS_TO_AUTH     COH_BOP  \\\n",
       "3512    7716897.31        756819.84  4716418.25           0.00        0.00   \n",
       "3523    8269271.66       1152018.96  3811302.27        6441.91  2025444.43   \n",
       "\n",
       "         COH_COP  CAND_CONTRIB  CAND_LOANS  OTHER_LOANS  CAND_LOAN_REPAY  \\\n",
       "3512  3000479.06           0.0    200000.0          0.0         200000.0   \n",
       "3523  6483413.82           0.0         0.0          0.0              0.0   \n",
       "\n",
       "      OTHER_LOAN_REPAY  DEBTS_OWED_BY  TTL_INDIV_CONTRIB CAND_OFFICE_ST  \\\n",
       "3512               0.0            0.0         6268724.11             NC   \n",
       "3523               0.0            0.0         4798506.58             NC   \n",
       "\n",
       "     CAND_OFFICE_DISTRICT  SPEC_ELECTION  PRIM_ELECTION  RUN_ELECTION  \\\n",
       "3512                   00            NaN            NaN           NaN   \n",
       "3523                   00            NaN            NaN           NaN   \n",
       "\n",
       "      GEN_ELECTION  GEN_ELECTION_PRECENT  OTHER_POL_CMTE_CONTRIB  \\\n",
       "3512           NaN                   NaN               438325.00   \n",
       "3523           NaN                   NaN              2278244.39   \n",
       "\n",
       "      POL_PTY_CONTRIB  CVG_END_DT  INDIV_REFUNDS  CMTE_REFUNDS  \\\n",
       "3512          49600.0  03/31/2020       29751.69          0.00   \n",
       "3523              0.0  06/09/2020      102493.33      14425.67   \n",
       "\n",
       "      TTL_RECEIPTS_CORRECTED  TTL_DISB_CORRECTED CAND_ICI_FULL  \\\n",
       "3512              7716897.31          4716418.25    Challenger   \n",
       "3523              7117252.70          3804860.36     Incumbent   \n",
       "\n",
       "     CAND_PTY_AFFILIATION_FULL  \n",
       "3512          Democratic Party  \n",
       "3523          Republican Party  "
      ]
     },
     "execution_count": 10,
     "metadata": {},
     "output_type": "execute_result"
    }
   ],
   "source": [
    "candidates = all_candidates[(all_candidates['CAND_NAME'].str.contains(f\"{candidate1}\", case=False)) | \n",
    "               (all_candidates['CAND_NAME'].str.contains(f\"{candidate2}\", case=False))]\n",
    "candidates"
   ]
  },
  {
   "cell_type": "code",
   "execution_count": 11,
   "metadata": {
    "_kg_hide-input": true,
    "execution": {
     "iopub.execute_input": "2020-09-02T04:53:37.748790Z",
     "iopub.status.busy": "2020-09-02T04:53:37.747925Z",
     "iopub.status.idle": "2020-09-02T04:53:37.773132Z",
     "shell.execute_reply": "2020-09-02T04:53:37.772441Z"
    },
    "papermill": {
     "duration": 0.076249,
     "end_time": "2020-09-02T04:53:37.773282",
     "exception": false,
     "start_time": "2020-09-02T04:53:37.697033",
     "status": "completed"
    },
    "tags": []
   },
   "outputs": [
    {
     "data": {
      "text/html": [
       "<table border=\"1\" class=\"dataframe\">\n",
       "  <thead>\n",
       "    <tr style=\"text-align: right;\">\n",
       "      <th>Candidate</th>\n",
       "      <th>Raised</th>\n",
       "      <th>Spent</th>\n",
       "      <th>Cash on Hand</th>\n",
       "      <th>Last Report date</th>\n",
       "    </tr>\n",
       "  </thead>\n",
       "  <tbody>\n",
       "    <tr>\n",
       "      <td>CUNNINGHAM, CAL</td>\n",
       "      <td>$7.72M</td>\n",
       "      <td>$4.72M</td>\n",
       "      <td>$3.00M</td>\n",
       "      <td>Mar 31 2020</td>\n",
       "    </tr>\n",
       "    <tr>\n",
       "      <td>TILLIS, THOM R. SEN.</td>\n",
       "      <td>$7.12M</td>\n",
       "      <td>$3.80M</td>\n",
       "      <td>$6.48M</td>\n",
       "      <td>Jun 09 2020</td>\n",
       "    </tr>\n",
       "  </tbody>\n",
       "</table>"
      ],
      "text/plain": [
       "<IPython.core.display.HTML object>"
      ]
     },
     "execution_count": 11,
     "metadata": {},
     "output_type": "execute_result"
    }
   ],
   "source": [
    "from IPython.display import HTML\n",
    "\n",
    "candidates_summary = candidates.groupby('CAND_NAME').agg({'TTL_RECEIPTS_CORRECTED': 'sum',\n",
    "                                                         'TTL_DISB_CORRECTED': 'sum', 'COH_COP': 'sum',\n",
    "                                                         'CVG_END_DT': 'max'}).reset_index()\n",
    "\n",
    "candidates_summary['Raised'] = '$' + candidates_summary['TTL_RECEIPTS_CORRECTED'].map(render_human_format).astype('str')\n",
    "candidates_summary['Spent'] = '$' + candidates_summary['TTL_DISB_CORRECTED'].map(render_human_format).astype('str')\n",
    "\n",
    "candidates_summary['Cash on Hand'] = '$' + candidates_summary['COH_COP'].map(render_human_format).astype('str')\n",
    "candidates_summary['Last Report date'] = pd.to_datetime(candidates_summary['CVG_END_DT']).dt.strftime('%b %d %Y')\n",
    "\n",
    "HTML(candidates_summary.rename(columns={'CAND_NAME': 'Candidate'})[['Candidate', 'Raised', 'Spent', 'Cash on Hand', 'Last Report date']].to_html(index=False))"
   ]
  },
  {
   "cell_type": "code",
   "execution_count": 12,
   "metadata": {
    "_kg_hide-input": true,
    "_kg_hide-output": true,
    "execution": {
     "iopub.execute_input": "2020-09-02T04:53:37.832721Z",
     "iopub.status.busy": "2020-09-02T04:53:37.831711Z",
     "iopub.status.idle": "2020-09-02T04:53:37.837074Z",
     "shell.execute_reply": "2020-09-02T04:53:37.837676Z"
    },
    "papermill": {
     "duration": 0.040756,
     "end_time": "2020-09-02T04:53:37.837852",
     "exception": false,
     "start_time": "2020-09-02T04:53:37.797096",
     "status": "completed"
    },
    "tags": []
   },
   "outputs": [
    {
     "name": "stdout",
     "output_type": "stream",
     "text": [
      "TILLIS, THOM R. SEN.\n"
     ]
    },
    {
     "data": {
      "text/plain": [
       "'CUNNINGHAM, CAL'"
      ]
     },
     "execution_count": 12,
     "metadata": {},
     "output_type": "execute_result"
    }
   ],
   "source": [
    "republican = candidates[candidates['CAND_PTY_AFFILIATION'] == 'REP']['CAND_NAME'].values[0]\n",
    "democrat = candidates[candidates['CAND_PTY_AFFILIATION'] == 'DEM']['CAND_NAME'].values[0]\n",
    "print(republican)\n",
    "democrat"
   ]
  },
  {
   "cell_type": "code",
   "execution_count": 13,
   "metadata": {
    "_kg_hide-input": true,
    "_kg_hide-output": true,
    "execution": {
     "iopub.execute_input": "2020-09-02T04:53:37.903783Z",
     "iopub.status.busy": "2020-09-02T04:53:37.902828Z",
     "iopub.status.idle": "2020-09-02T04:53:37.909683Z",
     "shell.execute_reply": "2020-09-02T04:53:37.908843Z"
    },
    "papermill": {
     "duration": 0.048637,
     "end_time": "2020-09-02T04:53:37.909818",
     "exception": false,
     "start_time": "2020-09-02T04:53:37.861181",
     "status": "completed"
    },
    "tags": []
   },
   "outputs": [
    {
     "name": "stdout",
     "output_type": "stream",
     "text": [
      "{'CUNNINGHAM, CAL': 'blue', 'TILLIS, THOM R. SEN.': 'red'}\n"
     ]
    },
    {
     "data": {
      "text/plain": [
       "{'For CUNNINGHAM, CAL': 'blue',\n",
       " 'Against CUNNINGHAM, CAL': 'lightblue',\n",
       " 'For TILLIS, THOM R. SEN.': 'red',\n",
       " 'Against TILLIS, THOM R. SEN.': 'pink'}"
      ]
     },
     "execution_count": 13,
     "metadata": {},
     "output_type": "execute_result"
    }
   ],
   "source": [
    "candidates['color'] = candidates['CAND_PTY_AFFILIATION'].map({'DEM': 'blue', 'REP': 'red'})\n",
    "candidates['second_color'] = candidates['CAND_PTY_AFFILIATION'].map({'DEM': 'lightblue', 'REP': 'pink'})\n",
    "color_map = dict()\n",
    "secondary_color_map = dict()\n",
    "for row in candidates[['CAND_NAME', 'color', 'second_color']].values:\n",
    "    color_map[row[0]] = row[1]\n",
    "    secondary_color_map[f\"For {row[0]}\"] = row[1]\n",
    "    secondary_color_map[f\"Against {row[0]}\"] = row[2]\n",
    "print(color_map)\n",
    "#candidates.head()\n",
    "secondary_color_map"
   ]
  },
  {
   "cell_type": "code",
   "execution_count": 14,
   "metadata": {
    "_kg_hide-input": true,
    "_kg_hide-output": true,
    "execution": {
     "iopub.execute_input": "2020-09-02T04:53:37.971048Z",
     "iopub.status.busy": "2020-09-02T04:53:37.962918Z",
     "iopub.status.idle": "2020-09-02T04:53:38.121643Z",
     "shell.execute_reply": "2020-09-02T04:53:38.120863Z"
    },
    "papermill": {
     "duration": 0.188369,
     "end_time": "2020-09-02T04:53:38.121796",
     "exception": false,
     "start_time": "2020-09-02T04:53:37.933427",
     "status": "completed"
    },
    "tags": []
   },
   "outputs": [
    {
     "data": {
      "text/plain": [
       "{'Column name': 'Field name',\n",
       " 'CAND_ID': 'Candidate identification',\n",
       " 'CAND_NAME': 'Candidate name',\n",
       " 'CAND_ICI': 'Incumbent challenger status',\n",
       " 'PTY_CD': 'Party code',\n",
       " 'CAND_PTY_AFFILIATION': 'Party affiliation',\n",
       " 'TTL_RECEIPTS': 'Total receipts',\n",
       " 'TRANS_FROM_AUTH': 'Transfers from authorized committees',\n",
       " 'TTL_DISB': 'Total disbursements',\n",
       " 'TRANS_TO_AUTH': 'Transfers to authorized committees',\n",
       " 'COH_BOP': 'Beginning cash',\n",
       " 'COH_COP': 'Ending cash',\n",
       " 'CAND_CONTRIB': 'Contributions from candidate',\n",
       " 'CAND_LOANS': 'Loans from candidate',\n",
       " 'OTHER_LOANS': 'Other loans',\n",
       " 'CAND_LOAN_REPAY': 'Candidate loan repayments',\n",
       " 'OTHER_LOAN_REPAY': 'Other loan repayments',\n",
       " 'DEBTS_OWED_BY': 'Debts owed by',\n",
       " 'TTL_INDIV_CONTRIB': 'Total individual contributions',\n",
       " 'CAND_OFFICE_ST': 'Candidate state',\n",
       " 'CAND_OFFICE_DISTRICT': 'Candidate district',\n",
       " 'SPEC_ELECTION': 'Special election status',\n",
       " 'PRIM_ELECTION': 'Primary election status',\n",
       " 'RUN_ELECTION': 'Runoff election status',\n",
       " 'GEN_ELECTION': 'General election status',\n",
       " 'GEN_ELECTION_PRECENT': 'General election percentage',\n",
       " 'OTHER_POL_CMTE_CONTRIB': 'Contributions from other political committees',\n",
       " 'POL_PTY_CONTRIB': 'Contributions from party committees',\n",
       " 'CVG_END_DT': 'Coverage end date',\n",
       " 'INDIV_REFUNDS': 'Refunds to individuals',\n",
       " 'CMTE_REFUNDS': 'Refunds to committees'}"
      ]
     },
     "execution_count": 14,
     "metadata": {},
     "output_type": "execute_result"
    }
   ],
   "source": [
    "candidates_desc = read_table(\"https://www.fec.gov/campaign-finance-data/all-candidates-file-description/\")\n",
    "candidates_desc = {key.strip():val.strip() for key, val in candidates_desc.items()}\n",
    "candidates_desc"
   ]
  },
  {
   "cell_type": "code",
   "execution_count": 15,
   "metadata": {
    "_kg_hide-input": true,
    "execution": {
     "iopub.execute_input": "2020-09-02T04:53:38.194241Z",
     "iopub.status.busy": "2020-09-02T04:53:38.193273Z",
     "iopub.status.idle": "2020-09-02T04:53:39.292261Z",
     "shell.execute_reply": "2020-09-02T04:53:39.291510Z"
    },
    "papermill": {
     "duration": 1.145522,
     "end_time": "2020-09-02T04:53:39.292407",
     "exception": false,
     "start_time": "2020-09-02T04:53:38.146885",
     "status": "completed"
    },
    "tags": []
   },
   "outputs": [
    {
     "data": {
      "application/vnd.plotly.v1+json": {
       "config": {
        "linkText": "Export to plot.ly",
        "plotlyServerURL": "https://plot.ly",
        "showLink": true
       },
       "data": [
        {
         "marker": {
          "color": "rgba(55, 128, 191, 0.6)",
          "line": {
           "color": "blue",
           "width": 1
          }
         },
         "name": "CUNNINGHAM, CAL",
         "orientation": "v",
         "text": "",
         "type": "bar",
         "x": [
          "Total Receipts",
          "Total Disbursements",
          "Transfers from authorized committees",
          "Beginning cash",
          "Ending cash",
          "Contributions from candidate",
          "Loans from candidate",
          "Other loans",
          "Debts owed by",
          "Total individual contributions",
          "Contributions from party committees",
          "Contributions from other political committees"
         ],
         "y": [
          7716897.31,
          4716418.25,
          756819.84,
          0,
          3000479.06,
          0,
          200000,
          0,
          0,
          6268724.11,
          49600,
          438325
         ]
        },
        {
         "marker": {
          "color": "rgba(219, 64, 82, 0.6)",
          "line": {
           "color": "red",
           "width": 1
          }
         },
         "name": "TILLIS, THOM R. SEN.",
         "orientation": "v",
         "text": "",
         "type": "bar",
         "x": [
          "Total Receipts",
          "Total Disbursements",
          "Transfers from authorized committees",
          "Beginning cash",
          "Ending cash",
          "Contributions from candidate",
          "Loans from candidate",
          "Other loans",
          "Debts owed by",
          "Total individual contributions",
          "Contributions from party committees",
          "Contributions from other political committees"
         ],
         "y": [
          7117252.7,
          3804860.36,
          1152018.96,
          2025444.43,
          6483413.82,
          0,
          0,
          0,
          0,
          4798506.58,
          0,
          2278244.39
         ]
        }
       ],
       "layout": {
        "legend": {
         "bgcolor": "#FFFFFF",
         "font": {
          "color": "#666666"
         }
        },
        "paper_bgcolor": "#FFFFFF",
        "plot_bgcolor": "#E5E5E5",
        "template": {
         "data": {
          "bar": [
           {
            "error_x": {
             "color": "#2a3f5f"
            },
            "error_y": {
             "color": "#2a3f5f"
            },
            "marker": {
             "line": {
              "color": "#E5ECF6",
              "width": 0.5
             },
             "pattern": {
              "fillmode": "overlay",
              "size": 10,
              "solidity": 0.2
             }
            },
            "type": "bar"
           }
          ],
          "barpolar": [
           {
            "marker": {
             "line": {
              "color": "#E5ECF6",
              "width": 0.5
             },
             "pattern": {
              "fillmode": "overlay",
              "size": 10,
              "solidity": 0.2
             }
            },
            "type": "barpolar"
           }
          ],
          "carpet": [
           {
            "aaxis": {
             "endlinecolor": "#2a3f5f",
             "gridcolor": "white",
             "linecolor": "white",
             "minorgridcolor": "white",
             "startlinecolor": "#2a3f5f"
            },
            "baxis": {
             "endlinecolor": "#2a3f5f",
             "gridcolor": "white",
             "linecolor": "white",
             "minorgridcolor": "white",
             "startlinecolor": "#2a3f5f"
            },
            "type": "carpet"
           }
          ],
          "choropleth": [
           {
            "colorbar": {
             "outlinewidth": 0,
             "ticks": ""
            },
            "type": "choropleth"
           }
          ],
          "contour": [
           {
            "colorbar": {
             "outlinewidth": 0,
             "ticks": ""
            },
            "colorscale": [
             [
              0,
              "#0d0887"
             ],
             [
              0.1111111111111111,
              "#46039f"
             ],
             [
              0.2222222222222222,
              "#7201a8"
             ],
             [
              0.3333333333333333,
              "#9c179e"
             ],
             [
              0.4444444444444444,
              "#bd3786"
             ],
             [
              0.5555555555555556,
              "#d8576b"
             ],
             [
              0.6666666666666666,
              "#ed7953"
             ],
             [
              0.7777777777777778,
              "#fb9f3a"
             ],
             [
              0.8888888888888888,
              "#fdca26"
             ],
             [
              1,
              "#f0f921"
             ]
            ],
            "type": "contour"
           }
          ],
          "contourcarpet": [
           {
            "colorbar": {
             "outlinewidth": 0,
             "ticks": ""
            },
            "type": "contourcarpet"
           }
          ],
          "heatmap": [
           {
            "colorbar": {
             "outlinewidth": 0,
             "ticks": ""
            },
            "colorscale": [
             [
              0,
              "#0d0887"
             ],
             [
              0.1111111111111111,
              "#46039f"
             ],
             [
              0.2222222222222222,
              "#7201a8"
             ],
             [
              0.3333333333333333,
              "#9c179e"
             ],
             [
              0.4444444444444444,
              "#bd3786"
             ],
             [
              0.5555555555555556,
              "#d8576b"
             ],
             [
              0.6666666666666666,
              "#ed7953"
             ],
             [
              0.7777777777777778,
              "#fb9f3a"
             ],
             [
              0.8888888888888888,
              "#fdca26"
             ],
             [
              1,
              "#f0f921"
             ]
            ],
            "type": "heatmap"
           }
          ],
          "heatmapgl": [
           {
            "colorbar": {
             "outlinewidth": 0,
             "ticks": ""
            },
            "colorscale": [
             [
              0,
              "#0d0887"
             ],
             [
              0.1111111111111111,
              "#46039f"
             ],
             [
              0.2222222222222222,
              "#7201a8"
             ],
             [
              0.3333333333333333,
              "#9c179e"
             ],
             [
              0.4444444444444444,
              "#bd3786"
             ],
             [
              0.5555555555555556,
              "#d8576b"
             ],
             [
              0.6666666666666666,
              "#ed7953"
             ],
             [
              0.7777777777777778,
              "#fb9f3a"
             ],
             [
              0.8888888888888888,
              "#fdca26"
             ],
             [
              1,
              "#f0f921"
             ]
            ],
            "type": "heatmapgl"
           }
          ],
          "histogram": [
           {
            "marker": {
             "pattern": {
              "fillmode": "overlay",
              "size": 10,
              "solidity": 0.2
             }
            },
            "type": "histogram"
           }
          ],
          "histogram2d": [
           {
            "colorbar": {
             "outlinewidth": 0,
             "ticks": ""
            },
            "colorscale": [
             [
              0,
              "#0d0887"
             ],
             [
              0.1111111111111111,
              "#46039f"
             ],
             [
              0.2222222222222222,
              "#7201a8"
             ],
             [
              0.3333333333333333,
              "#9c179e"
             ],
             [
              0.4444444444444444,
              "#bd3786"
             ],
             [
              0.5555555555555556,
              "#d8576b"
             ],
             [
              0.6666666666666666,
              "#ed7953"
             ],
             [
              0.7777777777777778,
              "#fb9f3a"
             ],
             [
              0.8888888888888888,
              "#fdca26"
             ],
             [
              1,
              "#f0f921"
             ]
            ],
            "type": "histogram2d"
           }
          ],
          "histogram2dcontour": [
           {
            "colorbar": {
             "outlinewidth": 0,
             "ticks": ""
            },
            "colorscale": [
             [
              0,
              "#0d0887"
             ],
             [
              0.1111111111111111,
              "#46039f"
             ],
             [
              0.2222222222222222,
              "#7201a8"
             ],
             [
              0.3333333333333333,
              "#9c179e"
             ],
             [
              0.4444444444444444,
              "#bd3786"
             ],
             [
              0.5555555555555556,
              "#d8576b"
             ],
             [
              0.6666666666666666,
              "#ed7953"
             ],
             [
              0.7777777777777778,
              "#fb9f3a"
             ],
             [
              0.8888888888888888,
              "#fdca26"
             ],
             [
              1,
              "#f0f921"
             ]
            ],
            "type": "histogram2dcontour"
           }
          ],
          "mesh3d": [
           {
            "colorbar": {
             "outlinewidth": 0,
             "ticks": ""
            },
            "type": "mesh3d"
           }
          ],
          "parcoords": [
           {
            "line": {
             "colorbar": {
              "outlinewidth": 0,
              "ticks": ""
             }
            },
            "type": "parcoords"
           }
          ],
          "pie": [
           {
            "automargin": true,
            "type": "pie"
           }
          ],
          "scatter": [
           {
            "fillpattern": {
             "fillmode": "overlay",
             "size": 10,
             "solidity": 0.2
            },
            "type": "scatter"
           }
          ],
          "scatter3d": [
           {
            "line": {
             "colorbar": {
              "outlinewidth": 0,
              "ticks": ""
             }
            },
            "marker": {
             "colorbar": {
              "outlinewidth": 0,
              "ticks": ""
             }
            },
            "type": "scatter3d"
           }
          ],
          "scattercarpet": [
           {
            "marker": {
             "colorbar": {
              "outlinewidth": 0,
              "ticks": ""
             }
            },
            "type": "scattercarpet"
           }
          ],
          "scattergeo": [
           {
            "marker": {
             "colorbar": {
              "outlinewidth": 0,
              "ticks": ""
             }
            },
            "type": "scattergeo"
           }
          ],
          "scattergl": [
           {
            "marker": {
             "colorbar": {
              "outlinewidth": 0,
              "ticks": ""
             }
            },
            "type": "scattergl"
           }
          ],
          "scattermapbox": [
           {
            "marker": {
             "colorbar": {
              "outlinewidth": 0,
              "ticks": ""
             }
            },
            "type": "scattermapbox"
           }
          ],
          "scatterpolar": [
           {
            "marker": {
             "colorbar": {
              "outlinewidth": 0,
              "ticks": ""
             }
            },
            "type": "scatterpolar"
           }
          ],
          "scatterpolargl": [
           {
            "marker": {
             "colorbar": {
              "outlinewidth": 0,
              "ticks": ""
             }
            },
            "type": "scatterpolargl"
           }
          ],
          "scatterternary": [
           {
            "marker": {
             "colorbar": {
              "outlinewidth": 0,
              "ticks": ""
             }
            },
            "type": "scatterternary"
           }
          ],
          "surface": [
           {
            "colorbar": {
             "outlinewidth": 0,
             "ticks": ""
            },
            "colorscale": [
             [
              0,
              "#0d0887"
             ],
             [
              0.1111111111111111,
              "#46039f"
             ],
             [
              0.2222222222222222,
              "#7201a8"
             ],
             [
              0.3333333333333333,
              "#9c179e"
             ],
             [
              0.4444444444444444,
              "#bd3786"
             ],
             [
              0.5555555555555556,
              "#d8576b"
             ],
             [
              0.6666666666666666,
              "#ed7953"
             ],
             [
              0.7777777777777778,
              "#fb9f3a"
             ],
             [
              0.8888888888888888,
              "#fdca26"
             ],
             [
              1,
              "#f0f921"
             ]
            ],
            "type": "surface"
           }
          ],
          "table": [
           {
            "cells": {
             "fill": {
              "color": "#EBF0F8"
             },
             "line": {
              "color": "white"
             }
            },
            "header": {
             "fill": {
              "color": "#C8D4E3"
             },
             "line": {
              "color": "white"
             }
            },
            "type": "table"
           }
          ]
         },
         "layout": {
          "annotationdefaults": {
           "arrowcolor": "#2a3f5f",
           "arrowhead": 0,
           "arrowwidth": 1
          },
          "autotypenumbers": "strict",
          "coloraxis": {
           "colorbar": {
            "outlinewidth": 0,
            "ticks": ""
           }
          },
          "colorscale": {
           "diverging": [
            [
             0,
             "#8e0152"
            ],
            [
             0.1,
             "#c51b7d"
            ],
            [
             0.2,
             "#de77ae"
            ],
            [
             0.3,
             "#f1b6da"
            ],
            [
             0.4,
             "#fde0ef"
            ],
            [
             0.5,
             "#f7f7f7"
            ],
            [
             0.6,
             "#e6f5d0"
            ],
            [
             0.7,
             "#b8e186"
            ],
            [
             0.8,
             "#7fbc41"
            ],
            [
             0.9,
             "#4d9221"
            ],
            [
             1,
             "#276419"
            ]
           ],
           "sequential": [
            [
             0,
             "#0d0887"
            ],
            [
             0.1111111111111111,
             "#46039f"
            ],
            [
             0.2222222222222222,
             "#7201a8"
            ],
            [
             0.3333333333333333,
             "#9c179e"
            ],
            [
             0.4444444444444444,
             "#bd3786"
            ],
            [
             0.5555555555555556,
             "#d8576b"
            ],
            [
             0.6666666666666666,
             "#ed7953"
            ],
            [
             0.7777777777777778,
             "#fb9f3a"
            ],
            [
             0.8888888888888888,
             "#fdca26"
            ],
            [
             1,
             "#f0f921"
            ]
           ],
           "sequentialminus": [
            [
             0,
             "#0d0887"
            ],
            [
             0.1111111111111111,
             "#46039f"
            ],
            [
             0.2222222222222222,
             "#7201a8"
            ],
            [
             0.3333333333333333,
             "#9c179e"
            ],
            [
             0.4444444444444444,
             "#bd3786"
            ],
            [
             0.5555555555555556,
             "#d8576b"
            ],
            [
             0.6666666666666666,
             "#ed7953"
            ],
            [
             0.7777777777777778,
             "#fb9f3a"
            ],
            [
             0.8888888888888888,
             "#fdca26"
            ],
            [
             1,
             "#f0f921"
            ]
           ]
          },
          "colorway": [
           "#636efa",
           "#EF553B",
           "#00cc96",
           "#ab63fa",
           "#FFA15A",
           "#19d3f3",
           "#FF6692",
           "#B6E880",
           "#FF97FF",
           "#FECB52"
          ],
          "font": {
           "color": "#2a3f5f"
          },
          "geo": {
           "bgcolor": "white",
           "lakecolor": "white",
           "landcolor": "#E5ECF6",
           "showlakes": true,
           "showland": true,
           "subunitcolor": "white"
          },
          "hoverlabel": {
           "align": "left"
          },
          "hovermode": "closest",
          "mapbox": {
           "style": "light"
          },
          "paper_bgcolor": "white",
          "plot_bgcolor": "#E5ECF6",
          "polar": {
           "angularaxis": {
            "gridcolor": "white",
            "linecolor": "white",
            "ticks": ""
           },
           "bgcolor": "#E5ECF6",
           "radialaxis": {
            "gridcolor": "white",
            "linecolor": "white",
            "ticks": ""
           }
          },
          "scene": {
           "xaxis": {
            "backgroundcolor": "#E5ECF6",
            "gridcolor": "white",
            "gridwidth": 2,
            "linecolor": "white",
            "showbackground": true,
            "ticks": "",
            "zerolinecolor": "white"
           },
           "yaxis": {
            "backgroundcolor": "#E5ECF6",
            "gridcolor": "white",
            "gridwidth": 2,
            "linecolor": "white",
            "showbackground": true,
            "ticks": "",
            "zerolinecolor": "white"
           },
           "zaxis": {
            "backgroundcolor": "#E5ECF6",
            "gridcolor": "white",
            "gridwidth": 2,
            "linecolor": "white",
            "showbackground": true,
            "ticks": "",
            "zerolinecolor": "white"
           }
          },
          "shapedefaults": {
           "line": {
            "color": "#2a3f5f"
           }
          },
          "ternary": {
           "aaxis": {
            "gridcolor": "white",
            "linecolor": "white",
            "ticks": ""
           },
           "baxis": {
            "gridcolor": "white",
            "linecolor": "white",
            "ticks": ""
           },
           "bgcolor": "#E5ECF6",
           "caxis": {
            "gridcolor": "white",
            "linecolor": "white",
            "ticks": ""
           }
          },
          "title": {
           "x": 0.05
          },
          "xaxis": {
           "automargin": true,
           "gridcolor": "white",
           "linecolor": "white",
           "ticks": "",
           "title": {
            "standoff": 15
           },
           "zerolinecolor": "white",
           "zerolinewidth": 2
          },
          "yaxis": {
           "automargin": true,
           "gridcolor": "white",
           "linecolor": "white",
           "ticks": "",
           "title": {
            "standoff": 15
           },
           "zerolinecolor": "white",
           "zerolinewidth": 2
          }
         }
        },
        "title": {
         "font": {
          "color": "#151516"
         },
         "text": "Campaign finance summary"
        },
        "xaxis": {
         "gridcolor": "#F6F6F6",
         "showgrid": true,
         "tickfont": {
          "color": "#666666"
         },
         "title": {
          "font": {
           "color": "#666666"
          },
          "text": ""
         },
         "zerolinecolor": "#F6F6F6"
        },
        "yaxis": {
         "gridcolor": "#F6F6F6",
         "showgrid": true,
         "tickfont": {
          "color": "#666666"
         },
         "title": {
          "font": {
           "color": "#666666"
          },
          "text": ""
         },
         "zerolinecolor": "#F6F6F6"
        }
       }
      },
      "text/html": [
       "<div>                            <div id=\"31fc24ba-c1c2-4c4c-967b-7c200d0dde88\" class=\"plotly-graph-div\" style=\"height:525px; width:100%;\"></div>            <script type=\"text/javascript\">                require([\"plotly\"], function(Plotly) {                    window.PLOTLYENV=window.PLOTLYENV || {};\n",
       "                    window.PLOTLYENV.BASE_URL='https://plot.ly';                                    if (document.getElementById(\"31fc24ba-c1c2-4c4c-967b-7c200d0dde88\")) {                    Plotly.newPlot(                        \"31fc24ba-c1c2-4c4c-967b-7c200d0dde88\",                        [{\"marker\":{\"color\":\"rgba(55, 128, 191, 0.6)\",\"line\":{\"color\":\"blue\",\"width\":1}},\"name\":\"CUNNINGHAM, CAL\",\"orientation\":\"v\",\"text\":\"\",\"x\":[\"Total Receipts\",\"Total Disbursements\",\"Transfers from authorized committees\",\"Beginning cash\",\"Ending cash\",\"Contributions from candidate\",\"Loans from candidate\",\"Other loans\",\"Debts owed by\",\"Total individual contributions\",\"Contributions from party committees\",\"Contributions from other political committees\"],\"y\":[7716897.31,4716418.25,756819.84,0.0,3000479.06,0.0,200000.0,0.0,0.0,6268724.11,49600.0,438325.0],\"type\":\"bar\"},{\"marker\":{\"color\":\"rgba(219, 64, 82, 0.6)\",\"line\":{\"color\":\"red\",\"width\":1}},\"name\":\"TILLIS, THOM R. SEN.\",\"orientation\":\"v\",\"text\":\"\",\"x\":[\"Total Receipts\",\"Total Disbursements\",\"Transfers from authorized committees\",\"Beginning cash\",\"Ending cash\",\"Contributions from candidate\",\"Loans from candidate\",\"Other loans\",\"Debts owed by\",\"Total individual contributions\",\"Contributions from party committees\",\"Contributions from other political committees\"],\"y\":[7117252.7,3804860.36,1152018.96,2025444.43,6483413.82,0.0,0.0,0.0,0.0,4798506.58,0.0,2278244.39],\"type\":\"bar\"}],                        {\"legend\":{\"bgcolor\":\"#FFFFFF\",\"font\":{\"color\":\"#666666\"}},\"paper_bgcolor\":\"#FFFFFF\",\"plot_bgcolor\":\"#E5E5E5\",\"template\":{\"data\":{\"barpolar\":[{\"marker\":{\"line\":{\"color\":\"#E5ECF6\",\"width\":0.5},\"pattern\":{\"fillmode\":\"overlay\",\"size\":10,\"solidity\":0.2}},\"type\":\"barpolar\"}],\"bar\":[{\"error_x\":{\"color\":\"#2a3f5f\"},\"error_y\":{\"color\":\"#2a3f5f\"},\"marker\":{\"line\":{\"color\":\"#E5ECF6\",\"width\":0.5},\"pattern\":{\"fillmode\":\"overlay\",\"size\":10,\"solidity\":0.2}},\"type\":\"bar\"}],\"carpet\":[{\"aaxis\":{\"endlinecolor\":\"#2a3f5f\",\"gridcolor\":\"white\",\"linecolor\":\"white\",\"minorgridcolor\":\"white\",\"startlinecolor\":\"#2a3f5f\"},\"baxis\":{\"endlinecolor\":\"#2a3f5f\",\"gridcolor\":\"white\",\"linecolor\":\"white\",\"minorgridcolor\":\"white\",\"startlinecolor\":\"#2a3f5f\"},\"type\":\"carpet\"}],\"choropleth\":[{\"colorbar\":{\"outlinewidth\":0,\"ticks\":\"\"},\"type\":\"choropleth\"}],\"contourcarpet\":[{\"colorbar\":{\"outlinewidth\":0,\"ticks\":\"\"},\"type\":\"contourcarpet\"}],\"contour\":[{\"colorbar\":{\"outlinewidth\":0,\"ticks\":\"\"},\"colorscale\":[[0.0,\"#0d0887\"],[0.1111111111111111,\"#46039f\"],[0.2222222222222222,\"#7201a8\"],[0.3333333333333333,\"#9c179e\"],[0.4444444444444444,\"#bd3786\"],[0.5555555555555556,\"#d8576b\"],[0.6666666666666666,\"#ed7953\"],[0.7777777777777778,\"#fb9f3a\"],[0.8888888888888888,\"#fdca26\"],[1.0,\"#f0f921\"]],\"type\":\"contour\"}],\"heatmapgl\":[{\"colorbar\":{\"outlinewidth\":0,\"ticks\":\"\"},\"colorscale\":[[0.0,\"#0d0887\"],[0.1111111111111111,\"#46039f\"],[0.2222222222222222,\"#7201a8\"],[0.3333333333333333,\"#9c179e\"],[0.4444444444444444,\"#bd3786\"],[0.5555555555555556,\"#d8576b\"],[0.6666666666666666,\"#ed7953\"],[0.7777777777777778,\"#fb9f3a\"],[0.8888888888888888,\"#fdca26\"],[1.0,\"#f0f921\"]],\"type\":\"heatmapgl\"}],\"heatmap\":[{\"colorbar\":{\"outlinewidth\":0,\"ticks\":\"\"},\"colorscale\":[[0.0,\"#0d0887\"],[0.1111111111111111,\"#46039f\"],[0.2222222222222222,\"#7201a8\"],[0.3333333333333333,\"#9c179e\"],[0.4444444444444444,\"#bd3786\"],[0.5555555555555556,\"#d8576b\"],[0.6666666666666666,\"#ed7953\"],[0.7777777777777778,\"#fb9f3a\"],[0.8888888888888888,\"#fdca26\"],[1.0,\"#f0f921\"]],\"type\":\"heatmap\"}],\"histogram2dcontour\":[{\"colorbar\":{\"outlinewidth\":0,\"ticks\":\"\"},\"colorscale\":[[0.0,\"#0d0887\"],[0.1111111111111111,\"#46039f\"],[0.2222222222222222,\"#7201a8\"],[0.3333333333333333,\"#9c179e\"],[0.4444444444444444,\"#bd3786\"],[0.5555555555555556,\"#d8576b\"],[0.6666666666666666,\"#ed7953\"],[0.7777777777777778,\"#fb9f3a\"],[0.8888888888888888,\"#fdca26\"],[1.0,\"#f0f921\"]],\"type\":\"histogram2dcontour\"}],\"histogram2d\":[{\"colorbar\":{\"outlinewidth\":0,\"ticks\":\"\"},\"colorscale\":[[0.0,\"#0d0887\"],[0.1111111111111111,\"#46039f\"],[0.2222222222222222,\"#7201a8\"],[0.3333333333333333,\"#9c179e\"],[0.4444444444444444,\"#bd3786\"],[0.5555555555555556,\"#d8576b\"],[0.6666666666666666,\"#ed7953\"],[0.7777777777777778,\"#fb9f3a\"],[0.8888888888888888,\"#fdca26\"],[1.0,\"#f0f921\"]],\"type\":\"histogram2d\"}],\"histogram\":[{\"marker\":{\"pattern\":{\"fillmode\":\"overlay\",\"size\":10,\"solidity\":0.2}},\"type\":\"histogram\"}],\"mesh3d\":[{\"colorbar\":{\"outlinewidth\":0,\"ticks\":\"\"},\"type\":\"mesh3d\"}],\"parcoords\":[{\"line\":{\"colorbar\":{\"outlinewidth\":0,\"ticks\":\"\"}},\"type\":\"parcoords\"}],\"pie\":[{\"automargin\":true,\"type\":\"pie\"}],\"scatter3d\":[{\"line\":{\"colorbar\":{\"outlinewidth\":0,\"ticks\":\"\"}},\"marker\":{\"colorbar\":{\"outlinewidth\":0,\"ticks\":\"\"}},\"type\":\"scatter3d\"}],\"scattercarpet\":[{\"marker\":{\"colorbar\":{\"outlinewidth\":0,\"ticks\":\"\"}},\"type\":\"scattercarpet\"}],\"scattergeo\":[{\"marker\":{\"colorbar\":{\"outlinewidth\":0,\"ticks\":\"\"}},\"type\":\"scattergeo\"}],\"scattergl\":[{\"marker\":{\"colorbar\":{\"outlinewidth\":0,\"ticks\":\"\"}},\"type\":\"scattergl\"}],\"scattermapbox\":[{\"marker\":{\"colorbar\":{\"outlinewidth\":0,\"ticks\":\"\"}},\"type\":\"scattermapbox\"}],\"scatterpolargl\":[{\"marker\":{\"colorbar\":{\"outlinewidth\":0,\"ticks\":\"\"}},\"type\":\"scatterpolargl\"}],\"scatterpolar\":[{\"marker\":{\"colorbar\":{\"outlinewidth\":0,\"ticks\":\"\"}},\"type\":\"scatterpolar\"}],\"scatter\":[{\"fillpattern\":{\"fillmode\":\"overlay\",\"size\":10,\"solidity\":0.2},\"type\":\"scatter\"}],\"scatterternary\":[{\"marker\":{\"colorbar\":{\"outlinewidth\":0,\"ticks\":\"\"}},\"type\":\"scatterternary\"}],\"surface\":[{\"colorbar\":{\"outlinewidth\":0,\"ticks\":\"\"},\"colorscale\":[[0.0,\"#0d0887\"],[0.1111111111111111,\"#46039f\"],[0.2222222222222222,\"#7201a8\"],[0.3333333333333333,\"#9c179e\"],[0.4444444444444444,\"#bd3786\"],[0.5555555555555556,\"#d8576b\"],[0.6666666666666666,\"#ed7953\"],[0.7777777777777778,\"#fb9f3a\"],[0.8888888888888888,\"#fdca26\"],[1.0,\"#f0f921\"]],\"type\":\"surface\"}],\"table\":[{\"cells\":{\"fill\":{\"color\":\"#EBF0F8\"},\"line\":{\"color\":\"white\"}},\"header\":{\"fill\":{\"color\":\"#C8D4E3\"},\"line\":{\"color\":\"white\"}},\"type\":\"table\"}]},\"layout\":{\"annotationdefaults\":{\"arrowcolor\":\"#2a3f5f\",\"arrowhead\":0,\"arrowwidth\":1},\"autotypenumbers\":\"strict\",\"coloraxis\":{\"colorbar\":{\"outlinewidth\":0,\"ticks\":\"\"}},\"colorscale\":{\"diverging\":[[0,\"#8e0152\"],[0.1,\"#c51b7d\"],[0.2,\"#de77ae\"],[0.3,\"#f1b6da\"],[0.4,\"#fde0ef\"],[0.5,\"#f7f7f7\"],[0.6,\"#e6f5d0\"],[0.7,\"#b8e186\"],[0.8,\"#7fbc41\"],[0.9,\"#4d9221\"],[1,\"#276419\"]],\"sequential\":[[0.0,\"#0d0887\"],[0.1111111111111111,\"#46039f\"],[0.2222222222222222,\"#7201a8\"],[0.3333333333333333,\"#9c179e\"],[0.4444444444444444,\"#bd3786\"],[0.5555555555555556,\"#d8576b\"],[0.6666666666666666,\"#ed7953\"],[0.7777777777777778,\"#fb9f3a\"],[0.8888888888888888,\"#fdca26\"],[1.0,\"#f0f921\"]],\"sequentialminus\":[[0.0,\"#0d0887\"],[0.1111111111111111,\"#46039f\"],[0.2222222222222222,\"#7201a8\"],[0.3333333333333333,\"#9c179e\"],[0.4444444444444444,\"#bd3786\"],[0.5555555555555556,\"#d8576b\"],[0.6666666666666666,\"#ed7953\"],[0.7777777777777778,\"#fb9f3a\"],[0.8888888888888888,\"#fdca26\"],[1.0,\"#f0f921\"]]},\"colorway\":[\"#636efa\",\"#EF553B\",\"#00cc96\",\"#ab63fa\",\"#FFA15A\",\"#19d3f3\",\"#FF6692\",\"#B6E880\",\"#FF97FF\",\"#FECB52\"],\"font\":{\"color\":\"#2a3f5f\"},\"geo\":{\"bgcolor\":\"white\",\"lakecolor\":\"white\",\"landcolor\":\"#E5ECF6\",\"showlakes\":true,\"showland\":true,\"subunitcolor\":\"white\"},\"hoverlabel\":{\"align\":\"left\"},\"hovermode\":\"closest\",\"mapbox\":{\"style\":\"light\"},\"paper_bgcolor\":\"white\",\"plot_bgcolor\":\"#E5ECF6\",\"polar\":{\"angularaxis\":{\"gridcolor\":\"white\",\"linecolor\":\"white\",\"ticks\":\"\"},\"bgcolor\":\"#E5ECF6\",\"radialaxis\":{\"gridcolor\":\"white\",\"linecolor\":\"white\",\"ticks\":\"\"}},\"scene\":{\"xaxis\":{\"backgroundcolor\":\"#E5ECF6\",\"gridcolor\":\"white\",\"gridwidth\":2,\"linecolor\":\"white\",\"showbackground\":true,\"ticks\":\"\",\"zerolinecolor\":\"white\"},\"yaxis\":{\"backgroundcolor\":\"#E5ECF6\",\"gridcolor\":\"white\",\"gridwidth\":2,\"linecolor\":\"white\",\"showbackground\":true,\"ticks\":\"\",\"zerolinecolor\":\"white\"},\"zaxis\":{\"backgroundcolor\":\"#E5ECF6\",\"gridcolor\":\"white\",\"gridwidth\":2,\"linecolor\":\"white\",\"showbackground\":true,\"ticks\":\"\",\"zerolinecolor\":\"white\"}},\"shapedefaults\":{\"line\":{\"color\":\"#2a3f5f\"}},\"ternary\":{\"aaxis\":{\"gridcolor\":\"white\",\"linecolor\":\"white\",\"ticks\":\"\"},\"baxis\":{\"gridcolor\":\"white\",\"linecolor\":\"white\",\"ticks\":\"\"},\"bgcolor\":\"#E5ECF6\",\"caxis\":{\"gridcolor\":\"white\",\"linecolor\":\"white\",\"ticks\":\"\"}},\"title\":{\"x\":0.05},\"xaxis\":{\"automargin\":true,\"gridcolor\":\"white\",\"linecolor\":\"white\",\"ticks\":\"\",\"title\":{\"standoff\":15},\"zerolinecolor\":\"white\",\"zerolinewidth\":2},\"yaxis\":{\"automargin\":true,\"gridcolor\":\"white\",\"linecolor\":\"white\",\"ticks\":\"\",\"title\":{\"standoff\":15},\"zerolinecolor\":\"white\",\"zerolinewidth\":2}}},\"title\":{\"font\":{\"color\":\"#151516\"},\"text\":\"Campaign finance summary\"},\"xaxis\":{\"gridcolor\":\"#F6F6F6\",\"showgrid\":true,\"tickfont\":{\"color\":\"#666666\"},\"title\":{\"font\":{\"color\":\"#666666\"},\"text\":\"\"},\"zerolinecolor\":\"#F6F6F6\"},\"yaxis\":{\"gridcolor\":\"#F6F6F6\",\"showgrid\":true,\"tickfont\":{\"color\":\"#666666\"},\"title\":{\"font\":{\"color\":\"#666666\"},\"text\":\"\"},\"zerolinecolor\":\"#F6F6F6\"}},                        {\"showLink\": true, \"linkText\": \"Export to plot.ly\", \"plotlyServerURL\": \"https://plot.ly\", \"responsive\": true}                    ).then(function(){\n",
       "                            \n",
       "var gd = document.getElementById('31fc24ba-c1c2-4c4c-967b-7c200d0dde88');\n",
       "var x = new MutationObserver(function (mutations, observer) {{\n",
       "        var display = window.getComputedStyle(gd).display;\n",
       "        if (!display || display === 'none') {{\n",
       "            console.log([gd, 'removed!']);\n",
       "            Plotly.purge(gd);\n",
       "            observer.disconnect();\n",
       "        }}\n",
       "}});\n",
       "\n",
       "// Listen for the removal of the full notebook cells\n",
       "var notebookContainer = gd.closest('#notebook-container');\n",
       "if (notebookContainer) {{\n",
       "    x.observe(notebookContainer, {childList: true});\n",
       "}}\n",
       "\n",
       "// Listen for the clearing of the current output cell\n",
       "var outputEl = gd.closest('.output');\n",
       "if (outputEl) {{\n",
       "    x.observe(outputEl, {childList: true});\n",
       "}}\n",
       "\n",
       "                        })                };                });            </script>        </div>"
      ]
     },
     "metadata": {},
     "output_type": "display_data"
    }
   ],
   "source": [
    "candidates_desc.update({'TTL_RECEIPTS_CORRECTED': 'Total Receipts', 'TTL_DISB_CORRECTED': 'Total Disbursements'})\n",
    "camp_finance_summary_cols = ['TTL_RECEIPTS_CORRECTED', 'TTL_DISB_CORRECTED', 'TRANS_FROM_AUTH', 'COH_BOP', 'COH_COP', 'CAND_CONTRIB', 'CAND_LOANS', 'OTHER_LOANS', 'DEBTS_OWED_BY', 'TTL_INDIV_CONTRIB', 'POL_PTY_CONTRIB', 'OTHER_POL_CMTE_CONTRIB']\n",
    "\n",
    "focused_candidates = candidates.groupby('CAND_NAME').agg({x: 'sum' for x in camp_finance_summary_cols}).reset_index()\n",
    "total_finance = focused_candidates.set_index('CAND_NAME')[camp_finance_summary_cols].transpose()\n",
    "total_finance = total_finance.rename(candidates_desc)\n",
    "total_finance.iplot(kind='bar', title='Campaign finance summary', colors=color_map)"
   ]
  },
  {
   "cell_type": "markdown",
   "metadata": {
    "papermill": {
     "duration": 0.031743,
     "end_time": "2020-09-02T04:53:39.421364",
     "exception": false,
     "start_time": "2020-09-02T04:53:39.389621",
     "status": "completed"
    },
    "tags": []
   },
   "source": [
    "## Contributions & expenditures from committees"
   ]
  },
  {
   "cell_type": "code",
   "execution_count": 16,
   "metadata": {
    "_kg_hide-input": true,
    "_kg_hide-output": false,
    "execution": {
     "iopub.execute_input": "2020-09-02T04:53:39.493155Z",
     "iopub.status.busy": "2020-09-02T04:53:39.492295Z",
     "iopub.status.idle": "2020-09-02T04:53:40.621624Z",
     "shell.execute_reply": "2020-09-02T04:53:40.622251Z"
    },
    "papermill": {
     "duration": 1.168771,
     "end_time": "2020-09-02T04:53:40.622440",
     "exception": false,
     "start_time": "2020-09-02T04:53:39.453669",
     "status": "completed"
    },
    "tags": []
   },
   "outputs": [
    {
     "name": "stderr",
     "output_type": "stream",
     "text": [
      "/Users/sahluwalia/acre/lib/python3.7/site-packages/IPython/core/interactiveshell.py:3257: DtypeWarning:\n",
      "\n",
      "Columns (11,12) have mixed types.Specify dtype option on import or set low_memory=False.\n",
      "\n"
     ]
    },
    {
     "data": {
      "text/html": [
       "<div>\n",
       "<style scoped>\n",
       "    .dataframe tbody tr th:only-of-type {\n",
       "        vertical-align: middle;\n",
       "    }\n",
       "\n",
       "    .dataframe tbody tr th {\n",
       "        vertical-align: top;\n",
       "    }\n",
       "\n",
       "    .dataframe thead th {\n",
       "        text-align: right;\n",
       "    }\n",
       "</style>\n",
       "<table border=\"1\" class=\"dataframe\">\n",
       "  <thead>\n",
       "    <tr style=\"text-align: right;\">\n",
       "      <th></th>\n",
       "      <th>CMTE_ID</th>\n",
       "      <th>AMNDT_IND</th>\n",
       "      <th>RPT_TP</th>\n",
       "      <th>TRANSACTION_PGI</th>\n",
       "      <th>IMAGE_NUM</th>\n",
       "      <th>TRANSACTION_TP</th>\n",
       "      <th>ENTITY_TP</th>\n",
       "      <th>NAME</th>\n",
       "      <th>CITY</th>\n",
       "      <th>STATE</th>\n",
       "      <th>ZIP_CODE</th>\n",
       "      <th>EMPLOYER</th>\n",
       "      <th>OCCUPATION</th>\n",
       "      <th>TRANSACTION_DT</th>\n",
       "      <th>TRANSACTION_AMT</th>\n",
       "      <th>OTHER_ID</th>\n",
       "      <th>CAND_ID</th>\n",
       "      <th>TRAN_ID</th>\n",
       "      <th>FILE_NUM</th>\n",
       "      <th>MEMO_CD</th>\n",
       "      <th>MEMO_TEXT</th>\n",
       "      <th>SUB_ID</th>\n",
       "    </tr>\n",
       "  </thead>\n",
       "  <tbody>\n",
       "    <tr>\n",
       "      <th>0</th>\n",
       "      <td>C00567180</td>\n",
       "      <td>T</td>\n",
       "      <td>TER</td>\n",
       "      <td>P2020</td>\n",
       "      <td>201901099143774199</td>\n",
       "      <td>24K</td>\n",
       "      <td>PAC</td>\n",
       "      <td>TED YOHO FOR CONGRESS</td>\n",
       "      <td>GAINESVILLE</td>\n",
       "      <td>FL</td>\n",
       "      <td>32608.0</td>\n",
       "      <td>NaN</td>\n",
       "      <td>NaN</td>\n",
       "      <td>1082019.0</td>\n",
       "      <td>1880</td>\n",
       "      <td>C00494583</td>\n",
       "      <td>H2FL06109</td>\n",
       "      <td>SB23.4447</td>\n",
       "      <td>1303604</td>\n",
       "      <td>NaN</td>\n",
       "      <td>NaN</td>\n",
       "      <td>4021920191640423011</td>\n",
       "    </tr>\n",
       "    <tr>\n",
       "      <th>1</th>\n",
       "      <td>C00104885</td>\n",
       "      <td>A</td>\n",
       "      <td>TER</td>\n",
       "      <td>G2020</td>\n",
       "      <td>201901289144031511</td>\n",
       "      <td>24K</td>\n",
       "      <td>CCM</td>\n",
       "      <td>TEAM GRAHAM INC</td>\n",
       "      <td>COLUMBIA</td>\n",
       "      <td>SC</td>\n",
       "      <td>29202.0</td>\n",
       "      <td>NaN</td>\n",
       "      <td>NaN</td>\n",
       "      <td>12202018.0</td>\n",
       "      <td>3000</td>\n",
       "      <td>C00458828</td>\n",
       "      <td>H4SC03087</td>\n",
       "      <td>SB23.17757</td>\n",
       "      <td>1307636</td>\n",
       "      <td>NaN</td>\n",
       "      <td>NaN</td>\n",
       "      <td>4022220191643444985</td>\n",
       "    </tr>\n",
       "    <tr>\n",
       "      <th>2</th>\n",
       "      <td>C00104885</td>\n",
       "      <td>A</td>\n",
       "      <td>TER</td>\n",
       "      <td>P2022</td>\n",
       "      <td>201901289144031512</td>\n",
       "      <td>24K</td>\n",
       "      <td>CCM</td>\n",
       "      <td>TIM SCOTT FOR SENATE</td>\n",
       "      <td>CHARLESTON</td>\n",
       "      <td>SC</td>\n",
       "      <td>29407.0</td>\n",
       "      <td>NaN</td>\n",
       "      <td>NaN</td>\n",
       "      <td>12202018.0</td>\n",
       "      <td>1000</td>\n",
       "      <td>C00540302</td>\n",
       "      <td>H0SC01279</td>\n",
       "      <td>SB23.17756</td>\n",
       "      <td>1307636</td>\n",
       "      <td>NaN</td>\n",
       "      <td>NaN</td>\n",
       "      <td>4022220191643444987</td>\n",
       "    </tr>\n",
       "    <tr>\n",
       "      <th>3</th>\n",
       "      <td>C00104885</td>\n",
       "      <td>A</td>\n",
       "      <td>TER</td>\n",
       "      <td>P2020</td>\n",
       "      <td>201901289144031511</td>\n",
       "      <td>24K</td>\n",
       "      <td>CCM</td>\n",
       "      <td>FRIENDS OF JIM CLYBURN</td>\n",
       "      <td>COLUMBIA</td>\n",
       "      <td>SC</td>\n",
       "      <td>29211.0</td>\n",
       "      <td>NaN</td>\n",
       "      <td>NaN</td>\n",
       "      <td>1072019.0</td>\n",
       "      <td>470</td>\n",
       "      <td>C00255562</td>\n",
       "      <td>H2SC02042</td>\n",
       "      <td>SB23.17755</td>\n",
       "      <td>1307636</td>\n",
       "      <td>NaN</td>\n",
       "      <td>NaN</td>\n",
       "      <td>4022220191643444981</td>\n",
       "    </tr>\n",
       "    <tr>\n",
       "      <th>4</th>\n",
       "      <td>C00688408</td>\n",
       "      <td>T</td>\n",
       "      <td>TER</td>\n",
       "      <td>G2018</td>\n",
       "      <td>201901319144305867</td>\n",
       "      <td>24E</td>\n",
       "      <td>ORG</td>\n",
       "      <td>JACKSON ADVOCATE</td>\n",
       "      <td>JACKSON</td>\n",
       "      <td>MS</td>\n",
       "      <td>39207.0</td>\n",
       "      <td>NaN</td>\n",
       "      <td>NaN</td>\n",
       "      <td>12122018.0</td>\n",
       "      <td>1000</td>\n",
       "      <td>S8MS00287</td>\n",
       "      <td>S8MS00287</td>\n",
       "      <td>SE.4233</td>\n",
       "      <td>1310906</td>\n",
       "      <td>NaN</td>\n",
       "      <td>NaN</td>\n",
       "      <td>4022420191643632157</td>\n",
       "    </tr>\n",
       "  </tbody>\n",
       "</table>\n",
       "</div>"
      ],
      "text/plain": [
       "     CMTE_ID AMNDT_IND RPT_TP TRANSACTION_PGI           IMAGE_NUM  \\\n",
       "0  C00567180         T    TER           P2020  201901099143774199   \n",
       "1  C00104885         A    TER           G2020  201901289144031511   \n",
       "2  C00104885         A    TER           P2022  201901289144031512   \n",
       "3  C00104885         A    TER           P2020  201901289144031511   \n",
       "4  C00688408         T    TER           G2018  201901319144305867   \n",
       "\n",
       "  TRANSACTION_TP ENTITY_TP                    NAME         CITY STATE  \\\n",
       "0            24K       PAC   TED YOHO FOR CONGRESS  GAINESVILLE    FL   \n",
       "1            24K       CCM         TEAM GRAHAM INC     COLUMBIA    SC   \n",
       "2            24K       CCM    TIM SCOTT FOR SENATE   CHARLESTON    SC   \n",
       "3            24K       CCM  FRIENDS OF JIM CLYBURN     COLUMBIA    SC   \n",
       "4            24E       ORG        JACKSON ADVOCATE      JACKSON    MS   \n",
       "\n",
       "   ZIP_CODE EMPLOYER OCCUPATION  TRANSACTION_DT  TRANSACTION_AMT   OTHER_ID  \\\n",
       "0   32608.0      NaN        NaN       1082019.0             1880  C00494583   \n",
       "1   29202.0      NaN        NaN      12202018.0             3000  C00458828   \n",
       "2   29407.0      NaN        NaN      12202018.0             1000  C00540302   \n",
       "3   29211.0      NaN        NaN       1072019.0              470  C00255562   \n",
       "4   39207.0      NaN        NaN      12122018.0             1000  S8MS00287   \n",
       "\n",
       "     CAND_ID     TRAN_ID  FILE_NUM MEMO_CD MEMO_TEXT               SUB_ID  \n",
       "0  H2FL06109   SB23.4447   1303604     NaN       NaN  4021920191640423011  \n",
       "1  H4SC03087  SB23.17757   1307636     NaN       NaN  4022220191643444985  \n",
       "2  H0SC01279  SB23.17756   1307636     NaN       NaN  4022220191643444987  \n",
       "3  H2SC02042  SB23.17755   1307636     NaN       NaN  4022220191643444981  \n",
       "4  S8MS00287     SE.4233   1310906     NaN       NaN  4022420191643632157  "
      ]
     },
     "execution_count": 16,
     "metadata": {},
     "output_type": "execute_result"
    }
   ],
   "source": [
    "contributions_from_committees = pd.read_csv(f\"../data/20192020-FEC/Contributions from committees to candidates  independent expenditures.csv\")\n",
    "contributions_from_committees.head()"
   ]
  },
  {
   "cell_type": "code",
   "execution_count": 17,
   "metadata": {
    "_kg_hide-input": true,
    "_kg_hide-output": true,
    "execution": {
     "iopub.execute_input": "2020-09-02T04:53:40.699352Z",
     "iopub.status.busy": "2020-09-02T04:53:40.698457Z",
     "iopub.status.idle": "2020-09-02T04:53:41.056409Z",
     "shell.execute_reply": "2020-09-02T04:53:41.055766Z"
    },
    "papermill": {
     "duration": 0.400755,
     "end_time": "2020-09-02T04:53:41.056555",
     "exception": false,
     "start_time": "2020-09-02T04:53:40.655800",
     "status": "completed"
    },
    "tags": []
   },
   "outputs": [
    {
     "data": {
      "text/html": [
       "<div>\n",
       "<style scoped>\n",
       "    .dataframe tbody tr th:only-of-type {\n",
       "        vertical-align: middle;\n",
       "    }\n",
       "\n",
       "    .dataframe tbody tr th {\n",
       "        vertical-align: top;\n",
       "    }\n",
       "\n",
       "    .dataframe thead th {\n",
       "        text-align: right;\n",
       "    }\n",
       "</style>\n",
       "<table border=\"1\" class=\"dataframe\">\n",
       "  <thead>\n",
       "    <tr style=\"text-align: right;\">\n",
       "      <th></th>\n",
       "      <th>CMTE_ID</th>\n",
       "      <th>AMNDT_IND</th>\n",
       "      <th>RPT_TP</th>\n",
       "      <th>TRANSACTION_PGI</th>\n",
       "      <th>IMAGE_NUM</th>\n",
       "      <th>TRANSACTION_TP</th>\n",
       "      <th>ENTITY_TP</th>\n",
       "      <th>NAME</th>\n",
       "      <th>CITY</th>\n",
       "      <th>STATE</th>\n",
       "      <th>ZIP_CODE</th>\n",
       "      <th>EMPLOYER</th>\n",
       "      <th>OCCUPATION</th>\n",
       "      <th>TRANSACTION_DT</th>\n",
       "      <th>TRANSACTION_AMT</th>\n",
       "      <th>OTHER_ID</th>\n",
       "      <th>CAND_ID</th>\n",
       "      <th>TRAN_ID</th>\n",
       "      <th>FILE_NUM</th>\n",
       "      <th>MEMO_CD</th>\n",
       "      <th>MEMO_TEXT</th>\n",
       "      <th>SUB_ID</th>\n",
       "    </tr>\n",
       "  </thead>\n",
       "  <tbody>\n",
       "    <tr>\n",
       "      <th>0</th>\n",
       "      <td>C00567180</td>\n",
       "      <td>T</td>\n",
       "      <td>TER</td>\n",
       "      <td>P2020</td>\n",
       "      <td>201901099143774199</td>\n",
       "      <td>24K</td>\n",
       "      <td>PAC</td>\n",
       "      <td>TED YOHO FOR CONGRESS</td>\n",
       "      <td>GAINESVILLE</td>\n",
       "      <td>FL</td>\n",
       "      <td>32608</td>\n",
       "      <td>NaN</td>\n",
       "      <td>NaN</td>\n",
       "      <td>1082019.0</td>\n",
       "      <td>1880</td>\n",
       "      <td>C00494583</td>\n",
       "      <td>H2FL06109</td>\n",
       "      <td>SB23.4447</td>\n",
       "      <td>1303604</td>\n",
       "      <td>NaN</td>\n",
       "      <td>NaN</td>\n",
       "      <td>4021920191640423011</td>\n",
       "    </tr>\n",
       "    <tr>\n",
       "      <th>1</th>\n",
       "      <td>C00104885</td>\n",
       "      <td>A</td>\n",
       "      <td>TER</td>\n",
       "      <td>G2020</td>\n",
       "      <td>201901289144031511</td>\n",
       "      <td>24K</td>\n",
       "      <td>CCM</td>\n",
       "      <td>TEAM GRAHAM INC</td>\n",
       "      <td>COLUMBIA</td>\n",
       "      <td>SC</td>\n",
       "      <td>29202</td>\n",
       "      <td>NaN</td>\n",
       "      <td>NaN</td>\n",
       "      <td>12202018.0</td>\n",
       "      <td>3000</td>\n",
       "      <td>C00458828</td>\n",
       "      <td>H4SC03087</td>\n",
       "      <td>SB23.17757</td>\n",
       "      <td>1307636</td>\n",
       "      <td>NaN</td>\n",
       "      <td>NaN</td>\n",
       "      <td>4022220191643444985</td>\n",
       "    </tr>\n",
       "    <tr>\n",
       "      <th>2</th>\n",
       "      <td>C00104885</td>\n",
       "      <td>A</td>\n",
       "      <td>TER</td>\n",
       "      <td>P2022</td>\n",
       "      <td>201901289144031512</td>\n",
       "      <td>24K</td>\n",
       "      <td>CCM</td>\n",
       "      <td>TIM SCOTT FOR SENATE</td>\n",
       "      <td>CHARLESTON</td>\n",
       "      <td>SC</td>\n",
       "      <td>29407</td>\n",
       "      <td>NaN</td>\n",
       "      <td>NaN</td>\n",
       "      <td>12202018.0</td>\n",
       "      <td>1000</td>\n",
       "      <td>C00540302</td>\n",
       "      <td>H0SC01279</td>\n",
       "      <td>SB23.17756</td>\n",
       "      <td>1307636</td>\n",
       "      <td>NaN</td>\n",
       "      <td>NaN</td>\n",
       "      <td>4022220191643444987</td>\n",
       "    </tr>\n",
       "    <tr>\n",
       "      <th>3</th>\n",
       "      <td>C00104885</td>\n",
       "      <td>A</td>\n",
       "      <td>TER</td>\n",
       "      <td>P2020</td>\n",
       "      <td>201901289144031511</td>\n",
       "      <td>24K</td>\n",
       "      <td>CCM</td>\n",
       "      <td>FRIENDS OF JIM CLYBURN</td>\n",
       "      <td>COLUMBIA</td>\n",
       "      <td>SC</td>\n",
       "      <td>29211</td>\n",
       "      <td>NaN</td>\n",
       "      <td>NaN</td>\n",
       "      <td>1072019.0</td>\n",
       "      <td>470</td>\n",
       "      <td>C00255562</td>\n",
       "      <td>H2SC02042</td>\n",
       "      <td>SB23.17755</td>\n",
       "      <td>1307636</td>\n",
       "      <td>NaN</td>\n",
       "      <td>NaN</td>\n",
       "      <td>4022220191643444981</td>\n",
       "    </tr>\n",
       "    <tr>\n",
       "      <th>4</th>\n",
       "      <td>C00688408</td>\n",
       "      <td>T</td>\n",
       "      <td>TER</td>\n",
       "      <td>G2018</td>\n",
       "      <td>201901319144305867</td>\n",
       "      <td>24E</td>\n",
       "      <td>ORG</td>\n",
       "      <td>JACKSON ADVOCATE</td>\n",
       "      <td>JACKSON</td>\n",
       "      <td>MS</td>\n",
       "      <td>39207</td>\n",
       "      <td>NaN</td>\n",
       "      <td>NaN</td>\n",
       "      <td>12122018.0</td>\n",
       "      <td>1000</td>\n",
       "      <td>S8MS00287</td>\n",
       "      <td>S8MS00287</td>\n",
       "      <td>SE.4233</td>\n",
       "      <td>1310906</td>\n",
       "      <td>NaN</td>\n",
       "      <td>NaN</td>\n",
       "      <td>4022420191643632157</td>\n",
       "    </tr>\n",
       "  </tbody>\n",
       "</table>\n",
       "</div>"
      ],
      "text/plain": [
       "     CMTE_ID AMNDT_IND RPT_TP TRANSACTION_PGI           IMAGE_NUM  \\\n",
       "0  C00567180         T    TER           P2020  201901099143774199   \n",
       "1  C00104885         A    TER           G2020  201901289144031511   \n",
       "2  C00104885         A    TER           P2022  201901289144031512   \n",
       "3  C00104885         A    TER           P2020  201901289144031511   \n",
       "4  C00688408         T    TER           G2018  201901319144305867   \n",
       "\n",
       "  TRANSACTION_TP ENTITY_TP                    NAME         CITY STATE  \\\n",
       "0            24K       PAC   TED YOHO FOR CONGRESS  GAINESVILLE    FL   \n",
       "1            24K       CCM         TEAM GRAHAM INC     COLUMBIA    SC   \n",
       "2            24K       CCM    TIM SCOTT FOR SENATE   CHARLESTON    SC   \n",
       "3            24K       CCM  FRIENDS OF JIM CLYBURN     COLUMBIA    SC   \n",
       "4            24E       ORG        JACKSON ADVOCATE      JACKSON    MS   \n",
       "\n",
       "  ZIP_CODE EMPLOYER OCCUPATION  TRANSACTION_DT  TRANSACTION_AMT   OTHER_ID  \\\n",
       "0    32608      NaN        NaN       1082019.0             1880  C00494583   \n",
       "1    29202      NaN        NaN      12202018.0             3000  C00458828   \n",
       "2    29407      NaN        NaN      12202018.0             1000  C00540302   \n",
       "3    29211      NaN        NaN       1072019.0              470  C00255562   \n",
       "4    39207      NaN        NaN      12122018.0             1000  S8MS00287   \n",
       "\n",
       "     CAND_ID     TRAN_ID  FILE_NUM MEMO_CD MEMO_TEXT               SUB_ID  \n",
       "0  H2FL06109   SB23.4447   1303604     NaN       NaN  4021920191640423011  \n",
       "1  H4SC03087  SB23.17757   1307636     NaN       NaN  4022220191643444985  \n",
       "2  H0SC01279  SB23.17756   1307636     NaN       NaN  4022220191643444987  \n",
       "3  H2SC02042  SB23.17755   1307636     NaN       NaN  4022220191643444981  \n",
       "4  S8MS00287     SE.4233   1310906     NaN       NaN  4022420191643632157  "
      ]
     },
     "execution_count": 17,
     "metadata": {},
     "output_type": "execute_result"
    }
   ],
   "source": [
    "def fix_zip_codes(col, df):\n",
    "    if df[col].dtype == 'float':\n",
    "        df[col] = df[col].map(lambda x: str(int(x)).zfill(5) if not pd.isna(x) else np.nan)\n",
    "    elif df[col].dtype == 'int64':\n",
    "        df[col] = df[col].map(lambda x: str(x).zfill(5) if not pd.isna(x) else np.nan)\n",
    "    return df\n",
    "contributions_from_committees = fix_zip_codes('ZIP_CODE', contributions_from_committees)\n",
    "contributions_from_committees.head()"
   ]
  },
  {
   "cell_type": "code",
   "execution_count": 18,
   "metadata": {
    "_kg_hide-input": true,
    "_kg_hide-output": true,
    "execution": {
     "iopub.execute_input": "2020-09-02T04:53:41.151657Z",
     "iopub.status.busy": "2020-09-02T04:53:41.150534Z",
     "iopub.status.idle": "2020-09-02T04:53:41.191463Z",
     "shell.execute_reply": "2020-09-02T04:53:41.192131Z"
    },
    "papermill": {
     "duration": 0.101832,
     "end_time": "2020-09-02T04:53:41.192303",
     "exception": false,
     "start_time": "2020-09-02T04:53:41.090471",
     "status": "completed"
    },
    "tags": []
   },
   "outputs": [
    {
     "data": {
      "text/html": [
       "<div>\n",
       "<style scoped>\n",
       "    .dataframe tbody tr th:only-of-type {\n",
       "        vertical-align: middle;\n",
       "    }\n",
       "\n",
       "    .dataframe tbody tr th {\n",
       "        vertical-align: top;\n",
       "    }\n",
       "\n",
       "    .dataframe thead th {\n",
       "        text-align: right;\n",
       "    }\n",
       "</style>\n",
       "<table border=\"1\" class=\"dataframe\">\n",
       "  <thead>\n",
       "    <tr style=\"text-align: right;\">\n",
       "      <th></th>\n",
       "      <th>CMTE_ID</th>\n",
       "      <th>AMNDT_IND</th>\n",
       "      <th>RPT_TP</th>\n",
       "      <th>TRANSACTION_PGI</th>\n",
       "      <th>IMAGE_NUM</th>\n",
       "      <th>TRANSACTION_TP</th>\n",
       "      <th>ENTITY_TP</th>\n",
       "      <th>NAME</th>\n",
       "      <th>CITY</th>\n",
       "      <th>STATE</th>\n",
       "      <th>ZIP_CODE</th>\n",
       "      <th>EMPLOYER</th>\n",
       "      <th>OCCUPATION</th>\n",
       "      <th>TRANSACTION_DT</th>\n",
       "      <th>TRANSACTION_AMT</th>\n",
       "      <th>OTHER_ID</th>\n",
       "      <th>CAND_ID</th>\n",
       "      <th>TRAN_ID</th>\n",
       "      <th>FILE_NUM</th>\n",
       "      <th>MEMO_CD</th>\n",
       "      <th>MEMO_TEXT</th>\n",
       "      <th>SUB_ID</th>\n",
       "      <th>AMNDT_IND_FULL</th>\n",
       "    </tr>\n",
       "  </thead>\n",
       "  <tbody>\n",
       "    <tr>\n",
       "      <th>0</th>\n",
       "      <td>C00567180</td>\n",
       "      <td>T</td>\n",
       "      <td>TER</td>\n",
       "      <td>P2020</td>\n",
       "      <td>201901099143774199</td>\n",
       "      <td>24K</td>\n",
       "      <td>PAC</td>\n",
       "      <td>TED YOHO FOR CONGRESS</td>\n",
       "      <td>GAINESVILLE</td>\n",
       "      <td>FL</td>\n",
       "      <td>32608</td>\n",
       "      <td>NaN</td>\n",
       "      <td>NaN</td>\n",
       "      <td>1082019.0</td>\n",
       "      <td>1880</td>\n",
       "      <td>C00494583</td>\n",
       "      <td>H2FL06109</td>\n",
       "      <td>SB23.4447</td>\n",
       "      <td>1303604</td>\n",
       "      <td>NaN</td>\n",
       "      <td>NaN</td>\n",
       "      <td>4021920191640423011</td>\n",
       "      <td>Termination</td>\n",
       "    </tr>\n",
       "    <tr>\n",
       "      <th>1</th>\n",
       "      <td>C00104885</td>\n",
       "      <td>A</td>\n",
       "      <td>TER</td>\n",
       "      <td>G2020</td>\n",
       "      <td>201901289144031511</td>\n",
       "      <td>24K</td>\n",
       "      <td>CCM</td>\n",
       "      <td>TEAM GRAHAM INC</td>\n",
       "      <td>COLUMBIA</td>\n",
       "      <td>SC</td>\n",
       "      <td>29202</td>\n",
       "      <td>NaN</td>\n",
       "      <td>NaN</td>\n",
       "      <td>12202018.0</td>\n",
       "      <td>3000</td>\n",
       "      <td>C00458828</td>\n",
       "      <td>H4SC03087</td>\n",
       "      <td>SB23.17757</td>\n",
       "      <td>1307636</td>\n",
       "      <td>NaN</td>\n",
       "      <td>NaN</td>\n",
       "      <td>4022220191643444985</td>\n",
       "      <td>Amendment</td>\n",
       "    </tr>\n",
       "    <tr>\n",
       "      <th>2</th>\n",
       "      <td>C00104885</td>\n",
       "      <td>A</td>\n",
       "      <td>TER</td>\n",
       "      <td>P2022</td>\n",
       "      <td>201901289144031512</td>\n",
       "      <td>24K</td>\n",
       "      <td>CCM</td>\n",
       "      <td>TIM SCOTT FOR SENATE</td>\n",
       "      <td>CHARLESTON</td>\n",
       "      <td>SC</td>\n",
       "      <td>29407</td>\n",
       "      <td>NaN</td>\n",
       "      <td>NaN</td>\n",
       "      <td>12202018.0</td>\n",
       "      <td>1000</td>\n",
       "      <td>C00540302</td>\n",
       "      <td>H0SC01279</td>\n",
       "      <td>SB23.17756</td>\n",
       "      <td>1307636</td>\n",
       "      <td>NaN</td>\n",
       "      <td>NaN</td>\n",
       "      <td>4022220191643444987</td>\n",
       "      <td>Amendment</td>\n",
       "    </tr>\n",
       "    <tr>\n",
       "      <th>3</th>\n",
       "      <td>C00104885</td>\n",
       "      <td>A</td>\n",
       "      <td>TER</td>\n",
       "      <td>P2020</td>\n",
       "      <td>201901289144031511</td>\n",
       "      <td>24K</td>\n",
       "      <td>CCM</td>\n",
       "      <td>FRIENDS OF JIM CLYBURN</td>\n",
       "      <td>COLUMBIA</td>\n",
       "      <td>SC</td>\n",
       "      <td>29211</td>\n",
       "      <td>NaN</td>\n",
       "      <td>NaN</td>\n",
       "      <td>1072019.0</td>\n",
       "      <td>470</td>\n",
       "      <td>C00255562</td>\n",
       "      <td>H2SC02042</td>\n",
       "      <td>SB23.17755</td>\n",
       "      <td>1307636</td>\n",
       "      <td>NaN</td>\n",
       "      <td>NaN</td>\n",
       "      <td>4022220191643444981</td>\n",
       "      <td>Amendment</td>\n",
       "    </tr>\n",
       "    <tr>\n",
       "      <th>4</th>\n",
       "      <td>C00688408</td>\n",
       "      <td>T</td>\n",
       "      <td>TER</td>\n",
       "      <td>G2018</td>\n",
       "      <td>201901319144305867</td>\n",
       "      <td>24E</td>\n",
       "      <td>ORG</td>\n",
       "      <td>JACKSON ADVOCATE</td>\n",
       "      <td>JACKSON</td>\n",
       "      <td>MS</td>\n",
       "      <td>39207</td>\n",
       "      <td>NaN</td>\n",
       "      <td>NaN</td>\n",
       "      <td>12122018.0</td>\n",
       "      <td>1000</td>\n",
       "      <td>S8MS00287</td>\n",
       "      <td>S8MS00287</td>\n",
       "      <td>SE.4233</td>\n",
       "      <td>1310906</td>\n",
       "      <td>NaN</td>\n",
       "      <td>NaN</td>\n",
       "      <td>4022420191643632157</td>\n",
       "      <td>Termination</td>\n",
       "    </tr>\n",
       "  </tbody>\n",
       "</table>\n",
       "</div>"
      ],
      "text/plain": [
       "     CMTE_ID AMNDT_IND RPT_TP TRANSACTION_PGI           IMAGE_NUM  \\\n",
       "0  C00567180         T    TER           P2020  201901099143774199   \n",
       "1  C00104885         A    TER           G2020  201901289144031511   \n",
       "2  C00104885         A    TER           P2022  201901289144031512   \n",
       "3  C00104885         A    TER           P2020  201901289144031511   \n",
       "4  C00688408         T    TER           G2018  201901319144305867   \n",
       "\n",
       "  TRANSACTION_TP ENTITY_TP                    NAME         CITY STATE  \\\n",
       "0            24K       PAC   TED YOHO FOR CONGRESS  GAINESVILLE    FL   \n",
       "1            24K       CCM         TEAM GRAHAM INC     COLUMBIA    SC   \n",
       "2            24K       CCM    TIM SCOTT FOR SENATE   CHARLESTON    SC   \n",
       "3            24K       CCM  FRIENDS OF JIM CLYBURN     COLUMBIA    SC   \n",
       "4            24E       ORG        JACKSON ADVOCATE      JACKSON    MS   \n",
       "\n",
       "  ZIP_CODE EMPLOYER OCCUPATION  TRANSACTION_DT  TRANSACTION_AMT   OTHER_ID  \\\n",
       "0    32608      NaN        NaN       1082019.0             1880  C00494583   \n",
       "1    29202      NaN        NaN      12202018.0             3000  C00458828   \n",
       "2    29407      NaN        NaN      12202018.0             1000  C00540302   \n",
       "3    29211      NaN        NaN       1072019.0              470  C00255562   \n",
       "4    39207      NaN        NaN      12122018.0             1000  S8MS00287   \n",
       "\n",
       "     CAND_ID     TRAN_ID  FILE_NUM MEMO_CD MEMO_TEXT               SUB_ID  \\\n",
       "0  H2FL06109   SB23.4447   1303604     NaN       NaN  4021920191640423011   \n",
       "1  H4SC03087  SB23.17757   1307636     NaN       NaN  4022220191643444985   \n",
       "2  H0SC01279  SB23.17756   1307636     NaN       NaN  4022220191643444987   \n",
       "3  H2SC02042  SB23.17755   1307636     NaN       NaN  4022220191643444981   \n",
       "4  S8MS00287     SE.4233   1310906     NaN       NaN  4022420191643632157   \n",
       "\n",
       "  AMNDT_IND_FULL  \n",
       "0    Termination  \n",
       "1      Amendment  \n",
       "2      Amendment  \n",
       "3      Amendment  \n",
       "4    Termination  "
      ]
     },
     "execution_count": 18,
     "metadata": {},
     "output_type": "execute_result"
    }
   ],
   "source": [
    "def map_amndt_ind(df):\n",
    "    df['AMNDT_IND_FULL'] = df['AMNDT_IND'].map({'N': 'New', 'A': 'Amendment', 'T': 'Termination'})\n",
    "    return df\n",
    "contributions_from_committees = map_amndt_ind(contributions_from_committees)\n",
    "contributions_from_committees.head()"
   ]
  },
  {
   "cell_type": "code",
   "execution_count": 19,
   "metadata": {},
   "outputs": [],
   "source": [
    "contributions_from_committees = contributions_from_committees[contributions_from_committees.AMNDT_IND == \"N\"]"
   ]
  },
  {
   "cell_type": "code",
   "execution_count": 20,
   "metadata": {
    "_kg_hide-input": true,
    "_kg_hide-output": true,
    "execution": {
     "iopub.execute_input": "2020-09-02T04:53:41.274456Z",
     "iopub.status.busy": "2020-09-02T04:53:41.273671Z",
     "iopub.status.idle": "2020-09-02T04:53:41.479876Z",
     "shell.execute_reply": "2020-09-02T04:53:41.480444Z"
    },
    "papermill": {
     "duration": 0.254921,
     "end_time": "2020-09-02T04:53:41.480638",
     "exception": false,
     "start_time": "2020-09-02T04:53:41.225717",
     "status": "completed"
    },
    "tags": []
   },
   "outputs": [
    {
     "data": {
      "text/html": [
       "<div>\n",
       "<style scoped>\n",
       "    .dataframe tbody tr th:only-of-type {\n",
       "        vertical-align: middle;\n",
       "    }\n",
       "\n",
       "    .dataframe tbody tr th {\n",
       "        vertical-align: top;\n",
       "    }\n",
       "\n",
       "    .dataframe thead th {\n",
       "        text-align: right;\n",
       "    }\n",
       "</style>\n",
       "<table border=\"1\" class=\"dataframe\">\n",
       "  <thead>\n",
       "    <tr style=\"text-align: right;\">\n",
       "      <th></th>\n",
       "      <th>CMTE_ID</th>\n",
       "      <th>AMNDT_IND</th>\n",
       "      <th>RPT_TP</th>\n",
       "      <th>TRANSACTION_PGI</th>\n",
       "      <th>IMAGE_NUM</th>\n",
       "      <th>TRANSACTION_TP</th>\n",
       "      <th>ENTITY_TP</th>\n",
       "      <th>NAME</th>\n",
       "      <th>CITY</th>\n",
       "      <th>STATE</th>\n",
       "      <th>ZIP_CODE</th>\n",
       "      <th>EMPLOYER</th>\n",
       "      <th>OCCUPATION</th>\n",
       "      <th>TRANSACTION_DT</th>\n",
       "      <th>TRANSACTION_AMT</th>\n",
       "      <th>OTHER_ID</th>\n",
       "      <th>CAND_ID</th>\n",
       "      <th>TRAN_ID</th>\n",
       "      <th>FILE_NUM</th>\n",
       "      <th>MEMO_CD</th>\n",
       "      <th>MEMO_TEXT</th>\n",
       "      <th>SUB_ID</th>\n",
       "      <th>AMNDT_IND_FULL</th>\n",
       "      <th>RPT_TP_FULL</th>\n",
       "    </tr>\n",
       "  </thead>\n",
       "  <tbody>\n",
       "    <tr>\n",
       "      <th>5</th>\n",
       "      <td>C00325324</td>\n",
       "      <td>N</td>\n",
       "      <td>M2</td>\n",
       "      <td>P2020</td>\n",
       "      <td>201902049145458880</td>\n",
       "      <td>24K</td>\n",
       "      <td>CCM</td>\n",
       "      <td>EMMER FOR CONGRESS</td>\n",
       "      <td>ANOKA</td>\n",
       "      <td>MN</td>\n",
       "      <td>55303</td>\n",
       "      <td>NaN</td>\n",
       "      <td>NaN</td>\n",
       "      <td>1252019.0</td>\n",
       "      <td>1500</td>\n",
       "      <td>C00545749</td>\n",
       "      <td>H4MN06087</td>\n",
       "      <td>B27CCDF382AE3419EB12</td>\n",
       "      <td>1313984</td>\n",
       "      <td>NaN</td>\n",
       "      <td>NaN</td>\n",
       "      <td>4022620191643762236</td>\n",
       "      <td>New</td>\n",
       "      <td>February monthly</td>\n",
       "    </tr>\n",
       "    <tr>\n",
       "      <th>6</th>\n",
       "      <td>C00414425</td>\n",
       "      <td>N</td>\n",
       "      <td>M2</td>\n",
       "      <td>P</td>\n",
       "      <td>201902019145450791</td>\n",
       "      <td>24K</td>\n",
       "      <td>CCM</td>\n",
       "      <td>FRIENDS OF MARK WARNER</td>\n",
       "      <td>ALEXANDRIA</td>\n",
       "      <td>VA</td>\n",
       "      <td>22314</td>\n",
       "      <td>NaN</td>\n",
       "      <td>NaN</td>\n",
       "      <td>1292019.0</td>\n",
       "      <td>1000</td>\n",
       "      <td>C00438713</td>\n",
       "      <td>S6VA00093</td>\n",
       "      <td>SB23.9011</td>\n",
       "      <td>1313349</td>\n",
       "      <td>NaN</td>\n",
       "      <td>NaN</td>\n",
       "      <td>4022620191643762178</td>\n",
       "      <td>New</td>\n",
       "      <td>February monthly</td>\n",
       "    </tr>\n",
       "    <tr>\n",
       "      <th>7</th>\n",
       "      <td>C00366013</td>\n",
       "      <td>N</td>\n",
       "      <td>M2</td>\n",
       "      <td>P2020</td>\n",
       "      <td>201902049145460163</td>\n",
       "      <td>24K</td>\n",
       "      <td>CCM</td>\n",
       "      <td>CLAY JR. FOR CONGRESS</td>\n",
       "      <td>SAINT LOUIS</td>\n",
       "      <td>MO</td>\n",
       "      <td>631080544</td>\n",
       "      <td>NaN</td>\n",
       "      <td>NaN</td>\n",
       "      <td>1102019.0</td>\n",
       "      <td>1000</td>\n",
       "      <td>C00346080</td>\n",
       "      <td>H0MO01066</td>\n",
       "      <td>BCC5E5592BA664439810</td>\n",
       "      <td>1314222</td>\n",
       "      <td>NaN</td>\n",
       "      <td>NaN</td>\n",
       "      <td>4022620191643761316</td>\n",
       "      <td>New</td>\n",
       "      <td>February monthly</td>\n",
       "    </tr>\n",
       "    <tr>\n",
       "      <th>8</th>\n",
       "      <td>C00366013</td>\n",
       "      <td>N</td>\n",
       "      <td>M2</td>\n",
       "      <td>P2020</td>\n",
       "      <td>201902049145460162</td>\n",
       "      <td>24K</td>\n",
       "      <td>CCM</td>\n",
       "      <td>MALONEY FOR CONGRESS</td>\n",
       "      <td>NEW YORK</td>\n",
       "      <td>NY</td>\n",
       "      <td>101281326</td>\n",
       "      <td>NaN</td>\n",
       "      <td>NaN</td>\n",
       "      <td>1022019.0</td>\n",
       "      <td>2500</td>\n",
       "      <td>C00273169</td>\n",
       "      <td>H2NY14037</td>\n",
       "      <td>BE5946F36B95C4B1AA76</td>\n",
       "      <td>1314222</td>\n",
       "      <td>NaN</td>\n",
       "      <td>NaN</td>\n",
       "      <td>4022620191643761310</td>\n",
       "      <td>New</td>\n",
       "      <td>February monthly</td>\n",
       "    </tr>\n",
       "    <tr>\n",
       "      <th>9</th>\n",
       "      <td>C00366013</td>\n",
       "      <td>N</td>\n",
       "      <td>M2</td>\n",
       "      <td>P2020</td>\n",
       "      <td>201902049145460162</td>\n",
       "      <td>24K</td>\n",
       "      <td>CCM</td>\n",
       "      <td>MCHENRY FOR CONGRESS</td>\n",
       "      <td>GASTONIA</td>\n",
       "      <td>NC</td>\n",
       "      <td>280532165</td>\n",
       "      <td>NaN</td>\n",
       "      <td>NaN</td>\n",
       "      <td>1102019.0</td>\n",
       "      <td>1000</td>\n",
       "      <td>C00393629</td>\n",
       "      <td>H4NC10047</td>\n",
       "      <td>B4A12FABC952A45BFAA6</td>\n",
       "      <td>1314222</td>\n",
       "      <td>NaN</td>\n",
       "      <td>NaN</td>\n",
       "      <td>4022620191643761312</td>\n",
       "      <td>New</td>\n",
       "      <td>February monthly</td>\n",
       "    </tr>\n",
       "  </tbody>\n",
       "</table>\n",
       "</div>"
      ],
      "text/plain": [
       "     CMTE_ID AMNDT_IND RPT_TP TRANSACTION_PGI           IMAGE_NUM  \\\n",
       "5  C00325324         N     M2           P2020  201902049145458880   \n",
       "6  C00414425         N     M2               P  201902019145450791   \n",
       "7  C00366013         N     M2           P2020  201902049145460163   \n",
       "8  C00366013         N     M2           P2020  201902049145460162   \n",
       "9  C00366013         N     M2           P2020  201902049145460162   \n",
       "\n",
       "  TRANSACTION_TP ENTITY_TP                    NAME         CITY STATE  \\\n",
       "5            24K       CCM      EMMER FOR CONGRESS        ANOKA    MN   \n",
       "6            24K       CCM  FRIENDS OF MARK WARNER   ALEXANDRIA    VA   \n",
       "7            24K       CCM   CLAY JR. FOR CONGRESS  SAINT LOUIS    MO   \n",
       "8            24K       CCM    MALONEY FOR CONGRESS     NEW YORK    NY   \n",
       "9            24K       CCM    MCHENRY FOR CONGRESS     GASTONIA    NC   \n",
       "\n",
       "    ZIP_CODE EMPLOYER OCCUPATION  TRANSACTION_DT  TRANSACTION_AMT   OTHER_ID  \\\n",
       "5      55303      NaN        NaN       1252019.0             1500  C00545749   \n",
       "6      22314      NaN        NaN       1292019.0             1000  C00438713   \n",
       "7  631080544      NaN        NaN       1102019.0             1000  C00346080   \n",
       "8  101281326      NaN        NaN       1022019.0             2500  C00273169   \n",
       "9  280532165      NaN        NaN       1102019.0             1000  C00393629   \n",
       "\n",
       "     CAND_ID               TRAN_ID  FILE_NUM MEMO_CD MEMO_TEXT  \\\n",
       "5  H4MN06087  B27CCDF382AE3419EB12   1313984     NaN       NaN   \n",
       "6  S6VA00093             SB23.9011   1313349     NaN       NaN   \n",
       "7  H0MO01066  BCC5E5592BA664439810   1314222     NaN       NaN   \n",
       "8  H2NY14037  BE5946F36B95C4B1AA76   1314222     NaN       NaN   \n",
       "9  H4NC10047  B4A12FABC952A45BFAA6   1314222     NaN       NaN   \n",
       "\n",
       "                SUB_ID AMNDT_IND_FULL       RPT_TP_FULL  \n",
       "5  4022620191643762236            New  February monthly  \n",
       "6  4022620191643762178            New  February monthly  \n",
       "7  4022620191643761316            New  February monthly  \n",
       "8  4022620191643761310            New  February monthly  \n",
       "9  4022620191643761312            New  February monthly  "
      ]
     },
     "execution_count": 20,
     "metadata": {},
     "output_type": "execute_result"
    }
   ],
   "source": [
    "report_type_map = read_table(\"https://www.fec.gov/campaign-finance-data/report-type-code-descriptions/\")\n",
    "def map_report_type(df):\n",
    "    df['RPT_TP_FULL'] = df['RPT_TP'].map(report_type_map)\n",
    "    return df\n",
    "contributions_from_committees = map_report_type(contributions_from_committees)\n",
    "contributions_from_committees.head()"
   ]
  },
  {
   "cell_type": "code",
   "execution_count": 21,
   "metadata": {
    "_kg_hide-input": true,
    "_kg_hide-output": true,
    "execution": {
     "iopub.execute_input": "2020-09-02T04:53:41.560541Z",
     "iopub.status.busy": "2020-09-02T04:53:41.558924Z",
     "iopub.status.idle": "2020-09-02T04:53:42.268301Z",
     "shell.execute_reply": "2020-09-02T04:53:42.267660Z"
    },
    "papermill": {
     "duration": 0.753461,
     "end_time": "2020-09-02T04:53:42.268438",
     "exception": false,
     "start_time": "2020-09-02T04:53:41.514977",
     "status": "completed"
    },
    "tags": []
   },
   "outputs": [
    {
     "data": {
      "text/html": [
       "<div>\n",
       "<style scoped>\n",
       "    .dataframe tbody tr th:only-of-type {\n",
       "        vertical-align: middle;\n",
       "    }\n",
       "\n",
       "    .dataframe tbody tr th {\n",
       "        vertical-align: top;\n",
       "    }\n",
       "\n",
       "    .dataframe thead th {\n",
       "        text-align: right;\n",
       "    }\n",
       "</style>\n",
       "<table border=\"1\" class=\"dataframe\">\n",
       "  <thead>\n",
       "    <tr style=\"text-align: right;\">\n",
       "      <th></th>\n",
       "      <th>CMTE_ID</th>\n",
       "      <th>AMNDT_IND</th>\n",
       "      <th>RPT_TP</th>\n",
       "      <th>TRANSACTION_PGI</th>\n",
       "      <th>IMAGE_NUM</th>\n",
       "      <th>TRANSACTION_TP</th>\n",
       "      <th>ENTITY_TP</th>\n",
       "      <th>NAME</th>\n",
       "      <th>CITY</th>\n",
       "      <th>STATE</th>\n",
       "      <th>ZIP_CODE</th>\n",
       "      <th>EMPLOYER</th>\n",
       "      <th>OCCUPATION</th>\n",
       "      <th>TRANSACTION_DT</th>\n",
       "      <th>TRANSACTION_AMT</th>\n",
       "      <th>OTHER_ID</th>\n",
       "      <th>CAND_ID</th>\n",
       "      <th>TRAN_ID</th>\n",
       "      <th>FILE_NUM</th>\n",
       "      <th>MEMO_CD</th>\n",
       "      <th>MEMO_TEXT</th>\n",
       "      <th>SUB_ID</th>\n",
       "      <th>AMNDT_IND_FULL</th>\n",
       "      <th>RPT_TP_FULL</th>\n",
       "      <th>ELECTION_TYPE</th>\n",
       "      <th>ELECTION_YEAR</th>\n",
       "    </tr>\n",
       "  </thead>\n",
       "  <tbody>\n",
       "    <tr>\n",
       "      <th>5</th>\n",
       "      <td>C00325324</td>\n",
       "      <td>N</td>\n",
       "      <td>M2</td>\n",
       "      <td>P2020</td>\n",
       "      <td>201902049145458880</td>\n",
       "      <td>24K</td>\n",
       "      <td>CCM</td>\n",
       "      <td>EMMER FOR CONGRESS</td>\n",
       "      <td>ANOKA</td>\n",
       "      <td>MN</td>\n",
       "      <td>55303</td>\n",
       "      <td>NaN</td>\n",
       "      <td>NaN</td>\n",
       "      <td>1252019.0</td>\n",
       "      <td>1500</td>\n",
       "      <td>C00545749</td>\n",
       "      <td>H4MN06087</td>\n",
       "      <td>B27CCDF382AE3419EB12</td>\n",
       "      <td>1313984</td>\n",
       "      <td>NaN</td>\n",
       "      <td>NaN</td>\n",
       "      <td>4022620191643762236</td>\n",
       "      <td>New</td>\n",
       "      <td>February monthly</td>\n",
       "      <td>Primary</td>\n",
       "      <td>2020</td>\n",
       "    </tr>\n",
       "    <tr>\n",
       "      <th>6</th>\n",
       "      <td>C00414425</td>\n",
       "      <td>N</td>\n",
       "      <td>M2</td>\n",
       "      <td>P</td>\n",
       "      <td>201902019145450791</td>\n",
       "      <td>24K</td>\n",
       "      <td>CCM</td>\n",
       "      <td>FRIENDS OF MARK WARNER</td>\n",
       "      <td>ALEXANDRIA</td>\n",
       "      <td>VA</td>\n",
       "      <td>22314</td>\n",
       "      <td>NaN</td>\n",
       "      <td>NaN</td>\n",
       "      <td>1292019.0</td>\n",
       "      <td>1000</td>\n",
       "      <td>C00438713</td>\n",
       "      <td>S6VA00093</td>\n",
       "      <td>SB23.9011</td>\n",
       "      <td>1313349</td>\n",
       "      <td>NaN</td>\n",
       "      <td>NaN</td>\n",
       "      <td>4022620191643762178</td>\n",
       "      <td>New</td>\n",
       "      <td>February monthly</td>\n",
       "      <td>Primary</td>\n",
       "      <td>0</td>\n",
       "    </tr>\n",
       "    <tr>\n",
       "      <th>7</th>\n",
       "      <td>C00366013</td>\n",
       "      <td>N</td>\n",
       "      <td>M2</td>\n",
       "      <td>P2020</td>\n",
       "      <td>201902049145460163</td>\n",
       "      <td>24K</td>\n",
       "      <td>CCM</td>\n",
       "      <td>CLAY JR. FOR CONGRESS</td>\n",
       "      <td>SAINT LOUIS</td>\n",
       "      <td>MO</td>\n",
       "      <td>631080544</td>\n",
       "      <td>NaN</td>\n",
       "      <td>NaN</td>\n",
       "      <td>1102019.0</td>\n",
       "      <td>1000</td>\n",
       "      <td>C00346080</td>\n",
       "      <td>H0MO01066</td>\n",
       "      <td>BCC5E5592BA664439810</td>\n",
       "      <td>1314222</td>\n",
       "      <td>NaN</td>\n",
       "      <td>NaN</td>\n",
       "      <td>4022620191643761316</td>\n",
       "      <td>New</td>\n",
       "      <td>February monthly</td>\n",
       "      <td>Primary</td>\n",
       "      <td>2020</td>\n",
       "    </tr>\n",
       "    <tr>\n",
       "      <th>8</th>\n",
       "      <td>C00366013</td>\n",
       "      <td>N</td>\n",
       "      <td>M2</td>\n",
       "      <td>P2020</td>\n",
       "      <td>201902049145460162</td>\n",
       "      <td>24K</td>\n",
       "      <td>CCM</td>\n",
       "      <td>MALONEY FOR CONGRESS</td>\n",
       "      <td>NEW YORK</td>\n",
       "      <td>NY</td>\n",
       "      <td>101281326</td>\n",
       "      <td>NaN</td>\n",
       "      <td>NaN</td>\n",
       "      <td>1022019.0</td>\n",
       "      <td>2500</td>\n",
       "      <td>C00273169</td>\n",
       "      <td>H2NY14037</td>\n",
       "      <td>BE5946F36B95C4B1AA76</td>\n",
       "      <td>1314222</td>\n",
       "      <td>NaN</td>\n",
       "      <td>NaN</td>\n",
       "      <td>4022620191643761310</td>\n",
       "      <td>New</td>\n",
       "      <td>February monthly</td>\n",
       "      <td>Primary</td>\n",
       "      <td>2020</td>\n",
       "    </tr>\n",
       "    <tr>\n",
       "      <th>9</th>\n",
       "      <td>C00366013</td>\n",
       "      <td>N</td>\n",
       "      <td>M2</td>\n",
       "      <td>P2020</td>\n",
       "      <td>201902049145460162</td>\n",
       "      <td>24K</td>\n",
       "      <td>CCM</td>\n",
       "      <td>MCHENRY FOR CONGRESS</td>\n",
       "      <td>GASTONIA</td>\n",
       "      <td>NC</td>\n",
       "      <td>280532165</td>\n",
       "      <td>NaN</td>\n",
       "      <td>NaN</td>\n",
       "      <td>1102019.0</td>\n",
       "      <td>1000</td>\n",
       "      <td>C00393629</td>\n",
       "      <td>H4NC10047</td>\n",
       "      <td>B4A12FABC952A45BFAA6</td>\n",
       "      <td>1314222</td>\n",
       "      <td>NaN</td>\n",
       "      <td>NaN</td>\n",
       "      <td>4022620191643761312</td>\n",
       "      <td>New</td>\n",
       "      <td>February monthly</td>\n",
       "      <td>Primary</td>\n",
       "      <td>2020</td>\n",
       "    </tr>\n",
       "  </tbody>\n",
       "</table>\n",
       "</div>"
      ],
      "text/plain": [
       "     CMTE_ID AMNDT_IND RPT_TP TRANSACTION_PGI           IMAGE_NUM  \\\n",
       "5  C00325324         N     M2           P2020  201902049145458880   \n",
       "6  C00414425         N     M2               P  201902019145450791   \n",
       "7  C00366013         N     M2           P2020  201902049145460163   \n",
       "8  C00366013         N     M2           P2020  201902049145460162   \n",
       "9  C00366013         N     M2           P2020  201902049145460162   \n",
       "\n",
       "  TRANSACTION_TP ENTITY_TP                    NAME         CITY STATE  \\\n",
       "5            24K       CCM      EMMER FOR CONGRESS        ANOKA    MN   \n",
       "6            24K       CCM  FRIENDS OF MARK WARNER   ALEXANDRIA    VA   \n",
       "7            24K       CCM   CLAY JR. FOR CONGRESS  SAINT LOUIS    MO   \n",
       "8            24K       CCM    MALONEY FOR CONGRESS     NEW YORK    NY   \n",
       "9            24K       CCM    MCHENRY FOR CONGRESS     GASTONIA    NC   \n",
       "\n",
       "    ZIP_CODE EMPLOYER OCCUPATION  TRANSACTION_DT  TRANSACTION_AMT   OTHER_ID  \\\n",
       "5      55303      NaN        NaN       1252019.0             1500  C00545749   \n",
       "6      22314      NaN        NaN       1292019.0             1000  C00438713   \n",
       "7  631080544      NaN        NaN       1102019.0             1000  C00346080   \n",
       "8  101281326      NaN        NaN       1022019.0             2500  C00273169   \n",
       "9  280532165      NaN        NaN       1102019.0             1000  C00393629   \n",
       "\n",
       "     CAND_ID               TRAN_ID  FILE_NUM MEMO_CD MEMO_TEXT  \\\n",
       "5  H4MN06087  B27CCDF382AE3419EB12   1313984     NaN       NaN   \n",
       "6  S6VA00093             SB23.9011   1313349     NaN       NaN   \n",
       "7  H0MO01066  BCC5E5592BA664439810   1314222     NaN       NaN   \n",
       "8  H2NY14037  BE5946F36B95C4B1AA76   1314222     NaN       NaN   \n",
       "9  H4NC10047  B4A12FABC952A45BFAA6   1314222     NaN       NaN   \n",
       "\n",
       "                SUB_ID AMNDT_IND_FULL       RPT_TP_FULL ELECTION_TYPE  \\\n",
       "5  4022620191643762236            New  February monthly       Primary   \n",
       "6  4022620191643762178            New  February monthly       Primary   \n",
       "7  4022620191643761316            New  February monthly       Primary   \n",
       "8  4022620191643761310            New  February monthly       Primary   \n",
       "9  4022620191643761312            New  February monthly       Primary   \n",
       "\n",
       "   ELECTION_YEAR  \n",
       "5           2020  \n",
       "6              0  \n",
       "7           2020  \n",
       "8           2020  \n",
       "9           2020  "
      ]
     },
     "execution_count": 21,
     "metadata": {},
     "output_type": "execute_result"
    }
   ],
   "source": [
    "election_type_map = {\n",
    "    'P': 'Primary',\n",
    "    'G': 'General',\n",
    "    'O': 'Other',\n",
    "    'C': 'Convention',\n",
    "    'R': 'Runoff',\n",
    "    'S': 'Special',\n",
    "    'E': 'Recount'\n",
    "}\n",
    "def parse_transaction_pgi(df):\n",
    "    df['ELECTION_TYPE'] = df['TRANSACTION_PGI'].astype('object').str[0].map(election_type_map)\n",
    "    df['ELECTION_YEAR'] = df['TRANSACTION_PGI'].astype('object').str[1:].map(\n",
    "        lambda x: int(x) if x and not pd.isnull(x) else np.nan).fillna(0).astype('int')\n",
    "    return df\n",
    "contributions_from_committees = parse_transaction_pgi(contributions_from_committees)\n",
    "contributions_from_committees.head()"
   ]
  },
  {
   "cell_type": "code",
   "execution_count": 22,
   "metadata": {
    "_kg_hide-input": true,
    "_kg_hide-output": true,
    "execution": {
     "iopub.execute_input": "2020-09-02T04:53:43.363342Z",
     "iopub.status.busy": "2020-09-02T04:53:43.362525Z",
     "iopub.status.idle": "2020-09-02T04:53:43.584075Z",
     "shell.execute_reply": "2020-09-02T04:53:43.583257Z"
    },
    "papermill": {
     "duration": 0.272357,
     "end_time": "2020-09-02T04:53:43.584228",
     "exception": false,
     "start_time": "2020-09-02T04:53:43.311871",
     "status": "completed"
    },
    "tags": []
   },
   "outputs": [
    {
     "data": {
      "text/html": [
       "<div>\n",
       "<style scoped>\n",
       "    .dataframe tbody tr th:only-of-type {\n",
       "        vertical-align: middle;\n",
       "    }\n",
       "\n",
       "    .dataframe tbody tr th {\n",
       "        vertical-align: top;\n",
       "    }\n",
       "\n",
       "    .dataframe thead th {\n",
       "        text-align: right;\n",
       "    }\n",
       "</style>\n",
       "<table border=\"1\" class=\"dataframe\">\n",
       "  <thead>\n",
       "    <tr style=\"text-align: right;\">\n",
       "      <th></th>\n",
       "      <th>CMTE_ID</th>\n",
       "      <th>AMNDT_IND</th>\n",
       "      <th>RPT_TP</th>\n",
       "      <th>TRANSACTION_PGI</th>\n",
       "      <th>IMAGE_NUM</th>\n",
       "      <th>TRANSACTION_TP</th>\n",
       "      <th>ENTITY_TP</th>\n",
       "      <th>NAME</th>\n",
       "      <th>CITY</th>\n",
       "      <th>STATE</th>\n",
       "      <th>ZIP_CODE</th>\n",
       "      <th>EMPLOYER</th>\n",
       "      <th>OCCUPATION</th>\n",
       "      <th>TRANSACTION_DT</th>\n",
       "      <th>TRANSACTION_AMT</th>\n",
       "      <th>OTHER_ID</th>\n",
       "      <th>CAND_ID</th>\n",
       "      <th>TRAN_ID</th>\n",
       "      <th>FILE_NUM</th>\n",
       "      <th>MEMO_CD</th>\n",
       "      <th>MEMO_TEXT</th>\n",
       "      <th>SUB_ID</th>\n",
       "      <th>AMNDT_IND_FULL</th>\n",
       "      <th>RPT_TP_FULL</th>\n",
       "      <th>ELECTION_TYPE</th>\n",
       "      <th>ELECTION_YEAR</th>\n",
       "      <th>TRANSACTION_TP_FULL</th>\n",
       "    </tr>\n",
       "  </thead>\n",
       "  <tbody>\n",
       "    <tr>\n",
       "      <th>5</th>\n",
       "      <td>C00325324</td>\n",
       "      <td>N</td>\n",
       "      <td>M2</td>\n",
       "      <td>P2020</td>\n",
       "      <td>201902049145458880</td>\n",
       "      <td>24K</td>\n",
       "      <td>CCM</td>\n",
       "      <td>EMMER FOR CONGRESS</td>\n",
       "      <td>ANOKA</td>\n",
       "      <td>MN</td>\n",
       "      <td>55303</td>\n",
       "      <td>NaN</td>\n",
       "      <td>NaN</td>\n",
       "      <td>1252019.0</td>\n",
       "      <td>1500</td>\n",
       "      <td>C00545749</td>\n",
       "      <td>H4MN06087</td>\n",
       "      <td>B27CCDF382AE3419EB12</td>\n",
       "      <td>1313984</td>\n",
       "      <td>NaN</td>\n",
       "      <td>NaN</td>\n",
       "      <td>4022620191643762236</td>\n",
       "      <td>New</td>\n",
       "      <td>February monthly</td>\n",
       "      <td>Primary</td>\n",
       "      <td>2020</td>\n",
       "      <td>Contribution made to nonaffiliated committee</td>\n",
       "    </tr>\n",
       "    <tr>\n",
       "      <th>6</th>\n",
       "      <td>C00414425</td>\n",
       "      <td>N</td>\n",
       "      <td>M2</td>\n",
       "      <td>P</td>\n",
       "      <td>201902019145450791</td>\n",
       "      <td>24K</td>\n",
       "      <td>CCM</td>\n",
       "      <td>FRIENDS OF MARK WARNER</td>\n",
       "      <td>ALEXANDRIA</td>\n",
       "      <td>VA</td>\n",
       "      <td>22314</td>\n",
       "      <td>NaN</td>\n",
       "      <td>NaN</td>\n",
       "      <td>1292019.0</td>\n",
       "      <td>1000</td>\n",
       "      <td>C00438713</td>\n",
       "      <td>S6VA00093</td>\n",
       "      <td>SB23.9011</td>\n",
       "      <td>1313349</td>\n",
       "      <td>NaN</td>\n",
       "      <td>NaN</td>\n",
       "      <td>4022620191643762178</td>\n",
       "      <td>New</td>\n",
       "      <td>February monthly</td>\n",
       "      <td>Primary</td>\n",
       "      <td>0</td>\n",
       "      <td>Contribution made to nonaffiliated committee</td>\n",
       "    </tr>\n",
       "    <tr>\n",
       "      <th>7</th>\n",
       "      <td>C00366013</td>\n",
       "      <td>N</td>\n",
       "      <td>M2</td>\n",
       "      <td>P2020</td>\n",
       "      <td>201902049145460163</td>\n",
       "      <td>24K</td>\n",
       "      <td>CCM</td>\n",
       "      <td>CLAY JR. FOR CONGRESS</td>\n",
       "      <td>SAINT LOUIS</td>\n",
       "      <td>MO</td>\n",
       "      <td>631080544</td>\n",
       "      <td>NaN</td>\n",
       "      <td>NaN</td>\n",
       "      <td>1102019.0</td>\n",
       "      <td>1000</td>\n",
       "      <td>C00346080</td>\n",
       "      <td>H0MO01066</td>\n",
       "      <td>BCC5E5592BA664439810</td>\n",
       "      <td>1314222</td>\n",
       "      <td>NaN</td>\n",
       "      <td>NaN</td>\n",
       "      <td>4022620191643761316</td>\n",
       "      <td>New</td>\n",
       "      <td>February monthly</td>\n",
       "      <td>Primary</td>\n",
       "      <td>2020</td>\n",
       "      <td>Contribution made to nonaffiliated committee</td>\n",
       "    </tr>\n",
       "    <tr>\n",
       "      <th>8</th>\n",
       "      <td>C00366013</td>\n",
       "      <td>N</td>\n",
       "      <td>M2</td>\n",
       "      <td>P2020</td>\n",
       "      <td>201902049145460162</td>\n",
       "      <td>24K</td>\n",
       "      <td>CCM</td>\n",
       "      <td>MALONEY FOR CONGRESS</td>\n",
       "      <td>NEW YORK</td>\n",
       "      <td>NY</td>\n",
       "      <td>101281326</td>\n",
       "      <td>NaN</td>\n",
       "      <td>NaN</td>\n",
       "      <td>1022019.0</td>\n",
       "      <td>2500</td>\n",
       "      <td>C00273169</td>\n",
       "      <td>H2NY14037</td>\n",
       "      <td>BE5946F36B95C4B1AA76</td>\n",
       "      <td>1314222</td>\n",
       "      <td>NaN</td>\n",
       "      <td>NaN</td>\n",
       "      <td>4022620191643761310</td>\n",
       "      <td>New</td>\n",
       "      <td>February monthly</td>\n",
       "      <td>Primary</td>\n",
       "      <td>2020</td>\n",
       "      <td>Contribution made to nonaffiliated committee</td>\n",
       "    </tr>\n",
       "    <tr>\n",
       "      <th>9</th>\n",
       "      <td>C00366013</td>\n",
       "      <td>N</td>\n",
       "      <td>M2</td>\n",
       "      <td>P2020</td>\n",
       "      <td>201902049145460162</td>\n",
       "      <td>24K</td>\n",
       "      <td>CCM</td>\n",
       "      <td>MCHENRY FOR CONGRESS</td>\n",
       "      <td>GASTONIA</td>\n",
       "      <td>NC</td>\n",
       "      <td>280532165</td>\n",
       "      <td>NaN</td>\n",
       "      <td>NaN</td>\n",
       "      <td>1102019.0</td>\n",
       "      <td>1000</td>\n",
       "      <td>C00393629</td>\n",
       "      <td>H4NC10047</td>\n",
       "      <td>B4A12FABC952A45BFAA6</td>\n",
       "      <td>1314222</td>\n",
       "      <td>NaN</td>\n",
       "      <td>NaN</td>\n",
       "      <td>4022620191643761312</td>\n",
       "      <td>New</td>\n",
       "      <td>February monthly</td>\n",
       "      <td>Primary</td>\n",
       "      <td>2020</td>\n",
       "      <td>Contribution made to nonaffiliated committee</td>\n",
       "    </tr>\n",
       "  </tbody>\n",
       "</table>\n",
       "</div>"
      ],
      "text/plain": [
       "     CMTE_ID AMNDT_IND RPT_TP TRANSACTION_PGI           IMAGE_NUM  \\\n",
       "5  C00325324         N     M2           P2020  201902049145458880   \n",
       "6  C00414425         N     M2               P  201902019145450791   \n",
       "7  C00366013         N     M2           P2020  201902049145460163   \n",
       "8  C00366013         N     M2           P2020  201902049145460162   \n",
       "9  C00366013         N     M2           P2020  201902049145460162   \n",
       "\n",
       "  TRANSACTION_TP ENTITY_TP                    NAME         CITY STATE  \\\n",
       "5            24K       CCM      EMMER FOR CONGRESS        ANOKA    MN   \n",
       "6            24K       CCM  FRIENDS OF MARK WARNER   ALEXANDRIA    VA   \n",
       "7            24K       CCM   CLAY JR. FOR CONGRESS  SAINT LOUIS    MO   \n",
       "8            24K       CCM    MALONEY FOR CONGRESS     NEW YORK    NY   \n",
       "9            24K       CCM    MCHENRY FOR CONGRESS     GASTONIA    NC   \n",
       "\n",
       "    ZIP_CODE EMPLOYER OCCUPATION  TRANSACTION_DT  TRANSACTION_AMT   OTHER_ID  \\\n",
       "5      55303      NaN        NaN       1252019.0             1500  C00545749   \n",
       "6      22314      NaN        NaN       1292019.0             1000  C00438713   \n",
       "7  631080544      NaN        NaN       1102019.0             1000  C00346080   \n",
       "8  101281326      NaN        NaN       1022019.0             2500  C00273169   \n",
       "9  280532165      NaN        NaN       1102019.0             1000  C00393629   \n",
       "\n",
       "     CAND_ID               TRAN_ID  FILE_NUM MEMO_CD MEMO_TEXT  \\\n",
       "5  H4MN06087  B27CCDF382AE3419EB12   1313984     NaN       NaN   \n",
       "6  S6VA00093             SB23.9011   1313349     NaN       NaN   \n",
       "7  H0MO01066  BCC5E5592BA664439810   1314222     NaN       NaN   \n",
       "8  H2NY14037  BE5946F36B95C4B1AA76   1314222     NaN       NaN   \n",
       "9  H4NC10047  B4A12FABC952A45BFAA6   1314222     NaN       NaN   \n",
       "\n",
       "                SUB_ID AMNDT_IND_FULL       RPT_TP_FULL ELECTION_TYPE  \\\n",
       "5  4022620191643762236            New  February monthly       Primary   \n",
       "6  4022620191643762178            New  February monthly       Primary   \n",
       "7  4022620191643761316            New  February monthly       Primary   \n",
       "8  4022620191643761310            New  February monthly       Primary   \n",
       "9  4022620191643761312            New  February monthly       Primary   \n",
       "\n",
       "   ELECTION_YEAR                           TRANSACTION_TP_FULL  \n",
       "5           2020  Contribution made to nonaffiliated committee  \n",
       "6              0  Contribution made to nonaffiliated committee  \n",
       "7           2020  Contribution made to nonaffiliated committee  \n",
       "8           2020  Contribution made to nonaffiliated committee  \n",
       "9           2020  Contribution made to nonaffiliated committee  "
      ]
     },
     "execution_count": 22,
     "metadata": {},
     "output_type": "execute_result"
    }
   ],
   "source": [
    "transaction_type_map = read_table(\"https://www.fec.gov/campaign-finance-data/transaction-type-code-descriptions/\")\n",
    "\n",
    "def map_transaction_type(df):\n",
    "    \n",
    "    df['TRANSACTION_TP_FULL'] = df['TRANSACTION_TP'].map(transaction_type_map)\n",
    "\n",
    "    return df\n",
    "\n",
    "contributions_from_committees = map_transaction_type(contributions_from_committees)\n",
    "contributions_from_committees.head()"
   ]
  },
  {
   "cell_type": "code",
   "execution_count": 23,
   "metadata": {
    "_kg_hide-input": true,
    "_kg_hide-output": true,
    "execution": {
     "iopub.execute_input": "2020-09-02T04:53:43.698208Z",
     "iopub.status.busy": "2020-09-02T04:53:43.697062Z",
     "iopub.status.idle": "2020-09-02T04:53:43.746517Z",
     "shell.execute_reply": "2020-09-02T04:53:43.745762Z"
    },
    "papermill": {
     "duration": 0.126236,
     "end_time": "2020-09-02T04:53:43.746669",
     "exception": false,
     "start_time": "2020-09-02T04:53:43.620433",
     "status": "completed"
    },
    "tags": []
   },
   "outputs": [
    {
     "data": {
      "text/html": [
       "<div>\n",
       "<style scoped>\n",
       "    .dataframe tbody tr th:only-of-type {\n",
       "        vertical-align: middle;\n",
       "    }\n",
       "\n",
       "    .dataframe tbody tr th {\n",
       "        vertical-align: top;\n",
       "    }\n",
       "\n",
       "    .dataframe thead th {\n",
       "        text-align: right;\n",
       "    }\n",
       "</style>\n",
       "<table border=\"1\" class=\"dataframe\">\n",
       "  <thead>\n",
       "    <tr style=\"text-align: right;\">\n",
       "      <th></th>\n",
       "      <th>CMTE_ID</th>\n",
       "      <th>AMNDT_IND</th>\n",
       "      <th>RPT_TP</th>\n",
       "      <th>TRANSACTION_PGI</th>\n",
       "      <th>IMAGE_NUM</th>\n",
       "      <th>TRANSACTION_TP</th>\n",
       "      <th>ENTITY_TP</th>\n",
       "      <th>NAME</th>\n",
       "      <th>CITY</th>\n",
       "      <th>STATE</th>\n",
       "      <th>ZIP_CODE</th>\n",
       "      <th>EMPLOYER</th>\n",
       "      <th>OCCUPATION</th>\n",
       "      <th>TRANSACTION_DT</th>\n",
       "      <th>TRANSACTION_AMT</th>\n",
       "      <th>OTHER_ID</th>\n",
       "      <th>CAND_ID</th>\n",
       "      <th>TRAN_ID</th>\n",
       "      <th>FILE_NUM</th>\n",
       "      <th>MEMO_CD</th>\n",
       "      <th>MEMO_TEXT</th>\n",
       "      <th>SUB_ID</th>\n",
       "      <th>AMNDT_IND_FULL</th>\n",
       "      <th>RPT_TP_FULL</th>\n",
       "      <th>ELECTION_TYPE</th>\n",
       "      <th>ELECTION_YEAR</th>\n",
       "      <th>TRANSACTION_TP_FULL</th>\n",
       "      <th>ENTITY_TP_FULL</th>\n",
       "    </tr>\n",
       "  </thead>\n",
       "  <tbody>\n",
       "    <tr>\n",
       "      <th>5</th>\n",
       "      <td>C00325324</td>\n",
       "      <td>N</td>\n",
       "      <td>M2</td>\n",
       "      <td>P2020</td>\n",
       "      <td>201902049145458880</td>\n",
       "      <td>24K</td>\n",
       "      <td>CCM</td>\n",
       "      <td>EMMER FOR CONGRESS</td>\n",
       "      <td>ANOKA</td>\n",
       "      <td>MN</td>\n",
       "      <td>55303</td>\n",
       "      <td>NaN</td>\n",
       "      <td>NaN</td>\n",
       "      <td>1252019.0</td>\n",
       "      <td>1500</td>\n",
       "      <td>C00545749</td>\n",
       "      <td>H4MN06087</td>\n",
       "      <td>B27CCDF382AE3419EB12</td>\n",
       "      <td>1313984</td>\n",
       "      <td>NaN</td>\n",
       "      <td>NaN</td>\n",
       "      <td>4022620191643762236</td>\n",
       "      <td>New</td>\n",
       "      <td>February monthly</td>\n",
       "      <td>Primary</td>\n",
       "      <td>2020</td>\n",
       "      <td>Contribution made to nonaffiliated committee</td>\n",
       "      <td>Candidate Committee</td>\n",
       "    </tr>\n",
       "    <tr>\n",
       "      <th>6</th>\n",
       "      <td>C00414425</td>\n",
       "      <td>N</td>\n",
       "      <td>M2</td>\n",
       "      <td>P</td>\n",
       "      <td>201902019145450791</td>\n",
       "      <td>24K</td>\n",
       "      <td>CCM</td>\n",
       "      <td>FRIENDS OF MARK WARNER</td>\n",
       "      <td>ALEXANDRIA</td>\n",
       "      <td>VA</td>\n",
       "      <td>22314</td>\n",
       "      <td>NaN</td>\n",
       "      <td>NaN</td>\n",
       "      <td>1292019.0</td>\n",
       "      <td>1000</td>\n",
       "      <td>C00438713</td>\n",
       "      <td>S6VA00093</td>\n",
       "      <td>SB23.9011</td>\n",
       "      <td>1313349</td>\n",
       "      <td>NaN</td>\n",
       "      <td>NaN</td>\n",
       "      <td>4022620191643762178</td>\n",
       "      <td>New</td>\n",
       "      <td>February monthly</td>\n",
       "      <td>Primary</td>\n",
       "      <td>0</td>\n",
       "      <td>Contribution made to nonaffiliated committee</td>\n",
       "      <td>Candidate Committee</td>\n",
       "    </tr>\n",
       "    <tr>\n",
       "      <th>7</th>\n",
       "      <td>C00366013</td>\n",
       "      <td>N</td>\n",
       "      <td>M2</td>\n",
       "      <td>P2020</td>\n",
       "      <td>201902049145460163</td>\n",
       "      <td>24K</td>\n",
       "      <td>CCM</td>\n",
       "      <td>CLAY JR. FOR CONGRESS</td>\n",
       "      <td>SAINT LOUIS</td>\n",
       "      <td>MO</td>\n",
       "      <td>631080544</td>\n",
       "      <td>NaN</td>\n",
       "      <td>NaN</td>\n",
       "      <td>1102019.0</td>\n",
       "      <td>1000</td>\n",
       "      <td>C00346080</td>\n",
       "      <td>H0MO01066</td>\n",
       "      <td>BCC5E5592BA664439810</td>\n",
       "      <td>1314222</td>\n",
       "      <td>NaN</td>\n",
       "      <td>NaN</td>\n",
       "      <td>4022620191643761316</td>\n",
       "      <td>New</td>\n",
       "      <td>February monthly</td>\n",
       "      <td>Primary</td>\n",
       "      <td>2020</td>\n",
       "      <td>Contribution made to nonaffiliated committee</td>\n",
       "      <td>Candidate Committee</td>\n",
       "    </tr>\n",
       "    <tr>\n",
       "      <th>8</th>\n",
       "      <td>C00366013</td>\n",
       "      <td>N</td>\n",
       "      <td>M2</td>\n",
       "      <td>P2020</td>\n",
       "      <td>201902049145460162</td>\n",
       "      <td>24K</td>\n",
       "      <td>CCM</td>\n",
       "      <td>MALONEY FOR CONGRESS</td>\n",
       "      <td>NEW YORK</td>\n",
       "      <td>NY</td>\n",
       "      <td>101281326</td>\n",
       "      <td>NaN</td>\n",
       "      <td>NaN</td>\n",
       "      <td>1022019.0</td>\n",
       "      <td>2500</td>\n",
       "      <td>C00273169</td>\n",
       "      <td>H2NY14037</td>\n",
       "      <td>BE5946F36B95C4B1AA76</td>\n",
       "      <td>1314222</td>\n",
       "      <td>NaN</td>\n",
       "      <td>NaN</td>\n",
       "      <td>4022620191643761310</td>\n",
       "      <td>New</td>\n",
       "      <td>February monthly</td>\n",
       "      <td>Primary</td>\n",
       "      <td>2020</td>\n",
       "      <td>Contribution made to nonaffiliated committee</td>\n",
       "      <td>Candidate Committee</td>\n",
       "    </tr>\n",
       "    <tr>\n",
       "      <th>9</th>\n",
       "      <td>C00366013</td>\n",
       "      <td>N</td>\n",
       "      <td>M2</td>\n",
       "      <td>P2020</td>\n",
       "      <td>201902049145460162</td>\n",
       "      <td>24K</td>\n",
       "      <td>CCM</td>\n",
       "      <td>MCHENRY FOR CONGRESS</td>\n",
       "      <td>GASTONIA</td>\n",
       "      <td>NC</td>\n",
       "      <td>280532165</td>\n",
       "      <td>NaN</td>\n",
       "      <td>NaN</td>\n",
       "      <td>1102019.0</td>\n",
       "      <td>1000</td>\n",
       "      <td>C00393629</td>\n",
       "      <td>H4NC10047</td>\n",
       "      <td>B4A12FABC952A45BFAA6</td>\n",
       "      <td>1314222</td>\n",
       "      <td>NaN</td>\n",
       "      <td>NaN</td>\n",
       "      <td>4022620191643761312</td>\n",
       "      <td>New</td>\n",
       "      <td>February monthly</td>\n",
       "      <td>Primary</td>\n",
       "      <td>2020</td>\n",
       "      <td>Contribution made to nonaffiliated committee</td>\n",
       "      <td>Candidate Committee</td>\n",
       "    </tr>\n",
       "  </tbody>\n",
       "</table>\n",
       "</div>"
      ],
      "text/plain": [
       "     CMTE_ID AMNDT_IND RPT_TP TRANSACTION_PGI           IMAGE_NUM  \\\n",
       "5  C00325324         N     M2           P2020  201902049145458880   \n",
       "6  C00414425         N     M2               P  201902019145450791   \n",
       "7  C00366013         N     M2           P2020  201902049145460163   \n",
       "8  C00366013         N     M2           P2020  201902049145460162   \n",
       "9  C00366013         N     M2           P2020  201902049145460162   \n",
       "\n",
       "  TRANSACTION_TP ENTITY_TP                    NAME         CITY STATE  \\\n",
       "5            24K       CCM      EMMER FOR CONGRESS        ANOKA    MN   \n",
       "6            24K       CCM  FRIENDS OF MARK WARNER   ALEXANDRIA    VA   \n",
       "7            24K       CCM   CLAY JR. FOR CONGRESS  SAINT LOUIS    MO   \n",
       "8            24K       CCM    MALONEY FOR CONGRESS     NEW YORK    NY   \n",
       "9            24K       CCM    MCHENRY FOR CONGRESS     GASTONIA    NC   \n",
       "\n",
       "    ZIP_CODE EMPLOYER OCCUPATION  TRANSACTION_DT  TRANSACTION_AMT   OTHER_ID  \\\n",
       "5      55303      NaN        NaN       1252019.0             1500  C00545749   \n",
       "6      22314      NaN        NaN       1292019.0             1000  C00438713   \n",
       "7  631080544      NaN        NaN       1102019.0             1000  C00346080   \n",
       "8  101281326      NaN        NaN       1022019.0             2500  C00273169   \n",
       "9  280532165      NaN        NaN       1102019.0             1000  C00393629   \n",
       "\n",
       "     CAND_ID               TRAN_ID  FILE_NUM MEMO_CD MEMO_TEXT  \\\n",
       "5  H4MN06087  B27CCDF382AE3419EB12   1313984     NaN       NaN   \n",
       "6  S6VA00093             SB23.9011   1313349     NaN       NaN   \n",
       "7  H0MO01066  BCC5E5592BA664439810   1314222     NaN       NaN   \n",
       "8  H2NY14037  BE5946F36B95C4B1AA76   1314222     NaN       NaN   \n",
       "9  H4NC10047  B4A12FABC952A45BFAA6   1314222     NaN       NaN   \n",
       "\n",
       "                SUB_ID AMNDT_IND_FULL       RPT_TP_FULL ELECTION_TYPE  \\\n",
       "5  4022620191643762236            New  February monthly       Primary   \n",
       "6  4022620191643762178            New  February monthly       Primary   \n",
       "7  4022620191643761316            New  February monthly       Primary   \n",
       "8  4022620191643761310            New  February monthly       Primary   \n",
       "9  4022620191643761312            New  February monthly       Primary   \n",
       "\n",
       "   ELECTION_YEAR                           TRANSACTION_TP_FULL  \\\n",
       "5           2020  Contribution made to nonaffiliated committee   \n",
       "6              0  Contribution made to nonaffiliated committee   \n",
       "7           2020  Contribution made to nonaffiliated committee   \n",
       "8           2020  Contribution made to nonaffiliated committee   \n",
       "9           2020  Contribution made to nonaffiliated committee   \n",
       "\n",
       "        ENTITY_TP_FULL  \n",
       "5  Candidate Committee  \n",
       "6  Candidate Committee  \n",
       "7  Candidate Committee  \n",
       "8  Candidate Committee  \n",
       "9  Candidate Committee  "
      ]
     },
     "execution_count": 23,
     "metadata": {},
     "output_type": "execute_result"
    }
   ],
   "source": [
    "entity_type_map = {\n",
    "    'CAN': 'Candidate',\n",
    "    'CCM': 'Candidate Committee',\n",
    "    'COM': 'Committee',\n",
    "    'IND': 'Individual (a person)',\n",
    "    'ORG': 'Organization (not a committee and not a person)',\n",
    "    'PAC': 'Political Action Committee',\n",
    "    'PTY': 'Party Organization'\n",
    "}\n",
    "def map_entity_type(df):\n",
    "    df['ENTITY_TP_FULL'] = df['ENTITY_TP'].map(entity_type_map)\n",
    "    return df\n",
    "contributions_from_committees = map_entity_type(contributions_from_committees)\n",
    "contributions_from_committees.head()"
   ]
  },
  {
   "cell_type": "code",
   "execution_count": 24,
   "metadata": {
    "_kg_hide-input": true,
    "_kg_hide-output": true,
    "execution": {
     "iopub.execute_input": "2020-09-02T04:53:43.904052Z",
     "iopub.status.busy": "2020-09-02T04:53:43.903241Z",
     "iopub.status.idle": "2020-09-02T04:53:56.562439Z",
     "shell.execute_reply": "2020-09-02T04:53:56.561755Z"
    },
    "papermill": {
     "duration": 12.725227,
     "end_time": "2020-09-02T04:53:56.562618",
     "exception": false,
     "start_time": "2020-09-02T04:53:43.837391",
     "status": "completed"
    },
    "tags": []
   },
   "outputs": [
    {
     "data": {
      "text/html": [
       "<div>\n",
       "<style scoped>\n",
       "    .dataframe tbody tr th:only-of-type {\n",
       "        vertical-align: middle;\n",
       "    }\n",
       "\n",
       "    .dataframe tbody tr th {\n",
       "        vertical-align: top;\n",
       "    }\n",
       "\n",
       "    .dataframe thead th {\n",
       "        text-align: right;\n",
       "    }\n",
       "</style>\n",
       "<table border=\"1\" class=\"dataframe\">\n",
       "  <thead>\n",
       "    <tr style=\"text-align: right;\">\n",
       "      <th></th>\n",
       "      <th>CMTE_ID</th>\n",
       "      <th>AMNDT_IND</th>\n",
       "      <th>RPT_TP</th>\n",
       "      <th>TRANSACTION_PGI</th>\n",
       "      <th>IMAGE_NUM</th>\n",
       "      <th>TRANSACTION_TP</th>\n",
       "      <th>ENTITY_TP</th>\n",
       "      <th>NAME</th>\n",
       "      <th>CITY</th>\n",
       "      <th>STATE</th>\n",
       "      <th>ZIP_CODE</th>\n",
       "      <th>EMPLOYER</th>\n",
       "      <th>OCCUPATION</th>\n",
       "      <th>TRANSACTION_DT</th>\n",
       "      <th>TRANSACTION_AMT</th>\n",
       "      <th>OTHER_ID</th>\n",
       "      <th>CAND_ID</th>\n",
       "      <th>TRAN_ID</th>\n",
       "      <th>FILE_NUM</th>\n",
       "      <th>MEMO_CD</th>\n",
       "      <th>MEMO_TEXT</th>\n",
       "      <th>SUB_ID</th>\n",
       "      <th>AMNDT_IND_FULL</th>\n",
       "      <th>RPT_TP_FULL</th>\n",
       "      <th>ELECTION_TYPE</th>\n",
       "      <th>ELECTION_YEAR</th>\n",
       "      <th>TRANSACTION_TP_FULL</th>\n",
       "      <th>ENTITY_TP_FULL</th>\n",
       "      <th>TRAN_ID_parent</th>\n",
       "      <th>TRAN_ID_child</th>\n",
       "    </tr>\n",
       "  </thead>\n",
       "  <tbody>\n",
       "    <tr>\n",
       "      <th>5</th>\n",
       "      <td>C00325324</td>\n",
       "      <td>N</td>\n",
       "      <td>M2</td>\n",
       "      <td>P2020</td>\n",
       "      <td>201902049145458880</td>\n",
       "      <td>24K</td>\n",
       "      <td>CCM</td>\n",
       "      <td>EMMER FOR CONGRESS</td>\n",
       "      <td>ANOKA</td>\n",
       "      <td>MN</td>\n",
       "      <td>55303</td>\n",
       "      <td>NaN</td>\n",
       "      <td>NaN</td>\n",
       "      <td>1252019.0</td>\n",
       "      <td>1500</td>\n",
       "      <td>C00545749</td>\n",
       "      <td>H4MN06087</td>\n",
       "      <td>B27CCDF382AE3419EB12</td>\n",
       "      <td>1313984</td>\n",
       "      <td>NaN</td>\n",
       "      <td>NaN</td>\n",
       "      <td>4022620191643762236</td>\n",
       "      <td>New</td>\n",
       "      <td>February monthly</td>\n",
       "      <td>Primary</td>\n",
       "      <td>2020</td>\n",
       "      <td>Contribution made to nonaffiliated committee</td>\n",
       "      <td>Candidate Committee</td>\n",
       "      <td>B27CCDF382AE3419EB12</td>\n",
       "      <td>None</td>\n",
       "    </tr>\n",
       "    <tr>\n",
       "      <th>6</th>\n",
       "      <td>C00414425</td>\n",
       "      <td>N</td>\n",
       "      <td>M2</td>\n",
       "      <td>P</td>\n",
       "      <td>201902019145450791</td>\n",
       "      <td>24K</td>\n",
       "      <td>CCM</td>\n",
       "      <td>FRIENDS OF MARK WARNER</td>\n",
       "      <td>ALEXANDRIA</td>\n",
       "      <td>VA</td>\n",
       "      <td>22314</td>\n",
       "      <td>NaN</td>\n",
       "      <td>NaN</td>\n",
       "      <td>1292019.0</td>\n",
       "      <td>1000</td>\n",
       "      <td>C00438713</td>\n",
       "      <td>S6VA00093</td>\n",
       "      <td>SB23.9011</td>\n",
       "      <td>1313349</td>\n",
       "      <td>NaN</td>\n",
       "      <td>NaN</td>\n",
       "      <td>4022620191643762178</td>\n",
       "      <td>New</td>\n",
       "      <td>February monthly</td>\n",
       "      <td>Primary</td>\n",
       "      <td>0</td>\n",
       "      <td>Contribution made to nonaffiliated committee</td>\n",
       "      <td>Candidate Committee</td>\n",
       "      <td>SB23</td>\n",
       "      <td>9011</td>\n",
       "    </tr>\n",
       "    <tr>\n",
       "      <th>7</th>\n",
       "      <td>C00366013</td>\n",
       "      <td>N</td>\n",
       "      <td>M2</td>\n",
       "      <td>P2020</td>\n",
       "      <td>201902049145460163</td>\n",
       "      <td>24K</td>\n",
       "      <td>CCM</td>\n",
       "      <td>CLAY JR. FOR CONGRESS</td>\n",
       "      <td>SAINT LOUIS</td>\n",
       "      <td>MO</td>\n",
       "      <td>631080544</td>\n",
       "      <td>NaN</td>\n",
       "      <td>NaN</td>\n",
       "      <td>1102019.0</td>\n",
       "      <td>1000</td>\n",
       "      <td>C00346080</td>\n",
       "      <td>H0MO01066</td>\n",
       "      <td>BCC5E5592BA664439810</td>\n",
       "      <td>1314222</td>\n",
       "      <td>NaN</td>\n",
       "      <td>NaN</td>\n",
       "      <td>4022620191643761316</td>\n",
       "      <td>New</td>\n",
       "      <td>February monthly</td>\n",
       "      <td>Primary</td>\n",
       "      <td>2020</td>\n",
       "      <td>Contribution made to nonaffiliated committee</td>\n",
       "      <td>Candidate Committee</td>\n",
       "      <td>BCC5E5592BA664439810</td>\n",
       "      <td>None</td>\n",
       "    </tr>\n",
       "    <tr>\n",
       "      <th>8</th>\n",
       "      <td>C00366013</td>\n",
       "      <td>N</td>\n",
       "      <td>M2</td>\n",
       "      <td>P2020</td>\n",
       "      <td>201902049145460162</td>\n",
       "      <td>24K</td>\n",
       "      <td>CCM</td>\n",
       "      <td>MALONEY FOR CONGRESS</td>\n",
       "      <td>NEW YORK</td>\n",
       "      <td>NY</td>\n",
       "      <td>101281326</td>\n",
       "      <td>NaN</td>\n",
       "      <td>NaN</td>\n",
       "      <td>1022019.0</td>\n",
       "      <td>2500</td>\n",
       "      <td>C00273169</td>\n",
       "      <td>H2NY14037</td>\n",
       "      <td>BE5946F36B95C4B1AA76</td>\n",
       "      <td>1314222</td>\n",
       "      <td>NaN</td>\n",
       "      <td>NaN</td>\n",
       "      <td>4022620191643761310</td>\n",
       "      <td>New</td>\n",
       "      <td>February monthly</td>\n",
       "      <td>Primary</td>\n",
       "      <td>2020</td>\n",
       "      <td>Contribution made to nonaffiliated committee</td>\n",
       "      <td>Candidate Committee</td>\n",
       "      <td>BE5946F36B95C4B1AA76</td>\n",
       "      <td>None</td>\n",
       "    </tr>\n",
       "    <tr>\n",
       "      <th>9</th>\n",
       "      <td>C00366013</td>\n",
       "      <td>N</td>\n",
       "      <td>M2</td>\n",
       "      <td>P2020</td>\n",
       "      <td>201902049145460162</td>\n",
       "      <td>24K</td>\n",
       "      <td>CCM</td>\n",
       "      <td>MCHENRY FOR CONGRESS</td>\n",
       "      <td>GASTONIA</td>\n",
       "      <td>NC</td>\n",
       "      <td>280532165</td>\n",
       "      <td>NaN</td>\n",
       "      <td>NaN</td>\n",
       "      <td>1102019.0</td>\n",
       "      <td>1000</td>\n",
       "      <td>C00393629</td>\n",
       "      <td>H4NC10047</td>\n",
       "      <td>B4A12FABC952A45BFAA6</td>\n",
       "      <td>1314222</td>\n",
       "      <td>NaN</td>\n",
       "      <td>NaN</td>\n",
       "      <td>4022620191643761312</td>\n",
       "      <td>New</td>\n",
       "      <td>February monthly</td>\n",
       "      <td>Primary</td>\n",
       "      <td>2020</td>\n",
       "      <td>Contribution made to nonaffiliated committee</td>\n",
       "      <td>Candidate Committee</td>\n",
       "      <td>B4A12FABC952A45BFAA6</td>\n",
       "      <td>None</td>\n",
       "    </tr>\n",
       "  </tbody>\n",
       "</table>\n",
       "</div>"
      ],
      "text/plain": [
       "     CMTE_ID AMNDT_IND RPT_TP TRANSACTION_PGI           IMAGE_NUM  \\\n",
       "5  C00325324         N     M2           P2020  201902049145458880   \n",
       "6  C00414425         N     M2               P  201902019145450791   \n",
       "7  C00366013         N     M2           P2020  201902049145460163   \n",
       "8  C00366013         N     M2           P2020  201902049145460162   \n",
       "9  C00366013         N     M2           P2020  201902049145460162   \n",
       "\n",
       "  TRANSACTION_TP ENTITY_TP                    NAME         CITY STATE  \\\n",
       "5            24K       CCM      EMMER FOR CONGRESS        ANOKA    MN   \n",
       "6            24K       CCM  FRIENDS OF MARK WARNER   ALEXANDRIA    VA   \n",
       "7            24K       CCM   CLAY JR. FOR CONGRESS  SAINT LOUIS    MO   \n",
       "8            24K       CCM    MALONEY FOR CONGRESS     NEW YORK    NY   \n",
       "9            24K       CCM    MCHENRY FOR CONGRESS     GASTONIA    NC   \n",
       "\n",
       "    ZIP_CODE EMPLOYER OCCUPATION  TRANSACTION_DT  TRANSACTION_AMT   OTHER_ID  \\\n",
       "5      55303      NaN        NaN       1252019.0             1500  C00545749   \n",
       "6      22314      NaN        NaN       1292019.0             1000  C00438713   \n",
       "7  631080544      NaN        NaN       1102019.0             1000  C00346080   \n",
       "8  101281326      NaN        NaN       1022019.0             2500  C00273169   \n",
       "9  280532165      NaN        NaN       1102019.0             1000  C00393629   \n",
       "\n",
       "     CAND_ID               TRAN_ID  FILE_NUM MEMO_CD MEMO_TEXT  \\\n",
       "5  H4MN06087  B27CCDF382AE3419EB12   1313984     NaN       NaN   \n",
       "6  S6VA00093             SB23.9011   1313349     NaN       NaN   \n",
       "7  H0MO01066  BCC5E5592BA664439810   1314222     NaN       NaN   \n",
       "8  H2NY14037  BE5946F36B95C4B1AA76   1314222     NaN       NaN   \n",
       "9  H4NC10047  B4A12FABC952A45BFAA6   1314222     NaN       NaN   \n",
       "\n",
       "                SUB_ID AMNDT_IND_FULL       RPT_TP_FULL ELECTION_TYPE  \\\n",
       "5  4022620191643762236            New  February monthly       Primary   \n",
       "6  4022620191643762178            New  February monthly       Primary   \n",
       "7  4022620191643761316            New  February monthly       Primary   \n",
       "8  4022620191643761310            New  February monthly       Primary   \n",
       "9  4022620191643761312            New  February monthly       Primary   \n",
       "\n",
       "   ELECTION_YEAR                           TRANSACTION_TP_FULL  \\\n",
       "5           2020  Contribution made to nonaffiliated committee   \n",
       "6              0  Contribution made to nonaffiliated committee   \n",
       "7           2020  Contribution made to nonaffiliated committee   \n",
       "8           2020  Contribution made to nonaffiliated committee   \n",
       "9           2020  Contribution made to nonaffiliated committee   \n",
       "\n",
       "        ENTITY_TP_FULL        TRAN_ID_parent TRAN_ID_child  \n",
       "5  Candidate Committee  B27CCDF382AE3419EB12          None  \n",
       "6  Candidate Committee                  SB23          9011  \n",
       "7  Candidate Committee  BCC5E5592BA664439810          None  \n",
       "8  Candidate Committee  BE5946F36B95C4B1AA76          None  \n",
       "9  Candidate Committee  B4A12FABC952A45BFAA6          None  "
      ]
     },
     "execution_count": 24,
     "metadata": {},
     "output_type": "execute_result"
    }
   ],
   "source": [
    "# We remove the original rows that have been amended later on\n",
    "contributions_from_committees[['TRAN_ID_parent', 'TRAN_ID_child']] = contributions_from_committees['TRAN_ID'].str.split('.', n=1, expand=True)\n",
    "\n",
    "merged = contributions_from_committees.merge(contributions_from_committees, on=['CMTE_ID', 'CAND_ID', 'TRAN_ID_parent'])\n",
    "\n",
    "amended_contribs = merged[(merged['AMNDT_IND_x'] == 'N') & (merged['AMNDT_IND_y'] == 'A') & (merged['TRANSACTION_DT_y'] > merged['TRANSACTION_DT_x'])]['SUB_ID_x']\n",
    "\n",
    "# sanity check\n",
    "contributions_from_committees = contributions_from_committees[~contributions_from_committees['SUB_ID'].isin(amended_contribs)]\n",
    "\n",
    "contributions_from_committees.head()"
   ]
  },
  {
   "cell_type": "code",
   "execution_count": 25,
   "metadata": {
    "_kg_hide-input": true,
    "_kg_hide-output": true,
    "execution": {
     "iopub.execute_input": "2020-09-02T04:53:56.644475Z",
     "iopub.status.busy": "2020-09-02T04:53:56.643731Z",
     "iopub.status.idle": "2020-09-02T04:53:57.129735Z",
     "shell.execute_reply": "2020-09-02T04:53:57.129061Z"
    },
    "papermill": {
     "duration": 0.530098,
     "end_time": "2020-09-02T04:53:57.129888",
     "exception": false,
     "start_time": "2020-09-02T04:53:56.599790",
     "status": "completed"
    },
    "tags": []
   },
   "outputs": [
    {
     "data": {
      "text/html": [
       "<div>\n",
       "<style scoped>\n",
       "    .dataframe tbody tr th:only-of-type {\n",
       "        vertical-align: middle;\n",
       "    }\n",
       "\n",
       "    .dataframe tbody tr th {\n",
       "        vertical-align: top;\n",
       "    }\n",
       "\n",
       "    .dataframe thead th {\n",
       "        text-align: right;\n",
       "    }\n",
       "</style>\n",
       "<table border=\"1\" class=\"dataframe\">\n",
       "  <thead>\n",
       "    <tr style=\"text-align: right;\">\n",
       "      <th></th>\n",
       "      <th>CMTE_ID</th>\n",
       "      <th>AMNDT_IND</th>\n",
       "      <th>RPT_TP</th>\n",
       "      <th>TRANSACTION_PGI</th>\n",
       "      <th>IMAGE_NUM</th>\n",
       "      <th>TRANSACTION_TP</th>\n",
       "      <th>ENTITY_TP</th>\n",
       "      <th>NAME</th>\n",
       "      <th>CITY</th>\n",
       "      <th>STATE</th>\n",
       "      <th>ZIP_CODE</th>\n",
       "      <th>EMPLOYER</th>\n",
       "      <th>OCCUPATION</th>\n",
       "      <th>TRANSACTION_DT</th>\n",
       "      <th>TRANSACTION_AMT</th>\n",
       "      <th>OTHER_ID</th>\n",
       "      <th>CAND_ID</th>\n",
       "      <th>TRAN_ID</th>\n",
       "      <th>FILE_NUM</th>\n",
       "      <th>MEMO_CD</th>\n",
       "      <th>MEMO_TEXT</th>\n",
       "      <th>SUB_ID</th>\n",
       "      <th>AMNDT_IND_FULL</th>\n",
       "      <th>RPT_TP_FULL</th>\n",
       "      <th>ELECTION_TYPE</th>\n",
       "      <th>ELECTION_YEAR</th>\n",
       "      <th>TRANSACTION_TP_FULL</th>\n",
       "      <th>ENTITY_TP_FULL</th>\n",
       "      <th>TRAN_ID_parent</th>\n",
       "      <th>TRAN_ID_child</th>\n",
       "    </tr>\n",
       "  </thead>\n",
       "  <tbody>\n",
       "    <tr>\n",
       "      <th>5</th>\n",
       "      <td>C00325324</td>\n",
       "      <td>N</td>\n",
       "      <td>M2</td>\n",
       "      <td>P2020</td>\n",
       "      <td>201902049145458880</td>\n",
       "      <td>24K</td>\n",
       "      <td>CCM</td>\n",
       "      <td>EMMER FOR CONGRESS</td>\n",
       "      <td>ANOKA</td>\n",
       "      <td>MN</td>\n",
       "      <td>55303</td>\n",
       "      <td>NaN</td>\n",
       "      <td>NaN</td>\n",
       "      <td>2019-01-25</td>\n",
       "      <td>1500</td>\n",
       "      <td>C00545749</td>\n",
       "      <td>H4MN06087</td>\n",
       "      <td>B27CCDF382AE3419EB12</td>\n",
       "      <td>1313984</td>\n",
       "      <td>NaN</td>\n",
       "      <td>NaN</td>\n",
       "      <td>4022620191643762236</td>\n",
       "      <td>New</td>\n",
       "      <td>February monthly</td>\n",
       "      <td>Primary</td>\n",
       "      <td>2020</td>\n",
       "      <td>Contribution made to nonaffiliated committee</td>\n",
       "      <td>Candidate Committee</td>\n",
       "      <td>B27CCDF382AE3419EB12</td>\n",
       "      <td>None</td>\n",
       "    </tr>\n",
       "    <tr>\n",
       "      <th>6</th>\n",
       "      <td>C00414425</td>\n",
       "      <td>N</td>\n",
       "      <td>M2</td>\n",
       "      <td>P</td>\n",
       "      <td>201902019145450791</td>\n",
       "      <td>24K</td>\n",
       "      <td>CCM</td>\n",
       "      <td>FRIENDS OF MARK WARNER</td>\n",
       "      <td>ALEXANDRIA</td>\n",
       "      <td>VA</td>\n",
       "      <td>22314</td>\n",
       "      <td>NaN</td>\n",
       "      <td>NaN</td>\n",
       "      <td>2019-01-29</td>\n",
       "      <td>1000</td>\n",
       "      <td>C00438713</td>\n",
       "      <td>S6VA00093</td>\n",
       "      <td>SB23.9011</td>\n",
       "      <td>1313349</td>\n",
       "      <td>NaN</td>\n",
       "      <td>NaN</td>\n",
       "      <td>4022620191643762178</td>\n",
       "      <td>New</td>\n",
       "      <td>February monthly</td>\n",
       "      <td>Primary</td>\n",
       "      <td>0</td>\n",
       "      <td>Contribution made to nonaffiliated committee</td>\n",
       "      <td>Candidate Committee</td>\n",
       "      <td>SB23</td>\n",
       "      <td>9011</td>\n",
       "    </tr>\n",
       "    <tr>\n",
       "      <th>7</th>\n",
       "      <td>C00366013</td>\n",
       "      <td>N</td>\n",
       "      <td>M2</td>\n",
       "      <td>P2020</td>\n",
       "      <td>201902049145460163</td>\n",
       "      <td>24K</td>\n",
       "      <td>CCM</td>\n",
       "      <td>CLAY JR. FOR CONGRESS</td>\n",
       "      <td>SAINT LOUIS</td>\n",
       "      <td>MO</td>\n",
       "      <td>631080544</td>\n",
       "      <td>NaN</td>\n",
       "      <td>NaN</td>\n",
       "      <td>2019-01-10</td>\n",
       "      <td>1000</td>\n",
       "      <td>C00346080</td>\n",
       "      <td>H0MO01066</td>\n",
       "      <td>BCC5E5592BA664439810</td>\n",
       "      <td>1314222</td>\n",
       "      <td>NaN</td>\n",
       "      <td>NaN</td>\n",
       "      <td>4022620191643761316</td>\n",
       "      <td>New</td>\n",
       "      <td>February monthly</td>\n",
       "      <td>Primary</td>\n",
       "      <td>2020</td>\n",
       "      <td>Contribution made to nonaffiliated committee</td>\n",
       "      <td>Candidate Committee</td>\n",
       "      <td>BCC5E5592BA664439810</td>\n",
       "      <td>None</td>\n",
       "    </tr>\n",
       "    <tr>\n",
       "      <th>8</th>\n",
       "      <td>C00366013</td>\n",
       "      <td>N</td>\n",
       "      <td>M2</td>\n",
       "      <td>P2020</td>\n",
       "      <td>201902049145460162</td>\n",
       "      <td>24K</td>\n",
       "      <td>CCM</td>\n",
       "      <td>MALONEY FOR CONGRESS</td>\n",
       "      <td>NEW YORK</td>\n",
       "      <td>NY</td>\n",
       "      <td>101281326</td>\n",
       "      <td>NaN</td>\n",
       "      <td>NaN</td>\n",
       "      <td>2019-01-02</td>\n",
       "      <td>2500</td>\n",
       "      <td>C00273169</td>\n",
       "      <td>H2NY14037</td>\n",
       "      <td>BE5946F36B95C4B1AA76</td>\n",
       "      <td>1314222</td>\n",
       "      <td>NaN</td>\n",
       "      <td>NaN</td>\n",
       "      <td>4022620191643761310</td>\n",
       "      <td>New</td>\n",
       "      <td>February monthly</td>\n",
       "      <td>Primary</td>\n",
       "      <td>2020</td>\n",
       "      <td>Contribution made to nonaffiliated committee</td>\n",
       "      <td>Candidate Committee</td>\n",
       "      <td>BE5946F36B95C4B1AA76</td>\n",
       "      <td>None</td>\n",
       "    </tr>\n",
       "    <tr>\n",
       "      <th>9</th>\n",
       "      <td>C00366013</td>\n",
       "      <td>N</td>\n",
       "      <td>M2</td>\n",
       "      <td>P2020</td>\n",
       "      <td>201902049145460162</td>\n",
       "      <td>24K</td>\n",
       "      <td>CCM</td>\n",
       "      <td>MCHENRY FOR CONGRESS</td>\n",
       "      <td>GASTONIA</td>\n",
       "      <td>NC</td>\n",
       "      <td>280532165</td>\n",
       "      <td>NaN</td>\n",
       "      <td>NaN</td>\n",
       "      <td>2019-01-10</td>\n",
       "      <td>1000</td>\n",
       "      <td>C00393629</td>\n",
       "      <td>H4NC10047</td>\n",
       "      <td>B4A12FABC952A45BFAA6</td>\n",
       "      <td>1314222</td>\n",
       "      <td>NaN</td>\n",
       "      <td>NaN</td>\n",
       "      <td>4022620191643761312</td>\n",
       "      <td>New</td>\n",
       "      <td>February monthly</td>\n",
       "      <td>Primary</td>\n",
       "      <td>2020</td>\n",
       "      <td>Contribution made to nonaffiliated committee</td>\n",
       "      <td>Candidate Committee</td>\n",
       "      <td>B4A12FABC952A45BFAA6</td>\n",
       "      <td>None</td>\n",
       "    </tr>\n",
       "  </tbody>\n",
       "</table>\n",
       "</div>"
      ],
      "text/plain": [
       "     CMTE_ID AMNDT_IND RPT_TP TRANSACTION_PGI           IMAGE_NUM  \\\n",
       "5  C00325324         N     M2           P2020  201902049145458880   \n",
       "6  C00414425         N     M2               P  201902019145450791   \n",
       "7  C00366013         N     M2           P2020  201902049145460163   \n",
       "8  C00366013         N     M2           P2020  201902049145460162   \n",
       "9  C00366013         N     M2           P2020  201902049145460162   \n",
       "\n",
       "  TRANSACTION_TP ENTITY_TP                    NAME         CITY STATE  \\\n",
       "5            24K       CCM      EMMER FOR CONGRESS        ANOKA    MN   \n",
       "6            24K       CCM  FRIENDS OF MARK WARNER   ALEXANDRIA    VA   \n",
       "7            24K       CCM   CLAY JR. FOR CONGRESS  SAINT LOUIS    MO   \n",
       "8            24K       CCM    MALONEY FOR CONGRESS     NEW YORK    NY   \n",
       "9            24K       CCM    MCHENRY FOR CONGRESS     GASTONIA    NC   \n",
       "\n",
       "    ZIP_CODE EMPLOYER OCCUPATION TRANSACTION_DT  TRANSACTION_AMT   OTHER_ID  \\\n",
       "5      55303      NaN        NaN     2019-01-25             1500  C00545749   \n",
       "6      22314      NaN        NaN     2019-01-29             1000  C00438713   \n",
       "7  631080544      NaN        NaN     2019-01-10             1000  C00346080   \n",
       "8  101281326      NaN        NaN     2019-01-02             2500  C00273169   \n",
       "9  280532165      NaN        NaN     2019-01-10             1000  C00393629   \n",
       "\n",
       "     CAND_ID               TRAN_ID  FILE_NUM MEMO_CD MEMO_TEXT  \\\n",
       "5  H4MN06087  B27CCDF382AE3419EB12   1313984     NaN       NaN   \n",
       "6  S6VA00093             SB23.9011   1313349     NaN       NaN   \n",
       "7  H0MO01066  BCC5E5592BA664439810   1314222     NaN       NaN   \n",
       "8  H2NY14037  BE5946F36B95C4B1AA76   1314222     NaN       NaN   \n",
       "9  H4NC10047  B4A12FABC952A45BFAA6   1314222     NaN       NaN   \n",
       "\n",
       "                SUB_ID AMNDT_IND_FULL       RPT_TP_FULL ELECTION_TYPE  \\\n",
       "5  4022620191643762236            New  February monthly       Primary   \n",
       "6  4022620191643762178            New  February monthly       Primary   \n",
       "7  4022620191643761316            New  February monthly       Primary   \n",
       "8  4022620191643761310            New  February monthly       Primary   \n",
       "9  4022620191643761312            New  February monthly       Primary   \n",
       "\n",
       "   ELECTION_YEAR                           TRANSACTION_TP_FULL  \\\n",
       "5           2020  Contribution made to nonaffiliated committee   \n",
       "6              0  Contribution made to nonaffiliated committee   \n",
       "7           2020  Contribution made to nonaffiliated committee   \n",
       "8           2020  Contribution made to nonaffiliated committee   \n",
       "9           2020  Contribution made to nonaffiliated committee   \n",
       "\n",
       "        ENTITY_TP_FULL        TRAN_ID_parent TRAN_ID_child  \n",
       "5  Candidate Committee  B27CCDF382AE3419EB12          None  \n",
       "6  Candidate Committee                  SB23          9011  \n",
       "7  Candidate Committee  BCC5E5592BA664439810          None  \n",
       "8  Candidate Committee  BE5946F36B95C4B1AA76          None  \n",
       "9  Candidate Committee  B4A12FABC952A45BFAA6          None  "
      ]
     },
     "execution_count": 25,
     "metadata": {},
     "output_type": "execute_result"
    }
   ],
   "source": [
    "contributions_from_committees['TRANSACTION_DT'] = pd.to_datetime(\n",
    "    contributions_from_committees['TRANSACTION_DT'].fillna(0).astype('int').astype('str')\n",
    "    .replace('0', np.NaN).str.zfill(8), format='%m%d%Y')\n",
    "contributions_from_committees.head()"
   ]
  },
  {
   "cell_type": "code",
   "execution_count": 26,
   "metadata": {
    "_kg_hide-input": true,
    "_kg_hide-output": true,
    "execution": {
     "iopub.execute_input": "2020-09-02T04:53:57.232709Z",
     "iopub.status.busy": "2020-09-02T04:53:57.231918Z",
     "iopub.status.idle": "2020-09-02T04:53:57.412650Z",
     "shell.execute_reply": "2020-09-02T04:53:57.411917Z"
    },
    "papermill": {
     "duration": 0.24643,
     "end_time": "2020-09-02T04:53:57.412783",
     "exception": false,
     "start_time": "2020-09-02T04:53:57.166353",
     "status": "completed"
    },
    "tags": []
   },
   "outputs": [
    {
     "data": {
      "text/html": [
       "<div>\n",
       "<style scoped>\n",
       "    .dataframe tbody tr th:only-of-type {\n",
       "        vertical-align: middle;\n",
       "    }\n",
       "\n",
       "    .dataframe tbody tr th {\n",
       "        vertical-align: top;\n",
       "    }\n",
       "\n",
       "    .dataframe thead th {\n",
       "        text-align: right;\n",
       "    }\n",
       "</style>\n",
       "<table border=\"1\" class=\"dataframe\">\n",
       "  <thead>\n",
       "    <tr style=\"text-align: right;\">\n",
       "      <th></th>\n",
       "      <th>CMTE_ID</th>\n",
       "      <th>AMNDT_IND</th>\n",
       "      <th>RPT_TP</th>\n",
       "      <th>TRANSACTION_PGI</th>\n",
       "      <th>IMAGE_NUM</th>\n",
       "      <th>TRANSACTION_TP</th>\n",
       "      <th>ENTITY_TP</th>\n",
       "      <th>NAME</th>\n",
       "      <th>CITY</th>\n",
       "      <th>STATE</th>\n",
       "      <th>ZIP_CODE</th>\n",
       "      <th>EMPLOYER</th>\n",
       "      <th>OCCUPATION</th>\n",
       "      <th>TRANSACTION_DT</th>\n",
       "      <th>TRANSACTION_AMT</th>\n",
       "      <th>OTHER_ID</th>\n",
       "      <th>CAND_ID</th>\n",
       "      <th>TRAN_ID</th>\n",
       "      <th>FILE_NUM</th>\n",
       "      <th>MEMO_CD</th>\n",
       "      <th>MEMO_TEXT</th>\n",
       "      <th>SUB_ID</th>\n",
       "      <th>AMNDT_IND_FULL</th>\n",
       "      <th>RPT_TP_FULL</th>\n",
       "      <th>ELECTION_TYPE</th>\n",
       "      <th>ELECTION_YEAR</th>\n",
       "      <th>TRANSACTION_TP_FULL</th>\n",
       "      <th>ENTITY_TP_FULL</th>\n",
       "      <th>TRAN_ID_parent</th>\n",
       "      <th>TRAN_ID_child</th>\n",
       "      <th>CAND_NAME</th>\n",
       "      <th>CAND_ICI</th>\n",
       "      <th>PTY_CD</th>\n",
       "      <th>CAND_PTY_AFFILIATION</th>\n",
       "      <th>TTL_RECEIPTS</th>\n",
       "      <th>TRANS_FROM_AUTH</th>\n",
       "      <th>TTL_DISB</th>\n",
       "      <th>TRANS_TO_AUTH</th>\n",
       "      <th>COH_BOP</th>\n",
       "      <th>COH_COP</th>\n",
       "      <th>CAND_CONTRIB</th>\n",
       "      <th>CAND_LOANS</th>\n",
       "      <th>OTHER_LOANS</th>\n",
       "      <th>CAND_LOAN_REPAY</th>\n",
       "      <th>OTHER_LOAN_REPAY</th>\n",
       "      <th>DEBTS_OWED_BY</th>\n",
       "      <th>TTL_INDIV_CONTRIB</th>\n",
       "      <th>CAND_OFFICE_ST</th>\n",
       "      <th>CAND_OFFICE_DISTRICT</th>\n",
       "      <th>SPEC_ELECTION</th>\n",
       "      <th>PRIM_ELECTION</th>\n",
       "      <th>RUN_ELECTION</th>\n",
       "      <th>GEN_ELECTION</th>\n",
       "      <th>GEN_ELECTION_PRECENT</th>\n",
       "      <th>OTHER_POL_CMTE_CONTRIB</th>\n",
       "      <th>POL_PTY_CONTRIB</th>\n",
       "      <th>CVG_END_DT</th>\n",
       "      <th>INDIV_REFUNDS</th>\n",
       "      <th>CMTE_REFUNDS</th>\n",
       "      <th>TTL_RECEIPTS_CORRECTED</th>\n",
       "      <th>TTL_DISB_CORRECTED</th>\n",
       "      <th>CAND_ICI_FULL</th>\n",
       "      <th>CAND_PTY_AFFILIATION_FULL</th>\n",
       "      <th>color</th>\n",
       "      <th>second_color</th>\n",
       "    </tr>\n",
       "  </thead>\n",
       "  <tbody>\n",
       "    <tr>\n",
       "      <th>0</th>\n",
       "      <td>C00371385</td>\n",
       "      <td>N</td>\n",
       "      <td>M2</td>\n",
       "      <td>P</td>\n",
       "      <td>201902059145461441</td>\n",
       "      <td>24K</td>\n",
       "      <td>CCM</td>\n",
       "      <td>THOM TILLIS COMMITTEE</td>\n",
       "      <td>RALEIGH</td>\n",
       "      <td>NC</td>\n",
       "      <td>27624</td>\n",
       "      <td>NaN</td>\n",
       "      <td>NaN</td>\n",
       "      <td>2019-01-09</td>\n",
       "      <td>5000</td>\n",
       "      <td>C00545772</td>\n",
       "      <td>S4NC00162</td>\n",
       "      <td>SB23.6145</td>\n",
       "      <td>1314334</td>\n",
       "      <td>NaN</td>\n",
       "      <td>NaN</td>\n",
       "      <td>4022620191643762260</td>\n",
       "      <td>New</td>\n",
       "      <td>February monthly</td>\n",
       "      <td>Primary</td>\n",
       "      <td>0</td>\n",
       "      <td>Contribution made to nonaffiliated committee</td>\n",
       "      <td>Candidate Committee</td>\n",
       "      <td>SB23</td>\n",
       "      <td>6145</td>\n",
       "      <td>TILLIS, THOM R. SEN.</td>\n",
       "      <td>I</td>\n",
       "      <td>2</td>\n",
       "      <td>REP</td>\n",
       "      <td>8269271.66</td>\n",
       "      <td>1152018.96</td>\n",
       "      <td>3811302.27</td>\n",
       "      <td>6441.91</td>\n",
       "      <td>2025444.43</td>\n",
       "      <td>6483413.82</td>\n",
       "      <td>0.0</td>\n",
       "      <td>0.0</td>\n",
       "      <td>0.0</td>\n",
       "      <td>0.0</td>\n",
       "      <td>0.0</td>\n",
       "      <td>0.0</td>\n",
       "      <td>4798506.58</td>\n",
       "      <td>NC</td>\n",
       "      <td>00</td>\n",
       "      <td>NaN</td>\n",
       "      <td>NaN</td>\n",
       "      <td>NaN</td>\n",
       "      <td>NaN</td>\n",
       "      <td>NaN</td>\n",
       "      <td>2278244.39</td>\n",
       "      <td>0.0</td>\n",
       "      <td>06/09/2020</td>\n",
       "      <td>102493.33</td>\n",
       "      <td>14425.67</td>\n",
       "      <td>7117252.7</td>\n",
       "      <td>3804860.36</td>\n",
       "      <td>Incumbent</td>\n",
       "      <td>Republican Party</td>\n",
       "      <td>red</td>\n",
       "      <td>pink</td>\n",
       "    </tr>\n",
       "    <tr>\n",
       "      <th>1</th>\n",
       "      <td>C00551192</td>\n",
       "      <td>N</td>\n",
       "      <td>M2</td>\n",
       "      <td>P2020</td>\n",
       "      <td>201902119145496265</td>\n",
       "      <td>24K</td>\n",
       "      <td>CCM</td>\n",
       "      <td>THOM TILLIS COMMITTEE</td>\n",
       "      <td>RALEIGH</td>\n",
       "      <td>NC</td>\n",
       "      <td>27624</td>\n",
       "      <td>NaN</td>\n",
       "      <td>NaN</td>\n",
       "      <td>2019-01-28</td>\n",
       "      <td>2700</td>\n",
       "      <td>C00545772</td>\n",
       "      <td>S4NC00162</td>\n",
       "      <td>43079234</td>\n",
       "      <td>1315351</td>\n",
       "      <td>NaN</td>\n",
       "      <td>CONTRIBUTION</td>\n",
       "      <td>4022220191643459655</td>\n",
       "      <td>New</td>\n",
       "      <td>February monthly</td>\n",
       "      <td>Primary</td>\n",
       "      <td>2020</td>\n",
       "      <td>Contribution made to nonaffiliated committee</td>\n",
       "      <td>Candidate Committee</td>\n",
       "      <td>43079234</td>\n",
       "      <td>None</td>\n",
       "      <td>TILLIS, THOM R. SEN.</td>\n",
       "      <td>I</td>\n",
       "      <td>2</td>\n",
       "      <td>REP</td>\n",
       "      <td>8269271.66</td>\n",
       "      <td>1152018.96</td>\n",
       "      <td>3811302.27</td>\n",
       "      <td>6441.91</td>\n",
       "      <td>2025444.43</td>\n",
       "      <td>6483413.82</td>\n",
       "      <td>0.0</td>\n",
       "      <td>0.0</td>\n",
       "      <td>0.0</td>\n",
       "      <td>0.0</td>\n",
       "      <td>0.0</td>\n",
       "      <td>0.0</td>\n",
       "      <td>4798506.58</td>\n",
       "      <td>NC</td>\n",
       "      <td>00</td>\n",
       "      <td>NaN</td>\n",
       "      <td>NaN</td>\n",
       "      <td>NaN</td>\n",
       "      <td>NaN</td>\n",
       "      <td>NaN</td>\n",
       "      <td>2278244.39</td>\n",
       "      <td>0.0</td>\n",
       "      <td>06/09/2020</td>\n",
       "      <td>102493.33</td>\n",
       "      <td>14425.67</td>\n",
       "      <td>7117252.7</td>\n",
       "      <td>3804860.36</td>\n",
       "      <td>Incumbent</td>\n",
       "      <td>Republican Party</td>\n",
       "      <td>red</td>\n",
       "      <td>pink</td>\n",
       "    </tr>\n",
       "    <tr>\n",
       "      <th>2</th>\n",
       "      <td>C00100107</td>\n",
       "      <td>N</td>\n",
       "      <td>M2</td>\n",
       "      <td>P2020</td>\n",
       "      <td>201902159145516138</td>\n",
       "      <td>24K</td>\n",
       "      <td>CCM</td>\n",
       "      <td>THOM TILLIS COMMITTEE</td>\n",
       "      <td>RALEIGH</td>\n",
       "      <td>NC</td>\n",
       "      <td>27624</td>\n",
       "      <td>NaN</td>\n",
       "      <td>NaN</td>\n",
       "      <td>2019-01-11</td>\n",
       "      <td>2500</td>\n",
       "      <td>C00545772</td>\n",
       "      <td>S4NC00162</td>\n",
       "      <td>156BA6A4BB1CA36FD35</td>\n",
       "      <td>1316037</td>\n",
       "      <td>NaN</td>\n",
       "      <td>NaN</td>\n",
       "      <td>4022720191644231227</td>\n",
       "      <td>New</td>\n",
       "      <td>February monthly</td>\n",
       "      <td>Primary</td>\n",
       "      <td>2020</td>\n",
       "      <td>Contribution made to nonaffiliated committee</td>\n",
       "      <td>Candidate Committee</td>\n",
       "      <td>156BA6A4BB1CA36FD35</td>\n",
       "      <td>None</td>\n",
       "      <td>TILLIS, THOM R. SEN.</td>\n",
       "      <td>I</td>\n",
       "      <td>2</td>\n",
       "      <td>REP</td>\n",
       "      <td>8269271.66</td>\n",
       "      <td>1152018.96</td>\n",
       "      <td>3811302.27</td>\n",
       "      <td>6441.91</td>\n",
       "      <td>2025444.43</td>\n",
       "      <td>6483413.82</td>\n",
       "      <td>0.0</td>\n",
       "      <td>0.0</td>\n",
       "      <td>0.0</td>\n",
       "      <td>0.0</td>\n",
       "      <td>0.0</td>\n",
       "      <td>0.0</td>\n",
       "      <td>4798506.58</td>\n",
       "      <td>NC</td>\n",
       "      <td>00</td>\n",
       "      <td>NaN</td>\n",
       "      <td>NaN</td>\n",
       "      <td>NaN</td>\n",
       "      <td>NaN</td>\n",
       "      <td>NaN</td>\n",
       "      <td>2278244.39</td>\n",
       "      <td>0.0</td>\n",
       "      <td>06/09/2020</td>\n",
       "      <td>102493.33</td>\n",
       "      <td>14425.67</td>\n",
       "      <td>7117252.7</td>\n",
       "      <td>3804860.36</td>\n",
       "      <td>Incumbent</td>\n",
       "      <td>Republican Party</td>\n",
       "      <td>red</td>\n",
       "      <td>pink</td>\n",
       "    </tr>\n",
       "    <tr>\n",
       "      <th>3</th>\n",
       "      <td>C00214304</td>\n",
       "      <td>N</td>\n",
       "      <td>M2</td>\n",
       "      <td>G2020</td>\n",
       "      <td>201902199145530707</td>\n",
       "      <td>24K</td>\n",
       "      <td>CCM</td>\n",
       "      <td>THOM TILLIS COMMITTEE</td>\n",
       "      <td>RALEIGH</td>\n",
       "      <td>NC</td>\n",
       "      <td>27624</td>\n",
       "      <td>NaN</td>\n",
       "      <td>NaN</td>\n",
       "      <td>2019-01-08</td>\n",
       "      <td>2500</td>\n",
       "      <td>C00545772</td>\n",
       "      <td>S4NC00162</td>\n",
       "      <td>10001048</td>\n",
       "      <td>1316592</td>\n",
       "      <td>NaN</td>\n",
       "      <td>NaN</td>\n",
       "      <td>4022820191644627257</td>\n",
       "      <td>New</td>\n",
       "      <td>February monthly</td>\n",
       "      <td>General</td>\n",
       "      <td>2020</td>\n",
       "      <td>Contribution made to nonaffiliated committee</td>\n",
       "      <td>Candidate Committee</td>\n",
       "      <td>10001048</td>\n",
       "      <td>None</td>\n",
       "      <td>TILLIS, THOM R. SEN.</td>\n",
       "      <td>I</td>\n",
       "      <td>2</td>\n",
       "      <td>REP</td>\n",
       "      <td>8269271.66</td>\n",
       "      <td>1152018.96</td>\n",
       "      <td>3811302.27</td>\n",
       "      <td>6441.91</td>\n",
       "      <td>2025444.43</td>\n",
       "      <td>6483413.82</td>\n",
       "      <td>0.0</td>\n",
       "      <td>0.0</td>\n",
       "      <td>0.0</td>\n",
       "      <td>0.0</td>\n",
       "      <td>0.0</td>\n",
       "      <td>0.0</td>\n",
       "      <td>4798506.58</td>\n",
       "      <td>NC</td>\n",
       "      <td>00</td>\n",
       "      <td>NaN</td>\n",
       "      <td>NaN</td>\n",
       "      <td>NaN</td>\n",
       "      <td>NaN</td>\n",
       "      <td>NaN</td>\n",
       "      <td>2278244.39</td>\n",
       "      <td>0.0</td>\n",
       "      <td>06/09/2020</td>\n",
       "      <td>102493.33</td>\n",
       "      <td>14425.67</td>\n",
       "      <td>7117252.7</td>\n",
       "      <td>3804860.36</td>\n",
       "      <td>Incumbent</td>\n",
       "      <td>Republican Party</td>\n",
       "      <td>red</td>\n",
       "      <td>pink</td>\n",
       "    </tr>\n",
       "    <tr>\n",
       "      <th>4</th>\n",
       "      <td>C00144774</td>\n",
       "      <td>N</td>\n",
       "      <td>M2</td>\n",
       "      <td>P2020</td>\n",
       "      <td>201902199145526887</td>\n",
       "      <td>24K</td>\n",
       "      <td>CCM</td>\n",
       "      <td>THOM TILLIS COMMITTEE</td>\n",
       "      <td>RALEIGH</td>\n",
       "      <td>NC</td>\n",
       "      <td>27624</td>\n",
       "      <td>NaN</td>\n",
       "      <td>NaN</td>\n",
       "      <td>2019-01-09</td>\n",
       "      <td>5000</td>\n",
       "      <td>C00545772</td>\n",
       "      <td>S4NC00162</td>\n",
       "      <td>12654565</td>\n",
       "      <td>1316428</td>\n",
       "      <td>NaN</td>\n",
       "      <td>DIRECT CONTIRIBUTION</td>\n",
       "      <td>4022720191644226724</td>\n",
       "      <td>New</td>\n",
       "      <td>February monthly</td>\n",
       "      <td>Primary</td>\n",
       "      <td>2020</td>\n",
       "      <td>Contribution made to nonaffiliated committee</td>\n",
       "      <td>Candidate Committee</td>\n",
       "      <td>12654565</td>\n",
       "      <td>None</td>\n",
       "      <td>TILLIS, THOM R. SEN.</td>\n",
       "      <td>I</td>\n",
       "      <td>2</td>\n",
       "      <td>REP</td>\n",
       "      <td>8269271.66</td>\n",
       "      <td>1152018.96</td>\n",
       "      <td>3811302.27</td>\n",
       "      <td>6441.91</td>\n",
       "      <td>2025444.43</td>\n",
       "      <td>6483413.82</td>\n",
       "      <td>0.0</td>\n",
       "      <td>0.0</td>\n",
       "      <td>0.0</td>\n",
       "      <td>0.0</td>\n",
       "      <td>0.0</td>\n",
       "      <td>0.0</td>\n",
       "      <td>4798506.58</td>\n",
       "      <td>NC</td>\n",
       "      <td>00</td>\n",
       "      <td>NaN</td>\n",
       "      <td>NaN</td>\n",
       "      <td>NaN</td>\n",
       "      <td>NaN</td>\n",
       "      <td>NaN</td>\n",
       "      <td>2278244.39</td>\n",
       "      <td>0.0</td>\n",
       "      <td>06/09/2020</td>\n",
       "      <td>102493.33</td>\n",
       "      <td>14425.67</td>\n",
       "      <td>7117252.7</td>\n",
       "      <td>3804860.36</td>\n",
       "      <td>Incumbent</td>\n",
       "      <td>Republican Party</td>\n",
       "      <td>red</td>\n",
       "      <td>pink</td>\n",
       "    </tr>\n",
       "  </tbody>\n",
       "</table>\n",
       "</div>"
      ],
      "text/plain": [
       "     CMTE_ID AMNDT_IND RPT_TP TRANSACTION_PGI           IMAGE_NUM  \\\n",
       "0  C00371385         N     M2               P  201902059145461441   \n",
       "1  C00551192         N     M2           P2020  201902119145496265   \n",
       "2  C00100107         N     M2           P2020  201902159145516138   \n",
       "3  C00214304         N     M2           G2020  201902199145530707   \n",
       "4  C00144774         N     M2           P2020  201902199145526887   \n",
       "\n",
       "  TRANSACTION_TP ENTITY_TP                   NAME     CITY STATE ZIP_CODE  \\\n",
       "0            24K       CCM  THOM TILLIS COMMITTEE  RALEIGH    NC    27624   \n",
       "1            24K       CCM  THOM TILLIS COMMITTEE  RALEIGH    NC    27624   \n",
       "2            24K       CCM  THOM TILLIS COMMITTEE  RALEIGH    NC    27624   \n",
       "3            24K       CCM  THOM TILLIS COMMITTEE  RALEIGH    NC    27624   \n",
       "4            24K       CCM  THOM TILLIS COMMITTEE  RALEIGH    NC    27624   \n",
       "\n",
       "  EMPLOYER OCCUPATION TRANSACTION_DT  TRANSACTION_AMT   OTHER_ID    CAND_ID  \\\n",
       "0      NaN        NaN     2019-01-09             5000  C00545772  S4NC00162   \n",
       "1      NaN        NaN     2019-01-28             2700  C00545772  S4NC00162   \n",
       "2      NaN        NaN     2019-01-11             2500  C00545772  S4NC00162   \n",
       "3      NaN        NaN     2019-01-08             2500  C00545772  S4NC00162   \n",
       "4      NaN        NaN     2019-01-09             5000  C00545772  S4NC00162   \n",
       "\n",
       "               TRAN_ID  FILE_NUM MEMO_CD             MEMO_TEXT  \\\n",
       "0            SB23.6145   1314334     NaN                   NaN   \n",
       "1             43079234   1315351     NaN          CONTRIBUTION   \n",
       "2  156BA6A4BB1CA36FD35   1316037     NaN                   NaN   \n",
       "3             10001048   1316592     NaN                   NaN   \n",
       "4             12654565   1316428     NaN  DIRECT CONTIRIBUTION   \n",
       "\n",
       "                SUB_ID AMNDT_IND_FULL       RPT_TP_FULL ELECTION_TYPE  \\\n",
       "0  4022620191643762260            New  February monthly       Primary   \n",
       "1  4022220191643459655            New  February monthly       Primary   \n",
       "2  4022720191644231227            New  February monthly       Primary   \n",
       "3  4022820191644627257            New  February monthly       General   \n",
       "4  4022720191644226724            New  February monthly       Primary   \n",
       "\n",
       "   ELECTION_YEAR                           TRANSACTION_TP_FULL  \\\n",
       "0              0  Contribution made to nonaffiliated committee   \n",
       "1           2020  Contribution made to nonaffiliated committee   \n",
       "2           2020  Contribution made to nonaffiliated committee   \n",
       "3           2020  Contribution made to nonaffiliated committee   \n",
       "4           2020  Contribution made to nonaffiliated committee   \n",
       "\n",
       "        ENTITY_TP_FULL       TRAN_ID_parent TRAN_ID_child  \\\n",
       "0  Candidate Committee                 SB23          6145   \n",
       "1  Candidate Committee             43079234          None   \n",
       "2  Candidate Committee  156BA6A4BB1CA36FD35          None   \n",
       "3  Candidate Committee             10001048          None   \n",
       "4  Candidate Committee             12654565          None   \n",
       "\n",
       "              CAND_NAME CAND_ICI  PTY_CD CAND_PTY_AFFILIATION  TTL_RECEIPTS  \\\n",
       "0  TILLIS, THOM R. SEN.        I       2                  REP    8269271.66   \n",
       "1  TILLIS, THOM R. SEN.        I       2                  REP    8269271.66   \n",
       "2  TILLIS, THOM R. SEN.        I       2                  REP    8269271.66   \n",
       "3  TILLIS, THOM R. SEN.        I       2                  REP    8269271.66   \n",
       "4  TILLIS, THOM R. SEN.        I       2                  REP    8269271.66   \n",
       "\n",
       "   TRANS_FROM_AUTH    TTL_DISB  TRANS_TO_AUTH     COH_BOP     COH_COP  \\\n",
       "0       1152018.96  3811302.27        6441.91  2025444.43  6483413.82   \n",
       "1       1152018.96  3811302.27        6441.91  2025444.43  6483413.82   \n",
       "2       1152018.96  3811302.27        6441.91  2025444.43  6483413.82   \n",
       "3       1152018.96  3811302.27        6441.91  2025444.43  6483413.82   \n",
       "4       1152018.96  3811302.27        6441.91  2025444.43  6483413.82   \n",
       "\n",
       "   CAND_CONTRIB  CAND_LOANS  OTHER_LOANS  CAND_LOAN_REPAY  OTHER_LOAN_REPAY  \\\n",
       "0           0.0         0.0          0.0              0.0               0.0   \n",
       "1           0.0         0.0          0.0              0.0               0.0   \n",
       "2           0.0         0.0          0.0              0.0               0.0   \n",
       "3           0.0         0.0          0.0              0.0               0.0   \n",
       "4           0.0         0.0          0.0              0.0               0.0   \n",
       "\n",
       "   DEBTS_OWED_BY  TTL_INDIV_CONTRIB CAND_OFFICE_ST CAND_OFFICE_DISTRICT  \\\n",
       "0            0.0         4798506.58             NC                   00   \n",
       "1            0.0         4798506.58             NC                   00   \n",
       "2            0.0         4798506.58             NC                   00   \n",
       "3            0.0         4798506.58             NC                   00   \n",
       "4            0.0         4798506.58             NC                   00   \n",
       "\n",
       "   SPEC_ELECTION  PRIM_ELECTION  RUN_ELECTION  GEN_ELECTION  \\\n",
       "0            NaN            NaN           NaN           NaN   \n",
       "1            NaN            NaN           NaN           NaN   \n",
       "2            NaN            NaN           NaN           NaN   \n",
       "3            NaN            NaN           NaN           NaN   \n",
       "4            NaN            NaN           NaN           NaN   \n",
       "\n",
       "   GEN_ELECTION_PRECENT  OTHER_POL_CMTE_CONTRIB  POL_PTY_CONTRIB  CVG_END_DT  \\\n",
       "0                   NaN              2278244.39              0.0  06/09/2020   \n",
       "1                   NaN              2278244.39              0.0  06/09/2020   \n",
       "2                   NaN              2278244.39              0.0  06/09/2020   \n",
       "3                   NaN              2278244.39              0.0  06/09/2020   \n",
       "4                   NaN              2278244.39              0.0  06/09/2020   \n",
       "\n",
       "   INDIV_REFUNDS  CMTE_REFUNDS  TTL_RECEIPTS_CORRECTED  TTL_DISB_CORRECTED  \\\n",
       "0      102493.33      14425.67               7117252.7          3804860.36   \n",
       "1      102493.33      14425.67               7117252.7          3804860.36   \n",
       "2      102493.33      14425.67               7117252.7          3804860.36   \n",
       "3      102493.33      14425.67               7117252.7          3804860.36   \n",
       "4      102493.33      14425.67               7117252.7          3804860.36   \n",
       "\n",
       "  CAND_ICI_FULL CAND_PTY_AFFILIATION_FULL color second_color  \n",
       "0     Incumbent          Republican Party   red         pink  \n",
       "1     Incumbent          Republican Party   red         pink  \n",
       "2     Incumbent          Republican Party   red         pink  \n",
       "3     Incumbent          Republican Party   red         pink  \n",
       "4     Incumbent          Republican Party   red         pink  "
      ]
     },
     "execution_count": 26,
     "metadata": {},
     "output_type": "execute_result"
    }
   ],
   "source": [
    "committee_contribs = contributions_from_committees.merge(candidates, on='CAND_ID')\n",
    "committee_contribs.head()"
   ]
  },
  {
   "cell_type": "code",
   "execution_count": 27,
   "metadata": {
    "_kg_hide-input": true,
    "execution": {
     "iopub.execute_input": "2020-09-02T04:53:57.495557Z",
     "iopub.status.busy": "2020-09-02T04:53:57.494821Z",
     "iopub.status.idle": "2020-09-02T04:53:57.603638Z",
     "shell.execute_reply": "2020-09-02T04:53:57.602848Z"
    },
    "papermill": {
     "duration": 0.153735,
     "end_time": "2020-09-02T04:53:57.603816",
     "exception": false,
     "start_time": "2020-09-02T04:53:57.450081",
     "status": "completed"
    },
    "tags": []
   },
   "outputs": [
    {
     "data": {
      "application/vnd.plotly.v1+json": {
       "config": {
        "linkText": "Export to plot.ly",
        "plotlyServerURL": "https://plot.ly",
        "showLink": true
       },
       "data": [
        {
         "marker": {
          "color": "rgba(55, 128, 191, 0.6)",
          "line": {
           "color": "blue",
           "width": 1
          }
         },
         "name": "CUNNINGHAM, CAL",
         "orientation": "v",
         "text": "",
         "type": "bar",
         "x": [
          "Candidate",
          "Candidate Committee",
          "Committee",
          "Individual (a person)",
          "Organization (not a committee and not a person)",
          "Political Action Committee"
         ],
         "y": [
          5000,
          467465,
          "",
          "",
          9378413,
          ""
         ]
        },
        {
         "marker": {
          "color": "rgba(219, 64, 82, 0.6)",
          "line": {
           "color": "red",
           "width": 1
          }
         },
         "name": "TILLIS, THOM R. SEN.",
         "orientation": "v",
         "text": "",
         "type": "bar",
         "x": [
          "Candidate",
          "Candidate Committee",
          "Committee",
          "Individual (a person)",
          "Organization (not a committee and not a person)",
          "Political Action Committee"
         ],
         "y": [
          20000,
          2116216,
          10700,
          8717,
          1046539,
          12000
         ]
        }
       ],
       "layout": {
        "legend": {
         "bgcolor": "#FFFFFF",
         "font": {
          "color": "#666666"
         }
        },
        "paper_bgcolor": "#FFFFFF",
        "plot_bgcolor": "#E5E5E5",
        "template": {
         "data": {
          "bar": [
           {
            "error_x": {
             "color": "#2a3f5f"
            },
            "error_y": {
             "color": "#2a3f5f"
            },
            "marker": {
             "line": {
              "color": "#E5ECF6",
              "width": 0.5
             },
             "pattern": {
              "fillmode": "overlay",
              "size": 10,
              "solidity": 0.2
             }
            },
            "type": "bar"
           }
          ],
          "barpolar": [
           {
            "marker": {
             "line": {
              "color": "#E5ECF6",
              "width": 0.5
             },
             "pattern": {
              "fillmode": "overlay",
              "size": 10,
              "solidity": 0.2
             }
            },
            "type": "barpolar"
           }
          ],
          "carpet": [
           {
            "aaxis": {
             "endlinecolor": "#2a3f5f",
             "gridcolor": "white",
             "linecolor": "white",
             "minorgridcolor": "white",
             "startlinecolor": "#2a3f5f"
            },
            "baxis": {
             "endlinecolor": "#2a3f5f",
             "gridcolor": "white",
             "linecolor": "white",
             "minorgridcolor": "white",
             "startlinecolor": "#2a3f5f"
            },
            "type": "carpet"
           }
          ],
          "choropleth": [
           {
            "colorbar": {
             "outlinewidth": 0,
             "ticks": ""
            },
            "type": "choropleth"
           }
          ],
          "contour": [
           {
            "colorbar": {
             "outlinewidth": 0,
             "ticks": ""
            },
            "colorscale": [
             [
              0,
              "#0d0887"
             ],
             [
              0.1111111111111111,
              "#46039f"
             ],
             [
              0.2222222222222222,
              "#7201a8"
             ],
             [
              0.3333333333333333,
              "#9c179e"
             ],
             [
              0.4444444444444444,
              "#bd3786"
             ],
             [
              0.5555555555555556,
              "#d8576b"
             ],
             [
              0.6666666666666666,
              "#ed7953"
             ],
             [
              0.7777777777777778,
              "#fb9f3a"
             ],
             [
              0.8888888888888888,
              "#fdca26"
             ],
             [
              1,
              "#f0f921"
             ]
            ],
            "type": "contour"
           }
          ],
          "contourcarpet": [
           {
            "colorbar": {
             "outlinewidth": 0,
             "ticks": ""
            },
            "type": "contourcarpet"
           }
          ],
          "heatmap": [
           {
            "colorbar": {
             "outlinewidth": 0,
             "ticks": ""
            },
            "colorscale": [
             [
              0,
              "#0d0887"
             ],
             [
              0.1111111111111111,
              "#46039f"
             ],
             [
              0.2222222222222222,
              "#7201a8"
             ],
             [
              0.3333333333333333,
              "#9c179e"
             ],
             [
              0.4444444444444444,
              "#bd3786"
             ],
             [
              0.5555555555555556,
              "#d8576b"
             ],
             [
              0.6666666666666666,
              "#ed7953"
             ],
             [
              0.7777777777777778,
              "#fb9f3a"
             ],
             [
              0.8888888888888888,
              "#fdca26"
             ],
             [
              1,
              "#f0f921"
             ]
            ],
            "type": "heatmap"
           }
          ],
          "heatmapgl": [
           {
            "colorbar": {
             "outlinewidth": 0,
             "ticks": ""
            },
            "colorscale": [
             [
              0,
              "#0d0887"
             ],
             [
              0.1111111111111111,
              "#46039f"
             ],
             [
              0.2222222222222222,
              "#7201a8"
             ],
             [
              0.3333333333333333,
              "#9c179e"
             ],
             [
              0.4444444444444444,
              "#bd3786"
             ],
             [
              0.5555555555555556,
              "#d8576b"
             ],
             [
              0.6666666666666666,
              "#ed7953"
             ],
             [
              0.7777777777777778,
              "#fb9f3a"
             ],
             [
              0.8888888888888888,
              "#fdca26"
             ],
             [
              1,
              "#f0f921"
             ]
            ],
            "type": "heatmapgl"
           }
          ],
          "histogram": [
           {
            "marker": {
             "pattern": {
              "fillmode": "overlay",
              "size": 10,
              "solidity": 0.2
             }
            },
            "type": "histogram"
           }
          ],
          "histogram2d": [
           {
            "colorbar": {
             "outlinewidth": 0,
             "ticks": ""
            },
            "colorscale": [
             [
              0,
              "#0d0887"
             ],
             [
              0.1111111111111111,
              "#46039f"
             ],
             [
              0.2222222222222222,
              "#7201a8"
             ],
             [
              0.3333333333333333,
              "#9c179e"
             ],
             [
              0.4444444444444444,
              "#bd3786"
             ],
             [
              0.5555555555555556,
              "#d8576b"
             ],
             [
              0.6666666666666666,
              "#ed7953"
             ],
             [
              0.7777777777777778,
              "#fb9f3a"
             ],
             [
              0.8888888888888888,
              "#fdca26"
             ],
             [
              1,
              "#f0f921"
             ]
            ],
            "type": "histogram2d"
           }
          ],
          "histogram2dcontour": [
           {
            "colorbar": {
             "outlinewidth": 0,
             "ticks": ""
            },
            "colorscale": [
             [
              0,
              "#0d0887"
             ],
             [
              0.1111111111111111,
              "#46039f"
             ],
             [
              0.2222222222222222,
              "#7201a8"
             ],
             [
              0.3333333333333333,
              "#9c179e"
             ],
             [
              0.4444444444444444,
              "#bd3786"
             ],
             [
              0.5555555555555556,
              "#d8576b"
             ],
             [
              0.6666666666666666,
              "#ed7953"
             ],
             [
              0.7777777777777778,
              "#fb9f3a"
             ],
             [
              0.8888888888888888,
              "#fdca26"
             ],
             [
              1,
              "#f0f921"
             ]
            ],
            "type": "histogram2dcontour"
           }
          ],
          "mesh3d": [
           {
            "colorbar": {
             "outlinewidth": 0,
             "ticks": ""
            },
            "type": "mesh3d"
           }
          ],
          "parcoords": [
           {
            "line": {
             "colorbar": {
              "outlinewidth": 0,
              "ticks": ""
             }
            },
            "type": "parcoords"
           }
          ],
          "pie": [
           {
            "automargin": true,
            "type": "pie"
           }
          ],
          "scatter": [
           {
            "fillpattern": {
             "fillmode": "overlay",
             "size": 10,
             "solidity": 0.2
            },
            "type": "scatter"
           }
          ],
          "scatter3d": [
           {
            "line": {
             "colorbar": {
              "outlinewidth": 0,
              "ticks": ""
             }
            },
            "marker": {
             "colorbar": {
              "outlinewidth": 0,
              "ticks": ""
             }
            },
            "type": "scatter3d"
           }
          ],
          "scattercarpet": [
           {
            "marker": {
             "colorbar": {
              "outlinewidth": 0,
              "ticks": ""
             }
            },
            "type": "scattercarpet"
           }
          ],
          "scattergeo": [
           {
            "marker": {
             "colorbar": {
              "outlinewidth": 0,
              "ticks": ""
             }
            },
            "type": "scattergeo"
           }
          ],
          "scattergl": [
           {
            "marker": {
             "colorbar": {
              "outlinewidth": 0,
              "ticks": ""
             }
            },
            "type": "scattergl"
           }
          ],
          "scattermapbox": [
           {
            "marker": {
             "colorbar": {
              "outlinewidth": 0,
              "ticks": ""
             }
            },
            "type": "scattermapbox"
           }
          ],
          "scatterpolar": [
           {
            "marker": {
             "colorbar": {
              "outlinewidth": 0,
              "ticks": ""
             }
            },
            "type": "scatterpolar"
           }
          ],
          "scatterpolargl": [
           {
            "marker": {
             "colorbar": {
              "outlinewidth": 0,
              "ticks": ""
             }
            },
            "type": "scatterpolargl"
           }
          ],
          "scatterternary": [
           {
            "marker": {
             "colorbar": {
              "outlinewidth": 0,
              "ticks": ""
             }
            },
            "type": "scatterternary"
           }
          ],
          "surface": [
           {
            "colorbar": {
             "outlinewidth": 0,
             "ticks": ""
            },
            "colorscale": [
             [
              0,
              "#0d0887"
             ],
             [
              0.1111111111111111,
              "#46039f"
             ],
             [
              0.2222222222222222,
              "#7201a8"
             ],
             [
              0.3333333333333333,
              "#9c179e"
             ],
             [
              0.4444444444444444,
              "#bd3786"
             ],
             [
              0.5555555555555556,
              "#d8576b"
             ],
             [
              0.6666666666666666,
              "#ed7953"
             ],
             [
              0.7777777777777778,
              "#fb9f3a"
             ],
             [
              0.8888888888888888,
              "#fdca26"
             ],
             [
              1,
              "#f0f921"
             ]
            ],
            "type": "surface"
           }
          ],
          "table": [
           {
            "cells": {
             "fill": {
              "color": "#EBF0F8"
             },
             "line": {
              "color": "white"
             }
            },
            "header": {
             "fill": {
              "color": "#C8D4E3"
             },
             "line": {
              "color": "white"
             }
            },
            "type": "table"
           }
          ]
         },
         "layout": {
          "annotationdefaults": {
           "arrowcolor": "#2a3f5f",
           "arrowhead": 0,
           "arrowwidth": 1
          },
          "autotypenumbers": "strict",
          "coloraxis": {
           "colorbar": {
            "outlinewidth": 0,
            "ticks": ""
           }
          },
          "colorscale": {
           "diverging": [
            [
             0,
             "#8e0152"
            ],
            [
             0.1,
             "#c51b7d"
            ],
            [
             0.2,
             "#de77ae"
            ],
            [
             0.3,
             "#f1b6da"
            ],
            [
             0.4,
             "#fde0ef"
            ],
            [
             0.5,
             "#f7f7f7"
            ],
            [
             0.6,
             "#e6f5d0"
            ],
            [
             0.7,
             "#b8e186"
            ],
            [
             0.8,
             "#7fbc41"
            ],
            [
             0.9,
             "#4d9221"
            ],
            [
             1,
             "#276419"
            ]
           ],
           "sequential": [
            [
             0,
             "#0d0887"
            ],
            [
             0.1111111111111111,
             "#46039f"
            ],
            [
             0.2222222222222222,
             "#7201a8"
            ],
            [
             0.3333333333333333,
             "#9c179e"
            ],
            [
             0.4444444444444444,
             "#bd3786"
            ],
            [
             0.5555555555555556,
             "#d8576b"
            ],
            [
             0.6666666666666666,
             "#ed7953"
            ],
            [
             0.7777777777777778,
             "#fb9f3a"
            ],
            [
             0.8888888888888888,
             "#fdca26"
            ],
            [
             1,
             "#f0f921"
            ]
           ],
           "sequentialminus": [
            [
             0,
             "#0d0887"
            ],
            [
             0.1111111111111111,
             "#46039f"
            ],
            [
             0.2222222222222222,
             "#7201a8"
            ],
            [
             0.3333333333333333,
             "#9c179e"
            ],
            [
             0.4444444444444444,
             "#bd3786"
            ],
            [
             0.5555555555555556,
             "#d8576b"
            ],
            [
             0.6666666666666666,
             "#ed7953"
            ],
            [
             0.7777777777777778,
             "#fb9f3a"
            ],
            [
             0.8888888888888888,
             "#fdca26"
            ],
            [
             1,
             "#f0f921"
            ]
           ]
          },
          "colorway": [
           "#636efa",
           "#EF553B",
           "#00cc96",
           "#ab63fa",
           "#FFA15A",
           "#19d3f3",
           "#FF6692",
           "#B6E880",
           "#FF97FF",
           "#FECB52"
          ],
          "font": {
           "color": "#2a3f5f"
          },
          "geo": {
           "bgcolor": "white",
           "lakecolor": "white",
           "landcolor": "#E5ECF6",
           "showlakes": true,
           "showland": true,
           "subunitcolor": "white"
          },
          "hoverlabel": {
           "align": "left"
          },
          "hovermode": "closest",
          "mapbox": {
           "style": "light"
          },
          "paper_bgcolor": "white",
          "plot_bgcolor": "#E5ECF6",
          "polar": {
           "angularaxis": {
            "gridcolor": "white",
            "linecolor": "white",
            "ticks": ""
           },
           "bgcolor": "#E5ECF6",
           "radialaxis": {
            "gridcolor": "white",
            "linecolor": "white",
            "ticks": ""
           }
          },
          "scene": {
           "xaxis": {
            "backgroundcolor": "#E5ECF6",
            "gridcolor": "white",
            "gridwidth": 2,
            "linecolor": "white",
            "showbackground": true,
            "ticks": "",
            "zerolinecolor": "white"
           },
           "yaxis": {
            "backgroundcolor": "#E5ECF6",
            "gridcolor": "white",
            "gridwidth": 2,
            "linecolor": "white",
            "showbackground": true,
            "ticks": "",
            "zerolinecolor": "white"
           },
           "zaxis": {
            "backgroundcolor": "#E5ECF6",
            "gridcolor": "white",
            "gridwidth": 2,
            "linecolor": "white",
            "showbackground": true,
            "ticks": "",
            "zerolinecolor": "white"
           }
          },
          "shapedefaults": {
           "line": {
            "color": "#2a3f5f"
           }
          },
          "ternary": {
           "aaxis": {
            "gridcolor": "white",
            "linecolor": "white",
            "ticks": ""
           },
           "baxis": {
            "gridcolor": "white",
            "linecolor": "white",
            "ticks": ""
           },
           "bgcolor": "#E5ECF6",
           "caxis": {
            "gridcolor": "white",
            "linecolor": "white",
            "ticks": ""
           }
          },
          "title": {
           "x": 0.05
          },
          "xaxis": {
           "automargin": true,
           "gridcolor": "white",
           "linecolor": "white",
           "ticks": "",
           "title": {
            "standoff": 15
           },
           "zerolinecolor": "white",
           "zerolinewidth": 2
          },
          "yaxis": {
           "automargin": true,
           "gridcolor": "white",
           "linecolor": "white",
           "ticks": "",
           "title": {
            "standoff": 15
           },
           "zerolinecolor": "white",
           "zerolinewidth": 2
          }
         }
        },
        "title": {
         "font": {
          "color": "#151516"
         },
         "text": "Total Committee contributions & expenditures by entities"
        },
        "xaxis": {
         "gridcolor": "#F6F6F6",
         "showgrid": true,
         "tickfont": {
          "color": "#666666"
         },
         "title": {
          "font": {
           "color": "#666666"
          },
          "text": ""
         },
         "zerolinecolor": "#F6F6F6"
        },
        "yaxis": {
         "gridcolor": "#F6F6F6",
         "showgrid": true,
         "tickfont": {
          "color": "#666666"
         },
         "title": {
          "font": {
           "color": "#666666"
          },
          "text": ""
         },
         "zerolinecolor": "#F6F6F6"
        }
       }
      },
      "text/html": [
       "<div>                            <div id=\"eab44773-d8df-4668-a57a-e68ec26062c9\" class=\"plotly-graph-div\" style=\"height:525px; width:100%;\"></div>            <script type=\"text/javascript\">                require([\"plotly\"], function(Plotly) {                    window.PLOTLYENV=window.PLOTLYENV || {};\n",
       "                    window.PLOTLYENV.BASE_URL='https://plot.ly';                                    if (document.getElementById(\"eab44773-d8df-4668-a57a-e68ec26062c9\")) {                    Plotly.newPlot(                        \"eab44773-d8df-4668-a57a-e68ec26062c9\",                        [{\"marker\":{\"color\":\"rgba(55, 128, 191, 0.6)\",\"line\":{\"color\":\"blue\",\"width\":1}},\"name\":\"CUNNINGHAM, CAL\",\"orientation\":\"v\",\"text\":\"\",\"x\":[\"Candidate\",\"Candidate Committee\",\"Committee\",\"Individual (a person)\",\"Organization (not a committee and not a person)\",\"Political Action Committee\"],\"y\":[5000.0,467465.0,\"\",\"\",9378413.0,\"\"],\"type\":\"bar\"},{\"marker\":{\"color\":\"rgba(219, 64, 82, 0.6)\",\"line\":{\"color\":\"red\",\"width\":1}},\"name\":\"TILLIS, THOM R. SEN.\",\"orientation\":\"v\",\"text\":\"\",\"x\":[\"Candidate\",\"Candidate Committee\",\"Committee\",\"Individual (a person)\",\"Organization (not a committee and not a person)\",\"Political Action Committee\"],\"y\":[20000.0,2116216.0,10700.0,8717.0,1046539.0,12000.0],\"type\":\"bar\"}],                        {\"legend\":{\"bgcolor\":\"#FFFFFF\",\"font\":{\"color\":\"#666666\"}},\"paper_bgcolor\":\"#FFFFFF\",\"plot_bgcolor\":\"#E5E5E5\",\"template\":{\"data\":{\"barpolar\":[{\"marker\":{\"line\":{\"color\":\"#E5ECF6\",\"width\":0.5},\"pattern\":{\"fillmode\":\"overlay\",\"size\":10,\"solidity\":0.2}},\"type\":\"barpolar\"}],\"bar\":[{\"error_x\":{\"color\":\"#2a3f5f\"},\"error_y\":{\"color\":\"#2a3f5f\"},\"marker\":{\"line\":{\"color\":\"#E5ECF6\",\"width\":0.5},\"pattern\":{\"fillmode\":\"overlay\",\"size\":10,\"solidity\":0.2}},\"type\":\"bar\"}],\"carpet\":[{\"aaxis\":{\"endlinecolor\":\"#2a3f5f\",\"gridcolor\":\"white\",\"linecolor\":\"white\",\"minorgridcolor\":\"white\",\"startlinecolor\":\"#2a3f5f\"},\"baxis\":{\"endlinecolor\":\"#2a3f5f\",\"gridcolor\":\"white\",\"linecolor\":\"white\",\"minorgridcolor\":\"white\",\"startlinecolor\":\"#2a3f5f\"},\"type\":\"carpet\"}],\"choropleth\":[{\"colorbar\":{\"outlinewidth\":0,\"ticks\":\"\"},\"type\":\"choropleth\"}],\"contourcarpet\":[{\"colorbar\":{\"outlinewidth\":0,\"ticks\":\"\"},\"type\":\"contourcarpet\"}],\"contour\":[{\"colorbar\":{\"outlinewidth\":0,\"ticks\":\"\"},\"colorscale\":[[0.0,\"#0d0887\"],[0.1111111111111111,\"#46039f\"],[0.2222222222222222,\"#7201a8\"],[0.3333333333333333,\"#9c179e\"],[0.4444444444444444,\"#bd3786\"],[0.5555555555555556,\"#d8576b\"],[0.6666666666666666,\"#ed7953\"],[0.7777777777777778,\"#fb9f3a\"],[0.8888888888888888,\"#fdca26\"],[1.0,\"#f0f921\"]],\"type\":\"contour\"}],\"heatmapgl\":[{\"colorbar\":{\"outlinewidth\":0,\"ticks\":\"\"},\"colorscale\":[[0.0,\"#0d0887\"],[0.1111111111111111,\"#46039f\"],[0.2222222222222222,\"#7201a8\"],[0.3333333333333333,\"#9c179e\"],[0.4444444444444444,\"#bd3786\"],[0.5555555555555556,\"#d8576b\"],[0.6666666666666666,\"#ed7953\"],[0.7777777777777778,\"#fb9f3a\"],[0.8888888888888888,\"#fdca26\"],[1.0,\"#f0f921\"]],\"type\":\"heatmapgl\"}],\"heatmap\":[{\"colorbar\":{\"outlinewidth\":0,\"ticks\":\"\"},\"colorscale\":[[0.0,\"#0d0887\"],[0.1111111111111111,\"#46039f\"],[0.2222222222222222,\"#7201a8\"],[0.3333333333333333,\"#9c179e\"],[0.4444444444444444,\"#bd3786\"],[0.5555555555555556,\"#d8576b\"],[0.6666666666666666,\"#ed7953\"],[0.7777777777777778,\"#fb9f3a\"],[0.8888888888888888,\"#fdca26\"],[1.0,\"#f0f921\"]],\"type\":\"heatmap\"}],\"histogram2dcontour\":[{\"colorbar\":{\"outlinewidth\":0,\"ticks\":\"\"},\"colorscale\":[[0.0,\"#0d0887\"],[0.1111111111111111,\"#46039f\"],[0.2222222222222222,\"#7201a8\"],[0.3333333333333333,\"#9c179e\"],[0.4444444444444444,\"#bd3786\"],[0.5555555555555556,\"#d8576b\"],[0.6666666666666666,\"#ed7953\"],[0.7777777777777778,\"#fb9f3a\"],[0.8888888888888888,\"#fdca26\"],[1.0,\"#f0f921\"]],\"type\":\"histogram2dcontour\"}],\"histogram2d\":[{\"colorbar\":{\"outlinewidth\":0,\"ticks\":\"\"},\"colorscale\":[[0.0,\"#0d0887\"],[0.1111111111111111,\"#46039f\"],[0.2222222222222222,\"#7201a8\"],[0.3333333333333333,\"#9c179e\"],[0.4444444444444444,\"#bd3786\"],[0.5555555555555556,\"#d8576b\"],[0.6666666666666666,\"#ed7953\"],[0.7777777777777778,\"#fb9f3a\"],[0.8888888888888888,\"#fdca26\"],[1.0,\"#f0f921\"]],\"type\":\"histogram2d\"}],\"histogram\":[{\"marker\":{\"pattern\":{\"fillmode\":\"overlay\",\"size\":10,\"solidity\":0.2}},\"type\":\"histogram\"}],\"mesh3d\":[{\"colorbar\":{\"outlinewidth\":0,\"ticks\":\"\"},\"type\":\"mesh3d\"}],\"parcoords\":[{\"line\":{\"colorbar\":{\"outlinewidth\":0,\"ticks\":\"\"}},\"type\":\"parcoords\"}],\"pie\":[{\"automargin\":true,\"type\":\"pie\"}],\"scatter3d\":[{\"line\":{\"colorbar\":{\"outlinewidth\":0,\"ticks\":\"\"}},\"marker\":{\"colorbar\":{\"outlinewidth\":0,\"ticks\":\"\"}},\"type\":\"scatter3d\"}],\"scattercarpet\":[{\"marker\":{\"colorbar\":{\"outlinewidth\":0,\"ticks\":\"\"}},\"type\":\"scattercarpet\"}],\"scattergeo\":[{\"marker\":{\"colorbar\":{\"outlinewidth\":0,\"ticks\":\"\"}},\"type\":\"scattergeo\"}],\"scattergl\":[{\"marker\":{\"colorbar\":{\"outlinewidth\":0,\"ticks\":\"\"}},\"type\":\"scattergl\"}],\"scattermapbox\":[{\"marker\":{\"colorbar\":{\"outlinewidth\":0,\"ticks\":\"\"}},\"type\":\"scattermapbox\"}],\"scatterpolargl\":[{\"marker\":{\"colorbar\":{\"outlinewidth\":0,\"ticks\":\"\"}},\"type\":\"scatterpolargl\"}],\"scatterpolar\":[{\"marker\":{\"colorbar\":{\"outlinewidth\":0,\"ticks\":\"\"}},\"type\":\"scatterpolar\"}],\"scatter\":[{\"fillpattern\":{\"fillmode\":\"overlay\",\"size\":10,\"solidity\":0.2},\"type\":\"scatter\"}],\"scatterternary\":[{\"marker\":{\"colorbar\":{\"outlinewidth\":0,\"ticks\":\"\"}},\"type\":\"scatterternary\"}],\"surface\":[{\"colorbar\":{\"outlinewidth\":0,\"ticks\":\"\"},\"colorscale\":[[0.0,\"#0d0887\"],[0.1111111111111111,\"#46039f\"],[0.2222222222222222,\"#7201a8\"],[0.3333333333333333,\"#9c179e\"],[0.4444444444444444,\"#bd3786\"],[0.5555555555555556,\"#d8576b\"],[0.6666666666666666,\"#ed7953\"],[0.7777777777777778,\"#fb9f3a\"],[0.8888888888888888,\"#fdca26\"],[1.0,\"#f0f921\"]],\"type\":\"surface\"}],\"table\":[{\"cells\":{\"fill\":{\"color\":\"#EBF0F8\"},\"line\":{\"color\":\"white\"}},\"header\":{\"fill\":{\"color\":\"#C8D4E3\"},\"line\":{\"color\":\"white\"}},\"type\":\"table\"}]},\"layout\":{\"annotationdefaults\":{\"arrowcolor\":\"#2a3f5f\",\"arrowhead\":0,\"arrowwidth\":1},\"autotypenumbers\":\"strict\",\"coloraxis\":{\"colorbar\":{\"outlinewidth\":0,\"ticks\":\"\"}},\"colorscale\":{\"diverging\":[[0,\"#8e0152\"],[0.1,\"#c51b7d\"],[0.2,\"#de77ae\"],[0.3,\"#f1b6da\"],[0.4,\"#fde0ef\"],[0.5,\"#f7f7f7\"],[0.6,\"#e6f5d0\"],[0.7,\"#b8e186\"],[0.8,\"#7fbc41\"],[0.9,\"#4d9221\"],[1,\"#276419\"]],\"sequential\":[[0.0,\"#0d0887\"],[0.1111111111111111,\"#46039f\"],[0.2222222222222222,\"#7201a8\"],[0.3333333333333333,\"#9c179e\"],[0.4444444444444444,\"#bd3786\"],[0.5555555555555556,\"#d8576b\"],[0.6666666666666666,\"#ed7953\"],[0.7777777777777778,\"#fb9f3a\"],[0.8888888888888888,\"#fdca26\"],[1.0,\"#f0f921\"]],\"sequentialminus\":[[0.0,\"#0d0887\"],[0.1111111111111111,\"#46039f\"],[0.2222222222222222,\"#7201a8\"],[0.3333333333333333,\"#9c179e\"],[0.4444444444444444,\"#bd3786\"],[0.5555555555555556,\"#d8576b\"],[0.6666666666666666,\"#ed7953\"],[0.7777777777777778,\"#fb9f3a\"],[0.8888888888888888,\"#fdca26\"],[1.0,\"#f0f921\"]]},\"colorway\":[\"#636efa\",\"#EF553B\",\"#00cc96\",\"#ab63fa\",\"#FFA15A\",\"#19d3f3\",\"#FF6692\",\"#B6E880\",\"#FF97FF\",\"#FECB52\"],\"font\":{\"color\":\"#2a3f5f\"},\"geo\":{\"bgcolor\":\"white\",\"lakecolor\":\"white\",\"landcolor\":\"#E5ECF6\",\"showlakes\":true,\"showland\":true,\"subunitcolor\":\"white\"},\"hoverlabel\":{\"align\":\"left\"},\"hovermode\":\"closest\",\"mapbox\":{\"style\":\"light\"},\"paper_bgcolor\":\"white\",\"plot_bgcolor\":\"#E5ECF6\",\"polar\":{\"angularaxis\":{\"gridcolor\":\"white\",\"linecolor\":\"white\",\"ticks\":\"\"},\"bgcolor\":\"#E5ECF6\",\"radialaxis\":{\"gridcolor\":\"white\",\"linecolor\":\"white\",\"ticks\":\"\"}},\"scene\":{\"xaxis\":{\"backgroundcolor\":\"#E5ECF6\",\"gridcolor\":\"white\",\"gridwidth\":2,\"linecolor\":\"white\",\"showbackground\":true,\"ticks\":\"\",\"zerolinecolor\":\"white\"},\"yaxis\":{\"backgroundcolor\":\"#E5ECF6\",\"gridcolor\":\"white\",\"gridwidth\":2,\"linecolor\":\"white\",\"showbackground\":true,\"ticks\":\"\",\"zerolinecolor\":\"white\"},\"zaxis\":{\"backgroundcolor\":\"#E5ECF6\",\"gridcolor\":\"white\",\"gridwidth\":2,\"linecolor\":\"white\",\"showbackground\":true,\"ticks\":\"\",\"zerolinecolor\":\"white\"}},\"shapedefaults\":{\"line\":{\"color\":\"#2a3f5f\"}},\"ternary\":{\"aaxis\":{\"gridcolor\":\"white\",\"linecolor\":\"white\",\"ticks\":\"\"},\"baxis\":{\"gridcolor\":\"white\",\"linecolor\":\"white\",\"ticks\":\"\"},\"bgcolor\":\"#E5ECF6\",\"caxis\":{\"gridcolor\":\"white\",\"linecolor\":\"white\",\"ticks\":\"\"}},\"title\":{\"x\":0.05},\"xaxis\":{\"automargin\":true,\"gridcolor\":\"white\",\"linecolor\":\"white\",\"ticks\":\"\",\"title\":{\"standoff\":15},\"zerolinecolor\":\"white\",\"zerolinewidth\":2},\"yaxis\":{\"automargin\":true,\"gridcolor\":\"white\",\"linecolor\":\"white\",\"ticks\":\"\",\"title\":{\"standoff\":15},\"zerolinecolor\":\"white\",\"zerolinewidth\":2}}},\"title\":{\"font\":{\"color\":\"#151516\"},\"text\":\"Total Committee contributions & expenditures by entities\"},\"xaxis\":{\"gridcolor\":\"#F6F6F6\",\"showgrid\":true,\"tickfont\":{\"color\":\"#666666\"},\"title\":{\"font\":{\"color\":\"#666666\"},\"text\":\"\"},\"zerolinecolor\":\"#F6F6F6\"},\"yaxis\":{\"gridcolor\":\"#F6F6F6\",\"showgrid\":true,\"tickfont\":{\"color\":\"#666666\"},\"title\":{\"font\":{\"color\":\"#666666\"},\"text\":\"\"},\"zerolinecolor\":\"#F6F6F6\"}},                        {\"showLink\": true, \"linkText\": \"Export to plot.ly\", \"plotlyServerURL\": \"https://plot.ly\", \"responsive\": true}                    ).then(function(){\n",
       "                            \n",
       "var gd = document.getElementById('eab44773-d8df-4668-a57a-e68ec26062c9');\n",
       "var x = new MutationObserver(function (mutations, observer) {{\n",
       "        var display = window.getComputedStyle(gd).display;\n",
       "        if (!display || display === 'none') {{\n",
       "            console.log([gd, 'removed!']);\n",
       "            Plotly.purge(gd);\n",
       "            observer.disconnect();\n",
       "        }}\n",
       "}});\n",
       "\n",
       "// Listen for the removal of the full notebook cells\n",
       "var notebookContainer = gd.closest('#notebook-container');\n",
       "if (notebookContainer) {{\n",
       "    x.observe(notebookContainer, {childList: true});\n",
       "}}\n",
       "\n",
       "// Listen for the clearing of the current output cell\n",
       "var outputEl = gd.closest('.output');\n",
       "if (outputEl) {{\n",
       "    x.observe(outputEl, {childList: true});\n",
       "}}\n",
       "\n",
       "                        })                };                });            </script>        </div>"
      ]
     },
     "metadata": {},
     "output_type": "display_data"
    }
   ],
   "source": [
    "by_entity = committee_contribs.groupby(['CAND_NAME', 'ENTITY_TP_FULL']).agg({'TRANSACTION_AMT': 'sum'}).reset_index()\n",
    "by_entity_pivot = by_entity.pivot_table(values='TRANSACTION_AMT', index='ENTITY_TP_FULL', columns='CAND_NAME')\n",
    "by_entity_pivot.iplot(kind='bar', colors=color_map, title='Total Committee contributions & expenditures by entities')"
   ]
  },
  {
   "cell_type": "code",
   "execution_count": 28,
   "metadata": {
    "_kg_hide-input": true,
    "execution": {
     "iopub.execute_input": "2020-09-02T04:53:57.717122Z",
     "iopub.status.busy": "2020-09-02T04:53:57.716282Z",
     "iopub.status.idle": "2020-09-02T04:53:57.791976Z",
     "shell.execute_reply": "2020-09-02T04:53:57.791258Z"
    },
    "papermill": {
     "duration": 0.134392,
     "end_time": "2020-09-02T04:53:57.792122",
     "exception": false,
     "start_time": "2020-09-02T04:53:57.657730",
     "status": "completed"
    },
    "tags": []
   },
   "outputs": [
    {
     "data": {
      "application/vnd.plotly.v1+json": {
       "config": {
        "linkText": "Export to plot.ly",
        "plotlyServerURL": "https://plot.ly",
        "showLink": true
       },
       "data": [
        {
         "marker": {
          "color": "rgba(55, 128, 191, 0.6)",
          "line": {
           "color": "blue",
           "width": 1
          }
         },
         "name": "CUNNINGHAM, CAL",
         "orientation": "v",
         "text": "",
         "type": "bar",
         "x": [
          "Contribution made to nonaffiliated committee",
          "Coordinated party expenditure",
          "In-kind contribution made to registered filer",
          "Independent expenditure advocating election of candidate",
          "Independent expenditure opposing election of candidate"
         ],
         "y": [
          472555,
          319947,
          77,
          8808288,
          250011
         ]
        },
        {
         "marker": {
          "color": "rgba(219, 64, 82, 0.6)",
          "line": {
           "color": "red",
           "width": 1
          }
         },
         "name": "TILLIS, THOM R. SEN.",
         "orientation": "v",
         "text": "",
         "type": "bar",
         "x": [
          "Contribution made to nonaffiliated committee",
          "Coordinated party expenditure",
          "In-kind contribution made to registered filer",
          "Independent expenditure advocating election of candidate",
          "Independent expenditure opposing election of candidate"
         ],
         "y": [
          2176748,
          "",
          3075,
          757257,
          295662
         ]
        }
       ],
       "layout": {
        "legend": {
         "bgcolor": "#FFFFFF",
         "font": {
          "color": "#666666"
         }
        },
        "paper_bgcolor": "#FFFFFF",
        "plot_bgcolor": "#E5E5E5",
        "template": {
         "data": {
          "bar": [
           {
            "error_x": {
             "color": "#2a3f5f"
            },
            "error_y": {
             "color": "#2a3f5f"
            },
            "marker": {
             "line": {
              "color": "#E5ECF6",
              "width": 0.5
             },
             "pattern": {
              "fillmode": "overlay",
              "size": 10,
              "solidity": 0.2
             }
            },
            "type": "bar"
           }
          ],
          "barpolar": [
           {
            "marker": {
             "line": {
              "color": "#E5ECF6",
              "width": 0.5
             },
             "pattern": {
              "fillmode": "overlay",
              "size": 10,
              "solidity": 0.2
             }
            },
            "type": "barpolar"
           }
          ],
          "carpet": [
           {
            "aaxis": {
             "endlinecolor": "#2a3f5f",
             "gridcolor": "white",
             "linecolor": "white",
             "minorgridcolor": "white",
             "startlinecolor": "#2a3f5f"
            },
            "baxis": {
             "endlinecolor": "#2a3f5f",
             "gridcolor": "white",
             "linecolor": "white",
             "minorgridcolor": "white",
             "startlinecolor": "#2a3f5f"
            },
            "type": "carpet"
           }
          ],
          "choropleth": [
           {
            "colorbar": {
             "outlinewidth": 0,
             "ticks": ""
            },
            "type": "choropleth"
           }
          ],
          "contour": [
           {
            "colorbar": {
             "outlinewidth": 0,
             "ticks": ""
            },
            "colorscale": [
             [
              0,
              "#0d0887"
             ],
             [
              0.1111111111111111,
              "#46039f"
             ],
             [
              0.2222222222222222,
              "#7201a8"
             ],
             [
              0.3333333333333333,
              "#9c179e"
             ],
             [
              0.4444444444444444,
              "#bd3786"
             ],
             [
              0.5555555555555556,
              "#d8576b"
             ],
             [
              0.6666666666666666,
              "#ed7953"
             ],
             [
              0.7777777777777778,
              "#fb9f3a"
             ],
             [
              0.8888888888888888,
              "#fdca26"
             ],
             [
              1,
              "#f0f921"
             ]
            ],
            "type": "contour"
           }
          ],
          "contourcarpet": [
           {
            "colorbar": {
             "outlinewidth": 0,
             "ticks": ""
            },
            "type": "contourcarpet"
           }
          ],
          "heatmap": [
           {
            "colorbar": {
             "outlinewidth": 0,
             "ticks": ""
            },
            "colorscale": [
             [
              0,
              "#0d0887"
             ],
             [
              0.1111111111111111,
              "#46039f"
             ],
             [
              0.2222222222222222,
              "#7201a8"
             ],
             [
              0.3333333333333333,
              "#9c179e"
             ],
             [
              0.4444444444444444,
              "#bd3786"
             ],
             [
              0.5555555555555556,
              "#d8576b"
             ],
             [
              0.6666666666666666,
              "#ed7953"
             ],
             [
              0.7777777777777778,
              "#fb9f3a"
             ],
             [
              0.8888888888888888,
              "#fdca26"
             ],
             [
              1,
              "#f0f921"
             ]
            ],
            "type": "heatmap"
           }
          ],
          "heatmapgl": [
           {
            "colorbar": {
             "outlinewidth": 0,
             "ticks": ""
            },
            "colorscale": [
             [
              0,
              "#0d0887"
             ],
             [
              0.1111111111111111,
              "#46039f"
             ],
             [
              0.2222222222222222,
              "#7201a8"
             ],
             [
              0.3333333333333333,
              "#9c179e"
             ],
             [
              0.4444444444444444,
              "#bd3786"
             ],
             [
              0.5555555555555556,
              "#d8576b"
             ],
             [
              0.6666666666666666,
              "#ed7953"
             ],
             [
              0.7777777777777778,
              "#fb9f3a"
             ],
             [
              0.8888888888888888,
              "#fdca26"
             ],
             [
              1,
              "#f0f921"
             ]
            ],
            "type": "heatmapgl"
           }
          ],
          "histogram": [
           {
            "marker": {
             "pattern": {
              "fillmode": "overlay",
              "size": 10,
              "solidity": 0.2
             }
            },
            "type": "histogram"
           }
          ],
          "histogram2d": [
           {
            "colorbar": {
             "outlinewidth": 0,
             "ticks": ""
            },
            "colorscale": [
             [
              0,
              "#0d0887"
             ],
             [
              0.1111111111111111,
              "#46039f"
             ],
             [
              0.2222222222222222,
              "#7201a8"
             ],
             [
              0.3333333333333333,
              "#9c179e"
             ],
             [
              0.4444444444444444,
              "#bd3786"
             ],
             [
              0.5555555555555556,
              "#d8576b"
             ],
             [
              0.6666666666666666,
              "#ed7953"
             ],
             [
              0.7777777777777778,
              "#fb9f3a"
             ],
             [
              0.8888888888888888,
              "#fdca26"
             ],
             [
              1,
              "#f0f921"
             ]
            ],
            "type": "histogram2d"
           }
          ],
          "histogram2dcontour": [
           {
            "colorbar": {
             "outlinewidth": 0,
             "ticks": ""
            },
            "colorscale": [
             [
              0,
              "#0d0887"
             ],
             [
              0.1111111111111111,
              "#46039f"
             ],
             [
              0.2222222222222222,
              "#7201a8"
             ],
             [
              0.3333333333333333,
              "#9c179e"
             ],
             [
              0.4444444444444444,
              "#bd3786"
             ],
             [
              0.5555555555555556,
              "#d8576b"
             ],
             [
              0.6666666666666666,
              "#ed7953"
             ],
             [
              0.7777777777777778,
              "#fb9f3a"
             ],
             [
              0.8888888888888888,
              "#fdca26"
             ],
             [
              1,
              "#f0f921"
             ]
            ],
            "type": "histogram2dcontour"
           }
          ],
          "mesh3d": [
           {
            "colorbar": {
             "outlinewidth": 0,
             "ticks": ""
            },
            "type": "mesh3d"
           }
          ],
          "parcoords": [
           {
            "line": {
             "colorbar": {
              "outlinewidth": 0,
              "ticks": ""
             }
            },
            "type": "parcoords"
           }
          ],
          "pie": [
           {
            "automargin": true,
            "type": "pie"
           }
          ],
          "scatter": [
           {
            "fillpattern": {
             "fillmode": "overlay",
             "size": 10,
             "solidity": 0.2
            },
            "type": "scatter"
           }
          ],
          "scatter3d": [
           {
            "line": {
             "colorbar": {
              "outlinewidth": 0,
              "ticks": ""
             }
            },
            "marker": {
             "colorbar": {
              "outlinewidth": 0,
              "ticks": ""
             }
            },
            "type": "scatter3d"
           }
          ],
          "scattercarpet": [
           {
            "marker": {
             "colorbar": {
              "outlinewidth": 0,
              "ticks": ""
             }
            },
            "type": "scattercarpet"
           }
          ],
          "scattergeo": [
           {
            "marker": {
             "colorbar": {
              "outlinewidth": 0,
              "ticks": ""
             }
            },
            "type": "scattergeo"
           }
          ],
          "scattergl": [
           {
            "marker": {
             "colorbar": {
              "outlinewidth": 0,
              "ticks": ""
             }
            },
            "type": "scattergl"
           }
          ],
          "scattermapbox": [
           {
            "marker": {
             "colorbar": {
              "outlinewidth": 0,
              "ticks": ""
             }
            },
            "type": "scattermapbox"
           }
          ],
          "scatterpolar": [
           {
            "marker": {
             "colorbar": {
              "outlinewidth": 0,
              "ticks": ""
             }
            },
            "type": "scatterpolar"
           }
          ],
          "scatterpolargl": [
           {
            "marker": {
             "colorbar": {
              "outlinewidth": 0,
              "ticks": ""
             }
            },
            "type": "scatterpolargl"
           }
          ],
          "scatterternary": [
           {
            "marker": {
             "colorbar": {
              "outlinewidth": 0,
              "ticks": ""
             }
            },
            "type": "scatterternary"
           }
          ],
          "surface": [
           {
            "colorbar": {
             "outlinewidth": 0,
             "ticks": ""
            },
            "colorscale": [
             [
              0,
              "#0d0887"
             ],
             [
              0.1111111111111111,
              "#46039f"
             ],
             [
              0.2222222222222222,
              "#7201a8"
             ],
             [
              0.3333333333333333,
              "#9c179e"
             ],
             [
              0.4444444444444444,
              "#bd3786"
             ],
             [
              0.5555555555555556,
              "#d8576b"
             ],
             [
              0.6666666666666666,
              "#ed7953"
             ],
             [
              0.7777777777777778,
              "#fb9f3a"
             ],
             [
              0.8888888888888888,
              "#fdca26"
             ],
             [
              1,
              "#f0f921"
             ]
            ],
            "type": "surface"
           }
          ],
          "table": [
           {
            "cells": {
             "fill": {
              "color": "#EBF0F8"
             },
             "line": {
              "color": "white"
             }
            },
            "header": {
             "fill": {
              "color": "#C8D4E3"
             },
             "line": {
              "color": "white"
             }
            },
            "type": "table"
           }
          ]
         },
         "layout": {
          "annotationdefaults": {
           "arrowcolor": "#2a3f5f",
           "arrowhead": 0,
           "arrowwidth": 1
          },
          "autotypenumbers": "strict",
          "coloraxis": {
           "colorbar": {
            "outlinewidth": 0,
            "ticks": ""
           }
          },
          "colorscale": {
           "diverging": [
            [
             0,
             "#8e0152"
            ],
            [
             0.1,
             "#c51b7d"
            ],
            [
             0.2,
             "#de77ae"
            ],
            [
             0.3,
             "#f1b6da"
            ],
            [
             0.4,
             "#fde0ef"
            ],
            [
             0.5,
             "#f7f7f7"
            ],
            [
             0.6,
             "#e6f5d0"
            ],
            [
             0.7,
             "#b8e186"
            ],
            [
             0.8,
             "#7fbc41"
            ],
            [
             0.9,
             "#4d9221"
            ],
            [
             1,
             "#276419"
            ]
           ],
           "sequential": [
            [
             0,
             "#0d0887"
            ],
            [
             0.1111111111111111,
             "#46039f"
            ],
            [
             0.2222222222222222,
             "#7201a8"
            ],
            [
             0.3333333333333333,
             "#9c179e"
            ],
            [
             0.4444444444444444,
             "#bd3786"
            ],
            [
             0.5555555555555556,
             "#d8576b"
            ],
            [
             0.6666666666666666,
             "#ed7953"
            ],
            [
             0.7777777777777778,
             "#fb9f3a"
            ],
            [
             0.8888888888888888,
             "#fdca26"
            ],
            [
             1,
             "#f0f921"
            ]
           ],
           "sequentialminus": [
            [
             0,
             "#0d0887"
            ],
            [
             0.1111111111111111,
             "#46039f"
            ],
            [
             0.2222222222222222,
             "#7201a8"
            ],
            [
             0.3333333333333333,
             "#9c179e"
            ],
            [
             0.4444444444444444,
             "#bd3786"
            ],
            [
             0.5555555555555556,
             "#d8576b"
            ],
            [
             0.6666666666666666,
             "#ed7953"
            ],
            [
             0.7777777777777778,
             "#fb9f3a"
            ],
            [
             0.8888888888888888,
             "#fdca26"
            ],
            [
             1,
             "#f0f921"
            ]
           ]
          },
          "colorway": [
           "#636efa",
           "#EF553B",
           "#00cc96",
           "#ab63fa",
           "#FFA15A",
           "#19d3f3",
           "#FF6692",
           "#B6E880",
           "#FF97FF",
           "#FECB52"
          ],
          "font": {
           "color": "#2a3f5f"
          },
          "geo": {
           "bgcolor": "white",
           "lakecolor": "white",
           "landcolor": "#E5ECF6",
           "showlakes": true,
           "showland": true,
           "subunitcolor": "white"
          },
          "hoverlabel": {
           "align": "left"
          },
          "hovermode": "closest",
          "mapbox": {
           "style": "light"
          },
          "paper_bgcolor": "white",
          "plot_bgcolor": "#E5ECF6",
          "polar": {
           "angularaxis": {
            "gridcolor": "white",
            "linecolor": "white",
            "ticks": ""
           },
           "bgcolor": "#E5ECF6",
           "radialaxis": {
            "gridcolor": "white",
            "linecolor": "white",
            "ticks": ""
           }
          },
          "scene": {
           "xaxis": {
            "backgroundcolor": "#E5ECF6",
            "gridcolor": "white",
            "gridwidth": 2,
            "linecolor": "white",
            "showbackground": true,
            "ticks": "",
            "zerolinecolor": "white"
           },
           "yaxis": {
            "backgroundcolor": "#E5ECF6",
            "gridcolor": "white",
            "gridwidth": 2,
            "linecolor": "white",
            "showbackground": true,
            "ticks": "",
            "zerolinecolor": "white"
           },
           "zaxis": {
            "backgroundcolor": "#E5ECF6",
            "gridcolor": "white",
            "gridwidth": 2,
            "linecolor": "white",
            "showbackground": true,
            "ticks": "",
            "zerolinecolor": "white"
           }
          },
          "shapedefaults": {
           "line": {
            "color": "#2a3f5f"
           }
          },
          "ternary": {
           "aaxis": {
            "gridcolor": "white",
            "linecolor": "white",
            "ticks": ""
           },
           "baxis": {
            "gridcolor": "white",
            "linecolor": "white",
            "ticks": ""
           },
           "bgcolor": "#E5ECF6",
           "caxis": {
            "gridcolor": "white",
            "linecolor": "white",
            "ticks": ""
           }
          },
          "title": {
           "x": 0.05
          },
          "xaxis": {
           "automargin": true,
           "gridcolor": "white",
           "linecolor": "white",
           "ticks": "",
           "title": {
            "standoff": 15
           },
           "zerolinecolor": "white",
           "zerolinewidth": 2
          },
          "yaxis": {
           "automargin": true,
           "gridcolor": "white",
           "linecolor": "white",
           "ticks": "",
           "title": {
            "standoff": 15
           },
           "zerolinecolor": "white",
           "zerolinewidth": 2
          }
         }
        },
        "title": {
         "font": {
          "color": "#151516"
         },
         "text": "Total committee contributions & expenditures by transaction type"
        },
        "xaxis": {
         "gridcolor": "#F6F6F6",
         "showgrid": true,
         "tickfont": {
          "color": "#666666"
         },
         "title": {
          "font": {
           "color": "#666666"
          },
          "text": ""
         },
         "zerolinecolor": "#F6F6F6"
        },
        "yaxis": {
         "gridcolor": "#F6F6F6",
         "showgrid": true,
         "tickfont": {
          "color": "#666666"
         },
         "title": {
          "font": {
           "color": "#666666"
          },
          "text": ""
         },
         "zerolinecolor": "#F6F6F6"
        }
       }
      },
      "text/html": [
       "<div>                            <div id=\"eaad1eef-deb5-478c-a5b1-8d8a50a32361\" class=\"plotly-graph-div\" style=\"height:525px; width:100%;\"></div>            <script type=\"text/javascript\">                require([\"plotly\"], function(Plotly) {                    window.PLOTLYENV=window.PLOTLYENV || {};\n",
       "                    window.PLOTLYENV.BASE_URL='https://plot.ly';                                    if (document.getElementById(\"eaad1eef-deb5-478c-a5b1-8d8a50a32361\")) {                    Plotly.newPlot(                        \"eaad1eef-deb5-478c-a5b1-8d8a50a32361\",                        [{\"marker\":{\"color\":\"rgba(55, 128, 191, 0.6)\",\"line\":{\"color\":\"blue\",\"width\":1}},\"name\":\"CUNNINGHAM, CAL\",\"orientation\":\"v\",\"text\":\"\",\"x\":[\"Contribution made to nonaffiliated committee\",\"Coordinated party expenditure\",\"In-kind contribution made to registered filer\",\"Independent expenditure advocating election of candidate\",\"Independent expenditure opposing election of candidate\"],\"y\":[472555.0,319947.0,77.0,8808288.0,250011.0],\"type\":\"bar\"},{\"marker\":{\"color\":\"rgba(219, 64, 82, 0.6)\",\"line\":{\"color\":\"red\",\"width\":1}},\"name\":\"TILLIS, THOM R. SEN.\",\"orientation\":\"v\",\"text\":\"\",\"x\":[\"Contribution made to nonaffiliated committee\",\"Coordinated party expenditure\",\"In-kind contribution made to registered filer\",\"Independent expenditure advocating election of candidate\",\"Independent expenditure opposing election of candidate\"],\"y\":[2176748.0,\"\",3075.0,757257.0,295662.0],\"type\":\"bar\"}],                        {\"legend\":{\"bgcolor\":\"#FFFFFF\",\"font\":{\"color\":\"#666666\"}},\"paper_bgcolor\":\"#FFFFFF\",\"plot_bgcolor\":\"#E5E5E5\",\"template\":{\"data\":{\"barpolar\":[{\"marker\":{\"line\":{\"color\":\"#E5ECF6\",\"width\":0.5},\"pattern\":{\"fillmode\":\"overlay\",\"size\":10,\"solidity\":0.2}},\"type\":\"barpolar\"}],\"bar\":[{\"error_x\":{\"color\":\"#2a3f5f\"},\"error_y\":{\"color\":\"#2a3f5f\"},\"marker\":{\"line\":{\"color\":\"#E5ECF6\",\"width\":0.5},\"pattern\":{\"fillmode\":\"overlay\",\"size\":10,\"solidity\":0.2}},\"type\":\"bar\"}],\"carpet\":[{\"aaxis\":{\"endlinecolor\":\"#2a3f5f\",\"gridcolor\":\"white\",\"linecolor\":\"white\",\"minorgridcolor\":\"white\",\"startlinecolor\":\"#2a3f5f\"},\"baxis\":{\"endlinecolor\":\"#2a3f5f\",\"gridcolor\":\"white\",\"linecolor\":\"white\",\"minorgridcolor\":\"white\",\"startlinecolor\":\"#2a3f5f\"},\"type\":\"carpet\"}],\"choropleth\":[{\"colorbar\":{\"outlinewidth\":0,\"ticks\":\"\"},\"type\":\"choropleth\"}],\"contourcarpet\":[{\"colorbar\":{\"outlinewidth\":0,\"ticks\":\"\"},\"type\":\"contourcarpet\"}],\"contour\":[{\"colorbar\":{\"outlinewidth\":0,\"ticks\":\"\"},\"colorscale\":[[0.0,\"#0d0887\"],[0.1111111111111111,\"#46039f\"],[0.2222222222222222,\"#7201a8\"],[0.3333333333333333,\"#9c179e\"],[0.4444444444444444,\"#bd3786\"],[0.5555555555555556,\"#d8576b\"],[0.6666666666666666,\"#ed7953\"],[0.7777777777777778,\"#fb9f3a\"],[0.8888888888888888,\"#fdca26\"],[1.0,\"#f0f921\"]],\"type\":\"contour\"}],\"heatmapgl\":[{\"colorbar\":{\"outlinewidth\":0,\"ticks\":\"\"},\"colorscale\":[[0.0,\"#0d0887\"],[0.1111111111111111,\"#46039f\"],[0.2222222222222222,\"#7201a8\"],[0.3333333333333333,\"#9c179e\"],[0.4444444444444444,\"#bd3786\"],[0.5555555555555556,\"#d8576b\"],[0.6666666666666666,\"#ed7953\"],[0.7777777777777778,\"#fb9f3a\"],[0.8888888888888888,\"#fdca26\"],[1.0,\"#f0f921\"]],\"type\":\"heatmapgl\"}],\"heatmap\":[{\"colorbar\":{\"outlinewidth\":0,\"ticks\":\"\"},\"colorscale\":[[0.0,\"#0d0887\"],[0.1111111111111111,\"#46039f\"],[0.2222222222222222,\"#7201a8\"],[0.3333333333333333,\"#9c179e\"],[0.4444444444444444,\"#bd3786\"],[0.5555555555555556,\"#d8576b\"],[0.6666666666666666,\"#ed7953\"],[0.7777777777777778,\"#fb9f3a\"],[0.8888888888888888,\"#fdca26\"],[1.0,\"#f0f921\"]],\"type\":\"heatmap\"}],\"histogram2dcontour\":[{\"colorbar\":{\"outlinewidth\":0,\"ticks\":\"\"},\"colorscale\":[[0.0,\"#0d0887\"],[0.1111111111111111,\"#46039f\"],[0.2222222222222222,\"#7201a8\"],[0.3333333333333333,\"#9c179e\"],[0.4444444444444444,\"#bd3786\"],[0.5555555555555556,\"#d8576b\"],[0.6666666666666666,\"#ed7953\"],[0.7777777777777778,\"#fb9f3a\"],[0.8888888888888888,\"#fdca26\"],[1.0,\"#f0f921\"]],\"type\":\"histogram2dcontour\"}],\"histogram2d\":[{\"colorbar\":{\"outlinewidth\":0,\"ticks\":\"\"},\"colorscale\":[[0.0,\"#0d0887\"],[0.1111111111111111,\"#46039f\"],[0.2222222222222222,\"#7201a8\"],[0.3333333333333333,\"#9c179e\"],[0.4444444444444444,\"#bd3786\"],[0.5555555555555556,\"#d8576b\"],[0.6666666666666666,\"#ed7953\"],[0.7777777777777778,\"#fb9f3a\"],[0.8888888888888888,\"#fdca26\"],[1.0,\"#f0f921\"]],\"type\":\"histogram2d\"}],\"histogram\":[{\"marker\":{\"pattern\":{\"fillmode\":\"overlay\",\"size\":10,\"solidity\":0.2}},\"type\":\"histogram\"}],\"mesh3d\":[{\"colorbar\":{\"outlinewidth\":0,\"ticks\":\"\"},\"type\":\"mesh3d\"}],\"parcoords\":[{\"line\":{\"colorbar\":{\"outlinewidth\":0,\"ticks\":\"\"}},\"type\":\"parcoords\"}],\"pie\":[{\"automargin\":true,\"type\":\"pie\"}],\"scatter3d\":[{\"line\":{\"colorbar\":{\"outlinewidth\":0,\"ticks\":\"\"}},\"marker\":{\"colorbar\":{\"outlinewidth\":0,\"ticks\":\"\"}},\"type\":\"scatter3d\"}],\"scattercarpet\":[{\"marker\":{\"colorbar\":{\"outlinewidth\":0,\"ticks\":\"\"}},\"type\":\"scattercarpet\"}],\"scattergeo\":[{\"marker\":{\"colorbar\":{\"outlinewidth\":0,\"ticks\":\"\"}},\"type\":\"scattergeo\"}],\"scattergl\":[{\"marker\":{\"colorbar\":{\"outlinewidth\":0,\"ticks\":\"\"}},\"type\":\"scattergl\"}],\"scattermapbox\":[{\"marker\":{\"colorbar\":{\"outlinewidth\":0,\"ticks\":\"\"}},\"type\":\"scattermapbox\"}],\"scatterpolargl\":[{\"marker\":{\"colorbar\":{\"outlinewidth\":0,\"ticks\":\"\"}},\"type\":\"scatterpolargl\"}],\"scatterpolar\":[{\"marker\":{\"colorbar\":{\"outlinewidth\":0,\"ticks\":\"\"}},\"type\":\"scatterpolar\"}],\"scatter\":[{\"fillpattern\":{\"fillmode\":\"overlay\",\"size\":10,\"solidity\":0.2},\"type\":\"scatter\"}],\"scatterternary\":[{\"marker\":{\"colorbar\":{\"outlinewidth\":0,\"ticks\":\"\"}},\"type\":\"scatterternary\"}],\"surface\":[{\"colorbar\":{\"outlinewidth\":0,\"ticks\":\"\"},\"colorscale\":[[0.0,\"#0d0887\"],[0.1111111111111111,\"#46039f\"],[0.2222222222222222,\"#7201a8\"],[0.3333333333333333,\"#9c179e\"],[0.4444444444444444,\"#bd3786\"],[0.5555555555555556,\"#d8576b\"],[0.6666666666666666,\"#ed7953\"],[0.7777777777777778,\"#fb9f3a\"],[0.8888888888888888,\"#fdca26\"],[1.0,\"#f0f921\"]],\"type\":\"surface\"}],\"table\":[{\"cells\":{\"fill\":{\"color\":\"#EBF0F8\"},\"line\":{\"color\":\"white\"}},\"header\":{\"fill\":{\"color\":\"#C8D4E3\"},\"line\":{\"color\":\"white\"}},\"type\":\"table\"}]},\"layout\":{\"annotationdefaults\":{\"arrowcolor\":\"#2a3f5f\",\"arrowhead\":0,\"arrowwidth\":1},\"autotypenumbers\":\"strict\",\"coloraxis\":{\"colorbar\":{\"outlinewidth\":0,\"ticks\":\"\"}},\"colorscale\":{\"diverging\":[[0,\"#8e0152\"],[0.1,\"#c51b7d\"],[0.2,\"#de77ae\"],[0.3,\"#f1b6da\"],[0.4,\"#fde0ef\"],[0.5,\"#f7f7f7\"],[0.6,\"#e6f5d0\"],[0.7,\"#b8e186\"],[0.8,\"#7fbc41\"],[0.9,\"#4d9221\"],[1,\"#276419\"]],\"sequential\":[[0.0,\"#0d0887\"],[0.1111111111111111,\"#46039f\"],[0.2222222222222222,\"#7201a8\"],[0.3333333333333333,\"#9c179e\"],[0.4444444444444444,\"#bd3786\"],[0.5555555555555556,\"#d8576b\"],[0.6666666666666666,\"#ed7953\"],[0.7777777777777778,\"#fb9f3a\"],[0.8888888888888888,\"#fdca26\"],[1.0,\"#f0f921\"]],\"sequentialminus\":[[0.0,\"#0d0887\"],[0.1111111111111111,\"#46039f\"],[0.2222222222222222,\"#7201a8\"],[0.3333333333333333,\"#9c179e\"],[0.4444444444444444,\"#bd3786\"],[0.5555555555555556,\"#d8576b\"],[0.6666666666666666,\"#ed7953\"],[0.7777777777777778,\"#fb9f3a\"],[0.8888888888888888,\"#fdca26\"],[1.0,\"#f0f921\"]]},\"colorway\":[\"#636efa\",\"#EF553B\",\"#00cc96\",\"#ab63fa\",\"#FFA15A\",\"#19d3f3\",\"#FF6692\",\"#B6E880\",\"#FF97FF\",\"#FECB52\"],\"font\":{\"color\":\"#2a3f5f\"},\"geo\":{\"bgcolor\":\"white\",\"lakecolor\":\"white\",\"landcolor\":\"#E5ECF6\",\"showlakes\":true,\"showland\":true,\"subunitcolor\":\"white\"},\"hoverlabel\":{\"align\":\"left\"},\"hovermode\":\"closest\",\"mapbox\":{\"style\":\"light\"},\"paper_bgcolor\":\"white\",\"plot_bgcolor\":\"#E5ECF6\",\"polar\":{\"angularaxis\":{\"gridcolor\":\"white\",\"linecolor\":\"white\",\"ticks\":\"\"},\"bgcolor\":\"#E5ECF6\",\"radialaxis\":{\"gridcolor\":\"white\",\"linecolor\":\"white\",\"ticks\":\"\"}},\"scene\":{\"xaxis\":{\"backgroundcolor\":\"#E5ECF6\",\"gridcolor\":\"white\",\"gridwidth\":2,\"linecolor\":\"white\",\"showbackground\":true,\"ticks\":\"\",\"zerolinecolor\":\"white\"},\"yaxis\":{\"backgroundcolor\":\"#E5ECF6\",\"gridcolor\":\"white\",\"gridwidth\":2,\"linecolor\":\"white\",\"showbackground\":true,\"ticks\":\"\",\"zerolinecolor\":\"white\"},\"zaxis\":{\"backgroundcolor\":\"#E5ECF6\",\"gridcolor\":\"white\",\"gridwidth\":2,\"linecolor\":\"white\",\"showbackground\":true,\"ticks\":\"\",\"zerolinecolor\":\"white\"}},\"shapedefaults\":{\"line\":{\"color\":\"#2a3f5f\"}},\"ternary\":{\"aaxis\":{\"gridcolor\":\"white\",\"linecolor\":\"white\",\"ticks\":\"\"},\"baxis\":{\"gridcolor\":\"white\",\"linecolor\":\"white\",\"ticks\":\"\"},\"bgcolor\":\"#E5ECF6\",\"caxis\":{\"gridcolor\":\"white\",\"linecolor\":\"white\",\"ticks\":\"\"}},\"title\":{\"x\":0.05},\"xaxis\":{\"automargin\":true,\"gridcolor\":\"white\",\"linecolor\":\"white\",\"ticks\":\"\",\"title\":{\"standoff\":15},\"zerolinecolor\":\"white\",\"zerolinewidth\":2},\"yaxis\":{\"automargin\":true,\"gridcolor\":\"white\",\"linecolor\":\"white\",\"ticks\":\"\",\"title\":{\"standoff\":15},\"zerolinecolor\":\"white\",\"zerolinewidth\":2}}},\"title\":{\"font\":{\"color\":\"#151516\"},\"text\":\"Total committee contributions & expenditures by transaction type\"},\"xaxis\":{\"gridcolor\":\"#F6F6F6\",\"showgrid\":true,\"tickfont\":{\"color\":\"#666666\"},\"title\":{\"font\":{\"color\":\"#666666\"},\"text\":\"\"},\"zerolinecolor\":\"#F6F6F6\"},\"yaxis\":{\"gridcolor\":\"#F6F6F6\",\"showgrid\":true,\"tickfont\":{\"color\":\"#666666\"},\"title\":{\"font\":{\"color\":\"#666666\"},\"text\":\"\"},\"zerolinecolor\":\"#F6F6F6\"}},                        {\"showLink\": true, \"linkText\": \"Export to plot.ly\", \"plotlyServerURL\": \"https://plot.ly\", \"responsive\": true}                    ).then(function(){\n",
       "                            \n",
       "var gd = document.getElementById('eaad1eef-deb5-478c-a5b1-8d8a50a32361');\n",
       "var x = new MutationObserver(function (mutations, observer) {{\n",
       "        var display = window.getComputedStyle(gd).display;\n",
       "        if (!display || display === 'none') {{\n",
       "            console.log([gd, 'removed!']);\n",
       "            Plotly.purge(gd);\n",
       "            observer.disconnect();\n",
       "        }}\n",
       "}});\n",
       "\n",
       "// Listen for the removal of the full notebook cells\n",
       "var notebookContainer = gd.closest('#notebook-container');\n",
       "if (notebookContainer) {{\n",
       "    x.observe(notebookContainer, {childList: true});\n",
       "}}\n",
       "\n",
       "// Listen for the clearing of the current output cell\n",
       "var outputEl = gd.closest('.output');\n",
       "if (outputEl) {{\n",
       "    x.observe(outputEl, {childList: true});\n",
       "}}\n",
       "\n",
       "                        })                };                });            </script>        </div>"
      ]
     },
     "metadata": {},
     "output_type": "display_data"
    }
   ],
   "source": [
    "by_transaction = committee_contribs.groupby([\n",
    "    'CAND_NAME', 'TRANSACTION_TP_FULL']).agg({'TRANSACTION_AMT': 'sum'}).reset_index()\n",
    "\n",
    "by_transaction_pivot = by_transaction.pivot_table(\n",
    "    values='TRANSACTION_AMT', index='TRANSACTION_TP_FULL', columns='CAND_NAME')\n",
    "\n",
    "by_transaction_pivot.iplot(kind='bar', \n",
    "                           colors=color_map, title='Total committee contributions & expenditures by transaction type')"
   ]
  },
  {
   "cell_type": "code",
   "execution_count": 29,
   "metadata": {
    "_kg_hide-input": true,
    "_kg_hide-output": true,
    "execution": {
     "iopub.execute_input": "2020-09-02T04:53:57.910491Z",
     "iopub.status.busy": "2020-09-02T04:53:57.909729Z",
     "iopub.status.idle": "2020-09-02T04:53:58.021840Z",
     "shell.execute_reply": "2020-09-02T04:53:58.022400Z"
    },
    "papermill": {
     "duration": 0.174914,
     "end_time": "2020-09-02T04:53:58.022618",
     "exception": false,
     "start_time": "2020-09-02T04:53:57.847704",
     "status": "completed"
    },
    "tags": []
   },
   "outputs": [
    {
     "data": {
      "text/html": [
       "<div>\n",
       "<style scoped>\n",
       "    .dataframe tbody tr th:only-of-type {\n",
       "        vertical-align: middle;\n",
       "    }\n",
       "\n",
       "    .dataframe tbody tr th {\n",
       "        vertical-align: top;\n",
       "    }\n",
       "\n",
       "    .dataframe thead th {\n",
       "        text-align: right;\n",
       "    }\n",
       "</style>\n",
       "<table border=\"1\" class=\"dataframe\">\n",
       "  <thead>\n",
       "    <tr style=\"text-align: right;\">\n",
       "      <th></th>\n",
       "      <th>CMTE_ID</th>\n",
       "      <th>CMTE_NM</th>\n",
       "      <th>TRES_NM</th>\n",
       "      <th>CMTE_ST1</th>\n",
       "      <th>CMTE_ST2</th>\n",
       "      <th>CMTE_CITY</th>\n",
       "      <th>CMTE_ST</th>\n",
       "      <th>CMTE_ZIP</th>\n",
       "      <th>CMTE_DSGN</th>\n",
       "      <th>CMTE_TP</th>\n",
       "      <th>CMTE_PTY_AFFILIATION</th>\n",
       "      <th>CMTE_FILING_FREQ</th>\n",
       "      <th>ORG_TP</th>\n",
       "      <th>CONNECTED_ORG_NM</th>\n",
       "      <th>CAND_ID</th>\n",
       "    </tr>\n",
       "  </thead>\n",
       "  <tbody>\n",
       "    <tr>\n",
       "      <th>0</th>\n",
       "      <td>C00000059</td>\n",
       "      <td>HALLMARK CARDS PAC</td>\n",
       "      <td>SARAH MOE</td>\n",
       "      <td>2501 MCGEE</td>\n",
       "      <td>MD #500</td>\n",
       "      <td>KANSAS CITY</td>\n",
       "      <td>MO</td>\n",
       "      <td>64108</td>\n",
       "      <td>U</td>\n",
       "      <td>Q</td>\n",
       "      <td>UNK</td>\n",
       "      <td>M</td>\n",
       "      <td>C</td>\n",
       "      <td>NaN</td>\n",
       "      <td>NaN</td>\n",
       "    </tr>\n",
       "    <tr>\n",
       "      <th>1</th>\n",
       "      <td>C00000422</td>\n",
       "      <td>AMERICAN MEDICAL ASSOCIATION POLITICAL ACTION ...</td>\n",
       "      <td>WALKER, KEVIN MR.</td>\n",
       "      <td>25 MASSACHUSETTS AVE, NW</td>\n",
       "      <td>SUITE 600</td>\n",
       "      <td>WASHINGTON</td>\n",
       "      <td>DC</td>\n",
       "      <td>200017400</td>\n",
       "      <td>B</td>\n",
       "      <td>Q</td>\n",
       "      <td>NaN</td>\n",
       "      <td>M</td>\n",
       "      <td>M</td>\n",
       "      <td>DELAWARE MEDICAL PAC</td>\n",
       "      <td>NaN</td>\n",
       "    </tr>\n",
       "    <tr>\n",
       "      <th>2</th>\n",
       "      <td>C00000489</td>\n",
       "      <td>D R I V E POLITICAL FUND CHAPTER 886</td>\n",
       "      <td>JERRY SIMS JR</td>\n",
       "      <td>3528 W RENO</td>\n",
       "      <td>NaN</td>\n",
       "      <td>OKLAHOMA CITY</td>\n",
       "      <td>OK</td>\n",
       "      <td>73107</td>\n",
       "      <td>U</td>\n",
       "      <td>N</td>\n",
       "      <td>NaN</td>\n",
       "      <td>Q</td>\n",
       "      <td>L</td>\n",
       "      <td>NaN</td>\n",
       "      <td>NaN</td>\n",
       "    </tr>\n",
       "    <tr>\n",
       "      <th>3</th>\n",
       "      <td>C00000547</td>\n",
       "      <td>KANSAS MEDICAL SOCIETY POLITICAL ACTION COMMITTEE</td>\n",
       "      <td>JERRY SLAUGHTER</td>\n",
       "      <td>623 SW 10TH AVE</td>\n",
       "      <td>NaN</td>\n",
       "      <td>TOPEKA</td>\n",
       "      <td>KS</td>\n",
       "      <td>666121627</td>\n",
       "      <td>U</td>\n",
       "      <td>Q</td>\n",
       "      <td>UNK</td>\n",
       "      <td>Q</td>\n",
       "      <td>M</td>\n",
       "      <td>KANSAS MEDICAL SOCIETY</td>\n",
       "      <td>NaN</td>\n",
       "    </tr>\n",
       "    <tr>\n",
       "      <th>4</th>\n",
       "      <td>C00000638</td>\n",
       "      <td>INDIANA STATE MEDICAL ASSOCIATION POLITICAL AC...</td>\n",
       "      <td>ACHENBACH, GRANT MR.</td>\n",
       "      <td>322 CANAL WALK, CANAL LEVEL</td>\n",
       "      <td>NaN</td>\n",
       "      <td>INDIANAPOLIS</td>\n",
       "      <td>IN</td>\n",
       "      <td>46202</td>\n",
       "      <td>U</td>\n",
       "      <td>Q</td>\n",
       "      <td>NaN</td>\n",
       "      <td>T</td>\n",
       "      <td>M</td>\n",
       "      <td>NaN</td>\n",
       "      <td>NaN</td>\n",
       "    </tr>\n",
       "  </tbody>\n",
       "</table>\n",
       "</div>"
      ],
      "text/plain": [
       "     CMTE_ID                                            CMTE_NM  \\\n",
       "0  C00000059                                 HALLMARK CARDS PAC   \n",
       "1  C00000422  AMERICAN MEDICAL ASSOCIATION POLITICAL ACTION ...   \n",
       "2  C00000489               D R I V E POLITICAL FUND CHAPTER 886   \n",
       "3  C00000547  KANSAS MEDICAL SOCIETY POLITICAL ACTION COMMITTEE   \n",
       "4  C00000638  INDIANA STATE MEDICAL ASSOCIATION POLITICAL AC...   \n",
       "\n",
       "                TRES_NM                     CMTE_ST1   CMTE_ST2  \\\n",
       "0             SARAH MOE                   2501 MCGEE    MD #500   \n",
       "1     WALKER, KEVIN MR.     25 MASSACHUSETTS AVE, NW  SUITE 600   \n",
       "2         JERRY SIMS JR                  3528 W RENO        NaN   \n",
       "3       JERRY SLAUGHTER              623 SW 10TH AVE        NaN   \n",
       "4  ACHENBACH, GRANT MR.  322 CANAL WALK, CANAL LEVEL        NaN   \n",
       "\n",
       "       CMTE_CITY CMTE_ST   CMTE_ZIP CMTE_DSGN CMTE_TP CMTE_PTY_AFFILIATION  \\\n",
       "0    KANSAS CITY      MO      64108         U       Q                  UNK   \n",
       "1     WASHINGTON      DC  200017400         B       Q                  NaN   \n",
       "2  OKLAHOMA CITY      OK      73107         U       N                  NaN   \n",
       "3         TOPEKA      KS  666121627         U       Q                  UNK   \n",
       "4   INDIANAPOLIS      IN      46202         U       Q                  NaN   \n",
       "\n",
       "  CMTE_FILING_FREQ ORG_TP        CONNECTED_ORG_NM CAND_ID  \n",
       "0                M      C                     NaN     NaN  \n",
       "1                M      M    DELAWARE MEDICAL PAC     NaN  \n",
       "2                Q      L                     NaN     NaN  \n",
       "3                Q      M  KANSAS MEDICAL SOCIETY     NaN  \n",
       "4                T      M                     NaN     NaN  "
      ]
     },
     "execution_count": 29,
     "metadata": {},
     "output_type": "execute_result"
    }
   ],
   "source": [
    "committee_master = pd.read_csv(f\"../data/20192020-FEC/Committee master.csv\")\n",
    "committee_master.head()"
   ]
  },
  {
   "cell_type": "code",
   "execution_count": 30,
   "metadata": {
    "_kg_hide-input": true,
    "_kg_hide-output": true,
    "execution": {
     "iopub.execute_input": "2020-09-02T04:53:58.138321Z",
     "iopub.status.busy": "2020-09-02T04:53:58.137512Z",
     "iopub.status.idle": "2020-09-02T04:53:58.268191Z",
     "shell.execute_reply": "2020-09-02T04:53:58.268781Z"
    },
    "papermill": {
     "duration": 0.191884,
     "end_time": "2020-09-02T04:53:58.268948",
     "exception": false,
     "start_time": "2020-09-02T04:53:58.077064",
     "status": "completed"
    },
    "tags": []
   },
   "outputs": [
    {
     "data": {
      "text/html": [
       "<div>\n",
       "<style scoped>\n",
       "    .dataframe tbody tr th:only-of-type {\n",
       "        vertical-align: middle;\n",
       "    }\n",
       "\n",
       "    .dataframe tbody tr th {\n",
       "        vertical-align: top;\n",
       "    }\n",
       "\n",
       "    .dataframe thead th {\n",
       "        text-align: right;\n",
       "    }\n",
       "</style>\n",
       "<table border=\"1\" class=\"dataframe\">\n",
       "  <thead>\n",
       "    <tr style=\"text-align: right;\">\n",
       "      <th></th>\n",
       "      <th>CMTE_ID</th>\n",
       "      <th>AMNDT_IND</th>\n",
       "      <th>RPT_TP</th>\n",
       "      <th>TRANSACTION_PGI</th>\n",
       "      <th>IMAGE_NUM</th>\n",
       "      <th>TRANSACTION_TP</th>\n",
       "      <th>ENTITY_TP</th>\n",
       "      <th>NAME</th>\n",
       "      <th>CITY</th>\n",
       "      <th>STATE</th>\n",
       "      <th>ZIP_CODE</th>\n",
       "      <th>EMPLOYER</th>\n",
       "      <th>OCCUPATION</th>\n",
       "      <th>TRANSACTION_DT</th>\n",
       "      <th>TRANSACTION_AMT</th>\n",
       "      <th>OTHER_ID</th>\n",
       "      <th>CAND_ID</th>\n",
       "      <th>TRAN_ID</th>\n",
       "      <th>FILE_NUM</th>\n",
       "      <th>MEMO_CD</th>\n",
       "      <th>MEMO_TEXT</th>\n",
       "      <th>SUB_ID</th>\n",
       "      <th>AMNDT_IND_FULL</th>\n",
       "      <th>RPT_TP_FULL</th>\n",
       "      <th>ELECTION_TYPE</th>\n",
       "      <th>ELECTION_YEAR</th>\n",
       "      <th>TRANSACTION_TP_FULL</th>\n",
       "      <th>ENTITY_TP_FULL</th>\n",
       "      <th>TRAN_ID_parent</th>\n",
       "      <th>TRAN_ID_child</th>\n",
       "      <th>CAND_NAME</th>\n",
       "      <th>CAND_ICI</th>\n",
       "      <th>PTY_CD</th>\n",
       "      <th>CAND_PTY_AFFILIATION</th>\n",
       "      <th>TTL_RECEIPTS</th>\n",
       "      <th>TRANS_FROM_AUTH</th>\n",
       "      <th>TTL_DISB</th>\n",
       "      <th>TRANS_TO_AUTH</th>\n",
       "      <th>COH_BOP</th>\n",
       "      <th>COH_COP</th>\n",
       "      <th>CAND_CONTRIB</th>\n",
       "      <th>CAND_LOANS</th>\n",
       "      <th>OTHER_LOANS</th>\n",
       "      <th>CAND_LOAN_REPAY</th>\n",
       "      <th>OTHER_LOAN_REPAY</th>\n",
       "      <th>DEBTS_OWED_BY</th>\n",
       "      <th>TTL_INDIV_CONTRIB</th>\n",
       "      <th>CAND_OFFICE_ST</th>\n",
       "      <th>CAND_OFFICE_DISTRICT</th>\n",
       "      <th>SPEC_ELECTION</th>\n",
       "      <th>PRIM_ELECTION</th>\n",
       "      <th>RUN_ELECTION</th>\n",
       "      <th>GEN_ELECTION</th>\n",
       "      <th>GEN_ELECTION_PRECENT</th>\n",
       "      <th>OTHER_POL_CMTE_CONTRIB</th>\n",
       "      <th>POL_PTY_CONTRIB</th>\n",
       "      <th>CVG_END_DT</th>\n",
       "      <th>INDIV_REFUNDS</th>\n",
       "      <th>CMTE_REFUNDS</th>\n",
       "      <th>TTL_RECEIPTS_CORRECTED</th>\n",
       "      <th>TTL_DISB_CORRECTED</th>\n",
       "      <th>CAND_ICI_FULL</th>\n",
       "      <th>CAND_PTY_AFFILIATION_FULL</th>\n",
       "      <th>color</th>\n",
       "      <th>second_color</th>\n",
       "      <th>CMTE_NM</th>\n",
       "      <th>TRES_NM</th>\n",
       "      <th>CMTE_ST1</th>\n",
       "      <th>CMTE_ST2</th>\n",
       "      <th>CMTE_CITY</th>\n",
       "      <th>CMTE_ST</th>\n",
       "      <th>CMTE_ZIP</th>\n",
       "      <th>CMTE_DSGN</th>\n",
       "      <th>CMTE_TP</th>\n",
       "      <th>CMTE_PTY_AFFILIATION</th>\n",
       "      <th>CMTE_FILING_FREQ</th>\n",
       "      <th>ORG_TP</th>\n",
       "      <th>CONNECTED_ORG_NM</th>\n",
       "      <th>CAND_ID_y</th>\n",
       "    </tr>\n",
       "  </thead>\n",
       "  <tbody>\n",
       "    <tr>\n",
       "      <th>0</th>\n",
       "      <td>C00371385</td>\n",
       "      <td>N</td>\n",
       "      <td>M2</td>\n",
       "      <td>P</td>\n",
       "      <td>201902059145461441</td>\n",
       "      <td>24K</td>\n",
       "      <td>CCM</td>\n",
       "      <td>THOM TILLIS COMMITTEE</td>\n",
       "      <td>RALEIGH</td>\n",
       "      <td>NC</td>\n",
       "      <td>27624</td>\n",
       "      <td>NaN</td>\n",
       "      <td>NaN</td>\n",
       "      <td>2019-01-09</td>\n",
       "      <td>5000</td>\n",
       "      <td>C00545772</td>\n",
       "      <td>S4NC00162</td>\n",
       "      <td>SB23.6145</td>\n",
       "      <td>1314334</td>\n",
       "      <td>NaN</td>\n",
       "      <td>NaN</td>\n",
       "      <td>4022620191643762260</td>\n",
       "      <td>New</td>\n",
       "      <td>February monthly</td>\n",
       "      <td>Primary</td>\n",
       "      <td>0</td>\n",
       "      <td>Contribution made to nonaffiliated committee</td>\n",
       "      <td>Candidate Committee</td>\n",
       "      <td>SB23</td>\n",
       "      <td>6145</td>\n",
       "      <td>TILLIS, THOM R. SEN.</td>\n",
       "      <td>I</td>\n",
       "      <td>2</td>\n",
       "      <td>REP</td>\n",
       "      <td>8269271.66</td>\n",
       "      <td>1152018.96</td>\n",
       "      <td>3811302.27</td>\n",
       "      <td>6441.91</td>\n",
       "      <td>2025444.43</td>\n",
       "      <td>6483413.82</td>\n",
       "      <td>0.0</td>\n",
       "      <td>0.0</td>\n",
       "      <td>0.0</td>\n",
       "      <td>0.0</td>\n",
       "      <td>0.0</td>\n",
       "      <td>0.0</td>\n",
       "      <td>4798506.58</td>\n",
       "      <td>NC</td>\n",
       "      <td>00</td>\n",
       "      <td>NaN</td>\n",
       "      <td>NaN</td>\n",
       "      <td>NaN</td>\n",
       "      <td>NaN</td>\n",
       "      <td>NaN</td>\n",
       "      <td>2278244.39</td>\n",
       "      <td>0.0</td>\n",
       "      <td>06/09/2020</td>\n",
       "      <td>102493.33</td>\n",
       "      <td>14425.67</td>\n",
       "      <td>7117252.7</td>\n",
       "      <td>3804860.36</td>\n",
       "      <td>Incumbent</td>\n",
       "      <td>Republican Party</td>\n",
       "      <td>red</td>\n",
       "      <td>pink</td>\n",
       "      <td>ALEX LEE INC PAC</td>\n",
       "      <td>ALMQUIST, ANDREW MR.</td>\n",
       "      <td>120 4TH STREET SW</td>\n",
       "      <td>NaN</td>\n",
       "      <td>HICKORY</td>\n",
       "      <td>NC</td>\n",
       "      <td>28602</td>\n",
       "      <td>U</td>\n",
       "      <td>Q</td>\n",
       "      <td>NaN</td>\n",
       "      <td>M</td>\n",
       "      <td>C</td>\n",
       "      <td>ALEX LEE, INC.</td>\n",
       "      <td>NaN</td>\n",
       "    </tr>\n",
       "    <tr>\n",
       "      <th>1</th>\n",
       "      <td>C00551192</td>\n",
       "      <td>N</td>\n",
       "      <td>M2</td>\n",
       "      <td>P2020</td>\n",
       "      <td>201902119145496265</td>\n",
       "      <td>24K</td>\n",
       "      <td>CCM</td>\n",
       "      <td>THOM TILLIS COMMITTEE</td>\n",
       "      <td>RALEIGH</td>\n",
       "      <td>NC</td>\n",
       "      <td>27624</td>\n",
       "      <td>NaN</td>\n",
       "      <td>NaN</td>\n",
       "      <td>2019-01-28</td>\n",
       "      <td>2700</td>\n",
       "      <td>C00545772</td>\n",
       "      <td>S4NC00162</td>\n",
       "      <td>43079234</td>\n",
       "      <td>1315351</td>\n",
       "      <td>NaN</td>\n",
       "      <td>CONTRIBUTION</td>\n",
       "      <td>4022220191643459655</td>\n",
       "      <td>New</td>\n",
       "      <td>February monthly</td>\n",
       "      <td>Primary</td>\n",
       "      <td>2020</td>\n",
       "      <td>Contribution made to nonaffiliated committee</td>\n",
       "      <td>Candidate Committee</td>\n",
       "      <td>43079234</td>\n",
       "      <td>None</td>\n",
       "      <td>TILLIS, THOM R. SEN.</td>\n",
       "      <td>I</td>\n",
       "      <td>2</td>\n",
       "      <td>REP</td>\n",
       "      <td>8269271.66</td>\n",
       "      <td>1152018.96</td>\n",
       "      <td>3811302.27</td>\n",
       "      <td>6441.91</td>\n",
       "      <td>2025444.43</td>\n",
       "      <td>6483413.82</td>\n",
       "      <td>0.0</td>\n",
       "      <td>0.0</td>\n",
       "      <td>0.0</td>\n",
       "      <td>0.0</td>\n",
       "      <td>0.0</td>\n",
       "      <td>0.0</td>\n",
       "      <td>4798506.58</td>\n",
       "      <td>NC</td>\n",
       "      <td>00</td>\n",
       "      <td>NaN</td>\n",
       "      <td>NaN</td>\n",
       "      <td>NaN</td>\n",
       "      <td>NaN</td>\n",
       "      <td>NaN</td>\n",
       "      <td>2278244.39</td>\n",
       "      <td>0.0</td>\n",
       "      <td>06/09/2020</td>\n",
       "      <td>102493.33</td>\n",
       "      <td>14425.67</td>\n",
       "      <td>7117252.7</td>\n",
       "      <td>3804860.36</td>\n",
       "      <td>Incumbent</td>\n",
       "      <td>Republican Party</td>\n",
       "      <td>red</td>\n",
       "      <td>pink</td>\n",
       "      <td>MAIN STREET BANKING POLITICAL ACTION COMMITTEE</td>\n",
       "      <td>WILLIAMS, WADE</td>\n",
       "      <td>PO BOX 7427</td>\n",
       "      <td>NaN</td>\n",
       "      <td>ALEXANDRIA</td>\n",
       "      <td>VA</td>\n",
       "      <td>223077427</td>\n",
       "      <td>U</td>\n",
       "      <td>N</td>\n",
       "      <td>NaN</td>\n",
       "      <td>M</td>\n",
       "      <td>NaN</td>\n",
       "      <td>NONE</td>\n",
       "      <td>NaN</td>\n",
       "    </tr>\n",
       "    <tr>\n",
       "      <th>2</th>\n",
       "      <td>C00100107</td>\n",
       "      <td>N</td>\n",
       "      <td>M2</td>\n",
       "      <td>P2020</td>\n",
       "      <td>201902159145516138</td>\n",
       "      <td>24K</td>\n",
       "      <td>CCM</td>\n",
       "      <td>THOM TILLIS COMMITTEE</td>\n",
       "      <td>RALEIGH</td>\n",
       "      <td>NC</td>\n",
       "      <td>27624</td>\n",
       "      <td>NaN</td>\n",
       "      <td>NaN</td>\n",
       "      <td>2019-01-11</td>\n",
       "      <td>2500</td>\n",
       "      <td>C00545772</td>\n",
       "      <td>S4NC00162</td>\n",
       "      <td>156BA6A4BB1CA36FD35</td>\n",
       "      <td>1316037</td>\n",
       "      <td>NaN</td>\n",
       "      <td>NaN</td>\n",
       "      <td>4022720191644231227</td>\n",
       "      <td>New</td>\n",
       "      <td>February monthly</td>\n",
       "      <td>Primary</td>\n",
       "      <td>2020</td>\n",
       "      <td>Contribution made to nonaffiliated committee</td>\n",
       "      <td>Candidate Committee</td>\n",
       "      <td>156BA6A4BB1CA36FD35</td>\n",
       "      <td>None</td>\n",
       "      <td>TILLIS, THOM R. SEN.</td>\n",
       "      <td>I</td>\n",
       "      <td>2</td>\n",
       "      <td>REP</td>\n",
       "      <td>8269271.66</td>\n",
       "      <td>1152018.96</td>\n",
       "      <td>3811302.27</td>\n",
       "      <td>6441.91</td>\n",
       "      <td>2025444.43</td>\n",
       "      <td>6483413.82</td>\n",
       "      <td>0.0</td>\n",
       "      <td>0.0</td>\n",
       "      <td>0.0</td>\n",
       "      <td>0.0</td>\n",
       "      <td>0.0</td>\n",
       "      <td>0.0</td>\n",
       "      <td>4798506.58</td>\n",
       "      <td>NC</td>\n",
       "      <td>00</td>\n",
       "      <td>NaN</td>\n",
       "      <td>NaN</td>\n",
       "      <td>NaN</td>\n",
       "      <td>NaN</td>\n",
       "      <td>NaN</td>\n",
       "      <td>2278244.39</td>\n",
       "      <td>0.0</td>\n",
       "      <td>06/09/2020</td>\n",
       "      <td>102493.33</td>\n",
       "      <td>14425.67</td>\n",
       "      <td>7117252.7</td>\n",
       "      <td>3804860.36</td>\n",
       "      <td>Incumbent</td>\n",
       "      <td>Republican Party</td>\n",
       "      <td>red</td>\n",
       "      <td>pink</td>\n",
       "      <td>AMERICAN BEVERAGE ASSOCIATION POLITICAL ACTION...</td>\n",
       "      <td>HAMMOND, MARK N. MR.</td>\n",
       "      <td>1275 PENNSYLVANIA AVE NW</td>\n",
       "      <td>SUITE 1100</td>\n",
       "      <td>WASHINGTON</td>\n",
       "      <td>DC</td>\n",
       "      <td>20004</td>\n",
       "      <td>B</td>\n",
       "      <td>Q</td>\n",
       "      <td>NNE</td>\n",
       "      <td>M</td>\n",
       "      <td>T</td>\n",
       "      <td>AMERICAN BEVERAGE ASSOCIATION</td>\n",
       "      <td>NaN</td>\n",
       "    </tr>\n",
       "    <tr>\n",
       "      <th>3</th>\n",
       "      <td>C00214304</td>\n",
       "      <td>N</td>\n",
       "      <td>M2</td>\n",
       "      <td>G2020</td>\n",
       "      <td>201902199145530707</td>\n",
       "      <td>24K</td>\n",
       "      <td>CCM</td>\n",
       "      <td>THOM TILLIS COMMITTEE</td>\n",
       "      <td>RALEIGH</td>\n",
       "      <td>NC</td>\n",
       "      <td>27624</td>\n",
       "      <td>NaN</td>\n",
       "      <td>NaN</td>\n",
       "      <td>2019-01-08</td>\n",
       "      <td>2500</td>\n",
       "      <td>C00545772</td>\n",
       "      <td>S4NC00162</td>\n",
       "      <td>10001048</td>\n",
       "      <td>1316592</td>\n",
       "      <td>NaN</td>\n",
       "      <td>NaN</td>\n",
       "      <td>4022820191644627257</td>\n",
       "      <td>New</td>\n",
       "      <td>February monthly</td>\n",
       "      <td>General</td>\n",
       "      <td>2020</td>\n",
       "      <td>Contribution made to nonaffiliated committee</td>\n",
       "      <td>Candidate Committee</td>\n",
       "      <td>10001048</td>\n",
       "      <td>None</td>\n",
       "      <td>TILLIS, THOM R. SEN.</td>\n",
       "      <td>I</td>\n",
       "      <td>2</td>\n",
       "      <td>REP</td>\n",
       "      <td>8269271.66</td>\n",
       "      <td>1152018.96</td>\n",
       "      <td>3811302.27</td>\n",
       "      <td>6441.91</td>\n",
       "      <td>2025444.43</td>\n",
       "      <td>6483413.82</td>\n",
       "      <td>0.0</td>\n",
       "      <td>0.0</td>\n",
       "      <td>0.0</td>\n",
       "      <td>0.0</td>\n",
       "      <td>0.0</td>\n",
       "      <td>0.0</td>\n",
       "      <td>4798506.58</td>\n",
       "      <td>NC</td>\n",
       "      <td>00</td>\n",
       "      <td>NaN</td>\n",
       "      <td>NaN</td>\n",
       "      <td>NaN</td>\n",
       "      <td>NaN</td>\n",
       "      <td>NaN</td>\n",
       "      <td>2278244.39</td>\n",
       "      <td>0.0</td>\n",
       "      <td>06/09/2020</td>\n",
       "      <td>102493.33</td>\n",
       "      <td>14425.67</td>\n",
       "      <td>7117252.7</td>\n",
       "      <td>3804860.36</td>\n",
       "      <td>Incumbent</td>\n",
       "      <td>Republican Party</td>\n",
       "      <td>red</td>\n",
       "      <td>pink</td>\n",
       "      <td>AHOLD DELHAIZE USA, INC POLITICAL ACTION COMMI...</td>\n",
       "      <td>YOUNG, TEROSS WILLIEVICK</td>\n",
       "      <td>PO BOX 1330</td>\n",
       "      <td>2110 EXECUTIVE DRIVE</td>\n",
       "      <td>SALISBURY</td>\n",
       "      <td>NC</td>\n",
       "      <td>28145</td>\n",
       "      <td>U</td>\n",
       "      <td>Q</td>\n",
       "      <td>NaN</td>\n",
       "      <td>M</td>\n",
       "      <td>C</td>\n",
       "      <td>AHOLD DELHAIZE USA, INC.</td>\n",
       "      <td>NaN</td>\n",
       "    </tr>\n",
       "    <tr>\n",
       "      <th>4</th>\n",
       "      <td>C00144774</td>\n",
       "      <td>N</td>\n",
       "      <td>M2</td>\n",
       "      <td>P2020</td>\n",
       "      <td>201902199145526887</td>\n",
       "      <td>24K</td>\n",
       "      <td>CCM</td>\n",
       "      <td>THOM TILLIS COMMITTEE</td>\n",
       "      <td>RALEIGH</td>\n",
       "      <td>NC</td>\n",
       "      <td>27624</td>\n",
       "      <td>NaN</td>\n",
       "      <td>NaN</td>\n",
       "      <td>2019-01-09</td>\n",
       "      <td>5000</td>\n",
       "      <td>C00545772</td>\n",
       "      <td>S4NC00162</td>\n",
       "      <td>12654565</td>\n",
       "      <td>1316428</td>\n",
       "      <td>NaN</td>\n",
       "      <td>DIRECT CONTIRIBUTION</td>\n",
       "      <td>4022720191644226724</td>\n",
       "      <td>New</td>\n",
       "      <td>February monthly</td>\n",
       "      <td>Primary</td>\n",
       "      <td>2020</td>\n",
       "      <td>Contribution made to nonaffiliated committee</td>\n",
       "      <td>Candidate Committee</td>\n",
       "      <td>12654565</td>\n",
       "      <td>None</td>\n",
       "      <td>TILLIS, THOM R. SEN.</td>\n",
       "      <td>I</td>\n",
       "      <td>2</td>\n",
       "      <td>REP</td>\n",
       "      <td>8269271.66</td>\n",
       "      <td>1152018.96</td>\n",
       "      <td>3811302.27</td>\n",
       "      <td>6441.91</td>\n",
       "      <td>2025444.43</td>\n",
       "      <td>6483413.82</td>\n",
       "      <td>0.0</td>\n",
       "      <td>0.0</td>\n",
       "      <td>0.0</td>\n",
       "      <td>0.0</td>\n",
       "      <td>0.0</td>\n",
       "      <td>0.0</td>\n",
       "      <td>4798506.58</td>\n",
       "      <td>NC</td>\n",
       "      <td>00</td>\n",
       "      <td>NaN</td>\n",
       "      <td>NaN</td>\n",
       "      <td>NaN</td>\n",
       "      <td>NaN</td>\n",
       "      <td>NaN</td>\n",
       "      <td>2278244.39</td>\n",
       "      <td>0.0</td>\n",
       "      <td>06/09/2020</td>\n",
       "      <td>102493.33</td>\n",
       "      <td>14425.67</td>\n",
       "      <td>7117252.7</td>\n",
       "      <td>3804860.36</td>\n",
       "      <td>Incumbent</td>\n",
       "      <td>Republican Party</td>\n",
       "      <td>red</td>\n",
       "      <td>pink</td>\n",
       "      <td>SOUTHERN COMPANY EMPLOYEES PAC</td>\n",
       "      <td>CARDEN, LAURA B.</td>\n",
       "      <td>241 RALPH MCGILL BOULEVARD NE</td>\n",
       "      <td>BIN 10111</td>\n",
       "      <td>ATLANTA</td>\n",
       "      <td>GA</td>\n",
       "      <td>30308</td>\n",
       "      <td>B</td>\n",
       "      <td>Q</td>\n",
       "      <td>NaN</td>\n",
       "      <td>M</td>\n",
       "      <td>C</td>\n",
       "      <td>NaN</td>\n",
       "      <td>NaN</td>\n",
       "    </tr>\n",
       "  </tbody>\n",
       "</table>\n",
       "</div>"
      ],
      "text/plain": [
       "     CMTE_ID AMNDT_IND RPT_TP TRANSACTION_PGI           IMAGE_NUM  \\\n",
       "0  C00371385         N     M2               P  201902059145461441   \n",
       "1  C00551192         N     M2           P2020  201902119145496265   \n",
       "2  C00100107         N     M2           P2020  201902159145516138   \n",
       "3  C00214304         N     M2           G2020  201902199145530707   \n",
       "4  C00144774         N     M2           P2020  201902199145526887   \n",
       "\n",
       "  TRANSACTION_TP ENTITY_TP                   NAME     CITY STATE ZIP_CODE  \\\n",
       "0            24K       CCM  THOM TILLIS COMMITTEE  RALEIGH    NC    27624   \n",
       "1            24K       CCM  THOM TILLIS COMMITTEE  RALEIGH    NC    27624   \n",
       "2            24K       CCM  THOM TILLIS COMMITTEE  RALEIGH    NC    27624   \n",
       "3            24K       CCM  THOM TILLIS COMMITTEE  RALEIGH    NC    27624   \n",
       "4            24K       CCM  THOM TILLIS COMMITTEE  RALEIGH    NC    27624   \n",
       "\n",
       "  EMPLOYER OCCUPATION TRANSACTION_DT  TRANSACTION_AMT   OTHER_ID    CAND_ID  \\\n",
       "0      NaN        NaN     2019-01-09             5000  C00545772  S4NC00162   \n",
       "1      NaN        NaN     2019-01-28             2700  C00545772  S4NC00162   \n",
       "2      NaN        NaN     2019-01-11             2500  C00545772  S4NC00162   \n",
       "3      NaN        NaN     2019-01-08             2500  C00545772  S4NC00162   \n",
       "4      NaN        NaN     2019-01-09             5000  C00545772  S4NC00162   \n",
       "\n",
       "               TRAN_ID  FILE_NUM MEMO_CD             MEMO_TEXT  \\\n",
       "0            SB23.6145   1314334     NaN                   NaN   \n",
       "1             43079234   1315351     NaN          CONTRIBUTION   \n",
       "2  156BA6A4BB1CA36FD35   1316037     NaN                   NaN   \n",
       "3             10001048   1316592     NaN                   NaN   \n",
       "4             12654565   1316428     NaN  DIRECT CONTIRIBUTION   \n",
       "\n",
       "                SUB_ID AMNDT_IND_FULL       RPT_TP_FULL ELECTION_TYPE  \\\n",
       "0  4022620191643762260            New  February monthly       Primary   \n",
       "1  4022220191643459655            New  February monthly       Primary   \n",
       "2  4022720191644231227            New  February monthly       Primary   \n",
       "3  4022820191644627257            New  February monthly       General   \n",
       "4  4022720191644226724            New  February monthly       Primary   \n",
       "\n",
       "   ELECTION_YEAR                           TRANSACTION_TP_FULL  \\\n",
       "0              0  Contribution made to nonaffiliated committee   \n",
       "1           2020  Contribution made to nonaffiliated committee   \n",
       "2           2020  Contribution made to nonaffiliated committee   \n",
       "3           2020  Contribution made to nonaffiliated committee   \n",
       "4           2020  Contribution made to nonaffiliated committee   \n",
       "\n",
       "        ENTITY_TP_FULL       TRAN_ID_parent TRAN_ID_child  \\\n",
       "0  Candidate Committee                 SB23          6145   \n",
       "1  Candidate Committee             43079234          None   \n",
       "2  Candidate Committee  156BA6A4BB1CA36FD35          None   \n",
       "3  Candidate Committee             10001048          None   \n",
       "4  Candidate Committee             12654565          None   \n",
       "\n",
       "              CAND_NAME CAND_ICI  PTY_CD CAND_PTY_AFFILIATION  TTL_RECEIPTS  \\\n",
       "0  TILLIS, THOM R. SEN.        I       2                  REP    8269271.66   \n",
       "1  TILLIS, THOM R. SEN.        I       2                  REP    8269271.66   \n",
       "2  TILLIS, THOM R. SEN.        I       2                  REP    8269271.66   \n",
       "3  TILLIS, THOM R. SEN.        I       2                  REP    8269271.66   \n",
       "4  TILLIS, THOM R. SEN.        I       2                  REP    8269271.66   \n",
       "\n",
       "   TRANS_FROM_AUTH    TTL_DISB  TRANS_TO_AUTH     COH_BOP     COH_COP  \\\n",
       "0       1152018.96  3811302.27        6441.91  2025444.43  6483413.82   \n",
       "1       1152018.96  3811302.27        6441.91  2025444.43  6483413.82   \n",
       "2       1152018.96  3811302.27        6441.91  2025444.43  6483413.82   \n",
       "3       1152018.96  3811302.27        6441.91  2025444.43  6483413.82   \n",
       "4       1152018.96  3811302.27        6441.91  2025444.43  6483413.82   \n",
       "\n",
       "   CAND_CONTRIB  CAND_LOANS  OTHER_LOANS  CAND_LOAN_REPAY  OTHER_LOAN_REPAY  \\\n",
       "0           0.0         0.0          0.0              0.0               0.0   \n",
       "1           0.0         0.0          0.0              0.0               0.0   \n",
       "2           0.0         0.0          0.0              0.0               0.0   \n",
       "3           0.0         0.0          0.0              0.0               0.0   \n",
       "4           0.0         0.0          0.0              0.0               0.0   \n",
       "\n",
       "   DEBTS_OWED_BY  TTL_INDIV_CONTRIB CAND_OFFICE_ST CAND_OFFICE_DISTRICT  \\\n",
       "0            0.0         4798506.58             NC                   00   \n",
       "1            0.0         4798506.58             NC                   00   \n",
       "2            0.0         4798506.58             NC                   00   \n",
       "3            0.0         4798506.58             NC                   00   \n",
       "4            0.0         4798506.58             NC                   00   \n",
       "\n",
       "   SPEC_ELECTION  PRIM_ELECTION  RUN_ELECTION  GEN_ELECTION  \\\n",
       "0            NaN            NaN           NaN           NaN   \n",
       "1            NaN            NaN           NaN           NaN   \n",
       "2            NaN            NaN           NaN           NaN   \n",
       "3            NaN            NaN           NaN           NaN   \n",
       "4            NaN            NaN           NaN           NaN   \n",
       "\n",
       "   GEN_ELECTION_PRECENT  OTHER_POL_CMTE_CONTRIB  POL_PTY_CONTRIB  CVG_END_DT  \\\n",
       "0                   NaN              2278244.39              0.0  06/09/2020   \n",
       "1                   NaN              2278244.39              0.0  06/09/2020   \n",
       "2                   NaN              2278244.39              0.0  06/09/2020   \n",
       "3                   NaN              2278244.39              0.0  06/09/2020   \n",
       "4                   NaN              2278244.39              0.0  06/09/2020   \n",
       "\n",
       "   INDIV_REFUNDS  CMTE_REFUNDS  TTL_RECEIPTS_CORRECTED  TTL_DISB_CORRECTED  \\\n",
       "0      102493.33      14425.67               7117252.7          3804860.36   \n",
       "1      102493.33      14425.67               7117252.7          3804860.36   \n",
       "2      102493.33      14425.67               7117252.7          3804860.36   \n",
       "3      102493.33      14425.67               7117252.7          3804860.36   \n",
       "4      102493.33      14425.67               7117252.7          3804860.36   \n",
       "\n",
       "  CAND_ICI_FULL CAND_PTY_AFFILIATION_FULL color second_color  \\\n",
       "0     Incumbent          Republican Party   red         pink   \n",
       "1     Incumbent          Republican Party   red         pink   \n",
       "2     Incumbent          Republican Party   red         pink   \n",
       "3     Incumbent          Republican Party   red         pink   \n",
       "4     Incumbent          Republican Party   red         pink   \n",
       "\n",
       "                                             CMTE_NM  \\\n",
       "0                                   ALEX LEE INC PAC   \n",
       "1     MAIN STREET BANKING POLITICAL ACTION COMMITTEE   \n",
       "2  AMERICAN BEVERAGE ASSOCIATION POLITICAL ACTION...   \n",
       "3  AHOLD DELHAIZE USA, INC POLITICAL ACTION COMMI...   \n",
       "4                     SOUTHERN COMPANY EMPLOYEES PAC   \n",
       "\n",
       "                    TRES_NM                       CMTE_ST1  \\\n",
       "0      ALMQUIST, ANDREW MR.              120 4TH STREET SW   \n",
       "1            WILLIAMS, WADE                    PO BOX 7427   \n",
       "2      HAMMOND, MARK N. MR.       1275 PENNSYLVANIA AVE NW   \n",
       "3  YOUNG, TEROSS WILLIEVICK                    PO BOX 1330   \n",
       "4          CARDEN, LAURA B.  241 RALPH MCGILL BOULEVARD NE   \n",
       "\n",
       "               CMTE_ST2   CMTE_CITY CMTE_ST   CMTE_ZIP CMTE_DSGN CMTE_TP  \\\n",
       "0                   NaN     HICKORY      NC      28602         U       Q   \n",
       "1                   NaN  ALEXANDRIA      VA  223077427         U       N   \n",
       "2            SUITE 1100  WASHINGTON      DC      20004         B       Q   \n",
       "3  2110 EXECUTIVE DRIVE   SALISBURY      NC      28145         U       Q   \n",
       "4             BIN 10111     ATLANTA      GA      30308         B       Q   \n",
       "\n",
       "  CMTE_PTY_AFFILIATION CMTE_FILING_FREQ ORG_TP               CONNECTED_ORG_NM  \\\n",
       "0                  NaN                M      C                 ALEX LEE, INC.   \n",
       "1                  NaN                M    NaN                           NONE   \n",
       "2                  NNE                M      T  AMERICAN BEVERAGE ASSOCIATION   \n",
       "3                  NaN                M      C       AHOLD DELHAIZE USA, INC.   \n",
       "4                  NaN                M      C                            NaN   \n",
       "\n",
       "  CAND_ID_y  \n",
       "0       NaN  \n",
       "1       NaN  \n",
       "2       NaN  \n",
       "3       NaN  \n",
       "4       NaN  "
      ]
     },
     "execution_count": 30,
     "metadata": {},
     "output_type": "execute_result"
    }
   ],
   "source": [
    "committee_contribs = committee_contribs.merge(committee_master, on='CMTE_ID', how='left', suffixes=('', '_y'))\n",
    "committee_contribs.head()"
   ]
  },
  {
   "cell_type": "markdown",
   "metadata": {
    "papermill": {
     "duration": 0.054726,
     "end_time": "2020-09-02T04:53:58.378691",
     "exception": false,
     "start_time": "2020-09-02T04:53:58.323965",
     "status": "completed"
    },
    "tags": []
   },
   "source": [
    "### Contributions from committees"
   ]
  },
  {
   "cell_type": "code",
   "execution_count": 31,
   "metadata": {
    "_kg_hide-input": true,
    "_kg_hide-output": true,
    "execution": {
     "iopub.execute_input": "2020-09-02T04:53:58.499014Z",
     "iopub.status.busy": "2020-09-02T04:53:58.497682Z",
     "iopub.status.idle": "2020-09-02T04:53:58.595834Z",
     "shell.execute_reply": "2020-09-02T04:53:58.595152Z"
    },
    "papermill": {
     "duration": 0.162232,
     "end_time": "2020-09-02T04:53:58.595971",
     "exception": false,
     "start_time": "2020-09-02T04:53:58.433739",
     "status": "completed"
    },
    "tags": []
   },
   "outputs": [
    {
     "data": {
      "text/html": [
       "<div>\n",
       "<style scoped>\n",
       "    .dataframe tbody tr th:only-of-type {\n",
       "        vertical-align: middle;\n",
       "    }\n",
       "\n",
       "    .dataframe tbody tr th {\n",
       "        vertical-align: top;\n",
       "    }\n",
       "\n",
       "    .dataframe thead th {\n",
       "        text-align: right;\n",
       "    }\n",
       "</style>\n",
       "<table border=\"1\" class=\"dataframe\">\n",
       "  <thead>\n",
       "    <tr style=\"text-align: right;\">\n",
       "      <th></th>\n",
       "      <th>CMTE_ID</th>\n",
       "      <th>AMNDT_IND</th>\n",
       "      <th>RPT_TP</th>\n",
       "      <th>TRANSACTION_PGI</th>\n",
       "      <th>IMAGE_NUM</th>\n",
       "      <th>TRANSACTION_TP</th>\n",
       "      <th>ENTITY_TP</th>\n",
       "      <th>NAME</th>\n",
       "      <th>CITY</th>\n",
       "      <th>STATE</th>\n",
       "      <th>ZIP_CODE</th>\n",
       "      <th>EMPLOYER</th>\n",
       "      <th>OCCUPATION</th>\n",
       "      <th>TRANSACTION_DT</th>\n",
       "      <th>TRANSACTION_AMT</th>\n",
       "      <th>OTHER_ID</th>\n",
       "      <th>CAND_ID</th>\n",
       "      <th>TRAN_ID</th>\n",
       "      <th>FILE_NUM</th>\n",
       "      <th>MEMO_CD</th>\n",
       "      <th>MEMO_TEXT</th>\n",
       "      <th>SUB_ID</th>\n",
       "      <th>AMNDT_IND_FULL</th>\n",
       "      <th>RPT_TP_FULL</th>\n",
       "      <th>ELECTION_TYPE</th>\n",
       "      <th>ELECTION_YEAR</th>\n",
       "      <th>TRANSACTION_TP_FULL</th>\n",
       "      <th>ENTITY_TP_FULL</th>\n",
       "      <th>TRAN_ID_parent</th>\n",
       "      <th>TRAN_ID_child</th>\n",
       "      <th>CAND_NAME</th>\n",
       "      <th>CAND_ICI</th>\n",
       "      <th>PTY_CD</th>\n",
       "      <th>CAND_PTY_AFFILIATION</th>\n",
       "      <th>TTL_RECEIPTS</th>\n",
       "      <th>TRANS_FROM_AUTH</th>\n",
       "      <th>TTL_DISB</th>\n",
       "      <th>TRANS_TO_AUTH</th>\n",
       "      <th>COH_BOP</th>\n",
       "      <th>COH_COP</th>\n",
       "      <th>CAND_CONTRIB</th>\n",
       "      <th>CAND_LOANS</th>\n",
       "      <th>OTHER_LOANS</th>\n",
       "      <th>CAND_LOAN_REPAY</th>\n",
       "      <th>OTHER_LOAN_REPAY</th>\n",
       "      <th>DEBTS_OWED_BY</th>\n",
       "      <th>TTL_INDIV_CONTRIB</th>\n",
       "      <th>CAND_OFFICE_ST</th>\n",
       "      <th>CAND_OFFICE_DISTRICT</th>\n",
       "      <th>SPEC_ELECTION</th>\n",
       "      <th>PRIM_ELECTION</th>\n",
       "      <th>RUN_ELECTION</th>\n",
       "      <th>GEN_ELECTION</th>\n",
       "      <th>GEN_ELECTION_PRECENT</th>\n",
       "      <th>OTHER_POL_CMTE_CONTRIB</th>\n",
       "      <th>POL_PTY_CONTRIB</th>\n",
       "      <th>CVG_END_DT</th>\n",
       "      <th>INDIV_REFUNDS</th>\n",
       "      <th>CMTE_REFUNDS</th>\n",
       "      <th>TTL_RECEIPTS_CORRECTED</th>\n",
       "      <th>TTL_DISB_CORRECTED</th>\n",
       "      <th>CAND_ICI_FULL</th>\n",
       "      <th>CAND_PTY_AFFILIATION_FULL</th>\n",
       "      <th>color</th>\n",
       "      <th>second_color</th>\n",
       "      <th>CMTE_NM</th>\n",
       "      <th>TRES_NM</th>\n",
       "      <th>CMTE_ST1</th>\n",
       "      <th>CMTE_ST2</th>\n",
       "      <th>CMTE_CITY</th>\n",
       "      <th>CMTE_ST</th>\n",
       "      <th>CMTE_ZIP</th>\n",
       "      <th>CMTE_DSGN</th>\n",
       "      <th>CMTE_TP</th>\n",
       "      <th>CMTE_PTY_AFFILIATION</th>\n",
       "      <th>CMTE_FILING_FREQ</th>\n",
       "      <th>ORG_TP</th>\n",
       "      <th>CONNECTED_ORG_NM</th>\n",
       "      <th>CAND_ID_y</th>\n",
       "    </tr>\n",
       "  </thead>\n",
       "  <tbody>\n",
       "    <tr>\n",
       "      <th>0</th>\n",
       "      <td>C00371385</td>\n",
       "      <td>N</td>\n",
       "      <td>M2</td>\n",
       "      <td>P</td>\n",
       "      <td>201902059145461441</td>\n",
       "      <td>24K</td>\n",
       "      <td>CCM</td>\n",
       "      <td>THOM TILLIS COMMITTEE</td>\n",
       "      <td>RALEIGH</td>\n",
       "      <td>NC</td>\n",
       "      <td>27624</td>\n",
       "      <td>NaN</td>\n",
       "      <td>NaN</td>\n",
       "      <td>2019-01-09</td>\n",
       "      <td>5000</td>\n",
       "      <td>C00545772</td>\n",
       "      <td>S4NC00162</td>\n",
       "      <td>SB23.6145</td>\n",
       "      <td>1314334</td>\n",
       "      <td>NaN</td>\n",
       "      <td>NaN</td>\n",
       "      <td>4022620191643762260</td>\n",
       "      <td>New</td>\n",
       "      <td>February monthly</td>\n",
       "      <td>Primary</td>\n",
       "      <td>0</td>\n",
       "      <td>Contribution made to nonaffiliated committee</td>\n",
       "      <td>Candidate Committee</td>\n",
       "      <td>SB23</td>\n",
       "      <td>6145</td>\n",
       "      <td>TILLIS, THOM R. SEN.</td>\n",
       "      <td>I</td>\n",
       "      <td>2</td>\n",
       "      <td>REP</td>\n",
       "      <td>8269271.66</td>\n",
       "      <td>1152018.96</td>\n",
       "      <td>3811302.27</td>\n",
       "      <td>6441.91</td>\n",
       "      <td>2025444.43</td>\n",
       "      <td>6483413.82</td>\n",
       "      <td>0.0</td>\n",
       "      <td>0.0</td>\n",
       "      <td>0.0</td>\n",
       "      <td>0.0</td>\n",
       "      <td>0.0</td>\n",
       "      <td>0.0</td>\n",
       "      <td>4798506.58</td>\n",
       "      <td>NC</td>\n",
       "      <td>00</td>\n",
       "      <td>NaN</td>\n",
       "      <td>NaN</td>\n",
       "      <td>NaN</td>\n",
       "      <td>NaN</td>\n",
       "      <td>NaN</td>\n",
       "      <td>2278244.39</td>\n",
       "      <td>0.0</td>\n",
       "      <td>06/09/2020</td>\n",
       "      <td>102493.33</td>\n",
       "      <td>14425.67</td>\n",
       "      <td>7117252.7</td>\n",
       "      <td>3804860.36</td>\n",
       "      <td>Incumbent</td>\n",
       "      <td>Republican Party</td>\n",
       "      <td>red</td>\n",
       "      <td>pink</td>\n",
       "      <td>ALEX LEE INC PAC</td>\n",
       "      <td>ALMQUIST, ANDREW MR.</td>\n",
       "      <td>120 4TH STREET SW</td>\n",
       "      <td>NaN</td>\n",
       "      <td>HICKORY</td>\n",
       "      <td>NC</td>\n",
       "      <td>28602</td>\n",
       "      <td>U</td>\n",
       "      <td>Q</td>\n",
       "      <td>NaN</td>\n",
       "      <td>M</td>\n",
       "      <td>C</td>\n",
       "      <td>ALEX LEE, INC.</td>\n",
       "      <td>NaN</td>\n",
       "    </tr>\n",
       "    <tr>\n",
       "      <th>1</th>\n",
       "      <td>C00551192</td>\n",
       "      <td>N</td>\n",
       "      <td>M2</td>\n",
       "      <td>P2020</td>\n",
       "      <td>201902119145496265</td>\n",
       "      <td>24K</td>\n",
       "      <td>CCM</td>\n",
       "      <td>THOM TILLIS COMMITTEE</td>\n",
       "      <td>RALEIGH</td>\n",
       "      <td>NC</td>\n",
       "      <td>27624</td>\n",
       "      <td>NaN</td>\n",
       "      <td>NaN</td>\n",
       "      <td>2019-01-28</td>\n",
       "      <td>2700</td>\n",
       "      <td>C00545772</td>\n",
       "      <td>S4NC00162</td>\n",
       "      <td>43079234</td>\n",
       "      <td>1315351</td>\n",
       "      <td>NaN</td>\n",
       "      <td>CONTRIBUTION</td>\n",
       "      <td>4022220191643459655</td>\n",
       "      <td>New</td>\n",
       "      <td>February monthly</td>\n",
       "      <td>Primary</td>\n",
       "      <td>2020</td>\n",
       "      <td>Contribution made to nonaffiliated committee</td>\n",
       "      <td>Candidate Committee</td>\n",
       "      <td>43079234</td>\n",
       "      <td>None</td>\n",
       "      <td>TILLIS, THOM R. SEN.</td>\n",
       "      <td>I</td>\n",
       "      <td>2</td>\n",
       "      <td>REP</td>\n",
       "      <td>8269271.66</td>\n",
       "      <td>1152018.96</td>\n",
       "      <td>3811302.27</td>\n",
       "      <td>6441.91</td>\n",
       "      <td>2025444.43</td>\n",
       "      <td>6483413.82</td>\n",
       "      <td>0.0</td>\n",
       "      <td>0.0</td>\n",
       "      <td>0.0</td>\n",
       "      <td>0.0</td>\n",
       "      <td>0.0</td>\n",
       "      <td>0.0</td>\n",
       "      <td>4798506.58</td>\n",
       "      <td>NC</td>\n",
       "      <td>00</td>\n",
       "      <td>NaN</td>\n",
       "      <td>NaN</td>\n",
       "      <td>NaN</td>\n",
       "      <td>NaN</td>\n",
       "      <td>NaN</td>\n",
       "      <td>2278244.39</td>\n",
       "      <td>0.0</td>\n",
       "      <td>06/09/2020</td>\n",
       "      <td>102493.33</td>\n",
       "      <td>14425.67</td>\n",
       "      <td>7117252.7</td>\n",
       "      <td>3804860.36</td>\n",
       "      <td>Incumbent</td>\n",
       "      <td>Republican Party</td>\n",
       "      <td>red</td>\n",
       "      <td>pink</td>\n",
       "      <td>MAIN STREET BANKING POLITICAL ACTION COMMITTEE</td>\n",
       "      <td>WILLIAMS, WADE</td>\n",
       "      <td>PO BOX 7427</td>\n",
       "      <td>NaN</td>\n",
       "      <td>ALEXANDRIA</td>\n",
       "      <td>VA</td>\n",
       "      <td>223077427</td>\n",
       "      <td>U</td>\n",
       "      <td>N</td>\n",
       "      <td>NaN</td>\n",
       "      <td>M</td>\n",
       "      <td>NaN</td>\n",
       "      <td>NONE</td>\n",
       "      <td>NaN</td>\n",
       "    </tr>\n",
       "    <tr>\n",
       "      <th>2</th>\n",
       "      <td>C00100107</td>\n",
       "      <td>N</td>\n",
       "      <td>M2</td>\n",
       "      <td>P2020</td>\n",
       "      <td>201902159145516138</td>\n",
       "      <td>24K</td>\n",
       "      <td>CCM</td>\n",
       "      <td>THOM TILLIS COMMITTEE</td>\n",
       "      <td>RALEIGH</td>\n",
       "      <td>NC</td>\n",
       "      <td>27624</td>\n",
       "      <td>NaN</td>\n",
       "      <td>NaN</td>\n",
       "      <td>2019-01-11</td>\n",
       "      <td>2500</td>\n",
       "      <td>C00545772</td>\n",
       "      <td>S4NC00162</td>\n",
       "      <td>156BA6A4BB1CA36FD35</td>\n",
       "      <td>1316037</td>\n",
       "      <td>NaN</td>\n",
       "      <td>NaN</td>\n",
       "      <td>4022720191644231227</td>\n",
       "      <td>New</td>\n",
       "      <td>February monthly</td>\n",
       "      <td>Primary</td>\n",
       "      <td>2020</td>\n",
       "      <td>Contribution made to nonaffiliated committee</td>\n",
       "      <td>Candidate Committee</td>\n",
       "      <td>156BA6A4BB1CA36FD35</td>\n",
       "      <td>None</td>\n",
       "      <td>TILLIS, THOM R. SEN.</td>\n",
       "      <td>I</td>\n",
       "      <td>2</td>\n",
       "      <td>REP</td>\n",
       "      <td>8269271.66</td>\n",
       "      <td>1152018.96</td>\n",
       "      <td>3811302.27</td>\n",
       "      <td>6441.91</td>\n",
       "      <td>2025444.43</td>\n",
       "      <td>6483413.82</td>\n",
       "      <td>0.0</td>\n",
       "      <td>0.0</td>\n",
       "      <td>0.0</td>\n",
       "      <td>0.0</td>\n",
       "      <td>0.0</td>\n",
       "      <td>0.0</td>\n",
       "      <td>4798506.58</td>\n",
       "      <td>NC</td>\n",
       "      <td>00</td>\n",
       "      <td>NaN</td>\n",
       "      <td>NaN</td>\n",
       "      <td>NaN</td>\n",
       "      <td>NaN</td>\n",
       "      <td>NaN</td>\n",
       "      <td>2278244.39</td>\n",
       "      <td>0.0</td>\n",
       "      <td>06/09/2020</td>\n",
       "      <td>102493.33</td>\n",
       "      <td>14425.67</td>\n",
       "      <td>7117252.7</td>\n",
       "      <td>3804860.36</td>\n",
       "      <td>Incumbent</td>\n",
       "      <td>Republican Party</td>\n",
       "      <td>red</td>\n",
       "      <td>pink</td>\n",
       "      <td>AMERICAN BEVERAGE ASSOCIATION POLITICAL ACTION...</td>\n",
       "      <td>HAMMOND, MARK N. MR.</td>\n",
       "      <td>1275 PENNSYLVANIA AVE NW</td>\n",
       "      <td>SUITE 1100</td>\n",
       "      <td>WASHINGTON</td>\n",
       "      <td>DC</td>\n",
       "      <td>20004</td>\n",
       "      <td>B</td>\n",
       "      <td>Q</td>\n",
       "      <td>NNE</td>\n",
       "      <td>M</td>\n",
       "      <td>T</td>\n",
       "      <td>AMERICAN BEVERAGE ASSOCIATION</td>\n",
       "      <td>NaN</td>\n",
       "    </tr>\n",
       "    <tr>\n",
       "      <th>3</th>\n",
       "      <td>C00214304</td>\n",
       "      <td>N</td>\n",
       "      <td>M2</td>\n",
       "      <td>G2020</td>\n",
       "      <td>201902199145530707</td>\n",
       "      <td>24K</td>\n",
       "      <td>CCM</td>\n",
       "      <td>THOM TILLIS COMMITTEE</td>\n",
       "      <td>RALEIGH</td>\n",
       "      <td>NC</td>\n",
       "      <td>27624</td>\n",
       "      <td>NaN</td>\n",
       "      <td>NaN</td>\n",
       "      <td>2019-01-08</td>\n",
       "      <td>2500</td>\n",
       "      <td>C00545772</td>\n",
       "      <td>S4NC00162</td>\n",
       "      <td>10001048</td>\n",
       "      <td>1316592</td>\n",
       "      <td>NaN</td>\n",
       "      <td>NaN</td>\n",
       "      <td>4022820191644627257</td>\n",
       "      <td>New</td>\n",
       "      <td>February monthly</td>\n",
       "      <td>General</td>\n",
       "      <td>2020</td>\n",
       "      <td>Contribution made to nonaffiliated committee</td>\n",
       "      <td>Candidate Committee</td>\n",
       "      <td>10001048</td>\n",
       "      <td>None</td>\n",
       "      <td>TILLIS, THOM R. SEN.</td>\n",
       "      <td>I</td>\n",
       "      <td>2</td>\n",
       "      <td>REP</td>\n",
       "      <td>8269271.66</td>\n",
       "      <td>1152018.96</td>\n",
       "      <td>3811302.27</td>\n",
       "      <td>6441.91</td>\n",
       "      <td>2025444.43</td>\n",
       "      <td>6483413.82</td>\n",
       "      <td>0.0</td>\n",
       "      <td>0.0</td>\n",
       "      <td>0.0</td>\n",
       "      <td>0.0</td>\n",
       "      <td>0.0</td>\n",
       "      <td>0.0</td>\n",
       "      <td>4798506.58</td>\n",
       "      <td>NC</td>\n",
       "      <td>00</td>\n",
       "      <td>NaN</td>\n",
       "      <td>NaN</td>\n",
       "      <td>NaN</td>\n",
       "      <td>NaN</td>\n",
       "      <td>NaN</td>\n",
       "      <td>2278244.39</td>\n",
       "      <td>0.0</td>\n",
       "      <td>06/09/2020</td>\n",
       "      <td>102493.33</td>\n",
       "      <td>14425.67</td>\n",
       "      <td>7117252.7</td>\n",
       "      <td>3804860.36</td>\n",
       "      <td>Incumbent</td>\n",
       "      <td>Republican Party</td>\n",
       "      <td>red</td>\n",
       "      <td>pink</td>\n",
       "      <td>AHOLD DELHAIZE USA, INC POLITICAL ACTION COMMI...</td>\n",
       "      <td>YOUNG, TEROSS WILLIEVICK</td>\n",
       "      <td>PO BOX 1330</td>\n",
       "      <td>2110 EXECUTIVE DRIVE</td>\n",
       "      <td>SALISBURY</td>\n",
       "      <td>NC</td>\n",
       "      <td>28145</td>\n",
       "      <td>U</td>\n",
       "      <td>Q</td>\n",
       "      <td>NaN</td>\n",
       "      <td>M</td>\n",
       "      <td>C</td>\n",
       "      <td>AHOLD DELHAIZE USA, INC.</td>\n",
       "      <td>NaN</td>\n",
       "    </tr>\n",
       "    <tr>\n",
       "      <th>4</th>\n",
       "      <td>C00144774</td>\n",
       "      <td>N</td>\n",
       "      <td>M2</td>\n",
       "      <td>P2020</td>\n",
       "      <td>201902199145526887</td>\n",
       "      <td>24K</td>\n",
       "      <td>CCM</td>\n",
       "      <td>THOM TILLIS COMMITTEE</td>\n",
       "      <td>RALEIGH</td>\n",
       "      <td>NC</td>\n",
       "      <td>27624</td>\n",
       "      <td>NaN</td>\n",
       "      <td>NaN</td>\n",
       "      <td>2019-01-09</td>\n",
       "      <td>5000</td>\n",
       "      <td>C00545772</td>\n",
       "      <td>S4NC00162</td>\n",
       "      <td>12654565</td>\n",
       "      <td>1316428</td>\n",
       "      <td>NaN</td>\n",
       "      <td>DIRECT CONTIRIBUTION</td>\n",
       "      <td>4022720191644226724</td>\n",
       "      <td>New</td>\n",
       "      <td>February monthly</td>\n",
       "      <td>Primary</td>\n",
       "      <td>2020</td>\n",
       "      <td>Contribution made to nonaffiliated committee</td>\n",
       "      <td>Candidate Committee</td>\n",
       "      <td>12654565</td>\n",
       "      <td>None</td>\n",
       "      <td>TILLIS, THOM R. SEN.</td>\n",
       "      <td>I</td>\n",
       "      <td>2</td>\n",
       "      <td>REP</td>\n",
       "      <td>8269271.66</td>\n",
       "      <td>1152018.96</td>\n",
       "      <td>3811302.27</td>\n",
       "      <td>6441.91</td>\n",
       "      <td>2025444.43</td>\n",
       "      <td>6483413.82</td>\n",
       "      <td>0.0</td>\n",
       "      <td>0.0</td>\n",
       "      <td>0.0</td>\n",
       "      <td>0.0</td>\n",
       "      <td>0.0</td>\n",
       "      <td>0.0</td>\n",
       "      <td>4798506.58</td>\n",
       "      <td>NC</td>\n",
       "      <td>00</td>\n",
       "      <td>NaN</td>\n",
       "      <td>NaN</td>\n",
       "      <td>NaN</td>\n",
       "      <td>NaN</td>\n",
       "      <td>NaN</td>\n",
       "      <td>2278244.39</td>\n",
       "      <td>0.0</td>\n",
       "      <td>06/09/2020</td>\n",
       "      <td>102493.33</td>\n",
       "      <td>14425.67</td>\n",
       "      <td>7117252.7</td>\n",
       "      <td>3804860.36</td>\n",
       "      <td>Incumbent</td>\n",
       "      <td>Republican Party</td>\n",
       "      <td>red</td>\n",
       "      <td>pink</td>\n",
       "      <td>SOUTHERN COMPANY EMPLOYEES PAC</td>\n",
       "      <td>CARDEN, LAURA B.</td>\n",
       "      <td>241 RALPH MCGILL BOULEVARD NE</td>\n",
       "      <td>BIN 10111</td>\n",
       "      <td>ATLANTA</td>\n",
       "      <td>GA</td>\n",
       "      <td>30308</td>\n",
       "      <td>B</td>\n",
       "      <td>Q</td>\n",
       "      <td>NaN</td>\n",
       "      <td>M</td>\n",
       "      <td>C</td>\n",
       "      <td>NaN</td>\n",
       "      <td>NaN</td>\n",
       "    </tr>\n",
       "  </tbody>\n",
       "</table>\n",
       "</div>"
      ],
      "text/plain": [
       "     CMTE_ID AMNDT_IND RPT_TP TRANSACTION_PGI           IMAGE_NUM  \\\n",
       "0  C00371385         N     M2               P  201902059145461441   \n",
       "1  C00551192         N     M2           P2020  201902119145496265   \n",
       "2  C00100107         N     M2           P2020  201902159145516138   \n",
       "3  C00214304         N     M2           G2020  201902199145530707   \n",
       "4  C00144774         N     M2           P2020  201902199145526887   \n",
       "\n",
       "  TRANSACTION_TP ENTITY_TP                   NAME     CITY STATE ZIP_CODE  \\\n",
       "0            24K       CCM  THOM TILLIS COMMITTEE  RALEIGH    NC    27624   \n",
       "1            24K       CCM  THOM TILLIS COMMITTEE  RALEIGH    NC    27624   \n",
       "2            24K       CCM  THOM TILLIS COMMITTEE  RALEIGH    NC    27624   \n",
       "3            24K       CCM  THOM TILLIS COMMITTEE  RALEIGH    NC    27624   \n",
       "4            24K       CCM  THOM TILLIS COMMITTEE  RALEIGH    NC    27624   \n",
       "\n",
       "  EMPLOYER OCCUPATION TRANSACTION_DT  TRANSACTION_AMT   OTHER_ID    CAND_ID  \\\n",
       "0      NaN        NaN     2019-01-09             5000  C00545772  S4NC00162   \n",
       "1      NaN        NaN     2019-01-28             2700  C00545772  S4NC00162   \n",
       "2      NaN        NaN     2019-01-11             2500  C00545772  S4NC00162   \n",
       "3      NaN        NaN     2019-01-08             2500  C00545772  S4NC00162   \n",
       "4      NaN        NaN     2019-01-09             5000  C00545772  S4NC00162   \n",
       "\n",
       "               TRAN_ID  FILE_NUM MEMO_CD             MEMO_TEXT  \\\n",
       "0            SB23.6145   1314334     NaN                   NaN   \n",
       "1             43079234   1315351     NaN          CONTRIBUTION   \n",
       "2  156BA6A4BB1CA36FD35   1316037     NaN                   NaN   \n",
       "3             10001048   1316592     NaN                   NaN   \n",
       "4             12654565   1316428     NaN  DIRECT CONTIRIBUTION   \n",
       "\n",
       "                SUB_ID AMNDT_IND_FULL       RPT_TP_FULL ELECTION_TYPE  \\\n",
       "0  4022620191643762260            New  February monthly       Primary   \n",
       "1  4022220191643459655            New  February monthly       Primary   \n",
       "2  4022720191644231227            New  February monthly       Primary   \n",
       "3  4022820191644627257            New  February monthly       General   \n",
       "4  4022720191644226724            New  February monthly       Primary   \n",
       "\n",
       "   ELECTION_YEAR                           TRANSACTION_TP_FULL  \\\n",
       "0              0  Contribution made to nonaffiliated committee   \n",
       "1           2020  Contribution made to nonaffiliated committee   \n",
       "2           2020  Contribution made to nonaffiliated committee   \n",
       "3           2020  Contribution made to nonaffiliated committee   \n",
       "4           2020  Contribution made to nonaffiliated committee   \n",
       "\n",
       "        ENTITY_TP_FULL       TRAN_ID_parent TRAN_ID_child  \\\n",
       "0  Candidate Committee                 SB23          6145   \n",
       "1  Candidate Committee             43079234          None   \n",
       "2  Candidate Committee  156BA6A4BB1CA36FD35          None   \n",
       "3  Candidate Committee             10001048          None   \n",
       "4  Candidate Committee             12654565          None   \n",
       "\n",
       "              CAND_NAME CAND_ICI  PTY_CD CAND_PTY_AFFILIATION  TTL_RECEIPTS  \\\n",
       "0  TILLIS, THOM R. SEN.        I       2                  REP    8269271.66   \n",
       "1  TILLIS, THOM R. SEN.        I       2                  REP    8269271.66   \n",
       "2  TILLIS, THOM R. SEN.        I       2                  REP    8269271.66   \n",
       "3  TILLIS, THOM R. SEN.        I       2                  REP    8269271.66   \n",
       "4  TILLIS, THOM R. SEN.        I       2                  REP    8269271.66   \n",
       "\n",
       "   TRANS_FROM_AUTH    TTL_DISB  TRANS_TO_AUTH     COH_BOP     COH_COP  \\\n",
       "0       1152018.96  3811302.27        6441.91  2025444.43  6483413.82   \n",
       "1       1152018.96  3811302.27        6441.91  2025444.43  6483413.82   \n",
       "2       1152018.96  3811302.27        6441.91  2025444.43  6483413.82   \n",
       "3       1152018.96  3811302.27        6441.91  2025444.43  6483413.82   \n",
       "4       1152018.96  3811302.27        6441.91  2025444.43  6483413.82   \n",
       "\n",
       "   CAND_CONTRIB  CAND_LOANS  OTHER_LOANS  CAND_LOAN_REPAY  OTHER_LOAN_REPAY  \\\n",
       "0           0.0         0.0          0.0              0.0               0.0   \n",
       "1           0.0         0.0          0.0              0.0               0.0   \n",
       "2           0.0         0.0          0.0              0.0               0.0   \n",
       "3           0.0         0.0          0.0              0.0               0.0   \n",
       "4           0.0         0.0          0.0              0.0               0.0   \n",
       "\n",
       "   DEBTS_OWED_BY  TTL_INDIV_CONTRIB CAND_OFFICE_ST CAND_OFFICE_DISTRICT  \\\n",
       "0            0.0         4798506.58             NC                   00   \n",
       "1            0.0         4798506.58             NC                   00   \n",
       "2            0.0         4798506.58             NC                   00   \n",
       "3            0.0         4798506.58             NC                   00   \n",
       "4            0.0         4798506.58             NC                   00   \n",
       "\n",
       "   SPEC_ELECTION  PRIM_ELECTION  RUN_ELECTION  GEN_ELECTION  \\\n",
       "0            NaN            NaN           NaN           NaN   \n",
       "1            NaN            NaN           NaN           NaN   \n",
       "2            NaN            NaN           NaN           NaN   \n",
       "3            NaN            NaN           NaN           NaN   \n",
       "4            NaN            NaN           NaN           NaN   \n",
       "\n",
       "   GEN_ELECTION_PRECENT  OTHER_POL_CMTE_CONTRIB  POL_PTY_CONTRIB  CVG_END_DT  \\\n",
       "0                   NaN              2278244.39              0.0  06/09/2020   \n",
       "1                   NaN              2278244.39              0.0  06/09/2020   \n",
       "2                   NaN              2278244.39              0.0  06/09/2020   \n",
       "3                   NaN              2278244.39              0.0  06/09/2020   \n",
       "4                   NaN              2278244.39              0.0  06/09/2020   \n",
       "\n",
       "   INDIV_REFUNDS  CMTE_REFUNDS  TTL_RECEIPTS_CORRECTED  TTL_DISB_CORRECTED  \\\n",
       "0      102493.33      14425.67               7117252.7          3804860.36   \n",
       "1      102493.33      14425.67               7117252.7          3804860.36   \n",
       "2      102493.33      14425.67               7117252.7          3804860.36   \n",
       "3      102493.33      14425.67               7117252.7          3804860.36   \n",
       "4      102493.33      14425.67               7117252.7          3804860.36   \n",
       "\n",
       "  CAND_ICI_FULL CAND_PTY_AFFILIATION_FULL color second_color  \\\n",
       "0     Incumbent          Republican Party   red         pink   \n",
       "1     Incumbent          Republican Party   red         pink   \n",
       "2     Incumbent          Republican Party   red         pink   \n",
       "3     Incumbent          Republican Party   red         pink   \n",
       "4     Incumbent          Republican Party   red         pink   \n",
       "\n",
       "                                             CMTE_NM  \\\n",
       "0                                   ALEX LEE INC PAC   \n",
       "1     MAIN STREET BANKING POLITICAL ACTION COMMITTEE   \n",
       "2  AMERICAN BEVERAGE ASSOCIATION POLITICAL ACTION...   \n",
       "3  AHOLD DELHAIZE USA, INC POLITICAL ACTION COMMI...   \n",
       "4                     SOUTHERN COMPANY EMPLOYEES PAC   \n",
       "\n",
       "                    TRES_NM                       CMTE_ST1  \\\n",
       "0      ALMQUIST, ANDREW MR.              120 4TH STREET SW   \n",
       "1            WILLIAMS, WADE                    PO BOX 7427   \n",
       "2      HAMMOND, MARK N. MR.       1275 PENNSYLVANIA AVE NW   \n",
       "3  YOUNG, TEROSS WILLIEVICK                    PO BOX 1330   \n",
       "4          CARDEN, LAURA B.  241 RALPH MCGILL BOULEVARD NE   \n",
       "\n",
       "               CMTE_ST2   CMTE_CITY CMTE_ST   CMTE_ZIP CMTE_DSGN CMTE_TP  \\\n",
       "0                   NaN     HICKORY      NC      28602         U       Q   \n",
       "1                   NaN  ALEXANDRIA      VA  223077427         U       N   \n",
       "2            SUITE 1100  WASHINGTON      DC      20004         B       Q   \n",
       "3  2110 EXECUTIVE DRIVE   SALISBURY      NC      28145         U       Q   \n",
       "4             BIN 10111     ATLANTA      GA      30308         B       Q   \n",
       "\n",
       "  CMTE_PTY_AFFILIATION CMTE_FILING_FREQ ORG_TP               CONNECTED_ORG_NM  \\\n",
       "0                  NaN                M      C                 ALEX LEE, INC.   \n",
       "1                  NaN                M    NaN                           NONE   \n",
       "2                  NNE                M      T  AMERICAN BEVERAGE ASSOCIATION   \n",
       "3                  NaN                M      C       AHOLD DELHAIZE USA, INC.   \n",
       "4                  NaN                M      C                            NaN   \n",
       "\n",
       "  CAND_ID_y  \n",
       "0       NaN  \n",
       "1       NaN  \n",
       "2       NaN  \n",
       "3       NaN  \n",
       "4       NaN  "
      ]
     },
     "execution_count": 31,
     "metadata": {},
     "output_type": "execute_result"
    }
   ],
   "source": [
    "contribs = committee_contribs[committee_contribs['TRANSACTION_TP'].isin(['24K', '24Z'])]\n",
    "contribs.head()"
   ]
  },
  {
   "cell_type": "markdown",
   "metadata": {
    "papermill": {
     "duration": 0.055811,
     "end_time": "2020-09-02T04:53:58.708243",
     "exception": false,
     "start_time": "2020-09-02T04:53:58.652432",
     "status": "completed"
    },
    "tags": []
   },
   "source": [
    "#### Here are the committees with the largest contributions"
   ]
  },
  {
   "cell_type": "code",
   "execution_count": 32,
   "metadata": {
    "_kg_hide-input": true,
    "execution": {
     "iopub.execute_input": "2020-09-02T04:53:58.830183Z",
     "iopub.status.busy": "2020-09-02T04:53:58.829103Z",
     "iopub.status.idle": "2020-09-02T04:53:58.849003Z",
     "shell.execute_reply": "2020-09-02T04:53:58.848315Z"
    },
    "papermill": {
     "duration": 0.084846,
     "end_time": "2020-09-02T04:53:58.849157",
     "exception": false,
     "start_time": "2020-09-02T04:53:58.764311",
     "status": "completed"
    },
    "tags": []
   },
   "outputs": [
    {
     "data": {
      "text/html": [
       "<div>\n",
       "<style scoped>\n",
       "    .dataframe tbody tr th:only-of-type {\n",
       "        vertical-align: middle;\n",
       "    }\n",
       "\n",
       "    .dataframe tbody tr th {\n",
       "        vertical-align: top;\n",
       "    }\n",
       "\n",
       "    .dataframe thead th {\n",
       "        text-align: right;\n",
       "    }\n",
       "</style>\n",
       "<table border=\"1\" class=\"dataframe\">\n",
       "  <thead>\n",
       "    <tr style=\"text-align: right;\">\n",
       "      <th></th>\n",
       "      <th>COMMITTEE_NAME</th>\n",
       "      <th>TRANSACTION_AMT</th>\n",
       "    </tr>\n",
       "  </thead>\n",
       "  <tbody>\n",
       "    <tr>\n",
       "      <th>0</th>\n",
       "      <td>DSCC</td>\n",
       "      <td>49.60K</td>\n",
       "    </tr>\n",
       "    <tr>\n",
       "      <th>1</th>\n",
       "      <td>NRSC</td>\n",
       "      <td>44.60K</td>\n",
       "    </tr>\n",
       "    <tr>\n",
       "      <th>2</th>\n",
       "      <td>JSTREETPAC</td>\n",
       "      <td>34.93K</td>\n",
       "    </tr>\n",
       "    <tr>\n",
       "      <th>3</th>\n",
       "      <td>ABBOTT LABORATORIES EMPLOYEE POLITICAL ACTION ...</td>\n",
       "      <td>10.00K</td>\n",
       "    </tr>\n",
       "    <tr>\n",
       "      <th>4</th>\n",
       "      <td>ALL FOR OUR COUNTRY LEADERSHIP PAC</td>\n",
       "      <td>10.00K</td>\n",
       "    </tr>\n",
       "    <tr>\n",
       "      <th>5</th>\n",
       "      <td>ALLERGAN, INC. POLITICAL ACTION COMMITTEE</td>\n",
       "      <td>10.00K</td>\n",
       "    </tr>\n",
       "    <tr>\n",
       "      <th>6</th>\n",
       "      <td>AMERICAN BANKERS ASSOCIATION PAC (BANKPAC)</td>\n",
       "      <td>10.00K</td>\n",
       "    </tr>\n",
       "    <tr>\n",
       "      <th>7</th>\n",
       "      <td>ANADARKO PETROLEUM CORPORATION POLITICAL ACTIO...</td>\n",
       "      <td>10.00K</td>\n",
       "    </tr>\n",
       "    <tr>\n",
       "      <th>8</th>\n",
       "      <td>ARKANSAS FOR LEADERSHIP POLITICAL ACTION COMMI...</td>\n",
       "      <td>10.00K</td>\n",
       "    </tr>\n",
       "    <tr>\n",
       "      <th>9</th>\n",
       "      <td>ASSOCIATED BUILDERS AND CONTRACTORS, INC. POLI...</td>\n",
       "      <td>10.00K</td>\n",
       "    </tr>\n",
       "  </tbody>\n",
       "</table>\n",
       "</div>"
      ],
      "text/plain": [
       "                                      COMMITTEE_NAME TRANSACTION_AMT\n",
       "0                                               DSCC          49.60K\n",
       "1                                               NRSC          44.60K\n",
       "2                                         JSTREETPAC          34.93K\n",
       "3  ABBOTT LABORATORIES EMPLOYEE POLITICAL ACTION ...          10.00K\n",
       "4                 ALL FOR OUR COUNTRY LEADERSHIP PAC          10.00K\n",
       "5          ALLERGAN, INC. POLITICAL ACTION COMMITTEE          10.00K\n",
       "6         AMERICAN BANKERS ASSOCIATION PAC (BANKPAC)          10.00K\n",
       "7  ANADARKO PETROLEUM CORPORATION POLITICAL ACTIO...          10.00K\n",
       "8  ARKANSAS FOR LEADERSHIP POLITICAL ACTION COMMI...          10.00K\n",
       "9  ASSOCIATED BUILDERS AND CONTRACTORS, INC. POLI...          10.00K"
      ]
     },
     "execution_count": 32,
     "metadata": {},
     "output_type": "execute_result"
    }
   ],
   "source": [
    "largest_contribs = contribs.groupby('CMTE_NM').agg(\n",
    "    {'TRANSACTION_AMT': 'sum'})['TRANSACTION_AMT'].nlargest(10).reset_index()\n",
    "\n",
    "largest_contribs['TRANSACTION_AMT'] = largest_contribs['TRANSACTION_AMT'].map(lambda x: render_human_format(x))\n",
    "\n",
    "largest_contribs.rename({'CMTE_NM': 'COMMITTEE_NAME'}, axis=1)"
   ]
  },
  {
   "cell_type": "code",
   "execution_count": 33,
   "metadata": {
    "_kg_hide-input": true,
    "execution": {
     "iopub.execute_input": "2020-09-02T04:53:58.983439Z",
     "iopub.status.busy": "2020-09-02T04:53:58.975641Z",
     "iopub.status.idle": "2020-09-02T04:53:59.029134Z",
     "shell.execute_reply": "2020-09-02T04:53:59.028412Z"
    },
    "papermill": {
     "duration": 0.122558,
     "end_time": "2020-09-02T04:53:59.029280",
     "exception": false,
     "start_time": "2020-09-02T04:53:58.906722",
     "status": "completed"
    },
    "tags": []
   },
   "outputs": [
    {
     "name": "stdout",
     "output_type": "stream",
     "text": [
      "------------------------------------------------------------\n",
      "Committees with most contributions for CUNNINGHAM, CAL\n",
      "------------------------------------------------------------\n"
     ]
    },
    {
     "data": {
      "text/html": [
       "<div>\n",
       "<style scoped>\n",
       "    .dataframe tbody tr th:only-of-type {\n",
       "        vertical-align: middle;\n",
       "    }\n",
       "\n",
       "    .dataframe tbody tr th {\n",
       "        vertical-align: top;\n",
       "    }\n",
       "\n",
       "    .dataframe thead th {\n",
       "        text-align: right;\n",
       "    }\n",
       "</style>\n",
       "<table border=\"1\" class=\"dataframe\">\n",
       "  <thead>\n",
       "    <tr style=\"text-align: right;\">\n",
       "      <th></th>\n",
       "      <th>COMMITTEE_NAME</th>\n",
       "      <th>TRANSACTION_AMT</th>\n",
       "    </tr>\n",
       "  </thead>\n",
       "  <tbody>\n",
       "    <tr>\n",
       "      <th>0</th>\n",
       "      <td>DSCC</td>\n",
       "      <td>49.60K</td>\n",
       "    </tr>\n",
       "    <tr>\n",
       "      <th>1</th>\n",
       "      <td>JSTREETPAC</td>\n",
       "      <td>34.93K</td>\n",
       "    </tr>\n",
       "    <tr>\n",
       "      <th>2</th>\n",
       "      <td>ALL FOR OUR COUNTRY LEADERSHIP PAC</td>\n",
       "      <td>10.00K</td>\n",
       "    </tr>\n",
       "    <tr>\n",
       "      <th>3</th>\n",
       "      <td>COMMON GROUND PAC</td>\n",
       "      <td>10.00K</td>\n",
       "    </tr>\n",
       "    <tr>\n",
       "      <th>4</th>\n",
       "      <td>COMMUNICATIONS WORKERS OF AMERICA-COPE POLITIC...</td>\n",
       "      <td>10.00K</td>\n",
       "    </tr>\n",
       "    <tr>\n",
       "      <th>5</th>\n",
       "      <td>FIRST STATE PAC</td>\n",
       "      <td>10.00K</td>\n",
       "    </tr>\n",
       "    <tr>\n",
       "      <th>6</th>\n",
       "      <td>FORWARD TOGETHER PAC</td>\n",
       "      <td>10.00K</td>\n",
       "    </tr>\n",
       "    <tr>\n",
       "      <th>7</th>\n",
       "      <td>GETTING STUFF DONE PAC (GSD-PAC)</td>\n",
       "      <td>10.00K</td>\n",
       "    </tr>\n",
       "    <tr>\n",
       "      <th>8</th>\n",
       "      <td>HAWAII PAC</td>\n",
       "      <td>10.00K</td>\n",
       "    </tr>\n",
       "    <tr>\n",
       "      <th>9</th>\n",
       "      <td>HOOPS PAC</td>\n",
       "      <td>10.00K</td>\n",
       "    </tr>\n",
       "  </tbody>\n",
       "</table>\n",
       "</div>"
      ],
      "text/plain": [
       "                                      COMMITTEE_NAME TRANSACTION_AMT\n",
       "0                                               DSCC          49.60K\n",
       "1                                         JSTREETPAC          34.93K\n",
       "2                 ALL FOR OUR COUNTRY LEADERSHIP PAC          10.00K\n",
       "3                                  COMMON GROUND PAC          10.00K\n",
       "4  COMMUNICATIONS WORKERS OF AMERICA-COPE POLITIC...          10.00K\n",
       "5                                    FIRST STATE PAC          10.00K\n",
       "6                               FORWARD TOGETHER PAC          10.00K\n",
       "7                   GETTING STUFF DONE PAC (GSD-PAC)          10.00K\n",
       "8                                         HAWAII PAC          10.00K\n",
       "9                                          HOOPS PAC          10.00K"
      ]
     },
     "metadata": {},
     "output_type": "display_data"
    },
    {
     "name": "stdout",
     "output_type": "stream",
     "text": [
      "------------------------------------------------------------\n",
      "Committees with most contributions for TILLIS, THOM R. SEN.\n",
      "------------------------------------------------------------\n"
     ]
    },
    {
     "data": {
      "text/html": [
       "<div>\n",
       "<style scoped>\n",
       "    .dataframe tbody tr th:only-of-type {\n",
       "        vertical-align: middle;\n",
       "    }\n",
       "\n",
       "    .dataframe tbody tr th {\n",
       "        vertical-align: top;\n",
       "    }\n",
       "\n",
       "    .dataframe thead th {\n",
       "        text-align: right;\n",
       "    }\n",
       "</style>\n",
       "<table border=\"1\" class=\"dataframe\">\n",
       "  <thead>\n",
       "    <tr style=\"text-align: right;\">\n",
       "      <th></th>\n",
       "      <th>COMMITTEE_NAME</th>\n",
       "      <th>TRANSACTION_AMT</th>\n",
       "    </tr>\n",
       "  </thead>\n",
       "  <tbody>\n",
       "    <tr>\n",
       "      <th>0</th>\n",
       "      <td>NRSC</td>\n",
       "      <td>44.60K</td>\n",
       "    </tr>\n",
       "    <tr>\n",
       "      <th>1</th>\n",
       "      <td>ABBOTT LABORATORIES EMPLOYEE POLITICAL ACTION ...</td>\n",
       "      <td>10.00K</td>\n",
       "    </tr>\n",
       "    <tr>\n",
       "      <th>2</th>\n",
       "      <td>ALLERGAN, INC. POLITICAL ACTION COMMITTEE</td>\n",
       "      <td>10.00K</td>\n",
       "    </tr>\n",
       "    <tr>\n",
       "      <th>3</th>\n",
       "      <td>AMERICAN BANKERS ASSOCIATION PAC (BANKPAC)</td>\n",
       "      <td>10.00K</td>\n",
       "    </tr>\n",
       "    <tr>\n",
       "      <th>4</th>\n",
       "      <td>ANADARKO PETROLEUM CORPORATION POLITICAL ACTIO...</td>\n",
       "      <td>10.00K</td>\n",
       "    </tr>\n",
       "    <tr>\n",
       "      <th>5</th>\n",
       "      <td>ARKANSAS FOR LEADERSHIP POLITICAL ACTION COMMI...</td>\n",
       "      <td>10.00K</td>\n",
       "    </tr>\n",
       "    <tr>\n",
       "      <th>6</th>\n",
       "      <td>ASSOCIATED BUILDERS AND CONTRACTORS, INC. POLI...</td>\n",
       "      <td>10.00K</td>\n",
       "    </tr>\n",
       "    <tr>\n",
       "      <th>7</th>\n",
       "      <td>ASSOCIATION OF KENTUCKY FRIED CHICKEN FRANCHIS...</td>\n",
       "      <td>10.00K</td>\n",
       "    </tr>\n",
       "    <tr>\n",
       "      <th>8</th>\n",
       "      <td>BANK POLICY INSTITUTE PAC</td>\n",
       "      <td>10.00K</td>\n",
       "    </tr>\n",
       "    <tr>\n",
       "      <th>9</th>\n",
       "      <td>BBVA USA BANCSHARES, INC. PAC</td>\n",
       "      <td>10.00K</td>\n",
       "    </tr>\n",
       "  </tbody>\n",
       "</table>\n",
       "</div>"
      ],
      "text/plain": [
       "                                      COMMITTEE_NAME TRANSACTION_AMT\n",
       "0                                               NRSC          44.60K\n",
       "1  ABBOTT LABORATORIES EMPLOYEE POLITICAL ACTION ...          10.00K\n",
       "2          ALLERGAN, INC. POLITICAL ACTION COMMITTEE          10.00K\n",
       "3         AMERICAN BANKERS ASSOCIATION PAC (BANKPAC)          10.00K\n",
       "4  ANADARKO PETROLEUM CORPORATION POLITICAL ACTIO...          10.00K\n",
       "5  ARKANSAS FOR LEADERSHIP POLITICAL ACTION COMMI...          10.00K\n",
       "6  ASSOCIATED BUILDERS AND CONTRACTORS, INC. POLI...          10.00K\n",
       "7  ASSOCIATION OF KENTUCKY FRIED CHICKEN FRANCHIS...          10.00K\n",
       "8                          BANK POLICY INSTITUTE PAC          10.00K\n",
       "9                      BBVA USA BANCSHARES, INC. PAC          10.00K"
      ]
     },
     "metadata": {},
     "output_type": "display_data"
    }
   ],
   "source": [
    "from IPython.display import display\n",
    "for cand_name in candidates['CAND_NAME'].unique():\n",
    "    print(\"-\"*60)\n",
    "    print(f\"Committees with most contributions for {cand_name}\")\n",
    "    print(\"-\"*60)\n",
    "    df = contribs[(contribs['CAND_NAME'] == cand_name)]\n",
    "    result = pd.DataFrame(df[['CMTE_NM', 'TRANSACTION_AMT']].groupby(['CMTE_NM']).agg({'TRANSACTION_AMT': 'sum'})['TRANSACTION_AMT'].nlargest(10)).reset_index().rename({'CMTE_NM': 'COMMITTEE_NAME'}, axis=1)\n",
    "    result['TRANSACTION_AMT'] = result['TRANSACTION_AMT'].map(lambda x: render_human_format(x))\n",
    "    display(result)"
   ]
  },
  {
   "cell_type": "code",
   "execution_count": 34,
   "metadata": {
    "_kg_hide-input": true,
    "execution": {
     "iopub.execute_input": "2020-09-02T04:53:59.159351Z",
     "iopub.status.busy": "2020-09-02T04:53:59.158479Z",
     "iopub.status.idle": "2020-09-02T04:53:59.283525Z",
     "shell.execute_reply": "2020-09-02T04:53:59.284171Z"
    },
    "papermill": {
     "duration": 0.196707,
     "end_time": "2020-09-02T04:53:59.284350",
     "exception": false,
     "start_time": "2020-09-02T04:53:59.087643",
     "status": "completed"
    },
    "tags": []
   },
   "outputs": [
    {
     "data": {
      "application/vnd.plotly.v1+json": {
       "config": {
        "linkText": "Export to plot.ly",
        "plotlyServerURL": "https://plot.ly",
        "showLink": true
       },
       "data": [
        {
         "line": {
          "color": "blue",
          "dash": "solid",
          "shape": "linear",
          "width": 1.3
         },
         "mode": "lines",
         "name": "CUNNINGHAM, CAL",
         "text": "",
         "type": "scatter",
         "x": [
          "2019-01-07",
          "2019-01-08",
          "2019-01-09",
          "2019-01-10",
          "2019-01-11",
          "2019-01-18",
          "2019-01-21",
          "2019-01-22",
          "2019-01-23",
          "2019-01-25",
          "2019-01-28",
          "2019-01-29",
          "2019-02-01",
          "2019-02-04",
          "2019-02-05",
          "2019-02-06",
          "2019-02-07",
          "2019-02-08",
          "2019-02-11",
          "2019-02-13",
          "2019-02-15",
          "2019-02-19",
          "2019-02-20",
          "2019-02-21",
          "2019-02-22",
          "2019-02-25",
          "2019-02-26",
          "2019-02-27",
          "2019-02-28",
          "2019-03-01",
          "2019-03-04",
          "2019-03-05",
          "2019-03-06",
          "2019-03-07",
          "2019-03-08",
          "2019-03-11",
          "2019-03-12",
          "2019-03-13",
          "2019-03-14",
          "2019-03-15",
          "2019-03-18",
          "2019-03-19",
          "2019-03-20",
          "2019-03-21",
          "2019-03-22",
          "2019-03-25",
          "2019-03-26",
          "2019-03-27",
          "2019-03-28",
          "2019-03-29",
          "2019-04-01",
          "2019-04-02",
          "2019-04-03",
          "2019-04-04",
          "2019-04-05",
          "2019-04-08",
          "2019-04-09",
          "2019-04-10",
          "2019-04-11",
          "2019-04-12",
          "2019-04-15",
          "2019-04-16",
          "2019-04-18",
          "2019-04-22",
          "2019-04-23",
          "2019-04-24",
          "2019-04-25",
          "2019-04-26",
          "2019-04-29",
          "2019-04-30",
          "2019-05-01",
          "2019-05-02",
          "2019-05-03",
          "2019-05-06",
          "2019-05-07",
          "2019-05-08",
          "2019-05-09",
          "2019-05-10",
          "2019-05-13",
          "2019-05-14",
          "2019-05-15",
          "2019-05-16",
          "2019-05-17",
          "2019-05-20",
          "2019-05-21",
          "2019-05-22",
          "2019-05-23",
          "2019-05-24",
          "2019-05-28",
          "2019-05-29",
          "2019-05-30",
          "2019-05-31",
          "2019-06-03",
          "2019-06-04",
          "2019-06-05",
          "2019-06-06",
          "2019-06-07",
          "2019-06-10",
          "2019-06-11",
          "2019-06-12",
          "2019-06-13",
          "2019-06-14",
          "2019-06-17",
          "2019-06-18",
          "2019-06-19",
          "2019-06-20",
          "2019-06-21",
          "2019-06-24",
          "2019-06-25",
          "2019-06-26",
          "2019-06-27",
          "2019-06-28",
          "2019-06-29",
          "2019-07-01",
          "2019-07-03",
          "2019-07-08",
          "2019-07-09",
          "2019-07-10",
          "2019-07-11",
          "2019-07-15",
          "2019-07-16",
          "2019-07-17",
          "2019-07-18",
          "2019-07-19",
          "2019-07-22",
          "2019-07-23",
          "2019-07-24",
          "2019-07-25",
          "2019-07-26",
          "2019-07-29",
          "2019-07-30",
          "2019-07-31",
          "2019-08-01",
          "2019-08-02",
          "2019-08-05",
          "2019-08-06",
          "2019-08-08",
          "2019-08-09",
          "2019-08-12",
          "2019-08-14",
          "2019-08-15",
          "2019-08-19",
          "2019-08-20",
          "2019-08-21",
          "2019-08-22",
          "2019-08-24",
          "2019-08-26",
          "2019-08-27",
          "2019-08-29",
          "2019-08-30",
          "2019-09-03",
          "2019-09-04",
          "2019-09-09",
          "2019-09-10",
          "2019-09-11",
          "2019-09-12",
          "2019-09-13",
          "2019-09-16",
          "2019-09-17",
          "2019-09-18",
          "2019-09-19",
          "2019-09-20",
          "2019-09-23",
          "2019-09-24",
          "2019-09-25",
          "2019-09-26",
          "2019-09-27",
          "2019-09-30",
          "2019-10-01",
          "2019-10-03",
          "2019-10-07",
          "2019-10-10",
          "2019-10-14",
          "2019-10-15",
          "2019-10-16",
          "2019-10-21",
          "2019-10-22",
          "2019-10-23",
          "2019-10-24",
          "2019-10-25",
          "2019-10-28",
          "2019-10-29",
          "2019-10-31",
          "2019-11-01",
          "2019-11-04",
          "2019-11-05",
          "2019-11-06",
          "2019-11-07",
          "2019-11-08",
          "2019-11-12",
          "2019-11-13",
          "2019-11-14",
          "2019-11-15",
          "2019-11-18",
          "2019-11-19",
          "2019-11-20",
          "2019-11-21",
          "2019-11-22",
          "2019-11-23",
          "2019-11-24",
          "2019-11-25",
          "2019-11-26",
          "2019-11-27",
          "2019-12-02",
          "2019-12-03",
          "2019-12-04",
          "2019-12-05",
          "2019-12-06",
          "2019-12-07",
          "2019-12-09",
          "2019-12-10",
          "2019-12-11",
          "2019-12-12",
          "2019-12-13",
          "2019-12-16",
          "2019-12-17",
          "2019-12-18",
          "2019-12-19",
          "2019-12-20",
          "2019-12-23",
          "2019-12-26",
          "2019-12-27",
          "2019-12-29",
          "2019-12-30",
          "2019-12-31",
          "2020-01-03",
          "2020-01-06",
          "2020-01-07",
          "2020-01-08",
          "2020-01-10",
          "2020-01-13",
          "2020-01-14",
          "2020-01-15",
          "2020-01-16",
          "2020-01-17",
          "2020-01-22",
          "2020-01-23",
          "2020-01-27",
          "2020-01-28",
          "2020-01-29",
          "2020-01-30",
          "2020-01-31",
          "2020-02-03",
          "2020-02-04",
          "2020-02-05",
          "2020-02-06",
          "2020-02-07",
          "2020-02-08",
          "2020-02-10",
          "2020-02-11",
          "2020-02-12",
          "2020-02-13",
          "2020-02-14",
          "2020-02-15",
          "2020-02-17",
          "2020-02-18",
          "2020-02-19",
          "2020-02-20",
          "2020-02-21",
          "2020-02-24",
          "2020-02-25",
          "2020-02-26",
          "2020-02-27",
          "2020-02-28",
          "2020-03-01",
          "2020-03-02",
          "2020-03-03",
          "2020-03-04",
          "2020-03-05",
          "2020-03-06",
          "2020-03-09",
          "2020-03-10",
          "2020-03-11",
          "2020-03-12",
          "2020-03-13",
          "2020-03-15",
          "2020-03-16",
          "2020-03-17",
          "2020-03-18",
          "2020-03-20",
          "2020-03-23",
          "2020-03-24",
          "2020-03-26",
          "2020-03-27",
          "2020-03-28",
          "2020-03-29",
          "2020-03-30",
          "2020-03-31",
          "2020-04-02",
          "2020-04-06",
          "2020-04-08",
          "2020-04-09",
          "2020-04-13",
          "2020-04-14",
          "2020-04-16",
          "2020-04-20",
          "2020-04-23",
          "2020-04-24",
          "2020-04-27",
          "2020-04-29",
          "2020-04-30",
          "2020-05-07",
          "2020-05-08",
          "2020-05-11",
          "2020-05-13",
          "2020-05-14",
          "2020-05-15",
          "2020-05-16",
          "2020-05-18",
          "2020-05-19",
          "2020-05-20",
          "2020-05-21",
          "2020-05-22",
          "2020-05-26",
          "2020-05-27",
          "2020-05-28",
          "2020-05-29",
          "2020-06-11",
          "2020-06-15",
          "2020-06-18",
          "2020-06-22",
          "2020-06-23",
          "2020-06-24",
          "2020-06-26",
          "2020-06-30"
         ],
         "y": [
          0,
          0,
          0,
          0,
          0,
          0,
          0,
          0,
          0,
          0,
          0,
          0,
          0,
          0,
          0,
          0,
          0,
          0,
          0,
          0,
          0,
          0,
          0,
          0,
          0,
          0,
          0,
          0,
          0,
          0,
          0,
          0,
          0,
          0,
          0,
          0,
          0,
          0,
          0,
          0,
          0,
          0,
          0,
          0,
          0,
          0,
          0,
          0,
          0,
          0,
          0,
          0,
          0,
          0,
          0,
          0,
          0,
          0,
          0,
          0,
          0,
          0,
          0,
          0,
          0,
          0,
          0,
          0,
          0,
          0,
          0,
          0,
          0,
          0,
          0,
          0,
          0,
          0,
          0,
          0,
          0,
          0,
          0,
          0,
          0,
          0,
          0,
          0,
          0,
          0,
          0,
          0,
          0,
          0,
          0,
          0,
          0,
          0,
          0,
          0,
          0,
          0,
          0,
          0,
          0,
          0,
          0,
          0,
          5000,
          5000,
          17500,
          20000,
          20000,
          20000,
          20000,
          20000,
          20000,
          20000,
          20000,
          20000,
          20000,
          20000,
          20000,
          20000,
          25000,
          25000,
          35000,
          35000,
          35000,
          35000,
          35000,
          35090,
          35090,
          35090,
          35090,
          35090,
          40090,
          40090,
          40090,
          40090,
          40090,
          40090,
          40090,
          40090,
          40090,
          40090,
          40090,
          40090,
          40090,
          40090,
          40090,
          40090,
          40090,
          40090,
          40090,
          40090,
          40090,
          40090,
          40090,
          40090,
          48590,
          48590,
          48590,
          53590,
          72590,
          87590,
          107590,
          159590,
          162090,
          162090,
          164590,
          164590,
          164590,
          164590,
          164590,
          164590,
          164590,
          164590,
          165590,
          166090,
          166090,
          166090,
          166090,
          166090,
          168590,
          168590,
          168590,
          168590,
          168590,
          168590,
          168590,
          168590,
          168590,
          170590,
          170590,
          170590,
          170590,
          170590,
          170590,
          170590,
          170590,
          175590,
          175590,
          180590,
          180590,
          180590,
          180590,
          180590,
          180590,
          184090,
          184090,
          186590,
          186590,
          189090,
          191890,
          191890,
          246490,
          261490,
          271490,
          278990,
          278990,
          281490,
          281490,
          286490,
          286490,
          286490,
          286490,
          286490,
          291490,
          291490,
          291490,
          291490,
          291490,
          291490,
          291490,
          291490,
          291490,
          291490,
          291490,
          291490,
          293990,
          293990,
          293990,
          293990,
          293990,
          298990,
          308990,
          308990,
          311490,
          311490,
          311490,
          311490,
          311490,
          311555,
          311555,
          311555,
          314055,
          319067,
          324067,
          334067,
          345398,
          347898,
          347898,
          347898,
          352898,
          362898,
          362898,
          370398,
          370398,
          370398,
          370398,
          370398,
          370398,
          370398,
          370398,
          370398,
          370398,
          380398,
          380398,
          380398,
          392398,
          399898,
          403398,
          403398,
          405898,
          405898,
          409698,
          414698,
          423998,
          423998,
          427081,
          427081,
          427081,
          432081,
          438131,
          438131,
          447057,
          447057,
          447057,
          447057,
          460132,
          460132,
          460132,
          462632,
          462632,
          462632,
          462632,
          462632,
          462632,
          462632,
          462632,
          465132,
          465132,
          465132,
          465132,
          469132,
          469132,
          469132,
          469132,
          469132,
          471632,
          471632,
          471632,
          471632,
          472632
         ]
        },
        {
         "line": {
          "color": "red",
          "dash": "solid",
          "shape": "linear",
          "width": 1.3
         },
         "mode": "lines",
         "name": "TILLIS, THOM R. SEN.",
         "text": "",
         "type": "scatter",
         "x": [
          "2019-01-07",
          "2019-01-08",
          "2019-01-09",
          "2019-01-10",
          "2019-01-11",
          "2019-01-18",
          "2019-01-21",
          "2019-01-22",
          "2019-01-23",
          "2019-01-25",
          "2019-01-28",
          "2019-01-29",
          "2019-02-01",
          "2019-02-04",
          "2019-02-05",
          "2019-02-06",
          "2019-02-07",
          "2019-02-08",
          "2019-02-11",
          "2019-02-13",
          "2019-02-15",
          "2019-02-19",
          "2019-02-20",
          "2019-02-21",
          "2019-02-22",
          "2019-02-25",
          "2019-02-26",
          "2019-02-27",
          "2019-02-28",
          "2019-03-01",
          "2019-03-04",
          "2019-03-05",
          "2019-03-06",
          "2019-03-07",
          "2019-03-08",
          "2019-03-11",
          "2019-03-12",
          "2019-03-13",
          "2019-03-14",
          "2019-03-15",
          "2019-03-18",
          "2019-03-19",
          "2019-03-20",
          "2019-03-21",
          "2019-03-22",
          "2019-03-25",
          "2019-03-26",
          "2019-03-27",
          "2019-03-28",
          "2019-03-29",
          "2019-04-01",
          "2019-04-02",
          "2019-04-03",
          "2019-04-04",
          "2019-04-05",
          "2019-04-08",
          "2019-04-09",
          "2019-04-10",
          "2019-04-11",
          "2019-04-12",
          "2019-04-15",
          "2019-04-16",
          "2019-04-18",
          "2019-04-22",
          "2019-04-23",
          "2019-04-24",
          "2019-04-25",
          "2019-04-26",
          "2019-04-29",
          "2019-04-30",
          "2019-05-01",
          "2019-05-02",
          "2019-05-03",
          "2019-05-06",
          "2019-05-07",
          "2019-05-08",
          "2019-05-09",
          "2019-05-10",
          "2019-05-13",
          "2019-05-14",
          "2019-05-15",
          "2019-05-16",
          "2019-05-17",
          "2019-05-20",
          "2019-05-21",
          "2019-05-22",
          "2019-05-23",
          "2019-05-24",
          "2019-05-28",
          "2019-05-29",
          "2019-05-30",
          "2019-05-31",
          "2019-06-03",
          "2019-06-04",
          "2019-06-05",
          "2019-06-06",
          "2019-06-07",
          "2019-06-10",
          "2019-06-11",
          "2019-06-12",
          "2019-06-13",
          "2019-06-14",
          "2019-06-17",
          "2019-06-18",
          "2019-06-19",
          "2019-06-20",
          "2019-06-21",
          "2019-06-24",
          "2019-06-25",
          "2019-06-26",
          "2019-06-27",
          "2019-06-28",
          "2019-06-29",
          "2019-07-01",
          "2019-07-03",
          "2019-07-08",
          "2019-07-09",
          "2019-07-10",
          "2019-07-11",
          "2019-07-15",
          "2019-07-16",
          "2019-07-17",
          "2019-07-18",
          "2019-07-19",
          "2019-07-22",
          "2019-07-23",
          "2019-07-24",
          "2019-07-25",
          "2019-07-26",
          "2019-07-29",
          "2019-07-30",
          "2019-07-31",
          "2019-08-01",
          "2019-08-02",
          "2019-08-05",
          "2019-08-06",
          "2019-08-08",
          "2019-08-09",
          "2019-08-12",
          "2019-08-14",
          "2019-08-15",
          "2019-08-19",
          "2019-08-20",
          "2019-08-21",
          "2019-08-22",
          "2019-08-24",
          "2019-08-26",
          "2019-08-27",
          "2019-08-29",
          "2019-08-30",
          "2019-09-03",
          "2019-09-04",
          "2019-09-09",
          "2019-09-10",
          "2019-09-11",
          "2019-09-12",
          "2019-09-13",
          "2019-09-16",
          "2019-09-17",
          "2019-09-18",
          "2019-09-19",
          "2019-09-20",
          "2019-09-23",
          "2019-09-24",
          "2019-09-25",
          "2019-09-26",
          "2019-09-27",
          "2019-09-30",
          "2019-10-01",
          "2019-10-03",
          "2019-10-07",
          "2019-10-10",
          "2019-10-14",
          "2019-10-15",
          "2019-10-16",
          "2019-10-21",
          "2019-10-22",
          "2019-10-23",
          "2019-10-24",
          "2019-10-25",
          "2019-10-28",
          "2019-10-29",
          "2019-10-31",
          "2019-11-01",
          "2019-11-04",
          "2019-11-05",
          "2019-11-06",
          "2019-11-07",
          "2019-11-08",
          "2019-11-12",
          "2019-11-13",
          "2019-11-14",
          "2019-11-15",
          "2019-11-18",
          "2019-11-19",
          "2019-11-20",
          "2019-11-21",
          "2019-11-22",
          "2019-11-23",
          "2019-11-24",
          "2019-11-25",
          "2019-11-26",
          "2019-11-27",
          "2019-12-02",
          "2019-12-03",
          "2019-12-04",
          "2019-12-05",
          "2019-12-06",
          "2019-12-07",
          "2019-12-09",
          "2019-12-10",
          "2019-12-11",
          "2019-12-12",
          "2019-12-13",
          "2019-12-16",
          "2019-12-17",
          "2019-12-18",
          "2019-12-19",
          "2019-12-20",
          "2019-12-23",
          "2019-12-26",
          "2019-12-27",
          "2019-12-29",
          "2019-12-30",
          "2019-12-31",
          "2020-01-03",
          "2020-01-06",
          "2020-01-07",
          "2020-01-08",
          "2020-01-10",
          "2020-01-13",
          "2020-01-14",
          "2020-01-15",
          "2020-01-16",
          "2020-01-17",
          "2020-01-22",
          "2020-01-23",
          "2020-01-27",
          "2020-01-28",
          "2020-01-29",
          "2020-01-30",
          "2020-01-31",
          "2020-02-03",
          "2020-02-04",
          "2020-02-05",
          "2020-02-06",
          "2020-02-07",
          "2020-02-08",
          "2020-02-10",
          "2020-02-11",
          "2020-02-12",
          "2020-02-13",
          "2020-02-14",
          "2020-02-15",
          "2020-02-17",
          "2020-02-18",
          "2020-02-19",
          "2020-02-20",
          "2020-02-21",
          "2020-02-24",
          "2020-02-25",
          "2020-02-26",
          "2020-02-27",
          "2020-02-28",
          "2020-03-01",
          "2020-03-02",
          "2020-03-03",
          "2020-03-04",
          "2020-03-05",
          "2020-03-06",
          "2020-03-09",
          "2020-03-10",
          "2020-03-11",
          "2020-03-12",
          "2020-03-13",
          "2020-03-15",
          "2020-03-16",
          "2020-03-17",
          "2020-03-18",
          "2020-03-20",
          "2020-03-23",
          "2020-03-24",
          "2020-03-26",
          "2020-03-27",
          "2020-03-28",
          "2020-03-29",
          "2020-03-30",
          "2020-03-31",
          "2020-04-02",
          "2020-04-06",
          "2020-04-08",
          "2020-04-09",
          "2020-04-13",
          "2020-04-14",
          "2020-04-16",
          "2020-04-20",
          "2020-04-23",
          "2020-04-24",
          "2020-04-27",
          "2020-04-29",
          "2020-04-30",
          "2020-05-07",
          "2020-05-08",
          "2020-05-11",
          "2020-05-13",
          "2020-05-14",
          "2020-05-15",
          "2020-05-16",
          "2020-05-18",
          "2020-05-19",
          "2020-05-20",
          "2020-05-21",
          "2020-05-22",
          "2020-05-26",
          "2020-05-27",
          "2020-05-28",
          "2020-05-29",
          "2020-06-11",
          "2020-06-15",
          "2020-06-18",
          "2020-06-22",
          "2020-06-23",
          "2020-06-24",
          "2020-06-26",
          "2020-06-30"
         ],
         "y": [
          5000,
          7500,
          18500,
          21000,
          23500,
          29500,
          34500,
          37083,
          42083,
          44583,
          47283,
          49283,
          52283,
          53283,
          54283,
          59283,
          62783,
          63783,
          76283,
          91283,
          93783,
          99783,
          104283,
          114283,
          125283,
          127783,
          135283,
          140283,
          145783,
          146783,
          150283,
          151783,
          159283,
          163783,
          169783,
          175783,
          193283,
          198783,
          201783,
          205783,
          214283,
          226483,
          232983,
          248983,
          257983,
          265483,
          288983,
          297583,
          342083,
          364083,
          370083,
          372583,
          374583,
          379583,
          392583,
          397083,
          400083,
          405083,
          412083,
          418583,
          424583,
          426583,
          432583,
          435583,
          438583,
          442583,
          449083,
          454083,
          458083,
          466583,
          478333,
          485333,
          486333,
          492333,
          493333,
          494333,
          495333,
          498333,
          500833,
          501833,
          507333,
          518333,
          533333,
          535833,
          540633,
          549633,
          565133,
          568133,
          576633,
          591133,
          598633,
          600633,
          612133,
          617133,
          625233,
          626733,
          638233,
          643233,
          654233,
          665233,
          686233,
          692733,
          698233,
          707733,
          720733,
          765357,
          775357,
          807657,
          840157,
          857157,
          871106,
          931706,
          935206,
          938706,
          942206,
          949206,
          955206,
          956206,
          957206,
          965706,
          970706,
          979206,
          980206,
          985206,
          987706,
          992206,
          993706,
          1001206,
          1012206,
          1021206,
          1027706,
          1030206,
          1032206,
          1039706,
          1045706,
          1046706,
          1051706,
          1052706,
          1056206,
          1061206,
          1067006,
          1068006,
          1070506,
          1071506,
          1076506,
          1079006,
          1085606,
          1099606,
          1102106,
          1103106,
          1111106,
          1112106,
          1116606,
          1126606,
          1129606,
          1132106,
          1135106,
          1144856,
          1153356,
          1157856,
          1165856,
          1176856,
          1192356,
          1208956,
          1225456,
          1257456,
          1269456,
          1276156,
          1276156,
          1282656,
          1285156,
          1296156,
          1298156,
          1300656,
          1303156,
          1306656,
          1310156,
          1315656,
          1320656,
          1323156,
          1330656,
          1334656,
          1343156,
          1349156,
          1351656,
          1356156,
          1359156,
          1366156,
          1368656,
          1375656,
          1378656,
          1384656,
          1387156,
          1391156,
          1393656,
          1394656,
          1408256,
          1424756,
          1429756,
          1434756,
          1447256,
          1453256,
          1456756,
          1473256,
          1477256,
          1480756,
          1505256,
          1512756,
          1516957,
          1538957,
          1558957,
          1578457,
          1592457,
          1603957,
          1617457,
          1633957,
          1646957,
          1662957,
          1666957,
          1674457,
          1682957,
          1683957,
          1683957,
          1686457,
          1682957,
          1684207,
          1687207,
          1690707,
          1688207,
          1690707,
          1700707,
          1703707,
          1707207,
          1710007,
          1712007,
          1714507,
          1724707,
          1734707,
          1742207,
          1745207,
          1761707,
          1764907,
          1771407,
          1775407,
          1778907,
          1782657,
          1796157,
          1798957,
          1804457,
          1814957,
          1822957,
          1832957,
          1830507,
          1825507,
          1834007,
          1848007,
          1853207,
          1868207,
          1878207,
          1881707,
          1903707,
          1929707,
          1947123,
          1955623,
          1958423,
          1971923,
          1998123,
          1998123,
          2004623,
          2005623,
          2006623,
          2014623,
          2018623,
          2026623,
          2031623,
          2036623,
          2037623,
          2042623,
          2043623,
          2045623,
          2047623,
          2056623,
          2057623,
          2062623,
          2062623,
          2063623,
          2063623,
          2067623,
          2067623,
          2072623,
          2077623,
          2080123,
          2076623,
          2076623,
          2076623,
          2081623,
          2084123,
          2085623,
          2083123,
          2085823,
          2085823,
          2092823,
          2100323,
          2104823,
          2108823,
          2115823,
          2116823,
          2119323,
          2122323,
          2124323,
          2124823,
          2124823,
          2125823,
          2130823,
          2137823,
          2148823,
          2154823,
          2157323,
          2162323,
          2164823,
          2165823,
          2170823,
          2177823,
          2179823,
          2179823
         ]
        }
       ],
       "layout": {
        "legend": {
         "bgcolor": "#FFFFFF",
         "font": {
          "color": "#666666"
         }
        },
        "paper_bgcolor": "#FFFFFF",
        "plot_bgcolor": "#E5E5E5",
        "template": {
         "data": {
          "bar": [
           {
            "error_x": {
             "color": "#2a3f5f"
            },
            "error_y": {
             "color": "#2a3f5f"
            },
            "marker": {
             "line": {
              "color": "#E5ECF6",
              "width": 0.5
             },
             "pattern": {
              "fillmode": "overlay",
              "size": 10,
              "solidity": 0.2
             }
            },
            "type": "bar"
           }
          ],
          "barpolar": [
           {
            "marker": {
             "line": {
              "color": "#E5ECF6",
              "width": 0.5
             },
             "pattern": {
              "fillmode": "overlay",
              "size": 10,
              "solidity": 0.2
             }
            },
            "type": "barpolar"
           }
          ],
          "carpet": [
           {
            "aaxis": {
             "endlinecolor": "#2a3f5f",
             "gridcolor": "white",
             "linecolor": "white",
             "minorgridcolor": "white",
             "startlinecolor": "#2a3f5f"
            },
            "baxis": {
             "endlinecolor": "#2a3f5f",
             "gridcolor": "white",
             "linecolor": "white",
             "minorgridcolor": "white",
             "startlinecolor": "#2a3f5f"
            },
            "type": "carpet"
           }
          ],
          "choropleth": [
           {
            "colorbar": {
             "outlinewidth": 0,
             "ticks": ""
            },
            "type": "choropleth"
           }
          ],
          "contour": [
           {
            "colorbar": {
             "outlinewidth": 0,
             "ticks": ""
            },
            "colorscale": [
             [
              0,
              "#0d0887"
             ],
             [
              0.1111111111111111,
              "#46039f"
             ],
             [
              0.2222222222222222,
              "#7201a8"
             ],
             [
              0.3333333333333333,
              "#9c179e"
             ],
             [
              0.4444444444444444,
              "#bd3786"
             ],
             [
              0.5555555555555556,
              "#d8576b"
             ],
             [
              0.6666666666666666,
              "#ed7953"
             ],
             [
              0.7777777777777778,
              "#fb9f3a"
             ],
             [
              0.8888888888888888,
              "#fdca26"
             ],
             [
              1,
              "#f0f921"
             ]
            ],
            "type": "contour"
           }
          ],
          "contourcarpet": [
           {
            "colorbar": {
             "outlinewidth": 0,
             "ticks": ""
            },
            "type": "contourcarpet"
           }
          ],
          "heatmap": [
           {
            "colorbar": {
             "outlinewidth": 0,
             "ticks": ""
            },
            "colorscale": [
             [
              0,
              "#0d0887"
             ],
             [
              0.1111111111111111,
              "#46039f"
             ],
             [
              0.2222222222222222,
              "#7201a8"
             ],
             [
              0.3333333333333333,
              "#9c179e"
             ],
             [
              0.4444444444444444,
              "#bd3786"
             ],
             [
              0.5555555555555556,
              "#d8576b"
             ],
             [
              0.6666666666666666,
              "#ed7953"
             ],
             [
              0.7777777777777778,
              "#fb9f3a"
             ],
             [
              0.8888888888888888,
              "#fdca26"
             ],
             [
              1,
              "#f0f921"
             ]
            ],
            "type": "heatmap"
           }
          ],
          "heatmapgl": [
           {
            "colorbar": {
             "outlinewidth": 0,
             "ticks": ""
            },
            "colorscale": [
             [
              0,
              "#0d0887"
             ],
             [
              0.1111111111111111,
              "#46039f"
             ],
             [
              0.2222222222222222,
              "#7201a8"
             ],
             [
              0.3333333333333333,
              "#9c179e"
             ],
             [
              0.4444444444444444,
              "#bd3786"
             ],
             [
              0.5555555555555556,
              "#d8576b"
             ],
             [
              0.6666666666666666,
              "#ed7953"
             ],
             [
              0.7777777777777778,
              "#fb9f3a"
             ],
             [
              0.8888888888888888,
              "#fdca26"
             ],
             [
              1,
              "#f0f921"
             ]
            ],
            "type": "heatmapgl"
           }
          ],
          "histogram": [
           {
            "marker": {
             "pattern": {
              "fillmode": "overlay",
              "size": 10,
              "solidity": 0.2
             }
            },
            "type": "histogram"
           }
          ],
          "histogram2d": [
           {
            "colorbar": {
             "outlinewidth": 0,
             "ticks": ""
            },
            "colorscale": [
             [
              0,
              "#0d0887"
             ],
             [
              0.1111111111111111,
              "#46039f"
             ],
             [
              0.2222222222222222,
              "#7201a8"
             ],
             [
              0.3333333333333333,
              "#9c179e"
             ],
             [
              0.4444444444444444,
              "#bd3786"
             ],
             [
              0.5555555555555556,
              "#d8576b"
             ],
             [
              0.6666666666666666,
              "#ed7953"
             ],
             [
              0.7777777777777778,
              "#fb9f3a"
             ],
             [
              0.8888888888888888,
              "#fdca26"
             ],
             [
              1,
              "#f0f921"
             ]
            ],
            "type": "histogram2d"
           }
          ],
          "histogram2dcontour": [
           {
            "colorbar": {
             "outlinewidth": 0,
             "ticks": ""
            },
            "colorscale": [
             [
              0,
              "#0d0887"
             ],
             [
              0.1111111111111111,
              "#46039f"
             ],
             [
              0.2222222222222222,
              "#7201a8"
             ],
             [
              0.3333333333333333,
              "#9c179e"
             ],
             [
              0.4444444444444444,
              "#bd3786"
             ],
             [
              0.5555555555555556,
              "#d8576b"
             ],
             [
              0.6666666666666666,
              "#ed7953"
             ],
             [
              0.7777777777777778,
              "#fb9f3a"
             ],
             [
              0.8888888888888888,
              "#fdca26"
             ],
             [
              1,
              "#f0f921"
             ]
            ],
            "type": "histogram2dcontour"
           }
          ],
          "mesh3d": [
           {
            "colorbar": {
             "outlinewidth": 0,
             "ticks": ""
            },
            "type": "mesh3d"
           }
          ],
          "parcoords": [
           {
            "line": {
             "colorbar": {
              "outlinewidth": 0,
              "ticks": ""
             }
            },
            "type": "parcoords"
           }
          ],
          "pie": [
           {
            "automargin": true,
            "type": "pie"
           }
          ],
          "scatter": [
           {
            "fillpattern": {
             "fillmode": "overlay",
             "size": 10,
             "solidity": 0.2
            },
            "type": "scatter"
           }
          ],
          "scatter3d": [
           {
            "line": {
             "colorbar": {
              "outlinewidth": 0,
              "ticks": ""
             }
            },
            "marker": {
             "colorbar": {
              "outlinewidth": 0,
              "ticks": ""
             }
            },
            "type": "scatter3d"
           }
          ],
          "scattercarpet": [
           {
            "marker": {
             "colorbar": {
              "outlinewidth": 0,
              "ticks": ""
             }
            },
            "type": "scattercarpet"
           }
          ],
          "scattergeo": [
           {
            "marker": {
             "colorbar": {
              "outlinewidth": 0,
              "ticks": ""
             }
            },
            "type": "scattergeo"
           }
          ],
          "scattergl": [
           {
            "marker": {
             "colorbar": {
              "outlinewidth": 0,
              "ticks": ""
             }
            },
            "type": "scattergl"
           }
          ],
          "scattermapbox": [
           {
            "marker": {
             "colorbar": {
              "outlinewidth": 0,
              "ticks": ""
             }
            },
            "type": "scattermapbox"
           }
          ],
          "scatterpolar": [
           {
            "marker": {
             "colorbar": {
              "outlinewidth": 0,
              "ticks": ""
             }
            },
            "type": "scatterpolar"
           }
          ],
          "scatterpolargl": [
           {
            "marker": {
             "colorbar": {
              "outlinewidth": 0,
              "ticks": ""
             }
            },
            "type": "scatterpolargl"
           }
          ],
          "scatterternary": [
           {
            "marker": {
             "colorbar": {
              "outlinewidth": 0,
              "ticks": ""
             }
            },
            "type": "scatterternary"
           }
          ],
          "surface": [
           {
            "colorbar": {
             "outlinewidth": 0,
             "ticks": ""
            },
            "colorscale": [
             [
              0,
              "#0d0887"
             ],
             [
              0.1111111111111111,
              "#46039f"
             ],
             [
              0.2222222222222222,
              "#7201a8"
             ],
             [
              0.3333333333333333,
              "#9c179e"
             ],
             [
              0.4444444444444444,
              "#bd3786"
             ],
             [
              0.5555555555555556,
              "#d8576b"
             ],
             [
              0.6666666666666666,
              "#ed7953"
             ],
             [
              0.7777777777777778,
              "#fb9f3a"
             ],
             [
              0.8888888888888888,
              "#fdca26"
             ],
             [
              1,
              "#f0f921"
             ]
            ],
            "type": "surface"
           }
          ],
          "table": [
           {
            "cells": {
             "fill": {
              "color": "#EBF0F8"
             },
             "line": {
              "color": "white"
             }
            },
            "header": {
             "fill": {
              "color": "#C8D4E3"
             },
             "line": {
              "color": "white"
             }
            },
            "type": "table"
           }
          ]
         },
         "layout": {
          "annotationdefaults": {
           "arrowcolor": "#2a3f5f",
           "arrowhead": 0,
           "arrowwidth": 1
          },
          "autotypenumbers": "strict",
          "coloraxis": {
           "colorbar": {
            "outlinewidth": 0,
            "ticks": ""
           }
          },
          "colorscale": {
           "diverging": [
            [
             0,
             "#8e0152"
            ],
            [
             0.1,
             "#c51b7d"
            ],
            [
             0.2,
             "#de77ae"
            ],
            [
             0.3,
             "#f1b6da"
            ],
            [
             0.4,
             "#fde0ef"
            ],
            [
             0.5,
             "#f7f7f7"
            ],
            [
             0.6,
             "#e6f5d0"
            ],
            [
             0.7,
             "#b8e186"
            ],
            [
             0.8,
             "#7fbc41"
            ],
            [
             0.9,
             "#4d9221"
            ],
            [
             1,
             "#276419"
            ]
           ],
           "sequential": [
            [
             0,
             "#0d0887"
            ],
            [
             0.1111111111111111,
             "#46039f"
            ],
            [
             0.2222222222222222,
             "#7201a8"
            ],
            [
             0.3333333333333333,
             "#9c179e"
            ],
            [
             0.4444444444444444,
             "#bd3786"
            ],
            [
             0.5555555555555556,
             "#d8576b"
            ],
            [
             0.6666666666666666,
             "#ed7953"
            ],
            [
             0.7777777777777778,
             "#fb9f3a"
            ],
            [
             0.8888888888888888,
             "#fdca26"
            ],
            [
             1,
             "#f0f921"
            ]
           ],
           "sequentialminus": [
            [
             0,
             "#0d0887"
            ],
            [
             0.1111111111111111,
             "#46039f"
            ],
            [
             0.2222222222222222,
             "#7201a8"
            ],
            [
             0.3333333333333333,
             "#9c179e"
            ],
            [
             0.4444444444444444,
             "#bd3786"
            ],
            [
             0.5555555555555556,
             "#d8576b"
            ],
            [
             0.6666666666666666,
             "#ed7953"
            ],
            [
             0.7777777777777778,
             "#fb9f3a"
            ],
            [
             0.8888888888888888,
             "#fdca26"
            ],
            [
             1,
             "#f0f921"
            ]
           ]
          },
          "colorway": [
           "#636efa",
           "#EF553B",
           "#00cc96",
           "#ab63fa",
           "#FFA15A",
           "#19d3f3",
           "#FF6692",
           "#B6E880",
           "#FF97FF",
           "#FECB52"
          ],
          "font": {
           "color": "#2a3f5f"
          },
          "geo": {
           "bgcolor": "white",
           "lakecolor": "white",
           "landcolor": "#E5ECF6",
           "showlakes": true,
           "showland": true,
           "subunitcolor": "white"
          },
          "hoverlabel": {
           "align": "left"
          },
          "hovermode": "closest",
          "mapbox": {
           "style": "light"
          },
          "paper_bgcolor": "white",
          "plot_bgcolor": "#E5ECF6",
          "polar": {
           "angularaxis": {
            "gridcolor": "white",
            "linecolor": "white",
            "ticks": ""
           },
           "bgcolor": "#E5ECF6",
           "radialaxis": {
            "gridcolor": "white",
            "linecolor": "white",
            "ticks": ""
           }
          },
          "scene": {
           "xaxis": {
            "backgroundcolor": "#E5ECF6",
            "gridcolor": "white",
            "gridwidth": 2,
            "linecolor": "white",
            "showbackground": true,
            "ticks": "",
            "zerolinecolor": "white"
           },
           "yaxis": {
            "backgroundcolor": "#E5ECF6",
            "gridcolor": "white",
            "gridwidth": 2,
            "linecolor": "white",
            "showbackground": true,
            "ticks": "",
            "zerolinecolor": "white"
           },
           "zaxis": {
            "backgroundcolor": "#E5ECF6",
            "gridcolor": "white",
            "gridwidth": 2,
            "linecolor": "white",
            "showbackground": true,
            "ticks": "",
            "zerolinecolor": "white"
           }
          },
          "shapedefaults": {
           "line": {
            "color": "#2a3f5f"
           }
          },
          "ternary": {
           "aaxis": {
            "gridcolor": "white",
            "linecolor": "white",
            "ticks": ""
           },
           "baxis": {
            "gridcolor": "white",
            "linecolor": "white",
            "ticks": ""
           },
           "bgcolor": "#E5ECF6",
           "caxis": {
            "gridcolor": "white",
            "linecolor": "white",
            "ticks": ""
           }
          },
          "title": {
           "x": 0.05
          },
          "xaxis": {
           "automargin": true,
           "gridcolor": "white",
           "linecolor": "white",
           "ticks": "",
           "title": {
            "standoff": 15
           },
           "zerolinecolor": "white",
           "zerolinewidth": 2
          },
          "yaxis": {
           "automargin": true,
           "gridcolor": "white",
           "linecolor": "white",
           "ticks": "",
           "title": {
            "standoff": 15
           },
           "zerolinecolor": "white",
           "zerolinewidth": 2
          }
         }
        },
        "title": {
         "font": {
          "color": "#151516"
         },
         "text": "Total cumulative Committee Contributions for candidates over time"
        },
        "xaxis": {
         "gridcolor": "#F6F6F6",
         "showgrid": true,
         "tickfont": {
          "color": "#666666"
         },
         "title": {
          "font": {
           "color": "#666666"
          },
          "text": ""
         },
         "zerolinecolor": "#F6F6F6"
        },
        "yaxis": {
         "gridcolor": "#F6F6F6",
         "showgrid": true,
         "tickfont": {
          "color": "#666666"
         },
         "title": {
          "font": {
           "color": "#666666"
          },
          "text": ""
         },
         "zerolinecolor": "#F6F6F6"
        }
       }
      },
      "text/html": [
       "<div>                            <div id=\"b2d83b51-1550-4f51-8a02-5d7355ae6e7a\" class=\"plotly-graph-div\" style=\"height:525px; width:100%;\"></div>            <script type=\"text/javascript\">                require([\"plotly\"], function(Plotly) {                    window.PLOTLYENV=window.PLOTLYENV || {};\n",
       "                    window.PLOTLYENV.BASE_URL='https://plot.ly';                                    if (document.getElementById(\"b2d83b51-1550-4f51-8a02-5d7355ae6e7a\")) {                    Plotly.newPlot(                        \"b2d83b51-1550-4f51-8a02-5d7355ae6e7a\",                        [{\"line\":{\"color\":\"blue\",\"dash\":\"solid\",\"shape\":\"linear\",\"width\":1.3},\"mode\":\"lines\",\"name\":\"CUNNINGHAM, CAL\",\"text\":\"\",\"x\":[\"2019-01-07\",\"2019-01-08\",\"2019-01-09\",\"2019-01-10\",\"2019-01-11\",\"2019-01-18\",\"2019-01-21\",\"2019-01-22\",\"2019-01-23\",\"2019-01-25\",\"2019-01-28\",\"2019-01-29\",\"2019-02-01\",\"2019-02-04\",\"2019-02-05\",\"2019-02-06\",\"2019-02-07\",\"2019-02-08\",\"2019-02-11\",\"2019-02-13\",\"2019-02-15\",\"2019-02-19\",\"2019-02-20\",\"2019-02-21\",\"2019-02-22\",\"2019-02-25\",\"2019-02-26\",\"2019-02-27\",\"2019-02-28\",\"2019-03-01\",\"2019-03-04\",\"2019-03-05\",\"2019-03-06\",\"2019-03-07\",\"2019-03-08\",\"2019-03-11\",\"2019-03-12\",\"2019-03-13\",\"2019-03-14\",\"2019-03-15\",\"2019-03-18\",\"2019-03-19\",\"2019-03-20\",\"2019-03-21\",\"2019-03-22\",\"2019-03-25\",\"2019-03-26\",\"2019-03-27\",\"2019-03-28\",\"2019-03-29\",\"2019-04-01\",\"2019-04-02\",\"2019-04-03\",\"2019-04-04\",\"2019-04-05\",\"2019-04-08\",\"2019-04-09\",\"2019-04-10\",\"2019-04-11\",\"2019-04-12\",\"2019-04-15\",\"2019-04-16\",\"2019-04-18\",\"2019-04-22\",\"2019-04-23\",\"2019-04-24\",\"2019-04-25\",\"2019-04-26\",\"2019-04-29\",\"2019-04-30\",\"2019-05-01\",\"2019-05-02\",\"2019-05-03\",\"2019-05-06\",\"2019-05-07\",\"2019-05-08\",\"2019-05-09\",\"2019-05-10\",\"2019-05-13\",\"2019-05-14\",\"2019-05-15\",\"2019-05-16\",\"2019-05-17\",\"2019-05-20\",\"2019-05-21\",\"2019-05-22\",\"2019-05-23\",\"2019-05-24\",\"2019-05-28\",\"2019-05-29\",\"2019-05-30\",\"2019-05-31\",\"2019-06-03\",\"2019-06-04\",\"2019-06-05\",\"2019-06-06\",\"2019-06-07\",\"2019-06-10\",\"2019-06-11\",\"2019-06-12\",\"2019-06-13\",\"2019-06-14\",\"2019-06-17\",\"2019-06-18\",\"2019-06-19\",\"2019-06-20\",\"2019-06-21\",\"2019-06-24\",\"2019-06-25\",\"2019-06-26\",\"2019-06-27\",\"2019-06-28\",\"2019-06-29\",\"2019-07-01\",\"2019-07-03\",\"2019-07-08\",\"2019-07-09\",\"2019-07-10\",\"2019-07-11\",\"2019-07-15\",\"2019-07-16\",\"2019-07-17\",\"2019-07-18\",\"2019-07-19\",\"2019-07-22\",\"2019-07-23\",\"2019-07-24\",\"2019-07-25\",\"2019-07-26\",\"2019-07-29\",\"2019-07-30\",\"2019-07-31\",\"2019-08-01\",\"2019-08-02\",\"2019-08-05\",\"2019-08-06\",\"2019-08-08\",\"2019-08-09\",\"2019-08-12\",\"2019-08-14\",\"2019-08-15\",\"2019-08-19\",\"2019-08-20\",\"2019-08-21\",\"2019-08-22\",\"2019-08-24\",\"2019-08-26\",\"2019-08-27\",\"2019-08-29\",\"2019-08-30\",\"2019-09-03\",\"2019-09-04\",\"2019-09-09\",\"2019-09-10\",\"2019-09-11\",\"2019-09-12\",\"2019-09-13\",\"2019-09-16\",\"2019-09-17\",\"2019-09-18\",\"2019-09-19\",\"2019-09-20\",\"2019-09-23\",\"2019-09-24\",\"2019-09-25\",\"2019-09-26\",\"2019-09-27\",\"2019-09-30\",\"2019-10-01\",\"2019-10-03\",\"2019-10-07\",\"2019-10-10\",\"2019-10-14\",\"2019-10-15\",\"2019-10-16\",\"2019-10-21\",\"2019-10-22\",\"2019-10-23\",\"2019-10-24\",\"2019-10-25\",\"2019-10-28\",\"2019-10-29\",\"2019-10-31\",\"2019-11-01\",\"2019-11-04\",\"2019-11-05\",\"2019-11-06\",\"2019-11-07\",\"2019-11-08\",\"2019-11-12\",\"2019-11-13\",\"2019-11-14\",\"2019-11-15\",\"2019-11-18\",\"2019-11-19\",\"2019-11-20\",\"2019-11-21\",\"2019-11-22\",\"2019-11-23\",\"2019-11-24\",\"2019-11-25\",\"2019-11-26\",\"2019-11-27\",\"2019-12-02\",\"2019-12-03\",\"2019-12-04\",\"2019-12-05\",\"2019-12-06\",\"2019-12-07\",\"2019-12-09\",\"2019-12-10\",\"2019-12-11\",\"2019-12-12\",\"2019-12-13\",\"2019-12-16\",\"2019-12-17\",\"2019-12-18\",\"2019-12-19\",\"2019-12-20\",\"2019-12-23\",\"2019-12-26\",\"2019-12-27\",\"2019-12-29\",\"2019-12-30\",\"2019-12-31\",\"2020-01-03\",\"2020-01-06\",\"2020-01-07\",\"2020-01-08\",\"2020-01-10\",\"2020-01-13\",\"2020-01-14\",\"2020-01-15\",\"2020-01-16\",\"2020-01-17\",\"2020-01-22\",\"2020-01-23\",\"2020-01-27\",\"2020-01-28\",\"2020-01-29\",\"2020-01-30\",\"2020-01-31\",\"2020-02-03\",\"2020-02-04\",\"2020-02-05\",\"2020-02-06\",\"2020-02-07\",\"2020-02-08\",\"2020-02-10\",\"2020-02-11\",\"2020-02-12\",\"2020-02-13\",\"2020-02-14\",\"2020-02-15\",\"2020-02-17\",\"2020-02-18\",\"2020-02-19\",\"2020-02-20\",\"2020-02-21\",\"2020-02-24\",\"2020-02-25\",\"2020-02-26\",\"2020-02-27\",\"2020-02-28\",\"2020-03-01\",\"2020-03-02\",\"2020-03-03\",\"2020-03-04\",\"2020-03-05\",\"2020-03-06\",\"2020-03-09\",\"2020-03-10\",\"2020-03-11\",\"2020-03-12\",\"2020-03-13\",\"2020-03-15\",\"2020-03-16\",\"2020-03-17\",\"2020-03-18\",\"2020-03-20\",\"2020-03-23\",\"2020-03-24\",\"2020-03-26\",\"2020-03-27\",\"2020-03-28\",\"2020-03-29\",\"2020-03-30\",\"2020-03-31\",\"2020-04-02\",\"2020-04-06\",\"2020-04-08\",\"2020-04-09\",\"2020-04-13\",\"2020-04-14\",\"2020-04-16\",\"2020-04-20\",\"2020-04-23\",\"2020-04-24\",\"2020-04-27\",\"2020-04-29\",\"2020-04-30\",\"2020-05-07\",\"2020-05-08\",\"2020-05-11\",\"2020-05-13\",\"2020-05-14\",\"2020-05-15\",\"2020-05-16\",\"2020-05-18\",\"2020-05-19\",\"2020-05-20\",\"2020-05-21\",\"2020-05-22\",\"2020-05-26\",\"2020-05-27\",\"2020-05-28\",\"2020-05-29\",\"2020-06-11\",\"2020-06-15\",\"2020-06-18\",\"2020-06-22\",\"2020-06-23\",\"2020-06-24\",\"2020-06-26\",\"2020-06-30\"],\"y\":[0,0,0,0,0,0,0,0,0,0,0,0,0,0,0,0,0,0,0,0,0,0,0,0,0,0,0,0,0,0,0,0,0,0,0,0,0,0,0,0,0,0,0,0,0,0,0,0,0,0,0,0,0,0,0,0,0,0,0,0,0,0,0,0,0,0,0,0,0,0,0,0,0,0,0,0,0,0,0,0,0,0,0,0,0,0,0,0,0,0,0,0,0,0,0,0,0,0,0,0,0,0,0,0,0,0,0,0,5000,5000,17500,20000,20000,20000,20000,20000,20000,20000,20000,20000,20000,20000,20000,20000,25000,25000,35000,35000,35000,35000,35000,35090,35090,35090,35090,35090,40090,40090,40090,40090,40090,40090,40090,40090,40090,40090,40090,40090,40090,40090,40090,40090,40090,40090,40090,40090,40090,40090,40090,40090,48590,48590,48590,53590,72590,87590,107590,159590,162090,162090,164590,164590,164590,164590,164590,164590,164590,164590,165590,166090,166090,166090,166090,166090,168590,168590,168590,168590,168590,168590,168590,168590,168590,170590,170590,170590,170590,170590,170590,170590,170590,175590,175590,180590,180590,180590,180590,180590,180590,184090,184090,186590,186590,189090,191890,191890,246490,261490,271490,278990,278990,281490,281490,286490,286490,286490,286490,286490,291490,291490,291490,291490,291490,291490,291490,291490,291490,291490,291490,291490,293990,293990,293990,293990,293990,298990,308990,308990,311490,311490,311490,311490,311490,311555,311555,311555,314055,319067,324067,334067,345398,347898,347898,347898,352898,362898,362898,370398,370398,370398,370398,370398,370398,370398,370398,370398,370398,380398,380398,380398,392398,399898,403398,403398,405898,405898,409698,414698,423998,423998,427081,427081,427081,432081,438131,438131,447057,447057,447057,447057,460132,460132,460132,462632,462632,462632,462632,462632,462632,462632,462632,465132,465132,465132,465132,469132,469132,469132,469132,469132,471632,471632,471632,471632,472632],\"type\":\"scatter\"},{\"line\":{\"color\":\"red\",\"dash\":\"solid\",\"shape\":\"linear\",\"width\":1.3},\"mode\":\"lines\",\"name\":\"TILLIS, THOM R. SEN.\",\"text\":\"\",\"x\":[\"2019-01-07\",\"2019-01-08\",\"2019-01-09\",\"2019-01-10\",\"2019-01-11\",\"2019-01-18\",\"2019-01-21\",\"2019-01-22\",\"2019-01-23\",\"2019-01-25\",\"2019-01-28\",\"2019-01-29\",\"2019-02-01\",\"2019-02-04\",\"2019-02-05\",\"2019-02-06\",\"2019-02-07\",\"2019-02-08\",\"2019-02-11\",\"2019-02-13\",\"2019-02-15\",\"2019-02-19\",\"2019-02-20\",\"2019-02-21\",\"2019-02-22\",\"2019-02-25\",\"2019-02-26\",\"2019-02-27\",\"2019-02-28\",\"2019-03-01\",\"2019-03-04\",\"2019-03-05\",\"2019-03-06\",\"2019-03-07\",\"2019-03-08\",\"2019-03-11\",\"2019-03-12\",\"2019-03-13\",\"2019-03-14\",\"2019-03-15\",\"2019-03-18\",\"2019-03-19\",\"2019-03-20\",\"2019-03-21\",\"2019-03-22\",\"2019-03-25\",\"2019-03-26\",\"2019-03-27\",\"2019-03-28\",\"2019-03-29\",\"2019-04-01\",\"2019-04-02\",\"2019-04-03\",\"2019-04-04\",\"2019-04-05\",\"2019-04-08\",\"2019-04-09\",\"2019-04-10\",\"2019-04-11\",\"2019-04-12\",\"2019-04-15\",\"2019-04-16\",\"2019-04-18\",\"2019-04-22\",\"2019-04-23\",\"2019-04-24\",\"2019-04-25\",\"2019-04-26\",\"2019-04-29\",\"2019-04-30\",\"2019-05-01\",\"2019-05-02\",\"2019-05-03\",\"2019-05-06\",\"2019-05-07\",\"2019-05-08\",\"2019-05-09\",\"2019-05-10\",\"2019-05-13\",\"2019-05-14\",\"2019-05-15\",\"2019-05-16\",\"2019-05-17\",\"2019-05-20\",\"2019-05-21\",\"2019-05-22\",\"2019-05-23\",\"2019-05-24\",\"2019-05-28\",\"2019-05-29\",\"2019-05-30\",\"2019-05-31\",\"2019-06-03\",\"2019-06-04\",\"2019-06-05\",\"2019-06-06\",\"2019-06-07\",\"2019-06-10\",\"2019-06-11\",\"2019-06-12\",\"2019-06-13\",\"2019-06-14\",\"2019-06-17\",\"2019-06-18\",\"2019-06-19\",\"2019-06-20\",\"2019-06-21\",\"2019-06-24\",\"2019-06-25\",\"2019-06-26\",\"2019-06-27\",\"2019-06-28\",\"2019-06-29\",\"2019-07-01\",\"2019-07-03\",\"2019-07-08\",\"2019-07-09\",\"2019-07-10\",\"2019-07-11\",\"2019-07-15\",\"2019-07-16\",\"2019-07-17\",\"2019-07-18\",\"2019-07-19\",\"2019-07-22\",\"2019-07-23\",\"2019-07-24\",\"2019-07-25\",\"2019-07-26\",\"2019-07-29\",\"2019-07-30\",\"2019-07-31\",\"2019-08-01\",\"2019-08-02\",\"2019-08-05\",\"2019-08-06\",\"2019-08-08\",\"2019-08-09\",\"2019-08-12\",\"2019-08-14\",\"2019-08-15\",\"2019-08-19\",\"2019-08-20\",\"2019-08-21\",\"2019-08-22\",\"2019-08-24\",\"2019-08-26\",\"2019-08-27\",\"2019-08-29\",\"2019-08-30\",\"2019-09-03\",\"2019-09-04\",\"2019-09-09\",\"2019-09-10\",\"2019-09-11\",\"2019-09-12\",\"2019-09-13\",\"2019-09-16\",\"2019-09-17\",\"2019-09-18\",\"2019-09-19\",\"2019-09-20\",\"2019-09-23\",\"2019-09-24\",\"2019-09-25\",\"2019-09-26\",\"2019-09-27\",\"2019-09-30\",\"2019-10-01\",\"2019-10-03\",\"2019-10-07\",\"2019-10-10\",\"2019-10-14\",\"2019-10-15\",\"2019-10-16\",\"2019-10-21\",\"2019-10-22\",\"2019-10-23\",\"2019-10-24\",\"2019-10-25\",\"2019-10-28\",\"2019-10-29\",\"2019-10-31\",\"2019-11-01\",\"2019-11-04\",\"2019-11-05\",\"2019-11-06\",\"2019-11-07\",\"2019-11-08\",\"2019-11-12\",\"2019-11-13\",\"2019-11-14\",\"2019-11-15\",\"2019-11-18\",\"2019-11-19\",\"2019-11-20\",\"2019-11-21\",\"2019-11-22\",\"2019-11-23\",\"2019-11-24\",\"2019-11-25\",\"2019-11-26\",\"2019-11-27\",\"2019-12-02\",\"2019-12-03\",\"2019-12-04\",\"2019-12-05\",\"2019-12-06\",\"2019-12-07\",\"2019-12-09\",\"2019-12-10\",\"2019-12-11\",\"2019-12-12\",\"2019-12-13\",\"2019-12-16\",\"2019-12-17\",\"2019-12-18\",\"2019-12-19\",\"2019-12-20\",\"2019-12-23\",\"2019-12-26\",\"2019-12-27\",\"2019-12-29\",\"2019-12-30\",\"2019-12-31\",\"2020-01-03\",\"2020-01-06\",\"2020-01-07\",\"2020-01-08\",\"2020-01-10\",\"2020-01-13\",\"2020-01-14\",\"2020-01-15\",\"2020-01-16\",\"2020-01-17\",\"2020-01-22\",\"2020-01-23\",\"2020-01-27\",\"2020-01-28\",\"2020-01-29\",\"2020-01-30\",\"2020-01-31\",\"2020-02-03\",\"2020-02-04\",\"2020-02-05\",\"2020-02-06\",\"2020-02-07\",\"2020-02-08\",\"2020-02-10\",\"2020-02-11\",\"2020-02-12\",\"2020-02-13\",\"2020-02-14\",\"2020-02-15\",\"2020-02-17\",\"2020-02-18\",\"2020-02-19\",\"2020-02-20\",\"2020-02-21\",\"2020-02-24\",\"2020-02-25\",\"2020-02-26\",\"2020-02-27\",\"2020-02-28\",\"2020-03-01\",\"2020-03-02\",\"2020-03-03\",\"2020-03-04\",\"2020-03-05\",\"2020-03-06\",\"2020-03-09\",\"2020-03-10\",\"2020-03-11\",\"2020-03-12\",\"2020-03-13\",\"2020-03-15\",\"2020-03-16\",\"2020-03-17\",\"2020-03-18\",\"2020-03-20\",\"2020-03-23\",\"2020-03-24\",\"2020-03-26\",\"2020-03-27\",\"2020-03-28\",\"2020-03-29\",\"2020-03-30\",\"2020-03-31\",\"2020-04-02\",\"2020-04-06\",\"2020-04-08\",\"2020-04-09\",\"2020-04-13\",\"2020-04-14\",\"2020-04-16\",\"2020-04-20\",\"2020-04-23\",\"2020-04-24\",\"2020-04-27\",\"2020-04-29\",\"2020-04-30\",\"2020-05-07\",\"2020-05-08\",\"2020-05-11\",\"2020-05-13\",\"2020-05-14\",\"2020-05-15\",\"2020-05-16\",\"2020-05-18\",\"2020-05-19\",\"2020-05-20\",\"2020-05-21\",\"2020-05-22\",\"2020-05-26\",\"2020-05-27\",\"2020-05-28\",\"2020-05-29\",\"2020-06-11\",\"2020-06-15\",\"2020-06-18\",\"2020-06-22\",\"2020-06-23\",\"2020-06-24\",\"2020-06-26\",\"2020-06-30\"],\"y\":[5000,7500,18500,21000,23500,29500,34500,37083,42083,44583,47283,49283,52283,53283,54283,59283,62783,63783,76283,91283,93783,99783,104283,114283,125283,127783,135283,140283,145783,146783,150283,151783,159283,163783,169783,175783,193283,198783,201783,205783,214283,226483,232983,248983,257983,265483,288983,297583,342083,364083,370083,372583,374583,379583,392583,397083,400083,405083,412083,418583,424583,426583,432583,435583,438583,442583,449083,454083,458083,466583,478333,485333,486333,492333,493333,494333,495333,498333,500833,501833,507333,518333,533333,535833,540633,549633,565133,568133,576633,591133,598633,600633,612133,617133,625233,626733,638233,643233,654233,665233,686233,692733,698233,707733,720733,765357,775357,807657,840157,857157,871106,931706,935206,938706,942206,949206,955206,956206,957206,965706,970706,979206,980206,985206,987706,992206,993706,1001206,1012206,1021206,1027706,1030206,1032206,1039706,1045706,1046706,1051706,1052706,1056206,1061206,1067006,1068006,1070506,1071506,1076506,1079006,1085606,1099606,1102106,1103106,1111106,1112106,1116606,1126606,1129606,1132106,1135106,1144856,1153356,1157856,1165856,1176856,1192356,1208956,1225456,1257456,1269456,1276156,1276156,1282656,1285156,1296156,1298156,1300656,1303156,1306656,1310156,1315656,1320656,1323156,1330656,1334656,1343156,1349156,1351656,1356156,1359156,1366156,1368656,1375656,1378656,1384656,1387156,1391156,1393656,1394656,1408256,1424756,1429756,1434756,1447256,1453256,1456756,1473256,1477256,1480756,1505256,1512756,1516957,1538957,1558957,1578457,1592457,1603957,1617457,1633957,1646957,1662957,1666957,1674457,1682957,1683957,1683957,1686457,1682957,1684207,1687207,1690707,1688207,1690707,1700707,1703707,1707207,1710007,1712007,1714507,1724707,1734707,1742207,1745207,1761707,1764907,1771407,1775407,1778907,1782657,1796157,1798957,1804457,1814957,1822957,1832957,1830507,1825507,1834007,1848007,1853207,1868207,1878207,1881707,1903707,1929707,1947123,1955623,1958423,1971923,1998123,1998123,2004623,2005623,2006623,2014623,2018623,2026623,2031623,2036623,2037623,2042623,2043623,2045623,2047623,2056623,2057623,2062623,2062623,2063623,2063623,2067623,2067623,2072623,2077623,2080123,2076623,2076623,2076623,2081623,2084123,2085623,2083123,2085823,2085823,2092823,2100323,2104823,2108823,2115823,2116823,2119323,2122323,2124323,2124823,2124823,2125823,2130823,2137823,2148823,2154823,2157323,2162323,2164823,2165823,2170823,2177823,2179823,2179823],\"type\":\"scatter\"}],                        {\"legend\":{\"bgcolor\":\"#FFFFFF\",\"font\":{\"color\":\"#666666\"}},\"paper_bgcolor\":\"#FFFFFF\",\"plot_bgcolor\":\"#E5E5E5\",\"template\":{\"data\":{\"barpolar\":[{\"marker\":{\"line\":{\"color\":\"#E5ECF6\",\"width\":0.5},\"pattern\":{\"fillmode\":\"overlay\",\"size\":10,\"solidity\":0.2}},\"type\":\"barpolar\"}],\"bar\":[{\"error_x\":{\"color\":\"#2a3f5f\"},\"error_y\":{\"color\":\"#2a3f5f\"},\"marker\":{\"line\":{\"color\":\"#E5ECF6\",\"width\":0.5},\"pattern\":{\"fillmode\":\"overlay\",\"size\":10,\"solidity\":0.2}},\"type\":\"bar\"}],\"carpet\":[{\"aaxis\":{\"endlinecolor\":\"#2a3f5f\",\"gridcolor\":\"white\",\"linecolor\":\"white\",\"minorgridcolor\":\"white\",\"startlinecolor\":\"#2a3f5f\"},\"baxis\":{\"endlinecolor\":\"#2a3f5f\",\"gridcolor\":\"white\",\"linecolor\":\"white\",\"minorgridcolor\":\"white\",\"startlinecolor\":\"#2a3f5f\"},\"type\":\"carpet\"}],\"choropleth\":[{\"colorbar\":{\"outlinewidth\":0,\"ticks\":\"\"},\"type\":\"choropleth\"}],\"contourcarpet\":[{\"colorbar\":{\"outlinewidth\":0,\"ticks\":\"\"},\"type\":\"contourcarpet\"}],\"contour\":[{\"colorbar\":{\"outlinewidth\":0,\"ticks\":\"\"},\"colorscale\":[[0.0,\"#0d0887\"],[0.1111111111111111,\"#46039f\"],[0.2222222222222222,\"#7201a8\"],[0.3333333333333333,\"#9c179e\"],[0.4444444444444444,\"#bd3786\"],[0.5555555555555556,\"#d8576b\"],[0.6666666666666666,\"#ed7953\"],[0.7777777777777778,\"#fb9f3a\"],[0.8888888888888888,\"#fdca26\"],[1.0,\"#f0f921\"]],\"type\":\"contour\"}],\"heatmapgl\":[{\"colorbar\":{\"outlinewidth\":0,\"ticks\":\"\"},\"colorscale\":[[0.0,\"#0d0887\"],[0.1111111111111111,\"#46039f\"],[0.2222222222222222,\"#7201a8\"],[0.3333333333333333,\"#9c179e\"],[0.4444444444444444,\"#bd3786\"],[0.5555555555555556,\"#d8576b\"],[0.6666666666666666,\"#ed7953\"],[0.7777777777777778,\"#fb9f3a\"],[0.8888888888888888,\"#fdca26\"],[1.0,\"#f0f921\"]],\"type\":\"heatmapgl\"}],\"heatmap\":[{\"colorbar\":{\"outlinewidth\":0,\"ticks\":\"\"},\"colorscale\":[[0.0,\"#0d0887\"],[0.1111111111111111,\"#46039f\"],[0.2222222222222222,\"#7201a8\"],[0.3333333333333333,\"#9c179e\"],[0.4444444444444444,\"#bd3786\"],[0.5555555555555556,\"#d8576b\"],[0.6666666666666666,\"#ed7953\"],[0.7777777777777778,\"#fb9f3a\"],[0.8888888888888888,\"#fdca26\"],[1.0,\"#f0f921\"]],\"type\":\"heatmap\"}],\"histogram2dcontour\":[{\"colorbar\":{\"outlinewidth\":0,\"ticks\":\"\"},\"colorscale\":[[0.0,\"#0d0887\"],[0.1111111111111111,\"#46039f\"],[0.2222222222222222,\"#7201a8\"],[0.3333333333333333,\"#9c179e\"],[0.4444444444444444,\"#bd3786\"],[0.5555555555555556,\"#d8576b\"],[0.6666666666666666,\"#ed7953\"],[0.7777777777777778,\"#fb9f3a\"],[0.8888888888888888,\"#fdca26\"],[1.0,\"#f0f921\"]],\"type\":\"histogram2dcontour\"}],\"histogram2d\":[{\"colorbar\":{\"outlinewidth\":0,\"ticks\":\"\"},\"colorscale\":[[0.0,\"#0d0887\"],[0.1111111111111111,\"#46039f\"],[0.2222222222222222,\"#7201a8\"],[0.3333333333333333,\"#9c179e\"],[0.4444444444444444,\"#bd3786\"],[0.5555555555555556,\"#d8576b\"],[0.6666666666666666,\"#ed7953\"],[0.7777777777777778,\"#fb9f3a\"],[0.8888888888888888,\"#fdca26\"],[1.0,\"#f0f921\"]],\"type\":\"histogram2d\"}],\"histogram\":[{\"marker\":{\"pattern\":{\"fillmode\":\"overlay\",\"size\":10,\"solidity\":0.2}},\"type\":\"histogram\"}],\"mesh3d\":[{\"colorbar\":{\"outlinewidth\":0,\"ticks\":\"\"},\"type\":\"mesh3d\"}],\"parcoords\":[{\"line\":{\"colorbar\":{\"outlinewidth\":0,\"ticks\":\"\"}},\"type\":\"parcoords\"}],\"pie\":[{\"automargin\":true,\"type\":\"pie\"}],\"scatter3d\":[{\"line\":{\"colorbar\":{\"outlinewidth\":0,\"ticks\":\"\"}},\"marker\":{\"colorbar\":{\"outlinewidth\":0,\"ticks\":\"\"}},\"type\":\"scatter3d\"}],\"scattercarpet\":[{\"marker\":{\"colorbar\":{\"outlinewidth\":0,\"ticks\":\"\"}},\"type\":\"scattercarpet\"}],\"scattergeo\":[{\"marker\":{\"colorbar\":{\"outlinewidth\":0,\"ticks\":\"\"}},\"type\":\"scattergeo\"}],\"scattergl\":[{\"marker\":{\"colorbar\":{\"outlinewidth\":0,\"ticks\":\"\"}},\"type\":\"scattergl\"}],\"scattermapbox\":[{\"marker\":{\"colorbar\":{\"outlinewidth\":0,\"ticks\":\"\"}},\"type\":\"scattermapbox\"}],\"scatterpolargl\":[{\"marker\":{\"colorbar\":{\"outlinewidth\":0,\"ticks\":\"\"}},\"type\":\"scatterpolargl\"}],\"scatterpolar\":[{\"marker\":{\"colorbar\":{\"outlinewidth\":0,\"ticks\":\"\"}},\"type\":\"scatterpolar\"}],\"scatter\":[{\"fillpattern\":{\"fillmode\":\"overlay\",\"size\":10,\"solidity\":0.2},\"type\":\"scatter\"}],\"scatterternary\":[{\"marker\":{\"colorbar\":{\"outlinewidth\":0,\"ticks\":\"\"}},\"type\":\"scatterternary\"}],\"surface\":[{\"colorbar\":{\"outlinewidth\":0,\"ticks\":\"\"},\"colorscale\":[[0.0,\"#0d0887\"],[0.1111111111111111,\"#46039f\"],[0.2222222222222222,\"#7201a8\"],[0.3333333333333333,\"#9c179e\"],[0.4444444444444444,\"#bd3786\"],[0.5555555555555556,\"#d8576b\"],[0.6666666666666666,\"#ed7953\"],[0.7777777777777778,\"#fb9f3a\"],[0.8888888888888888,\"#fdca26\"],[1.0,\"#f0f921\"]],\"type\":\"surface\"}],\"table\":[{\"cells\":{\"fill\":{\"color\":\"#EBF0F8\"},\"line\":{\"color\":\"white\"}},\"header\":{\"fill\":{\"color\":\"#C8D4E3\"},\"line\":{\"color\":\"white\"}},\"type\":\"table\"}]},\"layout\":{\"annotationdefaults\":{\"arrowcolor\":\"#2a3f5f\",\"arrowhead\":0,\"arrowwidth\":1},\"autotypenumbers\":\"strict\",\"coloraxis\":{\"colorbar\":{\"outlinewidth\":0,\"ticks\":\"\"}},\"colorscale\":{\"diverging\":[[0,\"#8e0152\"],[0.1,\"#c51b7d\"],[0.2,\"#de77ae\"],[0.3,\"#f1b6da\"],[0.4,\"#fde0ef\"],[0.5,\"#f7f7f7\"],[0.6,\"#e6f5d0\"],[0.7,\"#b8e186\"],[0.8,\"#7fbc41\"],[0.9,\"#4d9221\"],[1,\"#276419\"]],\"sequential\":[[0.0,\"#0d0887\"],[0.1111111111111111,\"#46039f\"],[0.2222222222222222,\"#7201a8\"],[0.3333333333333333,\"#9c179e\"],[0.4444444444444444,\"#bd3786\"],[0.5555555555555556,\"#d8576b\"],[0.6666666666666666,\"#ed7953\"],[0.7777777777777778,\"#fb9f3a\"],[0.8888888888888888,\"#fdca26\"],[1.0,\"#f0f921\"]],\"sequentialminus\":[[0.0,\"#0d0887\"],[0.1111111111111111,\"#46039f\"],[0.2222222222222222,\"#7201a8\"],[0.3333333333333333,\"#9c179e\"],[0.4444444444444444,\"#bd3786\"],[0.5555555555555556,\"#d8576b\"],[0.6666666666666666,\"#ed7953\"],[0.7777777777777778,\"#fb9f3a\"],[0.8888888888888888,\"#fdca26\"],[1.0,\"#f0f921\"]]},\"colorway\":[\"#636efa\",\"#EF553B\",\"#00cc96\",\"#ab63fa\",\"#FFA15A\",\"#19d3f3\",\"#FF6692\",\"#B6E880\",\"#FF97FF\",\"#FECB52\"],\"font\":{\"color\":\"#2a3f5f\"},\"geo\":{\"bgcolor\":\"white\",\"lakecolor\":\"white\",\"landcolor\":\"#E5ECF6\",\"showlakes\":true,\"showland\":true,\"subunitcolor\":\"white\"},\"hoverlabel\":{\"align\":\"left\"},\"hovermode\":\"closest\",\"mapbox\":{\"style\":\"light\"},\"paper_bgcolor\":\"white\",\"plot_bgcolor\":\"#E5ECF6\",\"polar\":{\"angularaxis\":{\"gridcolor\":\"white\",\"linecolor\":\"white\",\"ticks\":\"\"},\"bgcolor\":\"#E5ECF6\",\"radialaxis\":{\"gridcolor\":\"white\",\"linecolor\":\"white\",\"ticks\":\"\"}},\"scene\":{\"xaxis\":{\"backgroundcolor\":\"#E5ECF6\",\"gridcolor\":\"white\",\"gridwidth\":2,\"linecolor\":\"white\",\"showbackground\":true,\"ticks\":\"\",\"zerolinecolor\":\"white\"},\"yaxis\":{\"backgroundcolor\":\"#E5ECF6\",\"gridcolor\":\"white\",\"gridwidth\":2,\"linecolor\":\"white\",\"showbackground\":true,\"ticks\":\"\",\"zerolinecolor\":\"white\"},\"zaxis\":{\"backgroundcolor\":\"#E5ECF6\",\"gridcolor\":\"white\",\"gridwidth\":2,\"linecolor\":\"white\",\"showbackground\":true,\"ticks\":\"\",\"zerolinecolor\":\"white\"}},\"shapedefaults\":{\"line\":{\"color\":\"#2a3f5f\"}},\"ternary\":{\"aaxis\":{\"gridcolor\":\"white\",\"linecolor\":\"white\",\"ticks\":\"\"},\"baxis\":{\"gridcolor\":\"white\",\"linecolor\":\"white\",\"ticks\":\"\"},\"bgcolor\":\"#E5ECF6\",\"caxis\":{\"gridcolor\":\"white\",\"linecolor\":\"white\",\"ticks\":\"\"}},\"title\":{\"x\":0.05},\"xaxis\":{\"automargin\":true,\"gridcolor\":\"white\",\"linecolor\":\"white\",\"ticks\":\"\",\"title\":{\"standoff\":15},\"zerolinecolor\":\"white\",\"zerolinewidth\":2},\"yaxis\":{\"automargin\":true,\"gridcolor\":\"white\",\"linecolor\":\"white\",\"ticks\":\"\",\"title\":{\"standoff\":15},\"zerolinecolor\":\"white\",\"zerolinewidth\":2}}},\"title\":{\"font\":{\"color\":\"#151516\"},\"text\":\"Total cumulative Committee Contributions for candidates over time\"},\"xaxis\":{\"gridcolor\":\"#F6F6F6\",\"showgrid\":true,\"tickfont\":{\"color\":\"#666666\"},\"title\":{\"font\":{\"color\":\"#666666\"},\"text\":\"\"},\"zerolinecolor\":\"#F6F6F6\"},\"yaxis\":{\"gridcolor\":\"#F6F6F6\",\"showgrid\":true,\"tickfont\":{\"color\":\"#666666\"},\"title\":{\"font\":{\"color\":\"#666666\"},\"text\":\"\"},\"zerolinecolor\":\"#F6F6F6\"}},                        {\"showLink\": true, \"linkText\": \"Export to plot.ly\", \"plotlyServerURL\": \"https://plot.ly\", \"responsive\": true}                    ).then(function(){\n",
       "                            \n",
       "var gd = document.getElementById('b2d83b51-1550-4f51-8a02-5d7355ae6e7a');\n",
       "var x = new MutationObserver(function (mutations, observer) {{\n",
       "        var display = window.getComputedStyle(gd).display;\n",
       "        if (!display || display === 'none') {{\n",
       "            console.log([gd, 'removed!']);\n",
       "            Plotly.purge(gd);\n",
       "            observer.disconnect();\n",
       "        }}\n",
       "}});\n",
       "\n",
       "// Listen for the removal of the full notebook cells\n",
       "var notebookContainer = gd.closest('#notebook-container');\n",
       "if (notebookContainer) {{\n",
       "    x.observe(notebookContainer, {childList: true});\n",
       "}}\n",
       "\n",
       "// Listen for the clearing of the current output cell\n",
       "var outputEl = gd.closest('.output');\n",
       "if (outputEl) {{\n",
       "    x.observe(outputEl, {childList: true});\n",
       "}}\n",
       "\n",
       "                        })                };                });            </script>        </div>"
      ]
     },
     "metadata": {},
     "output_type": "display_data"
    }
   ],
   "source": [
    "ctrbs_by_dt = contribs.groupby(['TRANSACTION_DT', \n",
    "                                'CAND_NAME']).agg({'TRANSACTION_AMT': 'sum'}).reset_index()\n",
    "ctrbs_by_dt = ctrbs_by_dt.pivot_table(index='TRANSACTION_DT', \n",
    "                                      columns=['CAND_NAME'], fill_value=0.0).droplevel(level=0, axis=1)\n",
    "ctrbs_by_dt.cumsum().iplot(title='Total cumulative Committee Contributions for candidates over time', \n",
    "                           colors=color_map)"
   ]
  },
  {
   "cell_type": "markdown",
   "metadata": {
    "papermill": {
     "duration": 0.06955,
     "end_time": "2020-09-02T04:53:59.559921",
     "exception": false,
     "start_time": "2020-09-02T04:53:59.490371",
     "status": "completed"
    },
    "tags": []
   },
   "source": [
    "### Committee expenditures for candidates"
   ]
  },
  {
   "cell_type": "code",
   "execution_count": 35,
   "metadata": {
    "_kg_hide-input": true,
    "_kg_hide-output": true,
    "execution": {
     "iopub.execute_input": "2020-09-02T04:53:59.706637Z",
     "iopub.status.busy": "2020-09-02T04:53:59.705487Z",
     "iopub.status.idle": "2020-09-02T04:53:59.794498Z",
     "shell.execute_reply": "2020-09-02T04:53:59.795118Z"
    },
    "papermill": {
     "duration": 0.167664,
     "end_time": "2020-09-02T04:53:59.795298",
     "exception": false,
     "start_time": "2020-09-02T04:53:59.627634",
     "status": "completed"
    },
    "tags": []
   },
   "outputs": [
    {
     "data": {
      "text/html": [
       "<div>\n",
       "<style scoped>\n",
       "    .dataframe tbody tr th:only-of-type {\n",
       "        vertical-align: middle;\n",
       "    }\n",
       "\n",
       "    .dataframe tbody tr th {\n",
       "        vertical-align: top;\n",
       "    }\n",
       "\n",
       "    .dataframe thead th {\n",
       "        text-align: right;\n",
       "    }\n",
       "</style>\n",
       "<table border=\"1\" class=\"dataframe\">\n",
       "  <thead>\n",
       "    <tr style=\"text-align: right;\">\n",
       "      <th></th>\n",
       "      <th>CMTE_ID</th>\n",
       "      <th>AMNDT_IND</th>\n",
       "      <th>RPT_TP</th>\n",
       "      <th>TRANSACTION_PGI</th>\n",
       "      <th>IMAGE_NUM</th>\n",
       "      <th>TRANSACTION_TP</th>\n",
       "      <th>ENTITY_TP</th>\n",
       "      <th>NAME</th>\n",
       "      <th>CITY</th>\n",
       "      <th>STATE</th>\n",
       "      <th>ZIP_CODE</th>\n",
       "      <th>EMPLOYER</th>\n",
       "      <th>OCCUPATION</th>\n",
       "      <th>TRANSACTION_DT</th>\n",
       "      <th>TRANSACTION_AMT</th>\n",
       "      <th>OTHER_ID</th>\n",
       "      <th>CAND_ID</th>\n",
       "      <th>TRAN_ID</th>\n",
       "      <th>FILE_NUM</th>\n",
       "      <th>MEMO_CD</th>\n",
       "      <th>MEMO_TEXT</th>\n",
       "      <th>SUB_ID</th>\n",
       "      <th>AMNDT_IND_FULL</th>\n",
       "      <th>RPT_TP_FULL</th>\n",
       "      <th>ELECTION_TYPE</th>\n",
       "      <th>ELECTION_YEAR</th>\n",
       "      <th>TRANSACTION_TP_FULL</th>\n",
       "      <th>ENTITY_TP_FULL</th>\n",
       "      <th>TRAN_ID_parent</th>\n",
       "      <th>TRAN_ID_child</th>\n",
       "      <th>CAND_NAME</th>\n",
       "      <th>CAND_ICI</th>\n",
       "      <th>PTY_CD</th>\n",
       "      <th>CAND_PTY_AFFILIATION</th>\n",
       "      <th>TTL_RECEIPTS</th>\n",
       "      <th>TRANS_FROM_AUTH</th>\n",
       "      <th>TTL_DISB</th>\n",
       "      <th>TRANS_TO_AUTH</th>\n",
       "      <th>COH_BOP</th>\n",
       "      <th>COH_COP</th>\n",
       "      <th>CAND_CONTRIB</th>\n",
       "      <th>CAND_LOANS</th>\n",
       "      <th>OTHER_LOANS</th>\n",
       "      <th>CAND_LOAN_REPAY</th>\n",
       "      <th>OTHER_LOAN_REPAY</th>\n",
       "      <th>DEBTS_OWED_BY</th>\n",
       "      <th>TTL_INDIV_CONTRIB</th>\n",
       "      <th>CAND_OFFICE_ST</th>\n",
       "      <th>CAND_OFFICE_DISTRICT</th>\n",
       "      <th>SPEC_ELECTION</th>\n",
       "      <th>PRIM_ELECTION</th>\n",
       "      <th>RUN_ELECTION</th>\n",
       "      <th>GEN_ELECTION</th>\n",
       "      <th>GEN_ELECTION_PRECENT</th>\n",
       "      <th>OTHER_POL_CMTE_CONTRIB</th>\n",
       "      <th>POL_PTY_CONTRIB</th>\n",
       "      <th>CVG_END_DT</th>\n",
       "      <th>INDIV_REFUNDS</th>\n",
       "      <th>CMTE_REFUNDS</th>\n",
       "      <th>TTL_RECEIPTS_CORRECTED</th>\n",
       "      <th>TTL_DISB_CORRECTED</th>\n",
       "      <th>CAND_ICI_FULL</th>\n",
       "      <th>CAND_PTY_AFFILIATION_FULL</th>\n",
       "      <th>color</th>\n",
       "      <th>second_color</th>\n",
       "      <th>CMTE_NM</th>\n",
       "      <th>TRES_NM</th>\n",
       "      <th>CMTE_ST1</th>\n",
       "      <th>CMTE_ST2</th>\n",
       "      <th>CMTE_CITY</th>\n",
       "      <th>CMTE_ST</th>\n",
       "      <th>CMTE_ZIP</th>\n",
       "      <th>CMTE_DSGN</th>\n",
       "      <th>CMTE_TP</th>\n",
       "      <th>CMTE_PTY_AFFILIATION</th>\n",
       "      <th>CMTE_FILING_FREQ</th>\n",
       "      <th>ORG_TP</th>\n",
       "      <th>CONNECTED_ORG_NM</th>\n",
       "      <th>CAND_ID_y</th>\n",
       "      <th>for_against</th>\n",
       "    </tr>\n",
       "  </thead>\n",
       "  <tbody>\n",
       "    <tr>\n",
       "      <th>494</th>\n",
       "      <td>C00571703</td>\n",
       "      <td>N</td>\n",
       "      <td>YE</td>\n",
       "      <td>P2020</td>\n",
       "      <td>202001319185087439</td>\n",
       "      <td>24E</td>\n",
       "      <td>ORG</td>\n",
       "      <td>MCCARTHY HENNINGS WHALEN INC.</td>\n",
       "      <td>WASHINGTON</td>\n",
       "      <td>DC</td>\n",
       "      <td>20036</td>\n",
       "      <td>NaN</td>\n",
       "      <td>NaN</td>\n",
       "      <td>2019-12-20</td>\n",
       "      <td>2734</td>\n",
       "      <td>S4NC00162</td>\n",
       "      <td>S4NC00162</td>\n",
       "      <td>SE24.15378</td>\n",
       "      <td>1378798</td>\n",
       "      <td>NaN</td>\n",
       "      <td>NaN</td>\n",
       "      <td>4020120201686471398</td>\n",
       "      <td>New</td>\n",
       "      <td>Year end</td>\n",
       "      <td>Primary</td>\n",
       "      <td>2020</td>\n",
       "      <td>Independent expenditure advocating election of...</td>\n",
       "      <td>Organization (not a committee and not a person)</td>\n",
       "      <td>SE24</td>\n",
       "      <td>15378</td>\n",
       "      <td>TILLIS, THOM R. SEN.</td>\n",
       "      <td>I</td>\n",
       "      <td>2</td>\n",
       "      <td>REP</td>\n",
       "      <td>8269271.66</td>\n",
       "      <td>1152018.96</td>\n",
       "      <td>3811302.27</td>\n",
       "      <td>6441.91</td>\n",
       "      <td>2025444.43</td>\n",
       "      <td>6483413.82</td>\n",
       "      <td>0.0</td>\n",
       "      <td>0.0</td>\n",
       "      <td>0.0</td>\n",
       "      <td>0.0</td>\n",
       "      <td>0.0</td>\n",
       "      <td>0.0</td>\n",
       "      <td>4798506.58</td>\n",
       "      <td>NC</td>\n",
       "      <td>00</td>\n",
       "      <td>NaN</td>\n",
       "      <td>NaN</td>\n",
       "      <td>NaN</td>\n",
       "      <td>NaN</td>\n",
       "      <td>NaN</td>\n",
       "      <td>2278244.39</td>\n",
       "      <td>0.0</td>\n",
       "      <td>06/09/2020</td>\n",
       "      <td>102493.33</td>\n",
       "      <td>14425.67</td>\n",
       "      <td>7117252.7</td>\n",
       "      <td>3804860.36</td>\n",
       "      <td>Incumbent</td>\n",
       "      <td>Republican Party</td>\n",
       "      <td>red</td>\n",
       "      <td>pink</td>\n",
       "      <td>SENATE LEADERSHIP FUND</td>\n",
       "      <td>CALEB CROSBY</td>\n",
       "      <td>45 NORTH HILL DRIVE STE 100</td>\n",
       "      <td>NaN</td>\n",
       "      <td>WARRENTON</td>\n",
       "      <td>VA</td>\n",
       "      <td>20186</td>\n",
       "      <td>U</td>\n",
       "      <td>O</td>\n",
       "      <td>NaN</td>\n",
       "      <td>M</td>\n",
       "      <td>NaN</td>\n",
       "      <td>NaN</td>\n",
       "      <td>NaN</td>\n",
       "      <td>For</td>\n",
       "    </tr>\n",
       "    <tr>\n",
       "      <th>495</th>\n",
       "      <td>C00571703</td>\n",
       "      <td>N</td>\n",
       "      <td>YE</td>\n",
       "      <td>P2020</td>\n",
       "      <td>202001319185087444</td>\n",
       "      <td>24E</td>\n",
       "      <td>ORG</td>\n",
       "      <td>RICHARD SALES MEDIA</td>\n",
       "      <td>PHOENIX</td>\n",
       "      <td>AZ</td>\n",
       "      <td>85016</td>\n",
       "      <td>NaN</td>\n",
       "      <td>NaN</td>\n",
       "      <td>2019-12-20</td>\n",
       "      <td>600</td>\n",
       "      <td>S4NC00162</td>\n",
       "      <td>S4NC00162</td>\n",
       "      <td>SE24.15376</td>\n",
       "      <td>1378798</td>\n",
       "      <td>NaN</td>\n",
       "      <td>NaN</td>\n",
       "      <td>4020120201686471408</td>\n",
       "      <td>New</td>\n",
       "      <td>Year end</td>\n",
       "      <td>Primary</td>\n",
       "      <td>2020</td>\n",
       "      <td>Independent expenditure advocating election of...</td>\n",
       "      <td>Organization (not a committee and not a person)</td>\n",
       "      <td>SE24</td>\n",
       "      <td>15376</td>\n",
       "      <td>TILLIS, THOM R. SEN.</td>\n",
       "      <td>I</td>\n",
       "      <td>2</td>\n",
       "      <td>REP</td>\n",
       "      <td>8269271.66</td>\n",
       "      <td>1152018.96</td>\n",
       "      <td>3811302.27</td>\n",
       "      <td>6441.91</td>\n",
       "      <td>2025444.43</td>\n",
       "      <td>6483413.82</td>\n",
       "      <td>0.0</td>\n",
       "      <td>0.0</td>\n",
       "      <td>0.0</td>\n",
       "      <td>0.0</td>\n",
       "      <td>0.0</td>\n",
       "      <td>0.0</td>\n",
       "      <td>4798506.58</td>\n",
       "      <td>NC</td>\n",
       "      <td>00</td>\n",
       "      <td>NaN</td>\n",
       "      <td>NaN</td>\n",
       "      <td>NaN</td>\n",
       "      <td>NaN</td>\n",
       "      <td>NaN</td>\n",
       "      <td>2278244.39</td>\n",
       "      <td>0.0</td>\n",
       "      <td>06/09/2020</td>\n",
       "      <td>102493.33</td>\n",
       "      <td>14425.67</td>\n",
       "      <td>7117252.7</td>\n",
       "      <td>3804860.36</td>\n",
       "      <td>Incumbent</td>\n",
       "      <td>Republican Party</td>\n",
       "      <td>red</td>\n",
       "      <td>pink</td>\n",
       "      <td>SENATE LEADERSHIP FUND</td>\n",
       "      <td>CALEB CROSBY</td>\n",
       "      <td>45 NORTH HILL DRIVE STE 100</td>\n",
       "      <td>NaN</td>\n",
       "      <td>WARRENTON</td>\n",
       "      <td>VA</td>\n",
       "      <td>20186</td>\n",
       "      <td>U</td>\n",
       "      <td>O</td>\n",
       "      <td>NaN</td>\n",
       "      <td>M</td>\n",
       "      <td>NaN</td>\n",
       "      <td>NaN</td>\n",
       "      <td>NaN</td>\n",
       "      <td>For</td>\n",
       "    </tr>\n",
       "    <tr>\n",
       "      <th>496</th>\n",
       "      <td>C00571703</td>\n",
       "      <td>N</td>\n",
       "      <td>YE</td>\n",
       "      <td>P2020</td>\n",
       "      <td>202001319185087444</td>\n",
       "      <td>24E</td>\n",
       "      <td>ORG</td>\n",
       "      <td>RICHARD SALES MEDIA</td>\n",
       "      <td>PHOENIX</td>\n",
       "      <td>AZ</td>\n",
       "      <td>85016</td>\n",
       "      <td>NaN</td>\n",
       "      <td>NaN</td>\n",
       "      <td>2019-12-20</td>\n",
       "      <td>400</td>\n",
       "      <td>S4NC00162</td>\n",
       "      <td>S4NC00162</td>\n",
       "      <td>SE24.15377</td>\n",
       "      <td>1378798</td>\n",
       "      <td>NaN</td>\n",
       "      <td>NaN</td>\n",
       "      <td>4020120201686471409</td>\n",
       "      <td>New</td>\n",
       "      <td>Year end</td>\n",
       "      <td>Primary</td>\n",
       "      <td>2020</td>\n",
       "      <td>Independent expenditure advocating election of...</td>\n",
       "      <td>Organization (not a committee and not a person)</td>\n",
       "      <td>SE24</td>\n",
       "      <td>15377</td>\n",
       "      <td>TILLIS, THOM R. SEN.</td>\n",
       "      <td>I</td>\n",
       "      <td>2</td>\n",
       "      <td>REP</td>\n",
       "      <td>8269271.66</td>\n",
       "      <td>1152018.96</td>\n",
       "      <td>3811302.27</td>\n",
       "      <td>6441.91</td>\n",
       "      <td>2025444.43</td>\n",
       "      <td>6483413.82</td>\n",
       "      <td>0.0</td>\n",
       "      <td>0.0</td>\n",
       "      <td>0.0</td>\n",
       "      <td>0.0</td>\n",
       "      <td>0.0</td>\n",
       "      <td>0.0</td>\n",
       "      <td>4798506.58</td>\n",
       "      <td>NC</td>\n",
       "      <td>00</td>\n",
       "      <td>NaN</td>\n",
       "      <td>NaN</td>\n",
       "      <td>NaN</td>\n",
       "      <td>NaN</td>\n",
       "      <td>NaN</td>\n",
       "      <td>2278244.39</td>\n",
       "      <td>0.0</td>\n",
       "      <td>06/09/2020</td>\n",
       "      <td>102493.33</td>\n",
       "      <td>14425.67</td>\n",
       "      <td>7117252.7</td>\n",
       "      <td>3804860.36</td>\n",
       "      <td>Incumbent</td>\n",
       "      <td>Republican Party</td>\n",
       "      <td>red</td>\n",
       "      <td>pink</td>\n",
       "      <td>SENATE LEADERSHIP FUND</td>\n",
       "      <td>CALEB CROSBY</td>\n",
       "      <td>45 NORTH HILL DRIVE STE 100</td>\n",
       "      <td>NaN</td>\n",
       "      <td>WARRENTON</td>\n",
       "      <td>VA</td>\n",
       "      <td>20186</td>\n",
       "      <td>U</td>\n",
       "      <td>O</td>\n",
       "      <td>NaN</td>\n",
       "      <td>M</td>\n",
       "      <td>NaN</td>\n",
       "      <td>NaN</td>\n",
       "      <td>NaN</td>\n",
       "      <td>For</td>\n",
       "    </tr>\n",
       "    <tr>\n",
       "      <th>497</th>\n",
       "      <td>C00571703</td>\n",
       "      <td>N</td>\n",
       "      <td>YE</td>\n",
       "      <td>P2020</td>\n",
       "      <td>202001319185087445</td>\n",
       "      <td>24E</td>\n",
       "      <td>ORG</td>\n",
       "      <td>TARGETED VICTORY LLC</td>\n",
       "      <td>ARLINGTON</td>\n",
       "      <td>VA</td>\n",
       "      <td>22201</td>\n",
       "      <td>NaN</td>\n",
       "      <td>NaN</td>\n",
       "      <td>2019-12-11</td>\n",
       "      <td>50000</td>\n",
       "      <td>S4NC00162</td>\n",
       "      <td>S4NC00162</td>\n",
       "      <td>SE24.15375</td>\n",
       "      <td>1378798</td>\n",
       "      <td>NaN</td>\n",
       "      <td>NaN</td>\n",
       "      <td>4020120201686471410</td>\n",
       "      <td>New</td>\n",
       "      <td>Year end</td>\n",
       "      <td>Primary</td>\n",
       "      <td>2020</td>\n",
       "      <td>Independent expenditure advocating election of...</td>\n",
       "      <td>Organization (not a committee and not a person)</td>\n",
       "      <td>SE24</td>\n",
       "      <td>15375</td>\n",
       "      <td>TILLIS, THOM R. SEN.</td>\n",
       "      <td>I</td>\n",
       "      <td>2</td>\n",
       "      <td>REP</td>\n",
       "      <td>8269271.66</td>\n",
       "      <td>1152018.96</td>\n",
       "      <td>3811302.27</td>\n",
       "      <td>6441.91</td>\n",
       "      <td>2025444.43</td>\n",
       "      <td>6483413.82</td>\n",
       "      <td>0.0</td>\n",
       "      <td>0.0</td>\n",
       "      <td>0.0</td>\n",
       "      <td>0.0</td>\n",
       "      <td>0.0</td>\n",
       "      <td>0.0</td>\n",
       "      <td>4798506.58</td>\n",
       "      <td>NC</td>\n",
       "      <td>00</td>\n",
       "      <td>NaN</td>\n",
       "      <td>NaN</td>\n",
       "      <td>NaN</td>\n",
       "      <td>NaN</td>\n",
       "      <td>NaN</td>\n",
       "      <td>2278244.39</td>\n",
       "      <td>0.0</td>\n",
       "      <td>06/09/2020</td>\n",
       "      <td>102493.33</td>\n",
       "      <td>14425.67</td>\n",
       "      <td>7117252.7</td>\n",
       "      <td>3804860.36</td>\n",
       "      <td>Incumbent</td>\n",
       "      <td>Republican Party</td>\n",
       "      <td>red</td>\n",
       "      <td>pink</td>\n",
       "      <td>SENATE LEADERSHIP FUND</td>\n",
       "      <td>CALEB CROSBY</td>\n",
       "      <td>45 NORTH HILL DRIVE STE 100</td>\n",
       "      <td>NaN</td>\n",
       "      <td>WARRENTON</td>\n",
       "      <td>VA</td>\n",
       "      <td>20186</td>\n",
       "      <td>U</td>\n",
       "      <td>O</td>\n",
       "      <td>NaN</td>\n",
       "      <td>M</td>\n",
       "      <td>NaN</td>\n",
       "      <td>NaN</td>\n",
       "      <td>NaN</td>\n",
       "      <td>For</td>\n",
       "    </tr>\n",
       "    <tr>\n",
       "      <th>539</th>\n",
       "      <td>C00514125</td>\n",
       "      <td>N</td>\n",
       "      <td>YE</td>\n",
       "      <td>P2020</td>\n",
       "      <td>202001299182384741</td>\n",
       "      <td>24A</td>\n",
       "      <td>ORG</td>\n",
       "      <td>UP ON AIR BUYING, LLC</td>\n",
       "      <td>DALLAS</td>\n",
       "      <td>TX</td>\n",
       "      <td>75219</td>\n",
       "      <td>NaN</td>\n",
       "      <td>NaN</td>\n",
       "      <td>2019-10-11</td>\n",
       "      <td>254000</td>\n",
       "      <td>S4NC00162</td>\n",
       "      <td>S4NC00162</td>\n",
       "      <td>SE.4447</td>\n",
       "      <td>1374809</td>\n",
       "      <td>NaN</td>\n",
       "      <td>NaN</td>\n",
       "      <td>4013020201686174178</td>\n",
       "      <td>New</td>\n",
       "      <td>Year end</td>\n",
       "      <td>Primary</td>\n",
       "      <td>2020</td>\n",
       "      <td>Independent expenditure opposing election of c...</td>\n",
       "      <td>Organization (not a committee and not a person)</td>\n",
       "      <td>SE</td>\n",
       "      <td>4447</td>\n",
       "      <td>TILLIS, THOM R. SEN.</td>\n",
       "      <td>I</td>\n",
       "      <td>2</td>\n",
       "      <td>REP</td>\n",
       "      <td>8269271.66</td>\n",
       "      <td>1152018.96</td>\n",
       "      <td>3811302.27</td>\n",
       "      <td>6441.91</td>\n",
       "      <td>2025444.43</td>\n",
       "      <td>6483413.82</td>\n",
       "      <td>0.0</td>\n",
       "      <td>0.0</td>\n",
       "      <td>0.0</td>\n",
       "      <td>0.0</td>\n",
       "      <td>0.0</td>\n",
       "      <td>0.0</td>\n",
       "      <td>4798506.58</td>\n",
       "      <td>NC</td>\n",
       "      <td>00</td>\n",
       "      <td>NaN</td>\n",
       "      <td>NaN</td>\n",
       "      <td>NaN</td>\n",
       "      <td>NaN</td>\n",
       "      <td>NaN</td>\n",
       "      <td>2278244.39</td>\n",
       "      <td>0.0</td>\n",
       "      <td>06/09/2020</td>\n",
       "      <td>102493.33</td>\n",
       "      <td>14425.67</td>\n",
       "      <td>7117252.7</td>\n",
       "      <td>3804860.36</td>\n",
       "      <td>Incumbent</td>\n",
       "      <td>Republican Party</td>\n",
       "      <td>red</td>\n",
       "      <td>pink</td>\n",
       "      <td>THE AMERICAN FOUNDATIONS COMMITTEE</td>\n",
       "      <td>KILGORE, PAUL</td>\n",
       "      <td>4800 SIX FORKS RD</td>\n",
       "      <td>STE 100</td>\n",
       "      <td>RALEIGH</td>\n",
       "      <td>NC</td>\n",
       "      <td>27609</td>\n",
       "      <td>U</td>\n",
       "      <td>O</td>\n",
       "      <td>NaN</td>\n",
       "      <td>Q</td>\n",
       "      <td>NaN</td>\n",
       "      <td>NaN</td>\n",
       "      <td>NaN</td>\n",
       "      <td>Against</td>\n",
       "    </tr>\n",
       "  </tbody>\n",
       "</table>\n",
       "</div>"
      ],
      "text/plain": [
       "       CMTE_ID AMNDT_IND RPT_TP TRANSACTION_PGI           IMAGE_NUM  \\\n",
       "494  C00571703         N     YE           P2020  202001319185087439   \n",
       "495  C00571703         N     YE           P2020  202001319185087444   \n",
       "496  C00571703         N     YE           P2020  202001319185087444   \n",
       "497  C00571703         N     YE           P2020  202001319185087445   \n",
       "539  C00514125         N     YE           P2020  202001299182384741   \n",
       "\n",
       "    TRANSACTION_TP ENTITY_TP                           NAME        CITY STATE  \\\n",
       "494            24E       ORG  MCCARTHY HENNINGS WHALEN INC.  WASHINGTON    DC   \n",
       "495            24E       ORG            RICHARD SALES MEDIA     PHOENIX    AZ   \n",
       "496            24E       ORG            RICHARD SALES MEDIA     PHOENIX    AZ   \n",
       "497            24E       ORG           TARGETED VICTORY LLC   ARLINGTON    VA   \n",
       "539            24A       ORG          UP ON AIR BUYING, LLC      DALLAS    TX   \n",
       "\n",
       "    ZIP_CODE EMPLOYER OCCUPATION TRANSACTION_DT  TRANSACTION_AMT   OTHER_ID  \\\n",
       "494    20036      NaN        NaN     2019-12-20             2734  S4NC00162   \n",
       "495    85016      NaN        NaN     2019-12-20              600  S4NC00162   \n",
       "496    85016      NaN        NaN     2019-12-20              400  S4NC00162   \n",
       "497    22201      NaN        NaN     2019-12-11            50000  S4NC00162   \n",
       "539    75219      NaN        NaN     2019-10-11           254000  S4NC00162   \n",
       "\n",
       "       CAND_ID     TRAN_ID  FILE_NUM MEMO_CD MEMO_TEXT               SUB_ID  \\\n",
       "494  S4NC00162  SE24.15378   1378798     NaN       NaN  4020120201686471398   \n",
       "495  S4NC00162  SE24.15376   1378798     NaN       NaN  4020120201686471408   \n",
       "496  S4NC00162  SE24.15377   1378798     NaN       NaN  4020120201686471409   \n",
       "497  S4NC00162  SE24.15375   1378798     NaN       NaN  4020120201686471410   \n",
       "539  S4NC00162     SE.4447   1374809     NaN       NaN  4013020201686174178   \n",
       "\n",
       "    AMNDT_IND_FULL RPT_TP_FULL ELECTION_TYPE  ELECTION_YEAR  \\\n",
       "494            New    Year end       Primary           2020   \n",
       "495            New    Year end       Primary           2020   \n",
       "496            New    Year end       Primary           2020   \n",
       "497            New    Year end       Primary           2020   \n",
       "539            New    Year end       Primary           2020   \n",
       "\n",
       "                                   TRANSACTION_TP_FULL  \\\n",
       "494  Independent expenditure advocating election of...   \n",
       "495  Independent expenditure advocating election of...   \n",
       "496  Independent expenditure advocating election of...   \n",
       "497  Independent expenditure advocating election of...   \n",
       "539  Independent expenditure opposing election of c...   \n",
       "\n",
       "                                      ENTITY_TP_FULL TRAN_ID_parent  \\\n",
       "494  Organization (not a committee and not a person)           SE24   \n",
       "495  Organization (not a committee and not a person)           SE24   \n",
       "496  Organization (not a committee and not a person)           SE24   \n",
       "497  Organization (not a committee and not a person)           SE24   \n",
       "539  Organization (not a committee and not a person)             SE   \n",
       "\n",
       "    TRAN_ID_child             CAND_NAME CAND_ICI  PTY_CD CAND_PTY_AFFILIATION  \\\n",
       "494         15378  TILLIS, THOM R. SEN.        I       2                  REP   \n",
       "495         15376  TILLIS, THOM R. SEN.        I       2                  REP   \n",
       "496         15377  TILLIS, THOM R. SEN.        I       2                  REP   \n",
       "497         15375  TILLIS, THOM R. SEN.        I       2                  REP   \n",
       "539          4447  TILLIS, THOM R. SEN.        I       2                  REP   \n",
       "\n",
       "     TTL_RECEIPTS  TRANS_FROM_AUTH    TTL_DISB  TRANS_TO_AUTH     COH_BOP  \\\n",
       "494    8269271.66       1152018.96  3811302.27        6441.91  2025444.43   \n",
       "495    8269271.66       1152018.96  3811302.27        6441.91  2025444.43   \n",
       "496    8269271.66       1152018.96  3811302.27        6441.91  2025444.43   \n",
       "497    8269271.66       1152018.96  3811302.27        6441.91  2025444.43   \n",
       "539    8269271.66       1152018.96  3811302.27        6441.91  2025444.43   \n",
       "\n",
       "        COH_COP  CAND_CONTRIB  CAND_LOANS  OTHER_LOANS  CAND_LOAN_REPAY  \\\n",
       "494  6483413.82           0.0         0.0          0.0              0.0   \n",
       "495  6483413.82           0.0         0.0          0.0              0.0   \n",
       "496  6483413.82           0.0         0.0          0.0              0.0   \n",
       "497  6483413.82           0.0         0.0          0.0              0.0   \n",
       "539  6483413.82           0.0         0.0          0.0              0.0   \n",
       "\n",
       "     OTHER_LOAN_REPAY  DEBTS_OWED_BY  TTL_INDIV_CONTRIB CAND_OFFICE_ST  \\\n",
       "494               0.0            0.0         4798506.58             NC   \n",
       "495               0.0            0.0         4798506.58             NC   \n",
       "496               0.0            0.0         4798506.58             NC   \n",
       "497               0.0            0.0         4798506.58             NC   \n",
       "539               0.0            0.0         4798506.58             NC   \n",
       "\n",
       "    CAND_OFFICE_DISTRICT  SPEC_ELECTION  PRIM_ELECTION  RUN_ELECTION  \\\n",
       "494                   00            NaN            NaN           NaN   \n",
       "495                   00            NaN            NaN           NaN   \n",
       "496                   00            NaN            NaN           NaN   \n",
       "497                   00            NaN            NaN           NaN   \n",
       "539                   00            NaN            NaN           NaN   \n",
       "\n",
       "     GEN_ELECTION  GEN_ELECTION_PRECENT  OTHER_POL_CMTE_CONTRIB  \\\n",
       "494           NaN                   NaN              2278244.39   \n",
       "495           NaN                   NaN              2278244.39   \n",
       "496           NaN                   NaN              2278244.39   \n",
       "497           NaN                   NaN              2278244.39   \n",
       "539           NaN                   NaN              2278244.39   \n",
       "\n",
       "     POL_PTY_CONTRIB  CVG_END_DT  INDIV_REFUNDS  CMTE_REFUNDS  \\\n",
       "494              0.0  06/09/2020      102493.33      14425.67   \n",
       "495              0.0  06/09/2020      102493.33      14425.67   \n",
       "496              0.0  06/09/2020      102493.33      14425.67   \n",
       "497              0.0  06/09/2020      102493.33      14425.67   \n",
       "539              0.0  06/09/2020      102493.33      14425.67   \n",
       "\n",
       "     TTL_RECEIPTS_CORRECTED  TTL_DISB_CORRECTED CAND_ICI_FULL  \\\n",
       "494               7117252.7          3804860.36     Incumbent   \n",
       "495               7117252.7          3804860.36     Incumbent   \n",
       "496               7117252.7          3804860.36     Incumbent   \n",
       "497               7117252.7          3804860.36     Incumbent   \n",
       "539               7117252.7          3804860.36     Incumbent   \n",
       "\n",
       "    CAND_PTY_AFFILIATION_FULL color second_color  \\\n",
       "494          Republican Party   red         pink   \n",
       "495          Republican Party   red         pink   \n",
       "496          Republican Party   red         pink   \n",
       "497          Republican Party   red         pink   \n",
       "539          Republican Party   red         pink   \n",
       "\n",
       "                                CMTE_NM        TRES_NM  \\\n",
       "494              SENATE LEADERSHIP FUND   CALEB CROSBY   \n",
       "495              SENATE LEADERSHIP FUND   CALEB CROSBY   \n",
       "496              SENATE LEADERSHIP FUND   CALEB CROSBY   \n",
       "497              SENATE LEADERSHIP FUND   CALEB CROSBY   \n",
       "539  THE AMERICAN FOUNDATIONS COMMITTEE  KILGORE, PAUL   \n",
       "\n",
       "                        CMTE_ST1 CMTE_ST2  CMTE_CITY CMTE_ST CMTE_ZIP  \\\n",
       "494  45 NORTH HILL DRIVE STE 100      NaN  WARRENTON      VA    20186   \n",
       "495  45 NORTH HILL DRIVE STE 100      NaN  WARRENTON      VA    20186   \n",
       "496  45 NORTH HILL DRIVE STE 100      NaN  WARRENTON      VA    20186   \n",
       "497  45 NORTH HILL DRIVE STE 100      NaN  WARRENTON      VA    20186   \n",
       "539            4800 SIX FORKS RD  STE 100    RALEIGH      NC    27609   \n",
       "\n",
       "    CMTE_DSGN CMTE_TP CMTE_PTY_AFFILIATION CMTE_FILING_FREQ ORG_TP  \\\n",
       "494         U       O                  NaN                M    NaN   \n",
       "495         U       O                  NaN                M    NaN   \n",
       "496         U       O                  NaN                M    NaN   \n",
       "497         U       O                  NaN                M    NaN   \n",
       "539         U       O                  NaN                Q    NaN   \n",
       "\n",
       "    CONNECTED_ORG_NM CAND_ID_y for_against  \n",
       "494              NaN       NaN         For  \n",
       "495              NaN       NaN         For  \n",
       "496              NaN       NaN         For  \n",
       "497              NaN       NaN         For  \n",
       "539              NaN       NaN     Against  "
      ]
     },
     "execution_count": 35,
     "metadata": {},
     "output_type": "execute_result"
    }
   ],
   "source": [
    "committee_contribs['for_against'] = committee_contribs['TRANSACTION_TP'].map({\n",
    "    '24A': 'Against', '24E': 'For'})\n",
    "\n",
    "expenditures = committee_contribs[~committee_contribs['for_against'].isnull()]\n",
    "expenditures.head()"
   ]
  },
  {
   "cell_type": "markdown",
   "metadata": {
    "papermill": {
     "duration": 0.070634,
     "end_time": "2020-09-02T04:53:59.939285",
     "exception": false,
     "start_time": "2020-09-02T04:53:59.868651",
     "status": "completed"
    },
    "tags": []
   },
   "source": [
    "**Here are the committees with the largest expenditures**"
   ]
  },
  {
   "cell_type": "code",
   "execution_count": 36,
   "metadata": {
    "_kg_hide-input": true,
    "execution": {
     "iopub.execute_input": "2020-09-02T04:54:00.108391Z",
     "iopub.status.busy": "2020-09-02T04:54:00.107500Z",
     "iopub.status.idle": "2020-09-02T04:54:00.112951Z",
     "shell.execute_reply": "2020-09-02T04:54:00.113509Z"
    },
    "papermill": {
     "duration": 0.101341,
     "end_time": "2020-09-02T04:54:00.113750",
     "exception": false,
     "start_time": "2020-09-02T04:54:00.012409",
     "status": "completed"
    },
    "tags": []
   },
   "outputs": [
    {
     "data": {
      "text/html": [
       "<div>\n",
       "<style scoped>\n",
       "    .dataframe tbody tr th:only-of-type {\n",
       "        vertical-align: middle;\n",
       "    }\n",
       "\n",
       "    .dataframe tbody tr th {\n",
       "        vertical-align: top;\n",
       "    }\n",
       "\n",
       "    .dataframe thead th {\n",
       "        text-align: right;\n",
       "    }\n",
       "</style>\n",
       "<table border=\"1\" class=\"dataframe\">\n",
       "  <thead>\n",
       "    <tr style=\"text-align: right;\">\n",
       "      <th></th>\n",
       "      <th>COMMITTEE_NAME</th>\n",
       "      <th>TRANSACTION_AMT</th>\n",
       "    </tr>\n",
       "  </thead>\n",
       "  <tbody>\n",
       "    <tr>\n",
       "      <th>0</th>\n",
       "      <td>CAROLINA BLUE</td>\n",
       "      <td>4.52M</td>\n",
       "    </tr>\n",
       "    <tr>\n",
       "      <th>1</th>\n",
       "      <td>VOTEVETS</td>\n",
       "      <td>4.29M</td>\n",
       "    </tr>\n",
       "    <tr>\n",
       "      <th>2</th>\n",
       "      <td>AMERICANS FOR PROSPERITY ACTION, INC.(AFP ACTION)</td>\n",
       "      <td>675.66K</td>\n",
       "    </tr>\n",
       "    <tr>\n",
       "      <th>3</th>\n",
       "      <td>THE AMERICAN FOUNDATIONS COMMITTEE</td>\n",
       "      <td>254.00K</td>\n",
       "    </tr>\n",
       "    <tr>\n",
       "      <th>4</th>\n",
       "      <td>FAITH AND POWER PAC</td>\n",
       "      <td>250.01K</td>\n",
       "    </tr>\n",
       "    <tr>\n",
       "      <th>5</th>\n",
       "      <td>SENATE LEADERSHIP FUND</td>\n",
       "      <td>66.99K</td>\n",
       "    </tr>\n",
       "    <tr>\n",
       "      <th>6</th>\n",
       "      <td>INDIVISIBLE ACTION</td>\n",
       "      <td>22.50K</td>\n",
       "    </tr>\n",
       "    <tr>\n",
       "      <th>7</th>\n",
       "      <td>THE LINCOLN PROJECT</td>\n",
       "      <td>11.78K</td>\n",
       "    </tr>\n",
       "    <tr>\n",
       "      <th>8</th>\n",
       "      <td>NATIONAL RIFLE ASSOCIATION OF AMERICA POLITICA...</td>\n",
       "      <td>10.07K</td>\n",
       "    </tr>\n",
       "    <tr>\n",
       "      <th>9</th>\n",
       "      <td>HEALTH JUSTICE FOR ALL</td>\n",
       "      <td>6.52K</td>\n",
       "    </tr>\n",
       "  </tbody>\n",
       "</table>\n",
       "</div>"
      ],
      "text/plain": [
       "                                      COMMITTEE_NAME TRANSACTION_AMT\n",
       "0                                      CAROLINA BLUE           4.52M\n",
       "1                                           VOTEVETS           4.29M\n",
       "2  AMERICANS FOR PROSPERITY ACTION, INC.(AFP ACTION)         675.66K\n",
       "3                 THE AMERICAN FOUNDATIONS COMMITTEE         254.00K\n",
       "4                                FAITH AND POWER PAC         250.01K\n",
       "5                             SENATE LEADERSHIP FUND          66.99K\n",
       "6                                 INDIVISIBLE ACTION          22.50K\n",
       "7                                THE LINCOLN PROJECT          11.78K\n",
       "8  NATIONAL RIFLE ASSOCIATION OF AMERICA POLITICA...          10.07K\n",
       "9                             HEALTH JUSTICE FOR ALL           6.52K"
      ]
     },
     "execution_count": 36,
     "metadata": {},
     "output_type": "execute_result"
    }
   ],
   "source": [
    "largest_expenditures = expenditures.groupby('CMTE_NM').agg({'TRANSACTION_AMT': 'sum'})['TRANSACTION_AMT'].nlargest(10).reset_index()\n",
    "largest_expenditures['TRANSACTION_AMT'] = largest_expenditures['TRANSACTION_AMT'].map(lambda x: render_human_format(x))\n",
    "largest_expenditures.rename({'CMTE_NM': 'COMMITTEE_NAME'}, axis=1)"
   ]
  },
  {
   "cell_type": "code",
   "execution_count": 37,
   "metadata": {
    "_kg_hide-input": true,
    "execution": {
     "iopub.execute_input": "2020-09-02T04:54:00.288682Z",
     "iopub.status.busy": "2020-09-02T04:54:00.287727Z",
     "iopub.status.idle": "2020-09-02T04:54:00.349626Z",
     "shell.execute_reply": "2020-09-02T04:54:00.348483Z"
    },
    "papermill": {
     "duration": 0.163314,
     "end_time": "2020-09-02T04:54:00.349834",
     "exception": false,
     "start_time": "2020-09-02T04:54:00.186520",
     "status": "completed"
    },
    "tags": []
   },
   "outputs": [
    {
     "name": "stdout",
     "output_type": "stream",
     "text": [
      "------------------------------------------------------------\n",
      "Committees with most expenditures For CUNNINGHAM, CAL\n",
      "------------------------------------------------------------\n"
     ]
    },
    {
     "data": {
      "text/html": [
       "<div>\n",
       "<style scoped>\n",
       "    .dataframe tbody tr th:only-of-type {\n",
       "        vertical-align: middle;\n",
       "    }\n",
       "\n",
       "    .dataframe tbody tr th {\n",
       "        vertical-align: top;\n",
       "    }\n",
       "\n",
       "    .dataframe thead th {\n",
       "        text-align: right;\n",
       "    }\n",
       "</style>\n",
       "<table border=\"1\" class=\"dataframe\">\n",
       "  <thead>\n",
       "    <tr style=\"text-align: right;\">\n",
       "      <th></th>\n",
       "      <th>COMMITTEE_NAME</th>\n",
       "      <th>TRANSACTION_AMT</th>\n",
       "    </tr>\n",
       "  </thead>\n",
       "  <tbody>\n",
       "    <tr>\n",
       "      <th>0</th>\n",
       "      <td>CAROLINA BLUE</td>\n",
       "      <td>4.52M</td>\n",
       "    </tr>\n",
       "    <tr>\n",
       "      <th>1</th>\n",
       "      <td>VOTEVETS</td>\n",
       "      <td>4.29M</td>\n",
       "    </tr>\n",
       "    <tr>\n",
       "      <th>2</th>\n",
       "      <td>PAGE COMMUNICATIONS L.L.C.</td>\n",
       "      <td>3.26K</td>\n",
       "    </tr>\n",
       "    <tr>\n",
       "      <th>3</th>\n",
       "      <td>PLANNED PARENTHOOD VOTES</td>\n",
       "      <td>579.00</td>\n",
       "    </tr>\n",
       "    <tr>\n",
       "      <th>4</th>\n",
       "      <td>SIERRA CLUB INDEPENDENT ACTION</td>\n",
       "      <td>10.00</td>\n",
       "    </tr>\n",
       "  </tbody>\n",
       "</table>\n",
       "</div>"
      ],
      "text/plain": [
       "                   COMMITTEE_NAME TRANSACTION_AMT\n",
       "0                   CAROLINA BLUE           4.52M\n",
       "1                        VOTEVETS           4.29M\n",
       "2      PAGE COMMUNICATIONS L.L.C.           3.26K\n",
       "3        PLANNED PARENTHOOD VOTES          579.00\n",
       "4  SIERRA CLUB INDEPENDENT ACTION           10.00"
      ]
     },
     "metadata": {},
     "output_type": "display_data"
    },
    {
     "name": "stdout",
     "output_type": "stream",
     "text": [
      "------------------------------------------------------------\n",
      "Committees with most expenditures Against CUNNINGHAM, CAL\n",
      "------------------------------------------------------------\n"
     ]
    },
    {
     "data": {
      "text/html": [
       "<div>\n",
       "<style scoped>\n",
       "    .dataframe tbody tr th:only-of-type {\n",
       "        vertical-align: middle;\n",
       "    }\n",
       "\n",
       "    .dataframe tbody tr th {\n",
       "        vertical-align: top;\n",
       "    }\n",
       "\n",
       "    .dataframe thead th {\n",
       "        text-align: right;\n",
       "    }\n",
       "</style>\n",
       "<table border=\"1\" class=\"dataframe\">\n",
       "  <thead>\n",
       "    <tr style=\"text-align: right;\">\n",
       "      <th></th>\n",
       "      <th>COMMITTEE_NAME</th>\n",
       "      <th>TRANSACTION_AMT</th>\n",
       "    </tr>\n",
       "  </thead>\n",
       "  <tbody>\n",
       "    <tr>\n",
       "      <th>0</th>\n",
       "      <td>FAITH AND POWER PAC</td>\n",
       "      <td>250.01K</td>\n",
       "    </tr>\n",
       "  </tbody>\n",
       "</table>\n",
       "</div>"
      ],
      "text/plain": [
       "        COMMITTEE_NAME TRANSACTION_AMT\n",
       "0  FAITH AND POWER PAC         250.01K"
      ]
     },
     "metadata": {},
     "output_type": "display_data"
    },
    {
     "name": "stdout",
     "output_type": "stream",
     "text": [
      "------------------------------------------------------------\n",
      "Committees with most expenditures For TILLIS, THOM R. SEN.\n",
      "------------------------------------------------------------\n"
     ]
    },
    {
     "data": {
      "text/html": [
       "<div>\n",
       "<style scoped>\n",
       "    .dataframe tbody tr th:only-of-type {\n",
       "        vertical-align: middle;\n",
       "    }\n",
       "\n",
       "    .dataframe tbody tr th {\n",
       "        vertical-align: top;\n",
       "    }\n",
       "\n",
       "    .dataframe thead th {\n",
       "        text-align: right;\n",
       "    }\n",
       "</style>\n",
       "<table border=\"1\" class=\"dataframe\">\n",
       "  <thead>\n",
       "    <tr style=\"text-align: right;\">\n",
       "      <th></th>\n",
       "      <th>COMMITTEE_NAME</th>\n",
       "      <th>TRANSACTION_AMT</th>\n",
       "    </tr>\n",
       "  </thead>\n",
       "  <tbody>\n",
       "    <tr>\n",
       "      <th>0</th>\n",
       "      <td>AMERICANS FOR PROSPERITY ACTION, INC.(AFP ACTION)</td>\n",
       "      <td>675.66K</td>\n",
       "    </tr>\n",
       "    <tr>\n",
       "      <th>1</th>\n",
       "      <td>SENATE LEADERSHIP FUND</td>\n",
       "      <td>66.99K</td>\n",
       "    </tr>\n",
       "    <tr>\n",
       "      <th>2</th>\n",
       "      <td>NATIONAL RIFLE ASSOCIATION OF AMERICA POLITICA...</td>\n",
       "      <td>10.07K</td>\n",
       "    </tr>\n",
       "    <tr>\n",
       "      <th>3</th>\n",
       "      <td>WOMEN SPEAK OUT PAC</td>\n",
       "      <td>4.54K</td>\n",
       "    </tr>\n",
       "  </tbody>\n",
       "</table>\n",
       "</div>"
      ],
      "text/plain": [
       "                                      COMMITTEE_NAME TRANSACTION_AMT\n",
       "0  AMERICANS FOR PROSPERITY ACTION, INC.(AFP ACTION)         675.66K\n",
       "1                             SENATE LEADERSHIP FUND          66.99K\n",
       "2  NATIONAL RIFLE ASSOCIATION OF AMERICA POLITICA...          10.07K\n",
       "3                                WOMEN SPEAK OUT PAC           4.54K"
      ]
     },
     "metadata": {},
     "output_type": "display_data"
    },
    {
     "name": "stdout",
     "output_type": "stream",
     "text": [
      "------------------------------------------------------------\n",
      "Committees with most expenditures Against TILLIS, THOM R. SEN.\n",
      "------------------------------------------------------------\n"
     ]
    },
    {
     "data": {
      "text/html": [
       "<div>\n",
       "<style scoped>\n",
       "    .dataframe tbody tr th:only-of-type {\n",
       "        vertical-align: middle;\n",
       "    }\n",
       "\n",
       "    .dataframe tbody tr th {\n",
       "        vertical-align: top;\n",
       "    }\n",
       "\n",
       "    .dataframe thead th {\n",
       "        text-align: right;\n",
       "    }\n",
       "</style>\n",
       "<table border=\"1\" class=\"dataframe\">\n",
       "  <thead>\n",
       "    <tr style=\"text-align: right;\">\n",
       "      <th></th>\n",
       "      <th>COMMITTEE_NAME</th>\n",
       "      <th>TRANSACTION_AMT</th>\n",
       "    </tr>\n",
       "  </thead>\n",
       "  <tbody>\n",
       "    <tr>\n",
       "      <th>0</th>\n",
       "      <td>THE AMERICAN FOUNDATIONS COMMITTEE</td>\n",
       "      <td>254.00K</td>\n",
       "    </tr>\n",
       "    <tr>\n",
       "      <th>1</th>\n",
       "      <td>INDIVISIBLE ACTION</td>\n",
       "      <td>22.50K</td>\n",
       "    </tr>\n",
       "    <tr>\n",
       "      <th>2</th>\n",
       "      <td>THE LINCOLN PROJECT</td>\n",
       "      <td>11.78K</td>\n",
       "    </tr>\n",
       "    <tr>\n",
       "      <th>3</th>\n",
       "      <td>HEALTH JUSTICE FOR ALL</td>\n",
       "      <td>6.52K</td>\n",
       "    </tr>\n",
       "    <tr>\n",
       "      <th>4</th>\n",
       "      <td>PLANNED PARENTHOOD VOTES</td>\n",
       "      <td>866.00</td>\n",
       "    </tr>\n",
       "  </tbody>\n",
       "</table>\n",
       "</div>"
      ],
      "text/plain": [
       "                       COMMITTEE_NAME TRANSACTION_AMT\n",
       "0  THE AMERICAN FOUNDATIONS COMMITTEE         254.00K\n",
       "1                  INDIVISIBLE ACTION          22.50K\n",
       "2                 THE LINCOLN PROJECT          11.78K\n",
       "3              HEALTH JUSTICE FOR ALL           6.52K\n",
       "4            PLANNED PARENTHOOD VOTES          866.00"
      ]
     },
     "metadata": {},
     "output_type": "display_data"
    }
   ],
   "source": [
    "from IPython.display import display\n",
    "for cand_name in candidates['CAND_NAME'].unique():\n",
    "    for for_against in ['For', 'Against']:\n",
    "        print(\"-\"*60)\n",
    "        print(f\"Committees with most expenditures {for_against} {cand_name}\")\n",
    "        print(\"-\"*60)\n",
    "        df = expenditures[(expenditures['for_against'] == for_against) & (expenditures['CAND_NAME'] == cand_name)]\n",
    "        result = pd.DataFrame(df[['CMTE_NM', 'TRANSACTION_AMT']].groupby(['CMTE_NM']).agg({'TRANSACTION_AMT': 'sum'})['TRANSACTION_AMT'].nlargest(10)).reset_index().rename({'CMTE_NM': 'COMMITTEE_NAME'}, axis=1)\n",
    "        result['TRANSACTION_AMT'] = result['TRANSACTION_AMT'].map(lambda x: render_human_format(x))\n",
    "        display(result)"
   ]
  },
  {
   "cell_type": "code",
   "execution_count": 38,
   "metadata": {
    "_kg_hide-input": true,
    "execution": {
     "iopub.execute_input": "2020-09-02T04:54:00.524274Z",
     "iopub.status.busy": "2020-09-02T04:54:00.523085Z",
     "iopub.status.idle": "2020-09-02T04:54:00.602327Z",
     "shell.execute_reply": "2020-09-02T04:54:00.602996Z"
    },
    "papermill": {
     "duration": 0.180754,
     "end_time": "2020-09-02T04:54:00.603187",
     "exception": false,
     "start_time": "2020-09-02T04:54:00.422433",
     "status": "completed"
    },
    "tags": []
   },
   "outputs": [
    {
     "data": {
      "application/vnd.plotly.v1+json": {
       "config": {
        "linkText": "Export to plot.ly",
        "plotlyServerURL": "https://plot.ly",
        "showLink": true
       },
       "data": [
        {
         "line": {
          "color": "lightblue",
          "dash": "solid",
          "shape": "linear",
          "width": 1.3
         },
         "mode": "lines",
         "name": "Against CUNNINGHAM, CAL",
         "text": "",
         "type": "scatter",
         "x": [
          "2019-10-02",
          "2019-10-11",
          "2019-10-12",
          "2019-10-31",
          "2019-12-11",
          "2019-12-20",
          "2020-02-06",
          "2020-02-07",
          "2020-02-10",
          "2020-02-11",
          "2020-02-12",
          "2020-02-13",
          "2020-02-14",
          "2020-02-18",
          "2020-02-21",
          "2020-02-24",
          "2020-02-25",
          "2020-02-26",
          "2020-03-13",
          "2020-04-01",
          "2020-04-02",
          "2020-04-03",
          "2020-04-17",
          "2020-04-22",
          "2020-04-23",
          "2020-04-24",
          "2020-04-27",
          "2020-04-29",
          "2020-04-30",
          "2020-05-01",
          "2020-05-04",
          "2020-05-05",
          "2020-05-06",
          "2020-05-09",
          "2020-05-11",
          "2020-05-12",
          "2020-05-13",
          "2020-05-14",
          "2020-05-18",
          "2020-05-19",
          "2020-05-20",
          "2020-05-21",
          "2020-05-26",
          "2020-05-27",
          "2020-05-28",
          "2020-05-29",
          "2020-05-30"
         ],
         "y": [
          0,
          0,
          0,
          0,
          0,
          0,
          0,
          0,
          0,
          0,
          0,
          0,
          250011,
          250011,
          250011,
          250011,
          250011,
          250011,
          250011,
          250011,
          250011,
          250011,
          250011,
          250011,
          250011,
          250011,
          250011,
          250011,
          250011,
          250011,
          250011,
          250011,
          250011,
          250011,
          250011,
          250011,
          250011,
          250011,
          250011,
          250011,
          250011,
          250011,
          250011,
          250011,
          250011,
          250011,
          250011
         ]
        },
        {
         "line": {
          "color": "blue",
          "dash": "solid",
          "shape": "linear",
          "width": 1.3
         },
         "mode": "lines",
         "name": "For CUNNINGHAM, CAL",
         "text": "",
         "type": "scatter",
         "x": [
          "2019-10-02",
          "2019-10-11",
          "2019-10-12",
          "2019-10-31",
          "2019-12-11",
          "2019-12-20",
          "2020-02-06",
          "2020-02-07",
          "2020-02-10",
          "2020-02-11",
          "2020-02-12",
          "2020-02-13",
          "2020-02-14",
          "2020-02-18",
          "2020-02-21",
          "2020-02-24",
          "2020-02-25",
          "2020-02-26",
          "2020-03-13",
          "2020-04-01",
          "2020-04-02",
          "2020-04-03",
          "2020-04-17",
          "2020-04-22",
          "2020-04-23",
          "2020-04-24",
          "2020-04-27",
          "2020-04-29",
          "2020-04-30",
          "2020-05-01",
          "2020-05-04",
          "2020-05-05",
          "2020-05-06",
          "2020-05-09",
          "2020-05-11",
          "2020-05-12",
          "2020-05-13",
          "2020-05-14",
          "2020-05-18",
          "2020-05-19",
          "2020-05-20",
          "2020-05-21",
          "2020-05-26",
          "2020-05-27",
          "2020-05-28",
          "2020-05-29",
          "2020-05-30"
         ],
         "y": [
          0,
          0,
          0,
          0,
          0,
          0,
          2551906,
          3374800,
          3719847,
          3719847,
          3853437,
          3866322,
          5432981,
          8765958,
          8765958,
          8806272,
          8806272,
          8807699,
          8807709,
          8807709,
          8807709,
          8807709,
          8807709,
          8807709,
          8807709,
          8807709,
          8807709,
          8807709,
          8807709,
          8808288,
          8808288,
          8808288,
          8808288,
          8808288,
          8808288,
          8808288,
          8808288,
          8808288,
          8808288,
          8808288,
          8808288,
          8808288,
          8808288,
          8808288,
          8808288,
          8808288,
          8808288
         ]
        },
        {
         "line": {
          "color": "pink",
          "dash": "solid",
          "shape": "linear",
          "width": 1.3
         },
         "mode": "lines",
         "name": "Against TILLIS, THOM R. SEN.",
         "text": "",
         "type": "scatter",
         "x": [
          "2019-10-02",
          "2019-10-11",
          "2019-10-12",
          "2019-10-31",
          "2019-12-11",
          "2019-12-20",
          "2020-02-06",
          "2020-02-07",
          "2020-02-10",
          "2020-02-11",
          "2020-02-12",
          "2020-02-13",
          "2020-02-14",
          "2020-02-18",
          "2020-02-21",
          "2020-02-24",
          "2020-02-25",
          "2020-02-26",
          "2020-03-13",
          "2020-04-01",
          "2020-04-02",
          "2020-04-03",
          "2020-04-17",
          "2020-04-22",
          "2020-04-23",
          "2020-04-24",
          "2020-04-27",
          "2020-04-29",
          "2020-04-30",
          "2020-05-01",
          "2020-05-04",
          "2020-05-05",
          "2020-05-06",
          "2020-05-09",
          "2020-05-11",
          "2020-05-12",
          "2020-05-13",
          "2020-05-14",
          "2020-05-18",
          "2020-05-19",
          "2020-05-20",
          "2020-05-21",
          "2020-05-26",
          "2020-05-27",
          "2020-05-28",
          "2020-05-29",
          "2020-05-30"
         ],
         "y": [
          2042,
          256042,
          259014,
          260517,
          260517,
          260517,
          260517,
          260517,
          279951,
          279951,
          279951,
          279951,
          279951,
          279951,
          289796,
          289796,
          294796,
          294796,
          294796,
          294796,
          294796,
          294796,
          294796,
          294796,
          294796,
          294796,
          294796,
          294796,
          294796,
          295375,
          295375,
          295375,
          295375,
          295375,
          295375,
          295375,
          295375,
          295375,
          295375,
          295375,
          295375,
          295375,
          295375,
          295375,
          295662,
          295662,
          295662
         ]
        },
        {
         "line": {
          "color": "red",
          "dash": "solid",
          "shape": "linear",
          "width": 1.3
         },
         "mode": "lines",
         "name": "For TILLIS, THOM R. SEN.",
         "text": "",
         "type": "scatter",
         "x": [
          "2019-10-02",
          "2019-10-11",
          "2019-10-12",
          "2019-10-31",
          "2019-12-11",
          "2019-12-20",
          "2020-02-06",
          "2020-02-07",
          "2020-02-10",
          "2020-02-11",
          "2020-02-12",
          "2020-02-13",
          "2020-02-14",
          "2020-02-18",
          "2020-02-21",
          "2020-02-24",
          "2020-02-25",
          "2020-02-26",
          "2020-03-13",
          "2020-04-01",
          "2020-04-02",
          "2020-04-03",
          "2020-04-17",
          "2020-04-22",
          "2020-04-23",
          "2020-04-24",
          "2020-04-27",
          "2020-04-29",
          "2020-04-30",
          "2020-05-01",
          "2020-05-04",
          "2020-05-05",
          "2020-05-06",
          "2020-05-09",
          "2020-05-11",
          "2020-05-12",
          "2020-05-13",
          "2020-05-14",
          "2020-05-18",
          "2020-05-19",
          "2020-05-20",
          "2020-05-21",
          "2020-05-26",
          "2020-05-27",
          "2020-05-28",
          "2020-05-29",
          "2020-05-30"
         ],
         "y": [
          0,
          0,
          0,
          0,
          50000,
          53734,
          58272,
          58272,
          58272,
          61656,
          61656,
          65573,
          65573,
          65573,
          65573,
          65573,
          79898,
          79898,
          79898,
          82898,
          140731,
          151231,
          161231,
          205631,
          206631,
          303243,
          303898,
          306776,
          308945,
          696445,
          698278,
          698563,
          698619,
          698620,
          700378,
          700380,
          701793,
          701802,
          702761,
          702767,
          709659,
          709666,
          711247,
          711256,
          711260,
          757235,
          757257
         ]
        }
       ],
       "layout": {
        "legend": {
         "bgcolor": "#FFFFFF",
         "font": {
          "color": "#666666"
         }
        },
        "paper_bgcolor": "#FFFFFF",
        "plot_bgcolor": "#E5E5E5",
        "template": {
         "data": {
          "bar": [
           {
            "error_x": {
             "color": "#2a3f5f"
            },
            "error_y": {
             "color": "#2a3f5f"
            },
            "marker": {
             "line": {
              "color": "#E5ECF6",
              "width": 0.5
             },
             "pattern": {
              "fillmode": "overlay",
              "size": 10,
              "solidity": 0.2
             }
            },
            "type": "bar"
           }
          ],
          "barpolar": [
           {
            "marker": {
             "line": {
              "color": "#E5ECF6",
              "width": 0.5
             },
             "pattern": {
              "fillmode": "overlay",
              "size": 10,
              "solidity": 0.2
             }
            },
            "type": "barpolar"
           }
          ],
          "carpet": [
           {
            "aaxis": {
             "endlinecolor": "#2a3f5f",
             "gridcolor": "white",
             "linecolor": "white",
             "minorgridcolor": "white",
             "startlinecolor": "#2a3f5f"
            },
            "baxis": {
             "endlinecolor": "#2a3f5f",
             "gridcolor": "white",
             "linecolor": "white",
             "minorgridcolor": "white",
             "startlinecolor": "#2a3f5f"
            },
            "type": "carpet"
           }
          ],
          "choropleth": [
           {
            "colorbar": {
             "outlinewidth": 0,
             "ticks": ""
            },
            "type": "choropleth"
           }
          ],
          "contour": [
           {
            "colorbar": {
             "outlinewidth": 0,
             "ticks": ""
            },
            "colorscale": [
             [
              0,
              "#0d0887"
             ],
             [
              0.1111111111111111,
              "#46039f"
             ],
             [
              0.2222222222222222,
              "#7201a8"
             ],
             [
              0.3333333333333333,
              "#9c179e"
             ],
             [
              0.4444444444444444,
              "#bd3786"
             ],
             [
              0.5555555555555556,
              "#d8576b"
             ],
             [
              0.6666666666666666,
              "#ed7953"
             ],
             [
              0.7777777777777778,
              "#fb9f3a"
             ],
             [
              0.8888888888888888,
              "#fdca26"
             ],
             [
              1,
              "#f0f921"
             ]
            ],
            "type": "contour"
           }
          ],
          "contourcarpet": [
           {
            "colorbar": {
             "outlinewidth": 0,
             "ticks": ""
            },
            "type": "contourcarpet"
           }
          ],
          "heatmap": [
           {
            "colorbar": {
             "outlinewidth": 0,
             "ticks": ""
            },
            "colorscale": [
             [
              0,
              "#0d0887"
             ],
             [
              0.1111111111111111,
              "#46039f"
             ],
             [
              0.2222222222222222,
              "#7201a8"
             ],
             [
              0.3333333333333333,
              "#9c179e"
             ],
             [
              0.4444444444444444,
              "#bd3786"
             ],
             [
              0.5555555555555556,
              "#d8576b"
             ],
             [
              0.6666666666666666,
              "#ed7953"
             ],
             [
              0.7777777777777778,
              "#fb9f3a"
             ],
             [
              0.8888888888888888,
              "#fdca26"
             ],
             [
              1,
              "#f0f921"
             ]
            ],
            "type": "heatmap"
           }
          ],
          "heatmapgl": [
           {
            "colorbar": {
             "outlinewidth": 0,
             "ticks": ""
            },
            "colorscale": [
             [
              0,
              "#0d0887"
             ],
             [
              0.1111111111111111,
              "#46039f"
             ],
             [
              0.2222222222222222,
              "#7201a8"
             ],
             [
              0.3333333333333333,
              "#9c179e"
             ],
             [
              0.4444444444444444,
              "#bd3786"
             ],
             [
              0.5555555555555556,
              "#d8576b"
             ],
             [
              0.6666666666666666,
              "#ed7953"
             ],
             [
              0.7777777777777778,
              "#fb9f3a"
             ],
             [
              0.8888888888888888,
              "#fdca26"
             ],
             [
              1,
              "#f0f921"
             ]
            ],
            "type": "heatmapgl"
           }
          ],
          "histogram": [
           {
            "marker": {
             "pattern": {
              "fillmode": "overlay",
              "size": 10,
              "solidity": 0.2
             }
            },
            "type": "histogram"
           }
          ],
          "histogram2d": [
           {
            "colorbar": {
             "outlinewidth": 0,
             "ticks": ""
            },
            "colorscale": [
             [
              0,
              "#0d0887"
             ],
             [
              0.1111111111111111,
              "#46039f"
             ],
             [
              0.2222222222222222,
              "#7201a8"
             ],
             [
              0.3333333333333333,
              "#9c179e"
             ],
             [
              0.4444444444444444,
              "#bd3786"
             ],
             [
              0.5555555555555556,
              "#d8576b"
             ],
             [
              0.6666666666666666,
              "#ed7953"
             ],
             [
              0.7777777777777778,
              "#fb9f3a"
             ],
             [
              0.8888888888888888,
              "#fdca26"
             ],
             [
              1,
              "#f0f921"
             ]
            ],
            "type": "histogram2d"
           }
          ],
          "histogram2dcontour": [
           {
            "colorbar": {
             "outlinewidth": 0,
             "ticks": ""
            },
            "colorscale": [
             [
              0,
              "#0d0887"
             ],
             [
              0.1111111111111111,
              "#46039f"
             ],
             [
              0.2222222222222222,
              "#7201a8"
             ],
             [
              0.3333333333333333,
              "#9c179e"
             ],
             [
              0.4444444444444444,
              "#bd3786"
             ],
             [
              0.5555555555555556,
              "#d8576b"
             ],
             [
              0.6666666666666666,
              "#ed7953"
             ],
             [
              0.7777777777777778,
              "#fb9f3a"
             ],
             [
              0.8888888888888888,
              "#fdca26"
             ],
             [
              1,
              "#f0f921"
             ]
            ],
            "type": "histogram2dcontour"
           }
          ],
          "mesh3d": [
           {
            "colorbar": {
             "outlinewidth": 0,
             "ticks": ""
            },
            "type": "mesh3d"
           }
          ],
          "parcoords": [
           {
            "line": {
             "colorbar": {
              "outlinewidth": 0,
              "ticks": ""
             }
            },
            "type": "parcoords"
           }
          ],
          "pie": [
           {
            "automargin": true,
            "type": "pie"
           }
          ],
          "scatter": [
           {
            "fillpattern": {
             "fillmode": "overlay",
             "size": 10,
             "solidity": 0.2
            },
            "type": "scatter"
           }
          ],
          "scatter3d": [
           {
            "line": {
             "colorbar": {
              "outlinewidth": 0,
              "ticks": ""
             }
            },
            "marker": {
             "colorbar": {
              "outlinewidth": 0,
              "ticks": ""
             }
            },
            "type": "scatter3d"
           }
          ],
          "scattercarpet": [
           {
            "marker": {
             "colorbar": {
              "outlinewidth": 0,
              "ticks": ""
             }
            },
            "type": "scattercarpet"
           }
          ],
          "scattergeo": [
           {
            "marker": {
             "colorbar": {
              "outlinewidth": 0,
              "ticks": ""
             }
            },
            "type": "scattergeo"
           }
          ],
          "scattergl": [
           {
            "marker": {
             "colorbar": {
              "outlinewidth": 0,
              "ticks": ""
             }
            },
            "type": "scattergl"
           }
          ],
          "scattermapbox": [
           {
            "marker": {
             "colorbar": {
              "outlinewidth": 0,
              "ticks": ""
             }
            },
            "type": "scattermapbox"
           }
          ],
          "scatterpolar": [
           {
            "marker": {
             "colorbar": {
              "outlinewidth": 0,
              "ticks": ""
             }
            },
            "type": "scatterpolar"
           }
          ],
          "scatterpolargl": [
           {
            "marker": {
             "colorbar": {
              "outlinewidth": 0,
              "ticks": ""
             }
            },
            "type": "scatterpolargl"
           }
          ],
          "scatterternary": [
           {
            "marker": {
             "colorbar": {
              "outlinewidth": 0,
              "ticks": ""
             }
            },
            "type": "scatterternary"
           }
          ],
          "surface": [
           {
            "colorbar": {
             "outlinewidth": 0,
             "ticks": ""
            },
            "colorscale": [
             [
              0,
              "#0d0887"
             ],
             [
              0.1111111111111111,
              "#46039f"
             ],
             [
              0.2222222222222222,
              "#7201a8"
             ],
             [
              0.3333333333333333,
              "#9c179e"
             ],
             [
              0.4444444444444444,
              "#bd3786"
             ],
             [
              0.5555555555555556,
              "#d8576b"
             ],
             [
              0.6666666666666666,
              "#ed7953"
             ],
             [
              0.7777777777777778,
              "#fb9f3a"
             ],
             [
              0.8888888888888888,
              "#fdca26"
             ],
             [
              1,
              "#f0f921"
             ]
            ],
            "type": "surface"
           }
          ],
          "table": [
           {
            "cells": {
             "fill": {
              "color": "#EBF0F8"
             },
             "line": {
              "color": "white"
             }
            },
            "header": {
             "fill": {
              "color": "#C8D4E3"
             },
             "line": {
              "color": "white"
             }
            },
            "type": "table"
           }
          ]
         },
         "layout": {
          "annotationdefaults": {
           "arrowcolor": "#2a3f5f",
           "arrowhead": 0,
           "arrowwidth": 1
          },
          "autotypenumbers": "strict",
          "coloraxis": {
           "colorbar": {
            "outlinewidth": 0,
            "ticks": ""
           }
          },
          "colorscale": {
           "diverging": [
            [
             0,
             "#8e0152"
            ],
            [
             0.1,
             "#c51b7d"
            ],
            [
             0.2,
             "#de77ae"
            ],
            [
             0.3,
             "#f1b6da"
            ],
            [
             0.4,
             "#fde0ef"
            ],
            [
             0.5,
             "#f7f7f7"
            ],
            [
             0.6,
             "#e6f5d0"
            ],
            [
             0.7,
             "#b8e186"
            ],
            [
             0.8,
             "#7fbc41"
            ],
            [
             0.9,
             "#4d9221"
            ],
            [
             1,
             "#276419"
            ]
           ],
           "sequential": [
            [
             0,
             "#0d0887"
            ],
            [
             0.1111111111111111,
             "#46039f"
            ],
            [
             0.2222222222222222,
             "#7201a8"
            ],
            [
             0.3333333333333333,
             "#9c179e"
            ],
            [
             0.4444444444444444,
             "#bd3786"
            ],
            [
             0.5555555555555556,
             "#d8576b"
            ],
            [
             0.6666666666666666,
             "#ed7953"
            ],
            [
             0.7777777777777778,
             "#fb9f3a"
            ],
            [
             0.8888888888888888,
             "#fdca26"
            ],
            [
             1,
             "#f0f921"
            ]
           ],
           "sequentialminus": [
            [
             0,
             "#0d0887"
            ],
            [
             0.1111111111111111,
             "#46039f"
            ],
            [
             0.2222222222222222,
             "#7201a8"
            ],
            [
             0.3333333333333333,
             "#9c179e"
            ],
            [
             0.4444444444444444,
             "#bd3786"
            ],
            [
             0.5555555555555556,
             "#d8576b"
            ],
            [
             0.6666666666666666,
             "#ed7953"
            ],
            [
             0.7777777777777778,
             "#fb9f3a"
            ],
            [
             0.8888888888888888,
             "#fdca26"
            ],
            [
             1,
             "#f0f921"
            ]
           ]
          },
          "colorway": [
           "#636efa",
           "#EF553B",
           "#00cc96",
           "#ab63fa",
           "#FFA15A",
           "#19d3f3",
           "#FF6692",
           "#B6E880",
           "#FF97FF",
           "#FECB52"
          ],
          "font": {
           "color": "#2a3f5f"
          },
          "geo": {
           "bgcolor": "white",
           "lakecolor": "white",
           "landcolor": "#E5ECF6",
           "showlakes": true,
           "showland": true,
           "subunitcolor": "white"
          },
          "hoverlabel": {
           "align": "left"
          },
          "hovermode": "closest",
          "mapbox": {
           "style": "light"
          },
          "paper_bgcolor": "white",
          "plot_bgcolor": "#E5ECF6",
          "polar": {
           "angularaxis": {
            "gridcolor": "white",
            "linecolor": "white",
            "ticks": ""
           },
           "bgcolor": "#E5ECF6",
           "radialaxis": {
            "gridcolor": "white",
            "linecolor": "white",
            "ticks": ""
           }
          },
          "scene": {
           "xaxis": {
            "backgroundcolor": "#E5ECF6",
            "gridcolor": "white",
            "gridwidth": 2,
            "linecolor": "white",
            "showbackground": true,
            "ticks": "",
            "zerolinecolor": "white"
           },
           "yaxis": {
            "backgroundcolor": "#E5ECF6",
            "gridcolor": "white",
            "gridwidth": 2,
            "linecolor": "white",
            "showbackground": true,
            "ticks": "",
            "zerolinecolor": "white"
           },
           "zaxis": {
            "backgroundcolor": "#E5ECF6",
            "gridcolor": "white",
            "gridwidth": 2,
            "linecolor": "white",
            "showbackground": true,
            "ticks": "",
            "zerolinecolor": "white"
           }
          },
          "shapedefaults": {
           "line": {
            "color": "#2a3f5f"
           }
          },
          "ternary": {
           "aaxis": {
            "gridcolor": "white",
            "linecolor": "white",
            "ticks": ""
           },
           "baxis": {
            "gridcolor": "white",
            "linecolor": "white",
            "ticks": ""
           },
           "bgcolor": "#E5ECF6",
           "caxis": {
            "gridcolor": "white",
            "linecolor": "white",
            "ticks": ""
           }
          },
          "title": {
           "x": 0.05
          },
          "xaxis": {
           "automargin": true,
           "gridcolor": "white",
           "linecolor": "white",
           "ticks": "",
           "title": {
            "standoff": 15
           },
           "zerolinecolor": "white",
           "zerolinewidth": 2
          },
          "yaxis": {
           "automargin": true,
           "gridcolor": "white",
           "linecolor": "white",
           "ticks": "",
           "title": {
            "standoff": 15
           },
           "zerolinecolor": "white",
           "zerolinewidth": 2
          }
         }
        },
        "title": {
         "font": {
          "color": "#151516"
         },
         "text": "Total cumulative Expenditures for or against candidates over time"
        },
        "xaxis": {
         "gridcolor": "#F6F6F6",
         "showgrid": true,
         "tickfont": {
          "color": "#666666"
         },
         "title": {
          "font": {
           "color": "#666666"
          },
          "text": ""
         },
         "zerolinecolor": "#F6F6F6"
        },
        "yaxis": {
         "gridcolor": "#F6F6F6",
         "showgrid": true,
         "tickfont": {
          "color": "#666666"
         },
         "title": {
          "font": {
           "color": "#666666"
          },
          "text": ""
         },
         "zerolinecolor": "#F6F6F6"
        }
       }
      },
      "text/html": [
       "<div>                            <div id=\"f3d55b4c-7c8e-4fcd-b96e-acb0877fed29\" class=\"plotly-graph-div\" style=\"height:525px; width:100%;\"></div>            <script type=\"text/javascript\">                require([\"plotly\"], function(Plotly) {                    window.PLOTLYENV=window.PLOTLYENV || {};\n",
       "                    window.PLOTLYENV.BASE_URL='https://plot.ly';                                    if (document.getElementById(\"f3d55b4c-7c8e-4fcd-b96e-acb0877fed29\")) {                    Plotly.newPlot(                        \"f3d55b4c-7c8e-4fcd-b96e-acb0877fed29\",                        [{\"line\":{\"color\":\"lightblue\",\"dash\":\"solid\",\"shape\":\"linear\",\"width\":1.3},\"mode\":\"lines\",\"name\":\"Against CUNNINGHAM, CAL\",\"text\":\"\",\"x\":[\"2019-10-02\",\"2019-10-11\",\"2019-10-12\",\"2019-10-31\",\"2019-12-11\",\"2019-12-20\",\"2020-02-06\",\"2020-02-07\",\"2020-02-10\",\"2020-02-11\",\"2020-02-12\",\"2020-02-13\",\"2020-02-14\",\"2020-02-18\",\"2020-02-21\",\"2020-02-24\",\"2020-02-25\",\"2020-02-26\",\"2020-03-13\",\"2020-04-01\",\"2020-04-02\",\"2020-04-03\",\"2020-04-17\",\"2020-04-22\",\"2020-04-23\",\"2020-04-24\",\"2020-04-27\",\"2020-04-29\",\"2020-04-30\",\"2020-05-01\",\"2020-05-04\",\"2020-05-05\",\"2020-05-06\",\"2020-05-09\",\"2020-05-11\",\"2020-05-12\",\"2020-05-13\",\"2020-05-14\",\"2020-05-18\",\"2020-05-19\",\"2020-05-20\",\"2020-05-21\",\"2020-05-26\",\"2020-05-27\",\"2020-05-28\",\"2020-05-29\",\"2020-05-30\"],\"y\":[0,0,0,0,0,0,0,0,0,0,0,0,250011,250011,250011,250011,250011,250011,250011,250011,250011,250011,250011,250011,250011,250011,250011,250011,250011,250011,250011,250011,250011,250011,250011,250011,250011,250011,250011,250011,250011,250011,250011,250011,250011,250011,250011],\"type\":\"scatter\"},{\"line\":{\"color\":\"blue\",\"dash\":\"solid\",\"shape\":\"linear\",\"width\":1.3},\"mode\":\"lines\",\"name\":\"For CUNNINGHAM, CAL\",\"text\":\"\",\"x\":[\"2019-10-02\",\"2019-10-11\",\"2019-10-12\",\"2019-10-31\",\"2019-12-11\",\"2019-12-20\",\"2020-02-06\",\"2020-02-07\",\"2020-02-10\",\"2020-02-11\",\"2020-02-12\",\"2020-02-13\",\"2020-02-14\",\"2020-02-18\",\"2020-02-21\",\"2020-02-24\",\"2020-02-25\",\"2020-02-26\",\"2020-03-13\",\"2020-04-01\",\"2020-04-02\",\"2020-04-03\",\"2020-04-17\",\"2020-04-22\",\"2020-04-23\",\"2020-04-24\",\"2020-04-27\",\"2020-04-29\",\"2020-04-30\",\"2020-05-01\",\"2020-05-04\",\"2020-05-05\",\"2020-05-06\",\"2020-05-09\",\"2020-05-11\",\"2020-05-12\",\"2020-05-13\",\"2020-05-14\",\"2020-05-18\",\"2020-05-19\",\"2020-05-20\",\"2020-05-21\",\"2020-05-26\",\"2020-05-27\",\"2020-05-28\",\"2020-05-29\",\"2020-05-30\"],\"y\":[0,0,0,0,0,0,2551906,3374800,3719847,3719847,3853437,3866322,5432981,8765958,8765958,8806272,8806272,8807699,8807709,8807709,8807709,8807709,8807709,8807709,8807709,8807709,8807709,8807709,8807709,8808288,8808288,8808288,8808288,8808288,8808288,8808288,8808288,8808288,8808288,8808288,8808288,8808288,8808288,8808288,8808288,8808288,8808288],\"type\":\"scatter\"},{\"line\":{\"color\":\"pink\",\"dash\":\"solid\",\"shape\":\"linear\",\"width\":1.3},\"mode\":\"lines\",\"name\":\"Against TILLIS, THOM R. SEN.\",\"text\":\"\",\"x\":[\"2019-10-02\",\"2019-10-11\",\"2019-10-12\",\"2019-10-31\",\"2019-12-11\",\"2019-12-20\",\"2020-02-06\",\"2020-02-07\",\"2020-02-10\",\"2020-02-11\",\"2020-02-12\",\"2020-02-13\",\"2020-02-14\",\"2020-02-18\",\"2020-02-21\",\"2020-02-24\",\"2020-02-25\",\"2020-02-26\",\"2020-03-13\",\"2020-04-01\",\"2020-04-02\",\"2020-04-03\",\"2020-04-17\",\"2020-04-22\",\"2020-04-23\",\"2020-04-24\",\"2020-04-27\",\"2020-04-29\",\"2020-04-30\",\"2020-05-01\",\"2020-05-04\",\"2020-05-05\",\"2020-05-06\",\"2020-05-09\",\"2020-05-11\",\"2020-05-12\",\"2020-05-13\",\"2020-05-14\",\"2020-05-18\",\"2020-05-19\",\"2020-05-20\",\"2020-05-21\",\"2020-05-26\",\"2020-05-27\",\"2020-05-28\",\"2020-05-29\",\"2020-05-30\"],\"y\":[2042,256042,259014,260517,260517,260517,260517,260517,279951,279951,279951,279951,279951,279951,289796,289796,294796,294796,294796,294796,294796,294796,294796,294796,294796,294796,294796,294796,294796,295375,295375,295375,295375,295375,295375,295375,295375,295375,295375,295375,295375,295375,295375,295375,295662,295662,295662],\"type\":\"scatter\"},{\"line\":{\"color\":\"red\",\"dash\":\"solid\",\"shape\":\"linear\",\"width\":1.3},\"mode\":\"lines\",\"name\":\"For TILLIS, THOM R. SEN.\",\"text\":\"\",\"x\":[\"2019-10-02\",\"2019-10-11\",\"2019-10-12\",\"2019-10-31\",\"2019-12-11\",\"2019-12-20\",\"2020-02-06\",\"2020-02-07\",\"2020-02-10\",\"2020-02-11\",\"2020-02-12\",\"2020-02-13\",\"2020-02-14\",\"2020-02-18\",\"2020-02-21\",\"2020-02-24\",\"2020-02-25\",\"2020-02-26\",\"2020-03-13\",\"2020-04-01\",\"2020-04-02\",\"2020-04-03\",\"2020-04-17\",\"2020-04-22\",\"2020-04-23\",\"2020-04-24\",\"2020-04-27\",\"2020-04-29\",\"2020-04-30\",\"2020-05-01\",\"2020-05-04\",\"2020-05-05\",\"2020-05-06\",\"2020-05-09\",\"2020-05-11\",\"2020-05-12\",\"2020-05-13\",\"2020-05-14\",\"2020-05-18\",\"2020-05-19\",\"2020-05-20\",\"2020-05-21\",\"2020-05-26\",\"2020-05-27\",\"2020-05-28\",\"2020-05-29\",\"2020-05-30\"],\"y\":[0,0,0,0,50000,53734,58272,58272,58272,61656,61656,65573,65573,65573,65573,65573,79898,79898,79898,82898,140731,151231,161231,205631,206631,303243,303898,306776,308945,696445,698278,698563,698619,698620,700378,700380,701793,701802,702761,702767,709659,709666,711247,711256,711260,757235,757257],\"type\":\"scatter\"}],                        {\"legend\":{\"bgcolor\":\"#FFFFFF\",\"font\":{\"color\":\"#666666\"}},\"paper_bgcolor\":\"#FFFFFF\",\"plot_bgcolor\":\"#E5E5E5\",\"template\":{\"data\":{\"barpolar\":[{\"marker\":{\"line\":{\"color\":\"#E5ECF6\",\"width\":0.5},\"pattern\":{\"fillmode\":\"overlay\",\"size\":10,\"solidity\":0.2}},\"type\":\"barpolar\"}],\"bar\":[{\"error_x\":{\"color\":\"#2a3f5f\"},\"error_y\":{\"color\":\"#2a3f5f\"},\"marker\":{\"line\":{\"color\":\"#E5ECF6\",\"width\":0.5},\"pattern\":{\"fillmode\":\"overlay\",\"size\":10,\"solidity\":0.2}},\"type\":\"bar\"}],\"carpet\":[{\"aaxis\":{\"endlinecolor\":\"#2a3f5f\",\"gridcolor\":\"white\",\"linecolor\":\"white\",\"minorgridcolor\":\"white\",\"startlinecolor\":\"#2a3f5f\"},\"baxis\":{\"endlinecolor\":\"#2a3f5f\",\"gridcolor\":\"white\",\"linecolor\":\"white\",\"minorgridcolor\":\"white\",\"startlinecolor\":\"#2a3f5f\"},\"type\":\"carpet\"}],\"choropleth\":[{\"colorbar\":{\"outlinewidth\":0,\"ticks\":\"\"},\"type\":\"choropleth\"}],\"contourcarpet\":[{\"colorbar\":{\"outlinewidth\":0,\"ticks\":\"\"},\"type\":\"contourcarpet\"}],\"contour\":[{\"colorbar\":{\"outlinewidth\":0,\"ticks\":\"\"},\"colorscale\":[[0.0,\"#0d0887\"],[0.1111111111111111,\"#46039f\"],[0.2222222222222222,\"#7201a8\"],[0.3333333333333333,\"#9c179e\"],[0.4444444444444444,\"#bd3786\"],[0.5555555555555556,\"#d8576b\"],[0.6666666666666666,\"#ed7953\"],[0.7777777777777778,\"#fb9f3a\"],[0.8888888888888888,\"#fdca26\"],[1.0,\"#f0f921\"]],\"type\":\"contour\"}],\"heatmapgl\":[{\"colorbar\":{\"outlinewidth\":0,\"ticks\":\"\"},\"colorscale\":[[0.0,\"#0d0887\"],[0.1111111111111111,\"#46039f\"],[0.2222222222222222,\"#7201a8\"],[0.3333333333333333,\"#9c179e\"],[0.4444444444444444,\"#bd3786\"],[0.5555555555555556,\"#d8576b\"],[0.6666666666666666,\"#ed7953\"],[0.7777777777777778,\"#fb9f3a\"],[0.8888888888888888,\"#fdca26\"],[1.0,\"#f0f921\"]],\"type\":\"heatmapgl\"}],\"heatmap\":[{\"colorbar\":{\"outlinewidth\":0,\"ticks\":\"\"},\"colorscale\":[[0.0,\"#0d0887\"],[0.1111111111111111,\"#46039f\"],[0.2222222222222222,\"#7201a8\"],[0.3333333333333333,\"#9c179e\"],[0.4444444444444444,\"#bd3786\"],[0.5555555555555556,\"#d8576b\"],[0.6666666666666666,\"#ed7953\"],[0.7777777777777778,\"#fb9f3a\"],[0.8888888888888888,\"#fdca26\"],[1.0,\"#f0f921\"]],\"type\":\"heatmap\"}],\"histogram2dcontour\":[{\"colorbar\":{\"outlinewidth\":0,\"ticks\":\"\"},\"colorscale\":[[0.0,\"#0d0887\"],[0.1111111111111111,\"#46039f\"],[0.2222222222222222,\"#7201a8\"],[0.3333333333333333,\"#9c179e\"],[0.4444444444444444,\"#bd3786\"],[0.5555555555555556,\"#d8576b\"],[0.6666666666666666,\"#ed7953\"],[0.7777777777777778,\"#fb9f3a\"],[0.8888888888888888,\"#fdca26\"],[1.0,\"#f0f921\"]],\"type\":\"histogram2dcontour\"}],\"histogram2d\":[{\"colorbar\":{\"outlinewidth\":0,\"ticks\":\"\"},\"colorscale\":[[0.0,\"#0d0887\"],[0.1111111111111111,\"#46039f\"],[0.2222222222222222,\"#7201a8\"],[0.3333333333333333,\"#9c179e\"],[0.4444444444444444,\"#bd3786\"],[0.5555555555555556,\"#d8576b\"],[0.6666666666666666,\"#ed7953\"],[0.7777777777777778,\"#fb9f3a\"],[0.8888888888888888,\"#fdca26\"],[1.0,\"#f0f921\"]],\"type\":\"histogram2d\"}],\"histogram\":[{\"marker\":{\"pattern\":{\"fillmode\":\"overlay\",\"size\":10,\"solidity\":0.2}},\"type\":\"histogram\"}],\"mesh3d\":[{\"colorbar\":{\"outlinewidth\":0,\"ticks\":\"\"},\"type\":\"mesh3d\"}],\"parcoords\":[{\"line\":{\"colorbar\":{\"outlinewidth\":0,\"ticks\":\"\"}},\"type\":\"parcoords\"}],\"pie\":[{\"automargin\":true,\"type\":\"pie\"}],\"scatter3d\":[{\"line\":{\"colorbar\":{\"outlinewidth\":0,\"ticks\":\"\"}},\"marker\":{\"colorbar\":{\"outlinewidth\":0,\"ticks\":\"\"}},\"type\":\"scatter3d\"}],\"scattercarpet\":[{\"marker\":{\"colorbar\":{\"outlinewidth\":0,\"ticks\":\"\"}},\"type\":\"scattercarpet\"}],\"scattergeo\":[{\"marker\":{\"colorbar\":{\"outlinewidth\":0,\"ticks\":\"\"}},\"type\":\"scattergeo\"}],\"scattergl\":[{\"marker\":{\"colorbar\":{\"outlinewidth\":0,\"ticks\":\"\"}},\"type\":\"scattergl\"}],\"scattermapbox\":[{\"marker\":{\"colorbar\":{\"outlinewidth\":0,\"ticks\":\"\"}},\"type\":\"scattermapbox\"}],\"scatterpolargl\":[{\"marker\":{\"colorbar\":{\"outlinewidth\":0,\"ticks\":\"\"}},\"type\":\"scatterpolargl\"}],\"scatterpolar\":[{\"marker\":{\"colorbar\":{\"outlinewidth\":0,\"ticks\":\"\"}},\"type\":\"scatterpolar\"}],\"scatter\":[{\"fillpattern\":{\"fillmode\":\"overlay\",\"size\":10,\"solidity\":0.2},\"type\":\"scatter\"}],\"scatterternary\":[{\"marker\":{\"colorbar\":{\"outlinewidth\":0,\"ticks\":\"\"}},\"type\":\"scatterternary\"}],\"surface\":[{\"colorbar\":{\"outlinewidth\":0,\"ticks\":\"\"},\"colorscale\":[[0.0,\"#0d0887\"],[0.1111111111111111,\"#46039f\"],[0.2222222222222222,\"#7201a8\"],[0.3333333333333333,\"#9c179e\"],[0.4444444444444444,\"#bd3786\"],[0.5555555555555556,\"#d8576b\"],[0.6666666666666666,\"#ed7953\"],[0.7777777777777778,\"#fb9f3a\"],[0.8888888888888888,\"#fdca26\"],[1.0,\"#f0f921\"]],\"type\":\"surface\"}],\"table\":[{\"cells\":{\"fill\":{\"color\":\"#EBF0F8\"},\"line\":{\"color\":\"white\"}},\"header\":{\"fill\":{\"color\":\"#C8D4E3\"},\"line\":{\"color\":\"white\"}},\"type\":\"table\"}]},\"layout\":{\"annotationdefaults\":{\"arrowcolor\":\"#2a3f5f\",\"arrowhead\":0,\"arrowwidth\":1},\"autotypenumbers\":\"strict\",\"coloraxis\":{\"colorbar\":{\"outlinewidth\":0,\"ticks\":\"\"}},\"colorscale\":{\"diverging\":[[0,\"#8e0152\"],[0.1,\"#c51b7d\"],[0.2,\"#de77ae\"],[0.3,\"#f1b6da\"],[0.4,\"#fde0ef\"],[0.5,\"#f7f7f7\"],[0.6,\"#e6f5d0\"],[0.7,\"#b8e186\"],[0.8,\"#7fbc41\"],[0.9,\"#4d9221\"],[1,\"#276419\"]],\"sequential\":[[0.0,\"#0d0887\"],[0.1111111111111111,\"#46039f\"],[0.2222222222222222,\"#7201a8\"],[0.3333333333333333,\"#9c179e\"],[0.4444444444444444,\"#bd3786\"],[0.5555555555555556,\"#d8576b\"],[0.6666666666666666,\"#ed7953\"],[0.7777777777777778,\"#fb9f3a\"],[0.8888888888888888,\"#fdca26\"],[1.0,\"#f0f921\"]],\"sequentialminus\":[[0.0,\"#0d0887\"],[0.1111111111111111,\"#46039f\"],[0.2222222222222222,\"#7201a8\"],[0.3333333333333333,\"#9c179e\"],[0.4444444444444444,\"#bd3786\"],[0.5555555555555556,\"#d8576b\"],[0.6666666666666666,\"#ed7953\"],[0.7777777777777778,\"#fb9f3a\"],[0.8888888888888888,\"#fdca26\"],[1.0,\"#f0f921\"]]},\"colorway\":[\"#636efa\",\"#EF553B\",\"#00cc96\",\"#ab63fa\",\"#FFA15A\",\"#19d3f3\",\"#FF6692\",\"#B6E880\",\"#FF97FF\",\"#FECB52\"],\"font\":{\"color\":\"#2a3f5f\"},\"geo\":{\"bgcolor\":\"white\",\"lakecolor\":\"white\",\"landcolor\":\"#E5ECF6\",\"showlakes\":true,\"showland\":true,\"subunitcolor\":\"white\"},\"hoverlabel\":{\"align\":\"left\"},\"hovermode\":\"closest\",\"mapbox\":{\"style\":\"light\"},\"paper_bgcolor\":\"white\",\"plot_bgcolor\":\"#E5ECF6\",\"polar\":{\"angularaxis\":{\"gridcolor\":\"white\",\"linecolor\":\"white\",\"ticks\":\"\"},\"bgcolor\":\"#E5ECF6\",\"radialaxis\":{\"gridcolor\":\"white\",\"linecolor\":\"white\",\"ticks\":\"\"}},\"scene\":{\"xaxis\":{\"backgroundcolor\":\"#E5ECF6\",\"gridcolor\":\"white\",\"gridwidth\":2,\"linecolor\":\"white\",\"showbackground\":true,\"ticks\":\"\",\"zerolinecolor\":\"white\"},\"yaxis\":{\"backgroundcolor\":\"#E5ECF6\",\"gridcolor\":\"white\",\"gridwidth\":2,\"linecolor\":\"white\",\"showbackground\":true,\"ticks\":\"\",\"zerolinecolor\":\"white\"},\"zaxis\":{\"backgroundcolor\":\"#E5ECF6\",\"gridcolor\":\"white\",\"gridwidth\":2,\"linecolor\":\"white\",\"showbackground\":true,\"ticks\":\"\",\"zerolinecolor\":\"white\"}},\"shapedefaults\":{\"line\":{\"color\":\"#2a3f5f\"}},\"ternary\":{\"aaxis\":{\"gridcolor\":\"white\",\"linecolor\":\"white\",\"ticks\":\"\"},\"baxis\":{\"gridcolor\":\"white\",\"linecolor\":\"white\",\"ticks\":\"\"},\"bgcolor\":\"#E5ECF6\",\"caxis\":{\"gridcolor\":\"white\",\"linecolor\":\"white\",\"ticks\":\"\"}},\"title\":{\"x\":0.05},\"xaxis\":{\"automargin\":true,\"gridcolor\":\"white\",\"linecolor\":\"white\",\"ticks\":\"\",\"title\":{\"standoff\":15},\"zerolinecolor\":\"white\",\"zerolinewidth\":2},\"yaxis\":{\"automargin\":true,\"gridcolor\":\"white\",\"linecolor\":\"white\",\"ticks\":\"\",\"title\":{\"standoff\":15},\"zerolinecolor\":\"white\",\"zerolinewidth\":2}}},\"title\":{\"font\":{\"color\":\"#151516\"},\"text\":\"Total cumulative Expenditures for or against candidates over time\"},\"xaxis\":{\"gridcolor\":\"#F6F6F6\",\"showgrid\":true,\"tickfont\":{\"color\":\"#666666\"},\"title\":{\"font\":{\"color\":\"#666666\"},\"text\":\"\"},\"zerolinecolor\":\"#F6F6F6\"},\"yaxis\":{\"gridcolor\":\"#F6F6F6\",\"showgrid\":true,\"tickfont\":{\"color\":\"#666666\"},\"title\":{\"font\":{\"color\":\"#666666\"},\"text\":\"\"},\"zerolinecolor\":\"#F6F6F6\"}},                        {\"showLink\": true, \"linkText\": \"Export to plot.ly\", \"plotlyServerURL\": \"https://plot.ly\", \"responsive\": true}                    ).then(function(){\n",
       "                            \n",
       "var gd = document.getElementById('f3d55b4c-7c8e-4fcd-b96e-acb0877fed29');\n",
       "var x = new MutationObserver(function (mutations, observer) {{\n",
       "        var display = window.getComputedStyle(gd).display;\n",
       "        if (!display || display === 'none') {{\n",
       "            console.log([gd, 'removed!']);\n",
       "            Plotly.purge(gd);\n",
       "            observer.disconnect();\n",
       "        }}\n",
       "}});\n",
       "\n",
       "// Listen for the removal of the full notebook cells\n",
       "var notebookContainer = gd.closest('#notebook-container');\n",
       "if (notebookContainer) {{\n",
       "    x.observe(notebookContainer, {childList: true});\n",
       "}}\n",
       "\n",
       "// Listen for the clearing of the current output cell\n",
       "var outputEl = gd.closest('.output');\n",
       "if (outputEl) {{\n",
       "    x.observe(outputEl, {childList: true});\n",
       "}}\n",
       "\n",
       "                        })                };                });            </script>        </div>"
      ]
     },
     "metadata": {},
     "output_type": "display_data"
    }
   ],
   "source": [
    "exp_by_dt = expenditures.groupby(['TRANSACTION_DT', 'CAND_NAME', 'for_against']).agg({'TRANSACTION_AMT': 'sum'}).reset_index()\n",
    "exp_by_dt = exp_by_dt.pivot_table(index='TRANSACTION_DT', columns=['CAND_NAME', 'for_against'], fill_value=0.0).droplevel(level=0, axis=1)\n",
    "exp_by_dt.columns = exp_by_dt.columns.map(lambda x: x[1] + \" \" + x[0])\n",
    "exp_by_dt.cumsum().iplot(title='Total cumulative Expenditures for or against candidates over time', colors=secondary_color_map)"
   ]
  },
  {
   "cell_type": "markdown",
   "metadata": {
    "papermill": {
     "duration": 0.081777,
     "end_time": "2020-09-02T04:54:00.931055",
     "exception": false,
     "start_time": "2020-09-02T04:54:00.849278",
     "status": "completed"
    },
    "tags": []
   },
   "source": [
    "## Contributions from individuals"
   ]
  },
  {
   "cell_type": "code",
   "execution_count": 39,
   "metadata": {
    "_kg_hide-input": true,
    "_kg_hide-output": true,
    "execution": {
     "iopub.execute_input": "2020-09-02T04:54:01.108653Z",
     "iopub.status.busy": "2020-09-02T04:54:01.107492Z",
     "iopub.status.idle": "2020-09-02T04:54:01.198670Z",
     "shell.execute_reply": "2020-09-02T04:54:01.197851Z"
    },
    "papermill": {
     "duration": 0.185561,
     "end_time": "2020-09-02T04:54:01.198819",
     "exception": false,
     "start_time": "2020-09-02T04:54:01.013258",
     "status": "completed"
    },
    "tags": []
   },
   "outputs": [
    {
     "data": {
      "text/html": [
       "<div>\n",
       "<style scoped>\n",
       "    .dataframe tbody tr th:only-of-type {\n",
       "        vertical-align: middle;\n",
       "    }\n",
       "\n",
       "    .dataframe tbody tr th {\n",
       "        vertical-align: top;\n",
       "    }\n",
       "\n",
       "    .dataframe thead th {\n",
       "        text-align: right;\n",
       "    }\n",
       "</style>\n",
       "<table border=\"1\" class=\"dataframe\">\n",
       "  <thead>\n",
       "    <tr style=\"text-align: right;\">\n",
       "      <th></th>\n",
       "      <th>CMTE_ID</th>\n",
       "      <th>AMNDT_IND</th>\n",
       "      <th>RPT_TP</th>\n",
       "      <th>TRANSACTION_PGI</th>\n",
       "      <th>IMAGE_NUM</th>\n",
       "      <th>TRANSACTION_TP</th>\n",
       "      <th>ENTITY_TP</th>\n",
       "      <th>NAME</th>\n",
       "      <th>CITY</th>\n",
       "      <th>STATE</th>\n",
       "      <th>ZIP_CODE</th>\n",
       "      <th>EMPLOYER</th>\n",
       "      <th>OCCUPATION</th>\n",
       "      <th>TRANSACTION_DT</th>\n",
       "      <th>TRANSACTION_AMT</th>\n",
       "      <th>OTHER_ID</th>\n",
       "      <th>CAND_ID</th>\n",
       "      <th>TRAN_ID</th>\n",
       "      <th>FILE_NUM</th>\n",
       "      <th>MEMO_CD</th>\n",
       "      <th>MEMO_TEXT</th>\n",
       "      <th>SUB_ID</th>\n",
       "      <th>AMNDT_IND_FULL</th>\n",
       "      <th>RPT_TP_FULL</th>\n",
       "      <th>ELECTION_TYPE</th>\n",
       "      <th>ELECTION_YEAR</th>\n",
       "      <th>TRANSACTION_TP_FULL</th>\n",
       "      <th>ENTITY_TP_FULL</th>\n",
       "      <th>TRAN_ID_parent</th>\n",
       "      <th>TRAN_ID_child</th>\n",
       "      <th>CAND_NAME</th>\n",
       "      <th>CAND_ICI</th>\n",
       "      <th>PTY_CD</th>\n",
       "      <th>CAND_PTY_AFFILIATION</th>\n",
       "      <th>TTL_RECEIPTS</th>\n",
       "      <th>TRANS_FROM_AUTH</th>\n",
       "      <th>TTL_DISB</th>\n",
       "      <th>TRANS_TO_AUTH</th>\n",
       "      <th>COH_BOP</th>\n",
       "      <th>COH_COP</th>\n",
       "      <th>CAND_CONTRIB</th>\n",
       "      <th>CAND_LOANS</th>\n",
       "      <th>OTHER_LOANS</th>\n",
       "      <th>CAND_LOAN_REPAY</th>\n",
       "      <th>OTHER_LOAN_REPAY</th>\n",
       "      <th>DEBTS_OWED_BY</th>\n",
       "      <th>TTL_INDIV_CONTRIB</th>\n",
       "      <th>CAND_OFFICE_ST</th>\n",
       "      <th>CAND_OFFICE_DISTRICT</th>\n",
       "      <th>SPEC_ELECTION</th>\n",
       "      <th>PRIM_ELECTION</th>\n",
       "      <th>RUN_ELECTION</th>\n",
       "      <th>GEN_ELECTION</th>\n",
       "      <th>GEN_ELECTION_PRECENT</th>\n",
       "      <th>OTHER_POL_CMTE_CONTRIB</th>\n",
       "      <th>POL_PTY_CONTRIB</th>\n",
       "      <th>CVG_END_DT</th>\n",
       "      <th>INDIV_REFUNDS</th>\n",
       "      <th>CMTE_REFUNDS</th>\n",
       "      <th>TTL_RECEIPTS_CORRECTED</th>\n",
       "      <th>TTL_DISB_CORRECTED</th>\n",
       "      <th>CAND_ICI_FULL</th>\n",
       "      <th>CAND_PTY_AFFILIATION_FULL</th>\n",
       "      <th>color</th>\n",
       "      <th>second_color</th>\n",
       "      <th>CMTE_NM</th>\n",
       "      <th>TRES_NM</th>\n",
       "      <th>CMTE_ST1</th>\n",
       "      <th>CMTE_ST2</th>\n",
       "      <th>CMTE_CITY</th>\n",
       "      <th>CMTE_ST</th>\n",
       "      <th>CMTE_ZIP</th>\n",
       "      <th>CMTE_DSGN</th>\n",
       "      <th>CMTE_TP</th>\n",
       "      <th>CMTE_PTY_AFFILIATION</th>\n",
       "      <th>CMTE_FILING_FREQ</th>\n",
       "      <th>ORG_TP</th>\n",
       "      <th>CONNECTED_ORG_NM</th>\n",
       "      <th>CAND_ID_y</th>\n",
       "      <th>for_against</th>\n",
       "    </tr>\n",
       "  </thead>\n",
       "  <tbody>\n",
       "    <tr>\n",
       "      <th>0</th>\n",
       "      <td>C00371385</td>\n",
       "      <td>N</td>\n",
       "      <td>M2</td>\n",
       "      <td>P</td>\n",
       "      <td>201902059145461441</td>\n",
       "      <td>24K</td>\n",
       "      <td>CCM</td>\n",
       "      <td>THOM TILLIS COMMITTEE</td>\n",
       "      <td>RALEIGH</td>\n",
       "      <td>NC</td>\n",
       "      <td>27624</td>\n",
       "      <td>NaN</td>\n",
       "      <td>NaN</td>\n",
       "      <td>2019-01-09</td>\n",
       "      <td>5000</td>\n",
       "      <td>C00545772</td>\n",
       "      <td>S4NC00162</td>\n",
       "      <td>SB23.6145</td>\n",
       "      <td>1314334</td>\n",
       "      <td>NaN</td>\n",
       "      <td>NaN</td>\n",
       "      <td>4022620191643762260</td>\n",
       "      <td>New</td>\n",
       "      <td>February monthly</td>\n",
       "      <td>Primary</td>\n",
       "      <td>0</td>\n",
       "      <td>Contribution made to nonaffiliated committee</td>\n",
       "      <td>Candidate Committee</td>\n",
       "      <td>SB23</td>\n",
       "      <td>6145</td>\n",
       "      <td>TILLIS, THOM R. SEN.</td>\n",
       "      <td>I</td>\n",
       "      <td>2</td>\n",
       "      <td>REP</td>\n",
       "      <td>8269271.66</td>\n",
       "      <td>1152018.96</td>\n",
       "      <td>3811302.27</td>\n",
       "      <td>6441.91</td>\n",
       "      <td>2025444.43</td>\n",
       "      <td>6483413.82</td>\n",
       "      <td>0.0</td>\n",
       "      <td>0.0</td>\n",
       "      <td>0.0</td>\n",
       "      <td>0.0</td>\n",
       "      <td>0.0</td>\n",
       "      <td>0.0</td>\n",
       "      <td>4798506.58</td>\n",
       "      <td>NC</td>\n",
       "      <td>00</td>\n",
       "      <td>NaN</td>\n",
       "      <td>NaN</td>\n",
       "      <td>NaN</td>\n",
       "      <td>NaN</td>\n",
       "      <td>NaN</td>\n",
       "      <td>2278244.39</td>\n",
       "      <td>0.0</td>\n",
       "      <td>06/09/2020</td>\n",
       "      <td>102493.33</td>\n",
       "      <td>14425.67</td>\n",
       "      <td>7117252.7</td>\n",
       "      <td>3804860.36</td>\n",
       "      <td>Incumbent</td>\n",
       "      <td>Republican Party</td>\n",
       "      <td>red</td>\n",
       "      <td>pink</td>\n",
       "      <td>ALEX LEE INC PAC</td>\n",
       "      <td>ALMQUIST, ANDREW MR.</td>\n",
       "      <td>120 4TH STREET SW</td>\n",
       "      <td>NaN</td>\n",
       "      <td>HICKORY</td>\n",
       "      <td>NC</td>\n",
       "      <td>28602</td>\n",
       "      <td>U</td>\n",
       "      <td>Q</td>\n",
       "      <td>NaN</td>\n",
       "      <td>M</td>\n",
       "      <td>C</td>\n",
       "      <td>ALEX LEE, INC.</td>\n",
       "      <td>NaN</td>\n",
       "      <td>For</td>\n",
       "    </tr>\n",
       "    <tr>\n",
       "      <th>1</th>\n",
       "      <td>C00551192</td>\n",
       "      <td>N</td>\n",
       "      <td>M2</td>\n",
       "      <td>P2020</td>\n",
       "      <td>201902119145496265</td>\n",
       "      <td>24K</td>\n",
       "      <td>CCM</td>\n",
       "      <td>THOM TILLIS COMMITTEE</td>\n",
       "      <td>RALEIGH</td>\n",
       "      <td>NC</td>\n",
       "      <td>27624</td>\n",
       "      <td>NaN</td>\n",
       "      <td>NaN</td>\n",
       "      <td>2019-01-28</td>\n",
       "      <td>2700</td>\n",
       "      <td>C00545772</td>\n",
       "      <td>S4NC00162</td>\n",
       "      <td>43079234</td>\n",
       "      <td>1315351</td>\n",
       "      <td>NaN</td>\n",
       "      <td>CONTRIBUTION</td>\n",
       "      <td>4022220191643459655</td>\n",
       "      <td>New</td>\n",
       "      <td>February monthly</td>\n",
       "      <td>Primary</td>\n",
       "      <td>2020</td>\n",
       "      <td>Contribution made to nonaffiliated committee</td>\n",
       "      <td>Candidate Committee</td>\n",
       "      <td>43079234</td>\n",
       "      <td>None</td>\n",
       "      <td>TILLIS, THOM R. SEN.</td>\n",
       "      <td>I</td>\n",
       "      <td>2</td>\n",
       "      <td>REP</td>\n",
       "      <td>8269271.66</td>\n",
       "      <td>1152018.96</td>\n",
       "      <td>3811302.27</td>\n",
       "      <td>6441.91</td>\n",
       "      <td>2025444.43</td>\n",
       "      <td>6483413.82</td>\n",
       "      <td>0.0</td>\n",
       "      <td>0.0</td>\n",
       "      <td>0.0</td>\n",
       "      <td>0.0</td>\n",
       "      <td>0.0</td>\n",
       "      <td>0.0</td>\n",
       "      <td>4798506.58</td>\n",
       "      <td>NC</td>\n",
       "      <td>00</td>\n",
       "      <td>NaN</td>\n",
       "      <td>NaN</td>\n",
       "      <td>NaN</td>\n",
       "      <td>NaN</td>\n",
       "      <td>NaN</td>\n",
       "      <td>2278244.39</td>\n",
       "      <td>0.0</td>\n",
       "      <td>06/09/2020</td>\n",
       "      <td>102493.33</td>\n",
       "      <td>14425.67</td>\n",
       "      <td>7117252.7</td>\n",
       "      <td>3804860.36</td>\n",
       "      <td>Incumbent</td>\n",
       "      <td>Republican Party</td>\n",
       "      <td>red</td>\n",
       "      <td>pink</td>\n",
       "      <td>MAIN STREET BANKING POLITICAL ACTION COMMITTEE</td>\n",
       "      <td>WILLIAMS, WADE</td>\n",
       "      <td>PO BOX 7427</td>\n",
       "      <td>NaN</td>\n",
       "      <td>ALEXANDRIA</td>\n",
       "      <td>VA</td>\n",
       "      <td>223077427</td>\n",
       "      <td>U</td>\n",
       "      <td>N</td>\n",
       "      <td>NaN</td>\n",
       "      <td>M</td>\n",
       "      <td>NaN</td>\n",
       "      <td>NONE</td>\n",
       "      <td>NaN</td>\n",
       "      <td>For</td>\n",
       "    </tr>\n",
       "    <tr>\n",
       "      <th>2</th>\n",
       "      <td>C00100107</td>\n",
       "      <td>N</td>\n",
       "      <td>M2</td>\n",
       "      <td>P2020</td>\n",
       "      <td>201902159145516138</td>\n",
       "      <td>24K</td>\n",
       "      <td>CCM</td>\n",
       "      <td>THOM TILLIS COMMITTEE</td>\n",
       "      <td>RALEIGH</td>\n",
       "      <td>NC</td>\n",
       "      <td>27624</td>\n",
       "      <td>NaN</td>\n",
       "      <td>NaN</td>\n",
       "      <td>2019-01-11</td>\n",
       "      <td>2500</td>\n",
       "      <td>C00545772</td>\n",
       "      <td>S4NC00162</td>\n",
       "      <td>156BA6A4BB1CA36FD35</td>\n",
       "      <td>1316037</td>\n",
       "      <td>NaN</td>\n",
       "      <td>NaN</td>\n",
       "      <td>4022720191644231227</td>\n",
       "      <td>New</td>\n",
       "      <td>February monthly</td>\n",
       "      <td>Primary</td>\n",
       "      <td>2020</td>\n",
       "      <td>Contribution made to nonaffiliated committee</td>\n",
       "      <td>Candidate Committee</td>\n",
       "      <td>156BA6A4BB1CA36FD35</td>\n",
       "      <td>None</td>\n",
       "      <td>TILLIS, THOM R. SEN.</td>\n",
       "      <td>I</td>\n",
       "      <td>2</td>\n",
       "      <td>REP</td>\n",
       "      <td>8269271.66</td>\n",
       "      <td>1152018.96</td>\n",
       "      <td>3811302.27</td>\n",
       "      <td>6441.91</td>\n",
       "      <td>2025444.43</td>\n",
       "      <td>6483413.82</td>\n",
       "      <td>0.0</td>\n",
       "      <td>0.0</td>\n",
       "      <td>0.0</td>\n",
       "      <td>0.0</td>\n",
       "      <td>0.0</td>\n",
       "      <td>0.0</td>\n",
       "      <td>4798506.58</td>\n",
       "      <td>NC</td>\n",
       "      <td>00</td>\n",
       "      <td>NaN</td>\n",
       "      <td>NaN</td>\n",
       "      <td>NaN</td>\n",
       "      <td>NaN</td>\n",
       "      <td>NaN</td>\n",
       "      <td>2278244.39</td>\n",
       "      <td>0.0</td>\n",
       "      <td>06/09/2020</td>\n",
       "      <td>102493.33</td>\n",
       "      <td>14425.67</td>\n",
       "      <td>7117252.7</td>\n",
       "      <td>3804860.36</td>\n",
       "      <td>Incumbent</td>\n",
       "      <td>Republican Party</td>\n",
       "      <td>red</td>\n",
       "      <td>pink</td>\n",
       "      <td>AMERICAN BEVERAGE ASSOCIATION POLITICAL ACTION...</td>\n",
       "      <td>HAMMOND, MARK N. MR.</td>\n",
       "      <td>1275 PENNSYLVANIA AVE NW</td>\n",
       "      <td>SUITE 1100</td>\n",
       "      <td>WASHINGTON</td>\n",
       "      <td>DC</td>\n",
       "      <td>20004</td>\n",
       "      <td>B</td>\n",
       "      <td>Q</td>\n",
       "      <td>NNE</td>\n",
       "      <td>M</td>\n",
       "      <td>T</td>\n",
       "      <td>AMERICAN BEVERAGE ASSOCIATION</td>\n",
       "      <td>NaN</td>\n",
       "      <td>For</td>\n",
       "    </tr>\n",
       "    <tr>\n",
       "      <th>3</th>\n",
       "      <td>C00214304</td>\n",
       "      <td>N</td>\n",
       "      <td>M2</td>\n",
       "      <td>G2020</td>\n",
       "      <td>201902199145530707</td>\n",
       "      <td>24K</td>\n",
       "      <td>CCM</td>\n",
       "      <td>THOM TILLIS COMMITTEE</td>\n",
       "      <td>RALEIGH</td>\n",
       "      <td>NC</td>\n",
       "      <td>27624</td>\n",
       "      <td>NaN</td>\n",
       "      <td>NaN</td>\n",
       "      <td>2019-01-08</td>\n",
       "      <td>2500</td>\n",
       "      <td>C00545772</td>\n",
       "      <td>S4NC00162</td>\n",
       "      <td>10001048</td>\n",
       "      <td>1316592</td>\n",
       "      <td>NaN</td>\n",
       "      <td>NaN</td>\n",
       "      <td>4022820191644627257</td>\n",
       "      <td>New</td>\n",
       "      <td>February monthly</td>\n",
       "      <td>General</td>\n",
       "      <td>2020</td>\n",
       "      <td>Contribution made to nonaffiliated committee</td>\n",
       "      <td>Candidate Committee</td>\n",
       "      <td>10001048</td>\n",
       "      <td>None</td>\n",
       "      <td>TILLIS, THOM R. SEN.</td>\n",
       "      <td>I</td>\n",
       "      <td>2</td>\n",
       "      <td>REP</td>\n",
       "      <td>8269271.66</td>\n",
       "      <td>1152018.96</td>\n",
       "      <td>3811302.27</td>\n",
       "      <td>6441.91</td>\n",
       "      <td>2025444.43</td>\n",
       "      <td>6483413.82</td>\n",
       "      <td>0.0</td>\n",
       "      <td>0.0</td>\n",
       "      <td>0.0</td>\n",
       "      <td>0.0</td>\n",
       "      <td>0.0</td>\n",
       "      <td>0.0</td>\n",
       "      <td>4798506.58</td>\n",
       "      <td>NC</td>\n",
       "      <td>00</td>\n",
       "      <td>NaN</td>\n",
       "      <td>NaN</td>\n",
       "      <td>NaN</td>\n",
       "      <td>NaN</td>\n",
       "      <td>NaN</td>\n",
       "      <td>2278244.39</td>\n",
       "      <td>0.0</td>\n",
       "      <td>06/09/2020</td>\n",
       "      <td>102493.33</td>\n",
       "      <td>14425.67</td>\n",
       "      <td>7117252.7</td>\n",
       "      <td>3804860.36</td>\n",
       "      <td>Incumbent</td>\n",
       "      <td>Republican Party</td>\n",
       "      <td>red</td>\n",
       "      <td>pink</td>\n",
       "      <td>AHOLD DELHAIZE USA, INC POLITICAL ACTION COMMI...</td>\n",
       "      <td>YOUNG, TEROSS WILLIEVICK</td>\n",
       "      <td>PO BOX 1330</td>\n",
       "      <td>2110 EXECUTIVE DRIVE</td>\n",
       "      <td>SALISBURY</td>\n",
       "      <td>NC</td>\n",
       "      <td>28145</td>\n",
       "      <td>U</td>\n",
       "      <td>Q</td>\n",
       "      <td>NaN</td>\n",
       "      <td>M</td>\n",
       "      <td>C</td>\n",
       "      <td>AHOLD DELHAIZE USA, INC.</td>\n",
       "      <td>NaN</td>\n",
       "      <td>For</td>\n",
       "    </tr>\n",
       "    <tr>\n",
       "      <th>4</th>\n",
       "      <td>C00144774</td>\n",
       "      <td>N</td>\n",
       "      <td>M2</td>\n",
       "      <td>P2020</td>\n",
       "      <td>201902199145526887</td>\n",
       "      <td>24K</td>\n",
       "      <td>CCM</td>\n",
       "      <td>THOM TILLIS COMMITTEE</td>\n",
       "      <td>RALEIGH</td>\n",
       "      <td>NC</td>\n",
       "      <td>27624</td>\n",
       "      <td>NaN</td>\n",
       "      <td>NaN</td>\n",
       "      <td>2019-01-09</td>\n",
       "      <td>5000</td>\n",
       "      <td>C00545772</td>\n",
       "      <td>S4NC00162</td>\n",
       "      <td>12654565</td>\n",
       "      <td>1316428</td>\n",
       "      <td>NaN</td>\n",
       "      <td>DIRECT CONTIRIBUTION</td>\n",
       "      <td>4022720191644226724</td>\n",
       "      <td>New</td>\n",
       "      <td>February monthly</td>\n",
       "      <td>Primary</td>\n",
       "      <td>2020</td>\n",
       "      <td>Contribution made to nonaffiliated committee</td>\n",
       "      <td>Candidate Committee</td>\n",
       "      <td>12654565</td>\n",
       "      <td>None</td>\n",
       "      <td>TILLIS, THOM R. SEN.</td>\n",
       "      <td>I</td>\n",
       "      <td>2</td>\n",
       "      <td>REP</td>\n",
       "      <td>8269271.66</td>\n",
       "      <td>1152018.96</td>\n",
       "      <td>3811302.27</td>\n",
       "      <td>6441.91</td>\n",
       "      <td>2025444.43</td>\n",
       "      <td>6483413.82</td>\n",
       "      <td>0.0</td>\n",
       "      <td>0.0</td>\n",
       "      <td>0.0</td>\n",
       "      <td>0.0</td>\n",
       "      <td>0.0</td>\n",
       "      <td>0.0</td>\n",
       "      <td>4798506.58</td>\n",
       "      <td>NC</td>\n",
       "      <td>00</td>\n",
       "      <td>NaN</td>\n",
       "      <td>NaN</td>\n",
       "      <td>NaN</td>\n",
       "      <td>NaN</td>\n",
       "      <td>NaN</td>\n",
       "      <td>2278244.39</td>\n",
       "      <td>0.0</td>\n",
       "      <td>06/09/2020</td>\n",
       "      <td>102493.33</td>\n",
       "      <td>14425.67</td>\n",
       "      <td>7117252.7</td>\n",
       "      <td>3804860.36</td>\n",
       "      <td>Incumbent</td>\n",
       "      <td>Republican Party</td>\n",
       "      <td>red</td>\n",
       "      <td>pink</td>\n",
       "      <td>SOUTHERN COMPANY EMPLOYEES PAC</td>\n",
       "      <td>CARDEN, LAURA B.</td>\n",
       "      <td>241 RALPH MCGILL BOULEVARD NE</td>\n",
       "      <td>BIN 10111</td>\n",
       "      <td>ATLANTA</td>\n",
       "      <td>GA</td>\n",
       "      <td>30308</td>\n",
       "      <td>B</td>\n",
       "      <td>Q</td>\n",
       "      <td>NaN</td>\n",
       "      <td>M</td>\n",
       "      <td>C</td>\n",
       "      <td>NaN</td>\n",
       "      <td>NaN</td>\n",
       "      <td>For</td>\n",
       "    </tr>\n",
       "  </tbody>\n",
       "</table>\n",
       "</div>"
      ],
      "text/plain": [
       "     CMTE_ID AMNDT_IND RPT_TP TRANSACTION_PGI           IMAGE_NUM  \\\n",
       "0  C00371385         N     M2               P  201902059145461441   \n",
       "1  C00551192         N     M2           P2020  201902119145496265   \n",
       "2  C00100107         N     M2           P2020  201902159145516138   \n",
       "3  C00214304         N     M2           G2020  201902199145530707   \n",
       "4  C00144774         N     M2           P2020  201902199145526887   \n",
       "\n",
       "  TRANSACTION_TP ENTITY_TP                   NAME     CITY STATE ZIP_CODE  \\\n",
       "0            24K       CCM  THOM TILLIS COMMITTEE  RALEIGH    NC    27624   \n",
       "1            24K       CCM  THOM TILLIS COMMITTEE  RALEIGH    NC    27624   \n",
       "2            24K       CCM  THOM TILLIS COMMITTEE  RALEIGH    NC    27624   \n",
       "3            24K       CCM  THOM TILLIS COMMITTEE  RALEIGH    NC    27624   \n",
       "4            24K       CCM  THOM TILLIS COMMITTEE  RALEIGH    NC    27624   \n",
       "\n",
       "  EMPLOYER OCCUPATION TRANSACTION_DT  TRANSACTION_AMT   OTHER_ID    CAND_ID  \\\n",
       "0      NaN        NaN     2019-01-09             5000  C00545772  S4NC00162   \n",
       "1      NaN        NaN     2019-01-28             2700  C00545772  S4NC00162   \n",
       "2      NaN        NaN     2019-01-11             2500  C00545772  S4NC00162   \n",
       "3      NaN        NaN     2019-01-08             2500  C00545772  S4NC00162   \n",
       "4      NaN        NaN     2019-01-09             5000  C00545772  S4NC00162   \n",
       "\n",
       "               TRAN_ID  FILE_NUM MEMO_CD             MEMO_TEXT  \\\n",
       "0            SB23.6145   1314334     NaN                   NaN   \n",
       "1             43079234   1315351     NaN          CONTRIBUTION   \n",
       "2  156BA6A4BB1CA36FD35   1316037     NaN                   NaN   \n",
       "3             10001048   1316592     NaN                   NaN   \n",
       "4             12654565   1316428     NaN  DIRECT CONTIRIBUTION   \n",
       "\n",
       "                SUB_ID AMNDT_IND_FULL       RPT_TP_FULL ELECTION_TYPE  \\\n",
       "0  4022620191643762260            New  February monthly       Primary   \n",
       "1  4022220191643459655            New  February monthly       Primary   \n",
       "2  4022720191644231227            New  February monthly       Primary   \n",
       "3  4022820191644627257            New  February monthly       General   \n",
       "4  4022720191644226724            New  February monthly       Primary   \n",
       "\n",
       "   ELECTION_YEAR                           TRANSACTION_TP_FULL  \\\n",
       "0              0  Contribution made to nonaffiliated committee   \n",
       "1           2020  Contribution made to nonaffiliated committee   \n",
       "2           2020  Contribution made to nonaffiliated committee   \n",
       "3           2020  Contribution made to nonaffiliated committee   \n",
       "4           2020  Contribution made to nonaffiliated committee   \n",
       "\n",
       "        ENTITY_TP_FULL       TRAN_ID_parent TRAN_ID_child  \\\n",
       "0  Candidate Committee                 SB23          6145   \n",
       "1  Candidate Committee             43079234          None   \n",
       "2  Candidate Committee  156BA6A4BB1CA36FD35          None   \n",
       "3  Candidate Committee             10001048          None   \n",
       "4  Candidate Committee             12654565          None   \n",
       "\n",
       "              CAND_NAME CAND_ICI  PTY_CD CAND_PTY_AFFILIATION  TTL_RECEIPTS  \\\n",
       "0  TILLIS, THOM R. SEN.        I       2                  REP    8269271.66   \n",
       "1  TILLIS, THOM R. SEN.        I       2                  REP    8269271.66   \n",
       "2  TILLIS, THOM R. SEN.        I       2                  REP    8269271.66   \n",
       "3  TILLIS, THOM R. SEN.        I       2                  REP    8269271.66   \n",
       "4  TILLIS, THOM R. SEN.        I       2                  REP    8269271.66   \n",
       "\n",
       "   TRANS_FROM_AUTH    TTL_DISB  TRANS_TO_AUTH     COH_BOP     COH_COP  \\\n",
       "0       1152018.96  3811302.27        6441.91  2025444.43  6483413.82   \n",
       "1       1152018.96  3811302.27        6441.91  2025444.43  6483413.82   \n",
       "2       1152018.96  3811302.27        6441.91  2025444.43  6483413.82   \n",
       "3       1152018.96  3811302.27        6441.91  2025444.43  6483413.82   \n",
       "4       1152018.96  3811302.27        6441.91  2025444.43  6483413.82   \n",
       "\n",
       "   CAND_CONTRIB  CAND_LOANS  OTHER_LOANS  CAND_LOAN_REPAY  OTHER_LOAN_REPAY  \\\n",
       "0           0.0         0.0          0.0              0.0               0.0   \n",
       "1           0.0         0.0          0.0              0.0               0.0   \n",
       "2           0.0         0.0          0.0              0.0               0.0   \n",
       "3           0.0         0.0          0.0              0.0               0.0   \n",
       "4           0.0         0.0          0.0              0.0               0.0   \n",
       "\n",
       "   DEBTS_OWED_BY  TTL_INDIV_CONTRIB CAND_OFFICE_ST CAND_OFFICE_DISTRICT  \\\n",
       "0            0.0         4798506.58             NC                   00   \n",
       "1            0.0         4798506.58             NC                   00   \n",
       "2            0.0         4798506.58             NC                   00   \n",
       "3            0.0         4798506.58             NC                   00   \n",
       "4            0.0         4798506.58             NC                   00   \n",
       "\n",
       "   SPEC_ELECTION  PRIM_ELECTION  RUN_ELECTION  GEN_ELECTION  \\\n",
       "0            NaN            NaN           NaN           NaN   \n",
       "1            NaN            NaN           NaN           NaN   \n",
       "2            NaN            NaN           NaN           NaN   \n",
       "3            NaN            NaN           NaN           NaN   \n",
       "4            NaN            NaN           NaN           NaN   \n",
       "\n",
       "   GEN_ELECTION_PRECENT  OTHER_POL_CMTE_CONTRIB  POL_PTY_CONTRIB  CVG_END_DT  \\\n",
       "0                   NaN              2278244.39              0.0  06/09/2020   \n",
       "1                   NaN              2278244.39              0.0  06/09/2020   \n",
       "2                   NaN              2278244.39              0.0  06/09/2020   \n",
       "3                   NaN              2278244.39              0.0  06/09/2020   \n",
       "4                   NaN              2278244.39              0.0  06/09/2020   \n",
       "\n",
       "   INDIV_REFUNDS  CMTE_REFUNDS  TTL_RECEIPTS_CORRECTED  TTL_DISB_CORRECTED  \\\n",
       "0      102493.33      14425.67               7117252.7          3804860.36   \n",
       "1      102493.33      14425.67               7117252.7          3804860.36   \n",
       "2      102493.33      14425.67               7117252.7          3804860.36   \n",
       "3      102493.33      14425.67               7117252.7          3804860.36   \n",
       "4      102493.33      14425.67               7117252.7          3804860.36   \n",
       "\n",
       "  CAND_ICI_FULL CAND_PTY_AFFILIATION_FULL color second_color  \\\n",
       "0     Incumbent          Republican Party   red         pink   \n",
       "1     Incumbent          Republican Party   red         pink   \n",
       "2     Incumbent          Republican Party   red         pink   \n",
       "3     Incumbent          Republican Party   red         pink   \n",
       "4     Incumbent          Republican Party   red         pink   \n",
       "\n",
       "                                             CMTE_NM  \\\n",
       "0                                   ALEX LEE INC PAC   \n",
       "1     MAIN STREET BANKING POLITICAL ACTION COMMITTEE   \n",
       "2  AMERICAN BEVERAGE ASSOCIATION POLITICAL ACTION...   \n",
       "3  AHOLD DELHAIZE USA, INC POLITICAL ACTION COMMI...   \n",
       "4                     SOUTHERN COMPANY EMPLOYEES PAC   \n",
       "\n",
       "                    TRES_NM                       CMTE_ST1  \\\n",
       "0      ALMQUIST, ANDREW MR.              120 4TH STREET SW   \n",
       "1            WILLIAMS, WADE                    PO BOX 7427   \n",
       "2      HAMMOND, MARK N. MR.       1275 PENNSYLVANIA AVE NW   \n",
       "3  YOUNG, TEROSS WILLIEVICK                    PO BOX 1330   \n",
       "4          CARDEN, LAURA B.  241 RALPH MCGILL BOULEVARD NE   \n",
       "\n",
       "               CMTE_ST2   CMTE_CITY CMTE_ST   CMTE_ZIP CMTE_DSGN CMTE_TP  \\\n",
       "0                   NaN     HICKORY      NC      28602         U       Q   \n",
       "1                   NaN  ALEXANDRIA      VA  223077427         U       N   \n",
       "2            SUITE 1100  WASHINGTON      DC      20004         B       Q   \n",
       "3  2110 EXECUTIVE DRIVE   SALISBURY      NC      28145         U       Q   \n",
       "4             BIN 10111     ATLANTA      GA      30308         B       Q   \n",
       "\n",
       "  CMTE_PTY_AFFILIATION CMTE_FILING_FREQ ORG_TP               CONNECTED_ORG_NM  \\\n",
       "0                  NaN                M      C                 ALEX LEE, INC.   \n",
       "1                  NaN                M    NaN                           NONE   \n",
       "2                  NNE                M      T  AMERICAN BEVERAGE ASSOCIATION   \n",
       "3                  NaN                M      C       AHOLD DELHAIZE USA, INC.   \n",
       "4                  NaN                M      C                            NaN   \n",
       "\n",
       "  CAND_ID_y for_against  \n",
       "0       NaN         For  \n",
       "1       NaN         For  \n",
       "2       NaN         For  \n",
       "3       NaN         For  \n",
       "4       NaN         For  "
      ]
     },
     "execution_count": 39,
     "metadata": {},
     "output_type": "execute_result"
    }
   ],
   "source": [
    "# First, we determine which committees are for or against a candidate so that we can bucket the contribution appropriately\n",
    "committee_contribs['for_against'] = committee_contribs['for_against'].fillna('For')\n",
    "committee_contribs['CAND_NAME'] = np.where(((committee_contribs['for_against'] == 'Against') & \n",
    "                                            (committee_contribs['CAND_NAME'] == democrat)) |\n",
    "                                            ((committee_contribs['for_against'] == 'For') & \n",
    "                                            (committee_contribs['CAND_NAME'] == republican)),\n",
    "                                           republican, democrat)\n",
    "committee_contribs.head()"
   ]
  },
  {
   "cell_type": "code",
   "execution_count": 40,
   "metadata": {
    "_kg_hide-input": true,
    "_kg_hide-output": true,
    "execution": {
     "iopub.execute_input": "2020-09-02T04:54:01.374876Z",
     "iopub.status.busy": "2020-09-02T04:54:01.374040Z",
     "iopub.status.idle": "2020-09-02T04:54:01.408805Z",
     "shell.execute_reply": "2020-09-02T04:54:01.409404Z"
    },
    "papermill": {
     "duration": 0.12839,
     "end_time": "2020-09-02T04:54:01.409598",
     "exception": false,
     "start_time": "2020-09-02T04:54:01.281208",
     "status": "completed"
    },
    "tags": []
   },
   "outputs": [
    {
     "data": {
      "text/html": [
       "<div>\n",
       "<style scoped>\n",
       "    .dataframe tbody tr th:only-of-type {\n",
       "        vertical-align: middle;\n",
       "    }\n",
       "\n",
       "    .dataframe tbody tr th {\n",
       "        vertical-align: top;\n",
       "    }\n",
       "\n",
       "    .dataframe thead th {\n",
       "        text-align: right;\n",
       "    }\n",
       "</style>\n",
       "<table border=\"1\" class=\"dataframe\">\n",
       "  <thead>\n",
       "    <tr style=\"text-align: right;\">\n",
       "      <th>CAND_NAME</th>\n",
       "      <th>CMTE_ID</th>\n",
       "      <th>CUNNINGHAM, CAL</th>\n",
       "      <th>TILLIS, THOM R. SEN.</th>\n",
       "      <th>CAND_NAME</th>\n",
       "    </tr>\n",
       "  </thead>\n",
       "  <tbody>\n",
       "    <tr>\n",
       "      <th>0</th>\n",
       "      <td>C00000422</td>\n",
       "      <td>0.0</td>\n",
       "      <td>2500.0</td>\n",
       "      <td>TILLIS, THOM R. SEN.</td>\n",
       "    </tr>\n",
       "    <tr>\n",
       "      <th>1</th>\n",
       "      <td>C00000729</td>\n",
       "      <td>0.0</td>\n",
       "      <td>3000.0</td>\n",
       "      <td>TILLIS, THOM R. SEN.</td>\n",
       "    </tr>\n",
       "    <tr>\n",
       "      <th>2</th>\n",
       "      <td>C00000885</td>\n",
       "      <td>2500.0</td>\n",
       "      <td>0.0</td>\n",
       "      <td>CUNNINGHAM, CAL</td>\n",
       "    </tr>\n",
       "    <tr>\n",
       "      <th>3</th>\n",
       "      <td>C00000901</td>\n",
       "      <td>0.0</td>\n",
       "      <td>5000.0</td>\n",
       "      <td>TILLIS, THOM R. SEN.</td>\n",
       "    </tr>\n",
       "    <tr>\n",
       "      <th>4</th>\n",
       "      <td>C00001016</td>\n",
       "      <td>5000.0</td>\n",
       "      <td>0.0</td>\n",
       "      <td>CUNNINGHAM, CAL</td>\n",
       "    </tr>\n",
       "  </tbody>\n",
       "</table>\n",
       "</div>"
      ],
      "text/plain": [
       "CAND_NAME    CMTE_ID  CUNNINGHAM, CAL  TILLIS, THOM R. SEN.  \\\n",
       "0          C00000422              0.0                2500.0   \n",
       "1          C00000729              0.0                3000.0   \n",
       "2          C00000885           2500.0                   0.0   \n",
       "3          C00000901              0.0                5000.0   \n",
       "4          C00001016           5000.0                   0.0   \n",
       "\n",
       "CAND_NAME             CAND_NAME  \n",
       "0          TILLIS, THOM R. SEN.  \n",
       "1          TILLIS, THOM R. SEN.  \n",
       "2               CUNNINGHAM, CAL  \n",
       "3          TILLIS, THOM R. SEN.  \n",
       "4               CUNNINGHAM, CAL  "
      ]
     },
     "execution_count": 40,
     "metadata": {},
     "output_type": "execute_result"
    }
   ],
   "source": [
    "cmte_cand_mapping = committee_contribs.groupby(['CMTE_ID', 'CAND_NAME']).agg({'TRANSACTION_AMT': 'sum'})\n",
    "cmte_cand_mapping = cmte_cand_mapping.pivot_table(index='CMTE_ID', columns='CAND_NAME').fillna(0.0).droplevel(0, axis=1).reset_index()\n",
    "cmte_cand_mapping = cmte_cand_mapping.loc[~(cmte_cand_mapping[democrat] == cmte_cand_mapping[republican])]\n",
    "cmte_cand_mapping['CAND_NAME'] = np.where(cmte_cand_mapping[democrat] > cmte_cand_mapping[republican], democrat, republican)\n",
    "cmte_cand_mapping.head()"
   ]
  },
  {
   "cell_type": "code",
   "execution_count": 41,
   "metadata": {
    "_kg_hide-input": true,
    "_kg_hide-output": true,
    "execution": {
     "iopub.execute_input": "2020-09-02T04:54:01.755383Z",
     "iopub.status.busy": "2020-09-02T04:54:01.754649Z",
     "iopub.status.idle": "2020-09-02T04:54:08.038141Z",
     "shell.execute_reply": "2020-09-02T04:54:08.037315Z"
    },
    "papermill": {
     "duration": 6.372499,
     "end_time": "2020-09-02T04:54:08.038287",
     "exception": false,
     "start_time": "2020-09-02T04:54:01.665788",
     "status": "completed"
    },
    "tags": []
   },
   "outputs": [
    {
     "data": {
      "text/plain": [
       "26170487"
      ]
     },
     "execution_count": 41,
     "metadata": {},
     "output_type": "execute_result"
    }
   ],
   "source": [
    "s = f\"../data/20192020-FEC/Contributions by individuals.csv\"\n",
    "cmd_result = ! wc -l \"{s}\"\n",
    "contribs_cnt = int(cmd_result[0].split()[0])\n",
    "contribs_cnt"
   ]
  },
  {
   "cell_type": "code",
   "execution_count": 42,
   "metadata": {
    "_kg_hide-input": true,
    "execution": {
     "iopub.execute_input": "2020-09-02T04:54:08.227981Z",
     "iopub.status.busy": "2020-09-02T04:54:08.227114Z",
     "iopub.status.idle": "2020-09-02T04:54:08.230716Z",
     "shell.execute_reply": "2020-09-02T04:54:08.229950Z"
    },
    "papermill": {
     "duration": 0.105193,
     "end_time": "2020-09-02T04:54:08.230859",
     "exception": false,
     "start_time": "2020-09-02T04:54:08.125666",
     "status": "completed"
    },
    "tags": []
   },
   "outputs": [],
   "source": [
    "# Iteration 42 has some bad data that needs to be fixed manually as below\n",
    "def handle_iteration_42(df):\n",
    "    bad_row = df[df['TRANSACTION_DT'] == 'SAN DIEGO']\n",
    "    bad_rows = bad_row['OCCUPATION'].str.split('\\n').values[0]\n",
    "    other_rows = []\n",
    "    for i, row in enumerate(bad_rows):\n",
    "        if i==0:\n",
    "            first_row_last_part = row.split('|')\n",
    "        elif i == len(bad_rows)-1:\n",
    "            last_row_first_part = row.split('|')\n",
    "        else:\n",
    "            other_rows.append(row.split('|'))\n",
    "    all_dfs = [df]\n",
    "    first_row = list(df.loc[bad_row.index].iloc[:, 0:12].copy().values[0]) + first_row_last_part\n",
    "    all_dfs.append(pd.DataFrame([first_row], columns=df.columns))\n",
    "    all_dfs.append(pd.DataFrame(other_rows, columns=df.columns))\n",
    "    all_dfs.append(pd.DataFrame([last_row_first_part + list(df.loc[bad_row.index].iloc[:, 13:].copy().values[0])\n",
    "                                   + [np.NaN, np.NaN, np.NaN, np.NaN, np.NaN]], columns=df.columns))\n",
    "    df = pd.concat(all_dfs, axis=0)\n",
    "    df = df.drop(index=bad_row.index).reset_index()\n",
    "    return df"
   ]
  },
  {
   "cell_type": "code",
   "execution_count": 44,
   "metadata": {
    "_kg_hide-input": true,
    "_kg_hide-output": true,
    "execution": {
     "iopub.execute_input": "2020-09-02T04:54:08.410216Z",
     "iopub.status.busy": "2020-09-02T04:54:08.409376Z",
     "iopub.status.idle": "2020-09-02T06:04:23.569370Z",
     "shell.execute_reply": "2020-09-02T06:04:23.568529Z"
    },
    "papermill": {
     "duration": 4215.255032,
     "end_time": "2020-09-02T06:04:23.569523",
     "exception": false,
     "start_time": "2020-09-02T04:54:08.314491",
     "status": "completed"
    },
    "tags": []
   },
   "outputs": [
    {
     "name": "stdout",
     "output_type": "stream",
     "text": [
      "Processing chunk 0\n"
     ]
    },
    {
     "name": "stderr",
     "output_type": "stream",
     "text": [
      "/Users/sahluwalia/acre/lib/python3.7/site-packages/IPython/core/interactiveshell.py:3257: DtypeWarning:\n",
      "\n",
      "Columns (10,18) have mixed types.Specify dtype option on import or set low_memory=False.\n",
      "\n"
     ]
    },
    {
     "name": "stdout",
     "output_type": "stream",
     "text": [
      "Processing chunk 1\n"
     ]
    },
    {
     "name": "stderr",
     "output_type": "stream",
     "text": [
      "/Users/sahluwalia/acre/lib/python3.7/site-packages/IPython/core/interactiveshell.py:3257: DtypeWarning:\n",
      "\n",
      "Columns (10) have mixed types.Specify dtype option on import or set low_memory=False.\n",
      "\n"
     ]
    },
    {
     "name": "stdout",
     "output_type": "stream",
     "text": [
      "Processing chunk 2\n",
      "Processing chunk 3\n",
      "Processing chunk 4\n",
      "Processing chunk 5\n",
      "Processing chunk 6\n"
     ]
    },
    {
     "name": "stderr",
     "output_type": "stream",
     "text": [
      "/Users/sahluwalia/acre/lib/python3.7/site-packages/IPython/core/interactiveshell.py:3257: DtypeWarning:\n",
      "\n",
      "Columns (5,10,15,19) have mixed types.Specify dtype option on import or set low_memory=False.\n",
      "\n"
     ]
    },
    {
     "name": "stdout",
     "output_type": "stream",
     "text": [
      "Processing chunk 7\n",
      "Processing chunk 8\n",
      "Processing chunk 9\n"
     ]
    },
    {
     "name": "stderr",
     "output_type": "stream",
     "text": [
      "/Users/sahluwalia/acre/lib/python3.7/site-packages/IPython/core/interactiveshell.py:3257: DtypeWarning:\n",
      "\n",
      "Columns (5,10,15,18,19) have mixed types.Specify dtype option on import or set low_memory=False.\n",
      "\n"
     ]
    },
    {
     "name": "stdout",
     "output_type": "stream",
     "text": [
      "Processing chunk 10\n"
     ]
    },
    {
     "name": "stderr",
     "output_type": "stream",
     "text": [
      "/Users/sahluwalia/acre/lib/python3.7/site-packages/IPython/core/interactiveshell.py:3257: DtypeWarning:\n",
      "\n",
      "Columns (10,18,19) have mixed types.Specify dtype option on import or set low_memory=False.\n",
      "\n"
     ]
    },
    {
     "name": "stdout",
     "output_type": "stream",
     "text": [
      "Processing chunk 11\n",
      "Processing chunk 12\n"
     ]
    },
    {
     "name": "stderr",
     "output_type": "stream",
     "text": [
      "/Users/sahluwalia/acre/lib/python3.7/site-packages/IPython/core/interactiveshell.py:3257: DtypeWarning:\n",
      "\n",
      "Columns (5,10,15,18) have mixed types.Specify dtype option on import or set low_memory=False.\n",
      "\n"
     ]
    },
    {
     "name": "stdout",
     "output_type": "stream",
     "text": [
      "Processing chunk 13\n"
     ]
    },
    {
     "name": "stderr",
     "output_type": "stream",
     "text": [
      "/Users/sahluwalia/acre/lib/python3.7/site-packages/IPython/core/interactiveshell.py:3257: DtypeWarning:\n",
      "\n",
      "Columns (16,18) have mixed types.Specify dtype option on import or set low_memory=False.\n",
      "\n"
     ]
    },
    {
     "name": "stdout",
     "output_type": "stream",
     "text": [
      "Processing chunk 14\n",
      "Processing chunk 15\n"
     ]
    },
    {
     "name": "stderr",
     "output_type": "stream",
     "text": [
      "/Users/sahluwalia/acre/lib/python3.7/site-packages/IPython/core/interactiveshell.py:3257: DtypeWarning:\n",
      "\n",
      "Columns (10,15,18) have mixed types.Specify dtype option on import or set low_memory=False.\n",
      "\n"
     ]
    },
    {
     "name": "stdout",
     "output_type": "stream",
     "text": [
      "Processing chunk 16\n"
     ]
    },
    {
     "name": "stderr",
     "output_type": "stream",
     "text": [
      "/Users/sahluwalia/acre/lib/python3.7/site-packages/IPython/core/interactiveshell.py:3257: DtypeWarning:\n",
      "\n",
      "Columns (10,15) have mixed types.Specify dtype option on import or set low_memory=False.\n",
      "\n"
     ]
    },
    {
     "name": "stdout",
     "output_type": "stream",
     "text": [
      "Processing chunk 17\n"
     ]
    },
    {
     "name": "stderr",
     "output_type": "stream",
     "text": [
      "/Users/sahluwalia/acre/lib/python3.7/site-packages/IPython/core/interactiveshell.py:3257: DtypeWarning:\n",
      "\n",
      "Columns (10,16,18) have mixed types.Specify dtype option on import or set low_memory=False.\n",
      "\n"
     ]
    },
    {
     "name": "stdout",
     "output_type": "stream",
     "text": [
      "Processing chunk 18\n"
     ]
    },
    {
     "name": "stderr",
     "output_type": "stream",
     "text": [
      "/Users/sahluwalia/acre/lib/python3.7/site-packages/IPython/core/interactiveshell.py:3257: DtypeWarning:\n",
      "\n",
      "Columns (10,16,18,19) have mixed types.Specify dtype option on import or set low_memory=False.\n",
      "\n"
     ]
    },
    {
     "name": "stdout",
     "output_type": "stream",
     "text": [
      "Processing chunk 19\n",
      "Processing chunk 20\n",
      "Processing chunk 21\n"
     ]
    },
    {
     "name": "stderr",
     "output_type": "stream",
     "text": [
      "/Users/sahluwalia/acre/lib/python3.7/site-packages/IPython/core/interactiveshell.py:3257: DtypeWarning:\n",
      "\n",
      "Columns (3,10,18) have mixed types.Specify dtype option on import or set low_memory=False.\n",
      "\n"
     ]
    },
    {
     "name": "stdout",
     "output_type": "stream",
     "text": [
      "Processing chunk 22\n",
      "Processing chunk 23\n",
      "Processing chunk 24\n"
     ]
    },
    {
     "name": "stderr",
     "output_type": "stream",
     "text": [
      "/Users/sahluwalia/acre/lib/python3.7/site-packages/IPython/core/interactiveshell.py:3257: DtypeWarning:\n",
      "\n",
      "Columns (3,5,10,15,18) have mixed types.Specify dtype option on import or set low_memory=False.\n",
      "\n"
     ]
    },
    {
     "name": "stdout",
     "output_type": "stream",
     "text": [
      "Processing chunk 25\n"
     ]
    },
    {
     "name": "stderr",
     "output_type": "stream",
     "text": [
      "/Users/sahluwalia/acre/lib/python3.7/site-packages/IPython/core/interactiveshell.py:3257: DtypeWarning:\n",
      "\n",
      "Columns (5,15,18,19) have mixed types.Specify dtype option on import or set low_memory=False.\n",
      "\n"
     ]
    },
    {
     "name": "stdout",
     "output_type": "stream",
     "text": [
      "Processing chunk 26\n",
      "Processing chunk 27\n",
      "Processing chunk 28\n"
     ]
    },
    {
     "name": "stderr",
     "output_type": "stream",
     "text": [
      "/Users/sahluwalia/acre/lib/python3.7/site-packages/IPython/core/interactiveshell.py:3257: DtypeWarning:\n",
      "\n",
      "Columns (16) have mixed types.Specify dtype option on import or set low_memory=False.\n",
      "\n"
     ]
    },
    {
     "name": "stdout",
     "output_type": "stream",
     "text": [
      "Processing chunk 29\n",
      "Processing chunk 30\n",
      "Processing chunk 31\n"
     ]
    },
    {
     "name": "stderr",
     "output_type": "stream",
     "text": [
      "/Users/sahluwalia/acre/lib/python3.7/site-packages/IPython/core/interactiveshell.py:3257: DtypeWarning:\n",
      "\n",
      "Columns (18) have mixed types.Specify dtype option on import or set low_memory=False.\n",
      "\n"
     ]
    },
    {
     "name": "stdout",
     "output_type": "stream",
     "text": [
      "Processing chunk 32\n",
      "Processing chunk 33\n",
      "Processing chunk 34\n",
      "Processing chunk 35\n"
     ]
    },
    {
     "name": "stderr",
     "output_type": "stream",
     "text": [
      "/Users/sahluwalia/acre/lib/python3.7/site-packages/IPython/core/interactiveshell.py:3257: DtypeWarning:\n",
      "\n",
      "Columns (3,18) have mixed types.Specify dtype option on import or set low_memory=False.\n",
      "\n"
     ]
    },
    {
     "name": "stdout",
     "output_type": "stream",
     "text": [
      "Processing chunk 36\n",
      "Processing chunk 37\n",
      "Processing chunk 38\n",
      "Processing chunk 39\n",
      "Processing chunk 40\n",
      "Processing chunk 41\n",
      "Processing chunk 42\n"
     ]
    },
    {
     "name": "stderr",
     "output_type": "stream",
     "text": [
      "/Users/sahluwalia/acre/lib/python3.7/site-packages/IPython/core/interactiveshell.py:3257: DtypeWarning:\n",
      "\n",
      "Columns (13,14,17,20) have mixed types.Specify dtype option on import or set low_memory=False.\n",
      "\n"
     ]
    },
    {
     "name": "stdout",
     "output_type": "stream",
     "text": [
      "Processing chunk 43\n",
      "Processing chunk 44\n",
      "Processing chunk 45\n",
      "Processing chunk 46\n",
      "Processing chunk 47\n",
      "Processing chunk 48\n",
      "Processing chunk 49\n",
      "Processing chunk 50\n",
      "Processing chunk 51\n",
      "Processing chunk 52\n",
      "Processing chunk 53\n"
     ]
    },
    {
     "name": "stderr",
     "output_type": "stream",
     "text": [
      "/Users/sahluwalia/acre/lib/python3.7/site-packages/IPython/core/interactiveshell.py:3257: DtypeWarning:\n",
      "\n",
      "Columns (10,15,16) have mixed types.Specify dtype option on import or set low_memory=False.\n",
      "\n"
     ]
    },
    {
     "name": "stdout",
     "output_type": "stream",
     "text": [
      "Processing chunk 54\n",
      "Processing chunk 55\n",
      "Processing chunk 56\n",
      "Processing chunk 57\n",
      "Processing chunk 58\n",
      "Processing chunk 59\n",
      "Processing chunk 60\n",
      "Processing chunk 61\n",
      "Processing chunk 62\n",
      "Processing chunk 63\n",
      "Processing chunk 64\n",
      "Processing chunk 65\n",
      "Processing chunk 66\n",
      "Processing chunk 67\n",
      "Processing chunk 68\n",
      "Processing chunk 69\n",
      "Processing chunk 70\n",
      "Processing chunk 71\n",
      "Processing chunk 72\n",
      "Processing chunk 73\n",
      "Processing chunk 74\n",
      "Processing chunk 75\n",
      "Processing chunk 76\n",
      "Processing chunk 77\n",
      "Processing chunk 78\n",
      "Processing chunk 79\n",
      "Processing chunk 80\n",
      "Processing chunk 81\n",
      "Processing chunk 82\n",
      "Processing chunk 83\n",
      "Processing chunk 84\n",
      "Processing chunk 85\n",
      "Processing chunk 86\n",
      "Processing chunk 87\n",
      "Processing chunk 88\n",
      "Processing chunk 89\n",
      "Processing chunk 90\n",
      "Processing chunk 91\n",
      "Processing chunk 92\n",
      "Processing chunk 93\n",
      "Processing chunk 94\n"
     ]
    },
    {
     "name": "stderr",
     "output_type": "stream",
     "text": [
      "/Users/sahluwalia/acre/lib/python3.7/site-packages/IPython/core/interactiveshell.py:3257: DtypeWarning:\n",
      "\n",
      "Columns (10,16) have mixed types.Specify dtype option on import or set low_memory=False.\n",
      "\n"
     ]
    },
    {
     "name": "stdout",
     "output_type": "stream",
     "text": [
      "Processing chunk 95\n",
      "Processing chunk 96\n",
      "Processing chunk 97\n",
      "Processing chunk 98\n",
      "Processing chunk 99\n",
      "Processing chunk 100\n",
      "Processing chunk 101\n",
      "Processing chunk 102\n",
      "Processing chunk 103\n",
      "Processing chunk 104\n",
      "Processing chunk 105\n",
      "Processing chunk 106\n",
      "Processing chunk 107\n",
      "Processing chunk 108\n",
      "Processing chunk 109\n",
      "Processing chunk 110\n",
      "Processing chunk 111\n",
      "Processing chunk 112\n",
      "Processing chunk 113\n",
      "Processing chunk 114\n",
      "Processing chunk 115\n",
      "Processing chunk 116\n",
      "Processing chunk 117\n",
      "Processing chunk 118\n",
      "Processing chunk 119\n",
      "Processing chunk 120\n",
      "Processing chunk 121\n",
      "Processing chunk 122\n",
      "Processing chunk 123\n",
      "Processing chunk 124\n",
      "Processing chunk 125\n",
      "Processing chunk 126\n",
      "Processing chunk 127\n",
      "Processing chunk 128\n",
      "Processing chunk 129\n",
      "Processing chunk 130\n",
      "Processing chunk 131\n",
      "Processing chunk 132\n",
      "Processing chunk 133\n",
      "Processing chunk 134\n",
      "Processing chunk 135\n",
      "Processing chunk 136\n",
      "Processing chunk 137\n",
      "Processing chunk 138\n",
      "Processing chunk 139\n",
      "Processing chunk 140\n",
      "Processing chunk 141\n",
      "Processing chunk 142\n",
      "Processing chunk 143\n",
      "Processing chunk 144\n",
      "Processing chunk 145\n",
      "Processing chunk 146\n",
      "Processing chunk 147\n",
      "Processing chunk 148\n",
      "Processing chunk 149\n",
      "Processing chunk 150\n",
      "Processing chunk 151\n",
      "Processing chunk 152\n",
      "Processing chunk 153\n",
      "Processing chunk 154\n",
      "Processing chunk 155\n",
      "Processing chunk 156\n",
      "Processing chunk 157\n",
      "Processing chunk 158\n",
      "Processing chunk 159\n",
      "Processing chunk 160\n",
      "Processing chunk 161\n",
      "Processing chunk 162\n",
      "Processing chunk 163\n",
      "Processing chunk 164\n",
      "Processing chunk 165\n",
      "Processing chunk 166\n",
      "Processing chunk 167\n",
      "Processing chunk 168\n",
      "Processing chunk 169\n",
      "Processing chunk 170\n",
      "Processing chunk 171\n",
      "Processing chunk 172\n",
      "Processing chunk 173\n",
      "Processing chunk 174\n",
      "Processing chunk 175\n",
      "Processing chunk 176\n",
      "Processing chunk 177\n",
      "Processing chunk 178\n",
      "Processing chunk 179\n",
      "Processing chunk 180\n",
      "Processing chunk 181\n",
      "Processing chunk 182\n",
      "Processing chunk 183\n",
      "Processing chunk 184\n",
      "Processing chunk 185\n",
      "Processing chunk 186\n",
      "Processing chunk 187\n",
      "Processing chunk 188\n",
      "Processing chunk 189\n",
      "Processing chunk 190\n",
      "Processing chunk 191\n",
      "Processing chunk 192\n",
      "Processing chunk 193\n",
      "Processing chunk 194\n",
      "Processing chunk 195\n",
      "Processing chunk 196\n",
      "Processing chunk 197\n",
      "Processing chunk 198\n",
      "Processing chunk 199\n",
      "Processing chunk 200\n",
      "Processing chunk 201\n",
      "Processing chunk 202\n",
      "Processing chunk 203\n",
      "Processing chunk 204\n",
      "Processing chunk 205\n",
      "Processing chunk 206\n",
      "Processing chunk 207\n",
      "Processing chunk 208\n",
      "Processing chunk 209\n",
      "Processing chunk 210\n",
      "Processing chunk 211\n",
      "Processing chunk 212\n",
      "Processing chunk 213\n",
      "Processing chunk 214\n",
      "Processing chunk 215\n",
      "Processing chunk 216\n",
      "Processing chunk 217\n",
      "Processing chunk 218\n",
      "Processing chunk 219\n",
      "Processing chunk 220\n",
      "Processing chunk 221\n",
      "Processing chunk 222\n",
      "Processing chunk 223\n",
      "Processing chunk 224\n",
      "Processing chunk 225\n",
      "Processing chunk 226\n"
     ]
    },
    {
     "name": "stderr",
     "output_type": "stream",
     "text": [
      "/Users/sahluwalia/acre/lib/python3.7/site-packages/IPython/core/interactiveshell.py:3257: DtypeWarning:\n",
      "\n",
      "Columns (18,19) have mixed types.Specify dtype option on import or set low_memory=False.\n",
      "\n"
     ]
    },
    {
     "name": "stdout",
     "output_type": "stream",
     "text": [
      "Processing chunk 227\n",
      "Processing chunk 228\n",
      "Processing chunk 229\n",
      "Processing chunk 230\n",
      "Processing chunk 231\n",
      "Processing chunk 232\n",
      "Processing chunk 233\n",
      "Processing chunk 234\n",
      "Processing chunk 235\n",
      "Processing chunk 236\n",
      "Processing chunk 237\n",
      "Processing chunk 238\n",
      "Processing chunk 239\n",
      "Processing chunk 240\n",
      "Processing chunk 241\n",
      "Processing chunk 242\n",
      "Processing chunk 243\n",
      "Processing chunk 244\n",
      "Processing chunk 245\n",
      "Processing chunk 246\n",
      "Processing chunk 247\n",
      "Processing chunk 248\n",
      "Processing chunk 249\n",
      "Processing chunk 250\n",
      "Processing chunk 251\n",
      "Processing chunk 252\n",
      "Processing chunk 253\n"
     ]
    },
    {
     "name": "stderr",
     "output_type": "stream",
     "text": [
      "/Users/sahluwalia/acre/lib/python3.7/site-packages/IPython/core/interactiveshell.py:3257: DtypeWarning:\n",
      "\n",
      "Columns (3) have mixed types.Specify dtype option on import or set low_memory=False.\n",
      "\n"
     ]
    },
    {
     "name": "stdout",
     "output_type": "stream",
     "text": [
      "Processing chunk 254\n",
      "Processing chunk 255\n",
      "Processing chunk 256\n"
     ]
    },
    {
     "name": "stderr",
     "output_type": "stream",
     "text": [
      "/Users/sahluwalia/acre/lib/python3.7/site-packages/IPython/core/interactiveshell.py:3257: DtypeWarning:\n",
      "\n",
      "Columns (11,12) have mixed types.Specify dtype option on import or set low_memory=False.\n",
      "\n"
     ]
    },
    {
     "name": "stdout",
     "output_type": "stream",
     "text": [
      "Processing chunk 257\n"
     ]
    },
    {
     "name": "stderr",
     "output_type": "stream",
     "text": [
      "/Users/sahluwalia/acre/lib/python3.7/site-packages/IPython/core/interactiveshell.py:3257: DtypeWarning:\n",
      "\n",
      "Columns (3,10,11,12,19) have mixed types.Specify dtype option on import or set low_memory=False.\n",
      "\n"
     ]
    },
    {
     "name": "stdout",
     "output_type": "stream",
     "text": [
      "Processing chunk 258\n",
      "Processing chunk 259\n",
      "Processing chunk 260\n"
     ]
    }
   ],
   "source": [
    "import gc\n",
    "chunksize = 100000\n",
    "contribs_by_indivs = []\n",
    "cols = None\n",
    "for i in range(contribs_cnt//chunksize):\n",
    "    print(f\"Processing chunk {i}\")\n",
    "    df = pd.read_csv(f\"../data/20192020-FEC/Contributions by individuals.csv\", skiprows=i*chunksize, nrows=chunksize)\n",
    "    if i == 0:\n",
    "        cols = df.columns\n",
    "    else:\n",
    "        df.columns = cols\n",
    "    if i == 42:\n",
    "        df = handle_iteration_42(df)\n",
    "    interesting_ones = df[df['CMTE_ID'].isin(cmte_cand_mapping['CMTE_ID'])]\n",
    "    if len(interesting_ones) > 0:\n",
    "        contribs_by_indivs.append(interesting_ones)\n",
    "#len(contribs_by_indivs)"
   ]
  },
  {
   "cell_type": "code",
   "execution_count": 45,
   "metadata": {
    "_kg_hide-input": true,
    "_kg_hide-output": true,
    "execution": {
     "iopub.execute_input": "2020-09-02T06:04:23.788852Z",
     "iopub.status.busy": "2020-09-02T06:04:23.788018Z",
     "iopub.status.idle": "2020-09-02T06:04:26.594455Z",
     "shell.execute_reply": "2020-09-02T06:04:26.593723Z"
    },
    "papermill": {
     "duration": 2.922134,
     "end_time": "2020-09-02T06:04:26.594602",
     "exception": false,
     "start_time": "2020-09-02T06:04:23.672468",
     "status": "completed"
    },
    "tags": []
   },
   "outputs": [
    {
     "data": {
      "text/html": [
       "<div>\n",
       "<style scoped>\n",
       "    .dataframe tbody tr th:only-of-type {\n",
       "        vertical-align: middle;\n",
       "    }\n",
       "\n",
       "    .dataframe tbody tr th {\n",
       "        vertical-align: top;\n",
       "    }\n",
       "\n",
       "    .dataframe thead th {\n",
       "        text-align: right;\n",
       "    }\n",
       "</style>\n",
       "<table border=\"1\" class=\"dataframe\">\n",
       "  <thead>\n",
       "    <tr style=\"text-align: right;\">\n",
       "      <th></th>\n",
       "      <th>CMTE_ID</th>\n",
       "      <th>AMNDT_IND</th>\n",
       "      <th>RPT_TP</th>\n",
       "      <th>TRANSACTION_PGI</th>\n",
       "      <th>IMAGE_NUM</th>\n",
       "      <th>TRANSACTION_TP</th>\n",
       "      <th>ENTITY_TP</th>\n",
       "      <th>NAME</th>\n",
       "      <th>CITY</th>\n",
       "      <th>STATE</th>\n",
       "      <th>ZIP_CODE</th>\n",
       "      <th>EMPLOYER</th>\n",
       "      <th>OCCUPATION</th>\n",
       "      <th>TRANSACTION_DT</th>\n",
       "      <th>TRANSACTION_AMT</th>\n",
       "      <th>OTHER_ID</th>\n",
       "      <th>TRAN_ID</th>\n",
       "      <th>FILE_NUM</th>\n",
       "      <th>MEMO_CD</th>\n",
       "      <th>MEMO_TEXT</th>\n",
       "      <th>SUB_ID</th>\n",
       "    </tr>\n",
       "  </thead>\n",
       "  <tbody>\n",
       "    <tr>\n",
       "      <th>15</th>\n",
       "      <td>C00428110</td>\n",
       "      <td>N</td>\n",
       "      <td>M2</td>\n",
       "      <td>P</td>\n",
       "      <td>201902049145460549</td>\n",
       "      <td>15</td>\n",
       "      <td>IND</td>\n",
       "      <td>MATTHIES, KEVIN</td>\n",
       "      <td>WICHITA</td>\n",
       "      <td>KS</td>\n",
       "      <td>67210</td>\n",
       "      <td>SPIRIT AEROSYSTEMS INC</td>\n",
       "      <td>SENIOR VP/GENERAL MANAGER</td>\n",
       "      <td>1102019.0</td>\n",
       "      <td>208</td>\n",
       "      <td>NaN</td>\n",
       "      <td>B000235S000077L11A1</td>\n",
       "      <td>1314300</td>\n",
       "      <td>NaN</td>\n",
       "      <td>NaN</td>\n",
       "      <td>4022620191644153387</td>\n",
       "    </tr>\n",
       "    <tr>\n",
       "      <th>16</th>\n",
       "      <td>C00428110</td>\n",
       "      <td>N</td>\n",
       "      <td>M2</td>\n",
       "      <td>P</td>\n",
       "      <td>201902049145460548</td>\n",
       "      <td>15</td>\n",
       "      <td>IND</td>\n",
       "      <td>GENTILE, THOMAS C</td>\n",
       "      <td>WICHITA</td>\n",
       "      <td>KS</td>\n",
       "      <td>67210</td>\n",
       "      <td>SPIRIT AEROSYSTEMS INC</td>\n",
       "      <td>PRESIDENT &amp; CEO</td>\n",
       "      <td>1102019.0</td>\n",
       "      <td>416</td>\n",
       "      <td>NaN</td>\n",
       "      <td>B000235S000036L11A1</td>\n",
       "      <td>1314300</td>\n",
       "      <td>NaN</td>\n",
       "      <td>NaN</td>\n",
       "      <td>4022620191644153384</td>\n",
       "    </tr>\n",
       "    <tr>\n",
       "      <th>17</th>\n",
       "      <td>C00428110</td>\n",
       "      <td>N</td>\n",
       "      <td>M2</td>\n",
       "      <td>P</td>\n",
       "      <td>201902049145460548</td>\n",
       "      <td>15</td>\n",
       "      <td>IND</td>\n",
       "      <td>HAWKINS, DUANE F</td>\n",
       "      <td>WICHITA</td>\n",
       "      <td>KS</td>\n",
       "      <td>67210</td>\n",
       "      <td>SPIRIT AEROSYSTEMS INC</td>\n",
       "      <td>SENIOR VP/GENERAL MANAGER</td>\n",
       "      <td>1102019.0</td>\n",
       "      <td>250</td>\n",
       "      <td>NaN</td>\n",
       "      <td>B000235S000045L11A1</td>\n",
       "      <td>1314300</td>\n",
       "      <td>NaN</td>\n",
       "      <td>NaN</td>\n",
       "      <td>4022620191644153385</td>\n",
       "    </tr>\n",
       "    <tr>\n",
       "      <th>18</th>\n",
       "      <td>C00428110</td>\n",
       "      <td>N</td>\n",
       "      <td>M2</td>\n",
       "      <td>P</td>\n",
       "      <td>201902049145460548</td>\n",
       "      <td>15</td>\n",
       "      <td>IND</td>\n",
       "      <td>KONDROTIS, KRISSTIE A</td>\n",
       "      <td>WICHITA</td>\n",
       "      <td>KS</td>\n",
       "      <td>67210</td>\n",
       "      <td>SPIRIT AEROSYSTEMS INC</td>\n",
       "      <td>SVP BUSINESS DEVELOPMENT &amp; REGIO</td>\n",
       "      <td>1102019.0</td>\n",
       "      <td>250</td>\n",
       "      <td>NaN</td>\n",
       "      <td>B000235S000062L11A1</td>\n",
       "      <td>1314300</td>\n",
       "      <td>NaN</td>\n",
       "      <td>NaN</td>\n",
       "      <td>4022620191644153386</td>\n",
       "    </tr>\n",
       "    <tr>\n",
       "      <th>19</th>\n",
       "      <td>C00428110</td>\n",
       "      <td>N</td>\n",
       "      <td>M2</td>\n",
       "      <td>P</td>\n",
       "      <td>201902049145460549</td>\n",
       "      <td>15</td>\n",
       "      <td>IND</td>\n",
       "      <td>PILLA, JOHN ANTHONY</td>\n",
       "      <td>WICHITA</td>\n",
       "      <td>KS</td>\n",
       "      <td>67210</td>\n",
       "      <td>SPIRIT AEROSYSTEMS INC</td>\n",
       "      <td>SVP ENGINEERING AND CTO</td>\n",
       "      <td>1102019.0</td>\n",
       "      <td>250</td>\n",
       "      <td>NaN</td>\n",
       "      <td>B000235S000090L11A1</td>\n",
       "      <td>1314300</td>\n",
       "      <td>NaN</td>\n",
       "      <td>NaN</td>\n",
       "      <td>4022620191644153388</td>\n",
       "    </tr>\n",
       "  </tbody>\n",
       "</table>\n",
       "</div>"
      ],
      "text/plain": [
       "      CMTE_ID AMNDT_IND RPT_TP TRANSACTION_PGI           IMAGE_NUM  \\\n",
       "15  C00428110         N     M2               P  201902049145460549   \n",
       "16  C00428110         N     M2               P  201902049145460548   \n",
       "17  C00428110         N     M2               P  201902049145460548   \n",
       "18  C00428110         N     M2               P  201902049145460548   \n",
       "19  C00428110         N     M2               P  201902049145460549   \n",
       "\n",
       "   TRANSACTION_TP ENTITY_TP                   NAME     CITY STATE ZIP_CODE  \\\n",
       "15             15       IND        MATTHIES, KEVIN  WICHITA    KS    67210   \n",
       "16             15       IND      GENTILE, THOMAS C  WICHITA    KS    67210   \n",
       "17             15       IND       HAWKINS, DUANE F  WICHITA    KS    67210   \n",
       "18             15       IND  KONDROTIS, KRISSTIE A  WICHITA    KS    67210   \n",
       "19             15       IND    PILLA, JOHN ANTHONY  WICHITA    KS    67210   \n",
       "\n",
       "                  EMPLOYER                        OCCUPATION  TRANSACTION_DT  \\\n",
       "15  SPIRIT AEROSYSTEMS INC         SENIOR VP/GENERAL MANAGER       1102019.0   \n",
       "16  SPIRIT AEROSYSTEMS INC                   PRESIDENT & CEO       1102019.0   \n",
       "17  SPIRIT AEROSYSTEMS INC         SENIOR VP/GENERAL MANAGER       1102019.0   \n",
       "18  SPIRIT AEROSYSTEMS INC  SVP BUSINESS DEVELOPMENT & REGIO       1102019.0   \n",
       "19  SPIRIT AEROSYSTEMS INC           SVP ENGINEERING AND CTO       1102019.0   \n",
       "\n",
       "    TRANSACTION_AMT OTHER_ID              TRAN_ID  FILE_NUM MEMO_CD MEMO_TEXT  \\\n",
       "15              208      NaN  B000235S000077L11A1   1314300     NaN       NaN   \n",
       "16              416      NaN  B000235S000036L11A1   1314300     NaN       NaN   \n",
       "17              250      NaN  B000235S000045L11A1   1314300     NaN       NaN   \n",
       "18              250      NaN  B000235S000062L11A1   1314300     NaN       NaN   \n",
       "19              250      NaN  B000235S000090L11A1   1314300     NaN       NaN   \n",
       "\n",
       "                 SUB_ID  \n",
       "15  4022620191644153387  \n",
       "16  4022620191644153384  \n",
       "17  4022620191644153385  \n",
       "18  4022620191644153386  \n",
       "19  4022620191644153388  "
      ]
     },
     "execution_count": 45,
     "metadata": {},
     "output_type": "execute_result"
    }
   ],
   "source": [
    "contribs_by_indivs = pd.concat(contribs_by_indivs)\n",
    "contribs_by_indivs.head()"
   ]
  },
  {
   "cell_type": "code",
   "execution_count": 46,
   "metadata": {
    "_kg_hide-input": true,
    "_kg_hide-output": true,
    "execution": {
     "iopub.execute_input": "2020-09-02T06:04:26.810224Z",
     "iopub.status.busy": "2020-09-02T06:04:26.809387Z",
     "iopub.status.idle": "2020-09-02T06:04:36.371506Z",
     "shell.execute_reply": "2020-09-02T06:04:36.370810Z"
    },
    "papermill": {
     "duration": 9.670949,
     "end_time": "2020-09-02T06:04:36.371682",
     "exception": false,
     "start_time": "2020-09-02T06:04:26.700733",
     "status": "completed"
    },
    "tags": []
   },
   "outputs": [
    {
     "data": {
      "text/html": [
       "<div>\n",
       "<style scoped>\n",
       "    .dataframe tbody tr th:only-of-type {\n",
       "        vertical-align: middle;\n",
       "    }\n",
       "\n",
       "    .dataframe tbody tr th {\n",
       "        vertical-align: top;\n",
       "    }\n",
       "\n",
       "    .dataframe thead th {\n",
       "        text-align: right;\n",
       "    }\n",
       "</style>\n",
       "<table border=\"1\" class=\"dataframe\">\n",
       "  <thead>\n",
       "    <tr style=\"text-align: right;\">\n",
       "      <th></th>\n",
       "      <th>CMTE_ID</th>\n",
       "      <th>AMNDT_IND</th>\n",
       "      <th>RPT_TP</th>\n",
       "      <th>TRANSACTION_PGI</th>\n",
       "      <th>IMAGE_NUM</th>\n",
       "      <th>TRANSACTION_TP</th>\n",
       "      <th>ENTITY_TP</th>\n",
       "      <th>NAME</th>\n",
       "      <th>CITY</th>\n",
       "      <th>STATE</th>\n",
       "      <th>ZIP_CODE</th>\n",
       "      <th>EMPLOYER</th>\n",
       "      <th>OCCUPATION</th>\n",
       "      <th>TRANSACTION_DT</th>\n",
       "      <th>TRANSACTION_AMT</th>\n",
       "      <th>OTHER_ID</th>\n",
       "      <th>TRAN_ID</th>\n",
       "      <th>FILE_NUM</th>\n",
       "      <th>MEMO_CD</th>\n",
       "      <th>MEMO_TEXT</th>\n",
       "      <th>SUB_ID</th>\n",
       "    </tr>\n",
       "  </thead>\n",
       "  <tbody>\n",
       "    <tr>\n",
       "      <th>15</th>\n",
       "      <td>C00428110</td>\n",
       "      <td>N</td>\n",
       "      <td>M2</td>\n",
       "      <td>P</td>\n",
       "      <td>201902049145460549</td>\n",
       "      <td>15</td>\n",
       "      <td>IND</td>\n",
       "      <td>MATTHIES, KEVIN</td>\n",
       "      <td>WICHITA</td>\n",
       "      <td>KS</td>\n",
       "      <td>67210</td>\n",
       "      <td>SPIRIT AEROSYSTEMS INC</td>\n",
       "      <td>SENIOR VP/GENERAL MANAGER</td>\n",
       "      <td>2019-01-10</td>\n",
       "      <td>208</td>\n",
       "      <td>NaN</td>\n",
       "      <td>B000235S000077L11A1</td>\n",
       "      <td>1314300</td>\n",
       "      <td>NaN</td>\n",
       "      <td>NaN</td>\n",
       "      <td>4022620191644153387</td>\n",
       "    </tr>\n",
       "    <tr>\n",
       "      <th>16</th>\n",
       "      <td>C00428110</td>\n",
       "      <td>N</td>\n",
       "      <td>M2</td>\n",
       "      <td>P</td>\n",
       "      <td>201902049145460548</td>\n",
       "      <td>15</td>\n",
       "      <td>IND</td>\n",
       "      <td>GENTILE, THOMAS C</td>\n",
       "      <td>WICHITA</td>\n",
       "      <td>KS</td>\n",
       "      <td>67210</td>\n",
       "      <td>SPIRIT AEROSYSTEMS INC</td>\n",
       "      <td>PRESIDENT &amp; CEO</td>\n",
       "      <td>2019-01-10</td>\n",
       "      <td>416</td>\n",
       "      <td>NaN</td>\n",
       "      <td>B000235S000036L11A1</td>\n",
       "      <td>1314300</td>\n",
       "      <td>NaN</td>\n",
       "      <td>NaN</td>\n",
       "      <td>4022620191644153384</td>\n",
       "    </tr>\n",
       "    <tr>\n",
       "      <th>17</th>\n",
       "      <td>C00428110</td>\n",
       "      <td>N</td>\n",
       "      <td>M2</td>\n",
       "      <td>P</td>\n",
       "      <td>201902049145460548</td>\n",
       "      <td>15</td>\n",
       "      <td>IND</td>\n",
       "      <td>HAWKINS, DUANE F</td>\n",
       "      <td>WICHITA</td>\n",
       "      <td>KS</td>\n",
       "      <td>67210</td>\n",
       "      <td>SPIRIT AEROSYSTEMS INC</td>\n",
       "      <td>SENIOR VP/GENERAL MANAGER</td>\n",
       "      <td>2019-01-10</td>\n",
       "      <td>250</td>\n",
       "      <td>NaN</td>\n",
       "      <td>B000235S000045L11A1</td>\n",
       "      <td>1314300</td>\n",
       "      <td>NaN</td>\n",
       "      <td>NaN</td>\n",
       "      <td>4022620191644153385</td>\n",
       "    </tr>\n",
       "    <tr>\n",
       "      <th>18</th>\n",
       "      <td>C00428110</td>\n",
       "      <td>N</td>\n",
       "      <td>M2</td>\n",
       "      <td>P</td>\n",
       "      <td>201902049145460548</td>\n",
       "      <td>15</td>\n",
       "      <td>IND</td>\n",
       "      <td>KONDROTIS, KRISSTIE A</td>\n",
       "      <td>WICHITA</td>\n",
       "      <td>KS</td>\n",
       "      <td>67210</td>\n",
       "      <td>SPIRIT AEROSYSTEMS INC</td>\n",
       "      <td>SVP BUSINESS DEVELOPMENT &amp; REGIO</td>\n",
       "      <td>2019-01-10</td>\n",
       "      <td>250</td>\n",
       "      <td>NaN</td>\n",
       "      <td>B000235S000062L11A1</td>\n",
       "      <td>1314300</td>\n",
       "      <td>NaN</td>\n",
       "      <td>NaN</td>\n",
       "      <td>4022620191644153386</td>\n",
       "    </tr>\n",
       "    <tr>\n",
       "      <th>19</th>\n",
       "      <td>C00428110</td>\n",
       "      <td>N</td>\n",
       "      <td>M2</td>\n",
       "      <td>P</td>\n",
       "      <td>201902049145460549</td>\n",
       "      <td>15</td>\n",
       "      <td>IND</td>\n",
       "      <td>PILLA, JOHN ANTHONY</td>\n",
       "      <td>WICHITA</td>\n",
       "      <td>KS</td>\n",
       "      <td>67210</td>\n",
       "      <td>SPIRIT AEROSYSTEMS INC</td>\n",
       "      <td>SVP ENGINEERING AND CTO</td>\n",
       "      <td>2019-01-10</td>\n",
       "      <td>250</td>\n",
       "      <td>NaN</td>\n",
       "      <td>B000235S000090L11A1</td>\n",
       "      <td>1314300</td>\n",
       "      <td>NaN</td>\n",
       "      <td>NaN</td>\n",
       "      <td>4022620191644153388</td>\n",
       "    </tr>\n",
       "  </tbody>\n",
       "</table>\n",
       "</div>"
      ],
      "text/plain": [
       "      CMTE_ID AMNDT_IND RPT_TP TRANSACTION_PGI           IMAGE_NUM  \\\n",
       "15  C00428110         N     M2               P  201902049145460549   \n",
       "16  C00428110         N     M2               P  201902049145460548   \n",
       "17  C00428110         N     M2               P  201902049145460548   \n",
       "18  C00428110         N     M2               P  201902049145460548   \n",
       "19  C00428110         N     M2               P  201902049145460549   \n",
       "\n",
       "   TRANSACTION_TP ENTITY_TP                   NAME     CITY STATE ZIP_CODE  \\\n",
       "15             15       IND        MATTHIES, KEVIN  WICHITA    KS    67210   \n",
       "16             15       IND      GENTILE, THOMAS C  WICHITA    KS    67210   \n",
       "17             15       IND       HAWKINS, DUANE F  WICHITA    KS    67210   \n",
       "18             15       IND  KONDROTIS, KRISSTIE A  WICHITA    KS    67210   \n",
       "19             15       IND    PILLA, JOHN ANTHONY  WICHITA    KS    67210   \n",
       "\n",
       "                  EMPLOYER                        OCCUPATION TRANSACTION_DT  \\\n",
       "15  SPIRIT AEROSYSTEMS INC         SENIOR VP/GENERAL MANAGER     2019-01-10   \n",
       "16  SPIRIT AEROSYSTEMS INC                   PRESIDENT & CEO     2019-01-10   \n",
       "17  SPIRIT AEROSYSTEMS INC         SENIOR VP/GENERAL MANAGER     2019-01-10   \n",
       "18  SPIRIT AEROSYSTEMS INC  SVP BUSINESS DEVELOPMENT & REGIO     2019-01-10   \n",
       "19  SPIRIT AEROSYSTEMS INC           SVP ENGINEERING AND CTO     2019-01-10   \n",
       "\n",
       "    TRANSACTION_AMT OTHER_ID              TRAN_ID  FILE_NUM MEMO_CD MEMO_TEXT  \\\n",
       "15              208      NaN  B000235S000077L11A1   1314300     NaN       NaN   \n",
       "16              416      NaN  B000235S000036L11A1   1314300     NaN       NaN   \n",
       "17              250      NaN  B000235S000045L11A1   1314300     NaN       NaN   \n",
       "18              250      NaN  B000235S000062L11A1   1314300     NaN       NaN   \n",
       "19              250      NaN  B000235S000090L11A1   1314300     NaN       NaN   \n",
       "\n",
       "                 SUB_ID  \n",
       "15  4022620191644153387  \n",
       "16  4022620191644153384  \n",
       "17  4022620191644153385  \n",
       "18  4022620191644153386  \n",
       "19  4022620191644153388  "
      ]
     },
     "execution_count": 46,
     "metadata": {},
     "output_type": "execute_result"
    }
   ],
   "source": [
    "contribs_by_indivs = contribs_by_indivs[(~contribs_by_indivs['TRANSACTION_DT'].isnull())]\n",
    "contribs_by_indivs['TRANSACTION_DT'] = pd.to_datetime(\n",
    "    contribs_by_indivs['TRANSACTION_DT'].fillna(0).astype('int').astype('str')\n",
    "    .replace('0', np.NaN).str.zfill(8), format='%m%d%Y')\n",
    "contribs_by_indivs.head()"
   ]
  },
  {
   "cell_type": "code",
   "execution_count": 47,
   "metadata": {
    "_kg_hide-input": true,
    "execution": {
     "iopub.execute_input": "2020-09-02T06:04:36.592299Z",
     "iopub.status.busy": "2020-09-02T06:04:36.591487Z",
     "iopub.status.idle": "2020-09-02T06:04:37.397976Z",
     "shell.execute_reply": "2020-09-02T06:04:37.398589Z"
    },
    "papermill": {
     "duration": 0.92096,
     "end_time": "2020-09-02T06:04:37.398790",
     "exception": false,
     "start_time": "2020-09-02T06:04:36.477830",
     "status": "completed"
    },
    "tags": []
   },
   "outputs": [
    {
     "data": {
      "text/html": [
       "<div>\n",
       "<style scoped>\n",
       "    .dataframe tbody tr th:only-of-type {\n",
       "        vertical-align: middle;\n",
       "    }\n",
       "\n",
       "    .dataframe tbody tr th {\n",
       "        vertical-align: top;\n",
       "    }\n",
       "\n",
       "    .dataframe thead th {\n",
       "        text-align: right;\n",
       "    }\n",
       "</style>\n",
       "<table border=\"1\" class=\"dataframe\">\n",
       "  <thead>\n",
       "    <tr style=\"text-align: right;\">\n",
       "      <th></th>\n",
       "      <th>CMTE_ID</th>\n",
       "      <th>AMNDT_IND</th>\n",
       "      <th>RPT_TP</th>\n",
       "      <th>TRANSACTION_PGI</th>\n",
       "      <th>IMAGE_NUM</th>\n",
       "      <th>TRANSACTION_TP</th>\n",
       "      <th>ENTITY_TP</th>\n",
       "      <th>NAME</th>\n",
       "      <th>CITY</th>\n",
       "      <th>STATE</th>\n",
       "      <th>ZIP_CODE</th>\n",
       "      <th>EMPLOYER</th>\n",
       "      <th>OCCUPATION</th>\n",
       "      <th>TRANSACTION_DT</th>\n",
       "      <th>TRANSACTION_AMT</th>\n",
       "      <th>OTHER_ID</th>\n",
       "      <th>TRAN_ID</th>\n",
       "      <th>FILE_NUM</th>\n",
       "      <th>MEMO_CD</th>\n",
       "      <th>MEMO_TEXT</th>\n",
       "      <th>SUB_ID</th>\n",
       "    </tr>\n",
       "  </thead>\n",
       "  <tbody>\n",
       "    <tr>\n",
       "      <th>15</th>\n",
       "      <td>C00428110</td>\n",
       "      <td>N</td>\n",
       "      <td>M2</td>\n",
       "      <td>P</td>\n",
       "      <td>201902049145460549</td>\n",
       "      <td>15</td>\n",
       "      <td>IND</td>\n",
       "      <td>MATTHIES, KEVIN</td>\n",
       "      <td>WICHITA</td>\n",
       "      <td>KS</td>\n",
       "      <td>67210</td>\n",
       "      <td>SPIRIT AEROSYSTEMS INC</td>\n",
       "      <td>SENIOR VP/GENERAL MANAGER</td>\n",
       "      <td>2019-01-10</td>\n",
       "      <td>208</td>\n",
       "      <td>NaN</td>\n",
       "      <td>B000235S000077L11A1</td>\n",
       "      <td>1314300</td>\n",
       "      <td>NaN</td>\n",
       "      <td>NaN</td>\n",
       "      <td>4022620191644153387</td>\n",
       "    </tr>\n",
       "    <tr>\n",
       "      <th>16</th>\n",
       "      <td>C00428110</td>\n",
       "      <td>N</td>\n",
       "      <td>M2</td>\n",
       "      <td>P</td>\n",
       "      <td>201902049145460548</td>\n",
       "      <td>15</td>\n",
       "      <td>IND</td>\n",
       "      <td>GENTILE, THOMAS C</td>\n",
       "      <td>WICHITA</td>\n",
       "      <td>KS</td>\n",
       "      <td>67210</td>\n",
       "      <td>SPIRIT AEROSYSTEMS INC</td>\n",
       "      <td>PRESIDENT &amp; CEO</td>\n",
       "      <td>2019-01-10</td>\n",
       "      <td>416</td>\n",
       "      <td>NaN</td>\n",
       "      <td>B000235S000036L11A1</td>\n",
       "      <td>1314300</td>\n",
       "      <td>NaN</td>\n",
       "      <td>NaN</td>\n",
       "      <td>4022620191644153384</td>\n",
       "    </tr>\n",
       "    <tr>\n",
       "      <th>17</th>\n",
       "      <td>C00428110</td>\n",
       "      <td>N</td>\n",
       "      <td>M2</td>\n",
       "      <td>P</td>\n",
       "      <td>201902049145460548</td>\n",
       "      <td>15</td>\n",
       "      <td>IND</td>\n",
       "      <td>HAWKINS, DUANE F</td>\n",
       "      <td>WICHITA</td>\n",
       "      <td>KS</td>\n",
       "      <td>67210</td>\n",
       "      <td>SPIRIT AEROSYSTEMS INC</td>\n",
       "      <td>SENIOR VP/GENERAL MANAGER</td>\n",
       "      <td>2019-01-10</td>\n",
       "      <td>250</td>\n",
       "      <td>NaN</td>\n",
       "      <td>B000235S000045L11A1</td>\n",
       "      <td>1314300</td>\n",
       "      <td>NaN</td>\n",
       "      <td>NaN</td>\n",
       "      <td>4022620191644153385</td>\n",
       "    </tr>\n",
       "    <tr>\n",
       "      <th>18</th>\n",
       "      <td>C00428110</td>\n",
       "      <td>N</td>\n",
       "      <td>M2</td>\n",
       "      <td>P</td>\n",
       "      <td>201902049145460548</td>\n",
       "      <td>15</td>\n",
       "      <td>IND</td>\n",
       "      <td>KONDROTIS, KRISSTIE A</td>\n",
       "      <td>WICHITA</td>\n",
       "      <td>KS</td>\n",
       "      <td>67210</td>\n",
       "      <td>SPIRIT AEROSYSTEMS INC</td>\n",
       "      <td>SVP BUSINESS DEVELOPMENT &amp; REGIO</td>\n",
       "      <td>2019-01-10</td>\n",
       "      <td>250</td>\n",
       "      <td>NaN</td>\n",
       "      <td>B000235S000062L11A1</td>\n",
       "      <td>1314300</td>\n",
       "      <td>NaN</td>\n",
       "      <td>NaN</td>\n",
       "      <td>4022620191644153386</td>\n",
       "    </tr>\n",
       "    <tr>\n",
       "      <th>19</th>\n",
       "      <td>C00428110</td>\n",
       "      <td>N</td>\n",
       "      <td>M2</td>\n",
       "      <td>P</td>\n",
       "      <td>201902049145460549</td>\n",
       "      <td>15</td>\n",
       "      <td>IND</td>\n",
       "      <td>PILLA, JOHN ANTHONY</td>\n",
       "      <td>WICHITA</td>\n",
       "      <td>KS</td>\n",
       "      <td>67210</td>\n",
       "      <td>SPIRIT AEROSYSTEMS INC</td>\n",
       "      <td>SVP ENGINEERING AND CTO</td>\n",
       "      <td>2019-01-10</td>\n",
       "      <td>250</td>\n",
       "      <td>NaN</td>\n",
       "      <td>B000235S000090L11A1</td>\n",
       "      <td>1314300</td>\n",
       "      <td>NaN</td>\n",
       "      <td>NaN</td>\n",
       "      <td>4022620191644153388</td>\n",
       "    </tr>\n",
       "  </tbody>\n",
       "</table>\n",
       "</div>"
      ],
      "text/plain": [
       "      CMTE_ID AMNDT_IND RPT_TP TRANSACTION_PGI           IMAGE_NUM  \\\n",
       "15  C00428110         N     M2               P  201902049145460549   \n",
       "16  C00428110         N     M2               P  201902049145460548   \n",
       "17  C00428110         N     M2               P  201902049145460548   \n",
       "18  C00428110         N     M2               P  201902049145460548   \n",
       "19  C00428110         N     M2               P  201902049145460549   \n",
       "\n",
       "   TRANSACTION_TP ENTITY_TP                   NAME     CITY STATE ZIP_CODE  \\\n",
       "15             15       IND        MATTHIES, KEVIN  WICHITA    KS    67210   \n",
       "16             15       IND      GENTILE, THOMAS C  WICHITA    KS    67210   \n",
       "17             15       IND       HAWKINS, DUANE F  WICHITA    KS    67210   \n",
       "18             15       IND  KONDROTIS, KRISSTIE A  WICHITA    KS    67210   \n",
       "19             15       IND    PILLA, JOHN ANTHONY  WICHITA    KS    67210   \n",
       "\n",
       "                  EMPLOYER                        OCCUPATION TRANSACTION_DT  \\\n",
       "15  SPIRIT AEROSYSTEMS INC         SENIOR VP/GENERAL MANAGER     2019-01-10   \n",
       "16  SPIRIT AEROSYSTEMS INC                   PRESIDENT & CEO     2019-01-10   \n",
       "17  SPIRIT AEROSYSTEMS INC         SENIOR VP/GENERAL MANAGER     2019-01-10   \n",
       "18  SPIRIT AEROSYSTEMS INC  SVP BUSINESS DEVELOPMENT & REGIO     2019-01-10   \n",
       "19  SPIRIT AEROSYSTEMS INC           SVP ENGINEERING AND CTO     2019-01-10   \n",
       "\n",
       "    TRANSACTION_AMT OTHER_ID              TRAN_ID  FILE_NUM MEMO_CD MEMO_TEXT  \\\n",
       "15              208      NaN  B000235S000077L11A1   1314300     NaN       NaN   \n",
       "16              416      NaN  B000235S000036L11A1   1314300     NaN       NaN   \n",
       "17              250      NaN  B000235S000045L11A1   1314300     NaN       NaN   \n",
       "18              250      NaN  B000235S000062L11A1   1314300     NaN       NaN   \n",
       "19              250      NaN  B000235S000090L11A1   1314300     NaN       NaN   \n",
       "\n",
       "                 SUB_ID  \n",
       "15  4022620191644153387  \n",
       "16  4022620191644153384  \n",
       "17  4022620191644153385  \n",
       "18  4022620191644153386  \n",
       "19  4022620191644153388  "
      ]
     },
     "execution_count": 47,
     "metadata": {},
     "output_type": "execute_result"
    }
   ],
   "source": [
    "contribs_by_indivs = contribs_by_indivs[(contribs_by_indivs['TRANSACTION_DT'] >= '2018-01-01') & (contribs_by_indivs['TRANSACTION_DT'] < '2021-01-01')]\n",
    "contribs_by_indivs.head()"
   ]
  },
  {
   "cell_type": "code",
   "execution_count": 48,
   "metadata": {
    "_kg_hide-input": true,
    "_kg_hide-output": true,
    "execution": {
     "iopub.execute_input": "2020-09-02T06:04:37.948692Z",
     "iopub.status.busy": "2020-09-02T06:04:37.947463Z",
     "iopub.status.idle": "2020-09-02T06:04:43.297430Z",
     "shell.execute_reply": "2020-09-02T06:04:43.296698Z"
    },
    "papermill": {
     "duration": 5.795583,
     "end_time": "2020-09-02T06:04:43.297555",
     "exception": false,
     "start_time": "2020-09-02T06:04:37.501972",
     "status": "completed"
    },
    "tags": []
   },
   "outputs": [
    {
     "data": {
      "text/html": [
       "<div>\n",
       "<style scoped>\n",
       "    .dataframe tbody tr th:only-of-type {\n",
       "        vertical-align: middle;\n",
       "    }\n",
       "\n",
       "    .dataframe tbody tr th {\n",
       "        vertical-align: top;\n",
       "    }\n",
       "\n",
       "    .dataframe thead th {\n",
       "        text-align: right;\n",
       "    }\n",
       "</style>\n",
       "<table border=\"1\" class=\"dataframe\">\n",
       "  <thead>\n",
       "    <tr style=\"text-align: right;\">\n",
       "      <th></th>\n",
       "      <th>CMTE_ID</th>\n",
       "      <th>AMNDT_IND</th>\n",
       "      <th>RPT_TP</th>\n",
       "      <th>TRANSACTION_PGI</th>\n",
       "      <th>IMAGE_NUM</th>\n",
       "      <th>TRANSACTION_TP</th>\n",
       "      <th>ENTITY_TP</th>\n",
       "      <th>NAME</th>\n",
       "      <th>CITY</th>\n",
       "      <th>STATE</th>\n",
       "      <th>ZIP_CODE</th>\n",
       "      <th>EMPLOYER</th>\n",
       "      <th>OCCUPATION</th>\n",
       "      <th>TRANSACTION_DT</th>\n",
       "      <th>TRANSACTION_AMT</th>\n",
       "      <th>OTHER_ID</th>\n",
       "      <th>TRAN_ID</th>\n",
       "      <th>FILE_NUM</th>\n",
       "      <th>MEMO_CD</th>\n",
       "      <th>MEMO_TEXT</th>\n",
       "      <th>SUB_ID</th>\n",
       "      <th>CAND_NAME</th>\n",
       "    </tr>\n",
       "  </thead>\n",
       "  <tbody>\n",
       "    <tr>\n",
       "      <th>0</th>\n",
       "      <td>C00428110</td>\n",
       "      <td>N</td>\n",
       "      <td>M2</td>\n",
       "      <td>P</td>\n",
       "      <td>201902049145460549</td>\n",
       "      <td>15</td>\n",
       "      <td>IND</td>\n",
       "      <td>MATTHIES, KEVIN</td>\n",
       "      <td>WICHITA</td>\n",
       "      <td>KS</td>\n",
       "      <td>67210</td>\n",
       "      <td>SPIRIT AEROSYSTEMS INC</td>\n",
       "      <td>SENIOR VP/GENERAL MANAGER</td>\n",
       "      <td>2019-01-10</td>\n",
       "      <td>208</td>\n",
       "      <td>NaN</td>\n",
       "      <td>B000235S000077L11A1</td>\n",
       "      <td>1314300</td>\n",
       "      <td>NaN</td>\n",
       "      <td>NaN</td>\n",
       "      <td>4022620191644153387</td>\n",
       "      <td>TILLIS, THOM R. SEN.</td>\n",
       "    </tr>\n",
       "    <tr>\n",
       "      <th>1</th>\n",
       "      <td>C00428110</td>\n",
       "      <td>N</td>\n",
       "      <td>M2</td>\n",
       "      <td>P</td>\n",
       "      <td>201902049145460548</td>\n",
       "      <td>15</td>\n",
       "      <td>IND</td>\n",
       "      <td>GENTILE, THOMAS C</td>\n",
       "      <td>WICHITA</td>\n",
       "      <td>KS</td>\n",
       "      <td>67210</td>\n",
       "      <td>SPIRIT AEROSYSTEMS INC</td>\n",
       "      <td>PRESIDENT &amp; CEO</td>\n",
       "      <td>2019-01-10</td>\n",
       "      <td>416</td>\n",
       "      <td>NaN</td>\n",
       "      <td>B000235S000036L11A1</td>\n",
       "      <td>1314300</td>\n",
       "      <td>NaN</td>\n",
       "      <td>NaN</td>\n",
       "      <td>4022620191644153384</td>\n",
       "      <td>TILLIS, THOM R. SEN.</td>\n",
       "    </tr>\n",
       "    <tr>\n",
       "      <th>2</th>\n",
       "      <td>C00428110</td>\n",
       "      <td>N</td>\n",
       "      <td>M2</td>\n",
       "      <td>P</td>\n",
       "      <td>201902049145460548</td>\n",
       "      <td>15</td>\n",
       "      <td>IND</td>\n",
       "      <td>HAWKINS, DUANE F</td>\n",
       "      <td>WICHITA</td>\n",
       "      <td>KS</td>\n",
       "      <td>67210</td>\n",
       "      <td>SPIRIT AEROSYSTEMS INC</td>\n",
       "      <td>SENIOR VP/GENERAL MANAGER</td>\n",
       "      <td>2019-01-10</td>\n",
       "      <td>250</td>\n",
       "      <td>NaN</td>\n",
       "      <td>B000235S000045L11A1</td>\n",
       "      <td>1314300</td>\n",
       "      <td>NaN</td>\n",
       "      <td>NaN</td>\n",
       "      <td>4022620191644153385</td>\n",
       "      <td>TILLIS, THOM R. SEN.</td>\n",
       "    </tr>\n",
       "    <tr>\n",
       "      <th>3</th>\n",
       "      <td>C00428110</td>\n",
       "      <td>N</td>\n",
       "      <td>M2</td>\n",
       "      <td>P</td>\n",
       "      <td>201902049145460548</td>\n",
       "      <td>15</td>\n",
       "      <td>IND</td>\n",
       "      <td>KONDROTIS, KRISSTIE A</td>\n",
       "      <td>WICHITA</td>\n",
       "      <td>KS</td>\n",
       "      <td>67210</td>\n",
       "      <td>SPIRIT AEROSYSTEMS INC</td>\n",
       "      <td>SVP BUSINESS DEVELOPMENT &amp; REGIO</td>\n",
       "      <td>2019-01-10</td>\n",
       "      <td>250</td>\n",
       "      <td>NaN</td>\n",
       "      <td>B000235S000062L11A1</td>\n",
       "      <td>1314300</td>\n",
       "      <td>NaN</td>\n",
       "      <td>NaN</td>\n",
       "      <td>4022620191644153386</td>\n",
       "      <td>TILLIS, THOM R. SEN.</td>\n",
       "    </tr>\n",
       "    <tr>\n",
       "      <th>4</th>\n",
       "      <td>C00428110</td>\n",
       "      <td>N</td>\n",
       "      <td>M2</td>\n",
       "      <td>P</td>\n",
       "      <td>201902049145460549</td>\n",
       "      <td>15</td>\n",
       "      <td>IND</td>\n",
       "      <td>PILLA, JOHN ANTHONY</td>\n",
       "      <td>WICHITA</td>\n",
       "      <td>KS</td>\n",
       "      <td>67210</td>\n",
       "      <td>SPIRIT AEROSYSTEMS INC</td>\n",
       "      <td>SVP ENGINEERING AND CTO</td>\n",
       "      <td>2019-01-10</td>\n",
       "      <td>250</td>\n",
       "      <td>NaN</td>\n",
       "      <td>B000235S000090L11A1</td>\n",
       "      <td>1314300</td>\n",
       "      <td>NaN</td>\n",
       "      <td>NaN</td>\n",
       "      <td>4022620191644153388</td>\n",
       "      <td>TILLIS, THOM R. SEN.</td>\n",
       "    </tr>\n",
       "  </tbody>\n",
       "</table>\n",
       "</div>"
      ],
      "text/plain": [
       "     CMTE_ID AMNDT_IND RPT_TP TRANSACTION_PGI           IMAGE_NUM  \\\n",
       "0  C00428110         N     M2               P  201902049145460549   \n",
       "1  C00428110         N     M2               P  201902049145460548   \n",
       "2  C00428110         N     M2               P  201902049145460548   \n",
       "3  C00428110         N     M2               P  201902049145460548   \n",
       "4  C00428110         N     M2               P  201902049145460549   \n",
       "\n",
       "  TRANSACTION_TP ENTITY_TP                   NAME     CITY STATE ZIP_CODE  \\\n",
       "0             15       IND        MATTHIES, KEVIN  WICHITA    KS    67210   \n",
       "1             15       IND      GENTILE, THOMAS C  WICHITA    KS    67210   \n",
       "2             15       IND       HAWKINS, DUANE F  WICHITA    KS    67210   \n",
       "3             15       IND  KONDROTIS, KRISSTIE A  WICHITA    KS    67210   \n",
       "4             15       IND    PILLA, JOHN ANTHONY  WICHITA    KS    67210   \n",
       "\n",
       "                 EMPLOYER                        OCCUPATION TRANSACTION_DT  \\\n",
       "0  SPIRIT AEROSYSTEMS INC         SENIOR VP/GENERAL MANAGER     2019-01-10   \n",
       "1  SPIRIT AEROSYSTEMS INC                   PRESIDENT & CEO     2019-01-10   \n",
       "2  SPIRIT AEROSYSTEMS INC         SENIOR VP/GENERAL MANAGER     2019-01-10   \n",
       "3  SPIRIT AEROSYSTEMS INC  SVP BUSINESS DEVELOPMENT & REGIO     2019-01-10   \n",
       "4  SPIRIT AEROSYSTEMS INC           SVP ENGINEERING AND CTO     2019-01-10   \n",
       "\n",
       "   TRANSACTION_AMT OTHER_ID              TRAN_ID  FILE_NUM MEMO_CD MEMO_TEXT  \\\n",
       "0              208      NaN  B000235S000077L11A1   1314300     NaN       NaN   \n",
       "1              416      NaN  B000235S000036L11A1   1314300     NaN       NaN   \n",
       "2              250      NaN  B000235S000045L11A1   1314300     NaN       NaN   \n",
       "3              250      NaN  B000235S000062L11A1   1314300     NaN       NaN   \n",
       "4              250      NaN  B000235S000090L11A1   1314300     NaN       NaN   \n",
       "\n",
       "                SUB_ID             CAND_NAME  \n",
       "0  4022620191644153387  TILLIS, THOM R. SEN.  \n",
       "1  4022620191644153384  TILLIS, THOM R. SEN.  \n",
       "2  4022620191644153385  TILLIS, THOM R. SEN.  \n",
       "3  4022620191644153386  TILLIS, THOM R. SEN.  \n",
       "4  4022620191644153388  TILLIS, THOM R. SEN.  "
      ]
     },
     "execution_count": 48,
     "metadata": {},
     "output_type": "execute_result"
    }
   ],
   "source": [
    "contribs_by_indivs = contribs_by_indivs.merge(cmte_cand_mapping[['CMTE_ID', 'CAND_NAME']], on='CMTE_ID')\n",
    "#contribs_by_indivs = contribs_by_indivs.merge(candidates[['CAND_ID', 'CAND_NAME']], on='CAND_ID')\n",
    "contribs_by_indivs.head()"
   ]
  },
  {
   "cell_type": "code",
   "execution_count": 49,
   "metadata": {
    "_kg_hide-input": true,
    "execution": {
     "iopub.execute_input": "2020-09-02T06:04:43.978980Z",
     "iopub.status.busy": "2020-09-02T06:04:43.978162Z",
     "iopub.status.idle": "2020-09-02T06:04:49.818388Z",
     "shell.execute_reply": "2020-09-02T06:04:49.817667Z"
    },
    "papermill": {
     "duration": 6.420031,
     "end_time": "2020-09-02T06:04:49.818511",
     "exception": false,
     "start_time": "2020-09-02T06:04:43.398480",
     "status": "completed"
    },
    "tags": []
   },
   "outputs": [
    {
     "name": "stdout",
     "output_type": "stream",
     "text": [
      "------------------------------------------------------------\n",
      "Most individual contributions for CUNNINGHAM, CAL\n",
      "------------------------------------------------------------\n"
     ]
    },
    {
     "data": {
      "text/html": [
       "<div>\n",
       "<style scoped>\n",
       "    .dataframe tbody tr th:only-of-type {\n",
       "        vertical-align: middle;\n",
       "    }\n",
       "\n",
       "    .dataframe tbody tr th {\n",
       "        vertical-align: top;\n",
       "    }\n",
       "\n",
       "    .dataframe thead th {\n",
       "        text-align: right;\n",
       "    }\n",
       "</style>\n",
       "<table border=\"1\" class=\"dataframe\">\n",
       "  <thead>\n",
       "    <tr style=\"text-align: right;\">\n",
       "      <th></th>\n",
       "      <th>NAME</th>\n",
       "      <th>TRANSACTION_AMT</th>\n",
       "    </tr>\n",
       "  </thead>\n",
       "  <tbody>\n",
       "    <tr>\n",
       "      <th>0</th>\n",
       "      <td>SMP</td>\n",
       "      <td>7.85M</td>\n",
       "    </tr>\n",
       "    <tr>\n",
       "      <th>1</th>\n",
       "      <td>ROSENTHAL, RICHARD</td>\n",
       "      <td>2.51M</td>\n",
       "    </tr>\n",
       "    <tr>\n",
       "      <th>2</th>\n",
       "      <td>MANDEL, SUSAN</td>\n",
       "      <td>1.58M</td>\n",
       "    </tr>\n",
       "    <tr>\n",
       "      <th>3</th>\n",
       "      <td>SIMON, DEBORAH</td>\n",
       "      <td>1.11M</td>\n",
       "    </tr>\n",
       "    <tr>\n",
       "      <th>4</th>\n",
       "      <td>DELANEY, MARY QUINN</td>\n",
       "      <td>1.01M</td>\n",
       "    </tr>\n",
       "    <tr>\n",
       "      <th>5</th>\n",
       "      <td>INDIVISIBLE PROJECT, INC.</td>\n",
       "      <td>1.00M</td>\n",
       "    </tr>\n",
       "    <tr>\n",
       "      <th>6</th>\n",
       "      <td>CHC BOLD PAC</td>\n",
       "      <td>803.64K</td>\n",
       "    </tr>\n",
       "    <tr>\n",
       "      <th>7</th>\n",
       "      <td>SIMON, DEBORAH J</td>\n",
       "      <td>600.00K</td>\n",
       "    </tr>\n",
       "    <tr>\n",
       "      <th>8</th>\n",
       "      <td>SOROS, GEORGE</td>\n",
       "      <td>512.00K</td>\n",
       "    </tr>\n",
       "    <tr>\n",
       "      <th>9</th>\n",
       "      <td>O'BRIEN, PAULA</td>\n",
       "      <td>505.00K</td>\n",
       "    </tr>\n",
       "    <tr>\n",
       "      <th>10</th>\n",
       "      <td>SIERRA CLUB</td>\n",
       "      <td>500.00K</td>\n",
       "    </tr>\n",
       "    <tr>\n",
       "      <th>11</th>\n",
       "      <td>SOROS COLOMBEL, ANDREA</td>\n",
       "      <td>500.00K</td>\n",
       "    </tr>\n",
       "    <tr>\n",
       "      <th>12</th>\n",
       "      <td>SIMON, DEBORAH J.</td>\n",
       "      <td>497.00K</td>\n",
       "    </tr>\n",
       "    <tr>\n",
       "      <th>13</th>\n",
       "      <td>SOSNICK, AARON</td>\n",
       "      <td>497.00K</td>\n",
       "    </tr>\n",
       "    <tr>\n",
       "      <th>14</th>\n",
       "      <td>EYCHANER, FRED</td>\n",
       "      <td>493.60K</td>\n",
       "    </tr>\n",
       "    <tr>\n",
       "      <th>15</th>\n",
       "      <td>SUSSMAN, S. DONALD</td>\n",
       "      <td>488.60K</td>\n",
       "    </tr>\n",
       "    <tr>\n",
       "      <th>16</th>\n",
       "      <td>KLARMAN, SETH</td>\n",
       "      <td>480.60K</td>\n",
       "    </tr>\n",
       "    <tr>\n",
       "      <th>17</th>\n",
       "      <td>CAPPELL, AUDREY</td>\n",
       "      <td>412.80K</td>\n",
       "    </tr>\n",
       "    <tr>\n",
       "      <th>18</th>\n",
       "      <td>CAPPELL, JACOB</td>\n",
       "      <td>412.80K</td>\n",
       "    </tr>\n",
       "    <tr>\n",
       "      <th>19</th>\n",
       "      <td>MCGRATH, KATHLEEN</td>\n",
       "      <td>405.50K</td>\n",
       "    </tr>\n",
       "  </tbody>\n",
       "</table>\n",
       "</div>"
      ],
      "text/plain": [
       "                         NAME TRANSACTION_AMT\n",
       "0                         SMP           7.85M\n",
       "1          ROSENTHAL, RICHARD           2.51M\n",
       "2               MANDEL, SUSAN           1.58M\n",
       "3              SIMON, DEBORAH           1.11M\n",
       "4         DELANEY, MARY QUINN           1.01M\n",
       "5   INDIVISIBLE PROJECT, INC.           1.00M\n",
       "6                CHC BOLD PAC         803.64K\n",
       "7            SIMON, DEBORAH J         600.00K\n",
       "8               SOROS, GEORGE         512.00K\n",
       "9              O'BRIEN, PAULA         505.00K\n",
       "10                SIERRA CLUB         500.00K\n",
       "11     SOROS COLOMBEL, ANDREA         500.00K\n",
       "12          SIMON, DEBORAH J.         497.00K\n",
       "13             SOSNICK, AARON         497.00K\n",
       "14             EYCHANER, FRED         493.60K\n",
       "15         SUSSMAN, S. DONALD         488.60K\n",
       "16              KLARMAN, SETH         480.60K\n",
       "17            CAPPELL, AUDREY         412.80K\n",
       "18             CAPPELL, JACOB         412.80K\n",
       "19          MCGRATH, KATHLEEN         405.50K"
      ]
     },
     "metadata": {},
     "output_type": "display_data"
    },
    {
     "name": "stdout",
     "output_type": "stream",
     "text": [
      "------------------------------------------------------------\n",
      "Most individual contributions for TILLIS, THOM R. SEN.\n",
      "------------------------------------------------------------\n"
     ]
    },
    {
     "data": {
      "text/html": [
       "<div>\n",
       "<style scoped>\n",
       "    .dataframe tbody tr th:only-of-type {\n",
       "        vertical-align: middle;\n",
       "    }\n",
       "\n",
       "    .dataframe tbody tr th {\n",
       "        vertical-align: top;\n",
       "    }\n",
       "\n",
       "    .dataframe thead th {\n",
       "        text-align: right;\n",
       "    }\n",
       "</style>\n",
       "<table border=\"1\" class=\"dataframe\">\n",
       "  <thead>\n",
       "    <tr style=\"text-align: right;\">\n",
       "      <th></th>\n",
       "      <th>NAME</th>\n",
       "      <th>TRANSACTION_AMT</th>\n",
       "    </tr>\n",
       "  </thead>\n",
       "  <tbody>\n",
       "    <tr>\n",
       "      <th>0</th>\n",
       "      <td>SCHWARZMAN, STEPHEN A.</td>\n",
       "      <td>10.01M</td>\n",
       "    </tr>\n",
       "    <tr>\n",
       "      <th>1</th>\n",
       "      <td>MELLON, TIMOTHY</td>\n",
       "      <td>10.00M</td>\n",
       "    </tr>\n",
       "    <tr>\n",
       "      <th>2</th>\n",
       "      <td>KOCH INDUSTRIES INC.</td>\n",
       "      <td>7.00M</td>\n",
       "    </tr>\n",
       "    <tr>\n",
       "      <th>3</th>\n",
       "      <td>FREEDOM PARTNERS ACTION FUND INC.</td>\n",
       "      <td>6.48M</td>\n",
       "    </tr>\n",
       "    <tr>\n",
       "      <th>4</th>\n",
       "      <td>MARCUS, BERNARD</td>\n",
       "      <td>4.00M</td>\n",
       "    </tr>\n",
       "    <tr>\n",
       "      <th>5</th>\n",
       "      <td>SCHWAB, CHARLES R.</td>\n",
       "      <td>3.50M</td>\n",
       "    </tr>\n",
       "    <tr>\n",
       "      <th>6</th>\n",
       "      <td>DUNCAN, JAN</td>\n",
       "      <td>2.99M</td>\n",
       "    </tr>\n",
       "    <tr>\n",
       "      <th>7</th>\n",
       "      <td>SENATE LEADERSHIP FUND</td>\n",
       "      <td>2.95M</td>\n",
       "    </tr>\n",
       "    <tr>\n",
       "      <th>8</th>\n",
       "      <td>STEPHENS, WARREN A.</td>\n",
       "      <td>2.75M</td>\n",
       "    </tr>\n",
       "    <tr>\n",
       "      <th>9</th>\n",
       "      <td>SCHWAB, HELEN O'NEILL</td>\n",
       "      <td>2.50M</td>\n",
       "    </tr>\n",
       "    <tr>\n",
       "      <th>10</th>\n",
       "      <td>SINGER, PAUL ELLIOTT</td>\n",
       "      <td>2.00M</td>\n",
       "    </tr>\n",
       "    <tr>\n",
       "      <th>11</th>\n",
       "      <td>CHEVRON CORPORATION</td>\n",
       "      <td>1.62M</td>\n",
       "    </tr>\n",
       "    <tr>\n",
       "      <th>12</th>\n",
       "      <td>GOPAC INC</td>\n",
       "      <td>1.50M</td>\n",
       "    </tr>\n",
       "    <tr>\n",
       "      <th>13</th>\n",
       "      <td>DUCHOSSOIS, CRAIG J.</td>\n",
       "      <td>1.30M</td>\n",
       "    </tr>\n",
       "    <tr>\n",
       "      <th>14</th>\n",
       "      <td>REYES, J. CHRISTOPHER</td>\n",
       "      <td>1.25M</td>\n",
       "    </tr>\n",
       "    <tr>\n",
       "      <th>15</th>\n",
       "      <td>REYES, M. JUDE</td>\n",
       "      <td>1.25M</td>\n",
       "    </tr>\n",
       "    <tr>\n",
       "      <th>16</th>\n",
       "      <td>BERGAN, MARY ALICE</td>\n",
       "      <td>1.14M</td>\n",
       "    </tr>\n",
       "    <tr>\n",
       "      <th>17</th>\n",
       "      <td>CAMERON, RONALD</td>\n",
       "      <td>1.00M</td>\n",
       "    </tr>\n",
       "    <tr>\n",
       "      <th>18</th>\n",
       "      <td>CL MACHINERY COMPANY</td>\n",
       "      <td>1.00M</td>\n",
       "    </tr>\n",
       "    <tr>\n",
       "      <th>19</th>\n",
       "      <td>CONOCOPHILLIPS ANS MARKETING COMPANY</td>\n",
       "      <td>1.00M</td>\n",
       "    </tr>\n",
       "  </tbody>\n",
       "</table>\n",
       "</div>"
      ],
      "text/plain": [
       "                                    NAME TRANSACTION_AMT\n",
       "0                 SCHWARZMAN, STEPHEN A.          10.01M\n",
       "1                        MELLON, TIMOTHY          10.00M\n",
       "2                   KOCH INDUSTRIES INC.           7.00M\n",
       "3      FREEDOM PARTNERS ACTION FUND INC.           6.48M\n",
       "4                        MARCUS, BERNARD           4.00M\n",
       "5                     SCHWAB, CHARLES R.           3.50M\n",
       "6                            DUNCAN, JAN           2.99M\n",
       "7                 SENATE LEADERSHIP FUND           2.95M\n",
       "8                    STEPHENS, WARREN A.           2.75M\n",
       "9                  SCHWAB, HELEN O'NEILL           2.50M\n",
       "10                  SINGER, PAUL ELLIOTT           2.00M\n",
       "11                   CHEVRON CORPORATION           1.62M\n",
       "12                             GOPAC INC           1.50M\n",
       "13                  DUCHOSSOIS, CRAIG J.           1.30M\n",
       "14                 REYES, J. CHRISTOPHER           1.25M\n",
       "15                        REYES, M. JUDE           1.25M\n",
       "16                    BERGAN, MARY ALICE           1.14M\n",
       "17                       CAMERON, RONALD           1.00M\n",
       "18                  CL MACHINERY COMPANY           1.00M\n",
       "19  CONOCOPHILLIPS ANS MARKETING COMPANY           1.00M"
      ]
     },
     "metadata": {},
     "output_type": "display_data"
    }
   ],
   "source": [
    "from IPython.display import display\n",
    "for cand_name in candidates['CAND_NAME'].unique():\n",
    "    print(\"-\"*60)\n",
    "    print(f\"Most individual contributions for {cand_name}\")\n",
    "    print(\"-\"*60)\n",
    "    df = contribs_by_indivs[(contribs_by_indivs['CAND_NAME'] == cand_name)]\n",
    "    result = pd.DataFrame(df[['NAME', 'TRANSACTION_AMT']].groupby(['NAME']).agg({'TRANSACTION_AMT': 'sum'})['TRANSACTION_AMT'].nlargest(20)).reset_index()\n",
    "    result['TRANSACTION_AMT'] = result['TRANSACTION_AMT'].map(lambda x: render_human_format(x))\n",
    "    display(result)"
   ]
  },
  {
   "cell_type": "code",
   "execution_count": 50,
   "metadata": {
    "_kg_hide-input": true,
    "execution": {
     "iopub.execute_input": "2020-09-02T06:04:50.039162Z",
     "iopub.status.busy": "2020-09-02T06:04:50.035752Z",
     "iopub.status.idle": "2020-09-02T06:05:01.826611Z",
     "shell.execute_reply": "2020-09-02T06:05:01.825547Z"
    },
    "papermill": {
     "duration": 11.904929,
     "end_time": "2020-09-02T06:05:01.826769",
     "exception": false,
     "start_time": "2020-09-02T06:04:49.921840",
     "status": "completed"
    },
    "tags": []
   },
   "outputs": [
    {
     "name": "stdout",
     "output_type": "stream",
     "text": [
      "--------------------------------------------------------------------------------\n",
      "Committees that received the most individual contributions for CUNNINGHAM, CAL\n",
      "--------------------------------------------------------------------------------\n"
     ]
    },
    {
     "data": {
      "text/html": [
       "<div>\n",
       "<style scoped>\n",
       "    .dataframe tbody tr th:only-of-type {\n",
       "        vertical-align: middle;\n",
       "    }\n",
       "\n",
       "    .dataframe tbody tr th {\n",
       "        vertical-align: top;\n",
       "    }\n",
       "\n",
       "    .dataframe thead th {\n",
       "        text-align: right;\n",
       "    }\n",
       "</style>\n",
       "<table border=\"1\" class=\"dataframe\">\n",
       "  <thead>\n",
       "    <tr style=\"text-align: right;\">\n",
       "      <th></th>\n",
       "      <th>CMTE_NM</th>\n",
       "      <th>TRANSACTION_AMT</th>\n",
       "    </tr>\n",
       "  </thead>\n",
       "  <tbody>\n",
       "    <tr>\n",
       "      <th>0</th>\n",
       "      <td>DSCC</td>\n",
       "      <td>58.86M</td>\n",
       "    </tr>\n",
       "    <tr>\n",
       "      <th>1</th>\n",
       "      <td>VOTEVETS</td>\n",
       "      <td>12.93M</td>\n",
       "    </tr>\n",
       "    <tr>\n",
       "      <th>2</th>\n",
       "      <td>PLANNED PARENTHOOD VOTES</td>\n",
       "      <td>10.02M</td>\n",
       "    </tr>\n",
       "    <tr>\n",
       "      <th>3</th>\n",
       "      <td>END CITIZENS UNITED</td>\n",
       "      <td>8.26M</td>\n",
       "    </tr>\n",
       "    <tr>\n",
       "      <th>4</th>\n",
       "      <td>MCCREADY FOR CONGRESS</td>\n",
       "      <td>4.22M</td>\n",
       "    </tr>\n",
       "    <tr>\n",
       "      <th>5</th>\n",
       "      <td>JSTREETPAC</td>\n",
       "      <td>3.05M</td>\n",
       "    </tr>\n",
       "    <tr>\n",
       "      <th>6</th>\n",
       "      <td>INTERNATIONAL ASSOCIATION OF FIREFIGHTERS INTE...</td>\n",
       "      <td>2.21M</td>\n",
       "    </tr>\n",
       "    <tr>\n",
       "      <th>7</th>\n",
       "      <td>CHC BOLD PAC</td>\n",
       "      <td>2.18M</td>\n",
       "    </tr>\n",
       "    <tr>\n",
       "      <th>8</th>\n",
       "      <td>INDIVISIBLE ACTION</td>\n",
       "      <td>2.17M</td>\n",
       "    </tr>\n",
       "    <tr>\n",
       "      <th>9</th>\n",
       "      <td>LEAGUE OF CONSERVATION VOTERS ACTION FUND</td>\n",
       "      <td>1.66M</td>\n",
       "    </tr>\n",
       "  </tbody>\n",
       "</table>\n",
       "</div>"
      ],
      "text/plain": [
       "                                             CMTE_NM TRANSACTION_AMT\n",
       "0                                               DSCC          58.86M\n",
       "1                                           VOTEVETS          12.93M\n",
       "2                           PLANNED PARENTHOOD VOTES          10.02M\n",
       "3                                END CITIZENS UNITED           8.26M\n",
       "4                              MCCREADY FOR CONGRESS           4.22M\n",
       "5                                         JSTREETPAC           3.05M\n",
       "6  INTERNATIONAL ASSOCIATION OF FIREFIGHTERS INTE...           2.21M\n",
       "7                                       CHC BOLD PAC           2.18M\n",
       "8                                 INDIVISIBLE ACTION           2.17M\n",
       "9          LEAGUE OF CONSERVATION VOTERS ACTION FUND           1.66M"
      ]
     },
     "metadata": {},
     "output_type": "display_data"
    },
    {
     "name": "stdout",
     "output_type": "stream",
     "text": [
      "--------------------------------------------------------------------------------\n",
      "Committees that received the most individual contributions for TILLIS, THOM R. SEN.\n",
      "--------------------------------------------------------------------------------\n"
     ]
    },
    {
     "data": {
      "text/html": [
       "<div>\n",
       "<style scoped>\n",
       "    .dataframe tbody tr th:only-of-type {\n",
       "        vertical-align: middle;\n",
       "    }\n",
       "\n",
       "    .dataframe tbody tr th {\n",
       "        vertical-align: top;\n",
       "    }\n",
       "\n",
       "    .dataframe thead th {\n",
       "        text-align: right;\n",
       "    }\n",
       "</style>\n",
       "<table border=\"1\" class=\"dataframe\">\n",
       "  <thead>\n",
       "    <tr style=\"text-align: right;\">\n",
       "      <th></th>\n",
       "      <th>CMTE_NM</th>\n",
       "      <th>TRANSACTION_AMT</th>\n",
       "    </tr>\n",
       "  </thead>\n",
       "  <tbody>\n",
       "    <tr>\n",
       "      <th>0</th>\n",
       "      <td>SENATE LEADERSHIP FUND</td>\n",
       "      <td>63.36M</td>\n",
       "    </tr>\n",
       "    <tr>\n",
       "      <th>1</th>\n",
       "      <td>NRSC</td>\n",
       "      <td>54.02M</td>\n",
       "    </tr>\n",
       "    <tr>\n",
       "      <th>2</th>\n",
       "      <td>AMERICANS FOR PROSPERITY ACTION, INC.(AFP ACTION)</td>\n",
       "      <td>24.60M</td>\n",
       "    </tr>\n",
       "    <tr>\n",
       "      <th>3</th>\n",
       "      <td>HONEYWELL INTERNATIONAL POLITICAL ACTION COMMI...</td>\n",
       "      <td>4.52M</td>\n",
       "    </tr>\n",
       "    <tr>\n",
       "      <th>4</th>\n",
       "      <td>WOMEN SPEAK OUT PAC</td>\n",
       "      <td>4.42M</td>\n",
       "    </tr>\n",
       "    <tr>\n",
       "      <th>5</th>\n",
       "      <td>NATIONAL ASSOCIATION OF REALTORS POLITICAL ACT...</td>\n",
       "      <td>4.00M</td>\n",
       "    </tr>\n",
       "    <tr>\n",
       "      <th>6</th>\n",
       "      <td>THE BOEING COMPANY POLITICAL ACTION COMMITTEE</td>\n",
       "      <td>3.57M</td>\n",
       "    </tr>\n",
       "    <tr>\n",
       "      <th>7</th>\n",
       "      <td>GOPAC ELECTION FUND</td>\n",
       "      <td>3.34M</td>\n",
       "    </tr>\n",
       "    <tr>\n",
       "      <th>8</th>\n",
       "      <td>DELOITTE POLITICAL ACTION COMMITTEE</td>\n",
       "      <td>3.16M</td>\n",
       "    </tr>\n",
       "    <tr>\n",
       "      <th>9</th>\n",
       "      <td>PRICEWATERHOUSECOOPERS POLITICAL ACTION COMMIT...</td>\n",
       "      <td>3.05M</td>\n",
       "    </tr>\n",
       "  </tbody>\n",
       "</table>\n",
       "</div>"
      ],
      "text/plain": [
       "                                             CMTE_NM TRANSACTION_AMT\n",
       "0                             SENATE LEADERSHIP FUND          63.36M\n",
       "1                                               NRSC          54.02M\n",
       "2  AMERICANS FOR PROSPERITY ACTION, INC.(AFP ACTION)          24.60M\n",
       "3  HONEYWELL INTERNATIONAL POLITICAL ACTION COMMI...           4.52M\n",
       "4                                WOMEN SPEAK OUT PAC           4.42M\n",
       "5  NATIONAL ASSOCIATION OF REALTORS POLITICAL ACT...           4.00M\n",
       "6      THE BOEING COMPANY POLITICAL ACTION COMMITTEE           3.57M\n",
       "7                                GOPAC ELECTION FUND           3.34M\n",
       "8                DELOITTE POLITICAL ACTION COMMITTEE           3.16M\n",
       "9  PRICEWATERHOUSECOOPERS POLITICAL ACTION COMMIT...           3.05M"
      ]
     },
     "metadata": {},
     "output_type": "display_data"
    }
   ],
   "source": [
    "from IPython.display import display\n",
    "indiv_contribs_cmte = contribs_by_indivs.merge(committee_master[['CMTE_ID', 'CMTE_NM']], on='CMTE_ID')\n",
    "for cand_name in candidates['CAND_NAME'].unique():\n",
    "    print(\"-\"*80)\n",
    "    print(f\"Committees that received the most individual contributions for {cand_name}\")\n",
    "    print(\"-\"*80)\n",
    "    df = indiv_contribs_cmte[(indiv_contribs_cmte['CAND_NAME'] == cand_name)]\n",
    "    result = pd.DataFrame(df[['CMTE_NM', 'TRANSACTION_AMT']].groupby(['CMTE_NM']).agg({\n",
    "        'TRANSACTION_AMT': 'sum'})['TRANSACTION_AMT'].nlargest(10)).reset_index()\n",
    "    result['TRANSACTION_AMT'] = result['TRANSACTION_AMT'].map(lambda x: render_human_format(x))\n",
    "    display(result)"
   ]
  },
  {
   "cell_type": "code",
   "execution_count": 51,
   "metadata": {
    "_kg_hide-input": true,
    "_kg_hide-output": true,
    "execution": {
     "iopub.execute_input": "2020-09-02T06:05:02.493626Z",
     "iopub.status.busy": "2020-09-02T06:05:02.492793Z",
     "iopub.status.idle": "2020-09-02T06:05:03.702624Z",
     "shell.execute_reply": "2020-09-02T06:05:03.703239Z"
    },
    "papermill": {
     "duration": 1.772493,
     "end_time": "2020-09-02T06:05:03.703417",
     "exception": false,
     "start_time": "2020-09-02T06:05:01.930924",
     "status": "completed"
    },
    "tags": []
   },
   "outputs": [
    {
     "data": {
      "text/html": [
       "<div>\n",
       "<style scoped>\n",
       "    .dataframe tbody tr th:only-of-type {\n",
       "        vertical-align: middle;\n",
       "    }\n",
       "\n",
       "    .dataframe tbody tr th {\n",
       "        vertical-align: top;\n",
       "    }\n",
       "\n",
       "    .dataframe thead th {\n",
       "        text-align: right;\n",
       "    }\n",
       "</style>\n",
       "<table border=\"1\" class=\"dataframe\">\n",
       "  <thead>\n",
       "    <tr style=\"text-align: right;\">\n",
       "      <th></th>\n",
       "      <th>CMTE_ID</th>\n",
       "      <th>AMNDT_IND</th>\n",
       "      <th>RPT_TP</th>\n",
       "      <th>TRANSACTION_PGI</th>\n",
       "      <th>IMAGE_NUM</th>\n",
       "      <th>TRANSACTION_TP</th>\n",
       "      <th>ENTITY_TP</th>\n",
       "      <th>NAME</th>\n",
       "      <th>CITY</th>\n",
       "      <th>STATE</th>\n",
       "      <th>ZIP_CODE</th>\n",
       "      <th>EMPLOYER</th>\n",
       "      <th>OCCUPATION</th>\n",
       "      <th>TRANSACTION_DT</th>\n",
       "      <th>TRANSACTION_AMT</th>\n",
       "      <th>OTHER_ID</th>\n",
       "      <th>TRAN_ID</th>\n",
       "      <th>FILE_NUM</th>\n",
       "      <th>MEMO_CD</th>\n",
       "      <th>MEMO_TEXT</th>\n",
       "      <th>SUB_ID</th>\n",
       "      <th>CAND_NAME</th>\n",
       "    </tr>\n",
       "  </thead>\n",
       "  <tbody>\n",
       "    <tr>\n",
       "      <th>0</th>\n",
       "      <td>C00428110</td>\n",
       "      <td>N</td>\n",
       "      <td>M2</td>\n",
       "      <td>P</td>\n",
       "      <td>201902049145460549</td>\n",
       "      <td>15</td>\n",
       "      <td>IND</td>\n",
       "      <td>MATTHIES, KEVIN</td>\n",
       "      <td>WICHITA</td>\n",
       "      <td>KS</td>\n",
       "      <td>67210</td>\n",
       "      <td>SPIRIT AEROSYSTEMS INC</td>\n",
       "      <td>SENIOR VP/GENERAL MANAGER</td>\n",
       "      <td>2019-01-10</td>\n",
       "      <td>208</td>\n",
       "      <td>NaN</td>\n",
       "      <td>B000235S000077L11A1</td>\n",
       "      <td>1314300</td>\n",
       "      <td>NaN</td>\n",
       "      <td>NaN</td>\n",
       "      <td>4022620191644153387</td>\n",
       "      <td>TILLIS, THOM R. SEN.</td>\n",
       "    </tr>\n",
       "    <tr>\n",
       "      <th>1</th>\n",
       "      <td>C00428110</td>\n",
       "      <td>N</td>\n",
       "      <td>M2</td>\n",
       "      <td>P</td>\n",
       "      <td>201902049145460548</td>\n",
       "      <td>15</td>\n",
       "      <td>IND</td>\n",
       "      <td>GENTILE, THOMAS C</td>\n",
       "      <td>WICHITA</td>\n",
       "      <td>KS</td>\n",
       "      <td>67210</td>\n",
       "      <td>SPIRIT AEROSYSTEMS INC</td>\n",
       "      <td>PRESIDENT &amp; CEO</td>\n",
       "      <td>2019-01-10</td>\n",
       "      <td>416</td>\n",
       "      <td>NaN</td>\n",
       "      <td>B000235S000036L11A1</td>\n",
       "      <td>1314300</td>\n",
       "      <td>NaN</td>\n",
       "      <td>NaN</td>\n",
       "      <td>4022620191644153384</td>\n",
       "      <td>TILLIS, THOM R. SEN.</td>\n",
       "    </tr>\n",
       "    <tr>\n",
       "      <th>2</th>\n",
       "      <td>C00428110</td>\n",
       "      <td>N</td>\n",
       "      <td>M2</td>\n",
       "      <td>P</td>\n",
       "      <td>201902049145460548</td>\n",
       "      <td>15</td>\n",
       "      <td>IND</td>\n",
       "      <td>HAWKINS, DUANE F</td>\n",
       "      <td>WICHITA</td>\n",
       "      <td>KS</td>\n",
       "      <td>67210</td>\n",
       "      <td>SPIRIT AEROSYSTEMS INC</td>\n",
       "      <td>SENIOR VP/GENERAL MANAGER</td>\n",
       "      <td>2019-01-10</td>\n",
       "      <td>250</td>\n",
       "      <td>NaN</td>\n",
       "      <td>B000235S000045L11A1</td>\n",
       "      <td>1314300</td>\n",
       "      <td>NaN</td>\n",
       "      <td>NaN</td>\n",
       "      <td>4022620191644153385</td>\n",
       "      <td>TILLIS, THOM R. SEN.</td>\n",
       "    </tr>\n",
       "    <tr>\n",
       "      <th>3</th>\n",
       "      <td>C00428110</td>\n",
       "      <td>N</td>\n",
       "      <td>M2</td>\n",
       "      <td>P</td>\n",
       "      <td>201902049145460548</td>\n",
       "      <td>15</td>\n",
       "      <td>IND</td>\n",
       "      <td>KONDROTIS, KRISSTIE A</td>\n",
       "      <td>WICHITA</td>\n",
       "      <td>KS</td>\n",
       "      <td>67210</td>\n",
       "      <td>SPIRIT AEROSYSTEMS INC</td>\n",
       "      <td>SVP BUSINESS DEVELOPMENT &amp; REGIO</td>\n",
       "      <td>2019-01-10</td>\n",
       "      <td>250</td>\n",
       "      <td>NaN</td>\n",
       "      <td>B000235S000062L11A1</td>\n",
       "      <td>1314300</td>\n",
       "      <td>NaN</td>\n",
       "      <td>NaN</td>\n",
       "      <td>4022620191644153386</td>\n",
       "      <td>TILLIS, THOM R. SEN.</td>\n",
       "    </tr>\n",
       "    <tr>\n",
       "      <th>4</th>\n",
       "      <td>C00428110</td>\n",
       "      <td>N</td>\n",
       "      <td>M2</td>\n",
       "      <td>P</td>\n",
       "      <td>201902049145460549</td>\n",
       "      <td>15</td>\n",
       "      <td>IND</td>\n",
       "      <td>PILLA, JOHN ANTHONY</td>\n",
       "      <td>WICHITA</td>\n",
       "      <td>KS</td>\n",
       "      <td>67210</td>\n",
       "      <td>SPIRIT AEROSYSTEMS INC</td>\n",
       "      <td>SVP ENGINEERING AND CTO</td>\n",
       "      <td>2019-01-10</td>\n",
       "      <td>250</td>\n",
       "      <td>NaN</td>\n",
       "      <td>B000235S000090L11A1</td>\n",
       "      <td>1314300</td>\n",
       "      <td>NaN</td>\n",
       "      <td>NaN</td>\n",
       "      <td>4022620191644153388</td>\n",
       "      <td>TILLIS, THOM R. SEN.</td>\n",
       "    </tr>\n",
       "    <tr>\n",
       "      <th>...</th>\n",
       "      <td>...</td>\n",
       "      <td>...</td>\n",
       "      <td>...</td>\n",
       "      <td>...</td>\n",
       "      <td>...</td>\n",
       "      <td>...</td>\n",
       "      <td>...</td>\n",
       "      <td>...</td>\n",
       "      <td>...</td>\n",
       "      <td>...</td>\n",
       "      <td>...</td>\n",
       "      <td>...</td>\n",
       "      <td>...</td>\n",
       "      <td>...</td>\n",
       "      <td>...</td>\n",
       "      <td>...</td>\n",
       "      <td>...</td>\n",
       "      <td>...</td>\n",
       "      <td>...</td>\n",
       "      <td>...</td>\n",
       "      <td>...</td>\n",
       "      <td>...</td>\n",
       "    </tr>\n",
       "    <tr>\n",
       "      <th>2714376</th>\n",
       "      <td>C00659508</td>\n",
       "      <td>N</td>\n",
       "      <td>Q1</td>\n",
       "      <td>P</td>\n",
       "      <td>202004139216653073</td>\n",
       "      <td>15</td>\n",
       "      <td>IND</td>\n",
       "      <td>TABOR, JANE Y</td>\n",
       "      <td>FORT WALTON BEACH</td>\n",
       "      <td>FL</td>\n",
       "      <td>32547</td>\n",
       "      <td>NONE</td>\n",
       "      <td>NONE</td>\n",
       "      <td>2020-02-02</td>\n",
       "      <td>5000</td>\n",
       "      <td>NaN</td>\n",
       "      <td>SA11AI.4186</td>\n",
       "      <td>1395525</td>\n",
       "      <td>NaN</td>\n",
       "      <td>NaN</td>\n",
       "      <td>4041320201735609726</td>\n",
       "      <td>TILLIS, THOM R. SEN.</td>\n",
       "    </tr>\n",
       "    <tr>\n",
       "      <th>2714377</th>\n",
       "      <td>C00659508</td>\n",
       "      <td>N</td>\n",
       "      <td>Q1</td>\n",
       "      <td>P</td>\n",
       "      <td>202004139216653073</td>\n",
       "      <td>15</td>\n",
       "      <td>IND</td>\n",
       "      <td>YOUNG, DAVID B</td>\n",
       "      <td>CHAPEL HILL</td>\n",
       "      <td>NC</td>\n",
       "      <td>27517</td>\n",
       "      <td>THE CENTER FOR INT. ED. INC.</td>\n",
       "      <td>CEO</td>\n",
       "      <td>2020-02-10</td>\n",
       "      <td>5000</td>\n",
       "      <td>NaN</td>\n",
       "      <td>SA11AI.4185</td>\n",
       "      <td>1395525</td>\n",
       "      <td>NaN</td>\n",
       "      <td>NaN</td>\n",
       "      <td>4041320201735609728</td>\n",
       "      <td>TILLIS, THOM R. SEN.</td>\n",
       "    </tr>\n",
       "    <tr>\n",
       "      <th>2714378</th>\n",
       "      <td>C00659508</td>\n",
       "      <td>N</td>\n",
       "      <td>Q1</td>\n",
       "      <td>P</td>\n",
       "      <td>202004139216653074</td>\n",
       "      <td>15</td>\n",
       "      <td>IND</td>\n",
       "      <td>YOUNG, PHYLLIS</td>\n",
       "      <td>WEST END</td>\n",
       "      <td>NC</td>\n",
       "      <td>27376</td>\n",
       "      <td>NONE</td>\n",
       "      <td>NONE</td>\n",
       "      <td>2020-02-15</td>\n",
       "      <td>5000</td>\n",
       "      <td>NaN</td>\n",
       "      <td>SA11AI.4184</td>\n",
       "      <td>1395525</td>\n",
       "      <td>NaN</td>\n",
       "      <td>NaN</td>\n",
       "      <td>4041320201735609729</td>\n",
       "      <td>TILLIS, THOM R. SEN.</td>\n",
       "    </tr>\n",
       "    <tr>\n",
       "      <th>2714379</th>\n",
       "      <td>C00736751</td>\n",
       "      <td>N</td>\n",
       "      <td>12P</td>\n",
       "      <td>P</td>\n",
       "      <td>202002209187234958</td>\n",
       "      <td>10</td>\n",
       "      <td>PAC</td>\n",
       "      <td>SENATE LEADERSHIP FUND</td>\n",
       "      <td>WARRENTON</td>\n",
       "      <td>VA</td>\n",
       "      <td>20186</td>\n",
       "      <td>NaN</td>\n",
       "      <td>NaN</td>\n",
       "      <td>2020-01-31</td>\n",
       "      <td>2450000</td>\n",
       "      <td>NaN</td>\n",
       "      <td>SA11C.4101</td>\n",
       "      <td>1385286</td>\n",
       "      <td>NaN</td>\n",
       "      <td>NaN</td>\n",
       "      <td>4022320201693922801</td>\n",
       "      <td>TILLIS, THOM R. SEN.</td>\n",
       "    </tr>\n",
       "    <tr>\n",
       "      <th>2714380</th>\n",
       "      <td>C00736751</td>\n",
       "      <td>N</td>\n",
       "      <td>12P</td>\n",
       "      <td>P</td>\n",
       "      <td>202002209187234958</td>\n",
       "      <td>10</td>\n",
       "      <td>PAC</td>\n",
       "      <td>SENATE LEADERSHIP FUND</td>\n",
       "      <td>WARRENTON</td>\n",
       "      <td>VA</td>\n",
       "      <td>20186</td>\n",
       "      <td>NaN</td>\n",
       "      <td>NaN</td>\n",
       "      <td>2020-02-12</td>\n",
       "      <td>500000</td>\n",
       "      <td>NaN</td>\n",
       "      <td>SA11C.4112</td>\n",
       "      <td>1385286</td>\n",
       "      <td>NaN</td>\n",
       "      <td>NaN</td>\n",
       "      <td>4022320201693922802</td>\n",
       "      <td>TILLIS, THOM R. SEN.</td>\n",
       "    </tr>\n",
       "  </tbody>\n",
       "</table>\n",
       "<p>2714381 rows × 22 columns</p>\n",
       "</div>"
      ],
      "text/plain": [
       "           CMTE_ID AMNDT_IND RPT_TP TRANSACTION_PGI           IMAGE_NUM  \\\n",
       "0        C00428110         N     M2               P  201902049145460549   \n",
       "1        C00428110         N     M2               P  201902049145460548   \n",
       "2        C00428110         N     M2               P  201902049145460548   \n",
       "3        C00428110         N     M2               P  201902049145460548   \n",
       "4        C00428110         N     M2               P  201902049145460549   \n",
       "...            ...       ...    ...             ...                 ...   \n",
       "2714376  C00659508         N     Q1               P  202004139216653073   \n",
       "2714377  C00659508         N     Q1               P  202004139216653073   \n",
       "2714378  C00659508         N     Q1               P  202004139216653074   \n",
       "2714379  C00736751         N    12P               P  202002209187234958   \n",
       "2714380  C00736751         N    12P               P  202002209187234958   \n",
       "\n",
       "        TRANSACTION_TP ENTITY_TP                    NAME               CITY  \\\n",
       "0                   15       IND         MATTHIES, KEVIN            WICHITA   \n",
       "1                   15       IND       GENTILE, THOMAS C            WICHITA   \n",
       "2                   15       IND        HAWKINS, DUANE F            WICHITA   \n",
       "3                   15       IND   KONDROTIS, KRISSTIE A            WICHITA   \n",
       "4                   15       IND     PILLA, JOHN ANTHONY            WICHITA   \n",
       "...                ...       ...                     ...                ...   \n",
       "2714376             15       IND           TABOR, JANE Y  FORT WALTON BEACH   \n",
       "2714377             15       IND          YOUNG, DAVID B        CHAPEL HILL   \n",
       "2714378             15       IND          YOUNG, PHYLLIS           WEST END   \n",
       "2714379             10       PAC  SENATE LEADERSHIP FUND          WARRENTON   \n",
       "2714380             10       PAC  SENATE LEADERSHIP FUND          WARRENTON   \n",
       "\n",
       "        STATE ZIP_CODE                      EMPLOYER  \\\n",
       "0          KS    67210        SPIRIT AEROSYSTEMS INC   \n",
       "1          KS    67210        SPIRIT AEROSYSTEMS INC   \n",
       "2          KS    67210        SPIRIT AEROSYSTEMS INC   \n",
       "3          KS    67210        SPIRIT AEROSYSTEMS INC   \n",
       "4          KS    67210        SPIRIT AEROSYSTEMS INC   \n",
       "...       ...      ...                           ...   \n",
       "2714376    FL    32547                          NONE   \n",
       "2714377    NC    27517  THE CENTER FOR INT. ED. INC.   \n",
       "2714378    NC    27376                          NONE   \n",
       "2714379    VA    20186                           NaN   \n",
       "2714380    VA    20186                           NaN   \n",
       "\n",
       "                               OCCUPATION TRANSACTION_DT  TRANSACTION_AMT  \\\n",
       "0               SENIOR VP/GENERAL MANAGER     2019-01-10              208   \n",
       "1                         PRESIDENT & CEO     2019-01-10              416   \n",
       "2               SENIOR VP/GENERAL MANAGER     2019-01-10              250   \n",
       "3        SVP BUSINESS DEVELOPMENT & REGIO     2019-01-10              250   \n",
       "4                 SVP ENGINEERING AND CTO     2019-01-10              250   \n",
       "...                                   ...            ...              ...   \n",
       "2714376                              NONE     2020-02-02             5000   \n",
       "2714377                               CEO     2020-02-10             5000   \n",
       "2714378                              NONE     2020-02-15             5000   \n",
       "2714379                               NaN     2020-01-31          2450000   \n",
       "2714380                               NaN     2020-02-12           500000   \n",
       "\n",
       "        OTHER_ID              TRAN_ID  FILE_NUM MEMO_CD MEMO_TEXT  \\\n",
       "0            NaN  B000235S000077L11A1   1314300     NaN       NaN   \n",
       "1            NaN  B000235S000036L11A1   1314300     NaN       NaN   \n",
       "2            NaN  B000235S000045L11A1   1314300     NaN       NaN   \n",
       "3            NaN  B000235S000062L11A1   1314300     NaN       NaN   \n",
       "4            NaN  B000235S000090L11A1   1314300     NaN       NaN   \n",
       "...          ...                  ...       ...     ...       ...   \n",
       "2714376      NaN          SA11AI.4186   1395525     NaN       NaN   \n",
       "2714377      NaN          SA11AI.4185   1395525     NaN       NaN   \n",
       "2714378      NaN          SA11AI.4184   1395525     NaN       NaN   \n",
       "2714379      NaN           SA11C.4101   1385286     NaN       NaN   \n",
       "2714380      NaN           SA11C.4112   1385286     NaN       NaN   \n",
       "\n",
       "                      SUB_ID             CAND_NAME  \n",
       "0        4022620191644153387  TILLIS, THOM R. SEN.  \n",
       "1        4022620191644153384  TILLIS, THOM R. SEN.  \n",
       "2        4022620191644153385  TILLIS, THOM R. SEN.  \n",
       "3        4022620191644153386  TILLIS, THOM R. SEN.  \n",
       "4        4022620191644153388  TILLIS, THOM R. SEN.  \n",
       "...                      ...                   ...  \n",
       "2714376  4041320201735609726  TILLIS, THOM R. SEN.  \n",
       "2714377  4041320201735609728  TILLIS, THOM R. SEN.  \n",
       "2714378  4041320201735609729  TILLIS, THOM R. SEN.  \n",
       "2714379  4022320201693922801  TILLIS, THOM R. SEN.  \n",
       "2714380  4022320201693922802  TILLIS, THOM R. SEN.  \n",
       "\n",
       "[2714381 rows x 22 columns]"
      ]
     },
     "execution_count": 51,
     "metadata": {},
     "output_type": "execute_result"
    }
   ],
   "source": [
    "contribs_by_indivs.loc[contribs_by_indivs['EMPLOYER'] == 'SELF', 'EMPLOYER'] = 'SELF-EMPLOYED'\n",
    "contribs_by_indivs.loc[contribs_by_indivs['EMPLOYER'] == 'SELF EMPLOYED', 'EMPLOYER'] = 'SELF-EMPLOYED'\n",
    "contribs_by_indivs.loc[contribs_by_indivs['EMPLOYER'] == 'NOT EMPLOYED', 'EMPLOYER'] = 'UNEMPLOYED'\n",
    "contribs_by_indivs"
   ]
  },
  {
   "cell_type": "code",
   "execution_count": 52,
   "metadata": {
    "_kg_hide-input": true,
    "execution": {
     "iopub.execute_input": "2020-09-02T06:05:04.451077Z",
     "iopub.status.busy": "2020-09-02T06:05:04.450022Z",
     "iopub.status.idle": "2020-09-02T06:05:05.740379Z",
     "shell.execute_reply": "2020-09-02T06:05:05.740994Z"
    },
    "papermill": {
     "duration": 1.928461,
     "end_time": "2020-09-02T06:05:05.741179",
     "exception": false,
     "start_time": "2020-09-02T06:05:03.812718",
     "status": "completed"
    },
    "tags": []
   },
   "outputs": [
    {
     "data": {
      "application/vnd.plotly.v1+json": {
       "config": {
        "linkText": "Export to plot.ly",
        "plotlyServerURL": "https://plot.ly",
        "showLink": true
       },
       "data": [
        {
         "marker": {
          "color": "rgba(55, 128, 191, 0.6)",
          "line": {
           "color": "blue",
           "width": 1
          }
         },
         "name": "CUNNINGHAM, CAL",
         "orientation": "v",
         "text": "",
         "type": "bar",
         "x": [
          "BOEING",
          "COMCAST (CC) OF WILLOW GROVE",
          "GENERAL MOTORS COMPANY",
          "HONEYWELL INTERNATIONAL",
          "MARATHON PETROLEUM COMPANY LP",
          "NONE",
          "NORTHROP GRUMMAN CORPORATION",
          "RETIRED",
          "SELF-EMPLOYED",
          "UNEMPLOYED"
         ],
         "y": [
          12244,
          "",
          250,
          400,
          "",
          31217958,
          2720,
          2314663,
          11189387,
          6459693
         ]
        },
        {
         "marker": {
          "color": "rgba(219, 64, 82, 0.6)",
          "line": {
           "color": "red",
           "width": 1
          }
         },
         "name": "TILLIS, THOM R. SEN.",
         "orientation": "v",
         "text": "",
         "type": "bar",
         "x": [
          "BOEING",
          "COMCAST (CC) OF WILLOW GROVE",
          "GENERAL MOTORS COMPANY",
          "HONEYWELL INTERNATIONAL",
          "MARATHON PETROLEUM COMPANY LP",
          "NONE",
          "NORTHROP GRUMMAN CORPORATION",
          "RETIRED",
          "SELF-EMPLOYED",
          "UNEMPLOYED"
         ],
         "y": [
          3631406,
          1893468,
          1370019,
          4517639,
          997698,
          193170,
          2507555,
          28122631,
          26469640,
          61595
         ]
        }
       ],
       "layout": {
        "legend": {
         "bgcolor": "#FFFFFF",
         "font": {
          "color": "#666666"
         }
        },
        "paper_bgcolor": "#FFFFFF",
        "plot_bgcolor": "#E5E5E5",
        "template": {
         "data": {
          "bar": [
           {
            "error_x": {
             "color": "#2a3f5f"
            },
            "error_y": {
             "color": "#2a3f5f"
            },
            "marker": {
             "line": {
              "color": "#E5ECF6",
              "width": 0.5
             },
             "pattern": {
              "fillmode": "overlay",
              "size": 10,
              "solidity": 0.2
             }
            },
            "type": "bar"
           }
          ],
          "barpolar": [
           {
            "marker": {
             "line": {
              "color": "#E5ECF6",
              "width": 0.5
             },
             "pattern": {
              "fillmode": "overlay",
              "size": 10,
              "solidity": 0.2
             }
            },
            "type": "barpolar"
           }
          ],
          "carpet": [
           {
            "aaxis": {
             "endlinecolor": "#2a3f5f",
             "gridcolor": "white",
             "linecolor": "white",
             "minorgridcolor": "white",
             "startlinecolor": "#2a3f5f"
            },
            "baxis": {
             "endlinecolor": "#2a3f5f",
             "gridcolor": "white",
             "linecolor": "white",
             "minorgridcolor": "white",
             "startlinecolor": "#2a3f5f"
            },
            "type": "carpet"
           }
          ],
          "choropleth": [
           {
            "colorbar": {
             "outlinewidth": 0,
             "ticks": ""
            },
            "type": "choropleth"
           }
          ],
          "contour": [
           {
            "colorbar": {
             "outlinewidth": 0,
             "ticks": ""
            },
            "colorscale": [
             [
              0,
              "#0d0887"
             ],
             [
              0.1111111111111111,
              "#46039f"
             ],
             [
              0.2222222222222222,
              "#7201a8"
             ],
             [
              0.3333333333333333,
              "#9c179e"
             ],
             [
              0.4444444444444444,
              "#bd3786"
             ],
             [
              0.5555555555555556,
              "#d8576b"
             ],
             [
              0.6666666666666666,
              "#ed7953"
             ],
             [
              0.7777777777777778,
              "#fb9f3a"
             ],
             [
              0.8888888888888888,
              "#fdca26"
             ],
             [
              1,
              "#f0f921"
             ]
            ],
            "type": "contour"
           }
          ],
          "contourcarpet": [
           {
            "colorbar": {
             "outlinewidth": 0,
             "ticks": ""
            },
            "type": "contourcarpet"
           }
          ],
          "heatmap": [
           {
            "colorbar": {
             "outlinewidth": 0,
             "ticks": ""
            },
            "colorscale": [
             [
              0,
              "#0d0887"
             ],
             [
              0.1111111111111111,
              "#46039f"
             ],
             [
              0.2222222222222222,
              "#7201a8"
             ],
             [
              0.3333333333333333,
              "#9c179e"
             ],
             [
              0.4444444444444444,
              "#bd3786"
             ],
             [
              0.5555555555555556,
              "#d8576b"
             ],
             [
              0.6666666666666666,
              "#ed7953"
             ],
             [
              0.7777777777777778,
              "#fb9f3a"
             ],
             [
              0.8888888888888888,
              "#fdca26"
             ],
             [
              1,
              "#f0f921"
             ]
            ],
            "type": "heatmap"
           }
          ],
          "heatmapgl": [
           {
            "colorbar": {
             "outlinewidth": 0,
             "ticks": ""
            },
            "colorscale": [
             [
              0,
              "#0d0887"
             ],
             [
              0.1111111111111111,
              "#46039f"
             ],
             [
              0.2222222222222222,
              "#7201a8"
             ],
             [
              0.3333333333333333,
              "#9c179e"
             ],
             [
              0.4444444444444444,
              "#bd3786"
             ],
             [
              0.5555555555555556,
              "#d8576b"
             ],
             [
              0.6666666666666666,
              "#ed7953"
             ],
             [
              0.7777777777777778,
              "#fb9f3a"
             ],
             [
              0.8888888888888888,
              "#fdca26"
             ],
             [
              1,
              "#f0f921"
             ]
            ],
            "type": "heatmapgl"
           }
          ],
          "histogram": [
           {
            "marker": {
             "pattern": {
              "fillmode": "overlay",
              "size": 10,
              "solidity": 0.2
             }
            },
            "type": "histogram"
           }
          ],
          "histogram2d": [
           {
            "colorbar": {
             "outlinewidth": 0,
             "ticks": ""
            },
            "colorscale": [
             [
              0,
              "#0d0887"
             ],
             [
              0.1111111111111111,
              "#46039f"
             ],
             [
              0.2222222222222222,
              "#7201a8"
             ],
             [
              0.3333333333333333,
              "#9c179e"
             ],
             [
              0.4444444444444444,
              "#bd3786"
             ],
             [
              0.5555555555555556,
              "#d8576b"
             ],
             [
              0.6666666666666666,
              "#ed7953"
             ],
             [
              0.7777777777777778,
              "#fb9f3a"
             ],
             [
              0.8888888888888888,
              "#fdca26"
             ],
             [
              1,
              "#f0f921"
             ]
            ],
            "type": "histogram2d"
           }
          ],
          "histogram2dcontour": [
           {
            "colorbar": {
             "outlinewidth": 0,
             "ticks": ""
            },
            "colorscale": [
             [
              0,
              "#0d0887"
             ],
             [
              0.1111111111111111,
              "#46039f"
             ],
             [
              0.2222222222222222,
              "#7201a8"
             ],
             [
              0.3333333333333333,
              "#9c179e"
             ],
             [
              0.4444444444444444,
              "#bd3786"
             ],
             [
              0.5555555555555556,
              "#d8576b"
             ],
             [
              0.6666666666666666,
              "#ed7953"
             ],
             [
              0.7777777777777778,
              "#fb9f3a"
             ],
             [
              0.8888888888888888,
              "#fdca26"
             ],
             [
              1,
              "#f0f921"
             ]
            ],
            "type": "histogram2dcontour"
           }
          ],
          "mesh3d": [
           {
            "colorbar": {
             "outlinewidth": 0,
             "ticks": ""
            },
            "type": "mesh3d"
           }
          ],
          "parcoords": [
           {
            "line": {
             "colorbar": {
              "outlinewidth": 0,
              "ticks": ""
             }
            },
            "type": "parcoords"
           }
          ],
          "pie": [
           {
            "automargin": true,
            "type": "pie"
           }
          ],
          "scatter": [
           {
            "fillpattern": {
             "fillmode": "overlay",
             "size": 10,
             "solidity": 0.2
            },
            "type": "scatter"
           }
          ],
          "scatter3d": [
           {
            "line": {
             "colorbar": {
              "outlinewidth": 0,
              "ticks": ""
             }
            },
            "marker": {
             "colorbar": {
              "outlinewidth": 0,
              "ticks": ""
             }
            },
            "type": "scatter3d"
           }
          ],
          "scattercarpet": [
           {
            "marker": {
             "colorbar": {
              "outlinewidth": 0,
              "ticks": ""
             }
            },
            "type": "scattercarpet"
           }
          ],
          "scattergeo": [
           {
            "marker": {
             "colorbar": {
              "outlinewidth": 0,
              "ticks": ""
             }
            },
            "type": "scattergeo"
           }
          ],
          "scattergl": [
           {
            "marker": {
             "colorbar": {
              "outlinewidth": 0,
              "ticks": ""
             }
            },
            "type": "scattergl"
           }
          ],
          "scattermapbox": [
           {
            "marker": {
             "colorbar": {
              "outlinewidth": 0,
              "ticks": ""
             }
            },
            "type": "scattermapbox"
           }
          ],
          "scatterpolar": [
           {
            "marker": {
             "colorbar": {
              "outlinewidth": 0,
              "ticks": ""
             }
            },
            "type": "scatterpolar"
           }
          ],
          "scatterpolargl": [
           {
            "marker": {
             "colorbar": {
              "outlinewidth": 0,
              "ticks": ""
             }
            },
            "type": "scatterpolargl"
           }
          ],
          "scatterternary": [
           {
            "marker": {
             "colorbar": {
              "outlinewidth": 0,
              "ticks": ""
             }
            },
            "type": "scatterternary"
           }
          ],
          "surface": [
           {
            "colorbar": {
             "outlinewidth": 0,
             "ticks": ""
            },
            "colorscale": [
             [
              0,
              "#0d0887"
             ],
             [
              0.1111111111111111,
              "#46039f"
             ],
             [
              0.2222222222222222,
              "#7201a8"
             ],
             [
              0.3333333333333333,
              "#9c179e"
             ],
             [
              0.4444444444444444,
              "#bd3786"
             ],
             [
              0.5555555555555556,
              "#d8576b"
             ],
             [
              0.6666666666666666,
              "#ed7953"
             ],
             [
              0.7777777777777778,
              "#fb9f3a"
             ],
             [
              0.8888888888888888,
              "#fdca26"
             ],
             [
              1,
              "#f0f921"
             ]
            ],
            "type": "surface"
           }
          ],
          "table": [
           {
            "cells": {
             "fill": {
              "color": "#EBF0F8"
             },
             "line": {
              "color": "white"
             }
            },
            "header": {
             "fill": {
              "color": "#C8D4E3"
             },
             "line": {
              "color": "white"
             }
            },
            "type": "table"
           }
          ]
         },
         "layout": {
          "annotationdefaults": {
           "arrowcolor": "#2a3f5f",
           "arrowhead": 0,
           "arrowwidth": 1
          },
          "autotypenumbers": "strict",
          "coloraxis": {
           "colorbar": {
            "outlinewidth": 0,
            "ticks": ""
           }
          },
          "colorscale": {
           "diverging": [
            [
             0,
             "#8e0152"
            ],
            [
             0.1,
             "#c51b7d"
            ],
            [
             0.2,
             "#de77ae"
            ],
            [
             0.3,
             "#f1b6da"
            ],
            [
             0.4,
             "#fde0ef"
            ],
            [
             0.5,
             "#f7f7f7"
            ],
            [
             0.6,
             "#e6f5d0"
            ],
            [
             0.7,
             "#b8e186"
            ],
            [
             0.8,
             "#7fbc41"
            ],
            [
             0.9,
             "#4d9221"
            ],
            [
             1,
             "#276419"
            ]
           ],
           "sequential": [
            [
             0,
             "#0d0887"
            ],
            [
             0.1111111111111111,
             "#46039f"
            ],
            [
             0.2222222222222222,
             "#7201a8"
            ],
            [
             0.3333333333333333,
             "#9c179e"
            ],
            [
             0.4444444444444444,
             "#bd3786"
            ],
            [
             0.5555555555555556,
             "#d8576b"
            ],
            [
             0.6666666666666666,
             "#ed7953"
            ],
            [
             0.7777777777777778,
             "#fb9f3a"
            ],
            [
             0.8888888888888888,
             "#fdca26"
            ],
            [
             1,
             "#f0f921"
            ]
           ],
           "sequentialminus": [
            [
             0,
             "#0d0887"
            ],
            [
             0.1111111111111111,
             "#46039f"
            ],
            [
             0.2222222222222222,
             "#7201a8"
            ],
            [
             0.3333333333333333,
             "#9c179e"
            ],
            [
             0.4444444444444444,
             "#bd3786"
            ],
            [
             0.5555555555555556,
             "#d8576b"
            ],
            [
             0.6666666666666666,
             "#ed7953"
            ],
            [
             0.7777777777777778,
             "#fb9f3a"
            ],
            [
             0.8888888888888888,
             "#fdca26"
            ],
            [
             1,
             "#f0f921"
            ]
           ]
          },
          "colorway": [
           "#636efa",
           "#EF553B",
           "#00cc96",
           "#ab63fa",
           "#FFA15A",
           "#19d3f3",
           "#FF6692",
           "#B6E880",
           "#FF97FF",
           "#FECB52"
          ],
          "font": {
           "color": "#2a3f5f"
          },
          "geo": {
           "bgcolor": "white",
           "lakecolor": "white",
           "landcolor": "#E5ECF6",
           "showlakes": true,
           "showland": true,
           "subunitcolor": "white"
          },
          "hoverlabel": {
           "align": "left"
          },
          "hovermode": "closest",
          "mapbox": {
           "style": "light"
          },
          "paper_bgcolor": "white",
          "plot_bgcolor": "#E5ECF6",
          "polar": {
           "angularaxis": {
            "gridcolor": "white",
            "linecolor": "white",
            "ticks": ""
           },
           "bgcolor": "#E5ECF6",
           "radialaxis": {
            "gridcolor": "white",
            "linecolor": "white",
            "ticks": ""
           }
          },
          "scene": {
           "xaxis": {
            "backgroundcolor": "#E5ECF6",
            "gridcolor": "white",
            "gridwidth": 2,
            "linecolor": "white",
            "showbackground": true,
            "ticks": "",
            "zerolinecolor": "white"
           },
           "yaxis": {
            "backgroundcolor": "#E5ECF6",
            "gridcolor": "white",
            "gridwidth": 2,
            "linecolor": "white",
            "showbackground": true,
            "ticks": "",
            "zerolinecolor": "white"
           },
           "zaxis": {
            "backgroundcolor": "#E5ECF6",
            "gridcolor": "white",
            "gridwidth": 2,
            "linecolor": "white",
            "showbackground": true,
            "ticks": "",
            "zerolinecolor": "white"
           }
          },
          "shapedefaults": {
           "line": {
            "color": "#2a3f5f"
           }
          },
          "ternary": {
           "aaxis": {
            "gridcolor": "white",
            "linecolor": "white",
            "ticks": ""
           },
           "baxis": {
            "gridcolor": "white",
            "linecolor": "white",
            "ticks": ""
           },
           "bgcolor": "#E5ECF6",
           "caxis": {
            "gridcolor": "white",
            "linecolor": "white",
            "ticks": ""
           }
          },
          "title": {
           "x": 0.05
          },
          "xaxis": {
           "automargin": true,
           "gridcolor": "white",
           "linecolor": "white",
           "ticks": "",
           "title": {
            "standoff": 15
           },
           "zerolinecolor": "white",
           "zerolinewidth": 2
          },
          "yaxis": {
           "automargin": true,
           "gridcolor": "white",
           "linecolor": "white",
           "ticks": "",
           "title": {
            "standoff": 15
           },
           "zerolinecolor": "white",
           "zerolinewidth": 2
          }
         }
        },
        "title": {
         "font": {
          "color": "#151516"
         },
         "text": "Total Individual contributions by Employer"
        },
        "xaxis": {
         "gridcolor": "#F6F6F6",
         "showgrid": true,
         "tickfont": {
          "color": "#666666"
         },
         "title": {
          "font": {
           "color": "#666666"
          },
          "text": ""
         },
         "zerolinecolor": "#F6F6F6"
        },
        "yaxis": {
         "gridcolor": "#F6F6F6",
         "showgrid": true,
         "tickfont": {
          "color": "#666666"
         },
         "title": {
          "font": {
           "color": "#666666"
          },
          "text": ""
         },
         "zerolinecolor": "#F6F6F6"
        }
       }
      },
      "text/html": [
       "<div>                            <div id=\"621547e7-6b18-4ba0-a89c-c545edca32d4\" class=\"plotly-graph-div\" style=\"height:525px; width:100%;\"></div>            <script type=\"text/javascript\">                require([\"plotly\"], function(Plotly) {                    window.PLOTLYENV=window.PLOTLYENV || {};\n",
       "                    window.PLOTLYENV.BASE_URL='https://plot.ly';                                    if (document.getElementById(\"621547e7-6b18-4ba0-a89c-c545edca32d4\")) {                    Plotly.newPlot(                        \"621547e7-6b18-4ba0-a89c-c545edca32d4\",                        [{\"marker\":{\"color\":\"rgba(55, 128, 191, 0.6)\",\"line\":{\"color\":\"blue\",\"width\":1}},\"name\":\"CUNNINGHAM, CAL\",\"orientation\":\"v\",\"text\":\"\",\"x\":[\"BOEING\",\"COMCAST (CC) OF WILLOW GROVE\",\"GENERAL MOTORS COMPANY\",\"HONEYWELL INTERNATIONAL\",\"MARATHON PETROLEUM COMPANY LP\",\"NONE\",\"NORTHROP GRUMMAN CORPORATION\",\"RETIRED\",\"SELF-EMPLOYED\",\"UNEMPLOYED\"],\"y\":[12244.0,\"\",250.0,400.0,\"\",31217958.0,2720.0,2314663.0,11189387.0,6459693.0],\"type\":\"bar\"},{\"marker\":{\"color\":\"rgba(219, 64, 82, 0.6)\",\"line\":{\"color\":\"red\",\"width\":1}},\"name\":\"TILLIS, THOM R. SEN.\",\"orientation\":\"v\",\"text\":\"\",\"x\":[\"BOEING\",\"COMCAST (CC) OF WILLOW GROVE\",\"GENERAL MOTORS COMPANY\",\"HONEYWELL INTERNATIONAL\",\"MARATHON PETROLEUM COMPANY LP\",\"NONE\",\"NORTHROP GRUMMAN CORPORATION\",\"RETIRED\",\"SELF-EMPLOYED\",\"UNEMPLOYED\"],\"y\":[3631406.0,1893468.0,1370019.0,4517639.0,997698.0,193170.0,2507555.0,28122631.0,26469640.0,61595.0],\"type\":\"bar\"}],                        {\"legend\":{\"bgcolor\":\"#FFFFFF\",\"font\":{\"color\":\"#666666\"}},\"paper_bgcolor\":\"#FFFFFF\",\"plot_bgcolor\":\"#E5E5E5\",\"template\":{\"data\":{\"barpolar\":[{\"marker\":{\"line\":{\"color\":\"#E5ECF6\",\"width\":0.5},\"pattern\":{\"fillmode\":\"overlay\",\"size\":10,\"solidity\":0.2}},\"type\":\"barpolar\"}],\"bar\":[{\"error_x\":{\"color\":\"#2a3f5f\"},\"error_y\":{\"color\":\"#2a3f5f\"},\"marker\":{\"line\":{\"color\":\"#E5ECF6\",\"width\":0.5},\"pattern\":{\"fillmode\":\"overlay\",\"size\":10,\"solidity\":0.2}},\"type\":\"bar\"}],\"carpet\":[{\"aaxis\":{\"endlinecolor\":\"#2a3f5f\",\"gridcolor\":\"white\",\"linecolor\":\"white\",\"minorgridcolor\":\"white\",\"startlinecolor\":\"#2a3f5f\"},\"baxis\":{\"endlinecolor\":\"#2a3f5f\",\"gridcolor\":\"white\",\"linecolor\":\"white\",\"minorgridcolor\":\"white\",\"startlinecolor\":\"#2a3f5f\"},\"type\":\"carpet\"}],\"choropleth\":[{\"colorbar\":{\"outlinewidth\":0,\"ticks\":\"\"},\"type\":\"choropleth\"}],\"contourcarpet\":[{\"colorbar\":{\"outlinewidth\":0,\"ticks\":\"\"},\"type\":\"contourcarpet\"}],\"contour\":[{\"colorbar\":{\"outlinewidth\":0,\"ticks\":\"\"},\"colorscale\":[[0.0,\"#0d0887\"],[0.1111111111111111,\"#46039f\"],[0.2222222222222222,\"#7201a8\"],[0.3333333333333333,\"#9c179e\"],[0.4444444444444444,\"#bd3786\"],[0.5555555555555556,\"#d8576b\"],[0.6666666666666666,\"#ed7953\"],[0.7777777777777778,\"#fb9f3a\"],[0.8888888888888888,\"#fdca26\"],[1.0,\"#f0f921\"]],\"type\":\"contour\"}],\"heatmapgl\":[{\"colorbar\":{\"outlinewidth\":0,\"ticks\":\"\"},\"colorscale\":[[0.0,\"#0d0887\"],[0.1111111111111111,\"#46039f\"],[0.2222222222222222,\"#7201a8\"],[0.3333333333333333,\"#9c179e\"],[0.4444444444444444,\"#bd3786\"],[0.5555555555555556,\"#d8576b\"],[0.6666666666666666,\"#ed7953\"],[0.7777777777777778,\"#fb9f3a\"],[0.8888888888888888,\"#fdca26\"],[1.0,\"#f0f921\"]],\"type\":\"heatmapgl\"}],\"heatmap\":[{\"colorbar\":{\"outlinewidth\":0,\"ticks\":\"\"},\"colorscale\":[[0.0,\"#0d0887\"],[0.1111111111111111,\"#46039f\"],[0.2222222222222222,\"#7201a8\"],[0.3333333333333333,\"#9c179e\"],[0.4444444444444444,\"#bd3786\"],[0.5555555555555556,\"#d8576b\"],[0.6666666666666666,\"#ed7953\"],[0.7777777777777778,\"#fb9f3a\"],[0.8888888888888888,\"#fdca26\"],[1.0,\"#f0f921\"]],\"type\":\"heatmap\"}],\"histogram2dcontour\":[{\"colorbar\":{\"outlinewidth\":0,\"ticks\":\"\"},\"colorscale\":[[0.0,\"#0d0887\"],[0.1111111111111111,\"#46039f\"],[0.2222222222222222,\"#7201a8\"],[0.3333333333333333,\"#9c179e\"],[0.4444444444444444,\"#bd3786\"],[0.5555555555555556,\"#d8576b\"],[0.6666666666666666,\"#ed7953\"],[0.7777777777777778,\"#fb9f3a\"],[0.8888888888888888,\"#fdca26\"],[1.0,\"#f0f921\"]],\"type\":\"histogram2dcontour\"}],\"histogram2d\":[{\"colorbar\":{\"outlinewidth\":0,\"ticks\":\"\"},\"colorscale\":[[0.0,\"#0d0887\"],[0.1111111111111111,\"#46039f\"],[0.2222222222222222,\"#7201a8\"],[0.3333333333333333,\"#9c179e\"],[0.4444444444444444,\"#bd3786\"],[0.5555555555555556,\"#d8576b\"],[0.6666666666666666,\"#ed7953\"],[0.7777777777777778,\"#fb9f3a\"],[0.8888888888888888,\"#fdca26\"],[1.0,\"#f0f921\"]],\"type\":\"histogram2d\"}],\"histogram\":[{\"marker\":{\"pattern\":{\"fillmode\":\"overlay\",\"size\":10,\"solidity\":0.2}},\"type\":\"histogram\"}],\"mesh3d\":[{\"colorbar\":{\"outlinewidth\":0,\"ticks\":\"\"},\"type\":\"mesh3d\"}],\"parcoords\":[{\"line\":{\"colorbar\":{\"outlinewidth\":0,\"ticks\":\"\"}},\"type\":\"parcoords\"}],\"pie\":[{\"automargin\":true,\"type\":\"pie\"}],\"scatter3d\":[{\"line\":{\"colorbar\":{\"outlinewidth\":0,\"ticks\":\"\"}},\"marker\":{\"colorbar\":{\"outlinewidth\":0,\"ticks\":\"\"}},\"type\":\"scatter3d\"}],\"scattercarpet\":[{\"marker\":{\"colorbar\":{\"outlinewidth\":0,\"ticks\":\"\"}},\"type\":\"scattercarpet\"}],\"scattergeo\":[{\"marker\":{\"colorbar\":{\"outlinewidth\":0,\"ticks\":\"\"}},\"type\":\"scattergeo\"}],\"scattergl\":[{\"marker\":{\"colorbar\":{\"outlinewidth\":0,\"ticks\":\"\"}},\"type\":\"scattergl\"}],\"scattermapbox\":[{\"marker\":{\"colorbar\":{\"outlinewidth\":0,\"ticks\":\"\"}},\"type\":\"scattermapbox\"}],\"scatterpolargl\":[{\"marker\":{\"colorbar\":{\"outlinewidth\":0,\"ticks\":\"\"}},\"type\":\"scatterpolargl\"}],\"scatterpolar\":[{\"marker\":{\"colorbar\":{\"outlinewidth\":0,\"ticks\":\"\"}},\"type\":\"scatterpolar\"}],\"scatter\":[{\"fillpattern\":{\"fillmode\":\"overlay\",\"size\":10,\"solidity\":0.2},\"type\":\"scatter\"}],\"scatterternary\":[{\"marker\":{\"colorbar\":{\"outlinewidth\":0,\"ticks\":\"\"}},\"type\":\"scatterternary\"}],\"surface\":[{\"colorbar\":{\"outlinewidth\":0,\"ticks\":\"\"},\"colorscale\":[[0.0,\"#0d0887\"],[0.1111111111111111,\"#46039f\"],[0.2222222222222222,\"#7201a8\"],[0.3333333333333333,\"#9c179e\"],[0.4444444444444444,\"#bd3786\"],[0.5555555555555556,\"#d8576b\"],[0.6666666666666666,\"#ed7953\"],[0.7777777777777778,\"#fb9f3a\"],[0.8888888888888888,\"#fdca26\"],[1.0,\"#f0f921\"]],\"type\":\"surface\"}],\"table\":[{\"cells\":{\"fill\":{\"color\":\"#EBF0F8\"},\"line\":{\"color\":\"white\"}},\"header\":{\"fill\":{\"color\":\"#C8D4E3\"},\"line\":{\"color\":\"white\"}},\"type\":\"table\"}]},\"layout\":{\"annotationdefaults\":{\"arrowcolor\":\"#2a3f5f\",\"arrowhead\":0,\"arrowwidth\":1},\"autotypenumbers\":\"strict\",\"coloraxis\":{\"colorbar\":{\"outlinewidth\":0,\"ticks\":\"\"}},\"colorscale\":{\"diverging\":[[0,\"#8e0152\"],[0.1,\"#c51b7d\"],[0.2,\"#de77ae\"],[0.3,\"#f1b6da\"],[0.4,\"#fde0ef\"],[0.5,\"#f7f7f7\"],[0.6,\"#e6f5d0\"],[0.7,\"#b8e186\"],[0.8,\"#7fbc41\"],[0.9,\"#4d9221\"],[1,\"#276419\"]],\"sequential\":[[0.0,\"#0d0887\"],[0.1111111111111111,\"#46039f\"],[0.2222222222222222,\"#7201a8\"],[0.3333333333333333,\"#9c179e\"],[0.4444444444444444,\"#bd3786\"],[0.5555555555555556,\"#d8576b\"],[0.6666666666666666,\"#ed7953\"],[0.7777777777777778,\"#fb9f3a\"],[0.8888888888888888,\"#fdca26\"],[1.0,\"#f0f921\"]],\"sequentialminus\":[[0.0,\"#0d0887\"],[0.1111111111111111,\"#46039f\"],[0.2222222222222222,\"#7201a8\"],[0.3333333333333333,\"#9c179e\"],[0.4444444444444444,\"#bd3786\"],[0.5555555555555556,\"#d8576b\"],[0.6666666666666666,\"#ed7953\"],[0.7777777777777778,\"#fb9f3a\"],[0.8888888888888888,\"#fdca26\"],[1.0,\"#f0f921\"]]},\"colorway\":[\"#636efa\",\"#EF553B\",\"#00cc96\",\"#ab63fa\",\"#FFA15A\",\"#19d3f3\",\"#FF6692\",\"#B6E880\",\"#FF97FF\",\"#FECB52\"],\"font\":{\"color\":\"#2a3f5f\"},\"geo\":{\"bgcolor\":\"white\",\"lakecolor\":\"white\",\"landcolor\":\"#E5ECF6\",\"showlakes\":true,\"showland\":true,\"subunitcolor\":\"white\"},\"hoverlabel\":{\"align\":\"left\"},\"hovermode\":\"closest\",\"mapbox\":{\"style\":\"light\"},\"paper_bgcolor\":\"white\",\"plot_bgcolor\":\"#E5ECF6\",\"polar\":{\"angularaxis\":{\"gridcolor\":\"white\",\"linecolor\":\"white\",\"ticks\":\"\"},\"bgcolor\":\"#E5ECF6\",\"radialaxis\":{\"gridcolor\":\"white\",\"linecolor\":\"white\",\"ticks\":\"\"}},\"scene\":{\"xaxis\":{\"backgroundcolor\":\"#E5ECF6\",\"gridcolor\":\"white\",\"gridwidth\":2,\"linecolor\":\"white\",\"showbackground\":true,\"ticks\":\"\",\"zerolinecolor\":\"white\"},\"yaxis\":{\"backgroundcolor\":\"#E5ECF6\",\"gridcolor\":\"white\",\"gridwidth\":2,\"linecolor\":\"white\",\"showbackground\":true,\"ticks\":\"\",\"zerolinecolor\":\"white\"},\"zaxis\":{\"backgroundcolor\":\"#E5ECF6\",\"gridcolor\":\"white\",\"gridwidth\":2,\"linecolor\":\"white\",\"showbackground\":true,\"ticks\":\"\",\"zerolinecolor\":\"white\"}},\"shapedefaults\":{\"line\":{\"color\":\"#2a3f5f\"}},\"ternary\":{\"aaxis\":{\"gridcolor\":\"white\",\"linecolor\":\"white\",\"ticks\":\"\"},\"baxis\":{\"gridcolor\":\"white\",\"linecolor\":\"white\",\"ticks\":\"\"},\"bgcolor\":\"#E5ECF6\",\"caxis\":{\"gridcolor\":\"white\",\"linecolor\":\"white\",\"ticks\":\"\"}},\"title\":{\"x\":0.05},\"xaxis\":{\"automargin\":true,\"gridcolor\":\"white\",\"linecolor\":\"white\",\"ticks\":\"\",\"title\":{\"standoff\":15},\"zerolinecolor\":\"white\",\"zerolinewidth\":2},\"yaxis\":{\"automargin\":true,\"gridcolor\":\"white\",\"linecolor\":\"white\",\"ticks\":\"\",\"title\":{\"standoff\":15},\"zerolinecolor\":\"white\",\"zerolinewidth\":2}}},\"title\":{\"font\":{\"color\":\"#151516\"},\"text\":\"Total Individual contributions by Employer\"},\"xaxis\":{\"gridcolor\":\"#F6F6F6\",\"showgrid\":true,\"tickfont\":{\"color\":\"#666666\"},\"title\":{\"font\":{\"color\":\"#666666\"},\"text\":\"\"},\"zerolinecolor\":\"#F6F6F6\"},\"yaxis\":{\"gridcolor\":\"#F6F6F6\",\"showgrid\":true,\"tickfont\":{\"color\":\"#666666\"},\"title\":{\"font\":{\"color\":\"#666666\"},\"text\":\"\"},\"zerolinecolor\":\"#F6F6F6\"}},                        {\"showLink\": true, \"linkText\": \"Export to plot.ly\", \"plotlyServerURL\": \"https://plot.ly\", \"responsive\": true}                    ).then(function(){\n",
       "                            \n",
       "var gd = document.getElementById('621547e7-6b18-4ba0-a89c-c545edca32d4');\n",
       "var x = new MutationObserver(function (mutations, observer) {{\n",
       "        var display = window.getComputedStyle(gd).display;\n",
       "        if (!display || display === 'none') {{\n",
       "            console.log([gd, 'removed!']);\n",
       "            Plotly.purge(gd);\n",
       "            observer.disconnect();\n",
       "        }}\n",
       "}});\n",
       "\n",
       "// Listen for the removal of the full notebook cells\n",
       "var notebookContainer = gd.closest('#notebook-container');\n",
       "if (notebookContainer) {{\n",
       "    x.observe(notebookContainer, {childList: true});\n",
       "}}\n",
       "\n",
       "// Listen for the clearing of the current output cell\n",
       "var outputEl = gd.closest('.output');\n",
       "if (outputEl) {{\n",
       "    x.observe(outputEl, {childList: true});\n",
       "}}\n",
       "\n",
       "                        })                };                });            </script>        </div>"
      ]
     },
     "metadata": {},
     "output_type": "display_data"
    }
   ],
   "source": [
    "top_employers = contribs_by_indivs['EMPLOYER'].value_counts()[:10].index\n",
    "by_employer = contribs_by_indivs[contribs_by_indivs['EMPLOYER'].isin(top_employers)].groupby(['CAND_NAME', 'EMPLOYER']).agg({'TRANSACTION_AMT': 'sum'}).reset_index()\n",
    "by_employer_pivot = by_employer.pivot_table(values='TRANSACTION_AMT', index='EMPLOYER', columns='CAND_NAME')\n",
    "by_employer_pivot.iplot(kind='bar', colors=color_map, title='Total Individual contributions by Employer')"
   ]
  },
  {
   "cell_type": "code",
   "execution_count": 53,
   "metadata": {
    "_kg_hide-input": true,
    "execution": {
     "iopub.execute_input": "2020-09-02T06:05:06.561436Z",
     "iopub.status.busy": "2020-09-02T06:05:06.560466Z",
     "iopub.status.idle": "2020-09-02T06:05:07.523933Z",
     "shell.execute_reply": "2020-09-02T06:05:07.524601Z"
    },
    "papermill": {
     "duration": 1.670358,
     "end_time": "2020-09-02T06:05:07.524812",
     "exception": false,
     "start_time": "2020-09-02T06:05:05.854454",
     "status": "completed"
    },
    "tags": []
   },
   "outputs": [
    {
     "data": {
      "application/vnd.plotly.v1+json": {
       "config": {
        "linkText": "Export to plot.ly",
        "plotlyServerURL": "https://plot.ly",
        "showLink": true
       },
       "data": [
        {
         "marker": {
          "color": "rgba(55, 128, 191, 0.6)",
          "line": {
           "color": "blue",
           "width": 1
          }
         },
         "name": "CUNNINGHAM, CAL",
         "orientation": "v",
         "text": "",
         "type": "bar",
         "x": [
          "AIRLINE PILOT",
          "ATTORNEY",
          "DIRECTOR",
          "DRIVER",
          "FIRE FIGHTER / EMS",
          "MANAGER",
          "NONE",
          "PARTNER",
          "PHYSICIAN",
          "PRESIDENT",
          "REAL ESTATE BROKER"
         ],
         "y": [
          1554,
          4581084,
          177774,
          164904,
          2175763,
          348292,
          783737,
          569956,
          1498433,
          2163706,
          49343
         ]
        },
        {
         "marker": {
          "color": "rgba(219, 64, 82, 0.6)",
          "line": {
           "color": "red",
           "width": 1
          }
         },
         "name": "TILLIS, THOM R. SEN.",
         "orientation": "v",
         "text": "",
         "type": "bar",
         "x": [
          "AIRLINE PILOT",
          "ATTORNEY",
          "DIRECTOR",
          "DRIVER",
          "FIRE FIGHTER / EMS",
          "MANAGER",
          "NONE",
          "PARTNER",
          "PHYSICIAN",
          "PRESIDENT",
          "REAL ESTATE BROKER"
         ],
         "y": [
          1148552,
          5636136,
          4269651,
          13965,
          "",
          1833174,
          55315,
          9897040,
          3747696,
          11546694,
          3622633
         ]
        }
       ],
       "layout": {
        "legend": {
         "bgcolor": "#FFFFFF",
         "font": {
          "color": "#666666"
         }
        },
        "paper_bgcolor": "#FFFFFF",
        "plot_bgcolor": "#E5E5E5",
        "template": {
         "data": {
          "bar": [
           {
            "error_x": {
             "color": "#2a3f5f"
            },
            "error_y": {
             "color": "#2a3f5f"
            },
            "marker": {
             "line": {
              "color": "#E5ECF6",
              "width": 0.5
             },
             "pattern": {
              "fillmode": "overlay",
              "size": 10,
              "solidity": 0.2
             }
            },
            "type": "bar"
           }
          ],
          "barpolar": [
           {
            "marker": {
             "line": {
              "color": "#E5ECF6",
              "width": 0.5
             },
             "pattern": {
              "fillmode": "overlay",
              "size": 10,
              "solidity": 0.2
             }
            },
            "type": "barpolar"
           }
          ],
          "carpet": [
           {
            "aaxis": {
             "endlinecolor": "#2a3f5f",
             "gridcolor": "white",
             "linecolor": "white",
             "minorgridcolor": "white",
             "startlinecolor": "#2a3f5f"
            },
            "baxis": {
             "endlinecolor": "#2a3f5f",
             "gridcolor": "white",
             "linecolor": "white",
             "minorgridcolor": "white",
             "startlinecolor": "#2a3f5f"
            },
            "type": "carpet"
           }
          ],
          "choropleth": [
           {
            "colorbar": {
             "outlinewidth": 0,
             "ticks": ""
            },
            "type": "choropleth"
           }
          ],
          "contour": [
           {
            "colorbar": {
             "outlinewidth": 0,
             "ticks": ""
            },
            "colorscale": [
             [
              0,
              "#0d0887"
             ],
             [
              0.1111111111111111,
              "#46039f"
             ],
             [
              0.2222222222222222,
              "#7201a8"
             ],
             [
              0.3333333333333333,
              "#9c179e"
             ],
             [
              0.4444444444444444,
              "#bd3786"
             ],
             [
              0.5555555555555556,
              "#d8576b"
             ],
             [
              0.6666666666666666,
              "#ed7953"
             ],
             [
              0.7777777777777778,
              "#fb9f3a"
             ],
             [
              0.8888888888888888,
              "#fdca26"
             ],
             [
              1,
              "#f0f921"
             ]
            ],
            "type": "contour"
           }
          ],
          "contourcarpet": [
           {
            "colorbar": {
             "outlinewidth": 0,
             "ticks": ""
            },
            "type": "contourcarpet"
           }
          ],
          "heatmap": [
           {
            "colorbar": {
             "outlinewidth": 0,
             "ticks": ""
            },
            "colorscale": [
             [
              0,
              "#0d0887"
             ],
             [
              0.1111111111111111,
              "#46039f"
             ],
             [
              0.2222222222222222,
              "#7201a8"
             ],
             [
              0.3333333333333333,
              "#9c179e"
             ],
             [
              0.4444444444444444,
              "#bd3786"
             ],
             [
              0.5555555555555556,
              "#d8576b"
             ],
             [
              0.6666666666666666,
              "#ed7953"
             ],
             [
              0.7777777777777778,
              "#fb9f3a"
             ],
             [
              0.8888888888888888,
              "#fdca26"
             ],
             [
              1,
              "#f0f921"
             ]
            ],
            "type": "heatmap"
           }
          ],
          "heatmapgl": [
           {
            "colorbar": {
             "outlinewidth": 0,
             "ticks": ""
            },
            "colorscale": [
             [
              0,
              "#0d0887"
             ],
             [
              0.1111111111111111,
              "#46039f"
             ],
             [
              0.2222222222222222,
              "#7201a8"
             ],
             [
              0.3333333333333333,
              "#9c179e"
             ],
             [
              0.4444444444444444,
              "#bd3786"
             ],
             [
              0.5555555555555556,
              "#d8576b"
             ],
             [
              0.6666666666666666,
              "#ed7953"
             ],
             [
              0.7777777777777778,
              "#fb9f3a"
             ],
             [
              0.8888888888888888,
              "#fdca26"
             ],
             [
              1,
              "#f0f921"
             ]
            ],
            "type": "heatmapgl"
           }
          ],
          "histogram": [
           {
            "marker": {
             "pattern": {
              "fillmode": "overlay",
              "size": 10,
              "solidity": 0.2
             }
            },
            "type": "histogram"
           }
          ],
          "histogram2d": [
           {
            "colorbar": {
             "outlinewidth": 0,
             "ticks": ""
            },
            "colorscale": [
             [
              0,
              "#0d0887"
             ],
             [
              0.1111111111111111,
              "#46039f"
             ],
             [
              0.2222222222222222,
              "#7201a8"
             ],
             [
              0.3333333333333333,
              "#9c179e"
             ],
             [
              0.4444444444444444,
              "#bd3786"
             ],
             [
              0.5555555555555556,
              "#d8576b"
             ],
             [
              0.6666666666666666,
              "#ed7953"
             ],
             [
              0.7777777777777778,
              "#fb9f3a"
             ],
             [
              0.8888888888888888,
              "#fdca26"
             ],
             [
              1,
              "#f0f921"
             ]
            ],
            "type": "histogram2d"
           }
          ],
          "histogram2dcontour": [
           {
            "colorbar": {
             "outlinewidth": 0,
             "ticks": ""
            },
            "colorscale": [
             [
              0,
              "#0d0887"
             ],
             [
              0.1111111111111111,
              "#46039f"
             ],
             [
              0.2222222222222222,
              "#7201a8"
             ],
             [
              0.3333333333333333,
              "#9c179e"
             ],
             [
              0.4444444444444444,
              "#bd3786"
             ],
             [
              0.5555555555555556,
              "#d8576b"
             ],
             [
              0.6666666666666666,
              "#ed7953"
             ],
             [
              0.7777777777777778,
              "#fb9f3a"
             ],
             [
              0.8888888888888888,
              "#fdca26"
             ],
             [
              1,
              "#f0f921"
             ]
            ],
            "type": "histogram2dcontour"
           }
          ],
          "mesh3d": [
           {
            "colorbar": {
             "outlinewidth": 0,
             "ticks": ""
            },
            "type": "mesh3d"
           }
          ],
          "parcoords": [
           {
            "line": {
             "colorbar": {
              "outlinewidth": 0,
              "ticks": ""
             }
            },
            "type": "parcoords"
           }
          ],
          "pie": [
           {
            "automargin": true,
            "type": "pie"
           }
          ],
          "scatter": [
           {
            "fillpattern": {
             "fillmode": "overlay",
             "size": 10,
             "solidity": 0.2
            },
            "type": "scatter"
           }
          ],
          "scatter3d": [
           {
            "line": {
             "colorbar": {
              "outlinewidth": 0,
              "ticks": ""
             }
            },
            "marker": {
             "colorbar": {
              "outlinewidth": 0,
              "ticks": ""
             }
            },
            "type": "scatter3d"
           }
          ],
          "scattercarpet": [
           {
            "marker": {
             "colorbar": {
              "outlinewidth": 0,
              "ticks": ""
             }
            },
            "type": "scattercarpet"
           }
          ],
          "scattergeo": [
           {
            "marker": {
             "colorbar": {
              "outlinewidth": 0,
              "ticks": ""
             }
            },
            "type": "scattergeo"
           }
          ],
          "scattergl": [
           {
            "marker": {
             "colorbar": {
              "outlinewidth": 0,
              "ticks": ""
             }
            },
            "type": "scattergl"
           }
          ],
          "scattermapbox": [
           {
            "marker": {
             "colorbar": {
              "outlinewidth": 0,
              "ticks": ""
             }
            },
            "type": "scattermapbox"
           }
          ],
          "scatterpolar": [
           {
            "marker": {
             "colorbar": {
              "outlinewidth": 0,
              "ticks": ""
             }
            },
            "type": "scatterpolar"
           }
          ],
          "scatterpolargl": [
           {
            "marker": {
             "colorbar": {
              "outlinewidth": 0,
              "ticks": ""
             }
            },
            "type": "scatterpolargl"
           }
          ],
          "scatterternary": [
           {
            "marker": {
             "colorbar": {
              "outlinewidth": 0,
              "ticks": ""
             }
            },
            "type": "scatterternary"
           }
          ],
          "surface": [
           {
            "colorbar": {
             "outlinewidth": 0,
             "ticks": ""
            },
            "colorscale": [
             [
              0,
              "#0d0887"
             ],
             [
              0.1111111111111111,
              "#46039f"
             ],
             [
              0.2222222222222222,
              "#7201a8"
             ],
             [
              0.3333333333333333,
              "#9c179e"
             ],
             [
              0.4444444444444444,
              "#bd3786"
             ],
             [
              0.5555555555555556,
              "#d8576b"
             ],
             [
              0.6666666666666666,
              "#ed7953"
             ],
             [
              0.7777777777777778,
              "#fb9f3a"
             ],
             [
              0.8888888888888888,
              "#fdca26"
             ],
             [
              1,
              "#f0f921"
             ]
            ],
            "type": "surface"
           }
          ],
          "table": [
           {
            "cells": {
             "fill": {
              "color": "#EBF0F8"
             },
             "line": {
              "color": "white"
             }
            },
            "header": {
             "fill": {
              "color": "#C8D4E3"
             },
             "line": {
              "color": "white"
             }
            },
            "type": "table"
           }
          ]
         },
         "layout": {
          "annotationdefaults": {
           "arrowcolor": "#2a3f5f",
           "arrowhead": 0,
           "arrowwidth": 1
          },
          "autotypenumbers": "strict",
          "coloraxis": {
           "colorbar": {
            "outlinewidth": 0,
            "ticks": ""
           }
          },
          "colorscale": {
           "diverging": [
            [
             0,
             "#8e0152"
            ],
            [
             0.1,
             "#c51b7d"
            ],
            [
             0.2,
             "#de77ae"
            ],
            [
             0.3,
             "#f1b6da"
            ],
            [
             0.4,
             "#fde0ef"
            ],
            [
             0.5,
             "#f7f7f7"
            ],
            [
             0.6,
             "#e6f5d0"
            ],
            [
             0.7,
             "#b8e186"
            ],
            [
             0.8,
             "#7fbc41"
            ],
            [
             0.9,
             "#4d9221"
            ],
            [
             1,
             "#276419"
            ]
           ],
           "sequential": [
            [
             0,
             "#0d0887"
            ],
            [
             0.1111111111111111,
             "#46039f"
            ],
            [
             0.2222222222222222,
             "#7201a8"
            ],
            [
             0.3333333333333333,
             "#9c179e"
            ],
            [
             0.4444444444444444,
             "#bd3786"
            ],
            [
             0.5555555555555556,
             "#d8576b"
            ],
            [
             0.6666666666666666,
             "#ed7953"
            ],
            [
             0.7777777777777778,
             "#fb9f3a"
            ],
            [
             0.8888888888888888,
             "#fdca26"
            ],
            [
             1,
             "#f0f921"
            ]
           ],
           "sequentialminus": [
            [
             0,
             "#0d0887"
            ],
            [
             0.1111111111111111,
             "#46039f"
            ],
            [
             0.2222222222222222,
             "#7201a8"
            ],
            [
             0.3333333333333333,
             "#9c179e"
            ],
            [
             0.4444444444444444,
             "#bd3786"
            ],
            [
             0.5555555555555556,
             "#d8576b"
            ],
            [
             0.6666666666666666,
             "#ed7953"
            ],
            [
             0.7777777777777778,
             "#fb9f3a"
            ],
            [
             0.8888888888888888,
             "#fdca26"
            ],
            [
             1,
             "#f0f921"
            ]
           ]
          },
          "colorway": [
           "#636efa",
           "#EF553B",
           "#00cc96",
           "#ab63fa",
           "#FFA15A",
           "#19d3f3",
           "#FF6692",
           "#B6E880",
           "#FF97FF",
           "#FECB52"
          ],
          "font": {
           "color": "#2a3f5f"
          },
          "geo": {
           "bgcolor": "white",
           "lakecolor": "white",
           "landcolor": "#E5ECF6",
           "showlakes": true,
           "showland": true,
           "subunitcolor": "white"
          },
          "hoverlabel": {
           "align": "left"
          },
          "hovermode": "closest",
          "mapbox": {
           "style": "light"
          },
          "paper_bgcolor": "white",
          "plot_bgcolor": "#E5ECF6",
          "polar": {
           "angularaxis": {
            "gridcolor": "white",
            "linecolor": "white",
            "ticks": ""
           },
           "bgcolor": "#E5ECF6",
           "radialaxis": {
            "gridcolor": "white",
            "linecolor": "white",
            "ticks": ""
           }
          },
          "scene": {
           "xaxis": {
            "backgroundcolor": "#E5ECF6",
            "gridcolor": "white",
            "gridwidth": 2,
            "linecolor": "white",
            "showbackground": true,
            "ticks": "",
            "zerolinecolor": "white"
           },
           "yaxis": {
            "backgroundcolor": "#E5ECF6",
            "gridcolor": "white",
            "gridwidth": 2,
            "linecolor": "white",
            "showbackground": true,
            "ticks": "",
            "zerolinecolor": "white"
           },
           "zaxis": {
            "backgroundcolor": "#E5ECF6",
            "gridcolor": "white",
            "gridwidth": 2,
            "linecolor": "white",
            "showbackground": true,
            "ticks": "",
            "zerolinecolor": "white"
           }
          },
          "shapedefaults": {
           "line": {
            "color": "#2a3f5f"
           }
          },
          "ternary": {
           "aaxis": {
            "gridcolor": "white",
            "linecolor": "white",
            "ticks": ""
           },
           "baxis": {
            "gridcolor": "white",
            "linecolor": "white",
            "ticks": ""
           },
           "bgcolor": "#E5ECF6",
           "caxis": {
            "gridcolor": "white",
            "linecolor": "white",
            "ticks": ""
           }
          },
          "title": {
           "x": 0.05
          },
          "xaxis": {
           "automargin": true,
           "gridcolor": "white",
           "linecolor": "white",
           "ticks": "",
           "title": {
            "standoff": 15
           },
           "zerolinecolor": "white",
           "zerolinewidth": 2
          },
          "yaxis": {
           "automargin": true,
           "gridcolor": "white",
           "linecolor": "white",
           "ticks": "",
           "title": {
            "standoff": 15
           },
           "zerolinecolor": "white",
           "zerolinewidth": 2
          }
         }
        },
        "title": {
         "font": {
          "color": "#151516"
         },
         "text": "Total Individual contributions by Occupation"
        },
        "xaxis": {
         "gridcolor": "#F6F6F6",
         "showgrid": true,
         "tickfont": {
          "color": "#666666"
         },
         "title": {
          "font": {
           "color": "#666666"
          },
          "text": ""
         },
         "zerolinecolor": "#F6F6F6"
        },
        "yaxis": {
         "gridcolor": "#F6F6F6",
         "showgrid": true,
         "tickfont": {
          "color": "#666666"
         },
         "title": {
          "font": {
           "color": "#666666"
          },
          "text": ""
         },
         "zerolinecolor": "#F6F6F6"
        }
       }
      },
      "text/html": [
       "<div>                            <div id=\"494c5352-6d63-4257-b3aa-ac48b2de8c9c\" class=\"plotly-graph-div\" style=\"height:525px; width:100%;\"></div>            <script type=\"text/javascript\">                require([\"plotly\"], function(Plotly) {                    window.PLOTLYENV=window.PLOTLYENV || {};\n",
       "                    window.PLOTLYENV.BASE_URL='https://plot.ly';                                    if (document.getElementById(\"494c5352-6d63-4257-b3aa-ac48b2de8c9c\")) {                    Plotly.newPlot(                        \"494c5352-6d63-4257-b3aa-ac48b2de8c9c\",                        [{\"marker\":{\"color\":\"rgba(55, 128, 191, 0.6)\",\"line\":{\"color\":\"blue\",\"width\":1}},\"name\":\"CUNNINGHAM, CAL\",\"orientation\":\"v\",\"text\":\"\",\"x\":[\"AIRLINE PILOT\",\"ATTORNEY\",\"DIRECTOR\",\"DRIVER\",\"FIRE FIGHTER / EMS\",\"MANAGER\",\"NONE\",\"PARTNER\",\"PHYSICIAN\",\"PRESIDENT\",\"REAL ESTATE BROKER\"],\"y\":[1554.0,4581084.0,177774.0,164904.0,2175763.0,348292.0,783737.0,569956.0,1498433.0,2163706.0,49343.0],\"type\":\"bar\"},{\"marker\":{\"color\":\"rgba(219, 64, 82, 0.6)\",\"line\":{\"color\":\"red\",\"width\":1}},\"name\":\"TILLIS, THOM R. SEN.\",\"orientation\":\"v\",\"text\":\"\",\"x\":[\"AIRLINE PILOT\",\"ATTORNEY\",\"DIRECTOR\",\"DRIVER\",\"FIRE FIGHTER / EMS\",\"MANAGER\",\"NONE\",\"PARTNER\",\"PHYSICIAN\",\"PRESIDENT\",\"REAL ESTATE BROKER\"],\"y\":[1148552.0,5636136.0,4269651.0,13965.0,\"\",1833174.0,55315.0,9897040.0,3747696.0,11546694.0,3622633.0],\"type\":\"bar\"}],                        {\"legend\":{\"bgcolor\":\"#FFFFFF\",\"font\":{\"color\":\"#666666\"}},\"paper_bgcolor\":\"#FFFFFF\",\"plot_bgcolor\":\"#E5E5E5\",\"template\":{\"data\":{\"barpolar\":[{\"marker\":{\"line\":{\"color\":\"#E5ECF6\",\"width\":0.5},\"pattern\":{\"fillmode\":\"overlay\",\"size\":10,\"solidity\":0.2}},\"type\":\"barpolar\"}],\"bar\":[{\"error_x\":{\"color\":\"#2a3f5f\"},\"error_y\":{\"color\":\"#2a3f5f\"},\"marker\":{\"line\":{\"color\":\"#E5ECF6\",\"width\":0.5},\"pattern\":{\"fillmode\":\"overlay\",\"size\":10,\"solidity\":0.2}},\"type\":\"bar\"}],\"carpet\":[{\"aaxis\":{\"endlinecolor\":\"#2a3f5f\",\"gridcolor\":\"white\",\"linecolor\":\"white\",\"minorgridcolor\":\"white\",\"startlinecolor\":\"#2a3f5f\"},\"baxis\":{\"endlinecolor\":\"#2a3f5f\",\"gridcolor\":\"white\",\"linecolor\":\"white\",\"minorgridcolor\":\"white\",\"startlinecolor\":\"#2a3f5f\"},\"type\":\"carpet\"}],\"choropleth\":[{\"colorbar\":{\"outlinewidth\":0,\"ticks\":\"\"},\"type\":\"choropleth\"}],\"contourcarpet\":[{\"colorbar\":{\"outlinewidth\":0,\"ticks\":\"\"},\"type\":\"contourcarpet\"}],\"contour\":[{\"colorbar\":{\"outlinewidth\":0,\"ticks\":\"\"},\"colorscale\":[[0.0,\"#0d0887\"],[0.1111111111111111,\"#46039f\"],[0.2222222222222222,\"#7201a8\"],[0.3333333333333333,\"#9c179e\"],[0.4444444444444444,\"#bd3786\"],[0.5555555555555556,\"#d8576b\"],[0.6666666666666666,\"#ed7953\"],[0.7777777777777778,\"#fb9f3a\"],[0.8888888888888888,\"#fdca26\"],[1.0,\"#f0f921\"]],\"type\":\"contour\"}],\"heatmapgl\":[{\"colorbar\":{\"outlinewidth\":0,\"ticks\":\"\"},\"colorscale\":[[0.0,\"#0d0887\"],[0.1111111111111111,\"#46039f\"],[0.2222222222222222,\"#7201a8\"],[0.3333333333333333,\"#9c179e\"],[0.4444444444444444,\"#bd3786\"],[0.5555555555555556,\"#d8576b\"],[0.6666666666666666,\"#ed7953\"],[0.7777777777777778,\"#fb9f3a\"],[0.8888888888888888,\"#fdca26\"],[1.0,\"#f0f921\"]],\"type\":\"heatmapgl\"}],\"heatmap\":[{\"colorbar\":{\"outlinewidth\":0,\"ticks\":\"\"},\"colorscale\":[[0.0,\"#0d0887\"],[0.1111111111111111,\"#46039f\"],[0.2222222222222222,\"#7201a8\"],[0.3333333333333333,\"#9c179e\"],[0.4444444444444444,\"#bd3786\"],[0.5555555555555556,\"#d8576b\"],[0.6666666666666666,\"#ed7953\"],[0.7777777777777778,\"#fb9f3a\"],[0.8888888888888888,\"#fdca26\"],[1.0,\"#f0f921\"]],\"type\":\"heatmap\"}],\"histogram2dcontour\":[{\"colorbar\":{\"outlinewidth\":0,\"ticks\":\"\"},\"colorscale\":[[0.0,\"#0d0887\"],[0.1111111111111111,\"#46039f\"],[0.2222222222222222,\"#7201a8\"],[0.3333333333333333,\"#9c179e\"],[0.4444444444444444,\"#bd3786\"],[0.5555555555555556,\"#d8576b\"],[0.6666666666666666,\"#ed7953\"],[0.7777777777777778,\"#fb9f3a\"],[0.8888888888888888,\"#fdca26\"],[1.0,\"#f0f921\"]],\"type\":\"histogram2dcontour\"}],\"histogram2d\":[{\"colorbar\":{\"outlinewidth\":0,\"ticks\":\"\"},\"colorscale\":[[0.0,\"#0d0887\"],[0.1111111111111111,\"#46039f\"],[0.2222222222222222,\"#7201a8\"],[0.3333333333333333,\"#9c179e\"],[0.4444444444444444,\"#bd3786\"],[0.5555555555555556,\"#d8576b\"],[0.6666666666666666,\"#ed7953\"],[0.7777777777777778,\"#fb9f3a\"],[0.8888888888888888,\"#fdca26\"],[1.0,\"#f0f921\"]],\"type\":\"histogram2d\"}],\"histogram\":[{\"marker\":{\"pattern\":{\"fillmode\":\"overlay\",\"size\":10,\"solidity\":0.2}},\"type\":\"histogram\"}],\"mesh3d\":[{\"colorbar\":{\"outlinewidth\":0,\"ticks\":\"\"},\"type\":\"mesh3d\"}],\"parcoords\":[{\"line\":{\"colorbar\":{\"outlinewidth\":0,\"ticks\":\"\"}},\"type\":\"parcoords\"}],\"pie\":[{\"automargin\":true,\"type\":\"pie\"}],\"scatter3d\":[{\"line\":{\"colorbar\":{\"outlinewidth\":0,\"ticks\":\"\"}},\"marker\":{\"colorbar\":{\"outlinewidth\":0,\"ticks\":\"\"}},\"type\":\"scatter3d\"}],\"scattercarpet\":[{\"marker\":{\"colorbar\":{\"outlinewidth\":0,\"ticks\":\"\"}},\"type\":\"scattercarpet\"}],\"scattergeo\":[{\"marker\":{\"colorbar\":{\"outlinewidth\":0,\"ticks\":\"\"}},\"type\":\"scattergeo\"}],\"scattergl\":[{\"marker\":{\"colorbar\":{\"outlinewidth\":0,\"ticks\":\"\"}},\"type\":\"scattergl\"}],\"scattermapbox\":[{\"marker\":{\"colorbar\":{\"outlinewidth\":0,\"ticks\":\"\"}},\"type\":\"scattermapbox\"}],\"scatterpolargl\":[{\"marker\":{\"colorbar\":{\"outlinewidth\":0,\"ticks\":\"\"}},\"type\":\"scatterpolargl\"}],\"scatterpolar\":[{\"marker\":{\"colorbar\":{\"outlinewidth\":0,\"ticks\":\"\"}},\"type\":\"scatterpolar\"}],\"scatter\":[{\"fillpattern\":{\"fillmode\":\"overlay\",\"size\":10,\"solidity\":0.2},\"type\":\"scatter\"}],\"scatterternary\":[{\"marker\":{\"colorbar\":{\"outlinewidth\":0,\"ticks\":\"\"}},\"type\":\"scatterternary\"}],\"surface\":[{\"colorbar\":{\"outlinewidth\":0,\"ticks\":\"\"},\"colorscale\":[[0.0,\"#0d0887\"],[0.1111111111111111,\"#46039f\"],[0.2222222222222222,\"#7201a8\"],[0.3333333333333333,\"#9c179e\"],[0.4444444444444444,\"#bd3786\"],[0.5555555555555556,\"#d8576b\"],[0.6666666666666666,\"#ed7953\"],[0.7777777777777778,\"#fb9f3a\"],[0.8888888888888888,\"#fdca26\"],[1.0,\"#f0f921\"]],\"type\":\"surface\"}],\"table\":[{\"cells\":{\"fill\":{\"color\":\"#EBF0F8\"},\"line\":{\"color\":\"white\"}},\"header\":{\"fill\":{\"color\":\"#C8D4E3\"},\"line\":{\"color\":\"white\"}},\"type\":\"table\"}]},\"layout\":{\"annotationdefaults\":{\"arrowcolor\":\"#2a3f5f\",\"arrowhead\":0,\"arrowwidth\":1},\"autotypenumbers\":\"strict\",\"coloraxis\":{\"colorbar\":{\"outlinewidth\":0,\"ticks\":\"\"}},\"colorscale\":{\"diverging\":[[0,\"#8e0152\"],[0.1,\"#c51b7d\"],[0.2,\"#de77ae\"],[0.3,\"#f1b6da\"],[0.4,\"#fde0ef\"],[0.5,\"#f7f7f7\"],[0.6,\"#e6f5d0\"],[0.7,\"#b8e186\"],[0.8,\"#7fbc41\"],[0.9,\"#4d9221\"],[1,\"#276419\"]],\"sequential\":[[0.0,\"#0d0887\"],[0.1111111111111111,\"#46039f\"],[0.2222222222222222,\"#7201a8\"],[0.3333333333333333,\"#9c179e\"],[0.4444444444444444,\"#bd3786\"],[0.5555555555555556,\"#d8576b\"],[0.6666666666666666,\"#ed7953\"],[0.7777777777777778,\"#fb9f3a\"],[0.8888888888888888,\"#fdca26\"],[1.0,\"#f0f921\"]],\"sequentialminus\":[[0.0,\"#0d0887\"],[0.1111111111111111,\"#46039f\"],[0.2222222222222222,\"#7201a8\"],[0.3333333333333333,\"#9c179e\"],[0.4444444444444444,\"#bd3786\"],[0.5555555555555556,\"#d8576b\"],[0.6666666666666666,\"#ed7953\"],[0.7777777777777778,\"#fb9f3a\"],[0.8888888888888888,\"#fdca26\"],[1.0,\"#f0f921\"]]},\"colorway\":[\"#636efa\",\"#EF553B\",\"#00cc96\",\"#ab63fa\",\"#FFA15A\",\"#19d3f3\",\"#FF6692\",\"#B6E880\",\"#FF97FF\",\"#FECB52\"],\"font\":{\"color\":\"#2a3f5f\"},\"geo\":{\"bgcolor\":\"white\",\"lakecolor\":\"white\",\"landcolor\":\"#E5ECF6\",\"showlakes\":true,\"showland\":true,\"subunitcolor\":\"white\"},\"hoverlabel\":{\"align\":\"left\"},\"hovermode\":\"closest\",\"mapbox\":{\"style\":\"light\"},\"paper_bgcolor\":\"white\",\"plot_bgcolor\":\"#E5ECF6\",\"polar\":{\"angularaxis\":{\"gridcolor\":\"white\",\"linecolor\":\"white\",\"ticks\":\"\"},\"bgcolor\":\"#E5ECF6\",\"radialaxis\":{\"gridcolor\":\"white\",\"linecolor\":\"white\",\"ticks\":\"\"}},\"scene\":{\"xaxis\":{\"backgroundcolor\":\"#E5ECF6\",\"gridcolor\":\"white\",\"gridwidth\":2,\"linecolor\":\"white\",\"showbackground\":true,\"ticks\":\"\",\"zerolinecolor\":\"white\"},\"yaxis\":{\"backgroundcolor\":\"#E5ECF6\",\"gridcolor\":\"white\",\"gridwidth\":2,\"linecolor\":\"white\",\"showbackground\":true,\"ticks\":\"\",\"zerolinecolor\":\"white\"},\"zaxis\":{\"backgroundcolor\":\"#E5ECF6\",\"gridcolor\":\"white\",\"gridwidth\":2,\"linecolor\":\"white\",\"showbackground\":true,\"ticks\":\"\",\"zerolinecolor\":\"white\"}},\"shapedefaults\":{\"line\":{\"color\":\"#2a3f5f\"}},\"ternary\":{\"aaxis\":{\"gridcolor\":\"white\",\"linecolor\":\"white\",\"ticks\":\"\"},\"baxis\":{\"gridcolor\":\"white\",\"linecolor\":\"white\",\"ticks\":\"\"},\"bgcolor\":\"#E5ECF6\",\"caxis\":{\"gridcolor\":\"white\",\"linecolor\":\"white\",\"ticks\":\"\"}},\"title\":{\"x\":0.05},\"xaxis\":{\"automargin\":true,\"gridcolor\":\"white\",\"linecolor\":\"white\",\"ticks\":\"\",\"title\":{\"standoff\":15},\"zerolinecolor\":\"white\",\"zerolinewidth\":2},\"yaxis\":{\"automargin\":true,\"gridcolor\":\"white\",\"linecolor\":\"white\",\"ticks\":\"\",\"title\":{\"standoff\":15},\"zerolinecolor\":\"white\",\"zerolinewidth\":2}}},\"title\":{\"font\":{\"color\":\"#151516\"},\"text\":\"Total Individual contributions by Occupation\"},\"xaxis\":{\"gridcolor\":\"#F6F6F6\",\"showgrid\":true,\"tickfont\":{\"color\":\"#666666\"},\"title\":{\"font\":{\"color\":\"#666666\"},\"text\":\"\"},\"zerolinecolor\":\"#F6F6F6\"},\"yaxis\":{\"gridcolor\":\"#F6F6F6\",\"showgrid\":true,\"tickfont\":{\"color\":\"#666666\"},\"title\":{\"font\":{\"color\":\"#666666\"},\"text\":\"\"},\"zerolinecolor\":\"#F6F6F6\"}},                        {\"showLink\": true, \"linkText\": \"Export to plot.ly\", \"plotlyServerURL\": \"https://plot.ly\", \"responsive\": true}                    ).then(function(){\n",
       "                            \n",
       "var gd = document.getElementById('494c5352-6d63-4257-b3aa-ac48b2de8c9c');\n",
       "var x = new MutationObserver(function (mutations, observer) {{\n",
       "        var display = window.getComputedStyle(gd).display;\n",
       "        if (!display || display === 'none') {{\n",
       "            console.log([gd, 'removed!']);\n",
       "            Plotly.purge(gd);\n",
       "            observer.disconnect();\n",
       "        }}\n",
       "}});\n",
       "\n",
       "// Listen for the removal of the full notebook cells\n",
       "var notebookContainer = gd.closest('#notebook-container');\n",
       "if (notebookContainer) {{\n",
       "    x.observe(notebookContainer, {childList: true});\n",
       "}}\n",
       "\n",
       "// Listen for the clearing of the current output cell\n",
       "var outputEl = gd.closest('.output');\n",
       "if (outputEl) {{\n",
       "    x.observe(outputEl, {childList: true});\n",
       "}}\n",
       "\n",
       "                        })                };                });            </script>        </div>"
      ]
     },
     "metadata": {},
     "output_type": "display_data"
    }
   ],
   "source": [
    "top_occupations = set(contribs_by_indivs['OCCUPATION'].value_counts()[:13].index) - set(['RETIRED', 'SELF-EMPLOYED', 'NOT EMPLOYED'])\n",
    "by_occupation = contribs_by_indivs[contribs_by_indivs['OCCUPATION'].isin(top_occupations)].groupby(['CAND_NAME', 'OCCUPATION']).agg({'TRANSACTION_AMT': 'sum'}).reset_index()\n",
    "by_occupation_pivot = by_occupation.pivot_table(values='TRANSACTION_AMT', index='OCCUPATION', columns='CAND_NAME')\n",
    "by_occupation_pivot.iplot(kind='bar', colors=color_map, title='Total Individual contributions by Occupation')"
   ]
  },
  {
   "cell_type": "code",
   "execution_count": 54,
   "metadata": {
    "_kg_hide-input": true,
    "execution": {
     "iopub.execute_input": "2020-09-02T06:05:07.784868Z",
     "iopub.status.busy": "2020-09-02T06:05:07.784074Z",
     "iopub.status.idle": "2020-09-02T06:05:08.339855Z",
     "shell.execute_reply": "2020-09-02T06:05:08.340524Z"
    },
    "papermill": {
     "duration": 0.689537,
     "end_time": "2020-09-02T06:05:08.340753",
     "exception": false,
     "start_time": "2020-09-02T06:05:07.651216",
     "status": "completed"
    },
    "tags": []
   },
   "outputs": [
    {
     "data": {
      "application/vnd.plotly.v1+json": {
       "config": {
        "linkText": "Export to plot.ly",
        "plotlyServerURL": "https://plot.ly",
        "showLink": true
       },
       "data": [
        {
         "line": {
          "color": "blue",
          "dash": "solid",
          "shape": "linear",
          "width": 1.3
         },
         "mode": "lines",
         "name": "CUNNINGHAM, CAL",
         "text": "",
         "type": "scatter",
         "x": [
          "2018-10-03",
          "2018-10-26",
          "2018-11-04",
          "2018-11-07",
          "2018-11-09",
          "2018-11-13",
          "2018-11-14",
          "2018-11-15",
          "2018-11-16",
          "2018-11-19",
          "2018-11-22",
          "2018-11-27",
          "2018-11-28",
          "2018-11-30",
          "2018-12-07",
          "2018-12-10",
          "2018-12-11",
          "2018-12-12",
          "2018-12-13",
          "2018-12-14",
          "2018-12-17",
          "2018-12-18",
          "2018-12-19",
          "2018-12-20",
          "2018-12-21",
          "2018-12-23",
          "2018-12-26",
          "2018-12-27",
          "2018-12-28",
          "2018-12-29",
          "2018-12-30",
          "2018-12-31",
          "2019-01-01",
          "2019-01-02",
          "2019-01-03",
          "2019-01-04",
          "2019-01-05",
          "2019-01-06",
          "2019-01-07",
          "2019-01-08",
          "2019-01-09",
          "2019-01-10",
          "2019-01-11",
          "2019-01-12",
          "2019-01-13",
          "2019-01-14",
          "2019-01-15",
          "2019-01-16",
          "2019-01-17",
          "2019-01-18",
          "2019-01-19",
          "2019-01-20",
          "2019-01-21",
          "2019-01-22",
          "2019-01-23",
          "2019-01-24",
          "2019-01-25",
          "2019-01-26",
          "2019-01-27",
          "2019-01-28",
          "2019-01-29",
          "2019-01-30",
          "2019-01-31",
          "2019-02-01",
          "2019-02-02",
          "2019-02-03",
          "2019-02-04",
          "2019-02-05",
          "2019-02-06",
          "2019-02-07",
          "2019-02-08",
          "2019-02-09",
          "2019-02-10",
          "2019-02-11",
          "2019-02-12",
          "2019-02-13",
          "2019-02-14",
          "2019-02-15",
          "2019-02-16",
          "2019-02-17",
          "2019-02-18",
          "2019-02-19",
          "2019-02-20",
          "2019-02-21",
          "2019-02-22",
          "2019-02-23",
          "2019-02-24",
          "2019-02-25",
          "2019-02-26",
          "2019-02-27",
          "2019-02-28",
          "2019-03-01",
          "2019-03-02",
          "2019-03-03",
          "2019-03-04",
          "2019-03-05",
          "2019-03-06",
          "2019-03-07",
          "2019-03-08",
          "2019-03-09",
          "2019-03-10",
          "2019-03-11",
          "2019-03-12",
          "2019-03-13",
          "2019-03-14",
          "2019-03-15",
          "2019-03-16",
          "2019-03-17",
          "2019-03-18",
          "2019-03-19",
          "2019-03-20",
          "2019-03-21",
          "2019-03-22",
          "2019-03-23",
          "2019-03-24",
          "2019-03-25",
          "2019-03-26",
          "2019-03-27",
          "2019-03-28",
          "2019-03-29",
          "2019-03-30",
          "2019-03-31",
          "2019-04-01",
          "2019-04-02",
          "2019-04-03",
          "2019-04-04",
          "2019-04-05",
          "2019-04-06",
          "2019-04-07",
          "2019-04-08",
          "2019-04-09",
          "2019-04-10",
          "2019-04-11",
          "2019-04-12",
          "2019-04-13",
          "2019-04-14",
          "2019-04-15",
          "2019-04-16",
          "2019-04-17",
          "2019-04-18",
          "2019-04-19",
          "2019-04-20",
          "2019-04-21",
          "2019-04-22",
          "2019-04-23",
          "2019-04-24",
          "2019-04-25",
          "2019-04-26",
          "2019-04-27",
          "2019-04-28",
          "2019-04-29",
          "2019-04-30",
          "2019-05-01",
          "2019-05-02",
          "2019-05-03",
          "2019-05-04",
          "2019-05-05",
          "2019-05-06",
          "2019-05-07",
          "2019-05-08",
          "2019-05-09",
          "2019-05-10",
          "2019-05-11",
          "2019-05-12",
          "2019-05-13",
          "2019-05-14",
          "2019-05-15",
          "2019-05-16",
          "2019-05-17",
          "2019-05-18",
          "2019-05-19",
          "2019-05-20",
          "2019-05-21",
          "2019-05-22",
          "2019-05-23",
          "2019-05-24",
          "2019-05-25",
          "2019-05-26",
          "2019-05-27",
          "2019-05-28",
          "2019-05-29",
          "2019-05-30",
          "2019-05-31",
          "2019-06-01",
          "2019-06-02",
          "2019-06-03",
          "2019-06-04",
          "2019-06-05",
          "2019-06-06",
          "2019-06-07",
          "2019-06-08",
          "2019-06-09",
          "2019-06-10",
          "2019-06-11",
          "2019-06-12",
          "2019-06-13",
          "2019-06-14",
          "2019-06-15",
          "2019-06-16",
          "2019-06-17",
          "2019-06-18",
          "2019-06-19",
          "2019-06-20",
          "2019-06-21",
          "2019-06-22",
          "2019-06-23",
          "2019-06-24",
          "2019-06-25",
          "2019-06-26",
          "2019-06-27",
          "2019-06-28",
          "2019-06-29",
          "2019-06-30",
          "2019-07-01",
          "2019-07-02",
          "2019-07-03",
          "2019-07-04",
          "2019-07-05",
          "2019-07-06",
          "2019-07-07",
          "2019-07-08",
          "2019-07-09",
          "2019-07-10",
          "2019-07-11",
          "2019-07-12",
          "2019-07-13",
          "2019-07-14",
          "2019-07-15",
          "2019-07-16",
          "2019-07-17",
          "2019-07-18",
          "2019-07-19",
          "2019-07-20",
          "2019-07-21",
          "2019-07-22",
          "2019-07-23",
          "2019-07-24",
          "2019-07-25",
          "2019-07-26",
          "2019-07-27",
          "2019-07-28",
          "2019-07-29",
          "2019-07-30",
          "2019-07-31",
          "2019-08-01",
          "2019-08-02",
          "2019-08-03",
          "2019-08-04",
          "2019-08-05",
          "2019-08-06",
          "2019-08-07",
          "2019-08-08",
          "2019-08-09",
          "2019-08-10",
          "2019-08-11",
          "2019-08-12",
          "2019-08-13",
          "2019-08-14",
          "2019-08-15",
          "2019-08-16",
          "2019-08-17",
          "2019-08-18",
          "2019-08-19",
          "2019-08-20",
          "2019-08-21",
          "2019-08-22",
          "2019-08-23",
          "2019-08-24",
          "2019-08-25",
          "2019-08-26",
          "2019-08-27",
          "2019-08-28",
          "2019-08-29",
          "2019-08-30",
          "2019-08-31",
          "2019-09-01",
          "2019-09-02",
          "2019-09-03",
          "2019-09-04",
          "2019-09-05",
          "2019-09-06",
          "2019-09-07",
          "2019-09-08",
          "2019-09-09",
          "2019-09-10",
          "2019-09-11",
          "2019-09-12",
          "2019-09-13",
          "2019-09-14",
          "2019-09-15",
          "2019-09-16",
          "2019-09-17",
          "2019-09-18",
          "2019-09-19",
          "2019-09-20",
          "2019-09-21",
          "2019-09-22",
          "2019-09-23",
          "2019-09-24",
          "2019-09-25",
          "2019-09-26",
          "2019-09-27",
          "2019-09-28",
          "2019-09-29",
          "2019-09-30",
          "2019-10-01",
          "2019-10-02",
          "2019-10-03",
          "2019-10-04",
          "2019-10-05",
          "2019-10-06",
          "2019-10-07",
          "2019-10-08",
          "2019-10-09",
          "2019-10-10",
          "2019-10-11",
          "2019-10-12",
          "2019-10-13",
          "2019-10-14",
          "2019-10-15",
          "2019-10-16",
          "2019-10-17",
          "2019-10-18",
          "2019-10-19",
          "2019-10-20",
          "2019-10-21",
          "2019-10-22",
          "2019-10-23",
          "2019-10-24",
          "2019-10-25",
          "2019-10-26",
          "2019-10-27",
          "2019-10-28",
          "2019-10-29",
          "2019-10-30",
          "2019-10-31",
          "2019-11-01",
          "2019-11-02",
          "2019-11-03",
          "2019-11-04",
          "2019-11-05",
          "2019-11-06",
          "2019-11-07",
          "2019-11-08",
          "2019-11-09",
          "2019-11-10",
          "2019-11-11",
          "2019-11-12",
          "2019-11-13",
          "2019-11-14",
          "2019-11-15",
          "2019-11-16",
          "2019-11-17",
          "2019-11-18",
          "2019-11-19",
          "2019-11-20",
          "2019-11-21",
          "2019-11-22",
          "2019-11-23",
          "2019-11-24",
          "2019-11-25",
          "2019-11-26",
          "2019-11-27",
          "2019-11-28",
          "2019-11-29",
          "2019-11-30",
          "2019-12-01",
          "2019-12-02",
          "2019-12-03",
          "2019-12-04",
          "2019-12-05",
          "2019-12-06",
          "2019-12-07",
          "2019-12-08",
          "2019-12-09",
          "2019-12-10",
          "2019-12-11",
          "2019-12-12",
          "2019-12-13",
          "2019-12-14",
          "2019-12-15",
          "2019-12-16",
          "2019-12-17",
          "2019-12-18",
          "2019-12-19",
          "2019-12-20",
          "2019-12-21",
          "2019-12-22",
          "2019-12-23",
          "2019-12-24",
          "2019-12-25",
          "2019-12-26",
          "2019-12-27",
          "2019-12-28",
          "2019-12-29",
          "2019-12-30",
          "2019-12-31",
          "2020-01-01",
          "2020-01-02",
          "2020-01-03",
          "2020-01-04",
          "2020-01-05",
          "2020-01-06",
          "2020-01-07",
          "2020-01-08",
          "2020-01-09",
          "2020-01-10",
          "2020-01-11",
          "2020-01-12",
          "2020-01-13",
          "2020-01-14",
          "2020-01-15",
          "2020-01-16",
          "2020-01-17",
          "2020-01-18",
          "2020-01-19",
          "2020-01-20",
          "2020-01-21",
          "2020-01-22",
          "2020-01-23",
          "2020-01-24",
          "2020-01-25",
          "2020-01-26",
          "2020-01-27",
          "2020-01-28",
          "2020-01-29",
          "2020-01-30",
          "2020-01-31",
          "2020-02-01",
          "2020-02-02",
          "2020-02-03",
          "2020-02-04",
          "2020-02-05",
          "2020-02-06",
          "2020-02-07",
          "2020-02-08",
          "2020-02-09",
          "2020-02-10",
          "2020-02-11",
          "2020-02-12",
          "2020-02-13",
          "2020-02-14",
          "2020-02-15",
          "2020-02-16",
          "2020-02-17",
          "2020-02-18",
          "2020-02-19",
          "2020-02-20",
          "2020-02-21",
          "2020-02-22",
          "2020-02-23",
          "2020-02-24",
          "2020-02-25",
          "2020-02-26",
          "2020-02-27",
          "2020-02-28",
          "2020-02-29",
          "2020-03-01",
          "2020-03-02",
          "2020-03-03",
          "2020-03-04",
          "2020-03-05",
          "2020-03-06",
          "2020-03-07",
          "2020-03-08",
          "2020-03-09",
          "2020-03-10",
          "2020-03-11",
          "2020-03-12",
          "2020-03-13",
          "2020-03-14",
          "2020-03-15",
          "2020-03-16",
          "2020-03-17",
          "2020-03-18",
          "2020-03-19",
          "2020-03-20",
          "2020-03-21",
          "2020-03-22",
          "2020-03-23",
          "2020-03-24",
          "2020-03-25",
          "2020-03-26",
          "2020-03-27",
          "2020-03-28",
          "2020-03-29",
          "2020-03-30",
          "2020-03-31",
          "2020-04-01",
          "2020-04-02",
          "2020-04-03",
          "2020-04-04",
          "2020-04-05",
          "2020-04-06",
          "2020-04-07",
          "2020-04-08",
          "2020-04-09",
          "2020-04-10",
          "2020-04-11",
          "2020-04-12",
          "2020-04-13",
          "2020-04-14",
          "2020-04-15",
          "2020-04-16",
          "2020-04-17",
          "2020-04-18",
          "2020-04-19",
          "2020-04-20",
          "2020-04-21",
          "2020-04-22",
          "2020-04-23",
          "2020-04-24",
          "2020-04-25",
          "2020-04-26",
          "2020-04-27",
          "2020-04-28",
          "2020-04-29",
          "2020-04-30",
          "2020-05-01",
          "2020-05-02",
          "2020-05-03",
          "2020-05-04",
          "2020-05-05",
          "2020-05-06",
          "2020-05-07",
          "2020-05-08",
          "2020-05-09",
          "2020-05-10",
          "2020-05-11",
          "2020-05-12",
          "2020-05-13",
          "2020-05-14",
          "2020-05-15",
          "2020-05-16",
          "2020-05-17",
          "2020-05-18",
          "2020-05-19",
          "2020-05-20",
          "2020-05-21",
          "2020-05-22",
          "2020-05-23",
          "2020-05-24",
          "2020-05-25",
          "2020-05-26",
          "2020-05-27",
          "2020-05-28",
          "2020-05-29",
          "2020-05-30",
          "2020-05-31",
          "2020-06-01",
          "2020-06-02",
          "2020-06-03",
          "2020-06-04",
          "2020-06-05",
          "2020-06-07",
          "2020-06-08",
          "2020-06-09",
          "2020-06-10",
          "2020-06-11",
          "2020-06-12",
          "2020-06-13",
          "2020-06-14",
          "2020-06-15",
          "2020-06-16",
          "2020-06-17",
          "2020-06-18",
          "2020-06-19",
          "2020-06-20",
          "2020-06-21",
          "2020-06-22",
          "2020-06-23",
          "2020-06-24",
          "2020-06-25",
          "2020-06-26",
          "2020-06-28",
          "2020-06-29",
          "2020-06-30"
         ],
         "y": [
          "",
          "",
          "",
          "",
          "",
          "",
          "",
          "",
          "",
          "",
          "",
          "",
          "",
          "",
          "",
          "",
          "",
          "",
          "",
          "",
          "",
          "",
          "",
          "",
          "",
          2500,
          "",
          "",
          "",
          "",
          "",
          "",
          23829,
          41334,
          92905,
          154409,
          174403,
          196879,
          245510,
          316461,
          360637,
          410573,
          475430,
          490673,
          524031,
          632613,
          727852,
          831198,
          1202713,
          1263754,
          1281032,
          1313345,
          1353485,
          1418379,
          1537611,
          1661181,
          1809604,
          1821348,
          1832856,
          1958230,
          2158585,
          2626648,
          2859905,
          2942546,
          2971100,
          3043540,
          3112402,
          3209526,
          3304240,
          3399676,
          3538521,
          3557242,
          3622378,
          3761677,
          4009445,
          4157365,
          4202997,
          4285338,
          4309999,
          4336570,
          4422073,
          4537923,
          4590047,
          4755647,
          4866975,
          4906057,
          4950309,
          5156966,
          5428915,
          5539494,
          6277345,
          6380313,
          6411629,
          6453093,
          6687103,
          6802718,
          6886570,
          6960127,
          7045610,
          7085970,
          7152133,
          7293615,
          7380957,
          7509370,
          7629185,
          7830202,
          7855060,
          7876488,
          8058949,
          8316935,
          8472798,
          8663658,
          8758150,
          8790848,
          8847235,
          8983594,
          9203003,
          9418822,
          10032584,
          10587575,
          10826988,
          11524291,
          11619281,
          11723061,
          11805685,
          11975752,
          12053850,
          12091371,
          12163465,
          12597629,
          12678060,
          12853281,
          12923637,
          13049825,
          13076794,
          13126329,
          13284991,
          13439674,
          13554196,
          13596861,
          13656454,
          13677347,
          13712850,
          13922560,
          14042548,
          14193024,
          14371733,
          14495962,
          14551125,
          14618657,
          14756691,
          15266920,
          15385777,
          15461257,
          15623990,
          15669112,
          15714010,
          16130227,
          16273021,
          16407150,
          16508821,
          16596963,
          16624611,
          16697581,
          16911842,
          17481321,
          17666768,
          17783722,
          17947629,
          17977610,
          18025480,
          18435142,
          19684022,
          19820225,
          19906758,
          20012878,
          20093702,
          20138229,
          20203334,
          20334211,
          20572275,
          20793428,
          21117711,
          21183389,
          21210196,
          21395592,
          21514870,
          21633956,
          21806038,
          22006520,
          22060223,
          22107923,
          22241788,
          22448638,
          22790528,
          22992590,
          23149012,
          23196280,
          23238937,
          23435609,
          23678046,
          23768877,
          24086983,
          24203180,
          24241992,
          24293246,
          24676732,
          24976467,
          25162885,
          25435464,
          25830098,
          26026962,
          26562835,
          26721014,
          26799967,
          26875778,
          26913166,
          27056949,
          27099957,
          27137400,
          27361005,
          28047082,
          28252384,
          28427258,
          28541954,
          28649478,
          28695775,
          28863117,
          29075050,
          29272286,
          29410547,
          29556746,
          29600484,
          29641880,
          29828695,
          30055115,
          30208647,
          30303052,
          30539518,
          30627471,
          30717121,
          30969005,
          31268045,
          31809633,
          31984027,
          32088839,
          32139425,
          32218067,
          32411985,
          32783133,
          32904533,
          32988522,
          33125438,
          33204954,
          33274867,
          33470047,
          33710765,
          34009368,
          34211055,
          34324034,
          34397770,
          34477514,
          34672712,
          34959664,
          35139540,
          35290103,
          35483112,
          35560510,
          35647943,
          35822842,
          36084819,
          36280881,
          37021310,
          37552826,
          37711674,
          37807329,
          37883953,
          38135288,
          38406460,
          38580363,
          38922637,
          39094707,
          39213501,
          39611877,
          39823227,
          41297326,
          41713186,
          41923609,
          41956820,
          42088019,
          42371080,
          42612151,
          42761675,
          42856603,
          43234712,
          43285605,
          43391653,
          43622505,
          43978936,
          44124016,
          44292550,
          45167752,
          45272391,
          45492308,
          46943538,
          47085077,
          47226984,
          47345948,
          47544183,
          47609130,
          47656144,
          47899471,
          48181058,
          48327160,
          48519494,
          48727284,
          48777658,
          48828800,
          48932964,
          49185668,
          49432252,
          49677175,
          49819601,
          49878917,
          49940975,
          50345496,
          50765721,
          50995747,
          51116540,
          51675879,
          51724962,
          51814035,
          52108571,
          52358434,
          52651884,
          53134315,
          53374458,
          53423825,
          53511377,
          53703486,
          53885722,
          54022050,
          54310905,
          54541634,
          54595441,
          54642566,
          54750517,
          54931199,
          55133021,
          55312579,
          55495481,
          55548401,
          55607669,
          55867325,
          55988555,
          56284195,
          56436127,
          56622870,
          56690326,
          56753776,
          57033877,
          57302796,
          57951621,
          58016521,
          58221091,
          58810955,
          58868626,
          59091869,
          59235811,
          59391607,
          59505246,
          59688351,
          59735312,
          59826463,
          60047856,
          60405537,
          60639299,
          60886502,
          61100159,
          61158435,
          61224281,
          61439052,
          61728143,
          62199679,
          62538527,
          62837571,
          62898790,
          63009019,
          64227891,
          64293540,
          64339533,
          64530688,
          64898289,
          65010205,
          65117445,
          65430048,
          66746657,
          66807253,
          67025528,
          67109246,
          67125466,
          67140272,
          67300123,
          67468268,
          67595554,
          67701597,
          67861073,
          67898111,
          67919260,
          68060559,
          68322838,
          68673508,
          69054428,
          69319251,
          69355775,
          69410615,
          69474617,
          69764779,
          69945545,
          70265209,
          70450364,
          70528636,
          70587528,
          70837344,
          71166581,
          71601648,
          71874802,
          72984561,
          73089191,
          73166776,
          73451526,
          73927033,
          74780209,
          80891929,
          82189574,
          82296136,
          82384103,
          82824079,
          83096496,
          83935522,
          85048782,
          86869201,
          86931746,
          87004537,
          87147293,
          87703997,
          87989968,
          88311774,
          88822330,
          88885511,
          88973593,
          89479995,
          89698011,
          90401319,
          90760174,
          91569000,
          91926214,
          92000682,
          92182644,
          92643053,
          93109044,
          94446550,
          94810552,
          94886503,
          94983379,
          95265461,
          96713111,
          97189892,
          97716158,
          97920692,
          97987327,
          98064608,
          98555984,
          98822250,
          98987268,
          99232688,
          99412014,
          99473313,
          99539742,
          99791030,
          100585128,
          100744543,
          101100061,
          101366005,
          101455215,
          101676761,
          102170208,
          102766709,
          102960092,
          103479408,
          103683439,
          103750248,
          103821888,
          104234648,
          104518246,
          104654938,
          104776289,
          105248394,
          105311868,
          105371483,
          105658387,
          105876187,
          106636472,
          107105808,
          107278177,
          107366479,
          107498717,
          108891819,
          109347131,
          109586850,
          109797975,
          109977061,
          110066568,
          110218213,
          110767437,
          111132646,
          111442761,
          112052826,
          112481129,
          112584466,
          112669718,
          113615677,
          113865699,
          114267422,
          115308601,
          115580101,
          115725574,
          115812638,
          116505408,
          116840237,
          117336938,
          117616989,
          117816232,
          117946001,
          118112706,
          119281644,
          119808970,
          120873996,
          121525009,
          121880921,
          121983365,
          122087125,
          122348559,
          122933517,
          123656998,
          124015442,
          124433902,
          124591858,
          125012110,
          125012150,
          125012857,
          125017967,
          125018187,
          125018974,
          125018994,
          125027544,
          125027584,
          125027594,
          125027761,
          125029141,
          125029201,
          125029321,
          125029928,
          125030968,
          125030978,
          125031820,
          125032177,
          125032377,
          125032497,
          125032577,
          125032807,
          125033387,
          125035672,
          125040772,
          125050797,
          "",
          125064780
         ]
        },
        {
         "line": {
          "color": "red",
          "dash": "solid",
          "shape": "linear",
          "width": 1.3
         },
         "mode": "lines",
         "name": "TILLIS, THOM R. SEN.",
         "text": "",
         "type": "scatter",
         "x": [
          "2018-10-03",
          "2018-10-26",
          "2018-11-04",
          "2018-11-07",
          "2018-11-09",
          "2018-11-13",
          "2018-11-14",
          "2018-11-15",
          "2018-11-16",
          "2018-11-19",
          "2018-11-22",
          "2018-11-27",
          "2018-11-28",
          "2018-11-30",
          "2018-12-07",
          "2018-12-10",
          "2018-12-11",
          "2018-12-12",
          "2018-12-13",
          "2018-12-14",
          "2018-12-17",
          "2018-12-18",
          "2018-12-19",
          "2018-12-20",
          "2018-12-21",
          "2018-12-23",
          "2018-12-26",
          "2018-12-27",
          "2018-12-28",
          "2018-12-29",
          "2018-12-30",
          "2018-12-31",
          "2019-01-01",
          "2019-01-02",
          "2019-01-03",
          "2019-01-04",
          "2019-01-05",
          "2019-01-06",
          "2019-01-07",
          "2019-01-08",
          "2019-01-09",
          "2019-01-10",
          "2019-01-11",
          "2019-01-12",
          "2019-01-13",
          "2019-01-14",
          "2019-01-15",
          "2019-01-16",
          "2019-01-17",
          "2019-01-18",
          "2019-01-19",
          "2019-01-20",
          "2019-01-21",
          "2019-01-22",
          "2019-01-23",
          "2019-01-24",
          "2019-01-25",
          "2019-01-26",
          "2019-01-27",
          "2019-01-28",
          "2019-01-29",
          "2019-01-30",
          "2019-01-31",
          "2019-02-01",
          "2019-02-02",
          "2019-02-03",
          "2019-02-04",
          "2019-02-05",
          "2019-02-06",
          "2019-02-07",
          "2019-02-08",
          "2019-02-09",
          "2019-02-10",
          "2019-02-11",
          "2019-02-12",
          "2019-02-13",
          "2019-02-14",
          "2019-02-15",
          "2019-02-16",
          "2019-02-17",
          "2019-02-18",
          "2019-02-19",
          "2019-02-20",
          "2019-02-21",
          "2019-02-22",
          "2019-02-23",
          "2019-02-24",
          "2019-02-25",
          "2019-02-26",
          "2019-02-27",
          "2019-02-28",
          "2019-03-01",
          "2019-03-02",
          "2019-03-03",
          "2019-03-04",
          "2019-03-05",
          "2019-03-06",
          "2019-03-07",
          "2019-03-08",
          "2019-03-09",
          "2019-03-10",
          "2019-03-11",
          "2019-03-12",
          "2019-03-13",
          "2019-03-14",
          "2019-03-15",
          "2019-03-16",
          "2019-03-17",
          "2019-03-18",
          "2019-03-19",
          "2019-03-20",
          "2019-03-21",
          "2019-03-22",
          "2019-03-23",
          "2019-03-24",
          "2019-03-25",
          "2019-03-26",
          "2019-03-27",
          "2019-03-28",
          "2019-03-29",
          "2019-03-30",
          "2019-03-31",
          "2019-04-01",
          "2019-04-02",
          "2019-04-03",
          "2019-04-04",
          "2019-04-05",
          "2019-04-06",
          "2019-04-07",
          "2019-04-08",
          "2019-04-09",
          "2019-04-10",
          "2019-04-11",
          "2019-04-12",
          "2019-04-13",
          "2019-04-14",
          "2019-04-15",
          "2019-04-16",
          "2019-04-17",
          "2019-04-18",
          "2019-04-19",
          "2019-04-20",
          "2019-04-21",
          "2019-04-22",
          "2019-04-23",
          "2019-04-24",
          "2019-04-25",
          "2019-04-26",
          "2019-04-27",
          "2019-04-28",
          "2019-04-29",
          "2019-04-30",
          "2019-05-01",
          "2019-05-02",
          "2019-05-03",
          "2019-05-04",
          "2019-05-05",
          "2019-05-06",
          "2019-05-07",
          "2019-05-08",
          "2019-05-09",
          "2019-05-10",
          "2019-05-11",
          "2019-05-12",
          "2019-05-13",
          "2019-05-14",
          "2019-05-15",
          "2019-05-16",
          "2019-05-17",
          "2019-05-18",
          "2019-05-19",
          "2019-05-20",
          "2019-05-21",
          "2019-05-22",
          "2019-05-23",
          "2019-05-24",
          "2019-05-25",
          "2019-05-26",
          "2019-05-27",
          "2019-05-28",
          "2019-05-29",
          "2019-05-30",
          "2019-05-31",
          "2019-06-01",
          "2019-06-02",
          "2019-06-03",
          "2019-06-04",
          "2019-06-05",
          "2019-06-06",
          "2019-06-07",
          "2019-06-08",
          "2019-06-09",
          "2019-06-10",
          "2019-06-11",
          "2019-06-12",
          "2019-06-13",
          "2019-06-14",
          "2019-06-15",
          "2019-06-16",
          "2019-06-17",
          "2019-06-18",
          "2019-06-19",
          "2019-06-20",
          "2019-06-21",
          "2019-06-22",
          "2019-06-23",
          "2019-06-24",
          "2019-06-25",
          "2019-06-26",
          "2019-06-27",
          "2019-06-28",
          "2019-06-29",
          "2019-06-30",
          "2019-07-01",
          "2019-07-02",
          "2019-07-03",
          "2019-07-04",
          "2019-07-05",
          "2019-07-06",
          "2019-07-07",
          "2019-07-08",
          "2019-07-09",
          "2019-07-10",
          "2019-07-11",
          "2019-07-12",
          "2019-07-13",
          "2019-07-14",
          "2019-07-15",
          "2019-07-16",
          "2019-07-17",
          "2019-07-18",
          "2019-07-19",
          "2019-07-20",
          "2019-07-21",
          "2019-07-22",
          "2019-07-23",
          "2019-07-24",
          "2019-07-25",
          "2019-07-26",
          "2019-07-27",
          "2019-07-28",
          "2019-07-29",
          "2019-07-30",
          "2019-07-31",
          "2019-08-01",
          "2019-08-02",
          "2019-08-03",
          "2019-08-04",
          "2019-08-05",
          "2019-08-06",
          "2019-08-07",
          "2019-08-08",
          "2019-08-09",
          "2019-08-10",
          "2019-08-11",
          "2019-08-12",
          "2019-08-13",
          "2019-08-14",
          "2019-08-15",
          "2019-08-16",
          "2019-08-17",
          "2019-08-18",
          "2019-08-19",
          "2019-08-20",
          "2019-08-21",
          "2019-08-22",
          "2019-08-23",
          "2019-08-24",
          "2019-08-25",
          "2019-08-26",
          "2019-08-27",
          "2019-08-28",
          "2019-08-29",
          "2019-08-30",
          "2019-08-31",
          "2019-09-01",
          "2019-09-02",
          "2019-09-03",
          "2019-09-04",
          "2019-09-05",
          "2019-09-06",
          "2019-09-07",
          "2019-09-08",
          "2019-09-09",
          "2019-09-10",
          "2019-09-11",
          "2019-09-12",
          "2019-09-13",
          "2019-09-14",
          "2019-09-15",
          "2019-09-16",
          "2019-09-17",
          "2019-09-18",
          "2019-09-19",
          "2019-09-20",
          "2019-09-21",
          "2019-09-22",
          "2019-09-23",
          "2019-09-24",
          "2019-09-25",
          "2019-09-26",
          "2019-09-27",
          "2019-09-28",
          "2019-09-29",
          "2019-09-30",
          "2019-10-01",
          "2019-10-02",
          "2019-10-03",
          "2019-10-04",
          "2019-10-05",
          "2019-10-06",
          "2019-10-07",
          "2019-10-08",
          "2019-10-09",
          "2019-10-10",
          "2019-10-11",
          "2019-10-12",
          "2019-10-13",
          "2019-10-14",
          "2019-10-15",
          "2019-10-16",
          "2019-10-17",
          "2019-10-18",
          "2019-10-19",
          "2019-10-20",
          "2019-10-21",
          "2019-10-22",
          "2019-10-23",
          "2019-10-24",
          "2019-10-25",
          "2019-10-26",
          "2019-10-27",
          "2019-10-28",
          "2019-10-29",
          "2019-10-30",
          "2019-10-31",
          "2019-11-01",
          "2019-11-02",
          "2019-11-03",
          "2019-11-04",
          "2019-11-05",
          "2019-11-06",
          "2019-11-07",
          "2019-11-08",
          "2019-11-09",
          "2019-11-10",
          "2019-11-11",
          "2019-11-12",
          "2019-11-13",
          "2019-11-14",
          "2019-11-15",
          "2019-11-16",
          "2019-11-17",
          "2019-11-18",
          "2019-11-19",
          "2019-11-20",
          "2019-11-21",
          "2019-11-22",
          "2019-11-23",
          "2019-11-24",
          "2019-11-25",
          "2019-11-26",
          "2019-11-27",
          "2019-11-28",
          "2019-11-29",
          "2019-11-30",
          "2019-12-01",
          "2019-12-02",
          "2019-12-03",
          "2019-12-04",
          "2019-12-05",
          "2019-12-06",
          "2019-12-07",
          "2019-12-08",
          "2019-12-09",
          "2019-12-10",
          "2019-12-11",
          "2019-12-12",
          "2019-12-13",
          "2019-12-14",
          "2019-12-15",
          "2019-12-16",
          "2019-12-17",
          "2019-12-18",
          "2019-12-19",
          "2019-12-20",
          "2019-12-21",
          "2019-12-22",
          "2019-12-23",
          "2019-12-24",
          "2019-12-25",
          "2019-12-26",
          "2019-12-27",
          "2019-12-28",
          "2019-12-29",
          "2019-12-30",
          "2019-12-31",
          "2020-01-01",
          "2020-01-02",
          "2020-01-03",
          "2020-01-04",
          "2020-01-05",
          "2020-01-06",
          "2020-01-07",
          "2020-01-08",
          "2020-01-09",
          "2020-01-10",
          "2020-01-11",
          "2020-01-12",
          "2020-01-13",
          "2020-01-14",
          "2020-01-15",
          "2020-01-16",
          "2020-01-17",
          "2020-01-18",
          "2020-01-19",
          "2020-01-20",
          "2020-01-21",
          "2020-01-22",
          "2020-01-23",
          "2020-01-24",
          "2020-01-25",
          "2020-01-26",
          "2020-01-27",
          "2020-01-28",
          "2020-01-29",
          "2020-01-30",
          "2020-01-31",
          "2020-02-01",
          "2020-02-02",
          "2020-02-03",
          "2020-02-04",
          "2020-02-05",
          "2020-02-06",
          "2020-02-07",
          "2020-02-08",
          "2020-02-09",
          "2020-02-10",
          "2020-02-11",
          "2020-02-12",
          "2020-02-13",
          "2020-02-14",
          "2020-02-15",
          "2020-02-16",
          "2020-02-17",
          "2020-02-18",
          "2020-02-19",
          "2020-02-20",
          "2020-02-21",
          "2020-02-22",
          "2020-02-23",
          "2020-02-24",
          "2020-02-25",
          "2020-02-26",
          "2020-02-27",
          "2020-02-28",
          "2020-02-29",
          "2020-03-01",
          "2020-03-02",
          "2020-03-03",
          "2020-03-04",
          "2020-03-05",
          "2020-03-06",
          "2020-03-07",
          "2020-03-08",
          "2020-03-09",
          "2020-03-10",
          "2020-03-11",
          "2020-03-12",
          "2020-03-13",
          "2020-03-14",
          "2020-03-15",
          "2020-03-16",
          "2020-03-17",
          "2020-03-18",
          "2020-03-19",
          "2020-03-20",
          "2020-03-21",
          "2020-03-22",
          "2020-03-23",
          "2020-03-24",
          "2020-03-25",
          "2020-03-26",
          "2020-03-27",
          "2020-03-28",
          "2020-03-29",
          "2020-03-30",
          "2020-03-31",
          "2020-04-01",
          "2020-04-02",
          "2020-04-03",
          "2020-04-04",
          "2020-04-05",
          "2020-04-06",
          "2020-04-07",
          "2020-04-08",
          "2020-04-09",
          "2020-04-10",
          "2020-04-11",
          "2020-04-12",
          "2020-04-13",
          "2020-04-14",
          "2020-04-15",
          "2020-04-16",
          "2020-04-17",
          "2020-04-18",
          "2020-04-19",
          "2020-04-20",
          "2020-04-21",
          "2020-04-22",
          "2020-04-23",
          "2020-04-24",
          "2020-04-25",
          "2020-04-26",
          "2020-04-27",
          "2020-04-28",
          "2020-04-29",
          "2020-04-30",
          "2020-05-01",
          "2020-05-02",
          "2020-05-03",
          "2020-05-04",
          "2020-05-05",
          "2020-05-06",
          "2020-05-07",
          "2020-05-08",
          "2020-05-09",
          "2020-05-10",
          "2020-05-11",
          "2020-05-12",
          "2020-05-13",
          "2020-05-14",
          "2020-05-15",
          "2020-05-16",
          "2020-05-17",
          "2020-05-18",
          "2020-05-19",
          "2020-05-20",
          "2020-05-21",
          "2020-05-22",
          "2020-05-23",
          "2020-05-24",
          "2020-05-25",
          "2020-05-26",
          "2020-05-27",
          "2020-05-28",
          "2020-05-29",
          "2020-05-30",
          "2020-05-31",
          "2020-06-01",
          "2020-06-02",
          "2020-06-03",
          "2020-06-04",
          "2020-06-05",
          "2020-06-07",
          "2020-06-08",
          "2020-06-09",
          "2020-06-10",
          "2020-06-11",
          "2020-06-12",
          "2020-06-13",
          "2020-06-14",
          "2020-06-15",
          "2020-06-16",
          "2020-06-17",
          "2020-06-18",
          "2020-06-19",
          "2020-06-20",
          "2020-06-21",
          "2020-06-22",
          "2020-06-23",
          "2020-06-24",
          "2020-06-25",
          "2020-06-26",
          "2020-06-28",
          "2020-06-29",
          "2020-06-30"
         ],
         "y": [
          450,
          1250,
          1550,
          1850,
          58650,
          107750,
          115350,
          212650,
          312650,
          361150,
          423050,
          433050,
          489050,
          494750,
          495050,
          495350,
          496250,
          496550,
          497450,
          498950,
          499550,
          502692,
          505556,
          507122,
          511322,
          "",
          512772,
          513672,
          516372,
          516672,
          516972,
          518772,
          644330,
          804495,
          962681,
          1267629,
          1372818,
          1406274,
          1584414,
          1757196,
          2030978,
          2253796,
          2718082,
          2810209,
          2842236,
          3408096,
          3961618,
          4385977,
          4803252,
          5283903,
          5337923,
          5412108,
          5538295,
          5958591,
          6253122,
          6577804,
          7274389,
          7332671,
          7385465,
          9976880,
          10391163,
          10799150,
          14733990,
          15393238,
          15426659,
          15470167,
          16016852,
          16413320,
          16838504,
          17538671,
          18177033,
          18257179,
          18354376,
          18806240,
          19247133,
          19552382,
          20060735,
          21860401,
          21916526,
          21938934,
          22006028,
          22371933,
          22671782,
          23128180,
          24088706,
          24177055,
          24229748,
          24587508,
          24887476,
          25315988,
          28792080,
          29630083,
          29698045,
          29757043,
          30224203,
          30609153,
          30943996,
          31523688,
          32292649,
          32419850,
          32561769,
          33100897,
          33510517,
          34153464,
          34809865,
          36564995,
          36630397,
          36666137,
          37059969,
          37542796,
          38080082,
          38786822,
          39717540,
          39810193,
          39946966,
          40532058,
          41177798,
          42657649,
          43133328,
          46410973,
          46512655,
          48878559,
          49686367,
          50246952,
          50906019,
          51530731,
          52383004,
          52491242,
          52564895,
          53234408,
          54535736,
          54913164,
          55765532,
          57158716,
          57188347,
          57252742,
          58188534,
          58577194,
          58807654,
          59425045,
          60124334,
          60240185,
          60286366,
          60659290,
          61019248,
          61355514,
          61981794,
          62717697,
          62767623,
          62842387,
          64406617,
          67704575,
          68024717,
          68745561,
          69533955,
          69590737,
          69715184,
          70367434,
          70763976,
          71100332,
          71413836,
          72163696,
          72202416,
          72251358,
          72633927,
          73027633,
          74175647,
          74691324,
          75414916,
          75487824,
          75553286,
          76020967,
          76392396,
          76685592,
          77149458,
          78205188,
          78264444,
          78312863,
          78354172,
          78755145,
          79292728,
          80034852,
          84199244,
          84392785,
          84481483,
          85058727,
          85456956,
          85833428,
          86122655,
          86910225,
          86984935,
          87042828,
          87377938,
          87767310,
          88170421,
          89240089,
          90935691,
          91225874,
          91258848,
          91645576,
          92059852,
          92440041,
          93815276,
          94977962,
          95137228,
          95179815,
          95502854,
          95945262,
          96481003,
          97203575,
          108330501,
          108464197,
          112057898,
          112397464,
          112662179,
          112952518,
          113025618,
          113733989,
          113761862,
          113887541,
          114551368,
          114833383,
          115027655,
          115450125,
          116096734,
          116125634,
          116228994,
          117187713,
          117493554,
          117687118,
          118099144,
          119001506,
          119103629,
          119160442,
          119579590,
          120427211,
          121050270,
          121608870,
          122730175,
          122806430,
          122894495,
          123353591,
          123626436,
          127485958,
          128151235,
          128797687,
          128837101,
          128878382,
          129169545,
          129596183,
          129904376,
          130369523,
          131177649,
          131250355,
          131291016,
          131552331,
          131808356,
          132116609,
          133335849,
          134267641,
          134308756,
          134358608,
          134748336,
          135161869,
          135448253,
          136066942,
          136969197,
          137039249,
          137089692,
          137587299,
          138014884,
          138721315,
          139076342,
          140796488,
          143475591,
          143593916,
          143649462,
          144176136,
          145803538,
          146568598,
          147451341,
          147534853,
          147643861,
          148378818,
          148787208,
          149168352,
          149652585,
          152148339,
          152198986,
          152469340,
          153273249,
          153642489,
          153976443,
          155024026,
          156337516,
          156419346,
          156478965,
          158090376,
          158485763,
          159103582,
          159778726,
          160960683,
          161060787,
          161148753,
          165811959,
          167574236,
          167946512,
          168939455,
          169900513,
          170023358,
          170088223,
          170465348,
          171128005,
          172157500,
          172643875,
          173581902,
          173636568,
          173670029,
          173838555,
          174812052,
          175125646,
          175946331,
          177070995,
          177238313,
          177413129,
          177813881,
          178442910,
          178981176,
          179415946,
          180658173,
          180780939,
          180863687,
          182218050,
          182795723,
          183210266,
          188911424,
          189761220,
          189818147,
          189878685,
          190338680,
          191071120,
          192116807,
          192702345,
          193864267,
          193911813,
          194001025,
          194156893,
          196124006,
          197025856,
          197663348,
          200639281,
          200737643,
          200798764,
          201259228,
          201551954,
          201949499,
          202725995,
          203675548,
          203720327,
          203767177,
          204421280,
          204854436,
          205739388,
          205800787,
          207323176,
          210472793,
          210631778,
          211229465,
          211566101,
          212146642,
          214064415,
          215039634,
          215100470,
          215166026,
          215500506,
          215945121,
          216255640,
          216967044,
          218325361,
          218391571,
          218646341,
          219155227,
          219772454,
          220309810,
          222040270,
          223446228,
          223647062,
          223707791,
          225116885,
          225348986,
          225395594,
          226107129,
          228918370,
          229007029,
          229101366,
          230195206,
          237356164,
          237492766,
          237689789,
          237959130,
          238001268,
          238087838,
          238365864,
          238618225,
          239075477,
          239320522,
          239627431,
          239728010,
          239783119,
          240588000,
          240920690,
          243982004,
          244410004,
          245640897,
          245742047,
          245798100,
          245972900,
          246300692,
          248746000,
          249129411,
          250646487,
          250734085,
          250820579,
          251613909,
          252555260,
          253046931,
          253904241,
          260578967,
          260716106,
          260791125,
          261504728,
          261980257,
          262548979,
          263170127,
          263886767,
          264133288,
          264216744,
          265221606,
          265743871,
          276765868,
          277498878,
          278755602,
          278935376,
          278991861,
          279112730,
          282703683,
          283452144,
          285800013,
          286885084,
          286998243,
          287064862,
          288404674,
          289511570,
          290248490,
          291318723,
          293108595,
          295943840,
          296134532,
          296738753,
          297173178,
          297497215,
          298197737,
          299568663,
          299653766,
          299748022,
          300252872,
          301015147,
          302857834,
          311971903,
          314258199,
          314316338,
          314518785,
          316088640,
          316554956,
          317945891,
          318515713,
          319481955,
          319566904,
          319622686,
          320088288,
          320243286,
          320688635,
          321011975,
          321886320,
          322027459,
          322138395,
          323381963,
          327328336,
          327876265,
          328244756,
          328971195,
          329032064,
          329166073,
          329438088,
          329686572,
          330413179,
          330673358,
          332573929,
          332667405,
          332780296,
          333341273,
          333573532,
          339978303,
          340737429,
          341618207,
          341731014,
          341860378,
          342719340,
          343114344,
          343459793,
          343806402,
          345362371,
          345429115,
          345543029,
          345930718,
          347193831,
          347653144,
          352343109,
          353132727,
          353205231,
          353275918,
          353705204,
          355980431,
          356233578,
          358120006,
          358841416,
          358920125,
          359045400,
          359500796,
          360296871,
          361107660,
          361601617,
          362968136,
          363086094,
          363157960,
          364026769,
          365434875,
          366439267,
          366984056,
          370343841,
          370440292,
          370537118,
          370596951,
          371020265,
          371364823,
          371987648,
          375087121,
          375276137,
          377701912,
          377755030,
          "",
          377758555,
          377764380,
          377842032,
          377846465,
          377846965,
          377856965,
          377857005,
          377970523,
          378087714,
          "",
          "",
          378112351,
          378117851,
          378142851,
          378197194,
          378315103,
          378317853,
          378317936,
          378329886,
          "",
          378338450,
          378470106,
          378607611,
          378610111,
          378615319,
          379339449
         ]
        }
       ],
       "layout": {
        "legend": {
         "bgcolor": "#FFFFFF",
         "font": {
          "color": "#666666"
         }
        },
        "paper_bgcolor": "#FFFFFF",
        "plot_bgcolor": "#E5E5E5",
        "template": {
         "data": {
          "bar": [
           {
            "error_x": {
             "color": "#2a3f5f"
            },
            "error_y": {
             "color": "#2a3f5f"
            },
            "marker": {
             "line": {
              "color": "#E5ECF6",
              "width": 0.5
             },
             "pattern": {
              "fillmode": "overlay",
              "size": 10,
              "solidity": 0.2
             }
            },
            "type": "bar"
           }
          ],
          "barpolar": [
           {
            "marker": {
             "line": {
              "color": "#E5ECF6",
              "width": 0.5
             },
             "pattern": {
              "fillmode": "overlay",
              "size": 10,
              "solidity": 0.2
             }
            },
            "type": "barpolar"
           }
          ],
          "carpet": [
           {
            "aaxis": {
             "endlinecolor": "#2a3f5f",
             "gridcolor": "white",
             "linecolor": "white",
             "minorgridcolor": "white",
             "startlinecolor": "#2a3f5f"
            },
            "baxis": {
             "endlinecolor": "#2a3f5f",
             "gridcolor": "white",
             "linecolor": "white",
             "minorgridcolor": "white",
             "startlinecolor": "#2a3f5f"
            },
            "type": "carpet"
           }
          ],
          "choropleth": [
           {
            "colorbar": {
             "outlinewidth": 0,
             "ticks": ""
            },
            "type": "choropleth"
           }
          ],
          "contour": [
           {
            "colorbar": {
             "outlinewidth": 0,
             "ticks": ""
            },
            "colorscale": [
             [
              0,
              "#0d0887"
             ],
             [
              0.1111111111111111,
              "#46039f"
             ],
             [
              0.2222222222222222,
              "#7201a8"
             ],
             [
              0.3333333333333333,
              "#9c179e"
             ],
             [
              0.4444444444444444,
              "#bd3786"
             ],
             [
              0.5555555555555556,
              "#d8576b"
             ],
             [
              0.6666666666666666,
              "#ed7953"
             ],
             [
              0.7777777777777778,
              "#fb9f3a"
             ],
             [
              0.8888888888888888,
              "#fdca26"
             ],
             [
              1,
              "#f0f921"
             ]
            ],
            "type": "contour"
           }
          ],
          "contourcarpet": [
           {
            "colorbar": {
             "outlinewidth": 0,
             "ticks": ""
            },
            "type": "contourcarpet"
           }
          ],
          "heatmap": [
           {
            "colorbar": {
             "outlinewidth": 0,
             "ticks": ""
            },
            "colorscale": [
             [
              0,
              "#0d0887"
             ],
             [
              0.1111111111111111,
              "#46039f"
             ],
             [
              0.2222222222222222,
              "#7201a8"
             ],
             [
              0.3333333333333333,
              "#9c179e"
             ],
             [
              0.4444444444444444,
              "#bd3786"
             ],
             [
              0.5555555555555556,
              "#d8576b"
             ],
             [
              0.6666666666666666,
              "#ed7953"
             ],
             [
              0.7777777777777778,
              "#fb9f3a"
             ],
             [
              0.8888888888888888,
              "#fdca26"
             ],
             [
              1,
              "#f0f921"
             ]
            ],
            "type": "heatmap"
           }
          ],
          "heatmapgl": [
           {
            "colorbar": {
             "outlinewidth": 0,
             "ticks": ""
            },
            "colorscale": [
             [
              0,
              "#0d0887"
             ],
             [
              0.1111111111111111,
              "#46039f"
             ],
             [
              0.2222222222222222,
              "#7201a8"
             ],
             [
              0.3333333333333333,
              "#9c179e"
             ],
             [
              0.4444444444444444,
              "#bd3786"
             ],
             [
              0.5555555555555556,
              "#d8576b"
             ],
             [
              0.6666666666666666,
              "#ed7953"
             ],
             [
              0.7777777777777778,
              "#fb9f3a"
             ],
             [
              0.8888888888888888,
              "#fdca26"
             ],
             [
              1,
              "#f0f921"
             ]
            ],
            "type": "heatmapgl"
           }
          ],
          "histogram": [
           {
            "marker": {
             "pattern": {
              "fillmode": "overlay",
              "size": 10,
              "solidity": 0.2
             }
            },
            "type": "histogram"
           }
          ],
          "histogram2d": [
           {
            "colorbar": {
             "outlinewidth": 0,
             "ticks": ""
            },
            "colorscale": [
             [
              0,
              "#0d0887"
             ],
             [
              0.1111111111111111,
              "#46039f"
             ],
             [
              0.2222222222222222,
              "#7201a8"
             ],
             [
              0.3333333333333333,
              "#9c179e"
             ],
             [
              0.4444444444444444,
              "#bd3786"
             ],
             [
              0.5555555555555556,
              "#d8576b"
             ],
             [
              0.6666666666666666,
              "#ed7953"
             ],
             [
              0.7777777777777778,
              "#fb9f3a"
             ],
             [
              0.8888888888888888,
              "#fdca26"
             ],
             [
              1,
              "#f0f921"
             ]
            ],
            "type": "histogram2d"
           }
          ],
          "histogram2dcontour": [
           {
            "colorbar": {
             "outlinewidth": 0,
             "ticks": ""
            },
            "colorscale": [
             [
              0,
              "#0d0887"
             ],
             [
              0.1111111111111111,
              "#46039f"
             ],
             [
              0.2222222222222222,
              "#7201a8"
             ],
             [
              0.3333333333333333,
              "#9c179e"
             ],
             [
              0.4444444444444444,
              "#bd3786"
             ],
             [
              0.5555555555555556,
              "#d8576b"
             ],
             [
              0.6666666666666666,
              "#ed7953"
             ],
             [
              0.7777777777777778,
              "#fb9f3a"
             ],
             [
              0.8888888888888888,
              "#fdca26"
             ],
             [
              1,
              "#f0f921"
             ]
            ],
            "type": "histogram2dcontour"
           }
          ],
          "mesh3d": [
           {
            "colorbar": {
             "outlinewidth": 0,
             "ticks": ""
            },
            "type": "mesh3d"
           }
          ],
          "parcoords": [
           {
            "line": {
             "colorbar": {
              "outlinewidth": 0,
              "ticks": ""
             }
            },
            "type": "parcoords"
           }
          ],
          "pie": [
           {
            "automargin": true,
            "type": "pie"
           }
          ],
          "scatter": [
           {
            "fillpattern": {
             "fillmode": "overlay",
             "size": 10,
             "solidity": 0.2
            },
            "type": "scatter"
           }
          ],
          "scatter3d": [
           {
            "line": {
             "colorbar": {
              "outlinewidth": 0,
              "ticks": ""
             }
            },
            "marker": {
             "colorbar": {
              "outlinewidth": 0,
              "ticks": ""
             }
            },
            "type": "scatter3d"
           }
          ],
          "scattercarpet": [
           {
            "marker": {
             "colorbar": {
              "outlinewidth": 0,
              "ticks": ""
             }
            },
            "type": "scattercarpet"
           }
          ],
          "scattergeo": [
           {
            "marker": {
             "colorbar": {
              "outlinewidth": 0,
              "ticks": ""
             }
            },
            "type": "scattergeo"
           }
          ],
          "scattergl": [
           {
            "marker": {
             "colorbar": {
              "outlinewidth": 0,
              "ticks": ""
             }
            },
            "type": "scattergl"
           }
          ],
          "scattermapbox": [
           {
            "marker": {
             "colorbar": {
              "outlinewidth": 0,
              "ticks": ""
             }
            },
            "type": "scattermapbox"
           }
          ],
          "scatterpolar": [
           {
            "marker": {
             "colorbar": {
              "outlinewidth": 0,
              "ticks": ""
             }
            },
            "type": "scatterpolar"
           }
          ],
          "scatterpolargl": [
           {
            "marker": {
             "colorbar": {
              "outlinewidth": 0,
              "ticks": ""
             }
            },
            "type": "scatterpolargl"
           }
          ],
          "scatterternary": [
           {
            "marker": {
             "colorbar": {
              "outlinewidth": 0,
              "ticks": ""
             }
            },
            "type": "scatterternary"
           }
          ],
          "surface": [
           {
            "colorbar": {
             "outlinewidth": 0,
             "ticks": ""
            },
            "colorscale": [
             [
              0,
              "#0d0887"
             ],
             [
              0.1111111111111111,
              "#46039f"
             ],
             [
              0.2222222222222222,
              "#7201a8"
             ],
             [
              0.3333333333333333,
              "#9c179e"
             ],
             [
              0.4444444444444444,
              "#bd3786"
             ],
             [
              0.5555555555555556,
              "#d8576b"
             ],
             [
              0.6666666666666666,
              "#ed7953"
             ],
             [
              0.7777777777777778,
              "#fb9f3a"
             ],
             [
              0.8888888888888888,
              "#fdca26"
             ],
             [
              1,
              "#f0f921"
             ]
            ],
            "type": "surface"
           }
          ],
          "table": [
           {
            "cells": {
             "fill": {
              "color": "#EBF0F8"
             },
             "line": {
              "color": "white"
             }
            },
            "header": {
             "fill": {
              "color": "#C8D4E3"
             },
             "line": {
              "color": "white"
             }
            },
            "type": "table"
           }
          ]
         },
         "layout": {
          "annotationdefaults": {
           "arrowcolor": "#2a3f5f",
           "arrowhead": 0,
           "arrowwidth": 1
          },
          "autotypenumbers": "strict",
          "coloraxis": {
           "colorbar": {
            "outlinewidth": 0,
            "ticks": ""
           }
          },
          "colorscale": {
           "diverging": [
            [
             0,
             "#8e0152"
            ],
            [
             0.1,
             "#c51b7d"
            ],
            [
             0.2,
             "#de77ae"
            ],
            [
             0.3,
             "#f1b6da"
            ],
            [
             0.4,
             "#fde0ef"
            ],
            [
             0.5,
             "#f7f7f7"
            ],
            [
             0.6,
             "#e6f5d0"
            ],
            [
             0.7,
             "#b8e186"
            ],
            [
             0.8,
             "#7fbc41"
            ],
            [
             0.9,
             "#4d9221"
            ],
            [
             1,
             "#276419"
            ]
           ],
           "sequential": [
            [
             0,
             "#0d0887"
            ],
            [
             0.1111111111111111,
             "#46039f"
            ],
            [
             0.2222222222222222,
             "#7201a8"
            ],
            [
             0.3333333333333333,
             "#9c179e"
            ],
            [
             0.4444444444444444,
             "#bd3786"
            ],
            [
             0.5555555555555556,
             "#d8576b"
            ],
            [
             0.6666666666666666,
             "#ed7953"
            ],
            [
             0.7777777777777778,
             "#fb9f3a"
            ],
            [
             0.8888888888888888,
             "#fdca26"
            ],
            [
             1,
             "#f0f921"
            ]
           ],
           "sequentialminus": [
            [
             0,
             "#0d0887"
            ],
            [
             0.1111111111111111,
             "#46039f"
            ],
            [
             0.2222222222222222,
             "#7201a8"
            ],
            [
             0.3333333333333333,
             "#9c179e"
            ],
            [
             0.4444444444444444,
             "#bd3786"
            ],
            [
             0.5555555555555556,
             "#d8576b"
            ],
            [
             0.6666666666666666,
             "#ed7953"
            ],
            [
             0.7777777777777778,
             "#fb9f3a"
            ],
            [
             0.8888888888888888,
             "#fdca26"
            ],
            [
             1,
             "#f0f921"
            ]
           ]
          },
          "colorway": [
           "#636efa",
           "#EF553B",
           "#00cc96",
           "#ab63fa",
           "#FFA15A",
           "#19d3f3",
           "#FF6692",
           "#B6E880",
           "#FF97FF",
           "#FECB52"
          ],
          "font": {
           "color": "#2a3f5f"
          },
          "geo": {
           "bgcolor": "white",
           "lakecolor": "white",
           "landcolor": "#E5ECF6",
           "showlakes": true,
           "showland": true,
           "subunitcolor": "white"
          },
          "hoverlabel": {
           "align": "left"
          },
          "hovermode": "closest",
          "mapbox": {
           "style": "light"
          },
          "paper_bgcolor": "white",
          "plot_bgcolor": "#E5ECF6",
          "polar": {
           "angularaxis": {
            "gridcolor": "white",
            "linecolor": "white",
            "ticks": ""
           },
           "bgcolor": "#E5ECF6",
           "radialaxis": {
            "gridcolor": "white",
            "linecolor": "white",
            "ticks": ""
           }
          },
          "scene": {
           "xaxis": {
            "backgroundcolor": "#E5ECF6",
            "gridcolor": "white",
            "gridwidth": 2,
            "linecolor": "white",
            "showbackground": true,
            "ticks": "",
            "zerolinecolor": "white"
           },
           "yaxis": {
            "backgroundcolor": "#E5ECF6",
            "gridcolor": "white",
            "gridwidth": 2,
            "linecolor": "white",
            "showbackground": true,
            "ticks": "",
            "zerolinecolor": "white"
           },
           "zaxis": {
            "backgroundcolor": "#E5ECF6",
            "gridcolor": "white",
            "gridwidth": 2,
            "linecolor": "white",
            "showbackground": true,
            "ticks": "",
            "zerolinecolor": "white"
           }
          },
          "shapedefaults": {
           "line": {
            "color": "#2a3f5f"
           }
          },
          "ternary": {
           "aaxis": {
            "gridcolor": "white",
            "linecolor": "white",
            "ticks": ""
           },
           "baxis": {
            "gridcolor": "white",
            "linecolor": "white",
            "ticks": ""
           },
           "bgcolor": "#E5ECF6",
           "caxis": {
            "gridcolor": "white",
            "linecolor": "white",
            "ticks": ""
           }
          },
          "title": {
           "x": 0.05
          },
          "xaxis": {
           "automargin": true,
           "gridcolor": "white",
           "linecolor": "white",
           "ticks": "",
           "title": {
            "standoff": 15
           },
           "zerolinecolor": "white",
           "zerolinewidth": 2
          },
          "yaxis": {
           "automargin": true,
           "gridcolor": "white",
           "linecolor": "white",
           "ticks": "",
           "title": {
            "standoff": 15
           },
           "zerolinecolor": "white",
           "zerolinewidth": 2
          }
         }
        },
        "title": {
         "font": {
          "color": "#151516"
         },
         "text": "Total individual contributions over time"
        },
        "xaxis": {
         "gridcolor": "#F6F6F6",
         "showgrid": true,
         "tickfont": {
          "color": "#666666"
         },
         "title": {
          "font": {
           "color": "#666666"
          },
          "text": ""
         },
         "zerolinecolor": "#F6F6F6"
        },
        "yaxis": {
         "gridcolor": "#F6F6F6",
         "showgrid": true,
         "tickfont": {
          "color": "#666666"
         },
         "title": {
          "font": {
           "color": "#666666"
          },
          "text": ""
         },
         "zerolinecolor": "#F6F6F6"
        }
       }
      },
      "text/html": [
       "<div>                            <div id=\"e32cc1cb-0eef-4a36-8feb-f923b818796b\" class=\"plotly-graph-div\" style=\"height:525px; width:100%;\"></div>            <script type=\"text/javascript\">                require([\"plotly\"], function(Plotly) {                    window.PLOTLYENV=window.PLOTLYENV || {};\n",
       "                    window.PLOTLYENV.BASE_URL='https://plot.ly';                                    if (document.getElementById(\"e32cc1cb-0eef-4a36-8feb-f923b818796b\")) {                    Plotly.newPlot(                        \"e32cc1cb-0eef-4a36-8feb-f923b818796b\",                        [{\"line\":{\"color\":\"blue\",\"dash\":\"solid\",\"shape\":\"linear\",\"width\":1.3},\"mode\":\"lines\",\"name\":\"CUNNINGHAM, CAL\",\"text\":\"\",\"x\":[\"2018-10-03\",\"2018-10-26\",\"2018-11-04\",\"2018-11-07\",\"2018-11-09\",\"2018-11-13\",\"2018-11-14\",\"2018-11-15\",\"2018-11-16\",\"2018-11-19\",\"2018-11-22\",\"2018-11-27\",\"2018-11-28\",\"2018-11-30\",\"2018-12-07\",\"2018-12-10\",\"2018-12-11\",\"2018-12-12\",\"2018-12-13\",\"2018-12-14\",\"2018-12-17\",\"2018-12-18\",\"2018-12-19\",\"2018-12-20\",\"2018-12-21\",\"2018-12-23\",\"2018-12-26\",\"2018-12-27\",\"2018-12-28\",\"2018-12-29\",\"2018-12-30\",\"2018-12-31\",\"2019-01-01\",\"2019-01-02\",\"2019-01-03\",\"2019-01-04\",\"2019-01-05\",\"2019-01-06\",\"2019-01-07\",\"2019-01-08\",\"2019-01-09\",\"2019-01-10\",\"2019-01-11\",\"2019-01-12\",\"2019-01-13\",\"2019-01-14\",\"2019-01-15\",\"2019-01-16\",\"2019-01-17\",\"2019-01-18\",\"2019-01-19\",\"2019-01-20\",\"2019-01-21\",\"2019-01-22\",\"2019-01-23\",\"2019-01-24\",\"2019-01-25\",\"2019-01-26\",\"2019-01-27\",\"2019-01-28\",\"2019-01-29\",\"2019-01-30\",\"2019-01-31\",\"2019-02-01\",\"2019-02-02\",\"2019-02-03\",\"2019-02-04\",\"2019-02-05\",\"2019-02-06\",\"2019-02-07\",\"2019-02-08\",\"2019-02-09\",\"2019-02-10\",\"2019-02-11\",\"2019-02-12\",\"2019-02-13\",\"2019-02-14\",\"2019-02-15\",\"2019-02-16\",\"2019-02-17\",\"2019-02-18\",\"2019-02-19\",\"2019-02-20\",\"2019-02-21\",\"2019-02-22\",\"2019-02-23\",\"2019-02-24\",\"2019-02-25\",\"2019-02-26\",\"2019-02-27\",\"2019-02-28\",\"2019-03-01\",\"2019-03-02\",\"2019-03-03\",\"2019-03-04\",\"2019-03-05\",\"2019-03-06\",\"2019-03-07\",\"2019-03-08\",\"2019-03-09\",\"2019-03-10\",\"2019-03-11\",\"2019-03-12\",\"2019-03-13\",\"2019-03-14\",\"2019-03-15\",\"2019-03-16\",\"2019-03-17\",\"2019-03-18\",\"2019-03-19\",\"2019-03-20\",\"2019-03-21\",\"2019-03-22\",\"2019-03-23\",\"2019-03-24\",\"2019-03-25\",\"2019-03-26\",\"2019-03-27\",\"2019-03-28\",\"2019-03-29\",\"2019-03-30\",\"2019-03-31\",\"2019-04-01\",\"2019-04-02\",\"2019-04-03\",\"2019-04-04\",\"2019-04-05\",\"2019-04-06\",\"2019-04-07\",\"2019-04-08\",\"2019-04-09\",\"2019-04-10\",\"2019-04-11\",\"2019-04-12\",\"2019-04-13\",\"2019-04-14\",\"2019-04-15\",\"2019-04-16\",\"2019-04-17\",\"2019-04-18\",\"2019-04-19\",\"2019-04-20\",\"2019-04-21\",\"2019-04-22\",\"2019-04-23\",\"2019-04-24\",\"2019-04-25\",\"2019-04-26\",\"2019-04-27\",\"2019-04-28\",\"2019-04-29\",\"2019-04-30\",\"2019-05-01\",\"2019-05-02\",\"2019-05-03\",\"2019-05-04\",\"2019-05-05\",\"2019-05-06\",\"2019-05-07\",\"2019-05-08\",\"2019-05-09\",\"2019-05-10\",\"2019-05-11\",\"2019-05-12\",\"2019-05-13\",\"2019-05-14\",\"2019-05-15\",\"2019-05-16\",\"2019-05-17\",\"2019-05-18\",\"2019-05-19\",\"2019-05-20\",\"2019-05-21\",\"2019-05-22\",\"2019-05-23\",\"2019-05-24\",\"2019-05-25\",\"2019-05-26\",\"2019-05-27\",\"2019-05-28\",\"2019-05-29\",\"2019-05-30\",\"2019-05-31\",\"2019-06-01\",\"2019-06-02\",\"2019-06-03\",\"2019-06-04\",\"2019-06-05\",\"2019-06-06\",\"2019-06-07\",\"2019-06-08\",\"2019-06-09\",\"2019-06-10\",\"2019-06-11\",\"2019-06-12\",\"2019-06-13\",\"2019-06-14\",\"2019-06-15\",\"2019-06-16\",\"2019-06-17\",\"2019-06-18\",\"2019-06-19\",\"2019-06-20\",\"2019-06-21\",\"2019-06-22\",\"2019-06-23\",\"2019-06-24\",\"2019-06-25\",\"2019-06-26\",\"2019-06-27\",\"2019-06-28\",\"2019-06-29\",\"2019-06-30\",\"2019-07-01\",\"2019-07-02\",\"2019-07-03\",\"2019-07-04\",\"2019-07-05\",\"2019-07-06\",\"2019-07-07\",\"2019-07-08\",\"2019-07-09\",\"2019-07-10\",\"2019-07-11\",\"2019-07-12\",\"2019-07-13\",\"2019-07-14\",\"2019-07-15\",\"2019-07-16\",\"2019-07-17\",\"2019-07-18\",\"2019-07-19\",\"2019-07-20\",\"2019-07-21\",\"2019-07-22\",\"2019-07-23\",\"2019-07-24\",\"2019-07-25\",\"2019-07-26\",\"2019-07-27\",\"2019-07-28\",\"2019-07-29\",\"2019-07-30\",\"2019-07-31\",\"2019-08-01\",\"2019-08-02\",\"2019-08-03\",\"2019-08-04\",\"2019-08-05\",\"2019-08-06\",\"2019-08-07\",\"2019-08-08\",\"2019-08-09\",\"2019-08-10\",\"2019-08-11\",\"2019-08-12\",\"2019-08-13\",\"2019-08-14\",\"2019-08-15\",\"2019-08-16\",\"2019-08-17\",\"2019-08-18\",\"2019-08-19\",\"2019-08-20\",\"2019-08-21\",\"2019-08-22\",\"2019-08-23\",\"2019-08-24\",\"2019-08-25\",\"2019-08-26\",\"2019-08-27\",\"2019-08-28\",\"2019-08-29\",\"2019-08-30\",\"2019-08-31\",\"2019-09-01\",\"2019-09-02\",\"2019-09-03\",\"2019-09-04\",\"2019-09-05\",\"2019-09-06\",\"2019-09-07\",\"2019-09-08\",\"2019-09-09\",\"2019-09-10\",\"2019-09-11\",\"2019-09-12\",\"2019-09-13\",\"2019-09-14\",\"2019-09-15\",\"2019-09-16\",\"2019-09-17\",\"2019-09-18\",\"2019-09-19\",\"2019-09-20\",\"2019-09-21\",\"2019-09-22\",\"2019-09-23\",\"2019-09-24\",\"2019-09-25\",\"2019-09-26\",\"2019-09-27\",\"2019-09-28\",\"2019-09-29\",\"2019-09-30\",\"2019-10-01\",\"2019-10-02\",\"2019-10-03\",\"2019-10-04\",\"2019-10-05\",\"2019-10-06\",\"2019-10-07\",\"2019-10-08\",\"2019-10-09\",\"2019-10-10\",\"2019-10-11\",\"2019-10-12\",\"2019-10-13\",\"2019-10-14\",\"2019-10-15\",\"2019-10-16\",\"2019-10-17\",\"2019-10-18\",\"2019-10-19\",\"2019-10-20\",\"2019-10-21\",\"2019-10-22\",\"2019-10-23\",\"2019-10-24\",\"2019-10-25\",\"2019-10-26\",\"2019-10-27\",\"2019-10-28\",\"2019-10-29\",\"2019-10-30\",\"2019-10-31\",\"2019-11-01\",\"2019-11-02\",\"2019-11-03\",\"2019-11-04\",\"2019-11-05\",\"2019-11-06\",\"2019-11-07\",\"2019-11-08\",\"2019-11-09\",\"2019-11-10\",\"2019-11-11\",\"2019-11-12\",\"2019-11-13\",\"2019-11-14\",\"2019-11-15\",\"2019-11-16\",\"2019-11-17\",\"2019-11-18\",\"2019-11-19\",\"2019-11-20\",\"2019-11-21\",\"2019-11-22\",\"2019-11-23\",\"2019-11-24\",\"2019-11-25\",\"2019-11-26\",\"2019-11-27\",\"2019-11-28\",\"2019-11-29\",\"2019-11-30\",\"2019-12-01\",\"2019-12-02\",\"2019-12-03\",\"2019-12-04\",\"2019-12-05\",\"2019-12-06\",\"2019-12-07\",\"2019-12-08\",\"2019-12-09\",\"2019-12-10\",\"2019-12-11\",\"2019-12-12\",\"2019-12-13\",\"2019-12-14\",\"2019-12-15\",\"2019-12-16\",\"2019-12-17\",\"2019-12-18\",\"2019-12-19\",\"2019-12-20\",\"2019-12-21\",\"2019-12-22\",\"2019-12-23\",\"2019-12-24\",\"2019-12-25\",\"2019-12-26\",\"2019-12-27\",\"2019-12-28\",\"2019-12-29\",\"2019-12-30\",\"2019-12-31\",\"2020-01-01\",\"2020-01-02\",\"2020-01-03\",\"2020-01-04\",\"2020-01-05\",\"2020-01-06\",\"2020-01-07\",\"2020-01-08\",\"2020-01-09\",\"2020-01-10\",\"2020-01-11\",\"2020-01-12\",\"2020-01-13\",\"2020-01-14\",\"2020-01-15\",\"2020-01-16\",\"2020-01-17\",\"2020-01-18\",\"2020-01-19\",\"2020-01-20\",\"2020-01-21\",\"2020-01-22\",\"2020-01-23\",\"2020-01-24\",\"2020-01-25\",\"2020-01-26\",\"2020-01-27\",\"2020-01-28\",\"2020-01-29\",\"2020-01-30\",\"2020-01-31\",\"2020-02-01\",\"2020-02-02\",\"2020-02-03\",\"2020-02-04\",\"2020-02-05\",\"2020-02-06\",\"2020-02-07\",\"2020-02-08\",\"2020-02-09\",\"2020-02-10\",\"2020-02-11\",\"2020-02-12\",\"2020-02-13\",\"2020-02-14\",\"2020-02-15\",\"2020-02-16\",\"2020-02-17\",\"2020-02-18\",\"2020-02-19\",\"2020-02-20\",\"2020-02-21\",\"2020-02-22\",\"2020-02-23\",\"2020-02-24\",\"2020-02-25\",\"2020-02-26\",\"2020-02-27\",\"2020-02-28\",\"2020-02-29\",\"2020-03-01\",\"2020-03-02\",\"2020-03-03\",\"2020-03-04\",\"2020-03-05\",\"2020-03-06\",\"2020-03-07\",\"2020-03-08\",\"2020-03-09\",\"2020-03-10\",\"2020-03-11\",\"2020-03-12\",\"2020-03-13\",\"2020-03-14\",\"2020-03-15\",\"2020-03-16\",\"2020-03-17\",\"2020-03-18\",\"2020-03-19\",\"2020-03-20\",\"2020-03-21\",\"2020-03-22\",\"2020-03-23\",\"2020-03-24\",\"2020-03-25\",\"2020-03-26\",\"2020-03-27\",\"2020-03-28\",\"2020-03-29\",\"2020-03-30\",\"2020-03-31\",\"2020-04-01\",\"2020-04-02\",\"2020-04-03\",\"2020-04-04\",\"2020-04-05\",\"2020-04-06\",\"2020-04-07\",\"2020-04-08\",\"2020-04-09\",\"2020-04-10\",\"2020-04-11\",\"2020-04-12\",\"2020-04-13\",\"2020-04-14\",\"2020-04-15\",\"2020-04-16\",\"2020-04-17\",\"2020-04-18\",\"2020-04-19\",\"2020-04-20\",\"2020-04-21\",\"2020-04-22\",\"2020-04-23\",\"2020-04-24\",\"2020-04-25\",\"2020-04-26\",\"2020-04-27\",\"2020-04-28\",\"2020-04-29\",\"2020-04-30\",\"2020-05-01\",\"2020-05-02\",\"2020-05-03\",\"2020-05-04\",\"2020-05-05\",\"2020-05-06\",\"2020-05-07\",\"2020-05-08\",\"2020-05-09\",\"2020-05-10\",\"2020-05-11\",\"2020-05-12\",\"2020-05-13\",\"2020-05-14\",\"2020-05-15\",\"2020-05-16\",\"2020-05-17\",\"2020-05-18\",\"2020-05-19\",\"2020-05-20\",\"2020-05-21\",\"2020-05-22\",\"2020-05-23\",\"2020-05-24\",\"2020-05-25\",\"2020-05-26\",\"2020-05-27\",\"2020-05-28\",\"2020-05-29\",\"2020-05-30\",\"2020-05-31\",\"2020-06-01\",\"2020-06-02\",\"2020-06-03\",\"2020-06-04\",\"2020-06-05\",\"2020-06-07\",\"2020-06-08\",\"2020-06-09\",\"2020-06-10\",\"2020-06-11\",\"2020-06-12\",\"2020-06-13\",\"2020-06-14\",\"2020-06-15\",\"2020-06-16\",\"2020-06-17\",\"2020-06-18\",\"2020-06-19\",\"2020-06-20\",\"2020-06-21\",\"2020-06-22\",\"2020-06-23\",\"2020-06-24\",\"2020-06-25\",\"2020-06-26\",\"2020-06-28\",\"2020-06-29\",\"2020-06-30\"],\"y\":[\"\",\"\",\"\",\"\",\"\",\"\",\"\",\"\",\"\",\"\",\"\",\"\",\"\",\"\",\"\",\"\",\"\",\"\",\"\",\"\",\"\",\"\",\"\",\"\",\"\",2500.0,\"\",\"\",\"\",\"\",\"\",\"\",23829.0,41334.0,92905.0,154409.0,174403.0,196879.0,245510.0,316461.0,360637.0,410573.0,475430.0,490673.0,524031.0,632613.0,727852.0,831198.0,1202713.0,1263754.0,1281032.0,1313345.0,1353485.0,1418379.0,1537611.0,1661181.0,1809604.0,1821348.0,1832856.0,1958230.0,2158585.0,2626648.0,2859905.0,2942546.0,2971100.0,3043540.0,3112402.0,3209526.0,3304240.0,3399676.0,3538521.0,3557242.0,3622378.0,3761677.0,4009445.0,4157365.0,4202997.0,4285338.0,4309999.0,4336570.0,4422073.0,4537923.0,4590047.0,4755647.0,4866975.0,4906057.0,4950309.0,5156966.0,5428915.0,5539494.0,6277345.0,6380313.0,6411629.0,6453093.0,6687103.0,6802718.0,6886570.0,6960127.0,7045610.0,7085970.0,7152133.0,7293615.0,7380957.0,7509370.0,7629185.0,7830202.0,7855060.0,7876488.0,8058949.0,8316935.0,8472798.0,8663658.0,8758150.0,8790848.0,8847235.0,8983594.0,9203003.0,9418822.0,10032584.0,10587575.0,10826988.0,11524291.0,11619281.0,11723061.0,11805685.0,11975752.0,12053850.0,12091371.0,12163465.0,12597629.0,12678060.0,12853281.0,12923637.0,13049825.0,13076794.0,13126329.0,13284991.0,13439674.0,13554196.0,13596861.0,13656454.0,13677347.0,13712850.0,13922560.0,14042548.0,14193024.0,14371733.0,14495962.0,14551125.0,14618657.0,14756691.0,15266920.0,15385777.0,15461257.0,15623990.0,15669112.0,15714010.0,16130227.0,16273021.0,16407150.0,16508821.0,16596963.0,16624611.0,16697581.0,16911842.0,17481321.0,17666768.0,17783722.0,17947629.0,17977610.0,18025480.0,18435142.0,19684022.0,19820225.0,19906758.0,20012878.0,20093702.0,20138229.0,20203334.0,20334211.0,20572275.0,20793428.0,21117711.0,21183389.0,21210196.0,21395592.0,21514870.0,21633956.0,21806038.0,22006520.0,22060223.0,22107923.0,22241788.0,22448638.0,22790528.0,22992590.0,23149012.0,23196280.0,23238937.0,23435609.0,23678046.0,23768877.0,24086983.0,24203180.0,24241992.0,24293246.0,24676732.0,24976467.0,25162885.0,25435464.0,25830098.0,26026962.0,26562835.0,26721014.0,26799967.0,26875778.0,26913166.0,27056949.0,27099957.0,27137400.0,27361005.0,28047082.0,28252384.0,28427258.0,28541954.0,28649478.0,28695775.0,28863117.0,29075050.0,29272286.0,29410547.0,29556746.0,29600484.0,29641880.0,29828695.0,30055115.0,30208647.0,30303052.0,30539518.0,30627471.0,30717121.0,30969005.0,31268045.0,31809633.0,31984027.0,32088839.0,32139425.0,32218067.0,32411985.0,32783133.0,32904533.0,32988522.0,33125438.0,33204954.0,33274867.0,33470047.0,33710765.0,34009368.0,34211055.0,34324034.0,34397770.0,34477514.0,34672712.0,34959664.0,35139540.0,35290103.0,35483112.0,35560510.0,35647943.0,35822842.0,36084819.0,36280881.0,37021310.0,37552826.0,37711674.0,37807329.0,37883953.0,38135288.0,38406460.0,38580363.0,38922637.0,39094707.0,39213501.0,39611877.0,39823227.0,41297326.0,41713186.0,41923609.0,41956820.0,42088019.0,42371080.0,42612151.0,42761675.0,42856603.0,43234712.0,43285605.0,43391653.0,43622505.0,43978936.0,44124016.0,44292550.0,45167752.0,45272391.0,45492308.0,46943538.0,47085077.0,47226984.0,47345948.0,47544183.0,47609130.0,47656144.0,47899471.0,48181058.0,48327160.0,48519494.0,48727284.0,48777658.0,48828800.0,48932964.0,49185668.0,49432252.0,49677175.0,49819601.0,49878917.0,49940975.0,50345496.0,50765721.0,50995747.0,51116540.0,51675879.0,51724962.0,51814035.0,52108571.0,52358434.0,52651884.0,53134315.0,53374458.0,53423825.0,53511377.0,53703486.0,53885722.0,54022050.0,54310905.0,54541634.0,54595441.0,54642566.0,54750517.0,54931199.0,55133021.0,55312579.0,55495481.0,55548401.0,55607669.0,55867325.0,55988555.0,56284195.0,56436127.0,56622870.0,56690326.0,56753776.0,57033877.0,57302796.0,57951621.0,58016521.0,58221091.0,58810955.0,58868626.0,59091869.0,59235811.0,59391607.0,59505246.0,59688351.0,59735312.0,59826463.0,60047856.0,60405537.0,60639299.0,60886502.0,61100159.0,61158435.0,61224281.0,61439052.0,61728143.0,62199679.0,62538527.0,62837571.0,62898790.0,63009019.0,64227891.0,64293540.0,64339533.0,64530688.0,64898289.0,65010205.0,65117445.0,65430048.0,66746657.0,66807253.0,67025528.0,67109246.0,67125466.0,67140272.0,67300123.0,67468268.0,67595554.0,67701597.0,67861073.0,67898111.0,67919260.0,68060559.0,68322838.0,68673508.0,69054428.0,69319251.0,69355775.0,69410615.0,69474617.0,69764779.0,69945545.0,70265209.0,70450364.0,70528636.0,70587528.0,70837344.0,71166581.0,71601648.0,71874802.0,72984561.0,73089191.0,73166776.0,73451526.0,73927033.0,74780209.0,80891929.0,82189574.0,82296136.0,82384103.0,82824079.0,83096496.0,83935522.0,85048782.0,86869201.0,86931746.0,87004537.0,87147293.0,87703997.0,87989968.0,88311774.0,88822330.0,88885511.0,88973593.0,89479995.0,89698011.0,90401319.0,90760174.0,91569000.0,91926214.0,92000682.0,92182644.0,92643053.0,93109044.0,94446550.0,94810552.0,94886503.0,94983379.0,95265461.0,96713111.0,97189892.0,97716158.0,97920692.0,97987327.0,98064608.0,98555984.0,98822250.0,98987268.0,99232688.0,99412014.0,99473313.0,99539742.0,99791030.0,100585128.0,100744543.0,101100061.0,101366005.0,101455215.0,101676761.0,102170208.0,102766709.0,102960092.0,103479408.0,103683439.0,103750248.0,103821888.0,104234648.0,104518246.0,104654938.0,104776289.0,105248394.0,105311868.0,105371483.0,105658387.0,105876187.0,106636472.0,107105808.0,107278177.0,107366479.0,107498717.0,108891819.0,109347131.0,109586850.0,109797975.0,109977061.0,110066568.0,110218213.0,110767437.0,111132646.0,111442761.0,112052826.0,112481129.0,112584466.0,112669718.0,113615677.0,113865699.0,114267422.0,115308601.0,115580101.0,115725574.0,115812638.0,116505408.0,116840237.0,117336938.0,117616989.0,117816232.0,117946001.0,118112706.0,119281644.0,119808970.0,120873996.0,121525009.0,121880921.0,121983365.0,122087125.0,122348559.0,122933517.0,123656998.0,124015442.0,124433902.0,124591858.0,125012110.0,125012150.0,125012857.0,125017967.0,125018187.0,125018974.0,125018994.0,125027544.0,125027584.0,125027594.0,125027761.0,125029141.0,125029201.0,125029321.0,125029928.0,125030968.0,125030978.0,125031820.0,125032177.0,125032377.0,125032497.0,125032577.0,125032807.0,125033387.0,125035672.0,125040772.0,125050797.0,\"\",125064780.0],\"type\":\"scatter\"},{\"line\":{\"color\":\"red\",\"dash\":\"solid\",\"shape\":\"linear\",\"width\":1.3},\"mode\":\"lines\",\"name\":\"TILLIS, THOM R. SEN.\",\"text\":\"\",\"x\":[\"2018-10-03\",\"2018-10-26\",\"2018-11-04\",\"2018-11-07\",\"2018-11-09\",\"2018-11-13\",\"2018-11-14\",\"2018-11-15\",\"2018-11-16\",\"2018-11-19\",\"2018-11-22\",\"2018-11-27\",\"2018-11-28\",\"2018-11-30\",\"2018-12-07\",\"2018-12-10\",\"2018-12-11\",\"2018-12-12\",\"2018-12-13\",\"2018-12-14\",\"2018-12-17\",\"2018-12-18\",\"2018-12-19\",\"2018-12-20\",\"2018-12-21\",\"2018-12-23\",\"2018-12-26\",\"2018-12-27\",\"2018-12-28\",\"2018-12-29\",\"2018-12-30\",\"2018-12-31\",\"2019-01-01\",\"2019-01-02\",\"2019-01-03\",\"2019-01-04\",\"2019-01-05\",\"2019-01-06\",\"2019-01-07\",\"2019-01-08\",\"2019-01-09\",\"2019-01-10\",\"2019-01-11\",\"2019-01-12\",\"2019-01-13\",\"2019-01-14\",\"2019-01-15\",\"2019-01-16\",\"2019-01-17\",\"2019-01-18\",\"2019-01-19\",\"2019-01-20\",\"2019-01-21\",\"2019-01-22\",\"2019-01-23\",\"2019-01-24\",\"2019-01-25\",\"2019-01-26\",\"2019-01-27\",\"2019-01-28\",\"2019-01-29\",\"2019-01-30\",\"2019-01-31\",\"2019-02-01\",\"2019-02-02\",\"2019-02-03\",\"2019-02-04\",\"2019-02-05\",\"2019-02-06\",\"2019-02-07\",\"2019-02-08\",\"2019-02-09\",\"2019-02-10\",\"2019-02-11\",\"2019-02-12\",\"2019-02-13\",\"2019-02-14\",\"2019-02-15\",\"2019-02-16\",\"2019-02-17\",\"2019-02-18\",\"2019-02-19\",\"2019-02-20\",\"2019-02-21\",\"2019-02-22\",\"2019-02-23\",\"2019-02-24\",\"2019-02-25\",\"2019-02-26\",\"2019-02-27\",\"2019-02-28\",\"2019-03-01\",\"2019-03-02\",\"2019-03-03\",\"2019-03-04\",\"2019-03-05\",\"2019-03-06\",\"2019-03-07\",\"2019-03-08\",\"2019-03-09\",\"2019-03-10\",\"2019-03-11\",\"2019-03-12\",\"2019-03-13\",\"2019-03-14\",\"2019-03-15\",\"2019-03-16\",\"2019-03-17\",\"2019-03-18\",\"2019-03-19\",\"2019-03-20\",\"2019-03-21\",\"2019-03-22\",\"2019-03-23\",\"2019-03-24\",\"2019-03-25\",\"2019-03-26\",\"2019-03-27\",\"2019-03-28\",\"2019-03-29\",\"2019-03-30\",\"2019-03-31\",\"2019-04-01\",\"2019-04-02\",\"2019-04-03\",\"2019-04-04\",\"2019-04-05\",\"2019-04-06\",\"2019-04-07\",\"2019-04-08\",\"2019-04-09\",\"2019-04-10\",\"2019-04-11\",\"2019-04-12\",\"2019-04-13\",\"2019-04-14\",\"2019-04-15\",\"2019-04-16\",\"2019-04-17\",\"2019-04-18\",\"2019-04-19\",\"2019-04-20\",\"2019-04-21\",\"2019-04-22\",\"2019-04-23\",\"2019-04-24\",\"2019-04-25\",\"2019-04-26\",\"2019-04-27\",\"2019-04-28\",\"2019-04-29\",\"2019-04-30\",\"2019-05-01\",\"2019-05-02\",\"2019-05-03\",\"2019-05-04\",\"2019-05-05\",\"2019-05-06\",\"2019-05-07\",\"2019-05-08\",\"2019-05-09\",\"2019-05-10\",\"2019-05-11\",\"2019-05-12\",\"2019-05-13\",\"2019-05-14\",\"2019-05-15\",\"2019-05-16\",\"2019-05-17\",\"2019-05-18\",\"2019-05-19\",\"2019-05-20\",\"2019-05-21\",\"2019-05-22\",\"2019-05-23\",\"2019-05-24\",\"2019-05-25\",\"2019-05-26\",\"2019-05-27\",\"2019-05-28\",\"2019-05-29\",\"2019-05-30\",\"2019-05-31\",\"2019-06-01\",\"2019-06-02\",\"2019-06-03\",\"2019-06-04\",\"2019-06-05\",\"2019-06-06\",\"2019-06-07\",\"2019-06-08\",\"2019-06-09\",\"2019-06-10\",\"2019-06-11\",\"2019-06-12\",\"2019-06-13\",\"2019-06-14\",\"2019-06-15\",\"2019-06-16\",\"2019-06-17\",\"2019-06-18\",\"2019-06-19\",\"2019-06-20\",\"2019-06-21\",\"2019-06-22\",\"2019-06-23\",\"2019-06-24\",\"2019-06-25\",\"2019-06-26\",\"2019-06-27\",\"2019-06-28\",\"2019-06-29\",\"2019-06-30\",\"2019-07-01\",\"2019-07-02\",\"2019-07-03\",\"2019-07-04\",\"2019-07-05\",\"2019-07-06\",\"2019-07-07\",\"2019-07-08\",\"2019-07-09\",\"2019-07-10\",\"2019-07-11\",\"2019-07-12\",\"2019-07-13\",\"2019-07-14\",\"2019-07-15\",\"2019-07-16\",\"2019-07-17\",\"2019-07-18\",\"2019-07-19\",\"2019-07-20\",\"2019-07-21\",\"2019-07-22\",\"2019-07-23\",\"2019-07-24\",\"2019-07-25\",\"2019-07-26\",\"2019-07-27\",\"2019-07-28\",\"2019-07-29\",\"2019-07-30\",\"2019-07-31\",\"2019-08-01\",\"2019-08-02\",\"2019-08-03\",\"2019-08-04\",\"2019-08-05\",\"2019-08-06\",\"2019-08-07\",\"2019-08-08\",\"2019-08-09\",\"2019-08-10\",\"2019-08-11\",\"2019-08-12\",\"2019-08-13\",\"2019-08-14\",\"2019-08-15\",\"2019-08-16\",\"2019-08-17\",\"2019-08-18\",\"2019-08-19\",\"2019-08-20\",\"2019-08-21\",\"2019-08-22\",\"2019-08-23\",\"2019-08-24\",\"2019-08-25\",\"2019-08-26\",\"2019-08-27\",\"2019-08-28\",\"2019-08-29\",\"2019-08-30\",\"2019-08-31\",\"2019-09-01\",\"2019-09-02\",\"2019-09-03\",\"2019-09-04\",\"2019-09-05\",\"2019-09-06\",\"2019-09-07\",\"2019-09-08\",\"2019-09-09\",\"2019-09-10\",\"2019-09-11\",\"2019-09-12\",\"2019-09-13\",\"2019-09-14\",\"2019-09-15\",\"2019-09-16\",\"2019-09-17\",\"2019-09-18\",\"2019-09-19\",\"2019-09-20\",\"2019-09-21\",\"2019-09-22\",\"2019-09-23\",\"2019-09-24\",\"2019-09-25\",\"2019-09-26\",\"2019-09-27\",\"2019-09-28\",\"2019-09-29\",\"2019-09-30\",\"2019-10-01\",\"2019-10-02\",\"2019-10-03\",\"2019-10-04\",\"2019-10-05\",\"2019-10-06\",\"2019-10-07\",\"2019-10-08\",\"2019-10-09\",\"2019-10-10\",\"2019-10-11\",\"2019-10-12\",\"2019-10-13\",\"2019-10-14\",\"2019-10-15\",\"2019-10-16\",\"2019-10-17\",\"2019-10-18\",\"2019-10-19\",\"2019-10-20\",\"2019-10-21\",\"2019-10-22\",\"2019-10-23\",\"2019-10-24\",\"2019-10-25\",\"2019-10-26\",\"2019-10-27\",\"2019-10-28\",\"2019-10-29\",\"2019-10-30\",\"2019-10-31\",\"2019-11-01\",\"2019-11-02\",\"2019-11-03\",\"2019-11-04\",\"2019-11-05\",\"2019-11-06\",\"2019-11-07\",\"2019-11-08\",\"2019-11-09\",\"2019-11-10\",\"2019-11-11\",\"2019-11-12\",\"2019-11-13\",\"2019-11-14\",\"2019-11-15\",\"2019-11-16\",\"2019-11-17\",\"2019-11-18\",\"2019-11-19\",\"2019-11-20\",\"2019-11-21\",\"2019-11-22\",\"2019-11-23\",\"2019-11-24\",\"2019-11-25\",\"2019-11-26\",\"2019-11-27\",\"2019-11-28\",\"2019-11-29\",\"2019-11-30\",\"2019-12-01\",\"2019-12-02\",\"2019-12-03\",\"2019-12-04\",\"2019-12-05\",\"2019-12-06\",\"2019-12-07\",\"2019-12-08\",\"2019-12-09\",\"2019-12-10\",\"2019-12-11\",\"2019-12-12\",\"2019-12-13\",\"2019-12-14\",\"2019-12-15\",\"2019-12-16\",\"2019-12-17\",\"2019-12-18\",\"2019-12-19\",\"2019-12-20\",\"2019-12-21\",\"2019-12-22\",\"2019-12-23\",\"2019-12-24\",\"2019-12-25\",\"2019-12-26\",\"2019-12-27\",\"2019-12-28\",\"2019-12-29\",\"2019-12-30\",\"2019-12-31\",\"2020-01-01\",\"2020-01-02\",\"2020-01-03\",\"2020-01-04\",\"2020-01-05\",\"2020-01-06\",\"2020-01-07\",\"2020-01-08\",\"2020-01-09\",\"2020-01-10\",\"2020-01-11\",\"2020-01-12\",\"2020-01-13\",\"2020-01-14\",\"2020-01-15\",\"2020-01-16\",\"2020-01-17\",\"2020-01-18\",\"2020-01-19\",\"2020-01-20\",\"2020-01-21\",\"2020-01-22\",\"2020-01-23\",\"2020-01-24\",\"2020-01-25\",\"2020-01-26\",\"2020-01-27\",\"2020-01-28\",\"2020-01-29\",\"2020-01-30\",\"2020-01-31\",\"2020-02-01\",\"2020-02-02\",\"2020-02-03\",\"2020-02-04\",\"2020-02-05\",\"2020-02-06\",\"2020-02-07\",\"2020-02-08\",\"2020-02-09\",\"2020-02-10\",\"2020-02-11\",\"2020-02-12\",\"2020-02-13\",\"2020-02-14\",\"2020-02-15\",\"2020-02-16\",\"2020-02-17\",\"2020-02-18\",\"2020-02-19\",\"2020-02-20\",\"2020-02-21\",\"2020-02-22\",\"2020-02-23\",\"2020-02-24\",\"2020-02-25\",\"2020-02-26\",\"2020-02-27\",\"2020-02-28\",\"2020-02-29\",\"2020-03-01\",\"2020-03-02\",\"2020-03-03\",\"2020-03-04\",\"2020-03-05\",\"2020-03-06\",\"2020-03-07\",\"2020-03-08\",\"2020-03-09\",\"2020-03-10\",\"2020-03-11\",\"2020-03-12\",\"2020-03-13\",\"2020-03-14\",\"2020-03-15\",\"2020-03-16\",\"2020-03-17\",\"2020-03-18\",\"2020-03-19\",\"2020-03-20\",\"2020-03-21\",\"2020-03-22\",\"2020-03-23\",\"2020-03-24\",\"2020-03-25\",\"2020-03-26\",\"2020-03-27\",\"2020-03-28\",\"2020-03-29\",\"2020-03-30\",\"2020-03-31\",\"2020-04-01\",\"2020-04-02\",\"2020-04-03\",\"2020-04-04\",\"2020-04-05\",\"2020-04-06\",\"2020-04-07\",\"2020-04-08\",\"2020-04-09\",\"2020-04-10\",\"2020-04-11\",\"2020-04-12\",\"2020-04-13\",\"2020-04-14\",\"2020-04-15\",\"2020-04-16\",\"2020-04-17\",\"2020-04-18\",\"2020-04-19\",\"2020-04-20\",\"2020-04-21\",\"2020-04-22\",\"2020-04-23\",\"2020-04-24\",\"2020-04-25\",\"2020-04-26\",\"2020-04-27\",\"2020-04-28\",\"2020-04-29\",\"2020-04-30\",\"2020-05-01\",\"2020-05-02\",\"2020-05-03\",\"2020-05-04\",\"2020-05-05\",\"2020-05-06\",\"2020-05-07\",\"2020-05-08\",\"2020-05-09\",\"2020-05-10\",\"2020-05-11\",\"2020-05-12\",\"2020-05-13\",\"2020-05-14\",\"2020-05-15\",\"2020-05-16\",\"2020-05-17\",\"2020-05-18\",\"2020-05-19\",\"2020-05-20\",\"2020-05-21\",\"2020-05-22\",\"2020-05-23\",\"2020-05-24\",\"2020-05-25\",\"2020-05-26\",\"2020-05-27\",\"2020-05-28\",\"2020-05-29\",\"2020-05-30\",\"2020-05-31\",\"2020-06-01\",\"2020-06-02\",\"2020-06-03\",\"2020-06-04\",\"2020-06-05\",\"2020-06-07\",\"2020-06-08\",\"2020-06-09\",\"2020-06-10\",\"2020-06-11\",\"2020-06-12\",\"2020-06-13\",\"2020-06-14\",\"2020-06-15\",\"2020-06-16\",\"2020-06-17\",\"2020-06-18\",\"2020-06-19\",\"2020-06-20\",\"2020-06-21\",\"2020-06-22\",\"2020-06-23\",\"2020-06-24\",\"2020-06-25\",\"2020-06-26\",\"2020-06-28\",\"2020-06-29\",\"2020-06-30\"],\"y\":[450.0,1250.0,1550.0,1850.0,58650.0,107750.0,115350.0,212650.0,312650.0,361150.0,423050.0,433050.0,489050.0,494750.0,495050.0,495350.0,496250.0,496550.0,497450.0,498950.0,499550.0,502692.0,505556.0,507122.0,511322.0,\"\",512772.0,513672.0,516372.0,516672.0,516972.0,518772.0,644330.0,804495.0,962681.0,1267629.0,1372818.0,1406274.0,1584414.0,1757196.0,2030978.0,2253796.0,2718082.0,2810209.0,2842236.0,3408096.0,3961618.0,4385977.0,4803252.0,5283903.0,5337923.0,5412108.0,5538295.0,5958591.0,6253122.0,6577804.0,7274389.0,7332671.0,7385465.0,9976880.0,10391163.0,10799150.0,14733990.0,15393238.0,15426659.0,15470167.0,16016852.0,16413320.0,16838504.0,17538671.0,18177033.0,18257179.0,18354376.0,18806240.0,19247133.0,19552382.0,20060735.0,21860401.0,21916526.0,21938934.0,22006028.0,22371933.0,22671782.0,23128180.0,24088706.0,24177055.0,24229748.0,24587508.0,24887476.0,25315988.0,28792080.0,29630083.0,29698045.0,29757043.0,30224203.0,30609153.0,30943996.0,31523688.0,32292649.0,32419850.0,32561769.0,33100897.0,33510517.0,34153464.0,34809865.0,36564995.0,36630397.0,36666137.0,37059969.0,37542796.0,38080082.0,38786822.0,39717540.0,39810193.0,39946966.0,40532058.0,41177798.0,42657649.0,43133328.0,46410973.0,46512655.0,48878559.0,49686367.0,50246952.0,50906019.0,51530731.0,52383004.0,52491242.0,52564895.0,53234408.0,54535736.0,54913164.0,55765532.0,57158716.0,57188347.0,57252742.0,58188534.0,58577194.0,58807654.0,59425045.0,60124334.0,60240185.0,60286366.0,60659290.0,61019248.0,61355514.0,61981794.0,62717697.0,62767623.0,62842387.0,64406617.0,67704575.0,68024717.0,68745561.0,69533955.0,69590737.0,69715184.0,70367434.0,70763976.0,71100332.0,71413836.0,72163696.0,72202416.0,72251358.0,72633927.0,73027633.0,74175647.0,74691324.0,75414916.0,75487824.0,75553286.0,76020967.0,76392396.0,76685592.0,77149458.0,78205188.0,78264444.0,78312863.0,78354172.0,78755145.0,79292728.0,80034852.0,84199244.0,84392785.0,84481483.0,85058727.0,85456956.0,85833428.0,86122655.0,86910225.0,86984935.0,87042828.0,87377938.0,87767310.0,88170421.0,89240089.0,90935691.0,91225874.0,91258848.0,91645576.0,92059852.0,92440041.0,93815276.0,94977962.0,95137228.0,95179815.0,95502854.0,95945262.0,96481003.0,97203575.0,108330501.0,108464197.0,112057898.0,112397464.0,112662179.0,112952518.0,113025618.0,113733989.0,113761862.0,113887541.0,114551368.0,114833383.0,115027655.0,115450125.0,116096734.0,116125634.0,116228994.0,117187713.0,117493554.0,117687118.0,118099144.0,119001506.0,119103629.0,119160442.0,119579590.0,120427211.0,121050270.0,121608870.0,122730175.0,122806430.0,122894495.0,123353591.0,123626436.0,127485958.0,128151235.0,128797687.0,128837101.0,128878382.0,129169545.0,129596183.0,129904376.0,130369523.0,131177649.0,131250355.0,131291016.0,131552331.0,131808356.0,132116609.0,133335849.0,134267641.0,134308756.0,134358608.0,134748336.0,135161869.0,135448253.0,136066942.0,136969197.0,137039249.0,137089692.0,137587299.0,138014884.0,138721315.0,139076342.0,140796488.0,143475591.0,143593916.0,143649462.0,144176136.0,145803538.0,146568598.0,147451341.0,147534853.0,147643861.0,148378818.0,148787208.0,149168352.0,149652585.0,152148339.0,152198986.0,152469340.0,153273249.0,153642489.0,153976443.0,155024026.0,156337516.0,156419346.0,156478965.0,158090376.0,158485763.0,159103582.0,159778726.0,160960683.0,161060787.0,161148753.0,165811959.0,167574236.0,167946512.0,168939455.0,169900513.0,170023358.0,170088223.0,170465348.0,171128005.0,172157500.0,172643875.0,173581902.0,173636568.0,173670029.0,173838555.0,174812052.0,175125646.0,175946331.0,177070995.0,177238313.0,177413129.0,177813881.0,178442910.0,178981176.0,179415946.0,180658173.0,180780939.0,180863687.0,182218050.0,182795723.0,183210266.0,188911424.0,189761220.0,189818147.0,189878685.0,190338680.0,191071120.0,192116807.0,192702345.0,193864267.0,193911813.0,194001025.0,194156893.0,196124006.0,197025856.0,197663348.0,200639281.0,200737643.0,200798764.0,201259228.0,201551954.0,201949499.0,202725995.0,203675548.0,203720327.0,203767177.0,204421280.0,204854436.0,205739388.0,205800787.0,207323176.0,210472793.0,210631778.0,211229465.0,211566101.0,212146642.0,214064415.0,215039634.0,215100470.0,215166026.0,215500506.0,215945121.0,216255640.0,216967044.0,218325361.0,218391571.0,218646341.0,219155227.0,219772454.0,220309810.0,222040270.0,223446228.0,223647062.0,223707791.0,225116885.0,225348986.0,225395594.0,226107129.0,228918370.0,229007029.0,229101366.0,230195206.0,237356164.0,237492766.0,237689789.0,237959130.0,238001268.0,238087838.0,238365864.0,238618225.0,239075477.0,239320522.0,239627431.0,239728010.0,239783119.0,240588000.0,240920690.0,243982004.0,244410004.0,245640897.0,245742047.0,245798100.0,245972900.0,246300692.0,248746000.0,249129411.0,250646487.0,250734085.0,250820579.0,251613909.0,252555260.0,253046931.0,253904241.0,260578967.0,260716106.0,260791125.0,261504728.0,261980257.0,262548979.0,263170127.0,263886767.0,264133288.0,264216744.0,265221606.0,265743871.0,276765868.0,277498878.0,278755602.0,278935376.0,278991861.0,279112730.0,282703683.0,283452144.0,285800013.0,286885084.0,286998243.0,287064862.0,288404674.0,289511570.0,290248490.0,291318723.0,293108595.0,295943840.0,296134532.0,296738753.0,297173178.0,297497215.0,298197737.0,299568663.0,299653766.0,299748022.0,300252872.0,301015147.0,302857834.0,311971903.0,314258199.0,314316338.0,314518785.0,316088640.0,316554956.0,317945891.0,318515713.0,319481955.0,319566904.0,319622686.0,320088288.0,320243286.0,320688635.0,321011975.0,321886320.0,322027459.0,322138395.0,323381963.0,327328336.0,327876265.0,328244756.0,328971195.0,329032064.0,329166073.0,329438088.0,329686572.0,330413179.0,330673358.0,332573929.0,332667405.0,332780296.0,333341273.0,333573532.0,339978303.0,340737429.0,341618207.0,341731014.0,341860378.0,342719340.0,343114344.0,343459793.0,343806402.0,345362371.0,345429115.0,345543029.0,345930718.0,347193831.0,347653144.0,352343109.0,353132727.0,353205231.0,353275918.0,353705204.0,355980431.0,356233578.0,358120006.0,358841416.0,358920125.0,359045400.0,359500796.0,360296871.0,361107660.0,361601617.0,362968136.0,363086094.0,363157960.0,364026769.0,365434875.0,366439267.0,366984056.0,370343841.0,370440292.0,370537118.0,370596951.0,371020265.0,371364823.0,371987648.0,375087121.0,375276137.0,377701912.0,377755030.0,\"\",377758555.0,377764380.0,377842032.0,377846465.0,377846965.0,377856965.0,377857005.0,377970523.0,378087714.0,\"\",\"\",378112351.0,378117851.0,378142851.0,378197194.0,378315103.0,378317853.0,378317936.0,378329886.0,\"\",378338450.0,378470106.0,378607611.0,378610111.0,378615319.0,379339449.0],\"type\":\"scatter\"}],                        {\"legend\":{\"bgcolor\":\"#FFFFFF\",\"font\":{\"color\":\"#666666\"}},\"paper_bgcolor\":\"#FFFFFF\",\"plot_bgcolor\":\"#E5E5E5\",\"template\":{\"data\":{\"barpolar\":[{\"marker\":{\"line\":{\"color\":\"#E5ECF6\",\"width\":0.5},\"pattern\":{\"fillmode\":\"overlay\",\"size\":10,\"solidity\":0.2}},\"type\":\"barpolar\"}],\"bar\":[{\"error_x\":{\"color\":\"#2a3f5f\"},\"error_y\":{\"color\":\"#2a3f5f\"},\"marker\":{\"line\":{\"color\":\"#E5ECF6\",\"width\":0.5},\"pattern\":{\"fillmode\":\"overlay\",\"size\":10,\"solidity\":0.2}},\"type\":\"bar\"}],\"carpet\":[{\"aaxis\":{\"endlinecolor\":\"#2a3f5f\",\"gridcolor\":\"white\",\"linecolor\":\"white\",\"minorgridcolor\":\"white\",\"startlinecolor\":\"#2a3f5f\"},\"baxis\":{\"endlinecolor\":\"#2a3f5f\",\"gridcolor\":\"white\",\"linecolor\":\"white\",\"minorgridcolor\":\"white\",\"startlinecolor\":\"#2a3f5f\"},\"type\":\"carpet\"}],\"choropleth\":[{\"colorbar\":{\"outlinewidth\":0,\"ticks\":\"\"},\"type\":\"choropleth\"}],\"contourcarpet\":[{\"colorbar\":{\"outlinewidth\":0,\"ticks\":\"\"},\"type\":\"contourcarpet\"}],\"contour\":[{\"colorbar\":{\"outlinewidth\":0,\"ticks\":\"\"},\"colorscale\":[[0.0,\"#0d0887\"],[0.1111111111111111,\"#46039f\"],[0.2222222222222222,\"#7201a8\"],[0.3333333333333333,\"#9c179e\"],[0.4444444444444444,\"#bd3786\"],[0.5555555555555556,\"#d8576b\"],[0.6666666666666666,\"#ed7953\"],[0.7777777777777778,\"#fb9f3a\"],[0.8888888888888888,\"#fdca26\"],[1.0,\"#f0f921\"]],\"type\":\"contour\"}],\"heatmapgl\":[{\"colorbar\":{\"outlinewidth\":0,\"ticks\":\"\"},\"colorscale\":[[0.0,\"#0d0887\"],[0.1111111111111111,\"#46039f\"],[0.2222222222222222,\"#7201a8\"],[0.3333333333333333,\"#9c179e\"],[0.4444444444444444,\"#bd3786\"],[0.5555555555555556,\"#d8576b\"],[0.6666666666666666,\"#ed7953\"],[0.7777777777777778,\"#fb9f3a\"],[0.8888888888888888,\"#fdca26\"],[1.0,\"#f0f921\"]],\"type\":\"heatmapgl\"}],\"heatmap\":[{\"colorbar\":{\"outlinewidth\":0,\"ticks\":\"\"},\"colorscale\":[[0.0,\"#0d0887\"],[0.1111111111111111,\"#46039f\"],[0.2222222222222222,\"#7201a8\"],[0.3333333333333333,\"#9c179e\"],[0.4444444444444444,\"#bd3786\"],[0.5555555555555556,\"#d8576b\"],[0.6666666666666666,\"#ed7953\"],[0.7777777777777778,\"#fb9f3a\"],[0.8888888888888888,\"#fdca26\"],[1.0,\"#f0f921\"]],\"type\":\"heatmap\"}],\"histogram2dcontour\":[{\"colorbar\":{\"outlinewidth\":0,\"ticks\":\"\"},\"colorscale\":[[0.0,\"#0d0887\"],[0.1111111111111111,\"#46039f\"],[0.2222222222222222,\"#7201a8\"],[0.3333333333333333,\"#9c179e\"],[0.4444444444444444,\"#bd3786\"],[0.5555555555555556,\"#d8576b\"],[0.6666666666666666,\"#ed7953\"],[0.7777777777777778,\"#fb9f3a\"],[0.8888888888888888,\"#fdca26\"],[1.0,\"#f0f921\"]],\"type\":\"histogram2dcontour\"}],\"histogram2d\":[{\"colorbar\":{\"outlinewidth\":0,\"ticks\":\"\"},\"colorscale\":[[0.0,\"#0d0887\"],[0.1111111111111111,\"#46039f\"],[0.2222222222222222,\"#7201a8\"],[0.3333333333333333,\"#9c179e\"],[0.4444444444444444,\"#bd3786\"],[0.5555555555555556,\"#d8576b\"],[0.6666666666666666,\"#ed7953\"],[0.7777777777777778,\"#fb9f3a\"],[0.8888888888888888,\"#fdca26\"],[1.0,\"#f0f921\"]],\"type\":\"histogram2d\"}],\"histogram\":[{\"marker\":{\"pattern\":{\"fillmode\":\"overlay\",\"size\":10,\"solidity\":0.2}},\"type\":\"histogram\"}],\"mesh3d\":[{\"colorbar\":{\"outlinewidth\":0,\"ticks\":\"\"},\"type\":\"mesh3d\"}],\"parcoords\":[{\"line\":{\"colorbar\":{\"outlinewidth\":0,\"ticks\":\"\"}},\"type\":\"parcoords\"}],\"pie\":[{\"automargin\":true,\"type\":\"pie\"}],\"scatter3d\":[{\"line\":{\"colorbar\":{\"outlinewidth\":0,\"ticks\":\"\"}},\"marker\":{\"colorbar\":{\"outlinewidth\":0,\"ticks\":\"\"}},\"type\":\"scatter3d\"}],\"scattercarpet\":[{\"marker\":{\"colorbar\":{\"outlinewidth\":0,\"ticks\":\"\"}},\"type\":\"scattercarpet\"}],\"scattergeo\":[{\"marker\":{\"colorbar\":{\"outlinewidth\":0,\"ticks\":\"\"}},\"type\":\"scattergeo\"}],\"scattergl\":[{\"marker\":{\"colorbar\":{\"outlinewidth\":0,\"ticks\":\"\"}},\"type\":\"scattergl\"}],\"scattermapbox\":[{\"marker\":{\"colorbar\":{\"outlinewidth\":0,\"ticks\":\"\"}},\"type\":\"scattermapbox\"}],\"scatterpolargl\":[{\"marker\":{\"colorbar\":{\"outlinewidth\":0,\"ticks\":\"\"}},\"type\":\"scatterpolargl\"}],\"scatterpolar\":[{\"marker\":{\"colorbar\":{\"outlinewidth\":0,\"ticks\":\"\"}},\"type\":\"scatterpolar\"}],\"scatter\":[{\"fillpattern\":{\"fillmode\":\"overlay\",\"size\":10,\"solidity\":0.2},\"type\":\"scatter\"}],\"scatterternary\":[{\"marker\":{\"colorbar\":{\"outlinewidth\":0,\"ticks\":\"\"}},\"type\":\"scatterternary\"}],\"surface\":[{\"colorbar\":{\"outlinewidth\":0,\"ticks\":\"\"},\"colorscale\":[[0.0,\"#0d0887\"],[0.1111111111111111,\"#46039f\"],[0.2222222222222222,\"#7201a8\"],[0.3333333333333333,\"#9c179e\"],[0.4444444444444444,\"#bd3786\"],[0.5555555555555556,\"#d8576b\"],[0.6666666666666666,\"#ed7953\"],[0.7777777777777778,\"#fb9f3a\"],[0.8888888888888888,\"#fdca26\"],[1.0,\"#f0f921\"]],\"type\":\"surface\"}],\"table\":[{\"cells\":{\"fill\":{\"color\":\"#EBF0F8\"},\"line\":{\"color\":\"white\"}},\"header\":{\"fill\":{\"color\":\"#C8D4E3\"},\"line\":{\"color\":\"white\"}},\"type\":\"table\"}]},\"layout\":{\"annotationdefaults\":{\"arrowcolor\":\"#2a3f5f\",\"arrowhead\":0,\"arrowwidth\":1},\"autotypenumbers\":\"strict\",\"coloraxis\":{\"colorbar\":{\"outlinewidth\":0,\"ticks\":\"\"}},\"colorscale\":{\"diverging\":[[0,\"#8e0152\"],[0.1,\"#c51b7d\"],[0.2,\"#de77ae\"],[0.3,\"#f1b6da\"],[0.4,\"#fde0ef\"],[0.5,\"#f7f7f7\"],[0.6,\"#e6f5d0\"],[0.7,\"#b8e186\"],[0.8,\"#7fbc41\"],[0.9,\"#4d9221\"],[1,\"#276419\"]],\"sequential\":[[0.0,\"#0d0887\"],[0.1111111111111111,\"#46039f\"],[0.2222222222222222,\"#7201a8\"],[0.3333333333333333,\"#9c179e\"],[0.4444444444444444,\"#bd3786\"],[0.5555555555555556,\"#d8576b\"],[0.6666666666666666,\"#ed7953\"],[0.7777777777777778,\"#fb9f3a\"],[0.8888888888888888,\"#fdca26\"],[1.0,\"#f0f921\"]],\"sequentialminus\":[[0.0,\"#0d0887\"],[0.1111111111111111,\"#46039f\"],[0.2222222222222222,\"#7201a8\"],[0.3333333333333333,\"#9c179e\"],[0.4444444444444444,\"#bd3786\"],[0.5555555555555556,\"#d8576b\"],[0.6666666666666666,\"#ed7953\"],[0.7777777777777778,\"#fb9f3a\"],[0.8888888888888888,\"#fdca26\"],[1.0,\"#f0f921\"]]},\"colorway\":[\"#636efa\",\"#EF553B\",\"#00cc96\",\"#ab63fa\",\"#FFA15A\",\"#19d3f3\",\"#FF6692\",\"#B6E880\",\"#FF97FF\",\"#FECB52\"],\"font\":{\"color\":\"#2a3f5f\"},\"geo\":{\"bgcolor\":\"white\",\"lakecolor\":\"white\",\"landcolor\":\"#E5ECF6\",\"showlakes\":true,\"showland\":true,\"subunitcolor\":\"white\"},\"hoverlabel\":{\"align\":\"left\"},\"hovermode\":\"closest\",\"mapbox\":{\"style\":\"light\"},\"paper_bgcolor\":\"white\",\"plot_bgcolor\":\"#E5ECF6\",\"polar\":{\"angularaxis\":{\"gridcolor\":\"white\",\"linecolor\":\"white\",\"ticks\":\"\"},\"bgcolor\":\"#E5ECF6\",\"radialaxis\":{\"gridcolor\":\"white\",\"linecolor\":\"white\",\"ticks\":\"\"}},\"scene\":{\"xaxis\":{\"backgroundcolor\":\"#E5ECF6\",\"gridcolor\":\"white\",\"gridwidth\":2,\"linecolor\":\"white\",\"showbackground\":true,\"ticks\":\"\",\"zerolinecolor\":\"white\"},\"yaxis\":{\"backgroundcolor\":\"#E5ECF6\",\"gridcolor\":\"white\",\"gridwidth\":2,\"linecolor\":\"white\",\"showbackground\":true,\"ticks\":\"\",\"zerolinecolor\":\"white\"},\"zaxis\":{\"backgroundcolor\":\"#E5ECF6\",\"gridcolor\":\"white\",\"gridwidth\":2,\"linecolor\":\"white\",\"showbackground\":true,\"ticks\":\"\",\"zerolinecolor\":\"white\"}},\"shapedefaults\":{\"line\":{\"color\":\"#2a3f5f\"}},\"ternary\":{\"aaxis\":{\"gridcolor\":\"white\",\"linecolor\":\"white\",\"ticks\":\"\"},\"baxis\":{\"gridcolor\":\"white\",\"linecolor\":\"white\",\"ticks\":\"\"},\"bgcolor\":\"#E5ECF6\",\"caxis\":{\"gridcolor\":\"white\",\"linecolor\":\"white\",\"ticks\":\"\"}},\"title\":{\"x\":0.05},\"xaxis\":{\"automargin\":true,\"gridcolor\":\"white\",\"linecolor\":\"white\",\"ticks\":\"\",\"title\":{\"standoff\":15},\"zerolinecolor\":\"white\",\"zerolinewidth\":2},\"yaxis\":{\"automargin\":true,\"gridcolor\":\"white\",\"linecolor\":\"white\",\"ticks\":\"\",\"title\":{\"standoff\":15},\"zerolinecolor\":\"white\",\"zerolinewidth\":2}}},\"title\":{\"font\":{\"color\":\"#151516\"},\"text\":\"Total individual contributions over time\"},\"xaxis\":{\"gridcolor\":\"#F6F6F6\",\"showgrid\":true,\"tickfont\":{\"color\":\"#666666\"},\"title\":{\"font\":{\"color\":\"#666666\"},\"text\":\"\"},\"zerolinecolor\":\"#F6F6F6\"},\"yaxis\":{\"gridcolor\":\"#F6F6F6\",\"showgrid\":true,\"tickfont\":{\"color\":\"#666666\"},\"title\":{\"font\":{\"color\":\"#666666\"},\"text\":\"\"},\"zerolinecolor\":\"#F6F6F6\"}},                        {\"showLink\": true, \"linkText\": \"Export to plot.ly\", \"plotlyServerURL\": \"https://plot.ly\", \"responsive\": true}                    ).then(function(){\n",
       "                            \n",
       "var gd = document.getElementById('e32cc1cb-0eef-4a36-8feb-f923b818796b');\n",
       "var x = new MutationObserver(function (mutations, observer) {{\n",
       "        var display = window.getComputedStyle(gd).display;\n",
       "        if (!display || display === 'none') {{\n",
       "            console.log([gd, 'removed!']);\n",
       "            Plotly.purge(gd);\n",
       "            observer.disconnect();\n",
       "        }}\n",
       "}});\n",
       "\n",
       "// Listen for the removal of the full notebook cells\n",
       "var notebookContainer = gd.closest('#notebook-container');\n",
       "if (notebookContainer) {{\n",
       "    x.observe(notebookContainer, {childList: true});\n",
       "}}\n",
       "\n",
       "// Listen for the clearing of the current output cell\n",
       "var outputEl = gd.closest('.output');\n",
       "if (outputEl) {{\n",
       "    x.observe(outputEl, {childList: true});\n",
       "}}\n",
       "\n",
       "                        })                };                });            </script>        </div>"
      ]
     },
     "metadata": {},
     "output_type": "display_data"
    }
   ],
   "source": [
    "by_date = contribs_by_indivs.groupby(['CAND_NAME', 'TRANSACTION_DT']).agg({'TRANSACTION_AMT': 'sum'})\n",
    "by_date_cumsum = by_date.groupby(level=0).cumsum().reset_index().pivot_table(values='TRANSACTION_AMT', index='TRANSACTION_DT', columns='CAND_NAME')\n",
    "by_date_cumsum.iplot(kind='line', colors=color_map, title='Total individual contributions over time')"
   ]
  },
  {
   "cell_type": "code",
   "execution_count": 55,
   "metadata": {
    "_kg_hide-input": true,
    "execution": {
     "iopub.execute_input": "2020-09-02T06:05:09.127224Z",
     "iopub.status.busy": "2020-09-02T06:05:09.126450Z",
     "iopub.status.idle": "2020-09-02T06:05:12.202476Z",
     "shell.execute_reply": "2020-09-02T06:05:12.203085Z"
    },
    "papermill": {
     "duration": 3.721288,
     "end_time": "2020-09-02T06:05:12.203263",
     "exception": false,
     "start_time": "2020-09-02T06:05:08.481975",
     "status": "completed"
    },
    "tags": []
   },
   "outputs": [
    {
     "data": {
      "application/vnd.plotly.v1+json": {
       "config": {
        "linkText": "Export to plot.ly",
        "plotlyServerURL": "https://plot.ly",
        "showLink": true
       },
       "data": [
        {
         "marker": {
          "color": "rgba(55, 128, 191, 0.6)",
          "line": {
           "color": "blue",
           "width": 1
          }
         },
         "name": "CUNNINGHAM, CAL",
         "orientation": "v",
         "text": "",
         "type": "bar",
         "x": [
          "in-state",
          "out-of-state"
         ],
         "y": [
          3255556,
          121809224
         ]
        },
        {
         "marker": {
          "color": "rgba(219, 64, 82, 0.6)",
          "line": {
           "color": "red",
           "width": 1
          }
         },
         "name": "TILLIS, THOM R. SEN.",
         "orientation": "v",
         "text": "",
         "type": "bar",
         "x": [
          "in-state",
          "out-of-state"
         ],
         "y": [
          8429869,
          370909580
         ]
        }
       ],
       "layout": {
        "legend": {
         "bgcolor": "#FFFFFF",
         "font": {
          "color": "#666666"
         }
        },
        "paper_bgcolor": "#FFFFFF",
        "plot_bgcolor": "#E5E5E5",
        "template": {
         "data": {
          "bar": [
           {
            "error_x": {
             "color": "#2a3f5f"
            },
            "error_y": {
             "color": "#2a3f5f"
            },
            "marker": {
             "line": {
              "color": "#E5ECF6",
              "width": 0.5
             },
             "pattern": {
              "fillmode": "overlay",
              "size": 10,
              "solidity": 0.2
             }
            },
            "type": "bar"
           }
          ],
          "barpolar": [
           {
            "marker": {
             "line": {
              "color": "#E5ECF6",
              "width": 0.5
             },
             "pattern": {
              "fillmode": "overlay",
              "size": 10,
              "solidity": 0.2
             }
            },
            "type": "barpolar"
           }
          ],
          "carpet": [
           {
            "aaxis": {
             "endlinecolor": "#2a3f5f",
             "gridcolor": "white",
             "linecolor": "white",
             "minorgridcolor": "white",
             "startlinecolor": "#2a3f5f"
            },
            "baxis": {
             "endlinecolor": "#2a3f5f",
             "gridcolor": "white",
             "linecolor": "white",
             "minorgridcolor": "white",
             "startlinecolor": "#2a3f5f"
            },
            "type": "carpet"
           }
          ],
          "choropleth": [
           {
            "colorbar": {
             "outlinewidth": 0,
             "ticks": ""
            },
            "type": "choropleth"
           }
          ],
          "contour": [
           {
            "colorbar": {
             "outlinewidth": 0,
             "ticks": ""
            },
            "colorscale": [
             [
              0,
              "#0d0887"
             ],
             [
              0.1111111111111111,
              "#46039f"
             ],
             [
              0.2222222222222222,
              "#7201a8"
             ],
             [
              0.3333333333333333,
              "#9c179e"
             ],
             [
              0.4444444444444444,
              "#bd3786"
             ],
             [
              0.5555555555555556,
              "#d8576b"
             ],
             [
              0.6666666666666666,
              "#ed7953"
             ],
             [
              0.7777777777777778,
              "#fb9f3a"
             ],
             [
              0.8888888888888888,
              "#fdca26"
             ],
             [
              1,
              "#f0f921"
             ]
            ],
            "type": "contour"
           }
          ],
          "contourcarpet": [
           {
            "colorbar": {
             "outlinewidth": 0,
             "ticks": ""
            },
            "type": "contourcarpet"
           }
          ],
          "heatmap": [
           {
            "colorbar": {
             "outlinewidth": 0,
             "ticks": ""
            },
            "colorscale": [
             [
              0,
              "#0d0887"
             ],
             [
              0.1111111111111111,
              "#46039f"
             ],
             [
              0.2222222222222222,
              "#7201a8"
             ],
             [
              0.3333333333333333,
              "#9c179e"
             ],
             [
              0.4444444444444444,
              "#bd3786"
             ],
             [
              0.5555555555555556,
              "#d8576b"
             ],
             [
              0.6666666666666666,
              "#ed7953"
             ],
             [
              0.7777777777777778,
              "#fb9f3a"
             ],
             [
              0.8888888888888888,
              "#fdca26"
             ],
             [
              1,
              "#f0f921"
             ]
            ],
            "type": "heatmap"
           }
          ],
          "heatmapgl": [
           {
            "colorbar": {
             "outlinewidth": 0,
             "ticks": ""
            },
            "colorscale": [
             [
              0,
              "#0d0887"
             ],
             [
              0.1111111111111111,
              "#46039f"
             ],
             [
              0.2222222222222222,
              "#7201a8"
             ],
             [
              0.3333333333333333,
              "#9c179e"
             ],
             [
              0.4444444444444444,
              "#bd3786"
             ],
             [
              0.5555555555555556,
              "#d8576b"
             ],
             [
              0.6666666666666666,
              "#ed7953"
             ],
             [
              0.7777777777777778,
              "#fb9f3a"
             ],
             [
              0.8888888888888888,
              "#fdca26"
             ],
             [
              1,
              "#f0f921"
             ]
            ],
            "type": "heatmapgl"
           }
          ],
          "histogram": [
           {
            "marker": {
             "pattern": {
              "fillmode": "overlay",
              "size": 10,
              "solidity": 0.2
             }
            },
            "type": "histogram"
           }
          ],
          "histogram2d": [
           {
            "colorbar": {
             "outlinewidth": 0,
             "ticks": ""
            },
            "colorscale": [
             [
              0,
              "#0d0887"
             ],
             [
              0.1111111111111111,
              "#46039f"
             ],
             [
              0.2222222222222222,
              "#7201a8"
             ],
             [
              0.3333333333333333,
              "#9c179e"
             ],
             [
              0.4444444444444444,
              "#bd3786"
             ],
             [
              0.5555555555555556,
              "#d8576b"
             ],
             [
              0.6666666666666666,
              "#ed7953"
             ],
             [
              0.7777777777777778,
              "#fb9f3a"
             ],
             [
              0.8888888888888888,
              "#fdca26"
             ],
             [
              1,
              "#f0f921"
             ]
            ],
            "type": "histogram2d"
           }
          ],
          "histogram2dcontour": [
           {
            "colorbar": {
             "outlinewidth": 0,
             "ticks": ""
            },
            "colorscale": [
             [
              0,
              "#0d0887"
             ],
             [
              0.1111111111111111,
              "#46039f"
             ],
             [
              0.2222222222222222,
              "#7201a8"
             ],
             [
              0.3333333333333333,
              "#9c179e"
             ],
             [
              0.4444444444444444,
              "#bd3786"
             ],
             [
              0.5555555555555556,
              "#d8576b"
             ],
             [
              0.6666666666666666,
              "#ed7953"
             ],
             [
              0.7777777777777778,
              "#fb9f3a"
             ],
             [
              0.8888888888888888,
              "#fdca26"
             ],
             [
              1,
              "#f0f921"
             ]
            ],
            "type": "histogram2dcontour"
           }
          ],
          "mesh3d": [
           {
            "colorbar": {
             "outlinewidth": 0,
             "ticks": ""
            },
            "type": "mesh3d"
           }
          ],
          "parcoords": [
           {
            "line": {
             "colorbar": {
              "outlinewidth": 0,
              "ticks": ""
             }
            },
            "type": "parcoords"
           }
          ],
          "pie": [
           {
            "automargin": true,
            "type": "pie"
           }
          ],
          "scatter": [
           {
            "fillpattern": {
             "fillmode": "overlay",
             "size": 10,
             "solidity": 0.2
            },
            "type": "scatter"
           }
          ],
          "scatter3d": [
           {
            "line": {
             "colorbar": {
              "outlinewidth": 0,
              "ticks": ""
             }
            },
            "marker": {
             "colorbar": {
              "outlinewidth": 0,
              "ticks": ""
             }
            },
            "type": "scatter3d"
           }
          ],
          "scattercarpet": [
           {
            "marker": {
             "colorbar": {
              "outlinewidth": 0,
              "ticks": ""
             }
            },
            "type": "scattercarpet"
           }
          ],
          "scattergeo": [
           {
            "marker": {
             "colorbar": {
              "outlinewidth": 0,
              "ticks": ""
             }
            },
            "type": "scattergeo"
           }
          ],
          "scattergl": [
           {
            "marker": {
             "colorbar": {
              "outlinewidth": 0,
              "ticks": ""
             }
            },
            "type": "scattergl"
           }
          ],
          "scattermapbox": [
           {
            "marker": {
             "colorbar": {
              "outlinewidth": 0,
              "ticks": ""
             }
            },
            "type": "scattermapbox"
           }
          ],
          "scatterpolar": [
           {
            "marker": {
             "colorbar": {
              "outlinewidth": 0,
              "ticks": ""
             }
            },
            "type": "scatterpolar"
           }
          ],
          "scatterpolargl": [
           {
            "marker": {
             "colorbar": {
              "outlinewidth": 0,
              "ticks": ""
             }
            },
            "type": "scatterpolargl"
           }
          ],
          "scatterternary": [
           {
            "marker": {
             "colorbar": {
              "outlinewidth": 0,
              "ticks": ""
             }
            },
            "type": "scatterternary"
           }
          ],
          "surface": [
           {
            "colorbar": {
             "outlinewidth": 0,
             "ticks": ""
            },
            "colorscale": [
             [
              0,
              "#0d0887"
             ],
             [
              0.1111111111111111,
              "#46039f"
             ],
             [
              0.2222222222222222,
              "#7201a8"
             ],
             [
              0.3333333333333333,
              "#9c179e"
             ],
             [
              0.4444444444444444,
              "#bd3786"
             ],
             [
              0.5555555555555556,
              "#d8576b"
             ],
             [
              0.6666666666666666,
              "#ed7953"
             ],
             [
              0.7777777777777778,
              "#fb9f3a"
             ],
             [
              0.8888888888888888,
              "#fdca26"
             ],
             [
              1,
              "#f0f921"
             ]
            ],
            "type": "surface"
           }
          ],
          "table": [
           {
            "cells": {
             "fill": {
              "color": "#EBF0F8"
             },
             "line": {
              "color": "white"
             }
            },
            "header": {
             "fill": {
              "color": "#C8D4E3"
             },
             "line": {
              "color": "white"
             }
            },
            "type": "table"
           }
          ]
         },
         "layout": {
          "annotationdefaults": {
           "arrowcolor": "#2a3f5f",
           "arrowhead": 0,
           "arrowwidth": 1
          },
          "autotypenumbers": "strict",
          "coloraxis": {
           "colorbar": {
            "outlinewidth": 0,
            "ticks": ""
           }
          },
          "colorscale": {
           "diverging": [
            [
             0,
             "#8e0152"
            ],
            [
             0.1,
             "#c51b7d"
            ],
            [
             0.2,
             "#de77ae"
            ],
            [
             0.3,
             "#f1b6da"
            ],
            [
             0.4,
             "#fde0ef"
            ],
            [
             0.5,
             "#f7f7f7"
            ],
            [
             0.6,
             "#e6f5d0"
            ],
            [
             0.7,
             "#b8e186"
            ],
            [
             0.8,
             "#7fbc41"
            ],
            [
             0.9,
             "#4d9221"
            ],
            [
             1,
             "#276419"
            ]
           ],
           "sequential": [
            [
             0,
             "#0d0887"
            ],
            [
             0.1111111111111111,
             "#46039f"
            ],
            [
             0.2222222222222222,
             "#7201a8"
            ],
            [
             0.3333333333333333,
             "#9c179e"
            ],
            [
             0.4444444444444444,
             "#bd3786"
            ],
            [
             0.5555555555555556,
             "#d8576b"
            ],
            [
             0.6666666666666666,
             "#ed7953"
            ],
            [
             0.7777777777777778,
             "#fb9f3a"
            ],
            [
             0.8888888888888888,
             "#fdca26"
            ],
            [
             1,
             "#f0f921"
            ]
           ],
           "sequentialminus": [
            [
             0,
             "#0d0887"
            ],
            [
             0.1111111111111111,
             "#46039f"
            ],
            [
             0.2222222222222222,
             "#7201a8"
            ],
            [
             0.3333333333333333,
             "#9c179e"
            ],
            [
             0.4444444444444444,
             "#bd3786"
            ],
            [
             0.5555555555555556,
             "#d8576b"
            ],
            [
             0.6666666666666666,
             "#ed7953"
            ],
            [
             0.7777777777777778,
             "#fb9f3a"
            ],
            [
             0.8888888888888888,
             "#fdca26"
            ],
            [
             1,
             "#f0f921"
            ]
           ]
          },
          "colorway": [
           "#636efa",
           "#EF553B",
           "#00cc96",
           "#ab63fa",
           "#FFA15A",
           "#19d3f3",
           "#FF6692",
           "#B6E880",
           "#FF97FF",
           "#FECB52"
          ],
          "font": {
           "color": "#2a3f5f"
          },
          "geo": {
           "bgcolor": "white",
           "lakecolor": "white",
           "landcolor": "#E5ECF6",
           "showlakes": true,
           "showland": true,
           "subunitcolor": "white"
          },
          "hoverlabel": {
           "align": "left"
          },
          "hovermode": "closest",
          "mapbox": {
           "style": "light"
          },
          "paper_bgcolor": "white",
          "plot_bgcolor": "#E5ECF6",
          "polar": {
           "angularaxis": {
            "gridcolor": "white",
            "linecolor": "white",
            "ticks": ""
           },
           "bgcolor": "#E5ECF6",
           "radialaxis": {
            "gridcolor": "white",
            "linecolor": "white",
            "ticks": ""
           }
          },
          "scene": {
           "xaxis": {
            "backgroundcolor": "#E5ECF6",
            "gridcolor": "white",
            "gridwidth": 2,
            "linecolor": "white",
            "showbackground": true,
            "ticks": "",
            "zerolinecolor": "white"
           },
           "yaxis": {
            "backgroundcolor": "#E5ECF6",
            "gridcolor": "white",
            "gridwidth": 2,
            "linecolor": "white",
            "showbackground": true,
            "ticks": "",
            "zerolinecolor": "white"
           },
           "zaxis": {
            "backgroundcolor": "#E5ECF6",
            "gridcolor": "white",
            "gridwidth": 2,
            "linecolor": "white",
            "showbackground": true,
            "ticks": "",
            "zerolinecolor": "white"
           }
          },
          "shapedefaults": {
           "line": {
            "color": "#2a3f5f"
           }
          },
          "ternary": {
           "aaxis": {
            "gridcolor": "white",
            "linecolor": "white",
            "ticks": ""
           },
           "baxis": {
            "gridcolor": "white",
            "linecolor": "white",
            "ticks": ""
           },
           "bgcolor": "#E5ECF6",
           "caxis": {
            "gridcolor": "white",
            "linecolor": "white",
            "ticks": ""
           }
          },
          "title": {
           "x": 0.05
          },
          "xaxis": {
           "automargin": true,
           "gridcolor": "white",
           "linecolor": "white",
           "ticks": "",
           "title": {
            "standoff": 15
           },
           "zerolinecolor": "white",
           "zerolinewidth": 2
          },
          "yaxis": {
           "automargin": true,
           "gridcolor": "white",
           "linecolor": "white",
           "ticks": "",
           "title": {
            "standoff": 15
           },
           "zerolinecolor": "white",
           "zerolinewidth": 2
          }
         }
        },
        "title": {
         "font": {
          "color": "#151516"
         },
         "text": "In-state vs Out-of-state total individual contributions"
        },
        "xaxis": {
         "gridcolor": "#F6F6F6",
         "showgrid": true,
         "tickfont": {
          "color": "#666666"
         },
         "title": {
          "font": {
           "color": "#666666"
          },
          "text": ""
         },
         "zerolinecolor": "#F6F6F6"
        },
        "yaxis": {
         "gridcolor": "#F6F6F6",
         "showgrid": true,
         "tickfont": {
          "color": "#666666"
         },
         "title": {
          "font": {
           "color": "#666666"
          },
          "text": ""
         },
         "zerolinecolor": "#F6F6F6"
        }
       }
      },
      "text/html": [
       "<div>                            <div id=\"b81ea073-a50e-4534-ac43-4b25a3117d40\" class=\"plotly-graph-div\" style=\"height:525px; width:100%;\"></div>            <script type=\"text/javascript\">                require([\"plotly\"], function(Plotly) {                    window.PLOTLYENV=window.PLOTLYENV || {};\n",
       "                    window.PLOTLYENV.BASE_URL='https://plot.ly';                                    if (document.getElementById(\"b81ea073-a50e-4534-ac43-4b25a3117d40\")) {                    Plotly.newPlot(                        \"b81ea073-a50e-4534-ac43-4b25a3117d40\",                        [{\"marker\":{\"color\":\"rgba(55, 128, 191, 0.6)\",\"line\":{\"color\":\"blue\",\"width\":1}},\"name\":\"CUNNINGHAM, CAL\",\"orientation\":\"v\",\"text\":\"\",\"x\":[\"in-state\",\"out-of-state\"],\"y\":[3255556,121809224],\"type\":\"bar\"},{\"marker\":{\"color\":\"rgba(219, 64, 82, 0.6)\",\"line\":{\"color\":\"red\",\"width\":1}},\"name\":\"TILLIS, THOM R. SEN.\",\"orientation\":\"v\",\"text\":\"\",\"x\":[\"in-state\",\"out-of-state\"],\"y\":[8429869,370909580],\"type\":\"bar\"}],                        {\"legend\":{\"bgcolor\":\"#FFFFFF\",\"font\":{\"color\":\"#666666\"}},\"paper_bgcolor\":\"#FFFFFF\",\"plot_bgcolor\":\"#E5E5E5\",\"template\":{\"data\":{\"barpolar\":[{\"marker\":{\"line\":{\"color\":\"#E5ECF6\",\"width\":0.5},\"pattern\":{\"fillmode\":\"overlay\",\"size\":10,\"solidity\":0.2}},\"type\":\"barpolar\"}],\"bar\":[{\"error_x\":{\"color\":\"#2a3f5f\"},\"error_y\":{\"color\":\"#2a3f5f\"},\"marker\":{\"line\":{\"color\":\"#E5ECF6\",\"width\":0.5},\"pattern\":{\"fillmode\":\"overlay\",\"size\":10,\"solidity\":0.2}},\"type\":\"bar\"}],\"carpet\":[{\"aaxis\":{\"endlinecolor\":\"#2a3f5f\",\"gridcolor\":\"white\",\"linecolor\":\"white\",\"minorgridcolor\":\"white\",\"startlinecolor\":\"#2a3f5f\"},\"baxis\":{\"endlinecolor\":\"#2a3f5f\",\"gridcolor\":\"white\",\"linecolor\":\"white\",\"minorgridcolor\":\"white\",\"startlinecolor\":\"#2a3f5f\"},\"type\":\"carpet\"}],\"choropleth\":[{\"colorbar\":{\"outlinewidth\":0,\"ticks\":\"\"},\"type\":\"choropleth\"}],\"contourcarpet\":[{\"colorbar\":{\"outlinewidth\":0,\"ticks\":\"\"},\"type\":\"contourcarpet\"}],\"contour\":[{\"colorbar\":{\"outlinewidth\":0,\"ticks\":\"\"},\"colorscale\":[[0.0,\"#0d0887\"],[0.1111111111111111,\"#46039f\"],[0.2222222222222222,\"#7201a8\"],[0.3333333333333333,\"#9c179e\"],[0.4444444444444444,\"#bd3786\"],[0.5555555555555556,\"#d8576b\"],[0.6666666666666666,\"#ed7953\"],[0.7777777777777778,\"#fb9f3a\"],[0.8888888888888888,\"#fdca26\"],[1.0,\"#f0f921\"]],\"type\":\"contour\"}],\"heatmapgl\":[{\"colorbar\":{\"outlinewidth\":0,\"ticks\":\"\"},\"colorscale\":[[0.0,\"#0d0887\"],[0.1111111111111111,\"#46039f\"],[0.2222222222222222,\"#7201a8\"],[0.3333333333333333,\"#9c179e\"],[0.4444444444444444,\"#bd3786\"],[0.5555555555555556,\"#d8576b\"],[0.6666666666666666,\"#ed7953\"],[0.7777777777777778,\"#fb9f3a\"],[0.8888888888888888,\"#fdca26\"],[1.0,\"#f0f921\"]],\"type\":\"heatmapgl\"}],\"heatmap\":[{\"colorbar\":{\"outlinewidth\":0,\"ticks\":\"\"},\"colorscale\":[[0.0,\"#0d0887\"],[0.1111111111111111,\"#46039f\"],[0.2222222222222222,\"#7201a8\"],[0.3333333333333333,\"#9c179e\"],[0.4444444444444444,\"#bd3786\"],[0.5555555555555556,\"#d8576b\"],[0.6666666666666666,\"#ed7953\"],[0.7777777777777778,\"#fb9f3a\"],[0.8888888888888888,\"#fdca26\"],[1.0,\"#f0f921\"]],\"type\":\"heatmap\"}],\"histogram2dcontour\":[{\"colorbar\":{\"outlinewidth\":0,\"ticks\":\"\"},\"colorscale\":[[0.0,\"#0d0887\"],[0.1111111111111111,\"#46039f\"],[0.2222222222222222,\"#7201a8\"],[0.3333333333333333,\"#9c179e\"],[0.4444444444444444,\"#bd3786\"],[0.5555555555555556,\"#d8576b\"],[0.6666666666666666,\"#ed7953\"],[0.7777777777777778,\"#fb9f3a\"],[0.8888888888888888,\"#fdca26\"],[1.0,\"#f0f921\"]],\"type\":\"histogram2dcontour\"}],\"histogram2d\":[{\"colorbar\":{\"outlinewidth\":0,\"ticks\":\"\"},\"colorscale\":[[0.0,\"#0d0887\"],[0.1111111111111111,\"#46039f\"],[0.2222222222222222,\"#7201a8\"],[0.3333333333333333,\"#9c179e\"],[0.4444444444444444,\"#bd3786\"],[0.5555555555555556,\"#d8576b\"],[0.6666666666666666,\"#ed7953\"],[0.7777777777777778,\"#fb9f3a\"],[0.8888888888888888,\"#fdca26\"],[1.0,\"#f0f921\"]],\"type\":\"histogram2d\"}],\"histogram\":[{\"marker\":{\"pattern\":{\"fillmode\":\"overlay\",\"size\":10,\"solidity\":0.2}},\"type\":\"histogram\"}],\"mesh3d\":[{\"colorbar\":{\"outlinewidth\":0,\"ticks\":\"\"},\"type\":\"mesh3d\"}],\"parcoords\":[{\"line\":{\"colorbar\":{\"outlinewidth\":0,\"ticks\":\"\"}},\"type\":\"parcoords\"}],\"pie\":[{\"automargin\":true,\"type\":\"pie\"}],\"scatter3d\":[{\"line\":{\"colorbar\":{\"outlinewidth\":0,\"ticks\":\"\"}},\"marker\":{\"colorbar\":{\"outlinewidth\":0,\"ticks\":\"\"}},\"type\":\"scatter3d\"}],\"scattercarpet\":[{\"marker\":{\"colorbar\":{\"outlinewidth\":0,\"ticks\":\"\"}},\"type\":\"scattercarpet\"}],\"scattergeo\":[{\"marker\":{\"colorbar\":{\"outlinewidth\":0,\"ticks\":\"\"}},\"type\":\"scattergeo\"}],\"scattergl\":[{\"marker\":{\"colorbar\":{\"outlinewidth\":0,\"ticks\":\"\"}},\"type\":\"scattergl\"}],\"scattermapbox\":[{\"marker\":{\"colorbar\":{\"outlinewidth\":0,\"ticks\":\"\"}},\"type\":\"scattermapbox\"}],\"scatterpolargl\":[{\"marker\":{\"colorbar\":{\"outlinewidth\":0,\"ticks\":\"\"}},\"type\":\"scatterpolargl\"}],\"scatterpolar\":[{\"marker\":{\"colorbar\":{\"outlinewidth\":0,\"ticks\":\"\"}},\"type\":\"scatterpolar\"}],\"scatter\":[{\"fillpattern\":{\"fillmode\":\"overlay\",\"size\":10,\"solidity\":0.2},\"type\":\"scatter\"}],\"scatterternary\":[{\"marker\":{\"colorbar\":{\"outlinewidth\":0,\"ticks\":\"\"}},\"type\":\"scatterternary\"}],\"surface\":[{\"colorbar\":{\"outlinewidth\":0,\"ticks\":\"\"},\"colorscale\":[[0.0,\"#0d0887\"],[0.1111111111111111,\"#46039f\"],[0.2222222222222222,\"#7201a8\"],[0.3333333333333333,\"#9c179e\"],[0.4444444444444444,\"#bd3786\"],[0.5555555555555556,\"#d8576b\"],[0.6666666666666666,\"#ed7953\"],[0.7777777777777778,\"#fb9f3a\"],[0.8888888888888888,\"#fdca26\"],[1.0,\"#f0f921\"]],\"type\":\"surface\"}],\"table\":[{\"cells\":{\"fill\":{\"color\":\"#EBF0F8\"},\"line\":{\"color\":\"white\"}},\"header\":{\"fill\":{\"color\":\"#C8D4E3\"},\"line\":{\"color\":\"white\"}},\"type\":\"table\"}]},\"layout\":{\"annotationdefaults\":{\"arrowcolor\":\"#2a3f5f\",\"arrowhead\":0,\"arrowwidth\":1},\"autotypenumbers\":\"strict\",\"coloraxis\":{\"colorbar\":{\"outlinewidth\":0,\"ticks\":\"\"}},\"colorscale\":{\"diverging\":[[0,\"#8e0152\"],[0.1,\"#c51b7d\"],[0.2,\"#de77ae\"],[0.3,\"#f1b6da\"],[0.4,\"#fde0ef\"],[0.5,\"#f7f7f7\"],[0.6,\"#e6f5d0\"],[0.7,\"#b8e186\"],[0.8,\"#7fbc41\"],[0.9,\"#4d9221\"],[1,\"#276419\"]],\"sequential\":[[0.0,\"#0d0887\"],[0.1111111111111111,\"#46039f\"],[0.2222222222222222,\"#7201a8\"],[0.3333333333333333,\"#9c179e\"],[0.4444444444444444,\"#bd3786\"],[0.5555555555555556,\"#d8576b\"],[0.6666666666666666,\"#ed7953\"],[0.7777777777777778,\"#fb9f3a\"],[0.8888888888888888,\"#fdca26\"],[1.0,\"#f0f921\"]],\"sequentialminus\":[[0.0,\"#0d0887\"],[0.1111111111111111,\"#46039f\"],[0.2222222222222222,\"#7201a8\"],[0.3333333333333333,\"#9c179e\"],[0.4444444444444444,\"#bd3786\"],[0.5555555555555556,\"#d8576b\"],[0.6666666666666666,\"#ed7953\"],[0.7777777777777778,\"#fb9f3a\"],[0.8888888888888888,\"#fdca26\"],[1.0,\"#f0f921\"]]},\"colorway\":[\"#636efa\",\"#EF553B\",\"#00cc96\",\"#ab63fa\",\"#FFA15A\",\"#19d3f3\",\"#FF6692\",\"#B6E880\",\"#FF97FF\",\"#FECB52\"],\"font\":{\"color\":\"#2a3f5f\"},\"geo\":{\"bgcolor\":\"white\",\"lakecolor\":\"white\",\"landcolor\":\"#E5ECF6\",\"showlakes\":true,\"showland\":true,\"subunitcolor\":\"white\"},\"hoverlabel\":{\"align\":\"left\"},\"hovermode\":\"closest\",\"mapbox\":{\"style\":\"light\"},\"paper_bgcolor\":\"white\",\"plot_bgcolor\":\"#E5ECF6\",\"polar\":{\"angularaxis\":{\"gridcolor\":\"white\",\"linecolor\":\"white\",\"ticks\":\"\"},\"bgcolor\":\"#E5ECF6\",\"radialaxis\":{\"gridcolor\":\"white\",\"linecolor\":\"white\",\"ticks\":\"\"}},\"scene\":{\"xaxis\":{\"backgroundcolor\":\"#E5ECF6\",\"gridcolor\":\"white\",\"gridwidth\":2,\"linecolor\":\"white\",\"showbackground\":true,\"ticks\":\"\",\"zerolinecolor\":\"white\"},\"yaxis\":{\"backgroundcolor\":\"#E5ECF6\",\"gridcolor\":\"white\",\"gridwidth\":2,\"linecolor\":\"white\",\"showbackground\":true,\"ticks\":\"\",\"zerolinecolor\":\"white\"},\"zaxis\":{\"backgroundcolor\":\"#E5ECF6\",\"gridcolor\":\"white\",\"gridwidth\":2,\"linecolor\":\"white\",\"showbackground\":true,\"ticks\":\"\",\"zerolinecolor\":\"white\"}},\"shapedefaults\":{\"line\":{\"color\":\"#2a3f5f\"}},\"ternary\":{\"aaxis\":{\"gridcolor\":\"white\",\"linecolor\":\"white\",\"ticks\":\"\"},\"baxis\":{\"gridcolor\":\"white\",\"linecolor\":\"white\",\"ticks\":\"\"},\"bgcolor\":\"#E5ECF6\",\"caxis\":{\"gridcolor\":\"white\",\"linecolor\":\"white\",\"ticks\":\"\"}},\"title\":{\"x\":0.05},\"xaxis\":{\"automargin\":true,\"gridcolor\":\"white\",\"linecolor\":\"white\",\"ticks\":\"\",\"title\":{\"standoff\":15},\"zerolinecolor\":\"white\",\"zerolinewidth\":2},\"yaxis\":{\"automargin\":true,\"gridcolor\":\"white\",\"linecolor\":\"white\",\"ticks\":\"\",\"title\":{\"standoff\":15},\"zerolinecolor\":\"white\",\"zerolinewidth\":2}}},\"title\":{\"font\":{\"color\":\"#151516\"},\"text\":\"In-state vs Out-of-state total individual contributions\"},\"xaxis\":{\"gridcolor\":\"#F6F6F6\",\"showgrid\":true,\"tickfont\":{\"color\":\"#666666\"},\"title\":{\"font\":{\"color\":\"#666666\"},\"text\":\"\"},\"zerolinecolor\":\"#F6F6F6\"},\"yaxis\":{\"gridcolor\":\"#F6F6F6\",\"showgrid\":true,\"tickfont\":{\"color\":\"#666666\"},\"title\":{\"font\":{\"color\":\"#666666\"},\"text\":\"\"},\"zerolinecolor\":\"#F6F6F6\"}},                        {\"showLink\": true, \"linkText\": \"Export to plot.ly\", \"plotlyServerURL\": \"https://plot.ly\", \"responsive\": true}                    ).then(function(){\n",
       "                            \n",
       "var gd = document.getElementById('b81ea073-a50e-4534-ac43-4b25a3117d40');\n",
       "var x = new MutationObserver(function (mutations, observer) {{\n",
       "        var display = window.getComputedStyle(gd).display;\n",
       "        if (!display || display === 'none') {{\n",
       "            console.log([gd, 'removed!']);\n",
       "            Plotly.purge(gd);\n",
       "            observer.disconnect();\n",
       "        }}\n",
       "}});\n",
       "\n",
       "// Listen for the removal of the full notebook cells\n",
       "var notebookContainer = gd.closest('#notebook-container');\n",
       "if (notebookContainer) {{\n",
       "    x.observe(notebookContainer, {childList: true});\n",
       "}}\n",
       "\n",
       "// Listen for the clearing of the current output cell\n",
       "var outputEl = gd.closest('.output');\n",
       "if (outputEl) {{\n",
       "    x.observe(outputEl, {childList: true});\n",
       "}}\n",
       "\n",
       "                        })                };                });            </script>        </div>"
      ]
     },
     "metadata": {},
     "output_type": "display_data"
    }
   ],
   "source": [
    "contribs_by_indivs['in_state'] = np.where(contribs_by_indivs['STATE'] == state, 'in-state', 'out-of-state')\n",
    "by_in_state = contribs_by_indivs.groupby(['CAND_NAME', 'in_state']).agg({'TRANSACTION_AMT': 'sum'}).reset_index()\n",
    "by_in_state.pivot_table(values='TRANSACTION_AMT', index='in_state', columns='CAND_NAME').iplot(kind='bar', colors=color_map, title='In-state vs Out-of-state total individual contributions')"
   ]
  },
  {
   "cell_type": "code",
   "execution_count": 56,
   "metadata": {
    "_kg_hide-input": true,
    "_kg_hide-output": true,
    "execution": {
     "iopub.execute_input": "2020-09-02T06:05:12.549776Z",
     "iopub.status.busy": "2020-09-02T06:05:12.549023Z",
     "iopub.status.idle": "2020-09-02T06:05:13.394994Z",
     "shell.execute_reply": "2020-09-02T06:05:13.395534Z"
    },
    "papermill": {
     "duration": 1.047904,
     "end_time": "2020-09-02T06:05:13.395735",
     "exception": false,
     "start_time": "2020-09-02T06:05:12.347831",
     "status": "completed"
    },
    "tags": []
   },
   "outputs": [
    {
     "data": {
      "text/html": [
       "<div>\n",
       "<style scoped>\n",
       "    .dataframe tbody tr th:only-of-type {\n",
       "        vertical-align: middle;\n",
       "    }\n",
       "\n",
       "    .dataframe tbody tr th {\n",
       "        vertical-align: top;\n",
       "    }\n",
       "\n",
       "    .dataframe thead th {\n",
       "        text-align: right;\n",
       "    }\n",
       "</style>\n",
       "<table border=\"1\" class=\"dataframe\">\n",
       "  <thead>\n",
       "    <tr style=\"text-align: right;\">\n",
       "      <th></th>\n",
       "      <th>STATE</th>\n",
       "      <th>CAND_NAME</th>\n",
       "      <th>TRANSACTION_AMT</th>\n",
       "    </tr>\n",
       "  </thead>\n",
       "  <tbody>\n",
       "    <tr>\n",
       "      <th>0</th>\n",
       "      <td>AA</td>\n",
       "      <td>CUNNINGHAM, CAL</td>\n",
       "      <td>11568</td>\n",
       "    </tr>\n",
       "    <tr>\n",
       "      <th>1</th>\n",
       "      <td>AA</td>\n",
       "      <td>TILLIS, THOM R. SEN.</td>\n",
       "      <td>40</td>\n",
       "    </tr>\n",
       "    <tr>\n",
       "      <th>2</th>\n",
       "      <td>AE</td>\n",
       "      <td>CUNNINGHAM, CAL</td>\n",
       "      <td>10412</td>\n",
       "    </tr>\n",
       "    <tr>\n",
       "      <th>3</th>\n",
       "      <td>AE</td>\n",
       "      <td>TILLIS, THOM R. SEN.</td>\n",
       "      <td>4139</td>\n",
       "    </tr>\n",
       "    <tr>\n",
       "      <th>4</th>\n",
       "      <td>AK</td>\n",
       "      <td>CUNNINGHAM, CAL</td>\n",
       "      <td>156673</td>\n",
       "    </tr>\n",
       "  </tbody>\n",
       "</table>\n",
       "</div>"
      ],
      "text/plain": [
       "  STATE             CAND_NAME  TRANSACTION_AMT\n",
       "0    AA       CUNNINGHAM, CAL            11568\n",
       "1    AA  TILLIS, THOM R. SEN.               40\n",
       "2    AE       CUNNINGHAM, CAL            10412\n",
       "3    AE  TILLIS, THOM R. SEN.             4139\n",
       "4    AK       CUNNINGHAM, CAL           156673"
      ]
     },
     "execution_count": 56,
     "metadata": {},
     "output_type": "execute_result"
    }
   ],
   "source": [
    "by_state_and_cand = contribs_by_indivs.groupby(['STATE', 'CAND_NAME']).agg({'TRANSACTION_AMT': 'sum'}).reset_index()\n",
    "by_state_and_cand.head()"
   ]
  },
  {
   "cell_type": "code",
   "execution_count": 57,
   "metadata": {
    "_kg_hide-input": true,
    "_kg_hide-output": true,
    "execution": {
     "iopub.execute_input": "2020-09-02T06:05:13.711223Z",
     "iopub.status.busy": "2020-09-02T06:05:13.710382Z",
     "iopub.status.idle": "2020-09-02T06:05:13.738015Z",
     "shell.execute_reply": "2020-09-02T06:05:13.737252Z"
    },
    "papermill": {
     "duration": 0.187283,
     "end_time": "2020-09-02T06:05:13.738169",
     "exception": false,
     "start_time": "2020-09-02T06:05:13.550886",
     "status": "completed"
    },
    "tags": []
   },
   "outputs": [
    {
     "data": {
      "text/html": [
       "<div>\n",
       "<style scoped>\n",
       "    .dataframe tbody tr th:only-of-type {\n",
       "        vertical-align: middle;\n",
       "    }\n",
       "\n",
       "    .dataframe tbody tr th {\n",
       "        vertical-align: top;\n",
       "    }\n",
       "\n",
       "    .dataframe thead th {\n",
       "        text-align: right;\n",
       "    }\n",
       "</style>\n",
       "<table border=\"1\" class=\"dataframe\">\n",
       "  <thead>\n",
       "    <tr style=\"text-align: right;\">\n",
       "      <th>CAND_NAME</th>\n",
       "      <th>STATE</th>\n",
       "      <th>CUNNINGHAM, CAL</th>\n",
       "      <th>TILLIS, THOM R. SEN.</th>\n",
       "    </tr>\n",
       "  </thead>\n",
       "  <tbody>\n",
       "    <tr>\n",
       "      <th>0</th>\n",
       "      <td>AA</td>\n",
       "      <td>11568.0</td>\n",
       "      <td>40.0</td>\n",
       "    </tr>\n",
       "    <tr>\n",
       "      <th>1</th>\n",
       "      <td>AE</td>\n",
       "      <td>10412.0</td>\n",
       "      <td>4139.0</td>\n",
       "    </tr>\n",
       "    <tr>\n",
       "      <th>2</th>\n",
       "      <td>AK</td>\n",
       "      <td>156673.0</td>\n",
       "      <td>541903.0</td>\n",
       "    </tr>\n",
       "    <tr>\n",
       "      <th>3</th>\n",
       "      <td>AL</td>\n",
       "      <td>378135.0</td>\n",
       "      <td>4080413.0</td>\n",
       "    </tr>\n",
       "    <tr>\n",
       "      <th>4</th>\n",
       "      <td>AP</td>\n",
       "      <td>1244.0</td>\n",
       "      <td>2591.0</td>\n",
       "    </tr>\n",
       "  </tbody>\n",
       "</table>\n",
       "</div>"
      ],
      "text/plain": [
       "CAND_NAME STATE  CUNNINGHAM, CAL  TILLIS, THOM R. SEN.\n",
       "0            AA          11568.0                  40.0\n",
       "1            AE          10412.0                4139.0\n",
       "2            AK         156673.0              541903.0\n",
       "3            AL         378135.0             4080413.0\n",
       "4            AP           1244.0                2591.0"
      ]
     },
     "execution_count": 57,
     "metadata": {},
     "output_type": "execute_result"
    }
   ],
   "source": [
    "by_state = by_state_and_cand.pivot_table(values='TRANSACTION_AMT', index='STATE', columns='CAND_NAME').reset_index()    \n",
    "cand_cols = set(by_state.columns) - {'STATE'}\n",
    "by_state.loc[:, cand_cols] = by_state[cand_cols].fillna(0.0)\n",
    "by_state.head()"
   ]
  },
  {
   "cell_type": "code",
   "execution_count": 58,
   "metadata": {
    "_kg_hide-input": true,
    "_kg_hide-output": true,
    "execution": {
     "iopub.execute_input": "2020-09-02T06:05:14.035786Z",
     "iopub.status.busy": "2020-09-02T06:05:14.034760Z",
     "iopub.status.idle": "2020-09-02T06:05:14.038960Z",
     "shell.execute_reply": "2020-09-02T06:05:14.038176Z"
    },
    "papermill": {
     "duration": 0.156148,
     "end_time": "2020-09-02T06:05:14.039092",
     "exception": false,
     "start_time": "2020-09-02T06:05:13.882944",
     "status": "completed"
    },
    "tags": []
   },
   "outputs": [],
   "source": [
    "if democrat not in by_state.columns:\n",
    "    by_state[democrat] = 0.0\n",
    "if republican not in by_state.columns:\n",
    "    by_state[republican] = 0.0"
   ]
  },
  {
   "cell_type": "code",
   "execution_count": 59,
   "metadata": {
    "_kg_hide-input": true,
    "_kg_hide-output": true,
    "execution": {
     "iopub.execute_input": "2020-09-02T06:05:14.348202Z",
     "iopub.status.busy": "2020-09-02T06:05:14.347214Z",
     "iopub.status.idle": "2020-09-02T06:05:14.351846Z",
     "shell.execute_reply": "2020-09-02T06:05:14.352371Z"
    },
    "papermill": {
     "duration": 0.168142,
     "end_time": "2020-09-02T06:05:14.352529",
     "exception": false,
     "start_time": "2020-09-02T06:05:14.184387",
     "status": "completed"
    },
    "tags": []
   },
   "outputs": [
    {
     "data": {
      "text/html": [
       "<div>\n",
       "<style scoped>\n",
       "    .dataframe tbody tr th:only-of-type {\n",
       "        vertical-align: middle;\n",
       "    }\n",
       "\n",
       "    .dataframe tbody tr th {\n",
       "        vertical-align: top;\n",
       "    }\n",
       "\n",
       "    .dataframe thead th {\n",
       "        text-align: right;\n",
       "    }\n",
       "</style>\n",
       "<table border=\"1\" class=\"dataframe\">\n",
       "  <thead>\n",
       "    <tr style=\"text-align: right;\">\n",
       "      <th>CAND_NAME</th>\n",
       "      <th>STATE</th>\n",
       "      <th>CUNNINGHAM, CAL</th>\n",
       "      <th>TILLIS, THOM R. SEN.</th>\n",
       "      <th>Total</th>\n",
       "      <th>Republican_versus_Total_Ratio</th>\n",
       "    </tr>\n",
       "  </thead>\n",
       "  <tbody>\n",
       "    <tr>\n",
       "      <th>0</th>\n",
       "      <td>AA</td>\n",
       "      <td>11568.0</td>\n",
       "      <td>40.0</td>\n",
       "      <td>11608.0</td>\n",
       "      <td>0.003446</td>\n",
       "    </tr>\n",
       "    <tr>\n",
       "      <th>1</th>\n",
       "      <td>AE</td>\n",
       "      <td>10412.0</td>\n",
       "      <td>4139.0</td>\n",
       "      <td>14551.0</td>\n",
       "      <td>0.284448</td>\n",
       "    </tr>\n",
       "    <tr>\n",
       "      <th>2</th>\n",
       "      <td>AK</td>\n",
       "      <td>156673.0</td>\n",
       "      <td>541903.0</td>\n",
       "      <td>698576.0</td>\n",
       "      <td>0.775725</td>\n",
       "    </tr>\n",
       "    <tr>\n",
       "      <th>3</th>\n",
       "      <td>AL</td>\n",
       "      <td>378135.0</td>\n",
       "      <td>4080413.0</td>\n",
       "      <td>4458548.0</td>\n",
       "      <td>0.915189</td>\n",
       "    </tr>\n",
       "    <tr>\n",
       "      <th>4</th>\n",
       "      <td>AP</td>\n",
       "      <td>1244.0</td>\n",
       "      <td>2591.0</td>\n",
       "      <td>3835.0</td>\n",
       "      <td>0.675619</td>\n",
       "    </tr>\n",
       "  </tbody>\n",
       "</table>\n",
       "</div>"
      ],
      "text/plain": [
       "CAND_NAME STATE  CUNNINGHAM, CAL  TILLIS, THOM R. SEN.      Total  \\\n",
       "0            AA          11568.0                  40.0    11608.0   \n",
       "1            AE          10412.0                4139.0    14551.0   \n",
       "2            AK         156673.0              541903.0   698576.0   \n",
       "3            AL         378135.0             4080413.0  4458548.0   \n",
       "4            AP           1244.0                2591.0     3835.0   \n",
       "\n",
       "CAND_NAME  Republican_versus_Total_Ratio  \n",
       "0                               0.003446  \n",
       "1                               0.284448  \n",
       "2                               0.775725  \n",
       "3                               0.915189  \n",
       "4                               0.675619  "
      ]
     },
     "execution_count": 59,
     "metadata": {},
     "output_type": "execute_result"
    }
   ],
   "source": [
    "by_state['Total'] = by_state[democrat] + by_state[republican]\n",
    "by_state['Republican_versus_Total_Ratio'] = by_state[republican]/by_state['Total']\n",
    "by_state.head()"
   ]
  },
  {
   "cell_type": "code",
   "execution_count": 60,
   "metadata": {
    "_kg_hide-input": true,
    "execution": {
     "iopub.execute_input": "2020-09-02T06:05:14.660897Z",
     "iopub.status.busy": "2020-09-02T06:05:14.660072Z",
     "iopub.status.idle": "2020-09-02T06:05:14.771667Z",
     "shell.execute_reply": "2020-09-02T06:05:14.772284Z"
    },
    "papermill": {
     "duration": 0.275111,
     "end_time": "2020-09-02T06:05:14.772459",
     "exception": false,
     "start_time": "2020-09-02T06:05:14.497348",
     "status": "completed"
    },
    "tags": []
   },
   "outputs": [
    {
     "data": {
      "application/vnd.plotly.v1+json": {
       "config": {
        "plotlyServerURL": "https://plot.ly"
       },
       "data": [
        {
         "coloraxis": "coloraxis",
         "customdata": [
          [
           11568,
           40
          ],
          [
           10412,
           4139
          ],
          [
           156673,
           541903
          ],
          [
           378135,
           4080413
          ],
          [
           1244,
           2591
          ],
          [
           188932,
           6748743
          ],
          [
           0,
           100
          ],
          [
           1011725,
           4094859
          ],
          [
           23876964,
           37846363
          ],
          [
           2159268,
           6549729
          ],
          [
           4453579,
           5974570
          ],
          [
           13203686,
           13122571
          ],
          [
           222930,
           997984
          ],
          [
           4197781,
           22456486
          ],
          [
           626398,
           15708025
          ],
          [
           250,
           31941
          ],
          [
           350706,
           350260
          ],
          [
           319305,
           2458443
          ],
          [
           195765,
           1271490
          ],
          [
           4836318,
           18283248
          ],
          [
           2769200,
           4468498
          ],
          [
           292398,
           10654555
          ],
          [
           336087,
           1952168
          ],
          [
           314160,
           2329994
          ],
          [
           7470812,
           9276332
          ],
          [
           4125178,
           4747202
          ],
          [
           480048,
           570121
          ],
          [
           1401254,
           8087384
          ],
          [
           1299942,
           5123031
          ],
          [
           883435,
           5541758
          ],
          [
           2080,
           1607
          ],
          [
           164985,
           1451614
          ],
          [
           181789,
           700820
          ],
          [
           3255556,
           8429869
          ],
          [
           45627,
           2778605
          ],
          [
           505388,
           2197986
          ],
          [
           527494,
           1087999
          ],
          [
           2125458,
           8479840
          ],
          [
           1160767,
           809477
          ],
          [
           777256,
           2463248
          ],
          [
           16602166,
           30304770
          ],
          [
           4349414,
           9063627
          ],
          [
           662300,
           4463983
          ],
          [
           1227575,
           2032561
          ],
          [
           2215061,
           10803587
          ],
          [
           41520,
           203782
          ],
          [
           425334,
           904706
          ],
          [
           300909,
           2755983
          ],
          [
           48448,
           844419
          ],
          [
           658939,
           7805630
          ],
          [
           3913605,
           33190683
          ],
          [
           391883,
           1431584
          ],
          [
           3235151,
           32661418
          ],
          [
           9600,
           10953
          ],
          [
           354137,
           178679
          ],
          [
           5016309,
           5757662
          ],
          [
           759655,
           3479733
          ],
          [
           101162,
           783606
          ],
          [
           281128,
           10682830
          ],
          [
           89558,
           118639
          ]
         ],
         "geo": "geo",
         "hovertemplate": "<b>%{hovertext}</b><br><br>STATE=%{location}<br>CUNNINGHAM, CAL=%{customdata[0]}<br>TILLIS, THOM R. SEN.=%{customdata[1]}<br>Republican_versus_Total_Ratio=%{z}<extra></extra>",
         "hovertext": [
          "AA",
          "AE",
          "AK",
          "AL",
          "AP",
          "AR",
          "AS",
          "AZ",
          "CA",
          "CO",
          "CT",
          "DC",
          "DE",
          "FL",
          "GA",
          "GU",
          "HI",
          "IA",
          "ID",
          "IL",
          "IN",
          "KS",
          "KY",
          "LA",
          "MA",
          "MD",
          "ME",
          "MI",
          "MN",
          "MO",
          "MP",
          "MS",
          "MT",
          "NC",
          "ND",
          "NE",
          "NH",
          "NJ",
          "NM",
          "NV",
          "NY",
          "OH",
          "OK",
          "OR",
          "PA",
          "PR",
          "RI",
          "SC",
          "SD",
          "TN",
          "TX",
          "UT",
          "VA",
          "VI",
          "VT",
          "WA",
          "WI",
          "WV",
          "WY",
          "ZZ"
         ],
         "locationmode": "USA-states",
         "locations": [
          "AA",
          "AE",
          "AK",
          "AL",
          "AP",
          "AR",
          "AS",
          "AZ",
          "CA",
          "CO",
          "CT",
          "DC",
          "DE",
          "FL",
          "GA",
          "GU",
          "HI",
          "IA",
          "ID",
          "IL",
          "IN",
          "KS",
          "KY",
          "LA",
          "MA",
          "MD",
          "ME",
          "MI",
          "MN",
          "MO",
          "MP",
          "MS",
          "MT",
          "NC",
          "ND",
          "NE",
          "NH",
          "NJ",
          "NM",
          "NV",
          "NY",
          "OH",
          "OK",
          "OR",
          "PA",
          "PR",
          "RI",
          "SC",
          "SD",
          "TN",
          "TX",
          "UT",
          "VA",
          "VI",
          "VT",
          "WA",
          "WI",
          "WV",
          "WY",
          "ZZ"
         ],
         "name": "",
         "type": "choropleth",
         "z": [
          0.0034458993797381117,
          0.2844478042746203,
          0.7757251895284121,
          0.9151887565189385,
          0.675619295958279,
          0.9727672455109241,
          1,
          0.8018783202234605,
          0.6131614227470272,
          0.7520646751859026,
          0.5729271800776916,
          0.4984594277872468,
          0.8174072866721162,
          0.842509981610074,
          0.9616516604228995,
          0.9922338541828462,
          0.4996818675941486,
          0.885048967724934,
          0.8665773842992527,
          0.7908127687171982,
          0.6173921597723475,
          0.9732895537233055,
          0.8531251980220735,
          0.8811869505331383,
          0.5539053106607311,
          0.5350539539559848,
          0.5428850023186744,
          0.8523229572041846,
          0.7976105457706267,
          0.8625045193194975,
          0.4358557092487117,
          0.8979431510226098,
          0.7940322385110508,
          0.7214002913886316,
          0.9838444575374827,
          0.813052873927174,
          0.6734780033092065,
          0.7995852638935746,
          0.4108511433101687,
          0.760143483853129,
          0.6460615973722947,
          0.6757324457593173,
          0.8708030750545765,
          0.623458959994307,
          0.8298547591116988,
          0.8307392520240356,
          0.680209617755857,
          0.9015637451372178,
          0.945738839043217,
          0.9221532720685484,
          0.8945241854526356,
          0.7850890638547339,
          0.9098757599925497,
          0.5329149029338782,
          0.3353484129605718,
          0.534404816942611,
          0.820810220720538,
          0.8856626821946544,
          0.9743588948443619,
          0.5698401033636412
         ]
        }
       ],
       "layout": {
        "coloraxis": {
         "cmax": 1,
         "cmin": 0,
         "colorbar": {
          "title": {
           "text": "Republican_versus_Total_Ratio"
          }
         },
         "colorscale": [
          [
           0,
           "rgb(0,0,255)"
          ],
          [
           1,
           "rgb(255,0,0)"
          ]
         ]
        },
        "geo": {
         "center": {},
         "domain": {
          "x": [
           0,
           1
          ],
          "y": [
           0,
           1
          ]
         },
         "scope": "usa"
        },
        "legend": {
         "tracegroupgap": 0
        },
        "template": {
         "data": {
          "bar": [
           {
            "error_x": {
             "color": "#2a3f5f"
            },
            "error_y": {
             "color": "#2a3f5f"
            },
            "marker": {
             "line": {
              "color": "#E5ECF6",
              "width": 0.5
             },
             "pattern": {
              "fillmode": "overlay",
              "size": 10,
              "solidity": 0.2
             }
            },
            "type": "bar"
           }
          ],
          "barpolar": [
           {
            "marker": {
             "line": {
              "color": "#E5ECF6",
              "width": 0.5
             },
             "pattern": {
              "fillmode": "overlay",
              "size": 10,
              "solidity": 0.2
             }
            },
            "type": "barpolar"
           }
          ],
          "carpet": [
           {
            "aaxis": {
             "endlinecolor": "#2a3f5f",
             "gridcolor": "white",
             "linecolor": "white",
             "minorgridcolor": "white",
             "startlinecolor": "#2a3f5f"
            },
            "baxis": {
             "endlinecolor": "#2a3f5f",
             "gridcolor": "white",
             "linecolor": "white",
             "minorgridcolor": "white",
             "startlinecolor": "#2a3f5f"
            },
            "type": "carpet"
           }
          ],
          "choropleth": [
           {
            "colorbar": {
             "outlinewidth": 0,
             "ticks": ""
            },
            "type": "choropleth"
           }
          ],
          "contour": [
           {
            "colorbar": {
             "outlinewidth": 0,
             "ticks": ""
            },
            "colorscale": [
             [
              0,
              "#0d0887"
             ],
             [
              0.1111111111111111,
              "#46039f"
             ],
             [
              0.2222222222222222,
              "#7201a8"
             ],
             [
              0.3333333333333333,
              "#9c179e"
             ],
             [
              0.4444444444444444,
              "#bd3786"
             ],
             [
              0.5555555555555556,
              "#d8576b"
             ],
             [
              0.6666666666666666,
              "#ed7953"
             ],
             [
              0.7777777777777778,
              "#fb9f3a"
             ],
             [
              0.8888888888888888,
              "#fdca26"
             ],
             [
              1,
              "#f0f921"
             ]
            ],
            "type": "contour"
           }
          ],
          "contourcarpet": [
           {
            "colorbar": {
             "outlinewidth": 0,
             "ticks": ""
            },
            "type": "contourcarpet"
           }
          ],
          "heatmap": [
           {
            "colorbar": {
             "outlinewidth": 0,
             "ticks": ""
            },
            "colorscale": [
             [
              0,
              "#0d0887"
             ],
             [
              0.1111111111111111,
              "#46039f"
             ],
             [
              0.2222222222222222,
              "#7201a8"
             ],
             [
              0.3333333333333333,
              "#9c179e"
             ],
             [
              0.4444444444444444,
              "#bd3786"
             ],
             [
              0.5555555555555556,
              "#d8576b"
             ],
             [
              0.6666666666666666,
              "#ed7953"
             ],
             [
              0.7777777777777778,
              "#fb9f3a"
             ],
             [
              0.8888888888888888,
              "#fdca26"
             ],
             [
              1,
              "#f0f921"
             ]
            ],
            "type": "heatmap"
           }
          ],
          "heatmapgl": [
           {
            "colorbar": {
             "outlinewidth": 0,
             "ticks": ""
            },
            "colorscale": [
             [
              0,
              "#0d0887"
             ],
             [
              0.1111111111111111,
              "#46039f"
             ],
             [
              0.2222222222222222,
              "#7201a8"
             ],
             [
              0.3333333333333333,
              "#9c179e"
             ],
             [
              0.4444444444444444,
              "#bd3786"
             ],
             [
              0.5555555555555556,
              "#d8576b"
             ],
             [
              0.6666666666666666,
              "#ed7953"
             ],
             [
              0.7777777777777778,
              "#fb9f3a"
             ],
             [
              0.8888888888888888,
              "#fdca26"
             ],
             [
              1,
              "#f0f921"
             ]
            ],
            "type": "heatmapgl"
           }
          ],
          "histogram": [
           {
            "marker": {
             "pattern": {
              "fillmode": "overlay",
              "size": 10,
              "solidity": 0.2
             }
            },
            "type": "histogram"
           }
          ],
          "histogram2d": [
           {
            "colorbar": {
             "outlinewidth": 0,
             "ticks": ""
            },
            "colorscale": [
             [
              0,
              "#0d0887"
             ],
             [
              0.1111111111111111,
              "#46039f"
             ],
             [
              0.2222222222222222,
              "#7201a8"
             ],
             [
              0.3333333333333333,
              "#9c179e"
             ],
             [
              0.4444444444444444,
              "#bd3786"
             ],
             [
              0.5555555555555556,
              "#d8576b"
             ],
             [
              0.6666666666666666,
              "#ed7953"
             ],
             [
              0.7777777777777778,
              "#fb9f3a"
             ],
             [
              0.8888888888888888,
              "#fdca26"
             ],
             [
              1,
              "#f0f921"
             ]
            ],
            "type": "histogram2d"
           }
          ],
          "histogram2dcontour": [
           {
            "colorbar": {
             "outlinewidth": 0,
             "ticks": ""
            },
            "colorscale": [
             [
              0,
              "#0d0887"
             ],
             [
              0.1111111111111111,
              "#46039f"
             ],
             [
              0.2222222222222222,
              "#7201a8"
             ],
             [
              0.3333333333333333,
              "#9c179e"
             ],
             [
              0.4444444444444444,
              "#bd3786"
             ],
             [
              0.5555555555555556,
              "#d8576b"
             ],
             [
              0.6666666666666666,
              "#ed7953"
             ],
             [
              0.7777777777777778,
              "#fb9f3a"
             ],
             [
              0.8888888888888888,
              "#fdca26"
             ],
             [
              1,
              "#f0f921"
             ]
            ],
            "type": "histogram2dcontour"
           }
          ],
          "mesh3d": [
           {
            "colorbar": {
             "outlinewidth": 0,
             "ticks": ""
            },
            "type": "mesh3d"
           }
          ],
          "parcoords": [
           {
            "line": {
             "colorbar": {
              "outlinewidth": 0,
              "ticks": ""
             }
            },
            "type": "parcoords"
           }
          ],
          "pie": [
           {
            "automargin": true,
            "type": "pie"
           }
          ],
          "scatter": [
           {
            "fillpattern": {
             "fillmode": "overlay",
             "size": 10,
             "solidity": 0.2
            },
            "type": "scatter"
           }
          ],
          "scatter3d": [
           {
            "line": {
             "colorbar": {
              "outlinewidth": 0,
              "ticks": ""
             }
            },
            "marker": {
             "colorbar": {
              "outlinewidth": 0,
              "ticks": ""
             }
            },
            "type": "scatter3d"
           }
          ],
          "scattercarpet": [
           {
            "marker": {
             "colorbar": {
              "outlinewidth": 0,
              "ticks": ""
             }
            },
            "type": "scattercarpet"
           }
          ],
          "scattergeo": [
           {
            "marker": {
             "colorbar": {
              "outlinewidth": 0,
              "ticks": ""
             }
            },
            "type": "scattergeo"
           }
          ],
          "scattergl": [
           {
            "marker": {
             "colorbar": {
              "outlinewidth": 0,
              "ticks": ""
             }
            },
            "type": "scattergl"
           }
          ],
          "scattermapbox": [
           {
            "marker": {
             "colorbar": {
              "outlinewidth": 0,
              "ticks": ""
             }
            },
            "type": "scattermapbox"
           }
          ],
          "scatterpolar": [
           {
            "marker": {
             "colorbar": {
              "outlinewidth": 0,
              "ticks": ""
             }
            },
            "type": "scatterpolar"
           }
          ],
          "scatterpolargl": [
           {
            "marker": {
             "colorbar": {
              "outlinewidth": 0,
              "ticks": ""
             }
            },
            "type": "scatterpolargl"
           }
          ],
          "scatterternary": [
           {
            "marker": {
             "colorbar": {
              "outlinewidth": 0,
              "ticks": ""
             }
            },
            "type": "scatterternary"
           }
          ],
          "surface": [
           {
            "colorbar": {
             "outlinewidth": 0,
             "ticks": ""
            },
            "colorscale": [
             [
              0,
              "#0d0887"
             ],
             [
              0.1111111111111111,
              "#46039f"
             ],
             [
              0.2222222222222222,
              "#7201a8"
             ],
             [
              0.3333333333333333,
              "#9c179e"
             ],
             [
              0.4444444444444444,
              "#bd3786"
             ],
             [
              0.5555555555555556,
              "#d8576b"
             ],
             [
              0.6666666666666666,
              "#ed7953"
             ],
             [
              0.7777777777777778,
              "#fb9f3a"
             ],
             [
              0.8888888888888888,
              "#fdca26"
             ],
             [
              1,
              "#f0f921"
             ]
            ],
            "type": "surface"
           }
          ],
          "table": [
           {
            "cells": {
             "fill": {
              "color": "#EBF0F8"
             },
             "line": {
              "color": "white"
             }
            },
            "header": {
             "fill": {
              "color": "#C8D4E3"
             },
             "line": {
              "color": "white"
             }
            },
            "type": "table"
           }
          ]
         },
         "layout": {
          "annotationdefaults": {
           "arrowcolor": "#2a3f5f",
           "arrowhead": 0,
           "arrowwidth": 1
          },
          "autotypenumbers": "strict",
          "coloraxis": {
           "colorbar": {
            "outlinewidth": 0,
            "ticks": ""
           }
          },
          "colorscale": {
           "diverging": [
            [
             0,
             "#8e0152"
            ],
            [
             0.1,
             "#c51b7d"
            ],
            [
             0.2,
             "#de77ae"
            ],
            [
             0.3,
             "#f1b6da"
            ],
            [
             0.4,
             "#fde0ef"
            ],
            [
             0.5,
             "#f7f7f7"
            ],
            [
             0.6,
             "#e6f5d0"
            ],
            [
             0.7,
             "#b8e186"
            ],
            [
             0.8,
             "#7fbc41"
            ],
            [
             0.9,
             "#4d9221"
            ],
            [
             1,
             "#276419"
            ]
           ],
           "sequential": [
            [
             0,
             "#0d0887"
            ],
            [
             0.1111111111111111,
             "#46039f"
            ],
            [
             0.2222222222222222,
             "#7201a8"
            ],
            [
             0.3333333333333333,
             "#9c179e"
            ],
            [
             0.4444444444444444,
             "#bd3786"
            ],
            [
             0.5555555555555556,
             "#d8576b"
            ],
            [
             0.6666666666666666,
             "#ed7953"
            ],
            [
             0.7777777777777778,
             "#fb9f3a"
            ],
            [
             0.8888888888888888,
             "#fdca26"
            ],
            [
             1,
             "#f0f921"
            ]
           ],
           "sequentialminus": [
            [
             0,
             "#0d0887"
            ],
            [
             0.1111111111111111,
             "#46039f"
            ],
            [
             0.2222222222222222,
             "#7201a8"
            ],
            [
             0.3333333333333333,
             "#9c179e"
            ],
            [
             0.4444444444444444,
             "#bd3786"
            ],
            [
             0.5555555555555556,
             "#d8576b"
            ],
            [
             0.6666666666666666,
             "#ed7953"
            ],
            [
             0.7777777777777778,
             "#fb9f3a"
            ],
            [
             0.8888888888888888,
             "#fdca26"
            ],
            [
             1,
             "#f0f921"
            ]
           ]
          },
          "colorway": [
           "#636efa",
           "#EF553B",
           "#00cc96",
           "#ab63fa",
           "#FFA15A",
           "#19d3f3",
           "#FF6692",
           "#B6E880",
           "#FF97FF",
           "#FECB52"
          ],
          "font": {
           "color": "#2a3f5f"
          },
          "geo": {
           "bgcolor": "white",
           "lakecolor": "white",
           "landcolor": "#E5ECF6",
           "showlakes": true,
           "showland": true,
           "subunitcolor": "white"
          },
          "hoverlabel": {
           "align": "left"
          },
          "hovermode": "closest",
          "mapbox": {
           "style": "light"
          },
          "paper_bgcolor": "white",
          "plot_bgcolor": "#E5ECF6",
          "polar": {
           "angularaxis": {
            "gridcolor": "white",
            "linecolor": "white",
            "ticks": ""
           },
           "bgcolor": "#E5ECF6",
           "radialaxis": {
            "gridcolor": "white",
            "linecolor": "white",
            "ticks": ""
           }
          },
          "scene": {
           "xaxis": {
            "backgroundcolor": "#E5ECF6",
            "gridcolor": "white",
            "gridwidth": 2,
            "linecolor": "white",
            "showbackground": true,
            "ticks": "",
            "zerolinecolor": "white"
           },
           "yaxis": {
            "backgroundcolor": "#E5ECF6",
            "gridcolor": "white",
            "gridwidth": 2,
            "linecolor": "white",
            "showbackground": true,
            "ticks": "",
            "zerolinecolor": "white"
           },
           "zaxis": {
            "backgroundcolor": "#E5ECF6",
            "gridcolor": "white",
            "gridwidth": 2,
            "linecolor": "white",
            "showbackground": true,
            "ticks": "",
            "zerolinecolor": "white"
           }
          },
          "shapedefaults": {
           "line": {
            "color": "#2a3f5f"
           }
          },
          "ternary": {
           "aaxis": {
            "gridcolor": "white",
            "linecolor": "white",
            "ticks": ""
           },
           "baxis": {
            "gridcolor": "white",
            "linecolor": "white",
            "ticks": ""
           },
           "bgcolor": "#E5ECF6",
           "caxis": {
            "gridcolor": "white",
            "linecolor": "white",
            "ticks": ""
           }
          },
          "title": {
           "x": 0.05
          },
          "xaxis": {
           "automargin": true,
           "gridcolor": "white",
           "linecolor": "white",
           "ticks": "",
           "title": {
            "standoff": 15
           },
           "zerolinecolor": "white",
           "zerolinewidth": 2
          },
          "yaxis": {
           "automargin": true,
           "gridcolor": "white",
           "linecolor": "white",
           "ticks": "",
           "title": {
            "standoff": 15
           },
           "zerolinecolor": "white",
           "zerolinewidth": 2
          }
         }
        },
        "title": {
         "text": "Total individual contributions for Republican vs Democrat by state"
        }
       }
      },
      "text/html": [
       "<div>                            <div id=\"20feb3a0-afba-4bf5-ac79-62da0141699a\" class=\"plotly-graph-div\" style=\"height:525px; width:100%;\"></div>            <script type=\"text/javascript\">                require([\"plotly\"], function(Plotly) {                    window.PLOTLYENV=window.PLOTLYENV || {};                                    if (document.getElementById(\"20feb3a0-afba-4bf5-ac79-62da0141699a\")) {                    Plotly.newPlot(                        \"20feb3a0-afba-4bf5-ac79-62da0141699a\",                        [{\"coloraxis\":\"coloraxis\",\"customdata\":[[11568.0,40.0],[10412.0,4139.0],[156673.0,541903.0],[378135.0,4080413.0],[1244.0,2591.0],[188932.0,6748743.0],[0.0,100.0],[1011725.0,4094859.0],[23876964.0,37846363.0],[2159268.0,6549729.0],[4453579.0,5974570.0],[13203686.0,13122571.0],[222930.0,997984.0],[4197781.0,22456486.0],[626398.0,15708025.0],[250.0,31941.0],[350706.0,350260.0],[319305.0,2458443.0],[195765.0,1271490.0],[4836318.0,18283248.0],[2769200.0,4468498.0],[292398.0,10654555.0],[336087.0,1952168.0],[314160.0,2329994.0],[7470812.0,9276332.0],[4125178.0,4747202.0],[480048.0,570121.0],[1401254.0,8087384.0],[1299942.0,5123031.0],[883435.0,5541758.0],[2080.0,1607.0],[164985.0,1451614.0],[181789.0,700820.0],[3255556.0,8429869.0],[45627.0,2778605.0],[505388.0,2197986.0],[527494.0,1087999.0],[2125458.0,8479840.0],[1160767.0,809477.0],[777256.0,2463248.0],[16602166.0,30304770.0],[4349414.0,9063627.0],[662300.0,4463983.0],[1227575.0,2032561.0],[2215061.0,10803587.0],[41520.0,203782.0],[425334.0,904706.0],[300909.0,2755983.0],[48448.0,844419.0],[658939.0,7805630.0],[3913605.0,33190683.0],[391883.0,1431584.0],[3235151.0,32661418.0],[9600.0,10953.0],[354137.0,178679.0],[5016309.0,5757662.0],[759655.0,3479733.0],[101162.0,783606.0],[281128.0,10682830.0],[89558.0,118639.0]],\"geo\":\"geo\",\"hovertemplate\":\"<b>%{hovertext}</b><br><br>STATE=%{location}<br>CUNNINGHAM, CAL=%{customdata[0]}<br>TILLIS, THOM R. SEN.=%{customdata[1]}<br>Republican_versus_Total_Ratio=%{z}<extra></extra>\",\"hovertext\":[\"AA\",\"AE\",\"AK\",\"AL\",\"AP\",\"AR\",\"AS\",\"AZ\",\"CA\",\"CO\",\"CT\",\"DC\",\"DE\",\"FL\",\"GA\",\"GU\",\"HI\",\"IA\",\"ID\",\"IL\",\"IN\",\"KS\",\"KY\",\"LA\",\"MA\",\"MD\",\"ME\",\"MI\",\"MN\",\"MO\",\"MP\",\"MS\",\"MT\",\"NC\",\"ND\",\"NE\",\"NH\",\"NJ\",\"NM\",\"NV\",\"NY\",\"OH\",\"OK\",\"OR\",\"PA\",\"PR\",\"RI\",\"SC\",\"SD\",\"TN\",\"TX\",\"UT\",\"VA\",\"VI\",\"VT\",\"WA\",\"WI\",\"WV\",\"WY\",\"ZZ\"],\"locationmode\":\"USA-states\",\"locations\":[\"AA\",\"AE\",\"AK\",\"AL\",\"AP\",\"AR\",\"AS\",\"AZ\",\"CA\",\"CO\",\"CT\",\"DC\",\"DE\",\"FL\",\"GA\",\"GU\",\"HI\",\"IA\",\"ID\",\"IL\",\"IN\",\"KS\",\"KY\",\"LA\",\"MA\",\"MD\",\"ME\",\"MI\",\"MN\",\"MO\",\"MP\",\"MS\",\"MT\",\"NC\",\"ND\",\"NE\",\"NH\",\"NJ\",\"NM\",\"NV\",\"NY\",\"OH\",\"OK\",\"OR\",\"PA\",\"PR\",\"RI\",\"SC\",\"SD\",\"TN\",\"TX\",\"UT\",\"VA\",\"VI\",\"VT\",\"WA\",\"WI\",\"WV\",\"WY\",\"ZZ\"],\"name\":\"\",\"z\":[0.0034458993797381117,0.2844478042746203,0.7757251895284121,0.9151887565189385,0.675619295958279,0.9727672455109241,1.0,0.8018783202234605,0.6131614227470272,0.7520646751859026,0.5729271800776916,0.4984594277872468,0.8174072866721162,0.842509981610074,0.9616516604228995,0.9922338541828462,0.4996818675941486,0.885048967724934,0.8665773842992527,0.7908127687171982,0.6173921597723475,0.9732895537233055,0.8531251980220735,0.8811869505331383,0.5539053106607311,0.5350539539559848,0.5428850023186744,0.8523229572041846,0.7976105457706267,0.8625045193194975,0.4358557092487117,0.8979431510226098,0.7940322385110508,0.7214002913886316,0.9838444575374827,0.813052873927174,0.6734780033092065,0.7995852638935746,0.4108511433101687,0.760143483853129,0.6460615973722947,0.6757324457593173,0.8708030750545765,0.623458959994307,0.8298547591116988,0.8307392520240356,0.680209617755857,0.9015637451372178,0.945738839043217,0.9221532720685484,0.8945241854526356,0.7850890638547339,0.9098757599925497,0.5329149029338782,0.3353484129605718,0.534404816942611,0.820810220720538,0.8856626821946544,0.9743588948443619,0.5698401033636412],\"type\":\"choropleth\"}],                        {\"template\":{\"data\":{\"histogram2dcontour\":[{\"type\":\"histogram2dcontour\",\"colorbar\":{\"outlinewidth\":0,\"ticks\":\"\"},\"colorscale\":[[0.0,\"#0d0887\"],[0.1111111111111111,\"#46039f\"],[0.2222222222222222,\"#7201a8\"],[0.3333333333333333,\"#9c179e\"],[0.4444444444444444,\"#bd3786\"],[0.5555555555555556,\"#d8576b\"],[0.6666666666666666,\"#ed7953\"],[0.7777777777777778,\"#fb9f3a\"],[0.8888888888888888,\"#fdca26\"],[1.0,\"#f0f921\"]]}],\"choropleth\":[{\"type\":\"choropleth\",\"colorbar\":{\"outlinewidth\":0,\"ticks\":\"\"}}],\"histogram2d\":[{\"type\":\"histogram2d\",\"colorbar\":{\"outlinewidth\":0,\"ticks\":\"\"},\"colorscale\":[[0.0,\"#0d0887\"],[0.1111111111111111,\"#46039f\"],[0.2222222222222222,\"#7201a8\"],[0.3333333333333333,\"#9c179e\"],[0.4444444444444444,\"#bd3786\"],[0.5555555555555556,\"#d8576b\"],[0.6666666666666666,\"#ed7953\"],[0.7777777777777778,\"#fb9f3a\"],[0.8888888888888888,\"#fdca26\"],[1.0,\"#f0f921\"]]}],\"heatmap\":[{\"type\":\"heatmap\",\"colorbar\":{\"outlinewidth\":0,\"ticks\":\"\"},\"colorscale\":[[0.0,\"#0d0887\"],[0.1111111111111111,\"#46039f\"],[0.2222222222222222,\"#7201a8\"],[0.3333333333333333,\"#9c179e\"],[0.4444444444444444,\"#bd3786\"],[0.5555555555555556,\"#d8576b\"],[0.6666666666666666,\"#ed7953\"],[0.7777777777777778,\"#fb9f3a\"],[0.8888888888888888,\"#fdca26\"],[1.0,\"#f0f921\"]]}],\"heatmapgl\":[{\"type\":\"heatmapgl\",\"colorbar\":{\"outlinewidth\":0,\"ticks\":\"\"},\"colorscale\":[[0.0,\"#0d0887\"],[0.1111111111111111,\"#46039f\"],[0.2222222222222222,\"#7201a8\"],[0.3333333333333333,\"#9c179e\"],[0.4444444444444444,\"#bd3786\"],[0.5555555555555556,\"#d8576b\"],[0.6666666666666666,\"#ed7953\"],[0.7777777777777778,\"#fb9f3a\"],[0.8888888888888888,\"#fdca26\"],[1.0,\"#f0f921\"]]}],\"contourcarpet\":[{\"type\":\"contourcarpet\",\"colorbar\":{\"outlinewidth\":0,\"ticks\":\"\"}}],\"contour\":[{\"type\":\"contour\",\"colorbar\":{\"outlinewidth\":0,\"ticks\":\"\"},\"colorscale\":[[0.0,\"#0d0887\"],[0.1111111111111111,\"#46039f\"],[0.2222222222222222,\"#7201a8\"],[0.3333333333333333,\"#9c179e\"],[0.4444444444444444,\"#bd3786\"],[0.5555555555555556,\"#d8576b\"],[0.6666666666666666,\"#ed7953\"],[0.7777777777777778,\"#fb9f3a\"],[0.8888888888888888,\"#fdca26\"],[1.0,\"#f0f921\"]]}],\"surface\":[{\"type\":\"surface\",\"colorbar\":{\"outlinewidth\":0,\"ticks\":\"\"},\"colorscale\":[[0.0,\"#0d0887\"],[0.1111111111111111,\"#46039f\"],[0.2222222222222222,\"#7201a8\"],[0.3333333333333333,\"#9c179e\"],[0.4444444444444444,\"#bd3786\"],[0.5555555555555556,\"#d8576b\"],[0.6666666666666666,\"#ed7953\"],[0.7777777777777778,\"#fb9f3a\"],[0.8888888888888888,\"#fdca26\"],[1.0,\"#f0f921\"]]}],\"mesh3d\":[{\"type\":\"mesh3d\",\"colorbar\":{\"outlinewidth\":0,\"ticks\":\"\"}}],\"scatter\":[{\"fillpattern\":{\"fillmode\":\"overlay\",\"size\":10,\"solidity\":0.2},\"type\":\"scatter\"}],\"parcoords\":[{\"type\":\"parcoords\",\"line\":{\"colorbar\":{\"outlinewidth\":0,\"ticks\":\"\"}}}],\"scatterpolargl\":[{\"type\":\"scatterpolargl\",\"marker\":{\"colorbar\":{\"outlinewidth\":0,\"ticks\":\"\"}}}],\"bar\":[{\"error_x\":{\"color\":\"#2a3f5f\"},\"error_y\":{\"color\":\"#2a3f5f\"},\"marker\":{\"line\":{\"color\":\"#E5ECF6\",\"width\":0.5},\"pattern\":{\"fillmode\":\"overlay\",\"size\":10,\"solidity\":0.2}},\"type\":\"bar\"}],\"scattergeo\":[{\"type\":\"scattergeo\",\"marker\":{\"colorbar\":{\"outlinewidth\":0,\"ticks\":\"\"}}}],\"scatterpolar\":[{\"type\":\"scatterpolar\",\"marker\":{\"colorbar\":{\"outlinewidth\":0,\"ticks\":\"\"}}}],\"histogram\":[{\"marker\":{\"pattern\":{\"fillmode\":\"overlay\",\"size\":10,\"solidity\":0.2}},\"type\":\"histogram\"}],\"scattergl\":[{\"type\":\"scattergl\",\"marker\":{\"colorbar\":{\"outlinewidth\":0,\"ticks\":\"\"}}}],\"scatter3d\":[{\"type\":\"scatter3d\",\"line\":{\"colorbar\":{\"outlinewidth\":0,\"ticks\":\"\"}},\"marker\":{\"colorbar\":{\"outlinewidth\":0,\"ticks\":\"\"}}}],\"scattermapbox\":[{\"type\":\"scattermapbox\",\"marker\":{\"colorbar\":{\"outlinewidth\":0,\"ticks\":\"\"}}}],\"scatterternary\":[{\"type\":\"scatterternary\",\"marker\":{\"colorbar\":{\"outlinewidth\":0,\"ticks\":\"\"}}}],\"scattercarpet\":[{\"type\":\"scattercarpet\",\"marker\":{\"colorbar\":{\"outlinewidth\":0,\"ticks\":\"\"}}}],\"carpet\":[{\"aaxis\":{\"endlinecolor\":\"#2a3f5f\",\"gridcolor\":\"white\",\"linecolor\":\"white\",\"minorgridcolor\":\"white\",\"startlinecolor\":\"#2a3f5f\"},\"baxis\":{\"endlinecolor\":\"#2a3f5f\",\"gridcolor\":\"white\",\"linecolor\":\"white\",\"minorgridcolor\":\"white\",\"startlinecolor\":\"#2a3f5f\"},\"type\":\"carpet\"}],\"table\":[{\"cells\":{\"fill\":{\"color\":\"#EBF0F8\"},\"line\":{\"color\":\"white\"}},\"header\":{\"fill\":{\"color\":\"#C8D4E3\"},\"line\":{\"color\":\"white\"}},\"type\":\"table\"}],\"barpolar\":[{\"marker\":{\"line\":{\"color\":\"#E5ECF6\",\"width\":0.5},\"pattern\":{\"fillmode\":\"overlay\",\"size\":10,\"solidity\":0.2}},\"type\":\"barpolar\"}],\"pie\":[{\"automargin\":true,\"type\":\"pie\"}]},\"layout\":{\"autotypenumbers\":\"strict\",\"colorway\":[\"#636efa\",\"#EF553B\",\"#00cc96\",\"#ab63fa\",\"#FFA15A\",\"#19d3f3\",\"#FF6692\",\"#B6E880\",\"#FF97FF\",\"#FECB52\"],\"font\":{\"color\":\"#2a3f5f\"},\"hovermode\":\"closest\",\"hoverlabel\":{\"align\":\"left\"},\"paper_bgcolor\":\"white\",\"plot_bgcolor\":\"#E5ECF6\",\"polar\":{\"bgcolor\":\"#E5ECF6\",\"angularaxis\":{\"gridcolor\":\"white\",\"linecolor\":\"white\",\"ticks\":\"\"},\"radialaxis\":{\"gridcolor\":\"white\",\"linecolor\":\"white\",\"ticks\":\"\"}},\"ternary\":{\"bgcolor\":\"#E5ECF6\",\"aaxis\":{\"gridcolor\":\"white\",\"linecolor\":\"white\",\"ticks\":\"\"},\"baxis\":{\"gridcolor\":\"white\",\"linecolor\":\"white\",\"ticks\":\"\"},\"caxis\":{\"gridcolor\":\"white\",\"linecolor\":\"white\",\"ticks\":\"\"}},\"coloraxis\":{\"colorbar\":{\"outlinewidth\":0,\"ticks\":\"\"}},\"colorscale\":{\"sequential\":[[0.0,\"#0d0887\"],[0.1111111111111111,\"#46039f\"],[0.2222222222222222,\"#7201a8\"],[0.3333333333333333,\"#9c179e\"],[0.4444444444444444,\"#bd3786\"],[0.5555555555555556,\"#d8576b\"],[0.6666666666666666,\"#ed7953\"],[0.7777777777777778,\"#fb9f3a\"],[0.8888888888888888,\"#fdca26\"],[1.0,\"#f0f921\"]],\"sequentialminus\":[[0.0,\"#0d0887\"],[0.1111111111111111,\"#46039f\"],[0.2222222222222222,\"#7201a8\"],[0.3333333333333333,\"#9c179e\"],[0.4444444444444444,\"#bd3786\"],[0.5555555555555556,\"#d8576b\"],[0.6666666666666666,\"#ed7953\"],[0.7777777777777778,\"#fb9f3a\"],[0.8888888888888888,\"#fdca26\"],[1.0,\"#f0f921\"]],\"diverging\":[[0,\"#8e0152\"],[0.1,\"#c51b7d\"],[0.2,\"#de77ae\"],[0.3,\"#f1b6da\"],[0.4,\"#fde0ef\"],[0.5,\"#f7f7f7\"],[0.6,\"#e6f5d0\"],[0.7,\"#b8e186\"],[0.8,\"#7fbc41\"],[0.9,\"#4d9221\"],[1,\"#276419\"]]},\"xaxis\":{\"gridcolor\":\"white\",\"linecolor\":\"white\",\"ticks\":\"\",\"title\":{\"standoff\":15},\"zerolinecolor\":\"white\",\"automargin\":true,\"zerolinewidth\":2},\"yaxis\":{\"gridcolor\":\"white\",\"linecolor\":\"white\",\"ticks\":\"\",\"title\":{\"standoff\":15},\"zerolinecolor\":\"white\",\"automargin\":true,\"zerolinewidth\":2},\"scene\":{\"xaxis\":{\"backgroundcolor\":\"#E5ECF6\",\"gridcolor\":\"white\",\"linecolor\":\"white\",\"showbackground\":true,\"ticks\":\"\",\"zerolinecolor\":\"white\",\"gridwidth\":2},\"yaxis\":{\"backgroundcolor\":\"#E5ECF6\",\"gridcolor\":\"white\",\"linecolor\":\"white\",\"showbackground\":true,\"ticks\":\"\",\"zerolinecolor\":\"white\",\"gridwidth\":2},\"zaxis\":{\"backgroundcolor\":\"#E5ECF6\",\"gridcolor\":\"white\",\"linecolor\":\"white\",\"showbackground\":true,\"ticks\":\"\",\"zerolinecolor\":\"white\",\"gridwidth\":2}},\"shapedefaults\":{\"line\":{\"color\":\"#2a3f5f\"}},\"annotationdefaults\":{\"arrowcolor\":\"#2a3f5f\",\"arrowhead\":0,\"arrowwidth\":1},\"geo\":{\"bgcolor\":\"white\",\"landcolor\":\"#E5ECF6\",\"subunitcolor\":\"white\",\"showland\":true,\"showlakes\":true,\"lakecolor\":\"white\"},\"title\":{\"x\":0.05},\"mapbox\":{\"style\":\"light\"}}},\"geo\":{\"domain\":{\"x\":[0.0,1.0],\"y\":[0.0,1.0]},\"center\":{},\"scope\":\"usa\"},\"coloraxis\":{\"colorbar\":{\"title\":{\"text\":\"Republican_versus_Total_Ratio\"}},\"colorscale\":[[0.0,\"rgb(0,0,255)\"],[1.0,\"rgb(255,0,0)\"]],\"cmin\":0,\"cmax\":1},\"legend\":{\"tracegroupgap\":0},\"title\":{\"text\":\"Total individual contributions for Republican vs Democrat by state\"}},                        {\"responsive\": true}                    ).then(function(){\n",
       "                            \n",
       "var gd = document.getElementById('20feb3a0-afba-4bf5-ac79-62da0141699a');\n",
       "var x = new MutationObserver(function (mutations, observer) {{\n",
       "        var display = window.getComputedStyle(gd).display;\n",
       "        if (!display || display === 'none') {{\n",
       "            console.log([gd, 'removed!']);\n",
       "            Plotly.purge(gd);\n",
       "            observer.disconnect();\n",
       "        }}\n",
       "}});\n",
       "\n",
       "// Listen for the removal of the full notebook cells\n",
       "var notebookContainer = gd.closest('#notebook-container');\n",
       "if (notebookContainer) {{\n",
       "    x.observe(notebookContainer, {childList: true});\n",
       "}}\n",
       "\n",
       "// Listen for the clearing of the current output cell\n",
       "var outputEl = gd.closest('.output');\n",
       "if (outputEl) {{\n",
       "    x.observe(outputEl, {childList: true});\n",
       "}}\n",
       "\n",
       "                        })                };                });            </script>        </div>"
      ]
     },
     "metadata": {},
     "output_type": "display_data"
    }
   ],
   "source": [
    "import plotly.express as px\n",
    "fig = px.choropleth(by_state, locations=\"STATE\", color=\"Republican_versus_Total_Ratio\", hover_name=\"STATE\", \n",
    "                    hover_data=[democrat, republican], color_continuous_scale='bluered',\n",
    "                    locationmode='USA-states', scope='usa', \n",
    "                    title='Total individual contributions for Republican vs Democrat by state',\n",
    "                    range_color=[0, 1])\n",
    "fig.show()"
   ]
  },
  {
   "cell_type": "code",
   "execution_count": 61,
   "metadata": {
    "_kg_hide-input": true,
    "_kg_hide-output": true,
    "execution": {
     "iopub.execute_input": "2020-09-02T06:05:15.098184Z",
     "iopub.status.busy": "2020-09-02T06:05:15.097205Z",
     "iopub.status.idle": "2020-09-02T06:05:15.409432Z",
     "shell.execute_reply": "2020-09-02T06:05:15.410019Z"
    },
    "papermill": {
     "duration": 0.478143,
     "end_time": "2020-09-02T06:05:15.410225",
     "exception": false,
     "start_time": "2020-09-02T06:05:14.932082",
     "status": "completed"
    },
    "tags": []
   },
   "outputs": [
    {
     "data": {
      "text/html": [
       "<div>\n",
       "<style scoped>\n",
       "    .dataframe tbody tr th:only-of-type {\n",
       "        vertical-align: middle;\n",
       "    }\n",
       "\n",
       "    .dataframe tbody tr th {\n",
       "        vertical-align: top;\n",
       "    }\n",
       "\n",
       "    .dataframe thead th {\n",
       "        text-align: right;\n",
       "    }\n",
       "</style>\n",
       "<table border=\"1\" class=\"dataframe\">\n",
       "  <thead>\n",
       "    <tr style=\"text-align: right;\">\n",
       "      <th></th>\n",
       "      <th>CMTE_ID</th>\n",
       "      <th>AMNDT_IND</th>\n",
       "      <th>RPT_TP</th>\n",
       "      <th>TRANSACTION_PGI</th>\n",
       "      <th>IMAGE_NUM</th>\n",
       "      <th>TRANSACTION_TP</th>\n",
       "      <th>ENTITY_TP</th>\n",
       "      <th>NAME</th>\n",
       "      <th>CITY</th>\n",
       "      <th>STATE</th>\n",
       "      <th>ZIP_CODE</th>\n",
       "      <th>EMPLOYER</th>\n",
       "      <th>OCCUPATION</th>\n",
       "      <th>TRANSACTION_DT</th>\n",
       "      <th>TRANSACTION_AMT</th>\n",
       "      <th>OTHER_ID</th>\n",
       "      <th>TRAN_ID</th>\n",
       "      <th>FILE_NUM</th>\n",
       "      <th>MEMO_CD</th>\n",
       "      <th>MEMO_TEXT</th>\n",
       "      <th>SUB_ID</th>\n",
       "      <th>CAND_NAME</th>\n",
       "      <th>in_state</th>\n",
       "      <th>YEAR_MONTH</th>\n",
       "    </tr>\n",
       "  </thead>\n",
       "  <tbody>\n",
       "    <tr>\n",
       "      <th>0</th>\n",
       "      <td>C00428110</td>\n",
       "      <td>N</td>\n",
       "      <td>M2</td>\n",
       "      <td>P</td>\n",
       "      <td>201902049145460549</td>\n",
       "      <td>15</td>\n",
       "      <td>IND</td>\n",
       "      <td>MATTHIES, KEVIN</td>\n",
       "      <td>WICHITA</td>\n",
       "      <td>KS</td>\n",
       "      <td>67210</td>\n",
       "      <td>SPIRIT AEROSYSTEMS INC</td>\n",
       "      <td>SENIOR VP/GENERAL MANAGER</td>\n",
       "      <td>2019-01-10</td>\n",
       "      <td>208</td>\n",
       "      <td>NaN</td>\n",
       "      <td>B000235S000077L11A1</td>\n",
       "      <td>1314300</td>\n",
       "      <td>NaN</td>\n",
       "      <td>NaN</td>\n",
       "      <td>4022620191644153387</td>\n",
       "      <td>TILLIS, THOM R. SEN.</td>\n",
       "      <td>out-of-state</td>\n",
       "      <td>2019-01</td>\n",
       "    </tr>\n",
       "    <tr>\n",
       "      <th>1</th>\n",
       "      <td>C00428110</td>\n",
       "      <td>N</td>\n",
       "      <td>M2</td>\n",
       "      <td>P</td>\n",
       "      <td>201902049145460548</td>\n",
       "      <td>15</td>\n",
       "      <td>IND</td>\n",
       "      <td>GENTILE, THOMAS C</td>\n",
       "      <td>WICHITA</td>\n",
       "      <td>KS</td>\n",
       "      <td>67210</td>\n",
       "      <td>SPIRIT AEROSYSTEMS INC</td>\n",
       "      <td>PRESIDENT &amp; CEO</td>\n",
       "      <td>2019-01-10</td>\n",
       "      <td>416</td>\n",
       "      <td>NaN</td>\n",
       "      <td>B000235S000036L11A1</td>\n",
       "      <td>1314300</td>\n",
       "      <td>NaN</td>\n",
       "      <td>NaN</td>\n",
       "      <td>4022620191644153384</td>\n",
       "      <td>TILLIS, THOM R. SEN.</td>\n",
       "      <td>out-of-state</td>\n",
       "      <td>2019-01</td>\n",
       "    </tr>\n",
       "    <tr>\n",
       "      <th>2</th>\n",
       "      <td>C00428110</td>\n",
       "      <td>N</td>\n",
       "      <td>M2</td>\n",
       "      <td>P</td>\n",
       "      <td>201902049145460548</td>\n",
       "      <td>15</td>\n",
       "      <td>IND</td>\n",
       "      <td>HAWKINS, DUANE F</td>\n",
       "      <td>WICHITA</td>\n",
       "      <td>KS</td>\n",
       "      <td>67210</td>\n",
       "      <td>SPIRIT AEROSYSTEMS INC</td>\n",
       "      <td>SENIOR VP/GENERAL MANAGER</td>\n",
       "      <td>2019-01-10</td>\n",
       "      <td>250</td>\n",
       "      <td>NaN</td>\n",
       "      <td>B000235S000045L11A1</td>\n",
       "      <td>1314300</td>\n",
       "      <td>NaN</td>\n",
       "      <td>NaN</td>\n",
       "      <td>4022620191644153385</td>\n",
       "      <td>TILLIS, THOM R. SEN.</td>\n",
       "      <td>out-of-state</td>\n",
       "      <td>2019-01</td>\n",
       "    </tr>\n",
       "    <tr>\n",
       "      <th>3</th>\n",
       "      <td>C00428110</td>\n",
       "      <td>N</td>\n",
       "      <td>M2</td>\n",
       "      <td>P</td>\n",
       "      <td>201902049145460548</td>\n",
       "      <td>15</td>\n",
       "      <td>IND</td>\n",
       "      <td>KONDROTIS, KRISSTIE A</td>\n",
       "      <td>WICHITA</td>\n",
       "      <td>KS</td>\n",
       "      <td>67210</td>\n",
       "      <td>SPIRIT AEROSYSTEMS INC</td>\n",
       "      <td>SVP BUSINESS DEVELOPMENT &amp; REGIO</td>\n",
       "      <td>2019-01-10</td>\n",
       "      <td>250</td>\n",
       "      <td>NaN</td>\n",
       "      <td>B000235S000062L11A1</td>\n",
       "      <td>1314300</td>\n",
       "      <td>NaN</td>\n",
       "      <td>NaN</td>\n",
       "      <td>4022620191644153386</td>\n",
       "      <td>TILLIS, THOM R. SEN.</td>\n",
       "      <td>out-of-state</td>\n",
       "      <td>2019-01</td>\n",
       "    </tr>\n",
       "    <tr>\n",
       "      <th>4</th>\n",
       "      <td>C00428110</td>\n",
       "      <td>N</td>\n",
       "      <td>M2</td>\n",
       "      <td>P</td>\n",
       "      <td>201902049145460549</td>\n",
       "      <td>15</td>\n",
       "      <td>IND</td>\n",
       "      <td>PILLA, JOHN ANTHONY</td>\n",
       "      <td>WICHITA</td>\n",
       "      <td>KS</td>\n",
       "      <td>67210</td>\n",
       "      <td>SPIRIT AEROSYSTEMS INC</td>\n",
       "      <td>SVP ENGINEERING AND CTO</td>\n",
       "      <td>2019-01-10</td>\n",
       "      <td>250</td>\n",
       "      <td>NaN</td>\n",
       "      <td>B000235S000090L11A1</td>\n",
       "      <td>1314300</td>\n",
       "      <td>NaN</td>\n",
       "      <td>NaN</td>\n",
       "      <td>4022620191644153388</td>\n",
       "      <td>TILLIS, THOM R. SEN.</td>\n",
       "      <td>out-of-state</td>\n",
       "      <td>2019-01</td>\n",
       "    </tr>\n",
       "  </tbody>\n",
       "</table>\n",
       "</div>"
      ],
      "text/plain": [
       "     CMTE_ID AMNDT_IND RPT_TP TRANSACTION_PGI           IMAGE_NUM  \\\n",
       "0  C00428110         N     M2               P  201902049145460549   \n",
       "1  C00428110         N     M2               P  201902049145460548   \n",
       "2  C00428110         N     M2               P  201902049145460548   \n",
       "3  C00428110         N     M2               P  201902049145460548   \n",
       "4  C00428110         N     M2               P  201902049145460549   \n",
       "\n",
       "  TRANSACTION_TP ENTITY_TP                   NAME     CITY STATE ZIP_CODE  \\\n",
       "0             15       IND        MATTHIES, KEVIN  WICHITA    KS    67210   \n",
       "1             15       IND      GENTILE, THOMAS C  WICHITA    KS    67210   \n",
       "2             15       IND       HAWKINS, DUANE F  WICHITA    KS    67210   \n",
       "3             15       IND  KONDROTIS, KRISSTIE A  WICHITA    KS    67210   \n",
       "4             15       IND    PILLA, JOHN ANTHONY  WICHITA    KS    67210   \n",
       "\n",
       "                 EMPLOYER                        OCCUPATION TRANSACTION_DT  \\\n",
       "0  SPIRIT AEROSYSTEMS INC         SENIOR VP/GENERAL MANAGER     2019-01-10   \n",
       "1  SPIRIT AEROSYSTEMS INC                   PRESIDENT & CEO     2019-01-10   \n",
       "2  SPIRIT AEROSYSTEMS INC         SENIOR VP/GENERAL MANAGER     2019-01-10   \n",
       "3  SPIRIT AEROSYSTEMS INC  SVP BUSINESS DEVELOPMENT & REGIO     2019-01-10   \n",
       "4  SPIRIT AEROSYSTEMS INC           SVP ENGINEERING AND CTO     2019-01-10   \n",
       "\n",
       "   TRANSACTION_AMT OTHER_ID              TRAN_ID  FILE_NUM MEMO_CD MEMO_TEXT  \\\n",
       "0              208      NaN  B000235S000077L11A1   1314300     NaN       NaN   \n",
       "1              416      NaN  B000235S000036L11A1   1314300     NaN       NaN   \n",
       "2              250      NaN  B000235S000045L11A1   1314300     NaN       NaN   \n",
       "3              250      NaN  B000235S000062L11A1   1314300     NaN       NaN   \n",
       "4              250      NaN  B000235S000090L11A1   1314300     NaN       NaN   \n",
       "\n",
       "                SUB_ID             CAND_NAME      in_state YEAR_MONTH  \n",
       "0  4022620191644153387  TILLIS, THOM R. SEN.  out-of-state    2019-01  \n",
       "1  4022620191644153384  TILLIS, THOM R. SEN.  out-of-state    2019-01  \n",
       "2  4022620191644153385  TILLIS, THOM R. SEN.  out-of-state    2019-01  \n",
       "3  4022620191644153386  TILLIS, THOM R. SEN.  out-of-state    2019-01  \n",
       "4  4022620191644153388  TILLIS, THOM R. SEN.  out-of-state    2019-01  "
      ]
     },
     "execution_count": 61,
     "metadata": {},
     "output_type": "execute_result"
    }
   ],
   "source": [
    "contribs_by_indivs['YEAR_MONTH'] = contribs_by_indivs['TRANSACTION_DT'].dt.to_period('M')\n",
    "contribs_by_indivs.head()"
   ]
  },
  {
   "cell_type": "code",
   "execution_count": 62,
   "metadata": {
    "_kg_hide-input": true,
    "_kg_hide-output": true,
    "execution": {
     "iopub.execute_input": "2020-09-02T06:05:15.731170Z",
     "iopub.status.busy": "2020-09-02T06:05:15.730015Z",
     "iopub.status.idle": "2020-09-02T06:05:16.567697Z",
     "shell.execute_reply": "2020-09-02T06:05:16.568593Z"
    },
    "papermill": {
     "duration": 1.001928,
     "end_time": "2020-09-02T06:05:16.568833",
     "exception": false,
     "start_time": "2020-09-02T06:05:15.566905",
     "status": "completed"
    },
    "tags": []
   },
   "outputs": [
    {
     "data": {
      "text/html": [
       "<div>\n",
       "<style scoped>\n",
       "    .dataframe tbody tr th:only-of-type {\n",
       "        vertical-align: middle;\n",
       "    }\n",
       "\n",
       "    .dataframe tbody tr th {\n",
       "        vertical-align: top;\n",
       "    }\n",
       "\n",
       "    .dataframe thead th {\n",
       "        text-align: right;\n",
       "    }\n",
       "</style>\n",
       "<table border=\"1\" class=\"dataframe\">\n",
       "  <thead>\n",
       "    <tr style=\"text-align: right;\">\n",
       "      <th></th>\n",
       "      <th>YEAR_MONTH</th>\n",
       "      <th>STATE</th>\n",
       "      <th>CAND_NAME</th>\n",
       "      <th>TRANSACTION_AMT</th>\n",
       "    </tr>\n",
       "  </thead>\n",
       "  <tbody>\n",
       "    <tr>\n",
       "      <th>0</th>\n",
       "      <td>2018-10</td>\n",
       "      <td>CA</td>\n",
       "      <td>TILLIS, THOM R. SEN.</td>\n",
       "      <td>800</td>\n",
       "    </tr>\n",
       "    <tr>\n",
       "      <th>1</th>\n",
       "      <td>2018-10</td>\n",
       "      <td>NV</td>\n",
       "      <td>TILLIS, THOM R. SEN.</td>\n",
       "      <td>450</td>\n",
       "    </tr>\n",
       "    <tr>\n",
       "      <th>2</th>\n",
       "      <td>2018-11</td>\n",
       "      <td>AR</td>\n",
       "      <td>TILLIS, THOM R. SEN.</td>\n",
       "      <td>156800</td>\n",
       "    </tr>\n",
       "    <tr>\n",
       "      <th>3</th>\n",
       "      <td>2018-11</td>\n",
       "      <td>AZ</td>\n",
       "      <td>TILLIS, THOM R. SEN.</td>\n",
       "      <td>7300</td>\n",
       "    </tr>\n",
       "    <tr>\n",
       "      <th>4</th>\n",
       "      <td>2018-11</td>\n",
       "      <td>FL</td>\n",
       "      <td>TILLIS, THOM R. SEN.</td>\n",
       "      <td>243400</td>\n",
       "    </tr>\n",
       "  </tbody>\n",
       "</table>\n",
       "</div>"
      ],
      "text/plain": [
       "  YEAR_MONTH STATE             CAND_NAME  TRANSACTION_AMT\n",
       "0    2018-10    CA  TILLIS, THOM R. SEN.              800\n",
       "1    2018-10    NV  TILLIS, THOM R. SEN.              450\n",
       "2    2018-11    AR  TILLIS, THOM R. SEN.           156800\n",
       "3    2018-11    AZ  TILLIS, THOM R. SEN.             7300\n",
       "4    2018-11    FL  TILLIS, THOM R. SEN.           243400"
      ]
     },
     "execution_count": 62,
     "metadata": {},
     "output_type": "execute_result"
    }
   ],
   "source": [
    "by_date_state_and_cand = contribs_by_indivs.groupby(['YEAR_MONTH', 'STATE', 'CAND_NAME']).agg({'TRANSACTION_AMT': 'sum'}).reset_index()\n",
    "by_date_state_and_cand.head()"
   ]
  },
  {
   "cell_type": "code",
   "execution_count": 63,
   "metadata": {
    "_kg_hide-input": true,
    "_kg_hide-output": true,
    "execution": {
     "iopub.execute_input": "2020-09-02T06:05:16.903878Z",
     "iopub.status.busy": "2020-09-02T06:05:16.902612Z",
     "iopub.status.idle": "2020-09-02T06:05:16.909673Z",
     "shell.execute_reply": "2020-09-02T06:05:16.908820Z"
    },
    "papermill": {
     "duration": 0.170685,
     "end_time": "2020-09-02T06:05:16.909832",
     "exception": false,
     "start_time": "2020-09-02T06:05:16.739147",
     "status": "completed"
    },
    "tags": []
   },
   "outputs": [
    {
     "data": {
      "text/plain": [
       "array(['TILLIS, THOM R. SEN.', 'CUNNINGHAM, CAL'], dtype=object)"
      ]
     },
     "execution_count": 63,
     "metadata": {},
     "output_type": "execute_result"
    }
   ],
   "source": [
    "dates = by_date_state_and_cand['YEAR_MONTH'].unique()\n",
    "states = by_date_state_and_cand['STATE'].unique()\n",
    "cands = by_date_state_and_cand['CAND_NAME'].unique()\n",
    "cands"
   ]
  },
  {
   "cell_type": "code",
   "execution_count": 64,
   "metadata": {
    "_kg_hide-input": true,
    "_kg_hide-output": true,
    "execution": {
     "iopub.execute_input": "2020-09-02T06:05:17.268556Z",
     "iopub.status.busy": "2020-09-02T06:05:17.267725Z",
     "iopub.status.idle": "2020-09-02T06:05:17.273461Z",
     "shell.execute_reply": "2020-09-02T06:05:17.272716Z"
    },
    "papermill": {
     "duration": 0.201356,
     "end_time": "2020-09-02T06:05:17.273642",
     "exception": false,
     "start_time": "2020-09-02T06:05:17.072286",
     "status": "completed"
    },
    "tags": []
   },
   "outputs": [
    {
     "data": {
      "text/html": [
       "<div>\n",
       "<style scoped>\n",
       "    .dataframe tbody tr th:only-of-type {\n",
       "        vertical-align: middle;\n",
       "    }\n",
       "\n",
       "    .dataframe tbody tr th {\n",
       "        vertical-align: top;\n",
       "    }\n",
       "\n",
       "    .dataframe thead th {\n",
       "        text-align: right;\n",
       "    }\n",
       "</style>\n",
       "<table border=\"1\" class=\"dataframe\">\n",
       "  <thead>\n",
       "    <tr style=\"text-align: right;\">\n",
       "      <th></th>\n",
       "      <th>YEAR_MONTH</th>\n",
       "      <th>STATE</th>\n",
       "      <th>CAND_NAME</th>\n",
       "      <th>TRANSACTION_AMT</th>\n",
       "    </tr>\n",
       "  </thead>\n",
       "  <tbody>\n",
       "    <tr>\n",
       "      <th>0</th>\n",
       "      <td>2018-10</td>\n",
       "      <td>CA</td>\n",
       "      <td>TILLIS, THOM R. SEN.</td>\n",
       "      <td>0.0</td>\n",
       "    </tr>\n",
       "    <tr>\n",
       "      <th>1</th>\n",
       "      <td>2018-10</td>\n",
       "      <td>CA</td>\n",
       "      <td>CUNNINGHAM, CAL</td>\n",
       "      <td>0.0</td>\n",
       "    </tr>\n",
       "    <tr>\n",
       "      <th>2</th>\n",
       "      <td>2018-10</td>\n",
       "      <td>NV</td>\n",
       "      <td>TILLIS, THOM R. SEN.</td>\n",
       "      <td>0.0</td>\n",
       "    </tr>\n",
       "    <tr>\n",
       "      <th>3</th>\n",
       "      <td>2018-10</td>\n",
       "      <td>NV</td>\n",
       "      <td>CUNNINGHAM, CAL</td>\n",
       "      <td>0.0</td>\n",
       "    </tr>\n",
       "    <tr>\n",
       "      <th>4</th>\n",
       "      <td>2018-10</td>\n",
       "      <td>AR</td>\n",
       "      <td>TILLIS, THOM R. SEN.</td>\n",
       "      <td>0.0</td>\n",
       "    </tr>\n",
       "  </tbody>\n",
       "</table>\n",
       "</div>"
      ],
      "text/plain": [
       "  YEAR_MONTH STATE             CAND_NAME  TRANSACTION_AMT\n",
       "0    2018-10    CA  TILLIS, THOM R. SEN.              0.0\n",
       "1    2018-10    CA       CUNNINGHAM, CAL              0.0\n",
       "2    2018-10    NV  TILLIS, THOM R. SEN.              0.0\n",
       "3    2018-10    NV       CUNNINGHAM, CAL              0.0\n",
       "4    2018-10    AR  TILLIS, THOM R. SEN.              0.0"
      ]
     },
     "execution_count": 64,
     "metadata": {},
     "output_type": "execute_result"
    }
   ],
   "source": [
    "by_date_state_and_cand_skel = pd.DataFrame([{'YEAR_MONTH': date, 'STATE': state, 'CAND_NAME': cand} for date in dates for state in states for cand in cands])\n",
    "by_date_state_and_cand_skel['TRANSACTION_AMT'] = 0.0\n",
    "by_date_state_and_cand_skel.head()"
   ]
  },
  {
   "cell_type": "code",
   "execution_count": 65,
   "metadata": {
    "_kg_hide-input": true,
    "_kg_hide-output": true,
    "execution": {
     "iopub.execute_input": "2020-09-02T06:05:17.598590Z",
     "iopub.status.busy": "2020-09-02T06:05:17.596179Z",
     "iopub.status.idle": "2020-09-02T06:05:17.620683Z",
     "shell.execute_reply": "2020-09-02T06:05:17.620091Z"
    },
    "papermill": {
     "duration": 0.190873,
     "end_time": "2020-09-02T06:05:17.620848",
     "exception": false,
     "start_time": "2020-09-02T06:05:17.429975",
     "status": "completed"
    },
    "tags": []
   },
   "outputs": [
    {
     "data": {
      "text/html": [
       "<div>\n",
       "<style scoped>\n",
       "    .dataframe tbody tr th:only-of-type {\n",
       "        vertical-align: middle;\n",
       "    }\n",
       "\n",
       "    .dataframe tbody tr th {\n",
       "        vertical-align: top;\n",
       "    }\n",
       "\n",
       "    .dataframe thead th {\n",
       "        text-align: right;\n",
       "    }\n",
       "</style>\n",
       "<table border=\"1\" class=\"dataframe\">\n",
       "  <thead>\n",
       "    <tr style=\"text-align: right;\">\n",
       "      <th></th>\n",
       "      <th>YEAR_MONTH</th>\n",
       "      <th>STATE</th>\n",
       "      <th>CAND_NAME</th>\n",
       "      <th>TRANSACTION_AMT</th>\n",
       "    </tr>\n",
       "  </thead>\n",
       "  <tbody>\n",
       "    <tr>\n",
       "      <th>0</th>\n",
       "      <td>2018-10</td>\n",
       "      <td>CA</td>\n",
       "      <td>TILLIS, THOM R. SEN.</td>\n",
       "      <td>800.0</td>\n",
       "    </tr>\n",
       "    <tr>\n",
       "      <th>1</th>\n",
       "      <td>2018-10</td>\n",
       "      <td>CA</td>\n",
       "      <td>CUNNINGHAM, CAL</td>\n",
       "      <td>0.0</td>\n",
       "    </tr>\n",
       "    <tr>\n",
       "      <th>2</th>\n",
       "      <td>2018-10</td>\n",
       "      <td>NV</td>\n",
       "      <td>TILLIS, THOM R. SEN.</td>\n",
       "      <td>450.0</td>\n",
       "    </tr>\n",
       "    <tr>\n",
       "      <th>3</th>\n",
       "      <td>2018-10</td>\n",
       "      <td>NV</td>\n",
       "      <td>CUNNINGHAM, CAL</td>\n",
       "      <td>0.0</td>\n",
       "    </tr>\n",
       "    <tr>\n",
       "      <th>4</th>\n",
       "      <td>2018-10</td>\n",
       "      <td>AR</td>\n",
       "      <td>TILLIS, THOM R. SEN.</td>\n",
       "      <td>0.0</td>\n",
       "    </tr>\n",
       "  </tbody>\n",
       "</table>\n",
       "</div>"
      ],
      "text/plain": [
       "  YEAR_MONTH STATE             CAND_NAME  TRANSACTION_AMT\n",
       "0    2018-10    CA  TILLIS, THOM R. SEN.            800.0\n",
       "1    2018-10    CA       CUNNINGHAM, CAL              0.0\n",
       "2    2018-10    NV  TILLIS, THOM R. SEN.            450.0\n",
       "3    2018-10    NV       CUNNINGHAM, CAL              0.0\n",
       "4    2018-10    AR  TILLIS, THOM R. SEN.              0.0"
      ]
     },
     "execution_count": 65,
     "metadata": {},
     "output_type": "execute_result"
    }
   ],
   "source": [
    "by_date_state_and_cand = by_date_state_and_cand_skel.merge(by_date_state_and_cand, how='left', on=['YEAR_MONTH', 'STATE', 'CAND_NAME'])\n",
    "by_date_state_and_cand['TRANSACTION_AMT'] = np.where(by_date_state_and_cand['TRANSACTION_AMT_y'].isnull(), by_date_state_and_cand['TRANSACTION_AMT_x'], by_date_state_and_cand['TRANSACTION_AMT_y'])\n",
    "by_date_state_and_cand = by_date_state_and_cand.drop('TRANSACTION_AMT_x', axis=1).drop('TRANSACTION_AMT_y', axis=1)\n",
    "by_date_state_and_cand.head()"
   ]
  },
  {
   "cell_type": "code",
   "execution_count": 66,
   "metadata": {
    "_kg_hide-input": true,
    "_kg_hide-output": true,
    "execution": {
     "iopub.execute_input": "2020-09-02T06:05:17.990904Z",
     "iopub.status.busy": "2020-09-02T06:05:17.989735Z",
     "iopub.status.idle": "2020-09-02T06:05:18.017957Z",
     "shell.execute_reply": "2020-09-02T06:05:18.017338Z"
    },
    "papermill": {
     "duration": 0.192573,
     "end_time": "2020-09-02T06:05:18.018107",
     "exception": false,
     "start_time": "2020-09-02T06:05:17.825534",
     "status": "completed"
    },
    "tags": []
   },
   "outputs": [
    {
     "data": {
      "text/html": [
       "<div>\n",
       "<style scoped>\n",
       "    .dataframe tbody tr th:only-of-type {\n",
       "        vertical-align: middle;\n",
       "    }\n",
       "\n",
       "    .dataframe tbody tr th {\n",
       "        vertical-align: top;\n",
       "    }\n",
       "\n",
       "    .dataframe thead th {\n",
       "        text-align: right;\n",
       "    }\n",
       "</style>\n",
       "<table border=\"1\" class=\"dataframe\">\n",
       "  <thead>\n",
       "    <tr style=\"text-align: right;\">\n",
       "      <th></th>\n",
       "      <th>YEAR_MONTH</th>\n",
       "      <th>STATE</th>\n",
       "      <th>CAND_NAME</th>\n",
       "      <th>TRANSACTION_AMT</th>\n",
       "    </tr>\n",
       "  </thead>\n",
       "  <tbody>\n",
       "    <tr>\n",
       "      <th>0</th>\n",
       "      <td>2018-10</td>\n",
       "      <td>CA</td>\n",
       "      <td>TILLIS, THOM R. SEN.</td>\n",
       "      <td>800.0</td>\n",
       "    </tr>\n",
       "    <tr>\n",
       "      <th>1</th>\n",
       "      <td>2018-10</td>\n",
       "      <td>OH</td>\n",
       "      <td>CUNNINGHAM, CAL</td>\n",
       "      <td>0.0</td>\n",
       "    </tr>\n",
       "    <tr>\n",
       "      <th>2</th>\n",
       "      <td>2018-10</td>\n",
       "      <td>OH</td>\n",
       "      <td>TILLIS, THOM R. SEN.</td>\n",
       "      <td>0.0</td>\n",
       "    </tr>\n",
       "    <tr>\n",
       "      <th>3</th>\n",
       "      <td>2018-10</td>\n",
       "      <td>NM</td>\n",
       "      <td>CUNNINGHAM, CAL</td>\n",
       "      <td>0.0</td>\n",
       "    </tr>\n",
       "    <tr>\n",
       "      <th>4</th>\n",
       "      <td>2018-10</td>\n",
       "      <td>NM</td>\n",
       "      <td>TILLIS, THOM R. SEN.</td>\n",
       "      <td>0.0</td>\n",
       "    </tr>\n",
       "  </tbody>\n",
       "</table>\n",
       "</div>"
      ],
      "text/plain": [
       "  YEAR_MONTH STATE             CAND_NAME  TRANSACTION_AMT\n",
       "0    2018-10    CA  TILLIS, THOM R. SEN.            800.0\n",
       "1    2018-10    OH       CUNNINGHAM, CAL              0.0\n",
       "2    2018-10    OH  TILLIS, THOM R. SEN.              0.0\n",
       "3    2018-10    NM       CUNNINGHAM, CAL              0.0\n",
       "4    2018-10    NM  TILLIS, THOM R. SEN.              0.0"
      ]
     },
     "execution_count": 66,
     "metadata": {},
     "output_type": "execute_result"
    }
   ],
   "source": [
    "by_date_state_and_cand = by_date_state_and_cand.sort_values('YEAR_MONTH').set_index(['YEAR_MONTH', 'STATE', 'CAND_NAME']).groupby(level=[1,2]).cumsum().reset_index()\n",
    "by_date_state_and_cand.head()"
   ]
  },
  {
   "cell_type": "code",
   "execution_count": 67,
   "metadata": {
    "_kg_hide-input": true,
    "_kg_hide-output": true,
    "execution": {
     "iopub.execute_input": "2020-09-02T06:05:18.349696Z",
     "iopub.status.busy": "2020-09-02T06:05:18.348589Z",
     "iopub.status.idle": "2020-09-02T06:05:18.385257Z",
     "shell.execute_reply": "2020-09-02T06:05:18.384600Z"
    },
    "papermill": {
     "duration": 0.203294,
     "end_time": "2020-09-02T06:05:18.385388",
     "exception": false,
     "start_time": "2020-09-02T06:05:18.182094",
     "status": "completed"
    },
    "tags": []
   },
   "outputs": [
    {
     "data": {
      "text/html": [
       "<div>\n",
       "<style scoped>\n",
       "    .dataframe tbody tr th:only-of-type {\n",
       "        vertical-align: middle;\n",
       "    }\n",
       "\n",
       "    .dataframe tbody tr th {\n",
       "        vertical-align: top;\n",
       "    }\n",
       "\n",
       "    .dataframe thead th {\n",
       "        text-align: right;\n",
       "    }\n",
       "</style>\n",
       "<table border=\"1\" class=\"dataframe\">\n",
       "  <thead>\n",
       "    <tr style=\"text-align: right;\">\n",
       "      <th>CAND_NAME</th>\n",
       "      <th>YEAR_MONTH</th>\n",
       "      <th>STATE</th>\n",
       "      <th>CUNNINGHAM, CAL</th>\n",
       "      <th>TILLIS, THOM R. SEN.</th>\n",
       "    </tr>\n",
       "  </thead>\n",
       "  <tbody>\n",
       "    <tr>\n",
       "      <th>0</th>\n",
       "      <td>2018-10</td>\n",
       "      <td>AA</td>\n",
       "      <td>0.0</td>\n",
       "      <td>0.0</td>\n",
       "    </tr>\n",
       "    <tr>\n",
       "      <th>1</th>\n",
       "      <td>2018-10</td>\n",
       "      <td>AE</td>\n",
       "      <td>0.0</td>\n",
       "      <td>0.0</td>\n",
       "    </tr>\n",
       "    <tr>\n",
       "      <th>2</th>\n",
       "      <td>2018-10</td>\n",
       "      <td>AK</td>\n",
       "      <td>0.0</td>\n",
       "      <td>0.0</td>\n",
       "    </tr>\n",
       "    <tr>\n",
       "      <th>3</th>\n",
       "      <td>2018-10</td>\n",
       "      <td>AL</td>\n",
       "      <td>0.0</td>\n",
       "      <td>0.0</td>\n",
       "    </tr>\n",
       "    <tr>\n",
       "      <th>4</th>\n",
       "      <td>2018-10</td>\n",
       "      <td>AP</td>\n",
       "      <td>0.0</td>\n",
       "      <td>0.0</td>\n",
       "    </tr>\n",
       "  </tbody>\n",
       "</table>\n",
       "</div>"
      ],
      "text/plain": [
       "CAND_NAME YEAR_MONTH STATE  CUNNINGHAM, CAL  TILLIS, THOM R. SEN.\n",
       "0            2018-10    AA              0.0                   0.0\n",
       "1            2018-10    AE              0.0                   0.0\n",
       "2            2018-10    AK              0.0                   0.0\n",
       "3            2018-10    AL              0.0                   0.0\n",
       "4            2018-10    AP              0.0                   0.0"
      ]
     },
     "execution_count": 67,
     "metadata": {},
     "output_type": "execute_result"
    }
   ],
   "source": [
    "by_date_state = by_date_state_and_cand.pivot_table(values='TRANSACTION_AMT', index=['YEAR_MONTH', 'STATE'], columns='CAND_NAME').reset_index()    \n",
    "cand_cols = set(by_date_state.columns) - {'YEAR_MONTH', 'STATE'}\n",
    "by_date_state.loc[:, cand_cols] = by_date_state[cand_cols].fillna(0.0)\n",
    "by_date_state.head()"
   ]
  },
  {
   "cell_type": "code",
   "execution_count": 68,
   "metadata": {
    "_kg_hide-input": true,
    "_kg_hide-output": true,
    "execution": {
     "iopub.execute_input": "2020-09-02T06:05:18.703745Z",
     "iopub.status.busy": "2020-09-02T06:05:18.702950Z",
     "iopub.status.idle": "2020-09-02T06:05:18.707232Z",
     "shell.execute_reply": "2020-09-02T06:05:18.706630Z"
    },
    "papermill": {
     "duration": 0.166689,
     "end_time": "2020-09-02T06:05:18.707370",
     "exception": false,
     "start_time": "2020-09-02T06:05:18.540681",
     "status": "completed"
    },
    "tags": []
   },
   "outputs": [],
   "source": [
    "if democrat not in by_date_state.columns:\n",
    "    by_date_state[democrat] = 0.0\n",
    "if republican not in by_date_state.columns:\n",
    "    by_date_state[republican] = 0.0"
   ]
  },
  {
   "cell_type": "code",
   "execution_count": 69,
   "metadata": {
    "_kg_hide-input": true,
    "_kg_hide-output": true,
    "execution": {
     "iopub.execute_input": "2020-09-02T06:05:19.048066Z",
     "iopub.status.busy": "2020-09-02T06:05:19.046904Z",
     "iopub.status.idle": "2020-09-02T06:05:19.078519Z",
     "shell.execute_reply": "2020-09-02T06:05:19.079088Z"
    },
    "papermill": {
     "duration": 0.20681,
     "end_time": "2020-09-02T06:05:19.079270",
     "exception": false,
     "start_time": "2020-09-02T06:05:18.872460",
     "status": "completed"
    },
    "tags": []
   },
   "outputs": [
    {
     "data": {
      "text/html": [
       "<div>\n",
       "<style scoped>\n",
       "    .dataframe tbody tr th:only-of-type {\n",
       "        vertical-align: middle;\n",
       "    }\n",
       "\n",
       "    .dataframe tbody tr th {\n",
       "        vertical-align: top;\n",
       "    }\n",
       "\n",
       "    .dataframe thead th {\n",
       "        text-align: right;\n",
       "    }\n",
       "</style>\n",
       "<table border=\"1\" class=\"dataframe\">\n",
       "  <thead>\n",
       "    <tr style=\"text-align: right;\">\n",
       "      <th>CAND_NAME</th>\n",
       "      <th>YEAR_MONTH</th>\n",
       "      <th>STATE</th>\n",
       "      <th>CUNNINGHAM, CAL</th>\n",
       "      <th>TILLIS, THOM R. SEN.</th>\n",
       "      <th>Total</th>\n",
       "      <th>RepublicanVsTotalRatio</th>\n",
       "    </tr>\n",
       "  </thead>\n",
       "  <tbody>\n",
       "    <tr>\n",
       "      <th>0</th>\n",
       "      <td>2018-10</td>\n",
       "      <td>AA</td>\n",
       "      <td>0.0</td>\n",
       "      <td>0.0</td>\n",
       "      <td>0.0</td>\n",
       "      <td>NaN</td>\n",
       "    </tr>\n",
       "    <tr>\n",
       "      <th>32</th>\n",
       "      <td>2018-10</td>\n",
       "      <td>MT</td>\n",
       "      <td>0.0</td>\n",
       "      <td>0.0</td>\n",
       "      <td>0.0</td>\n",
       "      <td>NaN</td>\n",
       "    </tr>\n",
       "    <tr>\n",
       "      <th>33</th>\n",
       "      <td>2018-10</td>\n",
       "      <td>NC</td>\n",
       "      <td>0.0</td>\n",
       "      <td>0.0</td>\n",
       "      <td>0.0</td>\n",
       "      <td>NaN</td>\n",
       "    </tr>\n",
       "    <tr>\n",
       "      <th>34</th>\n",
       "      <td>2018-10</td>\n",
       "      <td>ND</td>\n",
       "      <td>0.0</td>\n",
       "      <td>0.0</td>\n",
       "      <td>0.0</td>\n",
       "      <td>NaN</td>\n",
       "    </tr>\n",
       "    <tr>\n",
       "      <th>35</th>\n",
       "      <td>2018-10</td>\n",
       "      <td>NE</td>\n",
       "      <td>0.0</td>\n",
       "      <td>0.0</td>\n",
       "      <td>0.0</td>\n",
       "      <td>NaN</td>\n",
       "    </tr>\n",
       "  </tbody>\n",
       "</table>\n",
       "</div>"
      ],
      "text/plain": [
       "CAND_NAME YEAR_MONTH STATE  CUNNINGHAM, CAL  TILLIS, THOM R. SEN.  Total  \\\n",
       "0            2018-10    AA              0.0                   0.0    0.0   \n",
       "32           2018-10    MT              0.0                   0.0    0.0   \n",
       "33           2018-10    NC              0.0                   0.0    0.0   \n",
       "34           2018-10    ND              0.0                   0.0    0.0   \n",
       "35           2018-10    NE              0.0                   0.0    0.0   \n",
       "\n",
       "CAND_NAME  RepublicanVsTotalRatio  \n",
       "0                             NaN  \n",
       "32                            NaN  \n",
       "33                            NaN  \n",
       "34                            NaN  \n",
       "35                            NaN  "
      ]
     },
     "execution_count": 69,
     "metadata": {},
     "output_type": "execute_result"
    }
   ],
   "source": [
    "by_date_state['Total'] = by_date_state[democrat] + by_date_state[republican]\n",
    "by_date_state['RepublicanVsTotalRatio'] = by_date_state[republican]/by_date_state['Total']\n",
    "by_date_state = by_date_state.sort_values('YEAR_MONTH')\n",
    "by_date_state['YEAR_MONTH'] = by_date_state['YEAR_MONTH'].astype('str')\n",
    "by_date_state.head()"
   ]
  }
 ],
 "metadata": {
  "kernelspec": {
   "display_name": "Python 3 (ipykernel)",
   "language": "python",
   "name": "python3"
  },
  "language_info": {
   "codemirror_mode": {
    "name": "ipython",
    "version": 3
   },
   "file_extension": ".py",
   "mimetype": "text/x-python",
   "name": "python",
   "nbconvert_exporter": "python",
   "pygments_lexer": "ipython3",
   "version": "3.7.2"
  },
  "latex_envs": {
   "LaTeX_envs_menu_present": true,
   "autoclose": false,
   "autocomplete": true,
   "bibliofile": "biblio.bib",
   "cite_by": "apalike",
   "current_citInitial": 1,
   "eqLabelWithNumbers": true,
   "eqNumInitial": 1,
   "hotkeys": {
    "equation": "Ctrl-E",
    "itemize": "Ctrl-I"
   },
   "labels_anchors": false,
   "latex_user_defs": false,
   "report_style_numbering": false,
   "user_envs_cfg": false
  },
  "papermill": {
   "duration": 4312.974968,
   "end_time": "2020-09-02T06:05:20.564802",
   "environment_variables": {},
   "exception": null,
   "input_path": "__notebook__.ipynb",
   "output_path": "__notebook__.ipynb",
   "parameters": {},
   "start_time": "2020-09-02T04:53:27.589834",
   "version": "2.1.0"
  }
 },
 "nbformat": 4,
 "nbformat_minor": 4
}
