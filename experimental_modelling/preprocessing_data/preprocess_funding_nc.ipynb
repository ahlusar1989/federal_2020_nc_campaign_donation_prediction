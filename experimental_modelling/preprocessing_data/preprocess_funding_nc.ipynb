{
 "cells": [
  {
   "cell_type": "code",
   "execution_count": 54,
   "id": "b366012f",
   "metadata": {},
   "outputs": [],
   "source": [
    "import pandas as pd\n",
    "# https://github.com/derek73/python-nameparser\n",
    "from nameparser import HumanName"
   ]
  },
  {
   "cell_type": "code",
   "execution_count": 55,
   "id": "c16d94a4",
   "metadata": {},
   "outputs": [
    {
     "name": "stderr",
     "output_type": "stream",
     "text": [
      "/Users/sahluwalia/acre/lib/python3.7/site-packages/IPython/core/interactiveshell.py:3257: DtypeWarning: Columns (21,22,23) have mixed types.Specify dtype option on import or set low_memory=False.\n",
      "  interactivity=interactivity, compiler=compiler, result=result)\n"
     ]
    }
   ],
   "source": [
    "df = pd.read_csv(\"../data/transinq_results.csv\")"
   ]
  },
  {
   "cell_type": "code",
   "execution_count": 56,
   "id": "0493ac82",
   "metadata": {},
   "outputs": [],
   "source": [
    "df['Date Occured'] = pd.to_datetime(df['Date Occured'])"
   ]
  },
  {
   "cell_type": "code",
   "execution_count": 57,
   "id": "de13e557",
   "metadata": {},
   "outputs": [],
   "source": [
    "df['year_of_donation'] = df['Date Occured'].dt.year"
   ]
  },
  {
   "cell_type": "code",
   "execution_count": 58,
   "id": "89c226cc",
   "metadata": {},
   "outputs": [],
   "source": [
    "df = df.rename(columns={\"Employer's Name/Specific Field\": \"employer\"})"
   ]
  },
  {
   "cell_type": "code",
   "execution_count": 59,
   "id": "7f9d71ec",
   "metadata": {},
   "outputs": [
    {
     "data": {
      "text/plain": [
       "Index(['Name', 'Street Line 1', 'Street Line 2', 'City', 'State', 'Zip Code',\n",
       "       'Profession/Job Title', 'employer', 'Transction Type', 'Committee Name',\n",
       "       'Committee SBoE ID', 'Committee Street 1', 'Committee Street 2',\n",
       "       'Committee City', 'Committee State', 'Committee Zip Code',\n",
       "       'Report Name', 'Date Occured', 'Account Code', 'Amount',\n",
       "       'Form of Payment', 'Purpose', 'Candidate/Referendum Name',\n",
       "       'Declaration', 'year_of_donation'],\n",
       "      dtype='object')"
      ]
     },
     "execution_count": 59,
     "metadata": {},
     "output_type": "execute_result"
    }
   ],
   "source": [
    "df.columns"
   ]
  },
  {
   "cell_type": "code",
   "execution_count": 60,
   "id": "f038b732",
   "metadata": {},
   "outputs": [],
   "source": [
    "flattened = df.groupby(['Name','year_of_donation', 'City', 'State', 'Zip Code', 'employer',\n",
    "        'Profession/Job Title', 'Committee Name']).sum()['Amount'].reset_index()"
   ]
  },
  {
   "cell_type": "code",
   "execution_count": 61,
   "id": "045f94f9",
   "metadata": {},
   "outputs": [],
   "source": [
    "flattened['Zip Code'] = flattened['Zip Code'].apply(lambda x: str(x)[:5])"
   ]
  },
  {
   "cell_type": "code",
   "execution_count": 62,
   "id": "2e61edeb",
   "metadata": {},
   "outputs": [],
   "source": [
    "flattened['first_name'] = flattened['Name'].apply(lambda x: HumanName(str(x))['first'])\n",
    "flattened['last_name'] = flattened['Name'].apply(lambda x: HumanName(str(x))['last'])"
   ]
  },
  {
   "cell_type": "code",
   "execution_count": 63,
   "id": "5d29bc7b",
   "metadata": {},
   "outputs": [
    {
     "data": {
      "text/plain": [
       "(297164, 11)"
      ]
     },
     "execution_count": 63,
     "metadata": {},
     "output_type": "execute_result"
    }
   ],
   "source": [
    "flattened.shape"
   ]
  },
  {
   "cell_type": "code",
   "execution_count": 64,
   "id": "8d45608a",
   "metadata": {},
   "outputs": [
    {
     "data": {
      "text/plain": [
       "12957"
      ]
     },
     "execution_count": 64,
     "metadata": {},
     "output_type": "execute_result"
    }
   ],
   "source": [
    "flattened.first_name.nunique()"
   ]
  },
  {
   "cell_type": "code",
   "execution_count": 65,
   "id": "addac213",
   "metadata": {},
   "outputs": [
    {
     "data": {
      "text/plain": [
       "(44855, 11)"
      ]
     },
     "execution_count": 65,
     "metadata": {},
     "output_type": "execute_result"
    }
   ],
   "source": [
    "flattened[(flattened['year_of_donation'] == 2020) & (flattened['Amount'] > 0)].shape"
   ]
  },
  {
   "cell_type": "code",
   "execution_count": 67,
   "id": "a894631a",
   "metadata": {},
   "outputs": [
    {
     "data": {
      "text/plain": [
       "(167272,)"
      ]
     },
     "execution_count": 67,
     "metadata": {},
     "output_type": "execute_result"
    }
   ],
   "source": [
    "flattened.groupby(['City', 'State', 'Zip Code', 'employer',\n",
    "        'Profession/Job Title', 'Committee Name', 'first_name', 'last_name']).nunique()['year_of_donation'].shape"
   ]
  },
  {
   "cell_type": "code",
   "execution_count": 72,
   "id": "dee9444b",
   "metadata": {},
   "outputs": [],
   "source": [
    "flattened['last_name'] = flattened['last_name'].str.lower()\n",
    "\n",
    "flattened['first_name'] = flattened['first_name'].str.lower()"
   ]
  },
  {
   "cell_type": "code",
   "execution_count": null,
   "id": "02bb9b60",
   "metadata": {},
   "outputs": [],
   "source": [
    "# confirms that some NC voters did not donate in every year"
   ]
  },
  {
   "cell_type": "code",
   "execution_count": 74,
   "id": "4a19d408",
   "metadata": {},
   "outputs": [],
   "source": [
    "flattened.to_csv('../data/nc_contributions_clean.csv')"
   ]
  }
 ],
 "metadata": {
  "kernelspec": {
   "display_name": "Python 3 (ipykernel)",
   "language": "python",
   "name": "python3"
  },
  "language_info": {
   "codemirror_mode": {
    "name": "ipython",
    "version": 3
   },
   "file_extension": ".py",
   "mimetype": "text/x-python",
   "name": "python",
   "nbconvert_exporter": "python",
   "pygments_lexer": "ipython3",
   "version": "3.7.2"
  },
  "latex_envs": {
   "LaTeX_envs_menu_present": true,
   "autoclose": false,
   "autocomplete": true,
   "bibliofile": "biblio.bib",
   "cite_by": "apalike",
   "current_citInitial": 1,
   "eqLabelWithNumbers": true,
   "eqNumInitial": 1,
   "hotkeys": {
    "equation": "Ctrl-E",
    "itemize": "Ctrl-I"
   },
   "labels_anchors": false,
   "latex_user_defs": false,
   "report_style_numbering": false,
   "user_envs_cfg": false
  }
 },
 "nbformat": 4,
 "nbformat_minor": 5
}
