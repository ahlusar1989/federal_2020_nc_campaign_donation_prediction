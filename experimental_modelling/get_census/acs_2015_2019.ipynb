{
 "cells": [
  {
   "cell_type": "code",
   "execution_count": 3,
   "id": "c521dc0c",
   "metadata": {},
   "outputs": [],
   "source": [
    "import geopandas as gpd\n",
    "import census as gc\n",
    "import os\n",
    "import pandas as pd\n",
    "from shapely import geometry"
   ]
  },
  {
   "cell_type": "code",
   "execution_count": 17,
   "id": "352666db",
   "metadata": {},
   "outputs": [],
   "source": [
    "# which census dataset\n",
    "dataset = 'acs/acs5'\n",
    "\n",
    "# which vintage year\n",
    "year = 2019\n",
    "\n",
    "# which census variables to retrieve for each tract\n",
    "variables = {'DP05_0001E':'total_pop',    #total pop\n",
    "             'DP05_0018E':'median_age',    #median age\n",
    "             'DP05_0071PE':'pct_hispanic',   #pct pop hispanic or latino\n",
    "             'DP05_0077PE':'pct_white',   #pct pop non-hispanic white alone\n",
    "             'DP05_0078PE':'pct_black',   #pct pop non-hispanic black\n",
    "             'DP05_0080E':'pct_asian',   #pct pop non-hispanic asian\n",
    "             'DP05_0002PE':'pct_male',   #pct pop male\n",
    "             'DP04_0007PE':'pct_single_family_home',   #pct single family detached homes\n",
    "             'DP04_0089E':'med_home_value',    #median value of owner occupied units (dollars)\n",
    "             'DP04_0037E':'med_rooms_per_home',    #median number of rooms in house\n",
    "             'DP04_0026PE':'pct_built_before_1940',   #pct structure built 1939 or earlier\n",
    "             'DP04_0047PE':'pct_renting',   #pct renter-occupied housing units\n",
    "             'DP04_0005E':'rental_vacancy_rate',    #rental vacancy rate\n",
    "             'DP04_0049E':'avg_renter_household_size',    #average household size of renter-occupied housing units\n",
    "             'DP04_0134E':'med_gross_rent',    #median gross rent (dollars)\n",
    "             'DP03_0062E':'med_household_income',    #median household income\n",
    "             'DP03_0025E':'mean_commute_time',    #mean travel time to work\n",
    "             'DP03_0019PE':'pct_commute_drive_alone',   #pct commute drove alone\n",
    "             'DP03_0128PE':'pct_below_poverty',   #pct people with income below povery level\n",
    "             'DP02_0057PE':'pct_college_grad_student',   #pct who are students currently enrolled in college or grad school\n",
    "             'DP02_0079PE':'pct_same_residence_year_ago',   #pct residence 1 year ago was same house\n",
    "             'DP02_0067PE':'pct_bachelors_degree',   #pct bachelor's degree or higher\n",
    "             'DP02_0111PE':'pct_english_only',   #pct with english only language spoken at home\n",
    "             'DP02_0092PE':'pct_foreign_born'}   #pct of population foreign born\n",
    "\n",
    "# data directories\n",
    "# Sourced from https://www2.census.gov/geo/tiger/TIGER2019/TRACT/\n",
    "tracts_path = 'tl_2019_37_tract'"
   ]
  },
  {
   "cell_type": "code",
   "execution_count": 6,
   "id": "514f6af1",
   "metadata": {},
   "outputs": [
    {
     "name": "stdout",
     "output_type": "stream",
     "text": [
      "total_pop\tEstimate!!SEX AND AGE!!Total population\n",
      "median_age\tEstimate!!SEX AND AGE!!Total population!!Median age (years)\n",
      "pct_hispanic\tPercent!!HISPANIC OR LATINO AND RACE!!Total population!!Hispanic or Latino (of any race)\n",
      "pct_white\tPercent!!HISPANIC OR LATINO AND RACE!!Total population!!Not Hispanic or Latino!!White alone\n",
      "pct_black\tPercent!!HISPANIC OR LATINO AND RACE!!Total population!!Not Hispanic or Latino!!Black or African American alone\n",
      "pct_asian\tEstimate!!HISPANIC OR LATINO AND RACE!!Total population!!Not Hispanic or Latino!!Asian alone\n",
      "pct_male\tPercent!!SEX AND AGE!!Total population!!Male\n",
      "pct_single_family_home\tPercent!!UNITS IN STRUCTURE!!Total housing units!!1-unit, detached\n",
      "med_home_value\tEstimate!!VALUE!!Owner-occupied units!!Median (dollars)\n",
      "med_rooms_per_home\tEstimate!!ROOMS!!Total housing units!!Median rooms\n",
      "pct_built_before_1940\tPercent!!YEAR STRUCTURE BUILT!!Total housing units!!Built 1939 or earlier\n",
      "pct_renting\tPercent!!HOUSING TENURE!!Occupied housing units!!Renter-occupied\n",
      "rental_vacancy_rate\tEstimate!!HOUSING OCCUPANCY!!Total housing units!!Rental vacancy rate\n",
      "avg_renter_household_size\tEstimate!!HOUSING TENURE!!Occupied housing units!!Average household size of renter-occupied unit\n",
      "med_gross_rent\tEstimate!!GROSS RENT!!Occupied units paying rent!!Median (dollars)\n",
      "med_household_income\tEstimate!!INCOME AND BENEFITS (IN 2019 INFLATION-ADJUSTED DOLLARS)!!Total households!!Median household income (dollars)\n",
      "mean_commute_time\tEstimate!!COMMUTING TO WORK!!Workers 16 years and over!!Mean travel time to work (minutes)\n",
      "pct_commute_drive_alone\tPercent!!COMMUTING TO WORK!!Workers 16 years and over!!Car, truck, or van -- drove alone\n",
      "pct_below_poverty\tPercent!!PERCENTAGE OF FAMILIES AND PEOPLE WHOSE INCOME IN THE PAST 12 MONTHS IS BELOW THE POVERTY LEVEL!!All people\n",
      "pct_college_grad_student\tPercent!!SCHOOL ENROLLMENT!!Population 3 years and over enrolled in school!!High school (grades 9-12)\n",
      "pct_same_residence_year_ago\tPercent!!RESIDENCE 1 YEAR AGO!!Population 1 year and over\n",
      "pct_bachelors_degree\tPercent!!EDUCATIONAL ATTAINMENT!!Population 25 years and over!!High school graduate or higher\n",
      "pct_english_only\tPercent!!LANGUAGE SPOKEN AT HOME!!Population 5 years and over\n",
      "pct_foreign_born\tPercent!!PLACE OF BIRTH!!Total population!!Native!!Born in Puerto Rico, U.S. Island areas, or born abroad to American parent(s)\n"
     ]
    }
   ],
   "source": [
    "# download and display census descriptions of each variable\n",
    "variable_descriptions = gc.get_census_variable_descriptions(dataset=dataset, \n",
    "                                                            year=year, \n",
    "                                                            variables=variables)\n",
    "for v, d in variable_descriptions.items():\n",
    "    print('{}\\t{}'.format(variables[v], d['label']))"
   ]
  },
  {
   "cell_type": "code",
   "execution_count": 4,
   "id": "56591ad0",
   "metadata": {},
   "outputs": [],
   "source": [
    "acs = pd.read_csv(\"../data/acs_clean.csv\")"
   ]
  },
  {
   "cell_type": "code",
   "execution_count": 5,
   "id": "cc5929a8",
   "metadata": {},
   "outputs": [],
   "source": [
    "acs = acs[acs['NAME'].str.endswith(\"North Carolina\")]"
   ]
  },
  {
   "cell_type": "code",
   "execution_count": 6,
   "id": "39f41294",
   "metadata": {},
   "outputs": [],
   "source": [
    "# acs.to_csv(\"../data/acs_clean.csv\")"
   ]
  },
  {
   "cell_type": "code",
   "execution_count": 7,
   "id": "c626019a",
   "metadata": {},
   "outputs": [],
   "source": [
    "acs = acs[['GEOID','NAME', 'variable','estimate']]"
   ]
  },
  {
   "cell_type": "code",
   "execution_count": 8,
   "id": "9f4708c3",
   "metadata": {},
   "outputs": [],
   "source": [
    "# which census variables to retrieve for each tract\n",
    "vars_abridged = {'DP05_0001':'total_pop',    #total pop\n",
    "             'DP05_0018':'median_age',    #median age\n",
    "             'DP05_0071P':'pct_hispanic',   #pct pop hispanic or latino\n",
    "             'DP05_0077P':'pct_white',   #pct pop non-hispanic white alone\n",
    "             'DP05_0078P':'pct_black',   #pct pop non-hispanic black\n",
    "             'DP05_0080':'pct_asian',   #pct pop non-hispanic asian\n",
    "             'DP05_0002P':'pct_male',   #pct pop male\n",
    "             'DP04_0007P':'pct_single_family_home',   #pct single family detached homes\n",
    "             'DP04_0089':'med_home_value',    #median value of owner occupied units (dollars)\n",
    "             'DP04_0037':'med_rooms_per_home',    #median number of rooms in house\n",
    "             'DP04_0026P':'pct_built_before_1940',   #pct structure built 1939 or earlier\n",
    "             'DP04_0047P':'pct_renting',   #pct renter-occupied housing units\n",
    "             'DP04_0005':'rental_vacancy_rate',    #rental vacancy rate\n",
    "             'DP04_0049':'avg_renter_household_size',    #average household size of renter-occupied housing units\n",
    "             'DP04_0134':'med_gross_rent',    #median gross rent (dollars)\n",
    "             'DP03_0062':'med_household_income',    #median household income\n",
    "             'DP03_0025':'mean_commute_time',    #mean travel time to work\n",
    "             'DP03_0019P':'pct_commute_drive_alone',   #pct commute drove alone\n",
    "             'DP03_0128P':'pct_below_poverty',   #pct people with income below povery level\n",
    "             'DP02_0057P':'pct_college_grad_student',   #pct who are students currently enrolled in college or grad school\n",
    "             'DP02_0079P':'pct_same_residence_year_ago',   #pct residence 1 year ago was same house\n",
    "             'DP02_0067P':'pct_bachelors_degree',   #pct bachelor's degree or higher\n",
    "             'DP02_0111P':'pct_english_only',   #pct with english only language spoken at home\n",
    "             'DP02_0092P':'pct_foreign_born'}   #pct of population foreign born\n",
    "\n",
    "\n",
    "acs['variable_names'] = acs['variable'].map(vars_abridged)"
   ]
  },
  {
   "cell_type": "code",
   "execution_count": 9,
   "id": "c84edacc",
   "metadata": {},
   "outputs": [],
   "source": [
    "# acs.to_csv(\"../data/acs_clean_final.csv\")"
   ]
  },
  {
   "cell_type": "code",
   "execution_count": 13,
   "id": "351b6a40",
   "metadata": {},
   "outputs": [
    {
     "data": {
      "text/html": [
       "<div>\n",
       "<style scoped>\n",
       "    .dataframe tbody tr th:only-of-type {\n",
       "        vertical-align: middle;\n",
       "    }\n",
       "\n",
       "    .dataframe tbody tr th {\n",
       "        vertical-align: top;\n",
       "    }\n",
       "\n",
       "    .dataframe thead th {\n",
       "        text-align: right;\n",
       "    }\n",
       "</style>\n",
       "<table border=\"1\" class=\"dataframe\">\n",
       "  <thead>\n",
       "    <tr style=\"text-align: right;\">\n",
       "      <th></th>\n",
       "      <th>GEOID</th>\n",
       "      <th>NAME</th>\n",
       "      <th>variable</th>\n",
       "      <th>estimate</th>\n",
       "      <th>variable_names</th>\n",
       "    </tr>\n",
       "  </thead>\n",
       "  <tbody>\n",
       "    <tr>\n",
       "      <th>0</th>\n",
       "      <td>37001</td>\n",
       "      <td>Alamance County, North Carolina</td>\n",
       "      <td>DP02_0057P</td>\n",
       "      <td>21.2</td>\n",
       "      <td>pct_college_grad_student</td>\n",
       "    </tr>\n",
       "    <tr>\n",
       "      <th>1</th>\n",
       "      <td>37001</td>\n",
       "      <td>Alamance County, North Carolina</td>\n",
       "      <td>DP02_0067P</td>\n",
       "      <td>87.7</td>\n",
       "      <td>pct_bachelors_degree</td>\n",
       "    </tr>\n",
       "    <tr>\n",
       "      <th>2</th>\n",
       "      <td>37001</td>\n",
       "      <td>Alamance County, North Carolina</td>\n",
       "      <td>DP02_0092P</td>\n",
       "      <td>26.5</td>\n",
       "      <td>pct_foreign_born</td>\n",
       "    </tr>\n",
       "    <tr>\n",
       "      <th>3</th>\n",
       "      <td>37001</td>\n",
       "      <td>Alamance County, North Carolina</td>\n",
       "      <td>DP02_0111P</td>\n",
       "      <td>2.0</td>\n",
       "      <td>pct_english_only</td>\n",
       "    </tr>\n",
       "    <tr>\n",
       "      <th>4</th>\n",
       "      <td>37001</td>\n",
       "      <td>Alamance County, North Carolina</td>\n",
       "      <td>DP03_0128P</td>\n",
       "      <td>14.4</td>\n",
       "      <td>pct_below_poverty</td>\n",
       "    </tr>\n",
       "  </tbody>\n",
       "</table>\n",
       "</div>"
      ],
      "text/plain": [
       "   GEOID                             NAME    variable  estimate  \\\n",
       "0  37001  Alamance County, North Carolina  DP02_0057P      21.2   \n",
       "1  37001  Alamance County, North Carolina  DP02_0067P      87.7   \n",
       "2  37001  Alamance County, North Carolina  DP02_0092P      26.5   \n",
       "3  37001  Alamance County, North Carolina  DP02_0111P       2.0   \n",
       "4  37001  Alamance County, North Carolina  DP03_0128P      14.4   \n",
       "\n",
       "             variable_names  \n",
       "0  pct_college_grad_student  \n",
       "1      pct_bachelors_degree  \n",
       "2          pct_foreign_born  \n",
       "3          pct_english_only  \n",
       "4         pct_below_poverty  "
      ]
     },
     "execution_count": 13,
     "metadata": {},
     "output_type": "execute_result"
    }
   ],
   "source": [
    "acs.head()"
   ]
  },
  {
   "cell_type": "code",
   "execution_count": 34,
   "id": "780cebdc",
   "metadata": {},
   "outputs": [],
   "source": [
    "acs = acs.pivot_table(values='estimate', \n",
    "                 index=[acs.GEOID, acs.NAME],\n",
    "                 columns='variable_names', aggfunc='first').reset_index()"
   ]
  },
  {
   "cell_type": "code",
   "execution_count": 35,
   "id": "47bbfb70",
   "metadata": {},
   "outputs": [],
   "source": [
    "acs.to_csv(\"../data/acs_clean_final_pivoted.csv\")"
   ]
  },
  {
   "cell_type": "code",
   "execution_count": null,
   "id": "ceec6178",
   "metadata": {},
   "outputs": [],
   "source": []
  }
 ],
 "metadata": {
  "kernelspec": {
   "display_name": "Python 3 (ipykernel)",
   "language": "python",
   "name": "python3"
  },
  "language_info": {
   "codemirror_mode": {
    "name": "ipython",
    "version": 3
   },
   "file_extension": ".py",
   "mimetype": "text/x-python",
   "name": "python",
   "nbconvert_exporter": "python",
   "pygments_lexer": "ipython3",
   "version": "3.7.2"
  },
  "latex_envs": {
   "LaTeX_envs_menu_present": true,
   "autoclose": false,
   "autocomplete": true,
   "bibliofile": "biblio.bib",
   "cite_by": "apalike",
   "current_citInitial": 1,
   "eqLabelWithNumbers": true,
   "eqNumInitial": 1,
   "hotkeys": {
    "equation": "Ctrl-E",
    "itemize": "Ctrl-I"
   },
   "labels_anchors": false,
   "latex_user_defs": false,
   "report_style_numbering": false,
   "user_envs_cfg": false
  }
 },
 "nbformat": 4,
 "nbformat_minor": 5
}
