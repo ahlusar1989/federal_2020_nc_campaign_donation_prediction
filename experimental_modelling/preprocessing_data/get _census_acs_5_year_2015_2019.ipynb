{
 "cells": [
  {
   "cell_type": "code",
   "execution_count": 4,
   "id": "155ec6dd",
   "metadata": {},
   "outputs": [
    {
     "name": "stderr",
     "output_type": "stream",
     "text": [
      "Installing packages into ‘/Users/sahluwalia/Library/R/4.0/library’\n",
      "(as ‘lib’ is unspecified)\n",
      "\n"
     ]
    },
    {
     "name": "stdout",
     "output_type": "stream",
     "text": [
      "\n",
      "  There are binary versions available but the source versions are later:\n",
      "           binary source needs_compilation\n",
      "tidycensus  1.1.2    1.3             FALSE\n",
      "tidyverse   1.3.1  1.3.2             FALSE\n",
      "plotly     4.10.0 4.10.1             FALSE\n",
      "\n"
     ]
    },
    {
     "name": "stderr",
     "output_type": "stream",
     "text": [
      "installing the source packages ‘tidycensus’, ‘tidyverse’, ‘plotly’\n",
      "\n",
      "\n"
     ]
    }
   ],
   "source": [
    "install.packages(c(\"tidycensus\", \"tidyverse\", \"plotly\"))"
   ]
  },
  {
   "cell_type": "code",
   "execution_count": 5,
   "id": "c4165e71",
   "metadata": {},
   "outputs": [],
   "source": [
    "library(\"tidycensus\")\n",
    "# See here: https://walker-data.com/tidycensus/reference/census_api_key.html\n",
    "census_api_key('set_key_here', install = TRUE)"
   ]
  },
  {
   "cell_type": "code",
   "execution_count": 8,
   "id": "4989b76b",
   "metadata": {
    "scrolled": false
   },
   "outputs": [
    {
     "data": {
      "text/html": [
       "<table class=\"dataframe\">\n",
       "<caption>A tibble: 6 × 4</caption>\n",
       "<thead>\n",
       "\t<tr><th scope=col>name</th><th scope=col>label</th><th scope=col>concept</th><th scope=col>geography</th></tr>\n",
       "\t<tr><th scope=col>&lt;chr&gt;</th><th scope=col>&lt;chr&gt;</th><th scope=col>&lt;chr&gt;</th><th scope=col>&lt;chr&gt;</th></tr>\n",
       "</thead>\n",
       "<tbody>\n",
       "\t<tr><td>B01001_001</td><td>Estimate!!Total:                       </td><td>SEX BY AGE</td><td>block group</td></tr>\n",
       "\t<tr><td>B01001_002</td><td>Estimate!!Total:!!Male:                </td><td>SEX BY AGE</td><td>block group</td></tr>\n",
       "\t<tr><td>B01001_003</td><td>Estimate!!Total:!!Male:!!Under 5 years </td><td>SEX BY AGE</td><td>block group</td></tr>\n",
       "\t<tr><td>B01001_004</td><td>Estimate!!Total:!!Male:!!5 to 9 years  </td><td>SEX BY AGE</td><td>block group</td></tr>\n",
       "\t<tr><td>B01001_005</td><td>Estimate!!Total:!!Male:!!10 to 14 years</td><td>SEX BY AGE</td><td>block group</td></tr>\n",
       "\t<tr><td>B01001_006</td><td>Estimate!!Total:!!Male:!!15 to 17 years</td><td>SEX BY AGE</td><td>block group</td></tr>\n",
       "</tbody>\n",
       "</table>\n"
      ],
      "text/latex": [
       "A tibble: 6 × 4\n",
       "\\begin{tabular}{llll}\n",
       " name & label & concept & geography\\\\\n",
       " <chr> & <chr> & <chr> & <chr>\\\\\n",
       "\\hline\n",
       "\t B01001\\_001 & Estimate!!Total:                        & SEX BY AGE & block group\\\\\n",
       "\t B01001\\_002 & Estimate!!Total:!!Male:                 & SEX BY AGE & block group\\\\\n",
       "\t B01001\\_003 & Estimate!!Total:!!Male:!!Under 5 years  & SEX BY AGE & block group\\\\\n",
       "\t B01001\\_004 & Estimate!!Total:!!Male:!!5 to 9 years   & SEX BY AGE & block group\\\\\n",
       "\t B01001\\_005 & Estimate!!Total:!!Male:!!10 to 14 years & SEX BY AGE & block group\\\\\n",
       "\t B01001\\_006 & Estimate!!Total:!!Male:!!15 to 17 years & SEX BY AGE & block group\\\\\n",
       "\\end{tabular}\n"
      ],
      "text/markdown": [
       "\n",
       "A tibble: 6 × 4\n",
       "\n",
       "| name &lt;chr&gt; | label &lt;chr&gt; | concept &lt;chr&gt; | geography &lt;chr&gt; |\n",
       "|---|---|---|---|\n",
       "| B01001_001 | Estimate!!Total:                        | SEX BY AGE | block group |\n",
       "| B01001_002 | Estimate!!Total:!!Male:                 | SEX BY AGE | block group |\n",
       "| B01001_003 | Estimate!!Total:!!Male:!!Under 5 years  | SEX BY AGE | block group |\n",
       "| B01001_004 | Estimate!!Total:!!Male:!!5 to 9 years   | SEX BY AGE | block group |\n",
       "| B01001_005 | Estimate!!Total:!!Male:!!10 to 14 years | SEX BY AGE | block group |\n",
       "| B01001_006 | Estimate!!Total:!!Male:!!15 to 17 years | SEX BY AGE | block group |\n",
       "\n"
      ],
      "text/plain": [
       "  name       label                                   concept    geography  \n",
       "1 B01001_001 Estimate!!Total:                        SEX BY AGE block group\n",
       "2 B01001_002 Estimate!!Total:!!Male:                 SEX BY AGE block group\n",
       "3 B01001_003 Estimate!!Total:!!Male:!!Under 5 years  SEX BY AGE block group\n",
       "4 B01001_004 Estimate!!Total:!!Male:!!5 to 9 years   SEX BY AGE block group\n",
       "5 B01001_005 Estimate!!Total:!!Male:!!10 to 14 years SEX BY AGE block group\n",
       "6 B01001_006 Estimate!!Total:!!Male:!!15 to 17 years SEX BY AGE block group"
      ]
     },
     "metadata": {},
     "output_type": "display_data"
    }
   ],
   "source": [
    "vars <- load_variables(2019, \"acs5\")\n",
    "head(vars)"
   ]
  },
  {
   "cell_type": "code",
   "execution_count": 9,
   "id": "6e3dc717",
   "metadata": {},
   "outputs": [
    {
     "name": "stderr",
     "output_type": "stream",
     "text": [
      "Getting data from the 2017-2021 5-year ACS\n",
      "\n",
      "Using the ACS Data Profile\n",
      "\n"
     ]
    }
   ],
   "source": [
    "data <- get_acs(\n",
    "  geography = \"county\",\n",
    "  variables = c(\"DP05_0018E\", \"DP05_0071PE\", \"DP05_0077PE\", \"DP05_0078PE\", \"DP05_0080E\", \"DP05_0002PE\",\n",
    "               \"DP04_0007PE\", \"DP04_0089E\", \"DP04_0047PE\", \"DP04_0005E\", \"DP04_0049E\", \"DP04_0134E\", \n",
    "               \"DP03_0128PE\", \"DP02_0057PE\", \"DP02_0067PE\", \"DP02_0111PE\", \"DP02_0092PE\", \"DP05_0001E\"\n",
    "               )\n",
    ")"
   ]
  },
  {
   "cell_type": "code",
   "execution_count": 12,
   "id": "a273a583",
   "metadata": {},
   "outputs": [],
   "source": [
    "write.csv(data, \"acs_clean.csv\")"
   ]
  },
  {
   "cell_type": "code",
   "execution_count": null,
   "id": "517167ed",
   "metadata": {},
   "outputs": [],
   "source": []
  }
 ],
 "metadata": {
  "kernelspec": {
   "display_name": "R",
   "language": "R",
   "name": "ir"
  },
  "language_info": {
   "codemirror_mode": "r",
   "file_extension": ".r",
   "mimetype": "text/x-r-source",
   "name": "R",
   "pygments_lexer": "r",
   "version": "4.0.1"
  },
  "latex_envs": {
   "LaTeX_envs_menu_present": true,
   "autoclose": false,
   "autocomplete": true,
   "bibliofile": "biblio.bib",
   "cite_by": "apalike",
   "current_citInitial": 1,
   "eqLabelWithNumbers": true,
   "eqNumInitial": 1,
   "hotkeys": {
    "equation": "Ctrl-E",
    "itemize": "Ctrl-I"
   },
   "labels_anchors": false,
   "latex_user_defs": false,
   "report_style_numbering": false,
   "user_envs_cfg": false
  }
 },
 "nbformat": 4,
 "nbformat_minor": 5
}
