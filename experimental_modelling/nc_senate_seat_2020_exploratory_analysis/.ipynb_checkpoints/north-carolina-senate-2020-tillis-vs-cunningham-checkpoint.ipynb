{
 "cells": [
  {
   "cell_type": "markdown",
   "metadata": {
    "papermill": {
     "duration": 0.023896,
     "end_time": "2020-09-02T04:53:32.679422",
     "exception": false,
     "start_time": "2020-09-02T04:53:32.655526",
     "status": "completed"
    },
    "tags": []
   },
   "source": [
    "This dataset contains information about candidates, committees, PACs (political action committees), House & Senate campaigns & about transactions, contributions by individuals & committees & operating & independent expenditures for US elections from Jan 1, 2019 to May 2020. The original dataset was prodcured from: https://www.fec.gov/data/browse-data/?tab=bulk-data.\n",
    "\n",
    "##### Analysis of North Carolina Senate race 2020: Thom Tillis & Cal Cunningham\n",
    "\n",
    "#### Here I address the key question requested in prompt number three."
   ]
  },
  {
   "cell_type": "code",
   "execution_count": 1,
   "metadata": {
    "_cell_guid": "b1076dfc-b9ad-4769-8c92-a6c4dae69d19",
    "_kg_hide-input": true,
    "_kg_hide-output": true,
    "_uuid": "8f2839f25d086af736a60e9eeb907d3b93b6e0e5",
    "execution": {
     "iopub.execute_input": "2020-09-02T04:53:32.729379Z",
     "iopub.status.busy": "2020-09-02T04:53:32.728495Z",
     "iopub.status.idle": "2020-09-02T04:53:36.345344Z",
     "shell.execute_reply": "2020-09-02T04:53:36.344639Z"
    },
    "papermill": {
     "duration": 3.645493,
     "end_time": "2020-09-02T04:53:36.345489",
     "exception": false,
     "start_time": "2020-09-02T04:53:32.699996",
     "status": "completed"
    },
    "tags": []
   },
   "outputs": [
    {
     "data": {
      "text/html": [
       "        <script type=\"text/javascript\">\n",
       "        window.PlotlyConfig = {MathJaxConfig: 'local'};\n",
       "        if (window.MathJax && window.MathJax.Hub && window.MathJax.Hub.Config) {window.MathJax.Hub.Config({SVG: {font: \"STIX-Web\"}});}\n",
       "        if (typeof require !== 'undefined') {\n",
       "        require.undef(\"plotly\");\n",
       "        requirejs.config({\n",
       "            paths: {\n",
       "                'plotly': ['https://cdn.plot.ly/plotly-2.12.1.min']\n",
       "            }\n",
       "        });\n",
       "        require(['plotly'], function(Plotly) {\n",
       "            window._Plotly = Plotly;\n",
       "        });\n",
       "        }\n",
       "        </script>\n",
       "        "
      ]
     },
     "metadata": {},
     "output_type": "display_data"
    }
   ],
   "source": [
    "import numpy as np # linear algebra\n",
    "import pandas as pd # data processing, CSV file I/O (e.g. pd.read_csv)\n",
    "import bs4\n",
    "import urllib.request\n",
    "\n",
    "# native python module\n",
    "import os\n",
    "import cufflinks\n",
    "\n",
    "\n",
    "pd.set_option('display.max_columns', 1000)\n",
    "\n",
    "\n",
    "base_dir = '.../data/data/'\n",
    "dataset_name = '20192020-FEC/'\n",
    "for dirname, _, filenames in os.walk(base_dir + '/' + dataset_name):\n",
    "    for filename in filenames:\n",
    "        print(os.path.join(dirname, filename))"
   ]
  },
  {
   "cell_type": "code",
   "execution_count": 2,
   "metadata": {
    "_kg_hide-input": true,
    "execution": {
     "iopub.execute_input": "2020-09-02T04:53:36.390472Z",
     "iopub.status.busy": "2020-09-02T04:53:36.389732Z",
     "iopub.status.idle": "2020-09-02T04:53:36.393365Z",
     "shell.execute_reply": "2020-09-02T04:53:36.392619Z"
    },
    "papermill": {
     "duration": 0.028637,
     "end_time": "2020-09-02T04:53:36.393491",
     "exception": false,
     "start_time": "2020-09-02T04:53:36.364854",
     "status": "completed"
    },
    "tags": []
   },
   "outputs": [],
   "source": [
    "state = 'NC'\n",
    "candidate1 = 'tillis, thom'\n",
    "candidate2 = 'cunningham, cal'"
   ]
  },
  {
   "cell_type": "code",
   "execution_count": 3,
   "metadata": {
    "_kg_hide-input": true,
    "execution": {
     "iopub.execute_input": "2020-09-02T04:53:36.442686Z",
     "iopub.status.busy": "2020-09-02T04:53:36.441849Z",
     "iopub.status.idle": "2020-09-02T04:53:36.692832Z",
     "shell.execute_reply": "2020-09-02T04:53:36.694754Z"
    },
    "papermill": {
     "duration": 0.281641,
     "end_time": "2020-09-02T04:53:36.695046",
     "exception": false,
     "start_time": "2020-09-02T04:53:36.413405",
     "status": "completed"
    },
    "tags": []
   },
   "outputs": [],
   "source": [
    "import bs4\n",
    "import urllib.request\n",
    "\n",
    "def read_table(page_url):\n",
    "    page = urllib.request.urlopen(page_url)\n",
    "    soup = bs4.BeautifulSoup(page, 'lxml')\n",
    "    table = soup.find(name='table')\n",
    "    result = dict()\n",
    "    for tr in table.findAll('tr'):\n",
    "        tds = tr.findAll('td')\n",
    "        \n",
    "        if len(tds) >= 2:\n",
    "            result[tds[0].text] = tds[1].text\n",
    "    return result"
   ]
  },
  {
   "cell_type": "code",
   "execution_count": 4,
   "metadata": {
    "_kg_hide-input": true,
    "execution": {
     "iopub.execute_input": "2020-09-02T04:53:36.767270Z",
     "iopub.status.busy": "2020-09-02T04:53:36.762460Z",
     "iopub.status.idle": "2020-09-02T04:53:36.772463Z",
     "shell.execute_reply": "2020-09-02T04:53:36.771292Z"
    },
    "papermill": {
     "duration": 0.04741,
     "end_time": "2020-09-02T04:53:36.772690",
     "exception": false,
     "start_time": "2020-09-02T04:53:36.725280",
     "status": "completed"
    },
    "tags": []
   },
   "outputs": [],
   "source": [
    "def render_human_format(num):\n",
    "    magnitude = 0\n",
    "    while abs(num) >= 1000:\n",
    "        magnitude += 1\n",
    "        num /= 1000.0\n",
    "    # add more suffixes if you need them\n",
    "    return '%.2f%s' % (num, ['', 'K', 'M', 'G', 'T', 'P'][magnitude])"
   ]
  },
  {
   "cell_type": "markdown",
   "metadata": {
    "papermill": {
     "duration": 0.02352,
     "end_time": "2020-09-02T04:53:36.818549",
     "exception": false,
     "start_time": "2020-09-02T04:53:36.795029",
     "status": "completed"
    },
    "tags": []
   },
   "source": [
    "## Candidate Campaign Finance summaries"
   ]
  },
  {
   "cell_type": "code",
   "execution_count": 5,
   "metadata": {
    "_cell_guid": "79c7e3d0-c299-4dcb-8224-4455121ee9b0",
    "_kg_hide-input": true,
    "_kg_hide-output": true,
    "_uuid": "d629ff2d2480ee46fbb7e2d37f6b5fab8052498a",
    "execution": {
     "iopub.execute_input": "2020-09-02T04:53:36.864770Z",
     "iopub.status.busy": "2020-09-02T04:53:36.864010Z",
     "iopub.status.idle": "2020-09-02T04:53:36.951815Z",
     "shell.execute_reply": "2020-09-02T04:53:36.950971Z"
    },
    "papermill": {
     "duration": 0.113174,
     "end_time": "2020-09-02T04:53:36.951958",
     "exception": false,
     "start_time": "2020-09-02T04:53:36.838784",
     "status": "completed"
    },
    "tags": []
   },
   "outputs": [
    {
     "data": {
      "text/html": [
       "<div>\n",
       "<style scoped>\n",
       "    .dataframe tbody tr th:only-of-type {\n",
       "        vertical-align: middle;\n",
       "    }\n",
       "\n",
       "    .dataframe tbody tr th {\n",
       "        vertical-align: top;\n",
       "    }\n",
       "\n",
       "    .dataframe thead th {\n",
       "        text-align: right;\n",
       "    }\n",
       "</style>\n",
       "<table border=\"1\" class=\"dataframe\">\n",
       "  <thead>\n",
       "    <tr style=\"text-align: right;\">\n",
       "      <th></th>\n",
       "      <th>CAND_ID</th>\n",
       "      <th>CAND_NAME</th>\n",
       "      <th>CAND_ICI</th>\n",
       "      <th>PTY_CD</th>\n",
       "      <th>CAND_PTY_AFFILIATION</th>\n",
       "      <th>TTL_RECEIPTS</th>\n",
       "      <th>TRANS_FROM_AUTH</th>\n",
       "      <th>TTL_DISB</th>\n",
       "      <th>TRANS_TO_AUTH</th>\n",
       "      <th>COH_BOP</th>\n",
       "      <th>COH_COP</th>\n",
       "      <th>CAND_CONTRIB</th>\n",
       "      <th>CAND_LOANS</th>\n",
       "      <th>OTHER_LOANS</th>\n",
       "      <th>CAND_LOAN_REPAY</th>\n",
       "      <th>OTHER_LOAN_REPAY</th>\n",
       "      <th>DEBTS_OWED_BY</th>\n",
       "      <th>TTL_INDIV_CONTRIB</th>\n",
       "      <th>CAND_OFFICE_ST</th>\n",
       "      <th>CAND_OFFICE_DISTRICT</th>\n",
       "      <th>SPEC_ELECTION</th>\n",
       "      <th>PRIM_ELECTION</th>\n",
       "      <th>RUN_ELECTION</th>\n",
       "      <th>GEN_ELECTION</th>\n",
       "      <th>GEN_ELECTION_PRECENT</th>\n",
       "      <th>OTHER_POL_CMTE_CONTRIB</th>\n",
       "      <th>POL_PTY_CONTRIB</th>\n",
       "      <th>CVG_END_DT</th>\n",
       "      <th>INDIV_REFUNDS</th>\n",
       "      <th>CMTE_REFUNDS</th>\n",
       "    </tr>\n",
       "  </thead>\n",
       "  <tbody>\n",
       "    <tr>\n",
       "      <th>0</th>\n",
       "      <td>H8AK00132</td>\n",
       "      <td>SHEIN, DIMITRI</td>\n",
       "      <td>C</td>\n",
       "      <td>1</td>\n",
       "      <td>DEM</td>\n",
       "      <td>0.00</td>\n",
       "      <td>0.00</td>\n",
       "      <td>367.52</td>\n",
       "      <td>0.0</td>\n",
       "      <td>367.52</td>\n",
       "      <td>0.00</td>\n",
       "      <td>0.00</td>\n",
       "      <td>0.0</td>\n",
       "      <td>0.0</td>\n",
       "      <td>367.52</td>\n",
       "      <td>0.0</td>\n",
       "      <td>0.00</td>\n",
       "      <td>0.00</td>\n",
       "      <td>AK</td>\n",
       "      <td>0</td>\n",
       "      <td>NaN</td>\n",
       "      <td>NaN</td>\n",
       "      <td>NaN</td>\n",
       "      <td>NaN</td>\n",
       "      <td>NaN</td>\n",
       "      <td>0.00</td>\n",
       "      <td>0.0</td>\n",
       "      <td>09/30/2019</td>\n",
       "      <td>0.00</td>\n",
       "      <td>0.0</td>\n",
       "    </tr>\n",
       "    <tr>\n",
       "      <th>1</th>\n",
       "      <td>H6AK00045</td>\n",
       "      <td>YOUNG, DONALD E</td>\n",
       "      <td>I</td>\n",
       "      <td>2</td>\n",
       "      <td>REP</td>\n",
       "      <td>1012401.48</td>\n",
       "      <td>130245.48</td>\n",
       "      <td>325545.51</td>\n",
       "      <td>0.0</td>\n",
       "      <td>116720.12</td>\n",
       "      <td>803576.09</td>\n",
       "      <td>0.00</td>\n",
       "      <td>0.0</td>\n",
       "      <td>0.0</td>\n",
       "      <td>0.00</td>\n",
       "      <td>0.0</td>\n",
       "      <td>0.00</td>\n",
       "      <td>417190.55</td>\n",
       "      <td>AK</td>\n",
       "      <td>0</td>\n",
       "      <td>NaN</td>\n",
       "      <td>NaN</td>\n",
       "      <td>NaN</td>\n",
       "      <td>NaN</td>\n",
       "      <td>NaN</td>\n",
       "      <td>458194.63</td>\n",
       "      <td>0.0</td>\n",
       "      <td>03/31/2020</td>\n",
       "      <td>0.00</td>\n",
       "      <td>2000.0</td>\n",
       "    </tr>\n",
       "    <tr>\n",
       "      <th>2</th>\n",
       "      <td>H8AK01031</td>\n",
       "      <td>NELSON, THOMAS JOHN</td>\n",
       "      <td>C</td>\n",
       "      <td>2</td>\n",
       "      <td>REP</td>\n",
       "      <td>0.00</td>\n",
       "      <td>0.00</td>\n",
       "      <td>466.51</td>\n",
       "      <td>0.0</td>\n",
       "      <td>466.51</td>\n",
       "      <td>0.00</td>\n",
       "      <td>0.00</td>\n",
       "      <td>0.0</td>\n",
       "      <td>0.0</td>\n",
       "      <td>0.00</td>\n",
       "      <td>0.0</td>\n",
       "      <td>0.00</td>\n",
       "      <td>0.00</td>\n",
       "      <td>AK</td>\n",
       "      <td>0</td>\n",
       "      <td>NaN</td>\n",
       "      <td>NaN</td>\n",
       "      <td>NaN</td>\n",
       "      <td>NaN</td>\n",
       "      <td>NaN</td>\n",
       "      <td>0.00</td>\n",
       "      <td>0.0</td>\n",
       "      <td>03/31/2019</td>\n",
       "      <td>0.00</td>\n",
       "      <td>0.0</td>\n",
       "    </tr>\n",
       "    <tr>\n",
       "      <th>3</th>\n",
       "      <td>H8AK00140</td>\n",
       "      <td>GALVIN, ALYSE</td>\n",
       "      <td>C</td>\n",
       "      <td>3</td>\n",
       "      <td>IND</td>\n",
       "      <td>1358372.81</td>\n",
       "      <td>0.00</td>\n",
       "      <td>403275.92</td>\n",
       "      <td>0.0</td>\n",
       "      <td>6245.09</td>\n",
       "      <td>961341.98</td>\n",
       "      <td>2955.81</td>\n",
       "      <td>0.0</td>\n",
       "      <td>0.0</td>\n",
       "      <td>0.00</td>\n",
       "      <td>0.0</td>\n",
       "      <td>56940.58</td>\n",
       "      <td>1279739.80</td>\n",
       "      <td>AK</td>\n",
       "      <td>0</td>\n",
       "      <td>NaN</td>\n",
       "      <td>NaN</td>\n",
       "      <td>NaN</td>\n",
       "      <td>NaN</td>\n",
       "      <td>NaN</td>\n",
       "      <td>38350.00</td>\n",
       "      <td>0.0</td>\n",
       "      <td>03/31/2020</td>\n",
       "      <td>7836.19</td>\n",
       "      <td>0.0</td>\n",
       "    </tr>\n",
       "    <tr>\n",
       "      <th>4</th>\n",
       "      <td>H0AL01097</td>\n",
       "      <td>AVERHART, JAMES</td>\n",
       "      <td>O</td>\n",
       "      <td>1</td>\n",
       "      <td>DEM</td>\n",
       "      <td>50126.74</td>\n",
       "      <td>0.00</td>\n",
       "      <td>40699.28</td>\n",
       "      <td>0.0</td>\n",
       "      <td>0.00</td>\n",
       "      <td>9427.46</td>\n",
       "      <td>0.00</td>\n",
       "      <td>26845.0</td>\n",
       "      <td>0.0</td>\n",
       "      <td>0.00</td>\n",
       "      <td>0.0</td>\n",
       "      <td>26845.00</td>\n",
       "      <td>23281.74</td>\n",
       "      <td>AL</td>\n",
       "      <td>1</td>\n",
       "      <td>NaN</td>\n",
       "      <td>NaN</td>\n",
       "      <td>NaN</td>\n",
       "      <td>NaN</td>\n",
       "      <td>NaN</td>\n",
       "      <td>0.00</td>\n",
       "      <td>0.0</td>\n",
       "      <td>06/30/2020</td>\n",
       "      <td>0.00</td>\n",
       "      <td>0.0</td>\n",
       "    </tr>\n",
       "  </tbody>\n",
       "</table>\n",
       "</div>"
      ],
      "text/plain": [
       "     CAND_ID            CAND_NAME CAND_ICI  PTY_CD CAND_PTY_AFFILIATION  \\\n",
       "0  H8AK00132       SHEIN, DIMITRI        C       1                  DEM   \n",
       "1  H6AK00045      YOUNG, DONALD E        I       2                  REP   \n",
       "2  H8AK01031  NELSON, THOMAS JOHN        C       2                  REP   \n",
       "3  H8AK00140        GALVIN, ALYSE        C       3                  IND   \n",
       "4  H0AL01097      AVERHART, JAMES        O       1                  DEM   \n",
       "\n",
       "   TTL_RECEIPTS  TRANS_FROM_AUTH   TTL_DISB  TRANS_TO_AUTH    COH_BOP  \\\n",
       "0          0.00             0.00     367.52            0.0     367.52   \n",
       "1    1012401.48        130245.48  325545.51            0.0  116720.12   \n",
       "2          0.00             0.00     466.51            0.0     466.51   \n",
       "3    1358372.81             0.00  403275.92            0.0    6245.09   \n",
       "4      50126.74             0.00   40699.28            0.0       0.00   \n",
       "\n",
       "     COH_COP  CAND_CONTRIB  CAND_LOANS  OTHER_LOANS  CAND_LOAN_REPAY  \\\n",
       "0       0.00          0.00         0.0          0.0           367.52   \n",
       "1  803576.09          0.00         0.0          0.0             0.00   \n",
       "2       0.00          0.00         0.0          0.0             0.00   \n",
       "3  961341.98       2955.81         0.0          0.0             0.00   \n",
       "4    9427.46          0.00     26845.0          0.0             0.00   \n",
       "\n",
       "   OTHER_LOAN_REPAY  DEBTS_OWED_BY  TTL_INDIV_CONTRIB CAND_OFFICE_ST  \\\n",
       "0               0.0           0.00               0.00             AK   \n",
       "1               0.0           0.00          417190.55             AK   \n",
       "2               0.0           0.00               0.00             AK   \n",
       "3               0.0       56940.58         1279739.80             AK   \n",
       "4               0.0       26845.00           23281.74             AL   \n",
       "\n",
       "   CAND_OFFICE_DISTRICT  SPEC_ELECTION  PRIM_ELECTION  RUN_ELECTION  \\\n",
       "0                     0            NaN            NaN           NaN   \n",
       "1                     0            NaN            NaN           NaN   \n",
       "2                     0            NaN            NaN           NaN   \n",
       "3                     0            NaN            NaN           NaN   \n",
       "4                     1            NaN            NaN           NaN   \n",
       "\n",
       "   GEN_ELECTION  GEN_ELECTION_PRECENT  OTHER_POL_CMTE_CONTRIB  \\\n",
       "0           NaN                   NaN                    0.00   \n",
       "1           NaN                   NaN               458194.63   \n",
       "2           NaN                   NaN                    0.00   \n",
       "3           NaN                   NaN                38350.00   \n",
       "4           NaN                   NaN                    0.00   \n",
       "\n",
       "   POL_PTY_CONTRIB  CVG_END_DT  INDIV_REFUNDS  CMTE_REFUNDS  \n",
       "0              0.0  09/30/2019           0.00           0.0  \n",
       "1              0.0  03/31/2020           0.00        2000.0  \n",
       "2              0.0  03/31/2019           0.00           0.0  \n",
       "3              0.0  03/31/2020        7836.19           0.0  \n",
       "4              0.0  06/30/2020           0.00           0.0  "
      ]
     },
     "execution_count": 5,
     "metadata": {},
     "output_type": "execute_result"
    }
   ],
   "source": [
    "all_candidates = pd.read_csv(\"../data/20192020-FEC/All candidates.csv\")\n",
    "all_candidates.head()"
   ]
  },
  {
   "cell_type": "code",
   "execution_count": 6,
   "metadata": {
    "_kg_hide-input": true,
    "_kg_hide-output": true,
    "execution": {
     "iopub.execute_input": "2020-09-02T04:53:37.006825Z",
     "iopub.status.busy": "2020-09-02T04:53:37.006001Z",
     "iopub.status.idle": "2020-09-02T04:53:37.082218Z",
     "shell.execute_reply": "2020-09-02T04:53:37.081487Z"
    },
    "papermill": {
     "duration": 0.109891,
     "end_time": "2020-09-02T04:53:37.082361",
     "exception": false,
     "start_time": "2020-09-02T04:53:36.972470",
     "status": "completed"
    },
    "tags": []
   },
   "outputs": [
    {
     "data": {
      "text/html": [
       "<div>\n",
       "<style scoped>\n",
       "    .dataframe tbody tr th:only-of-type {\n",
       "        vertical-align: middle;\n",
       "    }\n",
       "\n",
       "    .dataframe tbody tr th {\n",
       "        vertical-align: top;\n",
       "    }\n",
       "\n",
       "    .dataframe thead th {\n",
       "        text-align: right;\n",
       "    }\n",
       "</style>\n",
       "<table border=\"1\" class=\"dataframe\">\n",
       "  <thead>\n",
       "    <tr style=\"text-align: right;\">\n",
       "      <th></th>\n",
       "      <th>CAND_ID</th>\n",
       "      <th>CAND_NAME</th>\n",
       "      <th>CAND_ICI</th>\n",
       "      <th>PTY_CD</th>\n",
       "      <th>CAND_PTY_AFFILIATION</th>\n",
       "      <th>TTL_RECEIPTS</th>\n",
       "      <th>TRANS_FROM_AUTH</th>\n",
       "      <th>TTL_DISB</th>\n",
       "      <th>TRANS_TO_AUTH</th>\n",
       "      <th>COH_BOP</th>\n",
       "      <th>COH_COP</th>\n",
       "      <th>CAND_CONTRIB</th>\n",
       "      <th>CAND_LOANS</th>\n",
       "      <th>OTHER_LOANS</th>\n",
       "      <th>CAND_LOAN_REPAY</th>\n",
       "      <th>OTHER_LOAN_REPAY</th>\n",
       "      <th>DEBTS_OWED_BY</th>\n",
       "      <th>TTL_INDIV_CONTRIB</th>\n",
       "      <th>CAND_OFFICE_ST</th>\n",
       "      <th>CAND_OFFICE_DISTRICT</th>\n",
       "      <th>SPEC_ELECTION</th>\n",
       "      <th>PRIM_ELECTION</th>\n",
       "      <th>RUN_ELECTION</th>\n",
       "      <th>GEN_ELECTION</th>\n",
       "      <th>GEN_ELECTION_PRECENT</th>\n",
       "      <th>OTHER_POL_CMTE_CONTRIB</th>\n",
       "      <th>POL_PTY_CONTRIB</th>\n",
       "      <th>CVG_END_DT</th>\n",
       "      <th>INDIV_REFUNDS</th>\n",
       "      <th>CMTE_REFUNDS</th>\n",
       "      <th>TTL_RECEIPTS_CORRECTED</th>\n",
       "      <th>TTL_DISB_CORRECTED</th>\n",
       "    </tr>\n",
       "  </thead>\n",
       "  <tbody>\n",
       "    <tr>\n",
       "      <th>0</th>\n",
       "      <td>H8AK00132</td>\n",
       "      <td>SHEIN, DIMITRI</td>\n",
       "      <td>C</td>\n",
       "      <td>1</td>\n",
       "      <td>DEM</td>\n",
       "      <td>0.00</td>\n",
       "      <td>0.00</td>\n",
       "      <td>367.52</td>\n",
       "      <td>0.0</td>\n",
       "      <td>367.52</td>\n",
       "      <td>0.00</td>\n",
       "      <td>0.00</td>\n",
       "      <td>0.0</td>\n",
       "      <td>0.0</td>\n",
       "      <td>367.52</td>\n",
       "      <td>0.0</td>\n",
       "      <td>0.00</td>\n",
       "      <td>0.00</td>\n",
       "      <td>AK</td>\n",
       "      <td>0</td>\n",
       "      <td>NaN</td>\n",
       "      <td>NaN</td>\n",
       "      <td>NaN</td>\n",
       "      <td>NaN</td>\n",
       "      <td>NaN</td>\n",
       "      <td>0.00</td>\n",
       "      <td>0.0</td>\n",
       "      <td>09/30/2019</td>\n",
       "      <td>0.00</td>\n",
       "      <td>0.0</td>\n",
       "      <td>0.00</td>\n",
       "      <td>367.52</td>\n",
       "    </tr>\n",
       "    <tr>\n",
       "      <th>1</th>\n",
       "      <td>H6AK00045</td>\n",
       "      <td>YOUNG, DONALD E</td>\n",
       "      <td>I</td>\n",
       "      <td>2</td>\n",
       "      <td>REP</td>\n",
       "      <td>1012401.48</td>\n",
       "      <td>130245.48</td>\n",
       "      <td>325545.51</td>\n",
       "      <td>0.0</td>\n",
       "      <td>116720.12</td>\n",
       "      <td>803576.09</td>\n",
       "      <td>0.00</td>\n",
       "      <td>0.0</td>\n",
       "      <td>0.0</td>\n",
       "      <td>0.00</td>\n",
       "      <td>0.0</td>\n",
       "      <td>0.00</td>\n",
       "      <td>417190.55</td>\n",
       "      <td>AK</td>\n",
       "      <td>0</td>\n",
       "      <td>NaN</td>\n",
       "      <td>NaN</td>\n",
       "      <td>NaN</td>\n",
       "      <td>NaN</td>\n",
       "      <td>NaN</td>\n",
       "      <td>458194.63</td>\n",
       "      <td>0.0</td>\n",
       "      <td>03/31/2020</td>\n",
       "      <td>0.00</td>\n",
       "      <td>2000.0</td>\n",
       "      <td>1012401.48</td>\n",
       "      <td>325545.51</td>\n",
       "    </tr>\n",
       "    <tr>\n",
       "      <th>2</th>\n",
       "      <td>H8AK01031</td>\n",
       "      <td>NELSON, THOMAS JOHN</td>\n",
       "      <td>C</td>\n",
       "      <td>2</td>\n",
       "      <td>REP</td>\n",
       "      <td>0.00</td>\n",
       "      <td>0.00</td>\n",
       "      <td>466.51</td>\n",
       "      <td>0.0</td>\n",
       "      <td>466.51</td>\n",
       "      <td>0.00</td>\n",
       "      <td>0.00</td>\n",
       "      <td>0.0</td>\n",
       "      <td>0.0</td>\n",
       "      <td>0.00</td>\n",
       "      <td>0.0</td>\n",
       "      <td>0.00</td>\n",
       "      <td>0.00</td>\n",
       "      <td>AK</td>\n",
       "      <td>0</td>\n",
       "      <td>NaN</td>\n",
       "      <td>NaN</td>\n",
       "      <td>NaN</td>\n",
       "      <td>NaN</td>\n",
       "      <td>NaN</td>\n",
       "      <td>0.00</td>\n",
       "      <td>0.0</td>\n",
       "      <td>03/31/2019</td>\n",
       "      <td>0.00</td>\n",
       "      <td>0.0</td>\n",
       "      <td>0.00</td>\n",
       "      <td>466.51</td>\n",
       "    </tr>\n",
       "    <tr>\n",
       "      <th>3</th>\n",
       "      <td>H8AK00140</td>\n",
       "      <td>GALVIN, ALYSE</td>\n",
       "      <td>C</td>\n",
       "      <td>3</td>\n",
       "      <td>IND</td>\n",
       "      <td>1358372.81</td>\n",
       "      <td>0.00</td>\n",
       "      <td>403275.92</td>\n",
       "      <td>0.0</td>\n",
       "      <td>6245.09</td>\n",
       "      <td>961341.98</td>\n",
       "      <td>2955.81</td>\n",
       "      <td>0.0</td>\n",
       "      <td>0.0</td>\n",
       "      <td>0.00</td>\n",
       "      <td>0.0</td>\n",
       "      <td>56940.58</td>\n",
       "      <td>1279739.80</td>\n",
       "      <td>AK</td>\n",
       "      <td>0</td>\n",
       "      <td>NaN</td>\n",
       "      <td>NaN</td>\n",
       "      <td>NaN</td>\n",
       "      <td>NaN</td>\n",
       "      <td>NaN</td>\n",
       "      <td>38350.00</td>\n",
       "      <td>0.0</td>\n",
       "      <td>03/31/2020</td>\n",
       "      <td>7836.19</td>\n",
       "      <td>0.0</td>\n",
       "      <td>1358372.81</td>\n",
       "      <td>403275.92</td>\n",
       "    </tr>\n",
       "    <tr>\n",
       "      <th>4</th>\n",
       "      <td>H0AL01097</td>\n",
       "      <td>AVERHART, JAMES</td>\n",
       "      <td>O</td>\n",
       "      <td>1</td>\n",
       "      <td>DEM</td>\n",
       "      <td>50126.74</td>\n",
       "      <td>0.00</td>\n",
       "      <td>40699.28</td>\n",
       "      <td>0.0</td>\n",
       "      <td>0.00</td>\n",
       "      <td>9427.46</td>\n",
       "      <td>0.00</td>\n",
       "      <td>26845.0</td>\n",
       "      <td>0.0</td>\n",
       "      <td>0.00</td>\n",
       "      <td>0.0</td>\n",
       "      <td>26845.00</td>\n",
       "      <td>23281.74</td>\n",
       "      <td>AL</td>\n",
       "      <td>1</td>\n",
       "      <td>NaN</td>\n",
       "      <td>NaN</td>\n",
       "      <td>NaN</td>\n",
       "      <td>NaN</td>\n",
       "      <td>NaN</td>\n",
       "      <td>0.00</td>\n",
       "      <td>0.0</td>\n",
       "      <td>06/30/2020</td>\n",
       "      <td>0.00</td>\n",
       "      <td>0.0</td>\n",
       "      <td>50126.74</td>\n",
       "      <td>40699.28</td>\n",
       "    </tr>\n",
       "  </tbody>\n",
       "</table>\n",
       "</div>"
      ],
      "text/plain": [
       "     CAND_ID            CAND_NAME CAND_ICI  PTY_CD CAND_PTY_AFFILIATION  \\\n",
       "0  H8AK00132       SHEIN, DIMITRI        C       1                  DEM   \n",
       "1  H6AK00045      YOUNG, DONALD E        I       2                  REP   \n",
       "2  H8AK01031  NELSON, THOMAS JOHN        C       2                  REP   \n",
       "3  H8AK00140        GALVIN, ALYSE        C       3                  IND   \n",
       "4  H0AL01097      AVERHART, JAMES        O       1                  DEM   \n",
       "\n",
       "   TTL_RECEIPTS  TRANS_FROM_AUTH   TTL_DISB  TRANS_TO_AUTH    COH_BOP  \\\n",
       "0          0.00             0.00     367.52            0.0     367.52   \n",
       "1    1012401.48        130245.48  325545.51            0.0  116720.12   \n",
       "2          0.00             0.00     466.51            0.0     466.51   \n",
       "3    1358372.81             0.00  403275.92            0.0    6245.09   \n",
       "4      50126.74             0.00   40699.28            0.0       0.00   \n",
       "\n",
       "     COH_COP  CAND_CONTRIB  CAND_LOANS  OTHER_LOANS  CAND_LOAN_REPAY  \\\n",
       "0       0.00          0.00         0.0          0.0           367.52   \n",
       "1  803576.09          0.00         0.0          0.0             0.00   \n",
       "2       0.00          0.00         0.0          0.0             0.00   \n",
       "3  961341.98       2955.81         0.0          0.0             0.00   \n",
       "4    9427.46          0.00     26845.0          0.0             0.00   \n",
       "\n",
       "   OTHER_LOAN_REPAY  DEBTS_OWED_BY  TTL_INDIV_CONTRIB CAND_OFFICE_ST  \\\n",
       "0               0.0           0.00               0.00             AK   \n",
       "1               0.0           0.00          417190.55             AK   \n",
       "2               0.0           0.00               0.00             AK   \n",
       "3               0.0       56940.58         1279739.80             AK   \n",
       "4               0.0       26845.00           23281.74             AL   \n",
       "\n",
       "   CAND_OFFICE_DISTRICT  SPEC_ELECTION  PRIM_ELECTION  RUN_ELECTION  \\\n",
       "0                     0            NaN            NaN           NaN   \n",
       "1                     0            NaN            NaN           NaN   \n",
       "2                     0            NaN            NaN           NaN   \n",
       "3                     0            NaN            NaN           NaN   \n",
       "4                     1            NaN            NaN           NaN   \n",
       "\n",
       "   GEN_ELECTION  GEN_ELECTION_PRECENT  OTHER_POL_CMTE_CONTRIB  \\\n",
       "0           NaN                   NaN                    0.00   \n",
       "1           NaN                   NaN               458194.63   \n",
       "2           NaN                   NaN                    0.00   \n",
       "3           NaN                   NaN                38350.00   \n",
       "4           NaN                   NaN                    0.00   \n",
       "\n",
       "   POL_PTY_CONTRIB  CVG_END_DT  INDIV_REFUNDS  CMTE_REFUNDS  \\\n",
       "0              0.0  09/30/2019           0.00           0.0   \n",
       "1              0.0  03/31/2020           0.00        2000.0   \n",
       "2              0.0  03/31/2019           0.00           0.0   \n",
       "3              0.0  03/31/2020        7836.19           0.0   \n",
       "4              0.0  06/30/2020           0.00           0.0   \n",
       "\n",
       "   TTL_RECEIPTS_CORRECTED  TTL_DISB_CORRECTED  \n",
       "0                    0.00              367.52  \n",
       "1              1012401.48           325545.51  \n",
       "2                    0.00              466.51  \n",
       "3              1358372.81           403275.92  \n",
       "4                50126.74            40699.28  "
      ]
     },
     "execution_count": 6,
     "metadata": {},
     "output_type": "execute_result"
    }
   ],
   "source": [
    "def receipts_disbursements_clean_up_func(df):\n",
    "    \n",
    "    predicate = (df['TRANS_FROM_AUTH'] != 0.0) & (df['TRANS_TO_AUTH'] != 0.0)\n",
    "    \n",
    "    df.loc[predicate, 'TTL_RECEIPTS_CORRECTED'] = df['TTL_RECEIPTS'] - df['TRANS_FROM_AUTH']\n",
    "    df['TTL_RECEIPTS_CORRECTED'] = df['TTL_RECEIPTS_CORRECTED'].fillna(df['TTL_RECEIPTS'])\n",
    "    \n",
    "    df.loc[predicate, 'TTL_DISB_CORRECTED'] = df['TTL_DISB'] - df['TRANS_TO_AUTH']\n",
    "    df['TTL_DISB_CORRECTED'] = df['TTL_DISB_CORRECTED'].fillna(df['TTL_DISB'])\n",
    "    \n",
    "    return df\n",
    "\n",
    "all_candidates = receipts_disbursements_clean_up_func(all_candidates)\n",
    "all_candidates.head()"
   ]
  },
  {
   "cell_type": "code",
   "execution_count": 7,
   "metadata": {
    "_kg_hide-input": true,
    "_kg_hide-output": true,
    "execution": {
     "iopub.execute_input": "2020-09-02T04:53:37.149760Z",
     "iopub.status.busy": "2020-09-02T04:53:37.137007Z",
     "iopub.status.idle": "2020-09-02T04:53:37.183613Z",
     "shell.execute_reply": "2020-09-02T04:53:37.182776Z"
    },
    "papermill": {
     "duration": 0.079515,
     "end_time": "2020-09-02T04:53:37.183762",
     "exception": false,
     "start_time": "2020-09-02T04:53:37.104247",
     "status": "completed"
    },
    "tags": []
   },
   "outputs": [
    {
     "data": {
      "text/html": [
       "<div>\n",
       "<style scoped>\n",
       "    .dataframe tbody tr th:only-of-type {\n",
       "        vertical-align: middle;\n",
       "    }\n",
       "\n",
       "    .dataframe tbody tr th {\n",
       "        vertical-align: top;\n",
       "    }\n",
       "\n",
       "    .dataframe thead th {\n",
       "        text-align: right;\n",
       "    }\n",
       "</style>\n",
       "<table border=\"1\" class=\"dataframe\">\n",
       "  <thead>\n",
       "    <tr style=\"text-align: right;\">\n",
       "      <th></th>\n",
       "      <th>CAND_ID</th>\n",
       "      <th>CAND_NAME</th>\n",
       "      <th>CAND_ICI</th>\n",
       "      <th>PTY_CD</th>\n",
       "      <th>CAND_PTY_AFFILIATION</th>\n",
       "      <th>TTL_RECEIPTS</th>\n",
       "      <th>TRANS_FROM_AUTH</th>\n",
       "      <th>TTL_DISB</th>\n",
       "      <th>TRANS_TO_AUTH</th>\n",
       "      <th>COH_BOP</th>\n",
       "      <th>COH_COP</th>\n",
       "      <th>CAND_CONTRIB</th>\n",
       "      <th>CAND_LOANS</th>\n",
       "      <th>OTHER_LOANS</th>\n",
       "      <th>CAND_LOAN_REPAY</th>\n",
       "      <th>OTHER_LOAN_REPAY</th>\n",
       "      <th>DEBTS_OWED_BY</th>\n",
       "      <th>TTL_INDIV_CONTRIB</th>\n",
       "      <th>CAND_OFFICE_ST</th>\n",
       "      <th>CAND_OFFICE_DISTRICT</th>\n",
       "      <th>SPEC_ELECTION</th>\n",
       "      <th>PRIM_ELECTION</th>\n",
       "      <th>RUN_ELECTION</th>\n",
       "      <th>GEN_ELECTION</th>\n",
       "      <th>GEN_ELECTION_PRECENT</th>\n",
       "      <th>OTHER_POL_CMTE_CONTRIB</th>\n",
       "      <th>POL_PTY_CONTRIB</th>\n",
       "      <th>CVG_END_DT</th>\n",
       "      <th>INDIV_REFUNDS</th>\n",
       "      <th>CMTE_REFUNDS</th>\n",
       "      <th>TTL_RECEIPTS_CORRECTED</th>\n",
       "      <th>TTL_DISB_CORRECTED</th>\n",
       "      <th>CAND_ICI_FULL</th>\n",
       "    </tr>\n",
       "  </thead>\n",
       "  <tbody>\n",
       "    <tr>\n",
       "      <th>0</th>\n",
       "      <td>H8AK00132</td>\n",
       "      <td>SHEIN, DIMITRI</td>\n",
       "      <td>C</td>\n",
       "      <td>1</td>\n",
       "      <td>DEM</td>\n",
       "      <td>0.00</td>\n",
       "      <td>0.00</td>\n",
       "      <td>367.52</td>\n",
       "      <td>0.0</td>\n",
       "      <td>367.52</td>\n",
       "      <td>0.00</td>\n",
       "      <td>0.00</td>\n",
       "      <td>0.0</td>\n",
       "      <td>0.0</td>\n",
       "      <td>367.52</td>\n",
       "      <td>0.0</td>\n",
       "      <td>0.00</td>\n",
       "      <td>0.00</td>\n",
       "      <td>AK</td>\n",
       "      <td>0</td>\n",
       "      <td>NaN</td>\n",
       "      <td>NaN</td>\n",
       "      <td>NaN</td>\n",
       "      <td>NaN</td>\n",
       "      <td>NaN</td>\n",
       "      <td>0.00</td>\n",
       "      <td>0.0</td>\n",
       "      <td>09/30/2019</td>\n",
       "      <td>0.00</td>\n",
       "      <td>0.0</td>\n",
       "      <td>0.00</td>\n",
       "      <td>367.52</td>\n",
       "      <td>Challenger</td>\n",
       "    </tr>\n",
       "    <tr>\n",
       "      <th>1</th>\n",
       "      <td>H6AK00045</td>\n",
       "      <td>YOUNG, DONALD E</td>\n",
       "      <td>I</td>\n",
       "      <td>2</td>\n",
       "      <td>REP</td>\n",
       "      <td>1012401.48</td>\n",
       "      <td>130245.48</td>\n",
       "      <td>325545.51</td>\n",
       "      <td>0.0</td>\n",
       "      <td>116720.12</td>\n",
       "      <td>803576.09</td>\n",
       "      <td>0.00</td>\n",
       "      <td>0.0</td>\n",
       "      <td>0.0</td>\n",
       "      <td>0.00</td>\n",
       "      <td>0.0</td>\n",
       "      <td>0.00</td>\n",
       "      <td>417190.55</td>\n",
       "      <td>AK</td>\n",
       "      <td>0</td>\n",
       "      <td>NaN</td>\n",
       "      <td>NaN</td>\n",
       "      <td>NaN</td>\n",
       "      <td>NaN</td>\n",
       "      <td>NaN</td>\n",
       "      <td>458194.63</td>\n",
       "      <td>0.0</td>\n",
       "      <td>03/31/2020</td>\n",
       "      <td>0.00</td>\n",
       "      <td>2000.0</td>\n",
       "      <td>1012401.48</td>\n",
       "      <td>325545.51</td>\n",
       "      <td>Incumbent</td>\n",
       "    </tr>\n",
       "    <tr>\n",
       "      <th>2</th>\n",
       "      <td>H8AK01031</td>\n",
       "      <td>NELSON, THOMAS JOHN</td>\n",
       "      <td>C</td>\n",
       "      <td>2</td>\n",
       "      <td>REP</td>\n",
       "      <td>0.00</td>\n",
       "      <td>0.00</td>\n",
       "      <td>466.51</td>\n",
       "      <td>0.0</td>\n",
       "      <td>466.51</td>\n",
       "      <td>0.00</td>\n",
       "      <td>0.00</td>\n",
       "      <td>0.0</td>\n",
       "      <td>0.0</td>\n",
       "      <td>0.00</td>\n",
       "      <td>0.0</td>\n",
       "      <td>0.00</td>\n",
       "      <td>0.00</td>\n",
       "      <td>AK</td>\n",
       "      <td>0</td>\n",
       "      <td>NaN</td>\n",
       "      <td>NaN</td>\n",
       "      <td>NaN</td>\n",
       "      <td>NaN</td>\n",
       "      <td>NaN</td>\n",
       "      <td>0.00</td>\n",
       "      <td>0.0</td>\n",
       "      <td>03/31/2019</td>\n",
       "      <td>0.00</td>\n",
       "      <td>0.0</td>\n",
       "      <td>0.00</td>\n",
       "      <td>466.51</td>\n",
       "      <td>Challenger</td>\n",
       "    </tr>\n",
       "    <tr>\n",
       "      <th>3</th>\n",
       "      <td>H8AK00140</td>\n",
       "      <td>GALVIN, ALYSE</td>\n",
       "      <td>C</td>\n",
       "      <td>3</td>\n",
       "      <td>IND</td>\n",
       "      <td>1358372.81</td>\n",
       "      <td>0.00</td>\n",
       "      <td>403275.92</td>\n",
       "      <td>0.0</td>\n",
       "      <td>6245.09</td>\n",
       "      <td>961341.98</td>\n",
       "      <td>2955.81</td>\n",
       "      <td>0.0</td>\n",
       "      <td>0.0</td>\n",
       "      <td>0.00</td>\n",
       "      <td>0.0</td>\n",
       "      <td>56940.58</td>\n",
       "      <td>1279739.80</td>\n",
       "      <td>AK</td>\n",
       "      <td>0</td>\n",
       "      <td>NaN</td>\n",
       "      <td>NaN</td>\n",
       "      <td>NaN</td>\n",
       "      <td>NaN</td>\n",
       "      <td>NaN</td>\n",
       "      <td>38350.00</td>\n",
       "      <td>0.0</td>\n",
       "      <td>03/31/2020</td>\n",
       "      <td>7836.19</td>\n",
       "      <td>0.0</td>\n",
       "      <td>1358372.81</td>\n",
       "      <td>403275.92</td>\n",
       "      <td>Challenger</td>\n",
       "    </tr>\n",
       "    <tr>\n",
       "      <th>4</th>\n",
       "      <td>H0AL01097</td>\n",
       "      <td>AVERHART, JAMES</td>\n",
       "      <td>O</td>\n",
       "      <td>1</td>\n",
       "      <td>DEM</td>\n",
       "      <td>50126.74</td>\n",
       "      <td>0.00</td>\n",
       "      <td>40699.28</td>\n",
       "      <td>0.0</td>\n",
       "      <td>0.00</td>\n",
       "      <td>9427.46</td>\n",
       "      <td>0.00</td>\n",
       "      <td>26845.0</td>\n",
       "      <td>0.0</td>\n",
       "      <td>0.00</td>\n",
       "      <td>0.0</td>\n",
       "      <td>26845.00</td>\n",
       "      <td>23281.74</td>\n",
       "      <td>AL</td>\n",
       "      <td>1</td>\n",
       "      <td>NaN</td>\n",
       "      <td>NaN</td>\n",
       "      <td>NaN</td>\n",
       "      <td>NaN</td>\n",
       "      <td>NaN</td>\n",
       "      <td>0.00</td>\n",
       "      <td>0.0</td>\n",
       "      <td>06/30/2020</td>\n",
       "      <td>0.00</td>\n",
       "      <td>0.0</td>\n",
       "      <td>50126.74</td>\n",
       "      <td>40699.28</td>\n",
       "      <td>Open Seat</td>\n",
       "    </tr>\n",
       "  </tbody>\n",
       "</table>\n",
       "</div>"
      ],
      "text/plain": [
       "     CAND_ID            CAND_NAME CAND_ICI  PTY_CD CAND_PTY_AFFILIATION  \\\n",
       "0  H8AK00132       SHEIN, DIMITRI        C       1                  DEM   \n",
       "1  H6AK00045      YOUNG, DONALD E        I       2                  REP   \n",
       "2  H8AK01031  NELSON, THOMAS JOHN        C       2                  REP   \n",
       "3  H8AK00140        GALVIN, ALYSE        C       3                  IND   \n",
       "4  H0AL01097      AVERHART, JAMES        O       1                  DEM   \n",
       "\n",
       "   TTL_RECEIPTS  TRANS_FROM_AUTH   TTL_DISB  TRANS_TO_AUTH    COH_BOP  \\\n",
       "0          0.00             0.00     367.52            0.0     367.52   \n",
       "1    1012401.48        130245.48  325545.51            0.0  116720.12   \n",
       "2          0.00             0.00     466.51            0.0     466.51   \n",
       "3    1358372.81             0.00  403275.92            0.0    6245.09   \n",
       "4      50126.74             0.00   40699.28            0.0       0.00   \n",
       "\n",
       "     COH_COP  CAND_CONTRIB  CAND_LOANS  OTHER_LOANS  CAND_LOAN_REPAY  \\\n",
       "0       0.00          0.00         0.0          0.0           367.52   \n",
       "1  803576.09          0.00         0.0          0.0             0.00   \n",
       "2       0.00          0.00         0.0          0.0             0.00   \n",
       "3  961341.98       2955.81         0.0          0.0             0.00   \n",
       "4    9427.46          0.00     26845.0          0.0             0.00   \n",
       "\n",
       "   OTHER_LOAN_REPAY  DEBTS_OWED_BY  TTL_INDIV_CONTRIB CAND_OFFICE_ST  \\\n",
       "0               0.0           0.00               0.00             AK   \n",
       "1               0.0           0.00          417190.55             AK   \n",
       "2               0.0           0.00               0.00             AK   \n",
       "3               0.0       56940.58         1279739.80             AK   \n",
       "4               0.0       26845.00           23281.74             AL   \n",
       "\n",
       "   CAND_OFFICE_DISTRICT  SPEC_ELECTION  PRIM_ELECTION  RUN_ELECTION  \\\n",
       "0                     0            NaN            NaN           NaN   \n",
       "1                     0            NaN            NaN           NaN   \n",
       "2                     0            NaN            NaN           NaN   \n",
       "3                     0            NaN            NaN           NaN   \n",
       "4                     1            NaN            NaN           NaN   \n",
       "\n",
       "   GEN_ELECTION  GEN_ELECTION_PRECENT  OTHER_POL_CMTE_CONTRIB  \\\n",
       "0           NaN                   NaN                    0.00   \n",
       "1           NaN                   NaN               458194.63   \n",
       "2           NaN                   NaN                    0.00   \n",
       "3           NaN                   NaN                38350.00   \n",
       "4           NaN                   NaN                    0.00   \n",
       "\n",
       "   POL_PTY_CONTRIB  CVG_END_DT  INDIV_REFUNDS  CMTE_REFUNDS  \\\n",
       "0              0.0  09/30/2019           0.00           0.0   \n",
       "1              0.0  03/31/2020           0.00        2000.0   \n",
       "2              0.0  03/31/2019           0.00           0.0   \n",
       "3              0.0  03/31/2020        7836.19           0.0   \n",
       "4              0.0  06/30/2020           0.00           0.0   \n",
       "\n",
       "   TTL_RECEIPTS_CORRECTED  TTL_DISB_CORRECTED CAND_ICI_FULL  \n",
       "0                    0.00              367.52    Challenger  \n",
       "1              1012401.48           325545.51     Incumbent  \n",
       "2                    0.00              466.51    Challenger  \n",
       "3              1358372.81           403275.92    Challenger  \n",
       "4                50126.74            40699.28     Open Seat  "
      ]
     },
     "execution_count": 7,
     "metadata": {},
     "output_type": "execute_result"
    }
   ],
   "source": [
    "def map_candidate_to_seat_type(df):\n",
    "    \n",
    "    ici_map = {'C': 'Challenger', 'I': 'Incumbent', 'O': 'Open Seat'}\n",
    "    df['CAND_ICI_FULL'] = df['CAND_ICI'].map(ici_map)\n",
    "    \n",
    "    return df\n",
    "\n",
    "all_candidates = map_candidate_to_seat_type(all_candidates)\n",
    "all_candidates.head()"
   ]
  },
  {
   "cell_type": "code",
   "execution_count": 8,
   "metadata": {
    "_kg_hide-input": true,
    "_kg_hide-output": true,
    "execution": {
     "iopub.execute_input": "2020-09-02T04:53:37.243555Z",
     "iopub.status.busy": "2020-09-02T04:53:37.242657Z",
     "iopub.status.idle": "2020-09-02T04:53:37.453450Z",
     "shell.execute_reply": "2020-09-02T04:53:37.452663Z"
    },
    "papermill": {
     "duration": 0.248132,
     "end_time": "2020-09-02T04:53:37.453613",
     "exception": false,
     "start_time": "2020-09-02T04:53:37.205481",
     "status": "completed"
    },
    "tags": []
   },
   "outputs": [
    {
     "data": {
      "text/html": [
       "<div>\n",
       "<style scoped>\n",
       "    .dataframe tbody tr th:only-of-type {\n",
       "        vertical-align: middle;\n",
       "    }\n",
       "\n",
       "    .dataframe tbody tr th {\n",
       "        vertical-align: top;\n",
       "    }\n",
       "\n",
       "    .dataframe thead th {\n",
       "        text-align: right;\n",
       "    }\n",
       "</style>\n",
       "<table border=\"1\" class=\"dataframe\">\n",
       "  <thead>\n",
       "    <tr style=\"text-align: right;\">\n",
       "      <th></th>\n",
       "      <th>CAND_ID</th>\n",
       "      <th>CAND_NAME</th>\n",
       "      <th>CAND_ICI</th>\n",
       "      <th>PTY_CD</th>\n",
       "      <th>CAND_PTY_AFFILIATION</th>\n",
       "      <th>TTL_RECEIPTS</th>\n",
       "      <th>TRANS_FROM_AUTH</th>\n",
       "      <th>TTL_DISB</th>\n",
       "      <th>TRANS_TO_AUTH</th>\n",
       "      <th>COH_BOP</th>\n",
       "      <th>COH_COP</th>\n",
       "      <th>CAND_CONTRIB</th>\n",
       "      <th>CAND_LOANS</th>\n",
       "      <th>OTHER_LOANS</th>\n",
       "      <th>CAND_LOAN_REPAY</th>\n",
       "      <th>OTHER_LOAN_REPAY</th>\n",
       "      <th>DEBTS_OWED_BY</th>\n",
       "      <th>TTL_INDIV_CONTRIB</th>\n",
       "      <th>CAND_OFFICE_ST</th>\n",
       "      <th>CAND_OFFICE_DISTRICT</th>\n",
       "      <th>SPEC_ELECTION</th>\n",
       "      <th>PRIM_ELECTION</th>\n",
       "      <th>RUN_ELECTION</th>\n",
       "      <th>GEN_ELECTION</th>\n",
       "      <th>GEN_ELECTION_PRECENT</th>\n",
       "      <th>OTHER_POL_CMTE_CONTRIB</th>\n",
       "      <th>POL_PTY_CONTRIB</th>\n",
       "      <th>CVG_END_DT</th>\n",
       "      <th>INDIV_REFUNDS</th>\n",
       "      <th>CMTE_REFUNDS</th>\n",
       "      <th>TTL_RECEIPTS_CORRECTED</th>\n",
       "      <th>TTL_DISB_CORRECTED</th>\n",
       "      <th>CAND_ICI_FULL</th>\n",
       "      <th>CAND_PTY_AFFILIATION_FULL</th>\n",
       "    </tr>\n",
       "  </thead>\n",
       "  <tbody>\n",
       "    <tr>\n",
       "      <th>0</th>\n",
       "      <td>H8AK00132</td>\n",
       "      <td>SHEIN, DIMITRI</td>\n",
       "      <td>C</td>\n",
       "      <td>1</td>\n",
       "      <td>DEM</td>\n",
       "      <td>0.00</td>\n",
       "      <td>0.00</td>\n",
       "      <td>367.52</td>\n",
       "      <td>0.0</td>\n",
       "      <td>367.52</td>\n",
       "      <td>0.00</td>\n",
       "      <td>0.00</td>\n",
       "      <td>0.0</td>\n",
       "      <td>0.0</td>\n",
       "      <td>367.52</td>\n",
       "      <td>0.0</td>\n",
       "      <td>0.00</td>\n",
       "      <td>0.00</td>\n",
       "      <td>AK</td>\n",
       "      <td>0</td>\n",
       "      <td>NaN</td>\n",
       "      <td>NaN</td>\n",
       "      <td>NaN</td>\n",
       "      <td>NaN</td>\n",
       "      <td>NaN</td>\n",
       "      <td>0.00</td>\n",
       "      <td>0.0</td>\n",
       "      <td>09/30/2019</td>\n",
       "      <td>0.00</td>\n",
       "      <td>0.0</td>\n",
       "      <td>0.00</td>\n",
       "      <td>367.52</td>\n",
       "      <td>Challenger</td>\n",
       "      <td>Democratic Party</td>\n",
       "    </tr>\n",
       "    <tr>\n",
       "      <th>1</th>\n",
       "      <td>H6AK00045</td>\n",
       "      <td>YOUNG, DONALD E</td>\n",
       "      <td>I</td>\n",
       "      <td>2</td>\n",
       "      <td>REP</td>\n",
       "      <td>1012401.48</td>\n",
       "      <td>130245.48</td>\n",
       "      <td>325545.51</td>\n",
       "      <td>0.0</td>\n",
       "      <td>116720.12</td>\n",
       "      <td>803576.09</td>\n",
       "      <td>0.00</td>\n",
       "      <td>0.0</td>\n",
       "      <td>0.0</td>\n",
       "      <td>0.00</td>\n",
       "      <td>0.0</td>\n",
       "      <td>0.00</td>\n",
       "      <td>417190.55</td>\n",
       "      <td>AK</td>\n",
       "      <td>0</td>\n",
       "      <td>NaN</td>\n",
       "      <td>NaN</td>\n",
       "      <td>NaN</td>\n",
       "      <td>NaN</td>\n",
       "      <td>NaN</td>\n",
       "      <td>458194.63</td>\n",
       "      <td>0.0</td>\n",
       "      <td>03/31/2020</td>\n",
       "      <td>0.00</td>\n",
       "      <td>2000.0</td>\n",
       "      <td>1012401.48</td>\n",
       "      <td>325545.51</td>\n",
       "      <td>Incumbent</td>\n",
       "      <td>Republican Party</td>\n",
       "    </tr>\n",
       "    <tr>\n",
       "      <th>2</th>\n",
       "      <td>H8AK01031</td>\n",
       "      <td>NELSON, THOMAS JOHN</td>\n",
       "      <td>C</td>\n",
       "      <td>2</td>\n",
       "      <td>REP</td>\n",
       "      <td>0.00</td>\n",
       "      <td>0.00</td>\n",
       "      <td>466.51</td>\n",
       "      <td>0.0</td>\n",
       "      <td>466.51</td>\n",
       "      <td>0.00</td>\n",
       "      <td>0.00</td>\n",
       "      <td>0.0</td>\n",
       "      <td>0.0</td>\n",
       "      <td>0.00</td>\n",
       "      <td>0.0</td>\n",
       "      <td>0.00</td>\n",
       "      <td>0.00</td>\n",
       "      <td>AK</td>\n",
       "      <td>0</td>\n",
       "      <td>NaN</td>\n",
       "      <td>NaN</td>\n",
       "      <td>NaN</td>\n",
       "      <td>NaN</td>\n",
       "      <td>NaN</td>\n",
       "      <td>0.00</td>\n",
       "      <td>0.0</td>\n",
       "      <td>03/31/2019</td>\n",
       "      <td>0.00</td>\n",
       "      <td>0.0</td>\n",
       "      <td>0.00</td>\n",
       "      <td>466.51</td>\n",
       "      <td>Challenger</td>\n",
       "      <td>Republican Party</td>\n",
       "    </tr>\n",
       "    <tr>\n",
       "      <th>3</th>\n",
       "      <td>H8AK00140</td>\n",
       "      <td>GALVIN, ALYSE</td>\n",
       "      <td>C</td>\n",
       "      <td>3</td>\n",
       "      <td>IND</td>\n",
       "      <td>1358372.81</td>\n",
       "      <td>0.00</td>\n",
       "      <td>403275.92</td>\n",
       "      <td>0.0</td>\n",
       "      <td>6245.09</td>\n",
       "      <td>961341.98</td>\n",
       "      <td>2955.81</td>\n",
       "      <td>0.0</td>\n",
       "      <td>0.0</td>\n",
       "      <td>0.00</td>\n",
       "      <td>0.0</td>\n",
       "      <td>56940.58</td>\n",
       "      <td>1279739.80</td>\n",
       "      <td>AK</td>\n",
       "      <td>0</td>\n",
       "      <td>NaN</td>\n",
       "      <td>NaN</td>\n",
       "      <td>NaN</td>\n",
       "      <td>NaN</td>\n",
       "      <td>NaN</td>\n",
       "      <td>38350.00</td>\n",
       "      <td>0.0</td>\n",
       "      <td>03/31/2020</td>\n",
       "      <td>7836.19</td>\n",
       "      <td>0.0</td>\n",
       "      <td>1358372.81</td>\n",
       "      <td>403275.92</td>\n",
       "      <td>Challenger</td>\n",
       "      <td>Independent</td>\n",
       "    </tr>\n",
       "    <tr>\n",
       "      <th>4</th>\n",
       "      <td>H0AL01097</td>\n",
       "      <td>AVERHART, JAMES</td>\n",
       "      <td>O</td>\n",
       "      <td>1</td>\n",
       "      <td>DEM</td>\n",
       "      <td>50126.74</td>\n",
       "      <td>0.00</td>\n",
       "      <td>40699.28</td>\n",
       "      <td>0.0</td>\n",
       "      <td>0.00</td>\n",
       "      <td>9427.46</td>\n",
       "      <td>0.00</td>\n",
       "      <td>26845.0</td>\n",
       "      <td>0.0</td>\n",
       "      <td>0.00</td>\n",
       "      <td>0.0</td>\n",
       "      <td>26845.00</td>\n",
       "      <td>23281.74</td>\n",
       "      <td>AL</td>\n",
       "      <td>1</td>\n",
       "      <td>NaN</td>\n",
       "      <td>NaN</td>\n",
       "      <td>NaN</td>\n",
       "      <td>NaN</td>\n",
       "      <td>NaN</td>\n",
       "      <td>0.00</td>\n",
       "      <td>0.0</td>\n",
       "      <td>06/30/2020</td>\n",
       "      <td>0.00</td>\n",
       "      <td>0.0</td>\n",
       "      <td>50126.74</td>\n",
       "      <td>40699.28</td>\n",
       "      <td>Open Seat</td>\n",
       "      <td>Democratic Party</td>\n",
       "    </tr>\n",
       "  </tbody>\n",
       "</table>\n",
       "</div>"
      ],
      "text/plain": [
       "     CAND_ID            CAND_NAME CAND_ICI  PTY_CD CAND_PTY_AFFILIATION  \\\n",
       "0  H8AK00132       SHEIN, DIMITRI        C       1                  DEM   \n",
       "1  H6AK00045      YOUNG, DONALD E        I       2                  REP   \n",
       "2  H8AK01031  NELSON, THOMAS JOHN        C       2                  REP   \n",
       "3  H8AK00140        GALVIN, ALYSE        C       3                  IND   \n",
       "4  H0AL01097      AVERHART, JAMES        O       1                  DEM   \n",
       "\n",
       "   TTL_RECEIPTS  TRANS_FROM_AUTH   TTL_DISB  TRANS_TO_AUTH    COH_BOP  \\\n",
       "0          0.00             0.00     367.52            0.0     367.52   \n",
       "1    1012401.48        130245.48  325545.51            0.0  116720.12   \n",
       "2          0.00             0.00     466.51            0.0     466.51   \n",
       "3    1358372.81             0.00  403275.92            0.0    6245.09   \n",
       "4      50126.74             0.00   40699.28            0.0       0.00   \n",
       "\n",
       "     COH_COP  CAND_CONTRIB  CAND_LOANS  OTHER_LOANS  CAND_LOAN_REPAY  \\\n",
       "0       0.00          0.00         0.0          0.0           367.52   \n",
       "1  803576.09          0.00         0.0          0.0             0.00   \n",
       "2       0.00          0.00         0.0          0.0             0.00   \n",
       "3  961341.98       2955.81         0.0          0.0             0.00   \n",
       "4    9427.46          0.00     26845.0          0.0             0.00   \n",
       "\n",
       "   OTHER_LOAN_REPAY  DEBTS_OWED_BY  TTL_INDIV_CONTRIB CAND_OFFICE_ST  \\\n",
       "0               0.0           0.00               0.00             AK   \n",
       "1               0.0           0.00          417190.55             AK   \n",
       "2               0.0           0.00               0.00             AK   \n",
       "3               0.0       56940.58         1279739.80             AK   \n",
       "4               0.0       26845.00           23281.74             AL   \n",
       "\n",
       "   CAND_OFFICE_DISTRICT  SPEC_ELECTION  PRIM_ELECTION  RUN_ELECTION  \\\n",
       "0                     0            NaN            NaN           NaN   \n",
       "1                     0            NaN            NaN           NaN   \n",
       "2                     0            NaN            NaN           NaN   \n",
       "3                     0            NaN            NaN           NaN   \n",
       "4                     1            NaN            NaN           NaN   \n",
       "\n",
       "   GEN_ELECTION  GEN_ELECTION_PRECENT  OTHER_POL_CMTE_CONTRIB  \\\n",
       "0           NaN                   NaN                    0.00   \n",
       "1           NaN                   NaN               458194.63   \n",
       "2           NaN                   NaN                    0.00   \n",
       "3           NaN                   NaN                38350.00   \n",
       "4           NaN                   NaN                    0.00   \n",
       "\n",
       "   POL_PTY_CONTRIB  CVG_END_DT  INDIV_REFUNDS  CMTE_REFUNDS  \\\n",
       "0              0.0  09/30/2019           0.00           0.0   \n",
       "1              0.0  03/31/2020           0.00        2000.0   \n",
       "2              0.0  03/31/2019           0.00           0.0   \n",
       "3              0.0  03/31/2020        7836.19           0.0   \n",
       "4              0.0  06/30/2020           0.00           0.0   \n",
       "\n",
       "   TTL_RECEIPTS_CORRECTED  TTL_DISB_CORRECTED CAND_ICI_FULL  \\\n",
       "0                    0.00              367.52    Challenger   \n",
       "1              1012401.48           325545.51     Incumbent   \n",
       "2                    0.00              466.51    Challenger   \n",
       "3              1358372.81           403275.92    Challenger   \n",
       "4                50126.74            40699.28     Open Seat   \n",
       "\n",
       "  CAND_PTY_AFFILIATION_FULL  \n",
       "0          Democratic Party  \n",
       "1          Republican Party  \n",
       "2          Republican Party  \n",
       "3               Independent  \n",
       "4          Democratic Party  "
      ]
     },
     "execution_count": 8,
     "metadata": {},
     "output_type": "execute_result"
    }
   ],
   "source": [
    "party_codes = read_table(\"https://www.fec.gov/campaign-finance-data/party-code-descriptions/\")\n",
    "\n",
    "def map_candidate_to_party(df):\n",
    "    \n",
    "    df['CAND_PTY_AFFILIATION_FULL'] = df['CAND_PTY_AFFILIATION'].map(party_codes)\n",
    "    \n",
    "    return df\n",
    "\n",
    "all_candidates = map_candidate_to_party(all_candidates)\n",
    "all_candidates.head()"
   ]
  },
  {
   "cell_type": "code",
   "execution_count": 9,
   "metadata": {
    "_kg_hide-input": true,
    "_kg_hide-output": true,
    "execution": {
     "iopub.execute_input": "2020-09-02T04:53:37.563006Z",
     "iopub.status.busy": "2020-09-02T04:53:37.561912Z",
     "iopub.status.idle": "2020-09-02T04:53:37.568859Z",
     "shell.execute_reply": "2020-09-02T04:53:37.568057Z"
    },
    "papermill": {
     "duration": 0.093214,
     "end_time": "2020-09-02T04:53:37.568999",
     "exception": false,
     "start_time": "2020-09-02T04:53:37.475785",
     "status": "completed"
    },
    "tags": []
   },
   "outputs": [
    {
     "data": {
      "text/html": [
       "<div>\n",
       "<style scoped>\n",
       "    .dataframe tbody tr th:only-of-type {\n",
       "        vertical-align: middle;\n",
       "    }\n",
       "\n",
       "    .dataframe tbody tr th {\n",
       "        vertical-align: top;\n",
       "    }\n",
       "\n",
       "    .dataframe thead th {\n",
       "        text-align: right;\n",
       "    }\n",
       "</style>\n",
       "<table border=\"1\" class=\"dataframe\">\n",
       "  <thead>\n",
       "    <tr style=\"text-align: right;\">\n",
       "      <th></th>\n",
       "      <th>CAND_ID</th>\n",
       "      <th>CAND_NAME</th>\n",
       "      <th>CAND_ICI</th>\n",
       "      <th>PTY_CD</th>\n",
       "      <th>CAND_PTY_AFFILIATION</th>\n",
       "      <th>TTL_RECEIPTS</th>\n",
       "      <th>TRANS_FROM_AUTH</th>\n",
       "      <th>TTL_DISB</th>\n",
       "      <th>TRANS_TO_AUTH</th>\n",
       "      <th>COH_BOP</th>\n",
       "      <th>COH_COP</th>\n",
       "      <th>CAND_CONTRIB</th>\n",
       "      <th>CAND_LOANS</th>\n",
       "      <th>OTHER_LOANS</th>\n",
       "      <th>CAND_LOAN_REPAY</th>\n",
       "      <th>OTHER_LOAN_REPAY</th>\n",
       "      <th>DEBTS_OWED_BY</th>\n",
       "      <th>TTL_INDIV_CONTRIB</th>\n",
       "      <th>CAND_OFFICE_ST</th>\n",
       "      <th>CAND_OFFICE_DISTRICT</th>\n",
       "      <th>SPEC_ELECTION</th>\n",
       "      <th>PRIM_ELECTION</th>\n",
       "      <th>RUN_ELECTION</th>\n",
       "      <th>GEN_ELECTION</th>\n",
       "      <th>GEN_ELECTION_PRECENT</th>\n",
       "      <th>OTHER_POL_CMTE_CONTRIB</th>\n",
       "      <th>POL_PTY_CONTRIB</th>\n",
       "      <th>CVG_END_DT</th>\n",
       "      <th>INDIV_REFUNDS</th>\n",
       "      <th>CMTE_REFUNDS</th>\n",
       "      <th>TTL_RECEIPTS_CORRECTED</th>\n",
       "      <th>TTL_DISB_CORRECTED</th>\n",
       "      <th>CAND_ICI_FULL</th>\n",
       "      <th>CAND_PTY_AFFILIATION_FULL</th>\n",
       "    </tr>\n",
       "  </thead>\n",
       "  <tbody>\n",
       "    <tr>\n",
       "      <th>0</th>\n",
       "      <td>H8AK00132</td>\n",
       "      <td>SHEIN, DIMITRI</td>\n",
       "      <td>C</td>\n",
       "      <td>1</td>\n",
       "      <td>DEM</td>\n",
       "      <td>0.00</td>\n",
       "      <td>0.00</td>\n",
       "      <td>367.52</td>\n",
       "      <td>0.0</td>\n",
       "      <td>367.52</td>\n",
       "      <td>0.00</td>\n",
       "      <td>0.00</td>\n",
       "      <td>0.0</td>\n",
       "      <td>0.0</td>\n",
       "      <td>367.52</td>\n",
       "      <td>0.0</td>\n",
       "      <td>0.00</td>\n",
       "      <td>0.00</td>\n",
       "      <td>AK</td>\n",
       "      <td>00</td>\n",
       "      <td>NaN</td>\n",
       "      <td>NaN</td>\n",
       "      <td>NaN</td>\n",
       "      <td>NaN</td>\n",
       "      <td>NaN</td>\n",
       "      <td>0.00</td>\n",
       "      <td>0.0</td>\n",
       "      <td>09/30/2019</td>\n",
       "      <td>0.00</td>\n",
       "      <td>0.0</td>\n",
       "      <td>0.00</td>\n",
       "      <td>367.52</td>\n",
       "      <td>Challenger</td>\n",
       "      <td>Democratic Party</td>\n",
       "    </tr>\n",
       "    <tr>\n",
       "      <th>1</th>\n",
       "      <td>H6AK00045</td>\n",
       "      <td>YOUNG, DONALD E</td>\n",
       "      <td>I</td>\n",
       "      <td>2</td>\n",
       "      <td>REP</td>\n",
       "      <td>1012401.48</td>\n",
       "      <td>130245.48</td>\n",
       "      <td>325545.51</td>\n",
       "      <td>0.0</td>\n",
       "      <td>116720.12</td>\n",
       "      <td>803576.09</td>\n",
       "      <td>0.00</td>\n",
       "      <td>0.0</td>\n",
       "      <td>0.0</td>\n",
       "      <td>0.00</td>\n",
       "      <td>0.0</td>\n",
       "      <td>0.00</td>\n",
       "      <td>417190.55</td>\n",
       "      <td>AK</td>\n",
       "      <td>00</td>\n",
       "      <td>NaN</td>\n",
       "      <td>NaN</td>\n",
       "      <td>NaN</td>\n",
       "      <td>NaN</td>\n",
       "      <td>NaN</td>\n",
       "      <td>458194.63</td>\n",
       "      <td>0.0</td>\n",
       "      <td>03/31/2020</td>\n",
       "      <td>0.00</td>\n",
       "      <td>2000.0</td>\n",
       "      <td>1012401.48</td>\n",
       "      <td>325545.51</td>\n",
       "      <td>Incumbent</td>\n",
       "      <td>Republican Party</td>\n",
       "    </tr>\n",
       "    <tr>\n",
       "      <th>2</th>\n",
       "      <td>H8AK01031</td>\n",
       "      <td>NELSON, THOMAS JOHN</td>\n",
       "      <td>C</td>\n",
       "      <td>2</td>\n",
       "      <td>REP</td>\n",
       "      <td>0.00</td>\n",
       "      <td>0.00</td>\n",
       "      <td>466.51</td>\n",
       "      <td>0.0</td>\n",
       "      <td>466.51</td>\n",
       "      <td>0.00</td>\n",
       "      <td>0.00</td>\n",
       "      <td>0.0</td>\n",
       "      <td>0.0</td>\n",
       "      <td>0.00</td>\n",
       "      <td>0.0</td>\n",
       "      <td>0.00</td>\n",
       "      <td>0.00</td>\n",
       "      <td>AK</td>\n",
       "      <td>00</td>\n",
       "      <td>NaN</td>\n",
       "      <td>NaN</td>\n",
       "      <td>NaN</td>\n",
       "      <td>NaN</td>\n",
       "      <td>NaN</td>\n",
       "      <td>0.00</td>\n",
       "      <td>0.0</td>\n",
       "      <td>03/31/2019</td>\n",
       "      <td>0.00</td>\n",
       "      <td>0.0</td>\n",
       "      <td>0.00</td>\n",
       "      <td>466.51</td>\n",
       "      <td>Challenger</td>\n",
       "      <td>Republican Party</td>\n",
       "    </tr>\n",
       "    <tr>\n",
       "      <th>3</th>\n",
       "      <td>H8AK00140</td>\n",
       "      <td>GALVIN, ALYSE</td>\n",
       "      <td>C</td>\n",
       "      <td>3</td>\n",
       "      <td>IND</td>\n",
       "      <td>1358372.81</td>\n",
       "      <td>0.00</td>\n",
       "      <td>403275.92</td>\n",
       "      <td>0.0</td>\n",
       "      <td>6245.09</td>\n",
       "      <td>961341.98</td>\n",
       "      <td>2955.81</td>\n",
       "      <td>0.0</td>\n",
       "      <td>0.0</td>\n",
       "      <td>0.00</td>\n",
       "      <td>0.0</td>\n",
       "      <td>56940.58</td>\n",
       "      <td>1279739.80</td>\n",
       "      <td>AK</td>\n",
       "      <td>00</td>\n",
       "      <td>NaN</td>\n",
       "      <td>NaN</td>\n",
       "      <td>NaN</td>\n",
       "      <td>NaN</td>\n",
       "      <td>NaN</td>\n",
       "      <td>38350.00</td>\n",
       "      <td>0.0</td>\n",
       "      <td>03/31/2020</td>\n",
       "      <td>7836.19</td>\n",
       "      <td>0.0</td>\n",
       "      <td>1358372.81</td>\n",
       "      <td>403275.92</td>\n",
       "      <td>Challenger</td>\n",
       "      <td>Independent</td>\n",
       "    </tr>\n",
       "    <tr>\n",
       "      <th>4</th>\n",
       "      <td>H0AL01097</td>\n",
       "      <td>AVERHART, JAMES</td>\n",
       "      <td>O</td>\n",
       "      <td>1</td>\n",
       "      <td>DEM</td>\n",
       "      <td>50126.74</td>\n",
       "      <td>0.00</td>\n",
       "      <td>40699.28</td>\n",
       "      <td>0.0</td>\n",
       "      <td>0.00</td>\n",
       "      <td>9427.46</td>\n",
       "      <td>0.00</td>\n",
       "      <td>26845.0</td>\n",
       "      <td>0.0</td>\n",
       "      <td>0.00</td>\n",
       "      <td>0.0</td>\n",
       "      <td>26845.00</td>\n",
       "      <td>23281.74</td>\n",
       "      <td>AL</td>\n",
       "      <td>01</td>\n",
       "      <td>NaN</td>\n",
       "      <td>NaN</td>\n",
       "      <td>NaN</td>\n",
       "      <td>NaN</td>\n",
       "      <td>NaN</td>\n",
       "      <td>0.00</td>\n",
       "      <td>0.0</td>\n",
       "      <td>06/30/2020</td>\n",
       "      <td>0.00</td>\n",
       "      <td>0.0</td>\n",
       "      <td>50126.74</td>\n",
       "      <td>40699.28</td>\n",
       "      <td>Open Seat</td>\n",
       "      <td>Democratic Party</td>\n",
       "    </tr>\n",
       "  </tbody>\n",
       "</table>\n",
       "</div>"
      ],
      "text/plain": [
       "     CAND_ID            CAND_NAME CAND_ICI  PTY_CD CAND_PTY_AFFILIATION  \\\n",
       "0  H8AK00132       SHEIN, DIMITRI        C       1                  DEM   \n",
       "1  H6AK00045      YOUNG, DONALD E        I       2                  REP   \n",
       "2  H8AK01031  NELSON, THOMAS JOHN        C       2                  REP   \n",
       "3  H8AK00140        GALVIN, ALYSE        C       3                  IND   \n",
       "4  H0AL01097      AVERHART, JAMES        O       1                  DEM   \n",
       "\n",
       "   TTL_RECEIPTS  TRANS_FROM_AUTH   TTL_DISB  TRANS_TO_AUTH    COH_BOP  \\\n",
       "0          0.00             0.00     367.52            0.0     367.52   \n",
       "1    1012401.48        130245.48  325545.51            0.0  116720.12   \n",
       "2          0.00             0.00     466.51            0.0     466.51   \n",
       "3    1358372.81             0.00  403275.92            0.0    6245.09   \n",
       "4      50126.74             0.00   40699.28            0.0       0.00   \n",
       "\n",
       "     COH_COP  CAND_CONTRIB  CAND_LOANS  OTHER_LOANS  CAND_LOAN_REPAY  \\\n",
       "0       0.00          0.00         0.0          0.0           367.52   \n",
       "1  803576.09          0.00         0.0          0.0             0.00   \n",
       "2       0.00          0.00         0.0          0.0             0.00   \n",
       "3  961341.98       2955.81         0.0          0.0             0.00   \n",
       "4    9427.46          0.00     26845.0          0.0             0.00   \n",
       "\n",
       "   OTHER_LOAN_REPAY  DEBTS_OWED_BY  TTL_INDIV_CONTRIB CAND_OFFICE_ST  \\\n",
       "0               0.0           0.00               0.00             AK   \n",
       "1               0.0           0.00          417190.55             AK   \n",
       "2               0.0           0.00               0.00             AK   \n",
       "3               0.0       56940.58         1279739.80             AK   \n",
       "4               0.0       26845.00           23281.74             AL   \n",
       "\n",
       "  CAND_OFFICE_DISTRICT  SPEC_ELECTION  PRIM_ELECTION  RUN_ELECTION  \\\n",
       "0                   00            NaN            NaN           NaN   \n",
       "1                   00            NaN            NaN           NaN   \n",
       "2                   00            NaN            NaN           NaN   \n",
       "3                   00            NaN            NaN           NaN   \n",
       "4                   01            NaN            NaN           NaN   \n",
       "\n",
       "   GEN_ELECTION  GEN_ELECTION_PRECENT  OTHER_POL_CMTE_CONTRIB  \\\n",
       "0           NaN                   NaN                    0.00   \n",
       "1           NaN                   NaN               458194.63   \n",
       "2           NaN                   NaN                    0.00   \n",
       "3           NaN                   NaN                38350.00   \n",
       "4           NaN                   NaN                    0.00   \n",
       "\n",
       "   POL_PTY_CONTRIB  CVG_END_DT  INDIV_REFUNDS  CMTE_REFUNDS  \\\n",
       "0              0.0  09/30/2019           0.00           0.0   \n",
       "1              0.0  03/31/2020           0.00        2000.0   \n",
       "2              0.0  03/31/2019           0.00           0.0   \n",
       "3              0.0  03/31/2020        7836.19           0.0   \n",
       "4              0.0  06/30/2020           0.00           0.0   \n",
       "\n",
       "   TTL_RECEIPTS_CORRECTED  TTL_DISB_CORRECTED CAND_ICI_FULL  \\\n",
       "0                    0.00              367.52    Challenger   \n",
       "1              1012401.48           325545.51     Incumbent   \n",
       "2                    0.00              466.51    Challenger   \n",
       "3              1358372.81           403275.92    Challenger   \n",
       "4                50126.74            40699.28     Open Seat   \n",
       "\n",
       "  CAND_PTY_AFFILIATION_FULL  \n",
       "0          Democratic Party  \n",
       "1          Republican Party  \n",
       "2          Republican Party  \n",
       "3               Independent  \n",
       "4          Democratic Party  "
      ]
     },
     "execution_count": 9,
     "metadata": {},
     "output_type": "execute_result"
    }
   ],
   "source": [
    "def correct_candidate_district_and_office(df):\n",
    "    \n",
    "    if df['CAND_OFFICE_DISTRICT'].dtype == 'int64':\n",
    "        df['CAND_OFFICE_DISTRICT'] = df['CAND_OFFICE_DISTRICT'].map(lambda x: str(x).zfill(2) if not pd.isna(x) else np.nan)\n",
    "    elif df['CAND_OFFICE_DISTRICT'].dtype == 'float':\n",
    "        df['CAND_OFFICE_DISTRICT'] = df['CAND_OFFICE_DISTRICT'].map(lambda x: str(int(x)).zfill(2) if not pd.isna(x) else np.nan)\n",
    "    return df\n",
    "\n",
    "all_candidates = correct_candidate_district_and_office(all_candidates)\n",
    "all_candidates.head()"
   ]
  },
  {
   "cell_type": "code",
   "execution_count": 10,
   "metadata": {
    "_kg_hide-input": true,
    "_kg_hide-output": true,
    "execution": {
     "iopub.execute_input": "2020-09-02T04:53:37.631787Z",
     "iopub.status.busy": "2020-09-02T04:53:37.630922Z",
     "iopub.status.idle": "2020-09-02T04:53:37.673174Z",
     "shell.execute_reply": "2020-09-02T04:53:37.672485Z"
    },
    "papermill": {
     "duration": 0.081641,
     "end_time": "2020-09-02T04:53:37.673327",
     "exception": false,
     "start_time": "2020-09-02T04:53:37.591686",
     "status": "completed"
    },
    "tags": []
   },
   "outputs": [
    {
     "data": {
      "text/html": [
       "<div>\n",
       "<style scoped>\n",
       "    .dataframe tbody tr th:only-of-type {\n",
       "        vertical-align: middle;\n",
       "    }\n",
       "\n",
       "    .dataframe tbody tr th {\n",
       "        vertical-align: top;\n",
       "    }\n",
       "\n",
       "    .dataframe thead th {\n",
       "        text-align: right;\n",
       "    }\n",
       "</style>\n",
       "<table border=\"1\" class=\"dataframe\">\n",
       "  <thead>\n",
       "    <tr style=\"text-align: right;\">\n",
       "      <th></th>\n",
       "      <th>CAND_ID</th>\n",
       "      <th>CAND_NAME</th>\n",
       "      <th>CAND_ICI</th>\n",
       "      <th>PTY_CD</th>\n",
       "      <th>CAND_PTY_AFFILIATION</th>\n",
       "      <th>TTL_RECEIPTS</th>\n",
       "      <th>TRANS_FROM_AUTH</th>\n",
       "      <th>TTL_DISB</th>\n",
       "      <th>TRANS_TO_AUTH</th>\n",
       "      <th>COH_BOP</th>\n",
       "      <th>COH_COP</th>\n",
       "      <th>CAND_CONTRIB</th>\n",
       "      <th>CAND_LOANS</th>\n",
       "      <th>OTHER_LOANS</th>\n",
       "      <th>CAND_LOAN_REPAY</th>\n",
       "      <th>OTHER_LOAN_REPAY</th>\n",
       "      <th>DEBTS_OWED_BY</th>\n",
       "      <th>TTL_INDIV_CONTRIB</th>\n",
       "      <th>CAND_OFFICE_ST</th>\n",
       "      <th>CAND_OFFICE_DISTRICT</th>\n",
       "      <th>SPEC_ELECTION</th>\n",
       "      <th>PRIM_ELECTION</th>\n",
       "      <th>RUN_ELECTION</th>\n",
       "      <th>GEN_ELECTION</th>\n",
       "      <th>GEN_ELECTION_PRECENT</th>\n",
       "      <th>OTHER_POL_CMTE_CONTRIB</th>\n",
       "      <th>POL_PTY_CONTRIB</th>\n",
       "      <th>CVG_END_DT</th>\n",
       "      <th>INDIV_REFUNDS</th>\n",
       "      <th>CMTE_REFUNDS</th>\n",
       "      <th>TTL_RECEIPTS_CORRECTED</th>\n",
       "      <th>TTL_DISB_CORRECTED</th>\n",
       "      <th>CAND_ICI_FULL</th>\n",
       "      <th>CAND_PTY_AFFILIATION_FULL</th>\n",
       "    </tr>\n",
       "  </thead>\n",
       "  <tbody>\n",
       "    <tr>\n",
       "      <th>3512</th>\n",
       "      <td>S0NC00202</td>\n",
       "      <td>CUNNINGHAM, CAL</td>\n",
       "      <td>C</td>\n",
       "      <td>1</td>\n",
       "      <td>DEM</td>\n",
       "      <td>7716897.31</td>\n",
       "      <td>756819.84</td>\n",
       "      <td>4716418.25</td>\n",
       "      <td>0.00</td>\n",
       "      <td>0.00</td>\n",
       "      <td>3000479.06</td>\n",
       "      <td>0.0</td>\n",
       "      <td>200000.0</td>\n",
       "      <td>0.0</td>\n",
       "      <td>200000.0</td>\n",
       "      <td>0.0</td>\n",
       "      <td>0.0</td>\n",
       "      <td>6268724.11</td>\n",
       "      <td>NC</td>\n",
       "      <td>00</td>\n",
       "      <td>NaN</td>\n",
       "      <td>NaN</td>\n",
       "      <td>NaN</td>\n",
       "      <td>NaN</td>\n",
       "      <td>NaN</td>\n",
       "      <td>438325.00</td>\n",
       "      <td>49600.0</td>\n",
       "      <td>03/31/2020</td>\n",
       "      <td>29751.69</td>\n",
       "      <td>0.00</td>\n",
       "      <td>7716897.31</td>\n",
       "      <td>4716418.25</td>\n",
       "      <td>Challenger</td>\n",
       "      <td>Democratic Party</td>\n",
       "    </tr>\n",
       "    <tr>\n",
       "      <th>3523</th>\n",
       "      <td>S4NC00162</td>\n",
       "      <td>TILLIS, THOM R. SEN.</td>\n",
       "      <td>I</td>\n",
       "      <td>2</td>\n",
       "      <td>REP</td>\n",
       "      <td>8269271.66</td>\n",
       "      <td>1152018.96</td>\n",
       "      <td>3811302.27</td>\n",
       "      <td>6441.91</td>\n",
       "      <td>2025444.43</td>\n",
       "      <td>6483413.82</td>\n",
       "      <td>0.0</td>\n",
       "      <td>0.0</td>\n",
       "      <td>0.0</td>\n",
       "      <td>0.0</td>\n",
       "      <td>0.0</td>\n",
       "      <td>0.0</td>\n",
       "      <td>4798506.58</td>\n",
       "      <td>NC</td>\n",
       "      <td>00</td>\n",
       "      <td>NaN</td>\n",
       "      <td>NaN</td>\n",
       "      <td>NaN</td>\n",
       "      <td>NaN</td>\n",
       "      <td>NaN</td>\n",
       "      <td>2278244.39</td>\n",
       "      <td>0.0</td>\n",
       "      <td>06/09/2020</td>\n",
       "      <td>102493.33</td>\n",
       "      <td>14425.67</td>\n",
       "      <td>7117252.70</td>\n",
       "      <td>3804860.36</td>\n",
       "      <td>Incumbent</td>\n",
       "      <td>Republican Party</td>\n",
       "    </tr>\n",
       "  </tbody>\n",
       "</table>\n",
       "</div>"
      ],
      "text/plain": [
       "        CAND_ID             CAND_NAME CAND_ICI  PTY_CD CAND_PTY_AFFILIATION  \\\n",
       "3512  S0NC00202       CUNNINGHAM, CAL        C       1                  DEM   \n",
       "3523  S4NC00162  TILLIS, THOM R. SEN.        I       2                  REP   \n",
       "\n",
       "      TTL_RECEIPTS  TRANS_FROM_AUTH    TTL_DISB  TRANS_TO_AUTH     COH_BOP  \\\n",
       "3512    7716897.31        756819.84  4716418.25           0.00        0.00   \n",
       "3523    8269271.66       1152018.96  3811302.27        6441.91  2025444.43   \n",
       "\n",
       "         COH_COP  CAND_CONTRIB  CAND_LOANS  OTHER_LOANS  CAND_LOAN_REPAY  \\\n",
       "3512  3000479.06           0.0    200000.0          0.0         200000.0   \n",
       "3523  6483413.82           0.0         0.0          0.0              0.0   \n",
       "\n",
       "      OTHER_LOAN_REPAY  DEBTS_OWED_BY  TTL_INDIV_CONTRIB CAND_OFFICE_ST  \\\n",
       "3512               0.0            0.0         6268724.11             NC   \n",
       "3523               0.0            0.0         4798506.58             NC   \n",
       "\n",
       "     CAND_OFFICE_DISTRICT  SPEC_ELECTION  PRIM_ELECTION  RUN_ELECTION  \\\n",
       "3512                   00            NaN            NaN           NaN   \n",
       "3523                   00            NaN            NaN           NaN   \n",
       "\n",
       "      GEN_ELECTION  GEN_ELECTION_PRECENT  OTHER_POL_CMTE_CONTRIB  \\\n",
       "3512           NaN                   NaN               438325.00   \n",
       "3523           NaN                   NaN              2278244.39   \n",
       "\n",
       "      POL_PTY_CONTRIB  CVG_END_DT  INDIV_REFUNDS  CMTE_REFUNDS  \\\n",
       "3512          49600.0  03/31/2020       29751.69          0.00   \n",
       "3523              0.0  06/09/2020      102493.33      14425.67   \n",
       "\n",
       "      TTL_RECEIPTS_CORRECTED  TTL_DISB_CORRECTED CAND_ICI_FULL  \\\n",
       "3512              7716897.31          4716418.25    Challenger   \n",
       "3523              7117252.70          3804860.36     Incumbent   \n",
       "\n",
       "     CAND_PTY_AFFILIATION_FULL  \n",
       "3512          Democratic Party  \n",
       "3523          Republican Party  "
      ]
     },
     "execution_count": 10,
     "metadata": {},
     "output_type": "execute_result"
    }
   ],
   "source": [
    "candidates = all_candidates[(all_candidates['CAND_NAME'].str.contains(f\"{candidate1}\", case=False)) | \n",
    "               (all_candidates['CAND_NAME'].str.contains(f\"{candidate2}\", case=False))]\n",
    "candidates"
   ]
  },
  {
   "cell_type": "code",
   "execution_count": 11,
   "metadata": {
    "_kg_hide-input": true,
    "execution": {
     "iopub.execute_input": "2020-09-02T04:53:37.748790Z",
     "iopub.status.busy": "2020-09-02T04:53:37.747925Z",
     "iopub.status.idle": "2020-09-02T04:53:37.773132Z",
     "shell.execute_reply": "2020-09-02T04:53:37.772441Z"
    },
    "papermill": {
     "duration": 0.076249,
     "end_time": "2020-09-02T04:53:37.773282",
     "exception": false,
     "start_time": "2020-09-02T04:53:37.697033",
     "status": "completed"
    },
    "tags": []
   },
   "outputs": [
    {
     "data": {
      "text/html": [
       "<table border=\"1\" class=\"dataframe\">\n",
       "  <thead>\n",
       "    <tr style=\"text-align: right;\">\n",
       "      <th>Candidate</th>\n",
       "      <th>Raised</th>\n",
       "      <th>Spent</th>\n",
       "      <th>Cash on Hand</th>\n",
       "      <th>Last Report date</th>\n",
       "    </tr>\n",
       "  </thead>\n",
       "  <tbody>\n",
       "    <tr>\n",
       "      <td>CUNNINGHAM, CAL</td>\n",
       "      <td>$7.72M</td>\n",
       "      <td>$4.72M</td>\n",
       "      <td>$3.00M</td>\n",
       "      <td>Mar 31 2020</td>\n",
       "    </tr>\n",
       "    <tr>\n",
       "      <td>TILLIS, THOM R. SEN.</td>\n",
       "      <td>$7.12M</td>\n",
       "      <td>$3.80M</td>\n",
       "      <td>$6.48M</td>\n",
       "      <td>Jun 09 2020</td>\n",
       "    </tr>\n",
       "  </tbody>\n",
       "</table>"
      ],
      "text/plain": [
       "<IPython.core.display.HTML object>"
      ]
     },
     "execution_count": 11,
     "metadata": {},
     "output_type": "execute_result"
    }
   ],
   "source": [
    "from IPython.display import HTML\n",
    "\n",
    "candidates_summary = candidates.groupby('CAND_NAME').agg({'TTL_RECEIPTS_CORRECTED': 'sum',\n",
    "                                                         'TTL_DISB_CORRECTED': 'sum', 'COH_COP': 'sum',\n",
    "                                                         'CVG_END_DT': 'max'}).reset_index()\n",
    "\n",
    "candidates_summary['Raised'] = '$' + candidates_summary['TTL_RECEIPTS_CORRECTED'].map(render_human_format).astype('str')\n",
    "candidates_summary['Spent'] = '$' + candidates_summary['TTL_DISB_CORRECTED'].map(render_human_format).astype('str')\n",
    "\n",
    "candidates_summary['Cash on Hand'] = '$' + candidates_summary['COH_COP'].map(render_human_format).astype('str')\n",
    "candidates_summary['Last Report date'] = pd.to_datetime(candidates_summary['CVG_END_DT']).dt.strftime('%b %d %Y')\n",
    "\n",
    "HTML(candidates_summary.rename(columns={'CAND_NAME': 'Candidate'})[['Candidate', 'Raised', 'Spent', 'Cash on Hand', 'Last Report date']].to_html(index=False))"
   ]
  },
  {
   "cell_type": "code",
   "execution_count": 12,
   "metadata": {
    "_kg_hide-input": true,
    "_kg_hide-output": true,
    "execution": {
     "iopub.execute_input": "2020-09-02T04:53:37.832721Z",
     "iopub.status.busy": "2020-09-02T04:53:37.831711Z",
     "iopub.status.idle": "2020-09-02T04:53:37.837074Z",
     "shell.execute_reply": "2020-09-02T04:53:37.837676Z"
    },
    "papermill": {
     "duration": 0.040756,
     "end_time": "2020-09-02T04:53:37.837852",
     "exception": false,
     "start_time": "2020-09-02T04:53:37.797096",
     "status": "completed"
    },
    "tags": []
   },
   "outputs": [
    {
     "name": "stdout",
     "output_type": "stream",
     "text": [
      "TILLIS, THOM R. SEN.\n"
     ]
    },
    {
     "data": {
      "text/plain": [
       "'CUNNINGHAM, CAL'"
      ]
     },
     "execution_count": 12,
     "metadata": {},
     "output_type": "execute_result"
    }
   ],
   "source": [
    "republican = candidates[candidates['CAND_PTY_AFFILIATION'] == 'REP']['CAND_NAME'].values[0]\n",
    "democrat = candidates[candidates['CAND_PTY_AFFILIATION'] == 'DEM']['CAND_NAME'].values[0]\n",
    "print(republican)\n",
    "democrat"
   ]
  },
  {
   "cell_type": "code",
   "execution_count": 13,
   "metadata": {
    "_kg_hide-input": true,
    "_kg_hide-output": true,
    "execution": {
     "iopub.execute_input": "2020-09-02T04:53:37.903783Z",
     "iopub.status.busy": "2020-09-02T04:53:37.902828Z",
     "iopub.status.idle": "2020-09-02T04:53:37.909683Z",
     "shell.execute_reply": "2020-09-02T04:53:37.908843Z"
    },
    "papermill": {
     "duration": 0.048637,
     "end_time": "2020-09-02T04:53:37.909818",
     "exception": false,
     "start_time": "2020-09-02T04:53:37.861181",
     "status": "completed"
    },
    "tags": []
   },
   "outputs": [
    {
     "name": "stdout",
     "output_type": "stream",
     "text": [
      "{'CUNNINGHAM, CAL': 'blue', 'TILLIS, THOM R. SEN.': 'red'}\n"
     ]
    },
    {
     "data": {
      "text/plain": [
       "{'For CUNNINGHAM, CAL': 'blue',\n",
       " 'Against CUNNINGHAM, CAL': 'lightblue',\n",
       " 'For TILLIS, THOM R. SEN.': 'red',\n",
       " 'Against TILLIS, THOM R. SEN.': 'pink'}"
      ]
     },
     "execution_count": 13,
     "metadata": {},
     "output_type": "execute_result"
    }
   ],
   "source": [
    "candidates['color'] = candidates['CAND_PTY_AFFILIATION'].map({'DEM': 'blue', 'REP': 'red'})\n",
    "candidates['second_color'] = candidates['CAND_PTY_AFFILIATION'].map({'DEM': 'lightblue', 'REP': 'pink'})\n",
    "color_map = dict()\n",
    "secondary_color_map = dict()\n",
    "for row in candidates[['CAND_NAME', 'color', 'second_color']].values:\n",
    "    color_map[row[0]] = row[1]\n",
    "    secondary_color_map[f\"For {row[0]}\"] = row[1]\n",
    "    secondary_color_map[f\"Against {row[0]}\"] = row[2]\n",
    "print(color_map)\n",
    "#candidates.head()\n",
    "secondary_color_map"
   ]
  },
  {
   "cell_type": "code",
   "execution_count": 14,
   "metadata": {
    "_kg_hide-input": true,
    "_kg_hide-output": true,
    "execution": {
     "iopub.execute_input": "2020-09-02T04:53:37.971048Z",
     "iopub.status.busy": "2020-09-02T04:53:37.962918Z",
     "iopub.status.idle": "2020-09-02T04:53:38.121643Z",
     "shell.execute_reply": "2020-09-02T04:53:38.120863Z"
    },
    "papermill": {
     "duration": 0.188369,
     "end_time": "2020-09-02T04:53:38.121796",
     "exception": false,
     "start_time": "2020-09-02T04:53:37.933427",
     "status": "completed"
    },
    "tags": []
   },
   "outputs": [
    {
     "data": {
      "text/plain": [
       "{'Column name': 'Field name',\n",
       " 'CAND_ID': 'Candidate identification',\n",
       " 'CAND_NAME': 'Candidate name',\n",
       " 'CAND_ICI': 'Incumbent challenger status',\n",
       " 'PTY_CD': 'Party code',\n",
       " 'CAND_PTY_AFFILIATION': 'Party affiliation',\n",
       " 'TTL_RECEIPTS': 'Total receipts',\n",
       " 'TRANS_FROM_AUTH': 'Transfers from authorized committees',\n",
       " 'TTL_DISB': 'Total disbursements',\n",
       " 'TRANS_TO_AUTH': 'Transfers to authorized committees',\n",
       " 'COH_BOP': 'Beginning cash',\n",
       " 'COH_COP': 'Ending cash',\n",
       " 'CAND_CONTRIB': 'Contributions from candidate',\n",
       " 'CAND_LOANS': 'Loans from candidate',\n",
       " 'OTHER_LOANS': 'Other loans',\n",
       " 'CAND_LOAN_REPAY': 'Candidate loan repayments',\n",
       " 'OTHER_LOAN_REPAY': 'Other loan repayments',\n",
       " 'DEBTS_OWED_BY': 'Debts owed by',\n",
       " 'TTL_INDIV_CONTRIB': 'Total individual contributions',\n",
       " 'CAND_OFFICE_ST': 'Candidate state',\n",
       " 'CAND_OFFICE_DISTRICT': 'Candidate district',\n",
       " 'SPEC_ELECTION': 'Special election status',\n",
       " 'PRIM_ELECTION': 'Primary election status',\n",
       " 'RUN_ELECTION': 'Runoff election status',\n",
       " 'GEN_ELECTION': 'General election status',\n",
       " 'GEN_ELECTION_PRECENT': 'General election percentage',\n",
       " 'OTHER_POL_CMTE_CONTRIB': 'Contributions from other political committees',\n",
       " 'POL_PTY_CONTRIB': 'Contributions from party committees',\n",
       " 'CVG_END_DT': 'Coverage end date',\n",
       " 'INDIV_REFUNDS': 'Refunds to individuals',\n",
       " 'CMTE_REFUNDS': 'Refunds to committees'}"
      ]
     },
     "execution_count": 14,
     "metadata": {},
     "output_type": "execute_result"
    }
   ],
   "source": [
    "candidates_desc = read_table(\"https://www.fec.gov/campaign-finance-data/all-candidates-file-description/\")\n",
    "candidates_desc = {key.strip():val.strip() for key, val in candidates_desc.items()}\n",
    "candidates_desc"
   ]
  },
  {
   "cell_type": "code",
   "execution_count": 15,
   "metadata": {
    "_kg_hide-input": true,
    "execution": {
     "iopub.execute_input": "2020-09-02T04:53:38.194241Z",
     "iopub.status.busy": "2020-09-02T04:53:38.193273Z",
     "iopub.status.idle": "2020-09-02T04:53:39.292261Z",
     "shell.execute_reply": "2020-09-02T04:53:39.291510Z"
    },
    "papermill": {
     "duration": 1.145522,
     "end_time": "2020-09-02T04:53:39.292407",
     "exception": false,
     "start_time": "2020-09-02T04:53:38.146885",
     "status": "completed"
    },
    "tags": []
   },
   "outputs": [
    {
     "data": {
      "application/vnd.plotly.v1+json": {
       "config": {
        "linkText": "Export to plot.ly",
        "plotlyServerURL": "https://plot.ly",
        "showLink": true
       },
       "data": [
        {
         "marker": {
          "color": "rgba(55, 128, 191, 0.6)",
          "line": {
           "color": "blue",
           "width": 1
          }
         },
         "name": "CUNNINGHAM, CAL",
         "orientation": "v",
         "text": "",
         "type": "bar",
         "x": [
          "Total Receipts",
          "Total Disbursements",
          "Transfers from authorized committees",
          "Beginning cash",
          "Ending cash",
          "Contributions from candidate",
          "Loans from candidate",
          "Other loans",
          "Debts owed by",
          "Total individual contributions",
          "Contributions from party committees",
          "Contributions from other political committees"
         ],
         "y": [
          7716897.31,
          4716418.25,
          756819.84,
          0,
          3000479.06,
          0,
          200000,
          0,
          0,
          6268724.11,
          49600,
          438325
         ]
        },
        {
         "marker": {
          "color": "rgba(219, 64, 82, 0.6)",
          "line": {
           "color": "red",
           "width": 1
          }
         },
         "name": "TILLIS, THOM R. SEN.",
         "orientation": "v",
         "text": "",
         "type": "bar",
         "x": [
          "Total Receipts",
          "Total Disbursements",
          "Transfers from authorized committees",
          "Beginning cash",
          "Ending cash",
          "Contributions from candidate",
          "Loans from candidate",
          "Other loans",
          "Debts owed by",
          "Total individual contributions",
          "Contributions from party committees",
          "Contributions from other political committees"
         ],
         "y": [
          7117252.7,
          3804860.36,
          1152018.96,
          2025444.43,
          6483413.82,
          0,
          0,
          0,
          0,
          4798506.58,
          0,
          2278244.39
         ]
        }
       ],
       "layout": {
        "legend": {
         "bgcolor": "#FFFFFF",
         "font": {
          "color": "#666666"
         }
        },
        "paper_bgcolor": "#FFFFFF",
        "plot_bgcolor": "#E5E5E5",
        "template": {
         "data": {
          "bar": [
           {
            "error_x": {
             "color": "#2a3f5f"
            },
            "error_y": {
             "color": "#2a3f5f"
            },
            "marker": {
             "line": {
              "color": "#E5ECF6",
              "width": 0.5
             },
             "pattern": {
              "fillmode": "overlay",
              "size": 10,
              "solidity": 0.2
             }
            },
            "type": "bar"
           }
          ],
          "barpolar": [
           {
            "marker": {
             "line": {
              "color": "#E5ECF6",
              "width": 0.5
             },
             "pattern": {
              "fillmode": "overlay",
              "size": 10,
              "solidity": 0.2
             }
            },
            "type": "barpolar"
           }
          ],
          "carpet": [
           {
            "aaxis": {
             "endlinecolor": "#2a3f5f",
             "gridcolor": "white",
             "linecolor": "white",
             "minorgridcolor": "white",
             "startlinecolor": "#2a3f5f"
            },
            "baxis": {
             "endlinecolor": "#2a3f5f",
             "gridcolor": "white",
             "linecolor": "white",
             "minorgridcolor": "white",
             "startlinecolor": "#2a3f5f"
            },
            "type": "carpet"
           }
          ],
          "choropleth": [
           {
            "colorbar": {
             "outlinewidth": 0,
             "ticks": ""
            },
            "type": "choropleth"
           }
          ],
          "contour": [
           {
            "colorbar": {
             "outlinewidth": 0,
             "ticks": ""
            },
            "colorscale": [
             [
              0,
              "#0d0887"
             ],
             [
              0.1111111111111111,
              "#46039f"
             ],
             [
              0.2222222222222222,
              "#7201a8"
             ],
             [
              0.3333333333333333,
              "#9c179e"
             ],
             [
              0.4444444444444444,
              "#bd3786"
             ],
             [
              0.5555555555555556,
              "#d8576b"
             ],
             [
              0.6666666666666666,
              "#ed7953"
             ],
             [
              0.7777777777777778,
              "#fb9f3a"
             ],
             [
              0.8888888888888888,
              "#fdca26"
             ],
             [
              1,
              "#f0f921"
             ]
            ],
            "type": "contour"
           }
          ],
          "contourcarpet": [
           {
            "colorbar": {
             "outlinewidth": 0,
             "ticks": ""
            },
            "type": "contourcarpet"
           }
          ],
          "heatmap": [
           {
            "colorbar": {
             "outlinewidth": 0,
             "ticks": ""
            },
            "colorscale": [
             [
              0,
              "#0d0887"
             ],
             [
              0.1111111111111111,
              "#46039f"
             ],
             [
              0.2222222222222222,
              "#7201a8"
             ],
             [
              0.3333333333333333,
              "#9c179e"
             ],
             [
              0.4444444444444444,
              "#bd3786"
             ],
             [
              0.5555555555555556,
              "#d8576b"
             ],
             [
              0.6666666666666666,
              "#ed7953"
             ],
             [
              0.7777777777777778,
              "#fb9f3a"
             ],
             [
              0.8888888888888888,
              "#fdca26"
             ],
             [
              1,
              "#f0f921"
             ]
            ],
            "type": "heatmap"
           }
          ],
          "heatmapgl": [
           {
            "colorbar": {
             "outlinewidth": 0,
             "ticks": ""
            },
            "colorscale": [
             [
              0,
              "#0d0887"
             ],
             [
              0.1111111111111111,
              "#46039f"
             ],
             [
              0.2222222222222222,
              "#7201a8"
             ],
             [
              0.3333333333333333,
              "#9c179e"
             ],
             [
              0.4444444444444444,
              "#bd3786"
             ],
             [
              0.5555555555555556,
              "#d8576b"
             ],
             [
              0.6666666666666666,
              "#ed7953"
             ],
             [
              0.7777777777777778,
              "#fb9f3a"
             ],
             [
              0.8888888888888888,
              "#fdca26"
             ],
             [
              1,
              "#f0f921"
             ]
            ],
            "type": "heatmapgl"
           }
          ],
          "histogram": [
           {
            "marker": {
             "pattern": {
              "fillmode": "overlay",
              "size": 10,
              "solidity": 0.2
             }
            },
            "type": "histogram"
           }
          ],
          "histogram2d": [
           {
            "colorbar": {
             "outlinewidth": 0,
             "ticks": ""
            },
            "colorscale": [
             [
              0,
              "#0d0887"
             ],
             [
              0.1111111111111111,
              "#46039f"
             ],
             [
              0.2222222222222222,
              "#7201a8"
             ],
             [
              0.3333333333333333,
              "#9c179e"
             ],
             [
              0.4444444444444444,
              "#bd3786"
             ],
             [
              0.5555555555555556,
              "#d8576b"
             ],
             [
              0.6666666666666666,
              "#ed7953"
             ],
             [
              0.7777777777777778,
              "#fb9f3a"
             ],
             [
              0.8888888888888888,
              "#fdca26"
             ],
             [
              1,
              "#f0f921"
             ]
            ],
            "type": "histogram2d"
           }
          ],
          "histogram2dcontour": [
           {
            "colorbar": {
             "outlinewidth": 0,
             "ticks": ""
            },
            "colorscale": [
             [
              0,
              "#0d0887"
             ],
             [
              0.1111111111111111,
              "#46039f"
             ],
             [
              0.2222222222222222,
              "#7201a8"
             ],
             [
              0.3333333333333333,
              "#9c179e"
             ],
             [
              0.4444444444444444,
              "#bd3786"
             ],
             [
              0.5555555555555556,
              "#d8576b"
             ],
             [
              0.6666666666666666,
              "#ed7953"
             ],
             [
              0.7777777777777778,
              "#fb9f3a"
             ],
             [
              0.8888888888888888,
              "#fdca26"
             ],
             [
              1,
              "#f0f921"
             ]
            ],
            "type": "histogram2dcontour"
           }
          ],
          "mesh3d": [
           {
            "colorbar": {
             "outlinewidth": 0,
             "ticks": ""
            },
            "type": "mesh3d"
           }
          ],
          "parcoords": [
           {
            "line": {
             "colorbar": {
              "outlinewidth": 0,
              "ticks": ""
             }
            },
            "type": "parcoords"
           }
          ],
          "pie": [
           {
            "automargin": true,
            "type": "pie"
           }
          ],
          "scatter": [
           {
            "fillpattern": {
             "fillmode": "overlay",
             "size": 10,
             "solidity": 0.2
            },
            "type": "scatter"
           }
          ],
          "scatter3d": [
           {
            "line": {
             "colorbar": {
              "outlinewidth": 0,
              "ticks": ""
             }
            },
            "marker": {
             "colorbar": {
              "outlinewidth": 0,
              "ticks": ""
             }
            },
            "type": "scatter3d"
           }
          ],
          "scattercarpet": [
           {
            "marker": {
             "colorbar": {
              "outlinewidth": 0,
              "ticks": ""
             }
            },
            "type": "scattercarpet"
           }
          ],
          "scattergeo": [
           {
            "marker": {
             "colorbar": {
              "outlinewidth": 0,
              "ticks": ""
             }
            },
            "type": "scattergeo"
           }
          ],
          "scattergl": [
           {
            "marker": {
             "colorbar": {
              "outlinewidth": 0,
              "ticks": ""
             }
            },
            "type": "scattergl"
           }
          ],
          "scattermapbox": [
           {
            "marker": {
             "colorbar": {
              "outlinewidth": 0,
              "ticks": ""
             }
            },
            "type": "scattermapbox"
           }
          ],
          "scatterpolar": [
           {
            "marker": {
             "colorbar": {
              "outlinewidth": 0,
              "ticks": ""
             }
            },
            "type": "scatterpolar"
           }
          ],
          "scatterpolargl": [
           {
            "marker": {
             "colorbar": {
              "outlinewidth": 0,
              "ticks": ""
             }
            },
            "type": "scatterpolargl"
           }
          ],
          "scatterternary": [
           {
            "marker": {
             "colorbar": {
              "outlinewidth": 0,
              "ticks": ""
             }
            },
            "type": "scatterternary"
           }
          ],
          "surface": [
           {
            "colorbar": {
             "outlinewidth": 0,
             "ticks": ""
            },
            "colorscale": [
             [
              0,
              "#0d0887"
             ],
             [
              0.1111111111111111,
              "#46039f"
             ],
             [
              0.2222222222222222,
              "#7201a8"
             ],
             [
              0.3333333333333333,
              "#9c179e"
             ],
             [
              0.4444444444444444,
              "#bd3786"
             ],
             [
              0.5555555555555556,
              "#d8576b"
             ],
             [
              0.6666666666666666,
              "#ed7953"
             ],
             [
              0.7777777777777778,
              "#fb9f3a"
             ],
             [
              0.8888888888888888,
              "#fdca26"
             ],
             [
              1,
              "#f0f921"
             ]
            ],
            "type": "surface"
           }
          ],
          "table": [
           {
            "cells": {
             "fill": {
              "color": "#EBF0F8"
             },
             "line": {
              "color": "white"
             }
            },
            "header": {
             "fill": {
              "color": "#C8D4E3"
             },
             "line": {
              "color": "white"
             }
            },
            "type": "table"
           }
          ]
         },
         "layout": {
          "annotationdefaults": {
           "arrowcolor": "#2a3f5f",
           "arrowhead": 0,
           "arrowwidth": 1
          },
          "autotypenumbers": "strict",
          "coloraxis": {
           "colorbar": {
            "outlinewidth": 0,
            "ticks": ""
           }
          },
          "colorscale": {
           "diverging": [
            [
             0,
             "#8e0152"
            ],
            [
             0.1,
             "#c51b7d"
            ],
            [
             0.2,
             "#de77ae"
            ],
            [
             0.3,
             "#f1b6da"
            ],
            [
             0.4,
             "#fde0ef"
            ],
            [
             0.5,
             "#f7f7f7"
            ],
            [
             0.6,
             "#e6f5d0"
            ],
            [
             0.7,
             "#b8e186"
            ],
            [
             0.8,
             "#7fbc41"
            ],
            [
             0.9,
             "#4d9221"
            ],
            [
             1,
             "#276419"
            ]
           ],
           "sequential": [
            [
             0,
             "#0d0887"
            ],
            [
             0.1111111111111111,
             "#46039f"
            ],
            [
             0.2222222222222222,
             "#7201a8"
            ],
            [
             0.3333333333333333,
             "#9c179e"
            ],
            [
             0.4444444444444444,
             "#bd3786"
            ],
            [
             0.5555555555555556,
             "#d8576b"
            ],
            [
             0.6666666666666666,
             "#ed7953"
            ],
            [
             0.7777777777777778,
             "#fb9f3a"
            ],
            [
             0.8888888888888888,
             "#fdca26"
            ],
            [
             1,
             "#f0f921"
            ]
           ],
           "sequentialminus": [
            [
             0,
             "#0d0887"
            ],
            [
             0.1111111111111111,
             "#46039f"
            ],
            [
             0.2222222222222222,
             "#7201a8"
            ],
            [
             0.3333333333333333,
             "#9c179e"
            ],
            [
             0.4444444444444444,
             "#bd3786"
            ],
            [
             0.5555555555555556,
             "#d8576b"
            ],
            [
             0.6666666666666666,
             "#ed7953"
            ],
            [
             0.7777777777777778,
             "#fb9f3a"
            ],
            [
             0.8888888888888888,
             "#fdca26"
            ],
            [
             1,
             "#f0f921"
            ]
           ]
          },
          "colorway": [
           "#636efa",
           "#EF553B",
           "#00cc96",
           "#ab63fa",
           "#FFA15A",
           "#19d3f3",
           "#FF6692",
           "#B6E880",
           "#FF97FF",
           "#FECB52"
          ],
          "font": {
           "color": "#2a3f5f"
          },
          "geo": {
           "bgcolor": "white",
           "lakecolor": "white",
           "landcolor": "#E5ECF6",
           "showlakes": true,
           "showland": true,
           "subunitcolor": "white"
          },
          "hoverlabel": {
           "align": "left"
          },
          "hovermode": "closest",
          "mapbox": {
           "style": "light"
          },
          "paper_bgcolor": "white",
          "plot_bgcolor": "#E5ECF6",
          "polar": {
           "angularaxis": {
            "gridcolor": "white",
            "linecolor": "white",
            "ticks": ""
           },
           "bgcolor": "#E5ECF6",
           "radialaxis": {
            "gridcolor": "white",
            "linecolor": "white",
            "ticks": ""
           }
          },
          "scene": {
           "xaxis": {
            "backgroundcolor": "#E5ECF6",
            "gridcolor": "white",
            "gridwidth": 2,
            "linecolor": "white",
            "showbackground": true,
            "ticks": "",
            "zerolinecolor": "white"
           },
           "yaxis": {
            "backgroundcolor": "#E5ECF6",
            "gridcolor": "white",
            "gridwidth": 2,
            "linecolor": "white",
            "showbackground": true,
            "ticks": "",
            "zerolinecolor": "white"
           },
           "zaxis": {
            "backgroundcolor": "#E5ECF6",
            "gridcolor": "white",
            "gridwidth": 2,
            "linecolor": "white",
            "showbackground": true,
            "ticks": "",
            "zerolinecolor": "white"
           }
          },
          "shapedefaults": {
           "line": {
            "color": "#2a3f5f"
           }
          },
          "ternary": {
           "aaxis": {
            "gridcolor": "white",
            "linecolor": "white",
            "ticks": ""
           },
           "baxis": {
            "gridcolor": "white",
            "linecolor": "white",
            "ticks": ""
           },
           "bgcolor": "#E5ECF6",
           "caxis": {
            "gridcolor": "white",
            "linecolor": "white",
            "ticks": ""
           }
          },
          "title": {
           "x": 0.05
          },
          "xaxis": {
           "automargin": true,
           "gridcolor": "white",
           "linecolor": "white",
           "ticks": "",
           "title": {
            "standoff": 15
           },
           "zerolinecolor": "white",
           "zerolinewidth": 2
          },
          "yaxis": {
           "automargin": true,
           "gridcolor": "white",
           "linecolor": "white",
           "ticks": "",
           "title": {
            "standoff": 15
           },
           "zerolinecolor": "white",
           "zerolinewidth": 2
          }
         }
        },
        "title": {
         "font": {
          "color": "#151516"
         },
         "text": "Campaign finance summary"
        },
        "xaxis": {
         "gridcolor": "#F6F6F6",
         "showgrid": true,
         "tickfont": {
          "color": "#666666"
         },
         "title": {
          "font": {
           "color": "#666666"
          },
          "text": ""
         },
         "zerolinecolor": "#F6F6F6"
        },
        "yaxis": {
         "gridcolor": "#F6F6F6",
         "showgrid": true,
         "tickfont": {
          "color": "#666666"
         },
         "title": {
          "font": {
           "color": "#666666"
          },
          "text": ""
         },
         "zerolinecolor": "#F6F6F6"
        }
       }
      },
      "text/html": [
       "<div>                            <div id=\"31fc24ba-c1c2-4c4c-967b-7c200d0dde88\" class=\"plotly-graph-div\" style=\"height:525px; width:100%;\"></div>            <script type=\"text/javascript\">                require([\"plotly\"], function(Plotly) {                    window.PLOTLYENV=window.PLOTLYENV || {};\n",
       "                    window.PLOTLYENV.BASE_URL='https://plot.ly';                                    if (document.getElementById(\"31fc24ba-c1c2-4c4c-967b-7c200d0dde88\")) {                    Plotly.newPlot(                        \"31fc24ba-c1c2-4c4c-967b-7c200d0dde88\",                        [{\"marker\":{\"color\":\"rgba(55, 128, 191, 0.6)\",\"line\":{\"color\":\"blue\",\"width\":1}},\"name\":\"CUNNINGHAM, CAL\",\"orientation\":\"v\",\"text\":\"\",\"x\":[\"Total Receipts\",\"Total Disbursements\",\"Transfers from authorized committees\",\"Beginning cash\",\"Ending cash\",\"Contributions from candidate\",\"Loans from candidate\",\"Other loans\",\"Debts owed by\",\"Total individual contributions\",\"Contributions from party committees\",\"Contributions from other political committees\"],\"y\":[7716897.31,4716418.25,756819.84,0.0,3000479.06,0.0,200000.0,0.0,0.0,6268724.11,49600.0,438325.0],\"type\":\"bar\"},{\"marker\":{\"color\":\"rgba(219, 64, 82, 0.6)\",\"line\":{\"color\":\"red\",\"width\":1}},\"name\":\"TILLIS, THOM R. SEN.\",\"orientation\":\"v\",\"text\":\"\",\"x\":[\"Total Receipts\",\"Total Disbursements\",\"Transfers from authorized committees\",\"Beginning cash\",\"Ending cash\",\"Contributions from candidate\",\"Loans from candidate\",\"Other loans\",\"Debts owed by\",\"Total individual contributions\",\"Contributions from party committees\",\"Contributions from other political committees\"],\"y\":[7117252.7,3804860.36,1152018.96,2025444.43,6483413.82,0.0,0.0,0.0,0.0,4798506.58,0.0,2278244.39],\"type\":\"bar\"}],                        {\"legend\":{\"bgcolor\":\"#FFFFFF\",\"font\":{\"color\":\"#666666\"}},\"paper_bgcolor\":\"#FFFFFF\",\"plot_bgcolor\":\"#E5E5E5\",\"template\":{\"data\":{\"barpolar\":[{\"marker\":{\"line\":{\"color\":\"#E5ECF6\",\"width\":0.5},\"pattern\":{\"fillmode\":\"overlay\",\"size\":10,\"solidity\":0.2}},\"type\":\"barpolar\"}],\"bar\":[{\"error_x\":{\"color\":\"#2a3f5f\"},\"error_y\":{\"color\":\"#2a3f5f\"},\"marker\":{\"line\":{\"color\":\"#E5ECF6\",\"width\":0.5},\"pattern\":{\"fillmode\":\"overlay\",\"size\":10,\"solidity\":0.2}},\"type\":\"bar\"}],\"carpet\":[{\"aaxis\":{\"endlinecolor\":\"#2a3f5f\",\"gridcolor\":\"white\",\"linecolor\":\"white\",\"minorgridcolor\":\"white\",\"startlinecolor\":\"#2a3f5f\"},\"baxis\":{\"endlinecolor\":\"#2a3f5f\",\"gridcolor\":\"white\",\"linecolor\":\"white\",\"minorgridcolor\":\"white\",\"startlinecolor\":\"#2a3f5f\"},\"type\":\"carpet\"}],\"choropleth\":[{\"colorbar\":{\"outlinewidth\":0,\"ticks\":\"\"},\"type\":\"choropleth\"}],\"contourcarpet\":[{\"colorbar\":{\"outlinewidth\":0,\"ticks\":\"\"},\"type\":\"contourcarpet\"}],\"contour\":[{\"colorbar\":{\"outlinewidth\":0,\"ticks\":\"\"},\"colorscale\":[[0.0,\"#0d0887\"],[0.1111111111111111,\"#46039f\"],[0.2222222222222222,\"#7201a8\"],[0.3333333333333333,\"#9c179e\"],[0.4444444444444444,\"#bd3786\"],[0.5555555555555556,\"#d8576b\"],[0.6666666666666666,\"#ed7953\"],[0.7777777777777778,\"#fb9f3a\"],[0.8888888888888888,\"#fdca26\"],[1.0,\"#f0f921\"]],\"type\":\"contour\"}],\"heatmapgl\":[{\"colorbar\":{\"outlinewidth\":0,\"ticks\":\"\"},\"colorscale\":[[0.0,\"#0d0887\"],[0.1111111111111111,\"#46039f\"],[0.2222222222222222,\"#7201a8\"],[0.3333333333333333,\"#9c179e\"],[0.4444444444444444,\"#bd3786\"],[0.5555555555555556,\"#d8576b\"],[0.6666666666666666,\"#ed7953\"],[0.7777777777777778,\"#fb9f3a\"],[0.8888888888888888,\"#fdca26\"],[1.0,\"#f0f921\"]],\"type\":\"heatmapgl\"}],\"heatmap\":[{\"colorbar\":{\"outlinewidth\":0,\"ticks\":\"\"},\"colorscale\":[[0.0,\"#0d0887\"],[0.1111111111111111,\"#46039f\"],[0.2222222222222222,\"#7201a8\"],[0.3333333333333333,\"#9c179e\"],[0.4444444444444444,\"#bd3786\"],[0.5555555555555556,\"#d8576b\"],[0.6666666666666666,\"#ed7953\"],[0.7777777777777778,\"#fb9f3a\"],[0.8888888888888888,\"#fdca26\"],[1.0,\"#f0f921\"]],\"type\":\"heatmap\"}],\"histogram2dcontour\":[{\"colorbar\":{\"outlinewidth\":0,\"ticks\":\"\"},\"colorscale\":[[0.0,\"#0d0887\"],[0.1111111111111111,\"#46039f\"],[0.2222222222222222,\"#7201a8\"],[0.3333333333333333,\"#9c179e\"],[0.4444444444444444,\"#bd3786\"],[0.5555555555555556,\"#d8576b\"],[0.6666666666666666,\"#ed7953\"],[0.7777777777777778,\"#fb9f3a\"],[0.8888888888888888,\"#fdca26\"],[1.0,\"#f0f921\"]],\"type\":\"histogram2dcontour\"}],\"histogram2d\":[{\"colorbar\":{\"outlinewidth\":0,\"ticks\":\"\"},\"colorscale\":[[0.0,\"#0d0887\"],[0.1111111111111111,\"#46039f\"],[0.2222222222222222,\"#7201a8\"],[0.3333333333333333,\"#9c179e\"],[0.4444444444444444,\"#bd3786\"],[0.5555555555555556,\"#d8576b\"],[0.6666666666666666,\"#ed7953\"],[0.7777777777777778,\"#fb9f3a\"],[0.8888888888888888,\"#fdca26\"],[1.0,\"#f0f921\"]],\"type\":\"histogram2d\"}],\"histogram\":[{\"marker\":{\"pattern\":{\"fillmode\":\"overlay\",\"size\":10,\"solidity\":0.2}},\"type\":\"histogram\"}],\"mesh3d\":[{\"colorbar\":{\"outlinewidth\":0,\"ticks\":\"\"},\"type\":\"mesh3d\"}],\"parcoords\":[{\"line\":{\"colorbar\":{\"outlinewidth\":0,\"ticks\":\"\"}},\"type\":\"parcoords\"}],\"pie\":[{\"automargin\":true,\"type\":\"pie\"}],\"scatter3d\":[{\"line\":{\"colorbar\":{\"outlinewidth\":0,\"ticks\":\"\"}},\"marker\":{\"colorbar\":{\"outlinewidth\":0,\"ticks\":\"\"}},\"type\":\"scatter3d\"}],\"scattercarpet\":[{\"marker\":{\"colorbar\":{\"outlinewidth\":0,\"ticks\":\"\"}},\"type\":\"scattercarpet\"}],\"scattergeo\":[{\"marker\":{\"colorbar\":{\"outlinewidth\":0,\"ticks\":\"\"}},\"type\":\"scattergeo\"}],\"scattergl\":[{\"marker\":{\"colorbar\":{\"outlinewidth\":0,\"ticks\":\"\"}},\"type\":\"scattergl\"}],\"scattermapbox\":[{\"marker\":{\"colorbar\":{\"outlinewidth\":0,\"ticks\":\"\"}},\"type\":\"scattermapbox\"}],\"scatterpolargl\":[{\"marker\":{\"colorbar\":{\"outlinewidth\":0,\"ticks\":\"\"}},\"type\":\"scatterpolargl\"}],\"scatterpolar\":[{\"marker\":{\"colorbar\":{\"outlinewidth\":0,\"ticks\":\"\"}},\"type\":\"scatterpolar\"}],\"scatter\":[{\"fillpattern\":{\"fillmode\":\"overlay\",\"size\":10,\"solidity\":0.2},\"type\":\"scatter\"}],\"scatterternary\":[{\"marker\":{\"colorbar\":{\"outlinewidth\":0,\"ticks\":\"\"}},\"type\":\"scatterternary\"}],\"surface\":[{\"colorbar\":{\"outlinewidth\":0,\"ticks\":\"\"},\"colorscale\":[[0.0,\"#0d0887\"],[0.1111111111111111,\"#46039f\"],[0.2222222222222222,\"#7201a8\"],[0.3333333333333333,\"#9c179e\"],[0.4444444444444444,\"#bd3786\"],[0.5555555555555556,\"#d8576b\"],[0.6666666666666666,\"#ed7953\"],[0.7777777777777778,\"#fb9f3a\"],[0.8888888888888888,\"#fdca26\"],[1.0,\"#f0f921\"]],\"type\":\"surface\"}],\"table\":[{\"cells\":{\"fill\":{\"color\":\"#EBF0F8\"},\"line\":{\"color\":\"white\"}},\"header\":{\"fill\":{\"color\":\"#C8D4E3\"},\"line\":{\"color\":\"white\"}},\"type\":\"table\"}]},\"layout\":{\"annotationdefaults\":{\"arrowcolor\":\"#2a3f5f\",\"arrowhead\":0,\"arrowwidth\":1},\"autotypenumbers\":\"strict\",\"coloraxis\":{\"colorbar\":{\"outlinewidth\":0,\"ticks\":\"\"}},\"colorscale\":{\"diverging\":[[0,\"#8e0152\"],[0.1,\"#c51b7d\"],[0.2,\"#de77ae\"],[0.3,\"#f1b6da\"],[0.4,\"#fde0ef\"],[0.5,\"#f7f7f7\"],[0.6,\"#e6f5d0\"],[0.7,\"#b8e186\"],[0.8,\"#7fbc41\"],[0.9,\"#4d9221\"],[1,\"#276419\"]],\"sequential\":[[0.0,\"#0d0887\"],[0.1111111111111111,\"#46039f\"],[0.2222222222222222,\"#7201a8\"],[0.3333333333333333,\"#9c179e\"],[0.4444444444444444,\"#bd3786\"],[0.5555555555555556,\"#d8576b\"],[0.6666666666666666,\"#ed7953\"],[0.7777777777777778,\"#fb9f3a\"],[0.8888888888888888,\"#fdca26\"],[1.0,\"#f0f921\"]],\"sequentialminus\":[[0.0,\"#0d0887\"],[0.1111111111111111,\"#46039f\"],[0.2222222222222222,\"#7201a8\"],[0.3333333333333333,\"#9c179e\"],[0.4444444444444444,\"#bd3786\"],[0.5555555555555556,\"#d8576b\"],[0.6666666666666666,\"#ed7953\"],[0.7777777777777778,\"#fb9f3a\"],[0.8888888888888888,\"#fdca26\"],[1.0,\"#f0f921\"]]},\"colorway\":[\"#636efa\",\"#EF553B\",\"#00cc96\",\"#ab63fa\",\"#FFA15A\",\"#19d3f3\",\"#FF6692\",\"#B6E880\",\"#FF97FF\",\"#FECB52\"],\"font\":{\"color\":\"#2a3f5f\"},\"geo\":{\"bgcolor\":\"white\",\"lakecolor\":\"white\",\"landcolor\":\"#E5ECF6\",\"showlakes\":true,\"showland\":true,\"subunitcolor\":\"white\"},\"hoverlabel\":{\"align\":\"left\"},\"hovermode\":\"closest\",\"mapbox\":{\"style\":\"light\"},\"paper_bgcolor\":\"white\",\"plot_bgcolor\":\"#E5ECF6\",\"polar\":{\"angularaxis\":{\"gridcolor\":\"white\",\"linecolor\":\"white\",\"ticks\":\"\"},\"bgcolor\":\"#E5ECF6\",\"radialaxis\":{\"gridcolor\":\"white\",\"linecolor\":\"white\",\"ticks\":\"\"}},\"scene\":{\"xaxis\":{\"backgroundcolor\":\"#E5ECF6\",\"gridcolor\":\"white\",\"gridwidth\":2,\"linecolor\":\"white\",\"showbackground\":true,\"ticks\":\"\",\"zerolinecolor\":\"white\"},\"yaxis\":{\"backgroundcolor\":\"#E5ECF6\",\"gridcolor\":\"white\",\"gridwidth\":2,\"linecolor\":\"white\",\"showbackground\":true,\"ticks\":\"\",\"zerolinecolor\":\"white\"},\"zaxis\":{\"backgroundcolor\":\"#E5ECF6\",\"gridcolor\":\"white\",\"gridwidth\":2,\"linecolor\":\"white\",\"showbackground\":true,\"ticks\":\"\",\"zerolinecolor\":\"white\"}},\"shapedefaults\":{\"line\":{\"color\":\"#2a3f5f\"}},\"ternary\":{\"aaxis\":{\"gridcolor\":\"white\",\"linecolor\":\"white\",\"ticks\":\"\"},\"baxis\":{\"gridcolor\":\"white\",\"linecolor\":\"white\",\"ticks\":\"\"},\"bgcolor\":\"#E5ECF6\",\"caxis\":{\"gridcolor\":\"white\",\"linecolor\":\"white\",\"ticks\":\"\"}},\"title\":{\"x\":0.05},\"xaxis\":{\"automargin\":true,\"gridcolor\":\"white\",\"linecolor\":\"white\",\"ticks\":\"\",\"title\":{\"standoff\":15},\"zerolinecolor\":\"white\",\"zerolinewidth\":2},\"yaxis\":{\"automargin\":true,\"gridcolor\":\"white\",\"linecolor\":\"white\",\"ticks\":\"\",\"title\":{\"standoff\":15},\"zerolinecolor\":\"white\",\"zerolinewidth\":2}}},\"title\":{\"font\":{\"color\":\"#151516\"},\"text\":\"Campaign finance summary\"},\"xaxis\":{\"gridcolor\":\"#F6F6F6\",\"showgrid\":true,\"tickfont\":{\"color\":\"#666666\"},\"title\":{\"font\":{\"color\":\"#666666\"},\"text\":\"\"},\"zerolinecolor\":\"#F6F6F6\"},\"yaxis\":{\"gridcolor\":\"#F6F6F6\",\"showgrid\":true,\"tickfont\":{\"color\":\"#666666\"},\"title\":{\"font\":{\"color\":\"#666666\"},\"text\":\"\"},\"zerolinecolor\":\"#F6F6F6\"}},                        {\"showLink\": true, \"linkText\": \"Export to plot.ly\", \"plotlyServerURL\": \"https://plot.ly\", \"responsive\": true}                    ).then(function(){\n",
       "                            \n",
       "var gd = document.getElementById('31fc24ba-c1c2-4c4c-967b-7c200d0dde88');\n",
       "var x = new MutationObserver(function (mutations, observer) {{\n",
       "        var display = window.getComputedStyle(gd).display;\n",
       "        if (!display || display === 'none') {{\n",
       "            console.log([gd, 'removed!']);\n",
       "            Plotly.purge(gd);\n",
       "            observer.disconnect();\n",
       "        }}\n",
       "}});\n",
       "\n",
       "// Listen for the removal of the full notebook cells\n",
       "var notebookContainer = gd.closest('#notebook-container');\n",
       "if (notebookContainer) {{\n",
       "    x.observe(notebookContainer, {childList: true});\n",
       "}}\n",
       "\n",
       "// Listen for the clearing of the current output cell\n",
       "var outputEl = gd.closest('.output');\n",
       "if (outputEl) {{\n",
       "    x.observe(outputEl, {childList: true});\n",
       "}}\n",
       "\n",
       "                        })                };                });            </script>        </div>"
      ]
     },
     "metadata": {},
     "output_type": "display_data"
    }
   ],
   "source": [
    "candidates_desc.update({'TTL_RECEIPTS_CORRECTED': 'Total Receipts', 'TTL_DISB_CORRECTED': 'Total Disbursements'})\n",
    "camp_finance_summary_cols = ['TTL_RECEIPTS_CORRECTED', 'TTL_DISB_CORRECTED', 'TRANS_FROM_AUTH', 'COH_BOP', 'COH_COP', 'CAND_CONTRIB', 'CAND_LOANS', 'OTHER_LOANS', 'DEBTS_OWED_BY', 'TTL_INDIV_CONTRIB', 'POL_PTY_CONTRIB', 'OTHER_POL_CMTE_CONTRIB']\n",
    "\n",
    "focused_candidates = candidates.groupby('CAND_NAME').agg({x: 'sum' for x in camp_finance_summary_cols}).reset_index()\n",
    "total_finance = focused_candidates.set_index('CAND_NAME')[camp_finance_summary_cols].transpose()\n",
    "total_finance = total_finance.rename(candidates_desc)\n",
    "total_finance.iplot(kind='bar', title='Campaign finance summary', colors=color_map)"
   ]
  },
  {
   "cell_type": "markdown",
   "metadata": {
    "papermill": {
     "duration": 0.031743,
     "end_time": "2020-09-02T04:53:39.421364",
     "exception": false,
     "start_time": "2020-09-02T04:53:39.389621",
     "status": "completed"
    },
    "tags": []
   },
   "source": [
    "## Contributions & expenditures from committees"
   ]
  },
  {
   "cell_type": "code",
   "execution_count": 16,
   "metadata": {
    "_kg_hide-input": true,
    "_kg_hide-output": false,
    "execution": {
     "iopub.execute_input": "2020-09-02T04:53:39.493155Z",
     "iopub.status.busy": "2020-09-02T04:53:39.492295Z",
     "iopub.status.idle": "2020-09-02T04:53:40.621624Z",
     "shell.execute_reply": "2020-09-02T04:53:40.622251Z"
    },
    "papermill": {
     "duration": 1.168771,
     "end_time": "2020-09-02T04:53:40.622440",
     "exception": false,
     "start_time": "2020-09-02T04:53:39.453669",
     "status": "completed"
    },
    "tags": []
   },
   "outputs": [
    {
     "name": "stderr",
     "output_type": "stream",
     "text": [
      "/Users/sahluwalia/acre/lib/python3.7/site-packages/IPython/core/interactiveshell.py:3257: DtypeWarning:\n",
      "\n",
      "Columns (11,12) have mixed types.Specify dtype option on import or set low_memory=False.\n",
      "\n"
     ]
    },
    {
     "data": {
      "text/html": [
       "<div>\n",
       "<style scoped>\n",
       "    .dataframe tbody tr th:only-of-type {\n",
       "        vertical-align: middle;\n",
       "    }\n",
       "\n",
       "    .dataframe tbody tr th {\n",
       "        vertical-align: top;\n",
       "    }\n",
       "\n",
       "    .dataframe thead th {\n",
       "        text-align: right;\n",
       "    }\n",
       "</style>\n",
       "<table border=\"1\" class=\"dataframe\">\n",
       "  <thead>\n",
       "    <tr style=\"text-align: right;\">\n",
       "      <th></th>\n",
       "      <th>CMTE_ID</th>\n",
       "      <th>AMNDT_IND</th>\n",
       "      <th>RPT_TP</th>\n",
       "      <th>TRANSACTION_PGI</th>\n",
       "      <th>IMAGE_NUM</th>\n",
       "      <th>TRANSACTION_TP</th>\n",
       "      <th>ENTITY_TP</th>\n",
       "      <th>NAME</th>\n",
       "      <th>CITY</th>\n",
       "      <th>STATE</th>\n",
       "      <th>ZIP_CODE</th>\n",
       "      <th>EMPLOYER</th>\n",
       "      <th>OCCUPATION</th>\n",
       "      <th>TRANSACTION_DT</th>\n",
       "      <th>TRANSACTION_AMT</th>\n",
       "      <th>OTHER_ID</th>\n",
       "      <th>CAND_ID</th>\n",
       "      <th>TRAN_ID</th>\n",
       "      <th>FILE_NUM</th>\n",
       "      <th>MEMO_CD</th>\n",
       "      <th>MEMO_TEXT</th>\n",
       "      <th>SUB_ID</th>\n",
       "    </tr>\n",
       "  </thead>\n",
       "  <tbody>\n",
       "    <tr>\n",
       "      <th>0</th>\n",
       "      <td>C00567180</td>\n",
       "      <td>T</td>\n",
       "      <td>TER</td>\n",
       "      <td>P2020</td>\n",
       "      <td>201901099143774199</td>\n",
       "      <td>24K</td>\n",
       "      <td>PAC</td>\n",
       "      <td>TED YOHO FOR CONGRESS</td>\n",
       "      <td>GAINESVILLE</td>\n",
       "      <td>FL</td>\n",
       "      <td>32608.0</td>\n",
       "      <td>NaN</td>\n",
       "      <td>NaN</td>\n",
       "      <td>1082019.0</td>\n",
       "      <td>1880</td>\n",
       "      <td>C00494583</td>\n",
       "      <td>H2FL06109</td>\n",
       "      <td>SB23.4447</td>\n",
       "      <td>1303604</td>\n",
       "      <td>NaN</td>\n",
       "      <td>NaN</td>\n",
       "      <td>4021920191640423011</td>\n",
       "    </tr>\n",
       "    <tr>\n",
       "      <th>1</th>\n",
       "      <td>C00104885</td>\n",
       "      <td>A</td>\n",
       "      <td>TER</td>\n",
       "      <td>G2020</td>\n",
       "      <td>201901289144031511</td>\n",
       "      <td>24K</td>\n",
       "      <td>CCM</td>\n",
       "      <td>TEAM GRAHAM INC</td>\n",
       "      <td>COLUMBIA</td>\n",
       "      <td>SC</td>\n",
       "      <td>29202.0</td>\n",
       "      <td>NaN</td>\n",
       "      <td>NaN</td>\n",
       "      <td>12202018.0</td>\n",
       "      <td>3000</td>\n",
       "      <td>C00458828</td>\n",
       "      <td>H4SC03087</td>\n",
       "      <td>SB23.17757</td>\n",
       "      <td>1307636</td>\n",
       "      <td>NaN</td>\n",
       "      <td>NaN</td>\n",
       "      <td>4022220191643444985</td>\n",
       "    </tr>\n",
       "    <tr>\n",
       "      <th>2</th>\n",
       "      <td>C00104885</td>\n",
       "      <td>A</td>\n",
       "      <td>TER</td>\n",
       "      <td>P2022</td>\n",
       "      <td>201901289144031512</td>\n",
       "      <td>24K</td>\n",
       "      <td>CCM</td>\n",
       "      <td>TIM SCOTT FOR SENATE</td>\n",
       "      <td>CHARLESTON</td>\n",
       "      <td>SC</td>\n",
       "      <td>29407.0</td>\n",
       "      <td>NaN</td>\n",
       "      <td>NaN</td>\n",
       "      <td>12202018.0</td>\n",
       "      <td>1000</td>\n",
       "      <td>C00540302</td>\n",
       "      <td>H0SC01279</td>\n",
       "      <td>SB23.17756</td>\n",
       "      <td>1307636</td>\n",
       "      <td>NaN</td>\n",
       "      <td>NaN</td>\n",
       "      <td>4022220191643444987</td>\n",
       "    </tr>\n",
       "    <tr>\n",
       "      <th>3</th>\n",
       "      <td>C00104885</td>\n",
       "      <td>A</td>\n",
       "      <td>TER</td>\n",
       "      <td>P2020</td>\n",
       "      <td>201901289144031511</td>\n",
       "      <td>24K</td>\n",
       "      <td>CCM</td>\n",
       "      <td>FRIENDS OF JIM CLYBURN</td>\n",
       "      <td>COLUMBIA</td>\n",
       "      <td>SC</td>\n",
       "      <td>29211.0</td>\n",
       "      <td>NaN</td>\n",
       "      <td>NaN</td>\n",
       "      <td>1072019.0</td>\n",
       "      <td>470</td>\n",
       "      <td>C00255562</td>\n",
       "      <td>H2SC02042</td>\n",
       "      <td>SB23.17755</td>\n",
       "      <td>1307636</td>\n",
       "      <td>NaN</td>\n",
       "      <td>NaN</td>\n",
       "      <td>4022220191643444981</td>\n",
       "    </tr>\n",
       "    <tr>\n",
       "      <th>4</th>\n",
       "      <td>C00688408</td>\n",
       "      <td>T</td>\n",
       "      <td>TER</td>\n",
       "      <td>G2018</td>\n",
       "      <td>201901319144305867</td>\n",
       "      <td>24E</td>\n",
       "      <td>ORG</td>\n",
       "      <td>JACKSON ADVOCATE</td>\n",
       "      <td>JACKSON</td>\n",
       "      <td>MS</td>\n",
       "      <td>39207.0</td>\n",
       "      <td>NaN</td>\n",
       "      <td>NaN</td>\n",
       "      <td>12122018.0</td>\n",
       "      <td>1000</td>\n",
       "      <td>S8MS00287</td>\n",
       "      <td>S8MS00287</td>\n",
       "      <td>SE.4233</td>\n",
       "      <td>1310906</td>\n",
       "      <td>NaN</td>\n",
       "      <td>NaN</td>\n",
       "      <td>4022420191643632157</td>\n",
       "    </tr>\n",
       "  </tbody>\n",
       "</table>\n",
       "</div>"
      ],
      "text/plain": [
       "     CMTE_ID AMNDT_IND RPT_TP TRANSACTION_PGI           IMAGE_NUM  \\\n",
       "0  C00567180         T    TER           P2020  201901099143774199   \n",
       "1  C00104885         A    TER           G2020  201901289144031511   \n",
       "2  C00104885         A    TER           P2022  201901289144031512   \n",
       "3  C00104885         A    TER           P2020  201901289144031511   \n",
       "4  C00688408         T    TER           G2018  201901319144305867   \n",
       "\n",
       "  TRANSACTION_TP ENTITY_TP                    NAME         CITY STATE  \\\n",
       "0            24K       PAC   TED YOHO FOR CONGRESS  GAINESVILLE    FL   \n",
       "1            24K       CCM         TEAM GRAHAM INC     COLUMBIA    SC   \n",
       "2            24K       CCM    TIM SCOTT FOR SENATE   CHARLESTON    SC   \n",
       "3            24K       CCM  FRIENDS OF JIM CLYBURN     COLUMBIA    SC   \n",
       "4            24E       ORG        JACKSON ADVOCATE      JACKSON    MS   \n",
       "\n",
       "   ZIP_CODE EMPLOYER OCCUPATION  TRANSACTION_DT  TRANSACTION_AMT   OTHER_ID  \\\n",
       "0   32608.0      NaN        NaN       1082019.0             1880  C00494583   \n",
       "1   29202.0      NaN        NaN      12202018.0             3000  C00458828   \n",
       "2   29407.0      NaN        NaN      12202018.0             1000  C00540302   \n",
       "3   29211.0      NaN        NaN       1072019.0              470  C00255562   \n",
       "4   39207.0      NaN        NaN      12122018.0             1000  S8MS00287   \n",
       "\n",
       "     CAND_ID     TRAN_ID  FILE_NUM MEMO_CD MEMO_TEXT               SUB_ID  \n",
       "0  H2FL06109   SB23.4447   1303604     NaN       NaN  4021920191640423011  \n",
       "1  H4SC03087  SB23.17757   1307636     NaN       NaN  4022220191643444985  \n",
       "2  H0SC01279  SB23.17756   1307636     NaN       NaN  4022220191643444987  \n",
       "3  H2SC02042  SB23.17755   1307636     NaN       NaN  4022220191643444981  \n",
       "4  S8MS00287     SE.4233   1310906     NaN       NaN  4022420191643632157  "
      ]
     },
     "execution_count": 16,
     "metadata": {},
     "output_type": "execute_result"
    }
   ],
   "source": [
    "contributions_from_committees = pd.read_csv(f\"../data/20192020-FEC/Contributions from committees to candidates  independent expenditures.csv\")\n",
    "contributions_from_committees.head()"
   ]
  },
  {
   "cell_type": "code",
   "execution_count": 17,
   "metadata": {
    "_kg_hide-input": true,
    "_kg_hide-output": true,
    "execution": {
     "iopub.execute_input": "2020-09-02T04:53:40.699352Z",
     "iopub.status.busy": "2020-09-02T04:53:40.698457Z",
     "iopub.status.idle": "2020-09-02T04:53:41.056409Z",
     "shell.execute_reply": "2020-09-02T04:53:41.055766Z"
    },
    "papermill": {
     "duration": 0.400755,
     "end_time": "2020-09-02T04:53:41.056555",
     "exception": false,
     "start_time": "2020-09-02T04:53:40.655800",
     "status": "completed"
    },
    "tags": []
   },
   "outputs": [
    {
     "data": {
      "text/html": [
       "<div>\n",
       "<style scoped>\n",
       "    .dataframe tbody tr th:only-of-type {\n",
       "        vertical-align: middle;\n",
       "    }\n",
       "\n",
       "    .dataframe tbody tr th {\n",
       "        vertical-align: top;\n",
       "    }\n",
       "\n",
       "    .dataframe thead th {\n",
       "        text-align: right;\n",
       "    }\n",
       "</style>\n",
       "<table border=\"1\" class=\"dataframe\">\n",
       "  <thead>\n",
       "    <tr style=\"text-align: right;\">\n",
       "      <th></th>\n",
       "      <th>CMTE_ID</th>\n",
       "      <th>AMNDT_IND</th>\n",
       "      <th>RPT_TP</th>\n",
       "      <th>TRANSACTION_PGI</th>\n",
       "      <th>IMAGE_NUM</th>\n",
       "      <th>TRANSACTION_TP</th>\n",
       "      <th>ENTITY_TP</th>\n",
       "      <th>NAME</th>\n",
       "      <th>CITY</th>\n",
       "      <th>STATE</th>\n",
       "      <th>ZIP_CODE</th>\n",
       "      <th>EMPLOYER</th>\n",
       "      <th>OCCUPATION</th>\n",
       "      <th>TRANSACTION_DT</th>\n",
       "      <th>TRANSACTION_AMT</th>\n",
       "      <th>OTHER_ID</th>\n",
       "      <th>CAND_ID</th>\n",
       "      <th>TRAN_ID</th>\n",
       "      <th>FILE_NUM</th>\n",
       "      <th>MEMO_CD</th>\n",
       "      <th>MEMO_TEXT</th>\n",
       "      <th>SUB_ID</th>\n",
       "    </tr>\n",
       "  </thead>\n",
       "  <tbody>\n",
       "    <tr>\n",
       "      <th>0</th>\n",
       "      <td>C00567180</td>\n",
       "      <td>T</td>\n",
       "      <td>TER</td>\n",
       "      <td>P2020</td>\n",
       "      <td>201901099143774199</td>\n",
       "      <td>24K</td>\n",
       "      <td>PAC</td>\n",
       "      <td>TED YOHO FOR CONGRESS</td>\n",
       "      <td>GAINESVILLE</td>\n",
       "      <td>FL</td>\n",
       "      <td>32608</td>\n",
       "      <td>NaN</td>\n",
       "      <td>NaN</td>\n",
       "      <td>1082019.0</td>\n",
       "      <td>1880</td>\n",
       "      <td>C00494583</td>\n",
       "      <td>H2FL06109</td>\n",
       "      <td>SB23.4447</td>\n",
       "      <td>1303604</td>\n",
       "      <td>NaN</td>\n",
       "      <td>NaN</td>\n",
       "      <td>4021920191640423011</td>\n",
       "    </tr>\n",
       "    <tr>\n",
       "      <th>1</th>\n",
       "      <td>C00104885</td>\n",
       "      <td>A</td>\n",
       "      <td>TER</td>\n",
       "      <td>G2020</td>\n",
       "      <td>201901289144031511</td>\n",
       "      <td>24K</td>\n",
       "      <td>CCM</td>\n",
       "      <td>TEAM GRAHAM INC</td>\n",
       "      <td>COLUMBIA</td>\n",
       "      <td>SC</td>\n",
       "      <td>29202</td>\n",
       "      <td>NaN</td>\n",
       "      <td>NaN</td>\n",
       "      <td>12202018.0</td>\n",
       "      <td>3000</td>\n",
       "      <td>C00458828</td>\n",
       "      <td>H4SC03087</td>\n",
       "      <td>SB23.17757</td>\n",
       "      <td>1307636</td>\n",
       "      <td>NaN</td>\n",
       "      <td>NaN</td>\n",
       "      <td>4022220191643444985</td>\n",
       "    </tr>\n",
       "    <tr>\n",
       "      <th>2</th>\n",
       "      <td>C00104885</td>\n",
       "      <td>A</td>\n",
       "      <td>TER</td>\n",
       "      <td>P2022</td>\n",
       "      <td>201901289144031512</td>\n",
       "      <td>24K</td>\n",
       "      <td>CCM</td>\n",
       "      <td>TIM SCOTT FOR SENATE</td>\n",
       "      <td>CHARLESTON</td>\n",
       "      <td>SC</td>\n",
       "      <td>29407</td>\n",
       "      <td>NaN</td>\n",
       "      <td>NaN</td>\n",
       "      <td>12202018.0</td>\n",
       "      <td>1000</td>\n",
       "      <td>C00540302</td>\n",
       "      <td>H0SC01279</td>\n",
       "      <td>SB23.17756</td>\n",
       "      <td>1307636</td>\n",
       "      <td>NaN</td>\n",
       "      <td>NaN</td>\n",
       "      <td>4022220191643444987</td>\n",
       "    </tr>\n",
       "    <tr>\n",
       "      <th>3</th>\n",
       "      <td>C00104885</td>\n",
       "      <td>A</td>\n",
       "      <td>TER</td>\n",
       "      <td>P2020</td>\n",
       "      <td>201901289144031511</td>\n",
       "      <td>24K</td>\n",
       "      <td>CCM</td>\n",
       "      <td>FRIENDS OF JIM CLYBURN</td>\n",
       "      <td>COLUMBIA</td>\n",
       "      <td>SC</td>\n",
       "      <td>29211</td>\n",
       "      <td>NaN</td>\n",
       "      <td>NaN</td>\n",
       "      <td>1072019.0</td>\n",
       "      <td>470</td>\n",
       "      <td>C00255562</td>\n",
       "      <td>H2SC02042</td>\n",
       "      <td>SB23.17755</td>\n",
       "      <td>1307636</td>\n",
       "      <td>NaN</td>\n",
       "      <td>NaN</td>\n",
       "      <td>4022220191643444981</td>\n",
       "    </tr>\n",
       "    <tr>\n",
       "      <th>4</th>\n",
       "      <td>C00688408</td>\n",
       "      <td>T</td>\n",
       "      <td>TER</td>\n",
       "      <td>G2018</td>\n",
       "      <td>201901319144305867</td>\n",
       "      <td>24E</td>\n",
       "      <td>ORG</td>\n",
       "      <td>JACKSON ADVOCATE</td>\n",
       "      <td>JACKSON</td>\n",
       "      <td>MS</td>\n",
       "      <td>39207</td>\n",
       "      <td>NaN</td>\n",
       "      <td>NaN</td>\n",
       "      <td>12122018.0</td>\n",
       "      <td>1000</td>\n",
       "      <td>S8MS00287</td>\n",
       "      <td>S8MS00287</td>\n",
       "      <td>SE.4233</td>\n",
       "      <td>1310906</td>\n",
       "      <td>NaN</td>\n",
       "      <td>NaN</td>\n",
       "      <td>4022420191643632157</td>\n",
       "    </tr>\n",
       "  </tbody>\n",
       "</table>\n",
       "</div>"
      ],
      "text/plain": [
       "     CMTE_ID AMNDT_IND RPT_TP TRANSACTION_PGI           IMAGE_NUM  \\\n",
       "0  C00567180         T    TER           P2020  201901099143774199   \n",
       "1  C00104885         A    TER           G2020  201901289144031511   \n",
       "2  C00104885         A    TER           P2022  201901289144031512   \n",
       "3  C00104885         A    TER           P2020  201901289144031511   \n",
       "4  C00688408         T    TER           G2018  201901319144305867   \n",
       "\n",
       "  TRANSACTION_TP ENTITY_TP                    NAME         CITY STATE  \\\n",
       "0            24K       PAC   TED YOHO FOR CONGRESS  GAINESVILLE    FL   \n",
       "1            24K       CCM         TEAM GRAHAM INC     COLUMBIA    SC   \n",
       "2            24K       CCM    TIM SCOTT FOR SENATE   CHARLESTON    SC   \n",
       "3            24K       CCM  FRIENDS OF JIM CLYBURN     COLUMBIA    SC   \n",
       "4            24E       ORG        JACKSON ADVOCATE      JACKSON    MS   \n",
       "\n",
       "  ZIP_CODE EMPLOYER OCCUPATION  TRANSACTION_DT  TRANSACTION_AMT   OTHER_ID  \\\n",
       "0    32608      NaN        NaN       1082019.0             1880  C00494583   \n",
       "1    29202      NaN        NaN      12202018.0             3000  C00458828   \n",
       "2    29407      NaN        NaN      12202018.0             1000  C00540302   \n",
       "3    29211      NaN        NaN       1072019.0              470  C00255562   \n",
       "4    39207      NaN        NaN      12122018.0             1000  S8MS00287   \n",
       "\n",
       "     CAND_ID     TRAN_ID  FILE_NUM MEMO_CD MEMO_TEXT               SUB_ID  \n",
       "0  H2FL06109   SB23.4447   1303604     NaN       NaN  4021920191640423011  \n",
       "1  H4SC03087  SB23.17757   1307636     NaN       NaN  4022220191643444985  \n",
       "2  H0SC01279  SB23.17756   1307636     NaN       NaN  4022220191643444987  \n",
       "3  H2SC02042  SB23.17755   1307636     NaN       NaN  4022220191643444981  \n",
       "4  S8MS00287     SE.4233   1310906     NaN       NaN  4022420191643632157  "
      ]
     },
     "execution_count": 17,
     "metadata": {},
     "output_type": "execute_result"
    }
   ],
   "source": [
    "def fix_zip_codes(col, df):\n",
    "    if df[col].dtype == 'float':\n",
    "        df[col] = df[col].map(lambda x: str(int(x)).zfill(5) if not pd.isna(x) else np.nan)\n",
    "    elif df[col].dtype == 'int64':\n",
    "        df[col] = df[col].map(lambda x: str(x).zfill(5) if not pd.isna(x) else np.nan)\n",
    "    return df\n",
    "contributions_from_committees = fix_zip_codes('ZIP_CODE', contributions_from_committees)\n",
    "contributions_from_committees.head()"
   ]
  },
  {
   "cell_type": "code",
   "execution_count": 18,
   "metadata": {
    "_kg_hide-input": true,
    "_kg_hide-output": true,
    "execution": {
     "iopub.execute_input": "2020-09-02T04:53:41.151657Z",
     "iopub.status.busy": "2020-09-02T04:53:41.150534Z",
     "iopub.status.idle": "2020-09-02T04:53:41.191463Z",
     "shell.execute_reply": "2020-09-02T04:53:41.192131Z"
    },
    "papermill": {
     "duration": 0.101832,
     "end_time": "2020-09-02T04:53:41.192303",
     "exception": false,
     "start_time": "2020-09-02T04:53:41.090471",
     "status": "completed"
    },
    "tags": []
   },
   "outputs": [
    {
     "data": {
      "text/html": [
       "<div>\n",
       "<style scoped>\n",
       "    .dataframe tbody tr th:only-of-type {\n",
       "        vertical-align: middle;\n",
       "    }\n",
       "\n",
       "    .dataframe tbody tr th {\n",
       "        vertical-align: top;\n",
       "    }\n",
       "\n",
       "    .dataframe thead th {\n",
       "        text-align: right;\n",
       "    }\n",
       "</style>\n",
       "<table border=\"1\" class=\"dataframe\">\n",
       "  <thead>\n",
       "    <tr style=\"text-align: right;\">\n",
       "      <th></th>\n",
       "      <th>CMTE_ID</th>\n",
       "      <th>AMNDT_IND</th>\n",
       "      <th>RPT_TP</th>\n",
       "      <th>TRANSACTION_PGI</th>\n",
       "      <th>IMAGE_NUM</th>\n",
       "      <th>TRANSACTION_TP</th>\n",
       "      <th>ENTITY_TP</th>\n",
       "      <th>NAME</th>\n",
       "      <th>CITY</th>\n",
       "      <th>STATE</th>\n",
       "      <th>ZIP_CODE</th>\n",
       "      <th>EMPLOYER</th>\n",
       "      <th>OCCUPATION</th>\n",
       "      <th>TRANSACTION_DT</th>\n",
       "      <th>TRANSACTION_AMT</th>\n",
       "      <th>OTHER_ID</th>\n",
       "      <th>CAND_ID</th>\n",
       "      <th>TRAN_ID</th>\n",
       "      <th>FILE_NUM</th>\n",
       "      <th>MEMO_CD</th>\n",
       "      <th>MEMO_TEXT</th>\n",
       "      <th>SUB_ID</th>\n",
       "      <th>AMNDT_IND_FULL</th>\n",
       "    </tr>\n",
       "  </thead>\n",
       "  <tbody>\n",
       "    <tr>\n",
       "      <th>0</th>\n",
       "      <td>C00567180</td>\n",
       "      <td>T</td>\n",
       "      <td>TER</td>\n",
       "      <td>P2020</td>\n",
       "      <td>201901099143774199</td>\n",
       "      <td>24K</td>\n",
       "      <td>PAC</td>\n",
       "      <td>TED YOHO FOR CONGRESS</td>\n",
       "      <td>GAINESVILLE</td>\n",
       "      <td>FL</td>\n",
       "      <td>32608</td>\n",
       "      <td>NaN</td>\n",
       "      <td>NaN</td>\n",
       "      <td>1082019.0</td>\n",
       "      <td>1880</td>\n",
       "      <td>C00494583</td>\n",
       "      <td>H2FL06109</td>\n",
       "      <td>SB23.4447</td>\n",
       "      <td>1303604</td>\n",
       "      <td>NaN</td>\n",
       "      <td>NaN</td>\n",
       "      <td>4021920191640423011</td>\n",
       "      <td>Termination</td>\n",
       "    </tr>\n",
       "    <tr>\n",
       "      <th>1</th>\n",
       "      <td>C00104885</td>\n",
       "      <td>A</td>\n",
       "      <td>TER</td>\n",
       "      <td>G2020</td>\n",
       "      <td>201901289144031511</td>\n",
       "      <td>24K</td>\n",
       "      <td>CCM</td>\n",
       "      <td>TEAM GRAHAM INC</td>\n",
       "      <td>COLUMBIA</td>\n",
       "      <td>SC</td>\n",
       "      <td>29202</td>\n",
       "      <td>NaN</td>\n",
       "      <td>NaN</td>\n",
       "      <td>12202018.0</td>\n",
       "      <td>3000</td>\n",
       "      <td>C00458828</td>\n",
       "      <td>H4SC03087</td>\n",
       "      <td>SB23.17757</td>\n",
       "      <td>1307636</td>\n",
       "      <td>NaN</td>\n",
       "      <td>NaN</td>\n",
       "      <td>4022220191643444985</td>\n",
       "      <td>Amendment</td>\n",
       "    </tr>\n",
       "    <tr>\n",
       "      <th>2</th>\n",
       "      <td>C00104885</td>\n",
       "      <td>A</td>\n",
       "      <td>TER</td>\n",
       "      <td>P2022</td>\n",
       "      <td>201901289144031512</td>\n",
       "      <td>24K</td>\n",
       "      <td>CCM</td>\n",
       "      <td>TIM SCOTT FOR SENATE</td>\n",
       "      <td>CHARLESTON</td>\n",
       "      <td>SC</td>\n",
       "      <td>29407</td>\n",
       "      <td>NaN</td>\n",
       "      <td>NaN</td>\n",
       "      <td>12202018.0</td>\n",
       "      <td>1000</td>\n",
       "      <td>C00540302</td>\n",
       "      <td>H0SC01279</td>\n",
       "      <td>SB23.17756</td>\n",
       "      <td>1307636</td>\n",
       "      <td>NaN</td>\n",
       "      <td>NaN</td>\n",
       "      <td>4022220191643444987</td>\n",
       "      <td>Amendment</td>\n",
       "    </tr>\n",
       "    <tr>\n",
       "      <th>3</th>\n",
       "      <td>C00104885</td>\n",
       "      <td>A</td>\n",
       "      <td>TER</td>\n",
       "      <td>P2020</td>\n",
       "      <td>201901289144031511</td>\n",
       "      <td>24K</td>\n",
       "      <td>CCM</td>\n",
       "      <td>FRIENDS OF JIM CLYBURN</td>\n",
       "      <td>COLUMBIA</td>\n",
       "      <td>SC</td>\n",
       "      <td>29211</td>\n",
       "      <td>NaN</td>\n",
       "      <td>NaN</td>\n",
       "      <td>1072019.0</td>\n",
       "      <td>470</td>\n",
       "      <td>C00255562</td>\n",
       "      <td>H2SC02042</td>\n",
       "      <td>SB23.17755</td>\n",
       "      <td>1307636</td>\n",
       "      <td>NaN</td>\n",
       "      <td>NaN</td>\n",
       "      <td>4022220191643444981</td>\n",
       "      <td>Amendment</td>\n",
       "    </tr>\n",
       "    <tr>\n",
       "      <th>4</th>\n",
       "      <td>C00688408</td>\n",
       "      <td>T</td>\n",
       "      <td>TER</td>\n",
       "      <td>G2018</td>\n",
       "      <td>201901319144305867</td>\n",
       "      <td>24E</td>\n",
       "      <td>ORG</td>\n",
       "      <td>JACKSON ADVOCATE</td>\n",
       "      <td>JACKSON</td>\n",
       "      <td>MS</td>\n",
       "      <td>39207</td>\n",
       "      <td>NaN</td>\n",
       "      <td>NaN</td>\n",
       "      <td>12122018.0</td>\n",
       "      <td>1000</td>\n",
       "      <td>S8MS00287</td>\n",
       "      <td>S8MS00287</td>\n",
       "      <td>SE.4233</td>\n",
       "      <td>1310906</td>\n",
       "      <td>NaN</td>\n",
       "      <td>NaN</td>\n",
       "      <td>4022420191643632157</td>\n",
       "      <td>Termination</td>\n",
       "    </tr>\n",
       "  </tbody>\n",
       "</table>\n",
       "</div>"
      ],
      "text/plain": [
       "     CMTE_ID AMNDT_IND RPT_TP TRANSACTION_PGI           IMAGE_NUM  \\\n",
       "0  C00567180         T    TER           P2020  201901099143774199   \n",
       "1  C00104885         A    TER           G2020  201901289144031511   \n",
       "2  C00104885         A    TER           P2022  201901289144031512   \n",
       "3  C00104885         A    TER           P2020  201901289144031511   \n",
       "4  C00688408         T    TER           G2018  201901319144305867   \n",
       "\n",
       "  TRANSACTION_TP ENTITY_TP                    NAME         CITY STATE  \\\n",
       "0            24K       PAC   TED YOHO FOR CONGRESS  GAINESVILLE    FL   \n",
       "1            24K       CCM         TEAM GRAHAM INC     COLUMBIA    SC   \n",
       "2            24K       CCM    TIM SCOTT FOR SENATE   CHARLESTON    SC   \n",
       "3            24K       CCM  FRIENDS OF JIM CLYBURN     COLUMBIA    SC   \n",
       "4            24E       ORG        JACKSON ADVOCATE      JACKSON    MS   \n",
       "\n",
       "  ZIP_CODE EMPLOYER OCCUPATION  TRANSACTION_DT  TRANSACTION_AMT   OTHER_ID  \\\n",
       "0    32608      NaN        NaN       1082019.0             1880  C00494583   \n",
       "1    29202      NaN        NaN      12202018.0             3000  C00458828   \n",
       "2    29407      NaN        NaN      12202018.0             1000  C00540302   \n",
       "3    29211      NaN        NaN       1072019.0              470  C00255562   \n",
       "4    39207      NaN        NaN      12122018.0             1000  S8MS00287   \n",
       "\n",
       "     CAND_ID     TRAN_ID  FILE_NUM MEMO_CD MEMO_TEXT               SUB_ID  \\\n",
       "0  H2FL06109   SB23.4447   1303604     NaN       NaN  4021920191640423011   \n",
       "1  H4SC03087  SB23.17757   1307636     NaN       NaN  4022220191643444985   \n",
       "2  H0SC01279  SB23.17756   1307636     NaN       NaN  4022220191643444987   \n",
       "3  H2SC02042  SB23.17755   1307636     NaN       NaN  4022220191643444981   \n",
       "4  S8MS00287     SE.4233   1310906     NaN       NaN  4022420191643632157   \n",
       "\n",
       "  AMNDT_IND_FULL  \n",
       "0    Termination  \n",
       "1      Amendment  \n",
       "2      Amendment  \n",
       "3      Amendment  \n",
       "4    Termination  "
      ]
     },
     "execution_count": 18,
     "metadata": {},
     "output_type": "execute_result"
    }
   ],
   "source": [
    "def map_amndt_ind(df):\n",
    "    df['AMNDT_IND_FULL'] = df['AMNDT_IND'].map({'N': 'New', 'A': 'Amendment', 'T': 'Termination'})\n",
    "    return df\n",
    "contributions_from_committees = map_amndt_ind(contributions_from_committees)\n",
    "contributions_from_committees.head()"
   ]
  },
  {
   "cell_type": "code",
   "execution_count": 19,
   "metadata": {},
   "outputs": [],
   "source": [
    "contributions_from_committees = contributions_from_committees[contributions_from_committees.AMNDT_IND == \"N\"]"
   ]
  },
  {
   "cell_type": "code",
   "execution_count": 20,
   "metadata": {
    "_kg_hide-input": true,
    "_kg_hide-output": true,
    "execution": {
     "iopub.execute_input": "2020-09-02T04:53:41.274456Z",
     "iopub.status.busy": "2020-09-02T04:53:41.273671Z",
     "iopub.status.idle": "2020-09-02T04:53:41.479876Z",
     "shell.execute_reply": "2020-09-02T04:53:41.480444Z"
    },
    "papermill": {
     "duration": 0.254921,
     "end_time": "2020-09-02T04:53:41.480638",
     "exception": false,
     "start_time": "2020-09-02T04:53:41.225717",
     "status": "completed"
    },
    "tags": []
   },
   "outputs": [
    {
     "data": {
      "text/html": [
       "<div>\n",
       "<style scoped>\n",
       "    .dataframe tbody tr th:only-of-type {\n",
       "        vertical-align: middle;\n",
       "    }\n",
       "\n",
       "    .dataframe tbody tr th {\n",
       "        vertical-align: top;\n",
       "    }\n",
       "\n",
       "    .dataframe thead th {\n",
       "        text-align: right;\n",
       "    }\n",
       "</style>\n",
       "<table border=\"1\" class=\"dataframe\">\n",
       "  <thead>\n",
       "    <tr style=\"text-align: right;\">\n",
       "      <th></th>\n",
       "      <th>CMTE_ID</th>\n",
       "      <th>AMNDT_IND</th>\n",
       "      <th>RPT_TP</th>\n",
       "      <th>TRANSACTION_PGI</th>\n",
       "      <th>IMAGE_NUM</th>\n",
       "      <th>TRANSACTION_TP</th>\n",
       "      <th>ENTITY_TP</th>\n",
       "      <th>NAME</th>\n",
       "      <th>CITY</th>\n",
       "      <th>STATE</th>\n",
       "      <th>ZIP_CODE</th>\n",
       "      <th>EMPLOYER</th>\n",
       "      <th>OCCUPATION</th>\n",
       "      <th>TRANSACTION_DT</th>\n",
       "      <th>TRANSACTION_AMT</th>\n",
       "      <th>OTHER_ID</th>\n",
       "      <th>CAND_ID</th>\n",
       "      <th>TRAN_ID</th>\n",
       "      <th>FILE_NUM</th>\n",
       "      <th>MEMO_CD</th>\n",
       "      <th>MEMO_TEXT</th>\n",
       "      <th>SUB_ID</th>\n",
       "      <th>AMNDT_IND_FULL</th>\n",
       "      <th>RPT_TP_FULL</th>\n",
       "    </tr>\n",
       "  </thead>\n",
       "  <tbody>\n",
       "    <tr>\n",
       "      <th>5</th>\n",
       "      <td>C00325324</td>\n",
       "      <td>N</td>\n",
       "      <td>M2</td>\n",
       "      <td>P2020</td>\n",
       "      <td>201902049145458880</td>\n",
       "      <td>24K</td>\n",
       "      <td>CCM</td>\n",
       "      <td>EMMER FOR CONGRESS</td>\n",
       "      <td>ANOKA</td>\n",
       "      <td>MN</td>\n",
       "      <td>55303</td>\n",
       "      <td>NaN</td>\n",
       "      <td>NaN</td>\n",
       "      <td>1252019.0</td>\n",
       "      <td>1500</td>\n",
       "      <td>C00545749</td>\n",
       "      <td>H4MN06087</td>\n",
       "      <td>B27CCDF382AE3419EB12</td>\n",
       "      <td>1313984</td>\n",
       "      <td>NaN</td>\n",
       "      <td>NaN</td>\n",
       "      <td>4022620191643762236</td>\n",
       "      <td>New</td>\n",
       "      <td>February monthly</td>\n",
       "    </tr>\n",
       "    <tr>\n",
       "      <th>6</th>\n",
       "      <td>C00414425</td>\n",
       "      <td>N</td>\n",
       "      <td>M2</td>\n",
       "      <td>P</td>\n",
       "      <td>201902019145450791</td>\n",
       "      <td>24K</td>\n",
       "      <td>CCM</td>\n",
       "      <td>FRIENDS OF MARK WARNER</td>\n",
       "      <td>ALEXANDRIA</td>\n",
       "      <td>VA</td>\n",
       "      <td>22314</td>\n",
       "      <td>NaN</td>\n",
       "      <td>NaN</td>\n",
       "      <td>1292019.0</td>\n",
       "      <td>1000</td>\n",
       "      <td>C00438713</td>\n",
       "      <td>S6VA00093</td>\n",
       "      <td>SB23.9011</td>\n",
       "      <td>1313349</td>\n",
       "      <td>NaN</td>\n",
       "      <td>NaN</td>\n",
       "      <td>4022620191643762178</td>\n",
       "      <td>New</td>\n",
       "      <td>February monthly</td>\n",
       "    </tr>\n",
       "    <tr>\n",
       "      <th>7</th>\n",
       "      <td>C00366013</td>\n",
       "      <td>N</td>\n",
       "      <td>M2</td>\n",
       "      <td>P2020</td>\n",
       "      <td>201902049145460163</td>\n",
       "      <td>24K</td>\n",
       "      <td>CCM</td>\n",
       "      <td>CLAY JR. FOR CONGRESS</td>\n",
       "      <td>SAINT LOUIS</td>\n",
       "      <td>MO</td>\n",
       "      <td>631080544</td>\n",
       "      <td>NaN</td>\n",
       "      <td>NaN</td>\n",
       "      <td>1102019.0</td>\n",
       "      <td>1000</td>\n",
       "      <td>C00346080</td>\n",
       "      <td>H0MO01066</td>\n",
       "      <td>BCC5E5592BA664439810</td>\n",
       "      <td>1314222</td>\n",
       "      <td>NaN</td>\n",
       "      <td>NaN</td>\n",
       "      <td>4022620191643761316</td>\n",
       "      <td>New</td>\n",
       "      <td>February monthly</td>\n",
       "    </tr>\n",
       "    <tr>\n",
       "      <th>8</th>\n",
       "      <td>C00366013</td>\n",
       "      <td>N</td>\n",
       "      <td>M2</td>\n",
       "      <td>P2020</td>\n",
       "      <td>201902049145460162</td>\n",
       "      <td>24K</td>\n",
       "      <td>CCM</td>\n",
       "      <td>MALONEY FOR CONGRESS</td>\n",
       "      <td>NEW YORK</td>\n",
       "      <td>NY</td>\n",
       "      <td>101281326</td>\n",
       "      <td>NaN</td>\n",
       "      <td>NaN</td>\n",
       "      <td>1022019.0</td>\n",
       "      <td>2500</td>\n",
       "      <td>C00273169</td>\n",
       "      <td>H2NY14037</td>\n",
       "      <td>BE5946F36B95C4B1AA76</td>\n",
       "      <td>1314222</td>\n",
       "      <td>NaN</td>\n",
       "      <td>NaN</td>\n",
       "      <td>4022620191643761310</td>\n",
       "      <td>New</td>\n",
       "      <td>February monthly</td>\n",
       "    </tr>\n",
       "    <tr>\n",
       "      <th>9</th>\n",
       "      <td>C00366013</td>\n",
       "      <td>N</td>\n",
       "      <td>M2</td>\n",
       "      <td>P2020</td>\n",
       "      <td>201902049145460162</td>\n",
       "      <td>24K</td>\n",
       "      <td>CCM</td>\n",
       "      <td>MCHENRY FOR CONGRESS</td>\n",
       "      <td>GASTONIA</td>\n",
       "      <td>NC</td>\n",
       "      <td>280532165</td>\n",
       "      <td>NaN</td>\n",
       "      <td>NaN</td>\n",
       "      <td>1102019.0</td>\n",
       "      <td>1000</td>\n",
       "      <td>C00393629</td>\n",
       "      <td>H4NC10047</td>\n",
       "      <td>B4A12FABC952A45BFAA6</td>\n",
       "      <td>1314222</td>\n",
       "      <td>NaN</td>\n",
       "      <td>NaN</td>\n",
       "      <td>4022620191643761312</td>\n",
       "      <td>New</td>\n",
       "      <td>February monthly</td>\n",
       "    </tr>\n",
       "  </tbody>\n",
       "</table>\n",
       "</div>"
      ],
      "text/plain": [
       "     CMTE_ID AMNDT_IND RPT_TP TRANSACTION_PGI           IMAGE_NUM  \\\n",
       "5  C00325324         N     M2           P2020  201902049145458880   \n",
       "6  C00414425         N     M2               P  201902019145450791   \n",
       "7  C00366013         N     M2           P2020  201902049145460163   \n",
       "8  C00366013         N     M2           P2020  201902049145460162   \n",
       "9  C00366013         N     M2           P2020  201902049145460162   \n",
       "\n",
       "  TRANSACTION_TP ENTITY_TP                    NAME         CITY STATE  \\\n",
       "5            24K       CCM      EMMER FOR CONGRESS        ANOKA    MN   \n",
       "6            24K       CCM  FRIENDS OF MARK WARNER   ALEXANDRIA    VA   \n",
       "7            24K       CCM   CLAY JR. FOR CONGRESS  SAINT LOUIS    MO   \n",
       "8            24K       CCM    MALONEY FOR CONGRESS     NEW YORK    NY   \n",
       "9            24K       CCM    MCHENRY FOR CONGRESS     GASTONIA    NC   \n",
       "\n",
       "    ZIP_CODE EMPLOYER OCCUPATION  TRANSACTION_DT  TRANSACTION_AMT   OTHER_ID  \\\n",
       "5      55303      NaN        NaN       1252019.0             1500  C00545749   \n",
       "6      22314      NaN        NaN       1292019.0             1000  C00438713   \n",
       "7  631080544      NaN        NaN       1102019.0             1000  C00346080   \n",
       "8  101281326      NaN        NaN       1022019.0             2500  C00273169   \n",
       "9  280532165      NaN        NaN       1102019.0             1000  C00393629   \n",
       "\n",
       "     CAND_ID               TRAN_ID  FILE_NUM MEMO_CD MEMO_TEXT  \\\n",
       "5  H4MN06087  B27CCDF382AE3419EB12   1313984     NaN       NaN   \n",
       "6  S6VA00093             SB23.9011   1313349     NaN       NaN   \n",
       "7  H0MO01066  BCC5E5592BA664439810   1314222     NaN       NaN   \n",
       "8  H2NY14037  BE5946F36B95C4B1AA76   1314222     NaN       NaN   \n",
       "9  H4NC10047  B4A12FABC952A45BFAA6   1314222     NaN       NaN   \n",
       "\n",
       "                SUB_ID AMNDT_IND_FULL       RPT_TP_FULL  \n",
       "5  4022620191643762236            New  February monthly  \n",
       "6  4022620191643762178            New  February monthly  \n",
       "7  4022620191643761316            New  February monthly  \n",
       "8  4022620191643761310            New  February monthly  \n",
       "9  4022620191643761312            New  February monthly  "
      ]
     },
     "execution_count": 20,
     "metadata": {},
     "output_type": "execute_result"
    }
   ],
   "source": [
    "report_type_map = read_table(\"https://www.fec.gov/campaign-finance-data/report-type-code-descriptions/\")\n",
    "def map_report_type(df):\n",
    "    df['RPT_TP_FULL'] = df['RPT_TP'].map(report_type_map)\n",
    "    return df\n",
    "contributions_from_committees = map_report_type(contributions_from_committees)\n",
    "contributions_from_committees.head()"
   ]
  },
  {
   "cell_type": "code",
   "execution_count": 21,
   "metadata": {
    "_kg_hide-input": true,
    "_kg_hide-output": true,
    "execution": {
     "iopub.execute_input": "2020-09-02T04:53:41.560541Z",
     "iopub.status.busy": "2020-09-02T04:53:41.558924Z",
     "iopub.status.idle": "2020-09-02T04:53:42.268301Z",
     "shell.execute_reply": "2020-09-02T04:53:42.267660Z"
    },
    "papermill": {
     "duration": 0.753461,
     "end_time": "2020-09-02T04:53:42.268438",
     "exception": false,
     "start_time": "2020-09-02T04:53:41.514977",
     "status": "completed"
    },
    "tags": []
   },
   "outputs": [
    {
     "data": {
      "text/html": [
       "<div>\n",
       "<style scoped>\n",
       "    .dataframe tbody tr th:only-of-type {\n",
       "        vertical-align: middle;\n",
       "    }\n",
       "\n",
       "    .dataframe tbody tr th {\n",
       "        vertical-align: top;\n",
       "    }\n",
       "\n",
       "    .dataframe thead th {\n",
       "        text-align: right;\n",
       "    }\n",
       "</style>\n",
       "<table border=\"1\" class=\"dataframe\">\n",
       "  <thead>\n",
       "    <tr style=\"text-align: right;\">\n",
       "      <th></th>\n",
       "      <th>CMTE_ID</th>\n",
       "      <th>AMNDT_IND</th>\n",
       "      <th>RPT_TP</th>\n",
       "      <th>TRANSACTION_PGI</th>\n",
       "      <th>IMAGE_NUM</th>\n",
       "      <th>TRANSACTION_TP</th>\n",
       "      <th>ENTITY_TP</th>\n",
       "      <th>NAME</th>\n",
       "      <th>CITY</th>\n",
       "      <th>STATE</th>\n",
       "      <th>ZIP_CODE</th>\n",
       "      <th>EMPLOYER</th>\n",
       "      <th>OCCUPATION</th>\n",
       "      <th>TRANSACTION_DT</th>\n",
       "      <th>TRANSACTION_AMT</th>\n",
       "      <th>OTHER_ID</th>\n",
       "      <th>CAND_ID</th>\n",
       "      <th>TRAN_ID</th>\n",
       "      <th>FILE_NUM</th>\n",
       "      <th>MEMO_CD</th>\n",
       "      <th>MEMO_TEXT</th>\n",
       "      <th>SUB_ID</th>\n",
       "      <th>AMNDT_IND_FULL</th>\n",
       "      <th>RPT_TP_FULL</th>\n",
       "      <th>ELECTION_TYPE</th>\n",
       "      <th>ELECTION_YEAR</th>\n",
       "    </tr>\n",
       "  </thead>\n",
       "  <tbody>\n",
       "    <tr>\n",
       "      <th>5</th>\n",
       "      <td>C00325324</td>\n",
       "      <td>N</td>\n",
       "      <td>M2</td>\n",
       "      <td>P2020</td>\n",
       "      <td>201902049145458880</td>\n",
       "      <td>24K</td>\n",
       "      <td>CCM</td>\n",
       "      <td>EMMER FOR CONGRESS</td>\n",
       "      <td>ANOKA</td>\n",
       "      <td>MN</td>\n",
       "      <td>55303</td>\n",
       "      <td>NaN</td>\n",
       "      <td>NaN</td>\n",
       "      <td>1252019.0</td>\n",
       "      <td>1500</td>\n",
       "      <td>C00545749</td>\n",
       "      <td>H4MN06087</td>\n",
       "      <td>B27CCDF382AE3419EB12</td>\n",
       "      <td>1313984</td>\n",
       "      <td>NaN</td>\n",
       "      <td>NaN</td>\n",
       "      <td>4022620191643762236</td>\n",
       "      <td>New</td>\n",
       "      <td>February monthly</td>\n",
       "      <td>Primary</td>\n",
       "      <td>2020</td>\n",
       "    </tr>\n",
       "    <tr>\n",
       "      <th>6</th>\n",
       "      <td>C00414425</td>\n",
       "      <td>N</td>\n",
       "      <td>M2</td>\n",
       "      <td>P</td>\n",
       "      <td>201902019145450791</td>\n",
       "      <td>24K</td>\n",
       "      <td>CCM</td>\n",
       "      <td>FRIENDS OF MARK WARNER</td>\n",
       "      <td>ALEXANDRIA</td>\n",
       "      <td>VA</td>\n",
       "      <td>22314</td>\n",
       "      <td>NaN</td>\n",
       "      <td>NaN</td>\n",
       "      <td>1292019.0</td>\n",
       "      <td>1000</td>\n",
       "      <td>C00438713</td>\n",
       "      <td>S6VA00093</td>\n",
       "      <td>SB23.9011</td>\n",
       "      <td>1313349</td>\n",
       "      <td>NaN</td>\n",
       "      <td>NaN</td>\n",
       "      <td>4022620191643762178</td>\n",
       "      <td>New</td>\n",
       "      <td>February monthly</td>\n",
       "      <td>Primary</td>\n",
       "      <td>0</td>\n",
       "    </tr>\n",
       "    <tr>\n",
       "      <th>7</th>\n",
       "      <td>C00366013</td>\n",
       "      <td>N</td>\n",
       "      <td>M2</td>\n",
       "      <td>P2020</td>\n",
       "      <td>201902049145460163</td>\n",
       "      <td>24K</td>\n",
       "      <td>CCM</td>\n",
       "      <td>CLAY JR. FOR CONGRESS</td>\n",
       "      <td>SAINT LOUIS</td>\n",
       "      <td>MO</td>\n",
       "      <td>631080544</td>\n",
       "      <td>NaN</td>\n",
       "      <td>NaN</td>\n",
       "      <td>1102019.0</td>\n",
       "      <td>1000</td>\n",
       "      <td>C00346080</td>\n",
       "      <td>H0MO01066</td>\n",
       "      <td>BCC5E5592BA664439810</td>\n",
       "      <td>1314222</td>\n",
       "      <td>NaN</td>\n",
       "      <td>NaN</td>\n",
       "      <td>4022620191643761316</td>\n",
       "      <td>New</td>\n",
       "      <td>February monthly</td>\n",
       "      <td>Primary</td>\n",
       "      <td>2020</td>\n",
       "    </tr>\n",
       "    <tr>\n",
       "      <th>8</th>\n",
       "      <td>C00366013</td>\n",
       "      <td>N</td>\n",
       "      <td>M2</td>\n",
       "      <td>P2020</td>\n",
       "      <td>201902049145460162</td>\n",
       "      <td>24K</td>\n",
       "      <td>CCM</td>\n",
       "      <td>MALONEY FOR CONGRESS</td>\n",
       "      <td>NEW YORK</td>\n",
       "      <td>NY</td>\n",
       "      <td>101281326</td>\n",
       "      <td>NaN</td>\n",
       "      <td>NaN</td>\n",
       "      <td>1022019.0</td>\n",
       "      <td>2500</td>\n",
       "      <td>C00273169</td>\n",
       "      <td>H2NY14037</td>\n",
       "      <td>BE5946F36B95C4B1AA76</td>\n",
       "      <td>1314222</td>\n",
       "      <td>NaN</td>\n",
       "      <td>NaN</td>\n",
       "      <td>4022620191643761310</td>\n",
       "      <td>New</td>\n",
       "      <td>February monthly</td>\n",
       "      <td>Primary</td>\n",
       "      <td>2020</td>\n",
       "    </tr>\n",
       "    <tr>\n",
       "      <th>9</th>\n",
       "      <td>C00366013</td>\n",
       "      <td>N</td>\n",
       "      <td>M2</td>\n",
       "      <td>P2020</td>\n",
       "      <td>201902049145460162</td>\n",
       "      <td>24K</td>\n",
       "      <td>CCM</td>\n",
       "      <td>MCHENRY FOR CONGRESS</td>\n",
       "      <td>GASTONIA</td>\n",
       "      <td>NC</td>\n",
       "      <td>280532165</td>\n",
       "      <td>NaN</td>\n",
       "      <td>NaN</td>\n",
       "      <td>1102019.0</td>\n",
       "      <td>1000</td>\n",
       "      <td>C00393629</td>\n",
       "      <td>H4NC10047</td>\n",
       "      <td>B4A12FABC952A45BFAA6</td>\n",
       "      <td>1314222</td>\n",
       "      <td>NaN</td>\n",
       "      <td>NaN</td>\n",
       "      <td>4022620191643761312</td>\n",
       "      <td>New</td>\n",
       "      <td>February monthly</td>\n",
       "      <td>Primary</td>\n",
       "      <td>2020</td>\n",
       "    </tr>\n",
       "  </tbody>\n",
       "</table>\n",
       "</div>"
      ],
      "text/plain": [
       "     CMTE_ID AMNDT_IND RPT_TP TRANSACTION_PGI           IMAGE_NUM  \\\n",
       "5  C00325324         N     M2           P2020  201902049145458880   \n",
       "6  C00414425         N     M2               P  201902019145450791   \n",
       "7  C00366013         N     M2           P2020  201902049145460163   \n",
       "8  C00366013         N     M2           P2020  201902049145460162   \n",
       "9  C00366013         N     M2           P2020  201902049145460162   \n",
       "\n",
       "  TRANSACTION_TP ENTITY_TP                    NAME         CITY STATE  \\\n",
       "5            24K       CCM      EMMER FOR CONGRESS        ANOKA    MN   \n",
       "6            24K       CCM  FRIENDS OF MARK WARNER   ALEXANDRIA    VA   \n",
       "7            24K       CCM   CLAY JR. FOR CONGRESS  SAINT LOUIS    MO   \n",
       "8            24K       CCM    MALONEY FOR CONGRESS     NEW YORK    NY   \n",
       "9            24K       CCM    MCHENRY FOR CONGRESS     GASTONIA    NC   \n",
       "\n",
       "    ZIP_CODE EMPLOYER OCCUPATION  TRANSACTION_DT  TRANSACTION_AMT   OTHER_ID  \\\n",
       "5      55303      NaN        NaN       1252019.0             1500  C00545749   \n",
       "6      22314      NaN        NaN       1292019.0             1000  C00438713   \n",
       "7  631080544      NaN        NaN       1102019.0             1000  C00346080   \n",
       "8  101281326      NaN        NaN       1022019.0             2500  C00273169   \n",
       "9  280532165      NaN        NaN       1102019.0             1000  C00393629   \n",
       "\n",
       "     CAND_ID               TRAN_ID  FILE_NUM MEMO_CD MEMO_TEXT  \\\n",
       "5  H4MN06087  B27CCDF382AE3419EB12   1313984     NaN       NaN   \n",
       "6  S6VA00093             SB23.9011   1313349     NaN       NaN   \n",
       "7  H0MO01066  BCC5E5592BA664439810   1314222     NaN       NaN   \n",
       "8  H2NY14037  BE5946F36B95C4B1AA76   1314222     NaN       NaN   \n",
       "9  H4NC10047  B4A12FABC952A45BFAA6   1314222     NaN       NaN   \n",
       "\n",
       "                SUB_ID AMNDT_IND_FULL       RPT_TP_FULL ELECTION_TYPE  \\\n",
       "5  4022620191643762236            New  February monthly       Primary   \n",
       "6  4022620191643762178            New  February monthly       Primary   \n",
       "7  4022620191643761316            New  February monthly       Primary   \n",
       "8  4022620191643761310            New  February monthly       Primary   \n",
       "9  4022620191643761312            New  February monthly       Primary   \n",
       "\n",
       "   ELECTION_YEAR  \n",
       "5           2020  \n",
       "6              0  \n",
       "7           2020  \n",
       "8           2020  \n",
       "9           2020  "
      ]
     },
     "execution_count": 21,
     "metadata": {},
     "output_type": "execute_result"
    }
   ],
   "source": [
    "election_type_map = {\n",
    "    'P': 'Primary',\n",
    "    'G': 'General',\n",
    "    'O': 'Other',\n",
    "    'C': 'Convention',\n",
    "    'R': 'Runoff',\n",
    "    'S': 'Special',\n",
    "    'E': 'Recount'\n",
    "}\n",
    "def parse_transaction_pgi(df):\n",
    "    df['ELECTION_TYPE'] = df['TRANSACTION_PGI'].astype('object').str[0].map(election_type_map)\n",
    "    df['ELECTION_YEAR'] = df['TRANSACTION_PGI'].astype('object').str[1:].map(\n",
    "        lambda x: int(x) if x and not pd.isnull(x) else np.nan).fillna(0).astype('int')\n",
    "    return df\n",
    "contributions_from_committees = parse_transaction_pgi(contributions_from_committees)\n",
    "contributions_from_committees.head()"
   ]
  },
  {
   "cell_type": "code",
   "execution_count": 22,
   "metadata": {
    "_kg_hide-input": true,
    "_kg_hide-output": true,
    "execution": {
     "iopub.execute_input": "2020-09-02T04:53:43.363342Z",
     "iopub.status.busy": "2020-09-02T04:53:43.362525Z",
     "iopub.status.idle": "2020-09-02T04:53:43.584075Z",
     "shell.execute_reply": "2020-09-02T04:53:43.583257Z"
    },
    "papermill": {
     "duration": 0.272357,
     "end_time": "2020-09-02T04:53:43.584228",
     "exception": false,
     "start_time": "2020-09-02T04:53:43.311871",
     "status": "completed"
    },
    "tags": []
   },
   "outputs": [
    {
     "data": {
      "text/html": [
       "<div>\n",
       "<style scoped>\n",
       "    .dataframe tbody tr th:only-of-type {\n",
       "        vertical-align: middle;\n",
       "    }\n",
       "\n",
       "    .dataframe tbody tr th {\n",
       "        vertical-align: top;\n",
       "    }\n",
       "\n",
       "    .dataframe thead th {\n",
       "        text-align: right;\n",
       "    }\n",
       "</style>\n",
       "<table border=\"1\" class=\"dataframe\">\n",
       "  <thead>\n",
       "    <tr style=\"text-align: right;\">\n",
       "      <th></th>\n",
       "      <th>CMTE_ID</th>\n",
       "      <th>AMNDT_IND</th>\n",
       "      <th>RPT_TP</th>\n",
       "      <th>TRANSACTION_PGI</th>\n",
       "      <th>IMAGE_NUM</th>\n",
       "      <th>TRANSACTION_TP</th>\n",
       "      <th>ENTITY_TP</th>\n",
       "      <th>NAME</th>\n",
       "      <th>CITY</th>\n",
       "      <th>STATE</th>\n",
       "      <th>ZIP_CODE</th>\n",
       "      <th>EMPLOYER</th>\n",
       "      <th>OCCUPATION</th>\n",
       "      <th>TRANSACTION_DT</th>\n",
       "      <th>TRANSACTION_AMT</th>\n",
       "      <th>OTHER_ID</th>\n",
       "      <th>CAND_ID</th>\n",
       "      <th>TRAN_ID</th>\n",
       "      <th>FILE_NUM</th>\n",
       "      <th>MEMO_CD</th>\n",
       "      <th>MEMO_TEXT</th>\n",
       "      <th>SUB_ID</th>\n",
       "      <th>AMNDT_IND_FULL</th>\n",
       "      <th>RPT_TP_FULL</th>\n",
       "      <th>ELECTION_TYPE</th>\n",
       "      <th>ELECTION_YEAR</th>\n",
       "      <th>TRANSACTION_TP_FULL</th>\n",
       "    </tr>\n",
       "  </thead>\n",
       "  <tbody>\n",
       "    <tr>\n",
       "      <th>5</th>\n",
       "      <td>C00325324</td>\n",
       "      <td>N</td>\n",
       "      <td>M2</td>\n",
       "      <td>P2020</td>\n",
       "      <td>201902049145458880</td>\n",
       "      <td>24K</td>\n",
       "      <td>CCM</td>\n",
       "      <td>EMMER FOR CONGRESS</td>\n",
       "      <td>ANOKA</td>\n",
       "      <td>MN</td>\n",
       "      <td>55303</td>\n",
       "      <td>NaN</td>\n",
       "      <td>NaN</td>\n",
       "      <td>1252019.0</td>\n",
       "      <td>1500</td>\n",
       "      <td>C00545749</td>\n",
       "      <td>H4MN06087</td>\n",
       "      <td>B27CCDF382AE3419EB12</td>\n",
       "      <td>1313984</td>\n",
       "      <td>NaN</td>\n",
       "      <td>NaN</td>\n",
       "      <td>4022620191643762236</td>\n",
       "      <td>New</td>\n",
       "      <td>February monthly</td>\n",
       "      <td>Primary</td>\n",
       "      <td>2020</td>\n",
       "      <td>Contribution made to nonaffiliated committee</td>\n",
       "    </tr>\n",
       "    <tr>\n",
       "      <th>6</th>\n",
       "      <td>C00414425</td>\n",
       "      <td>N</td>\n",
       "      <td>M2</td>\n",
       "      <td>P</td>\n",
       "      <td>201902019145450791</td>\n",
       "      <td>24K</td>\n",
       "      <td>CCM</td>\n",
       "      <td>FRIENDS OF MARK WARNER</td>\n",
       "      <td>ALEXANDRIA</td>\n",
       "      <td>VA</td>\n",
       "      <td>22314</td>\n",
       "      <td>NaN</td>\n",
       "      <td>NaN</td>\n",
       "      <td>1292019.0</td>\n",
       "      <td>1000</td>\n",
       "      <td>C00438713</td>\n",
       "      <td>S6VA00093</td>\n",
       "      <td>SB23.9011</td>\n",
       "      <td>1313349</td>\n",
       "      <td>NaN</td>\n",
       "      <td>NaN</td>\n",
       "      <td>4022620191643762178</td>\n",
       "      <td>New</td>\n",
       "      <td>February monthly</td>\n",
       "      <td>Primary</td>\n",
       "      <td>0</td>\n",
       "      <td>Contribution made to nonaffiliated committee</td>\n",
       "    </tr>\n",
       "    <tr>\n",
       "      <th>7</th>\n",
       "      <td>C00366013</td>\n",
       "      <td>N</td>\n",
       "      <td>M2</td>\n",
       "      <td>P2020</td>\n",
       "      <td>201902049145460163</td>\n",
       "      <td>24K</td>\n",
       "      <td>CCM</td>\n",
       "      <td>CLAY JR. FOR CONGRESS</td>\n",
       "      <td>SAINT LOUIS</td>\n",
       "      <td>MO</td>\n",
       "      <td>631080544</td>\n",
       "      <td>NaN</td>\n",
       "      <td>NaN</td>\n",
       "      <td>1102019.0</td>\n",
       "      <td>1000</td>\n",
       "      <td>C00346080</td>\n",
       "      <td>H0MO01066</td>\n",
       "      <td>BCC5E5592BA664439810</td>\n",
       "      <td>1314222</td>\n",
       "      <td>NaN</td>\n",
       "      <td>NaN</td>\n",
       "      <td>4022620191643761316</td>\n",
       "      <td>New</td>\n",
       "      <td>February monthly</td>\n",
       "      <td>Primary</td>\n",
       "      <td>2020</td>\n",
       "      <td>Contribution made to nonaffiliated committee</td>\n",
       "    </tr>\n",
       "    <tr>\n",
       "      <th>8</th>\n",
       "      <td>C00366013</td>\n",
       "      <td>N</td>\n",
       "      <td>M2</td>\n",
       "      <td>P2020</td>\n",
       "      <td>201902049145460162</td>\n",
       "      <td>24K</td>\n",
       "      <td>CCM</td>\n",
       "      <td>MALONEY FOR CONGRESS</td>\n",
       "      <td>NEW YORK</td>\n",
       "      <td>NY</td>\n",
       "      <td>101281326</td>\n",
       "      <td>NaN</td>\n",
       "      <td>NaN</td>\n",
       "      <td>1022019.0</td>\n",
       "      <td>2500</td>\n",
       "      <td>C00273169</td>\n",
       "      <td>H2NY14037</td>\n",
       "      <td>BE5946F36B95C4B1AA76</td>\n",
       "      <td>1314222</td>\n",
       "      <td>NaN</td>\n",
       "      <td>NaN</td>\n",
       "      <td>4022620191643761310</td>\n",
       "      <td>New</td>\n",
       "      <td>February monthly</td>\n",
       "      <td>Primary</td>\n",
       "      <td>2020</td>\n",
       "      <td>Contribution made to nonaffiliated committee</td>\n",
       "    </tr>\n",
       "    <tr>\n",
       "      <th>9</th>\n",
       "      <td>C00366013</td>\n",
       "      <td>N</td>\n",
       "      <td>M2</td>\n",
       "      <td>P2020</td>\n",
       "      <td>201902049145460162</td>\n",
       "      <td>24K</td>\n",
       "      <td>CCM</td>\n",
       "      <td>MCHENRY FOR CONGRESS</td>\n",
       "      <td>GASTONIA</td>\n",
       "      <td>NC</td>\n",
       "      <td>280532165</td>\n",
       "      <td>NaN</td>\n",
       "      <td>NaN</td>\n",
       "      <td>1102019.0</td>\n",
       "      <td>1000</td>\n",
       "      <td>C00393629</td>\n",
       "      <td>H4NC10047</td>\n",
       "      <td>B4A12FABC952A45BFAA6</td>\n",
       "      <td>1314222</td>\n",
       "      <td>NaN</td>\n",
       "      <td>NaN</td>\n",
       "      <td>4022620191643761312</td>\n",
       "      <td>New</td>\n",
       "      <td>February monthly</td>\n",
       "      <td>Primary</td>\n",
       "      <td>2020</td>\n",
       "      <td>Contribution made to nonaffiliated committee</td>\n",
       "    </tr>\n",
       "  </tbody>\n",
       "</table>\n",
       "</div>"
      ],
      "text/plain": [
       "     CMTE_ID AMNDT_IND RPT_TP TRANSACTION_PGI           IMAGE_NUM  \\\n",
       "5  C00325324         N     M2           P2020  201902049145458880   \n",
       "6  C00414425         N     M2               P  201902019145450791   \n",
       "7  C00366013         N     M2           P2020  201902049145460163   \n",
       "8  C00366013         N     M2           P2020  201902049145460162   \n",
       "9  C00366013         N     M2           P2020  201902049145460162   \n",
       "\n",
       "  TRANSACTION_TP ENTITY_TP                    NAME         CITY STATE  \\\n",
       "5            24K       CCM      EMMER FOR CONGRESS        ANOKA    MN   \n",
       "6            24K       CCM  FRIENDS OF MARK WARNER   ALEXANDRIA    VA   \n",
       "7            24K       CCM   CLAY JR. FOR CONGRESS  SAINT LOUIS    MO   \n",
       "8            24K       CCM    MALONEY FOR CONGRESS     NEW YORK    NY   \n",
       "9            24K       CCM    MCHENRY FOR CONGRESS     GASTONIA    NC   \n",
       "\n",
       "    ZIP_CODE EMPLOYER OCCUPATION  TRANSACTION_DT  TRANSACTION_AMT   OTHER_ID  \\\n",
       "5      55303      NaN        NaN       1252019.0             1500  C00545749   \n",
       "6      22314      NaN        NaN       1292019.0             1000  C00438713   \n",
       "7  631080544      NaN        NaN       1102019.0             1000  C00346080   \n",
       "8  101281326      NaN        NaN       1022019.0             2500  C00273169   \n",
       "9  280532165      NaN        NaN       1102019.0             1000  C00393629   \n",
       "\n",
       "     CAND_ID               TRAN_ID  FILE_NUM MEMO_CD MEMO_TEXT  \\\n",
       "5  H4MN06087  B27CCDF382AE3419EB12   1313984     NaN       NaN   \n",
       "6  S6VA00093             SB23.9011   1313349     NaN       NaN   \n",
       "7  H0MO01066  BCC5E5592BA664439810   1314222     NaN       NaN   \n",
       "8  H2NY14037  BE5946F36B95C4B1AA76   1314222     NaN       NaN   \n",
       "9  H4NC10047  B4A12FABC952A45BFAA6   1314222     NaN       NaN   \n",
       "\n",
       "                SUB_ID AMNDT_IND_FULL       RPT_TP_FULL ELECTION_TYPE  \\\n",
       "5  4022620191643762236            New  February monthly       Primary   \n",
       "6  4022620191643762178            New  February monthly       Primary   \n",
       "7  4022620191643761316            New  February monthly       Primary   \n",
       "8  4022620191643761310            New  February monthly       Primary   \n",
       "9  4022620191643761312            New  February monthly       Primary   \n",
       "\n",
       "   ELECTION_YEAR                           TRANSACTION_TP_FULL  \n",
       "5           2020  Contribution made to nonaffiliated committee  \n",
       "6              0  Contribution made to nonaffiliated committee  \n",
       "7           2020  Contribution made to nonaffiliated committee  \n",
       "8           2020  Contribution made to nonaffiliated committee  \n",
       "9           2020  Contribution made to nonaffiliated committee  "
      ]
     },
     "execution_count": 22,
     "metadata": {},
     "output_type": "execute_result"
    }
   ],
   "source": [
    "transaction_type_map = read_table(\"https://www.fec.gov/campaign-finance-data/transaction-type-code-descriptions/\")\n",
    "\n",
    "def map_transaction_type(df):\n",
    "    \n",
    "    df['TRANSACTION_TP_FULL'] = df['TRANSACTION_TP'].map(transaction_type_map)\n",
    "\n",
    "    return df\n",
    "\n",
    "contributions_from_committees = map_transaction_type(contributions_from_committees)\n",
    "contributions_from_committees.head()"
   ]
  },
  {
   "cell_type": "code",
   "execution_count": 23,
   "metadata": {
    "_kg_hide-input": true,
    "_kg_hide-output": true,
    "execution": {
     "iopub.execute_input": "2020-09-02T04:53:43.698208Z",
     "iopub.status.busy": "2020-09-02T04:53:43.697062Z",
     "iopub.status.idle": "2020-09-02T04:53:43.746517Z",
     "shell.execute_reply": "2020-09-02T04:53:43.745762Z"
    },
    "papermill": {
     "duration": 0.126236,
     "end_time": "2020-09-02T04:53:43.746669",
     "exception": false,
     "start_time": "2020-09-02T04:53:43.620433",
     "status": "completed"
    },
    "tags": []
   },
   "outputs": [
    {
     "data": {
      "text/html": [
       "<div>\n",
       "<style scoped>\n",
       "    .dataframe tbody tr th:only-of-type {\n",
       "        vertical-align: middle;\n",
       "    }\n",
       "\n",
       "    .dataframe tbody tr th {\n",
       "        vertical-align: top;\n",
       "    }\n",
       "\n",
       "    .dataframe thead th {\n",
       "        text-align: right;\n",
       "    }\n",
       "</style>\n",
       "<table border=\"1\" class=\"dataframe\">\n",
       "  <thead>\n",
       "    <tr style=\"text-align: right;\">\n",
       "      <th></th>\n",
       "      <th>CMTE_ID</th>\n",
       "      <th>AMNDT_IND</th>\n",
       "      <th>RPT_TP</th>\n",
       "      <th>TRANSACTION_PGI</th>\n",
       "      <th>IMAGE_NUM</th>\n",
       "      <th>TRANSACTION_TP</th>\n",
       "      <th>ENTITY_TP</th>\n",
       "      <th>NAME</th>\n",
       "      <th>CITY</th>\n",
       "      <th>STATE</th>\n",
       "      <th>ZIP_CODE</th>\n",
       "      <th>EMPLOYER</th>\n",
       "      <th>OCCUPATION</th>\n",
       "      <th>TRANSACTION_DT</th>\n",
       "      <th>TRANSACTION_AMT</th>\n",
       "      <th>OTHER_ID</th>\n",
       "      <th>CAND_ID</th>\n",
       "      <th>TRAN_ID</th>\n",
       "      <th>FILE_NUM</th>\n",
       "      <th>MEMO_CD</th>\n",
       "      <th>MEMO_TEXT</th>\n",
       "      <th>SUB_ID</th>\n",
       "      <th>AMNDT_IND_FULL</th>\n",
       "      <th>RPT_TP_FULL</th>\n",
       "      <th>ELECTION_TYPE</th>\n",
       "      <th>ELECTION_YEAR</th>\n",
       "      <th>TRANSACTION_TP_FULL</th>\n",
       "      <th>ENTITY_TP_FULL</th>\n",
       "    </tr>\n",
       "  </thead>\n",
       "  <tbody>\n",
       "    <tr>\n",
       "      <th>5</th>\n",
       "      <td>C00325324</td>\n",
       "      <td>N</td>\n",
       "      <td>M2</td>\n",
       "      <td>P2020</td>\n",
       "      <td>201902049145458880</td>\n",
       "      <td>24K</td>\n",
       "      <td>CCM</td>\n",
       "      <td>EMMER FOR CONGRESS</td>\n",
       "      <td>ANOKA</td>\n",
       "      <td>MN</td>\n",
       "      <td>55303</td>\n",
       "      <td>NaN</td>\n",
       "      <td>NaN</td>\n",
       "      <td>1252019.0</td>\n",
       "      <td>1500</td>\n",
       "      <td>C00545749</td>\n",
       "      <td>H4MN06087</td>\n",
       "      <td>B27CCDF382AE3419EB12</td>\n",
       "      <td>1313984</td>\n",
       "      <td>NaN</td>\n",
       "      <td>NaN</td>\n",
       "      <td>4022620191643762236</td>\n",
       "      <td>New</td>\n",
       "      <td>February monthly</td>\n",
       "      <td>Primary</td>\n",
       "      <td>2020</td>\n",
       "      <td>Contribution made to nonaffiliated committee</td>\n",
       "      <td>Candidate Committee</td>\n",
       "    </tr>\n",
       "    <tr>\n",
       "      <th>6</th>\n",
       "      <td>C00414425</td>\n",
       "      <td>N</td>\n",
       "      <td>M2</td>\n",
       "      <td>P</td>\n",
       "      <td>201902019145450791</td>\n",
       "      <td>24K</td>\n",
       "      <td>CCM</td>\n",
       "      <td>FRIENDS OF MARK WARNER</td>\n",
       "      <td>ALEXANDRIA</td>\n",
       "      <td>VA</td>\n",
       "      <td>22314</td>\n",
       "      <td>NaN</td>\n",
       "      <td>NaN</td>\n",
       "      <td>1292019.0</td>\n",
       "      <td>1000</td>\n",
       "      <td>C00438713</td>\n",
       "      <td>S6VA00093</td>\n",
       "      <td>SB23.9011</td>\n",
       "      <td>1313349</td>\n",
       "      <td>NaN</td>\n",
       "      <td>NaN</td>\n",
       "      <td>4022620191643762178</td>\n",
       "      <td>New</td>\n",
       "      <td>February monthly</td>\n",
       "      <td>Primary</td>\n",
       "      <td>0</td>\n",
       "      <td>Contribution made to nonaffiliated committee</td>\n",
       "      <td>Candidate Committee</td>\n",
       "    </tr>\n",
       "    <tr>\n",
       "      <th>7</th>\n",
       "      <td>C00366013</td>\n",
       "      <td>N</td>\n",
       "      <td>M2</td>\n",
       "      <td>P2020</td>\n",
       "      <td>201902049145460163</td>\n",
       "      <td>24K</td>\n",
       "      <td>CCM</td>\n",
       "      <td>CLAY JR. FOR CONGRESS</td>\n",
       "      <td>SAINT LOUIS</td>\n",
       "      <td>MO</td>\n",
       "      <td>631080544</td>\n",
       "      <td>NaN</td>\n",
       "      <td>NaN</td>\n",
       "      <td>1102019.0</td>\n",
       "      <td>1000</td>\n",
       "      <td>C00346080</td>\n",
       "      <td>H0MO01066</td>\n",
       "      <td>BCC5E5592BA664439810</td>\n",
       "      <td>1314222</td>\n",
       "      <td>NaN</td>\n",
       "      <td>NaN</td>\n",
       "      <td>4022620191643761316</td>\n",
       "      <td>New</td>\n",
       "      <td>February monthly</td>\n",
       "      <td>Primary</td>\n",
       "      <td>2020</td>\n",
       "      <td>Contribution made to nonaffiliated committee</td>\n",
       "      <td>Candidate Committee</td>\n",
       "    </tr>\n",
       "    <tr>\n",
       "      <th>8</th>\n",
       "      <td>C00366013</td>\n",
       "      <td>N</td>\n",
       "      <td>M2</td>\n",
       "      <td>P2020</td>\n",
       "      <td>201902049145460162</td>\n",
       "      <td>24K</td>\n",
       "      <td>CCM</td>\n",
       "      <td>MALONEY FOR CONGRESS</td>\n",
       "      <td>NEW YORK</td>\n",
       "      <td>NY</td>\n",
       "      <td>101281326</td>\n",
       "      <td>NaN</td>\n",
       "      <td>NaN</td>\n",
       "      <td>1022019.0</td>\n",
       "      <td>2500</td>\n",
       "      <td>C00273169</td>\n",
       "      <td>H2NY14037</td>\n",
       "      <td>BE5946F36B95C4B1AA76</td>\n",
       "      <td>1314222</td>\n",
       "      <td>NaN</td>\n",
       "      <td>NaN</td>\n",
       "      <td>4022620191643761310</td>\n",
       "      <td>New</td>\n",
       "      <td>February monthly</td>\n",
       "      <td>Primary</td>\n",
       "      <td>2020</td>\n",
       "      <td>Contribution made to nonaffiliated committee</td>\n",
       "      <td>Candidate Committee</td>\n",
       "    </tr>\n",
       "    <tr>\n",
       "      <th>9</th>\n",
       "      <td>C00366013</td>\n",
       "      <td>N</td>\n",
       "      <td>M2</td>\n",
       "      <td>P2020</td>\n",
       "      <td>201902049145460162</td>\n",
       "      <td>24K</td>\n",
       "      <td>CCM</td>\n",
       "      <td>MCHENRY FOR CONGRESS</td>\n",
       "      <td>GASTONIA</td>\n",
       "      <td>NC</td>\n",
       "      <td>280532165</td>\n",
       "      <td>NaN</td>\n",
       "      <td>NaN</td>\n",
       "      <td>1102019.0</td>\n",
       "      <td>1000</td>\n",
       "      <td>C00393629</td>\n",
       "      <td>H4NC10047</td>\n",
       "      <td>B4A12FABC952A45BFAA6</td>\n",
       "      <td>1314222</td>\n",
       "      <td>NaN</td>\n",
       "      <td>NaN</td>\n",
       "      <td>4022620191643761312</td>\n",
       "      <td>New</td>\n",
       "      <td>February monthly</td>\n",
       "      <td>Primary</td>\n",
       "      <td>2020</td>\n",
       "      <td>Contribution made to nonaffiliated committee</td>\n",
       "      <td>Candidate Committee</td>\n",
       "    </tr>\n",
       "  </tbody>\n",
       "</table>\n",
       "</div>"
      ],
      "text/plain": [
       "     CMTE_ID AMNDT_IND RPT_TP TRANSACTION_PGI           IMAGE_NUM  \\\n",
       "5  C00325324         N     M2           P2020  201902049145458880   \n",
       "6  C00414425         N     M2               P  201902019145450791   \n",
       "7  C00366013         N     M2           P2020  201902049145460163   \n",
       "8  C00366013         N     M2           P2020  201902049145460162   \n",
       "9  C00366013         N     M2           P2020  201902049145460162   \n",
       "\n",
       "  TRANSACTION_TP ENTITY_TP                    NAME         CITY STATE  \\\n",
       "5            24K       CCM      EMMER FOR CONGRESS        ANOKA    MN   \n",
       "6            24K       CCM  FRIENDS OF MARK WARNER   ALEXANDRIA    VA   \n",
       "7            24K       CCM   CLAY JR. FOR CONGRESS  SAINT LOUIS    MO   \n",
       "8            24K       CCM    MALONEY FOR CONGRESS     NEW YORK    NY   \n",
       "9            24K       CCM    MCHENRY FOR CONGRESS     GASTONIA    NC   \n",
       "\n",
       "    ZIP_CODE EMPLOYER OCCUPATION  TRANSACTION_DT  TRANSACTION_AMT   OTHER_ID  \\\n",
       "5      55303      NaN        NaN       1252019.0             1500  C00545749   \n",
       "6      22314      NaN        NaN       1292019.0             1000  C00438713   \n",
       "7  631080544      NaN        NaN       1102019.0             1000  C00346080   \n",
       "8  101281326      NaN        NaN       1022019.0             2500  C00273169   \n",
       "9  280532165      NaN        NaN       1102019.0             1000  C00393629   \n",
       "\n",
       "     CAND_ID               TRAN_ID  FILE_NUM MEMO_CD MEMO_TEXT  \\\n",
       "5  H4MN06087  B27CCDF382AE3419EB12   1313984     NaN       NaN   \n",
       "6  S6VA00093             SB23.9011   1313349     NaN       NaN   \n",
       "7  H0MO01066  BCC5E5592BA664439810   1314222     NaN       NaN   \n",
       "8  H2NY14037  BE5946F36B95C4B1AA76   1314222     NaN       NaN   \n",
       "9  H4NC10047  B4A12FABC952A45BFAA6   1314222     NaN       NaN   \n",
       "\n",
       "                SUB_ID AMNDT_IND_FULL       RPT_TP_FULL ELECTION_TYPE  \\\n",
       "5  4022620191643762236            New  February monthly       Primary   \n",
       "6  4022620191643762178            New  February monthly       Primary   \n",
       "7  4022620191643761316            New  February monthly       Primary   \n",
       "8  4022620191643761310            New  February monthly       Primary   \n",
       "9  4022620191643761312            New  February monthly       Primary   \n",
       "\n",
       "   ELECTION_YEAR                           TRANSACTION_TP_FULL  \\\n",
       "5           2020  Contribution made to nonaffiliated committee   \n",
       "6              0  Contribution made to nonaffiliated committee   \n",
       "7           2020  Contribution made to nonaffiliated committee   \n",
       "8           2020  Contribution made to nonaffiliated committee   \n",
       "9           2020  Contribution made to nonaffiliated committee   \n",
       "\n",
       "        ENTITY_TP_FULL  \n",
       "5  Candidate Committee  \n",
       "6  Candidate Committee  \n",
       "7  Candidate Committee  \n",
       "8  Candidate Committee  \n",
       "9  Candidate Committee  "
      ]
     },
     "execution_count": 23,
     "metadata": {},
     "output_type": "execute_result"
    }
   ],
   "source": [
    "entity_type_map = {\n",
    "    'CAN': 'Candidate',\n",
    "    'CCM': 'Candidate Committee',\n",
    "    'COM': 'Committee',\n",
    "    'IND': 'Individual (a person)',\n",
    "    'ORG': 'Organization (not a committee and not a person)',\n",
    "    'PAC': 'Political Action Committee',\n",
    "    'PTY': 'Party Organization'\n",
    "}\n",
    "def map_entity_type(df):\n",
    "    df['ENTITY_TP_FULL'] = df['ENTITY_TP'].map(entity_type_map)\n",
    "    return df\n",
    "contributions_from_committees = map_entity_type(contributions_from_committees)\n",
    "contributions_from_committees.head()"
   ]
  },
  {
   "cell_type": "code",
   "execution_count": 24,
   "metadata": {
    "_kg_hide-input": true,
    "_kg_hide-output": true,
    "execution": {
     "iopub.execute_input": "2020-09-02T04:53:43.904052Z",
     "iopub.status.busy": "2020-09-02T04:53:43.903241Z",
     "iopub.status.idle": "2020-09-02T04:53:56.562439Z",
     "shell.execute_reply": "2020-09-02T04:53:56.561755Z"
    },
    "papermill": {
     "duration": 12.725227,
     "end_time": "2020-09-02T04:53:56.562618",
     "exception": false,
     "start_time": "2020-09-02T04:53:43.837391",
     "status": "completed"
    },
    "tags": []
   },
   "outputs": [
    {
     "data": {
      "text/html": [
       "<div>\n",
       "<style scoped>\n",
       "    .dataframe tbody tr th:only-of-type {\n",
       "        vertical-align: middle;\n",
       "    }\n",
       "\n",
       "    .dataframe tbody tr th {\n",
       "        vertical-align: top;\n",
       "    }\n",
       "\n",
       "    .dataframe thead th {\n",
       "        text-align: right;\n",
       "    }\n",
       "</style>\n",
       "<table border=\"1\" class=\"dataframe\">\n",
       "  <thead>\n",
       "    <tr style=\"text-align: right;\">\n",
       "      <th></th>\n",
       "      <th>CMTE_ID</th>\n",
       "      <th>AMNDT_IND</th>\n",
       "      <th>RPT_TP</th>\n",
       "      <th>TRANSACTION_PGI</th>\n",
       "      <th>IMAGE_NUM</th>\n",
       "      <th>TRANSACTION_TP</th>\n",
       "      <th>ENTITY_TP</th>\n",
       "      <th>NAME</th>\n",
       "      <th>CITY</th>\n",
       "      <th>STATE</th>\n",
       "      <th>ZIP_CODE</th>\n",
       "      <th>EMPLOYER</th>\n",
       "      <th>OCCUPATION</th>\n",
       "      <th>TRANSACTION_DT</th>\n",
       "      <th>TRANSACTION_AMT</th>\n",
       "      <th>OTHER_ID</th>\n",
       "      <th>CAND_ID</th>\n",
       "      <th>TRAN_ID</th>\n",
       "      <th>FILE_NUM</th>\n",
       "      <th>MEMO_CD</th>\n",
       "      <th>MEMO_TEXT</th>\n",
       "      <th>SUB_ID</th>\n",
       "      <th>AMNDT_IND_FULL</th>\n",
       "      <th>RPT_TP_FULL</th>\n",
       "      <th>ELECTION_TYPE</th>\n",
       "      <th>ELECTION_YEAR</th>\n",
       "      <th>TRANSACTION_TP_FULL</th>\n",
       "      <th>ENTITY_TP_FULL</th>\n",
       "      <th>TRAN_ID_parent</th>\n",
       "      <th>TRAN_ID_child</th>\n",
       "    </tr>\n",
       "  </thead>\n",
       "  <tbody>\n",
       "    <tr>\n",
       "      <th>5</th>\n",
       "      <td>C00325324</td>\n",
       "      <td>N</td>\n",
       "      <td>M2</td>\n",
       "      <td>P2020</td>\n",
       "      <td>201902049145458880</td>\n",
       "      <td>24K</td>\n",
       "      <td>CCM</td>\n",
       "      <td>EMMER FOR CONGRESS</td>\n",
       "      <td>ANOKA</td>\n",
       "      <td>MN</td>\n",
       "      <td>55303</td>\n",
       "      <td>NaN</td>\n",
       "      <td>NaN</td>\n",
       "      <td>1252019.0</td>\n",
       "      <td>1500</td>\n",
       "      <td>C00545749</td>\n",
       "      <td>H4MN06087</td>\n",
       "      <td>B27CCDF382AE3419EB12</td>\n",
       "      <td>1313984</td>\n",
       "      <td>NaN</td>\n",
       "      <td>NaN</td>\n",
       "      <td>4022620191643762236</td>\n",
       "      <td>New</td>\n",
       "      <td>February monthly</td>\n",
       "      <td>Primary</td>\n",
       "      <td>2020</td>\n",
       "      <td>Contribution made to nonaffiliated committee</td>\n",
       "      <td>Candidate Committee</td>\n",
       "      <td>B27CCDF382AE3419EB12</td>\n",
       "      <td>None</td>\n",
       "    </tr>\n",
       "    <tr>\n",
       "      <th>6</th>\n",
       "      <td>C00414425</td>\n",
       "      <td>N</td>\n",
       "      <td>M2</td>\n",
       "      <td>P</td>\n",
       "      <td>201902019145450791</td>\n",
       "      <td>24K</td>\n",
       "      <td>CCM</td>\n",
       "      <td>FRIENDS OF MARK WARNER</td>\n",
       "      <td>ALEXANDRIA</td>\n",
       "      <td>VA</td>\n",
       "      <td>22314</td>\n",
       "      <td>NaN</td>\n",
       "      <td>NaN</td>\n",
       "      <td>1292019.0</td>\n",
       "      <td>1000</td>\n",
       "      <td>C00438713</td>\n",
       "      <td>S6VA00093</td>\n",
       "      <td>SB23.9011</td>\n",
       "      <td>1313349</td>\n",
       "      <td>NaN</td>\n",
       "      <td>NaN</td>\n",
       "      <td>4022620191643762178</td>\n",
       "      <td>New</td>\n",
       "      <td>February monthly</td>\n",
       "      <td>Primary</td>\n",
       "      <td>0</td>\n",
       "      <td>Contribution made to nonaffiliated committee</td>\n",
       "      <td>Candidate Committee</td>\n",
       "      <td>SB23</td>\n",
       "      <td>9011</td>\n",
       "    </tr>\n",
       "    <tr>\n",
       "      <th>7</th>\n",
       "      <td>C00366013</td>\n",
       "      <td>N</td>\n",
       "      <td>M2</td>\n",
       "      <td>P2020</td>\n",
       "      <td>201902049145460163</td>\n",
       "      <td>24K</td>\n",
       "      <td>CCM</td>\n",
       "      <td>CLAY JR. FOR CONGRESS</td>\n",
       "      <td>SAINT LOUIS</td>\n",
       "      <td>MO</td>\n",
       "      <td>631080544</td>\n",
       "      <td>NaN</td>\n",
       "      <td>NaN</td>\n",
       "      <td>1102019.0</td>\n",
       "      <td>1000</td>\n",
       "      <td>C00346080</td>\n",
       "      <td>H0MO01066</td>\n",
       "      <td>BCC5E5592BA664439810</td>\n",
       "      <td>1314222</td>\n",
       "      <td>NaN</td>\n",
       "      <td>NaN</td>\n",
       "      <td>4022620191643761316</td>\n",
       "      <td>New</td>\n",
       "      <td>February monthly</td>\n",
       "      <td>Primary</td>\n",
       "      <td>2020</td>\n",
       "      <td>Contribution made to nonaffiliated committee</td>\n",
       "      <td>Candidate Committee</td>\n",
       "      <td>BCC5E5592BA664439810</td>\n",
       "      <td>None</td>\n",
       "    </tr>\n",
       "    <tr>\n",
       "      <th>8</th>\n",
       "      <td>C00366013</td>\n",
       "      <td>N</td>\n",
       "      <td>M2</td>\n",
       "      <td>P2020</td>\n",
       "      <td>201902049145460162</td>\n",
       "      <td>24K</td>\n",
       "      <td>CCM</td>\n",
       "      <td>MALONEY FOR CONGRESS</td>\n",
       "      <td>NEW YORK</td>\n",
       "      <td>NY</td>\n",
       "      <td>101281326</td>\n",
       "      <td>NaN</td>\n",
       "      <td>NaN</td>\n",
       "      <td>1022019.0</td>\n",
       "      <td>2500</td>\n",
       "      <td>C00273169</td>\n",
       "      <td>H2NY14037</td>\n",
       "      <td>BE5946F36B95C4B1AA76</td>\n",
       "      <td>1314222</td>\n",
       "      <td>NaN</td>\n",
       "      <td>NaN</td>\n",
       "      <td>4022620191643761310</td>\n",
       "      <td>New</td>\n",
       "      <td>February monthly</td>\n",
       "      <td>Primary</td>\n",
       "      <td>2020</td>\n",
       "      <td>Contribution made to nonaffiliated committee</td>\n",
       "      <td>Candidate Committee</td>\n",
       "      <td>BE5946F36B95C4B1AA76</td>\n",
       "      <td>None</td>\n",
       "    </tr>\n",
       "    <tr>\n",
       "      <th>9</th>\n",
       "      <td>C00366013</td>\n",
       "      <td>N</td>\n",
       "      <td>M2</td>\n",
       "      <td>P2020</td>\n",
       "      <td>201902049145460162</td>\n",
       "      <td>24K</td>\n",
       "      <td>CCM</td>\n",
       "      <td>MCHENRY FOR CONGRESS</td>\n",
       "      <td>GASTONIA</td>\n",
       "      <td>NC</td>\n",
       "      <td>280532165</td>\n",
       "      <td>NaN</td>\n",
       "      <td>NaN</td>\n",
       "      <td>1102019.0</td>\n",
       "      <td>1000</td>\n",
       "      <td>C00393629</td>\n",
       "      <td>H4NC10047</td>\n",
       "      <td>B4A12FABC952A45BFAA6</td>\n",
       "      <td>1314222</td>\n",
       "      <td>NaN</td>\n",
       "      <td>NaN</td>\n",
       "      <td>4022620191643761312</td>\n",
       "      <td>New</td>\n",
       "      <td>February monthly</td>\n",
       "      <td>Primary</td>\n",
       "      <td>2020</td>\n",
       "      <td>Contribution made to nonaffiliated committee</td>\n",
       "      <td>Candidate Committee</td>\n",
       "      <td>B4A12FABC952A45BFAA6</td>\n",
       "      <td>None</td>\n",
       "    </tr>\n",
       "  </tbody>\n",
       "</table>\n",
       "</div>"
      ],
      "text/plain": [
       "     CMTE_ID AMNDT_IND RPT_TP TRANSACTION_PGI           IMAGE_NUM  \\\n",
       "5  C00325324         N     M2           P2020  201902049145458880   \n",
       "6  C00414425         N     M2               P  201902019145450791   \n",
       "7  C00366013         N     M2           P2020  201902049145460163   \n",
       "8  C00366013         N     M2           P2020  201902049145460162   \n",
       "9  C00366013         N     M2           P2020  201902049145460162   \n",
       "\n",
       "  TRANSACTION_TP ENTITY_TP                    NAME         CITY STATE  \\\n",
       "5            24K       CCM      EMMER FOR CONGRESS        ANOKA    MN   \n",
       "6            24K       CCM  FRIENDS OF MARK WARNER   ALEXANDRIA    VA   \n",
       "7            24K       CCM   CLAY JR. FOR CONGRESS  SAINT LOUIS    MO   \n",
       "8            24K       CCM    MALONEY FOR CONGRESS     NEW YORK    NY   \n",
       "9            24K       CCM    MCHENRY FOR CONGRESS     GASTONIA    NC   \n",
       "\n",
       "    ZIP_CODE EMPLOYER OCCUPATION  TRANSACTION_DT  TRANSACTION_AMT   OTHER_ID  \\\n",
       "5      55303      NaN        NaN       1252019.0             1500  C00545749   \n",
       "6      22314      NaN        NaN       1292019.0             1000  C00438713   \n",
       "7  631080544      NaN        NaN       1102019.0             1000  C00346080   \n",
       "8  101281326      NaN        NaN       1022019.0             2500  C00273169   \n",
       "9  280532165      NaN        NaN       1102019.0             1000  C00393629   \n",
       "\n",
       "     CAND_ID               TRAN_ID  FILE_NUM MEMO_CD MEMO_TEXT  \\\n",
       "5  H4MN06087  B27CCDF382AE3419EB12   1313984     NaN       NaN   \n",
       "6  S6VA00093             SB23.9011   1313349     NaN       NaN   \n",
       "7  H0MO01066  BCC5E5592BA664439810   1314222     NaN       NaN   \n",
       "8  H2NY14037  BE5946F36B95C4B1AA76   1314222     NaN       NaN   \n",
       "9  H4NC10047  B4A12FABC952A45BFAA6   1314222     NaN       NaN   \n",
       "\n",
       "                SUB_ID AMNDT_IND_FULL       RPT_TP_FULL ELECTION_TYPE  \\\n",
       "5  4022620191643762236            New  February monthly       Primary   \n",
       "6  4022620191643762178            New  February monthly       Primary   \n",
       "7  4022620191643761316            New  February monthly       Primary   \n",
       "8  4022620191643761310            New  February monthly       Primary   \n",
       "9  4022620191643761312            New  February monthly       Primary   \n",
       "\n",
       "   ELECTION_YEAR                           TRANSACTION_TP_FULL  \\\n",
       "5           2020  Contribution made to nonaffiliated committee   \n",
       "6              0  Contribution made to nonaffiliated committee   \n",
       "7           2020  Contribution made to nonaffiliated committee   \n",
       "8           2020  Contribution made to nonaffiliated committee   \n",
       "9           2020  Contribution made to nonaffiliated committee   \n",
       "\n",
       "        ENTITY_TP_FULL        TRAN_ID_parent TRAN_ID_child  \n",
       "5  Candidate Committee  B27CCDF382AE3419EB12          None  \n",
       "6  Candidate Committee                  SB23          9011  \n",
       "7  Candidate Committee  BCC5E5592BA664439810          None  \n",
       "8  Candidate Committee  BE5946F36B95C4B1AA76          None  \n",
       "9  Candidate Committee  B4A12FABC952A45BFAA6          None  "
      ]
     },
     "execution_count": 24,
     "metadata": {},
     "output_type": "execute_result"
    }
   ],
   "source": [
    "# We remove the original rows that have been amended later on\n",
    "contributions_from_committees[['TRAN_ID_parent', 'TRAN_ID_child']] = contributions_from_committees['TRAN_ID'].str.split('.', n=1, expand=True)\n",
    "\n",
    "merged = contributions_from_committees.merge(contributions_from_committees, on=['CMTE_ID', 'CAND_ID', 'TRAN_ID_parent'])\n",
    "\n",
    "amended_contribs = merged[(merged['AMNDT_IND_x'] == 'N') & (merged['AMNDT_IND_y'] == 'A') & (merged['TRANSACTION_DT_y'] > merged['TRANSACTION_DT_x'])]['SUB_ID_x']\n",
    "\n",
    "# sanity check\n",
    "contributions_from_committees = contributions_from_committees[~contributions_from_committees['SUB_ID'].isin(amended_contribs)]\n",
    "\n",
    "contributions_from_committees.head()"
   ]
  },
  {
   "cell_type": "code",
   "execution_count": 25,
   "metadata": {
    "_kg_hide-input": true,
    "_kg_hide-output": true,
    "execution": {
     "iopub.execute_input": "2020-09-02T04:53:56.644475Z",
     "iopub.status.busy": "2020-09-02T04:53:56.643731Z",
     "iopub.status.idle": "2020-09-02T04:53:57.129735Z",
     "shell.execute_reply": "2020-09-02T04:53:57.129061Z"
    },
    "papermill": {
     "duration": 0.530098,
     "end_time": "2020-09-02T04:53:57.129888",
     "exception": false,
     "start_time": "2020-09-02T04:53:56.599790",
     "status": "completed"
    },
    "tags": []
   },
   "outputs": [
    {
     "data": {
      "text/html": [
       "<div>\n",
       "<style scoped>\n",
       "    .dataframe tbody tr th:only-of-type {\n",
       "        vertical-align: middle;\n",
       "    }\n",
       "\n",
       "    .dataframe tbody tr th {\n",
       "        vertical-align: top;\n",
       "    }\n",
       "\n",
       "    .dataframe thead th {\n",
       "        text-align: right;\n",
       "    }\n",
       "</style>\n",
       "<table border=\"1\" class=\"dataframe\">\n",
       "  <thead>\n",
       "    <tr style=\"text-align: right;\">\n",
       "      <th></th>\n",
       "      <th>CMTE_ID</th>\n",
       "      <th>AMNDT_IND</th>\n",
       "      <th>RPT_TP</th>\n",
       "      <th>TRANSACTION_PGI</th>\n",
       "      <th>IMAGE_NUM</th>\n",
       "      <th>TRANSACTION_TP</th>\n",
       "      <th>ENTITY_TP</th>\n",
       "      <th>NAME</th>\n",
       "      <th>CITY</th>\n",
       "      <th>STATE</th>\n",
       "      <th>ZIP_CODE</th>\n",
       "      <th>EMPLOYER</th>\n",
       "      <th>OCCUPATION</th>\n",
       "      <th>TRANSACTION_DT</th>\n",
       "      <th>TRANSACTION_AMT</th>\n",
       "      <th>OTHER_ID</th>\n",
       "      <th>CAND_ID</th>\n",
       "      <th>TRAN_ID</th>\n",
       "      <th>FILE_NUM</th>\n",
       "      <th>MEMO_CD</th>\n",
       "      <th>MEMO_TEXT</th>\n",
       "      <th>SUB_ID</th>\n",
       "      <th>AMNDT_IND_FULL</th>\n",
       "      <th>RPT_TP_FULL</th>\n",
       "      <th>ELECTION_TYPE</th>\n",
       "      <th>ELECTION_YEAR</th>\n",
       "      <th>TRANSACTION_TP_FULL</th>\n",
       "      <th>ENTITY_TP_FULL</th>\n",
       "      <th>TRAN_ID_parent</th>\n",
       "      <th>TRAN_ID_child</th>\n",
       "    </tr>\n",
       "  </thead>\n",
       "  <tbody>\n",
       "    <tr>\n",
       "      <th>5</th>\n",
       "      <td>C00325324</td>\n",
       "      <td>N</td>\n",
       "      <td>M2</td>\n",
       "      <td>P2020</td>\n",
       "      <td>201902049145458880</td>\n",
       "      <td>24K</td>\n",
       "      <td>CCM</td>\n",
       "      <td>EMMER FOR CONGRESS</td>\n",
       "      <td>ANOKA</td>\n",
       "      <td>MN</td>\n",
       "      <td>55303</td>\n",
       "      <td>NaN</td>\n",
       "      <td>NaN</td>\n",
       "      <td>2019-01-25</td>\n",
       "      <td>1500</td>\n",
       "      <td>C00545749</td>\n",
       "      <td>H4MN06087</td>\n",
       "      <td>B27CCDF382AE3419EB12</td>\n",
       "      <td>1313984</td>\n",
       "      <td>NaN</td>\n",
       "      <td>NaN</td>\n",
       "      <td>4022620191643762236</td>\n",
       "      <td>New</td>\n",
       "      <td>February monthly</td>\n",
       "      <td>Primary</td>\n",
       "      <td>2020</td>\n",
       "      <td>Contribution made to nonaffiliated committee</td>\n",
       "      <td>Candidate Committee</td>\n",
       "      <td>B27CCDF382AE3419EB12</td>\n",
       "      <td>None</td>\n",
       "    </tr>\n",
       "    <tr>\n",
       "      <th>6</th>\n",
       "      <td>C00414425</td>\n",
       "      <td>N</td>\n",
       "      <td>M2</td>\n",
       "      <td>P</td>\n",
       "      <td>201902019145450791</td>\n",
       "      <td>24K</td>\n",
       "      <td>CCM</td>\n",
       "      <td>FRIENDS OF MARK WARNER</td>\n",
       "      <td>ALEXANDRIA</td>\n",
       "      <td>VA</td>\n",
       "      <td>22314</td>\n",
       "      <td>NaN</td>\n",
       "      <td>NaN</td>\n",
       "      <td>2019-01-29</td>\n",
       "      <td>1000</td>\n",
       "      <td>C00438713</td>\n",
       "      <td>S6VA00093</td>\n",
       "      <td>SB23.9011</td>\n",
       "      <td>1313349</td>\n",
       "      <td>NaN</td>\n",
       "      <td>NaN</td>\n",
       "      <td>4022620191643762178</td>\n",
       "      <td>New</td>\n",
       "      <td>February monthly</td>\n",
       "      <td>Primary</td>\n",
       "      <td>0</td>\n",
       "      <td>Contribution made to nonaffiliated committee</td>\n",
       "      <td>Candidate Committee</td>\n",
       "      <td>SB23</td>\n",
       "      <td>9011</td>\n",
       "    </tr>\n",
       "    <tr>\n",
       "      <th>7</th>\n",
       "      <td>C00366013</td>\n",
       "      <td>N</td>\n",
       "      <td>M2</td>\n",
       "      <td>P2020</td>\n",
       "      <td>201902049145460163</td>\n",
       "      <td>24K</td>\n",
       "      <td>CCM</td>\n",
       "      <td>CLAY JR. FOR CONGRESS</td>\n",
       "      <td>SAINT LOUIS</td>\n",
       "      <td>MO</td>\n",
       "      <td>631080544</td>\n",
       "      <td>NaN</td>\n",
       "      <td>NaN</td>\n",
       "      <td>2019-01-10</td>\n",
       "      <td>1000</td>\n",
       "      <td>C00346080</td>\n",
       "      <td>H0MO01066</td>\n",
       "      <td>BCC5E5592BA664439810</td>\n",
       "      <td>1314222</td>\n",
       "      <td>NaN</td>\n",
       "      <td>NaN</td>\n",
       "      <td>4022620191643761316</td>\n",
       "      <td>New</td>\n",
       "      <td>February monthly</td>\n",
       "      <td>Primary</td>\n",
       "      <td>2020</td>\n",
       "      <td>Contribution made to nonaffiliated committee</td>\n",
       "      <td>Candidate Committee</td>\n",
       "      <td>BCC5E5592BA664439810</td>\n",
       "      <td>None</td>\n",
       "    </tr>\n",
       "    <tr>\n",
       "      <th>8</th>\n",
       "      <td>C00366013</td>\n",
       "      <td>N</td>\n",
       "      <td>M2</td>\n",
       "      <td>P2020</td>\n",
       "      <td>201902049145460162</td>\n",
       "      <td>24K</td>\n",
       "      <td>CCM</td>\n",
       "      <td>MALONEY FOR CONGRESS</td>\n",
       "      <td>NEW YORK</td>\n",
       "      <td>NY</td>\n",
       "      <td>101281326</td>\n",
       "      <td>NaN</td>\n",
       "      <td>NaN</td>\n",
       "      <td>2019-01-02</td>\n",
       "      <td>2500</td>\n",
       "      <td>C00273169</td>\n",
       "      <td>H2NY14037</td>\n",
       "      <td>BE5946F36B95C4B1AA76</td>\n",
       "      <td>1314222</td>\n",
       "      <td>NaN</td>\n",
       "      <td>NaN</td>\n",
       "      <td>4022620191643761310</td>\n",
       "      <td>New</td>\n",
       "      <td>February monthly</td>\n",
       "      <td>Primary</td>\n",
       "      <td>2020</td>\n",
       "      <td>Contribution made to nonaffiliated committee</td>\n",
       "      <td>Candidate Committee</td>\n",
       "      <td>BE5946F36B95C4B1AA76</td>\n",
       "      <td>None</td>\n",
       "    </tr>\n",
       "    <tr>\n",
       "      <th>9</th>\n",
       "      <td>C00366013</td>\n",
       "      <td>N</td>\n",
       "      <td>M2</td>\n",
       "      <td>P2020</td>\n",
       "      <td>201902049145460162</td>\n",
       "      <td>24K</td>\n",
       "      <td>CCM</td>\n",
       "      <td>MCHENRY FOR CONGRESS</td>\n",
       "      <td>GASTONIA</td>\n",
       "      <td>NC</td>\n",
       "      <td>280532165</td>\n",
       "      <td>NaN</td>\n",
       "      <td>NaN</td>\n",
       "      <td>2019-01-10</td>\n",
       "      <td>1000</td>\n",
       "      <td>C00393629</td>\n",
       "      <td>H4NC10047</td>\n",
       "      <td>B4A12FABC952A45BFAA6</td>\n",
       "      <td>1314222</td>\n",
       "      <td>NaN</td>\n",
       "      <td>NaN</td>\n",
       "      <td>4022620191643761312</td>\n",
       "      <td>New</td>\n",
       "      <td>February monthly</td>\n",
       "      <td>Primary</td>\n",
       "      <td>2020</td>\n",
       "      <td>Contribution made to nonaffiliated committee</td>\n",
       "      <td>Candidate Committee</td>\n",
       "      <td>B4A12FABC952A45BFAA6</td>\n",
       "      <td>None</td>\n",
       "    </tr>\n",
       "  </tbody>\n",
       "</table>\n",
       "</div>"
      ],
      "text/plain": [
       "     CMTE_ID AMNDT_IND RPT_TP TRANSACTION_PGI           IMAGE_NUM  \\\n",
       "5  C00325324         N     M2           P2020  201902049145458880   \n",
       "6  C00414425         N     M2               P  201902019145450791   \n",
       "7  C00366013         N     M2           P2020  201902049145460163   \n",
       "8  C00366013         N     M2           P2020  201902049145460162   \n",
       "9  C00366013         N     M2           P2020  201902049145460162   \n",
       "\n",
       "  TRANSACTION_TP ENTITY_TP                    NAME         CITY STATE  \\\n",
       "5            24K       CCM      EMMER FOR CONGRESS        ANOKA    MN   \n",
       "6            24K       CCM  FRIENDS OF MARK WARNER   ALEXANDRIA    VA   \n",
       "7            24K       CCM   CLAY JR. FOR CONGRESS  SAINT LOUIS    MO   \n",
       "8            24K       CCM    MALONEY FOR CONGRESS     NEW YORK    NY   \n",
       "9            24K       CCM    MCHENRY FOR CONGRESS     GASTONIA    NC   \n",
       "\n",
       "    ZIP_CODE EMPLOYER OCCUPATION TRANSACTION_DT  TRANSACTION_AMT   OTHER_ID  \\\n",
       "5      55303      NaN        NaN     2019-01-25             1500  C00545749   \n",
       "6      22314      NaN        NaN     2019-01-29             1000  C00438713   \n",
       "7  631080544      NaN        NaN     2019-01-10             1000  C00346080   \n",
       "8  101281326      NaN        NaN     2019-01-02             2500  C00273169   \n",
       "9  280532165      NaN        NaN     2019-01-10             1000  C00393629   \n",
       "\n",
       "     CAND_ID               TRAN_ID  FILE_NUM MEMO_CD MEMO_TEXT  \\\n",
       "5  H4MN06087  B27CCDF382AE3419EB12   1313984     NaN       NaN   \n",
       "6  S6VA00093             SB23.9011   1313349     NaN       NaN   \n",
       "7  H0MO01066  BCC5E5592BA664439810   1314222     NaN       NaN   \n",
       "8  H2NY14037  BE5946F36B95C4B1AA76   1314222     NaN       NaN   \n",
       "9  H4NC10047  B4A12FABC952A45BFAA6   1314222     NaN       NaN   \n",
       "\n",
       "                SUB_ID AMNDT_IND_FULL       RPT_TP_FULL ELECTION_TYPE  \\\n",
       "5  4022620191643762236            New  February monthly       Primary   \n",
       "6  4022620191643762178            New  February monthly       Primary   \n",
       "7  4022620191643761316            New  February monthly       Primary   \n",
       "8  4022620191643761310            New  February monthly       Primary   \n",
       "9  4022620191643761312            New  February monthly       Primary   \n",
       "\n",
       "   ELECTION_YEAR                           TRANSACTION_TP_FULL  \\\n",
       "5           2020  Contribution made to nonaffiliated committee   \n",
       "6              0  Contribution made to nonaffiliated committee   \n",
       "7           2020  Contribution made to nonaffiliated committee   \n",
       "8           2020  Contribution made to nonaffiliated committee   \n",
       "9           2020  Contribution made to nonaffiliated committee   \n",
       "\n",
       "        ENTITY_TP_FULL        TRAN_ID_parent TRAN_ID_child  \n",
       "5  Candidate Committee  B27CCDF382AE3419EB12          None  \n",
       "6  Candidate Committee                  SB23          9011  \n",
       "7  Candidate Committee  BCC5E5592BA664439810          None  \n",
       "8  Candidate Committee  BE5946F36B95C4B1AA76          None  \n",
       "9  Candidate Committee  B4A12FABC952A45BFAA6          None  "
      ]
     },
     "execution_count": 25,
     "metadata": {},
     "output_type": "execute_result"
    }
   ],
   "source": [
    "contributions_from_committees['TRANSACTION_DT'] = pd.to_datetime(\n",
    "    contributions_from_committees['TRANSACTION_DT'].fillna(0).astype('int').astype('str')\n",
    "    .replace('0', np.NaN).str.zfill(8), format='%m%d%Y')\n",
    "contributions_from_committees.head()"
   ]
  },
  {
   "cell_type": "code",
   "execution_count": 26,
   "metadata": {
    "_kg_hide-input": true,
    "_kg_hide-output": true,
    "execution": {
     "iopub.execute_input": "2020-09-02T04:53:57.232709Z",
     "iopub.status.busy": "2020-09-02T04:53:57.231918Z",
     "iopub.status.idle": "2020-09-02T04:53:57.412650Z",
     "shell.execute_reply": "2020-09-02T04:53:57.411917Z"
    },
    "papermill": {
     "duration": 0.24643,
     "end_time": "2020-09-02T04:53:57.412783",
     "exception": false,
     "start_time": "2020-09-02T04:53:57.166353",
     "status": "completed"
    },
    "tags": []
   },
   "outputs": [
    {
     "data": {
      "text/html": [
       "<div>\n",
       "<style scoped>\n",
       "    .dataframe tbody tr th:only-of-type {\n",
       "        vertical-align: middle;\n",
       "    }\n",
       "\n",
       "    .dataframe tbody tr th {\n",
       "        vertical-align: top;\n",
       "    }\n",
       "\n",
       "    .dataframe thead th {\n",
       "        text-align: right;\n",
       "    }\n",
       "</style>\n",
       "<table border=\"1\" class=\"dataframe\">\n",
       "  <thead>\n",
       "    <tr style=\"text-align: right;\">\n",
       "      <th></th>\n",
       "      <th>CMTE_ID</th>\n",
       "      <th>AMNDT_IND</th>\n",
       "      <th>RPT_TP</th>\n",
       "      <th>TRANSACTION_PGI</th>\n",
       "      <th>IMAGE_NUM</th>\n",
       "      <th>TRANSACTION_TP</th>\n",
       "      <th>ENTITY_TP</th>\n",
       "      <th>NAME</th>\n",
       "      <th>CITY</th>\n",
       "      <th>STATE</th>\n",
       "      <th>ZIP_CODE</th>\n",
       "      <th>EMPLOYER</th>\n",
       "      <th>OCCUPATION</th>\n",
       "      <th>TRANSACTION_DT</th>\n",
       "      <th>TRANSACTION_AMT</th>\n",
       "      <th>OTHER_ID</th>\n",
       "      <th>CAND_ID</th>\n",
       "      <th>TRAN_ID</th>\n",
       "      <th>FILE_NUM</th>\n",
       "      <th>MEMO_CD</th>\n",
       "      <th>MEMO_TEXT</th>\n",
       "      <th>SUB_ID</th>\n",
       "      <th>AMNDT_IND_FULL</th>\n",
       "      <th>RPT_TP_FULL</th>\n",
       "      <th>ELECTION_TYPE</th>\n",
       "      <th>ELECTION_YEAR</th>\n",
       "      <th>TRANSACTION_TP_FULL</th>\n",
       "      <th>ENTITY_TP_FULL</th>\n",
       "      <th>TRAN_ID_parent</th>\n",
       "      <th>TRAN_ID_child</th>\n",
       "      <th>CAND_NAME</th>\n",
       "      <th>CAND_ICI</th>\n",
       "      <th>PTY_CD</th>\n",
       "      <th>CAND_PTY_AFFILIATION</th>\n",
       "      <th>TTL_RECEIPTS</th>\n",
       "      <th>TRANS_FROM_AUTH</th>\n",
       "      <th>TTL_DISB</th>\n",
       "      <th>TRANS_TO_AUTH</th>\n",
       "      <th>COH_BOP</th>\n",
       "      <th>COH_COP</th>\n",
       "      <th>CAND_CONTRIB</th>\n",
       "      <th>CAND_LOANS</th>\n",
       "      <th>OTHER_LOANS</th>\n",
       "      <th>CAND_LOAN_REPAY</th>\n",
       "      <th>OTHER_LOAN_REPAY</th>\n",
       "      <th>DEBTS_OWED_BY</th>\n",
       "      <th>TTL_INDIV_CONTRIB</th>\n",
       "      <th>CAND_OFFICE_ST</th>\n",
       "      <th>CAND_OFFICE_DISTRICT</th>\n",
       "      <th>SPEC_ELECTION</th>\n",
       "      <th>PRIM_ELECTION</th>\n",
       "      <th>RUN_ELECTION</th>\n",
       "      <th>GEN_ELECTION</th>\n",
       "      <th>GEN_ELECTION_PRECENT</th>\n",
       "      <th>OTHER_POL_CMTE_CONTRIB</th>\n",
       "      <th>POL_PTY_CONTRIB</th>\n",
       "      <th>CVG_END_DT</th>\n",
       "      <th>INDIV_REFUNDS</th>\n",
       "      <th>CMTE_REFUNDS</th>\n",
       "      <th>TTL_RECEIPTS_CORRECTED</th>\n",
       "      <th>TTL_DISB_CORRECTED</th>\n",
       "      <th>CAND_ICI_FULL</th>\n",
       "      <th>CAND_PTY_AFFILIATION_FULL</th>\n",
       "      <th>color</th>\n",
       "      <th>second_color</th>\n",
       "    </tr>\n",
       "  </thead>\n",
       "  <tbody>\n",
       "    <tr>\n",
       "      <th>0</th>\n",
       "      <td>C00371385</td>\n",
       "      <td>N</td>\n",
       "      <td>M2</td>\n",
       "      <td>P</td>\n",
       "      <td>201902059145461441</td>\n",
       "      <td>24K</td>\n",
       "      <td>CCM</td>\n",
       "      <td>THOM TILLIS COMMITTEE</td>\n",
       "      <td>RALEIGH</td>\n",
       "      <td>NC</td>\n",
       "      <td>27624</td>\n",
       "      <td>NaN</td>\n",
       "      <td>NaN</td>\n",
       "      <td>2019-01-09</td>\n",
       "      <td>5000</td>\n",
       "      <td>C00545772</td>\n",
       "      <td>S4NC00162</td>\n",
       "      <td>SB23.6145</td>\n",
       "      <td>1314334</td>\n",
       "      <td>NaN</td>\n",
       "      <td>NaN</td>\n",
       "      <td>4022620191643762260</td>\n",
       "      <td>New</td>\n",
       "      <td>February monthly</td>\n",
       "      <td>Primary</td>\n",
       "      <td>0</td>\n",
       "      <td>Contribution made to nonaffiliated committee</td>\n",
       "      <td>Candidate Committee</td>\n",
       "      <td>SB23</td>\n",
       "      <td>6145</td>\n",
       "      <td>TILLIS, THOM R. SEN.</td>\n",
       "      <td>I</td>\n",
       "      <td>2</td>\n",
       "      <td>REP</td>\n",
       "      <td>8269271.66</td>\n",
       "      <td>1152018.96</td>\n",
       "      <td>3811302.27</td>\n",
       "      <td>6441.91</td>\n",
       "      <td>2025444.43</td>\n",
       "      <td>6483413.82</td>\n",
       "      <td>0.0</td>\n",
       "      <td>0.0</td>\n",
       "      <td>0.0</td>\n",
       "      <td>0.0</td>\n",
       "      <td>0.0</td>\n",
       "      <td>0.0</td>\n",
       "      <td>4798506.58</td>\n",
       "      <td>NC</td>\n",
       "      <td>00</td>\n",
       "      <td>NaN</td>\n",
       "      <td>NaN</td>\n",
       "      <td>NaN</td>\n",
       "      <td>NaN</td>\n",
       "      <td>NaN</td>\n",
       "      <td>2278244.39</td>\n",
       "      <td>0.0</td>\n",
       "      <td>06/09/2020</td>\n",
       "      <td>102493.33</td>\n",
       "      <td>14425.67</td>\n",
       "      <td>7117252.7</td>\n",
       "      <td>3804860.36</td>\n",
       "      <td>Incumbent</td>\n",
       "      <td>Republican Party</td>\n",
       "      <td>red</td>\n",
       "      <td>pink</td>\n",
       "    </tr>\n",
       "    <tr>\n",
       "      <th>1</th>\n",
       "      <td>C00551192</td>\n",
       "      <td>N</td>\n",
       "      <td>M2</td>\n",
       "      <td>P2020</td>\n",
       "      <td>201902119145496265</td>\n",
       "      <td>24K</td>\n",
       "      <td>CCM</td>\n",
       "      <td>THOM TILLIS COMMITTEE</td>\n",
       "      <td>RALEIGH</td>\n",
       "      <td>NC</td>\n",
       "      <td>27624</td>\n",
       "      <td>NaN</td>\n",
       "      <td>NaN</td>\n",
       "      <td>2019-01-28</td>\n",
       "      <td>2700</td>\n",
       "      <td>C00545772</td>\n",
       "      <td>S4NC00162</td>\n",
       "      <td>43079234</td>\n",
       "      <td>1315351</td>\n",
       "      <td>NaN</td>\n",
       "      <td>CONTRIBUTION</td>\n",
       "      <td>4022220191643459655</td>\n",
       "      <td>New</td>\n",
       "      <td>February monthly</td>\n",
       "      <td>Primary</td>\n",
       "      <td>2020</td>\n",
       "      <td>Contribution made to nonaffiliated committee</td>\n",
       "      <td>Candidate Committee</td>\n",
       "      <td>43079234</td>\n",
       "      <td>None</td>\n",
       "      <td>TILLIS, THOM R. SEN.</td>\n",
       "      <td>I</td>\n",
       "      <td>2</td>\n",
       "      <td>REP</td>\n",
       "      <td>8269271.66</td>\n",
       "      <td>1152018.96</td>\n",
       "      <td>3811302.27</td>\n",
       "      <td>6441.91</td>\n",
       "      <td>2025444.43</td>\n",
       "      <td>6483413.82</td>\n",
       "      <td>0.0</td>\n",
       "      <td>0.0</td>\n",
       "      <td>0.0</td>\n",
       "      <td>0.0</td>\n",
       "      <td>0.0</td>\n",
       "      <td>0.0</td>\n",
       "      <td>4798506.58</td>\n",
       "      <td>NC</td>\n",
       "      <td>00</td>\n",
       "      <td>NaN</td>\n",
       "      <td>NaN</td>\n",
       "      <td>NaN</td>\n",
       "      <td>NaN</td>\n",
       "      <td>NaN</td>\n",
       "      <td>2278244.39</td>\n",
       "      <td>0.0</td>\n",
       "      <td>06/09/2020</td>\n",
       "      <td>102493.33</td>\n",
       "      <td>14425.67</td>\n",
       "      <td>7117252.7</td>\n",
       "      <td>3804860.36</td>\n",
       "      <td>Incumbent</td>\n",
       "      <td>Republican Party</td>\n",
       "      <td>red</td>\n",
       "      <td>pink</td>\n",
       "    </tr>\n",
       "    <tr>\n",
       "      <th>2</th>\n",
       "      <td>C00100107</td>\n",
       "      <td>N</td>\n",
       "      <td>M2</td>\n",
       "      <td>P2020</td>\n",
       "      <td>201902159145516138</td>\n",
       "      <td>24K</td>\n",
       "      <td>CCM</td>\n",
       "      <td>THOM TILLIS COMMITTEE</td>\n",
       "      <td>RALEIGH</td>\n",
       "      <td>NC</td>\n",
       "      <td>27624</td>\n",
       "      <td>NaN</td>\n",
       "      <td>NaN</td>\n",
       "      <td>2019-01-11</td>\n",
       "      <td>2500</td>\n",
       "      <td>C00545772</td>\n",
       "      <td>S4NC00162</td>\n",
       "      <td>156BA6A4BB1CA36FD35</td>\n",
       "      <td>1316037</td>\n",
       "      <td>NaN</td>\n",
       "      <td>NaN</td>\n",
       "      <td>4022720191644231227</td>\n",
       "      <td>New</td>\n",
       "      <td>February monthly</td>\n",
       "      <td>Primary</td>\n",
       "      <td>2020</td>\n",
       "      <td>Contribution made to nonaffiliated committee</td>\n",
       "      <td>Candidate Committee</td>\n",
       "      <td>156BA6A4BB1CA36FD35</td>\n",
       "      <td>None</td>\n",
       "      <td>TILLIS, THOM R. SEN.</td>\n",
       "      <td>I</td>\n",
       "      <td>2</td>\n",
       "      <td>REP</td>\n",
       "      <td>8269271.66</td>\n",
       "      <td>1152018.96</td>\n",
       "      <td>3811302.27</td>\n",
       "      <td>6441.91</td>\n",
       "      <td>2025444.43</td>\n",
       "      <td>6483413.82</td>\n",
       "      <td>0.0</td>\n",
       "      <td>0.0</td>\n",
       "      <td>0.0</td>\n",
       "      <td>0.0</td>\n",
       "      <td>0.0</td>\n",
       "      <td>0.0</td>\n",
       "      <td>4798506.58</td>\n",
       "      <td>NC</td>\n",
       "      <td>00</td>\n",
       "      <td>NaN</td>\n",
       "      <td>NaN</td>\n",
       "      <td>NaN</td>\n",
       "      <td>NaN</td>\n",
       "      <td>NaN</td>\n",
       "      <td>2278244.39</td>\n",
       "      <td>0.0</td>\n",
       "      <td>06/09/2020</td>\n",
       "      <td>102493.33</td>\n",
       "      <td>14425.67</td>\n",
       "      <td>7117252.7</td>\n",
       "      <td>3804860.36</td>\n",
       "      <td>Incumbent</td>\n",
       "      <td>Republican Party</td>\n",
       "      <td>red</td>\n",
       "      <td>pink</td>\n",
       "    </tr>\n",
       "    <tr>\n",
       "      <th>3</th>\n",
       "      <td>C00214304</td>\n",
       "      <td>N</td>\n",
       "      <td>M2</td>\n",
       "      <td>G2020</td>\n",
       "      <td>201902199145530707</td>\n",
       "      <td>24K</td>\n",
       "      <td>CCM</td>\n",
       "      <td>THOM TILLIS COMMITTEE</td>\n",
       "      <td>RALEIGH</td>\n",
       "      <td>NC</td>\n",
       "      <td>27624</td>\n",
       "      <td>NaN</td>\n",
       "      <td>NaN</td>\n",
       "      <td>2019-01-08</td>\n",
       "      <td>2500</td>\n",
       "      <td>C00545772</td>\n",
       "      <td>S4NC00162</td>\n",
       "      <td>10001048</td>\n",
       "      <td>1316592</td>\n",
       "      <td>NaN</td>\n",
       "      <td>NaN</td>\n",
       "      <td>4022820191644627257</td>\n",
       "      <td>New</td>\n",
       "      <td>February monthly</td>\n",
       "      <td>General</td>\n",
       "      <td>2020</td>\n",
       "      <td>Contribution made to nonaffiliated committee</td>\n",
       "      <td>Candidate Committee</td>\n",
       "      <td>10001048</td>\n",
       "      <td>None</td>\n",
       "      <td>TILLIS, THOM R. SEN.</td>\n",
       "      <td>I</td>\n",
       "      <td>2</td>\n",
       "      <td>REP</td>\n",
       "      <td>8269271.66</td>\n",
       "      <td>1152018.96</td>\n",
       "      <td>3811302.27</td>\n",
       "      <td>6441.91</td>\n",
       "      <td>2025444.43</td>\n",
       "      <td>6483413.82</td>\n",
       "      <td>0.0</td>\n",
       "      <td>0.0</td>\n",
       "      <td>0.0</td>\n",
       "      <td>0.0</td>\n",
       "      <td>0.0</td>\n",
       "      <td>0.0</td>\n",
       "      <td>4798506.58</td>\n",
       "      <td>NC</td>\n",
       "      <td>00</td>\n",
       "      <td>NaN</td>\n",
       "      <td>NaN</td>\n",
       "      <td>NaN</td>\n",
       "      <td>NaN</td>\n",
       "      <td>NaN</td>\n",
       "      <td>2278244.39</td>\n",
       "      <td>0.0</td>\n",
       "      <td>06/09/2020</td>\n",
       "      <td>102493.33</td>\n",
       "      <td>14425.67</td>\n",
       "      <td>7117252.7</td>\n",
       "      <td>3804860.36</td>\n",
       "      <td>Incumbent</td>\n",
       "      <td>Republican Party</td>\n",
       "      <td>red</td>\n",
       "      <td>pink</td>\n",
       "    </tr>\n",
       "    <tr>\n",
       "      <th>4</th>\n",
       "      <td>C00144774</td>\n",
       "      <td>N</td>\n",
       "      <td>M2</td>\n",
       "      <td>P2020</td>\n",
       "      <td>201902199145526887</td>\n",
       "      <td>24K</td>\n",
       "      <td>CCM</td>\n",
       "      <td>THOM TILLIS COMMITTEE</td>\n",
       "      <td>RALEIGH</td>\n",
       "      <td>NC</td>\n",
       "      <td>27624</td>\n",
       "      <td>NaN</td>\n",
       "      <td>NaN</td>\n",
       "      <td>2019-01-09</td>\n",
       "      <td>5000</td>\n",
       "      <td>C00545772</td>\n",
       "      <td>S4NC00162</td>\n",
       "      <td>12654565</td>\n",
       "      <td>1316428</td>\n",
       "      <td>NaN</td>\n",
       "      <td>DIRECT CONTIRIBUTION</td>\n",
       "      <td>4022720191644226724</td>\n",
       "      <td>New</td>\n",
       "      <td>February monthly</td>\n",
       "      <td>Primary</td>\n",
       "      <td>2020</td>\n",
       "      <td>Contribution made to nonaffiliated committee</td>\n",
       "      <td>Candidate Committee</td>\n",
       "      <td>12654565</td>\n",
       "      <td>None</td>\n",
       "      <td>TILLIS, THOM R. SEN.</td>\n",
       "      <td>I</td>\n",
       "      <td>2</td>\n",
       "      <td>REP</td>\n",
       "      <td>8269271.66</td>\n",
       "      <td>1152018.96</td>\n",
       "      <td>3811302.27</td>\n",
       "      <td>6441.91</td>\n",
       "      <td>2025444.43</td>\n",
       "      <td>6483413.82</td>\n",
       "      <td>0.0</td>\n",
       "      <td>0.0</td>\n",
       "      <td>0.0</td>\n",
       "      <td>0.0</td>\n",
       "      <td>0.0</td>\n",
       "      <td>0.0</td>\n",
       "      <td>4798506.58</td>\n",
       "      <td>NC</td>\n",
       "      <td>00</td>\n",
       "      <td>NaN</td>\n",
       "      <td>NaN</td>\n",
       "      <td>NaN</td>\n",
       "      <td>NaN</td>\n",
       "      <td>NaN</td>\n",
       "      <td>2278244.39</td>\n",
       "      <td>0.0</td>\n",
       "      <td>06/09/2020</td>\n",
       "      <td>102493.33</td>\n",
       "      <td>14425.67</td>\n",
       "      <td>7117252.7</td>\n",
       "      <td>3804860.36</td>\n",
       "      <td>Incumbent</td>\n",
       "      <td>Republican Party</td>\n",
       "      <td>red</td>\n",
       "      <td>pink</td>\n",
       "    </tr>\n",
       "  </tbody>\n",
       "</table>\n",
       "</div>"
      ],
      "text/plain": [
       "     CMTE_ID AMNDT_IND RPT_TP TRANSACTION_PGI           IMAGE_NUM  \\\n",
       "0  C00371385         N     M2               P  201902059145461441   \n",
       "1  C00551192         N     M2           P2020  201902119145496265   \n",
       "2  C00100107         N     M2           P2020  201902159145516138   \n",
       "3  C00214304         N     M2           G2020  201902199145530707   \n",
       "4  C00144774         N     M2           P2020  201902199145526887   \n",
       "\n",
       "  TRANSACTION_TP ENTITY_TP                   NAME     CITY STATE ZIP_CODE  \\\n",
       "0            24K       CCM  THOM TILLIS COMMITTEE  RALEIGH    NC    27624   \n",
       "1            24K       CCM  THOM TILLIS COMMITTEE  RALEIGH    NC    27624   \n",
       "2            24K       CCM  THOM TILLIS COMMITTEE  RALEIGH    NC    27624   \n",
       "3            24K       CCM  THOM TILLIS COMMITTEE  RALEIGH    NC    27624   \n",
       "4            24K       CCM  THOM TILLIS COMMITTEE  RALEIGH    NC    27624   \n",
       "\n",
       "  EMPLOYER OCCUPATION TRANSACTION_DT  TRANSACTION_AMT   OTHER_ID    CAND_ID  \\\n",
       "0      NaN        NaN     2019-01-09             5000  C00545772  S4NC00162   \n",
       "1      NaN        NaN     2019-01-28             2700  C00545772  S4NC00162   \n",
       "2      NaN        NaN     2019-01-11             2500  C00545772  S4NC00162   \n",
       "3      NaN        NaN     2019-01-08             2500  C00545772  S4NC00162   \n",
       "4      NaN        NaN     2019-01-09             5000  C00545772  S4NC00162   \n",
       "\n",
       "               TRAN_ID  FILE_NUM MEMO_CD             MEMO_TEXT  \\\n",
       "0            SB23.6145   1314334     NaN                   NaN   \n",
       "1             43079234   1315351     NaN          CONTRIBUTION   \n",
       "2  156BA6A4BB1CA36FD35   1316037     NaN                   NaN   \n",
       "3             10001048   1316592     NaN                   NaN   \n",
       "4             12654565   1316428     NaN  DIRECT CONTIRIBUTION   \n",
       "\n",
       "                SUB_ID AMNDT_IND_FULL       RPT_TP_FULL ELECTION_TYPE  \\\n",
       "0  4022620191643762260            New  February monthly       Primary   \n",
       "1  4022220191643459655            New  February monthly       Primary   \n",
       "2  4022720191644231227            New  February monthly       Primary   \n",
       "3  4022820191644627257            New  February monthly       General   \n",
       "4  4022720191644226724            New  February monthly       Primary   \n",
       "\n",
       "   ELECTION_YEAR                           TRANSACTION_TP_FULL  \\\n",
       "0              0  Contribution made to nonaffiliated committee   \n",
       "1           2020  Contribution made to nonaffiliated committee   \n",
       "2           2020  Contribution made to nonaffiliated committee   \n",
       "3           2020  Contribution made to nonaffiliated committee   \n",
       "4           2020  Contribution made to nonaffiliated committee   \n",
       "\n",
       "        ENTITY_TP_FULL       TRAN_ID_parent TRAN_ID_child  \\\n",
       "0  Candidate Committee                 SB23          6145   \n",
       "1  Candidate Committee             43079234          None   \n",
       "2  Candidate Committee  156BA6A4BB1CA36FD35          None   \n",
       "3  Candidate Committee             10001048          None   \n",
       "4  Candidate Committee             12654565          None   \n",
       "\n",
       "              CAND_NAME CAND_ICI  PTY_CD CAND_PTY_AFFILIATION  TTL_RECEIPTS  \\\n",
       "0  TILLIS, THOM R. SEN.        I       2                  REP    8269271.66   \n",
       "1  TILLIS, THOM R. SEN.        I       2                  REP    8269271.66   \n",
       "2  TILLIS, THOM R. SEN.        I       2                  REP    8269271.66   \n",
       "3  TILLIS, THOM R. SEN.        I       2                  REP    8269271.66   \n",
       "4  TILLIS, THOM R. SEN.        I       2                  REP    8269271.66   \n",
       "\n",
       "   TRANS_FROM_AUTH    TTL_DISB  TRANS_TO_AUTH     COH_BOP     COH_COP  \\\n",
       "0       1152018.96  3811302.27        6441.91  2025444.43  6483413.82   \n",
       "1       1152018.96  3811302.27        6441.91  2025444.43  6483413.82   \n",
       "2       1152018.96  3811302.27        6441.91  2025444.43  6483413.82   \n",
       "3       1152018.96  3811302.27        6441.91  2025444.43  6483413.82   \n",
       "4       1152018.96  3811302.27        6441.91  2025444.43  6483413.82   \n",
       "\n",
       "   CAND_CONTRIB  CAND_LOANS  OTHER_LOANS  CAND_LOAN_REPAY  OTHER_LOAN_REPAY  \\\n",
       "0           0.0         0.0          0.0              0.0               0.0   \n",
       "1           0.0         0.0          0.0              0.0               0.0   \n",
       "2           0.0         0.0          0.0              0.0               0.0   \n",
       "3           0.0         0.0          0.0              0.0               0.0   \n",
       "4           0.0         0.0          0.0              0.0               0.0   \n",
       "\n",
       "   DEBTS_OWED_BY  TTL_INDIV_CONTRIB CAND_OFFICE_ST CAND_OFFICE_DISTRICT  \\\n",
       "0            0.0         4798506.58             NC                   00   \n",
       "1            0.0         4798506.58             NC                   00   \n",
       "2            0.0         4798506.58             NC                   00   \n",
       "3            0.0         4798506.58             NC                   00   \n",
       "4            0.0         4798506.58             NC                   00   \n",
       "\n",
       "   SPEC_ELECTION  PRIM_ELECTION  RUN_ELECTION  GEN_ELECTION  \\\n",
       "0            NaN            NaN           NaN           NaN   \n",
       "1            NaN            NaN           NaN           NaN   \n",
       "2            NaN            NaN           NaN           NaN   \n",
       "3            NaN            NaN           NaN           NaN   \n",
       "4            NaN            NaN           NaN           NaN   \n",
       "\n",
       "   GEN_ELECTION_PRECENT  OTHER_POL_CMTE_CONTRIB  POL_PTY_CONTRIB  CVG_END_DT  \\\n",
       "0                   NaN              2278244.39              0.0  06/09/2020   \n",
       "1                   NaN              2278244.39              0.0  06/09/2020   \n",
       "2                   NaN              2278244.39              0.0  06/09/2020   \n",
       "3                   NaN              2278244.39              0.0  06/09/2020   \n",
       "4                   NaN              2278244.39              0.0  06/09/2020   \n",
       "\n",
       "   INDIV_REFUNDS  CMTE_REFUNDS  TTL_RECEIPTS_CORRECTED  TTL_DISB_CORRECTED  \\\n",
       "0      102493.33      14425.67               7117252.7          3804860.36   \n",
       "1      102493.33      14425.67               7117252.7          3804860.36   \n",
       "2      102493.33      14425.67               7117252.7          3804860.36   \n",
       "3      102493.33      14425.67               7117252.7          3804860.36   \n",
       "4      102493.33      14425.67               7117252.7          3804860.36   \n",
       "\n",
       "  CAND_ICI_FULL CAND_PTY_AFFILIATION_FULL color second_color  \n",
       "0     Incumbent          Republican Party   red         pink  \n",
       "1     Incumbent          Republican Party   red         pink  \n",
       "2     Incumbent          Republican Party   red         pink  \n",
       "3     Incumbent          Republican Party   red         pink  \n",
       "4     Incumbent          Republican Party   red         pink  "
      ]
     },
     "execution_count": 26,
     "metadata": {},
     "output_type": "execute_result"
    }
   ],
   "source": [
    "committee_contribs = contributions_from_committees.merge(candidates, on='CAND_ID')\n",
    "committee_contribs.head()"
   ]
  },
  {
   "cell_type": "code",
   "execution_count": 27,
   "metadata": {
    "_kg_hide-input": true,
    "execution": {
     "iopub.execute_input": "2020-09-02T04:53:57.495557Z",
     "iopub.status.busy": "2020-09-02T04:53:57.494821Z",
     "iopub.status.idle": "2020-09-02T04:53:57.603638Z",
     "shell.execute_reply": "2020-09-02T04:53:57.602848Z"
    },
    "papermill": {
     "duration": 0.153735,
     "end_time": "2020-09-02T04:53:57.603816",
     "exception": false,
     "start_time": "2020-09-02T04:53:57.450081",
     "status": "completed"
    },
    "tags": []
   },
   "outputs": [
    {
     "data": {
      "application/vnd.plotly.v1+json": {
       "config": {
        "linkText": "Export to plot.ly",
        "plotlyServerURL": "https://plot.ly",
        "showLink": true
       },
       "data": [
        {
         "marker": {
          "color": "rgba(55, 128, 191, 0.6)",
          "line": {
           "color": "blue",
           "width": 1
          }
         },
         "name": "CUNNINGHAM, CAL",
         "orientation": "v",
         "text": "",
         "type": "bar",
         "x": [
          "Candidate",
          "Candidate Committee",
          "Committee",
          "Individual (a person)",
          "Organization (not a committee and not a person)",
          "Political Action Committee"
         ],
         "y": [
          5000,
          467465,
          "",
          "",
          9378413,
          ""
         ]
        },
        {
         "marker": {
          "color": "rgba(219, 64, 82, 0.6)",
          "line": {
           "color": "red",
           "width": 1
          }
         },
         "name": "TILLIS, THOM R. SEN.",
         "orientation": "v",
         "text": "",
         "type": "bar",
         "x": [
          "Candidate",
          "Candidate Committee",
          "Committee",
          "Individual (a person)",
          "Organization (not a committee and not a person)",
          "Political Action Committee"
         ],
         "y": [
          20000,
          2116216,
          10700,
          8717,
          1046539,
          12000
         ]
        }
       ],
       "layout": {
        "legend": {
         "bgcolor": "#FFFFFF",
         "font": {
          "color": "#666666"
         }
        },
        "paper_bgcolor": "#FFFFFF",
        "plot_bgcolor": "#E5E5E5",
        "template": {
         "data": {
          "bar": [
           {
            "error_x": {
             "color": "#2a3f5f"
            },
            "error_y": {
             "color": "#2a3f5f"
            },
            "marker": {
             "line": {
              "color": "#E5ECF6",
              "width": 0.5
             },
             "pattern": {
              "fillmode": "overlay",
              "size": 10,
              "solidity": 0.2
             }
            },
            "type": "bar"
           }
          ],
          "barpolar": [
           {
            "marker": {
             "line": {
              "color": "#E5ECF6",
              "width": 0.5
             },
             "pattern": {
              "fillmode": "overlay",
              "size": 10,
              "solidity": 0.2
             }
            },
            "type": "barpolar"
           }
          ],
          "carpet": [
           {
            "aaxis": {
             "endlinecolor": "#2a3f5f",
             "gridcolor": "white",
             "linecolor": "white",
             "minorgridcolor": "white",
             "startlinecolor": "#2a3f5f"
            },
            "baxis": {
             "endlinecolor": "#2a3f5f",
             "gridcolor": "white",
             "linecolor": "white",
             "minorgridcolor": "white",
             "startlinecolor": "#2a3f5f"
            },
            "type": "carpet"
           }
          ],
          "choropleth": [
           {
            "colorbar": {
             "outlinewidth": 0,
             "ticks": ""
            },
            "type": "choropleth"
           }
          ],
          "contour": [
           {
            "colorbar": {
             "outlinewidth": 0,
             "ticks": ""
            },
            "colorscale": [
             [
              0,
              "#0d0887"
             ],
             [
              0.1111111111111111,
              "#46039f"
             ],
             [
              0.2222222222222222,
              "#7201a8"
             ],
             [
              0.3333333333333333,
              "#9c179e"
             ],
             [
              0.4444444444444444,
              "#bd3786"
             ],
             [
              0.5555555555555556,
              "#d8576b"
             ],
             [
              0.6666666666666666,
              "#ed7953"
             ],
             [
              0.7777777777777778,
              "#fb9f3a"
             ],
             [
              0.8888888888888888,
              "#fdca26"
             ],
             [
              1,
              "#f0f921"
             ]
            ],
            "type": "contour"
           }
          ],
          "contourcarpet": [
           {
            "colorbar": {
             "outlinewidth": 0,
             "ticks": ""
            },
            "type": "contourcarpet"
           }
          ],
          "heatmap": [
           {
            "colorbar": {
             "outlinewidth": 0,
             "ticks": ""
            },
            "colorscale": [
             [
              0,
              "#0d0887"
             ],
             [
              0.1111111111111111,
              "#46039f"
             ],
             [
              0.2222222222222222,
              "#7201a8"
             ],
             [
              0.3333333333333333,
              "#9c179e"
             ],
             [
              0.4444444444444444,
              "#bd3786"
             ],
             [
              0.5555555555555556,
              "#d8576b"
             ],
             [
              0.6666666666666666,
              "#ed7953"
             ],
             [
              0.7777777777777778,
              "#fb9f3a"
             ],
             [
              0.8888888888888888,
              "#fdca26"
             ],
             [
              1,
              "#f0f921"
             ]
            ],
            "type": "heatmap"
           }
          ],
          "heatmapgl": [
           {
            "colorbar": {
             "outlinewidth": 0,
             "ticks": ""
            },
            "colorscale": [
             [
              0,
              "#0d0887"
             ],
             [
              0.1111111111111111,
              "#46039f"
             ],
             [
              0.2222222222222222,
              "#7201a8"
             ],
             [
              0.3333333333333333,
              "#9c179e"
             ],
             [
              0.4444444444444444,
              "#bd3786"
             ],
             [
              0.5555555555555556,
              "#d8576b"
             ],
             [
              0.6666666666666666,
              "#ed7953"
             ],
             [
              0.7777777777777778,
              "#fb9f3a"
             ],
             [
              0.8888888888888888,
              "#fdca26"
             ],
             [
              1,
              "#f0f921"
             ]
            ],
            "type": "heatmapgl"
           }
          ],
          "histogram": [
           {
            "marker": {
             "pattern": {
              "fillmode": "overlay",
              "size": 10,
              "solidity": 0.2
             }
            },
            "type": "histogram"
           }
          ],
          "histogram2d": [
           {
            "colorbar": {
             "outlinewidth": 0,
             "ticks": ""
            },
            "colorscale": [
             [
              0,
              "#0d0887"
             ],
             [
              0.1111111111111111,
              "#46039f"
             ],
             [
              0.2222222222222222,
              "#7201a8"
             ],
             [
              0.3333333333333333,
              "#9c179e"
             ],
             [
              0.4444444444444444,
              "#bd3786"
             ],
             [
              0.5555555555555556,
              "#d8576b"
             ],
             [
              0.6666666666666666,
              "#ed7953"
             ],
             [
              0.7777777777777778,
              "#fb9f3a"
             ],
             [
              0.8888888888888888,
              "#fdca26"
             ],
             [
              1,
              "#f0f921"
             ]
            ],
            "type": "histogram2d"
           }
          ],
          "histogram2dcontour": [
           {
            "colorbar": {
             "outlinewidth": 0,
             "ticks": ""
            },
            "colorscale": [
             [
              0,
              "#0d0887"
             ],
             [
              0.1111111111111111,
              "#46039f"
             ],
             [
              0.2222222222222222,
              "#7201a8"
             ],
             [
              0.3333333333333333,
              "#9c179e"
             ],
             [
              0.4444444444444444,
              "#bd3786"
             ],
             [
              0.5555555555555556,
              "#d8576b"
             ],
             [
              0.6666666666666666,
              "#ed7953"
             ],
             [
              0.7777777777777778,
              "#fb9f3a"
             ],
             [
              0.8888888888888888,
              "#fdca26"
             ],
             [
              1,
              "#f0f921"
             ]
            ],
            "type": "histogram2dcontour"
           }
          ],
          "mesh3d": [
           {
            "colorbar": {
             "outlinewidth": 0,
             "ticks": ""
            },
            "type": "mesh3d"
           }
          ],
          "parcoords": [
           {
            "line": {
             "colorbar": {
              "outlinewidth": 0,
              "ticks": ""
             }
            },
            "type": "parcoords"
           }
          ],
          "pie": [
           {
            "automargin": true,
            "type": "pie"
           }
          ],
          "scatter": [
           {
            "fillpattern": {
             "fillmode": "overlay",
             "size": 10,
             "solidity": 0.2
            },
            "type": "scatter"
           }
          ],
          "scatter3d": [
           {
            "line": {
             "colorbar": {
              "outlinewidth": 0,
              "ticks": ""
             }
            },
            "marker": {
             "colorbar": {
              "outlinewidth": 0,
              "ticks": ""
             }
            },
            "type": "scatter3d"
           }
          ],
          "scattercarpet": [
           {
            "marker": {
             "colorbar": {
              "outlinewidth": 0,
              "ticks": ""
             }
            },
            "type": "scattercarpet"
           }
          ],
          "scattergeo": [
           {
            "marker": {
             "colorbar": {
              "outlinewidth": 0,
              "ticks": ""
             }
            },
            "type": "scattergeo"
           }
          ],
          "scattergl": [
           {
            "marker": {
             "colorbar": {
              "outlinewidth": 0,
              "ticks": ""
             }
            },
            "type": "scattergl"
           }
          ],
          "scattermapbox": [
           {
            "marker": {
             "colorbar": {
              "outlinewidth": 0,
              "ticks": ""
             }
            },
            "type": "scattermapbox"
           }
          ],
          "scatterpolar": [
           {
            "marker": {
             "colorbar": {
              "outlinewidth": 0,
              "ticks": ""
             }
            },
            "type": "scatterpolar"
           }
          ],
          "scatterpolargl": [
           {
            "marker": {
             "colorbar": {
              "outlinewidth": 0,
              "ticks": ""
             }
            },
            "type": "scatterpolargl"
           }
          ],
          "scatterternary": [
           {
            "marker": {
             "colorbar": {
              "outlinewidth": 0,
              "ticks": ""
             }
            },
            "type": "scatterternary"
           }
          ],
          "surface": [
           {
            "colorbar": {
             "outlinewidth": 0,
             "ticks": ""
            },
            "colorscale": [
             [
              0,
              "#0d0887"
             ],
             [
              0.1111111111111111,
              "#46039f"
             ],
             [
              0.2222222222222222,
              "#7201a8"
             ],
             [
              0.3333333333333333,
              "#9c179e"
             ],
             [
              0.4444444444444444,
              "#bd3786"
             ],
             [
              0.5555555555555556,
              "#d8576b"
             ],
             [
              0.6666666666666666,
              "#ed7953"
             ],
             [
              0.7777777777777778,
              "#fb9f3a"
             ],
             [
              0.8888888888888888,
              "#fdca26"
             ],
             [
              1,
              "#f0f921"
             ]
            ],
            "type": "surface"
           }
          ],
          "table": [
           {
            "cells": {
             "fill": {
              "color": "#EBF0F8"
             },
             "line": {
              "color": "white"
             }
            },
            "header": {
             "fill": {
              "color": "#C8D4E3"
             },
             "line": {
              "color": "white"
             }
            },
            "type": "table"
           }
          ]
         },
         "layout": {
          "annotationdefaults": {
           "arrowcolor": "#2a3f5f",
           "arrowhead": 0,
           "arrowwidth": 1
          },
          "autotypenumbers": "strict",
          "coloraxis": {
           "colorbar": {
            "outlinewidth": 0,
            "ticks": ""
           }
          },
          "colorscale": {
           "diverging": [
            [
             0,
             "#8e0152"
            ],
            [
             0.1,
             "#c51b7d"
            ],
            [
             0.2,
             "#de77ae"
            ],
            [
             0.3,
             "#f1b6da"
            ],
            [
             0.4,
             "#fde0ef"
            ],
            [
             0.5,
             "#f7f7f7"
            ],
            [
             0.6,
             "#e6f5d0"
            ],
            [
             0.7,
             "#b8e186"
            ],
            [
             0.8,
             "#7fbc41"
            ],
            [
             0.9,
             "#4d9221"
            ],
            [
             1,
             "#276419"
            ]
           ],
           "sequential": [
            [
             0,
             "#0d0887"
            ],
            [
             0.1111111111111111,
             "#46039f"
            ],
            [
             0.2222222222222222,
             "#7201a8"
            ],
            [
             0.3333333333333333,
             "#9c179e"
            ],
            [
             0.4444444444444444,
             "#bd3786"
            ],
            [
             0.5555555555555556,
             "#d8576b"
            ],
            [
             0.6666666666666666,
             "#ed7953"
            ],
            [
             0.7777777777777778,
             "#fb9f3a"
            ],
            [
             0.8888888888888888,
             "#fdca26"
            ],
            [
             1,
             "#f0f921"
            ]
           ],
           "sequentialminus": [
            [
             0,
             "#0d0887"
            ],
            [
             0.1111111111111111,
             "#46039f"
            ],
            [
             0.2222222222222222,
             "#7201a8"
            ],
            [
             0.3333333333333333,
             "#9c179e"
            ],
            [
             0.4444444444444444,
             "#bd3786"
            ],
            [
             0.5555555555555556,
             "#d8576b"
            ],
            [
             0.6666666666666666,
             "#ed7953"
            ],
            [
             0.7777777777777778,
             "#fb9f3a"
            ],
            [
             0.8888888888888888,
             "#fdca26"
            ],
            [
             1,
             "#f0f921"
            ]
           ]
          },
          "colorway": [
           "#636efa",
           "#EF553B",
           "#00cc96",
           "#ab63fa",
           "#FFA15A",
           "#19d3f3",
           "#FF6692",
           "#B6E880",
           "#FF97FF",
           "#FECB52"
          ],
          "font": {
           "color": "#2a3f5f"
          },
          "geo": {
           "bgcolor": "white",
           "lakecolor": "white",
           "landcolor": "#E5ECF6",
           "showlakes": true,
           "showland": true,
           "subunitcolor": "white"
          },
          "hoverlabel": {
           "align": "left"
          },
          "hovermode": "closest",
          "mapbox": {
           "style": "light"
          },
          "paper_bgcolor": "white",
          "plot_bgcolor": "#E5ECF6",
          "polar": {
           "angularaxis": {
            "gridcolor": "white",
            "linecolor": "white",
            "ticks": ""
           },
           "bgcolor": "#E5ECF6",
           "radialaxis": {
            "gridcolor": "white",
            "linecolor": "white",
            "ticks": ""
           }
          },
          "scene": {
           "xaxis": {
            "backgroundcolor": "#E5ECF6",
            "gridcolor": "white",
            "gridwidth": 2,
            "linecolor": "white",
            "showbackground": true,
            "ticks": "",
            "zerolinecolor": "white"
           },
           "yaxis": {
            "backgroundcolor": "#E5ECF6",
            "gridcolor": "white",
            "gridwidth": 2,
            "linecolor": "white",
            "showbackground": true,
            "ticks": "",
            "zerolinecolor": "white"
           },
           "zaxis": {
            "backgroundcolor": "#E5ECF6",
            "gridcolor": "white",
            "gridwidth": 2,
            "linecolor": "white",
            "showbackground": true,
            "ticks": "",
            "zerolinecolor": "white"
           }
          },
          "shapedefaults": {
           "line": {
            "color": "#2a3f5f"
           }
          },
          "ternary": {
           "aaxis": {
            "gridcolor": "white",
            "linecolor": "white",
            "ticks": ""
           },
           "baxis": {
            "gridcolor": "white",
            "linecolor": "white",
            "ticks": ""
           },
           "bgcolor": "#E5ECF6",
           "caxis": {
            "gridcolor": "white",
            "linecolor": "white",
            "ticks": ""
           }
          },
          "title": {
           "x": 0.05
          },
          "xaxis": {
           "automargin": true,
           "gridcolor": "white",
           "linecolor": "white",
           "ticks": "",
           "title": {
            "standoff": 15
           },
           "zerolinecolor": "white",
           "zerolinewidth": 2
          },
          "yaxis": {
           "automargin": true,
           "gridcolor": "white",
           "linecolor": "white",
           "ticks": "",
           "title": {
            "standoff": 15
           },
           "zerolinecolor": "white",
           "zerolinewidth": 2
          }
         }
        },
        "title": {
         "font": {
          "color": "#151516"
         },
         "text": "Total Committee contributions & expenditures by entities"
        },
        "xaxis": {
         "gridcolor": "#F6F6F6",
         "showgrid": true,
         "tickfont": {
          "color": "#666666"
         },
         "title": {
          "font": {
           "color": "#666666"
          },
          "text": ""
         },
         "zerolinecolor": "#F6F6F6"
        },
        "yaxis": {
         "gridcolor": "#F6F6F6",
         "showgrid": true,
         "tickfont": {
          "color": "#666666"
         },
         "title": {
          "font": {
           "color": "#666666"
          },
          "text": ""
         },
         "zerolinecolor": "#F6F6F6"
        }
       }
      },
      "text/html": [
       "<div>                            <div id=\"eab44773-d8df-4668-a57a-e68ec26062c9\" class=\"plotly-graph-div\" style=\"height:525px; width:100%;\"></div>            <script type=\"text/javascript\">                require([\"plotly\"], function(Plotly) {                    window.PLOTLYENV=window.PLOTLYENV || {};\n",
       "                    window.PLOTLYENV.BASE_URL='https://plot.ly';                                    if (document.getElementById(\"eab44773-d8df-4668-a57a-e68ec26062c9\")) {                    Plotly.newPlot(                        \"eab44773-d8df-4668-a57a-e68ec26062c9\",                        [{\"marker\":{\"color\":\"rgba(55, 128, 191, 0.6)\",\"line\":{\"color\":\"blue\",\"width\":1}},\"name\":\"CUNNINGHAM, CAL\",\"orientation\":\"v\",\"text\":\"\",\"x\":[\"Candidate\",\"Candidate Committee\",\"Committee\",\"Individual (a person)\",\"Organization (not a committee and not a person)\",\"Political Action Committee\"],\"y\":[5000.0,467465.0,\"\",\"\",9378413.0,\"\"],\"type\":\"bar\"},{\"marker\":{\"color\":\"rgba(219, 64, 82, 0.6)\",\"line\":{\"color\":\"red\",\"width\":1}},\"name\":\"TILLIS, THOM R. SEN.\",\"orientation\":\"v\",\"text\":\"\",\"x\":[\"Candidate\",\"Candidate Committee\",\"Committee\",\"Individual (a person)\",\"Organization (not a committee and not a person)\",\"Political Action Committee\"],\"y\":[20000.0,2116216.0,10700.0,8717.0,1046539.0,12000.0],\"type\":\"bar\"}],                        {\"legend\":{\"bgcolor\":\"#FFFFFF\",\"font\":{\"color\":\"#666666\"}},\"paper_bgcolor\":\"#FFFFFF\",\"plot_bgcolor\":\"#E5E5E5\",\"template\":{\"data\":{\"barpolar\":[{\"marker\":{\"line\":{\"color\":\"#E5ECF6\",\"width\":0.5},\"pattern\":{\"fillmode\":\"overlay\",\"size\":10,\"solidity\":0.2}},\"type\":\"barpolar\"}],\"bar\":[{\"error_x\":{\"color\":\"#2a3f5f\"},\"error_y\":{\"color\":\"#2a3f5f\"},\"marker\":{\"line\":{\"color\":\"#E5ECF6\",\"width\":0.5},\"pattern\":{\"fillmode\":\"overlay\",\"size\":10,\"solidity\":0.2}},\"type\":\"bar\"}],\"carpet\":[{\"aaxis\":{\"endlinecolor\":\"#2a3f5f\",\"gridcolor\":\"white\",\"linecolor\":\"white\",\"minorgridcolor\":\"white\",\"startlinecolor\":\"#2a3f5f\"},\"baxis\":{\"endlinecolor\":\"#2a3f5f\",\"gridcolor\":\"white\",\"linecolor\":\"white\",\"minorgridcolor\":\"white\",\"startlinecolor\":\"#2a3f5f\"},\"type\":\"carpet\"}],\"choropleth\":[{\"colorbar\":{\"outlinewidth\":0,\"ticks\":\"\"},\"type\":\"choropleth\"}],\"contourcarpet\":[{\"colorbar\":{\"outlinewidth\":0,\"ticks\":\"\"},\"type\":\"contourcarpet\"}],\"contour\":[{\"colorbar\":{\"outlinewidth\":0,\"ticks\":\"\"},\"colorscale\":[[0.0,\"#0d0887\"],[0.1111111111111111,\"#46039f\"],[0.2222222222222222,\"#7201a8\"],[0.3333333333333333,\"#9c179e\"],[0.4444444444444444,\"#bd3786\"],[0.5555555555555556,\"#d8576b\"],[0.6666666666666666,\"#ed7953\"],[0.7777777777777778,\"#fb9f3a\"],[0.8888888888888888,\"#fdca26\"],[1.0,\"#f0f921\"]],\"type\":\"contour\"}],\"heatmapgl\":[{\"colorbar\":{\"outlinewidth\":0,\"ticks\":\"\"},\"colorscale\":[[0.0,\"#0d0887\"],[0.1111111111111111,\"#46039f\"],[0.2222222222222222,\"#7201a8\"],[0.3333333333333333,\"#9c179e\"],[0.4444444444444444,\"#bd3786\"],[0.5555555555555556,\"#d8576b\"],[0.6666666666666666,\"#ed7953\"],[0.7777777777777778,\"#fb9f3a\"],[0.8888888888888888,\"#fdca26\"],[1.0,\"#f0f921\"]],\"type\":\"heatmapgl\"}],\"heatmap\":[{\"colorbar\":{\"outlinewidth\":0,\"ticks\":\"\"},\"colorscale\":[[0.0,\"#0d0887\"],[0.1111111111111111,\"#46039f\"],[0.2222222222222222,\"#7201a8\"],[0.3333333333333333,\"#9c179e\"],[0.4444444444444444,\"#bd3786\"],[0.5555555555555556,\"#d8576b\"],[0.6666666666666666,\"#ed7953\"],[0.7777777777777778,\"#fb9f3a\"],[0.8888888888888888,\"#fdca26\"],[1.0,\"#f0f921\"]],\"type\":\"heatmap\"}],\"histogram2dcontour\":[{\"colorbar\":{\"outlinewidth\":0,\"ticks\":\"\"},\"colorscale\":[[0.0,\"#0d0887\"],[0.1111111111111111,\"#46039f\"],[0.2222222222222222,\"#7201a8\"],[0.3333333333333333,\"#9c179e\"],[0.4444444444444444,\"#bd3786\"],[0.5555555555555556,\"#d8576b\"],[0.6666666666666666,\"#ed7953\"],[0.7777777777777778,\"#fb9f3a\"],[0.8888888888888888,\"#fdca26\"],[1.0,\"#f0f921\"]],\"type\":\"histogram2dcontour\"}],\"histogram2d\":[{\"colorbar\":{\"outlinewidth\":0,\"ticks\":\"\"},\"colorscale\":[[0.0,\"#0d0887\"],[0.1111111111111111,\"#46039f\"],[0.2222222222222222,\"#7201a8\"],[0.3333333333333333,\"#9c179e\"],[0.4444444444444444,\"#bd3786\"],[0.5555555555555556,\"#d8576b\"],[0.6666666666666666,\"#ed7953\"],[0.7777777777777778,\"#fb9f3a\"],[0.8888888888888888,\"#fdca26\"],[1.0,\"#f0f921\"]],\"type\":\"histogram2d\"}],\"histogram\":[{\"marker\":{\"pattern\":{\"fillmode\":\"overlay\",\"size\":10,\"solidity\":0.2}},\"type\":\"histogram\"}],\"mesh3d\":[{\"colorbar\":{\"outlinewidth\":0,\"ticks\":\"\"},\"type\":\"mesh3d\"}],\"parcoords\":[{\"line\":{\"colorbar\":{\"outlinewidth\":0,\"ticks\":\"\"}},\"type\":\"parcoords\"}],\"pie\":[{\"automargin\":true,\"type\":\"pie\"}],\"scatter3d\":[{\"line\":{\"colorbar\":{\"outlinewidth\":0,\"ticks\":\"\"}},\"marker\":{\"colorbar\":{\"outlinewidth\":0,\"ticks\":\"\"}},\"type\":\"scatter3d\"}],\"scattercarpet\":[{\"marker\":{\"colorbar\":{\"outlinewidth\":0,\"ticks\":\"\"}},\"type\":\"scattercarpet\"}],\"scattergeo\":[{\"marker\":{\"colorbar\":{\"outlinewidth\":0,\"ticks\":\"\"}},\"type\":\"scattergeo\"}],\"scattergl\":[{\"marker\":{\"colorbar\":{\"outlinewidth\":0,\"ticks\":\"\"}},\"type\":\"scattergl\"}],\"scattermapbox\":[{\"marker\":{\"colorbar\":{\"outlinewidth\":0,\"ticks\":\"\"}},\"type\":\"scattermapbox\"}],\"scatterpolargl\":[{\"marker\":{\"colorbar\":{\"outlinewidth\":0,\"ticks\":\"\"}},\"type\":\"scatterpolargl\"}],\"scatterpolar\":[{\"marker\":{\"colorbar\":{\"outlinewidth\":0,\"ticks\":\"\"}},\"type\":\"scatterpolar\"}],\"scatter\":[{\"fillpattern\":{\"fillmode\":\"overlay\",\"size\":10,\"solidity\":0.2},\"type\":\"scatter\"}],\"scatterternary\":[{\"marker\":{\"colorbar\":{\"outlinewidth\":0,\"ticks\":\"\"}},\"type\":\"scatterternary\"}],\"surface\":[{\"colorbar\":{\"outlinewidth\":0,\"ticks\":\"\"},\"colorscale\":[[0.0,\"#0d0887\"],[0.1111111111111111,\"#46039f\"],[0.2222222222222222,\"#7201a8\"],[0.3333333333333333,\"#9c179e\"],[0.4444444444444444,\"#bd3786\"],[0.5555555555555556,\"#d8576b\"],[0.6666666666666666,\"#ed7953\"],[0.7777777777777778,\"#fb9f3a\"],[0.8888888888888888,\"#fdca26\"],[1.0,\"#f0f921\"]],\"type\":\"surface\"}],\"table\":[{\"cells\":{\"fill\":{\"color\":\"#EBF0F8\"},\"line\":{\"color\":\"white\"}},\"header\":{\"fill\":{\"color\":\"#C8D4E3\"},\"line\":{\"color\":\"white\"}},\"type\":\"table\"}]},\"layout\":{\"annotationdefaults\":{\"arrowcolor\":\"#2a3f5f\",\"arrowhead\":0,\"arrowwidth\":1},\"autotypenumbers\":\"strict\",\"coloraxis\":{\"colorbar\":{\"outlinewidth\":0,\"ticks\":\"\"}},\"colorscale\":{\"diverging\":[[0,\"#8e0152\"],[0.1,\"#c51b7d\"],[0.2,\"#de77ae\"],[0.3,\"#f1b6da\"],[0.4,\"#fde0ef\"],[0.5,\"#f7f7f7\"],[0.6,\"#e6f5d0\"],[0.7,\"#b8e186\"],[0.8,\"#7fbc41\"],[0.9,\"#4d9221\"],[1,\"#276419\"]],\"sequential\":[[0.0,\"#0d0887\"],[0.1111111111111111,\"#46039f\"],[0.2222222222222222,\"#7201a8\"],[0.3333333333333333,\"#9c179e\"],[0.4444444444444444,\"#bd3786\"],[0.5555555555555556,\"#d8576b\"],[0.6666666666666666,\"#ed7953\"],[0.7777777777777778,\"#fb9f3a\"],[0.8888888888888888,\"#fdca26\"],[1.0,\"#f0f921\"]],\"sequentialminus\":[[0.0,\"#0d0887\"],[0.1111111111111111,\"#46039f\"],[0.2222222222222222,\"#7201a8\"],[0.3333333333333333,\"#9c179e\"],[0.4444444444444444,\"#bd3786\"],[0.5555555555555556,\"#d8576b\"],[0.6666666666666666,\"#ed7953\"],[0.7777777777777778,\"#fb9f3a\"],[0.8888888888888888,\"#fdca26\"],[1.0,\"#f0f921\"]]},\"colorway\":[\"#636efa\",\"#EF553B\",\"#00cc96\",\"#ab63fa\",\"#FFA15A\",\"#19d3f3\",\"#FF6692\",\"#B6E880\",\"#FF97FF\",\"#FECB52\"],\"font\":{\"color\":\"#2a3f5f\"},\"geo\":{\"bgcolor\":\"white\",\"lakecolor\":\"white\",\"landcolor\":\"#E5ECF6\",\"showlakes\":true,\"showland\":true,\"subunitcolor\":\"white\"},\"hoverlabel\":{\"align\":\"left\"},\"hovermode\":\"closest\",\"mapbox\":{\"style\":\"light\"},\"paper_bgcolor\":\"white\",\"plot_bgcolor\":\"#E5ECF6\",\"polar\":{\"angularaxis\":{\"gridcolor\":\"white\",\"linecolor\":\"white\",\"ticks\":\"\"},\"bgcolor\":\"#E5ECF6\",\"radialaxis\":{\"gridcolor\":\"white\",\"linecolor\":\"white\",\"ticks\":\"\"}},\"scene\":{\"xaxis\":{\"backgroundcolor\":\"#E5ECF6\",\"gridcolor\":\"white\",\"gridwidth\":2,\"linecolor\":\"white\",\"showbackground\":true,\"ticks\":\"\",\"zerolinecolor\":\"white\"},\"yaxis\":{\"backgroundcolor\":\"#E5ECF6\",\"gridcolor\":\"white\",\"gridwidth\":2,\"linecolor\":\"white\",\"showbackground\":true,\"ticks\":\"\",\"zerolinecolor\":\"white\"},\"zaxis\":{\"backgroundcolor\":\"#E5ECF6\",\"gridcolor\":\"white\",\"gridwidth\":2,\"linecolor\":\"white\",\"showbackground\":true,\"ticks\":\"\",\"zerolinecolor\":\"white\"}},\"shapedefaults\":{\"line\":{\"color\":\"#2a3f5f\"}},\"ternary\":{\"aaxis\":{\"gridcolor\":\"white\",\"linecolor\":\"white\",\"ticks\":\"\"},\"baxis\":{\"gridcolor\":\"white\",\"linecolor\":\"white\",\"ticks\":\"\"},\"bgcolor\":\"#E5ECF6\",\"caxis\":{\"gridcolor\":\"white\",\"linecolor\":\"white\",\"ticks\":\"\"}},\"title\":{\"x\":0.05},\"xaxis\":{\"automargin\":true,\"gridcolor\":\"white\",\"linecolor\":\"white\",\"ticks\":\"\",\"title\":{\"standoff\":15},\"zerolinecolor\":\"white\",\"zerolinewidth\":2},\"yaxis\":{\"automargin\":true,\"gridcolor\":\"white\",\"linecolor\":\"white\",\"ticks\":\"\",\"title\":{\"standoff\":15},\"zerolinecolor\":\"white\",\"zerolinewidth\":2}}},\"title\":{\"font\":{\"color\":\"#151516\"},\"text\":\"Total Committee contributions & expenditures by entities\"},\"xaxis\":{\"gridcolor\":\"#F6F6F6\",\"showgrid\":true,\"tickfont\":{\"color\":\"#666666\"},\"title\":{\"font\":{\"color\":\"#666666\"},\"text\":\"\"},\"zerolinecolor\":\"#F6F6F6\"},\"yaxis\":{\"gridcolor\":\"#F6F6F6\",\"showgrid\":true,\"tickfont\":{\"color\":\"#666666\"},\"title\":{\"font\":{\"color\":\"#666666\"},\"text\":\"\"},\"zerolinecolor\":\"#F6F6F6\"}},                        {\"showLink\": true, \"linkText\": \"Export to plot.ly\", \"plotlyServerURL\": \"https://plot.ly\", \"responsive\": true}                    ).then(function(){\n",
       "                            \n",
       "var gd = document.getElementById('eab44773-d8df-4668-a57a-e68ec26062c9');\n",
       "var x = new MutationObserver(function (mutations, observer) {{\n",
       "        var display = window.getComputedStyle(gd).display;\n",
       "        if (!display || display === 'none') {{\n",
       "            console.log([gd, 'removed!']);\n",
       "            Plotly.purge(gd);\n",
       "            observer.disconnect();\n",
       "        }}\n",
       "}});\n",
       "\n",
       "// Listen for the removal of the full notebook cells\n",
       "var notebookContainer = gd.closest('#notebook-container');\n",
       "if (notebookContainer) {{\n",
       "    x.observe(notebookContainer, {childList: true});\n",
       "}}\n",
       "\n",
       "// Listen for the clearing of the current output cell\n",
       "var outputEl = gd.closest('.output');\n",
       "if (outputEl) {{\n",
       "    x.observe(outputEl, {childList: true});\n",
       "}}\n",
       "\n",
       "                        })                };                });            </script>        </div>"
      ]
     },
     "metadata": {},
     "output_type": "display_data"
    }
   ],
   "source": [
    "by_entity = committee_contribs.groupby(['CAND_NAME', 'ENTITY_TP_FULL']).agg({'TRANSACTION_AMT': 'sum'}).reset_index()\n",
    "by_entity_pivot = by_entity.pivot_table(values='TRANSACTION_AMT', index='ENTITY_TP_FULL', columns='CAND_NAME')\n",
    "by_entity_pivot.iplot(kind='bar', colors=color_map, title='Total Committee contributions & expenditures by entities')"
   ]
  },
  {
   "cell_type": "code",
   "execution_count": 28,
   "metadata": {
    "_kg_hide-input": true,
    "execution": {
     "iopub.execute_input": "2020-09-02T04:53:57.717122Z",
     "iopub.status.busy": "2020-09-02T04:53:57.716282Z",
     "iopub.status.idle": "2020-09-02T04:53:57.791976Z",
     "shell.execute_reply": "2020-09-02T04:53:57.791258Z"
    },
    "papermill": {
     "duration": 0.134392,
     "end_time": "2020-09-02T04:53:57.792122",
     "exception": false,
     "start_time": "2020-09-02T04:53:57.657730",
     "status": "completed"
    },
    "tags": []
   },
   "outputs": [
    {
     "data": {
      "application/vnd.plotly.v1+json": {
       "config": {
        "linkText": "Export to plot.ly",
        "plotlyServerURL": "https://plot.ly",
        "showLink": true
       },
       "data": [
        {
         "marker": {
          "color": "rgba(55, 128, 191, 0.6)",
          "line": {
           "color": "blue",
           "width": 1
          }
         },
         "name": "CUNNINGHAM, CAL",
         "orientation": "v",
         "text": "",
         "type": "bar",
         "x": [
          "Contribution made to nonaffiliated committee",
          "Coordinated party expenditure",
          "In-kind contribution made to registered filer",
          "Independent expenditure advocating election of candidate",
          "Independent expenditure opposing election of candidate"
         ],
         "y": [
          472555,
          319947,
          77,
          8808288,
          250011
         ]
        },
        {
         "marker": {
          "color": "rgba(219, 64, 82, 0.6)",
          "line": {
           "color": "red",
           "width": 1
          }
         },
         "name": "TILLIS, THOM R. SEN.",
         "orientation": "v",
         "text": "",
         "type": "bar",
         "x": [
          "Contribution made to nonaffiliated committee",
          "Coordinated party expenditure",
          "In-kind contribution made to registered filer",
          "Independent expenditure advocating election of candidate",
          "Independent expenditure opposing election of candidate"
         ],
         "y": [
          2176748,
          "",
          3075,
          757257,
          295662
         ]
        }
       ],
       "layout": {
        "legend": {
         "bgcolor": "#FFFFFF",
         "font": {
          "color": "#666666"
         }
        },
        "paper_bgcolor": "#FFFFFF",
        "plot_bgcolor": "#E5E5E5",
        "template": {
         "data": {
          "bar": [
           {
            "error_x": {
             "color": "#2a3f5f"
            },
            "error_y": {
             "color": "#2a3f5f"
            },
            "marker": {
             "line": {
              "color": "#E5ECF6",
              "width": 0.5
             },
             "pattern": {
              "fillmode": "overlay",
              "size": 10,
              "solidity": 0.2
             }
            },
            "type": "bar"
           }
          ],
          "barpolar": [
           {
            "marker": {
             "line": {
              "color": "#E5ECF6",
              "width": 0.5
             },
             "pattern": {
              "fillmode": "overlay",
              "size": 10,
              "solidity": 0.2
             }
            },
            "type": "barpolar"
           }
          ],
          "carpet": [
           {
            "aaxis": {
             "endlinecolor": "#2a3f5f",
             "gridcolor": "white",
             "linecolor": "white",
             "minorgridcolor": "white",
             "startlinecolor": "#2a3f5f"
            },
            "baxis": {
             "endlinecolor": "#2a3f5f",
             "gridcolor": "white",
             "linecolor": "white",
             "minorgridcolor": "white",
             "startlinecolor": "#2a3f5f"
            },
            "type": "carpet"
           }
          ],
          "choropleth": [
           {
            "colorbar": {
             "outlinewidth": 0,
             "ticks": ""
            },
            "type": "choropleth"
           }
          ],
          "contour": [
           {
            "colorbar": {
             "outlinewidth": 0,
             "ticks": ""
            },
            "colorscale": [
             [
              0,
              "#0d0887"
             ],
             [
              0.1111111111111111,
              "#46039f"
             ],
             [
              0.2222222222222222,
              "#7201a8"
             ],
             [
              0.3333333333333333,
              "#9c179e"
             ],
             [
              0.4444444444444444,
              "#bd3786"
             ],
             [
              0.5555555555555556,
              "#d8576b"
             ],
             [
              0.6666666666666666,
              "#ed7953"
             ],
             [
              0.7777777777777778,
              "#fb9f3a"
             ],
             [
              0.8888888888888888,
              "#fdca26"
             ],
             [
              1,
              "#f0f921"
             ]
            ],
            "type": "contour"
           }
          ],
          "contourcarpet": [
           {
            "colorbar": {
             "outlinewidth": 0,
             "ticks": ""
            },
            "type": "contourcarpet"
           }
          ],
          "heatmap": [
           {
            "colorbar": {
             "outlinewidth": 0,
             "ticks": ""
            },
            "colorscale": [
             [
              0,
              "#0d0887"
             ],
             [
              0.1111111111111111,
              "#46039f"
             ],
             [
              0.2222222222222222,
              "#7201a8"
             ],
             [
              0.3333333333333333,
              "#9c179e"
             ],
             [
              0.4444444444444444,
              "#bd3786"
             ],
             [
              0.5555555555555556,
              "#d8576b"
             ],
             [
              0.6666666666666666,
              "#ed7953"
             ],
             [
              0.7777777777777778,
              "#fb9f3a"
             ],
             [
              0.8888888888888888,
              "#fdca26"
             ],
             [
              1,
              "#f0f921"
             ]
            ],
            "type": "heatmap"
           }
          ],
          "heatmapgl": [
           {
            "colorbar": {
             "outlinewidth": 0,
             "ticks": ""
            },
            "colorscale": [
             [
              0,
              "#0d0887"
             ],
             [
              0.1111111111111111,
              "#46039f"
             ],
             [
              0.2222222222222222,
              "#7201a8"
             ],
             [
              0.3333333333333333,
              "#9c179e"
             ],
             [
              0.4444444444444444,
              "#bd3786"
             ],
             [
              0.5555555555555556,
              "#d8576b"
             ],
             [
              0.6666666666666666,
              "#ed7953"
             ],
             [
              0.7777777777777778,
              "#fb9f3a"
             ],
             [
              0.8888888888888888,
              "#fdca26"
             ],
             [
              1,
              "#f0f921"
             ]
            ],
            "type": "heatmapgl"
           }
          ],
          "histogram": [
           {
            "marker": {
             "pattern": {
              "fillmode": "overlay",
              "size": 10,
              "solidity": 0.2
             }
            },
            "type": "histogram"
           }
          ],
          "histogram2d": [
           {
            "colorbar": {
             "outlinewidth": 0,
             "ticks": ""
            },
            "colorscale": [
             [
              0,
              "#0d0887"
             ],
             [
              0.1111111111111111,
              "#46039f"
             ],
             [
              0.2222222222222222,
              "#7201a8"
             ],
             [
              0.3333333333333333,
              "#9c179e"
             ],
             [
              0.4444444444444444,
              "#bd3786"
             ],
             [
              0.5555555555555556,
              "#d8576b"
             ],
             [
              0.6666666666666666,
              "#ed7953"
             ],
             [
              0.7777777777777778,
              "#fb9f3a"
             ],
             [
              0.8888888888888888,
              "#fdca26"
             ],
             [
              1,
              "#f0f921"
             ]
            ],
            "type": "histogram2d"
           }
          ],
          "histogram2dcontour": [
           {
            "colorbar": {
             "outlinewidth": 0,
             "ticks": ""
            },
            "colorscale": [
             [
              0,
              "#0d0887"
             ],
             [
              0.1111111111111111,
              "#46039f"
             ],
             [
              0.2222222222222222,
              "#7201a8"
             ],
             [
              0.3333333333333333,
              "#9c179e"
             ],
             [
              0.4444444444444444,
              "#bd3786"
             ],
             [
              0.5555555555555556,
              "#d8576b"
             ],
             [
              0.6666666666666666,
              "#ed7953"
             ],
             [
              0.7777777777777778,
              "#fb9f3a"
             ],
             [
              0.8888888888888888,
              "#fdca26"
             ],
             [
              1,
              "#f0f921"
             ]
            ],
            "type": "histogram2dcontour"
           }
          ],
          "mesh3d": [
           {
            "colorbar": {
             "outlinewidth": 0,
             "ticks": ""
            },
            "type": "mesh3d"
           }
          ],
          "parcoords": [
           {
            "line": {
             "colorbar": {
              "outlinewidth": 0,
              "ticks": ""
             }
            },
            "type": "parcoords"
           }
          ],
          "pie": [
           {
            "automargin": true,
            "type": "pie"
           }
          ],
          "scatter": [
           {
            "fillpattern": {
             "fillmode": "overlay",
             "size": 10,
             "solidity": 0.2
            },
            "type": "scatter"
           }
          ],
          "scatter3d": [
           {
            "line": {
             "colorbar": {
              "outlinewidth": 0,
              "ticks": ""
             }
            },
            "marker": {
             "colorbar": {
              "outlinewidth": 0,
              "ticks": ""
             }
            },
            "type": "scatter3d"
           }
          ],
          "scattercarpet": [
           {
            "marker": {
             "colorbar": {
              "outlinewidth": 0,
              "ticks": ""
             }
            },
            "type": "scattercarpet"
           }
          ],
          "scattergeo": [
           {
            "marker": {
             "colorbar": {
              "outlinewidth": 0,
              "ticks": ""
             }
            },
            "type": "scattergeo"
           }
          ],
          "scattergl": [
           {
            "marker": {
             "colorbar": {
              "outlinewidth": 0,
              "ticks": ""
             }
            },
            "type": "scattergl"
           }
          ],
          "scattermapbox": [
           {
            "marker": {
             "colorbar": {
              "outlinewidth": 0,
              "ticks": ""
             }
            },
            "type": "scattermapbox"
           }
          ],
          "scatterpolar": [
           {
            "marker": {
             "colorbar": {
              "outlinewidth": 0,
              "ticks": ""
             }
            },
            "type": "scatterpolar"
           }
          ],
          "scatterpolargl": [
           {
            "marker": {
             "colorbar": {
              "outlinewidth": 0,
              "ticks": ""
             }
            },
            "type": "scatterpolargl"
           }
          ],
          "scatterternary": [
           {
            "marker": {
             "colorbar": {
              "outlinewidth": 0,
              "ticks": ""
             }
            },
            "type": "scatterternary"
           }
          ],
          "surface": [
           {
            "colorbar": {
             "outlinewidth": 0,
             "ticks": ""
            },
            "colorscale": [
             [
              0,
              "#0d0887"
             ],
             [
              0.1111111111111111,
              "#46039f"
             ],
             [
              0.2222222222222222,
              "#7201a8"
             ],
             [
              0.3333333333333333,
              "#9c179e"
             ],
             [
              0.4444444444444444,
              "#bd3786"
             ],
             [
              0.5555555555555556,
              "#d8576b"
             ],
             [
              0.6666666666666666,
              "#ed7953"
             ],
             [
              0.7777777777777778,
              "#fb9f3a"
             ],
             [
              0.8888888888888888,
              "#fdca26"
             ],
             [
              1,
              "#f0f921"
             ]
            ],
            "type": "surface"
           }
          ],
          "table": [
           {
            "cells": {
             "fill": {
              "color": "#EBF0F8"
             },
             "line": {
              "color": "white"
             }
            },
            "header": {
             "fill": {
              "color": "#C8D4E3"
             },
             "line": {
              "color": "white"
             }
            },
            "type": "table"
           }
          ]
         },
         "layout": {
          "annotationdefaults": {
           "arrowcolor": "#2a3f5f",
           "arrowhead": 0,
           "arrowwidth": 1
          },
          "autotypenumbers": "strict",
          "coloraxis": {
           "colorbar": {
            "outlinewidth": 0,
            "ticks": ""
           }
          },
          "colorscale": {
           "diverging": [
            [
             0,
             "#8e0152"
            ],
            [
             0.1,
             "#c51b7d"
            ],
            [
             0.2,
             "#de77ae"
            ],
            [
             0.3,
             "#f1b6da"
            ],
            [
             0.4,
             "#fde0ef"
            ],
            [
             0.5,
             "#f7f7f7"
            ],
            [
             0.6,
             "#e6f5d0"
            ],
            [
             0.7,
             "#b8e186"
            ],
            [
             0.8,
             "#7fbc41"
            ],
            [
             0.9,
             "#4d9221"
            ],
            [
             1,
             "#276419"
            ]
           ],
           "sequential": [
            [
             0,
             "#0d0887"
            ],
            [
             0.1111111111111111,
             "#46039f"
            ],
            [
             0.2222222222222222,
             "#7201a8"
            ],
            [
             0.3333333333333333,
             "#9c179e"
            ],
            [
             0.4444444444444444,
             "#bd3786"
            ],
            [
             0.5555555555555556,
             "#d8576b"
            ],
            [
             0.6666666666666666,
             "#ed7953"
            ],
            [
             0.7777777777777778,
             "#fb9f3a"
            ],
            [
             0.8888888888888888,
             "#fdca26"
            ],
            [
             1,
             "#f0f921"
            ]
           ],
           "sequentialminus": [
            [
             0,
             "#0d0887"
            ],
            [
             0.1111111111111111,
             "#46039f"
            ],
            [
             0.2222222222222222,
             "#7201a8"
            ],
            [
             0.3333333333333333,
             "#9c179e"
            ],
            [
             0.4444444444444444,
             "#bd3786"
            ],
            [
             0.5555555555555556,
             "#d8576b"
            ],
            [
             0.6666666666666666,
             "#ed7953"
            ],
            [
             0.7777777777777778,
             "#fb9f3a"
            ],
            [
             0.8888888888888888,
             "#fdca26"
            ],
            [
             1,
             "#f0f921"
            ]
           ]
          },
          "colorway": [
           "#636efa",
           "#EF553B",
           "#00cc96",
           "#ab63fa",
           "#FFA15A",
           "#19d3f3",
           "#FF6692",
           "#B6E880",
           "#FF97FF",
           "#FECB52"
          ],
          "font": {
           "color": "#2a3f5f"
          },
          "geo": {
           "bgcolor": "white",
           "lakecolor": "white",
           "landcolor": "#E5ECF6",
           "showlakes": true,
           "showland": true,
           "subunitcolor": "white"
          },
          "hoverlabel": {
           "align": "left"
          },
          "hovermode": "closest",
          "mapbox": {
           "style": "light"
          },
          "paper_bgcolor": "white",
          "plot_bgcolor": "#E5ECF6",
          "polar": {
           "angularaxis": {
            "gridcolor": "white",
            "linecolor": "white",
            "ticks": ""
           },
           "bgcolor": "#E5ECF6",
           "radialaxis": {
            "gridcolor": "white",
            "linecolor": "white",
            "ticks": ""
           }
          },
          "scene": {
           "xaxis": {
            "backgroundcolor": "#E5ECF6",
            "gridcolor": "white",
            "gridwidth": 2,
            "linecolor": "white",
            "showbackground": true,
            "ticks": "",
            "zerolinecolor": "white"
           },
           "yaxis": {
            "backgroundcolor": "#E5ECF6",
            "gridcolor": "white",
            "gridwidth": 2,
            "linecolor": "white",
            "showbackground": true,
            "ticks": "",
            "zerolinecolor": "white"
           },
           "zaxis": {
            "backgroundcolor": "#E5ECF6",
            "gridcolor": "white",
            "gridwidth": 2,
            "linecolor": "white",
            "showbackground": true,
            "ticks": "",
            "zerolinecolor": "white"
           }
          },
          "shapedefaults": {
           "line": {
            "color": "#2a3f5f"
           }
          },
          "ternary": {
           "aaxis": {
            "gridcolor": "white",
            "linecolor": "white",
            "ticks": ""
           },
           "baxis": {
            "gridcolor": "white",
            "linecolor": "white",
            "ticks": ""
           },
           "bgcolor": "#E5ECF6",
           "caxis": {
            "gridcolor": "white",
            "linecolor": "white",
            "ticks": ""
           }
          },
          "title": {
           "x": 0.05
          },
          "xaxis": {
           "automargin": true,
           "gridcolor": "white",
           "linecolor": "white",
           "ticks": "",
           "title": {
            "standoff": 15
           },
           "zerolinecolor": "white",
           "zerolinewidth": 2
          },
          "yaxis": {
           "automargin": true,
           "gridcolor": "white",
           "linecolor": "white",
           "ticks": "",
           "title": {
            "standoff": 15
           },
           "zerolinecolor": "white",
           "zerolinewidth": 2
          }
         }
        },
        "title": {
         "font": {
          "color": "#151516"
         },
         "text": "Total committee contributions & expenditures by transaction type"
        },
        "xaxis": {
         "gridcolor": "#F6F6F6",
         "showgrid": true,
         "tickfont": {
          "color": "#666666"
         },
         "title": {
          "font": {
           "color": "#666666"
          },
          "text": ""
         },
         "zerolinecolor": "#F6F6F6"
        },
        "yaxis": {
         "gridcolor": "#F6F6F6",
         "showgrid": true,
         "tickfont": {
          "color": "#666666"
         },
         "title": {
          "font": {
           "color": "#666666"
          },
          "text": ""
         },
         "zerolinecolor": "#F6F6F6"
        }
       }
      },
      "text/html": [
       "<div>                            <div id=\"eaad1eef-deb5-478c-a5b1-8d8a50a32361\" class=\"plotly-graph-div\" style=\"height:525px; width:100%;\"></div>            <script type=\"text/javascript\">                require([\"plotly\"], function(Plotly) {                    window.PLOTLYENV=window.PLOTLYENV || {};\n",
       "                    window.PLOTLYENV.BASE_URL='https://plot.ly';                                    if (document.getElementById(\"eaad1eef-deb5-478c-a5b1-8d8a50a32361\")) {                    Plotly.newPlot(                        \"eaad1eef-deb5-478c-a5b1-8d8a50a32361\",                        [{\"marker\":{\"color\":\"rgba(55, 128, 191, 0.6)\",\"line\":{\"color\":\"blue\",\"width\":1}},\"name\":\"CUNNINGHAM, CAL\",\"orientation\":\"v\",\"text\":\"\",\"x\":[\"Contribution made to nonaffiliated committee\",\"Coordinated party expenditure\",\"In-kind contribution made to registered filer\",\"Independent expenditure advocating election of candidate\",\"Independent expenditure opposing election of candidate\"],\"y\":[472555.0,319947.0,77.0,8808288.0,250011.0],\"type\":\"bar\"},{\"marker\":{\"color\":\"rgba(219, 64, 82, 0.6)\",\"line\":{\"color\":\"red\",\"width\":1}},\"name\":\"TILLIS, THOM R. SEN.\",\"orientation\":\"v\",\"text\":\"\",\"x\":[\"Contribution made to nonaffiliated committee\",\"Coordinated party expenditure\",\"In-kind contribution made to registered filer\",\"Independent expenditure advocating election of candidate\",\"Independent expenditure opposing election of candidate\"],\"y\":[2176748.0,\"\",3075.0,757257.0,295662.0],\"type\":\"bar\"}],                        {\"legend\":{\"bgcolor\":\"#FFFFFF\",\"font\":{\"color\":\"#666666\"}},\"paper_bgcolor\":\"#FFFFFF\",\"plot_bgcolor\":\"#E5E5E5\",\"template\":{\"data\":{\"barpolar\":[{\"marker\":{\"line\":{\"color\":\"#E5ECF6\",\"width\":0.5},\"pattern\":{\"fillmode\":\"overlay\",\"size\":10,\"solidity\":0.2}},\"type\":\"barpolar\"}],\"bar\":[{\"error_x\":{\"color\":\"#2a3f5f\"},\"error_y\":{\"color\":\"#2a3f5f\"},\"marker\":{\"line\":{\"color\":\"#E5ECF6\",\"width\":0.5},\"pattern\":{\"fillmode\":\"overlay\",\"size\":10,\"solidity\":0.2}},\"type\":\"bar\"}],\"carpet\":[{\"aaxis\":{\"endlinecolor\":\"#2a3f5f\",\"gridcolor\":\"white\",\"linecolor\":\"white\",\"minorgridcolor\":\"white\",\"startlinecolor\":\"#2a3f5f\"},\"baxis\":{\"endlinecolor\":\"#2a3f5f\",\"gridcolor\":\"white\",\"linecolor\":\"white\",\"minorgridcolor\":\"white\",\"startlinecolor\":\"#2a3f5f\"},\"type\":\"carpet\"}],\"choropleth\":[{\"colorbar\":{\"outlinewidth\":0,\"ticks\":\"\"},\"type\":\"choropleth\"}],\"contourcarpet\":[{\"colorbar\":{\"outlinewidth\":0,\"ticks\":\"\"},\"type\":\"contourcarpet\"}],\"contour\":[{\"colorbar\":{\"outlinewidth\":0,\"ticks\":\"\"},\"colorscale\":[[0.0,\"#0d0887\"],[0.1111111111111111,\"#46039f\"],[0.2222222222222222,\"#7201a8\"],[0.3333333333333333,\"#9c179e\"],[0.4444444444444444,\"#bd3786\"],[0.5555555555555556,\"#d8576b\"],[0.6666666666666666,\"#ed7953\"],[0.7777777777777778,\"#fb9f3a\"],[0.8888888888888888,\"#fdca26\"],[1.0,\"#f0f921\"]],\"type\":\"contour\"}],\"heatmapgl\":[{\"colorbar\":{\"outlinewidth\":0,\"ticks\":\"\"},\"colorscale\":[[0.0,\"#0d0887\"],[0.1111111111111111,\"#46039f\"],[0.2222222222222222,\"#7201a8\"],[0.3333333333333333,\"#9c179e\"],[0.4444444444444444,\"#bd3786\"],[0.5555555555555556,\"#d8576b\"],[0.6666666666666666,\"#ed7953\"],[0.7777777777777778,\"#fb9f3a\"],[0.8888888888888888,\"#fdca26\"],[1.0,\"#f0f921\"]],\"type\":\"heatmapgl\"}],\"heatmap\":[{\"colorbar\":{\"outlinewidth\":0,\"ticks\":\"\"},\"colorscale\":[[0.0,\"#0d0887\"],[0.1111111111111111,\"#46039f\"],[0.2222222222222222,\"#7201a8\"],[0.3333333333333333,\"#9c179e\"],[0.4444444444444444,\"#bd3786\"],[0.5555555555555556,\"#d8576b\"],[0.6666666666666666,\"#ed7953\"],[0.7777777777777778,\"#fb9f3a\"],[0.8888888888888888,\"#fdca26\"],[1.0,\"#f0f921\"]],\"type\":\"heatmap\"}],\"histogram2dcontour\":[{\"colorbar\":{\"outlinewidth\":0,\"ticks\":\"\"},\"colorscale\":[[0.0,\"#0d0887\"],[0.1111111111111111,\"#46039f\"],[0.2222222222222222,\"#7201a8\"],[0.3333333333333333,\"#9c179e\"],[0.4444444444444444,\"#bd3786\"],[0.5555555555555556,\"#d8576b\"],[0.6666666666666666,\"#ed7953\"],[0.7777777777777778,\"#fb9f3a\"],[0.8888888888888888,\"#fdca26\"],[1.0,\"#f0f921\"]],\"type\":\"histogram2dcontour\"}],\"histogram2d\":[{\"colorbar\":{\"outlinewidth\":0,\"ticks\":\"\"},\"colorscale\":[[0.0,\"#0d0887\"],[0.1111111111111111,\"#46039f\"],[0.2222222222222222,\"#7201a8\"],[0.3333333333333333,\"#9c179e\"],[0.4444444444444444,\"#bd3786\"],[0.5555555555555556,\"#d8576b\"],[0.6666666666666666,\"#ed7953\"],[0.7777777777777778,\"#fb9f3a\"],[0.8888888888888888,\"#fdca26\"],[1.0,\"#f0f921\"]],\"type\":\"histogram2d\"}],\"histogram\":[{\"marker\":{\"pattern\":{\"fillmode\":\"overlay\",\"size\":10,\"solidity\":0.2}},\"type\":\"histogram\"}],\"mesh3d\":[{\"colorbar\":{\"outlinewidth\":0,\"ticks\":\"\"},\"type\":\"mesh3d\"}],\"parcoords\":[{\"line\":{\"colorbar\":{\"outlinewidth\":0,\"ticks\":\"\"}},\"type\":\"parcoords\"}],\"pie\":[{\"automargin\":true,\"type\":\"pie\"}],\"scatter3d\":[{\"line\":{\"colorbar\":{\"outlinewidth\":0,\"ticks\":\"\"}},\"marker\":{\"colorbar\":{\"outlinewidth\":0,\"ticks\":\"\"}},\"type\":\"scatter3d\"}],\"scattercarpet\":[{\"marker\":{\"colorbar\":{\"outlinewidth\":0,\"ticks\":\"\"}},\"type\":\"scattercarpet\"}],\"scattergeo\":[{\"marker\":{\"colorbar\":{\"outlinewidth\":0,\"ticks\":\"\"}},\"type\":\"scattergeo\"}],\"scattergl\":[{\"marker\":{\"colorbar\":{\"outlinewidth\":0,\"ticks\":\"\"}},\"type\":\"scattergl\"}],\"scattermapbox\":[{\"marker\":{\"colorbar\":{\"outlinewidth\":0,\"ticks\":\"\"}},\"type\":\"scattermapbox\"}],\"scatterpolargl\":[{\"marker\":{\"colorbar\":{\"outlinewidth\":0,\"ticks\":\"\"}},\"type\":\"scatterpolargl\"}],\"scatterpolar\":[{\"marker\":{\"colorbar\":{\"outlinewidth\":0,\"ticks\":\"\"}},\"type\":\"scatterpolar\"}],\"scatter\":[{\"fillpattern\":{\"fillmode\":\"overlay\",\"size\":10,\"solidity\":0.2},\"type\":\"scatter\"}],\"scatterternary\":[{\"marker\":{\"colorbar\":{\"outlinewidth\":0,\"ticks\":\"\"}},\"type\":\"scatterternary\"}],\"surface\":[{\"colorbar\":{\"outlinewidth\":0,\"ticks\":\"\"},\"colorscale\":[[0.0,\"#0d0887\"],[0.1111111111111111,\"#46039f\"],[0.2222222222222222,\"#7201a8\"],[0.3333333333333333,\"#9c179e\"],[0.4444444444444444,\"#bd3786\"],[0.5555555555555556,\"#d8576b\"],[0.6666666666666666,\"#ed7953\"],[0.7777777777777778,\"#fb9f3a\"],[0.8888888888888888,\"#fdca26\"],[1.0,\"#f0f921\"]],\"type\":\"surface\"}],\"table\":[{\"cells\":{\"fill\":{\"color\":\"#EBF0F8\"},\"line\":{\"color\":\"white\"}},\"header\":{\"fill\":{\"color\":\"#C8D4E3\"},\"line\":{\"color\":\"white\"}},\"type\":\"table\"}]},\"layout\":{\"annotationdefaults\":{\"arrowcolor\":\"#2a3f5f\",\"arrowhead\":0,\"arrowwidth\":1},\"autotypenumbers\":\"strict\",\"coloraxis\":{\"colorbar\":{\"outlinewidth\":0,\"ticks\":\"\"}},\"colorscale\":{\"diverging\":[[0,\"#8e0152\"],[0.1,\"#c51b7d\"],[0.2,\"#de77ae\"],[0.3,\"#f1b6da\"],[0.4,\"#fde0ef\"],[0.5,\"#f7f7f7\"],[0.6,\"#e6f5d0\"],[0.7,\"#b8e186\"],[0.8,\"#7fbc41\"],[0.9,\"#4d9221\"],[1,\"#276419\"]],\"sequential\":[[0.0,\"#0d0887\"],[0.1111111111111111,\"#46039f\"],[0.2222222222222222,\"#7201a8\"],[0.3333333333333333,\"#9c179e\"],[0.4444444444444444,\"#bd3786\"],[0.5555555555555556,\"#d8576b\"],[0.6666666666666666,\"#ed7953\"],[0.7777777777777778,\"#fb9f3a\"],[0.8888888888888888,\"#fdca26\"],[1.0,\"#f0f921\"]],\"sequentialminus\":[[0.0,\"#0d0887\"],[0.1111111111111111,\"#46039f\"],[0.2222222222222222,\"#7201a8\"],[0.3333333333333333,\"#9c179e\"],[0.4444444444444444,\"#bd3786\"],[0.5555555555555556,\"#d8576b\"],[0.6666666666666666,\"#ed7953\"],[0.7777777777777778,\"#fb9f3a\"],[0.8888888888888888,\"#fdca26\"],[1.0,\"#f0f921\"]]},\"colorway\":[\"#636efa\",\"#EF553B\",\"#00cc96\",\"#ab63fa\",\"#FFA15A\",\"#19d3f3\",\"#FF6692\",\"#B6E880\",\"#FF97FF\",\"#FECB52\"],\"font\":{\"color\":\"#2a3f5f\"},\"geo\":{\"bgcolor\":\"white\",\"lakecolor\":\"white\",\"landcolor\":\"#E5ECF6\",\"showlakes\":true,\"showland\":true,\"subunitcolor\":\"white\"},\"hoverlabel\":{\"align\":\"left\"},\"hovermode\":\"closest\",\"mapbox\":{\"style\":\"light\"},\"paper_bgcolor\":\"white\",\"plot_bgcolor\":\"#E5ECF6\",\"polar\":{\"angularaxis\":{\"gridcolor\":\"white\",\"linecolor\":\"white\",\"ticks\":\"\"},\"bgcolor\":\"#E5ECF6\",\"radialaxis\":{\"gridcolor\":\"white\",\"linecolor\":\"white\",\"ticks\":\"\"}},\"scene\":{\"xaxis\":{\"backgroundcolor\":\"#E5ECF6\",\"gridcolor\":\"white\",\"gridwidth\":2,\"linecolor\":\"white\",\"showbackground\":true,\"ticks\":\"\",\"zerolinecolor\":\"white\"},\"yaxis\":{\"backgroundcolor\":\"#E5ECF6\",\"gridcolor\":\"white\",\"gridwidth\":2,\"linecolor\":\"white\",\"showbackground\":true,\"ticks\":\"\",\"zerolinecolor\":\"white\"},\"zaxis\":{\"backgroundcolor\":\"#E5ECF6\",\"gridcolor\":\"white\",\"gridwidth\":2,\"linecolor\":\"white\",\"showbackground\":true,\"ticks\":\"\",\"zerolinecolor\":\"white\"}},\"shapedefaults\":{\"line\":{\"color\":\"#2a3f5f\"}},\"ternary\":{\"aaxis\":{\"gridcolor\":\"white\",\"linecolor\":\"white\",\"ticks\":\"\"},\"baxis\":{\"gridcolor\":\"white\",\"linecolor\":\"white\",\"ticks\":\"\"},\"bgcolor\":\"#E5ECF6\",\"caxis\":{\"gridcolor\":\"white\",\"linecolor\":\"white\",\"ticks\":\"\"}},\"title\":{\"x\":0.05},\"xaxis\":{\"automargin\":true,\"gridcolor\":\"white\",\"linecolor\":\"white\",\"ticks\":\"\",\"title\":{\"standoff\":15},\"zerolinecolor\":\"white\",\"zerolinewidth\":2},\"yaxis\":{\"automargin\":true,\"gridcolor\":\"white\",\"linecolor\":\"white\",\"ticks\":\"\",\"title\":{\"standoff\":15},\"zerolinecolor\":\"white\",\"zerolinewidth\":2}}},\"title\":{\"font\":{\"color\":\"#151516\"},\"text\":\"Total committee contributions & expenditures by transaction type\"},\"xaxis\":{\"gridcolor\":\"#F6F6F6\",\"showgrid\":true,\"tickfont\":{\"color\":\"#666666\"},\"title\":{\"font\":{\"color\":\"#666666\"},\"text\":\"\"},\"zerolinecolor\":\"#F6F6F6\"},\"yaxis\":{\"gridcolor\":\"#F6F6F6\",\"showgrid\":true,\"tickfont\":{\"color\":\"#666666\"},\"title\":{\"font\":{\"color\":\"#666666\"},\"text\":\"\"},\"zerolinecolor\":\"#F6F6F6\"}},                        {\"showLink\": true, \"linkText\": \"Export to plot.ly\", \"plotlyServerURL\": \"https://plot.ly\", \"responsive\": true}                    ).then(function(){\n",
       "                            \n",
       "var gd = document.getElementById('eaad1eef-deb5-478c-a5b1-8d8a50a32361');\n",
       "var x = new MutationObserver(function (mutations, observer) {{\n",
       "        var display = window.getComputedStyle(gd).display;\n",
       "        if (!display || display === 'none') {{\n",
       "            console.log([gd, 'removed!']);\n",
       "            Plotly.purge(gd);\n",
       "            observer.disconnect();\n",
       "        }}\n",
       "}});\n",
       "\n",
       "// Listen for the removal of the full notebook cells\n",
       "var notebookContainer = gd.closest('#notebook-container');\n",
       "if (notebookContainer) {{\n",
       "    x.observe(notebookContainer, {childList: true});\n",
       "}}\n",
       "\n",
       "// Listen for the clearing of the current output cell\n",
       "var outputEl = gd.closest('.output');\n",
       "if (outputEl) {{\n",
       "    x.observe(outputEl, {childList: true});\n",
       "}}\n",
       "\n",
       "                        })                };                });            </script>        </div>"
      ]
     },
     "metadata": {},
     "output_type": "display_data"
    }
   ],
   "source": [
    "by_transaction = committee_contribs.groupby([\n",
    "    'CAND_NAME', 'TRANSACTION_TP_FULL']).agg({'TRANSACTION_AMT': 'sum'}).reset_index()\n",
    "\n",
    "by_transaction_pivot = by_transaction.pivot_table(\n",
    "    values='TRANSACTION_AMT', index='TRANSACTION_TP_FULL', columns='CAND_NAME')\n",
    "\n",
    "by_transaction_pivot.iplot(kind='bar', \n",
    "                           colors=color_map, title='Total committee contributions & expenditures by transaction type')"
   ]
  },
  {
   "cell_type": "code",
   "execution_count": 29,
   "metadata": {
    "_kg_hide-input": true,
    "_kg_hide-output": true,
    "execution": {
     "iopub.execute_input": "2020-09-02T04:53:57.910491Z",
     "iopub.status.busy": "2020-09-02T04:53:57.909729Z",
     "iopub.status.idle": "2020-09-02T04:53:58.021840Z",
     "shell.execute_reply": "2020-09-02T04:53:58.022400Z"
    },
    "papermill": {
     "duration": 0.174914,
     "end_time": "2020-09-02T04:53:58.022618",
     "exception": false,
     "start_time": "2020-09-02T04:53:57.847704",
     "status": "completed"
    },
    "tags": []
   },
   "outputs": [
    {
     "data": {
      "text/html": [
       "<div>\n",
       "<style scoped>\n",
       "    .dataframe tbody tr th:only-of-type {\n",
       "        vertical-align: middle;\n",
       "    }\n",
       "\n",
       "    .dataframe tbody tr th {\n",
       "        vertical-align: top;\n",
       "    }\n",
       "\n",
       "    .dataframe thead th {\n",
       "        text-align: right;\n",
       "    }\n",
       "</style>\n",
       "<table border=\"1\" class=\"dataframe\">\n",
       "  <thead>\n",
       "    <tr style=\"text-align: right;\">\n",
       "      <th></th>\n",
       "      <th>CMTE_ID</th>\n",
       "      <th>CMTE_NM</th>\n",
       "      <th>TRES_NM</th>\n",
       "      <th>CMTE_ST1</th>\n",
       "      <th>CMTE_ST2</th>\n",
       "      <th>CMTE_CITY</th>\n",
       "      <th>CMTE_ST</th>\n",
       "      <th>CMTE_ZIP</th>\n",
       "      <th>CMTE_DSGN</th>\n",
       "      <th>CMTE_TP</th>\n",
       "      <th>CMTE_PTY_AFFILIATION</th>\n",
       "      <th>CMTE_FILING_FREQ</th>\n",
       "      <th>ORG_TP</th>\n",
       "      <th>CONNECTED_ORG_NM</th>\n",
       "      <th>CAND_ID</th>\n",
       "    </tr>\n",
       "  </thead>\n",
       "  <tbody>\n",
       "    <tr>\n",
       "      <th>0</th>\n",
       "      <td>C00000059</td>\n",
       "      <td>HALLMARK CARDS PAC</td>\n",
       "      <td>SARAH MOE</td>\n",
       "      <td>2501 MCGEE</td>\n",
       "      <td>MD #500</td>\n",
       "      <td>KANSAS CITY</td>\n",
       "      <td>MO</td>\n",
       "      <td>64108</td>\n",
       "      <td>U</td>\n",
       "      <td>Q</td>\n",
       "      <td>UNK</td>\n",
       "      <td>M</td>\n",
       "      <td>C</td>\n",
       "      <td>NaN</td>\n",
       "      <td>NaN</td>\n",
       "    </tr>\n",
       "    <tr>\n",
       "      <th>1</th>\n",
       "      <td>C00000422</td>\n",
       "      <td>AMERICAN MEDICAL ASSOCIATION POLITICAL ACTION ...</td>\n",
       "      <td>WALKER, KEVIN MR.</td>\n",
       "      <td>25 MASSACHUSETTS AVE, NW</td>\n",
       "      <td>SUITE 600</td>\n",
       "      <td>WASHINGTON</td>\n",
       "      <td>DC</td>\n",
       "      <td>200017400</td>\n",
       "      <td>B</td>\n",
       "      <td>Q</td>\n",
       "      <td>NaN</td>\n",
       "      <td>M</td>\n",
       "      <td>M</td>\n",
       "      <td>DELAWARE MEDICAL PAC</td>\n",
       "      <td>NaN</td>\n",
       "    </tr>\n",
       "    <tr>\n",
       "      <th>2</th>\n",
       "      <td>C00000489</td>\n",
       "      <td>D R I V E POLITICAL FUND CHAPTER 886</td>\n",
       "      <td>JERRY SIMS JR</td>\n",
       "      <td>3528 W RENO</td>\n",
       "      <td>NaN</td>\n",
       "      <td>OKLAHOMA CITY</td>\n",
       "      <td>OK</td>\n",
       "      <td>73107</td>\n",
       "      <td>U</td>\n",
       "      <td>N</td>\n",
       "      <td>NaN</td>\n",
       "      <td>Q</td>\n",
       "      <td>L</td>\n",
       "      <td>NaN</td>\n",
       "      <td>NaN</td>\n",
       "    </tr>\n",
       "    <tr>\n",
       "      <th>3</th>\n",
       "      <td>C00000547</td>\n",
       "      <td>KANSAS MEDICAL SOCIETY POLITICAL ACTION COMMITTEE</td>\n",
       "      <td>JERRY SLAUGHTER</td>\n",
       "      <td>623 SW 10TH AVE</td>\n",
       "      <td>NaN</td>\n",
       "      <td>TOPEKA</td>\n",
       "      <td>KS</td>\n",
       "      <td>666121627</td>\n",
       "      <td>U</td>\n",
       "      <td>Q</td>\n",
       "      <td>UNK</td>\n",
       "      <td>Q</td>\n",
       "      <td>M</td>\n",
       "      <td>KANSAS MEDICAL SOCIETY</td>\n",
       "      <td>NaN</td>\n",
       "    </tr>\n",
       "    <tr>\n",
       "      <th>4</th>\n",
       "      <td>C00000638</td>\n",
       "      <td>INDIANA STATE MEDICAL ASSOCIATION POLITICAL AC...</td>\n",
       "      <td>ACHENBACH, GRANT MR.</td>\n",
       "      <td>322 CANAL WALK, CANAL LEVEL</td>\n",
       "      <td>NaN</td>\n",
       "      <td>INDIANAPOLIS</td>\n",
       "      <td>IN</td>\n",
       "      <td>46202</td>\n",
       "      <td>U</td>\n",
       "      <td>Q</td>\n",
       "      <td>NaN</td>\n",
       "      <td>T</td>\n",
       "      <td>M</td>\n",
       "      <td>NaN</td>\n",
       "      <td>NaN</td>\n",
       "    </tr>\n",
       "  </tbody>\n",
       "</table>\n",
       "</div>"
      ],
      "text/plain": [
       "     CMTE_ID                                            CMTE_NM  \\\n",
       "0  C00000059                                 HALLMARK CARDS PAC   \n",
       "1  C00000422  AMERICAN MEDICAL ASSOCIATION POLITICAL ACTION ...   \n",
       "2  C00000489               D R I V E POLITICAL FUND CHAPTER 886   \n",
       "3  C00000547  KANSAS MEDICAL SOCIETY POLITICAL ACTION COMMITTEE   \n",
       "4  C00000638  INDIANA STATE MEDICAL ASSOCIATION POLITICAL AC...   \n",
       "\n",
       "                TRES_NM                     CMTE_ST1   CMTE_ST2  \\\n",
       "0             SARAH MOE                   2501 MCGEE    MD #500   \n",
       "1     WALKER, KEVIN MR.     25 MASSACHUSETTS AVE, NW  SUITE 600   \n",
       "2         JERRY SIMS JR                  3528 W RENO        NaN   \n",
       "3       JERRY SLAUGHTER              623 SW 10TH AVE        NaN   \n",
       "4  ACHENBACH, GRANT MR.  322 CANAL WALK, CANAL LEVEL        NaN   \n",
       "\n",
       "       CMTE_CITY CMTE_ST   CMTE_ZIP CMTE_DSGN CMTE_TP CMTE_PTY_AFFILIATION  \\\n",
       "0    KANSAS CITY      MO      64108         U       Q                  UNK   \n",
       "1     WASHINGTON      DC  200017400         B       Q                  NaN   \n",
       "2  OKLAHOMA CITY      OK      73107         U       N                  NaN   \n",
       "3         TOPEKA      KS  666121627         U       Q                  UNK   \n",
       "4   INDIANAPOLIS      IN      46202         U       Q                  NaN   \n",
       "\n",
       "  CMTE_FILING_FREQ ORG_TP        CONNECTED_ORG_NM CAND_ID  \n",
       "0                M      C                     NaN     NaN  \n",
       "1                M      M    DELAWARE MEDICAL PAC     NaN  \n",
       "2                Q      L                     NaN     NaN  \n",
       "3                Q      M  KANSAS MEDICAL SOCIETY     NaN  \n",
       "4                T      M                     NaN     NaN  "
      ]
     },
     "execution_count": 29,
     "metadata": {},
     "output_type": "execute_result"
    }
   ],
   "source": [
    "committee_master = pd.read_csv(f\"../data/20192020-FEC/Committee master.csv\")\n",
    "committee_master.head()"
   ]
  },
  {
   "cell_type": "code",
   "execution_count": 30,
   "metadata": {
    "_kg_hide-input": true,
    "_kg_hide-output": true,
    "execution": {
     "iopub.execute_input": "2020-09-02T04:53:58.138321Z",
     "iopub.status.busy": "2020-09-02T04:53:58.137512Z",
     "iopub.status.idle": "2020-09-02T04:53:58.268191Z",
     "shell.execute_reply": "2020-09-02T04:53:58.268781Z"
    },
    "papermill": {
     "duration": 0.191884,
     "end_time": "2020-09-02T04:53:58.268948",
     "exception": false,
     "start_time": "2020-09-02T04:53:58.077064",
     "status": "completed"
    },
    "tags": []
   },
   "outputs": [
    {
     "data": {
      "text/html": [
       "<div>\n",
       "<style scoped>\n",
       "    .dataframe tbody tr th:only-of-type {\n",
       "        vertical-align: middle;\n",
       "    }\n",
       "\n",
       "    .dataframe tbody tr th {\n",
       "        vertical-align: top;\n",
       "    }\n",
       "\n",
       "    .dataframe thead th {\n",
       "        text-align: right;\n",
       "    }\n",
       "</style>\n",
       "<table border=\"1\" class=\"dataframe\">\n",
       "  <thead>\n",
       "    <tr style=\"text-align: right;\">\n",
       "      <th></th>\n",
       "      <th>CMTE_ID</th>\n",
       "      <th>AMNDT_IND</th>\n",
       "      <th>RPT_TP</th>\n",
       "      <th>TRANSACTION_PGI</th>\n",
       "      <th>IMAGE_NUM</th>\n",
       "      <th>TRANSACTION_TP</th>\n",
       "      <th>ENTITY_TP</th>\n",
       "      <th>NAME</th>\n",
       "      <th>CITY</th>\n",
       "      <th>STATE</th>\n",
       "      <th>ZIP_CODE</th>\n",
       "      <th>EMPLOYER</th>\n",
       "      <th>OCCUPATION</th>\n",
       "      <th>TRANSACTION_DT</th>\n",
       "      <th>TRANSACTION_AMT</th>\n",
       "      <th>OTHER_ID</th>\n",
       "      <th>CAND_ID</th>\n",
       "      <th>TRAN_ID</th>\n",
       "      <th>FILE_NUM</th>\n",
       "      <th>MEMO_CD</th>\n",
       "      <th>MEMO_TEXT</th>\n",
       "      <th>SUB_ID</th>\n",
       "      <th>AMNDT_IND_FULL</th>\n",
       "      <th>RPT_TP_FULL</th>\n",
       "      <th>ELECTION_TYPE</th>\n",
       "      <th>ELECTION_YEAR</th>\n",
       "      <th>TRANSACTION_TP_FULL</th>\n",
       "      <th>ENTITY_TP_FULL</th>\n",
       "      <th>TRAN_ID_parent</th>\n",
       "      <th>TRAN_ID_child</th>\n",
       "      <th>CAND_NAME</th>\n",
       "      <th>CAND_ICI</th>\n",
       "      <th>PTY_CD</th>\n",
       "      <th>CAND_PTY_AFFILIATION</th>\n",
       "      <th>TTL_RECEIPTS</th>\n",
       "      <th>TRANS_FROM_AUTH</th>\n",
       "      <th>TTL_DISB</th>\n",
       "      <th>TRANS_TO_AUTH</th>\n",
       "      <th>COH_BOP</th>\n",
       "      <th>COH_COP</th>\n",
       "      <th>CAND_CONTRIB</th>\n",
       "      <th>CAND_LOANS</th>\n",
       "      <th>OTHER_LOANS</th>\n",
       "      <th>CAND_LOAN_REPAY</th>\n",
       "      <th>OTHER_LOAN_REPAY</th>\n",
       "      <th>DEBTS_OWED_BY</th>\n",
       "      <th>TTL_INDIV_CONTRIB</th>\n",
       "      <th>CAND_OFFICE_ST</th>\n",
       "      <th>CAND_OFFICE_DISTRICT</th>\n",
       "      <th>SPEC_ELECTION</th>\n",
       "      <th>PRIM_ELECTION</th>\n",
       "      <th>RUN_ELECTION</th>\n",
       "      <th>GEN_ELECTION</th>\n",
       "      <th>GEN_ELECTION_PRECENT</th>\n",
       "      <th>OTHER_POL_CMTE_CONTRIB</th>\n",
       "      <th>POL_PTY_CONTRIB</th>\n",
       "      <th>CVG_END_DT</th>\n",
       "      <th>INDIV_REFUNDS</th>\n",
       "      <th>CMTE_REFUNDS</th>\n",
       "      <th>TTL_RECEIPTS_CORRECTED</th>\n",
       "      <th>TTL_DISB_CORRECTED</th>\n",
       "      <th>CAND_ICI_FULL</th>\n",
       "      <th>CAND_PTY_AFFILIATION_FULL</th>\n",
       "      <th>color</th>\n",
       "      <th>second_color</th>\n",
       "      <th>CMTE_NM</th>\n",
       "      <th>TRES_NM</th>\n",
       "      <th>CMTE_ST1</th>\n",
       "      <th>CMTE_ST2</th>\n",
       "      <th>CMTE_CITY</th>\n",
       "      <th>CMTE_ST</th>\n",
       "      <th>CMTE_ZIP</th>\n",
       "      <th>CMTE_DSGN</th>\n",
       "      <th>CMTE_TP</th>\n",
       "      <th>CMTE_PTY_AFFILIATION</th>\n",
       "      <th>CMTE_FILING_FREQ</th>\n",
       "      <th>ORG_TP</th>\n",
       "      <th>CONNECTED_ORG_NM</th>\n",
       "      <th>CAND_ID_y</th>\n",
       "    </tr>\n",
       "  </thead>\n",
       "  <tbody>\n",
       "    <tr>\n",
       "      <th>0</th>\n",
       "      <td>C00371385</td>\n",
       "      <td>N</td>\n",
       "      <td>M2</td>\n",
       "      <td>P</td>\n",
       "      <td>201902059145461441</td>\n",
       "      <td>24K</td>\n",
       "      <td>CCM</td>\n",
       "      <td>THOM TILLIS COMMITTEE</td>\n",
       "      <td>RALEIGH</td>\n",
       "      <td>NC</td>\n",
       "      <td>27624</td>\n",
       "      <td>NaN</td>\n",
       "      <td>NaN</td>\n",
       "      <td>2019-01-09</td>\n",
       "      <td>5000</td>\n",
       "      <td>C00545772</td>\n",
       "      <td>S4NC00162</td>\n",
       "      <td>SB23.6145</td>\n",
       "      <td>1314334</td>\n",
       "      <td>NaN</td>\n",
       "      <td>NaN</td>\n",
       "      <td>4022620191643762260</td>\n",
       "      <td>New</td>\n",
       "      <td>February monthly</td>\n",
       "      <td>Primary</td>\n",
       "      <td>0</td>\n",
       "      <td>Contribution made to nonaffiliated committee</td>\n",
       "      <td>Candidate Committee</td>\n",
       "      <td>SB23</td>\n",
       "      <td>6145</td>\n",
       "      <td>TILLIS, THOM R. SEN.</td>\n",
       "      <td>I</td>\n",
       "      <td>2</td>\n",
       "      <td>REP</td>\n",
       "      <td>8269271.66</td>\n",
       "      <td>1152018.96</td>\n",
       "      <td>3811302.27</td>\n",
       "      <td>6441.91</td>\n",
       "      <td>2025444.43</td>\n",
       "      <td>6483413.82</td>\n",
       "      <td>0.0</td>\n",
       "      <td>0.0</td>\n",
       "      <td>0.0</td>\n",
       "      <td>0.0</td>\n",
       "      <td>0.0</td>\n",
       "      <td>0.0</td>\n",
       "      <td>4798506.58</td>\n",
       "      <td>NC</td>\n",
       "      <td>00</td>\n",
       "      <td>NaN</td>\n",
       "      <td>NaN</td>\n",
       "      <td>NaN</td>\n",
       "      <td>NaN</td>\n",
       "      <td>NaN</td>\n",
       "      <td>2278244.39</td>\n",
       "      <td>0.0</td>\n",
       "      <td>06/09/2020</td>\n",
       "      <td>102493.33</td>\n",
       "      <td>14425.67</td>\n",
       "      <td>7117252.7</td>\n",
       "      <td>3804860.36</td>\n",
       "      <td>Incumbent</td>\n",
       "      <td>Republican Party</td>\n",
       "      <td>red</td>\n",
       "      <td>pink</td>\n",
       "      <td>ALEX LEE INC PAC</td>\n",
       "      <td>ALMQUIST, ANDREW MR.</td>\n",
       "      <td>120 4TH STREET SW</td>\n",
       "      <td>NaN</td>\n",
       "      <td>HICKORY</td>\n",
       "      <td>NC</td>\n",
       "      <td>28602</td>\n",
       "      <td>U</td>\n",
       "      <td>Q</td>\n",
       "      <td>NaN</td>\n",
       "      <td>M</td>\n",
       "      <td>C</td>\n",
       "      <td>ALEX LEE, INC.</td>\n",
       "      <td>NaN</td>\n",
       "    </tr>\n",
       "    <tr>\n",
       "      <th>1</th>\n",
       "      <td>C00551192</td>\n",
       "      <td>N</td>\n",
       "      <td>M2</td>\n",
       "      <td>P2020</td>\n",
       "      <td>201902119145496265</td>\n",
       "      <td>24K</td>\n",
       "      <td>CCM</td>\n",
       "      <td>THOM TILLIS COMMITTEE</td>\n",
       "      <td>RALEIGH</td>\n",
       "      <td>NC</td>\n",
       "      <td>27624</td>\n",
       "      <td>NaN</td>\n",
       "      <td>NaN</td>\n",
       "      <td>2019-01-28</td>\n",
       "      <td>2700</td>\n",
       "      <td>C00545772</td>\n",
       "      <td>S4NC00162</td>\n",
       "      <td>43079234</td>\n",
       "      <td>1315351</td>\n",
       "      <td>NaN</td>\n",
       "      <td>CONTRIBUTION</td>\n",
       "      <td>4022220191643459655</td>\n",
       "      <td>New</td>\n",
       "      <td>February monthly</td>\n",
       "      <td>Primary</td>\n",
       "      <td>2020</td>\n",
       "      <td>Contribution made to nonaffiliated committee</td>\n",
       "      <td>Candidate Committee</td>\n",
       "      <td>43079234</td>\n",
       "      <td>None</td>\n",
       "      <td>TILLIS, THOM R. SEN.</td>\n",
       "      <td>I</td>\n",
       "      <td>2</td>\n",
       "      <td>REP</td>\n",
       "      <td>8269271.66</td>\n",
       "      <td>1152018.96</td>\n",
       "      <td>3811302.27</td>\n",
       "      <td>6441.91</td>\n",
       "      <td>2025444.43</td>\n",
       "      <td>6483413.82</td>\n",
       "      <td>0.0</td>\n",
       "      <td>0.0</td>\n",
       "      <td>0.0</td>\n",
       "      <td>0.0</td>\n",
       "      <td>0.0</td>\n",
       "      <td>0.0</td>\n",
       "      <td>4798506.58</td>\n",
       "      <td>NC</td>\n",
       "      <td>00</td>\n",
       "      <td>NaN</td>\n",
       "      <td>NaN</td>\n",
       "      <td>NaN</td>\n",
       "      <td>NaN</td>\n",
       "      <td>NaN</td>\n",
       "      <td>2278244.39</td>\n",
       "      <td>0.0</td>\n",
       "      <td>06/09/2020</td>\n",
       "      <td>102493.33</td>\n",
       "      <td>14425.67</td>\n",
       "      <td>7117252.7</td>\n",
       "      <td>3804860.36</td>\n",
       "      <td>Incumbent</td>\n",
       "      <td>Republican Party</td>\n",
       "      <td>red</td>\n",
       "      <td>pink</td>\n",
       "      <td>MAIN STREET BANKING POLITICAL ACTION COMMITTEE</td>\n",
       "      <td>WILLIAMS, WADE</td>\n",
       "      <td>PO BOX 7427</td>\n",
       "      <td>NaN</td>\n",
       "      <td>ALEXANDRIA</td>\n",
       "      <td>VA</td>\n",
       "      <td>223077427</td>\n",
       "      <td>U</td>\n",
       "      <td>N</td>\n",
       "      <td>NaN</td>\n",
       "      <td>M</td>\n",
       "      <td>NaN</td>\n",
       "      <td>NONE</td>\n",
       "      <td>NaN</td>\n",
       "    </tr>\n",
       "    <tr>\n",
       "      <th>2</th>\n",
       "      <td>C00100107</td>\n",
       "      <td>N</td>\n",
       "      <td>M2</td>\n",
       "      <td>P2020</td>\n",
       "      <td>201902159145516138</td>\n",
       "      <td>24K</td>\n",
       "      <td>CCM</td>\n",
       "      <td>THOM TILLIS COMMITTEE</td>\n",
       "      <td>RALEIGH</td>\n",
       "      <td>NC</td>\n",
       "      <td>27624</td>\n",
       "      <td>NaN</td>\n",
       "      <td>NaN</td>\n",
       "      <td>2019-01-11</td>\n",
       "      <td>2500</td>\n",
       "      <td>C00545772</td>\n",
       "      <td>S4NC00162</td>\n",
       "      <td>156BA6A4BB1CA36FD35</td>\n",
       "      <td>1316037</td>\n",
       "      <td>NaN</td>\n",
       "      <td>NaN</td>\n",
       "      <td>4022720191644231227</td>\n",
       "      <td>New</td>\n",
       "      <td>February monthly</td>\n",
       "      <td>Primary</td>\n",
       "      <td>2020</td>\n",
       "      <td>Contribution made to nonaffiliated committee</td>\n",
       "      <td>Candidate Committee</td>\n",
       "      <td>156BA6A4BB1CA36FD35</td>\n",
       "      <td>None</td>\n",
       "      <td>TILLIS, THOM R. SEN.</td>\n",
       "      <td>I</td>\n",
       "      <td>2</td>\n",
       "      <td>REP</td>\n",
       "      <td>8269271.66</td>\n",
       "      <td>1152018.96</td>\n",
       "      <td>3811302.27</td>\n",
       "      <td>6441.91</td>\n",
       "      <td>2025444.43</td>\n",
       "      <td>6483413.82</td>\n",
       "      <td>0.0</td>\n",
       "      <td>0.0</td>\n",
       "      <td>0.0</td>\n",
       "      <td>0.0</td>\n",
       "      <td>0.0</td>\n",
       "      <td>0.0</td>\n",
       "      <td>4798506.58</td>\n",
       "      <td>NC</td>\n",
       "      <td>00</td>\n",
       "      <td>NaN</td>\n",
       "      <td>NaN</td>\n",
       "      <td>NaN</td>\n",
       "      <td>NaN</td>\n",
       "      <td>NaN</td>\n",
       "      <td>2278244.39</td>\n",
       "      <td>0.0</td>\n",
       "      <td>06/09/2020</td>\n",
       "      <td>102493.33</td>\n",
       "      <td>14425.67</td>\n",
       "      <td>7117252.7</td>\n",
       "      <td>3804860.36</td>\n",
       "      <td>Incumbent</td>\n",
       "      <td>Republican Party</td>\n",
       "      <td>red</td>\n",
       "      <td>pink</td>\n",
       "      <td>AMERICAN BEVERAGE ASSOCIATION POLITICAL ACTION...</td>\n",
       "      <td>HAMMOND, MARK N. MR.</td>\n",
       "      <td>1275 PENNSYLVANIA AVE NW</td>\n",
       "      <td>SUITE 1100</td>\n",
       "      <td>WASHINGTON</td>\n",
       "      <td>DC</td>\n",
       "      <td>20004</td>\n",
       "      <td>B</td>\n",
       "      <td>Q</td>\n",
       "      <td>NNE</td>\n",
       "      <td>M</td>\n",
       "      <td>T</td>\n",
       "      <td>AMERICAN BEVERAGE ASSOCIATION</td>\n",
       "      <td>NaN</td>\n",
       "    </tr>\n",
       "    <tr>\n",
       "      <th>3</th>\n",
       "      <td>C00214304</td>\n",
       "      <td>N</td>\n",
       "      <td>M2</td>\n",
       "      <td>G2020</td>\n",
       "      <td>201902199145530707</td>\n",
       "      <td>24K</td>\n",
       "      <td>CCM</td>\n",
       "      <td>THOM TILLIS COMMITTEE</td>\n",
       "      <td>RALEIGH</td>\n",
       "      <td>NC</td>\n",
       "      <td>27624</td>\n",
       "      <td>NaN</td>\n",
       "      <td>NaN</td>\n",
       "      <td>2019-01-08</td>\n",
       "      <td>2500</td>\n",
       "      <td>C00545772</td>\n",
       "      <td>S4NC00162</td>\n",
       "      <td>10001048</td>\n",
       "      <td>1316592</td>\n",
       "      <td>NaN</td>\n",
       "      <td>NaN</td>\n",
       "      <td>4022820191644627257</td>\n",
       "      <td>New</td>\n",
       "      <td>February monthly</td>\n",
       "      <td>General</td>\n",
       "      <td>2020</td>\n",
       "      <td>Contribution made to nonaffiliated committee</td>\n",
       "      <td>Candidate Committee</td>\n",
       "      <td>10001048</td>\n",
       "      <td>None</td>\n",
       "      <td>TILLIS, THOM R. SEN.</td>\n",
       "      <td>I</td>\n",
       "      <td>2</td>\n",
       "      <td>REP</td>\n",
       "      <td>8269271.66</td>\n",
       "      <td>1152018.96</td>\n",
       "      <td>3811302.27</td>\n",
       "      <td>6441.91</td>\n",
       "      <td>2025444.43</td>\n",
       "      <td>6483413.82</td>\n",
       "      <td>0.0</td>\n",
       "      <td>0.0</td>\n",
       "      <td>0.0</td>\n",
       "      <td>0.0</td>\n",
       "      <td>0.0</td>\n",
       "      <td>0.0</td>\n",
       "      <td>4798506.58</td>\n",
       "      <td>NC</td>\n",
       "      <td>00</td>\n",
       "      <td>NaN</td>\n",
       "      <td>NaN</td>\n",
       "      <td>NaN</td>\n",
       "      <td>NaN</td>\n",
       "      <td>NaN</td>\n",
       "      <td>2278244.39</td>\n",
       "      <td>0.0</td>\n",
       "      <td>06/09/2020</td>\n",
       "      <td>102493.33</td>\n",
       "      <td>14425.67</td>\n",
       "      <td>7117252.7</td>\n",
       "      <td>3804860.36</td>\n",
       "      <td>Incumbent</td>\n",
       "      <td>Republican Party</td>\n",
       "      <td>red</td>\n",
       "      <td>pink</td>\n",
       "      <td>AHOLD DELHAIZE USA, INC POLITICAL ACTION COMMI...</td>\n",
       "      <td>YOUNG, TEROSS WILLIEVICK</td>\n",
       "      <td>PO BOX 1330</td>\n",
       "      <td>2110 EXECUTIVE DRIVE</td>\n",
       "      <td>SALISBURY</td>\n",
       "      <td>NC</td>\n",
       "      <td>28145</td>\n",
       "      <td>U</td>\n",
       "      <td>Q</td>\n",
       "      <td>NaN</td>\n",
       "      <td>M</td>\n",
       "      <td>C</td>\n",
       "      <td>AHOLD DELHAIZE USA, INC.</td>\n",
       "      <td>NaN</td>\n",
       "    </tr>\n",
       "    <tr>\n",
       "      <th>4</th>\n",
       "      <td>C00144774</td>\n",
       "      <td>N</td>\n",
       "      <td>M2</td>\n",
       "      <td>P2020</td>\n",
       "      <td>201902199145526887</td>\n",
       "      <td>24K</td>\n",
       "      <td>CCM</td>\n",
       "      <td>THOM TILLIS COMMITTEE</td>\n",
       "      <td>RALEIGH</td>\n",
       "      <td>NC</td>\n",
       "      <td>27624</td>\n",
       "      <td>NaN</td>\n",
       "      <td>NaN</td>\n",
       "      <td>2019-01-09</td>\n",
       "      <td>5000</td>\n",
       "      <td>C00545772</td>\n",
       "      <td>S4NC00162</td>\n",
       "      <td>12654565</td>\n",
       "      <td>1316428</td>\n",
       "      <td>NaN</td>\n",
       "      <td>DIRECT CONTIRIBUTION</td>\n",
       "      <td>4022720191644226724</td>\n",
       "      <td>New</td>\n",
       "      <td>February monthly</td>\n",
       "      <td>Primary</td>\n",
       "      <td>2020</td>\n",
       "      <td>Contribution made to nonaffiliated committee</td>\n",
       "      <td>Candidate Committee</td>\n",
       "      <td>12654565</td>\n",
       "      <td>None</td>\n",
       "      <td>TILLIS, THOM R. SEN.</td>\n",
       "      <td>I</td>\n",
       "      <td>2</td>\n",
       "      <td>REP</td>\n",
       "      <td>8269271.66</td>\n",
       "      <td>1152018.96</td>\n",
       "      <td>3811302.27</td>\n",
       "      <td>6441.91</td>\n",
       "      <td>2025444.43</td>\n",
       "      <td>6483413.82</td>\n",
       "      <td>0.0</td>\n",
       "      <td>0.0</td>\n",
       "      <td>0.0</td>\n",
       "      <td>0.0</td>\n",
       "      <td>0.0</td>\n",
       "      <td>0.0</td>\n",
       "      <td>4798506.58</td>\n",
       "      <td>NC</td>\n",
       "      <td>00</td>\n",
       "      <td>NaN</td>\n",
       "      <td>NaN</td>\n",
       "      <td>NaN</td>\n",
       "      <td>NaN</td>\n",
       "      <td>NaN</td>\n",
       "      <td>2278244.39</td>\n",
       "      <td>0.0</td>\n",
       "      <td>06/09/2020</td>\n",
       "      <td>102493.33</td>\n",
       "      <td>14425.67</td>\n",
       "      <td>7117252.7</td>\n",
       "      <td>3804860.36</td>\n",
       "      <td>Incumbent</td>\n",
       "      <td>Republican Party</td>\n",
       "      <td>red</td>\n",
       "      <td>pink</td>\n",
       "      <td>SOUTHERN COMPANY EMPLOYEES PAC</td>\n",
       "      <td>CARDEN, LAURA B.</td>\n",
       "      <td>241 RALPH MCGILL BOULEVARD NE</td>\n",
       "      <td>BIN 10111</td>\n",
       "      <td>ATLANTA</td>\n",
       "      <td>GA</td>\n",
       "      <td>30308</td>\n",
       "      <td>B</td>\n",
       "      <td>Q</td>\n",
       "      <td>NaN</td>\n",
       "      <td>M</td>\n",
       "      <td>C</td>\n",
       "      <td>NaN</td>\n",
       "      <td>NaN</td>\n",
       "    </tr>\n",
       "  </tbody>\n",
       "</table>\n",
       "</div>"
      ],
      "text/plain": [
       "     CMTE_ID AMNDT_IND RPT_TP TRANSACTION_PGI           IMAGE_NUM  \\\n",
       "0  C00371385         N     M2               P  201902059145461441   \n",
       "1  C00551192         N     M2           P2020  201902119145496265   \n",
       "2  C00100107         N     M2           P2020  201902159145516138   \n",
       "3  C00214304         N     M2           G2020  201902199145530707   \n",
       "4  C00144774         N     M2           P2020  201902199145526887   \n",
       "\n",
       "  TRANSACTION_TP ENTITY_TP                   NAME     CITY STATE ZIP_CODE  \\\n",
       "0            24K       CCM  THOM TILLIS COMMITTEE  RALEIGH    NC    27624   \n",
       "1            24K       CCM  THOM TILLIS COMMITTEE  RALEIGH    NC    27624   \n",
       "2            24K       CCM  THOM TILLIS COMMITTEE  RALEIGH    NC    27624   \n",
       "3            24K       CCM  THOM TILLIS COMMITTEE  RALEIGH    NC    27624   \n",
       "4            24K       CCM  THOM TILLIS COMMITTEE  RALEIGH    NC    27624   \n",
       "\n",
       "  EMPLOYER OCCUPATION TRANSACTION_DT  TRANSACTION_AMT   OTHER_ID    CAND_ID  \\\n",
       "0      NaN        NaN     2019-01-09             5000  C00545772  S4NC00162   \n",
       "1      NaN        NaN     2019-01-28             2700  C00545772  S4NC00162   \n",
       "2      NaN        NaN     2019-01-11             2500  C00545772  S4NC00162   \n",
       "3      NaN        NaN     2019-01-08             2500  C00545772  S4NC00162   \n",
       "4      NaN        NaN     2019-01-09             5000  C00545772  S4NC00162   \n",
       "\n",
       "               TRAN_ID  FILE_NUM MEMO_CD             MEMO_TEXT  \\\n",
       "0            SB23.6145   1314334     NaN                   NaN   \n",
       "1             43079234   1315351     NaN          CONTRIBUTION   \n",
       "2  156BA6A4BB1CA36FD35   1316037     NaN                   NaN   \n",
       "3             10001048   1316592     NaN                   NaN   \n",
       "4             12654565   1316428     NaN  DIRECT CONTIRIBUTION   \n",
       "\n",
       "                SUB_ID AMNDT_IND_FULL       RPT_TP_FULL ELECTION_TYPE  \\\n",
       "0  4022620191643762260            New  February monthly       Primary   \n",
       "1  4022220191643459655            New  February monthly       Primary   \n",
       "2  4022720191644231227            New  February monthly       Primary   \n",
       "3  4022820191644627257            New  February monthly       General   \n",
       "4  4022720191644226724            New  February monthly       Primary   \n",
       "\n",
       "   ELECTION_YEAR                           TRANSACTION_TP_FULL  \\\n",
       "0              0  Contribution made to nonaffiliated committee   \n",
       "1           2020  Contribution made to nonaffiliated committee   \n",
       "2           2020  Contribution made to nonaffiliated committee   \n",
       "3           2020  Contribution made to nonaffiliated committee   \n",
       "4           2020  Contribution made to nonaffiliated committee   \n",
       "\n",
       "        ENTITY_TP_FULL       TRAN_ID_parent TRAN_ID_child  \\\n",
       "0  Candidate Committee                 SB23          6145   \n",
       "1  Candidate Committee             43079234          None   \n",
       "2  Candidate Committee  156BA6A4BB1CA36FD35          None   \n",
       "3  Candidate Committee             10001048          None   \n",
       "4  Candidate Committee             12654565          None   \n",
       "\n",
       "              CAND_NAME CAND_ICI  PTY_CD CAND_PTY_AFFILIATION  TTL_RECEIPTS  \\\n",
       "0  TILLIS, THOM R. SEN.        I       2                  REP    8269271.66   \n",
       "1  TILLIS, THOM R. SEN.        I       2                  REP    8269271.66   \n",
       "2  TILLIS, THOM R. SEN.        I       2                  REP    8269271.66   \n",
       "3  TILLIS, THOM R. SEN.        I       2                  REP    8269271.66   \n",
       "4  TILLIS, THOM R. SEN.        I       2                  REP    8269271.66   \n",
       "\n",
       "   TRANS_FROM_AUTH    TTL_DISB  TRANS_TO_AUTH     COH_BOP     COH_COP  \\\n",
       "0       1152018.96  3811302.27        6441.91  2025444.43  6483413.82   \n",
       "1       1152018.96  3811302.27        6441.91  2025444.43  6483413.82   \n",
       "2       1152018.96  3811302.27        6441.91  2025444.43  6483413.82   \n",
       "3       1152018.96  3811302.27        6441.91  2025444.43  6483413.82   \n",
       "4       1152018.96  3811302.27        6441.91  2025444.43  6483413.82   \n",
       "\n",
       "   CAND_CONTRIB  CAND_LOANS  OTHER_LOANS  CAND_LOAN_REPAY  OTHER_LOAN_REPAY  \\\n",
       "0           0.0         0.0          0.0              0.0               0.0   \n",
       "1           0.0         0.0          0.0              0.0               0.0   \n",
       "2           0.0         0.0          0.0              0.0               0.0   \n",
       "3           0.0         0.0          0.0              0.0               0.0   \n",
       "4           0.0         0.0          0.0              0.0               0.0   \n",
       "\n",
       "   DEBTS_OWED_BY  TTL_INDIV_CONTRIB CAND_OFFICE_ST CAND_OFFICE_DISTRICT  \\\n",
       "0            0.0         4798506.58             NC                   00   \n",
       "1            0.0         4798506.58             NC                   00   \n",
       "2            0.0         4798506.58             NC                   00   \n",
       "3            0.0         4798506.58             NC                   00   \n",
       "4            0.0         4798506.58             NC                   00   \n",
       "\n",
       "   SPEC_ELECTION  PRIM_ELECTION  RUN_ELECTION  GEN_ELECTION  \\\n",
       "0            NaN            NaN           NaN           NaN   \n",
       "1            NaN            NaN           NaN           NaN   \n",
       "2            NaN            NaN           NaN           NaN   \n",
       "3            NaN            NaN           NaN           NaN   \n",
       "4            NaN            NaN           NaN           NaN   \n",
       "\n",
       "   GEN_ELECTION_PRECENT  OTHER_POL_CMTE_CONTRIB  POL_PTY_CONTRIB  CVG_END_DT  \\\n",
       "0                   NaN              2278244.39              0.0  06/09/2020   \n",
       "1                   NaN              2278244.39              0.0  06/09/2020   \n",
       "2                   NaN              2278244.39              0.0  06/09/2020   \n",
       "3                   NaN              2278244.39              0.0  06/09/2020   \n",
       "4                   NaN              2278244.39              0.0  06/09/2020   \n",
       "\n",
       "   INDIV_REFUNDS  CMTE_REFUNDS  TTL_RECEIPTS_CORRECTED  TTL_DISB_CORRECTED  \\\n",
       "0      102493.33      14425.67               7117252.7          3804860.36   \n",
       "1      102493.33      14425.67               7117252.7          3804860.36   \n",
       "2      102493.33      14425.67               7117252.7          3804860.36   \n",
       "3      102493.33      14425.67               7117252.7          3804860.36   \n",
       "4      102493.33      14425.67               7117252.7          3804860.36   \n",
       "\n",
       "  CAND_ICI_FULL CAND_PTY_AFFILIATION_FULL color second_color  \\\n",
       "0     Incumbent          Republican Party   red         pink   \n",
       "1     Incumbent          Republican Party   red         pink   \n",
       "2     Incumbent          Republican Party   red         pink   \n",
       "3     Incumbent          Republican Party   red         pink   \n",
       "4     Incumbent          Republican Party   red         pink   \n",
       "\n",
       "                                             CMTE_NM  \\\n",
       "0                                   ALEX LEE INC PAC   \n",
       "1     MAIN STREET BANKING POLITICAL ACTION COMMITTEE   \n",
       "2  AMERICAN BEVERAGE ASSOCIATION POLITICAL ACTION...   \n",
       "3  AHOLD DELHAIZE USA, INC POLITICAL ACTION COMMI...   \n",
       "4                     SOUTHERN COMPANY EMPLOYEES PAC   \n",
       "\n",
       "                    TRES_NM                       CMTE_ST1  \\\n",
       "0      ALMQUIST, ANDREW MR.              120 4TH STREET SW   \n",
       "1            WILLIAMS, WADE                    PO BOX 7427   \n",
       "2      HAMMOND, MARK N. MR.       1275 PENNSYLVANIA AVE NW   \n",
       "3  YOUNG, TEROSS WILLIEVICK                    PO BOX 1330   \n",
       "4          CARDEN, LAURA B.  241 RALPH MCGILL BOULEVARD NE   \n",
       "\n",
       "               CMTE_ST2   CMTE_CITY CMTE_ST   CMTE_ZIP CMTE_DSGN CMTE_TP  \\\n",
       "0                   NaN     HICKORY      NC      28602         U       Q   \n",
       "1                   NaN  ALEXANDRIA      VA  223077427         U       N   \n",
       "2            SUITE 1100  WASHINGTON      DC      20004         B       Q   \n",
       "3  2110 EXECUTIVE DRIVE   SALISBURY      NC      28145         U       Q   \n",
       "4             BIN 10111     ATLANTA      GA      30308         B       Q   \n",
       "\n",
       "  CMTE_PTY_AFFILIATION CMTE_FILING_FREQ ORG_TP               CONNECTED_ORG_NM  \\\n",
       "0                  NaN                M      C                 ALEX LEE, INC.   \n",
       "1                  NaN                M    NaN                           NONE   \n",
       "2                  NNE                M      T  AMERICAN BEVERAGE ASSOCIATION   \n",
       "3                  NaN                M      C       AHOLD DELHAIZE USA, INC.   \n",
       "4                  NaN                M      C                            NaN   \n",
       "\n",
       "  CAND_ID_y  \n",
       "0       NaN  \n",
       "1       NaN  \n",
       "2       NaN  \n",
       "3       NaN  \n",
       "4       NaN  "
      ]
     },
     "execution_count": 30,
     "metadata": {},
     "output_type": "execute_result"
    }
   ],
   "source": [
    "committee_contribs = committee_contribs.merge(committee_master, on='CMTE_ID', how='left', suffixes=('', '_y'))\n",
    "committee_contribs.head()"
   ]
  },
  {
   "cell_type": "markdown",
   "metadata": {
    "papermill": {
     "duration": 0.054726,
     "end_time": "2020-09-02T04:53:58.378691",
     "exception": false,
     "start_time": "2020-09-02T04:53:58.323965",
     "status": "completed"
    },
    "tags": []
   },
   "source": [
    "### Contributions from committees"
   ]
  },
  {
   "cell_type": "code",
   "execution_count": 31,
   "metadata": {
    "_kg_hide-input": true,
    "_kg_hide-output": true,
    "execution": {
     "iopub.execute_input": "2020-09-02T04:53:58.499014Z",
     "iopub.status.busy": "2020-09-02T04:53:58.497682Z",
     "iopub.status.idle": "2020-09-02T04:53:58.595834Z",
     "shell.execute_reply": "2020-09-02T04:53:58.595152Z"
    },
    "papermill": {
     "duration": 0.162232,
     "end_time": "2020-09-02T04:53:58.595971",
     "exception": false,
     "start_time": "2020-09-02T04:53:58.433739",
     "status": "completed"
    },
    "tags": []
   },
   "outputs": [
    {
     "data": {
      "text/html": [
       "<div>\n",
       "<style scoped>\n",
       "    .dataframe tbody tr th:only-of-type {\n",
       "        vertical-align: middle;\n",
       "    }\n",
       "\n",
       "    .dataframe tbody tr th {\n",
       "        vertical-align: top;\n",
       "    }\n",
       "\n",
       "    .dataframe thead th {\n",
       "        text-align: right;\n",
       "    }\n",
       "</style>\n",
       "<table border=\"1\" class=\"dataframe\">\n",
       "  <thead>\n",
       "    <tr style=\"text-align: right;\">\n",
       "      <th></th>\n",
       "      <th>CMTE_ID</th>\n",
       "      <th>AMNDT_IND</th>\n",
       "      <th>RPT_TP</th>\n",
       "      <th>TRANSACTION_PGI</th>\n",
       "      <th>IMAGE_NUM</th>\n",
       "      <th>TRANSACTION_TP</th>\n",
       "      <th>ENTITY_TP</th>\n",
       "      <th>NAME</th>\n",
       "      <th>CITY</th>\n",
       "      <th>STATE</th>\n",
       "      <th>ZIP_CODE</th>\n",
       "      <th>EMPLOYER</th>\n",
       "      <th>OCCUPATION</th>\n",
       "      <th>TRANSACTION_DT</th>\n",
       "      <th>TRANSACTION_AMT</th>\n",
       "      <th>OTHER_ID</th>\n",
       "      <th>CAND_ID</th>\n",
       "      <th>TRAN_ID</th>\n",
       "      <th>FILE_NUM</th>\n",
       "      <th>MEMO_CD</th>\n",
       "      <th>MEMO_TEXT</th>\n",
       "      <th>SUB_ID</th>\n",
       "      <th>AMNDT_IND_FULL</th>\n",
       "      <th>RPT_TP_FULL</th>\n",
       "      <th>ELECTION_TYPE</th>\n",
       "      <th>ELECTION_YEAR</th>\n",
       "      <th>TRANSACTION_TP_FULL</th>\n",
       "      <th>ENTITY_TP_FULL</th>\n",
       "      <th>TRAN_ID_parent</th>\n",
       "      <th>TRAN_ID_child</th>\n",
       "      <th>CAND_NAME</th>\n",
       "      <th>CAND_ICI</th>\n",
       "      <th>PTY_CD</th>\n",
       "      <th>CAND_PTY_AFFILIATION</th>\n",
       "      <th>TTL_RECEIPTS</th>\n",
       "      <th>TRANS_FROM_AUTH</th>\n",
       "      <th>TTL_DISB</th>\n",
       "      <th>TRANS_TO_AUTH</th>\n",
       "      <th>COH_BOP</th>\n",
       "      <th>COH_COP</th>\n",
       "      <th>CAND_CONTRIB</th>\n",
       "      <th>CAND_LOANS</th>\n",
       "      <th>OTHER_LOANS</th>\n",
       "      <th>CAND_LOAN_REPAY</th>\n",
       "      <th>OTHER_LOAN_REPAY</th>\n",
       "      <th>DEBTS_OWED_BY</th>\n",
       "      <th>TTL_INDIV_CONTRIB</th>\n",
       "      <th>CAND_OFFICE_ST</th>\n",
       "      <th>CAND_OFFICE_DISTRICT</th>\n",
       "      <th>SPEC_ELECTION</th>\n",
       "      <th>PRIM_ELECTION</th>\n",
       "      <th>RUN_ELECTION</th>\n",
       "      <th>GEN_ELECTION</th>\n",
       "      <th>GEN_ELECTION_PRECENT</th>\n",
       "      <th>OTHER_POL_CMTE_CONTRIB</th>\n",
       "      <th>POL_PTY_CONTRIB</th>\n",
       "      <th>CVG_END_DT</th>\n",
       "      <th>INDIV_REFUNDS</th>\n",
       "      <th>CMTE_REFUNDS</th>\n",
       "      <th>TTL_RECEIPTS_CORRECTED</th>\n",
       "      <th>TTL_DISB_CORRECTED</th>\n",
       "      <th>CAND_ICI_FULL</th>\n",
       "      <th>CAND_PTY_AFFILIATION_FULL</th>\n",
       "      <th>color</th>\n",
       "      <th>second_color</th>\n",
       "      <th>CMTE_NM</th>\n",
       "      <th>TRES_NM</th>\n",
       "      <th>CMTE_ST1</th>\n",
       "      <th>CMTE_ST2</th>\n",
       "      <th>CMTE_CITY</th>\n",
       "      <th>CMTE_ST</th>\n",
       "      <th>CMTE_ZIP</th>\n",
       "      <th>CMTE_DSGN</th>\n",
       "      <th>CMTE_TP</th>\n",
       "      <th>CMTE_PTY_AFFILIATION</th>\n",
       "      <th>CMTE_FILING_FREQ</th>\n",
       "      <th>ORG_TP</th>\n",
       "      <th>CONNECTED_ORG_NM</th>\n",
       "      <th>CAND_ID_y</th>\n",
       "    </tr>\n",
       "  </thead>\n",
       "  <tbody>\n",
       "    <tr>\n",
       "      <th>0</th>\n",
       "      <td>C00371385</td>\n",
       "      <td>N</td>\n",
       "      <td>M2</td>\n",
       "      <td>P</td>\n",
       "      <td>201902059145461441</td>\n",
       "      <td>24K</td>\n",
       "      <td>CCM</td>\n",
       "      <td>THOM TILLIS COMMITTEE</td>\n",
       "      <td>RALEIGH</td>\n",
       "      <td>NC</td>\n",
       "      <td>27624</td>\n",
       "      <td>NaN</td>\n",
       "      <td>NaN</td>\n",
       "      <td>2019-01-09</td>\n",
       "      <td>5000</td>\n",
       "      <td>C00545772</td>\n",
       "      <td>S4NC00162</td>\n",
       "      <td>SB23.6145</td>\n",
       "      <td>1314334</td>\n",
       "      <td>NaN</td>\n",
       "      <td>NaN</td>\n",
       "      <td>4022620191643762260</td>\n",
       "      <td>New</td>\n",
       "      <td>February monthly</td>\n",
       "      <td>Primary</td>\n",
       "      <td>0</td>\n",
       "      <td>Contribution made to nonaffiliated committee</td>\n",
       "      <td>Candidate Committee</td>\n",
       "      <td>SB23</td>\n",
       "      <td>6145</td>\n",
       "      <td>TILLIS, THOM R. SEN.</td>\n",
       "      <td>I</td>\n",
       "      <td>2</td>\n",
       "      <td>REP</td>\n",
       "      <td>8269271.66</td>\n",
       "      <td>1152018.96</td>\n",
       "      <td>3811302.27</td>\n",
       "      <td>6441.91</td>\n",
       "      <td>2025444.43</td>\n",
       "      <td>6483413.82</td>\n",
       "      <td>0.0</td>\n",
       "      <td>0.0</td>\n",
       "      <td>0.0</td>\n",
       "      <td>0.0</td>\n",
       "      <td>0.0</td>\n",
       "      <td>0.0</td>\n",
       "      <td>4798506.58</td>\n",
       "      <td>NC</td>\n",
       "      <td>00</td>\n",
       "      <td>NaN</td>\n",
       "      <td>NaN</td>\n",
       "      <td>NaN</td>\n",
       "      <td>NaN</td>\n",
       "      <td>NaN</td>\n",
       "      <td>2278244.39</td>\n",
       "      <td>0.0</td>\n",
       "      <td>06/09/2020</td>\n",
       "      <td>102493.33</td>\n",
       "      <td>14425.67</td>\n",
       "      <td>7117252.7</td>\n",
       "      <td>3804860.36</td>\n",
       "      <td>Incumbent</td>\n",
       "      <td>Republican Party</td>\n",
       "      <td>red</td>\n",
       "      <td>pink</td>\n",
       "      <td>ALEX LEE INC PAC</td>\n",
       "      <td>ALMQUIST, ANDREW MR.</td>\n",
       "      <td>120 4TH STREET SW</td>\n",
       "      <td>NaN</td>\n",
       "      <td>HICKORY</td>\n",
       "      <td>NC</td>\n",
       "      <td>28602</td>\n",
       "      <td>U</td>\n",
       "      <td>Q</td>\n",
       "      <td>NaN</td>\n",
       "      <td>M</td>\n",
       "      <td>C</td>\n",
       "      <td>ALEX LEE, INC.</td>\n",
       "      <td>NaN</td>\n",
       "    </tr>\n",
       "    <tr>\n",
       "      <th>1</th>\n",
       "      <td>C00551192</td>\n",
       "      <td>N</td>\n",
       "      <td>M2</td>\n",
       "      <td>P2020</td>\n",
       "      <td>201902119145496265</td>\n",
       "      <td>24K</td>\n",
       "      <td>CCM</td>\n",
       "      <td>THOM TILLIS COMMITTEE</td>\n",
       "      <td>RALEIGH</td>\n",
       "      <td>NC</td>\n",
       "      <td>27624</td>\n",
       "      <td>NaN</td>\n",
       "      <td>NaN</td>\n",
       "      <td>2019-01-28</td>\n",
       "      <td>2700</td>\n",
       "      <td>C00545772</td>\n",
       "      <td>S4NC00162</td>\n",
       "      <td>43079234</td>\n",
       "      <td>1315351</td>\n",
       "      <td>NaN</td>\n",
       "      <td>CONTRIBUTION</td>\n",
       "      <td>4022220191643459655</td>\n",
       "      <td>New</td>\n",
       "      <td>February monthly</td>\n",
       "      <td>Primary</td>\n",
       "      <td>2020</td>\n",
       "      <td>Contribution made to nonaffiliated committee</td>\n",
       "      <td>Candidate Committee</td>\n",
       "      <td>43079234</td>\n",
       "      <td>None</td>\n",
       "      <td>TILLIS, THOM R. SEN.</td>\n",
       "      <td>I</td>\n",
       "      <td>2</td>\n",
       "      <td>REP</td>\n",
       "      <td>8269271.66</td>\n",
       "      <td>1152018.96</td>\n",
       "      <td>3811302.27</td>\n",
       "      <td>6441.91</td>\n",
       "      <td>2025444.43</td>\n",
       "      <td>6483413.82</td>\n",
       "      <td>0.0</td>\n",
       "      <td>0.0</td>\n",
       "      <td>0.0</td>\n",
       "      <td>0.0</td>\n",
       "      <td>0.0</td>\n",
       "      <td>0.0</td>\n",
       "      <td>4798506.58</td>\n",
       "      <td>NC</td>\n",
       "      <td>00</td>\n",
       "      <td>NaN</td>\n",
       "      <td>NaN</td>\n",
       "      <td>NaN</td>\n",
       "      <td>NaN</td>\n",
       "      <td>NaN</td>\n",
       "      <td>2278244.39</td>\n",
       "      <td>0.0</td>\n",
       "      <td>06/09/2020</td>\n",
       "      <td>102493.33</td>\n",
       "      <td>14425.67</td>\n",
       "      <td>7117252.7</td>\n",
       "      <td>3804860.36</td>\n",
       "      <td>Incumbent</td>\n",
       "      <td>Republican Party</td>\n",
       "      <td>red</td>\n",
       "      <td>pink</td>\n",
       "      <td>MAIN STREET BANKING POLITICAL ACTION COMMITTEE</td>\n",
       "      <td>WILLIAMS, WADE</td>\n",
       "      <td>PO BOX 7427</td>\n",
       "      <td>NaN</td>\n",
       "      <td>ALEXANDRIA</td>\n",
       "      <td>VA</td>\n",
       "      <td>223077427</td>\n",
       "      <td>U</td>\n",
       "      <td>N</td>\n",
       "      <td>NaN</td>\n",
       "      <td>M</td>\n",
       "      <td>NaN</td>\n",
       "      <td>NONE</td>\n",
       "      <td>NaN</td>\n",
       "    </tr>\n",
       "    <tr>\n",
       "      <th>2</th>\n",
       "      <td>C00100107</td>\n",
       "      <td>N</td>\n",
       "      <td>M2</td>\n",
       "      <td>P2020</td>\n",
       "      <td>201902159145516138</td>\n",
       "      <td>24K</td>\n",
       "      <td>CCM</td>\n",
       "      <td>THOM TILLIS COMMITTEE</td>\n",
       "      <td>RALEIGH</td>\n",
       "      <td>NC</td>\n",
       "      <td>27624</td>\n",
       "      <td>NaN</td>\n",
       "      <td>NaN</td>\n",
       "      <td>2019-01-11</td>\n",
       "      <td>2500</td>\n",
       "      <td>C00545772</td>\n",
       "      <td>S4NC00162</td>\n",
       "      <td>156BA6A4BB1CA36FD35</td>\n",
       "      <td>1316037</td>\n",
       "      <td>NaN</td>\n",
       "      <td>NaN</td>\n",
       "      <td>4022720191644231227</td>\n",
       "      <td>New</td>\n",
       "      <td>February monthly</td>\n",
       "      <td>Primary</td>\n",
       "      <td>2020</td>\n",
       "      <td>Contribution made to nonaffiliated committee</td>\n",
       "      <td>Candidate Committee</td>\n",
       "      <td>156BA6A4BB1CA36FD35</td>\n",
       "      <td>None</td>\n",
       "      <td>TILLIS, THOM R. SEN.</td>\n",
       "      <td>I</td>\n",
       "      <td>2</td>\n",
       "      <td>REP</td>\n",
       "      <td>8269271.66</td>\n",
       "      <td>1152018.96</td>\n",
       "      <td>3811302.27</td>\n",
       "      <td>6441.91</td>\n",
       "      <td>2025444.43</td>\n",
       "      <td>6483413.82</td>\n",
       "      <td>0.0</td>\n",
       "      <td>0.0</td>\n",
       "      <td>0.0</td>\n",
       "      <td>0.0</td>\n",
       "      <td>0.0</td>\n",
       "      <td>0.0</td>\n",
       "      <td>4798506.58</td>\n",
       "      <td>NC</td>\n",
       "      <td>00</td>\n",
       "      <td>NaN</td>\n",
       "      <td>NaN</td>\n",
       "      <td>NaN</td>\n",
       "      <td>NaN</td>\n",
       "      <td>NaN</td>\n",
       "      <td>2278244.39</td>\n",
       "      <td>0.0</td>\n",
       "      <td>06/09/2020</td>\n",
       "      <td>102493.33</td>\n",
       "      <td>14425.67</td>\n",
       "      <td>7117252.7</td>\n",
       "      <td>3804860.36</td>\n",
       "      <td>Incumbent</td>\n",
       "      <td>Republican Party</td>\n",
       "      <td>red</td>\n",
       "      <td>pink</td>\n",
       "      <td>AMERICAN BEVERAGE ASSOCIATION POLITICAL ACTION...</td>\n",
       "      <td>HAMMOND, MARK N. MR.</td>\n",
       "      <td>1275 PENNSYLVANIA AVE NW</td>\n",
       "      <td>SUITE 1100</td>\n",
       "      <td>WASHINGTON</td>\n",
       "      <td>DC</td>\n",
       "      <td>20004</td>\n",
       "      <td>B</td>\n",
       "      <td>Q</td>\n",
       "      <td>NNE</td>\n",
       "      <td>M</td>\n",
       "      <td>T</td>\n",
       "      <td>AMERICAN BEVERAGE ASSOCIATION</td>\n",
       "      <td>NaN</td>\n",
       "    </tr>\n",
       "    <tr>\n",
       "      <th>3</th>\n",
       "      <td>C00214304</td>\n",
       "      <td>N</td>\n",
       "      <td>M2</td>\n",
       "      <td>G2020</td>\n",
       "      <td>201902199145530707</td>\n",
       "      <td>24K</td>\n",
       "      <td>CCM</td>\n",
       "      <td>THOM TILLIS COMMITTEE</td>\n",
       "      <td>RALEIGH</td>\n",
       "      <td>NC</td>\n",
       "      <td>27624</td>\n",
       "      <td>NaN</td>\n",
       "      <td>NaN</td>\n",
       "      <td>2019-01-08</td>\n",
       "      <td>2500</td>\n",
       "      <td>C00545772</td>\n",
       "      <td>S4NC00162</td>\n",
       "      <td>10001048</td>\n",
       "      <td>1316592</td>\n",
       "      <td>NaN</td>\n",
       "      <td>NaN</td>\n",
       "      <td>4022820191644627257</td>\n",
       "      <td>New</td>\n",
       "      <td>February monthly</td>\n",
       "      <td>General</td>\n",
       "      <td>2020</td>\n",
       "      <td>Contribution made to nonaffiliated committee</td>\n",
       "      <td>Candidate Committee</td>\n",
       "      <td>10001048</td>\n",
       "      <td>None</td>\n",
       "      <td>TILLIS, THOM R. SEN.</td>\n",
       "      <td>I</td>\n",
       "      <td>2</td>\n",
       "      <td>REP</td>\n",
       "      <td>8269271.66</td>\n",
       "      <td>1152018.96</td>\n",
       "      <td>3811302.27</td>\n",
       "      <td>6441.91</td>\n",
       "      <td>2025444.43</td>\n",
       "      <td>6483413.82</td>\n",
       "      <td>0.0</td>\n",
       "      <td>0.0</td>\n",
       "      <td>0.0</td>\n",
       "      <td>0.0</td>\n",
       "      <td>0.0</td>\n",
       "      <td>0.0</td>\n",
       "      <td>4798506.58</td>\n",
       "      <td>NC</td>\n",
       "      <td>00</td>\n",
       "      <td>NaN</td>\n",
       "      <td>NaN</td>\n",
       "      <td>NaN</td>\n",
       "      <td>NaN</td>\n",
       "      <td>NaN</td>\n",
       "      <td>2278244.39</td>\n",
       "      <td>0.0</td>\n",
       "      <td>06/09/2020</td>\n",
       "      <td>102493.33</td>\n",
       "      <td>14425.67</td>\n",
       "      <td>7117252.7</td>\n",
       "      <td>3804860.36</td>\n",
       "      <td>Incumbent</td>\n",
       "      <td>Republican Party</td>\n",
       "      <td>red</td>\n",
       "      <td>pink</td>\n",
       "      <td>AHOLD DELHAIZE USA, INC POLITICAL ACTION COMMI...</td>\n",
       "      <td>YOUNG, TEROSS WILLIEVICK</td>\n",
       "      <td>PO BOX 1330</td>\n",
       "      <td>2110 EXECUTIVE DRIVE</td>\n",
       "      <td>SALISBURY</td>\n",
       "      <td>NC</td>\n",
       "      <td>28145</td>\n",
       "      <td>U</td>\n",
       "      <td>Q</td>\n",
       "      <td>NaN</td>\n",
       "      <td>M</td>\n",
       "      <td>C</td>\n",
       "      <td>AHOLD DELHAIZE USA, INC.</td>\n",
       "      <td>NaN</td>\n",
       "    </tr>\n",
       "    <tr>\n",
       "      <th>4</th>\n",
       "      <td>C00144774</td>\n",
       "      <td>N</td>\n",
       "      <td>M2</td>\n",
       "      <td>P2020</td>\n",
       "      <td>201902199145526887</td>\n",
       "      <td>24K</td>\n",
       "      <td>CCM</td>\n",
       "      <td>THOM TILLIS COMMITTEE</td>\n",
       "      <td>RALEIGH</td>\n",
       "      <td>NC</td>\n",
       "      <td>27624</td>\n",
       "      <td>NaN</td>\n",
       "      <td>NaN</td>\n",
       "      <td>2019-01-09</td>\n",
       "      <td>5000</td>\n",
       "      <td>C00545772</td>\n",
       "      <td>S4NC00162</td>\n",
       "      <td>12654565</td>\n",
       "      <td>1316428</td>\n",
       "      <td>NaN</td>\n",
       "      <td>DIRECT CONTIRIBUTION</td>\n",
       "      <td>4022720191644226724</td>\n",
       "      <td>New</td>\n",
       "      <td>February monthly</td>\n",
       "      <td>Primary</td>\n",
       "      <td>2020</td>\n",
       "      <td>Contribution made to nonaffiliated committee</td>\n",
       "      <td>Candidate Committee</td>\n",
       "      <td>12654565</td>\n",
       "      <td>None</td>\n",
       "      <td>TILLIS, THOM R. SEN.</td>\n",
       "      <td>I</td>\n",
       "      <td>2</td>\n",
       "      <td>REP</td>\n",
       "      <td>8269271.66</td>\n",
       "      <td>1152018.96</td>\n",
       "      <td>3811302.27</td>\n",
       "      <td>6441.91</td>\n",
       "      <td>2025444.43</td>\n",
       "      <td>6483413.82</td>\n",
       "      <td>0.0</td>\n",
       "      <td>0.0</td>\n",
       "      <td>0.0</td>\n",
       "      <td>0.0</td>\n",
       "      <td>0.0</td>\n",
       "      <td>0.0</td>\n",
       "      <td>4798506.58</td>\n",
       "      <td>NC</td>\n",
       "      <td>00</td>\n",
       "      <td>NaN</td>\n",
       "      <td>NaN</td>\n",
       "      <td>NaN</td>\n",
       "      <td>NaN</td>\n",
       "      <td>NaN</td>\n",
       "      <td>2278244.39</td>\n",
       "      <td>0.0</td>\n",
       "      <td>06/09/2020</td>\n",
       "      <td>102493.33</td>\n",
       "      <td>14425.67</td>\n",
       "      <td>7117252.7</td>\n",
       "      <td>3804860.36</td>\n",
       "      <td>Incumbent</td>\n",
       "      <td>Republican Party</td>\n",
       "      <td>red</td>\n",
       "      <td>pink</td>\n",
       "      <td>SOUTHERN COMPANY EMPLOYEES PAC</td>\n",
       "      <td>CARDEN, LAURA B.</td>\n",
       "      <td>241 RALPH MCGILL BOULEVARD NE</td>\n",
       "      <td>BIN 10111</td>\n",
       "      <td>ATLANTA</td>\n",
       "      <td>GA</td>\n",
       "      <td>30308</td>\n",
       "      <td>B</td>\n",
       "      <td>Q</td>\n",
       "      <td>NaN</td>\n",
       "      <td>M</td>\n",
       "      <td>C</td>\n",
       "      <td>NaN</td>\n",
       "      <td>NaN</td>\n",
       "    </tr>\n",
       "  </tbody>\n",
       "</table>\n",
       "</div>"
      ],
      "text/plain": [
       "     CMTE_ID AMNDT_IND RPT_TP TRANSACTION_PGI           IMAGE_NUM  \\\n",
       "0  C00371385         N     M2               P  201902059145461441   \n",
       "1  C00551192         N     M2           P2020  201902119145496265   \n",
       "2  C00100107         N     M2           P2020  201902159145516138   \n",
       "3  C00214304         N     M2           G2020  201902199145530707   \n",
       "4  C00144774         N     M2           P2020  201902199145526887   \n",
       "\n",
       "  TRANSACTION_TP ENTITY_TP                   NAME     CITY STATE ZIP_CODE  \\\n",
       "0            24K       CCM  THOM TILLIS COMMITTEE  RALEIGH    NC    27624   \n",
       "1            24K       CCM  THOM TILLIS COMMITTEE  RALEIGH    NC    27624   \n",
       "2            24K       CCM  THOM TILLIS COMMITTEE  RALEIGH    NC    27624   \n",
       "3            24K       CCM  THOM TILLIS COMMITTEE  RALEIGH    NC    27624   \n",
       "4            24K       CCM  THOM TILLIS COMMITTEE  RALEIGH    NC    27624   \n",
       "\n",
       "  EMPLOYER OCCUPATION TRANSACTION_DT  TRANSACTION_AMT   OTHER_ID    CAND_ID  \\\n",
       "0      NaN        NaN     2019-01-09             5000  C00545772  S4NC00162   \n",
       "1      NaN        NaN     2019-01-28             2700  C00545772  S4NC00162   \n",
       "2      NaN        NaN     2019-01-11             2500  C00545772  S4NC00162   \n",
       "3      NaN        NaN     2019-01-08             2500  C00545772  S4NC00162   \n",
       "4      NaN        NaN     2019-01-09             5000  C00545772  S4NC00162   \n",
       "\n",
       "               TRAN_ID  FILE_NUM MEMO_CD             MEMO_TEXT  \\\n",
       "0            SB23.6145   1314334     NaN                   NaN   \n",
       "1             43079234   1315351     NaN          CONTRIBUTION   \n",
       "2  156BA6A4BB1CA36FD35   1316037     NaN                   NaN   \n",
       "3             10001048   1316592     NaN                   NaN   \n",
       "4             12654565   1316428     NaN  DIRECT CONTIRIBUTION   \n",
       "\n",
       "                SUB_ID AMNDT_IND_FULL       RPT_TP_FULL ELECTION_TYPE  \\\n",
       "0  4022620191643762260            New  February monthly       Primary   \n",
       "1  4022220191643459655            New  February monthly       Primary   \n",
       "2  4022720191644231227            New  February monthly       Primary   \n",
       "3  4022820191644627257            New  February monthly       General   \n",
       "4  4022720191644226724            New  February monthly       Primary   \n",
       "\n",
       "   ELECTION_YEAR                           TRANSACTION_TP_FULL  \\\n",
       "0              0  Contribution made to nonaffiliated committee   \n",
       "1           2020  Contribution made to nonaffiliated committee   \n",
       "2           2020  Contribution made to nonaffiliated committee   \n",
       "3           2020  Contribution made to nonaffiliated committee   \n",
       "4           2020  Contribution made to nonaffiliated committee   \n",
       "\n",
       "        ENTITY_TP_FULL       TRAN_ID_parent TRAN_ID_child  \\\n",
       "0  Candidate Committee                 SB23          6145   \n",
       "1  Candidate Committee             43079234          None   \n",
       "2  Candidate Committee  156BA6A4BB1CA36FD35          None   \n",
       "3  Candidate Committee             10001048          None   \n",
       "4  Candidate Committee             12654565          None   \n",
       "\n",
       "              CAND_NAME CAND_ICI  PTY_CD CAND_PTY_AFFILIATION  TTL_RECEIPTS  \\\n",
       "0  TILLIS, THOM R. SEN.        I       2                  REP    8269271.66   \n",
       "1  TILLIS, THOM R. SEN.        I       2                  REP    8269271.66   \n",
       "2  TILLIS, THOM R. SEN.        I       2                  REP    8269271.66   \n",
       "3  TILLIS, THOM R. SEN.        I       2                  REP    8269271.66   \n",
       "4  TILLIS, THOM R. SEN.        I       2                  REP    8269271.66   \n",
       "\n",
       "   TRANS_FROM_AUTH    TTL_DISB  TRANS_TO_AUTH     COH_BOP     COH_COP  \\\n",
       "0       1152018.96  3811302.27        6441.91  2025444.43  6483413.82   \n",
       "1       1152018.96  3811302.27        6441.91  2025444.43  6483413.82   \n",
       "2       1152018.96  3811302.27        6441.91  2025444.43  6483413.82   \n",
       "3       1152018.96  3811302.27        6441.91  2025444.43  6483413.82   \n",
       "4       1152018.96  3811302.27        6441.91  2025444.43  6483413.82   \n",
       "\n",
       "   CAND_CONTRIB  CAND_LOANS  OTHER_LOANS  CAND_LOAN_REPAY  OTHER_LOAN_REPAY  \\\n",
       "0           0.0         0.0          0.0              0.0               0.0   \n",
       "1           0.0         0.0          0.0              0.0               0.0   \n",
       "2           0.0         0.0          0.0              0.0               0.0   \n",
       "3           0.0         0.0          0.0              0.0               0.0   \n",
       "4           0.0         0.0          0.0              0.0               0.0   \n",
       "\n",
       "   DEBTS_OWED_BY  TTL_INDIV_CONTRIB CAND_OFFICE_ST CAND_OFFICE_DISTRICT  \\\n",
       "0            0.0         4798506.58             NC                   00   \n",
       "1            0.0         4798506.58             NC                   00   \n",
       "2            0.0         4798506.58             NC                   00   \n",
       "3            0.0         4798506.58             NC                   00   \n",
       "4            0.0         4798506.58             NC                   00   \n",
       "\n",
       "   SPEC_ELECTION  PRIM_ELECTION  RUN_ELECTION  GEN_ELECTION  \\\n",
       "0            NaN            NaN           NaN           NaN   \n",
       "1            NaN            NaN           NaN           NaN   \n",
       "2            NaN            NaN           NaN           NaN   \n",
       "3            NaN            NaN           NaN           NaN   \n",
       "4            NaN            NaN           NaN           NaN   \n",
       "\n",
       "   GEN_ELECTION_PRECENT  OTHER_POL_CMTE_CONTRIB  POL_PTY_CONTRIB  CVG_END_DT  \\\n",
       "0                   NaN              2278244.39              0.0  06/09/2020   \n",
       "1                   NaN              2278244.39              0.0  06/09/2020   \n",
       "2                   NaN              2278244.39              0.0  06/09/2020   \n",
       "3                   NaN              2278244.39              0.0  06/09/2020   \n",
       "4                   NaN              2278244.39              0.0  06/09/2020   \n",
       "\n",
       "   INDIV_REFUNDS  CMTE_REFUNDS  TTL_RECEIPTS_CORRECTED  TTL_DISB_CORRECTED  \\\n",
       "0      102493.33      14425.67               7117252.7          3804860.36   \n",
       "1      102493.33      14425.67               7117252.7          3804860.36   \n",
       "2      102493.33      14425.67               7117252.7          3804860.36   \n",
       "3      102493.33      14425.67               7117252.7          3804860.36   \n",
       "4      102493.33      14425.67               7117252.7          3804860.36   \n",
       "\n",
       "  CAND_ICI_FULL CAND_PTY_AFFILIATION_FULL color second_color  \\\n",
       "0     Incumbent          Republican Party   red         pink   \n",
       "1     Incumbent          Republican Party   red         pink   \n",
       "2     Incumbent          Republican Party   red         pink   \n",
       "3     Incumbent          Republican Party   red         pink   \n",
       "4     Incumbent          Republican Party   red         pink   \n",
       "\n",
       "                                             CMTE_NM  \\\n",
       "0                                   ALEX LEE INC PAC   \n",
       "1     MAIN STREET BANKING POLITICAL ACTION COMMITTEE   \n",
       "2  AMERICAN BEVERAGE ASSOCIATION POLITICAL ACTION...   \n",
       "3  AHOLD DELHAIZE USA, INC POLITICAL ACTION COMMI...   \n",
       "4                     SOUTHERN COMPANY EMPLOYEES PAC   \n",
       "\n",
       "                    TRES_NM                       CMTE_ST1  \\\n",
       "0      ALMQUIST, ANDREW MR.              120 4TH STREET SW   \n",
       "1            WILLIAMS, WADE                    PO BOX 7427   \n",
       "2      HAMMOND, MARK N. MR.       1275 PENNSYLVANIA AVE NW   \n",
       "3  YOUNG, TEROSS WILLIEVICK                    PO BOX 1330   \n",
       "4          CARDEN, LAURA B.  241 RALPH MCGILL BOULEVARD NE   \n",
       "\n",
       "               CMTE_ST2   CMTE_CITY CMTE_ST   CMTE_ZIP CMTE_DSGN CMTE_TP  \\\n",
       "0                   NaN     HICKORY      NC      28602         U       Q   \n",
       "1                   NaN  ALEXANDRIA      VA  223077427         U       N   \n",
       "2            SUITE 1100  WASHINGTON      DC      20004         B       Q   \n",
       "3  2110 EXECUTIVE DRIVE   SALISBURY      NC      28145         U       Q   \n",
       "4             BIN 10111     ATLANTA      GA      30308         B       Q   \n",
       "\n",
       "  CMTE_PTY_AFFILIATION CMTE_FILING_FREQ ORG_TP               CONNECTED_ORG_NM  \\\n",
       "0                  NaN                M      C                 ALEX LEE, INC.   \n",
       "1                  NaN                M    NaN                           NONE   \n",
       "2                  NNE                M      T  AMERICAN BEVERAGE ASSOCIATION   \n",
       "3                  NaN                M      C       AHOLD DELHAIZE USA, INC.   \n",
       "4                  NaN                M      C                            NaN   \n",
       "\n",
       "  CAND_ID_y  \n",
       "0       NaN  \n",
       "1       NaN  \n",
       "2       NaN  \n",
       "3       NaN  \n",
       "4       NaN  "
      ]
     },
     "execution_count": 31,
     "metadata": {},
     "output_type": "execute_result"
    }
   ],
   "source": [
    "contribs = committee_contribs[committee_contribs['TRANSACTION_TP'].isin(['24K', '24Z'])]\n",
    "contribs.head()"
   ]
  },
  {
   "cell_type": "markdown",
   "metadata": {
    "papermill": {
     "duration": 0.055811,
     "end_time": "2020-09-02T04:53:58.708243",
     "exception": false,
     "start_time": "2020-09-02T04:53:58.652432",
     "status": "completed"
    },
    "tags": []
   },
   "source": [
    "#### Here are the committees with the largest contributions"
   ]
  },
  {
   "cell_type": "code",
   "execution_count": 32,
   "metadata": {
    "_kg_hide-input": true,
    "execution": {
     "iopub.execute_input": "2020-09-02T04:53:58.830183Z",
     "iopub.status.busy": "2020-09-02T04:53:58.829103Z",
     "iopub.status.idle": "2020-09-02T04:53:58.849003Z",
     "shell.execute_reply": "2020-09-02T04:53:58.848315Z"
    },
    "papermill": {
     "duration": 0.084846,
     "end_time": "2020-09-02T04:53:58.849157",
     "exception": false,
     "start_time": "2020-09-02T04:53:58.764311",
     "status": "completed"
    },
    "tags": []
   },
   "outputs": [
    {
     "data": {
      "text/html": [
       "<div>\n",
       "<style scoped>\n",
       "    .dataframe tbody tr th:only-of-type {\n",
       "        vertical-align: middle;\n",
       "    }\n",
       "\n",
       "    .dataframe tbody tr th {\n",
       "        vertical-align: top;\n",
       "    }\n",
       "\n",
       "    .dataframe thead th {\n",
       "        text-align: right;\n",
       "    }\n",
       "</style>\n",
       "<table border=\"1\" class=\"dataframe\">\n",
       "  <thead>\n",
       "    <tr style=\"text-align: right;\">\n",
       "      <th></th>\n",
       "      <th>COMMITTEE_NAME</th>\n",
       "      <th>TRANSACTION_AMT</th>\n",
       "    </tr>\n",
       "  </thead>\n",
       "  <tbody>\n",
       "    <tr>\n",
       "      <th>0</th>\n",
       "      <td>DSCC</td>\n",
       "      <td>49.60K</td>\n",
       "    </tr>\n",
       "    <tr>\n",
       "      <th>1</th>\n",
       "      <td>NRSC</td>\n",
       "      <td>44.60K</td>\n",
       "    </tr>\n",
       "    <tr>\n",
       "      <th>2</th>\n",
       "      <td>JSTREETPAC</td>\n",
       "      <td>34.93K</td>\n",
       "    </tr>\n",
       "    <tr>\n",
       "      <th>3</th>\n",
       "      <td>ABBOTT LABORATORIES EMPLOYEE POLITICAL ACTION ...</td>\n",
       "      <td>10.00K</td>\n",
       "    </tr>\n",
       "    <tr>\n",
       "      <th>4</th>\n",
       "      <td>ALL FOR OUR COUNTRY LEADERSHIP PAC</td>\n",
       "      <td>10.00K</td>\n",
       "    </tr>\n",
       "    <tr>\n",
       "      <th>5</th>\n",
       "      <td>ALLERGAN, INC. POLITICAL ACTION COMMITTEE</td>\n",
       "      <td>10.00K</td>\n",
       "    </tr>\n",
       "    <tr>\n",
       "      <th>6</th>\n",
       "      <td>AMERICAN BANKERS ASSOCIATION PAC (BANKPAC)</td>\n",
       "      <td>10.00K</td>\n",
       "    </tr>\n",
       "    <tr>\n",
       "      <th>7</th>\n",
       "      <td>ANADARKO PETROLEUM CORPORATION POLITICAL ACTIO...</td>\n",
       "      <td>10.00K</td>\n",
       "    </tr>\n",
       "    <tr>\n",
       "      <th>8</th>\n",
       "      <td>ARKANSAS FOR LEADERSHIP POLITICAL ACTION COMMI...</td>\n",
       "      <td>10.00K</td>\n",
       "    </tr>\n",
       "    <tr>\n",
       "      <th>9</th>\n",
       "      <td>ASSOCIATED BUILDERS AND CONTRACTORS, INC. POLI...</td>\n",
       "      <td>10.00K</td>\n",
       "    </tr>\n",
       "  </tbody>\n",
       "</table>\n",
       "</div>"
      ],
      "text/plain": [
       "                                      COMMITTEE_NAME TRANSACTION_AMT\n",
       "0                                               DSCC          49.60K\n",
       "1                                               NRSC          44.60K\n",
       "2                                         JSTREETPAC          34.93K\n",
       "3  ABBOTT LABORATORIES EMPLOYEE POLITICAL ACTION ...          10.00K\n",
       "4                 ALL FOR OUR COUNTRY LEADERSHIP PAC          10.00K\n",
       "5          ALLERGAN, INC. POLITICAL ACTION COMMITTEE          10.00K\n",
       "6         AMERICAN BANKERS ASSOCIATION PAC (BANKPAC)          10.00K\n",
       "7  ANADARKO PETROLEUM CORPORATION POLITICAL ACTIO...          10.00K\n",
       "8  ARKANSAS FOR LEADERSHIP POLITICAL ACTION COMMI...          10.00K\n",
       "9  ASSOCIATED BUILDERS AND CONTRACTORS, INC. POLI...          10.00K"
      ]
     },
     "execution_count": 32,
     "metadata": {},
     "output_type": "execute_result"
    }
   ],
   "source": [
    "largest_contribs = contribs.groupby('CMTE_NM').agg(\n",
    "    {'TRANSACTION_AMT': 'sum'})['TRANSACTION_AMT'].nlargest(10).reset_index()\n",
    "\n",
    "largest_contribs['TRANSACTION_AMT'] = largest_contribs['TRANSACTION_AMT'].map(lambda x: render_human_format(x))\n",
    "\n",
    "largest_contribs.rename({'CMTE_NM': 'COMMITTEE_NAME'}, axis=1)"
   ]
  },
  {
   "cell_type": "code",
   "execution_count": 33,
   "metadata": {
    "_kg_hide-input": true,
    "execution": {
     "iopub.execute_input": "2020-09-02T04:53:58.983439Z",
     "iopub.status.busy": "2020-09-02T04:53:58.975641Z",
     "iopub.status.idle": "2020-09-02T04:53:59.029134Z",
     "shell.execute_reply": "2020-09-02T04:53:59.028412Z"
    },
    "papermill": {
     "duration": 0.122558,
     "end_time": "2020-09-02T04:53:59.029280",
     "exception": false,
     "start_time": "2020-09-02T04:53:58.906722",
     "status": "completed"
    },
    "tags": []
   },
   "outputs": [
    {
     "name": "stdout",
     "output_type": "stream",
     "text": [
      "------------------------------------------------------------\n",
      "Committees with most contributions for CUNNINGHAM, CAL\n",
      "------------------------------------------------------------\n"
     ]
    },
    {
     "data": {
      "text/html": [
       "<div>\n",
       "<style scoped>\n",
       "    .dataframe tbody tr th:only-of-type {\n",
       "        vertical-align: middle;\n",
       "    }\n",
       "\n",
       "    .dataframe tbody tr th {\n",
       "        vertical-align: top;\n",
       "    }\n",
       "\n",
       "    .dataframe thead th {\n",
       "        text-align: right;\n",
       "    }\n",
       "</style>\n",
       "<table border=\"1\" class=\"dataframe\">\n",
       "  <thead>\n",
       "    <tr style=\"text-align: right;\">\n",
       "      <th></th>\n",
       "      <th>COMMITTEE_NAME</th>\n",
       "      <th>TRANSACTION_AMT</th>\n",
       "    </tr>\n",
       "  </thead>\n",
       "  <tbody>\n",
       "    <tr>\n",
       "      <th>0</th>\n",
       "      <td>DSCC</td>\n",
       "      <td>49.60K</td>\n",
       "    </tr>\n",
       "    <tr>\n",
       "      <th>1</th>\n",
       "      <td>JSTREETPAC</td>\n",
       "      <td>34.93K</td>\n",
       "    </tr>\n",
       "    <tr>\n",
       "      <th>2</th>\n",
       "      <td>ALL FOR OUR COUNTRY LEADERSHIP PAC</td>\n",
       "      <td>10.00K</td>\n",
       "    </tr>\n",
       "    <tr>\n",
       "      <th>3</th>\n",
       "      <td>COMMON GROUND PAC</td>\n",
       "      <td>10.00K</td>\n",
       "    </tr>\n",
       "    <tr>\n",
       "      <th>4</th>\n",
       "      <td>COMMUNICATIONS WORKERS OF AMERICA-COPE POLITIC...</td>\n",
       "      <td>10.00K</td>\n",
       "    </tr>\n",
       "    <tr>\n",
       "      <th>5</th>\n",
       "      <td>FIRST STATE PAC</td>\n",
       "      <td>10.00K</td>\n",
       "    </tr>\n",
       "    <tr>\n",
       "      <th>6</th>\n",
       "      <td>FORWARD TOGETHER PAC</td>\n",
       "      <td>10.00K</td>\n",
       "    </tr>\n",
       "    <tr>\n",
       "      <th>7</th>\n",
       "      <td>GETTING STUFF DONE PAC (GSD-PAC)</td>\n",
       "      <td>10.00K</td>\n",
       "    </tr>\n",
       "    <tr>\n",
       "      <th>8</th>\n",
       "      <td>HAWAII PAC</td>\n",
       "      <td>10.00K</td>\n",
       "    </tr>\n",
       "    <tr>\n",
       "      <th>9</th>\n",
       "      <td>HOOPS PAC</td>\n",
       "      <td>10.00K</td>\n",
       "    </tr>\n",
       "  </tbody>\n",
       "</table>\n",
       "</div>"
      ],
      "text/plain": [
       "                                      COMMITTEE_NAME TRANSACTION_AMT\n",
       "0                                               DSCC          49.60K\n",
       "1                                         JSTREETPAC          34.93K\n",
       "2                 ALL FOR OUR COUNTRY LEADERSHIP PAC          10.00K\n",
       "3                                  COMMON GROUND PAC          10.00K\n",
       "4  COMMUNICATIONS WORKERS OF AMERICA-COPE POLITIC...          10.00K\n",
       "5                                    FIRST STATE PAC          10.00K\n",
       "6                               FORWARD TOGETHER PAC          10.00K\n",
       "7                   GETTING STUFF DONE PAC (GSD-PAC)          10.00K\n",
       "8                                         HAWAII PAC          10.00K\n",
       "9                                          HOOPS PAC          10.00K"
      ]
     },
     "metadata": {},
     "output_type": "display_data"
    },
    {
     "name": "stdout",
     "output_type": "stream",
     "text": [
      "------------------------------------------------------------\n",
      "Committees with most contributions for TILLIS, THOM R. SEN.\n",
      "------------------------------------------------------------\n"
     ]
    },
    {
     "data": {
      "text/html": [
       "<div>\n",
       "<style scoped>\n",
       "    .dataframe tbody tr th:only-of-type {\n",
       "        vertical-align: middle;\n",
       "    }\n",
       "\n",
       "    .dataframe tbody tr th {\n",
       "        vertical-align: top;\n",
       "    }\n",
       "\n",
       "    .dataframe thead th {\n",
       "        text-align: right;\n",
       "    }\n",
       "</style>\n",
       "<table border=\"1\" class=\"dataframe\">\n",
       "  <thead>\n",
       "    <tr style=\"text-align: right;\">\n",
       "      <th></th>\n",
       "      <th>COMMITTEE_NAME</th>\n",
       "      <th>TRANSACTION_AMT</th>\n",
       "    </tr>\n",
       "  </thead>\n",
       "  <tbody>\n",
       "    <tr>\n",
       "      <th>0</th>\n",
       "      <td>NRSC</td>\n",
       "      <td>44.60K</td>\n",
       "    </tr>\n",
       "    <tr>\n",
       "      <th>1</th>\n",
       "      <td>ABBOTT LABORATORIES EMPLOYEE POLITICAL ACTION ...</td>\n",
       "      <td>10.00K</td>\n",
       "    </tr>\n",
       "    <tr>\n",
       "      <th>2</th>\n",
       "      <td>ALLERGAN, INC. POLITICAL ACTION COMMITTEE</td>\n",
       "      <td>10.00K</td>\n",
       "    </tr>\n",
       "    <tr>\n",
       "      <th>3</th>\n",
       "      <td>AMERICAN BANKERS ASSOCIATION PAC (BANKPAC)</td>\n",
       "      <td>10.00K</td>\n",
       "    </tr>\n",
       "    <tr>\n",
       "      <th>4</th>\n",
       "      <td>ANADARKO PETROLEUM CORPORATION POLITICAL ACTIO...</td>\n",
       "      <td>10.00K</td>\n",
       "    </tr>\n",
       "    <tr>\n",
       "      <th>5</th>\n",
       "      <td>ARKANSAS FOR LEADERSHIP POLITICAL ACTION COMMI...</td>\n",
       "      <td>10.00K</td>\n",
       "    </tr>\n",
       "    <tr>\n",
       "      <th>6</th>\n",
       "      <td>ASSOCIATED BUILDERS AND CONTRACTORS, INC. POLI...</td>\n",
       "      <td>10.00K</td>\n",
       "    </tr>\n",
       "    <tr>\n",
       "      <th>7</th>\n",
       "      <td>ASSOCIATION OF KENTUCKY FRIED CHICKEN FRANCHIS...</td>\n",
       "      <td>10.00K</td>\n",
       "    </tr>\n",
       "    <tr>\n",
       "      <th>8</th>\n",
       "      <td>BANK POLICY INSTITUTE PAC</td>\n",
       "      <td>10.00K</td>\n",
       "    </tr>\n",
       "    <tr>\n",
       "      <th>9</th>\n",
       "      <td>BBVA USA BANCSHARES, INC. PAC</td>\n",
       "      <td>10.00K</td>\n",
       "    </tr>\n",
       "  </tbody>\n",
       "</table>\n",
       "</div>"
      ],
      "text/plain": [
       "                                      COMMITTEE_NAME TRANSACTION_AMT\n",
       "0                                               NRSC          44.60K\n",
       "1  ABBOTT LABORATORIES EMPLOYEE POLITICAL ACTION ...          10.00K\n",
       "2          ALLERGAN, INC. POLITICAL ACTION COMMITTEE          10.00K\n",
       "3         AMERICAN BANKERS ASSOCIATION PAC (BANKPAC)          10.00K\n",
       "4  ANADARKO PETROLEUM CORPORATION POLITICAL ACTIO...          10.00K\n",
       "5  ARKANSAS FOR LEADERSHIP POLITICAL ACTION COMMI...          10.00K\n",
       "6  ASSOCIATED BUILDERS AND CONTRACTORS, INC. POLI...          10.00K\n",
       "7  ASSOCIATION OF KENTUCKY FRIED CHICKEN FRANCHIS...          10.00K\n",
       "8                          BANK POLICY INSTITUTE PAC          10.00K\n",
       "9                      BBVA USA BANCSHARES, INC. PAC          10.00K"
      ]
     },
     "metadata": {},
     "output_type": "display_data"
    }
   ],
   "source": [
    "from IPython.display import display\n",
    "for cand_name in candidates['CAND_NAME'].unique():\n",
    "    print(\"-\"*60)\n",
    "    print(f\"Committees with most contributions for {cand_name}\")\n",
    "    print(\"-\"*60)\n",
    "    df = contribs[(contribs['CAND_NAME'] == cand_name)]\n",
    "    result = pd.DataFrame(df[['CMTE_NM', 'TRANSACTION_AMT']].groupby(['CMTE_NM']).agg({'TRANSACTION_AMT': 'sum'})['TRANSACTION_AMT'].nlargest(10)).reset_index().rename({'CMTE_NM': 'COMMITTEE_NAME'}, axis=1)\n",
    "    result['TRANSACTION_AMT'] = result['TRANSACTION_AMT'].map(lambda x: render_human_format(x))\n",
    "    display(result)"
   ]
  },
  {
   "cell_type": "code",
   "execution_count": 34,
   "metadata": {
    "_kg_hide-input": true,
    "execution": {
     "iopub.execute_input": "2020-09-02T04:53:59.159351Z",
     "iopub.status.busy": "2020-09-02T04:53:59.158479Z",
     "iopub.status.idle": "2020-09-02T04:53:59.283525Z",
     "shell.execute_reply": "2020-09-02T04:53:59.284171Z"
    },
    "papermill": {
     "duration": 0.196707,
     "end_time": "2020-09-02T04:53:59.284350",
     "exception": false,
     "start_time": "2020-09-02T04:53:59.087643",
     "status": "completed"
    },
    "tags": []
   },
   "outputs": [
    {
     "data": {
      "application/vnd.plotly.v1+json": {
       "config": {
        "linkText": "Export to plot.ly",
        "plotlyServerURL": "https://plot.ly",
        "showLink": true
       },
       "data": [
        {
         "line": {
          "color": "blue",
          "dash": "solid",
          "shape": "linear",
          "width": 1.3
         },
         "mode": "lines",
         "name": "CUNNINGHAM, CAL",
         "text": "",
         "type": "scatter",
         "x": [
          "2019-01-07",
          "2019-01-08",
          "2019-01-09",
          "2019-01-10",
          "2019-01-11",
          "2019-01-18",
          "2019-01-21",
          "2019-01-22",
          "2019-01-23",
          "2019-01-25",
          "2019-01-28",
          "2019-01-29",
          "2019-02-01",
          "2019-02-04",
          "2019-02-05",
          "2019-02-06",
          "2019-02-07",
          "2019-02-08",
          "2019-02-11",
          "2019-02-13",
          "2019-02-15",
          "2019-02-19",
          "2019-02-20",
          "2019-02-21",
          "2019-02-22",
          "2019-02-25",
          "2019-02-26",
          "2019-02-27",
          "2019-02-28",
          "2019-03-01",
          "2019-03-04",
          "2019-03-05",
          "2019-03-06",
          "2019-03-07",
          "2019-03-08",
          "2019-03-11",
          "2019-03-12",
          "2019-03-13",
          "2019-03-14",
          "2019-03-15",
          "2019-03-18",
          "2019-03-19",
          "2019-03-20",
          "2019-03-21",
          "2019-03-22",
          "2019-03-25",
          "2019-03-26",
          "2019-03-27",
          "2019-03-28",
          "2019-03-29",
          "2019-04-01",
          "2019-04-02",
          "2019-04-03",
          "2019-04-04",
          "2019-04-05",
          "2019-04-08",
          "2019-04-09",
          "2019-04-10",
          "2019-04-11",
          "2019-04-12",
          "2019-04-15",
          "2019-04-16",
          "2019-04-18",
          "2019-04-22",
          "2019-04-23",
          "2019-04-24",
          "2019-04-25",
          "2019-04-26",
          "2019-04-29",
          "2019-04-30",
          "2019-05-01",
          "2019-05-02",
          "2019-05-03",
          "2019-05-06",
          "2019-05-07",
          "2019-05-08",
          "2019-05-09",
          "2019-05-10",
          "2019-05-13",
          "2019-05-14",
          "2019-05-15",
          "2019-05-16",
          "2019-05-17",
          "2019-05-20",
          "2019-05-21",
          "2019-05-22",
          "2019-05-23",
          "2019-05-24",
          "2019-05-28",
          "2019-05-29",
          "2019-05-30",
          "2019-05-31",
          "2019-06-03",
          "2019-06-04",
          "2019-06-05",
          "2019-06-06",
          "2019-06-07",
          "2019-06-10",
          "2019-06-11",
          "2019-06-12",
          "2019-06-13",
          "2019-06-14",
          "2019-06-17",
          "2019-06-18",
          "2019-06-19",
          "2019-06-20",
          "2019-06-21",
          "2019-06-24",
          "2019-06-25",
          "2019-06-26",
          "2019-06-27",
          "2019-06-28",
          "2019-06-29",
          "2019-07-01",
          "2019-07-03",
          "2019-07-08",
          "2019-07-09",
          "2019-07-10",
          "2019-07-11",
          "2019-07-15",
          "2019-07-16",
          "2019-07-17",
          "2019-07-18",
          "2019-07-19",
          "2019-07-22",
          "2019-07-23",
          "2019-07-24",
          "2019-07-25",
          "2019-07-26",
          "2019-07-29",
          "2019-07-30",
          "2019-07-31",
          "2019-08-01",
          "2019-08-02",
          "2019-08-05",
          "2019-08-06",
          "2019-08-08",
          "2019-08-09",
          "2019-08-12",
          "2019-08-14",
          "2019-08-15",
          "2019-08-19",
          "2019-08-20",
          "2019-08-21",
          "2019-08-22",
          "2019-08-24",
          "2019-08-26",
          "2019-08-27",
          "2019-08-29",
          "2019-08-30",
          "2019-09-03",
          "2019-09-04",
          "2019-09-09",
          "2019-09-10",
          "2019-09-11",
          "2019-09-12",
          "2019-09-13",
          "2019-09-16",
          "2019-09-17",
          "2019-09-18",
          "2019-09-19",
          "2019-09-20",
          "2019-09-23",
          "2019-09-24",
          "2019-09-25",
          "2019-09-26",
          "2019-09-27",
          "2019-09-30",
          "2019-10-01",
          "2019-10-03",
          "2019-10-07",
          "2019-10-10",
          "2019-10-14",
          "2019-10-15",
          "2019-10-16",
          "2019-10-21",
          "2019-10-22",
          "2019-10-23",
          "2019-10-24",
          "2019-10-25",
          "2019-10-28",
          "2019-10-29",
          "2019-10-31",
          "2019-11-01",
          "2019-11-04",
          "2019-11-05",
          "2019-11-06",
          "2019-11-07",
          "2019-11-08",
          "2019-11-12",
          "2019-11-13",
          "2019-11-14",
          "2019-11-15",
          "2019-11-18",
          "2019-11-19",
          "2019-11-20",
          "2019-11-21",
          "2019-11-22",
          "2019-11-23",
          "2019-11-24",
          "2019-11-25",
          "2019-11-26",
          "2019-11-27",
          "2019-12-02",
          "2019-12-03",
          "2019-12-04",
          "2019-12-05",
          "2019-12-06",
          "2019-12-07",
          "2019-12-09",
          "2019-12-10",
          "2019-12-11",
          "2019-12-12",
          "2019-12-13",
          "2019-12-16",
          "2019-12-17",
          "2019-12-18",
          "2019-12-19",
          "2019-12-20",
          "2019-12-23",
          "2019-12-26",
          "2019-12-27",
          "2019-12-29",
          "2019-12-30",
          "2019-12-31",
          "2020-01-03",
          "2020-01-06",
          "2020-01-07",
          "2020-01-08",
          "2020-01-10",
          "2020-01-13",
          "2020-01-14",
          "2020-01-15",
          "2020-01-16",
          "2020-01-17",
          "2020-01-22",
          "2020-01-23",
          "2020-01-27",
          "2020-01-28",
          "2020-01-29",
          "2020-01-30",
          "2020-01-31",
          "2020-02-03",
          "2020-02-04",
          "2020-02-05",
          "2020-02-06",
          "2020-02-07",
          "2020-02-08",
          "2020-02-10",
          "2020-02-11",
          "2020-02-12",
          "2020-02-13",
          "2020-02-14",
          "2020-02-15",
          "2020-02-17",
          "2020-02-18",
          "2020-02-19",
          "2020-02-20",
          "2020-02-21",
          "2020-02-24",
          "2020-02-25",
          "2020-02-26",
          "2020-02-27",
          "2020-02-28",
          "2020-03-01",
          "2020-03-02",
          "2020-03-03",
          "2020-03-04",
          "2020-03-05",
          "2020-03-06",
          "2020-03-09",
          "2020-03-10",
          "2020-03-11",
          "2020-03-12",
          "2020-03-13",
          "2020-03-15",
          "2020-03-16",
          "2020-03-17",
          "2020-03-18",
          "2020-03-20",
          "2020-03-23",
          "2020-03-24",
          "2020-03-26",
          "2020-03-27",
          "2020-03-28",
          "2020-03-29",
          "2020-03-30",
          "2020-03-31",
          "2020-04-02",
          "2020-04-06",
          "2020-04-08",
          "2020-04-09",
          "2020-04-13",
          "2020-04-14",
          "2020-04-16",
          "2020-04-20",
          "2020-04-23",
          "2020-04-24",
          "2020-04-27",
          "2020-04-29",
          "2020-04-30",
          "2020-05-07",
          "2020-05-08",
          "2020-05-11",
          "2020-05-13",
          "2020-05-14",
          "2020-05-15",
          "2020-05-16",
          "2020-05-18",
          "2020-05-19",
          "2020-05-20",
          "2020-05-21",
          "2020-05-22",
          "2020-05-26",
          "2020-05-27",
          "2020-05-28",
          "2020-05-29",
          "2020-06-11",
          "2020-06-15",
          "2020-06-18",
          "2020-06-22",
          "2020-06-23",
          "2020-06-24",
          "2020-06-26",
          "2020-06-30"
         ],
         "y": [
          0,
          0,
          0,
          0,
          0,
          0,
          0,
          0,
          0,
          0,
          0,
          0,
          0,
          0,
          0,
          0,
          0,
          0,
          0,
          0,
          0,
          0,
          0,
          0,
          0,
          0,
          0,
          0,
          0,
          0,
          0,
          0,
          0,
          0,
          0,
          0,
          0,
          0,
          0,
          0,
          0,
          0,
          0,
          0,
          0,
          0,
          0,
          0,
          0,
          0,
          0,
          0,
          0,
          0,
          0,
          0,
          0,
          0,
          0,
          0,
          0,
          0,
          0,
          0,
          0,
          0,
          0,
          0,
          0,
          0,
          0,
          0,
          0,
          0,
          0,
          0,
          0,
          0,
          0,
          0,
          0,
          0,
          0,
          0,
          0,
          0,
          0,
          0,
          0,
          0,
          0,
          0,
          0,
          0,
          0,
          0,
          0,
          0,
          0,
          0,
          0,
          0,
          0,
          0,
          0,
          0,
          0,
          0,
          5000,
          5000,
          17500,
          20000,
          20000,
          20000,
          20000,
          20000,
          20000,
          20000,
          20000,
          20000,
          20000,
          20000,
          20000,
          20000,
          25000,
          25000,
          35000,
          35000,
          35000,
          35000,
          35000,
          35090,
          35090,
          35090,
          35090,
          35090,
          40090,
          40090,
          40090,
          40090,
          40090,
          40090,
          40090,
          40090,
          40090,
          40090,
          40090,
          40090,
          40090,
          40090,
          40090,
          40090,
          40090,
          40090,
          40090,
          40090,
          40090,
          40090,
          40090,
          40090,
          48590,
          48590,
          48590,
          53590,
          72590,
          87590,
          107590,
          159590,
          162090,
          162090,
          164590,
          164590,
          164590,
          164590,
          164590,
          164590,
          164590,
          164590,
          165590,
          166090,
          166090,
          166090,
          166090,
          166090,
          168590,
          168590,
          168590,
          168590,
          168590,
          168590,
          168590,
          168590,
          168590,
          170590,
          170590,
          170590,
          170590,
          170590,
          170590,
          170590,
          170590,
          175590,
          175590,
          180590,
          180590,
          180590,
          180590,
          180590,
          180590,
          184090,
          184090,
          186590,
          186590,
          189090,
          191890,
          191890,
          246490,
          261490,
          271490,
          278990,
          278990,
          281490,
          281490,
          286490,
          286490,
          286490,
          286490,
          286490,
          291490,
          291490,
          291490,
          291490,
          291490,
          291490,
          291490,
          291490,
          291490,
          291490,
          291490,
          291490,
          293990,
          293990,
          293990,
          293990,
          293990,
          298990,
          308990,
          308990,
          311490,
          311490,
          311490,
          311490,
          311490,
          311555,
          311555,
          311555,
          314055,
          319067,
          324067,
          334067,
          345398,
          347898,
          347898,
          347898,
          352898,
          362898,
          362898,
          370398,
          370398,
          370398,
          370398,
          370398,
          370398,
          370398,
          370398,
          370398,
          370398,
          380398,
          380398,
          380398,
          392398,
          399898,
          403398,
          403398,
          405898,
          405898,
          409698,
          414698,
          423998,
          423998,
          427081,
          427081,
          427081,
          432081,
          438131,
          438131,
          447057,
          447057,
          447057,
          447057,
          460132,
          460132,
          460132,
          462632,
          462632,
          462632,
          462632,
          462632,
          462632,
          462632,
          462632,
          465132,
          465132,
          465132,
          465132,
          469132,
          469132,
          469132,
          469132,
          469132,
          471632,
          471632,
          471632,
          471632,
          472632
         ]
        },
        {
         "line": {
          "color": "red",
          "dash": "solid",
          "shape": "linear",
          "width": 1.3
         },
         "mode": "lines",
         "name": "TILLIS, THOM R. SEN.",
         "text": "",
         "type": "scatter",
         "x": [
          "2019-01-07",
          "2019-01-08",
          "2019-01-09",
          "2019-01-10",
          "2019-01-11",
          "2019-01-18",
          "2019-01-21",
          "2019-01-22",
          "2019-01-23",
          "2019-01-25",
          "2019-01-28",
          "2019-01-29",
          "2019-02-01",
          "2019-02-04",
          "2019-02-05",
          "2019-02-06",
          "2019-02-07",
          "2019-02-08",
          "2019-02-11",
          "2019-02-13",
          "2019-02-15",
          "2019-02-19",
          "2019-02-20",
          "2019-02-21",
          "2019-02-22",
          "2019-02-25",
          "2019-02-26",
          "2019-02-27",
          "2019-02-28",
          "2019-03-01",
          "2019-03-04",
          "2019-03-05",
          "2019-03-06",
          "2019-03-07",
          "2019-03-08",
          "2019-03-11",
          "2019-03-12",
          "2019-03-13",
          "2019-03-14",
          "2019-03-15",
          "2019-03-18",
          "2019-03-19",
          "2019-03-20",
          "2019-03-21",
          "2019-03-22",
          "2019-03-25",
          "2019-03-26",
          "2019-03-27",
          "2019-03-28",
          "2019-03-29",
          "2019-04-01",
          "2019-04-02",
          "2019-04-03",
          "2019-04-04",
          "2019-04-05",
          "2019-04-08",
          "2019-04-09",
          "2019-04-10",
          "2019-04-11",
          "2019-04-12",
          "2019-04-15",
          "2019-04-16",
          "2019-04-18",
          "2019-04-22",
          "2019-04-23",
          "2019-04-24",
          "2019-04-25",
          "2019-04-26",
          "2019-04-29",
          "2019-04-30",
          "2019-05-01",
          "2019-05-02",
          "2019-05-03",
          "2019-05-06",
          "2019-05-07",
          "2019-05-08",
          "2019-05-09",
          "2019-05-10",
          "2019-05-13",
          "2019-05-14",
          "2019-05-15",
          "2019-05-16",
          "2019-05-17",
          "2019-05-20",
          "2019-05-21",
          "2019-05-22",
          "2019-05-23",
          "2019-05-24",
          "2019-05-28",
          "2019-05-29",
          "2019-05-30",
          "2019-05-31",
          "2019-06-03",
          "2019-06-04",
          "2019-06-05",
          "2019-06-06",
          "2019-06-07",
          "2019-06-10",
          "2019-06-11",
          "2019-06-12",
          "2019-06-13",
          "2019-06-14",
          "2019-06-17",
          "2019-06-18",
          "2019-06-19",
          "2019-06-20",
          "2019-06-21",
          "2019-06-24",
          "2019-06-25",
          "2019-06-26",
          "2019-06-27",
          "2019-06-28",
          "2019-06-29",
          "2019-07-01",
          "2019-07-03",
          "2019-07-08",
          "2019-07-09",
          "2019-07-10",
          "2019-07-11",
          "2019-07-15",
          "2019-07-16",
          "2019-07-17",
          "2019-07-18",
          "2019-07-19",
          "2019-07-22",
          "2019-07-23",
          "2019-07-24",
          "2019-07-25",
          "2019-07-26",
          "2019-07-29",
          "2019-07-30",
          "2019-07-31",
          "2019-08-01",
          "2019-08-02",
          "2019-08-05",
          "2019-08-06",
          "2019-08-08",
          "2019-08-09",
          "2019-08-12",
          "2019-08-14",
          "2019-08-15",
          "2019-08-19",
          "2019-08-20",
          "2019-08-21",
          "2019-08-22",
          "2019-08-24",
          "2019-08-26",
          "2019-08-27",
          "2019-08-29",
          "2019-08-30",
          "2019-09-03",
          "2019-09-04",
          "2019-09-09",
          "2019-09-10",
          "2019-09-11",
          "2019-09-12",
          "2019-09-13",
          "2019-09-16",
          "2019-09-17",
          "2019-09-18",
          "2019-09-19",
          "2019-09-20",
          "2019-09-23",
          "2019-09-24",
          "2019-09-25",
          "2019-09-26",
          "2019-09-27",
          "2019-09-30",
          "2019-10-01",
          "2019-10-03",
          "2019-10-07",
          "2019-10-10",
          "2019-10-14",
          "2019-10-15",
          "2019-10-16",
          "2019-10-21",
          "2019-10-22",
          "2019-10-23",
          "2019-10-24",
          "2019-10-25",
          "2019-10-28",
          "2019-10-29",
          "2019-10-31",
          "2019-11-01",
          "2019-11-04",
          "2019-11-05",
          "2019-11-06",
          "2019-11-07",
          "2019-11-08",
          "2019-11-12",
          "2019-11-13",
          "2019-11-14",
          "2019-11-15",
          "2019-11-18",
          "2019-11-19",
          "2019-11-20",
          "2019-11-21",
          "2019-11-22",
          "2019-11-23",
          "2019-11-24",
          "2019-11-25",
          "2019-11-26",
          "2019-11-27",
          "2019-12-02",
          "2019-12-03",
          "2019-12-04",
          "2019-12-05",
          "2019-12-06",
          "2019-12-07",
          "2019-12-09",
          "2019-12-10",
          "2019-12-11",
          "2019-12-12",
          "2019-12-13",
          "2019-12-16",
          "2019-12-17",
          "2019-12-18",
          "2019-12-19",
          "2019-12-20",
          "2019-12-23",
          "2019-12-26",
          "2019-12-27",
          "2019-12-29",
          "2019-12-30",
          "2019-12-31",
          "2020-01-03",
          "2020-01-06",
          "2020-01-07",
          "2020-01-08",
          "2020-01-10",
          "2020-01-13",
          "2020-01-14",
          "2020-01-15",
          "2020-01-16",
          "2020-01-17",
          "2020-01-22",
          "2020-01-23",
          "2020-01-27",
          "2020-01-28",
          "2020-01-29",
          "2020-01-30",
          "2020-01-31",
          "2020-02-03",
          "2020-02-04",
          "2020-02-05",
          "2020-02-06",
          "2020-02-07",
          "2020-02-08",
          "2020-02-10",
          "2020-02-11",
          "2020-02-12",
          "2020-02-13",
          "2020-02-14",
          "2020-02-15",
          "2020-02-17",
          "2020-02-18",
          "2020-02-19",
          "2020-02-20",
          "2020-02-21",
          "2020-02-24",
          "2020-02-25",
          "2020-02-26",
          "2020-02-27",
          "2020-02-28",
          "2020-03-01",
          "2020-03-02",
          "2020-03-03",
          "2020-03-04",
          "2020-03-05",
          "2020-03-06",
          "2020-03-09",
          "2020-03-10",
          "2020-03-11",
          "2020-03-12",
          "2020-03-13",
          "2020-03-15",
          "2020-03-16",
          "2020-03-17",
          "2020-03-18",
          "2020-03-20",
          "2020-03-23",
          "2020-03-24",
          "2020-03-26",
          "2020-03-27",
          "2020-03-28",
          "2020-03-29",
          "2020-03-30",
          "2020-03-31",
          "2020-04-02",
          "2020-04-06",
          "2020-04-08",
          "2020-04-09",
          "2020-04-13",
          "2020-04-14",
          "2020-04-16",
          "2020-04-20",
          "2020-04-23",
          "2020-04-24",
          "2020-04-27",
          "2020-04-29",
          "2020-04-30",
          "2020-05-07",
          "2020-05-08",
          "2020-05-11",
          "2020-05-13",
          "2020-05-14",
          "2020-05-15",
          "2020-05-16",
          "2020-05-18",
          "2020-05-19",
          "2020-05-20",
          "2020-05-21",
          "2020-05-22",
          "2020-05-26",
          "2020-05-27",
          "2020-05-28",
          "2020-05-29",
          "2020-06-11",
          "2020-06-15",
          "2020-06-18",
          "2020-06-22",
          "2020-06-23",
          "2020-06-24",
          "2020-06-26",
          "2020-06-30"
         ],
         "y": [
          5000,
          7500,
          18500,
          21000,
          23500,
          29500,
          34500,
          37083,
          42083,
          44583,
          47283,
          49283,
          52283,
          53283,
          54283,
          59283,
          62783,
          63783,
          76283,
          91283,
          93783,
          99783,
          104283,
          114283,
          125283,
          127783,
          135283,
          140283,
          145783,
          146783,
          150283,
          151783,
          159283,
          163783,
          169783,
          175783,
          193283,
          198783,
          201783,
          205783,
          214283,
          226483,
          232983,
          248983,
          257983,
          265483,
          288983,
          297583,
          342083,
          364083,
          370083,
          372583,
          374583,
          379583,
          392583,
          397083,
          400083,
          405083,
          412083,
          418583,
          424583,
          426583,
          432583,
          435583,
          438583,
          442583,
          449083,
          454083,
          458083,
          466583,
          478333,
          485333,
          486333,
          492333,
          493333,
          494333,
          495333,
          498333,
          500833,
          501833,
          507333,
          518333,
          533333,
          535833,
          540633,
          549633,
          565133,
          568133,
          576633,
          591133,
          598633,
          600633,
          612133,
          617133,
          625233,
          626733,
          638233,
          643233,
          654233,
          665233,
          686233,
          692733,
          698233,
          707733,
          720733,
          765357,
          775357,
          807657,
          840157,
          857157,
          871106,
          931706,
          935206,
          938706,
          942206,
          949206,
          955206,
          956206,
          957206,
          965706,
          970706,
          979206,
          980206,
          985206,
          987706,
          992206,
          993706,
          1001206,
          1012206,
          1021206,
          1027706,
          1030206,
          1032206,
          1039706,
          1045706,
          1046706,
          1051706,
          1052706,
          1056206,
          1061206,
          1067006,
          1068006,
          1070506,
          1071506,
          1076506,
          1079006,
          1085606,
          1099606,
          1102106,
          1103106,
          1111106,
          1112106,
          1116606,
          1126606,
          1129606,
          1132106,
          1135106,
          1144856,
          1153356,
          1157856,
          1165856,
          1176856,
          1192356,
          1208956,
          1225456,
          1257456,
          1269456,
          1276156,
          1276156,
          1282656,
          1285156,
          1296156,
          1298156,
          1300656,
          1303156,
          1306656,
          1310156,
          1315656,
          1320656,
          1323156,
          1330656,
          1334656,
          1343156,
          1349156,
          1351656,
          1356156,
          1359156,
          1366156,
          1368656,
          1375656,
          1378656,
          1384656,
          1387156,
          1391156,
          1393656,
          1394656,
          1408256,
          1424756,
          1429756,
          1434756,
          1447256,
          1453256,
          1456756,
          1473256,
          1477256,
          1480756,
          1505256,
          1512756,
          1516957,
          1538957,
          1558957,
          1578457,
          1592457,
          1603957,
          1617457,
          1633957,
          1646957,
          1662957,
          1666957,
          1674457,
          1682957,
          1683957,
          1683957,
          1686457,
          1682957,
          1684207,
          1687207,
          1690707,
          1688207,
          1690707,
          1700707,
          1703707,
          1707207,
          1710007,
          1712007,
          1714507,
          1724707,
          1734707,
          1742207,
          1745207,
          1761707,
          1764907,
          1771407,
          1775407,
          1778907,
          1782657,
          1796157,
          1798957,
          1804457,
          1814957,
          1822957,
          1832957,
          1830507,
          1825507,
          1834007,
          1848007,
          1853207,
          1868207,
          1878207,
          1881707,
          1903707,
          1929707,
          1947123,
          1955623,
          1958423,
          1971923,
          1998123,
          1998123,
          2004623,
          2005623,
          2006623,
          2014623,
          2018623,
          2026623,
          2031623,
          2036623,
          2037623,
          2042623,
          2043623,
          2045623,
          2047623,
          2056623,
          2057623,
          2062623,
          2062623,
          2063623,
          2063623,
          2067623,
          2067623,
          2072623,
          2077623,
          2080123,
          2076623,
          2076623,
          2076623,
          2081623,
          2084123,
          2085623,
          2083123,
          2085823,
          2085823,
          2092823,
          2100323,
          2104823,
          2108823,
          2115823,
          2116823,
          2119323,
          2122323,
          2124323,
          2124823,
          2124823,
          2125823,
          2130823,
          2137823,
          2148823,
          2154823,
          2157323,
          2162323,
          2164823,
          2165823,
          2170823,
          2177823,
          2179823,
          2179823
         ]
        }
       ],
       "layout": {
        "legend": {
         "bgcolor": "#FFFFFF",
         "font": {
          "color": "#666666"
         }
        },
        "paper_bgcolor": "#FFFFFF",
        "plot_bgcolor": "#E5E5E5",
        "template": {
         "data": {
          "bar": [
           {
            "error_x": {
             "color": "#2a3f5f"
            },
            "error_y": {
             "color": "#2a3f5f"
            },
            "marker": {
             "line": {
              "color": "#E5ECF6",
              "width": 0.5
             },
             "pattern": {
              "fillmode": "overlay",
              "size": 10,
              "solidity": 0.2
             }
            },
            "type": "bar"
           }
          ],
          "barpolar": [
           {
            "marker": {
             "line": {
              "color": "#E5ECF6",
              "width": 0.5
             },
             "pattern": {
              "fillmode": "overlay",
              "size": 10,
              "solidity": 0.2
             }
            },
            "type": "barpolar"
           }
          ],
          "carpet": [
           {
            "aaxis": {
             "endlinecolor": "#2a3f5f",
             "gridcolor": "white",
             "linecolor": "white",
             "minorgridcolor": "white",
             "startlinecolor": "#2a3f5f"
            },
            "baxis": {
             "endlinecolor": "#2a3f5f",
             "gridcolor": "white",
             "linecolor": "white",
             "minorgridcolor": "white",
             "startlinecolor": "#2a3f5f"
            },
            "type": "carpet"
           }
          ],
          "choropleth": [
           {
            "colorbar": {
             "outlinewidth": 0,
             "ticks": ""
            },
            "type": "choropleth"
           }
          ],
          "contour": [
           {
            "colorbar": {
             "outlinewidth": 0,
             "ticks": ""
            },
            "colorscale": [
             [
              0,
              "#0d0887"
             ],
             [
              0.1111111111111111,
              "#46039f"
             ],
             [
              0.2222222222222222,
              "#7201a8"
             ],
             [
              0.3333333333333333,
              "#9c179e"
             ],
             [
              0.4444444444444444,
              "#bd3786"
             ],
             [
              0.5555555555555556,
              "#d8576b"
             ],
             [
              0.6666666666666666,
              "#ed7953"
             ],
             [
              0.7777777777777778,
              "#fb9f3a"
             ],
             [
              0.8888888888888888,
              "#fdca26"
             ],
             [
              1,
              "#f0f921"
             ]
            ],
            "type": "contour"
           }
          ],
          "contourcarpet": [
           {
            "colorbar": {
             "outlinewidth": 0,
             "ticks": ""
            },
            "type": "contourcarpet"
           }
          ],
          "heatmap": [
           {
            "colorbar": {
             "outlinewidth": 0,
             "ticks": ""
            },
            "colorscale": [
             [
              0,
              "#0d0887"
             ],
             [
              0.1111111111111111,
              "#46039f"
             ],
             [
              0.2222222222222222,
              "#7201a8"
             ],
             [
              0.3333333333333333,
              "#9c179e"
             ],
             [
              0.4444444444444444,
              "#bd3786"
             ],
             [
              0.5555555555555556,
              "#d8576b"
             ],
             [
              0.6666666666666666,
              "#ed7953"
             ],
             [
              0.7777777777777778,
              "#fb9f3a"
             ],
             [
              0.8888888888888888,
              "#fdca26"
             ],
             [
              1,
              "#f0f921"
             ]
            ],
            "type": "heatmap"
           }
          ],
          "heatmapgl": [
           {
            "colorbar": {
             "outlinewidth": 0,
             "ticks": ""
            },
            "colorscale": [
             [
              0,
              "#0d0887"
             ],
             [
              0.1111111111111111,
              "#46039f"
             ],
             [
              0.2222222222222222,
              "#7201a8"
             ],
             [
              0.3333333333333333,
              "#9c179e"
             ],
             [
              0.4444444444444444,
              "#bd3786"
             ],
             [
              0.5555555555555556,
              "#d8576b"
             ],
             [
              0.6666666666666666,
              "#ed7953"
             ],
             [
              0.7777777777777778,
              "#fb9f3a"
             ],
             [
              0.8888888888888888,
              "#fdca26"
             ],
             [
              1,
              "#f0f921"
             ]
            ],
            "type": "heatmapgl"
           }
          ],
          "histogram": [
           {
            "marker": {
             "pattern": {
              "fillmode": "overlay",
              "size": 10,
              "solidity": 0.2
             }
            },
            "type": "histogram"
           }
          ],
          "histogram2d": [
           {
            "colorbar": {
             "outlinewidth": 0,
             "ticks": ""
            },
            "colorscale": [
             [
              0,
              "#0d0887"
             ],
             [
              0.1111111111111111,
              "#46039f"
             ],
             [
              0.2222222222222222,
              "#7201a8"
             ],
             [
              0.3333333333333333,
              "#9c179e"
             ],
             [
              0.4444444444444444,
              "#bd3786"
             ],
             [
              0.5555555555555556,
              "#d8576b"
             ],
             [
              0.6666666666666666,
              "#ed7953"
             ],
             [
              0.7777777777777778,
              "#fb9f3a"
             ],
             [
              0.8888888888888888,
              "#fdca26"
             ],
             [
              1,
              "#f0f921"
             ]
            ],
            "type": "histogram2d"
           }
          ],
          "histogram2dcontour": [
           {
            "colorbar": {
             "outlinewidth": 0,
             "ticks": ""
            },
            "colorscale": [
             [
              0,
              "#0d0887"
             ],
             [
              0.1111111111111111,
              "#46039f"
             ],
             [
              0.2222222222222222,
              "#7201a8"
             ],
             [
              0.3333333333333333,
              "#9c179e"
             ],
             [
              0.4444444444444444,
              "#bd3786"
             ],
             [
              0.5555555555555556,
              "#d8576b"
             ],
             [
              0.6666666666666666,
              "#ed7953"
             ],
             [
              0.7777777777777778,
              "#fb9f3a"
             ],
             [
              0.8888888888888888,
              "#fdca26"
             ],
             [
              1,
              "#f0f921"
             ]
            ],
            "type": "histogram2dcontour"
           }
          ],
          "mesh3d": [
           {
            "colorbar": {
             "outlinewidth": 0,
             "ticks": ""
            },
            "type": "mesh3d"
           }
          ],
          "parcoords": [
           {
            "line": {
             "colorbar": {
              "outlinewidth": 0,
              "ticks": ""
             }
            },
            "type": "parcoords"
           }
          ],
          "pie": [
           {
            "automargin": true,
            "type": "pie"
           }
          ],
          "scatter": [
           {
            "fillpattern": {
             "fillmode": "overlay",
             "size": 10,
             "solidity": 0.2
            },
            "type": "scatter"
           }
          ],
          "scatter3d": [
           {
            "line": {
             "colorbar": {
              "outlinewidth": 0,
              "ticks": ""
             }
            },
            "marker": {
             "colorbar": {
              "outlinewidth": 0,
              "ticks": ""
             }
            },
            "type": "scatter3d"
           }
          ],
          "scattercarpet": [
           {
            "marker": {
             "colorbar": {
              "outlinewidth": 0,
              "ticks": ""
             }
            },
            "type": "scattercarpet"
           }
          ],
          "scattergeo": [
           {
            "marker": {
             "colorbar": {
              "outlinewidth": 0,
              "ticks": ""
             }
            },
            "type": "scattergeo"
           }
          ],
          "scattergl": [
           {
            "marker": {
             "colorbar": {
              "outlinewidth": 0,
              "ticks": ""
             }
            },
            "type": "scattergl"
           }
          ],
          "scattermapbox": [
           {
            "marker": {
             "colorbar": {
              "outlinewidth": 0,
              "ticks": ""
             }
            },
            "type": "scattermapbox"
           }
          ],
          "scatterpolar": [
           {
            "marker": {
             "colorbar": {
              "outlinewidth": 0,
              "ticks": ""
             }
            },
            "type": "scatterpolar"
           }
          ],
          "scatterpolargl": [
           {
            "marker": {
             "colorbar": {
              "outlinewidth": 0,
              "ticks": ""
             }
            },
            "type": "scatterpolargl"
           }
          ],
          "scatterternary": [
           {
            "marker": {
             "colorbar": {
              "outlinewidth": 0,
              "ticks": ""
             }
            },
            "type": "scatterternary"
           }
          ],
          "surface": [
           {
            "colorbar": {
             "outlinewidth": 0,
             "ticks": ""
            },
            "colorscale": [
             [
              0,
              "#0d0887"
             ],
             [
              0.1111111111111111,
              "#46039f"
             ],
             [
              0.2222222222222222,
              "#7201a8"
             ],
             [
              0.3333333333333333,
              "#9c179e"
             ],
             [
              0.4444444444444444,
              "#bd3786"
             ],
             [
              0.5555555555555556,
              "#d8576b"
             ],
             [
              0.6666666666666666,
              "#ed7953"
             ],
             [
              0.7777777777777778,
              "#fb9f3a"
             ],
             [
              0.8888888888888888,
              "#fdca26"
             ],
             [
              1,
              "#f0f921"
             ]
            ],
            "type": "surface"
           }
          ],
          "table": [
           {
            "cells": {
             "fill": {
              "color": "#EBF0F8"
             },
             "line": {
              "color": "white"
             }
            },
            "header": {
             "fill": {
              "color": "#C8D4E3"
             },
             "line": {
              "color": "white"
             }
            },
            "type": "table"
           }
          ]
         },
         "layout": {
          "annotationdefaults": {
           "arrowcolor": "#2a3f5f",
           "arrowhead": 0,
           "arrowwidth": 1
          },
          "autotypenumbers": "strict",
          "coloraxis": {
           "colorbar": {
            "outlinewidth": 0,
            "ticks": ""
           }
          },
          "colorscale": {
           "diverging": [
            [
             0,
             "#8e0152"
            ],
            [
             0.1,
             "#c51b7d"
            ],
            [
             0.2,
             "#de77ae"
            ],
            [
             0.3,
             "#f1b6da"
            ],
            [
             0.4,
             "#fde0ef"
            ],
            [
             0.5,
             "#f7f7f7"
            ],
            [
             0.6,
             "#e6f5d0"
            ],
            [
             0.7,
             "#b8e186"
            ],
            [
             0.8,
             "#7fbc41"
            ],
            [
             0.9,
             "#4d9221"
            ],
            [
             1,
             "#276419"
            ]
           ],
           "sequential": [
            [
             0,
             "#0d0887"
            ],
            [
             0.1111111111111111,
             "#46039f"
            ],
            [
             0.2222222222222222,
             "#7201a8"
            ],
            [
             0.3333333333333333,
             "#9c179e"
            ],
            [
             0.4444444444444444,
             "#bd3786"
            ],
            [
             0.5555555555555556,
             "#d8576b"
            ],
            [
             0.6666666666666666,
             "#ed7953"
            ],
            [
             0.7777777777777778,
             "#fb9f3a"
            ],
            [
             0.8888888888888888,
             "#fdca26"
            ],
            [
             1,
             "#f0f921"
            ]
           ],
           "sequentialminus": [
            [
             0,
             "#0d0887"
            ],
            [
             0.1111111111111111,
             "#46039f"
            ],
            [
             0.2222222222222222,
             "#7201a8"
            ],
            [
             0.3333333333333333,
             "#9c179e"
            ],
            [
             0.4444444444444444,
             "#bd3786"
            ],
            [
             0.5555555555555556,
             "#d8576b"
            ],
            [
             0.6666666666666666,
             "#ed7953"
            ],
            [
             0.7777777777777778,
             "#fb9f3a"
            ],
            [
             0.8888888888888888,
             "#fdca26"
            ],
            [
             1,
             "#f0f921"
            ]
           ]
          },
          "colorway": [
           "#636efa",
           "#EF553B",
           "#00cc96",
           "#ab63fa",
           "#FFA15A",
           "#19d3f3",
           "#FF6692",
           "#B6E880",
           "#FF97FF",
           "#FECB52"
          ],
          "font": {
           "color": "#2a3f5f"
          },
          "geo": {
           "bgcolor": "white",
           "lakecolor": "white",
           "landcolor": "#E5ECF6",
           "showlakes": true,
           "showland": true,
           "subunitcolor": "white"
          },
          "hoverlabel": {
           "align": "left"
          },
          "hovermode": "closest",
          "mapbox": {
           "style": "light"
          },
          "paper_bgcolor": "white",
          "plot_bgcolor": "#E5ECF6",
          "polar": {
           "angularaxis": {
            "gridcolor": "white",
            "linecolor": "white",
            "ticks": ""
           },
           "bgcolor": "#E5ECF6",
           "radialaxis": {
            "gridcolor": "white",
            "linecolor": "white",
            "ticks": ""
           }
          },
          "scene": {
           "xaxis": {
            "backgroundcolor": "#E5ECF6",
            "gridcolor": "white",
            "gridwidth": 2,
            "linecolor": "white",
            "showbackground": true,
            "ticks": "",
            "zerolinecolor": "white"
           },
           "yaxis": {
            "backgroundcolor": "#E5ECF6",
            "gridcolor": "white",
            "gridwidth": 2,
            "linecolor": "white",
            "showbackground": true,
            "ticks": "",
            "zerolinecolor": "white"
           },
           "zaxis": {
            "backgroundcolor": "#E5ECF6",
            "gridcolor": "white",
            "gridwidth": 2,
            "linecolor": "white",
            "showbackground": true,
            "ticks": "",
            "zerolinecolor": "white"
           }
          },
          "shapedefaults": {
           "line": {
            "color": "#2a3f5f"
           }
          },
          "ternary": {
           "aaxis": {
            "gridcolor": "white",
            "linecolor": "white",
            "ticks": ""
           },
           "baxis": {
            "gridcolor": "white",
            "linecolor": "white",
            "ticks": ""
           },
           "bgcolor": "#E5ECF6",
           "caxis": {
            "gridcolor": "white",
            "linecolor": "white",
            "ticks": ""
           }
          },
          "title": {
           "x": 0.05
          },
          "xaxis": {
           "automargin": true,
           "gridcolor": "white",
           "linecolor": "white",
           "ticks": "",
           "title": {
            "standoff": 15
           },
           "zerolinecolor": "white",
           "zerolinewidth": 2
          },
          "yaxis": {
           "automargin": true,
           "gridcolor": "white",
           "linecolor": "white",
           "ticks": "",
           "title": {
            "standoff": 15
           },
           "zerolinecolor": "white",
           "zerolinewidth": 2
          }
         }
        },
        "title": {
         "font": {
          "color": "#151516"
         },
         "text": "Total cumulative Committee Contributions for candidates over time"
        },
        "xaxis": {
         "gridcolor": "#F6F6F6",
         "showgrid": true,
         "tickfont": {
          "color": "#666666"
         },
         "title": {
          "font": {
           "color": "#666666"
          },
          "text": ""
         },
         "zerolinecolor": "#F6F6F6"
        },
        "yaxis": {
         "gridcolor": "#F6F6F6",
         "showgrid": true,
         "tickfont": {
          "color": "#666666"
         },
         "title": {
          "font": {
           "color": "#666666"
          },
          "text": ""
         },
         "zerolinecolor": "#F6F6F6"
        }
       }
      },
      "text/html": [
       "<div>                            <div id=\"b2d83b51-1550-4f51-8a02-5d7355ae6e7a\" class=\"plotly-graph-div\" style=\"height:525px; width:100%;\"></div>            <script type=\"text/javascript\">                require([\"plotly\"], function(Plotly) {                    window.PLOTLYENV=window.PLOTLYENV || {};\n",
       "                    window.PLOTLYENV.BASE_URL='https://plot.ly';                                    if (document.getElementById(\"b2d83b51-1550-4f51-8a02-5d7355ae6e7a\")) {                    Plotly.newPlot(                        \"b2d83b51-1550-4f51-8a02-5d7355ae6e7a\",                        [{\"line\":{\"color\":\"blue\",\"dash\":\"solid\",\"shape\":\"linear\",\"width\":1.3},\"mode\":\"lines\",\"name\":\"CUNNINGHAM, CAL\",\"text\":\"\",\"x\":[\"2019-01-07\",\"2019-01-08\",\"2019-01-09\",\"2019-01-10\",\"2019-01-11\",\"2019-01-18\",\"2019-01-21\",\"2019-01-22\",\"2019-01-23\",\"2019-01-25\",\"2019-01-28\",\"2019-01-29\",\"2019-02-01\",\"2019-02-04\",\"2019-02-05\",\"2019-02-06\",\"2019-02-07\",\"2019-02-08\",\"2019-02-11\",\"2019-02-13\",\"2019-02-15\",\"2019-02-19\",\"2019-02-20\",\"2019-02-21\",\"2019-02-22\",\"2019-02-25\",\"2019-02-26\",\"2019-02-27\",\"2019-02-28\",\"2019-03-01\",\"2019-03-04\",\"2019-03-05\",\"2019-03-06\",\"2019-03-07\",\"2019-03-08\",\"2019-03-11\",\"2019-03-12\",\"2019-03-13\",\"2019-03-14\",\"2019-03-15\",\"2019-03-18\",\"2019-03-19\",\"2019-03-20\",\"2019-03-21\",\"2019-03-22\",\"2019-03-25\",\"2019-03-26\",\"2019-03-27\",\"2019-03-28\",\"2019-03-29\",\"2019-04-01\",\"2019-04-02\",\"2019-04-03\",\"2019-04-04\",\"2019-04-05\",\"2019-04-08\",\"2019-04-09\",\"2019-04-10\",\"2019-04-11\",\"2019-04-12\",\"2019-04-15\",\"2019-04-16\",\"2019-04-18\",\"2019-04-22\",\"2019-04-23\",\"2019-04-24\",\"2019-04-25\",\"2019-04-26\",\"2019-04-29\",\"2019-04-30\",\"2019-05-01\",\"2019-05-02\",\"2019-05-03\",\"2019-05-06\",\"2019-05-07\",\"2019-05-08\",\"2019-05-09\",\"2019-05-10\",\"2019-05-13\",\"2019-05-14\",\"2019-05-15\",\"2019-05-16\",\"2019-05-17\",\"2019-05-20\",\"2019-05-21\",\"2019-05-22\",\"2019-05-23\",\"2019-05-24\",\"2019-05-28\",\"2019-05-29\",\"2019-05-30\",\"2019-05-31\",\"2019-06-03\",\"2019-06-04\",\"2019-06-05\",\"2019-06-06\",\"2019-06-07\",\"2019-06-10\",\"2019-06-11\",\"2019-06-12\",\"2019-06-13\",\"2019-06-14\",\"2019-06-17\",\"2019-06-18\",\"2019-06-19\",\"2019-06-20\",\"2019-06-21\",\"2019-06-24\",\"2019-06-25\",\"2019-06-26\",\"2019-06-27\",\"2019-06-28\",\"2019-06-29\",\"2019-07-01\",\"2019-07-03\",\"2019-07-08\",\"2019-07-09\",\"2019-07-10\",\"2019-07-11\",\"2019-07-15\",\"2019-07-16\",\"2019-07-17\",\"2019-07-18\",\"2019-07-19\",\"2019-07-22\",\"2019-07-23\",\"2019-07-24\",\"2019-07-25\",\"2019-07-26\",\"2019-07-29\",\"2019-07-30\",\"2019-07-31\",\"2019-08-01\",\"2019-08-02\",\"2019-08-05\",\"2019-08-06\",\"2019-08-08\",\"2019-08-09\",\"2019-08-12\",\"2019-08-14\",\"2019-08-15\",\"2019-08-19\",\"2019-08-20\",\"2019-08-21\",\"2019-08-22\",\"2019-08-24\",\"2019-08-26\",\"2019-08-27\",\"2019-08-29\",\"2019-08-30\",\"2019-09-03\",\"2019-09-04\",\"2019-09-09\",\"2019-09-10\",\"2019-09-11\",\"2019-09-12\",\"2019-09-13\",\"2019-09-16\",\"2019-09-17\",\"2019-09-18\",\"2019-09-19\",\"2019-09-20\",\"2019-09-23\",\"2019-09-24\",\"2019-09-25\",\"2019-09-26\",\"2019-09-27\",\"2019-09-30\",\"2019-10-01\",\"2019-10-03\",\"2019-10-07\",\"2019-10-10\",\"2019-10-14\",\"2019-10-15\",\"2019-10-16\",\"2019-10-21\",\"2019-10-22\",\"2019-10-23\",\"2019-10-24\",\"2019-10-25\",\"2019-10-28\",\"2019-10-29\",\"2019-10-31\",\"2019-11-01\",\"2019-11-04\",\"2019-11-05\",\"2019-11-06\",\"2019-11-07\",\"2019-11-08\",\"2019-11-12\",\"2019-11-13\",\"2019-11-14\",\"2019-11-15\",\"2019-11-18\",\"2019-11-19\",\"2019-11-20\",\"2019-11-21\",\"2019-11-22\",\"2019-11-23\",\"2019-11-24\",\"2019-11-25\",\"2019-11-26\",\"2019-11-27\",\"2019-12-02\",\"2019-12-03\",\"2019-12-04\",\"2019-12-05\",\"2019-12-06\",\"2019-12-07\",\"2019-12-09\",\"2019-12-10\",\"2019-12-11\",\"2019-12-12\",\"2019-12-13\",\"2019-12-16\",\"2019-12-17\",\"2019-12-18\",\"2019-12-19\",\"2019-12-20\",\"2019-12-23\",\"2019-12-26\",\"2019-12-27\",\"2019-12-29\",\"2019-12-30\",\"2019-12-31\",\"2020-01-03\",\"2020-01-06\",\"2020-01-07\",\"2020-01-08\",\"2020-01-10\",\"2020-01-13\",\"2020-01-14\",\"2020-01-15\",\"2020-01-16\",\"2020-01-17\",\"2020-01-22\",\"2020-01-23\",\"2020-01-27\",\"2020-01-28\",\"2020-01-29\",\"2020-01-30\",\"2020-01-31\",\"2020-02-03\",\"2020-02-04\",\"2020-02-05\",\"2020-02-06\",\"2020-02-07\",\"2020-02-08\",\"2020-02-10\",\"2020-02-11\",\"2020-02-12\",\"2020-02-13\",\"2020-02-14\",\"2020-02-15\",\"2020-02-17\",\"2020-02-18\",\"2020-02-19\",\"2020-02-20\",\"2020-02-21\",\"2020-02-24\",\"2020-02-25\",\"2020-02-26\",\"2020-02-27\",\"2020-02-28\",\"2020-03-01\",\"2020-03-02\",\"2020-03-03\",\"2020-03-04\",\"2020-03-05\",\"2020-03-06\",\"2020-03-09\",\"2020-03-10\",\"2020-03-11\",\"2020-03-12\",\"2020-03-13\",\"2020-03-15\",\"2020-03-16\",\"2020-03-17\",\"2020-03-18\",\"2020-03-20\",\"2020-03-23\",\"2020-03-24\",\"2020-03-26\",\"2020-03-27\",\"2020-03-28\",\"2020-03-29\",\"2020-03-30\",\"2020-03-31\",\"2020-04-02\",\"2020-04-06\",\"2020-04-08\",\"2020-04-09\",\"2020-04-13\",\"2020-04-14\",\"2020-04-16\",\"2020-04-20\",\"2020-04-23\",\"2020-04-24\",\"2020-04-27\",\"2020-04-29\",\"2020-04-30\",\"2020-05-07\",\"2020-05-08\",\"2020-05-11\",\"2020-05-13\",\"2020-05-14\",\"2020-05-15\",\"2020-05-16\",\"2020-05-18\",\"2020-05-19\",\"2020-05-20\",\"2020-05-21\",\"2020-05-22\",\"2020-05-26\",\"2020-05-27\",\"2020-05-28\",\"2020-05-29\",\"2020-06-11\",\"2020-06-15\",\"2020-06-18\",\"2020-06-22\",\"2020-06-23\",\"2020-06-24\",\"2020-06-26\",\"2020-06-30\"],\"y\":[0,0,0,0,0,0,0,0,0,0,0,0,0,0,0,0,0,0,0,0,0,0,0,0,0,0,0,0,0,0,0,0,0,0,0,0,0,0,0,0,0,0,0,0,0,0,0,0,0,0,0,0,0,0,0,0,0,0,0,0,0,0,0,0,0,0,0,0,0,0,0,0,0,0,0,0,0,0,0,0,0,0,0,0,0,0,0,0,0,0,0,0,0,0,0,0,0,0,0,0,0,0,0,0,0,0,0,0,5000,5000,17500,20000,20000,20000,20000,20000,20000,20000,20000,20000,20000,20000,20000,20000,25000,25000,35000,35000,35000,35000,35000,35090,35090,35090,35090,35090,40090,40090,40090,40090,40090,40090,40090,40090,40090,40090,40090,40090,40090,40090,40090,40090,40090,40090,40090,40090,40090,40090,40090,40090,48590,48590,48590,53590,72590,87590,107590,159590,162090,162090,164590,164590,164590,164590,164590,164590,164590,164590,165590,166090,166090,166090,166090,166090,168590,168590,168590,168590,168590,168590,168590,168590,168590,170590,170590,170590,170590,170590,170590,170590,170590,175590,175590,180590,180590,180590,180590,180590,180590,184090,184090,186590,186590,189090,191890,191890,246490,261490,271490,278990,278990,281490,281490,286490,286490,286490,286490,286490,291490,291490,291490,291490,291490,291490,291490,291490,291490,291490,291490,291490,293990,293990,293990,293990,293990,298990,308990,308990,311490,311490,311490,311490,311490,311555,311555,311555,314055,319067,324067,334067,345398,347898,347898,347898,352898,362898,362898,370398,370398,370398,370398,370398,370398,370398,370398,370398,370398,380398,380398,380398,392398,399898,403398,403398,405898,405898,409698,414698,423998,423998,427081,427081,427081,432081,438131,438131,447057,447057,447057,447057,460132,460132,460132,462632,462632,462632,462632,462632,462632,462632,462632,465132,465132,465132,465132,469132,469132,469132,469132,469132,471632,471632,471632,471632,472632],\"type\":\"scatter\"},{\"line\":{\"color\":\"red\",\"dash\":\"solid\",\"shape\":\"linear\",\"width\":1.3},\"mode\":\"lines\",\"name\":\"TILLIS, THOM R. SEN.\",\"text\":\"\",\"x\":[\"2019-01-07\",\"2019-01-08\",\"2019-01-09\",\"2019-01-10\",\"2019-01-11\",\"2019-01-18\",\"2019-01-21\",\"2019-01-22\",\"2019-01-23\",\"2019-01-25\",\"2019-01-28\",\"2019-01-29\",\"2019-02-01\",\"2019-02-04\",\"2019-02-05\",\"2019-02-06\",\"2019-02-07\",\"2019-02-08\",\"2019-02-11\",\"2019-02-13\",\"2019-02-15\",\"2019-02-19\",\"2019-02-20\",\"2019-02-21\",\"2019-02-22\",\"2019-02-25\",\"2019-02-26\",\"2019-02-27\",\"2019-02-28\",\"2019-03-01\",\"2019-03-04\",\"2019-03-05\",\"2019-03-06\",\"2019-03-07\",\"2019-03-08\",\"2019-03-11\",\"2019-03-12\",\"2019-03-13\",\"2019-03-14\",\"2019-03-15\",\"2019-03-18\",\"2019-03-19\",\"2019-03-20\",\"2019-03-21\",\"2019-03-22\",\"2019-03-25\",\"2019-03-26\",\"2019-03-27\",\"2019-03-28\",\"2019-03-29\",\"2019-04-01\",\"2019-04-02\",\"2019-04-03\",\"2019-04-04\",\"2019-04-05\",\"2019-04-08\",\"2019-04-09\",\"2019-04-10\",\"2019-04-11\",\"2019-04-12\",\"2019-04-15\",\"2019-04-16\",\"2019-04-18\",\"2019-04-22\",\"2019-04-23\",\"2019-04-24\",\"2019-04-25\",\"2019-04-26\",\"2019-04-29\",\"2019-04-30\",\"2019-05-01\",\"2019-05-02\",\"2019-05-03\",\"2019-05-06\",\"2019-05-07\",\"2019-05-08\",\"2019-05-09\",\"2019-05-10\",\"2019-05-13\",\"2019-05-14\",\"2019-05-15\",\"2019-05-16\",\"2019-05-17\",\"2019-05-20\",\"2019-05-21\",\"2019-05-22\",\"2019-05-23\",\"2019-05-24\",\"2019-05-28\",\"2019-05-29\",\"2019-05-30\",\"2019-05-31\",\"2019-06-03\",\"2019-06-04\",\"2019-06-05\",\"2019-06-06\",\"2019-06-07\",\"2019-06-10\",\"2019-06-11\",\"2019-06-12\",\"2019-06-13\",\"2019-06-14\",\"2019-06-17\",\"2019-06-18\",\"2019-06-19\",\"2019-06-20\",\"2019-06-21\",\"2019-06-24\",\"2019-06-25\",\"2019-06-26\",\"2019-06-27\",\"2019-06-28\",\"2019-06-29\",\"2019-07-01\",\"2019-07-03\",\"2019-07-08\",\"2019-07-09\",\"2019-07-10\",\"2019-07-11\",\"2019-07-15\",\"2019-07-16\",\"2019-07-17\",\"2019-07-18\",\"2019-07-19\",\"2019-07-22\",\"2019-07-23\",\"2019-07-24\",\"2019-07-25\",\"2019-07-26\",\"2019-07-29\",\"2019-07-30\",\"2019-07-31\",\"2019-08-01\",\"2019-08-02\",\"2019-08-05\",\"2019-08-06\",\"2019-08-08\",\"2019-08-09\",\"2019-08-12\",\"2019-08-14\",\"2019-08-15\",\"2019-08-19\",\"2019-08-20\",\"2019-08-21\",\"2019-08-22\",\"2019-08-24\",\"2019-08-26\",\"2019-08-27\",\"2019-08-29\",\"2019-08-30\",\"2019-09-03\",\"2019-09-04\",\"2019-09-09\",\"2019-09-10\",\"2019-09-11\",\"2019-09-12\",\"2019-09-13\",\"2019-09-16\",\"2019-09-17\",\"2019-09-18\",\"2019-09-19\",\"2019-09-20\",\"2019-09-23\",\"2019-09-24\",\"2019-09-25\",\"2019-09-26\",\"2019-09-27\",\"2019-09-30\",\"2019-10-01\",\"2019-10-03\",\"2019-10-07\",\"2019-10-10\",\"2019-10-14\",\"2019-10-15\",\"2019-10-16\",\"2019-10-21\",\"2019-10-22\",\"2019-10-23\",\"2019-10-24\",\"2019-10-25\",\"2019-10-28\",\"2019-10-29\",\"2019-10-31\",\"2019-11-01\",\"2019-11-04\",\"2019-11-05\",\"2019-11-06\",\"2019-11-07\",\"2019-11-08\",\"2019-11-12\",\"2019-11-13\",\"2019-11-14\",\"2019-11-15\",\"2019-11-18\",\"2019-11-19\",\"2019-11-20\",\"2019-11-21\",\"2019-11-22\",\"2019-11-23\",\"2019-11-24\",\"2019-11-25\",\"2019-11-26\",\"2019-11-27\",\"2019-12-02\",\"2019-12-03\",\"2019-12-04\",\"2019-12-05\",\"2019-12-06\",\"2019-12-07\",\"2019-12-09\",\"2019-12-10\",\"2019-12-11\",\"2019-12-12\",\"2019-12-13\",\"2019-12-16\",\"2019-12-17\",\"2019-12-18\",\"2019-12-19\",\"2019-12-20\",\"2019-12-23\",\"2019-12-26\",\"2019-12-27\",\"2019-12-29\",\"2019-12-30\",\"2019-12-31\",\"2020-01-03\",\"2020-01-06\",\"2020-01-07\",\"2020-01-08\",\"2020-01-10\",\"2020-01-13\",\"2020-01-14\",\"2020-01-15\",\"2020-01-16\",\"2020-01-17\",\"2020-01-22\",\"2020-01-23\",\"2020-01-27\",\"2020-01-28\",\"2020-01-29\",\"2020-01-30\",\"2020-01-31\",\"2020-02-03\",\"2020-02-04\",\"2020-02-05\",\"2020-02-06\",\"2020-02-07\",\"2020-02-08\",\"2020-02-10\",\"2020-02-11\",\"2020-02-12\",\"2020-02-13\",\"2020-02-14\",\"2020-02-15\",\"2020-02-17\",\"2020-02-18\",\"2020-02-19\",\"2020-02-20\",\"2020-02-21\",\"2020-02-24\",\"2020-02-25\",\"2020-02-26\",\"2020-02-27\",\"2020-02-28\",\"2020-03-01\",\"2020-03-02\",\"2020-03-03\",\"2020-03-04\",\"2020-03-05\",\"2020-03-06\",\"2020-03-09\",\"2020-03-10\",\"2020-03-11\",\"2020-03-12\",\"2020-03-13\",\"2020-03-15\",\"2020-03-16\",\"2020-03-17\",\"2020-03-18\",\"2020-03-20\",\"2020-03-23\",\"2020-03-24\",\"2020-03-26\",\"2020-03-27\",\"2020-03-28\",\"2020-03-29\",\"2020-03-30\",\"2020-03-31\",\"2020-04-02\",\"2020-04-06\",\"2020-04-08\",\"2020-04-09\",\"2020-04-13\",\"2020-04-14\",\"2020-04-16\",\"2020-04-20\",\"2020-04-23\",\"2020-04-24\",\"2020-04-27\",\"2020-04-29\",\"2020-04-30\",\"2020-05-07\",\"2020-05-08\",\"2020-05-11\",\"2020-05-13\",\"2020-05-14\",\"2020-05-15\",\"2020-05-16\",\"2020-05-18\",\"2020-05-19\",\"2020-05-20\",\"2020-05-21\",\"2020-05-22\",\"2020-05-26\",\"2020-05-27\",\"2020-05-28\",\"2020-05-29\",\"2020-06-11\",\"2020-06-15\",\"2020-06-18\",\"2020-06-22\",\"2020-06-23\",\"2020-06-24\",\"2020-06-26\",\"2020-06-30\"],\"y\":[5000,7500,18500,21000,23500,29500,34500,37083,42083,44583,47283,49283,52283,53283,54283,59283,62783,63783,76283,91283,93783,99783,104283,114283,125283,127783,135283,140283,145783,146783,150283,151783,159283,163783,169783,175783,193283,198783,201783,205783,214283,226483,232983,248983,257983,265483,288983,297583,342083,364083,370083,372583,374583,379583,392583,397083,400083,405083,412083,418583,424583,426583,432583,435583,438583,442583,449083,454083,458083,466583,478333,485333,486333,492333,493333,494333,495333,498333,500833,501833,507333,518333,533333,535833,540633,549633,565133,568133,576633,591133,598633,600633,612133,617133,625233,626733,638233,643233,654233,665233,686233,692733,698233,707733,720733,765357,775357,807657,840157,857157,871106,931706,935206,938706,942206,949206,955206,956206,957206,965706,970706,979206,980206,985206,987706,992206,993706,1001206,1012206,1021206,1027706,1030206,1032206,1039706,1045706,1046706,1051706,1052706,1056206,1061206,1067006,1068006,1070506,1071506,1076506,1079006,1085606,1099606,1102106,1103106,1111106,1112106,1116606,1126606,1129606,1132106,1135106,1144856,1153356,1157856,1165856,1176856,1192356,1208956,1225456,1257456,1269456,1276156,1276156,1282656,1285156,1296156,1298156,1300656,1303156,1306656,1310156,1315656,1320656,1323156,1330656,1334656,1343156,1349156,1351656,1356156,1359156,1366156,1368656,1375656,1378656,1384656,1387156,1391156,1393656,1394656,1408256,1424756,1429756,1434756,1447256,1453256,1456756,1473256,1477256,1480756,1505256,1512756,1516957,1538957,1558957,1578457,1592457,1603957,1617457,1633957,1646957,1662957,1666957,1674457,1682957,1683957,1683957,1686457,1682957,1684207,1687207,1690707,1688207,1690707,1700707,1703707,1707207,1710007,1712007,1714507,1724707,1734707,1742207,1745207,1761707,1764907,1771407,1775407,1778907,1782657,1796157,1798957,1804457,1814957,1822957,1832957,1830507,1825507,1834007,1848007,1853207,1868207,1878207,1881707,1903707,1929707,1947123,1955623,1958423,1971923,1998123,1998123,2004623,2005623,2006623,2014623,2018623,2026623,2031623,2036623,2037623,2042623,2043623,2045623,2047623,2056623,2057623,2062623,2062623,2063623,2063623,2067623,2067623,2072623,2077623,2080123,2076623,2076623,2076623,2081623,2084123,2085623,2083123,2085823,2085823,2092823,2100323,2104823,2108823,2115823,2116823,2119323,2122323,2124323,2124823,2124823,2125823,2130823,2137823,2148823,2154823,2157323,2162323,2164823,2165823,2170823,2177823,2179823,2179823],\"type\":\"scatter\"}],                        {\"legend\":{\"bgcolor\":\"#FFFFFF\",\"font\":{\"color\":\"#666666\"}},\"paper_bgcolor\":\"#FFFFFF\",\"plot_bgcolor\":\"#E5E5E5\",\"template\":{\"data\":{\"barpolar\":[{\"marker\":{\"line\":{\"color\":\"#E5ECF6\",\"width\":0.5},\"pattern\":{\"fillmode\":\"overlay\",\"size\":10,\"solidity\":0.2}},\"type\":\"barpolar\"}],\"bar\":[{\"error_x\":{\"color\":\"#2a3f5f\"},\"error_y\":{\"color\":\"#2a3f5f\"},\"marker\":{\"line\":{\"color\":\"#E5ECF6\",\"width\":0.5},\"pattern\":{\"fillmode\":\"overlay\",\"size\":10,\"solidity\":0.2}},\"type\":\"bar\"}],\"carpet\":[{\"aaxis\":{\"endlinecolor\":\"#2a3f5f\",\"gridcolor\":\"white\",\"linecolor\":\"white\",\"minorgridcolor\":\"white\",\"startlinecolor\":\"#2a3f5f\"},\"baxis\":{\"endlinecolor\":\"#2a3f5f\",\"gridcolor\":\"white\",\"linecolor\":\"white\",\"minorgridcolor\":\"white\",\"startlinecolor\":\"#2a3f5f\"},\"type\":\"carpet\"}],\"choropleth\":[{\"colorbar\":{\"outlinewidth\":0,\"ticks\":\"\"},\"type\":\"choropleth\"}],\"contourcarpet\":[{\"colorbar\":{\"outlinewidth\":0,\"ticks\":\"\"},\"type\":\"contourcarpet\"}],\"contour\":[{\"colorbar\":{\"outlinewidth\":0,\"ticks\":\"\"},\"colorscale\":[[0.0,\"#0d0887\"],[0.1111111111111111,\"#46039f\"],[0.2222222222222222,\"#7201a8\"],[0.3333333333333333,\"#9c179e\"],[0.4444444444444444,\"#bd3786\"],[0.5555555555555556,\"#d8576b\"],[0.6666666666666666,\"#ed7953\"],[0.7777777777777778,\"#fb9f3a\"],[0.8888888888888888,\"#fdca26\"],[1.0,\"#f0f921\"]],\"type\":\"contour\"}],\"heatmapgl\":[{\"colorbar\":{\"outlinewidth\":0,\"ticks\":\"\"},\"colorscale\":[[0.0,\"#0d0887\"],[0.1111111111111111,\"#46039f\"],[0.2222222222222222,\"#7201a8\"],[0.3333333333333333,\"#9c179e\"],[0.4444444444444444,\"#bd3786\"],[0.5555555555555556,\"#d8576b\"],[0.6666666666666666,\"#ed7953\"],[0.7777777777777778,\"#fb9f3a\"],[0.8888888888888888,\"#fdca26\"],[1.0,\"#f0f921\"]],\"type\":\"heatmapgl\"}],\"heatmap\":[{\"colorbar\":{\"outlinewidth\":0,\"ticks\":\"\"},\"colorscale\":[[0.0,\"#0d0887\"],[0.1111111111111111,\"#46039f\"],[0.2222222222222222,\"#7201a8\"],[0.3333333333333333,\"#9c179e\"],[0.4444444444444444,\"#bd3786\"],[0.5555555555555556,\"#d8576b\"],[0.6666666666666666,\"#ed7953\"],[0.7777777777777778,\"#fb9f3a\"],[0.8888888888888888,\"#fdca26\"],[1.0,\"#f0f921\"]],\"type\":\"heatmap\"}],\"histogram2dcontour\":[{\"colorbar\":{\"outlinewidth\":0,\"ticks\":\"\"},\"colorscale\":[[0.0,\"#0d0887\"],[0.1111111111111111,\"#46039f\"],[0.2222222222222222,\"#7201a8\"],[0.3333333333333333,\"#9c179e\"],[0.4444444444444444,\"#bd3786\"],[0.5555555555555556,\"#d8576b\"],[0.6666666666666666,\"#ed7953\"],[0.7777777777777778,\"#fb9f3a\"],[0.8888888888888888,\"#fdca26\"],[1.0,\"#f0f921\"]],\"type\":\"histogram2dcontour\"}],\"histogram2d\":[{\"colorbar\":{\"outlinewidth\":0,\"ticks\":\"\"},\"colorscale\":[[0.0,\"#0d0887\"],[0.1111111111111111,\"#46039f\"],[0.2222222222222222,\"#7201a8\"],[0.3333333333333333,\"#9c179e\"],[0.4444444444444444,\"#bd3786\"],[0.5555555555555556,\"#d8576b\"],[0.6666666666666666,\"#ed7953\"],[0.7777777777777778,\"#fb9f3a\"],[0.8888888888888888,\"#fdca26\"],[1.0,\"#f0f921\"]],\"type\":\"histogram2d\"}],\"histogram\":[{\"marker\":{\"pattern\":{\"fillmode\":\"overlay\",\"size\":10,\"solidity\":0.2}},\"type\":\"histogram\"}],\"mesh3d\":[{\"colorbar\":{\"outlinewidth\":0,\"ticks\":\"\"},\"type\":\"mesh3d\"}],\"parcoords\":[{\"line\":{\"colorbar\":{\"outlinewidth\":0,\"ticks\":\"\"}},\"type\":\"parcoords\"}],\"pie\":[{\"automargin\":true,\"type\":\"pie\"}],\"scatter3d\":[{\"line\":{\"colorbar\":{\"outlinewidth\":0,\"ticks\":\"\"}},\"marker\":{\"colorbar\":{\"outlinewidth\":0,\"ticks\":\"\"}},\"type\":\"scatter3d\"}],\"scattercarpet\":[{\"marker\":{\"colorbar\":{\"outlinewidth\":0,\"ticks\":\"\"}},\"type\":\"scattercarpet\"}],\"scattergeo\":[{\"marker\":{\"colorbar\":{\"outlinewidth\":0,\"ticks\":\"\"}},\"type\":\"scattergeo\"}],\"scattergl\":[{\"marker\":{\"colorbar\":{\"outlinewidth\":0,\"ticks\":\"\"}},\"type\":\"scattergl\"}],\"scattermapbox\":[{\"marker\":{\"colorbar\":{\"outlinewidth\":0,\"ticks\":\"\"}},\"type\":\"scattermapbox\"}],\"scatterpolargl\":[{\"marker\":{\"colorbar\":{\"outlinewidth\":0,\"ticks\":\"\"}},\"type\":\"scatterpolargl\"}],\"scatterpolar\":[{\"marker\":{\"colorbar\":{\"outlinewidth\":0,\"ticks\":\"\"}},\"type\":\"scatterpolar\"}],\"scatter\":[{\"fillpattern\":{\"fillmode\":\"overlay\",\"size\":10,\"solidity\":0.2},\"type\":\"scatter\"}],\"scatterternary\":[{\"marker\":{\"colorbar\":{\"outlinewidth\":0,\"ticks\":\"\"}},\"type\":\"scatterternary\"}],\"surface\":[{\"colorbar\":{\"outlinewidth\":0,\"ticks\":\"\"},\"colorscale\":[[0.0,\"#0d0887\"],[0.1111111111111111,\"#46039f\"],[0.2222222222222222,\"#7201a8\"],[0.3333333333333333,\"#9c179e\"],[0.4444444444444444,\"#bd3786\"],[0.5555555555555556,\"#d8576b\"],[0.6666666666666666,\"#ed7953\"],[0.7777777777777778,\"#fb9f3a\"],[0.8888888888888888,\"#fdca26\"],[1.0,\"#f0f921\"]],\"type\":\"surface\"}],\"table\":[{\"cells\":{\"fill\":{\"color\":\"#EBF0F8\"},\"line\":{\"color\":\"white\"}},\"header\":{\"fill\":{\"color\":\"#C8D4E3\"},\"line\":{\"color\":\"white\"}},\"type\":\"table\"}]},\"layout\":{\"annotationdefaults\":{\"arrowcolor\":\"#2a3f5f\",\"arrowhead\":0,\"arrowwidth\":1},\"autotypenumbers\":\"strict\",\"coloraxis\":{\"colorbar\":{\"outlinewidth\":0,\"ticks\":\"\"}},\"colorscale\":{\"diverging\":[[0,\"#8e0152\"],[0.1,\"#c51b7d\"],[0.2,\"#de77ae\"],[0.3,\"#f1b6da\"],[0.4,\"#fde0ef\"],[0.5,\"#f7f7f7\"],[0.6,\"#e6f5d0\"],[0.7,\"#b8e186\"],[0.8,\"#7fbc41\"],[0.9,\"#4d9221\"],[1,\"#276419\"]],\"sequential\":[[0.0,\"#0d0887\"],[0.1111111111111111,\"#46039f\"],[0.2222222222222222,\"#7201a8\"],[0.3333333333333333,\"#9c179e\"],[0.4444444444444444,\"#bd3786\"],[0.5555555555555556,\"#d8576b\"],[0.6666666666666666,\"#ed7953\"],[0.7777777777777778,\"#fb9f3a\"],[0.8888888888888888,\"#fdca26\"],[1.0,\"#f0f921\"]],\"sequentialminus\":[[0.0,\"#0d0887\"],[0.1111111111111111,\"#46039f\"],[0.2222222222222222,\"#7201a8\"],[0.3333333333333333,\"#9c179e\"],[0.4444444444444444,\"#bd3786\"],[0.5555555555555556,\"#d8576b\"],[0.6666666666666666,\"#ed7953\"],[0.7777777777777778,\"#fb9f3a\"],[0.8888888888888888,\"#fdca26\"],[1.0,\"#f0f921\"]]},\"colorway\":[\"#636efa\",\"#EF553B\",\"#00cc96\",\"#ab63fa\",\"#FFA15A\",\"#19d3f3\",\"#FF6692\",\"#B6E880\",\"#FF97FF\",\"#FECB52\"],\"font\":{\"color\":\"#2a3f5f\"},\"geo\":{\"bgcolor\":\"white\",\"lakecolor\":\"white\",\"landcolor\":\"#E5ECF6\",\"showlakes\":true,\"showland\":true,\"subunitcolor\":\"white\"},\"hoverlabel\":{\"align\":\"left\"},\"hovermode\":\"closest\",\"mapbox\":{\"style\":\"light\"},\"paper_bgcolor\":\"white\",\"plot_bgcolor\":\"#E5ECF6\",\"polar\":{\"angularaxis\":{\"gridcolor\":\"white\",\"linecolor\":\"white\",\"ticks\":\"\"},\"bgcolor\":\"#E5ECF6\",\"radialaxis\":{\"gridcolor\":\"white\",\"linecolor\":\"white\",\"ticks\":\"\"}},\"scene\":{\"xaxis\":{\"backgroundcolor\":\"#E5ECF6\",\"gridcolor\":\"white\",\"gridwidth\":2,\"linecolor\":\"white\",\"showbackground\":true,\"ticks\":\"\",\"zerolinecolor\":\"white\"},\"yaxis\":{\"backgroundcolor\":\"#E5ECF6\",\"gridcolor\":\"white\",\"gridwidth\":2,\"linecolor\":\"white\",\"showbackground\":true,\"ticks\":\"\",\"zerolinecolor\":\"white\"},\"zaxis\":{\"backgroundcolor\":\"#E5ECF6\",\"gridcolor\":\"white\",\"gridwidth\":2,\"linecolor\":\"white\",\"showbackground\":true,\"ticks\":\"\",\"zerolinecolor\":\"white\"}},\"shapedefaults\":{\"line\":{\"color\":\"#2a3f5f\"}},\"ternary\":{\"aaxis\":{\"gridcolor\":\"white\",\"linecolor\":\"white\",\"ticks\":\"\"},\"baxis\":{\"gridcolor\":\"white\",\"linecolor\":\"white\",\"ticks\":\"\"},\"bgcolor\":\"#E5ECF6\",\"caxis\":{\"gridcolor\":\"white\",\"linecolor\":\"white\",\"ticks\":\"\"}},\"title\":{\"x\":0.05},\"xaxis\":{\"automargin\":true,\"gridcolor\":\"white\",\"linecolor\":\"white\",\"ticks\":\"\",\"title\":{\"standoff\":15},\"zerolinecolor\":\"white\",\"zerolinewidth\":2},\"yaxis\":{\"automargin\":true,\"gridcolor\":\"white\",\"linecolor\":\"white\",\"ticks\":\"\",\"title\":{\"standoff\":15},\"zerolinecolor\":\"white\",\"zerolinewidth\":2}}},\"title\":{\"font\":{\"color\":\"#151516\"},\"text\":\"Total cumulative Committee Contributions for candidates over time\"},\"xaxis\":{\"gridcolor\":\"#F6F6F6\",\"showgrid\":true,\"tickfont\":{\"color\":\"#666666\"},\"title\":{\"font\":{\"color\":\"#666666\"},\"text\":\"\"},\"zerolinecolor\":\"#F6F6F6\"},\"yaxis\":{\"gridcolor\":\"#F6F6F6\",\"showgrid\":true,\"tickfont\":{\"color\":\"#666666\"},\"title\":{\"font\":{\"color\":\"#666666\"},\"text\":\"\"},\"zerolinecolor\":\"#F6F6F6\"}},                        {\"showLink\": true, \"linkText\": \"Export to plot.ly\", \"plotlyServerURL\": \"https://plot.ly\", \"responsive\": true}                    ).then(function(){\n",
       "                            \n",
       "var gd = document.getElementById('b2d83b51-1550-4f51-8a02-5d7355ae6e7a');\n",
       "var x = new MutationObserver(function (mutations, observer) {{\n",
       "        var display = window.getComputedStyle(gd).display;\n",
       "        if (!display || display === 'none') {{\n",
       "            console.log([gd, 'removed!']);\n",
       "            Plotly.purge(gd);\n",
       "            observer.disconnect();\n",
       "        }}\n",
       "}});\n",
       "\n",
       "// Listen for the removal of the full notebook cells\n",
       "var notebookContainer = gd.closest('#notebook-container');\n",
       "if (notebookContainer) {{\n",
       "    x.observe(notebookContainer, {childList: true});\n",
       "}}\n",
       "\n",
       "// Listen for the clearing of the current output cell\n",
       "var outputEl = gd.closest('.output');\n",
       "if (outputEl) {{\n",
       "    x.observe(outputEl, {childList: true});\n",
       "}}\n",
       "\n",
       "                        })                };                });            </script>        </div>"
      ]
     },
     "metadata": {},
     "output_type": "display_data"
    }
   ],
   "source": [
    "ctrbs_by_dt = contribs.groupby(['TRANSACTION_DT', \n",
    "                                'CAND_NAME']).agg({'TRANSACTION_AMT': 'sum'}).reset_index()\n",
    "ctrbs_by_dt = ctrbs_by_dt.pivot_table(index='TRANSACTION_DT', \n",
    "                                      columns=['CAND_NAME'], fill_value=0.0).droplevel(level=0, axis=1)\n",
    "ctrbs_by_dt.cumsum().iplot(title='Total cumulative Committee Contributions for candidates over time', \n",
    "                           colors=color_map)"
   ]
  },
  {
   "cell_type": "markdown",
   "metadata": {
    "papermill": {
     "duration": 0.06955,
     "end_time": "2020-09-02T04:53:59.559921",
     "exception": false,
     "start_time": "2020-09-02T04:53:59.490371",
     "status": "completed"
    },
    "tags": []
   },
   "source": [
    "### Committee expenditures for candidates"
   ]
  },
  {
   "cell_type": "code",
   "execution_count": 35,
   "metadata": {
    "_kg_hide-input": true,
    "_kg_hide-output": true,
    "execution": {
     "iopub.execute_input": "2020-09-02T04:53:59.706637Z",
     "iopub.status.busy": "2020-09-02T04:53:59.705487Z",
     "iopub.status.idle": "2020-09-02T04:53:59.794498Z",
     "shell.execute_reply": "2020-09-02T04:53:59.795118Z"
    },
    "papermill": {
     "duration": 0.167664,
     "end_time": "2020-09-02T04:53:59.795298",
     "exception": false,
     "start_time": "2020-09-02T04:53:59.627634",
     "status": "completed"
    },
    "tags": []
   },
   "outputs": [
    {
     "data": {
      "text/html": [
       "<div>\n",
       "<style scoped>\n",
       "    .dataframe tbody tr th:only-of-type {\n",
       "        vertical-align: middle;\n",
       "    }\n",
       "\n",
       "    .dataframe tbody tr th {\n",
       "        vertical-align: top;\n",
       "    }\n",
       "\n",
       "    .dataframe thead th {\n",
       "        text-align: right;\n",
       "    }\n",
       "</style>\n",
       "<table border=\"1\" class=\"dataframe\">\n",
       "  <thead>\n",
       "    <tr style=\"text-align: right;\">\n",
       "      <th></th>\n",
       "      <th>CMTE_ID</th>\n",
       "      <th>AMNDT_IND</th>\n",
       "      <th>RPT_TP</th>\n",
       "      <th>TRANSACTION_PGI</th>\n",
       "      <th>IMAGE_NUM</th>\n",
       "      <th>TRANSACTION_TP</th>\n",
       "      <th>ENTITY_TP</th>\n",
       "      <th>NAME</th>\n",
       "      <th>CITY</th>\n",
       "      <th>STATE</th>\n",
       "      <th>ZIP_CODE</th>\n",
       "      <th>EMPLOYER</th>\n",
       "      <th>OCCUPATION</th>\n",
       "      <th>TRANSACTION_DT</th>\n",
       "      <th>TRANSACTION_AMT</th>\n",
       "      <th>OTHER_ID</th>\n",
       "      <th>CAND_ID</th>\n",
       "      <th>TRAN_ID</th>\n",
       "      <th>FILE_NUM</th>\n",
       "      <th>MEMO_CD</th>\n",
       "      <th>MEMO_TEXT</th>\n",
       "      <th>SUB_ID</th>\n",
       "      <th>AMNDT_IND_FULL</th>\n",
       "      <th>RPT_TP_FULL</th>\n",
       "      <th>ELECTION_TYPE</th>\n",
       "      <th>ELECTION_YEAR</th>\n",
       "      <th>TRANSACTION_TP_FULL</th>\n",
       "      <th>ENTITY_TP_FULL</th>\n",
       "      <th>TRAN_ID_parent</th>\n",
       "      <th>TRAN_ID_child</th>\n",
       "      <th>CAND_NAME</th>\n",
       "      <th>CAND_ICI</th>\n",
       "      <th>PTY_CD</th>\n",
       "      <th>CAND_PTY_AFFILIATION</th>\n",
       "      <th>TTL_RECEIPTS</th>\n",
       "      <th>TRANS_FROM_AUTH</th>\n",
       "      <th>TTL_DISB</th>\n",
       "      <th>TRANS_TO_AUTH</th>\n",
       "      <th>COH_BOP</th>\n",
       "      <th>COH_COP</th>\n",
       "      <th>CAND_CONTRIB</th>\n",
       "      <th>CAND_LOANS</th>\n",
       "      <th>OTHER_LOANS</th>\n",
       "      <th>CAND_LOAN_REPAY</th>\n",
       "      <th>OTHER_LOAN_REPAY</th>\n",
       "      <th>DEBTS_OWED_BY</th>\n",
       "      <th>TTL_INDIV_CONTRIB</th>\n",
       "      <th>CAND_OFFICE_ST</th>\n",
       "      <th>CAND_OFFICE_DISTRICT</th>\n",
       "      <th>SPEC_ELECTION</th>\n",
       "      <th>PRIM_ELECTION</th>\n",
       "      <th>RUN_ELECTION</th>\n",
       "      <th>GEN_ELECTION</th>\n",
       "      <th>GEN_ELECTION_PRECENT</th>\n",
       "      <th>OTHER_POL_CMTE_CONTRIB</th>\n",
       "      <th>POL_PTY_CONTRIB</th>\n",
       "      <th>CVG_END_DT</th>\n",
       "      <th>INDIV_REFUNDS</th>\n",
       "      <th>CMTE_REFUNDS</th>\n",
       "      <th>TTL_RECEIPTS_CORRECTED</th>\n",
       "      <th>TTL_DISB_CORRECTED</th>\n",
       "      <th>CAND_ICI_FULL</th>\n",
       "      <th>CAND_PTY_AFFILIATION_FULL</th>\n",
       "      <th>color</th>\n",
       "      <th>second_color</th>\n",
       "      <th>CMTE_NM</th>\n",
       "      <th>TRES_NM</th>\n",
       "      <th>CMTE_ST1</th>\n",
       "      <th>CMTE_ST2</th>\n",
       "      <th>CMTE_CITY</th>\n",
       "      <th>CMTE_ST</th>\n",
       "      <th>CMTE_ZIP</th>\n",
       "      <th>CMTE_DSGN</th>\n",
       "      <th>CMTE_TP</th>\n",
       "      <th>CMTE_PTY_AFFILIATION</th>\n",
       "      <th>CMTE_FILING_FREQ</th>\n",
       "      <th>ORG_TP</th>\n",
       "      <th>CONNECTED_ORG_NM</th>\n",
       "      <th>CAND_ID_y</th>\n",
       "      <th>for_against</th>\n",
       "    </tr>\n",
       "  </thead>\n",
       "  <tbody>\n",
       "    <tr>\n",
       "      <th>494</th>\n",
       "      <td>C00571703</td>\n",
       "      <td>N</td>\n",
       "      <td>YE</td>\n",
       "      <td>P2020</td>\n",
       "      <td>202001319185087439</td>\n",
       "      <td>24E</td>\n",
       "      <td>ORG</td>\n",
       "      <td>MCCARTHY HENNINGS WHALEN INC.</td>\n",
       "      <td>WASHINGTON</td>\n",
       "      <td>DC</td>\n",
       "      <td>20036</td>\n",
       "      <td>NaN</td>\n",
       "      <td>NaN</td>\n",
       "      <td>2019-12-20</td>\n",
       "      <td>2734</td>\n",
       "      <td>S4NC00162</td>\n",
       "      <td>S4NC00162</td>\n",
       "      <td>SE24.15378</td>\n",
       "      <td>1378798</td>\n",
       "      <td>NaN</td>\n",
       "      <td>NaN</td>\n",
       "      <td>4020120201686471398</td>\n",
       "      <td>New</td>\n",
       "      <td>Year end</td>\n",
       "      <td>Primary</td>\n",
       "      <td>2020</td>\n",
       "      <td>Independent expenditure advocating election of...</td>\n",
       "      <td>Organization (not a committee and not a person)</td>\n",
       "      <td>SE24</td>\n",
       "      <td>15378</td>\n",
       "      <td>TILLIS, THOM R. SEN.</td>\n",
       "      <td>I</td>\n",
       "      <td>2</td>\n",
       "      <td>REP</td>\n",
       "      <td>8269271.66</td>\n",
       "      <td>1152018.96</td>\n",
       "      <td>3811302.27</td>\n",
       "      <td>6441.91</td>\n",
       "      <td>2025444.43</td>\n",
       "      <td>6483413.82</td>\n",
       "      <td>0.0</td>\n",
       "      <td>0.0</td>\n",
       "      <td>0.0</td>\n",
       "      <td>0.0</td>\n",
       "      <td>0.0</td>\n",
       "      <td>0.0</td>\n",
       "      <td>4798506.58</td>\n",
       "      <td>NC</td>\n",
       "      <td>00</td>\n",
       "      <td>NaN</td>\n",
       "      <td>NaN</td>\n",
       "      <td>NaN</td>\n",
       "      <td>NaN</td>\n",
       "      <td>NaN</td>\n",
       "      <td>2278244.39</td>\n",
       "      <td>0.0</td>\n",
       "      <td>06/09/2020</td>\n",
       "      <td>102493.33</td>\n",
       "      <td>14425.67</td>\n",
       "      <td>7117252.7</td>\n",
       "      <td>3804860.36</td>\n",
       "      <td>Incumbent</td>\n",
       "      <td>Republican Party</td>\n",
       "      <td>red</td>\n",
       "      <td>pink</td>\n",
       "      <td>SENATE LEADERSHIP FUND</td>\n",
       "      <td>CALEB CROSBY</td>\n",
       "      <td>45 NORTH HILL DRIVE STE 100</td>\n",
       "      <td>NaN</td>\n",
       "      <td>WARRENTON</td>\n",
       "      <td>VA</td>\n",
       "      <td>20186</td>\n",
       "      <td>U</td>\n",
       "      <td>O</td>\n",
       "      <td>NaN</td>\n",
       "      <td>M</td>\n",
       "      <td>NaN</td>\n",
       "      <td>NaN</td>\n",
       "      <td>NaN</td>\n",
       "      <td>For</td>\n",
       "    </tr>\n",
       "    <tr>\n",
       "      <th>495</th>\n",
       "      <td>C00571703</td>\n",
       "      <td>N</td>\n",
       "      <td>YE</td>\n",
       "      <td>P2020</td>\n",
       "      <td>202001319185087444</td>\n",
       "      <td>24E</td>\n",
       "      <td>ORG</td>\n",
       "      <td>RICHARD SALES MEDIA</td>\n",
       "      <td>PHOENIX</td>\n",
       "      <td>AZ</td>\n",
       "      <td>85016</td>\n",
       "      <td>NaN</td>\n",
       "      <td>NaN</td>\n",
       "      <td>2019-12-20</td>\n",
       "      <td>600</td>\n",
       "      <td>S4NC00162</td>\n",
       "      <td>S4NC00162</td>\n",
       "      <td>SE24.15376</td>\n",
       "      <td>1378798</td>\n",
       "      <td>NaN</td>\n",
       "      <td>NaN</td>\n",
       "      <td>4020120201686471408</td>\n",
       "      <td>New</td>\n",
       "      <td>Year end</td>\n",
       "      <td>Primary</td>\n",
       "      <td>2020</td>\n",
       "      <td>Independent expenditure advocating election of...</td>\n",
       "      <td>Organization (not a committee and not a person)</td>\n",
       "      <td>SE24</td>\n",
       "      <td>15376</td>\n",
       "      <td>TILLIS, THOM R. SEN.</td>\n",
       "      <td>I</td>\n",
       "      <td>2</td>\n",
       "      <td>REP</td>\n",
       "      <td>8269271.66</td>\n",
       "      <td>1152018.96</td>\n",
       "      <td>3811302.27</td>\n",
       "      <td>6441.91</td>\n",
       "      <td>2025444.43</td>\n",
       "      <td>6483413.82</td>\n",
       "      <td>0.0</td>\n",
       "      <td>0.0</td>\n",
       "      <td>0.0</td>\n",
       "      <td>0.0</td>\n",
       "      <td>0.0</td>\n",
       "      <td>0.0</td>\n",
       "      <td>4798506.58</td>\n",
       "      <td>NC</td>\n",
       "      <td>00</td>\n",
       "      <td>NaN</td>\n",
       "      <td>NaN</td>\n",
       "      <td>NaN</td>\n",
       "      <td>NaN</td>\n",
       "      <td>NaN</td>\n",
       "      <td>2278244.39</td>\n",
       "      <td>0.0</td>\n",
       "      <td>06/09/2020</td>\n",
       "      <td>102493.33</td>\n",
       "      <td>14425.67</td>\n",
       "      <td>7117252.7</td>\n",
       "      <td>3804860.36</td>\n",
       "      <td>Incumbent</td>\n",
       "      <td>Republican Party</td>\n",
       "      <td>red</td>\n",
       "      <td>pink</td>\n",
       "      <td>SENATE LEADERSHIP FUND</td>\n",
       "      <td>CALEB CROSBY</td>\n",
       "      <td>45 NORTH HILL DRIVE STE 100</td>\n",
       "      <td>NaN</td>\n",
       "      <td>WARRENTON</td>\n",
       "      <td>VA</td>\n",
       "      <td>20186</td>\n",
       "      <td>U</td>\n",
       "      <td>O</td>\n",
       "      <td>NaN</td>\n",
       "      <td>M</td>\n",
       "      <td>NaN</td>\n",
       "      <td>NaN</td>\n",
       "      <td>NaN</td>\n",
       "      <td>For</td>\n",
       "    </tr>\n",
       "    <tr>\n",
       "      <th>496</th>\n",
       "      <td>C00571703</td>\n",
       "      <td>N</td>\n",
       "      <td>YE</td>\n",
       "      <td>P2020</td>\n",
       "      <td>202001319185087444</td>\n",
       "      <td>24E</td>\n",
       "      <td>ORG</td>\n",
       "      <td>RICHARD SALES MEDIA</td>\n",
       "      <td>PHOENIX</td>\n",
       "      <td>AZ</td>\n",
       "      <td>85016</td>\n",
       "      <td>NaN</td>\n",
       "      <td>NaN</td>\n",
       "      <td>2019-12-20</td>\n",
       "      <td>400</td>\n",
       "      <td>S4NC00162</td>\n",
       "      <td>S4NC00162</td>\n",
       "      <td>SE24.15377</td>\n",
       "      <td>1378798</td>\n",
       "      <td>NaN</td>\n",
       "      <td>NaN</td>\n",
       "      <td>4020120201686471409</td>\n",
       "      <td>New</td>\n",
       "      <td>Year end</td>\n",
       "      <td>Primary</td>\n",
       "      <td>2020</td>\n",
       "      <td>Independent expenditure advocating election of...</td>\n",
       "      <td>Organization (not a committee and not a person)</td>\n",
       "      <td>SE24</td>\n",
       "      <td>15377</td>\n",
       "      <td>TILLIS, THOM R. SEN.</td>\n",
       "      <td>I</td>\n",
       "      <td>2</td>\n",
       "      <td>REP</td>\n",
       "      <td>8269271.66</td>\n",
       "      <td>1152018.96</td>\n",
       "      <td>3811302.27</td>\n",
       "      <td>6441.91</td>\n",
       "      <td>2025444.43</td>\n",
       "      <td>6483413.82</td>\n",
       "      <td>0.0</td>\n",
       "      <td>0.0</td>\n",
       "      <td>0.0</td>\n",
       "      <td>0.0</td>\n",
       "      <td>0.0</td>\n",
       "      <td>0.0</td>\n",
       "      <td>4798506.58</td>\n",
       "      <td>NC</td>\n",
       "      <td>00</td>\n",
       "      <td>NaN</td>\n",
       "      <td>NaN</td>\n",
       "      <td>NaN</td>\n",
       "      <td>NaN</td>\n",
       "      <td>NaN</td>\n",
       "      <td>2278244.39</td>\n",
       "      <td>0.0</td>\n",
       "      <td>06/09/2020</td>\n",
       "      <td>102493.33</td>\n",
       "      <td>14425.67</td>\n",
       "      <td>7117252.7</td>\n",
       "      <td>3804860.36</td>\n",
       "      <td>Incumbent</td>\n",
       "      <td>Republican Party</td>\n",
       "      <td>red</td>\n",
       "      <td>pink</td>\n",
       "      <td>SENATE LEADERSHIP FUND</td>\n",
       "      <td>CALEB CROSBY</td>\n",
       "      <td>45 NORTH HILL DRIVE STE 100</td>\n",
       "      <td>NaN</td>\n",
       "      <td>WARRENTON</td>\n",
       "      <td>VA</td>\n",
       "      <td>20186</td>\n",
       "      <td>U</td>\n",
       "      <td>O</td>\n",
       "      <td>NaN</td>\n",
       "      <td>M</td>\n",
       "      <td>NaN</td>\n",
       "      <td>NaN</td>\n",
       "      <td>NaN</td>\n",
       "      <td>For</td>\n",
       "    </tr>\n",
       "    <tr>\n",
       "      <th>497</th>\n",
       "      <td>C00571703</td>\n",
       "      <td>N</td>\n",
       "      <td>YE</td>\n",
       "      <td>P2020</td>\n",
       "      <td>202001319185087445</td>\n",
       "      <td>24E</td>\n",
       "      <td>ORG</td>\n",
       "      <td>TARGETED VICTORY LLC</td>\n",
       "      <td>ARLINGTON</td>\n",
       "      <td>VA</td>\n",
       "      <td>22201</td>\n",
       "      <td>NaN</td>\n",
       "      <td>NaN</td>\n",
       "      <td>2019-12-11</td>\n",
       "      <td>50000</td>\n",
       "      <td>S4NC00162</td>\n",
       "      <td>S4NC00162</td>\n",
       "      <td>SE24.15375</td>\n",
       "      <td>1378798</td>\n",
       "      <td>NaN</td>\n",
       "      <td>NaN</td>\n",
       "      <td>4020120201686471410</td>\n",
       "      <td>New</td>\n",
       "      <td>Year end</td>\n",
       "      <td>Primary</td>\n",
       "      <td>2020</td>\n",
       "      <td>Independent expenditure advocating election of...</td>\n",
       "      <td>Organization (not a committee and not a person)</td>\n",
       "      <td>SE24</td>\n",
       "      <td>15375</td>\n",
       "      <td>TILLIS, THOM R. SEN.</td>\n",
       "      <td>I</td>\n",
       "      <td>2</td>\n",
       "      <td>REP</td>\n",
       "      <td>8269271.66</td>\n",
       "      <td>1152018.96</td>\n",
       "      <td>3811302.27</td>\n",
       "      <td>6441.91</td>\n",
       "      <td>2025444.43</td>\n",
       "      <td>6483413.82</td>\n",
       "      <td>0.0</td>\n",
       "      <td>0.0</td>\n",
       "      <td>0.0</td>\n",
       "      <td>0.0</td>\n",
       "      <td>0.0</td>\n",
       "      <td>0.0</td>\n",
       "      <td>4798506.58</td>\n",
       "      <td>NC</td>\n",
       "      <td>00</td>\n",
       "      <td>NaN</td>\n",
       "      <td>NaN</td>\n",
       "      <td>NaN</td>\n",
       "      <td>NaN</td>\n",
       "      <td>NaN</td>\n",
       "      <td>2278244.39</td>\n",
       "      <td>0.0</td>\n",
       "      <td>06/09/2020</td>\n",
       "      <td>102493.33</td>\n",
       "      <td>14425.67</td>\n",
       "      <td>7117252.7</td>\n",
       "      <td>3804860.36</td>\n",
       "      <td>Incumbent</td>\n",
       "      <td>Republican Party</td>\n",
       "      <td>red</td>\n",
       "      <td>pink</td>\n",
       "      <td>SENATE LEADERSHIP FUND</td>\n",
       "      <td>CALEB CROSBY</td>\n",
       "      <td>45 NORTH HILL DRIVE STE 100</td>\n",
       "      <td>NaN</td>\n",
       "      <td>WARRENTON</td>\n",
       "      <td>VA</td>\n",
       "      <td>20186</td>\n",
       "      <td>U</td>\n",
       "      <td>O</td>\n",
       "      <td>NaN</td>\n",
       "      <td>M</td>\n",
       "      <td>NaN</td>\n",
       "      <td>NaN</td>\n",
       "      <td>NaN</td>\n",
       "      <td>For</td>\n",
       "    </tr>\n",
       "    <tr>\n",
       "      <th>539</th>\n",
       "      <td>C00514125</td>\n",
       "      <td>N</td>\n",
       "      <td>YE</td>\n",
       "      <td>P2020</td>\n",
       "      <td>202001299182384741</td>\n",
       "      <td>24A</td>\n",
       "      <td>ORG</td>\n",
       "      <td>UP ON AIR BUYING, LLC</td>\n",
       "      <td>DALLAS</td>\n",
       "      <td>TX</td>\n",
       "      <td>75219</td>\n",
       "      <td>NaN</td>\n",
       "      <td>NaN</td>\n",
       "      <td>2019-10-11</td>\n",
       "      <td>254000</td>\n",
       "      <td>S4NC00162</td>\n",
       "      <td>S4NC00162</td>\n",
       "      <td>SE.4447</td>\n",
       "      <td>1374809</td>\n",
       "      <td>NaN</td>\n",
       "      <td>NaN</td>\n",
       "      <td>4013020201686174178</td>\n",
       "      <td>New</td>\n",
       "      <td>Year end</td>\n",
       "      <td>Primary</td>\n",
       "      <td>2020</td>\n",
       "      <td>Independent expenditure opposing election of c...</td>\n",
       "      <td>Organization (not a committee and not a person)</td>\n",
       "      <td>SE</td>\n",
       "      <td>4447</td>\n",
       "      <td>TILLIS, THOM R. SEN.</td>\n",
       "      <td>I</td>\n",
       "      <td>2</td>\n",
       "      <td>REP</td>\n",
       "      <td>8269271.66</td>\n",
       "      <td>1152018.96</td>\n",
       "      <td>3811302.27</td>\n",
       "      <td>6441.91</td>\n",
       "      <td>2025444.43</td>\n",
       "      <td>6483413.82</td>\n",
       "      <td>0.0</td>\n",
       "      <td>0.0</td>\n",
       "      <td>0.0</td>\n",
       "      <td>0.0</td>\n",
       "      <td>0.0</td>\n",
       "      <td>0.0</td>\n",
       "      <td>4798506.58</td>\n",
       "      <td>NC</td>\n",
       "      <td>00</td>\n",
       "      <td>NaN</td>\n",
       "      <td>NaN</td>\n",
       "      <td>NaN</td>\n",
       "      <td>NaN</td>\n",
       "      <td>NaN</td>\n",
       "      <td>2278244.39</td>\n",
       "      <td>0.0</td>\n",
       "      <td>06/09/2020</td>\n",
       "      <td>102493.33</td>\n",
       "      <td>14425.67</td>\n",
       "      <td>7117252.7</td>\n",
       "      <td>3804860.36</td>\n",
       "      <td>Incumbent</td>\n",
       "      <td>Republican Party</td>\n",
       "      <td>red</td>\n",
       "      <td>pink</td>\n",
       "      <td>THE AMERICAN FOUNDATIONS COMMITTEE</td>\n",
       "      <td>KILGORE, PAUL</td>\n",
       "      <td>4800 SIX FORKS RD</td>\n",
       "      <td>STE 100</td>\n",
       "      <td>RALEIGH</td>\n",
       "      <td>NC</td>\n",
       "      <td>27609</td>\n",
       "      <td>U</td>\n",
       "      <td>O</td>\n",
       "      <td>NaN</td>\n",
       "      <td>Q</td>\n",
       "      <td>NaN</td>\n",
       "      <td>NaN</td>\n",
       "      <td>NaN</td>\n",
       "      <td>Against</td>\n",
       "    </tr>\n",
       "  </tbody>\n",
       "</table>\n",
       "</div>"
      ],
      "text/plain": [
       "       CMTE_ID AMNDT_IND RPT_TP TRANSACTION_PGI           IMAGE_NUM  \\\n",
       "494  C00571703         N     YE           P2020  202001319185087439   \n",
       "495  C00571703         N     YE           P2020  202001319185087444   \n",
       "496  C00571703         N     YE           P2020  202001319185087444   \n",
       "497  C00571703         N     YE           P2020  202001319185087445   \n",
       "539  C00514125         N     YE           P2020  202001299182384741   \n",
       "\n",
       "    TRANSACTION_TP ENTITY_TP                           NAME        CITY STATE  \\\n",
       "494            24E       ORG  MCCARTHY HENNINGS WHALEN INC.  WASHINGTON    DC   \n",
       "495            24E       ORG            RICHARD SALES MEDIA     PHOENIX    AZ   \n",
       "496            24E       ORG            RICHARD SALES MEDIA     PHOENIX    AZ   \n",
       "497            24E       ORG           TARGETED VICTORY LLC   ARLINGTON    VA   \n",
       "539            24A       ORG          UP ON AIR BUYING, LLC      DALLAS    TX   \n",
       "\n",
       "    ZIP_CODE EMPLOYER OCCUPATION TRANSACTION_DT  TRANSACTION_AMT   OTHER_ID  \\\n",
       "494    20036      NaN        NaN     2019-12-20             2734  S4NC00162   \n",
       "495    85016      NaN        NaN     2019-12-20              600  S4NC00162   \n",
       "496    85016      NaN        NaN     2019-12-20              400  S4NC00162   \n",
       "497    22201      NaN        NaN     2019-12-11            50000  S4NC00162   \n",
       "539    75219      NaN        NaN     2019-10-11           254000  S4NC00162   \n",
       "\n",
       "       CAND_ID     TRAN_ID  FILE_NUM MEMO_CD MEMO_TEXT               SUB_ID  \\\n",
       "494  S4NC00162  SE24.15378   1378798     NaN       NaN  4020120201686471398   \n",
       "495  S4NC00162  SE24.15376   1378798     NaN       NaN  4020120201686471408   \n",
       "496  S4NC00162  SE24.15377   1378798     NaN       NaN  4020120201686471409   \n",
       "497  S4NC00162  SE24.15375   1378798     NaN       NaN  4020120201686471410   \n",
       "539  S4NC00162     SE.4447   1374809     NaN       NaN  4013020201686174178   \n",
       "\n",
       "    AMNDT_IND_FULL RPT_TP_FULL ELECTION_TYPE  ELECTION_YEAR  \\\n",
       "494            New    Year end       Primary           2020   \n",
       "495            New    Year end       Primary           2020   \n",
       "496            New    Year end       Primary           2020   \n",
       "497            New    Year end       Primary           2020   \n",
       "539            New    Year end       Primary           2020   \n",
       "\n",
       "                                   TRANSACTION_TP_FULL  \\\n",
       "494  Independent expenditure advocating election of...   \n",
       "495  Independent expenditure advocating election of...   \n",
       "496  Independent expenditure advocating election of...   \n",
       "497  Independent expenditure advocating election of...   \n",
       "539  Independent expenditure opposing election of c...   \n",
       "\n",
       "                                      ENTITY_TP_FULL TRAN_ID_parent  \\\n",
       "494  Organization (not a committee and not a person)           SE24   \n",
       "495  Organization (not a committee and not a person)           SE24   \n",
       "496  Organization (not a committee and not a person)           SE24   \n",
       "497  Organization (not a committee and not a person)           SE24   \n",
       "539  Organization (not a committee and not a person)             SE   \n",
       "\n",
       "    TRAN_ID_child             CAND_NAME CAND_ICI  PTY_CD CAND_PTY_AFFILIATION  \\\n",
       "494         15378  TILLIS, THOM R. SEN.        I       2                  REP   \n",
       "495         15376  TILLIS, THOM R. SEN.        I       2                  REP   \n",
       "496         15377  TILLIS, THOM R. SEN.        I       2                  REP   \n",
       "497         15375  TILLIS, THOM R. SEN.        I       2                  REP   \n",
       "539          4447  TILLIS, THOM R. SEN.        I       2                  REP   \n",
       "\n",
       "     TTL_RECEIPTS  TRANS_FROM_AUTH    TTL_DISB  TRANS_TO_AUTH     COH_BOP  \\\n",
       "494    8269271.66       1152018.96  3811302.27        6441.91  2025444.43   \n",
       "495    8269271.66       1152018.96  3811302.27        6441.91  2025444.43   \n",
       "496    8269271.66       1152018.96  3811302.27        6441.91  2025444.43   \n",
       "497    8269271.66       1152018.96  3811302.27        6441.91  2025444.43   \n",
       "539    8269271.66       1152018.96  3811302.27        6441.91  2025444.43   \n",
       "\n",
       "        COH_COP  CAND_CONTRIB  CAND_LOANS  OTHER_LOANS  CAND_LOAN_REPAY  \\\n",
       "494  6483413.82           0.0         0.0          0.0              0.0   \n",
       "495  6483413.82           0.0         0.0          0.0              0.0   \n",
       "496  6483413.82           0.0         0.0          0.0              0.0   \n",
       "497  6483413.82           0.0         0.0          0.0              0.0   \n",
       "539  6483413.82           0.0         0.0          0.0              0.0   \n",
       "\n",
       "     OTHER_LOAN_REPAY  DEBTS_OWED_BY  TTL_INDIV_CONTRIB CAND_OFFICE_ST  \\\n",
       "494               0.0            0.0         4798506.58             NC   \n",
       "495               0.0            0.0         4798506.58             NC   \n",
       "496               0.0            0.0         4798506.58             NC   \n",
       "497               0.0            0.0         4798506.58             NC   \n",
       "539               0.0            0.0         4798506.58             NC   \n",
       "\n",
       "    CAND_OFFICE_DISTRICT  SPEC_ELECTION  PRIM_ELECTION  RUN_ELECTION  \\\n",
       "494                   00            NaN            NaN           NaN   \n",
       "495                   00            NaN            NaN           NaN   \n",
       "496                   00            NaN            NaN           NaN   \n",
       "497                   00            NaN            NaN           NaN   \n",
       "539                   00            NaN            NaN           NaN   \n",
       "\n",
       "     GEN_ELECTION  GEN_ELECTION_PRECENT  OTHER_POL_CMTE_CONTRIB  \\\n",
       "494           NaN                   NaN              2278244.39   \n",
       "495           NaN                   NaN              2278244.39   \n",
       "496           NaN                   NaN              2278244.39   \n",
       "497           NaN                   NaN              2278244.39   \n",
       "539           NaN                   NaN              2278244.39   \n",
       "\n",
       "     POL_PTY_CONTRIB  CVG_END_DT  INDIV_REFUNDS  CMTE_REFUNDS  \\\n",
       "494              0.0  06/09/2020      102493.33      14425.67   \n",
       "495              0.0  06/09/2020      102493.33      14425.67   \n",
       "496              0.0  06/09/2020      102493.33      14425.67   \n",
       "497              0.0  06/09/2020      102493.33      14425.67   \n",
       "539              0.0  06/09/2020      102493.33      14425.67   \n",
       "\n",
       "     TTL_RECEIPTS_CORRECTED  TTL_DISB_CORRECTED CAND_ICI_FULL  \\\n",
       "494               7117252.7          3804860.36     Incumbent   \n",
       "495               7117252.7          3804860.36     Incumbent   \n",
       "496               7117252.7          3804860.36     Incumbent   \n",
       "497               7117252.7          3804860.36     Incumbent   \n",
       "539               7117252.7          3804860.36     Incumbent   \n",
       "\n",
       "    CAND_PTY_AFFILIATION_FULL color second_color  \\\n",
       "494          Republican Party   red         pink   \n",
       "495          Republican Party   red         pink   \n",
       "496          Republican Party   red         pink   \n",
       "497          Republican Party   red         pink   \n",
       "539          Republican Party   red         pink   \n",
       "\n",
       "                                CMTE_NM        TRES_NM  \\\n",
       "494              SENATE LEADERSHIP FUND   CALEB CROSBY   \n",
       "495              SENATE LEADERSHIP FUND   CALEB CROSBY   \n",
       "496              SENATE LEADERSHIP FUND   CALEB CROSBY   \n",
       "497              SENATE LEADERSHIP FUND   CALEB CROSBY   \n",
       "539  THE AMERICAN FOUNDATIONS COMMITTEE  KILGORE, PAUL   \n",
       "\n",
       "                        CMTE_ST1 CMTE_ST2  CMTE_CITY CMTE_ST CMTE_ZIP  \\\n",
       "494  45 NORTH HILL DRIVE STE 100      NaN  WARRENTON      VA    20186   \n",
       "495  45 NORTH HILL DRIVE STE 100      NaN  WARRENTON      VA    20186   \n",
       "496  45 NORTH HILL DRIVE STE 100      NaN  WARRENTON      VA    20186   \n",
       "497  45 NORTH HILL DRIVE STE 100      NaN  WARRENTON      VA    20186   \n",
       "539            4800 SIX FORKS RD  STE 100    RALEIGH      NC    27609   \n",
       "\n",
       "    CMTE_DSGN CMTE_TP CMTE_PTY_AFFILIATION CMTE_FILING_FREQ ORG_TP  \\\n",
       "494         U       O                  NaN                M    NaN   \n",
       "495         U       O                  NaN                M    NaN   \n",
       "496         U       O                  NaN                M    NaN   \n",
       "497         U       O                  NaN                M    NaN   \n",
       "539         U       O                  NaN                Q    NaN   \n",
       "\n",
       "    CONNECTED_ORG_NM CAND_ID_y for_against  \n",
       "494              NaN       NaN         For  \n",
       "495              NaN       NaN         For  \n",
       "496              NaN       NaN         For  \n",
       "497              NaN       NaN         For  \n",
       "539              NaN       NaN     Against  "
      ]
     },
     "execution_count": 35,
     "metadata": {},
     "output_type": "execute_result"
    }
   ],
   "source": [
    "committee_contribs['for_against'] = committee_contribs['TRANSACTION_TP'].map({\n",
    "    '24A': 'Against', '24E': 'For'})\n",
    "\n",
    "expenditures = committee_contribs[~committee_contribs['for_against'].isnull()]\n",
    "expenditures.head()"
   ]
  },
  {
   "cell_type": "markdown",
   "metadata": {
    "papermill": {
     "duration": 0.070634,
     "end_time": "2020-09-02T04:53:59.939285",
     "exception": false,
     "start_time": "2020-09-02T04:53:59.868651",
     "status": "completed"
    },
    "tags": []
   },
   "source": [
    "**Here are the committees with the largest expenditures**"
   ]
  },
  {
   "cell_type": "code",
   "execution_count": 36,
   "metadata": {
    "_kg_hide-input": true,
    "execution": {
     "iopub.execute_input": "2020-09-02T04:54:00.108391Z",
     "iopub.status.busy": "2020-09-02T04:54:00.107500Z",
     "iopub.status.idle": "2020-09-02T04:54:00.112951Z",
     "shell.execute_reply": "2020-09-02T04:54:00.113509Z"
    },
    "papermill": {
     "duration": 0.101341,
     "end_time": "2020-09-02T04:54:00.113750",
     "exception": false,
     "start_time": "2020-09-02T04:54:00.012409",
     "status": "completed"
    },
    "tags": []
   },
   "outputs": [
    {
     "data": {
      "text/html": [
       "<div>\n",
       "<style scoped>\n",
       "    .dataframe tbody tr th:only-of-type {\n",
       "        vertical-align: middle;\n",
       "    }\n",
       "\n",
       "    .dataframe tbody tr th {\n",
       "        vertical-align: top;\n",
       "    }\n",
       "\n",
       "    .dataframe thead th {\n",
       "        text-align: right;\n",
       "    }\n",
       "</style>\n",
       "<table border=\"1\" class=\"dataframe\">\n",
       "  <thead>\n",
       "    <tr style=\"text-align: right;\">\n",
       "      <th></th>\n",
       "      <th>COMMITTEE_NAME</th>\n",
       "      <th>TRANSACTION_AMT</th>\n",
       "    </tr>\n",
       "  </thead>\n",
       "  <tbody>\n",
       "    <tr>\n",
       "      <th>0</th>\n",
       "      <td>CAROLINA BLUE</td>\n",
       "      <td>4.52M</td>\n",
       "    </tr>\n",
       "    <tr>\n",
       "      <th>1</th>\n",
       "      <td>VOTEVETS</td>\n",
       "      <td>4.29M</td>\n",
       "    </tr>\n",
       "    <tr>\n",
       "      <th>2</th>\n",
       "      <td>AMERICANS FOR PROSPERITY ACTION, INC.(AFP ACTION)</td>\n",
       "      <td>675.66K</td>\n",
       "    </tr>\n",
       "    <tr>\n",
       "      <th>3</th>\n",
       "      <td>THE AMERICAN FOUNDATIONS COMMITTEE</td>\n",
       "      <td>254.00K</td>\n",
       "    </tr>\n",
       "    <tr>\n",
       "      <th>4</th>\n",
       "      <td>FAITH AND POWER PAC</td>\n",
       "      <td>250.01K</td>\n",
       "    </tr>\n",
       "    <tr>\n",
       "      <th>5</th>\n",
       "      <td>SENATE LEADERSHIP FUND</td>\n",
       "      <td>66.99K</td>\n",
       "    </tr>\n",
       "    <tr>\n",
       "      <th>6</th>\n",
       "      <td>INDIVISIBLE ACTION</td>\n",
       "      <td>22.50K</td>\n",
       "    </tr>\n",
       "    <tr>\n",
       "      <th>7</th>\n",
       "      <td>THE LINCOLN PROJECT</td>\n",
       "      <td>11.78K</td>\n",
       "    </tr>\n",
       "    <tr>\n",
       "      <th>8</th>\n",
       "      <td>NATIONAL RIFLE ASSOCIATION OF AMERICA POLITICA...</td>\n",
       "      <td>10.07K</td>\n",
       "    </tr>\n",
       "    <tr>\n",
       "      <th>9</th>\n",
       "      <td>HEALTH JUSTICE FOR ALL</td>\n",
       "      <td>6.52K</td>\n",
       "    </tr>\n",
       "  </tbody>\n",
       "</table>\n",
       "</div>"
      ],
      "text/plain": [
       "                                      COMMITTEE_NAME TRANSACTION_AMT\n",
       "0                                      CAROLINA BLUE           4.52M\n",
       "1                                           VOTEVETS           4.29M\n",
       "2  AMERICANS FOR PROSPERITY ACTION, INC.(AFP ACTION)         675.66K\n",
       "3                 THE AMERICAN FOUNDATIONS COMMITTEE         254.00K\n",
       "4                                FAITH AND POWER PAC         250.01K\n",
       "5                             SENATE LEADERSHIP FUND          66.99K\n",
       "6                                 INDIVISIBLE ACTION          22.50K\n",
       "7                                THE LINCOLN PROJECT          11.78K\n",
       "8  NATIONAL RIFLE ASSOCIATION OF AMERICA POLITICA...          10.07K\n",
       "9                             HEALTH JUSTICE FOR ALL           6.52K"
      ]
     },
     "execution_count": 36,
     "metadata": {},
     "output_type": "execute_result"
    }
   ],
   "source": [
    "largest_expenditures = expenditures.groupby('CMTE_NM').agg({'TRANSACTION_AMT': 'sum'})['TRANSACTION_AMT'].nlargest(10).reset_index()\n",
    "largest_expenditures['TRANSACTION_AMT'] = largest_expenditures['TRANSACTION_AMT'].map(lambda x: render_human_format(x))\n",
    "largest_expenditures.rename({'CMTE_NM': 'COMMITTEE_NAME'}, axis=1)"
   ]
  },
  {
   "cell_type": "code",
   "execution_count": 37,
   "metadata": {
    "_kg_hide-input": true,
    "execution": {
     "iopub.execute_input": "2020-09-02T04:54:00.288682Z",
     "iopub.status.busy": "2020-09-02T04:54:00.287727Z",
     "iopub.status.idle": "2020-09-02T04:54:00.349626Z",
     "shell.execute_reply": "2020-09-02T04:54:00.348483Z"
    },
    "papermill": {
     "duration": 0.163314,
     "end_time": "2020-09-02T04:54:00.349834",
     "exception": false,
     "start_time": "2020-09-02T04:54:00.186520",
     "status": "completed"
    },
    "tags": []
   },
   "outputs": [
    {
     "name": "stdout",
     "output_type": "stream",
     "text": [
      "------------------------------------------------------------\n",
      "Committees with most expenditures For CUNNINGHAM, CAL\n",
      "------------------------------------------------------------\n"
     ]
    },
    {
     "data": {
      "text/html": [
       "<div>\n",
       "<style scoped>\n",
       "    .dataframe tbody tr th:only-of-type {\n",
       "        vertical-align: middle;\n",
       "    }\n",
       "\n",
       "    .dataframe tbody tr th {\n",
       "        vertical-align: top;\n",
       "    }\n",
       "\n",
       "    .dataframe thead th {\n",
       "        text-align: right;\n",
       "    }\n",
       "</style>\n",
       "<table border=\"1\" class=\"dataframe\">\n",
       "  <thead>\n",
       "    <tr style=\"text-align: right;\">\n",
       "      <th></th>\n",
       "      <th>COMMITTEE_NAME</th>\n",
       "      <th>TRANSACTION_AMT</th>\n",
       "    </tr>\n",
       "  </thead>\n",
       "  <tbody>\n",
       "    <tr>\n",
       "      <th>0</th>\n",
       "      <td>CAROLINA BLUE</td>\n",
       "      <td>4.52M</td>\n",
       "    </tr>\n",
       "    <tr>\n",
       "      <th>1</th>\n",
       "      <td>VOTEVETS</td>\n",
       "      <td>4.29M</td>\n",
       "    </tr>\n",
       "    <tr>\n",
       "      <th>2</th>\n",
       "      <td>PAGE COMMUNICATIONS L.L.C.</td>\n",
       "      <td>3.26K</td>\n",
       "    </tr>\n",
       "    <tr>\n",
       "      <th>3</th>\n",
       "      <td>PLANNED PARENTHOOD VOTES</td>\n",
       "      <td>579.00</td>\n",
       "    </tr>\n",
       "    <tr>\n",
       "      <th>4</th>\n",
       "      <td>SIERRA CLUB INDEPENDENT ACTION</td>\n",
       "      <td>10.00</td>\n",
       "    </tr>\n",
       "  </tbody>\n",
       "</table>\n",
       "</div>"
      ],
      "text/plain": [
       "                   COMMITTEE_NAME TRANSACTION_AMT\n",
       "0                   CAROLINA BLUE           4.52M\n",
       "1                        VOTEVETS           4.29M\n",
       "2      PAGE COMMUNICATIONS L.L.C.           3.26K\n",
       "3        PLANNED PARENTHOOD VOTES          579.00\n",
       "4  SIERRA CLUB INDEPENDENT ACTION           10.00"
      ]
     },
     "metadata": {},
     "output_type": "display_data"
    },
    {
     "name": "stdout",
     "output_type": "stream",
     "text": [
      "------------------------------------------------------------\n",
      "Committees with most expenditures Against CUNNINGHAM, CAL\n",
      "------------------------------------------------------------\n"
     ]
    },
    {
     "data": {
      "text/html": [
       "<div>\n",
       "<style scoped>\n",
       "    .dataframe tbody tr th:only-of-type {\n",
       "        vertical-align: middle;\n",
       "    }\n",
       "\n",
       "    .dataframe tbody tr th {\n",
       "        vertical-align: top;\n",
       "    }\n",
       "\n",
       "    .dataframe thead th {\n",
       "        text-align: right;\n",
       "    }\n",
       "</style>\n",
       "<table border=\"1\" class=\"dataframe\">\n",
       "  <thead>\n",
       "    <tr style=\"text-align: right;\">\n",
       "      <th></th>\n",
       "      <th>COMMITTEE_NAME</th>\n",
       "      <th>TRANSACTION_AMT</th>\n",
       "    </tr>\n",
       "  </thead>\n",
       "  <tbody>\n",
       "    <tr>\n",
       "      <th>0</th>\n",
       "      <td>FAITH AND POWER PAC</td>\n",
       "      <td>250.01K</td>\n",
       "    </tr>\n",
       "  </tbody>\n",
       "</table>\n",
       "</div>"
      ],
      "text/plain": [
       "        COMMITTEE_NAME TRANSACTION_AMT\n",
       "0  FAITH AND POWER PAC         250.01K"
      ]
     },
     "metadata": {},
     "output_type": "display_data"
    },
    {
     "name": "stdout",
     "output_type": "stream",
     "text": [
      "------------------------------------------------------------\n",
      "Committees with most expenditures For TILLIS, THOM R. SEN.\n",
      "------------------------------------------------------------\n"
     ]
    },
    {
     "data": {
      "text/html": [
       "<div>\n",
       "<style scoped>\n",
       "    .dataframe tbody tr th:only-of-type {\n",
       "        vertical-align: middle;\n",
       "    }\n",
       "\n",
       "    .dataframe tbody tr th {\n",
       "        vertical-align: top;\n",
       "    }\n",
       "\n",
       "    .dataframe thead th {\n",
       "        text-align: right;\n",
       "    }\n",
       "</style>\n",
       "<table border=\"1\" class=\"dataframe\">\n",
       "  <thead>\n",
       "    <tr style=\"text-align: right;\">\n",
       "      <th></th>\n",
       "      <th>COMMITTEE_NAME</th>\n",
       "      <th>TRANSACTION_AMT</th>\n",
       "    </tr>\n",
       "  </thead>\n",
       "  <tbody>\n",
       "    <tr>\n",
       "      <th>0</th>\n",
       "      <td>AMERICANS FOR PROSPERITY ACTION, INC.(AFP ACTION)</td>\n",
       "      <td>675.66K</td>\n",
       "    </tr>\n",
       "    <tr>\n",
       "      <th>1</th>\n",
       "      <td>SENATE LEADERSHIP FUND</td>\n",
       "      <td>66.99K</td>\n",
       "    </tr>\n",
       "    <tr>\n",
       "      <th>2</th>\n",
       "      <td>NATIONAL RIFLE ASSOCIATION OF AMERICA POLITICA...</td>\n",
       "      <td>10.07K</td>\n",
       "    </tr>\n",
       "    <tr>\n",
       "      <th>3</th>\n",
       "      <td>WOMEN SPEAK OUT PAC</td>\n",
       "      <td>4.54K</td>\n",
       "    </tr>\n",
       "  </tbody>\n",
       "</table>\n",
       "</div>"
      ],
      "text/plain": [
       "                                      COMMITTEE_NAME TRANSACTION_AMT\n",
       "0  AMERICANS FOR PROSPERITY ACTION, INC.(AFP ACTION)         675.66K\n",
       "1                             SENATE LEADERSHIP FUND          66.99K\n",
       "2  NATIONAL RIFLE ASSOCIATION OF AMERICA POLITICA...          10.07K\n",
       "3                                WOMEN SPEAK OUT PAC           4.54K"
      ]
     },
     "metadata": {},
     "output_type": "display_data"
    },
    {
     "name": "stdout",
     "output_type": "stream",
     "text": [
      "------------------------------------------------------------\n",
      "Committees with most expenditures Against TILLIS, THOM R. SEN.\n",
      "------------------------------------------------------------\n"
     ]
    },
    {
     "data": {
      "text/html": [
       "<div>\n",
       "<style scoped>\n",
       "    .dataframe tbody tr th:only-of-type {\n",
       "        vertical-align: middle;\n",
       "    }\n",
       "\n",
       "    .dataframe tbody tr th {\n",
       "        vertical-align: top;\n",
       "    }\n",
       "\n",
       "    .dataframe thead th {\n",
       "        text-align: right;\n",
       "    }\n",
       "</style>\n",
       "<table border=\"1\" class=\"dataframe\">\n",
       "  <thead>\n",
       "    <tr style=\"text-align: right;\">\n",
       "      <th></th>\n",
       "      <th>COMMITTEE_NAME</th>\n",
       "      <th>TRANSACTION_AMT</th>\n",
       "    </tr>\n",
       "  </thead>\n",
       "  <tbody>\n",
       "    <tr>\n",
       "      <th>0</th>\n",
       "      <td>THE AMERICAN FOUNDATIONS COMMITTEE</td>\n",
       "      <td>254.00K</td>\n",
       "    </tr>\n",
       "    <tr>\n",
       "      <th>1</th>\n",
       "      <td>INDIVISIBLE ACTION</td>\n",
       "      <td>22.50K</td>\n",
       "    </tr>\n",
       "    <tr>\n",
       "      <th>2</th>\n",
       "      <td>THE LINCOLN PROJECT</td>\n",
       "      <td>11.78K</td>\n",
       "    </tr>\n",
       "    <tr>\n",
       "      <th>3</th>\n",
       "      <td>HEALTH JUSTICE FOR ALL</td>\n",
       "      <td>6.52K</td>\n",
       "    </tr>\n",
       "    <tr>\n",
       "      <th>4</th>\n",
       "      <td>PLANNED PARENTHOOD VOTES</td>\n",
       "      <td>866.00</td>\n",
       "    </tr>\n",
       "  </tbody>\n",
       "</table>\n",
       "</div>"
      ],
      "text/plain": [
       "                       COMMITTEE_NAME TRANSACTION_AMT\n",
       "0  THE AMERICAN FOUNDATIONS COMMITTEE         254.00K\n",
       "1                  INDIVISIBLE ACTION          22.50K\n",
       "2                 THE LINCOLN PROJECT          11.78K\n",
       "3              HEALTH JUSTICE FOR ALL           6.52K\n",
       "4            PLANNED PARENTHOOD VOTES          866.00"
      ]
     },
     "metadata": {},
     "output_type": "display_data"
    }
   ],
   "source": [
    "from IPython.display import display\n",
    "for cand_name in candidates['CAND_NAME'].unique():\n",
    "    for for_against in ['For', 'Against']:\n",
    "        print(\"-\"*60)\n",
    "        print(f\"Committees with most expenditures {for_against} {cand_name}\")\n",
    "        print(\"-\"*60)\n",
    "        df = expenditures[(expenditures['for_against'] == for_against) & (expenditures['CAND_NAME'] == cand_name)]\n",
    "        result = pd.DataFrame(df[['CMTE_NM', 'TRANSACTION_AMT']].groupby(['CMTE_NM']).agg({'TRANSACTION_AMT': 'sum'})['TRANSACTION_AMT'].nlargest(10)).reset_index().rename({'CMTE_NM': 'COMMITTEE_NAME'}, axis=1)\n",
    "        result['TRANSACTION_AMT'] = result['TRANSACTION_AMT'].map(lambda x: render_human_format(x))\n",
    "        display(result)"
   ]
  },
  {
   "cell_type": "code",
   "execution_count": 38,
   "metadata": {
    "_kg_hide-input": true,
    "execution": {
     "iopub.execute_input": "2020-09-02T04:54:00.524274Z",
     "iopub.status.busy": "2020-09-02T04:54:00.523085Z",
     "iopub.status.idle": "2020-09-02T04:54:00.602327Z",
     "shell.execute_reply": "2020-09-02T04:54:00.602996Z"
    },
    "papermill": {
     "duration": 0.180754,
     "end_time": "2020-09-02T04:54:00.603187",
     "exception": false,
     "start_time": "2020-09-02T04:54:00.422433",
     "status": "completed"
    },
    "tags": []
   },
   "outputs": [
    {
     "data": {
      "application/vnd.plotly.v1+json": {
       "config": {
        "linkText": "Export to plot.ly",
        "plotlyServerURL": "https://plot.ly",
        "showLink": true
       },
       "data": [
        {
         "line": {
          "color": "lightblue",
          "dash": "solid",
          "shape": "linear",
          "width": 1.3
         },
         "mode": "lines",
         "name": "Against CUNNINGHAM, CAL",
         "text": "",
         "type": "scatter",
         "x": [
          "2019-10-02",
          "2019-10-11",
          "2019-10-12",
          "2019-10-31",
          "2019-12-11",
          "2019-12-20",
          "2020-02-06",
          "2020-02-07",
          "2020-02-10",
          "2020-02-11",
          "2020-02-12",
          "2020-02-13",
          "2020-02-14",
          "2020-02-18",
          "2020-02-21",
          "2020-02-24",
          "2020-02-25",
          "2020-02-26",
          "2020-03-13",
          "2020-04-01",
          "2020-04-02",
          "2020-04-03",
          "2020-04-17",
          "2020-04-22",
          "2020-04-23",
          "2020-04-24",
          "2020-04-27",
          "2020-04-29",
          "2020-04-30",
          "2020-05-01",
          "2020-05-04",
          "2020-05-05",
          "2020-05-06",
          "2020-05-09",
          "2020-05-11",
          "2020-05-12",
          "2020-05-13",
          "2020-05-14",
          "2020-05-18",
          "2020-05-19",
          "2020-05-20",
          "2020-05-21",
          "2020-05-26",
          "2020-05-27",
          "2020-05-28",
          "2020-05-29",
          "2020-05-30"
         ],
         "y": [
          0,
          0,
          0,
          0,
          0,
          0,
          0,
          0,
          0,
          0,
          0,
          0,
          250011,
          250011,
          250011,
          250011,
          250011,
          250011,
          250011,
          250011,
          250011,
          250011,
          250011,
          250011,
          250011,
          250011,
          250011,
          250011,
          250011,
          250011,
          250011,
          250011,
          250011,
          250011,
          250011,
          250011,
          250011,
          250011,
          250011,
          250011,
          250011,
          250011,
          250011,
          250011,
          250011,
          250011,
          250011
         ]
        },
        {
         "line": {
          "color": "blue",
          "dash": "solid",
          "shape": "linear",
          "width": 1.3
         },
         "mode": "lines",
         "name": "For CUNNINGHAM, CAL",
         "text": "",
         "type": "scatter",
         "x": [
          "2019-10-02",
          "2019-10-11",
          "2019-10-12",
          "2019-10-31",
          "2019-12-11",
          "2019-12-20",
          "2020-02-06",
          "2020-02-07",
          "2020-02-10",
          "2020-02-11",
          "2020-02-12",
          "2020-02-13",
          "2020-02-14",
          "2020-02-18",
          "2020-02-21",
          "2020-02-24",
          "2020-02-25",
          "2020-02-26",
          "2020-03-13",
          "2020-04-01",
          "2020-04-02",
          "2020-04-03",
          "2020-04-17",
          "2020-04-22",
          "2020-04-23",
          "2020-04-24",
          "2020-04-27",
          "2020-04-29",
          "2020-04-30",
          "2020-05-01",
          "2020-05-04",
          "2020-05-05",
          "2020-05-06",
          "2020-05-09",
          "2020-05-11",
          "2020-05-12",
          "2020-05-13",
          "2020-05-14",
          "2020-05-18",
          "2020-05-19",
          "2020-05-20",
          "2020-05-21",
          "2020-05-26",
          "2020-05-27",
          "2020-05-28",
          "2020-05-29",
          "2020-05-30"
         ],
         "y": [
          0,
          0,
          0,
          0,
          0,
          0,
          2551906,
          3374800,
          3719847,
          3719847,
          3853437,
          3866322,
          5432981,
          8765958,
          8765958,
          8806272,
          8806272,
          8807699,
          8807709,
          8807709,
          8807709,
          8807709,
          8807709,
          8807709,
          8807709,
          8807709,
          8807709,
          8807709,
          8807709,
          8808288,
          8808288,
          8808288,
          8808288,
          8808288,
          8808288,
          8808288,
          8808288,
          8808288,
          8808288,
          8808288,
          8808288,
          8808288,
          8808288,
          8808288,
          8808288,
          8808288,
          8808288
         ]
        },
        {
         "line": {
          "color": "pink",
          "dash": "solid",
          "shape": "linear",
          "width": 1.3
         },
         "mode": "lines",
         "name": "Against TILLIS, THOM R. SEN.",
         "text": "",
         "type": "scatter",
         "x": [
          "2019-10-02",
          "2019-10-11",
          "2019-10-12",
          "2019-10-31",
          "2019-12-11",
          "2019-12-20",
          "2020-02-06",
          "2020-02-07",
          "2020-02-10",
          "2020-02-11",
          "2020-02-12",
          "2020-02-13",
          "2020-02-14",
          "2020-02-18",
          "2020-02-21",
          "2020-02-24",
          "2020-02-25",
          "2020-02-26",
          "2020-03-13",
          "2020-04-01",
          "2020-04-02",
          "2020-04-03",
          "2020-04-17",
          "2020-04-22",
          "2020-04-23",
          "2020-04-24",
          "2020-04-27",
          "2020-04-29",
          "2020-04-30",
          "2020-05-01",
          "2020-05-04",
          "2020-05-05",
          "2020-05-06",
          "2020-05-09",
          "2020-05-11",
          "2020-05-12",
          "2020-05-13",
          "2020-05-14",
          "2020-05-18",
          "2020-05-19",
          "2020-05-20",
          "2020-05-21",
          "2020-05-26",
          "2020-05-27",
          "2020-05-28",
          "2020-05-29",
          "2020-05-30"
         ],
         "y": [
          2042,
          256042,
          259014,
          260517,
          260517,
          260517,
          260517,
          260517,
          279951,
          279951,
          279951,
          279951,
          279951,
          279951,
          289796,
          289796,
          294796,
          294796,
          294796,
          294796,
          294796,
          294796,
          294796,
          294796,
          294796,
          294796,
          294796,
          294796,
          294796,
          295375,
          295375,
          295375,
          295375,
          295375,
          295375,
          295375,
          295375,
          295375,
          295375,
          295375,
          295375,
          295375,
          295375,
          295375,
          295662,
          295662,
          295662
         ]
        },
        {
         "line": {
          "color": "red",
          "dash": "solid",
          "shape": "linear",
          "width": 1.3
         },
         "mode": "lines",
         "name": "For TILLIS, THOM R. SEN.",
         "text": "",
         "type": "scatter",
         "x": [
          "2019-10-02",
          "2019-10-11",
          "2019-10-12",
          "2019-10-31",
          "2019-12-11",
          "2019-12-20",
          "2020-02-06",
          "2020-02-07",
          "2020-02-10",
          "2020-02-11",
          "2020-02-12",
          "2020-02-13",
          "2020-02-14",
          "2020-02-18",
          "2020-02-21",
          "2020-02-24",
          "2020-02-25",
          "2020-02-26",
          "2020-03-13",
          "2020-04-01",
          "2020-04-02",
          "2020-04-03",
          "2020-04-17",
          "2020-04-22",
          "2020-04-23",
          "2020-04-24",
          "2020-04-27",
          "2020-04-29",
          "2020-04-30",
          "2020-05-01",
          "2020-05-04",
          "2020-05-05",
          "2020-05-06",
          "2020-05-09",
          "2020-05-11",
          "2020-05-12",
          "2020-05-13",
          "2020-05-14",
          "2020-05-18",
          "2020-05-19",
          "2020-05-20",
          "2020-05-21",
          "2020-05-26",
          "2020-05-27",
          "2020-05-28",
          "2020-05-29",
          "2020-05-30"
         ],
         "y": [
          0,
          0,
          0,
          0,
          50000,
          53734,
          58272,
          58272,
          58272,
          61656,
          61656,
          65573,
          65573,
          65573,
          65573,
          65573,
          79898,
          79898,
          79898,
          82898,
          140731,
          151231,
          161231,
          205631,
          206631,
          303243,
          303898,
          306776,
          308945,
          696445,
          698278,
          698563,
          698619,
          698620,
          700378,
          700380,
          701793,
          701802,
          702761,
          702767,
          709659,
          709666,
          711247,
          711256,
          711260,
          757235,
          757257
         ]
        }
       ],
       "layout": {
        "legend": {
         "bgcolor": "#FFFFFF",
         "font": {
          "color": "#666666"
         }
        },
        "paper_bgcolor": "#FFFFFF",
        "plot_bgcolor": "#E5E5E5",
        "template": {
         "data": {
          "bar": [
           {
            "error_x": {
             "color": "#2a3f5f"
            },
            "error_y": {
             "color": "#2a3f5f"
            },
            "marker": {
             "line": {
              "color": "#E5ECF6",
              "width": 0.5
             },
             "pattern": {
              "fillmode": "overlay",
              "size": 10,
              "solidity": 0.2
             }
            },
            "type": "bar"
           }
          ],
          "barpolar": [
           {
            "marker": {
             "line": {
              "color": "#E5ECF6",
              "width": 0.5
             },
             "pattern": {
              "fillmode": "overlay",
              "size": 10,
              "solidity": 0.2
             }
            },
            "type": "barpolar"
           }
          ],
          "carpet": [
           {
            "aaxis": {
             "endlinecolor": "#2a3f5f",
             "gridcolor": "white",
             "linecolor": "white",
             "minorgridcolor": "white",
             "startlinecolor": "#2a3f5f"
            },
            "baxis": {
             "endlinecolor": "#2a3f5f",
             "gridcolor": "white",
             "linecolor": "white",
             "minorgridcolor": "white",
             "startlinecolor": "#2a3f5f"
            },
            "type": "carpet"
           }
          ],
          "choropleth": [
           {
            "colorbar": {
             "outlinewidth": 0,
             "ticks": ""
            },
            "type": "choropleth"
           }
          ],
          "contour": [
           {
            "colorbar": {
             "outlinewidth": 0,
             "ticks": ""
            },
            "colorscale": [
             [
              0,
              "#0d0887"
             ],
             [
              0.1111111111111111,
              "#46039f"
             ],
             [
              0.2222222222222222,
              "#7201a8"
             ],
             [
              0.3333333333333333,
              "#9c179e"
             ],
             [
              0.4444444444444444,
              "#bd3786"
             ],
             [
              0.5555555555555556,
              "#d8576b"
             ],
             [
              0.6666666666666666,
              "#ed7953"
             ],
             [
              0.7777777777777778,
              "#fb9f3a"
             ],
             [
              0.8888888888888888,
              "#fdca26"
             ],
             [
              1,
              "#f0f921"
             ]
            ],
            "type": "contour"
           }
          ],
          "contourcarpet": [
           {
            "colorbar": {
             "outlinewidth": 0,
             "ticks": ""
            },
            "type": "contourcarpet"
           }
          ],
          "heatmap": [
           {
            "colorbar": {
             "outlinewidth": 0,
             "ticks": ""
            },
            "colorscale": [
             [
              0,
              "#0d0887"
             ],
             [
              0.1111111111111111,
              "#46039f"
             ],
             [
              0.2222222222222222,
              "#7201a8"
             ],
             [
              0.3333333333333333,
              "#9c179e"
             ],
             [
              0.4444444444444444,
              "#bd3786"
             ],
             [
              0.5555555555555556,
              "#d8576b"
             ],
             [
              0.6666666666666666,
              "#ed7953"
             ],
             [
              0.7777777777777778,
              "#fb9f3a"
             ],
             [
              0.8888888888888888,
              "#fdca26"
             ],
             [
              1,
              "#f0f921"
             ]
            ],
            "type": "heatmap"
           }
          ],
          "heatmapgl": [
           {
            "colorbar": {
             "outlinewidth": 0,
             "ticks": ""
            },
            "colorscale": [
             [
              0,
              "#0d0887"
             ],
             [
              0.1111111111111111,
              "#46039f"
             ],
             [
              0.2222222222222222,
              "#7201a8"
             ],
             [
              0.3333333333333333,
              "#9c179e"
             ],
             [
              0.4444444444444444,
              "#bd3786"
             ],
             [
              0.5555555555555556,
              "#d8576b"
             ],
             [
              0.6666666666666666,
              "#ed7953"
             ],
             [
              0.7777777777777778,
              "#fb9f3a"
             ],
             [
              0.8888888888888888,
              "#fdca26"
             ],
             [
              1,
              "#f0f921"
             ]
            ],
            "type": "heatmapgl"
           }
          ],
          "histogram": [
           {
            "marker": {
             "pattern": {
              "fillmode": "overlay",
              "size": 10,
              "solidity": 0.2
             }
            },
            "type": "histogram"
           }
          ],
          "histogram2d": [
           {
            "colorbar": {
             "outlinewidth": 0,
             "ticks": ""
            },
            "colorscale": [
             [
              0,
              "#0d0887"
             ],
             [
              0.1111111111111111,
              "#46039f"
             ],
             [
              0.2222222222222222,
              "#7201a8"
             ],
             [
              0.3333333333333333,
              "#9c179e"
             ],
             [
              0.4444444444444444,
              "#bd3786"
             ],
             [
              0.5555555555555556,
              "#d8576b"
             ],
             [
              0.6666666666666666,
              "#ed7953"
             ],
             [
              0.7777777777777778,
              "#fb9f3a"
             ],
             [
              0.8888888888888888,
              "#fdca26"
             ],
             [
              1,
              "#f0f921"
             ]
            ],
            "type": "histogram2d"
           }
          ],
          "histogram2dcontour": [
           {
            "colorbar": {
             "outlinewidth": 0,
             "ticks": ""
            },
            "colorscale": [
             [
              0,
              "#0d0887"
             ],
             [
              0.1111111111111111,
              "#46039f"
             ],
             [
              0.2222222222222222,
              "#7201a8"
             ],
             [
              0.3333333333333333,
              "#9c179e"
             ],
             [
              0.4444444444444444,
              "#bd3786"
             ],
             [
              0.5555555555555556,
              "#d8576b"
             ],
             [
              0.6666666666666666,
              "#ed7953"
             ],
             [
              0.7777777777777778,
              "#fb9f3a"
             ],
             [
              0.8888888888888888,
              "#fdca26"
             ],
             [
              1,
              "#f0f921"
             ]
            ],
            "type": "histogram2dcontour"
           }
          ],
          "mesh3d": [
           {
            "colorbar": {
             "outlinewidth": 0,
             "ticks": ""
            },
            "type": "mesh3d"
           }
          ],
          "parcoords": [
           {
            "line": {
             "colorbar": {
              "outlinewidth": 0,
              "ticks": ""
             }
            },
            "type": "parcoords"
           }
          ],
          "pie": [
           {
            "automargin": true,
            "type": "pie"
           }
          ],
          "scatter": [
           {
            "fillpattern": {
             "fillmode": "overlay",
             "size": 10,
             "solidity": 0.2
            },
            "type": "scatter"
           }
          ],
          "scatter3d": [
           {
            "line": {
             "colorbar": {
              "outlinewidth": 0,
              "ticks": ""
             }
            },
            "marker": {
             "colorbar": {
              "outlinewidth": 0,
              "ticks": ""
             }
            },
            "type": "scatter3d"
           }
          ],
          "scattercarpet": [
           {
            "marker": {
             "colorbar": {
              "outlinewidth": 0,
              "ticks": ""
             }
            },
            "type": "scattercarpet"
           }
          ],
          "scattergeo": [
           {
            "marker": {
             "colorbar": {
              "outlinewidth": 0,
              "ticks": ""
             }
            },
            "type": "scattergeo"
           }
          ],
          "scattergl": [
           {
            "marker": {
             "colorbar": {
              "outlinewidth": 0,
              "ticks": ""
             }
            },
            "type": "scattergl"
           }
          ],
          "scattermapbox": [
           {
            "marker": {
             "colorbar": {
              "outlinewidth": 0,
              "ticks": ""
             }
            },
            "type": "scattermapbox"
           }
          ],
          "scatterpolar": [
           {
            "marker": {
             "colorbar": {
              "outlinewidth": 0,
              "ticks": ""
             }
            },
            "type": "scatterpolar"
           }
          ],
          "scatterpolargl": [
           {
            "marker": {
             "colorbar": {
              "outlinewidth": 0,
              "ticks": ""
             }
            },
            "type": "scatterpolargl"
           }
          ],
          "scatterternary": [
           {
            "marker": {
             "colorbar": {
              "outlinewidth": 0,
              "ticks": ""
             }
            },
            "type": "scatterternary"
           }
          ],
          "surface": [
           {
            "colorbar": {
             "outlinewidth": 0,
             "ticks": ""
            },
            "colorscale": [
             [
              0,
              "#0d0887"
             ],
             [
              0.1111111111111111,
              "#46039f"
             ],
             [
              0.2222222222222222,
              "#7201a8"
             ],
             [
              0.3333333333333333,
              "#9c179e"
             ],
             [
              0.4444444444444444,
              "#bd3786"
             ],
             [
              0.5555555555555556,
              "#d8576b"
             ],
             [
              0.6666666666666666,
              "#ed7953"
             ],
             [
              0.7777777777777778,
              "#fb9f3a"
             ],
             [
              0.8888888888888888,
              "#fdca26"
             ],
             [
              1,
              "#f0f921"
             ]
            ],
            "type": "surface"
           }
          ],
          "table": [
           {
            "cells": {
             "fill": {
              "color": "#EBF0F8"
             },
             "line": {
              "color": "white"
             }
            },
            "header": {
             "fill": {
              "color": "#C8D4E3"
             },
             "line": {
              "color": "white"
             }
            },
            "type": "table"
           }
          ]
         },
         "layout": {
          "annotationdefaults": {
           "arrowcolor": "#2a3f5f",
           "arrowhead": 0,
           "arrowwidth": 1
          },
          "autotypenumbers": "strict",
          "coloraxis": {
           "colorbar": {
            "outlinewidth": 0,
            "ticks": ""
           }
          },
          "colorscale": {
           "diverging": [
            [
             0,
             "#8e0152"
            ],
            [
             0.1,
             "#c51b7d"
            ],
            [
             0.2,
             "#de77ae"
            ],
            [
             0.3,
             "#f1b6da"
            ],
            [
             0.4,
             "#fde0ef"
            ],
            [
             0.5,
             "#f7f7f7"
            ],
            [
             0.6,
             "#e6f5d0"
            ],
            [
             0.7,
             "#b8e186"
            ],
            [
             0.8,
             "#7fbc41"
            ],
            [
             0.9,
             "#4d9221"
            ],
            [
             1,
             "#276419"
            ]
           ],
           "sequential": [
            [
             0,
             "#0d0887"
            ],
            [
             0.1111111111111111,
             "#46039f"
            ],
            [
             0.2222222222222222,
             "#7201a8"
            ],
            [
             0.3333333333333333,
             "#9c179e"
            ],
            [
             0.4444444444444444,
             "#bd3786"
            ],
            [
             0.5555555555555556,
             "#d8576b"
            ],
            [
             0.6666666666666666,
             "#ed7953"
            ],
            [
             0.7777777777777778,
             "#fb9f3a"
            ],
            [
             0.8888888888888888,
             "#fdca26"
            ],
            [
             1,
             "#f0f921"
            ]
           ],
           "sequentialminus": [
            [
             0,
             "#0d0887"
            ],
            [
             0.1111111111111111,
             "#46039f"
            ],
            [
             0.2222222222222222,
             "#7201a8"
            ],
            [
             0.3333333333333333,
             "#9c179e"
            ],
            [
             0.4444444444444444,
             "#bd3786"
            ],
            [
             0.5555555555555556,
             "#d8576b"
            ],
            [
             0.6666666666666666,
             "#ed7953"
            ],
            [
             0.7777777777777778,
             "#fb9f3a"
            ],
            [
             0.8888888888888888,
             "#fdca26"
            ],
            [
             1,
             "#f0f921"
            ]
           ]
          },
          "colorway": [
           "#636efa",
           "#EF553B",
           "#00cc96",
           "#ab63fa",
           "#FFA15A",
           "#19d3f3",
           "#FF6692",
           "#B6E880",
           "#FF97FF",
           "#FECB52"
          ],
          "font": {
           "color": "#2a3f5f"
          },
          "geo": {
           "bgcolor": "white",
           "lakecolor": "white",
           "landcolor": "#E5ECF6",
           "showlakes": true,
           "showland": true,
           "subunitcolor": "white"
          },
          "hoverlabel": {
           "align": "left"
          },
          "hovermode": "closest",
          "mapbox": {
           "style": "light"
          },
          "paper_bgcolor": "white",
          "plot_bgcolor": "#E5ECF6",
          "polar": {
           "angularaxis": {
            "gridcolor": "white",
            "linecolor": "white",
            "ticks": ""
           },
           "bgcolor": "#E5ECF6",
           "radialaxis": {
            "gridcolor": "white",
            "linecolor": "white",
            "ticks": ""
           }
          },
          "scene": {
           "xaxis": {
            "backgroundcolor": "#E5ECF6",
            "gridcolor": "white",
            "gridwidth": 2,
            "linecolor": "white",
            "showbackground": true,
            "ticks": "",
            "zerolinecolor": "white"
           },
           "yaxis": {
            "backgroundcolor": "#E5ECF6",
            "gridcolor": "white",
            "gridwidth": 2,
            "linecolor": "white",
            "showbackground": true,
            "ticks": "",
            "zerolinecolor": "white"
           },
           "zaxis": {
            "backgroundcolor": "#E5ECF6",
            "gridcolor": "white",
            "gridwidth": 2,
            "linecolor": "white",
            "showbackground": true,
            "ticks": "",
            "zerolinecolor": "white"
           }
          },
          "shapedefaults": {
           "line": {
            "color": "#2a3f5f"
           }
          },
          "ternary": {
           "aaxis": {
            "gridcolor": "white",
            "linecolor": "white",
            "ticks": ""
           },
           "baxis": {
            "gridcolor": "white",
            "linecolor": "white",
            "ticks": ""
           },
           "bgcolor": "#E5ECF6",
           "caxis": {
            "gridcolor": "white",
            "linecolor": "white",
            "ticks": ""
           }
          },
          "title": {
           "x": 0.05
          },
          "xaxis": {
           "automargin": true,
           "gridcolor": "white",
           "linecolor": "white",
           "ticks": "",
           "title": {
            "standoff": 15
           },
           "zerolinecolor": "white",
           "zerolinewidth": 2
          },
          "yaxis": {
           "automargin": true,
           "gridcolor": "white",
           "linecolor": "white",
           "ticks": "",
           "title": {
            "standoff": 15
           },
           "zerolinecolor": "white",
           "zerolinewidth": 2
          }
         }
        },
        "title": {
         "font": {
          "color": "#151516"
         },
         "text": "Total cumulative Expenditures for or against candidates over time"
        },
        "xaxis": {
         "gridcolor": "#F6F6F6",
         "showgrid": true,
         "tickfont": {
          "color": "#666666"
         },
         "title": {
          "font": {
           "color": "#666666"
          },
          "text": ""
         },
         "zerolinecolor": "#F6F6F6"
        },
        "yaxis": {
         "gridcolor": "#F6F6F6",
         "showgrid": true,
         "tickfont": {
          "color": "#666666"
         },
         "title": {
          "font": {
           "color": "#666666"
          },
          "text": ""
         },
         "zerolinecolor": "#F6F6F6"
        }
       }
      },
      "text/html": [
       "<div>                            <div id=\"f3d55b4c-7c8e-4fcd-b96e-acb0877fed29\" class=\"plotly-graph-div\" style=\"height:525px; width:100%;\"></div>            <script type=\"text/javascript\">                require([\"plotly\"], function(Plotly) {                    window.PLOTLYENV=window.PLOTLYENV || {};\n",
       "                    window.PLOTLYENV.BASE_URL='https://plot.ly';                                    if (document.getElementById(\"f3d55b4c-7c8e-4fcd-b96e-acb0877fed29\")) {                    Plotly.newPlot(                        \"f3d55b4c-7c8e-4fcd-b96e-acb0877fed29\",                        [{\"line\":{\"color\":\"lightblue\",\"dash\":\"solid\",\"shape\":\"linear\",\"width\":1.3},\"mode\":\"lines\",\"name\":\"Against CUNNINGHAM, CAL\",\"text\":\"\",\"x\":[\"2019-10-02\",\"2019-10-11\",\"2019-10-12\",\"2019-10-31\",\"2019-12-11\",\"2019-12-20\",\"2020-02-06\",\"2020-02-07\",\"2020-02-10\",\"2020-02-11\",\"2020-02-12\",\"2020-02-13\",\"2020-02-14\",\"2020-02-18\",\"2020-02-21\",\"2020-02-24\",\"2020-02-25\",\"2020-02-26\",\"2020-03-13\",\"2020-04-01\",\"2020-04-02\",\"2020-04-03\",\"2020-04-17\",\"2020-04-22\",\"2020-04-23\",\"2020-04-24\",\"2020-04-27\",\"2020-04-29\",\"2020-04-30\",\"2020-05-01\",\"2020-05-04\",\"2020-05-05\",\"2020-05-06\",\"2020-05-09\",\"2020-05-11\",\"2020-05-12\",\"2020-05-13\",\"2020-05-14\",\"2020-05-18\",\"2020-05-19\",\"2020-05-20\",\"2020-05-21\",\"2020-05-26\",\"2020-05-27\",\"2020-05-28\",\"2020-05-29\",\"2020-05-30\"],\"y\":[0,0,0,0,0,0,0,0,0,0,0,0,250011,250011,250011,250011,250011,250011,250011,250011,250011,250011,250011,250011,250011,250011,250011,250011,250011,250011,250011,250011,250011,250011,250011,250011,250011,250011,250011,250011,250011,250011,250011,250011,250011,250011,250011],\"type\":\"scatter\"},{\"line\":{\"color\":\"blue\",\"dash\":\"solid\",\"shape\":\"linear\",\"width\":1.3},\"mode\":\"lines\",\"name\":\"For CUNNINGHAM, CAL\",\"text\":\"\",\"x\":[\"2019-10-02\",\"2019-10-11\",\"2019-10-12\",\"2019-10-31\",\"2019-12-11\",\"2019-12-20\",\"2020-02-06\",\"2020-02-07\",\"2020-02-10\",\"2020-02-11\",\"2020-02-12\",\"2020-02-13\",\"2020-02-14\",\"2020-02-18\",\"2020-02-21\",\"2020-02-24\",\"2020-02-25\",\"2020-02-26\",\"2020-03-13\",\"2020-04-01\",\"2020-04-02\",\"2020-04-03\",\"2020-04-17\",\"2020-04-22\",\"2020-04-23\",\"2020-04-24\",\"2020-04-27\",\"2020-04-29\",\"2020-04-30\",\"2020-05-01\",\"2020-05-04\",\"2020-05-05\",\"2020-05-06\",\"2020-05-09\",\"2020-05-11\",\"2020-05-12\",\"2020-05-13\",\"2020-05-14\",\"2020-05-18\",\"2020-05-19\",\"2020-05-20\",\"2020-05-21\",\"2020-05-26\",\"2020-05-27\",\"2020-05-28\",\"2020-05-29\",\"2020-05-30\"],\"y\":[0,0,0,0,0,0,2551906,3374800,3719847,3719847,3853437,3866322,5432981,8765958,8765958,8806272,8806272,8807699,8807709,8807709,8807709,8807709,8807709,8807709,8807709,8807709,8807709,8807709,8807709,8808288,8808288,8808288,8808288,8808288,8808288,8808288,8808288,8808288,8808288,8808288,8808288,8808288,8808288,8808288,8808288,8808288,8808288],\"type\":\"scatter\"},{\"line\":{\"color\":\"pink\",\"dash\":\"solid\",\"shape\":\"linear\",\"width\":1.3},\"mode\":\"lines\",\"name\":\"Against TILLIS, THOM R. SEN.\",\"text\":\"\",\"x\":[\"2019-10-02\",\"2019-10-11\",\"2019-10-12\",\"2019-10-31\",\"2019-12-11\",\"2019-12-20\",\"2020-02-06\",\"2020-02-07\",\"2020-02-10\",\"2020-02-11\",\"2020-02-12\",\"2020-02-13\",\"2020-02-14\",\"2020-02-18\",\"2020-02-21\",\"2020-02-24\",\"2020-02-25\",\"2020-02-26\",\"2020-03-13\",\"2020-04-01\",\"2020-04-02\",\"2020-04-03\",\"2020-04-17\",\"2020-04-22\",\"2020-04-23\",\"2020-04-24\",\"2020-04-27\",\"2020-04-29\",\"2020-04-30\",\"2020-05-01\",\"2020-05-04\",\"2020-05-05\",\"2020-05-06\",\"2020-05-09\",\"2020-05-11\",\"2020-05-12\",\"2020-05-13\",\"2020-05-14\",\"2020-05-18\",\"2020-05-19\",\"2020-05-20\",\"2020-05-21\",\"2020-05-26\",\"2020-05-27\",\"2020-05-28\",\"2020-05-29\",\"2020-05-30\"],\"y\":[2042,256042,259014,260517,260517,260517,260517,260517,279951,279951,279951,279951,279951,279951,289796,289796,294796,294796,294796,294796,294796,294796,294796,294796,294796,294796,294796,294796,294796,295375,295375,295375,295375,295375,295375,295375,295375,295375,295375,295375,295375,295375,295375,295375,295662,295662,295662],\"type\":\"scatter\"},{\"line\":{\"color\":\"red\",\"dash\":\"solid\",\"shape\":\"linear\",\"width\":1.3},\"mode\":\"lines\",\"name\":\"For TILLIS, THOM R. SEN.\",\"text\":\"\",\"x\":[\"2019-10-02\",\"2019-10-11\",\"2019-10-12\",\"2019-10-31\",\"2019-12-11\",\"2019-12-20\",\"2020-02-06\",\"2020-02-07\",\"2020-02-10\",\"2020-02-11\",\"2020-02-12\",\"2020-02-13\",\"2020-02-14\",\"2020-02-18\",\"2020-02-21\",\"2020-02-24\",\"2020-02-25\",\"2020-02-26\",\"2020-03-13\",\"2020-04-01\",\"2020-04-02\",\"2020-04-03\",\"2020-04-17\",\"2020-04-22\",\"2020-04-23\",\"2020-04-24\",\"2020-04-27\",\"2020-04-29\",\"2020-04-30\",\"2020-05-01\",\"2020-05-04\",\"2020-05-05\",\"2020-05-06\",\"2020-05-09\",\"2020-05-11\",\"2020-05-12\",\"2020-05-13\",\"2020-05-14\",\"2020-05-18\",\"2020-05-19\",\"2020-05-20\",\"2020-05-21\",\"2020-05-26\",\"2020-05-27\",\"2020-05-28\",\"2020-05-29\",\"2020-05-30\"],\"y\":[0,0,0,0,50000,53734,58272,58272,58272,61656,61656,65573,65573,65573,65573,65573,79898,79898,79898,82898,140731,151231,161231,205631,206631,303243,303898,306776,308945,696445,698278,698563,698619,698620,700378,700380,701793,701802,702761,702767,709659,709666,711247,711256,711260,757235,757257],\"type\":\"scatter\"}],                        {\"legend\":{\"bgcolor\":\"#FFFFFF\",\"font\":{\"color\":\"#666666\"}},\"paper_bgcolor\":\"#FFFFFF\",\"plot_bgcolor\":\"#E5E5E5\",\"template\":{\"data\":{\"barpolar\":[{\"marker\":{\"line\":{\"color\":\"#E5ECF6\",\"width\":0.5},\"pattern\":{\"fillmode\":\"overlay\",\"size\":10,\"solidity\":0.2}},\"type\":\"barpolar\"}],\"bar\":[{\"error_x\":{\"color\":\"#2a3f5f\"},\"error_y\":{\"color\":\"#2a3f5f\"},\"marker\":{\"line\":{\"color\":\"#E5ECF6\",\"width\":0.5},\"pattern\":{\"fillmode\":\"overlay\",\"size\":10,\"solidity\":0.2}},\"type\":\"bar\"}],\"carpet\":[{\"aaxis\":{\"endlinecolor\":\"#2a3f5f\",\"gridcolor\":\"white\",\"linecolor\":\"white\",\"minorgridcolor\":\"white\",\"startlinecolor\":\"#2a3f5f\"},\"baxis\":{\"endlinecolor\":\"#2a3f5f\",\"gridcolor\":\"white\",\"linecolor\":\"white\",\"minorgridcolor\":\"white\",\"startlinecolor\":\"#2a3f5f\"},\"type\":\"carpet\"}],\"choropleth\":[{\"colorbar\":{\"outlinewidth\":0,\"ticks\":\"\"},\"type\":\"choropleth\"}],\"contourcarpet\":[{\"colorbar\":{\"outlinewidth\":0,\"ticks\":\"\"},\"type\":\"contourcarpet\"}],\"contour\":[{\"colorbar\":{\"outlinewidth\":0,\"ticks\":\"\"},\"colorscale\":[[0.0,\"#0d0887\"],[0.1111111111111111,\"#46039f\"],[0.2222222222222222,\"#7201a8\"],[0.3333333333333333,\"#9c179e\"],[0.4444444444444444,\"#bd3786\"],[0.5555555555555556,\"#d8576b\"],[0.6666666666666666,\"#ed7953\"],[0.7777777777777778,\"#fb9f3a\"],[0.8888888888888888,\"#fdca26\"],[1.0,\"#f0f921\"]],\"type\":\"contour\"}],\"heatmapgl\":[{\"colorbar\":{\"outlinewidth\":0,\"ticks\":\"\"},\"colorscale\":[[0.0,\"#0d0887\"],[0.1111111111111111,\"#46039f\"],[0.2222222222222222,\"#7201a8\"],[0.3333333333333333,\"#9c179e\"],[0.4444444444444444,\"#bd3786\"],[0.5555555555555556,\"#d8576b\"],[0.6666666666666666,\"#ed7953\"],[0.7777777777777778,\"#fb9f3a\"],[0.8888888888888888,\"#fdca26\"],[1.0,\"#f0f921\"]],\"type\":\"heatmapgl\"}],\"heatmap\":[{\"colorbar\":{\"outlinewidth\":0,\"ticks\":\"\"},\"colorscale\":[[0.0,\"#0d0887\"],[0.1111111111111111,\"#46039f\"],[0.2222222222222222,\"#7201a8\"],[0.3333333333333333,\"#9c179e\"],[0.4444444444444444,\"#bd3786\"],[0.5555555555555556,\"#d8576b\"],[0.6666666666666666,\"#ed7953\"],[0.7777777777777778,\"#fb9f3a\"],[0.8888888888888888,\"#fdca26\"],[1.0,\"#f0f921\"]],\"type\":\"heatmap\"}],\"histogram2dcontour\":[{\"colorbar\":{\"outlinewidth\":0,\"ticks\":\"\"},\"colorscale\":[[0.0,\"#0d0887\"],[0.1111111111111111,\"#46039f\"],[0.2222222222222222,\"#7201a8\"],[0.3333333333333333,\"#9c179e\"],[0.4444444444444444,\"#bd3786\"],[0.5555555555555556,\"#d8576b\"],[0.6666666666666666,\"#ed7953\"],[0.7777777777777778,\"#fb9f3a\"],[0.8888888888888888,\"#fdca26\"],[1.0,\"#f0f921\"]],\"type\":\"histogram2dcontour\"}],\"histogram2d\":[{\"colorbar\":{\"outlinewidth\":0,\"ticks\":\"\"},\"colorscale\":[[0.0,\"#0d0887\"],[0.1111111111111111,\"#46039f\"],[0.2222222222222222,\"#7201a8\"],[0.3333333333333333,\"#9c179e\"],[0.4444444444444444,\"#bd3786\"],[0.5555555555555556,\"#d8576b\"],[0.6666666666666666,\"#ed7953\"],[0.7777777777777778,\"#fb9f3a\"],[0.8888888888888888,\"#fdca26\"],[1.0,\"#f0f921\"]],\"type\":\"histogram2d\"}],\"histogram\":[{\"marker\":{\"pattern\":{\"fillmode\":\"overlay\",\"size\":10,\"solidity\":0.2}},\"type\":\"histogram\"}],\"mesh3d\":[{\"colorbar\":{\"outlinewidth\":0,\"ticks\":\"\"},\"type\":\"mesh3d\"}],\"parcoords\":[{\"line\":{\"colorbar\":{\"outlinewidth\":0,\"ticks\":\"\"}},\"type\":\"parcoords\"}],\"pie\":[{\"automargin\":true,\"type\":\"pie\"}],\"scatter3d\":[{\"line\":{\"colorbar\":{\"outlinewidth\":0,\"ticks\":\"\"}},\"marker\":{\"colorbar\":{\"outlinewidth\":0,\"ticks\":\"\"}},\"type\":\"scatter3d\"}],\"scattercarpet\":[{\"marker\":{\"colorbar\":{\"outlinewidth\":0,\"ticks\":\"\"}},\"type\":\"scattercarpet\"}],\"scattergeo\":[{\"marker\":{\"colorbar\":{\"outlinewidth\":0,\"ticks\":\"\"}},\"type\":\"scattergeo\"}],\"scattergl\":[{\"marker\":{\"colorbar\":{\"outlinewidth\":0,\"ticks\":\"\"}},\"type\":\"scattergl\"}],\"scattermapbox\":[{\"marker\":{\"colorbar\":{\"outlinewidth\":0,\"ticks\":\"\"}},\"type\":\"scattermapbox\"}],\"scatterpolargl\":[{\"marker\":{\"colorbar\":{\"outlinewidth\":0,\"ticks\":\"\"}},\"type\":\"scatterpolargl\"}],\"scatterpolar\":[{\"marker\":{\"colorbar\":{\"outlinewidth\":0,\"ticks\":\"\"}},\"type\":\"scatterpolar\"}],\"scatter\":[{\"fillpattern\":{\"fillmode\":\"overlay\",\"size\":10,\"solidity\":0.2},\"type\":\"scatter\"}],\"scatterternary\":[{\"marker\":{\"colorbar\":{\"outlinewidth\":0,\"ticks\":\"\"}},\"type\":\"scatterternary\"}],\"surface\":[{\"colorbar\":{\"outlinewidth\":0,\"ticks\":\"\"},\"colorscale\":[[0.0,\"#0d0887\"],[0.1111111111111111,\"#46039f\"],[0.2222222222222222,\"#7201a8\"],[0.3333333333333333,\"#9c179e\"],[0.4444444444444444,\"#bd3786\"],[0.5555555555555556,\"#d8576b\"],[0.6666666666666666,\"#ed7953\"],[0.7777777777777778,\"#fb9f3a\"],[0.8888888888888888,\"#fdca26\"],[1.0,\"#f0f921\"]],\"type\":\"surface\"}],\"table\":[{\"cells\":{\"fill\":{\"color\":\"#EBF0F8\"},\"line\":{\"color\":\"white\"}},\"header\":{\"fill\":{\"color\":\"#C8D4E3\"},\"line\":{\"color\":\"white\"}},\"type\":\"table\"}]},\"layout\":{\"annotationdefaults\":{\"arrowcolor\":\"#2a3f5f\",\"arrowhead\":0,\"arrowwidth\":1},\"autotypenumbers\":\"strict\",\"coloraxis\":{\"colorbar\":{\"outlinewidth\":0,\"ticks\":\"\"}},\"colorscale\":{\"diverging\":[[0,\"#8e0152\"],[0.1,\"#c51b7d\"],[0.2,\"#de77ae\"],[0.3,\"#f1b6da\"],[0.4,\"#fde0ef\"],[0.5,\"#f7f7f7\"],[0.6,\"#e6f5d0\"],[0.7,\"#b8e186\"],[0.8,\"#7fbc41\"],[0.9,\"#4d9221\"],[1,\"#276419\"]],\"sequential\":[[0.0,\"#0d0887\"],[0.1111111111111111,\"#46039f\"],[0.2222222222222222,\"#7201a8\"],[0.3333333333333333,\"#9c179e\"],[0.4444444444444444,\"#bd3786\"],[0.5555555555555556,\"#d8576b\"],[0.6666666666666666,\"#ed7953\"],[0.7777777777777778,\"#fb9f3a\"],[0.8888888888888888,\"#fdca26\"],[1.0,\"#f0f921\"]],\"sequentialminus\":[[0.0,\"#0d0887\"],[0.1111111111111111,\"#46039f\"],[0.2222222222222222,\"#7201a8\"],[0.3333333333333333,\"#9c179e\"],[0.4444444444444444,\"#bd3786\"],[0.5555555555555556,\"#d8576b\"],[0.6666666666666666,\"#ed7953\"],[0.7777777777777778,\"#fb9f3a\"],[0.8888888888888888,\"#fdca26\"],[1.0,\"#f0f921\"]]},\"colorway\":[\"#636efa\",\"#EF553B\",\"#00cc96\",\"#ab63fa\",\"#FFA15A\",\"#19d3f3\",\"#FF6692\",\"#B6E880\",\"#FF97FF\",\"#FECB52\"],\"font\":{\"color\":\"#2a3f5f\"},\"geo\":{\"bgcolor\":\"white\",\"lakecolor\":\"white\",\"landcolor\":\"#E5ECF6\",\"showlakes\":true,\"showland\":true,\"subunitcolor\":\"white\"},\"hoverlabel\":{\"align\":\"left\"},\"hovermode\":\"closest\",\"mapbox\":{\"style\":\"light\"},\"paper_bgcolor\":\"white\",\"plot_bgcolor\":\"#E5ECF6\",\"polar\":{\"angularaxis\":{\"gridcolor\":\"white\",\"linecolor\":\"white\",\"ticks\":\"\"},\"bgcolor\":\"#E5ECF6\",\"radialaxis\":{\"gridcolor\":\"white\",\"linecolor\":\"white\",\"ticks\":\"\"}},\"scene\":{\"xaxis\":{\"backgroundcolor\":\"#E5ECF6\",\"gridcolor\":\"white\",\"gridwidth\":2,\"linecolor\":\"white\",\"showbackground\":true,\"ticks\":\"\",\"zerolinecolor\":\"white\"},\"yaxis\":{\"backgroundcolor\":\"#E5ECF6\",\"gridcolor\":\"white\",\"gridwidth\":2,\"linecolor\":\"white\",\"showbackground\":true,\"ticks\":\"\",\"zerolinecolor\":\"white\"},\"zaxis\":{\"backgroundcolor\":\"#E5ECF6\",\"gridcolor\":\"white\",\"gridwidth\":2,\"linecolor\":\"white\",\"showbackground\":true,\"ticks\":\"\",\"zerolinecolor\":\"white\"}},\"shapedefaults\":{\"line\":{\"color\":\"#2a3f5f\"}},\"ternary\":{\"aaxis\":{\"gridcolor\":\"white\",\"linecolor\":\"white\",\"ticks\":\"\"},\"baxis\":{\"gridcolor\":\"white\",\"linecolor\":\"white\",\"ticks\":\"\"},\"bgcolor\":\"#E5ECF6\",\"caxis\":{\"gridcolor\":\"white\",\"linecolor\":\"white\",\"ticks\":\"\"}},\"title\":{\"x\":0.05},\"xaxis\":{\"automargin\":true,\"gridcolor\":\"white\",\"linecolor\":\"white\",\"ticks\":\"\",\"title\":{\"standoff\":15},\"zerolinecolor\":\"white\",\"zerolinewidth\":2},\"yaxis\":{\"automargin\":true,\"gridcolor\":\"white\",\"linecolor\":\"white\",\"ticks\":\"\",\"title\":{\"standoff\":15},\"zerolinecolor\":\"white\",\"zerolinewidth\":2}}},\"title\":{\"font\":{\"color\":\"#151516\"},\"text\":\"Total cumulative Expenditures for or against candidates over time\"},\"xaxis\":{\"gridcolor\":\"#F6F6F6\",\"showgrid\":true,\"tickfont\":{\"color\":\"#666666\"},\"title\":{\"font\":{\"color\":\"#666666\"},\"text\":\"\"},\"zerolinecolor\":\"#F6F6F6\"},\"yaxis\":{\"gridcolor\":\"#F6F6F6\",\"showgrid\":true,\"tickfont\":{\"color\":\"#666666\"},\"title\":{\"font\":{\"color\":\"#666666\"},\"text\":\"\"},\"zerolinecolor\":\"#F6F6F6\"}},                        {\"showLink\": true, \"linkText\": \"Export to plot.ly\", \"plotlyServerURL\": \"https://plot.ly\", \"responsive\": true}                    ).then(function(){\n",
       "                            \n",
       "var gd = document.getElementById('f3d55b4c-7c8e-4fcd-b96e-acb0877fed29');\n",
       "var x = new MutationObserver(function (mutations, observer) {{\n",
       "        var display = window.getComputedStyle(gd).display;\n",
       "        if (!display || display === 'none') {{\n",
       "            console.log([gd, 'removed!']);\n",
       "            Plotly.purge(gd);\n",
       "            observer.disconnect();\n",
       "        }}\n",
       "}});\n",
       "\n",
       "// Listen for the removal of the full notebook cells\n",
       "var notebookContainer = gd.closest('#notebook-container');\n",
       "if (notebookContainer) {{\n",
       "    x.observe(notebookContainer, {childList: true});\n",
       "}}\n",
       "\n",
       "// Listen for the clearing of the current output cell\n",
       "var outputEl = gd.closest('.output');\n",
       "if (outputEl) {{\n",
       "    x.observe(outputEl, {childList: true});\n",
       "}}\n",
       "\n",
       "                        })                };                });            </script>        </div>"
      ]
     },
     "metadata": {},
     "output_type": "display_data"
    }
   ],
   "source": [
    "exp_by_dt = expenditures.groupby(['TRANSACTION_DT', 'CAND_NAME', 'for_against']).agg({'TRANSACTION_AMT': 'sum'}).reset_index()\n",
    "exp_by_dt = exp_by_dt.pivot_table(index='TRANSACTION_DT', columns=['CAND_NAME', 'for_against'], fill_value=0.0).droplevel(level=0, axis=1)\n",
    "exp_by_dt.columns = exp_by_dt.columns.map(lambda x: x[1] + \" \" + x[0])\n",
    "exp_by_dt.cumsum().iplot(title='Total cumulative Expenditures for or against candidates over time', colors=secondary_color_map)"
   ]
  },
  {
   "cell_type": "markdown",
   "metadata": {
    "papermill": {
     "duration": 0.081777,
     "end_time": "2020-09-02T04:54:00.931055",
     "exception": false,
     "start_time": "2020-09-02T04:54:00.849278",
     "status": "completed"
    },
    "tags": []
   },
   "source": [
    "## Contributions from individuals"
   ]
  },
  {
   "cell_type": "code",
   "execution_count": 39,
   "metadata": {
    "_kg_hide-input": true,
    "_kg_hide-output": true,
    "execution": {
     "iopub.execute_input": "2020-09-02T04:54:01.108653Z",
     "iopub.status.busy": "2020-09-02T04:54:01.107492Z",
     "iopub.status.idle": "2020-09-02T04:54:01.198670Z",
     "shell.execute_reply": "2020-09-02T04:54:01.197851Z"
    },
    "papermill": {
     "duration": 0.185561,
     "end_time": "2020-09-02T04:54:01.198819",
     "exception": false,
     "start_time": "2020-09-02T04:54:01.013258",
     "status": "completed"
    },
    "tags": []
   },
   "outputs": [
    {
     "data": {
      "text/html": [
       "<div>\n",
       "<style scoped>\n",
       "    .dataframe tbody tr th:only-of-type {\n",
       "        vertical-align: middle;\n",
       "    }\n",
       "\n",
       "    .dataframe tbody tr th {\n",
       "        vertical-align: top;\n",
       "    }\n",
       "\n",
       "    .dataframe thead th {\n",
       "        text-align: right;\n",
       "    }\n",
       "</style>\n",
       "<table border=\"1\" class=\"dataframe\">\n",
       "  <thead>\n",
       "    <tr style=\"text-align: right;\">\n",
       "      <th></th>\n",
       "      <th>CMTE_ID</th>\n",
       "      <th>AMNDT_IND</th>\n",
       "      <th>RPT_TP</th>\n",
       "      <th>TRANSACTION_PGI</th>\n",
       "      <th>IMAGE_NUM</th>\n",
       "      <th>TRANSACTION_TP</th>\n",
       "      <th>ENTITY_TP</th>\n",
       "      <th>NAME</th>\n",
       "      <th>CITY</th>\n",
       "      <th>STATE</th>\n",
       "      <th>ZIP_CODE</th>\n",
       "      <th>EMPLOYER</th>\n",
       "      <th>OCCUPATION</th>\n",
       "      <th>TRANSACTION_DT</th>\n",
       "      <th>TRANSACTION_AMT</th>\n",
       "      <th>OTHER_ID</th>\n",
       "      <th>CAND_ID</th>\n",
       "      <th>TRAN_ID</th>\n",
       "      <th>FILE_NUM</th>\n",
       "      <th>MEMO_CD</th>\n",
       "      <th>MEMO_TEXT</th>\n",
       "      <th>SUB_ID</th>\n",
       "      <th>AMNDT_IND_FULL</th>\n",
       "      <th>RPT_TP_FULL</th>\n",
       "      <th>ELECTION_TYPE</th>\n",
       "      <th>ELECTION_YEAR</th>\n",
       "      <th>TRANSACTION_TP_FULL</th>\n",
       "      <th>ENTITY_TP_FULL</th>\n",
       "      <th>TRAN_ID_parent</th>\n",
       "      <th>TRAN_ID_child</th>\n",
       "      <th>CAND_NAME</th>\n",
       "      <th>CAND_ICI</th>\n",
       "      <th>PTY_CD</th>\n",
       "      <th>CAND_PTY_AFFILIATION</th>\n",
       "      <th>TTL_RECEIPTS</th>\n",
       "      <th>TRANS_FROM_AUTH</th>\n",
       "      <th>TTL_DISB</th>\n",
       "      <th>TRANS_TO_AUTH</th>\n",
       "      <th>COH_BOP</th>\n",
       "      <th>COH_COP</th>\n",
       "      <th>CAND_CONTRIB</th>\n",
       "      <th>CAND_LOANS</th>\n",
       "      <th>OTHER_LOANS</th>\n",
       "      <th>CAND_LOAN_REPAY</th>\n",
       "      <th>OTHER_LOAN_REPAY</th>\n",
       "      <th>DEBTS_OWED_BY</th>\n",
       "      <th>TTL_INDIV_CONTRIB</th>\n",
       "      <th>CAND_OFFICE_ST</th>\n",
       "      <th>CAND_OFFICE_DISTRICT</th>\n",
       "      <th>SPEC_ELECTION</th>\n",
       "      <th>PRIM_ELECTION</th>\n",
       "      <th>RUN_ELECTION</th>\n",
       "      <th>GEN_ELECTION</th>\n",
       "      <th>GEN_ELECTION_PRECENT</th>\n",
       "      <th>OTHER_POL_CMTE_CONTRIB</th>\n",
       "      <th>POL_PTY_CONTRIB</th>\n",
       "      <th>CVG_END_DT</th>\n",
       "      <th>INDIV_REFUNDS</th>\n",
       "      <th>CMTE_REFUNDS</th>\n",
       "      <th>TTL_RECEIPTS_CORRECTED</th>\n",
       "      <th>TTL_DISB_CORRECTED</th>\n",
       "      <th>CAND_ICI_FULL</th>\n",
       "      <th>CAND_PTY_AFFILIATION_FULL</th>\n",
       "      <th>color</th>\n",
       "      <th>second_color</th>\n",
       "      <th>CMTE_NM</th>\n",
       "      <th>TRES_NM</th>\n",
       "      <th>CMTE_ST1</th>\n",
       "      <th>CMTE_ST2</th>\n",
       "      <th>CMTE_CITY</th>\n",
       "      <th>CMTE_ST</th>\n",
       "      <th>CMTE_ZIP</th>\n",
       "      <th>CMTE_DSGN</th>\n",
       "      <th>CMTE_TP</th>\n",
       "      <th>CMTE_PTY_AFFILIATION</th>\n",
       "      <th>CMTE_FILING_FREQ</th>\n",
       "      <th>ORG_TP</th>\n",
       "      <th>CONNECTED_ORG_NM</th>\n",
       "      <th>CAND_ID_y</th>\n",
       "      <th>for_against</th>\n",
       "    </tr>\n",
       "  </thead>\n",
       "  <tbody>\n",
       "    <tr>\n",
       "      <th>0</th>\n",
       "      <td>C00371385</td>\n",
       "      <td>N</td>\n",
       "      <td>M2</td>\n",
       "      <td>P</td>\n",
       "      <td>201902059145461441</td>\n",
       "      <td>24K</td>\n",
       "      <td>CCM</td>\n",
       "      <td>THOM TILLIS COMMITTEE</td>\n",
       "      <td>RALEIGH</td>\n",
       "      <td>NC</td>\n",
       "      <td>27624</td>\n",
       "      <td>NaN</td>\n",
       "      <td>NaN</td>\n",
       "      <td>2019-01-09</td>\n",
       "      <td>5000</td>\n",
       "      <td>C00545772</td>\n",
       "      <td>S4NC00162</td>\n",
       "      <td>SB23.6145</td>\n",
       "      <td>1314334</td>\n",
       "      <td>NaN</td>\n",
       "      <td>NaN</td>\n",
       "      <td>4022620191643762260</td>\n",
       "      <td>New</td>\n",
       "      <td>February monthly</td>\n",
       "      <td>Primary</td>\n",
       "      <td>0</td>\n",
       "      <td>Contribution made to nonaffiliated committee</td>\n",
       "      <td>Candidate Committee</td>\n",
       "      <td>SB23</td>\n",
       "      <td>6145</td>\n",
       "      <td>TILLIS, THOM R. SEN.</td>\n",
       "      <td>I</td>\n",
       "      <td>2</td>\n",
       "      <td>REP</td>\n",
       "      <td>8269271.66</td>\n",
       "      <td>1152018.96</td>\n",
       "      <td>3811302.27</td>\n",
       "      <td>6441.91</td>\n",
       "      <td>2025444.43</td>\n",
       "      <td>6483413.82</td>\n",
       "      <td>0.0</td>\n",
       "      <td>0.0</td>\n",
       "      <td>0.0</td>\n",
       "      <td>0.0</td>\n",
       "      <td>0.0</td>\n",
       "      <td>0.0</td>\n",
       "      <td>4798506.58</td>\n",
       "      <td>NC</td>\n",
       "      <td>00</td>\n",
       "      <td>NaN</td>\n",
       "      <td>NaN</td>\n",
       "      <td>NaN</td>\n",
       "      <td>NaN</td>\n",
       "      <td>NaN</td>\n",
       "      <td>2278244.39</td>\n",
       "      <td>0.0</td>\n",
       "      <td>06/09/2020</td>\n",
       "      <td>102493.33</td>\n",
       "      <td>14425.67</td>\n",
       "      <td>7117252.7</td>\n",
       "      <td>3804860.36</td>\n",
       "      <td>Incumbent</td>\n",
       "      <td>Republican Party</td>\n",
       "      <td>red</td>\n",
       "      <td>pink</td>\n",
       "      <td>ALEX LEE INC PAC</td>\n",
       "      <td>ALMQUIST, ANDREW MR.</td>\n",
       "      <td>120 4TH STREET SW</td>\n",
       "      <td>NaN</td>\n",
       "      <td>HICKORY</td>\n",
       "      <td>NC</td>\n",
       "      <td>28602</td>\n",
       "      <td>U</td>\n",
       "      <td>Q</td>\n",
       "      <td>NaN</td>\n",
       "      <td>M</td>\n",
       "      <td>C</td>\n",
       "      <td>ALEX LEE, INC.</td>\n",
       "      <td>NaN</td>\n",
       "      <td>For</td>\n",
       "    </tr>\n",
       "    <tr>\n",
       "      <th>1</th>\n",
       "      <td>C00551192</td>\n",
       "      <td>N</td>\n",
       "      <td>M2</td>\n",
       "      <td>P2020</td>\n",
       "      <td>201902119145496265</td>\n",
       "      <td>24K</td>\n",
       "      <td>CCM</td>\n",
       "      <td>THOM TILLIS COMMITTEE</td>\n",
       "      <td>RALEIGH</td>\n",
       "      <td>NC</td>\n",
       "      <td>27624</td>\n",
       "      <td>NaN</td>\n",
       "      <td>NaN</td>\n",
       "      <td>2019-01-28</td>\n",
       "      <td>2700</td>\n",
       "      <td>C00545772</td>\n",
       "      <td>S4NC00162</td>\n",
       "      <td>43079234</td>\n",
       "      <td>1315351</td>\n",
       "      <td>NaN</td>\n",
       "      <td>CONTRIBUTION</td>\n",
       "      <td>4022220191643459655</td>\n",
       "      <td>New</td>\n",
       "      <td>February monthly</td>\n",
       "      <td>Primary</td>\n",
       "      <td>2020</td>\n",
       "      <td>Contribution made to nonaffiliated committee</td>\n",
       "      <td>Candidate Committee</td>\n",
       "      <td>43079234</td>\n",
       "      <td>None</td>\n",
       "      <td>TILLIS, THOM R. SEN.</td>\n",
       "      <td>I</td>\n",
       "      <td>2</td>\n",
       "      <td>REP</td>\n",
       "      <td>8269271.66</td>\n",
       "      <td>1152018.96</td>\n",
       "      <td>3811302.27</td>\n",
       "      <td>6441.91</td>\n",
       "      <td>2025444.43</td>\n",
       "      <td>6483413.82</td>\n",
       "      <td>0.0</td>\n",
       "      <td>0.0</td>\n",
       "      <td>0.0</td>\n",
       "      <td>0.0</td>\n",
       "      <td>0.0</td>\n",
       "      <td>0.0</td>\n",
       "      <td>4798506.58</td>\n",
       "      <td>NC</td>\n",
       "      <td>00</td>\n",
       "      <td>NaN</td>\n",
       "      <td>NaN</td>\n",
       "      <td>NaN</td>\n",
       "      <td>NaN</td>\n",
       "      <td>NaN</td>\n",
       "      <td>2278244.39</td>\n",
       "      <td>0.0</td>\n",
       "      <td>06/09/2020</td>\n",
       "      <td>102493.33</td>\n",
       "      <td>14425.67</td>\n",
       "      <td>7117252.7</td>\n",
       "      <td>3804860.36</td>\n",
       "      <td>Incumbent</td>\n",
       "      <td>Republican Party</td>\n",
       "      <td>red</td>\n",
       "      <td>pink</td>\n",
       "      <td>MAIN STREET BANKING POLITICAL ACTION COMMITTEE</td>\n",
       "      <td>WILLIAMS, WADE</td>\n",
       "      <td>PO BOX 7427</td>\n",
       "      <td>NaN</td>\n",
       "      <td>ALEXANDRIA</td>\n",
       "      <td>VA</td>\n",
       "      <td>223077427</td>\n",
       "      <td>U</td>\n",
       "      <td>N</td>\n",
       "      <td>NaN</td>\n",
       "      <td>M</td>\n",
       "      <td>NaN</td>\n",
       "      <td>NONE</td>\n",
       "      <td>NaN</td>\n",
       "      <td>For</td>\n",
       "    </tr>\n",
       "    <tr>\n",
       "      <th>2</th>\n",
       "      <td>C00100107</td>\n",
       "      <td>N</td>\n",
       "      <td>M2</td>\n",
       "      <td>P2020</td>\n",
       "      <td>201902159145516138</td>\n",
       "      <td>24K</td>\n",
       "      <td>CCM</td>\n",
       "      <td>THOM TILLIS COMMITTEE</td>\n",
       "      <td>RALEIGH</td>\n",
       "      <td>NC</td>\n",
       "      <td>27624</td>\n",
       "      <td>NaN</td>\n",
       "      <td>NaN</td>\n",
       "      <td>2019-01-11</td>\n",
       "      <td>2500</td>\n",
       "      <td>C00545772</td>\n",
       "      <td>S4NC00162</td>\n",
       "      <td>156BA6A4BB1CA36FD35</td>\n",
       "      <td>1316037</td>\n",
       "      <td>NaN</td>\n",
       "      <td>NaN</td>\n",
       "      <td>4022720191644231227</td>\n",
       "      <td>New</td>\n",
       "      <td>February monthly</td>\n",
       "      <td>Primary</td>\n",
       "      <td>2020</td>\n",
       "      <td>Contribution made to nonaffiliated committee</td>\n",
       "      <td>Candidate Committee</td>\n",
       "      <td>156BA6A4BB1CA36FD35</td>\n",
       "      <td>None</td>\n",
       "      <td>TILLIS, THOM R. SEN.</td>\n",
       "      <td>I</td>\n",
       "      <td>2</td>\n",
       "      <td>REP</td>\n",
       "      <td>8269271.66</td>\n",
       "      <td>1152018.96</td>\n",
       "      <td>3811302.27</td>\n",
       "      <td>6441.91</td>\n",
       "      <td>2025444.43</td>\n",
       "      <td>6483413.82</td>\n",
       "      <td>0.0</td>\n",
       "      <td>0.0</td>\n",
       "      <td>0.0</td>\n",
       "      <td>0.0</td>\n",
       "      <td>0.0</td>\n",
       "      <td>0.0</td>\n",
       "      <td>4798506.58</td>\n",
       "      <td>NC</td>\n",
       "      <td>00</td>\n",
       "      <td>NaN</td>\n",
       "      <td>NaN</td>\n",
       "      <td>NaN</td>\n",
       "      <td>NaN</td>\n",
       "      <td>NaN</td>\n",
       "      <td>2278244.39</td>\n",
       "      <td>0.0</td>\n",
       "      <td>06/09/2020</td>\n",
       "      <td>102493.33</td>\n",
       "      <td>14425.67</td>\n",
       "      <td>7117252.7</td>\n",
       "      <td>3804860.36</td>\n",
       "      <td>Incumbent</td>\n",
       "      <td>Republican Party</td>\n",
       "      <td>red</td>\n",
       "      <td>pink</td>\n",
       "      <td>AMERICAN BEVERAGE ASSOCIATION POLITICAL ACTION...</td>\n",
       "      <td>HAMMOND, MARK N. MR.</td>\n",
       "      <td>1275 PENNSYLVANIA AVE NW</td>\n",
       "      <td>SUITE 1100</td>\n",
       "      <td>WASHINGTON</td>\n",
       "      <td>DC</td>\n",
       "      <td>20004</td>\n",
       "      <td>B</td>\n",
       "      <td>Q</td>\n",
       "      <td>NNE</td>\n",
       "      <td>M</td>\n",
       "      <td>T</td>\n",
       "      <td>AMERICAN BEVERAGE ASSOCIATION</td>\n",
       "      <td>NaN</td>\n",
       "      <td>For</td>\n",
       "    </tr>\n",
       "    <tr>\n",
       "      <th>3</th>\n",
       "      <td>C00214304</td>\n",
       "      <td>N</td>\n",
       "      <td>M2</td>\n",
       "      <td>G2020</td>\n",
       "      <td>201902199145530707</td>\n",
       "      <td>24K</td>\n",
       "      <td>CCM</td>\n",
       "      <td>THOM TILLIS COMMITTEE</td>\n",
       "      <td>RALEIGH</td>\n",
       "      <td>NC</td>\n",
       "      <td>27624</td>\n",
       "      <td>NaN</td>\n",
       "      <td>NaN</td>\n",
       "      <td>2019-01-08</td>\n",
       "      <td>2500</td>\n",
       "      <td>C00545772</td>\n",
       "      <td>S4NC00162</td>\n",
       "      <td>10001048</td>\n",
       "      <td>1316592</td>\n",
       "      <td>NaN</td>\n",
       "      <td>NaN</td>\n",
       "      <td>4022820191644627257</td>\n",
       "      <td>New</td>\n",
       "      <td>February monthly</td>\n",
       "      <td>General</td>\n",
       "      <td>2020</td>\n",
       "      <td>Contribution made to nonaffiliated committee</td>\n",
       "      <td>Candidate Committee</td>\n",
       "      <td>10001048</td>\n",
       "      <td>None</td>\n",
       "      <td>TILLIS, THOM R. SEN.</td>\n",
       "      <td>I</td>\n",
       "      <td>2</td>\n",
       "      <td>REP</td>\n",
       "      <td>8269271.66</td>\n",
       "      <td>1152018.96</td>\n",
       "      <td>3811302.27</td>\n",
       "      <td>6441.91</td>\n",
       "      <td>2025444.43</td>\n",
       "      <td>6483413.82</td>\n",
       "      <td>0.0</td>\n",
       "      <td>0.0</td>\n",
       "      <td>0.0</td>\n",
       "      <td>0.0</td>\n",
       "      <td>0.0</td>\n",
       "      <td>0.0</td>\n",
       "      <td>4798506.58</td>\n",
       "      <td>NC</td>\n",
       "      <td>00</td>\n",
       "      <td>NaN</td>\n",
       "      <td>NaN</td>\n",
       "      <td>NaN</td>\n",
       "      <td>NaN</td>\n",
       "      <td>NaN</td>\n",
       "      <td>2278244.39</td>\n",
       "      <td>0.0</td>\n",
       "      <td>06/09/2020</td>\n",
       "      <td>102493.33</td>\n",
       "      <td>14425.67</td>\n",
       "      <td>7117252.7</td>\n",
       "      <td>3804860.36</td>\n",
       "      <td>Incumbent</td>\n",
       "      <td>Republican Party</td>\n",
       "      <td>red</td>\n",
       "      <td>pink</td>\n",
       "      <td>AHOLD DELHAIZE USA, INC POLITICAL ACTION COMMI...</td>\n",
       "      <td>YOUNG, TEROSS WILLIEVICK</td>\n",
       "      <td>PO BOX 1330</td>\n",
       "      <td>2110 EXECUTIVE DRIVE</td>\n",
       "      <td>SALISBURY</td>\n",
       "      <td>NC</td>\n",
       "      <td>28145</td>\n",
       "      <td>U</td>\n",
       "      <td>Q</td>\n",
       "      <td>NaN</td>\n",
       "      <td>M</td>\n",
       "      <td>C</td>\n",
       "      <td>AHOLD DELHAIZE USA, INC.</td>\n",
       "      <td>NaN</td>\n",
       "      <td>For</td>\n",
       "    </tr>\n",
       "    <tr>\n",
       "      <th>4</th>\n",
       "      <td>C00144774</td>\n",
       "      <td>N</td>\n",
       "      <td>M2</td>\n",
       "      <td>P2020</td>\n",
       "      <td>201902199145526887</td>\n",
       "      <td>24K</td>\n",
       "      <td>CCM</td>\n",
       "      <td>THOM TILLIS COMMITTEE</td>\n",
       "      <td>RALEIGH</td>\n",
       "      <td>NC</td>\n",
       "      <td>27624</td>\n",
       "      <td>NaN</td>\n",
       "      <td>NaN</td>\n",
       "      <td>2019-01-09</td>\n",
       "      <td>5000</td>\n",
       "      <td>C00545772</td>\n",
       "      <td>S4NC00162</td>\n",
       "      <td>12654565</td>\n",
       "      <td>1316428</td>\n",
       "      <td>NaN</td>\n",
       "      <td>DIRECT CONTIRIBUTION</td>\n",
       "      <td>4022720191644226724</td>\n",
       "      <td>New</td>\n",
       "      <td>February monthly</td>\n",
       "      <td>Primary</td>\n",
       "      <td>2020</td>\n",
       "      <td>Contribution made to nonaffiliated committee</td>\n",
       "      <td>Candidate Committee</td>\n",
       "      <td>12654565</td>\n",
       "      <td>None</td>\n",
       "      <td>TILLIS, THOM R. SEN.</td>\n",
       "      <td>I</td>\n",
       "      <td>2</td>\n",
       "      <td>REP</td>\n",
       "      <td>8269271.66</td>\n",
       "      <td>1152018.96</td>\n",
       "      <td>3811302.27</td>\n",
       "      <td>6441.91</td>\n",
       "      <td>2025444.43</td>\n",
       "      <td>6483413.82</td>\n",
       "      <td>0.0</td>\n",
       "      <td>0.0</td>\n",
       "      <td>0.0</td>\n",
       "      <td>0.0</td>\n",
       "      <td>0.0</td>\n",
       "      <td>0.0</td>\n",
       "      <td>4798506.58</td>\n",
       "      <td>NC</td>\n",
       "      <td>00</td>\n",
       "      <td>NaN</td>\n",
       "      <td>NaN</td>\n",
       "      <td>NaN</td>\n",
       "      <td>NaN</td>\n",
       "      <td>NaN</td>\n",
       "      <td>2278244.39</td>\n",
       "      <td>0.0</td>\n",
       "      <td>06/09/2020</td>\n",
       "      <td>102493.33</td>\n",
       "      <td>14425.67</td>\n",
       "      <td>7117252.7</td>\n",
       "      <td>3804860.36</td>\n",
       "      <td>Incumbent</td>\n",
       "      <td>Republican Party</td>\n",
       "      <td>red</td>\n",
       "      <td>pink</td>\n",
       "      <td>SOUTHERN COMPANY EMPLOYEES PAC</td>\n",
       "      <td>CARDEN, LAURA B.</td>\n",
       "      <td>241 RALPH MCGILL BOULEVARD NE</td>\n",
       "      <td>BIN 10111</td>\n",
       "      <td>ATLANTA</td>\n",
       "      <td>GA</td>\n",
       "      <td>30308</td>\n",
       "      <td>B</td>\n",
       "      <td>Q</td>\n",
       "      <td>NaN</td>\n",
       "      <td>M</td>\n",
       "      <td>C</td>\n",
       "      <td>NaN</td>\n",
       "      <td>NaN</td>\n",
       "      <td>For</td>\n",
       "    </tr>\n",
       "  </tbody>\n",
       "</table>\n",
       "</div>"
      ],
      "text/plain": [
       "     CMTE_ID AMNDT_IND RPT_TP TRANSACTION_PGI           IMAGE_NUM  \\\n",
       "0  C00371385         N     M2               P  201902059145461441   \n",
       "1  C00551192         N     M2           P2020  201902119145496265   \n",
       "2  C00100107         N     M2           P2020  201902159145516138   \n",
       "3  C00214304         N     M2           G2020  201902199145530707   \n",
       "4  C00144774         N     M2           P2020  201902199145526887   \n",
       "\n",
       "  TRANSACTION_TP ENTITY_TP                   NAME     CITY STATE ZIP_CODE  \\\n",
       "0            24K       CCM  THOM TILLIS COMMITTEE  RALEIGH    NC    27624   \n",
       "1            24K       CCM  THOM TILLIS COMMITTEE  RALEIGH    NC    27624   \n",
       "2            24K       CCM  THOM TILLIS COMMITTEE  RALEIGH    NC    27624   \n",
       "3            24K       CCM  THOM TILLIS COMMITTEE  RALEIGH    NC    27624   \n",
       "4            24K       CCM  THOM TILLIS COMMITTEE  RALEIGH    NC    27624   \n",
       "\n",
       "  EMPLOYER OCCUPATION TRANSACTION_DT  TRANSACTION_AMT   OTHER_ID    CAND_ID  \\\n",
       "0      NaN        NaN     2019-01-09             5000  C00545772  S4NC00162   \n",
       "1      NaN        NaN     2019-01-28             2700  C00545772  S4NC00162   \n",
       "2      NaN        NaN     2019-01-11             2500  C00545772  S4NC00162   \n",
       "3      NaN        NaN     2019-01-08             2500  C00545772  S4NC00162   \n",
       "4      NaN        NaN     2019-01-09             5000  C00545772  S4NC00162   \n",
       "\n",
       "               TRAN_ID  FILE_NUM MEMO_CD             MEMO_TEXT  \\\n",
       "0            SB23.6145   1314334     NaN                   NaN   \n",
       "1             43079234   1315351     NaN          CONTRIBUTION   \n",
       "2  156BA6A4BB1CA36FD35   1316037     NaN                   NaN   \n",
       "3             10001048   1316592     NaN                   NaN   \n",
       "4             12654565   1316428     NaN  DIRECT CONTIRIBUTION   \n",
       "\n",
       "                SUB_ID AMNDT_IND_FULL       RPT_TP_FULL ELECTION_TYPE  \\\n",
       "0  4022620191643762260            New  February monthly       Primary   \n",
       "1  4022220191643459655            New  February monthly       Primary   \n",
       "2  4022720191644231227            New  February monthly       Primary   \n",
       "3  4022820191644627257            New  February monthly       General   \n",
       "4  4022720191644226724            New  February monthly       Primary   \n",
       "\n",
       "   ELECTION_YEAR                           TRANSACTION_TP_FULL  \\\n",
       "0              0  Contribution made to nonaffiliated committee   \n",
       "1           2020  Contribution made to nonaffiliated committee   \n",
       "2           2020  Contribution made to nonaffiliated committee   \n",
       "3           2020  Contribution made to nonaffiliated committee   \n",
       "4           2020  Contribution made to nonaffiliated committee   \n",
       "\n",
       "        ENTITY_TP_FULL       TRAN_ID_parent TRAN_ID_child  \\\n",
       "0  Candidate Committee                 SB23          6145   \n",
       "1  Candidate Committee             43079234          None   \n",
       "2  Candidate Committee  156BA6A4BB1CA36FD35          None   \n",
       "3  Candidate Committee             10001048          None   \n",
       "4  Candidate Committee             12654565          None   \n",
       "\n",
       "              CAND_NAME CAND_ICI  PTY_CD CAND_PTY_AFFILIATION  TTL_RECEIPTS  \\\n",
       "0  TILLIS, THOM R. SEN.        I       2                  REP    8269271.66   \n",
       "1  TILLIS, THOM R. SEN.        I       2                  REP    8269271.66   \n",
       "2  TILLIS, THOM R. SEN.        I       2                  REP    8269271.66   \n",
       "3  TILLIS, THOM R. SEN.        I       2                  REP    8269271.66   \n",
       "4  TILLIS, THOM R. SEN.        I       2                  REP    8269271.66   \n",
       "\n",
       "   TRANS_FROM_AUTH    TTL_DISB  TRANS_TO_AUTH     COH_BOP     COH_COP  \\\n",
       "0       1152018.96  3811302.27        6441.91  2025444.43  6483413.82   \n",
       "1       1152018.96  3811302.27        6441.91  2025444.43  6483413.82   \n",
       "2       1152018.96  3811302.27        6441.91  2025444.43  6483413.82   \n",
       "3       1152018.96  3811302.27        6441.91  2025444.43  6483413.82   \n",
       "4       1152018.96  3811302.27        6441.91  2025444.43  6483413.82   \n",
       "\n",
       "   CAND_CONTRIB  CAND_LOANS  OTHER_LOANS  CAND_LOAN_REPAY  OTHER_LOAN_REPAY  \\\n",
       "0           0.0         0.0          0.0              0.0               0.0   \n",
       "1           0.0         0.0          0.0              0.0               0.0   \n",
       "2           0.0         0.0          0.0              0.0               0.0   \n",
       "3           0.0         0.0          0.0              0.0               0.0   \n",
       "4           0.0         0.0          0.0              0.0               0.0   \n",
       "\n",
       "   DEBTS_OWED_BY  TTL_INDIV_CONTRIB CAND_OFFICE_ST CAND_OFFICE_DISTRICT  \\\n",
       "0            0.0         4798506.58             NC                   00   \n",
       "1            0.0         4798506.58             NC                   00   \n",
       "2            0.0         4798506.58             NC                   00   \n",
       "3            0.0         4798506.58             NC                   00   \n",
       "4            0.0         4798506.58             NC                   00   \n",
       "\n",
       "   SPEC_ELECTION  PRIM_ELECTION  RUN_ELECTION  GEN_ELECTION  \\\n",
       "0            NaN            NaN           NaN           NaN   \n",
       "1            NaN            NaN           NaN           NaN   \n",
       "2            NaN            NaN           NaN           NaN   \n",
       "3            NaN            NaN           NaN           NaN   \n",
       "4            NaN            NaN           NaN           NaN   \n",
       "\n",
       "   GEN_ELECTION_PRECENT  OTHER_POL_CMTE_CONTRIB  POL_PTY_CONTRIB  CVG_END_DT  \\\n",
       "0                   NaN              2278244.39              0.0  06/09/2020   \n",
       "1                   NaN              2278244.39              0.0  06/09/2020   \n",
       "2                   NaN              2278244.39              0.0  06/09/2020   \n",
       "3                   NaN              2278244.39              0.0  06/09/2020   \n",
       "4                   NaN              2278244.39              0.0  06/09/2020   \n",
       "\n",
       "   INDIV_REFUNDS  CMTE_REFUNDS  TTL_RECEIPTS_CORRECTED  TTL_DISB_CORRECTED  \\\n",
       "0      102493.33      14425.67               7117252.7          3804860.36   \n",
       "1      102493.33      14425.67               7117252.7          3804860.36   \n",
       "2      102493.33      14425.67               7117252.7          3804860.36   \n",
       "3      102493.33      14425.67               7117252.7          3804860.36   \n",
       "4      102493.33      14425.67               7117252.7          3804860.36   \n",
       "\n",
       "  CAND_ICI_FULL CAND_PTY_AFFILIATION_FULL color second_color  \\\n",
       "0     Incumbent          Republican Party   red         pink   \n",
       "1     Incumbent          Republican Party   red         pink   \n",
       "2     Incumbent          Republican Party   red         pink   \n",
       "3     Incumbent          Republican Party   red         pink   \n",
       "4     Incumbent          Republican Party   red         pink   \n",
       "\n",
       "                                             CMTE_NM  \\\n",
       "0                                   ALEX LEE INC PAC   \n",
       "1     MAIN STREET BANKING POLITICAL ACTION COMMITTEE   \n",
       "2  AMERICAN BEVERAGE ASSOCIATION POLITICAL ACTION...   \n",
       "3  AHOLD DELHAIZE USA, INC POLITICAL ACTION COMMI...   \n",
       "4                     SOUTHERN COMPANY EMPLOYEES PAC   \n",
       "\n",
       "                    TRES_NM                       CMTE_ST1  \\\n",
       "0      ALMQUIST, ANDREW MR.              120 4TH STREET SW   \n",
       "1            WILLIAMS, WADE                    PO BOX 7427   \n",
       "2      HAMMOND, MARK N. MR.       1275 PENNSYLVANIA AVE NW   \n",
       "3  YOUNG, TEROSS WILLIEVICK                    PO BOX 1330   \n",
       "4          CARDEN, LAURA B.  241 RALPH MCGILL BOULEVARD NE   \n",
       "\n",
       "               CMTE_ST2   CMTE_CITY CMTE_ST   CMTE_ZIP CMTE_DSGN CMTE_TP  \\\n",
       "0                   NaN     HICKORY      NC      28602         U       Q   \n",
       "1                   NaN  ALEXANDRIA      VA  223077427         U       N   \n",
       "2            SUITE 1100  WASHINGTON      DC      20004         B       Q   \n",
       "3  2110 EXECUTIVE DRIVE   SALISBURY      NC      28145         U       Q   \n",
       "4             BIN 10111     ATLANTA      GA      30308         B       Q   \n",
       "\n",
       "  CMTE_PTY_AFFILIATION CMTE_FILING_FREQ ORG_TP               CONNECTED_ORG_NM  \\\n",
       "0                  NaN                M      C                 ALEX LEE, INC.   \n",
       "1                  NaN                M    NaN                           NONE   \n",
       "2                  NNE                M      T  AMERICAN BEVERAGE ASSOCIATION   \n",
       "3                  NaN                M      C       AHOLD DELHAIZE USA, INC.   \n",
       "4                  NaN                M      C                            NaN   \n",
       "\n",
       "  CAND_ID_y for_against  \n",
       "0       NaN         For  \n",
       "1       NaN         For  \n",
       "2       NaN         For  \n",
       "3       NaN         For  \n",
       "4       NaN         For  "
      ]
     },
     "execution_count": 39,
     "metadata": {},
     "output_type": "execute_result"
    }
   ],
   "source": [
    "# First, we determine which committees are for or against a candidate so that we can bucket the contribution appropriately\n",
    "committee_contribs['for_against'] = committee_contribs['for_against'].fillna('For')\n",
    "committee_contribs['CAND_NAME'] = np.where(((committee_contribs['for_against'] == 'Against') & \n",
    "                                            (committee_contribs['CAND_NAME'] == democrat)) |\n",
    "                                            ((committee_contribs['for_against'] == 'For') & \n",
    "                                            (committee_contribs['CAND_NAME'] == republican)),\n",
    "                                           republican, democrat)\n",
    "committee_contribs.head()"
   ]
  },
  {
   "cell_type": "code",
   "execution_count": 40,
   "metadata": {
    "_kg_hide-input": true,
    "_kg_hide-output": true,
    "execution": {
     "iopub.execute_input": "2020-09-02T04:54:01.374876Z",
     "iopub.status.busy": "2020-09-02T04:54:01.374040Z",
     "iopub.status.idle": "2020-09-02T04:54:01.408805Z",
     "shell.execute_reply": "2020-09-02T04:54:01.409404Z"
    },
    "papermill": {
     "duration": 0.12839,
     "end_time": "2020-09-02T04:54:01.409598",
     "exception": false,
     "start_time": "2020-09-02T04:54:01.281208",
     "status": "completed"
    },
    "tags": []
   },
   "outputs": [
    {
     "data": {
      "text/html": [
       "<div>\n",
       "<style scoped>\n",
       "    .dataframe tbody tr th:only-of-type {\n",
       "        vertical-align: middle;\n",
       "    }\n",
       "\n",
       "    .dataframe tbody tr th {\n",
       "        vertical-align: top;\n",
       "    }\n",
       "\n",
       "    .dataframe thead th {\n",
       "        text-align: right;\n",
       "    }\n",
       "</style>\n",
       "<table border=\"1\" class=\"dataframe\">\n",
       "  <thead>\n",
       "    <tr style=\"text-align: right;\">\n",
       "      <th>CAND_NAME</th>\n",
       "      <th>CMTE_ID</th>\n",
       "      <th>CUNNINGHAM, CAL</th>\n",
       "      <th>TILLIS, THOM R. SEN.</th>\n",
       "      <th>CAND_NAME</th>\n",
       "    </tr>\n",
       "  </thead>\n",
       "  <tbody>\n",
       "    <tr>\n",
       "      <th>0</th>\n",
       "      <td>C00000422</td>\n",
       "      <td>0.0</td>\n",
       "      <td>2500.0</td>\n",
       "      <td>TILLIS, THOM R. SEN.</td>\n",
       "    </tr>\n",
       "    <tr>\n",
       "      <th>1</th>\n",
       "      <td>C00000729</td>\n",
       "      <td>0.0</td>\n",
       "      <td>3000.0</td>\n",
       "      <td>TILLIS, THOM R. SEN.</td>\n",
       "    </tr>\n",
       "    <tr>\n",
       "      <th>2</th>\n",
       "      <td>C00000885</td>\n",
       "      <td>2500.0</td>\n",
       "      <td>0.0</td>\n",
       "      <td>CUNNINGHAM, CAL</td>\n",
       "    </tr>\n",
       "    <tr>\n",
       "      <th>3</th>\n",
       "      <td>C00000901</td>\n",
       "      <td>0.0</td>\n",
       "      <td>5000.0</td>\n",
       "      <td>TILLIS, THOM R. SEN.</td>\n",
       "    </tr>\n",
       "    <tr>\n",
       "      <th>4</th>\n",
       "      <td>C00001016</td>\n",
       "      <td>5000.0</td>\n",
       "      <td>0.0</td>\n",
       "      <td>CUNNINGHAM, CAL</td>\n",
       "    </tr>\n",
       "  </tbody>\n",
       "</table>\n",
       "</div>"
      ],
      "text/plain": [
       "CAND_NAME    CMTE_ID  CUNNINGHAM, CAL  TILLIS, THOM R. SEN.  \\\n",
       "0          C00000422              0.0                2500.0   \n",
       "1          C00000729              0.0                3000.0   \n",
       "2          C00000885           2500.0                   0.0   \n",
       "3          C00000901              0.0                5000.0   \n",
       "4          C00001016           5000.0                   0.0   \n",
       "\n",
       "CAND_NAME             CAND_NAME  \n",
       "0          TILLIS, THOM R. SEN.  \n",
       "1          TILLIS, THOM R. SEN.  \n",
       "2               CUNNINGHAM, CAL  \n",
       "3          TILLIS, THOM R. SEN.  \n",
       "4               CUNNINGHAM, CAL  "
      ]
     },
     "execution_count": 40,
     "metadata": {},
     "output_type": "execute_result"
    }
   ],
   "source": [
    "cmte_cand_mapping = committee_contribs.groupby(['CMTE_ID', 'CAND_NAME']).agg({'TRANSACTION_AMT': 'sum'})\n",
    "cmte_cand_mapping = cmte_cand_mapping.pivot_table(index='CMTE_ID', columns='CAND_NAME').fillna(0.0).droplevel(0, axis=1).reset_index()\n",
    "cmte_cand_mapping = cmte_cand_mapping.loc[~(cmte_cand_mapping[democrat] == cmte_cand_mapping[republican])]\n",
    "cmte_cand_mapping['CAND_NAME'] = np.where(cmte_cand_mapping[democrat] > cmte_cand_mapping[republican], democrat, republican)\n",
    "cmte_cand_mapping.head()"
   ]
  },
  {
   "cell_type": "code",
   "execution_count": 41,
   "metadata": {
    "_kg_hide-input": true,
    "_kg_hide-output": true,
    "execution": {
     "iopub.execute_input": "2020-09-02T04:54:01.755383Z",
     "iopub.status.busy": "2020-09-02T04:54:01.754649Z",
     "iopub.status.idle": "2020-09-02T04:54:08.038141Z",
     "shell.execute_reply": "2020-09-02T04:54:08.037315Z"
    },
    "papermill": {
     "duration": 6.372499,
     "end_time": "2020-09-02T04:54:08.038287",
     "exception": false,
     "start_time": "2020-09-02T04:54:01.665788",
     "status": "completed"
    },
    "tags": []
   },
   "outputs": [
    {
     "data": {
      "text/plain": [
       "26170487"
      ]
     },
     "execution_count": 41,
     "metadata": {},
     "output_type": "execute_result"
    }
   ],
   "source": [
    "s = f\"../data/20192020-FEC/Contributions by individuals.csv\"\n",
    "cmd_result = ! wc -l \"{s}\"\n",
    "contribs_cnt = int(cmd_result[0].split()[0])\n",
    "contribs_cnt"
   ]
  },
  {
   "cell_type": "code",
   "execution_count": 42,
   "metadata": {
    "_kg_hide-input": true,
    "execution": {
     "iopub.execute_input": "2020-09-02T04:54:08.227981Z",
     "iopub.status.busy": "2020-09-02T04:54:08.227114Z",
     "iopub.status.idle": "2020-09-02T04:54:08.230716Z",
     "shell.execute_reply": "2020-09-02T04:54:08.229950Z"
    },
    "papermill": {
     "duration": 0.105193,
     "end_time": "2020-09-02T04:54:08.230859",
     "exception": false,
     "start_time": "2020-09-02T04:54:08.125666",
     "status": "completed"
    },
    "tags": []
   },
   "outputs": [],
   "source": [
    "# Iteration 42 has some bad data that needs to be fixed manually as below\n",
    "def handle_iteration_42(df):\n",
    "    bad_row = df[df['TRANSACTION_DT'] == 'SAN DIEGO']\n",
    "    bad_rows = bad_row['OCCUPATION'].str.split('\\n').values[0]\n",
    "    other_rows = []\n",
    "    for i, row in enumerate(bad_rows):\n",
    "        if i==0:\n",
    "            first_row_last_part = row.split('|')\n",
    "        elif i == len(bad_rows)-1:\n",
    "            last_row_first_part = row.split('|')\n",
    "        else:\n",
    "            other_rows.append(row.split('|'))\n",
    "    all_dfs = [df]\n",
    "    first_row = list(df.loc[bad_row.index].iloc[:, 0:12].copy().values[0]) + first_row_last_part\n",
    "    all_dfs.append(pd.DataFrame([first_row], columns=df.columns))\n",
    "    all_dfs.append(pd.DataFrame(other_rows, columns=df.columns))\n",
    "    all_dfs.append(pd.DataFrame([last_row_first_part + list(df.loc[bad_row.index].iloc[:, 13:].copy().values[0])\n",
    "                                   + [np.NaN, np.NaN, np.NaN, np.NaN, np.NaN]], columns=df.columns))\n",
    "    df = pd.concat(all_dfs, axis=0)\n",
    "    df = df.drop(index=bad_row.index).reset_index()\n",
    "    return df"
   ]
  },
  {
   "cell_type": "code",
   "execution_count": null,
   "metadata": {
    "_kg_hide-input": true,
    "_kg_hide-output": true,
    "execution": {
     "iopub.execute_input": "2020-09-02T04:54:08.410216Z",
     "iopub.status.busy": "2020-09-02T04:54:08.409376Z",
     "iopub.status.idle": "2020-09-02T06:04:23.569370Z",
     "shell.execute_reply": "2020-09-02T06:04:23.568529Z"
    },
    "papermill": {
     "duration": 4215.255032,
     "end_time": "2020-09-02T06:04:23.569523",
     "exception": false,
     "start_time": "2020-09-02T04:54:08.314491",
     "status": "completed"
    },
    "tags": []
   },
   "outputs": [
    {
     "name": "stdout",
     "output_type": "stream",
     "text": [
      "Processing chunk 0\n"
     ]
    },
    {
     "name": "stderr",
     "output_type": "stream",
     "text": [
      "/Users/sahluwalia/acre/lib/python3.7/site-packages/IPython/core/interactiveshell.py:3257: DtypeWarning:\n",
      "\n",
      "Columns (10,18) have mixed types.Specify dtype option on import or set low_memory=False.\n",
      "\n"
     ]
    },
    {
     "name": "stdout",
     "output_type": "stream",
     "text": [
      "Processing chunk 1\n"
     ]
    },
    {
     "name": "stderr",
     "output_type": "stream",
     "text": [
      "/Users/sahluwalia/acre/lib/python3.7/site-packages/IPython/core/interactiveshell.py:3257: DtypeWarning:\n",
      "\n",
      "Columns (10) have mixed types.Specify dtype option on import or set low_memory=False.\n",
      "\n"
     ]
    },
    {
     "name": "stdout",
     "output_type": "stream",
     "text": [
      "Processing chunk 2\n",
      "Processing chunk 3\n",
      "Processing chunk 4\n",
      "Processing chunk 5\n",
      "Processing chunk 6\n"
     ]
    },
    {
     "name": "stderr",
     "output_type": "stream",
     "text": [
      "/Users/sahluwalia/acre/lib/python3.7/site-packages/IPython/core/interactiveshell.py:3257: DtypeWarning:\n",
      "\n",
      "Columns (5,10,15,19) have mixed types.Specify dtype option on import or set low_memory=False.\n",
      "\n"
     ]
    },
    {
     "name": "stdout",
     "output_type": "stream",
     "text": [
      "Processing chunk 7\n",
      "Processing chunk 8\n",
      "Processing chunk 9\n"
     ]
    },
    {
     "name": "stderr",
     "output_type": "stream",
     "text": [
      "/Users/sahluwalia/acre/lib/python3.7/site-packages/IPython/core/interactiveshell.py:3257: DtypeWarning:\n",
      "\n",
      "Columns (5,10,15,18,19) have mixed types.Specify dtype option on import or set low_memory=False.\n",
      "\n"
     ]
    },
    {
     "name": "stdout",
     "output_type": "stream",
     "text": [
      "Processing chunk 10\n"
     ]
    },
    {
     "name": "stderr",
     "output_type": "stream",
     "text": [
      "/Users/sahluwalia/acre/lib/python3.7/site-packages/IPython/core/interactiveshell.py:3257: DtypeWarning:\n",
      "\n",
      "Columns (10,18,19) have mixed types.Specify dtype option on import or set low_memory=False.\n",
      "\n"
     ]
    },
    {
     "name": "stdout",
     "output_type": "stream",
     "text": [
      "Processing chunk 11\n",
      "Processing chunk 12\n"
     ]
    },
    {
     "name": "stderr",
     "output_type": "stream",
     "text": [
      "/Users/sahluwalia/acre/lib/python3.7/site-packages/IPython/core/interactiveshell.py:3257: DtypeWarning:\n",
      "\n",
      "Columns (5,10,15,18) have mixed types.Specify dtype option on import or set low_memory=False.\n",
      "\n"
     ]
    },
    {
     "name": "stdout",
     "output_type": "stream",
     "text": [
      "Processing chunk 13\n"
     ]
    },
    {
     "name": "stderr",
     "output_type": "stream",
     "text": [
      "/Users/sahluwalia/acre/lib/python3.7/site-packages/IPython/core/interactiveshell.py:3257: DtypeWarning:\n",
      "\n",
      "Columns (16,18) have mixed types.Specify dtype option on import or set low_memory=False.\n",
      "\n"
     ]
    },
    {
     "name": "stdout",
     "output_type": "stream",
     "text": [
      "Processing chunk 14\n",
      "Processing chunk 15\n"
     ]
    },
    {
     "name": "stderr",
     "output_type": "stream",
     "text": [
      "/Users/sahluwalia/acre/lib/python3.7/site-packages/IPython/core/interactiveshell.py:3257: DtypeWarning:\n",
      "\n",
      "Columns (10,15,18) have mixed types.Specify dtype option on import or set low_memory=False.\n",
      "\n"
     ]
    },
    {
     "name": "stdout",
     "output_type": "stream",
     "text": [
      "Processing chunk 16\n"
     ]
    }
   ],
   "source": [
    "import gc\n",
    "chunksize = 100000\n",
    "contribs_by_indivs = []\n",
    "cols = None\n",
    "for i in range(contribs_cnt//chunksize):\n",
    "    print(f\"Processing chunk {i}\")\n",
    "    df = pd.read_csv(f\"../data/20192020-FEC/Contributions by individuals.csv\", skiprows=i*chunksize, nrows=chunksize)\n",
    "    if i == 0:\n",
    "        cols = df.columns\n",
    "    else:\n",
    "        df.columns = cols\n",
    "    if i == 42:\n",
    "        df = handle_iteration_42(df)\n",
    "    interesting_ones = df[df['CMTE_ID'].isin(cmte_cand_mapping['CMTE_ID'])]\n",
    "    if len(interesting_ones) > 0:\n",
    "        contribs_by_indivs.append(interesting_ones)\n",
    "#len(contribs_by_indivs)"
   ]
  },
  {
   "cell_type": "code",
   "execution_count": null,
   "metadata": {
    "_kg_hide-input": true,
    "_kg_hide-output": true,
    "execution": {
     "iopub.execute_input": "2020-09-02T06:04:23.788852Z",
     "iopub.status.busy": "2020-09-02T06:04:23.788018Z",
     "iopub.status.idle": "2020-09-02T06:04:26.594455Z",
     "shell.execute_reply": "2020-09-02T06:04:26.593723Z"
    },
    "papermill": {
     "duration": 2.922134,
     "end_time": "2020-09-02T06:04:26.594602",
     "exception": false,
     "start_time": "2020-09-02T06:04:23.672468",
     "status": "completed"
    },
    "tags": []
   },
   "outputs": [],
   "source": [
    "contribs_by_indivs = pd.concat(contribs_by_indivs)\n",
    "contribs_by_indivs.head()"
   ]
  },
  {
   "cell_type": "code",
   "execution_count": null,
   "metadata": {
    "_kg_hide-input": true,
    "_kg_hide-output": true,
    "execution": {
     "iopub.execute_input": "2020-09-02T06:04:26.810224Z",
     "iopub.status.busy": "2020-09-02T06:04:26.809387Z",
     "iopub.status.idle": "2020-09-02T06:04:36.371506Z",
     "shell.execute_reply": "2020-09-02T06:04:36.370810Z"
    },
    "papermill": {
     "duration": 9.670949,
     "end_time": "2020-09-02T06:04:36.371682",
     "exception": false,
     "start_time": "2020-09-02T06:04:26.700733",
     "status": "completed"
    },
    "tags": []
   },
   "outputs": [],
   "source": [
    "contribs_by_indivs = contribs_by_indivs[(~contribs_by_indivs['TRANSACTION_DT'].isnull())]\n",
    "contribs_by_indivs['TRANSACTION_DT'] = pd.to_datetime(\n",
    "    contribs_by_indivs['TRANSACTION_DT'].fillna(0).astype('int').astype('str')\n",
    "    .replace('0', np.NaN).str.zfill(8), format='%m%d%Y')\n",
    "contribs_by_indivs.head()"
   ]
  },
  {
   "cell_type": "code",
   "execution_count": null,
   "metadata": {
    "_kg_hide-input": true,
    "execution": {
     "iopub.execute_input": "2020-09-02T06:04:36.592299Z",
     "iopub.status.busy": "2020-09-02T06:04:36.591487Z",
     "iopub.status.idle": "2020-09-02T06:04:37.397976Z",
     "shell.execute_reply": "2020-09-02T06:04:37.398589Z"
    },
    "papermill": {
     "duration": 0.92096,
     "end_time": "2020-09-02T06:04:37.398790",
     "exception": false,
     "start_time": "2020-09-02T06:04:36.477830",
     "status": "completed"
    },
    "tags": []
   },
   "outputs": [],
   "source": [
    "contribs_by_indivs = contribs_by_indivs[(contribs_by_indivs['TRANSACTION_DT'] >= '2018-01-01') & (contribs_by_indivs['TRANSACTION_DT'] < '2021-01-01')]\n",
    "contribs_by_indivs.head()"
   ]
  },
  {
   "cell_type": "code",
   "execution_count": null,
   "metadata": {
    "_kg_hide-input": true,
    "_kg_hide-output": true,
    "execution": {
     "iopub.execute_input": "2020-09-02T06:04:37.948692Z",
     "iopub.status.busy": "2020-09-02T06:04:37.947463Z",
     "iopub.status.idle": "2020-09-02T06:04:43.297430Z",
     "shell.execute_reply": "2020-09-02T06:04:43.296698Z"
    },
    "papermill": {
     "duration": 5.795583,
     "end_time": "2020-09-02T06:04:43.297555",
     "exception": false,
     "start_time": "2020-09-02T06:04:37.501972",
     "status": "completed"
    },
    "tags": []
   },
   "outputs": [],
   "source": [
    "contribs_by_indivs = contribs_by_indivs.merge(cmte_cand_mapping[['CMTE_ID', 'CAND_NAME']], on='CMTE_ID')\n",
    "#contribs_by_indivs = contribs_by_indivs.merge(candidates[['CAND_ID', 'CAND_NAME']], on='CAND_ID')\n",
    "contribs_by_indivs.head()"
   ]
  },
  {
   "cell_type": "code",
   "execution_count": null,
   "metadata": {
    "_kg_hide-input": true,
    "execution": {
     "iopub.execute_input": "2020-09-02T06:04:43.978980Z",
     "iopub.status.busy": "2020-09-02T06:04:43.978162Z",
     "iopub.status.idle": "2020-09-02T06:04:49.818388Z",
     "shell.execute_reply": "2020-09-02T06:04:49.817667Z"
    },
    "papermill": {
     "duration": 6.420031,
     "end_time": "2020-09-02T06:04:49.818511",
     "exception": false,
     "start_time": "2020-09-02T06:04:43.398480",
     "status": "completed"
    },
    "tags": []
   },
   "outputs": [],
   "source": [
    "from IPython.display import display\n",
    "for cand_name in candidates['CAND_NAME'].unique():\n",
    "    print(\"-\"*60)\n",
    "    print(f\"Most individual contributions for {cand_name}\")\n",
    "    print(\"-\"*60)\n",
    "    df = contribs_by_indivs[(contribs_by_indivs['CAND_NAME'] == cand_name)]\n",
    "    result = pd.DataFrame(df[['NAME', 'TRANSACTION_AMT']].groupby(['NAME']).agg({'TRANSACTION_AMT': 'sum'})['TRANSACTION_AMT'].nlargest(20)).reset_index()\n",
    "    result['TRANSACTION_AMT'] = result['TRANSACTION_AMT'].map(lambda x: render_human_format(x))\n",
    "    display(result)"
   ]
  },
  {
   "cell_type": "code",
   "execution_count": null,
   "metadata": {
    "_kg_hide-input": true,
    "execution": {
     "iopub.execute_input": "2020-09-02T06:04:50.039162Z",
     "iopub.status.busy": "2020-09-02T06:04:50.035752Z",
     "iopub.status.idle": "2020-09-02T06:05:01.826611Z",
     "shell.execute_reply": "2020-09-02T06:05:01.825547Z"
    },
    "papermill": {
     "duration": 11.904929,
     "end_time": "2020-09-02T06:05:01.826769",
     "exception": false,
     "start_time": "2020-09-02T06:04:49.921840",
     "status": "completed"
    },
    "tags": []
   },
   "outputs": [],
   "source": [
    "from IPython.display import display\n",
    "indiv_contribs_cmte = contribs_by_indivs.merge(committee_master[['CMTE_ID', 'CMTE_NM']], on='CMTE_ID')\n",
    "for cand_name in candidates['CAND_NAME'].unique():\n",
    "    print(\"-\"*80)\n",
    "    print(f\"Committees that received the most individual contributions for {cand_name}\")\n",
    "    print(\"-\"*80)\n",
    "    df = indiv_contribs_cmte[(indiv_contribs_cmte['CAND_NAME'] == cand_name)]\n",
    "    result = pd.DataFrame(df[['CMTE_NM', 'TRANSACTION_AMT']].groupby(['CMTE_NM']).agg({\n",
    "        'TRANSACTION_AMT': 'sum'})['TRANSACTION_AMT'].nlargest(10)).reset_index()\n",
    "    result['TRANSACTION_AMT'] = result['TRANSACTION_AMT'].map(lambda x: render_human_format(x))\n",
    "    display(result)"
   ]
  },
  {
   "cell_type": "code",
   "execution_count": null,
   "metadata": {
    "_kg_hide-input": true,
    "_kg_hide-output": true,
    "execution": {
     "iopub.execute_input": "2020-09-02T06:05:02.493626Z",
     "iopub.status.busy": "2020-09-02T06:05:02.492793Z",
     "iopub.status.idle": "2020-09-02T06:05:03.702624Z",
     "shell.execute_reply": "2020-09-02T06:05:03.703239Z"
    },
    "papermill": {
     "duration": 1.772493,
     "end_time": "2020-09-02T06:05:03.703417",
     "exception": false,
     "start_time": "2020-09-02T06:05:01.930924",
     "status": "completed"
    },
    "tags": []
   },
   "outputs": [],
   "source": [
    "contribs_by_indivs.loc[contribs_by_indivs['EMPLOYER'] == 'SELF', 'EMPLOYER'] = 'SELF-EMPLOYED'\n",
    "contribs_by_indivs.loc[contribs_by_indivs['EMPLOYER'] == 'SELF EMPLOYED', 'EMPLOYER'] = 'SELF-EMPLOYED'\n",
    "contribs_by_indivs.loc[contribs_by_indivs['EMPLOYER'] == 'NOT EMPLOYED', 'EMPLOYER'] = 'UNEMPLOYED'\n",
    "contribs_by_indivs"
   ]
  },
  {
   "cell_type": "code",
   "execution_count": null,
   "metadata": {
    "_kg_hide-input": true,
    "execution": {
     "iopub.execute_input": "2020-09-02T06:05:04.451077Z",
     "iopub.status.busy": "2020-09-02T06:05:04.450022Z",
     "iopub.status.idle": "2020-09-02T06:05:05.740379Z",
     "shell.execute_reply": "2020-09-02T06:05:05.740994Z"
    },
    "papermill": {
     "duration": 1.928461,
     "end_time": "2020-09-02T06:05:05.741179",
     "exception": false,
     "start_time": "2020-09-02T06:05:03.812718",
     "status": "completed"
    },
    "tags": []
   },
   "outputs": [],
   "source": [
    "top_employers = contribs_by_indivs['EMPLOYER'].value_counts()[:10].index\n",
    "by_employer = contribs_by_indivs[contribs_by_indivs['EMPLOYER'].isin(top_employers)].groupby(['CAND_NAME', 'EMPLOYER']).agg({'TRANSACTION_AMT': 'sum'}).reset_index()\n",
    "by_employer_pivot = by_employer.pivot_table(values='TRANSACTION_AMT', index='EMPLOYER', columns='CAND_NAME')\n",
    "by_employer_pivot.iplot(kind='bar', colors=color_map, title='Total Individual contributions by Employer')"
   ]
  },
  {
   "cell_type": "code",
   "execution_count": null,
   "metadata": {
    "_kg_hide-input": true,
    "execution": {
     "iopub.execute_input": "2020-09-02T06:05:06.561436Z",
     "iopub.status.busy": "2020-09-02T06:05:06.560466Z",
     "iopub.status.idle": "2020-09-02T06:05:07.523933Z",
     "shell.execute_reply": "2020-09-02T06:05:07.524601Z"
    },
    "papermill": {
     "duration": 1.670358,
     "end_time": "2020-09-02T06:05:07.524812",
     "exception": false,
     "start_time": "2020-09-02T06:05:05.854454",
     "status": "completed"
    },
    "tags": []
   },
   "outputs": [],
   "source": [
    "top_occupations = set(contribs_by_indivs['OCCUPATION'].value_counts()[:13].index) - set(['RETIRED', 'SELF-EMPLOYED', 'NOT EMPLOYED'])\n",
    "by_occupation = contribs_by_indivs[contribs_by_indivs['OCCUPATION'].isin(top_occupations)].groupby(['CAND_NAME', 'OCCUPATION']).agg({'TRANSACTION_AMT': 'sum'}).reset_index()\n",
    "by_occupation_pivot = by_occupation.pivot_table(values='TRANSACTION_AMT', index='OCCUPATION', columns='CAND_NAME')\n",
    "by_occupation_pivot.iplot(kind='bar', colors=color_map, title='Total Individual contributions by Occupation')"
   ]
  },
  {
   "cell_type": "code",
   "execution_count": null,
   "metadata": {
    "_kg_hide-input": true,
    "execution": {
     "iopub.execute_input": "2020-09-02T06:05:07.784868Z",
     "iopub.status.busy": "2020-09-02T06:05:07.784074Z",
     "iopub.status.idle": "2020-09-02T06:05:08.339855Z",
     "shell.execute_reply": "2020-09-02T06:05:08.340524Z"
    },
    "papermill": {
     "duration": 0.689537,
     "end_time": "2020-09-02T06:05:08.340753",
     "exception": false,
     "start_time": "2020-09-02T06:05:07.651216",
     "status": "completed"
    },
    "tags": []
   },
   "outputs": [],
   "source": [
    "by_date = contribs_by_indivs.groupby(['CAND_NAME', 'TRANSACTION_DT']).agg({'TRANSACTION_AMT': 'sum'})\n",
    "by_date_cumsum = by_date.groupby(level=0).cumsum().reset_index().pivot_table(values='TRANSACTION_AMT', index='TRANSACTION_DT', columns='CAND_NAME')\n",
    "by_date_cumsum.iplot(kind='line', colors=color_map, title='Total individual contributions over time')"
   ]
  },
  {
   "cell_type": "code",
   "execution_count": null,
   "metadata": {
    "_kg_hide-input": true,
    "execution": {
     "iopub.execute_input": "2020-09-02T06:05:09.127224Z",
     "iopub.status.busy": "2020-09-02T06:05:09.126450Z",
     "iopub.status.idle": "2020-09-02T06:05:12.202476Z",
     "shell.execute_reply": "2020-09-02T06:05:12.203085Z"
    },
    "papermill": {
     "duration": 3.721288,
     "end_time": "2020-09-02T06:05:12.203263",
     "exception": false,
     "start_time": "2020-09-02T06:05:08.481975",
     "status": "completed"
    },
    "tags": []
   },
   "outputs": [],
   "source": [
    "contribs_by_indivs['in_state'] = np.where(contribs_by_indivs['STATE'] == state, 'in-state', 'out-of-state')\n",
    "by_in_state = contribs_by_indivs.groupby(['CAND_NAME', 'in_state']).agg({'TRANSACTION_AMT': 'sum'}).reset_index()\n",
    "by_in_state.pivot_table(values='TRANSACTION_AMT', index='in_state', columns='CAND_NAME').iplot(kind='bar', colors=color_map, title='In-state vs Out-of-state total individual contributions')"
   ]
  },
  {
   "cell_type": "code",
   "execution_count": null,
   "metadata": {
    "_kg_hide-input": true,
    "_kg_hide-output": true,
    "execution": {
     "iopub.execute_input": "2020-09-02T06:05:12.549776Z",
     "iopub.status.busy": "2020-09-02T06:05:12.549023Z",
     "iopub.status.idle": "2020-09-02T06:05:13.394994Z",
     "shell.execute_reply": "2020-09-02T06:05:13.395534Z"
    },
    "papermill": {
     "duration": 1.047904,
     "end_time": "2020-09-02T06:05:13.395735",
     "exception": false,
     "start_time": "2020-09-02T06:05:12.347831",
     "status": "completed"
    },
    "tags": []
   },
   "outputs": [],
   "source": [
    "by_state_and_cand = contribs_by_indivs.groupby(['STATE', 'CAND_NAME']).agg({'TRANSACTION_AMT': 'sum'}).reset_index()\n",
    "by_state_and_cand.head()"
   ]
  },
  {
   "cell_type": "code",
   "execution_count": null,
   "metadata": {
    "_kg_hide-input": true,
    "_kg_hide-output": true,
    "execution": {
     "iopub.execute_input": "2020-09-02T06:05:13.711223Z",
     "iopub.status.busy": "2020-09-02T06:05:13.710382Z",
     "iopub.status.idle": "2020-09-02T06:05:13.738015Z",
     "shell.execute_reply": "2020-09-02T06:05:13.737252Z"
    },
    "papermill": {
     "duration": 0.187283,
     "end_time": "2020-09-02T06:05:13.738169",
     "exception": false,
     "start_time": "2020-09-02T06:05:13.550886",
     "status": "completed"
    },
    "tags": []
   },
   "outputs": [],
   "source": [
    "by_state = by_state_and_cand.pivot_table(values='TRANSACTION_AMT', index='STATE', columns='CAND_NAME').reset_index()    \n",
    "cand_cols = set(by_state.columns) - {'STATE'}\n",
    "by_state.loc[:, cand_cols] = by_state[cand_cols].fillna(0.0)\n",
    "by_state.head()"
   ]
  },
  {
   "cell_type": "code",
   "execution_count": null,
   "metadata": {
    "_kg_hide-input": true,
    "_kg_hide-output": true,
    "execution": {
     "iopub.execute_input": "2020-09-02T06:05:14.035786Z",
     "iopub.status.busy": "2020-09-02T06:05:14.034760Z",
     "iopub.status.idle": "2020-09-02T06:05:14.038960Z",
     "shell.execute_reply": "2020-09-02T06:05:14.038176Z"
    },
    "papermill": {
     "duration": 0.156148,
     "end_time": "2020-09-02T06:05:14.039092",
     "exception": false,
     "start_time": "2020-09-02T06:05:13.882944",
     "status": "completed"
    },
    "tags": []
   },
   "outputs": [],
   "source": [
    "if democrat not in by_state.columns:\n",
    "    by_state[democrat] = 0.0\n",
    "if republican not in by_state.columns:\n",
    "    by_state[republican] = 0.0"
   ]
  },
  {
   "cell_type": "code",
   "execution_count": null,
   "metadata": {
    "_kg_hide-input": true,
    "_kg_hide-output": true,
    "execution": {
     "iopub.execute_input": "2020-09-02T06:05:14.348202Z",
     "iopub.status.busy": "2020-09-02T06:05:14.347214Z",
     "iopub.status.idle": "2020-09-02T06:05:14.351846Z",
     "shell.execute_reply": "2020-09-02T06:05:14.352371Z"
    },
    "papermill": {
     "duration": 0.168142,
     "end_time": "2020-09-02T06:05:14.352529",
     "exception": false,
     "start_time": "2020-09-02T06:05:14.184387",
     "status": "completed"
    },
    "tags": []
   },
   "outputs": [],
   "source": [
    "by_state['Total'] = by_state[democrat] + by_state[republican]\n",
    "by_state['Republican_versus_Total_Ratio'] = by_state[republican]/by_state['Total']\n",
    "by_state.head()"
   ]
  },
  {
   "cell_type": "code",
   "execution_count": null,
   "metadata": {
    "_kg_hide-input": true,
    "execution": {
     "iopub.execute_input": "2020-09-02T06:05:14.660897Z",
     "iopub.status.busy": "2020-09-02T06:05:14.660072Z",
     "iopub.status.idle": "2020-09-02T06:05:14.771667Z",
     "shell.execute_reply": "2020-09-02T06:05:14.772284Z"
    },
    "papermill": {
     "duration": 0.275111,
     "end_time": "2020-09-02T06:05:14.772459",
     "exception": false,
     "start_time": "2020-09-02T06:05:14.497348",
     "status": "completed"
    },
    "tags": []
   },
   "outputs": [],
   "source": [
    "import plotly.express as px\n",
    "fig = px.choropleth(by_state, locations=\"STATE\", color=\"Republican_versus_Total_Ratio\", hover_name=\"STATE\", \n",
    "                    hover_data=[democrat, republican], color_continuous_scale='bluered',\n",
    "                    locationmode='USA-states', scope='usa', \n",
    "                    title='Total individual contributions for Republican vs Democrat by state',\n",
    "                    range_color=[0, 1])\n",
    "fig.show()"
   ]
  },
  {
   "cell_type": "code",
   "execution_count": null,
   "metadata": {
    "_kg_hide-input": true,
    "_kg_hide-output": true,
    "execution": {
     "iopub.execute_input": "2020-09-02T06:05:15.098184Z",
     "iopub.status.busy": "2020-09-02T06:05:15.097205Z",
     "iopub.status.idle": "2020-09-02T06:05:15.409432Z",
     "shell.execute_reply": "2020-09-02T06:05:15.410019Z"
    },
    "papermill": {
     "duration": 0.478143,
     "end_time": "2020-09-02T06:05:15.410225",
     "exception": false,
     "start_time": "2020-09-02T06:05:14.932082",
     "status": "completed"
    },
    "tags": []
   },
   "outputs": [],
   "source": [
    "contribs_by_indivs['YEAR_MONTH'] = contribs_by_indivs['TRANSACTION_DT'].dt.to_period('M')\n",
    "contribs_by_indivs.head()"
   ]
  },
  {
   "cell_type": "code",
   "execution_count": null,
   "metadata": {
    "_kg_hide-input": true,
    "_kg_hide-output": true,
    "execution": {
     "iopub.execute_input": "2020-09-02T06:05:15.731170Z",
     "iopub.status.busy": "2020-09-02T06:05:15.730015Z",
     "iopub.status.idle": "2020-09-02T06:05:16.567697Z",
     "shell.execute_reply": "2020-09-02T06:05:16.568593Z"
    },
    "papermill": {
     "duration": 1.001928,
     "end_time": "2020-09-02T06:05:16.568833",
     "exception": false,
     "start_time": "2020-09-02T06:05:15.566905",
     "status": "completed"
    },
    "tags": []
   },
   "outputs": [],
   "source": [
    "by_date_state_and_cand = contribs_by_indivs.groupby(['YEAR_MONTH', 'STATE', 'CAND_NAME']).agg({'TRANSACTION_AMT': 'sum'}).reset_index()\n",
    "by_date_state_and_cand.head()"
   ]
  },
  {
   "cell_type": "code",
   "execution_count": null,
   "metadata": {
    "_kg_hide-input": true,
    "_kg_hide-output": true,
    "execution": {
     "iopub.execute_input": "2020-09-02T06:05:16.903878Z",
     "iopub.status.busy": "2020-09-02T06:05:16.902612Z",
     "iopub.status.idle": "2020-09-02T06:05:16.909673Z",
     "shell.execute_reply": "2020-09-02T06:05:16.908820Z"
    },
    "papermill": {
     "duration": 0.170685,
     "end_time": "2020-09-02T06:05:16.909832",
     "exception": false,
     "start_time": "2020-09-02T06:05:16.739147",
     "status": "completed"
    },
    "tags": []
   },
   "outputs": [],
   "source": [
    "dates = by_date_state_and_cand['YEAR_MONTH'].unique()\n",
    "states = by_date_state_and_cand['STATE'].unique()\n",
    "cands = by_date_state_and_cand['CAND_NAME'].unique()\n",
    "cands"
   ]
  },
  {
   "cell_type": "code",
   "execution_count": null,
   "metadata": {
    "_kg_hide-input": true,
    "_kg_hide-output": true,
    "execution": {
     "iopub.execute_input": "2020-09-02T06:05:17.268556Z",
     "iopub.status.busy": "2020-09-02T06:05:17.267725Z",
     "iopub.status.idle": "2020-09-02T06:05:17.273461Z",
     "shell.execute_reply": "2020-09-02T06:05:17.272716Z"
    },
    "papermill": {
     "duration": 0.201356,
     "end_time": "2020-09-02T06:05:17.273642",
     "exception": false,
     "start_time": "2020-09-02T06:05:17.072286",
     "status": "completed"
    },
    "tags": []
   },
   "outputs": [],
   "source": [
    "by_date_state_and_cand_skel = pd.DataFrame([{'YEAR_MONTH': date, 'STATE': state, 'CAND_NAME': cand} for date in dates for state in states for cand in cands])\n",
    "by_date_state_and_cand_skel['TRANSACTION_AMT'] = 0.0\n",
    "by_date_state_and_cand_skel.head()"
   ]
  },
  {
   "cell_type": "code",
   "execution_count": null,
   "metadata": {
    "_kg_hide-input": true,
    "_kg_hide-output": true,
    "execution": {
     "iopub.execute_input": "2020-09-02T06:05:17.598590Z",
     "iopub.status.busy": "2020-09-02T06:05:17.596179Z",
     "iopub.status.idle": "2020-09-02T06:05:17.620683Z",
     "shell.execute_reply": "2020-09-02T06:05:17.620091Z"
    },
    "papermill": {
     "duration": 0.190873,
     "end_time": "2020-09-02T06:05:17.620848",
     "exception": false,
     "start_time": "2020-09-02T06:05:17.429975",
     "status": "completed"
    },
    "tags": []
   },
   "outputs": [],
   "source": [
    "by_date_state_and_cand = by_date_state_and_cand_skel.merge(by_date_state_and_cand, how='left', on=['YEAR_MONTH', 'STATE', 'CAND_NAME'])\n",
    "by_date_state_and_cand['TRANSACTION_AMT'] = np.where(by_date_state_and_cand['TRANSACTION_AMT_y'].isnull(), by_date_state_and_cand['TRANSACTION_AMT_x'], by_date_state_and_cand['TRANSACTION_AMT_y'])\n",
    "by_date_state_and_cand = by_date_state_and_cand.drop('TRANSACTION_AMT_x', axis=1).drop('TRANSACTION_AMT_y', axis=1)\n",
    "by_date_state_and_cand.head()"
   ]
  },
  {
   "cell_type": "code",
   "execution_count": null,
   "metadata": {
    "_kg_hide-input": true,
    "_kg_hide-output": true,
    "execution": {
     "iopub.execute_input": "2020-09-02T06:05:17.990904Z",
     "iopub.status.busy": "2020-09-02T06:05:17.989735Z",
     "iopub.status.idle": "2020-09-02T06:05:18.017957Z",
     "shell.execute_reply": "2020-09-02T06:05:18.017338Z"
    },
    "papermill": {
     "duration": 0.192573,
     "end_time": "2020-09-02T06:05:18.018107",
     "exception": false,
     "start_time": "2020-09-02T06:05:17.825534",
     "status": "completed"
    },
    "tags": []
   },
   "outputs": [],
   "source": [
    "by_date_state_and_cand = by_date_state_and_cand.sort_values('YEAR_MONTH').set_index(['YEAR_MONTH', 'STATE', 'CAND_NAME']).groupby(level=[1,2]).cumsum().reset_index()\n",
    "by_date_state_and_cand.head()"
   ]
  },
  {
   "cell_type": "code",
   "execution_count": null,
   "metadata": {
    "_kg_hide-input": true,
    "_kg_hide-output": true,
    "execution": {
     "iopub.execute_input": "2020-09-02T06:05:18.349696Z",
     "iopub.status.busy": "2020-09-02T06:05:18.348589Z",
     "iopub.status.idle": "2020-09-02T06:05:18.385257Z",
     "shell.execute_reply": "2020-09-02T06:05:18.384600Z"
    },
    "papermill": {
     "duration": 0.203294,
     "end_time": "2020-09-02T06:05:18.385388",
     "exception": false,
     "start_time": "2020-09-02T06:05:18.182094",
     "status": "completed"
    },
    "tags": []
   },
   "outputs": [],
   "source": [
    "by_date_state = by_date_state_and_cand.pivot_table(values='TRANSACTION_AMT', index=['YEAR_MONTH', 'STATE'], columns='CAND_NAME').reset_index()    \n",
    "cand_cols = set(by_date_state.columns) - {'YEAR_MONTH', 'STATE'}\n",
    "by_date_state.loc[:, cand_cols] = by_date_state[cand_cols].fillna(0.0)\n",
    "by_date_state.head()"
   ]
  },
  {
   "cell_type": "code",
   "execution_count": null,
   "metadata": {
    "_kg_hide-input": true,
    "_kg_hide-output": true,
    "execution": {
     "iopub.execute_input": "2020-09-02T06:05:18.703745Z",
     "iopub.status.busy": "2020-09-02T06:05:18.702950Z",
     "iopub.status.idle": "2020-09-02T06:05:18.707232Z",
     "shell.execute_reply": "2020-09-02T06:05:18.706630Z"
    },
    "papermill": {
     "duration": 0.166689,
     "end_time": "2020-09-02T06:05:18.707370",
     "exception": false,
     "start_time": "2020-09-02T06:05:18.540681",
     "status": "completed"
    },
    "tags": []
   },
   "outputs": [],
   "source": [
    "if democrat not in by_date_state.columns:\n",
    "    by_date_state[democrat] = 0.0\n",
    "if republican not in by_date_state.columns:\n",
    "    by_date_state[republican] = 0.0"
   ]
  },
  {
   "cell_type": "code",
   "execution_count": null,
   "metadata": {
    "_kg_hide-input": true,
    "_kg_hide-output": true,
    "execution": {
     "iopub.execute_input": "2020-09-02T06:05:19.048066Z",
     "iopub.status.busy": "2020-09-02T06:05:19.046904Z",
     "iopub.status.idle": "2020-09-02T06:05:19.078519Z",
     "shell.execute_reply": "2020-09-02T06:05:19.079088Z"
    },
    "papermill": {
     "duration": 0.20681,
     "end_time": "2020-09-02T06:05:19.079270",
     "exception": false,
     "start_time": "2020-09-02T06:05:18.872460",
     "status": "completed"
    },
    "tags": []
   },
   "outputs": [],
   "source": [
    "by_date_state['Total'] = by_date_state[democrat] + by_date_state[republican]\n",
    "by_date_state['RepublicanVsTotalRatio'] = by_date_state[republican]/by_date_state['Total']\n",
    "by_date_state = by_date_state.sort_values('YEAR_MONTH')\n",
    "by_date_state['YEAR_MONTH'] = by_date_state['YEAR_MONTH'].astype('str')\n",
    "by_date_state.head()"
   ]
  },
  {
   "cell_type": "code",
   "execution_count": null,
   "metadata": {},
   "outputs": [],
   "source": []
  }
 ],
 "metadata": {
  "kernelspec": {
   "display_name": "Python 3 (ipykernel)",
   "language": "python",
   "name": "python3"
  },
  "language_info": {
   "codemirror_mode": {
    "name": "ipython",
    "version": 3
   },
   "file_extension": ".py",
   "mimetype": "text/x-python",
   "name": "python",
   "nbconvert_exporter": "python",
   "pygments_lexer": "ipython3",
   "version": "3.7.2"
  },
  "latex_envs": {
   "LaTeX_envs_menu_present": true,
   "autoclose": false,
   "autocomplete": true,
   "bibliofile": "biblio.bib",
   "cite_by": "apalike",
   "current_citInitial": 1,
   "eqLabelWithNumbers": true,
   "eqNumInitial": 1,
   "hotkeys": {
    "equation": "Ctrl-E",
    "itemize": "Ctrl-I"
   },
   "labels_anchors": false,
   "latex_user_defs": false,
   "report_style_numbering": false,
   "user_envs_cfg": false
  },
  "papermill": {
   "duration": 4312.974968,
   "end_time": "2020-09-02T06:05:20.564802",
   "environment_variables": {},
   "exception": null,
   "input_path": "__notebook__.ipynb",
   "output_path": "__notebook__.ipynb",
   "parameters": {},
   "start_time": "2020-09-02T04:53:27.589834",
   "version": "2.1.0"
  }
 },
 "nbformat": 4,
 "nbformat_minor": 4
}
